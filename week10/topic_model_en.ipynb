{
 "cells": [
  {
   "attachments": {},
   "cell_type": "markdown",
   "metadata": {},
   "source": [
    "## 第十週：主題模型（英文）\n",
    "\n",
    "本週課程為 **主題模型** ，學習如何將文本進行主題模型分析。<br>\n",
    "文件主題模型採用非監督式學習的方式，不事先人為做標籤與註解，訓練的資料是從資料文本得來，讓我們可以規模化給予大量文本，而訓練出主題模型，其中最為知名為LDA模型，也是本次課程主要的教學目標，本 jupyter notebook 是以英文文本為示範<br>\n",
    "<br>\n",
    "這次課程分為四個部分：<br>\n",
    "1. 介紹使用到的套件 \n",
    "2. 將資料進行前處理 \n",
    "3. 建立LDA模型 \n",
    "4. 視覺化主題模型"
   ]
  },
  {
   "cell_type": "code",
   "execution_count": null,
   "metadata": {},
   "outputs": [],
   "source": [
    "import re\n",
    "from nltk.corpus import stopwords\n",
    "\n",
    "from pprint import pprint\n",
    "import time\n",
    "\n",
    "import pandas as pd\n",
    "import numpy as np\n",
    "import matplotlib.pyplot as plt\n",
    "\n",
    "from gensim.models import Phrases\n",
    "from gensim.corpora import Dictionary\n",
    "from gensim.models import LdaModel, CoherenceModel\n",
    "from gensim.matutils import corpus2csc\n",
    "\n",
    "import pyLDAvis\n",
    "import pyLDAvis.gensim_models"
   ]
  },
  {
   "cell_type": "code",
   "execution_count": 7,
   "metadata": {},
   "outputs": [
    {
     "data": {
      "text/html": [
       "<div>\n",
       "<style scoped>\n",
       "    .dataframe tbody tr th:only-of-type {\n",
       "        vertical-align: middle;\n",
       "    }\n",
       "\n",
       "    .dataframe tbody tr th {\n",
       "        vertical-align: top;\n",
       "    }\n",
       "\n",
       "    .dataframe thead th {\n",
       "        text-align: right;\n",
       "    }\n",
       "</style>\n",
       "<table border=\"1\" class=\"dataframe\">\n",
       "  <thead>\n",
       "    <tr style=\"text-align: right;\">\n",
       "      <th></th>\n",
       "      <th>sentence</th>\n",
       "      <th>chapter</th>\n",
       "    </tr>\n",
       "  </thead>\n",
       "  <tbody>\n",
       "    <tr>\n",
       "      <th>1</th>\n",
       "      <td>It is a truth universally acknowledged that a ...</td>\n",
       "      <td>1</td>\n",
       "    </tr>\n",
       "    <tr>\n",
       "      <th>2</th>\n",
       "      <td>However little known the feelings or views of ...</td>\n",
       "      <td>1</td>\n",
       "    </tr>\n",
       "    <tr>\n",
       "      <th>3</th>\n",
       "      <td>My dear Mr_Bennet said his lady to him one day...</td>\n",
       "      <td>1</td>\n",
       "    </tr>\n",
       "    <tr>\n",
       "      <th>4</th>\n",
       "      <td>Mr_Bennet replied that he had not</td>\n",
       "      <td>1</td>\n",
       "    </tr>\n",
       "    <tr>\n",
       "      <th>5</th>\n",
       "      <td>But it is returned she for Mrs_Long has just b...</td>\n",
       "      <td>1</td>\n",
       "    </tr>\n",
       "  </tbody>\n",
       "</table>\n",
       "</div>"
      ],
      "text/plain": [
       "                                            sentence  chapter\n",
       "1  It is a truth universally acknowledged that a ...        1\n",
       "2  However little known the feelings or views of ...        1\n",
       "3  My dear Mr_Bennet said his lady to him one day...        1\n",
       "4                  Mr_Bennet replied that he had not        1\n",
       "5  But it is returned she for Mrs_Long has just b...        1"
      ]
     },
     "execution_count": 7,
     "metadata": {},
     "output_type": "execute_result"
    }
   ],
   "source": [
    "#匯入資料\n",
    "books = pd.read_csv('./raw_data/en_tp_clean.csv')\n",
    "books = books.iloc[1:,:]\n",
    "books.head()"
   ]
  },
  {
   "attachments": {},
   "cell_type": "markdown",
   "metadata": {},
   "source": [
    "## 2. LDA 主題模型"
   ]
  },
  {
   "cell_type": "code",
   "execution_count": 54,
   "metadata": {},
   "outputs": [],
   "source": [
    "stop_words = stopwords.words('english')"
   ]
  },
  {
   "cell_type": "code",
   "execution_count": 14,
   "metadata": {},
   "outputs": [
    {
     "data": {
      "text/html": [
       "<div>\n",
       "<style scoped>\n",
       "    .dataframe tbody tr th:only-of-type {\n",
       "        vertical-align: middle;\n",
       "    }\n",
       "\n",
       "    .dataframe tbody tr th {\n",
       "        vertical-align: top;\n",
       "    }\n",
       "\n",
       "    .dataframe thead th {\n",
       "        text-align: right;\n",
       "    }\n",
       "</style>\n",
       "<table border=\"1\" class=\"dataframe\">\n",
       "  <thead>\n",
       "    <tr style=\"text-align: right;\">\n",
       "      <th></th>\n",
       "      <th>chapter</th>\n",
       "      <th>sentence</th>\n",
       "    </tr>\n",
       "  </thead>\n",
       "  <tbody>\n",
       "    <tr>\n",
       "      <th>0</th>\n",
       "      <td>1</td>\n",
       "      <td>It is a truth universally acknowledged that a ...</td>\n",
       "    </tr>\n",
       "    <tr>\n",
       "      <th>1</th>\n",
       "      <td>2</td>\n",
       "      <td>Mr_Bennet was among the earliest of those who ...</td>\n",
       "    </tr>\n",
       "    <tr>\n",
       "      <th>2</th>\n",
       "      <td>3</td>\n",
       "      <td>Not all that Mrs_Bennet however with the assis...</td>\n",
       "    </tr>\n",
       "    <tr>\n",
       "      <th>3</th>\n",
       "      <td>4</td>\n",
       "      <td>When Jane and Elizabeth were alone the former ...</td>\n",
       "    </tr>\n",
       "    <tr>\n",
       "      <th>4</th>\n",
       "      <td>5</td>\n",
       "      <td>Sir William Lucas had been formerly in trade i...</td>\n",
       "    </tr>\n",
       "  </tbody>\n",
       "</table>\n",
       "</div>"
      ],
      "text/plain": [
       "   chapter                                           sentence\n",
       "0        1  It is a truth universally acknowledged that a ...\n",
       "1        2  Mr_Bennet was among the earliest of those who ...\n",
       "2        3  Not all that Mrs_Bennet however with the assis...\n",
       "3        4  When Jane and Elizabeth were alone the former ...\n",
       "4        5  Sir William Lucas had been formerly in trade i..."
      ]
     },
     "execution_count": 14,
     "metadata": {},
     "output_type": "execute_result"
    }
   ],
   "source": [
    "books = books.groupby('chapter')['sentence'].apply(lambda x: \" \".join(x)).reset_index()\n",
    "books.head()"
   ]
  },
  {
   "cell_type": "code",
   "execution_count": 57,
   "metadata": {},
   "outputs": [
    {
     "data": {
      "text/plain": [
       "61"
      ]
     },
     "execution_count": 57,
     "metadata": {},
     "output_type": "execute_result"
    }
   ],
   "source": [
    "books['sentence'] = books['sentence'].str.lower()\n",
    "docs = [[word for word in doc.split() if word not in stop_words] for doc in books['sentence']]\n",
    "len(docs)"
   ]
  },
  {
   "attachments": {},
   "cell_type": "markdown",
   "metadata": {},
   "source": [
    "在 docs 裡面新增出現次數大於 20 次的 bigram"
   ]
  },
  {
   "cell_type": "code",
   "execution_count": 58,
   "metadata": {},
   "outputs": [],
   "source": [
    "# Compute bigrams.\n",
    "\n",
    "# Add bigrams and trigrams to docs (only ones that appear 20 times or more).\n",
    "bigram = Phrases(docs, min_count=20)\n",
    "for idx in range(len(docs)):\n",
    "    for token in bigram[docs[idx]]:\n",
    "        if '_' in token:\n",
    "            # Token is a bigram, add to document.\n",
    "            docs[idx].append(token)"
   ]
  },
  {
   "cell_type": "code",
   "execution_count": 59,
   "metadata": {},
   "outputs": [
    {
     "name": "stdout",
     "output_type": "stream",
     "text": [
      "Dictionary<6860 unique tokens: ['abuse', 'account', 'acknowledged', 'affect', 'agreed']...>\n"
     ]
    }
   ],
   "source": [
    "# Create a dictionary representation of the documents.\n",
    "dictionary = Dictionary(docs)\n",
    "\n",
    "print(dictionary)"
   ]
  },
  {
   "cell_type": "code",
   "execution_count": 60,
   "metadata": {},
   "outputs": [],
   "source": [
    "# Bag-of-words representation of the documents.\n",
    "# 用 gensim ldamodel input 需要將文章轉換成 bag of words \n",
    "corpus = [dictionary.doc2bow(doc) for doc in docs]"
   ]
  },
  {
   "cell_type": "code",
   "execution_count": 61,
   "metadata": {},
   "outputs": [
    {
     "name": "stdout",
     "output_type": "stream",
     "text": [
      "花費時間: 64.60109043121338 sec\n"
     ]
    }
   ],
   "source": [
    "t0 = time.time()\n",
    "\n",
    "topic_num_list = np.arange(2, 16)\n",
    "result = {\"topic_num\":[], \"perplexity\":[], \"pmi\":[]}\n",
    "model_set = dict()\n",
    "\n",
    "\n",
    "for topic_num in topic_num_list:\n",
    "    # perplexity\n",
    "    model = LdaModel(\n",
    "        corpus = corpus,\n",
    "        num_topics = topic_num ,\n",
    "        id2word=dictionary,\n",
    "        random_state = 1500,\n",
    "        passes=5\n",
    "        )\n",
    "    \n",
    "    loss = model.log_perplexity(corpus)\n",
    "    pmi = CoherenceModel(model=model, texts=docs, coherence='c_npmi').get_coherence()\n",
    "    perplexity = np.exp(-1. * loss)\n",
    "    \n",
    "    # model_set[f'k_{topic_num}'] = model\n",
    "    \n",
    "    result['topic_num'].append(topic_num)\n",
    "    result['perplexity'].append(perplexity)\n",
    "    result['pmi'].append(pmi)\n",
    "    \n",
    "print(f\"花費時間: {time.time() - t0} sec\")"
   ]
  },
  {
   "cell_type": "code",
   "execution_count": 62,
   "metadata": {},
   "outputs": [
    {
     "data": {
      "text/html": [
       "<div>\n",
       "<style scoped>\n",
       "    .dataframe tbody tr th:only-of-type {\n",
       "        vertical-align: middle;\n",
       "    }\n",
       "\n",
       "    .dataframe tbody tr th {\n",
       "        vertical-align: top;\n",
       "    }\n",
       "\n",
       "    .dataframe thead th {\n",
       "        text-align: right;\n",
       "    }\n",
       "</style>\n",
       "<table border=\"1\" class=\"dataframe\">\n",
       "  <thead>\n",
       "    <tr style=\"text-align: right;\">\n",
       "      <th></th>\n",
       "      <th>topic_num</th>\n",
       "      <th>perplexity</th>\n",
       "      <th>pmi</th>\n",
       "    </tr>\n",
       "  </thead>\n",
       "  <tbody>\n",
       "    <tr>\n",
       "      <th>0</th>\n",
       "      <td>2</td>\n",
       "      <td>2416.129756</td>\n",
       "      <td>-0.027947</td>\n",
       "    </tr>\n",
       "    <tr>\n",
       "      <th>1</th>\n",
       "      <td>3</td>\n",
       "      <td>2460.491935</td>\n",
       "      <td>-0.036463</td>\n",
       "    </tr>\n",
       "    <tr>\n",
       "      <th>2</th>\n",
       "      <td>4</td>\n",
       "      <td>2563.682916</td>\n",
       "      <td>-0.026242</td>\n",
       "    </tr>\n",
       "    <tr>\n",
       "      <th>3</th>\n",
       "      <td>5</td>\n",
       "      <td>2652.409320</td>\n",
       "      <td>-0.029264</td>\n",
       "    </tr>\n",
       "    <tr>\n",
       "      <th>4</th>\n",
       "      <td>6</td>\n",
       "      <td>2705.725289</td>\n",
       "      <td>-0.031729</td>\n",
       "    </tr>\n",
       "    <tr>\n",
       "      <th>5</th>\n",
       "      <td>7</td>\n",
       "      <td>2764.846596</td>\n",
       "      <td>-0.031329</td>\n",
       "    </tr>\n",
       "    <tr>\n",
       "      <th>6</th>\n",
       "      <td>8</td>\n",
       "      <td>2881.675610</td>\n",
       "      <td>-0.031757</td>\n",
       "    </tr>\n",
       "    <tr>\n",
       "      <th>7</th>\n",
       "      <td>9</td>\n",
       "      <td>2937.825541</td>\n",
       "      <td>-0.028513</td>\n",
       "    </tr>\n",
       "    <tr>\n",
       "      <th>8</th>\n",
       "      <td>10</td>\n",
       "      <td>3042.282728</td>\n",
       "      <td>-0.042998</td>\n",
       "    </tr>\n",
       "    <tr>\n",
       "      <th>9</th>\n",
       "      <td>11</td>\n",
       "      <td>3131.663374</td>\n",
       "      <td>-0.043765</td>\n",
       "    </tr>\n",
       "    <tr>\n",
       "      <th>10</th>\n",
       "      <td>12</td>\n",
       "      <td>3209.773885</td>\n",
       "      <td>-0.032723</td>\n",
       "    </tr>\n",
       "    <tr>\n",
       "      <th>11</th>\n",
       "      <td>13</td>\n",
       "      <td>3259.348325</td>\n",
       "      <td>-0.036987</td>\n",
       "    </tr>\n",
       "    <tr>\n",
       "      <th>12</th>\n",
       "      <td>14</td>\n",
       "      <td>3404.107164</td>\n",
       "      <td>-0.035117</td>\n",
       "    </tr>\n",
       "    <tr>\n",
       "      <th>13</th>\n",
       "      <td>15</td>\n",
       "      <td>3488.088093</td>\n",
       "      <td>-0.034678</td>\n",
       "    </tr>\n",
       "  </tbody>\n",
       "</table>\n",
       "</div>"
      ],
      "text/plain": [
       "    topic_num   perplexity       pmi\n",
       "0           2  2416.129756 -0.027947\n",
       "1           3  2460.491935 -0.036463\n",
       "2           4  2563.682916 -0.026242\n",
       "3           5  2652.409320 -0.029264\n",
       "4           6  2705.725289 -0.031729\n",
       "5           7  2764.846596 -0.031329\n",
       "6           8  2881.675610 -0.031757\n",
       "7           9  2937.825541 -0.028513\n",
       "8          10  3042.282728 -0.042998\n",
       "9          11  3131.663374 -0.043765\n",
       "10         12  3209.773885 -0.032723\n",
       "11         13  3259.348325 -0.036987\n",
       "12         14  3404.107164 -0.035117\n",
       "13         15  3488.088093 -0.034678"
      ]
     },
     "execution_count": 62,
     "metadata": {},
     "output_type": "execute_result"
    }
   ],
   "source": [
    "result = pd.DataFrame(result)\n",
    "result"
   ]
  },
  {
   "cell_type": "code",
   "execution_count": 63,
   "metadata": {},
   "outputs": [
    {
     "data": {
      "text/plain": [
       "<AxesSubplot:xlabel='topic_num'>"
      ]
     },
     "execution_count": 63,
     "metadata": {},
     "output_type": "execute_result"
    },
    {
     "data": {
      "image/png": "[encoded data removed]",
      "text/plain": [
       "<Figure size 640x480 with 1 Axes>"
      ]
     },
     "metadata": {},
     "output_type": "display_data"
    }
   ],
   "source": [
    "result.plot.line(x='topic_num', y='perplexity')"
   ]
  },
  {
   "cell_type": "code",
   "execution_count": 64,
   "metadata": {},
   "outputs": [
    {
     "data": {
      "text/plain": [
       "<AxesSubplot:xlabel='topic_num'>"
      ]
     },
     "execution_count": 64,
     "metadata": {},
     "output_type": "execute_result"
    },
    {
     "data": {
      "image/png": "[encoded data removed]",
      "text/plain": [
       "<Figure size 640x480 with 1 Axes>"
      ]
     },
     "metadata": {},
     "output_type": "display_data"
    }
   ],
   "source": [
    "result.plot.line(x='topic_num', y='pmi')"
   ]
  },
  {
   "attachments": {},
   "cell_type": "markdown",
   "metadata": {},
   "source": [
    "## 3. 視覺化結果\n",
    "\n",
    "**3.1 產生 LDAvis 結果**\n",
    "\n",
    "LDAvis 是我們經常會使用的視覺化工具，目的為幫助我們解釋主題模型中，在我們建構好主題模型得到 θ(文件的主題分佈) 跟 φ(主題的字分佈)，透過 pyLDAvis 將主題降維成二維，以網頁的形式供我們查看。\n",
    "\n",
    "+ 四個主題數，因此有四個圈圈\n",
    "+ 圓越大代表 document 越大\n",
    "+ 右邊可以看到主題的字分佈\n",
    "+ 右上幫有一個 bar 調整 lambda：當 lambda=1 也就是代表本來的字分佈 φ，將 lambda 縮越小可以看到越唯一的字，好的分佈是 φ 高且唯一，因此我們要在這兩者間取平衡\n",
    "+ 圓心越相近，代表主題會越相似；反之，圓心分越開代表主題有唯一性<br>\n",
    "  --> 假設詞彙本來有 100 字，維度應該是 100，假如本來維度接近(相近)的話，降維後也會接近(相近)\n",
    "\n",
    "以下用主題數 4 來做 LDAvis 的結果範例"
   ]
  },
  {
   "cell_type": "code",
   "execution_count": 68,
   "metadata": {},
   "outputs": [],
   "source": [
    "model = LdaModel(\n",
    "    corpus = corpus,\n",
    "    num_topics = 4,\n",
    "    id2word=dictionary,\n",
    "    random_state = 1500,\n",
    "    passes=5\n",
    "    )"
   ]
  },
  {
   "cell_type": "code",
   "execution_count": 69,
   "metadata": {},
   "outputs": [
    {
     "name": "stderr",
     "output_type": "stream",
     "text": [
      "/home/evan19983314/.conda/envs/py37/lib/python3.7/site-packages/pyLDAvis/_prepare.py:247: FutureWarning: In a future version of pandas all arguments of DataFrame.drop except for the argument 'labels' will be keyword-only\n",
      "  by='saliency', ascending=False).head(R).drop('saliency', 1)\n"
     ]
    },
    {
     "data": {
      "text/html": [
       "\n",
       "<link rel=\"stylesheet\" type=\"text/css\" href=\"https://cdn.jsdelivr.net/gh/bmabey/pyLDAvis@3.3.1/pyLDAvis/js/ldavis.v1.0.0.css\">\n",
       "\n",
       "\n",
       "<div id=\"ldavis_el39181131403972192555048787578549\"></div>\n",
       "<script type=\"text/javascript\">\n",
       "\n",
       "var ldavis_el39181131403972192555048787578549_data = {\"mdsDat\": {\"x\": [0.023024611439562404, 0.03431971711108189, -0.06165850373588811, 0.00431417518524382], \"y\": [-0.020125776284029232, -0.019450374610970475, -0.01455422306318046, 0.054130373958180156], \"topics\": [1, 2, 3, 4], \"cluster\": [1, 1, 1, 1], \"Freq\": [56.40585079174646, 32.03787204509265, 5.837616193180131, 5.718660969980763]}, \"tinfo\": {\"Term\": [\"could\", \"mrs_bennet\", \"mr_darcy\", \"would\", \"miss\", \"mr_bingley\", \"one\", \"bingley\", \"soon\", \"elizabeth\", \"said\", \"every\", \"much\", \"must\", \"mr_bennet\", \"never\", \"sister\", \"room\", \"jane\", \"time\", \"might\", \"though\", \"sisters\", \"first\", \"miss_bingley\", \"darcy\", \"mr_wickham\", \"mr_collins\", \"quite\", \"thing\", \"tuesday\", \"street\", \"persuade\", \"ladyships\", \"mr_denny\", \"taught\", \"aunts\", \"wanting\", \"openly\", \"choose\", \"domestic\", \"humble\", \"christmas\", \"mrs_jenkinson\", \"amusement\", \"lakes\", \"solemnity\", \"useful\", \"entertain\", \"addresses\", \"repeat\", \"guest\", \"endeavoured\", \"tolerably\", \"imagined\", \"risk\", \"proposed\", \"forbearance\", \"accident\", \"sweetness\", \"play\", \"mr_collins\", \"charlotte\", \"lady_catherine\", \"nephew\", \"ladyship\", \"catherine\", \"proper\", \"happiness\", \"chuse\", \"lady\", \"sir_william\", \"begin\", \"girl\", \"though\", \"give\", \"elizabeth\", \"shall\", \"happy\", \"town\", \"miss\", \"would\", \"hope\", \"make\", \"love\", \"could\", \"jane\", \"sir\", \"mrs_bennet\", \"much\", \"ever\", \"day\", \"longbourn\", \"pleasure\", \"without\", \"every\", \"must\", \"think\", \"soon\", \"may\", \"said\", \"mr_bennet\", \"mr_darcy\", \"well\", \"one\", \"nothing\", \"might\", \"sister\", \"little\", \"never\", \"time\", \"know\", \"good\", \"mrs_reynolds\", \"today\", \"attempted\", \"rejoice\", \"treat\", \"mr_philips\", \"stream\", \"valley\", \"occasioned\", \"die\", \"cheeks\", \"fit\", \"gentleness\", \"ring\", \"parts\", \"wood\", \"hill\", \"settling\", \"bridge\", \"water\", \"minds\", \"miniatures\", \"agitated\", \"fancied\", \"waiter\", \"steadily\", \"unequal\", \"regiments\", \"energy\", \"speaks\", \"mrs_f\", \"fun\", \"mrs_hill\", \"liked\", \"mrs_forster\", \"colour\", \"property\", \"river\", \"distressed\", \"lord\", \"mamma\", \"vain\", \"longed\", \"master\", \"housekeeper\", \"lydia\", \"said\", \"brighton\", \"know\", \"mr_darcy\", \"continued\", \"misery\", \"pride\", \"sure\", \"news\", \"good\", \"talk\", \"man\", \"elizabeth\", \"go\", \"could\", \"one\", \"felt\", \"must\", \"thing\", \"never\", \"like\", \"much\", \"would\", \"well\", \"dear\", \"mr_bingley\", \"say\", \"may\", \"think\", \"every\", \"little\", \"time\", \"jane\", \"might\", \"us\", \"nothing\", \"mrs_bennet\", \"see\", \"soon\", \"miss\", \"grove\", \"saloon\", \"revealed\", \"gross\", \"fainter\", \"comfortably\", \"previously\", \"idleness\", \"lieu\", \"school\", \"edged\", \"meit\", \"liberally\", \"gates\", \"existing\", \"containing\", \"closely\", \"shrewish\", \"fruit\", \"abovementioned\", \"coarse\", \"selfsufficiency\", \"mostly\", \"peaches\", \"criticisms\", \"uppermost\", \"nose\", \"nettled\", \"venting\", \"spanish\", \"mrs_annesley\", \"along\", \"lane\", \"georgiana\", \"collected\", \"events\", \"remind\", \"discussed\", \"err\", \"determination\", \"betray\", \"assertions\", \"haughty\", \"perusal\", \"colonel_fitzwilliam\", \"charge\", \"fitzwilliam\", \"could\", \"mr_darcy\", \"miss\", \"every\", \"wished\", \"mr_wickham\", \"miss_bingley\", \"scarcely\", \"one\", \"read\", \"soon\", \"would\", \"elizabeth\", \"first\", \"must\", \"thing\", \"might\", \"bingley\", \"letter\", \"family\", \"though\", \"whole\", \"believed\", \"darcy\", \"mr_collins\", \"never\", \"mrs_gardiner\", \"time\", \"sister\", \"without\", \"great\", \"much\", \"room\", \"two\", \"well\", \"mr_jones\", \"petticoat\", \"mrs_hursts\", \"creditors\", \"accomplished\", \"acknowledgments\", \"cheapside\", \"mr_bingleyis\", \"stout\", \"intricate\", \"poetry\", \"vast\", \"ascertaining\", \"eluded\", \"suppositions\", \"barefaced\", \"forbidding\", \"boulanger\", \"proudest\", \"sprained\", \"crown\", \"catching\", \"starting\", \"popularity\", \"comforted\", \"seven\", \"gods\", \"ancle\", \"quieter\", \"dresses\", \"dispatched\", \"north\", \"sum\", \"danced\", \"pocket\", \"partners\", \"assembly\", \"detest\", \"shocking\", \"slighted\", \"consulted\", \"haggerston\", \"brotherinlaw\", \"kingdom\", \"mr_bingley\", \"list\", \"transports\", \"nuptials\", \"mrs_bennet\", \"mr_hurst\", \"country\", \"bingley\", \"five\", \"neighbourhood\", \"ladies\", \"miss_bingley\", \"would\", \"soon\", \"daughters\", \"could\", \"quite\", \"miss\", \"husband\", \"mr_bennet\", \"room\", \"said\", \"much\", \"mr_darcy\", \"sisters\", \"one\", \"wish\", \"jane\", \"elizabeth\", \"sister\", \"must\", \"never\", \"time\", \"many\", \"young\", \"good\", \"little\", \"every\", \"darcy\", \"think\"], \"Freq\": [467.0, 244.0, 401.0, 423.0, 249.0, 146.0, 258.0, 144.0, 192.0, 535.0, 365.0, 255.0, 299.0, 281.0, 146.0, 200.0, 157.0, 98.0, 237.0, 182.0, 181.0, 204.0, 99.0, 130.0, 59.0, 130.0, 102.0, 233.0, 84.0, 146.0, 11.405371666036775, 10.493859720129901, 16.51986736435789, 11.224011460046231, 11.239828506664049, 7.75084935425262, 6.76104449060493, 6.730794777562346, 7.567183524314404, 5.862920525277012, 6.691667749391477, 8.401599483572074, 5.796678755986855, 13.962922634110143, 10.904263525973048, 5.777294690126577, 4.9321749299839395, 5.757878163568244, 4.932572687833329, 5.756421546892202, 4.9149104105486865, 4.918966169033675, 8.999598692589652, 11.319106675169733, 4.88275191702196, 4.864844584326659, 4.863894994610356, 5.6884584462193395, 5.689300595597014, 4.858780377298716, 15.323500448820882, 190.6987848950137, 51.5937137895941, 77.27943805565741, 16.726297287490336, 24.373357445856232, 83.39463123919141, 15.911453300387313, 54.580412559268424, 10.433724219617279, 122.8907238311429, 28.568854206843334, 11.111565773216574, 27.666616876721204, 142.16005255362506, 83.07992888629738, 335.45575181362796, 105.30348470776988, 56.43307901191327, 43.449096051461446, 164.11953373853697, 263.13391638716087, 79.21016745799912, 104.76722300329281, 61.082954223554715, 272.9134853045136, 150.63401013350932, 51.88450312345996, 153.03248082147314, 181.46259526167748, 84.87986453512929, 81.93364745627841, 57.18744003187662, 60.11781629007731, 100.19653726472858, 152.97084389937731, 164.46174813320673, 119.8944422976488, 116.04750394043276, 109.71028323975506, 191.5364208640797, 92.17792189819582, 201.92867219860057, 114.75507438953167, 140.97408677725315, 99.09983017853152, 106.14512202936217, 96.63592603837836, 102.1999347401892, 110.94136847203573, 104.03741873000354, 112.53322647441426, 94.40605347294773, 14.456893958206615, 7.960394874017658, 4.683960670215474, 6.261167961630352, 4.6299435310131205, 5.407173958352346, 3.8111525690769894, 3.8058392503329657, 3.7923823571882487, 3.7754937887978315, 3.7640592858773685, 3.7548723160065864, 3.7592629906228785, 4.5281950740989485, 4.524592788892112, 3.7219913359622563, 5.92660572304534, 2.914983887278047, 2.9132946668865762, 2.9112626684909952, 2.9139893117055133, 2.90355769412738, 3.64852855639488, 5.731593603539964, 2.886458784688986, 2.8776574400728285, 3.621648528545245, 2.8631137848468966, 2.8729676137438576, 2.867116756766115, 3.6033693721154236, 6.501614786220005, 4.926052829224859, 17.89331719862446, 16.257228436512527, 8.962180210571102, 6.267283432840056, 4.702217753819274, 9.36869518774326, 8.585361753849025, 5.584153358038433, 13.312910802172086, 6.6400648995228115, 14.786839600308989, 9.990739625409274, 60.29010963389813, 151.56564733660545, 14.174908152485466, 95.4779337098324, 156.94984633955195, 26.86766291217782, 9.91996012244529, 25.135217175667893, 44.49106424571073, 17.72223358060908, 72.59954198392072, 17.280769789114764, 55.348692559679925, 166.24068417790696, 41.808259221755, 142.78979917162653, 90.01508273576083, 40.90836101139921, 93.77432287451677, 57.31469268609382, 71.70627496986263, 33.4222348225905, 95.30762497785055, 122.24742500163289, 69.02071110233442, 55.82564010692706, 54.903334602314665, 54.540255830590695, 62.55948283604724, 65.10203972026042, 77.93200436011344, 59.993450852158595, 61.67219470135783, 71.40821183702747, 59.34465726551724, 44.071479039369706, 53.00023527837633, 62.78707081123723, 46.15597232819859, 51.249516358083625, 52.13930157859692, 1.750812383873017, 1.28553414545387, 1.2732490327521184, 1.2657919819282943, 1.26510523297108, 1.2329233270350455, 1.227548856382286, 1.224753314016974, 1.2136419297589773, 1.2002616336919452, 1.1991493218215996, 1.1797973286075292, 1.1627605225559572, 1.150714262598867, 1.1357251172798573, 1.124833848506838, 0.7196375795914153, 0.7185676158206086, 0.7178679021938147, 0.7169393195642617, 0.7166208807822545, 0.7163863338220153, 0.7162505360056171, 0.7163077887435411, 0.7163976897369755, 0.7161369295397033, 0.7160900390741805, 0.7145664538170285, 0.7157709851801128, 0.715341069166247, 2.42433094309782, 2.75971180389931, 3.286723540387884, 3.495754138242141, 1.2857418640650158, 1.8006697714445068, 1.2906515938980316, 1.2818325903399883, 1.2730084766202128, 1.2524915557964817, 1.245096489341815, 1.2396531261382975, 1.226850940775361, 1.2308838993408293, 4.927897782830005, 2.2831233580777393, 5.421200999881403, 28.184860073097, 24.642588321873145, 18.1889279744629, 17.114378306664804, 5.196021912423331, 9.339981896913628, 6.92676366293055, 5.330778391419806, 13.961744653065233, 4.963029198411686, 11.035960542014374, 15.749182323132938, 17.584844778731362, 8.774088643193037, 12.383189196896307, 9.108772440081223, 9.963822113492814, 8.834668664200388, 7.508390158297915, 8.327331050380254, 9.963867537152653, 6.198408147424237, 4.443943890565288, 7.895230158476021, 9.569000419219723, 8.76809953364306, 6.588994085417195, 8.203254809403788, 7.817723767690086, 7.211321694123689, 6.331711447836313, 7.069052520320085, 6.026735481544845, 5.90661904811498, 5.940193567755626, 2.182709225468772, 1.6667896161746467, 1.2290827380877813, 1.196655899922215, 4.861250159250447, 1.1622682739250478, 1.1555044783134263, 1.135242942250713, 1.108362970858159, 1.1006739867183652, 1.0995447561109837, 1.0772824766800324, 0.6883950995308172, 0.6879470134836307, 0.6875359164367189, 0.687533506125924, 0.6872541418343762, 0.6869480787155625, 0.6858201459678397, 0.685171957772551, 0.6852897385365834, 0.6854219811653848, 0.6848879582679362, 0.6848161124653978, 0.6847747663648401, 0.6845291000722894, 0.6846935574319064, 0.6844617967785566, 0.6844525263524226, 0.6842784277496262, 1.7212852599777482, 2.348070822450892, 1.7929476934872526, 3.983368615639847, 0.9866267014029447, 1.2417021983669387, 2.4356672643995014, 1.2432854944463632, 1.7310243988570744, 1.2314949956721073, 0.9627870589652947, 0.9600269749924214, 1.225725916784663, 1.2199112274006394, 21.619953853149816, 1.2029403217984478, 0.9542087628464669, 1.1964177426748326, 26.829672285253142, 4.367220621777992, 6.259329428407486, 15.551119074016315, 5.324853045700004, 4.701866318448047, 8.22893009790806, 7.699158617884525, 22.712784317724733, 14.309763033361218, 6.49185767304117, 23.211405682669877, 8.752296084290053, 15.23918332565522, 5.2529927812968005, 11.334665988174743, 9.04280157396572, 17.892225025312737, 15.567980866702909, 17.862896363561152, 8.720221151500533, 13.630301611735076, 7.863481000097024, 12.108862265281193, 16.68023027830922, 9.159178795481397, 10.51505723079128, 9.238462446315655, 8.56872162271657, 6.947809120576776, 7.106458001995272, 7.484726245064392, 7.4579918193621415, 7.577136819304383, 6.9522715329006335, 6.987244030082595], \"Total\": [467.0, 244.0, 401.0, 423.0, 249.0, 146.0, 258.0, 144.0, 192.0, 535.0, 365.0, 255.0, 299.0, 281.0, 146.0, 200.0, 157.0, 98.0, 237.0, 182.0, 181.0, 204.0, 99.0, 130.0, 59.0, 130.0, 102.0, 233.0, 84.0, 146.0, 12.31114050365451, 11.338986687436106, 17.953624542441275, 12.275929259730049, 12.307753486012937, 8.497423643420602, 7.498507558177821, 7.496313789601542, 8.4396806607499, 6.553342779467208, 7.480987686936746, 9.4427920643095, 6.518470906923744, 15.712472176696066, 12.28176374982895, 6.5251034651227116, 5.585213690879627, 6.523807060257531, 5.589215991907203, 6.531759199011262, 5.586587404807322, 5.595232647661085, 10.237374644756002, 12.887067111842168, 5.569368956210664, 5.567764711309695, 5.5685453475824325, 6.517805954210438, 6.522318028117882, 5.576928973889153, 17.646039478043456, 233.89331738834068, 61.620506021725994, 93.74516171440989, 19.732671984154926, 29.123252554904127, 104.44228527567644, 18.854379742593892, 68.94521087869977, 12.267040828769796, 167.47534681025303, 35.53471928538196, 13.114573734904132, 34.78402849559211, 204.15954346129942, 114.93077980304726, 535.9615110485755, 151.53371394074304, 76.90912247443022, 57.78551210693353, 249.68694661725203, 423.84330802965144, 113.01891440632275, 154.7713426418906, 85.075512432974, 467.09955023190696, 237.91118174103272, 71.39988719471633, 244.5824174062581, 299.40725362655104, 126.19123508391743, 121.48186191466237, 80.33151637580774, 85.4893233168371, 155.27688497139263, 255.59436338545993, 281.13431743541105, 195.94084640658195, 192.64274387389196, 181.06168097988305, 365.7447646793687, 146.12856057695836, 401.38400322358683, 195.40093327970456, 258.5812157778143, 162.70348730775893, 181.95918450353034, 157.80857609334322, 174.09263108602119, 200.65420542185709, 182.4815898634817, 218.33277852594074, 176.7984212593739, 15.51504030089875, 9.041175024420607, 5.373093914596628, 7.199147304899483, 5.387418548955202, 6.307517542280998, 4.45917482817893, 4.453689754981498, 4.459510392438387, 4.450370711671221, 4.443614156786036, 4.444930228829828, 4.45369448501251, 5.369564424691784, 5.377168074745962, 4.442534576464634, 7.085096578577603, 3.531621501291354, 3.5327609751860685, 3.5333624551886227, 3.538305197575426, 3.530947802169687, 4.4491258449246125, 6.991947972874289, 3.5342853013176874, 3.535046911946811, 4.455239641558491, 3.5262645596804303, 3.538836135852436, 3.537528604012439, 4.454548725714592, 8.192798016395546, 6.183512594541028, 24.59960165079888, 22.36909824624136, 11.91691828508889, 8.192697866606096, 5.982190898963624, 12.80238430170168, 11.635655925281295, 7.2426325941243235, 19.379544936652497, 8.891161309326867, 22.47522624046109, 14.375105520753744, 120.47870198922638, 365.7447646793687, 21.917962439724825, 218.33277852594074, 401.38400322358683, 48.18163413932195, 14.376388911367258, 45.69345509025379, 93.7842157786516, 30.09741351040091, 176.7984212593739, 29.197228349625565, 128.56356014885532, 535.9615110485755, 92.6544553581626, 467.09955023190696, 258.5812157778143, 92.48203802336327, 281.13431743541105, 146.12574472878492, 200.65420542185709, 72.10698231985005, 299.40725362655104, 423.84330802965144, 195.40093327970456, 146.10301054688065, 146.54679756097144, 145.76166525540248, 181.06168097988305, 195.94084640658195, 255.59436338545993, 174.09263108602119, 182.4815898634817, 237.91118174103272, 181.95918450353034, 116.37178093412494, 162.70348730775893, 244.5824174062581, 134.7259214591091, 192.64274387389196, 249.68694661725203, 2.641317719019156, 1.9646083639393865, 1.975796066975113, 1.9790565643053042, 1.9832744259073116, 1.9981547721836246, 2.0044722956575, 2.0059378142194197, 2.012896308183051, 2.022299404256456, 2.024502302412892, 2.035296858703408, 2.0445710611705032, 2.0561111337952, 2.064310117062503, 2.0726779593007456, 1.3652302931987221, 1.3662998720433563, 1.3651380762759084, 1.3646840317131814, 1.3644975495661174, 1.365422942953081, 1.3652621156344482, 1.3654816151649354, 1.3668381251323571, 1.3664946884019067, 1.3669452492470264, 1.3648235713930605, 1.3671250111012196, 1.3668160546002384, 5.101353739026136, 6.733121559523656, 8.426255264969335, 10.19933890837642, 2.8866316844570954, 4.502010429902064, 2.9257588196590683, 2.929726915865013, 2.936065966461376, 2.9523249948500196, 2.9545766209713977, 2.939094151550964, 2.8979363963383697, 2.9261431258943027, 21.573909524915827, 7.084974798929254, 26.894779851217944, 467.09955023190696, 401.38400322358683, 249.68694661725203, 255.59436338545993, 33.83043001752353, 102.261139703403, 59.604768952920566, 38.93400772636178, 258.5812157778143, 34.80322395475399, 192.64274387389196, 423.84330802965144, 535.9615110485755, 130.31027085401914, 281.13431743541105, 146.12574472878492, 181.95918450353034, 144.2087357112819, 105.12465241640658, 135.53573588075568, 204.15954346129942, 70.4024884673729, 33.06751506260926, 130.17687156373134, 233.89331738834068, 200.65420542185709, 91.19051304947243, 182.4815898634817, 157.80857609334322, 155.27688497139263, 128.5498010233792, 299.40725362655104, 98.9449050568545, 122.20211674414735, 195.40093327970456, 3.1725993937491994, 2.576530563173926, 1.930219301041343, 1.9516588427181667, 8.01738351403278, 1.973519243493799, 1.9757192397029053, 1.9927139125709104, 2.0097890506234934, 2.013824394631361, 2.012213585998702, 2.0318156620724195, 1.3449785816255224, 1.3456446921314402, 1.3452760192655153, 1.3457262250260453, 1.3460808430707618, 1.3468279647288461, 1.3473422804805346, 1.347024650124935, 1.347561521667267, 1.34815875900283, 1.3473861962903166, 1.3475436566481882, 1.347560320014368, 1.3474631771026235, 1.3479415855888743, 1.3475639845104213, 1.3482862577825425, 1.3479566910543324, 3.4727801227993074, 4.931795224524724, 4.055755692717679, 10.51246386026516, 2.0795772558189913, 2.847784964808774, 6.760202743711222, 2.8823590776763934, 4.465959937118415, 2.890318790554141, 2.0980055310088006, 2.0971796379763292, 2.897447176074005, 2.8947301587555145, 146.54679756097144, 2.87394933010662, 2.1039700581228815, 2.8821214209713575, 244.5824174062581, 18.980222900005522, 33.56073525312263, 144.2087357112819, 27.938171725897195, 24.42039439816311, 65.40672510412269, 59.604768952920566, 423.84330802965144, 192.64274387389196, 49.33882716767841, 467.09955023190696, 84.8855194417253, 249.68694661725203, 35.16826054787994, 146.12856057695836, 98.9449050568545, 365.7447646793687, 299.40725362655104, 401.38400322358683, 99.91019773149819, 258.5812157778143, 86.43512691216876, 237.91118174103272, 535.9615110485755, 157.80857609334322, 281.13431743541105, 200.65420542185709, 182.4815898634817, 105.8581686743989, 116.60397185412796, 176.7984212593739, 174.09263108602119, 255.59436338545993, 130.17687156373134, 195.94084640658195], \"Category\": [\"Default\", \"Default\", \"Default\", \"Default\", \"Default\", \"Default\", \"Default\", \"Default\", \"Default\", \"Default\", \"Default\", \"Default\", \"Default\", \"Default\", \"Default\", \"Default\", \"Default\", \"Default\", \"Default\", \"Default\", \"Default\", \"Default\", \"Default\", \"Default\", \"Default\", \"Default\", \"Default\", \"Default\", \"Default\", \"Default\", \"Topic1\", \"Topic1\", \"Topic1\", \"Topic1\", \"Topic1\", \"Topic1\", \"Topic1\", \"Topic1\", \"Topic1\", \"Topic1\", \"Topic1\", \"Topic1\", \"Topic1\", \"Topic1\", \"Topic1\", \"Topic1\", \"Topic1\", \"Topic1\", \"Topic1\", \"Topic1\", \"Topic1\", \"Topic1\", \"Topic1\", \"Topic1\", \"Topic1\", \"Topic1\", \"Topic1\", \"Topic1\", \"Topic1\", \"Topic1\", \"Topic1\", \"Topic1\", \"Topic1\", \"Topic1\", \"Topic1\", \"Topic1\", \"Topic1\", \"Topic1\", \"Topic1\", \"Topic1\", \"Topic1\", \"Topic1\", \"Topic1\", \"Topic1\", \"Topic1\", \"Topic1\", \"Topic1\", \"Topic1\", \"Topic1\", \"Topic1\", \"Topic1\", \"Topic1\", \"Topic1\", \"Topic1\", \"Topic1\", \"Topic1\", \"Topic1\", \"Topic1\", \"Topic1\", \"Topic1\", \"Topic1\", \"Topic1\", \"Topic1\", \"Topic1\", \"Topic1\", \"Topic1\", \"Topic1\", \"Topic1\", \"Topic1\", \"Topic1\", \"Topic1\", \"Topic1\", \"Topic1\", \"Topic1\", \"Topic1\", \"Topic1\", \"Topic1\", \"Topic1\", \"Topic1\", \"Topic1\", \"Topic1\", \"Topic1\", \"Topic1\", \"Topic2\", \"Topic2\", \"Topic2\", \"Topic2\", \"Topic2\", \"Topic2\", \"Topic2\", \"Topic2\", \"Topic2\", \"Topic2\", \"Topic2\", \"Topic2\", \"Topic2\", \"Topic2\", \"Topic2\", \"Topic2\", \"Topic2\", \"Topic2\", \"Topic2\", \"Topic2\", \"Topic2\", \"Topic2\", \"Topic2\", \"Topic2\", \"Topic2\", \"Topic2\", \"Topic2\", \"Topic2\", \"Topic2\", \"Topic2\", \"Topic2\", \"Topic2\", \"Topic2\", \"Topic2\", \"Topic2\", \"Topic2\", \"Topic2\", \"Topic2\", \"Topic2\", \"Topic2\", \"Topic2\", \"Topic2\", \"Topic2\", \"Topic2\", \"Topic2\", \"Topic2\", \"Topic2\", \"Topic2\", \"Topic2\", \"Topic2\", \"Topic2\", \"Topic2\", \"Topic2\", \"Topic2\", \"Topic2\", \"Topic2\", \"Topic2\", \"Topic2\", \"Topic2\", \"Topic2\", \"Topic2\", \"Topic2\", \"Topic2\", \"Topic2\", \"Topic2\", \"Topic2\", \"Topic2\", \"Topic2\", \"Topic2\", \"Topic2\", \"Topic2\", \"Topic2\", \"Topic2\", \"Topic2\", \"Topic2\", \"Topic2\", \"Topic2\", \"Topic2\", \"Topic2\", \"Topic2\", \"Topic2\", \"Topic2\", \"Topic2\", \"Topic2\", \"Topic2\", \"Topic2\", \"Topic3\", \"Topic3\", \"Topic3\", \"Topic3\", \"Topic3\", \"Topic3\", \"Topic3\", \"Topic3\", \"Topic3\", \"Topic3\", \"Topic3\", \"Topic3\", \"Topic3\", \"Topic3\", \"Topic3\", \"Topic3\", \"Topic3\", \"Topic3\", \"Topic3\", \"Topic3\", \"Topic3\", \"Topic3\", \"Topic3\", \"Topic3\", \"Topic3\", \"Topic3\", \"Topic3\", \"Topic3\", \"Topic3\", \"Topic3\", \"Topic3\", \"Topic3\", \"Topic3\", \"Topic3\", \"Topic3\", \"Topic3\", \"Topic3\", \"Topic3\", \"Topic3\", \"Topic3\", \"Topic3\", \"Topic3\", \"Topic3\", \"Topic3\", \"Topic3\", \"Topic3\", \"Topic3\", \"Topic3\", \"Topic3\", \"Topic3\", \"Topic3\", \"Topic3\", \"Topic3\", \"Topic3\", \"Topic3\", \"Topic3\", \"Topic3\", \"Topic3\", \"Topic3\", \"Topic3\", \"Topic3\", \"Topic3\", \"Topic3\", \"Topic3\", \"Topic3\", \"Topic3\", \"Topic3\", \"Topic3\", \"Topic3\", \"Topic3\", \"Topic3\", \"Topic3\", \"Topic3\", \"Topic3\", \"Topic3\", \"Topic3\", \"Topic3\", \"Topic3\", \"Topic3\", \"Topic3\", \"Topic3\", \"Topic3\", \"Topic4\", \"Topic4\", \"Topic4\", \"Topic4\", \"Topic4\", \"Topic4\", \"Topic4\", \"Topic4\", \"Topic4\", \"Topic4\", \"Topic4\", \"Topic4\", \"Topic4\", \"Topic4\", \"Topic4\", \"Topic4\", \"Topic4\", \"Topic4\", \"Topic4\", \"Topic4\", \"Topic4\", \"Topic4\", \"Topic4\", \"Topic4\", \"Topic4\", \"Topic4\", \"Topic4\", \"Topic4\", \"Topic4\", \"Topic4\", \"Topic4\", \"Topic4\", \"Topic4\", \"Topic4\", \"Topic4\", \"Topic4\", \"Topic4\", \"Topic4\", \"Topic4\", \"Topic4\", \"Topic4\", \"Topic4\", \"Topic4\", \"Topic4\", \"Topic4\", \"Topic4\", \"Topic4\", \"Topic4\", \"Topic4\", \"Topic4\", \"Topic4\", \"Topic4\", \"Topic4\", \"Topic4\", \"Topic4\", \"Topic4\", \"Topic4\", \"Topic4\", \"Topic4\", \"Topic4\", \"Topic4\", \"Topic4\", \"Topic4\", \"Topic4\", \"Topic4\", \"Topic4\", \"Topic4\", \"Topic4\", \"Topic4\", \"Topic4\", \"Topic4\", \"Topic4\", \"Topic4\", \"Topic4\", \"Topic4\", \"Topic4\", \"Topic4\", \"Topic4\", \"Topic4\", \"Topic4\", \"Topic4\", \"Topic4\", \"Topic4\", \"Topic4\"], \"logprob\": [30.0, 29.0, 28.0, 27.0, 26.0, 25.0, 24.0, 23.0, 22.0, 21.0, 20.0, 19.0, 18.0, 17.0, 16.0, 15.0, 14.0, 13.0, 12.0, 11.0, 10.0, 9.0, 8.0, 7.0, 6.0, 5.0, 4.0, 3.0, 2.0, 1.0, -7.9211, -8.0043, -7.5506, -7.9371, -7.9357, -8.3073, -8.444, -8.4484, -8.3313, -8.5865, -8.4543, -8.2267, -8.5979, -7.7187, -7.966, -8.6012, -8.7594, -8.6046, -8.7593, -8.6048, -8.7629, -8.762, -8.158, -7.9286, -8.7694, -8.7731, -8.7733, -8.6167, -8.6166, -8.7744, -7.6258, -5.1044, -6.4117, -6.0077, -7.5382, -7.1616, -5.9316, -7.5881, -6.3555, -8.0101, -5.5438, -7.0028, -7.9472, -7.0349, -5.3982, -5.9353, -4.5396, -5.6983, -6.3221, -6.5835, -5.2545, -4.7825, -5.983, -5.7034, -6.2429, -4.746, -5.3403, -6.4061, -5.3245, -5.1541, -5.9139, -5.9492, -6.3088, -6.2588, -5.748, -5.3249, -5.2525, -5.5685, -5.6011, -5.6573, -5.1001, -5.8314, -5.0472, -5.6123, -5.4066, -5.759, -5.6903, -5.7842, -5.7282, -5.6461, -5.7104, -5.6319, -5.8075, -7.1183, -7.715, -8.2453, -7.9551, -8.2569, -8.1018, -8.4516, -8.4529, -8.4565, -8.461, -8.464, -8.4664, -8.4653, -8.2792, -8.28, -8.4752, -8.01, -8.7196, -8.7202, -8.7209, -8.72, -8.7235, -8.4952, -8.0435, -8.7295, -8.7325, -8.5026, -8.7376, -8.7341, -8.7362, -8.5076, -7.9174, -8.1949, -6.9051, -7.0009, -7.5965, -7.9541, -8.2414, -7.5521, -7.6394, -8.0696, -7.2007, -7.8964, -7.0957, -7.4878, -5.6903, -4.7685, -7.138, -5.2306, -4.7336, -6.4986, -7.4949, -6.5652, -5.9942, -6.9147, -5.5045, -6.9399, -5.7758, -4.676, -6.0564, -4.8281, -5.2895, -6.0781, -5.2486, -5.7409, -5.5169, -6.2803, -5.2324, -4.9834, -5.5551, -5.7673, -5.7839, -5.7905, -5.6534, -5.6135, -5.4336, -5.6952, -5.6677, -5.5211, -5.7061, -6.0037, -5.8192, -5.6497, -5.9575, -5.8528, -5.8356, -7.5268, -7.8357, -7.8453, -7.8512, -7.8517, -7.8775, -7.8819, -7.8841, -7.8933, -7.9043, -7.9053, -7.9215, -7.9361, -7.9465, -7.9596, -7.9693, -8.4159, -8.4174, -8.4184, -8.4197, -8.4201, -8.4204, -8.4206, -8.4205, -8.4204, -8.4208, -8.4208, -8.423, -8.4213, -8.4219, -7.2013, -7.0718, -6.897, -6.8353, -7.8356, -7.4987, -7.8317, -7.8386, -7.8455, -7.8618, -7.8677, -7.8721, -7.8824, -7.8792, -6.492, -7.2613, -6.3966, -4.7481, -4.8824, -5.1861, -5.247, -6.439, -5.8526, -6.1515, -6.4134, -5.4506, -6.4849, -5.6857, -5.3301, -5.2199, -5.9151, -5.5705, -5.8776, -5.7879, -5.9082, -6.0709, -5.9673, -5.7879, -6.2626, -6.5953, -6.0206, -5.8284, -5.9158, -6.2015, -5.9824, -6.0305, -6.1112, -6.2413, -6.1312, -6.2907, -6.3108, -6.3051, -7.2857, -7.5554, -7.86, -7.8868, -6.485, -7.9159, -7.9218, -7.9395, -7.9634, -7.9704, -7.9714, -7.9919, -8.4397, -8.4403, -8.4409, -8.4409, -8.4414, -8.4418, -8.4434, -8.4444, -8.4442, -8.444, -8.4448, -8.4449, -8.445, -8.4453, -8.4451, -8.4454, -8.4454, -8.4457, -7.5232, -7.2127, -7.4824, -6.6842, -8.0798, -7.8498, -7.1761, -7.8485, -7.5176, -7.8581, -8.1042, -8.1071, -7.8628, -7.8675, -4.9927, -7.8815, -8.1132, -7.887, -4.7768, -6.5922, -6.2322, -5.3222, -6.3939, -6.5183, -5.9586, -6.0252, -4.9434, -5.4054, -6.1958, -4.9217, -5.897, -5.3424, -6.4075, -5.6384, -5.8643, -5.1819, -5.3211, -5.1836, -5.9007, -5.454, -6.0041, -5.5724, -5.2521, -5.8515, -5.7135, -5.8429, -5.9182, -6.1279, -6.1053, -6.0534, -6.057, -6.0412, -6.1272, -6.1222], \"loglift\": [30.0, 29.0, 28.0, 27.0, 26.0, 25.0, 24.0, 23.0, 22.0, 21.0, 20.0, 19.0, 18.0, 17.0, 16.0, 15.0, 14.0, 13.0, 12.0, 11.0, 10.0, 9.0, 8.0, 7.0, 6.0, 5.0, 4.0, 3.0, 2.0, 1.0, 0.4962, 0.4951, 0.4894, 0.483, 0.4818, 0.4806, 0.4691, 0.4649, 0.4635, 0.4613, 0.4611, 0.4558, 0.4552, 0.4545, 0.4536, 0.4509, 0.4483, 0.4477, 0.4476, 0.4462, 0.4445, 0.4438, 0.4437, 0.4429, 0.441, 0.4376, 0.4373, 0.4365, 0.436, 0.4347, 0.4315, 0.3684, 0.395, 0.3794, 0.4073, 0.3946, 0.3475, 0.4029, 0.339, 0.4107, 0.2631, 0.3544, 0.4069, 0.3437, 0.2106, 0.2481, 0.104, 0.2086, 0.263, 0.2874, 0.153, 0.0959, 0.2171, 0.1824, 0.2413, 0.0352, 0.1156, 0.2533, 0.1037, 0.0718, 0.176, 0.1787, 0.2328, 0.2205, 0.1345, 0.0593, 0.0364, 0.0814, 0.0658, 0.0716, -0.0743, 0.1118, -0.1144, 0.0403, -0.034, 0.0768, 0.0336, 0.0822, 0.0399, -0.02, 0.0107, -0.0902, -0.0548, 1.0676, 1.0109, 1.001, 0.9987, 0.9867, 0.9842, 0.9812, 0.9811, 0.9762, 0.9738, 0.9723, 0.9695, 0.9687, 0.9678, 0.9656, 0.9613, 0.9597, 0.9464, 0.9455, 0.9446, 0.9441, 0.9426, 0.9399, 0.9395, 0.9358, 0.9325, 0.9311, 0.9299, 0.9298, 0.9281, 0.9262, 0.907, 0.9109, 0.8199, 0.8191, 0.8533, 0.8704, 0.8975, 0.826, 0.8342, 0.8782, 0.7628, 0.8463, 0.7196, 0.7744, 0.4459, 0.2573, 0.7024, 0.3111, 0.1993, 0.5542, 0.7672, 0.5406, 0.3925, 0.6086, 0.2482, 0.6138, 0.2955, -0.0324, 0.3425, -0.0469, 0.083, 0.3226, 0.0403, 0.2023, 0.1092, 0.3693, -0.0064, -0.1051, 0.0976, 0.1762, 0.1565, 0.1552, 0.0755, 0.0364, -0.0495, 0.0729, 0.0534, -0.0652, 0.0178, 0.1673, 0.0166, -0.2216, 0.067, -0.1859, -0.428, 2.4296, 2.4167, 2.4014, 2.3939, 2.3913, 2.358, 2.3505, 2.3475, 2.3349, 2.3192, 2.3171, 2.2955, 2.2765, 2.2604, 2.2433, 2.2296, 2.2005, 2.1982, 2.1981, 2.1972, 2.1969, 2.1958, 2.1958, 2.1957, 2.1948, 2.1947, 2.1943, 2.1937, 2.1937, 2.1934, 2.0969, 1.9489, 1.8994, 1.7701, 2.0321, 1.9245, 2.0224, 2.0142, 2.0052, 1.9834, 1.9767, 1.9776, 1.9813, 1.9749, 1.3643, 1.7084, 1.2392, 0.0331, 0.0504, 0.2215, 0.1372, 0.9674, 0.4476, 0.6885, 0.8525, -0.078, 0.8932, -0.0188, -0.4517, -0.5762, 0.1427, -0.2816, 0.0656, -0.064, 0.0483, 0.2017, 0.0512, -0.1791, 0.4109, 0.8338, 0.0382, -0.3555, -0.2896, 0.2133, -0.2613, -0.1641, -0.2287, -0.1699, -0.9052, 0.0425, -0.1888, -0.6525, 2.4875, 2.4259, 2.4101, 2.3723, 2.3611, 2.332, 2.325, 2.2988, 2.2663, 2.2573, 2.2571, 2.2269, 2.1917, 2.1905, 2.1902, 2.1899, 2.1892, 2.1882, 2.1862, 2.1855, 2.1852, 2.185, 2.1848, 2.1845, 2.1845, 2.1842, 2.1841, 2.184, 2.1835, 2.1835, 2.1596, 2.1193, 2.0452, 1.891, 2.1158, 2.0314, 1.8406, 2.0206, 1.9137, 2.0083, 2.0825, 2.08, 2.0011, 1.9973, 0.9477, 1.9905, 2.0707, 1.9822, 0.6514, 1.3922, 1.1822, 0.6343, 1.2038, 1.214, 0.7885, 0.8148, -0.065, 0.2615, 0.8333, -0.1405, 0.5894, 0.0651, 0.9601, 0.3048, 0.4688, -0.1561, -0.0952, -0.2508, 0.4228, -0.0815, 0.4643, -0.1165, -0.6084, 0.0148, -0.4246, -0.2168, -0.1971, 0.1378, 0.0637, -0.3007, -0.2889, -0.657, -0.0684, -0.4723]}, \"token.table\": {\"Topic\": [3, 1, 1, 2, 4, 4, 1, 2, 1, 2, 3, 1, 2, 4, 4, 1, 2, 4, 1, 2, 3, 2, 1, 4, 1, 2, 1, 2, 3, 4, 1, 3, 1, 2, 3, 4, 4, 2, 1, 2, 4, 1, 4, 4, 1, 2, 3, 4, 1, 2, 3, 1, 2, 3, 4, 4, 2, 1, 1, 1, 2, 3, 3, 2, 3, 1, 2, 3, 1, 2, 3, 4, 2, 4, 1, 3, 1, 2, 3, 4, 1, 2, 3, 4, 1, 2, 3, 4, 4, 3, 4, 1, 2, 4, 1, 2, 3, 4, 1, 2, 3, 4, 1, 2, 3, 4, 1, 2, 3, 4, 1, 3, 1, 4, 2, 1, 3, 2, 4, 1, 2, 1, 4, 3, 1, 2, 3, 4, 4, 1, 2, 2, 1, 1, 3, 1, 2, 3, 1, 2, 3, 4, 1, 2, 3, 4, 1, 3, 3, 1, 2, 3, 4, 1, 2, 4, 1, 2, 3, 4, 1, 2, 3, 4, 2, 1, 2, 3, 1, 2, 3, 4, 1, 4, 3, 1, 2, 1, 3, 2, 1, 3, 1, 2, 4, 1, 2, 3, 4, 1, 2, 3, 4, 4, 1, 2, 3, 4, 1, 2, 3, 4, 3, 3, 1, 2, 4, 1, 2, 3, 4, 1, 2, 3, 4, 2, 3, 1, 2, 1, 2, 3, 4, 1, 2, 4, 1, 2, 1, 2, 3, 4, 3, 1, 4, 1, 2, 3, 4, 1, 4, 1, 2, 3, 4, 1, 2, 3, 4, 1, 2, 3, 4, 1, 2, 3, 4, 1, 2, 3, 1, 2, 1, 1, 3, 1, 2, 3, 4, 3, 3, 1, 2, 3, 4, 1, 2, 3, 2, 4, 1, 2, 3, 4, 1, 2, 3, 4, 1, 2, 4, 1, 2, 3, 1, 2, 3, 4, 1, 2, 3, 4, 1, 2, 3, 4, 1, 2, 1, 2, 3, 4, 1, 2, 3, 4, 1, 2, 3, 4, 1, 2, 3, 4, 3, 1, 2, 3, 4, 2, 2, 1, 2, 4, 1, 2, 3, 4, 1, 2, 3, 4, 3, 1, 2, 3, 4, 1, 2, 3, 4, 4, 1, 2, 3, 4, 1, 2, 3, 4, 1, 2, 1, 2, 4, 4, 1, 2, 1, 2, 3, 4, 1, 3, 1, 2, 3, 4, 2, 1, 2, 4, 1, 2, 3, 4, 1, 2, 4, 1, 2, 3, 1, 2, 1, 2, 3, 4, 1, 2, 3, 4, 1, 2, 3, 4, 1, 2, 3, 3, 1, 2, 3, 4, 1, 2, 4, 2, 4, 3, 1, 2, 3, 4, 2, 4, 2, 1, 2, 3, 4, 1, 2, 4, 2, 3, 1, 2, 3, 2, 3, 4, 1, 2, 4, 1, 2, 3, 4, 2, 4, 4, 4, 3, 1, 2, 3, 4, 1, 2, 4, 1, 2, 1, 4, 4, 1, 2, 3, 4, 1, 2, 3, 4, 2, 1, 2, 1, 3, 1, 3, 2, 1, 2, 3, 1, 2, 3, 4, 1, 2, 3, 4, 3, 1, 2, 3, 4, 1, 2, 3, 4, 3, 1, 2, 3, 4, 3, 2, 4, 1, 2, 3, 4, 1, 4, 3, 1, 2, 3, 4, 1, 2, 3, 4, 1, 2, 3, 4, 1, 2, 3, 4, 1, 4, 1, 1, 2, 3, 4, 3, 2, 4, 4, 2, 4, 2, 1, 1, 2, 3, 4, 4, 1, 2, 3, 4, 1, 1, 2, 3, 4, 1, 1, 2, 3, 4, 1, 2, 3, 4, 1, 2, 3, 4, 1, 2, 3, 4, 1, 2, 1, 3, 1, 2, 3, 4, 2, 4, 2, 1, 1, 2, 3, 4, 2, 3, 1, 2, 3, 4, 1, 1, 2, 2, 4, 3, 2, 1, 2, 1, 2, 3, 4, 1, 2, 3, 4, 1, 2, 3, 4, 1, 2, 3, 4, 1, 2, 3, 4, 2, 1, 2, 3, 4, 1, 2, 3, 4], \"Freq\": [0.7327703532550546, 0.9199183440816355, 0.24945794304331478, 0.12472897152165739, 0.6236448576082869, 0.5067090190768349, 0.9185886707073102, 0.8990530138775559, 0.2970390453104329, 0.2970390453104329, 0.44555856796564935, 0.8956368339321946, 0.08142153035747224, 0.7420797910114127, 0.7435062637141878, 0.14792455757784256, 0.44377367273352775, 0.2958491151556851, 0.34024088662566276, 0.34024088662566276, 0.34024088662566276, 0.93056255473535, 0.9335190963921678, 0.7430931948886156, 0.8387615352471394, 0.07625104865883085, 0.6653055108116142, 0.1814469574940766, 0.1209646383293844, 0.0302411595823461, 0.3384579681914706, 0.3384579681914706, 0.5824889843578902, 0.2496381361533815, 0.06240953403834538, 0.11095028273483623, 0.7424853256602284, 0.8491941631692169, 0.3193727527935249, 0.6387455055870498, 0.045624678970503554, 0.3451313998949186, 0.3451313998949186, 0.7417524036558225, 0.7946972797552321, 0.16276932235950536, 0.028723998063442124, 0.01914933204229475, 0.4234312873566448, 0.14114376245221494, 0.2822875249044299, 0.8438749266626596, 0.0973701838456915, 0.03245672794856383, 0.016228363974281915, 0.5061447901627829, 0.9001681646664633, 0.9155632784537184, 0.9204612685510282, 0.8151925260203812, 0.08151925260203811, 0.7324771542074481, 0.7328704989744979, 0.3464245214879485, 0.3464245214879485, 0.41717056380559353, 0.32446599407101717, 0.23176142433644084, 0.1678286241588575, 0.7552288087148588, 0.5004617329553404, 0.7420818089904412, 0.4766431666741899, 0.4766431666741899, 0.48246761901080265, 0.48246761901080265, 0.37358633266674235, 0.5603794990001135, 0.04150959251852693, 0.020754796259263464, 0.5844578524309436, 0.3061445893685895, 0.05994439512112242, 0.04924003884949341, 0.4767476004123388, 0.26817052523194057, 0.05959345005154235, 0.17878035015462707, 0.5123846330679666, 0.731615530480733, 0.7420811472583104, 0.38050071355004933, 0.285375535162537, 0.38050071355004933, 0.5607754981595254, 0.330319813984378, 0.06145484911337265, 0.053772992974201066, 0.4661643034568761, 0.38509225068176717, 0.02026801319377722, 0.12160807916266332, 0.6749978861667655, 0.2798771723130491, 0.016463363077238183, 0.024695044615857274, 0.5680923321793391, 0.3832912120728071, 0.01368897185974311, 0.04106691557922933, 0.3387160972265524, 0.3387160972265524, 0.34693803688267305, 0.34693803688267305, 0.8988015289400249, 0.3413287411139977, 0.3413287411139977, 0.2879537329285129, 0.5759074658570258, 0.23433135026271965, 0.7029940507881589, 0.9357053230047894, 0.7418635974259894, 0.49394856148504024, 0.6250448830636984, 0.3097237331002207, 0.033584501179542, 0.03171869555845634, 0.7431382190614116, 0.8791316438350886, 0.09768129375945428, 0.8477363417894904, 0.8945798493455349, 0.3405918025762978, 0.3405918025762978, 0.22212298606819397, 0.22212298606819397, 0.44424597213638795, 0.6735808548309621, 0.26943234193238486, 0.023773441935210426, 0.03169792258028057, 0.5986047500165794, 0.3051710490280601, 0.06651163889073104, 0.03129959477210873, 0.4844233391749259, 0.4844233391749259, 0.5042166565237276, 0.6271408750440768, 0.28036886178441084, 0.05902502353356017, 0.03689063970847511, 0.14302165918275767, 0.858129955096546, 0.14302165918275767, 0.497393882997899, 0.4433293304981274, 0.043251641999817306, 0.021625820999908653, 0.5678754215997214, 0.3146336795349808, 0.06906592965402017, 0.04604395310268011, 0.8999016394129182, 0.4090013028867332, 0.4090013028867332, 0.1859096831303333, 0.35793322834831504, 0.4295198740179781, 0.035793322834831505, 0.17896661417415752, 0.9205551748781443, 0.7428974308249859, 0.7325266340295747, 0.12205842228732913, 0.854408956011304, 0.4863550338128783, 0.4863550338128783, 0.898130757163682, 0.588273421826622, 0.294136710913311, 0.8049671418463852, 0.11499530597805503, 0.057497652989027516, 0.7221738175120199, 0.21752223419036745, 0.034803557470458796, 0.026102668102844093, 0.507261089802083, 0.4532971440784571, 0.010792789144725168, 0.032378367434175506, 0.7418719109872485, 0.5316789557871467, 0.4128996146006565, 0.011312318208237165, 0.03959311372883008, 0.5756523884976043, 0.32672162590404563, 0.046674517986292234, 0.05445360431734094, 0.5052912675848776, 0.7571978128941992, 0.8936178913114714, 0.4768308741376817, 0.4768308741376817, 0.7977348868620537, 0.17405124804262992, 0.01450427067021916, 0.01450427067021916, 0.7281320888639469, 0.2080377396754134, 0.013002358729713337, 0.03900707618914001, 0.34507313592649247, 0.34507313592649247, 0.14114133645313823, 0.8468480187188294, 0.6989980430707482, 0.23889806535329372, 0.017696152989132866, 0.04424038247283217, 0.20869412023924386, 0.6956470674641462, 0.06956470674641461, 0.8472070490927406, 0.10590088113659257, 0.5686946038394745, 0.2559125717277635, 0.028434730191973723, 0.1421736509598686, 0.4985199406040086, 0.8977677793144349, 0.496567626584469, 0.6346906391493785, 0.2984306978781846, 0.016812997063559695, 0.050438991190679086, 0.3454553430396131, 0.3454553430396131, 0.5175585670777975, 0.43511560949018374, 0.018320657241691945, 0.02748098586253792, 0.6115579084004428, 0.2446231633601771, 0.030577895420022136, 0.12231158168008854, 0.7344364549330182, 0.20898598311102146, 0.029855140444431636, 0.023884112355545307, 0.8213757232034735, 0.13867382339798903, 0.02133443436892139, 0.010667217184460695, 0.8240837782371457, 0.10301047227964322, 0.0343368240932144, 0.8960625112173295, 0.0814602282924845, 0.9195256492208225, 0.593383400190428, 0.3560300401142568, 0.5992885450926612, 0.3044005308407168, 0.0761001327101792, 0.0190250331775448, 0.48910014378639727, 0.4967965791057832, 0.48538988699801666, 0.45765332202670145, 0.02773656497131524, 0.02773656497131524, 0.20325532384536085, 0.7317191658432991, 0.04065106476907217, 0.34795324660887506, 0.34795324660887506, 0.5858949879940675, 0.3446441105847456, 0.022976274038983037, 0.040208479568220316, 0.7095596170915286, 0.22407145802890377, 0.012448414334939099, 0.049793657339756395, 0.1124712470294511, 0.7872987292061577, 0.1124712470294511, 0.1718854538878649, 0.773484542495392, 0.08594272694393244, 0.7170100802867138, 0.22333100861389446, 0.03526279083377281, 0.03526279083377281, 0.44821200019924573, 0.49801333355471744, 0.008300222225911957, 0.04150111112955979, 0.6784201662122208, 0.2649069220447719, 0.025844577760465552, 0.025844577760465552, 0.13807134173991686, 0.8284280504395012, 0.49002998926800434, 0.4278039588847657, 0.031113015191619322, 0.04666952278742898, 0.5762427289633667, 0.31173786976706724, 0.05667961268492132, 0.06612621479907486, 0.2669606052373561, 0.6674015130933902, 0.044493434206226014, 0.044493434206226014, 0.607527773986709, 0.3479477251014788, 0.022091919054062145, 0.022091919054062145, 0.49132881806590756, 0.582548225247423, 0.3242485404679053, 0.05495737974032293, 0.03847016581822605, 0.8478635483608672, 0.8496302319044672, 0.20867548996451618, 0.6955849665483873, 0.06955849665483874, 0.6568224819994193, 0.20826078697542563, 0.07209027241457042, 0.06007522701214201, 0.5536469745577806, 0.20132617256646565, 0.1174402673304383, 0.13421744837764377, 0.7324600811436799, 0.6295826061432279, 0.28741814628277795, 0.006843289197208999, 0.07527618116929899, 0.44354432223574497, 0.3753067341994765, 0.034118794018134224, 0.15012269367979061, 0.501828182004232, 0.8166116164955517, 0.13681451166417619, 0.04275453489505506, 0.004275453489505506, 0.503258720770389, 0.3911466295096588, 0.06228449514485012, 0.044844836504292086, 0.8937455574245028, 0.08124959612950026, 0.6322370429061983, 0.15805926072654958, 0.21074568096873278, 0.6303979014622809, 0.15854097801500025, 0.7927048900750012, 0.5573964867331043, 0.3227032291612709, 0.08800997158943752, 0.029336657196479175, 0.3920527966331161, 0.3920527966331161, 0.6255560053029602, 0.257581884536513, 0.008177202683698826, 0.11039223622993415, 0.8979585242629321, 0.17881811577595055, 0.7152724631038022, 0.04470452894398764, 0.5921668624750918, 0.31801553725514187, 0.07676237106158597, 0.02193210601759599, 0.16172037894494254, 0.8086018947247128, 0.5180758473715942, 0.8910119198660592, 0.06364370856186137, 0.06364370856186137, 0.06445358701015248, 0.9023502181421348, 0.6045277721486343, 0.31729358206696273, 0.02337952709967094, 0.05343891908496214, 0.5833510526073645, 0.33435974966519677, 0.04268422336151448, 0.03912720474805494, 0.24569627755280302, 0.5323419346977399, 0.040949379592133836, 0.2047468979606692, 0.8615153595848942, 0.10135474818645815, 0.050677374093229074, 0.7326954347508161, 0.5531904988815592, 0.35882626954479524, 0.044853283693099405, 0.044853283693099405, 0.36547991063081475, 0.5980580355776969, 0.03322544642098316, 0.40553184164144596, 0.40553184164144596, 0.7315581955830667, 0.6084688265638603, 0.3257459374533797, 0.030730748816356575, 0.03687689857962789, 0.34696664502877583, 0.34696664502877583, 0.8969594524956057, 0.5452832278472778, 0.34805312415783685, 0.05414159709121907, 0.05414159709121907, 0.9479031638252966, 0.3511501087186718, 0.3511501087186718, 0.9298574882720622, 0.7323423390648953, 0.9468840099564874, 0.05569905940920514, 0.05569905940920514, 0.34174678304376344, 0.34174678304376344, 0.7762376385461072, 0.8500491013104748, 0.05666994008736499, 0.05666994008736499, 0.7018420274264004, 0.22224997535169347, 0.02339473424754668, 0.04678946849509336, 0.4808669633223961, 0.4808669633223961, 0.4969651367817795, 0.7420909853765698, 0.498884420685886, 0.39392950181697506, 0.547124308079132, 0.021884972323165282, 0.043769944646330564, 0.8486091941733003, 0.05303807463583127, 0.10607614927166253, 0.24411982872603102, 0.7323594861780931, 0.8979005625177741, 0.742201899611839, 0.7416822608906872, 0.5183451817150794, 0.3651977416628968, 0.01178057231170635, 0.10602515080535714, 0.5171934652778415, 0.3160626732253476, 0.14366485146606708, 0.02873297029321342, 0.8507586283520022, 0.13890533943088448, 0.833432036585307, 0.3417916723964717, 0.3417916723964717, 0.8950007648134966, 0.5061251091216976, 0.9311742265364481, 0.8980264539274792, 0.8358141832060588, 0.16716283664121176, 0.46490519116237516, 0.3840521144384838, 0.0606398075429185, 0.09095971131437774, 0.5249562496631153, 0.4155903643166329, 0.013670735668310292, 0.04921464840591705, 0.50900730056693, 0.5625621788576594, 0.3773282906972105, 0.027442057505251676, 0.04116308625787751, 0.5136897321376506, 0.28252935267570783, 0.12842243303441264, 0.07705345982064758, 0.4944866214642794, 0.5789531751220861, 0.3414339237899482, 0.037112383020646546, 0.04453485962477585, 0.7323738078087664, 0.8494681547564018, 0.7421353080313818, 0.6929151095779256, 0.2507692777520112, 0.019797574559369303, 0.03299595759894884, 0.4478320513753794, 0.4478320513753794, 0.7319037500197229, 0.728292467160201, 0.21008436552698107, 0.042016873105396216, 0.02801124873693081, 0.8161032529087637, 0.11256596591845018, 0.05628298295922509, 0.028141491479612545, 0.6146687486909763, 0.27881881383920576, 0.0506943297889465, 0.057031121012564814, 0.5605033447185859, 0.30026964895638525, 0.05004494149273088, 0.09008089468691557, 0.3459825965454409, 0.3459825965454409, 0.8952208951583622, 0.6021508916833954, 0.26473875410218245, 0.057100515590666805, 0.07267338347903048, 0.7316273441728606, 0.8480496798237199, 0.7423769118904031, 0.7421777087766257, 0.8486450320818653, 0.49756465719114734, 0.8970269509781811, 0.8819130205947117, 0.2465631748469347, 0.2465631748469347, 0.2465631748469347, 0.4931263496938694, 0.7433418760753449, 0.45849932894345563, 0.4691621040351639, 0.01066277509170827, 0.05331387545854135, 0.8965507761367771, 0.30824843687998277, 0.5822470474399675, 0.06849965263999618, 0.03424982631999809, 0.9414618283971581, 0.5269434222074625, 0.39007500085487484, 0.061590789608664445, 0.020530263202888147, 0.6124297317313672, 0.33173277135449053, 0.020414324391045572, 0.03572506768432975, 0.6955344707014276, 0.22531398346665965, 0.048981300753621664, 0.029388780452172997, 0.5699205058318737, 0.339760301553617, 0.043840038910144125, 0.049320043773912144, 0.11060509251274935, 0.8848407401019948, 0.8535689233659607, 0.07759717485145097, 0.7441311573120167, 0.12113763026009573, 0.05191612725432675, 0.08652687875721124, 0.47529193494900746, 0.47529193494900746, 0.928088277264009, 0.8934996718406956, 0.5891878301154576, 0.31096024367204705, 0.0490989858429548, 0.05728215015011393, 0.8978192694031507, 0.731799405067197, 0.5929272495972122, 0.37809853597503384, 0.008593148544887134, 0.017186297089774268, 0.9197083765017334, 0.25800399422916837, 0.6708103849958378, 0.8981317110213971, 0.4921706327334912, 0.7314620037523121, 0.8488279083982015, 0.9337922873119319, 0.8490496058774276, 0.5885335247369801, 0.3531201148421881, 0.030706096942798963, 0.030706096942798963, 0.5965698218105506, 0.26987682415239195, 0.0852242602586501, 0.056816173505766725, 0.5900378910974905, 0.27766488992823085, 0.04627748165470514, 0.09255496330941028, 0.5911837357562517, 0.20691430751468812, 0.14779593393906293, 0.059118373575625174, 0.6440108585281283, 0.2769246691670952, 0.045080760096968986, 0.032200542926406416, 0.9003869145309382, 0.6205123332550078, 0.2878422230308401, 0.03774979974174952, 0.05426533712876494, 0.583170529431607, 0.325889413505898, 0.025728111592570897, 0.060032260382665424], \"Term\": [\"abovementioned\", \"accident\", \"accomplished\", \"accomplished\", \"accomplished\", \"acknowledgments\", \"addresses\", \"agitated\", \"along\", \"along\", \"along\", \"amusement\", \"amusement\", \"ancle\", \"ascertaining\", \"assembly\", \"assembly\", \"assembly\", \"assertions\", \"assertions\", \"assertions\", \"attempted\", \"aunts\", \"barefaced\", \"begin\", \"begin\", \"believed\", \"believed\", \"believed\", \"believed\", \"betray\", \"betray\", \"bingley\", \"bingley\", \"bingley\", \"bingley\", \"boulanger\", \"bridge\", \"brighton\", \"brighton\", \"brighton\", \"brotherinlaw\", \"brotherinlaw\", \"catching\", \"catherine\", \"catherine\", \"catherine\", \"catherine\", \"charge\", \"charge\", \"charge\", \"charlotte\", \"charlotte\", \"charlotte\", \"charlotte\", \"cheapside\", \"cheeks\", \"choose\", \"christmas\", \"chuse\", \"chuse\", \"closely\", \"coarse\", \"collected\", \"collected\", \"colonel_fitzwilliam\", \"colonel_fitzwilliam\", \"colonel_fitzwilliam\", \"colour\", \"colour\", \"comfortably\", \"comforted\", \"consulted\", \"consulted\", \"containing\", \"containing\", \"continued\", \"continued\", \"continued\", \"continued\", \"could\", \"could\", \"could\", \"could\", \"country\", \"country\", \"country\", \"country\", \"creditors\", \"criticisms\", \"crown\", \"danced\", \"danced\", \"danced\", \"darcy\", \"darcy\", \"darcy\", \"darcy\", \"daughters\", \"daughters\", \"daughters\", \"daughters\", \"day\", \"day\", \"day\", \"day\", \"dear\", \"dear\", \"dear\", \"dear\", \"determination\", \"determination\", \"detest\", \"detest\", \"die\", \"discussed\", \"discussed\", \"dispatched\", \"dispatched\", \"distressed\", \"distressed\", \"domestic\", \"dresses\", \"edged\", \"elizabeth\", \"elizabeth\", \"elizabeth\", \"elizabeth\", \"eluded\", \"endeavoured\", \"endeavoured\", \"energy\", \"entertain\", \"err\", \"err\", \"events\", \"events\", \"events\", \"ever\", \"ever\", \"ever\", \"ever\", \"every\", \"every\", \"every\", \"every\", \"existing\", \"existing\", \"fainter\", \"family\", \"family\", \"family\", \"family\", \"fancied\", \"fancied\", \"fancied\", \"felt\", \"felt\", \"felt\", \"felt\", \"first\", \"first\", \"first\", \"first\", \"fit\", \"fitzwilliam\", \"fitzwilliam\", \"fitzwilliam\", \"five\", \"five\", \"five\", \"five\", \"forbearance\", \"forbidding\", \"fruit\", \"fun\", \"fun\", \"gates\", \"gates\", \"gentleness\", \"georgiana\", \"georgiana\", \"girl\", \"girl\", \"girl\", \"give\", \"give\", \"give\", \"give\", \"go\", \"go\", \"go\", \"go\", \"gods\", \"good\", \"good\", \"good\", \"good\", \"great\", \"great\", \"great\", \"great\", \"gross\", \"grove\", \"guest\", \"haggerston\", \"haggerston\", \"happiness\", \"happiness\", \"happiness\", \"happiness\", \"happy\", \"happy\", \"happy\", \"happy\", \"haughty\", \"haughty\", \"hill\", \"hill\", \"hope\", \"hope\", \"hope\", \"hope\", \"housekeeper\", \"housekeeper\", \"housekeeper\", \"humble\", \"humble\", \"husband\", \"husband\", \"husband\", \"husband\", \"idleness\", \"imagined\", \"intricate\", \"jane\", \"jane\", \"jane\", \"jane\", \"kingdom\", \"kingdom\", \"know\", \"know\", \"know\", \"know\", \"ladies\", \"ladies\", \"ladies\", \"ladies\", \"lady\", \"lady\", \"lady\", \"lady\", \"lady_catherine\", \"lady_catherine\", \"lady_catherine\", \"lady_catherine\", \"ladyship\", \"ladyship\", \"ladyship\", \"ladyships\", \"ladyships\", \"lakes\", \"lane\", \"lane\", \"letter\", \"letter\", \"letter\", \"letter\", \"liberally\", \"lieu\", \"like\", \"like\", \"like\", \"like\", \"liked\", \"liked\", \"liked\", \"list\", \"list\", \"little\", \"little\", \"little\", \"little\", \"longbourn\", \"longbourn\", \"longbourn\", \"longbourn\", \"longed\", \"longed\", \"longed\", \"lord\", \"lord\", \"lord\", \"love\", \"love\", \"love\", \"love\", \"lydia\", \"lydia\", \"lydia\", \"lydia\", \"make\", \"make\", \"make\", \"make\", \"mamma\", \"mamma\", \"man\", \"man\", \"man\", \"man\", \"many\", \"many\", \"many\", \"many\", \"master\", \"master\", \"master\", \"master\", \"may\", \"may\", \"may\", \"may\", \"meit\", \"might\", \"might\", \"might\", \"might\", \"minds\", \"miniatures\", \"misery\", \"misery\", \"misery\", \"miss\", \"miss\", \"miss\", \"miss\", \"miss_bingley\", \"miss_bingley\", \"miss_bingley\", \"miss_bingley\", \"mostly\", \"mr_bennet\", \"mr_bennet\", \"mr_bennet\", \"mr_bennet\", \"mr_bingley\", \"mr_bingley\", \"mr_bingley\", \"mr_bingley\", \"mr_bingleyis\", \"mr_collins\", \"mr_collins\", \"mr_collins\", \"mr_collins\", \"mr_darcy\", \"mr_darcy\", \"mr_darcy\", \"mr_darcy\", \"mr_denny\", \"mr_denny\", \"mr_hurst\", \"mr_hurst\", \"mr_hurst\", \"mr_jones\", \"mr_philips\", \"mr_philips\", \"mr_wickham\", \"mr_wickham\", \"mr_wickham\", \"mr_wickham\", \"mrs_annesley\", \"mrs_annesley\", \"mrs_bennet\", \"mrs_bennet\", \"mrs_bennet\", \"mrs_bennet\", \"mrs_f\", \"mrs_forster\", \"mrs_forster\", \"mrs_forster\", \"mrs_gardiner\", \"mrs_gardiner\", \"mrs_gardiner\", \"mrs_gardiner\", \"mrs_hill\", \"mrs_hill\", \"mrs_hursts\", \"mrs_jenkinson\", \"mrs_jenkinson\", \"mrs_jenkinson\", \"mrs_reynolds\", \"mrs_reynolds\", \"much\", \"much\", \"much\", \"much\", \"must\", \"must\", \"must\", \"must\", \"neighbourhood\", \"neighbourhood\", \"neighbourhood\", \"neighbourhood\", \"nephew\", \"nephew\", \"nephew\", \"nettled\", \"never\", \"never\", \"never\", \"never\", \"news\", \"news\", \"news\", \"north\", \"north\", \"nose\", \"nothing\", \"nothing\", \"nothing\", \"nothing\", \"nuptials\", \"nuptials\", \"occasioned\", \"one\", \"one\", \"one\", \"one\", \"openly\", \"partners\", \"partners\", \"parts\", \"peaches\", \"persuade\", \"persuade\", \"persuade\", \"perusal\", \"perusal\", \"petticoat\", \"play\", \"play\", \"play\", \"pleasure\", \"pleasure\", \"pleasure\", \"pleasure\", \"pocket\", \"pocket\", \"poetry\", \"popularity\", \"previously\", \"pride\", \"pride\", \"pride\", \"pride\", \"proper\", \"proper\", \"proper\", \"property\", \"property\", \"proposed\", \"proudest\", \"quieter\", \"quite\", \"quite\", \"quite\", \"quite\", \"read\", \"read\", \"read\", \"read\", \"regiments\", \"rejoice\", \"rejoice\", \"remind\", \"remind\", \"repeat\", \"revealed\", \"ring\", \"risk\", \"river\", \"river\", \"room\", \"room\", \"room\", \"room\", \"said\", \"said\", \"said\", \"said\", \"saloon\", \"say\", \"say\", \"say\", \"say\", \"scarcely\", \"scarcely\", \"scarcely\", \"scarcely\", \"school\", \"see\", \"see\", \"see\", \"see\", \"selfsufficiency\", \"settling\", \"seven\", \"shall\", \"shall\", \"shall\", \"shall\", \"shocking\", \"shocking\", \"shrewish\", \"sir\", \"sir\", \"sir\", \"sir\", \"sir_william\", \"sir_william\", \"sir_william\", \"sir_william\", \"sister\", \"sister\", \"sister\", \"sister\", \"sisters\", \"sisters\", \"sisters\", \"sisters\", \"slighted\", \"slighted\", \"solemnity\", \"soon\", \"soon\", \"soon\", \"soon\", \"spanish\", \"speaks\", \"sprained\", \"starting\", \"steadily\", \"stout\", \"stream\", \"street\", \"sum\", \"sum\", \"sum\", \"sum\", \"suppositions\", \"sure\", \"sure\", \"sure\", \"sure\", \"sweetness\", \"talk\", \"talk\", \"talk\", \"talk\", \"taught\", \"thing\", \"thing\", \"thing\", \"thing\", \"think\", \"think\", \"think\", \"think\", \"though\", \"though\", \"though\", \"though\", \"time\", \"time\", \"time\", \"time\", \"today\", \"today\", \"tolerably\", \"tolerably\", \"town\", \"town\", \"town\", \"town\", \"transports\", \"transports\", \"treat\", \"tuesday\", \"two\", \"two\", \"two\", \"two\", \"unequal\", \"uppermost\", \"us\", \"us\", \"us\", \"us\", \"useful\", \"vain\", \"vain\", \"valley\", \"vast\", \"venting\", \"waiter\", \"wanting\", \"water\", \"well\", \"well\", \"well\", \"well\", \"whole\", \"whole\", \"whole\", \"whole\", \"wish\", \"wish\", \"wish\", \"wish\", \"wished\", \"wished\", \"wished\", \"wished\", \"without\", \"without\", \"without\", \"without\", \"wood\", \"would\", \"would\", \"would\", \"would\", \"young\", \"young\", \"young\", \"young\"]}, \"R\": 30, \"lambda.step\": 0.01, \"plot.opts\": {\"xlab\": \"PC1\", \"ylab\": \"PC2\"}, \"topic.order\": [3, 4, 1, 2]};\n",
       "\n",
       "function LDAvis_load_lib(url, callback){\n",
       "  var s = document.createElement('script');\n",
       "  s.src = url;\n",
       "  s.async = true;\n",
       "  s.onreadystatechange = s.onload = callback;\n",
       "  s.onerror = function(){console.warn(\"failed to load library \" + url);};\n",
       "  document.getElementsByTagName(\"head\")[0].appendChild(s);\n",
       "}\n",
       "\n",
       "if(typeof(LDAvis) !== \"undefined\"){\n",
       "   // already loaded: just create the visualization\n",
       "   !function(LDAvis){\n",
       "       new LDAvis(\"#\" + \"ldavis_el39181131403972192555048787578549\", ldavis_el39181131403972192555048787578549_data);\n",
       "   }(LDAvis);\n",
       "}else if(typeof define === \"function\" && define.amd){\n",
       "   // require.js is available: use it to load d3/LDAvis\n",
       "   require.config({paths: {d3: \"https://d3js.org/d3.v5\"}});\n",
       "   require([\"d3\"], function(d3){\n",
       "      window.d3 = d3;\n",
       "      LDAvis_load_lib(\"https://cdn.jsdelivr.net/gh/bmabey/pyLDAvis@3.3.1/pyLDAvis/js/ldavis.v3.0.0.js\", function(){\n",
       "        new LDAvis(\"#\" + \"ldavis_el39181131403972192555048787578549\", ldavis_el39181131403972192555048787578549_data);\n",
       "      });\n",
       "    });\n",
       "}else{\n",
       "    // require.js not available: dynamically load d3 & LDAvis\n",
       "    LDAvis_load_lib(\"https://d3js.org/d3.v5.js\", function(){\n",
       "         LDAvis_load_lib(\"https://cdn.jsdelivr.net/gh/bmabey/pyLDAvis@3.3.1/pyLDAvis/js/ldavis.v3.0.0.js\", function(){\n",
       "                 new LDAvis(\"#\" + \"ldavis_el39181131403972192555048787578549\", ldavis_el39181131403972192555048787578549_data);\n",
       "            })\n",
       "         });\n",
       "}\n",
       "</script>"
      ],
      "text/plain": [
       "PreparedData(topic_coordinates=              x         y  topics  cluster       Freq\n",
       "topic                                                \n",
       "2      0.023025 -0.020126       1        1  56.405851\n",
       "3      0.034320 -0.019450       2        1  32.037872\n",
       "0     -0.061659 -0.014554       3        1   5.837616\n",
       "1      0.004314  0.054130       4        1   5.718661, topic_info=           Term        Freq       Total Category  logprob  loglift\n",
       "466       could  467.000000  467.000000  Default  30.0000  30.0000\n",
       "345  mrs_bennet  244.000000  244.000000  Default  29.0000  29.0000\n",
       "604    mr_darcy  401.000000  401.000000  Default  28.0000  28.0000\n",
       "236       would  423.000000  423.000000  Default  27.0000  27.0000\n",
       "599        miss  249.000000  249.000000  Default  26.0000  26.0000\n",
       "..          ...         ...         ...      ...      ...      ...\n",
       "74         good    7.484726  176.798421   Topic4  -6.0534  -0.3007\n",
       "108      little    7.457992  174.092631   Topic4  -6.0570  -0.2889\n",
       "294       every    7.577137  255.594363   Topic4  -6.0412  -0.6570\n",
       "477       darcy    6.952272  130.176872   Topic4  -6.1272  -0.0684\n",
       "207       think    6.987244  195.940846   Topic4  -6.1222  -0.4723\n",
       "\n",
       "[365 rows x 6 columns], token_table=      Topic      Freq            Term\n",
       "term                                 \n",
       "5911      3  0.732770  abovementioned\n",
       "3223      1  0.919918        accident\n",
       "405       1  0.249458    accomplished\n",
       "405       2  0.124729    accomplished\n",
       "405       4  0.623645    accomplished\n",
       "...     ...       ...             ...\n",
       "236       4  0.054265           would\n",
       "239       1  0.583171           young\n",
       "239       2  0.325889           young\n",
       "239       3  0.025728           young\n",
       "239       4  0.060032           young\n",
       "\n",
       "[639 rows x 3 columns], R=30, lambda_step=0.01, plot_opts={'xlab': 'PC1', 'ylab': 'PC2'}, topic_order=[3, 4, 1, 2])"
      ]
     },
     "execution_count": 69,
     "metadata": {},
     "output_type": "execute_result"
    }
   ],
   "source": [
    "pyLDAvis.enable_notebook()\n",
    "p = pyLDAvis.gensim_models.prepare(model, corpus, dictionary)\n",
    "p"
   ]
  },
  {
   "cell_type": "code",
   "execution_count": 70,
   "metadata": {},
   "outputs": [],
   "source": [
    "pyLDAvis.save_html(p, \"lda_en.html\")"
   ]
  },
  {
   "attachments": {},
   "cell_type": "markdown",
   "metadata": {},
   "source": [
    "## 5. 主題分佈的應用，搭配其他文章資訊"
   ]
  },
  {
   "cell_type": "code",
   "execution_count": 71,
   "metadata": {},
   "outputs": [],
   "source": [
    "# 取得每章的主題分佈\n",
    "topics_doc = model.get_document_topics(corpus)"
   ]
  },
  {
   "cell_type": "code",
   "execution_count": 83,
   "metadata": {},
   "outputs": [
    {
     "data": {
      "text/html": [
       "<div>\n",
       "<style scoped>\n",
       "    .dataframe tbody tr th:only-of-type {\n",
       "        vertical-align: middle;\n",
       "    }\n",
       "\n",
       "    .dataframe tbody tr th {\n",
       "        vertical-align: top;\n",
       "    }\n",
       "\n",
       "    .dataframe thead th {\n",
       "        text-align: right;\n",
       "    }\n",
       "</style>\n",
       "<table border=\"1\" class=\"dataframe\">\n",
       "  <thead>\n",
       "    <tr style=\"text-align: right;\">\n",
       "      <th></th>\n",
       "      <th>topic_1</th>\n",
       "      <th>topic_2</th>\n",
       "      <th>topic_3</th>\n",
       "      <th>topic_4</th>\n",
       "    </tr>\n",
       "  </thead>\n",
       "  <tbody>\n",
       "    <tr>\n",
       "      <th>0</th>\n",
       "      <td>0.0</td>\n",
       "      <td>0.000000</td>\n",
       "      <td>0.000000</td>\n",
       "      <td>0.997867</td>\n",
       "    </tr>\n",
       "    <tr>\n",
       "      <th>1</th>\n",
       "      <td>0.0</td>\n",
       "      <td>0.000000</td>\n",
       "      <td>0.997685</td>\n",
       "      <td>0.000000</td>\n",
       "    </tr>\n",
       "    <tr>\n",
       "      <th>2</th>\n",
       "      <td>0.0</td>\n",
       "      <td>0.999028</td>\n",
       "      <td>0.000000</td>\n",
       "      <td>0.000000</td>\n",
       "    </tr>\n",
       "    <tr>\n",
       "      <th>3</th>\n",
       "      <td>0.0</td>\n",
       "      <td>0.000000</td>\n",
       "      <td>0.000000</td>\n",
       "      <td>0.997926</td>\n",
       "    </tr>\n",
       "    <tr>\n",
       "      <th>4</th>\n",
       "      <td>0.0</td>\n",
       "      <td>0.000000</td>\n",
       "      <td>0.000000</td>\n",
       "      <td>0.998237</td>\n",
       "    </tr>\n",
       "    <tr>\n",
       "      <th>...</th>\n",
       "      <td>...</td>\n",
       "      <td>...</td>\n",
       "      <td>...</td>\n",
       "      <td>...</td>\n",
       "    </tr>\n",
       "    <tr>\n",
       "      <th>56</th>\n",
       "      <td>0.0</td>\n",
       "      <td>0.000000</td>\n",
       "      <td>0.297625</td>\n",
       "      <td>0.701675</td>\n",
       "    </tr>\n",
       "    <tr>\n",
       "      <th>57</th>\n",
       "      <td>0.0</td>\n",
       "      <td>0.000000</td>\n",
       "      <td>0.999240</td>\n",
       "      <td>0.000000</td>\n",
       "    </tr>\n",
       "    <tr>\n",
       "      <th>58</th>\n",
       "      <td>0.0</td>\n",
       "      <td>0.000000</td>\n",
       "      <td>0.341968</td>\n",
       "      <td>0.657556</td>\n",
       "    </tr>\n",
       "    <tr>\n",
       "      <th>59</th>\n",
       "      <td>0.0</td>\n",
       "      <td>0.000000</td>\n",
       "      <td>0.998882</td>\n",
       "      <td>0.000000</td>\n",
       "    </tr>\n",
       "    <tr>\n",
       "      <th>60</th>\n",
       "      <td>0.0</td>\n",
       "      <td>0.000000</td>\n",
       "      <td>0.998653</td>\n",
       "      <td>0.000000</td>\n",
       "    </tr>\n",
       "  </tbody>\n",
       "</table>\n",
       "<p>61 rows × 4 columns</p>\n",
       "</div>"
      ],
      "text/plain": [
       "    topic_1   topic_2   topic_3   topic_4\n",
       "0       0.0  0.000000  0.000000  0.997867\n",
       "1       0.0  0.000000  0.997685  0.000000\n",
       "2       0.0  0.999028  0.000000  0.000000\n",
       "3       0.0  0.000000  0.000000  0.997926\n",
       "4       0.0  0.000000  0.000000  0.998237\n",
       "..      ...       ...       ...       ...\n",
       "56      0.0  0.000000  0.297625  0.701675\n",
       "57      0.0  0.000000  0.999240  0.000000\n",
       "58      0.0  0.000000  0.341968  0.657556\n",
       "59      0.0  0.000000  0.998882  0.000000\n",
       "60      0.0  0.000000  0.998653  0.000000\n",
       "\n",
       "[61 rows x 4 columns]"
      ]
     },
     "execution_count": 83,
     "metadata": {},
     "output_type": "execute_result"
    }
   ],
   "source": [
    "m_theta = corpus2csc(topics_doc).T.toarray()\n",
    "theta = pd.DataFrame(m_theta, columns=[f\"topic_{i+1}\" for i in range(m_theta.shape[1])])\n",
    "theta"
   ]
  },
  {
   "cell_type": "code",
   "execution_count": 84,
   "metadata": {},
   "outputs": [
    {
     "data": {
      "text/plain": [
       "<AxesSubplot:>"
      ]
     },
     "execution_count": 84,
     "metadata": {},
     "output_type": "execute_result"
    },
    {
     "data": {
      "image/png": "[encoded data removed]",
      "text/plain": [
       "<Figure size 1500x600 with 1 Axes>"
      ]
     },
     "metadata": {},
     "output_type": "display_data"
    }
   ],
   "source": [
    "fig, ax = plt.subplots(figsize=(15, 6))\n",
    "theta.plot.bar(ax=ax, stacked=True, color = plt.cm.Set3.colors)"
   ]
  }
 ],
 "metadata": {
  "kernelspec": {
   "display_name": "py37",
   "language": "python",
   "name": "python3"
  },
  "language_info": {
   "codemirror_mode": {
    "name": "ipython",
    "version": 3
   },
   "file_extension": ".py",
   "mimetype": "text/x-python",
   "name": "python",
   "nbconvert_exporter": "python",
   "pygments_lexer": "ipython3",
   "version": "3.8.19"
  },
  "orig_nbformat": 4
 },
 "nbformat": 4,
 "nbformat_minor": 2
}
