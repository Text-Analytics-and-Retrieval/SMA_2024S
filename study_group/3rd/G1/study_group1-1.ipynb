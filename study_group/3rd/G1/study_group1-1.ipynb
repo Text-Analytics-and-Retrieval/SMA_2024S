{
  "cells": [
    {
      "cell_type": "markdown",
      "metadata": {
        "id": "_u8dR3Qg2H9H"
      },
      "source": [
        "## 第十週：主題模型（中文）\n",
        "Last modified: 讀書會第一組W10（2024/05/6） <br>\n",
        "\n",
        "本週課程為 **主題模型** ，學習如何將文本進行主題模型分析。<br>\n",
        "文件主題模型採用非監督式學習的方式，不事先人為做標籤與註解，訓練的資料是從資料文本得來，讓我們可以規模化給予大量文本，而訓練出主題模型，其中最為知名為LDA模型，也是本次課程主要的教學目標，本 jupyter notebook 是以中文文本為示範。<br>\n",
        "<br>\n",
        "這次課程分為7個部分：\n",
        "1. 介紹使用到的套件\n",
        "2. 將資料進行前處理\n",
        "3. lexicon-based 的主題模型\n",
        "4. LDA 主題模型\n",
        "5. 視覺化主題模型\n",
        "6. GuidedLDA\n",
        "7. 主題模型的應用"
      ]
    },
    {
      "cell_type": "markdown",
      "metadata": {
        "id": "cv0x7Iqi2H9I"
      },
      "source": [
        "## 1. 套件說明\n",
        "本次實作過程中使用到的相關套件，在課堂中我們將會簡單的展示這些套件的使用方式，關於各個套件的進階使用請同學參照其官網的說明。\n",
        "+ gensim: 主題模型函式庫\n",
        "+ pyLDAvis: 互動式LDA視覺化套件"
      ]
    },
    {
      "cell_type": "code",
      "source": [
        "!pip install pyLDAvis"
      ],
      "metadata": {
        "colab": {
          "base_uri": "https://localhost:8080/"
        },
        "id": "UbXiJ-he23BM",
        "outputId": "79418cda-194a-4db5-dc7a-183187889294"
      },
      "execution_count": null,
      "outputs": [
        {
          "output_type": "stream",
          "name": "stdout",
          "text": [
            "Collecting pyLDAvis\n",
            "  Downloading pyLDAvis-3.4.1-py3-none-any.whl (2.6 MB)\n",
            "\u001b[2K     \u001b[90m━━━━━━━━━━━━━━━━━━━━━━━━━━━━━━━━━━━━━━━━\u001b[0m \u001b[32m2.6/2.6 MB\u001b[0m \u001b[31m15.5 MB/s\u001b[0m eta \u001b[36m0:00:00\u001b[0m\n",
            "\u001b[?25hRequirement already satisfied: numpy>=1.24.2 in /usr/local/lib/python3.10/dist-packages (from pyLDAvis) (1.25.2)\n",
            "Requirement already satisfied: scipy in /usr/local/lib/python3.10/dist-packages (from pyLDAvis) (1.11.4)\n",
            "Requirement already satisfied: pandas>=2.0.0 in /usr/local/lib/python3.10/dist-packages (from pyLDAvis) (2.0.3)\n",
            "Requirement already satisfied: joblib>=1.2.0 in /usr/local/lib/python3.10/dist-packages (from pyLDAvis) (1.4.0)\n",
            "Requirement already satisfied: jinja2 in /usr/local/lib/python3.10/dist-packages (from pyLDAvis) (3.1.3)\n",
            "Requirement already satisfied: numexpr in /usr/local/lib/python3.10/dist-packages (from pyLDAvis) (2.10.0)\n",
            "Collecting funcy (from pyLDAvis)\n",
            "  Downloading funcy-2.0-py2.py3-none-any.whl (30 kB)\n",
            "Requirement already satisfied: scikit-learn>=1.0.0 in /usr/local/lib/python3.10/dist-packages (from pyLDAvis) (1.2.2)\n",
            "Requirement already satisfied: gensim in /usr/local/lib/python3.10/dist-packages (from pyLDAvis) (4.3.2)\n",
            "Requirement already satisfied: setuptools in /usr/local/lib/python3.10/dist-packages (from pyLDAvis) (67.7.2)\n",
            "Requirement already satisfied: python-dateutil>=2.8.2 in /usr/local/lib/python3.10/dist-packages (from pandas>=2.0.0->pyLDAvis) (2.8.2)\n",
            "Requirement already satisfied: pytz>=2020.1 in /usr/local/lib/python3.10/dist-packages (from pandas>=2.0.0->pyLDAvis) (2023.4)\n",
            "Requirement already satisfied: tzdata>=2022.1 in /usr/local/lib/python3.10/dist-packages (from pandas>=2.0.0->pyLDAvis) (2024.1)\n",
            "Requirement already satisfied: threadpoolctl>=2.0.0 in /usr/local/lib/python3.10/dist-packages (from scikit-learn>=1.0.0->pyLDAvis) (3.5.0)\n",
            "Requirement already satisfied: smart-open>=1.8.1 in /usr/local/lib/python3.10/dist-packages (from gensim->pyLDAvis) (6.4.0)\n",
            "Requirement already satisfied: MarkupSafe>=2.0 in /usr/local/lib/python3.10/dist-packages (from jinja2->pyLDAvis) (2.1.5)\n",
            "Requirement already satisfied: six>=1.5 in /usr/local/lib/python3.10/dist-packages (from python-dateutil>=2.8.2->pandas>=2.0.0->pyLDAvis) (1.16.0)\n",
            "Installing collected packages: funcy, pyLDAvis\n",
            "Successfully installed funcy-2.0 pyLDAvis-3.4.1\n"
          ]
        }
      ]
    },
    {
      "cell_type": "code",
      "execution_count": null,
      "metadata": {
        "id": "4OKgOKfn2H9J"
      },
      "outputs": [],
      "source": [
        "import time\n",
        "from functools import reduce\n",
        "from collections import Counter\n",
        "from pprint import pprint\n",
        "\n",
        "import numpy as np\n",
        "import pandas as pd\n",
        "import matplotlib.pyplot as plt\n",
        "import jieba\n",
        "from sklearn.feature_extraction.text import TfidfVectorizer, CountVectorizer\n",
        "from gensim.corpora import Dictionary\n",
        "from gensim.models import LdaModel, CoherenceModel\n",
        "from gensim.models.ldamulticore import LdaMulticore\n",
        "from gensim.matutils import corpus2csc, corpus2dense, Sparse2Corpus\n",
        "\n",
        "import pyLDAvis\n",
        "import pyLDAvis.gensim_models"
      ]
    },
    {
      "cell_type": "code",
      "execution_count": null,
      "metadata": {
        "colab": {
          "base_uri": "https://localhost:8080/"
        },
        "id": "7ICKar362H9J",
        "outputId": "5aabfaa3-e4bb-4a8a-8383-78758346b3f6"
      },
      "outputs": [
        {
          "output_type": "stream",
          "name": "stderr",
          "text": [
            "/usr/local/lib/python3.10/dist-packages/ipykernel/ipkernel.py:283: DeprecationWarning: `should_run_async` will not call `transform_cell` automatically in the future. Please pass the result to `transformed_cell` argument and any exception that happen during thetransform in `preprocessing_exc_tuple` in IPython 7.17 and above.\n",
            "  and should_run_async(code)\n"
          ]
        }
      ],
      "source": [
        "import logging\n",
        "logging.basicConfig(format='%(asctime)s : %(levelname)s : %(message)s', level=logging.INFO)"
      ]
    },
    {
      "cell_type": "code",
      "execution_count": null,
      "metadata": {
        "colab": {
          "base_uri": "https://localhost:8080/"
        },
        "id": "9G685-Jj2H9J",
        "outputId": "16f31b45-e133-42a4-eca4-8036ad009a7e"
      },
      "outputs": [
        {
          "output_type": "stream",
          "name": "stderr",
          "text": [
            "/usr/local/lib/python3.10/dist-packages/ipykernel/ipkernel.py:283: DeprecationWarning: `should_run_async` will not call `transform_cell` automatically in the future. Please pass the result to `transformed_cell` argument and any exception that happen during thetransform in `preprocessing_exc_tuple` in IPython 7.17 and above.\n",
            "  and should_run_async(code)\n"
          ]
        }
      ],
      "source": [
        "# 設定中文字體\n",
        "plt.rcParams['font.sans-serif']=['Microsoft JhengHei']\n",
        "plt.rcParams['font.sans-serif']=['SimHei']\n",
        "plt.rcParams['axes.unicode_minus']=False"
      ]
    },
    {
      "cell_type": "markdown",
      "metadata": {
        "id": "pc169o-Z2H9K"
      },
      "source": [
        "## 2. 資料前處理"
      ]
    },
    {
      "cell_type": "code",
      "execution_count": 119,
      "metadata": {
        "colab": {
          "base_uri": "https://localhost:8080/",
          "height": 337
        },
        "id": "_NFNl2Ie2H9K",
        "outputId": "e0498ec9-bc79-472b-99d5-45e47d536033"
      },
      "outputs": [
        {
          "output_type": "stream",
          "name": "stderr",
          "text": [
            "/usr/local/lib/python3.10/dist-packages/ipykernel/ipkernel.py:283: DeprecationWarning: `should_run_async` will not call `transform_cell` automatically in the future. Please pass the result to `transformed_cell` argument and any exception that happen during thetransform in `preprocessing_exc_tuple` in IPython 7.17 and above.\n",
            "  and should_run_async(code)\n"
          ]
        },
        {
          "output_type": "execute_result",
          "data": {
            "text/plain": [
              "   system_id                                             artUrl  \\\n",
              "0          1  https://www.ptt.cc/bbs/home-sale/M.1709223923....   \n",
              "1          2  https://www.ptt.cc/bbs/home-sale/M.1709232819....   \n",
              "2          3  https://www.ptt.cc/bbs/home-sale/M.1709249161....   \n",
              "\n",
              "                   artTitle              artDate  artPoster artCatagory  \\\n",
              "0                [請益]兩房物件請益  2024-03-01 00:25:19  a96932000   home_sale   \n",
              "1  [請益]冠德安沐居要每坪200萬，冠德大直綻每坪  2024-03-01 02:53:37    gigaman   home_sale   \n",
              "2    [新聞]台灣金聯：土地未運用有原因駁斥養地炒  2024-03-01 07:25:58   jump0517   home_sale   \n",
              "\n",
              "                                          artContent  \\\n",
              "0  不好意思又來叨擾房版了\\n\\n目前有看到高雄兩個物件,感覺各有勝負,想詢問看看版上的意見\\n...   \n",
              "1  請問各位先進，冠德安沐居要每坪200萬，冠德大直綻每坪160萬，雖然都在捷運出口，但\\n也比...   \n",
              "2  連結：\\nhttps://money.udn.com/money/story/5621/78...   \n",
              "\n",
              "                                          artComment             e_ip  \\\n",
              "0  [{\"cmtStatus\": \"推\", \"cmtPoster\": \"themlb09\", \"...  220.143.164.133   \n",
              "1  [{\"cmtStatus\": \"推\", \"cmtPoster\": \"luckysmallsu...    42.70.108.144   \n",
              "2  [{\"cmtStatus\": \"推\", \"cmtPoster\": \"fatpigbgman\"...     1.168.65.178   \n",
              "\n",
              "          insertedDate dataSource  \n",
              "0  2024-03-01 01:46:26        ptt  \n",
              "1  2024-03-02 01:42:37        ptt  \n",
              "2  2024-03-02 01:42:37        ptt  "
            ],
            "text/html": [
              "\n",
              "  <div id=\"df-3f21bc09-eea2-4d36-a221-ed8edff77b65\" class=\"colab-df-container\">\n",
              "    <div>\n",
              "<style scoped>\n",
              "    .dataframe tbody tr th:only-of-type {\n",
              "        vertical-align: middle;\n",
              "    }\n",
              "\n",
              "    .dataframe tbody tr th {\n",
              "        vertical-align: top;\n",
              "    }\n",
              "\n",
              "    .dataframe thead th {\n",
              "        text-align: right;\n",
              "    }\n",
              "</style>\n",
              "<table border=\"1\" class=\"dataframe\">\n",
              "  <thead>\n",
              "    <tr style=\"text-align: right;\">\n",
              "      <th></th>\n",
              "      <th>system_id</th>\n",
              "      <th>artUrl</th>\n",
              "      <th>artTitle</th>\n",
              "      <th>artDate</th>\n",
              "      <th>artPoster</th>\n",
              "      <th>artCatagory</th>\n",
              "      <th>artContent</th>\n",
              "      <th>artComment</th>\n",
              "      <th>e_ip</th>\n",
              "      <th>insertedDate</th>\n",
              "      <th>dataSource</th>\n",
              "    </tr>\n",
              "  </thead>\n",
              "  <tbody>\n",
              "    <tr>\n",
              "      <th>0</th>\n",
              "      <td>1</td>\n",
              "      <td>https://www.ptt.cc/bbs/home-sale/M.1709223923....</td>\n",
              "      <td>[請益]兩房物件請益</td>\n",
              "      <td>2024-03-01 00:25:19</td>\n",
              "      <td>a96932000</td>\n",
              "      <td>home_sale</td>\n",
              "      <td>不好意思又來叨擾房版了\\n\\n目前有看到高雄兩個物件,感覺各有勝負,想詢問看看版上的意見\\n...</td>\n",
              "      <td>[{\"cmtStatus\": \"推\", \"cmtPoster\": \"themlb09\", \"...</td>\n",
              "      <td>220.143.164.133</td>\n",
              "      <td>2024-03-01 01:46:26</td>\n",
              "      <td>ptt</td>\n",
              "    </tr>\n",
              "    <tr>\n",
              "      <th>1</th>\n",
              "      <td>2</td>\n",
              "      <td>https://www.ptt.cc/bbs/home-sale/M.1709232819....</td>\n",
              "      <td>[請益]冠德安沐居要每坪200萬，冠德大直綻每坪</td>\n",
              "      <td>2024-03-01 02:53:37</td>\n",
              "      <td>gigaman</td>\n",
              "      <td>home_sale</td>\n",
              "      <td>請問各位先進，冠德安沐居要每坪200萬，冠德大直綻每坪160萬，雖然都在捷運出口，但\\n也比...</td>\n",
              "      <td>[{\"cmtStatus\": \"推\", \"cmtPoster\": \"luckysmallsu...</td>\n",
              "      <td>42.70.108.144</td>\n",
              "      <td>2024-03-02 01:42:37</td>\n",
              "      <td>ptt</td>\n",
              "    </tr>\n",
              "    <tr>\n",
              "      <th>2</th>\n",
              "      <td>3</td>\n",
              "      <td>https://www.ptt.cc/bbs/home-sale/M.1709249161....</td>\n",
              "      <td>[新聞]台灣金聯：土地未運用有原因駁斥養地炒</td>\n",
              "      <td>2024-03-01 07:25:58</td>\n",
              "      <td>jump0517</td>\n",
              "      <td>home_sale</td>\n",
              "      <td>連結：\\nhttps://money.udn.com/money/story/5621/78...</td>\n",
              "      <td>[{\"cmtStatus\": \"推\", \"cmtPoster\": \"fatpigbgman\"...</td>\n",
              "      <td>1.168.65.178</td>\n",
              "      <td>2024-03-02 01:42:37</td>\n",
              "      <td>ptt</td>\n",
              "    </tr>\n",
              "  </tbody>\n",
              "</table>\n",
              "</div>\n",
              "    <div class=\"colab-df-buttons\">\n",
              "\n",
              "  <div class=\"colab-df-container\">\n",
              "    <button class=\"colab-df-convert\" onclick=\"convertToInteractive('df-3f21bc09-eea2-4d36-a221-ed8edff77b65')\"\n",
              "            title=\"Convert this dataframe to an interactive table.\"\n",
              "            style=\"display:none;\">\n",
              "\n",
              "  <svg xmlns=\"http://www.w3.org/2000/svg\" height=\"24px\" viewBox=\"0 -960 960 960\">\n",
              "    <path d=\"M120-120v-720h720v720H120Zm60-500h600v-160H180v160Zm220 220h160v-160H400v160Zm0 220h160v-160H400v160ZM180-400h160v-160H180v160Zm440 0h160v-160H620v160ZM180-180h160v-160H180v160Zm440 0h160v-160H620v160Z\"/>\n",
              "  </svg>\n",
              "    </button>\n",
              "\n",
              "  <style>\n",
              "    .colab-df-container {\n",
              "      display:flex;\n",
              "      gap: 12px;\n",
              "    }\n",
              "\n",
              "    .colab-df-convert {\n",
              "      background-color: #E8F0FE;\n",
              "      border: none;\n",
              "      border-radius: 50%;\n",
              "      cursor: pointer;\n",
              "      display: none;\n",
              "      fill: #1967D2;\n",
              "      height: 32px;\n",
              "      padding: 0 0 0 0;\n",
              "      width: 32px;\n",
              "    }\n",
              "\n",
              "    .colab-df-convert:hover {\n",
              "      background-color: #E2EBFA;\n",
              "      box-shadow: 0px 1px 2px rgba(60, 64, 67, 0.3), 0px 1px 3px 1px rgba(60, 64, 67, 0.15);\n",
              "      fill: #174EA6;\n",
              "    }\n",
              "\n",
              "    .colab-df-buttons div {\n",
              "      margin-bottom: 4px;\n",
              "    }\n",
              "\n",
              "    [theme=dark] .colab-df-convert {\n",
              "      background-color: #3B4455;\n",
              "      fill: #D2E3FC;\n",
              "    }\n",
              "\n",
              "    [theme=dark] .colab-df-convert:hover {\n",
              "      background-color: #434B5C;\n",
              "      box-shadow: 0px 1px 3px 1px rgba(0, 0, 0, 0.15);\n",
              "      filter: drop-shadow(0px 1px 2px rgba(0, 0, 0, 0.3));\n",
              "      fill: #FFFFFF;\n",
              "    }\n",
              "  </style>\n",
              "\n",
              "    <script>\n",
              "      const buttonEl =\n",
              "        document.querySelector('#df-3f21bc09-eea2-4d36-a221-ed8edff77b65 button.colab-df-convert');\n",
              "      buttonEl.style.display =\n",
              "        google.colab.kernel.accessAllowed ? 'block' : 'none';\n",
              "\n",
              "      async function convertToInteractive(key) {\n",
              "        const element = document.querySelector('#df-3f21bc09-eea2-4d36-a221-ed8edff77b65');\n",
              "        const dataTable =\n",
              "          await google.colab.kernel.invokeFunction('convertToInteractive',\n",
              "                                                    [key], {});\n",
              "        if (!dataTable) return;\n",
              "\n",
              "        const docLinkHtml = 'Like what you see? Visit the ' +\n",
              "          '<a target=\"_blank\" href=https://colab.research.google.com/notebooks/data_table.ipynb>data table notebook</a>'\n",
              "          + ' to learn more about interactive tables.';\n",
              "        element.innerHTML = '';\n",
              "        dataTable['output_type'] = 'display_data';\n",
              "        await google.colab.output.renderOutput(dataTable, element);\n",
              "        const docLink = document.createElement('div');\n",
              "        docLink.innerHTML = docLinkHtml;\n",
              "        element.appendChild(docLink);\n",
              "      }\n",
              "    </script>\n",
              "  </div>\n",
              "\n",
              "\n",
              "<div id=\"df-5927e48a-4580-4fb4-b682-4d2b45e260f8\">\n",
              "  <button class=\"colab-df-quickchart\" onclick=\"quickchart('df-5927e48a-4580-4fb4-b682-4d2b45e260f8')\"\n",
              "            title=\"Suggest charts\"\n",
              "            style=\"display:none;\">\n",
              "\n",
              "<svg xmlns=\"http://www.w3.org/2000/svg\" height=\"24px\"viewBox=\"0 0 24 24\"\n",
              "     width=\"24px\">\n",
              "    <g>\n",
              "        <path d=\"M19 3H5c-1.1 0-2 .9-2 2v14c0 1.1.9 2 2 2h14c1.1 0 2-.9 2-2V5c0-1.1-.9-2-2-2zM9 17H7v-7h2v7zm4 0h-2V7h2v10zm4 0h-2v-4h2v4z\"/>\n",
              "    </g>\n",
              "</svg>\n",
              "  </button>\n",
              "\n",
              "<style>\n",
              "  .colab-df-quickchart {\n",
              "      --bg-color: #E8F0FE;\n",
              "      --fill-color: #1967D2;\n",
              "      --hover-bg-color: #E2EBFA;\n",
              "      --hover-fill-color: #174EA6;\n",
              "      --disabled-fill-color: #AAA;\n",
              "      --disabled-bg-color: #DDD;\n",
              "  }\n",
              "\n",
              "  [theme=dark] .colab-df-quickchart {\n",
              "      --bg-color: #3B4455;\n",
              "      --fill-color: #D2E3FC;\n",
              "      --hover-bg-color: #434B5C;\n",
              "      --hover-fill-color: #FFFFFF;\n",
              "      --disabled-bg-color: #3B4455;\n",
              "      --disabled-fill-color: #666;\n",
              "  }\n",
              "\n",
              "  .colab-df-quickchart {\n",
              "    background-color: var(--bg-color);\n",
              "    border: none;\n",
              "    border-radius: 50%;\n",
              "    cursor: pointer;\n",
              "    display: none;\n",
              "    fill: var(--fill-color);\n",
              "    height: 32px;\n",
              "    padding: 0;\n",
              "    width: 32px;\n",
              "  }\n",
              "\n",
              "  .colab-df-quickchart:hover {\n",
              "    background-color: var(--hover-bg-color);\n",
              "    box-shadow: 0 1px 2px rgba(60, 64, 67, 0.3), 0 1px 3px 1px rgba(60, 64, 67, 0.15);\n",
              "    fill: var(--button-hover-fill-color);\n",
              "  }\n",
              "\n",
              "  .colab-df-quickchart-complete:disabled,\n",
              "  .colab-df-quickchart-complete:disabled:hover {\n",
              "    background-color: var(--disabled-bg-color);\n",
              "    fill: var(--disabled-fill-color);\n",
              "    box-shadow: none;\n",
              "  }\n",
              "\n",
              "  .colab-df-spinner {\n",
              "    border: 2px solid var(--fill-color);\n",
              "    border-color: transparent;\n",
              "    border-bottom-color: var(--fill-color);\n",
              "    animation:\n",
              "      spin 1s steps(1) infinite;\n",
              "  }\n",
              "\n",
              "  @keyframes spin {\n",
              "    0% {\n",
              "      border-color: transparent;\n",
              "      border-bottom-color: var(--fill-color);\n",
              "      border-left-color: var(--fill-color);\n",
              "    }\n",
              "    20% {\n",
              "      border-color: transparent;\n",
              "      border-left-color: var(--fill-color);\n",
              "      border-top-color: var(--fill-color);\n",
              "    }\n",
              "    30% {\n",
              "      border-color: transparent;\n",
              "      border-left-color: var(--fill-color);\n",
              "      border-top-color: var(--fill-color);\n",
              "      border-right-color: var(--fill-color);\n",
              "    }\n",
              "    40% {\n",
              "      border-color: transparent;\n",
              "      border-right-color: var(--fill-color);\n",
              "      border-top-color: var(--fill-color);\n",
              "    }\n",
              "    60% {\n",
              "      border-color: transparent;\n",
              "      border-right-color: var(--fill-color);\n",
              "    }\n",
              "    80% {\n",
              "      border-color: transparent;\n",
              "      border-right-color: var(--fill-color);\n",
              "      border-bottom-color: var(--fill-color);\n",
              "    }\n",
              "    90% {\n",
              "      border-color: transparent;\n",
              "      border-bottom-color: var(--fill-color);\n",
              "    }\n",
              "  }\n",
              "</style>\n",
              "\n",
              "  <script>\n",
              "    async function quickchart(key) {\n",
              "      const quickchartButtonEl =\n",
              "        document.querySelector('#' + key + ' button');\n",
              "      quickchartButtonEl.disabled = true;  // To prevent multiple clicks.\n",
              "      quickchartButtonEl.classList.add('colab-df-spinner');\n",
              "      try {\n",
              "        const charts = await google.colab.kernel.invokeFunction(\n",
              "            'suggestCharts', [key], {});\n",
              "      } catch (error) {\n",
              "        console.error('Error during call to suggestCharts:', error);\n",
              "      }\n",
              "      quickchartButtonEl.classList.remove('colab-df-spinner');\n",
              "      quickchartButtonEl.classList.add('colab-df-quickchart-complete');\n",
              "    }\n",
              "    (() => {\n",
              "      let quickchartButtonEl =\n",
              "        document.querySelector('#df-5927e48a-4580-4fb4-b682-4d2b45e260f8 button');\n",
              "      quickchartButtonEl.style.display =\n",
              "        google.colab.kernel.accessAllowed ? 'block' : 'none';\n",
              "    })();\n",
              "  </script>\n",
              "</div>\n",
              "\n",
              "    </div>\n",
              "  </div>\n"
            ],
            "application/vnd.google.colaboratory.intrinsic+json": {
              "type": "dataframe",
              "variable_name": "udn",
              "summary": "{\n  \"name\": \"udn\",\n  \"rows\": 5102,\n  \"fields\": [\n    {\n      \"column\": \"system_id\",\n      \"properties\": {\n        \"dtype\": \"number\",\n        \"std\": 1472,\n        \"min\": 1,\n        \"max\": 5102,\n        \"num_unique_values\": 5102,\n        \"samples\": [\n          4523,\n          587,\n          554\n        ],\n        \"semantic_type\": \"\",\n        \"description\": \"\"\n      }\n    },\n    {\n      \"column\": \"artUrl\",\n      \"properties\": {\n        \"dtype\": \"string\",\n        \"num_unique_values\": 5102,\n        \"samples\": [\n          \"https://www.ptt.cc/bbs/Stock/M.1711225541.A.28C.html\",\n          \"https://www.ptt.cc/bbs/home-sale/M.1710168723.A.4D8.html\",\n          \"https://www.ptt.cc/bbs/home-sale/M.1710140869.A.331.html\"\n        ],\n        \"semantic_type\": \"\",\n        \"description\": \"\"\n      }\n    },\n    {\n      \"column\": \"artTitle\",\n      \"properties\": {\n        \"dtype\": \"string\",\n        \"num_unique_values\": 4438,\n        \"samples\": [\n          \"[\\u60c5\\u5831]0307\\u4e0a\\u5e02\\u6295\\u4fe1\\u8cb7\\u8ce3\\u8d85\\u6392\\u884c\",\n          \"[\\u65b0\\u805e]\\u4e2d\\u4fe1\\u96c6\\u5718\\u6559\\u80b2\\u4e8b\\u696d\\u7248\\u5716\\u5f9e\\u5e7c\\u5152\\u5712\\u6a6b\\u8de8\\u5230\\u5927\\u5b78\\u6339\\u6ce81\\u5104\\u5143\\u9060\\u6771\\u79d1\",\n          \"[\\u9592\\u804a]2024/03/08\\u76e4\\u5f8c\\u9592\\u804a\"\n        ],\n        \"semantic_type\": \"\",\n        \"description\": \"\"\n      }\n    },\n    {\n      \"column\": \"artDate\",\n      \"properties\": {\n        \"dtype\": \"object\",\n        \"num_unique_values\": 5094,\n        \"samples\": [\n          \"2024-03-18 19:06:59\",\n          \"2024-03-12 17:28:39\",\n          \"2024-03-16 15:40:07\"\n        ],\n        \"semantic_type\": \"\",\n        \"description\": \"\"\n      }\n    },\n    {\n      \"column\": \"artPoster\",\n      \"properties\": {\n        \"dtype\": \"category\",\n        \"num_unique_values\": 2050,\n        \"samples\": [\n          \"sixkeeper\",\n          \"Vaporfly\",\n          \"jeffers123\"\n        ],\n        \"semantic_type\": \"\",\n        \"description\": \"\"\n      }\n    },\n    {\n      \"column\": \"artCatagory\",\n      \"properties\": {\n        \"dtype\": \"category\",\n        \"num_unique_values\": 3,\n        \"samples\": [\n          \"home_sale\",\n          \"Lifeismoney\",\n          \"Stock\"\n        ],\n        \"semantic_type\": \"\",\n        \"description\": \"\"\n      }\n    },\n    {\n      \"column\": \"artContent\",\n      \"properties\": {\n        \"dtype\": \"string\",\n        \"num_unique_values\": 5073,\n        \"samples\": [\n          \"\\u81ea\\u5df1\\u7684\\u6587\\u7ae0 , \\u81ea\\u5df1\\u56de\\u9867\\n\\n\\u53bb\\u5e74\\u570b\\u969b ZACK \\u5728\\u983b\\u9053\\u4e0a\\u5927\\u81bd\\u9810\\u6e2c , \\u4eca\\u5e74\\u7684 329\\u6a94\\u671f\\u5c31\\u662f\\u8cb7\\u9ede\\n\\n\\u7d50\\u679c\\n\\n[\\u65b0\\u805e] \\u623f\\u5e02329\\u6a94\\u671f\\u63a8\\u6848\\u91cf\\u5275\\u65b0\\u9ad8 \\u5e74\\u589e\\u7387\\u8fd16\\u6210\\u90543140\\u5104\\u5143\\n\\n\\u570b\\u969b\\u8cca\\u514b\\u6562\\u4f86\\u56de\\u8986\\u81ea\\u5df1\\u7684\\u8ad6\\u9ede\\u55ce??\\n\\n\\n\\u53bb\\u5e745\\u6708\\u5ba3\\u7a31 , \\u8cb7\\u623f\\u53ef\\u4ee5\\u7b49\\u5230 929 \\u6a94\\u671f\\n\\n\\u7d50\\u679c\\u5e74\\u5e95\\u5230\\u4e86 , \\u53c8\\u6539\\u53e3\\u7a31\\u7b49\\u5230\\u4eca\\u5e74\\u7684 329\\u6a94\\u671f\\n\\n\\u7121\\u9650\\u518d\\u7b49\\u7b49  ,   \\u7b11\\u6b7b  , \\u5fcd\\u75db\\u8cb7\\u8cb4\\u5594\\n\\u25e2\\u2588\\u2588\\u2588\\u25e3\\n\\u2583\\u2584\\u2585\\u2586      \\u25e5\\u25e3       \\u2586\\u2585\\u2585\\u2584\\u2585    \\u25e2    \\u258b     \\u25e5\\u25e3\\n\\u25e2\\u2588\\u2588\\u2588\\n\\u25e3\\n\\u25e3\\u25e3\\u25e3\\n\\u258a        \\u2585\\u2587\\u2588\\u2585\\u2584      \\u2588        \\u2588\\u2585\\u258b\\u258a\\u2582 \\u2588\\u2587\\u2588\\u2588\\u2587\\n\\u2588\\u258d\\u2588\\u2588\\u2588\\n\\u2584\\n\\u2584\\n\\u2583\\u2588\\u2585\\u2586         \\u2585        \\u258a \\u2588      \\u2583\\u2584  \\u2588\\u2581   \\u2588\\n\\u2588\\u258b \\u2588\\n\\u25e3\\n\\ufe3d\\n\\u25e4\\n\\u258c  \\u2589     \\u2588   \\u2588     \\u2588    \\u2589 \\u258c  \\u258a\\u2581\\u258c\\u2585\\u2582   \\u2589\\n\\u2588\\n\\u2588\\n\\u2588\\n\\u25e3\\n\\u2588\\u25e4\\n\\u2586\\u2585\\u2588\\u2588\\u2588\\u2585  \\u2588      \\u258b        \\u258a     \\u258b\\u2581 \\u258d\\u2588\\u2581    \\u2588\\u2586\\u2585\\u2584\",\n          \"\\u6a19\\u984c\\uff1a6785 \\u6631\\u5c55\\u65b0\\u85e5\\n\\n\\u4f86\\u6e90\\uff1a\\n\\u516c\\u958b\\u8cc7\\u8a0a\\u89c0\\u6e2c\\u7ad9\\n\\u5167\\u6587\\uff1a\\n\\n1.\\u63d0\\u5831\\u8463\\u4e8b\\u6703\\u6216\\u7d93\\u8463\\u4e8b\\u6703\\u6c7a\\u8b70\\u65e5\\u671f:113/03/05\\n2.\\u5be9\\u8a08\\u59d4\\u54e1\\u6703\\u901a\\u904e\\u65e5\\u671f:113/03/05\\n3.\\u8ca1\\u52d9\\u5831\\u544a\\u6216\\u5e74\\u5ea6\\u81ea\\u7d50\\u8ca1\\u52d9\\u8cc7\\u8a0a\\u5831\\u5c0e\\u671f\\u9593\\n\\u8d77\\u8a16\\u65e5\\u671f(XXX/XX/XX~XXX/XX/XX):112/01/01~112/12/31\\n4.1\\u67081\\u65e5\\u7d2f\\u8a08\\u81f3\\u672c\\u671f\\u6b62\\u71df\\u696d\\u6536\\u5165(\\u4edf\\u5143):469,272\\n5.1\\u67081\\u65e5\\u7d2f\\u8a08\\u81f3\\u672c\\u671f\\u6b62\\u71df\\u696d\\u6bdb\\u5229(\\u6bdb\\u640d) (\\u4edf\\u5143):469,272\\n6.1\\u67081\\u65e5\\u7d2f\\u8a08\\u81f3\\u672c\\u671f\\u6b62\\u71df\\u696d\\u5229\\u76ca(\\u640d\\u5931) (\\u4edf\\u5143):385,527\\n7.1\\u67081\\u65e5\\u7d2f\\u8a08\\u81f3\\u672c\\u671f\\u6b62\\u7a05\\u524d\\u6de8\\u5229(\\u6de8\\u640d) (\\u4edf\\u5143):391,106\\n8.1\\u67081\\u65e5\\u7d2f\\u8a08\\u81f3\\u672c\\u671f\\u6b62\\u672c\\u671f\\u6de8\\u5229(\\u6de8\\u640d) (\\u4edf\\u5143):382,616\\n9.1\\u67081\\u65e5\\u7d2f\\u8a08\\u81f3\\u672c\\u671f\\u6b62\\u6b78\\u5c6c\\u65bc\\u6bcd\\u516c\\u53f8\\u696d\\u4e3b\\u6de8\\u5229(\\u640d) (\\u4edf\\u5143):382,616\\n10.1\\u67081\\u65e5\\u7d2f\\u8a08\\u81f3\\u672c\\u671f\\u6b62\\u57fa\\u672c\\u6bcf\\u80a1\\u76c8\\u9918(\\u640d\\u5931) (\\u5143):\\n6.71\\n11.\\u671f\\u672b\\u7e3d\\u8cc7\\u7522(\\u4edf\\u5143):973,206\\n12.\\u671f\\u672b\\u7e3d\\u8ca0\\u50b5(\\u4edf\\u5143):76,089\\n13.\\u671f\\u672b\\u6b78\\u5c6c\\u65bc\\u6bcd\\u516c\\u53f8\\u696d\\u4e3b\\u4e4b\\u6b0a\\u76ca(\\u4edf\\u5143):897,117\\n14.\\u5176\\u4ed6\\u61c9\\u6558\\u660e\\u4e8b\\u9805:\\u7121\\n\\n\\n\\n1. \\u8463\\u4e8b\\u6703\\u64ec\\u8b70\\u65e5\\u671f\\uff1a113/03/05\\n2. \\u80a1\\u5229\\u6240\\u5c6c\\u5e74(\\u5b63)\\u5ea6\\uff1a112\\u5e74 \\u5e74\\u5ea6\\n3. \\u80a1\\u5229\\u6240\\u5c6c\\u671f\\u9593\\uff1a112/01/01 \\u81f3 112/12/31\\n4. \\u80a1\\u6771\\u914d\\u767c\\u5167\\u5bb9\\uff1a\\n\\u3000(1)\\u76c8\\u9918\\u5206\\u914d\\u4e4b\\u73fe\\u91d1\\u80a1\\u5229(\\u5143/\\u80a1)\\uff1a\\n1.50000000\\n(2)\\u6cd5\\u5b9a\\u76c8\\u9918\\u516c\\u7a4d\\u767c\\u653e\\u4e4b\\u73fe\\u91d1(\\u5143/\\u80a1)\\uff1a0\\n\\u3000(3)\\u8cc7\\u672c\\u516c\\u7a4d\\u767c\\u653e\\u4e4b\\u73fe\\u91d1(\\u5143/\\u80a1)\\uff1a0\\n\\u3000(4)\\u80a1\\u6771\\u914d\\u767c\\u4e4b\\u73fe\\u91d1(\\u80a1\\u5229)\\u7e3d\\u91d1\\u984d(\\u5143)\\uff1a100,200,000\\n\\u3000(5)\\u76c8\\u9918\\u8f49\\u589e\\u8cc7\\u914d\\u80a1(\\u5143/\\u80a1)\\uff1a0\\n\\u3000(6)\\u6cd5\\u5b9a\\u76c8\\u9918\\u516c\\u7a4d\\u8f49\\u589e\\u8cc7\\u914d\\u80a1(\\u5143/\\u80a1)\\uff1a0\\n\\u3000(7)\\u8cc7\\u672c\\u516c\\u7a4d\\u8f49\\u589e\\u8cc7\\u914d\\u80a1(\\u5143/\\u80a1)\\uff1a0\\n\\u3000(8)\\u80a1\\u6771\\u914d\\u80a1\\u7e3d\\u80a1\\u6578(\\u80a1)\\uff1a0\\n5. \\u5176\\u4ed6\\u61c9\\u6558\\u660e\\u4e8b\\u9805\\uff1a\\n\\u7121\\n6. \\u666e\\u901a\\u80a1\\u6bcf\\u80a1\\u9762\\u984d\\u6b04\\u4f4d\\uff1a\\u65b0\\u53f0\\u5e6310.0000\\u5143\\n\\n\\n\",\n          \"\\u662f\\n\\u7c3d\\n\\u300d\\n\\u300c?\\n\\u5c4b\\n\\u5e74?\\n\\u65bc?\\n\\u5b9a\\n\\u4e4b?\\n\\u8de1,\\n(?\\n2?\\n\\u696d\\n\\u4e0d?\\n\\u6e9d?\\n\\u300c?\\n\\u53ef\\n\\u672a\\n,?\\n\\u9580\\n\\u6cd5\\n\\u6236?\\n\\u95dc\\u65bc\\u9802\\u6a13\\u6f0f\\u6c34\\u554f\\u984c\\uff0c\\u76ee\\u524d\\u6211\\u6b63\\u5728\\u8655\\u7406\\u4e2d\\u5206\\u4eab\\u4e00\\u4e0b\\uff1a\\n\\n\\u6211\\u6709\\u4e00\\u9593\\u8001\\u5927\\u6a13\\u9802\\u6a13\\uff0c\\u8cfc\\u5165\\u5df2\\u4e09\\u5e74\\n\\u7576\\u521d\\u4ef2\\u4ecb\\u4e5f\\u662f\\u8aaa\\u6c92\\u6f0f\\u6c34\\n\\u4f46\\u7b49\\u5230\\u6f0f\\u6c34\\u5df2\\u7d93\\u662f\\u534a\\u5e74\\u5f8c\\u7684\\u96e8\\u5b63\\n\\n\\u627e\\u4e86\\u4ef2\\u4ecb\\u63a8\\u8a17\\u8aaa\\u6703\\u8655\\u7406\\u4f46\\u662f\\u4e5f\\u4e0d\\u4e86\\u4e86\\u4e4b\\uff0c\\n\\u61f6\\u5f97\\u8d70\\u6cd5\\u9662\\uff0c\\u6240\\u4ee5\\u6539\\u627e\\u7ba1\\u59d4\\u6703\\u8655\\u7406\\u3002\\n\\n\\u7ba1\\u59d4\\u6703\\u8655\\u7406\\u904e\\u4e00\\u6b21\\uff0c\\u6709\\u627e\\u4eba\\u4f86\\u5857\\u4e86\\u4e00\\u6b21\\u9632\\u6c34\\u3002\\n\\u4f46\\u4e09\\u500b\\u6708\\u5f8c\\u4e0b\\u96e8\\u53c8\\u6f0f\\uff0c\\u9019\\u6b21\\u7ba1\\u59d4\\u6703\\u5c31\\u8aaa\\u7d93\\u8cbb\\u6709\\u9650\\uff0c\\u6c92\\u9322\\u7121\\u6cd5\\u8655\\u7406\\u3002\\n\\n\\u65bc\\u662f\\u53c8\\u62d6\\u4e86\\u534a\\u5e74\\uff0c\\u4e2d\\u9593\\u79df\\u5ba2\\u9032\\u4f86\\u53c8\\u642c\\u8d70\\u3002\\u56e0\\u70ba\\u6f0f\\u6c34\\u5be6\\u5728\\u56b4\\u91cd\\uff0c\\u98b1\\u98a8\\u5929\\u4f86\\u6642\\uff0c\\u5ba4\\u5167\\u5ba2\\u5ef3\\u6703\\u6ef4\\n\\u6c34\\u3002\\n\\n\\u5f8c\\u4f86\\u771f\\u7684\\u53d7\\u4e0d\\u4e86\\uff0c\\u6700\\u8fd1\\u8ddf\\u9694\\u58c1\\u9130\\u5c45\\u4e00\\u8d77\\u627e\\u500b\\u5ee0\\u5546\\u4f86\\u505a\\u9632\\u6c34\\u3002\\n\\n\\u7167\\u7247\\u5982\\u4e0b\\uff0c\\u5206\\u4e09\\u90e8\\u4efd\\n\\n1.\\u9802\\u6a13\\u5730\\u78da\\uff1a\\nhttps://i.imgur.com/7yRSABt.jpg\\n\\u65bd\\u4f5c\\u4e94\\u5c64\\u9632\\u6c34\\n\\u7b2c\\u4e00\\u5c64 \\u5e95\\u81a0\\n\\u7b2c\\u4e8c\\u5c64 \\u6c34\\u6ce5\\u7802\\u6f3f+\\u7db2\\u5b50\\n\\u7b2c\\u4e09+\\u56db\\u5c64\\uff1b\\u5f48\\u6ce5\\n\\n2.\\u9802\\u6a13\\u6c34\\u8868\\uff1a\\n\\u56e0\\u70ba\\u6c34\\u8868\\u8655\\u5728\\u6211\\u5bb6\\u6b63\\u4e0a\\u65b9\\uff0c\\u800c\\u4e14\\u8a2d\\u8a08\\u6210\\u6c34\\u69fd\\u578b\\uff0c\\u5bb9\\u6613\\u7a4d\\u6c34\\u3002\\n\\u8655\\u7406\\u65b9\\u5f0f\\uff1a\\u5e95\\u90e8\\u6316\\u9664\\uff0c\\u91cd\\u4f5c\\u9632\\u6c34\\nhttps://i.imgur.com/nYK7wnm.jpg\\n3\\u5ba4\\u5167\\u7a97\\u6846+\\u5929\\u82b1\\u677f\\uff1a\\n\\n\\u6253\\u91dd\\u8655\\u7406\\nhttps://i.imgur.com/ZcebFKq.jpg\\n\\u7a97\\u6846\\nhttps://i.imgur.com/eB8of0N.jpg\\n\\u5929\\u82b1\\u677f\\uff0c\\n\\u5168\\u623f\\u5c4b\\u9810\\u8a08\\u6253130\\u91dd\\u3002\\n\\n\\u4ee5\\u4e0a\\u7e3d\\u8cbb\\u7528145000\\uff0c\\u7ba1\\u59d4\\u6703\\u7121\\u4efb\\u4f55\\u88dc\\u52a9\\u3002\\n\\n\\u53ea\\u80fd\\u6478\\u6478\\u9f3b\\u5b50\\u8a8d\\u4e86\\uff0c\\n\\u81f3\\u5c11\\u80fd\\u6551\\u56de\\u623f\\u5b50\\u5c31\\u597d\\u3002\\n\\n\\u534a\\u5e74\\u5f8c\\u7684\\u96e8\\u5b63\\u624d\\u662f\\u771f\\u6b63\\u7684\\u8003\\u9a57\\u3002\\n\\n\\n\"\n        ],\n        \"semantic_type\": \"\",\n        \"description\": \"\"\n      }\n    },\n    {\n      \"column\": \"artComment\",\n      \"properties\": {\n        \"dtype\": \"string\",\n        \"num_unique_values\": 4830,\n        \"samples\": [\n          \"[{\\\"cmtStatus\\\": \\\"\\u63a8\\\", \\\"cmtPoster\\\": \\\"winner1\\\", \\\"cmtContent\\\": \\\":\\u54e5\\u4f60\\u9019\\u500b\\u5716\\u600e\\u9ebc\\u6574\\u7406\\u51fa\\u4f86\\u7684\\u6709\\u9ede\\u53b2\\u5bb3\\u7d66\\u63a8\\\", \\\"cmtDate\\\": \\\"2024-03-17 01:06:00\\\"}, {\\\"cmtStatus\\\": \\\"\\u63a8\\\", \\\"cmtPoster\\\": \\\"williamchan\\\", \\\"cmtContent\\\": \\\":\\u52dd\\u7f8e\\u53ea\\u67093\\u5b57\\uff1f\\u50f9\\u9322\\u6c92\\u6301\\u5e73\\u5c31\\u7b97\\u4e86\\u9084\\u56de\\u52303\\u5b57\\\", \\\"cmtDate\\\": \\\"2024-03-17 01:18:00\\\"}, {\\\"cmtStatus\\\": \\\"\\u63a8\\\", \\\"cmtPoster\\\": \\\"menace\\\", \\\"cmtContent\\\": \\\":\\u53ef\\u60e1\\u60f3\\u8cb7\\\", \\\"cmtDate\\\": \\\"2024-03-17 01:20:00\\\"}, {\\\"cmtStatus\\\": \\\"\\u2192\\\", \\\"cmtPoster\\\": \\\"williamchan\\\", \\\"cmtContent\\\": \\\":\\u9e7d\\u884c\\u5b78\\u5340\\u662f\\u4e0d\\u662f\\u5305\\u5230\\u820a\\u793e\\u5340\\u554a..\\u6703\\u4e0d\\u6703\\u8b8a\\u4e0b\\u500b\\u5927\\u6a4b\\\", \\\"cmtDate\\\": \\\"2024-03-17 01:23:00\\\"}, {\\\"cmtStatus\\\": \\\"\\u2192\\\", \\\"cmtPoster\\\": \\\"kyova\\\", \\\"cmtContent\\\": \\\":\\u9664\\u4e86\\u5e02\\u5340\\u5e7e\\u500b\\u660e\\u661f\\u5b78\\u5340\\uff0c\\u5176\\u4ed6\\u5916\\u570d\\u91cd\\u5283\\u5340\\u6709\\u5927\\u6a4b\\u90a3\\u6a23\\u7684\\u5347\\u5b78\\u7387\\\", \\\"cmtDate\\\": \\\"2024-03-17 01:55:00\\\"}, {\\\"cmtStatus\\\": \\\"\\u2192\\\", \\\"cmtPoster\\\": \\\"kyova\\\", \\\"cmtContent\\\": \\\":\\u5c31\\u4e0d\\u932f\\u4e86...\\u4e00\\u5806\\u91cd\\u5283\\u5340\\u5728\\u767c\\u5c55\\uff0c\\u53c8\\u4e0d\\u662f\\u6240\\u6709\\u90fd\\u96c6\\u4e2d\\u5728\\u67d0\\u5340\\u3002\\\", \\\"cmtDate\\\": \\\"2024-03-17 01:56:00\\\"}, {\\\"cmtStatus\\\": \\\"\\u2192\\\", \\\"cmtPoster\\\": \\\"kyova\\\", \\\"cmtContent\\\": \\\":\\u6700\\u7d14\\u7684\\u5c31\\u5357\\u79d1\\u570b\\u4e2d\\u90e8\\u3002\\u5176\\u4ed6\\u4e00\\u5806\\u8981\\u74dc\\u5206\\u5e02\\u5340\\u90a3\\u5e7e\\u9593\\u4ee5\\u5916\\u7684\\u540d\\u984d\\\", \\\"cmtDate\\\": \\\"2024-03-17 01:58:00\\\"}, {\\\"cmtStatus\\\": \\\"\\u2192\\\", \\\"cmtPoster\\\": \\\"kyova\\\", \\\"cmtContent\\\": \\\":\\uff0c\\u9084\\u6709\\u4e00\\u5806\\u5b78\\u6821\\u7684\\u4fdd\\u969c\\u540d\\u984d\\u3002\\u6c92\\u591a\\u5c11\\u80fd\\u5206\\u5566...\\\", \\\"cmtDate\\\": \\\"2024-03-17 01:58:00\\\"}, {\\\"cmtStatus\\\": \\\"\\u2192\\\", \\\"cmtPoster\\\": \\\"kyova\\\", \\\"cmtContent\\\": \\\":\\u5fa9\\u8208\\u5d07\\u660e\\u672c\\u8eab\\u4e5f\\u6709\\u5169\\u5927\\u91cd\\u5283\\u5340\\u963f...\\\", \\\"cmtDate\\\": \\\"2024-03-17 02:01:00\\\"}, {\\\"cmtStatus\\\": \\\"\\u5653\\\", \\\"cmtPoster\\\": \\\"wang56\\\", \\\"cmtContent\\\": \\\":\\u76ee\\u524d\\u4e3b\\u6d41\\u7684\\u60f3\\u6cd5\\uff0c\\u81ea\\u4f4f\\u54c1\\u8cea\\uff1a\\u570b\\u6cf0>\\u52dd\\u7f8e>\\u9060\\u96c4\\uff0c\\u6295\\u8cc7\\uff1a\\u570b\\u6cf0=\\\", \\\"cmtDate\\\": \\\"2024-03-17 05:44:00\\\"}, {\\\"cmtStatus\\\": \\\"\\u2192\\\", \\\"cmtPoster\\\": \\\"wang56\\\", \\\"cmtContent\\\": \\\":\\u52dd\\u7f8e>\\u9060\\u96c4\\uff0c\\u4e00\\u6a23\\u50f9\\u683c\\u5be7\\u53ef\\u52dd\\u7f8e\\u4e5f\\u4e0d\\u8981\\u9060\\u96c4\\\", \\\"cmtDate\\\": \\\"2024-03-17 05:44:00\\\"}, {\\\"cmtStatus\\\": \\\"\\u2192\\\", \\\"cmtPoster\\\": \\\"wang56\\\", \\\"cmtContent\\\": \\\":\\u6709\\u9322\\u76f4\\u4e0a\\u570b\\u6cf0\\uff0c\\u81ea\\u4f4f\\u6295\\u8cc7\\u90fd\\u8cfa\\\", \\\"cmtDate\\\": \\\"2024-03-17 05:45:00\\\"}, {\\\"cmtStatus\\\": \\\"\\u2192\\\", \\\"cmtPoster\\\": \\\"kyova\\\", \\\"cmtContent\\\": \\\":\\u6a13\\u4e0a\\u5230\\u5e95\\u662f\\u4e0d\\u662f\\u53cd\\u4e32...\\\", \\\"cmtDate\\\": \\\"2024-03-17 05:54:00\\\"}, {\\\"cmtStatus\\\": \\\"\\u2192\\\", \\\"cmtPoster\\\": \\\"wang56\\\", \\\"cmtContent\\\": \\\":\\u9060\\u96c4\\u4e4b\\u524d\\u5728\\u53f0\\u5357\\u5efa\\u6848\\u6709\\u500b\\u5927\\u7011\\u5e03\\u4e8b\\u4ef6\\u5f88\\u6709\\u540d\\uff0c\\u81ea\\u4f4f\\u6295\\u8cc7\\u90fd\\u8667\\uff0c\\\", \\\"cmtDate\\\": \\\"2024-03-17 06:11:00\\\"}, {\\\"cmtStatus\\\": \\\"\\u2192\\\", \\\"cmtPoster\\\": \\\"wang56\\\", \\\"cmtContent\\\": \\\":\\u52dd\\u7f8e\\u4e0d\\u719f\\u4f46\\u4e5f\\u6bd4\\u7011\\u5e03\\u597d\\uff0c\\u570b\\u6cf0\\u6c92\\u51fa\\u904e\\u5305\\u54c1\\u8cea\\u696d\\u754c\\u6a19\\u7aff\\\", \\\"cmtDate\\\": \\\"2024-03-17 06:11:00\\\"}, {\\\"cmtStatus\\\": \\\"\\u63a8\\\", \\\"cmtPoster\\\": \\\"mitic1029\\\", \\\"cmtContent\\\": \\\":\\u597d\\u50cf\\u53ef\\u4ee5\\u8cb7\\u5594\\uff0c\\u9019\\u5c31\\u662f\\u5bf6\\u5496\\u5496\\u7684\\u5a01\\u529b\\u554a\\\", \\\"cmtDate\\\": \\\"2024-03-17 06:15:00\\\"}, {\\\"cmtStatus\\\": \\\"\\u2192\\\", \\\"cmtPoster\\\": \\\"kyova\\\", \\\"cmtContent\\\": \\\":\\u4e0d\\u719f\\u96e3\\u602a\\u9023\\u5bf6\\u5496\\u5496\\u96c6\\u5718\\u4e5f\\u4e0d\\u6e05\\u695a...\\\", \\\"cmtDate\\\": \\\"2024-03-17 06:21:00\\\"}, {\\\"cmtStatus\\\": \\\"\\u63a8\\\", \\\"cmtPoster\\\": \\\"LeMirage2000\\\", \\\"cmtContent\\\": \\\":\\u5bf6\\u5496\\u5496\\uff0c\\u4f73\\u9806\\u6c38\\u5eb7\\u90a3\\u500b\\u5b57\\u771f\\u7684\\u662f....\\u70ba\\u4ec0\\u9ebc\\u8981\\u62ff\\u6389XDD\\\", \\\"cmtDate\\\": \\\"2024-03-17 08:24:00\\\"}, {\\\"cmtStatus\\\": \\\"\\u2192\\\", \\\"cmtPoster\\\": \\\"LeMirage2000\\\", \\\"cmtContent\\\": \\\":DD\\\", \\\"cmtDate\\\": \\\"2024-03-17 08:24:00\\\"}, {\\\"cmtStatus\\\": \\\"\\u63a8\\\", \\\"cmtPoster\\\": \\\"zxcvb7700\\\", \\\"cmtContent\\\": \\\":\\u6f5b\\u92b7\\u76ee\\u524d\\u554f\\u4e2d\\u6a13\\u5c64\\u7d66\\u6211\\u7684\\u50f9\\u683c\\u662f38.x\\\", \\\"cmtDate\\\": \\\"2024-03-17 08:55:00\\\"}, {\\\"cmtStatus\\\": \\\"\\u63a8\\\", \\\"cmtPoster\\\": \\\"chanel1259\\\", \\\"cmtContent\\\": \\\":\\u770b\\u770b\\u683c\\u5c40\\u5427\\u4e00\\u822c\\u4f86\\u8b1b\\u5bf6\\u4f73\\u683c\\u5c40\\u90fd\\u5f88\\u68d2\\\", \\\"cmtDate\\\": \\\"2024-03-17 09:04:00\\\"}, {\\\"cmtStatus\\\": \\\"\\u63a8\\\", \\\"cmtPoster\\\": \\\"williamchan\\\", \\\"cmtContent\\\": \\\":\\u5927\\u6a4b\\u591a\\u4e45\\u4e864.99%\\u5347\\u5b78\\u7387\\u7b97\\u4e0d\\u932f\\uff1f\\uff1f\\u8981\\u78ba\\u5b9a\\u6b38\\\", \\\"cmtDate\\\": \\\"2024-03-17 10:17:00\\\"}, {\\\"cmtStatus\\\": \\\"\\u63a8\\\", \\\"cmtPoster\\\": \\\"williamchan\\\", \\\"cmtContent\\\": \\\":\\u8981\\u5403\\u5712\\u5340\\u7684\\u984c\\u6750\\u5b78\\u5340\\u525b\\u9700\\u4e5f\\u662f\\u500b\\u91cd\\u9ede..\\\", \\\"cmtDate\\\": \\\"2024-03-17 10:20:00\\\"}, {\\\"cmtStatus\\\": \\\"\\u63a8\\\", \\\"cmtPoster\\\": \\\"Mataka\\\", \\\"cmtContent\\\": \\\":\\u4f73\\u9806\\u6c38\\u5eb7\\u90a3\\u56db\\u500b\\u5b57\\u62ff\\u6389\\u4e86\\u5594\\uff1f\\\", \\\"cmtDate\\\": \\\"2024-03-17 10:25:00\\\"}, {\\\"cmtStatus\\\": \\\"\\u2192\\\", \\\"cmtPoster\\\": \\\"williamchan\\\", \\\"cmtContent\\\": \\\":\\u9060\\u96c4\\u7011\\u5e03\\u662f\\u5317\\u5340\\u90a3\\u6848\\u55ce\\uff0c\\u4f46\\u4ed6\\u4e8c\\u624b\\u770b\\u4f86\\u4e0d\\u53d7\\u5f71\\u97ffXD\\\", \\\"cmtDate\\\": \\\"2024-03-17 10:25:00\\\"}, {\\\"cmtStatus\\\": \\\"\\u2192\\\", \\\"cmtPoster\\\": \\\"kyova\\\", \\\"cmtContent\\\": \\\":...\\u662f\\u770b\\u4e0d\\u61c2\\u8ad6\\u8ff0\\u5594...\\u9060\\u52dd5%\\u7684\\u5c31\\u5e02\\u5340\\u90a3\\u5e7e\\u9593\\u3002\\u5916\\u570d\\u91cd\\u5283\\u5340\\\", \\\"cmtDate\\\": \\\"2024-03-17 10:51:00\\\"}, {\\\"cmtStatus\\\": \\\"\\u2192\\\", \\\"cmtPoster\\\": \\\"kyova\\\", \\\"cmtContent\\\": \\\":\\u5f15\\u9032\\u65b0\\u4eba\\u53e3\\u53c8\\u4e0d\\u662f\\u53ea\\u6709\\u4f60\\u6771\\u6a4b...\\u505a\\u5565\\u5922...\\\", \\\"cmtDate\\\": \\\"2024-03-17 10:52:00\\\"}, {\\\"cmtStatus\\\": \\\"\\u2192\\\", \\\"cmtPoster\\\": \\\"kyova\\\", \\\"cmtContent\\\": \\\":\\u6771\\u6a4b\\u90a3\\u5e7e\\u68df\\u5927\\u6a13\\u662f\\u80fd\\u6709\\u591a\\u5c11\\u4eba\\u53e3\\uff0c\\u80fd\\u58d3\\u904e\\u5176\\u4ed6\\u5340\\u57df??\\\", \\\"cmtDate\\\": \\\"2024-03-17 10:52:00\\\"}, {\\\"cmtStatus\\\": \\\"\\u2192\\\", \\\"cmtPoster\\\": \\\"kyova\\\", \\\"cmtContent\\\": \\\":\\u66f4\\u4e0d\\u7528\\u8aaa\\u4e00\\u5806\\u4eba\\u8de8\\u5340\\u9001\\u90a3\\u5e7e\\u500b\\u660e\\u661f\\u5b78\\u5340\\u3002\\u6bd4\\u8f03\\u5927\\u7684\\u91cd\\u5283\\u5340\\u4e5f\\u5c31\\\", \\\"cmtDate\\\": \\\"2024-03-17 10:53:00\\\"}, {\\\"cmtStatus\\\": \\\"\\u2192\\\", \\\"cmtPoster\\\": \\\"kyova\\\", \\\"cmtContent\\\": \\\":\\u90a3\\u5e7e\\u500b\\uff0c\\u67092\\u500b\\u9084\\u662f\\u5728\\u6771\\u5340\\u660e\\u661f\\u5b78\\u5340\\u3002\\u5c31\\u7b97\\u7832\\u6821\\u8d77\\u4f86\\u585e\\u6eff\\u53ef\\u80fd\\u4e5f\\\", \\\"cmtDate\\\": \\\"2024-03-17 10:54:00\\\"}, {\\\"cmtStatus\\\": \\\"\\u2192\\\", \\\"cmtPoster\\\": \\\"kyova\\\", \\\"cmtContent\\\": \\\":\\u9802\\u591a\\u8b8a\\u597d\\u4e00\\u9ede\\u3002\\u4f46\\u540c\\u6642\\u4e5d\\u4efd\\u5b50\\u3001\\u9e7d\\u884c\\u3001\\u53f2\\u535a\\u3001\\u6c99\\u5d19\\u3001\\u5357\\u79d1\\u9019\\u4e9b\\\", \\\"cmtDate\\\": \\\"2024-03-17 10:54:00\\\"}, {\\\"cmtStatus\\\": \\\"\\u2192\\\", \\\"cmtPoster\\\": \\\"kyova\\\", \\\"cmtContent\\\": \\\":\\u4e5f\\u90fd\\u8d77\\u4f86\\uff0c\\u5404\\u81ea\\u662f\\u80fd\\u6210\\u9577\\u591a\\u5c11...\\u660e\\u661f\\u5b78\\u5340\\u6050\\u6015\\u6392\\u540d\\u8b8a\\u5316\\u4e0d\\u5927\\\", \\\"cmtDate\\\": \\\"2024-03-17 10:55:00\\\"}, {\\\"cmtStatus\\\": \\\"\\u2192\\\", \\\"cmtPoster\\\": \\\"kyova\\\", \\\"cmtContent\\\": \\\":\\u6709\\u53ef\\u80fd\\u53ea\\u662f\\u66f4\\u5747\\u5206\\u800c\\u5df2\\u3002\\\", \\\"cmtDate\\\": \\\"2024-03-17 10:55:00\\\"}, {\\\"cmtStatus\\\": \\\"\\u63a8\\\", \\\"cmtPoster\\\": \\\"williamchan\\\", \\\"cmtContent\\\": \\\":\\u770b\\u4f86\\u53f0\\u5357\\u4e0d\\u592a\\u6703\\u6709\\u5b78\\u5340\\u8f49\\u79fb\\u7684\\u73fe\\u8c61\\u4e86\\\", \\\"cmtDate\\\": \\\"2024-03-17 11:03:00\\\"}, {\\\"cmtStatus\\\": \\\"\\u2192\\\", \\\"cmtPoster\\\": \\\"kyova\\\", \\\"cmtContent\\\": \\\":\\u9084\\u662f\\u6709\\u53ef\\u80fd\\u62c9\\u8fd1\\u5dee\\u8ddd\\uff0c\\u4f8b\\u5982\\u5e02\\u5340\\u768410%\\u51fa\\u982d\\uff0c\\u90ca\\u5340\\u91cd\\u5283\\u53407~10%\\\", \\\"cmtDate\\\": \\\"2024-03-17 11:17:00\\\"}, {\\\"cmtStatus\\\": \\\"\\u2192\\\", \\\"cmtPoster\\\": \\\"kyova\\\", \\\"cmtContent\\\": \\\":\\u5b78\\u5340\\u7684\\u6b0a\\u91cd\\u8b8a\\u5f97\\u4e0d\\u90a3\\u9ebc\\u91cd\\u8981\\u3002\\u5357\\u79d1FGA~ENO\\u52a0\\u4e0a\\u53bb\\uff0c\\u641e\\u4e0d\\u597d\\\", \\\"cmtDate\\\": \\\"2024-03-17 11:18:00\\\"}, {\\\"cmtStatus\\\": \\\"\\u2192\\\", \\\"cmtPoster\\\": \\\"kyova\\\", \\\"cmtContent\\\": \\\":\\u5ff5\\u5357\\u79d1\\u5be6\\u4e2d\\u5c31\\u597d\\u4e86\\uff0c\\u4e00\\u4e2d\\u5357\\u5973\\u7684\\u5dee\\u8ddd\\u88ab\\u62c9\\u8fd1\\u3002\\\", \\\"cmtDate\\\": \\\"2024-03-17 11:19:00\\\"}, {\\\"cmtStatus\\\": \\\"\\u2192\\\", \\\"cmtPoster\\\": \\\"kyova\\\", \\\"cmtContent\\\": \\\":\\u5fa9\\u8208\\u5d07\\u660e\\u6709\\u91cd\\u5283\\u5340\\u52a0\\u6301\\u3002\\u8981\\u89c0\\u5bdf\\u5efa\\u8208\\u5f8c\\u7532\\u662f\\u5426\\u88ab\\u62c9\\u8fd1\\u6216\\u8d85\\u8d8a\\u3002\\\", \\\"cmtDate\\\": \\\"2024-03-17 11:20:00\\\"}, {\\\"cmtStatus\\\": \\\"\\u2192\\\", \\\"cmtPoster\\\": \\\"kyova\\\", \\\"cmtContent\\\": \\\":\\u7562\\u7adf\\u9084\\u662f\\u6709\\u8cc7\\u512a\\u73ed\\u7684\\u7be9\\u9078\\u4f5c\\u7528\\u3002\\\", \\\"cmtDate\\\": \\\"2024-03-17 11:21:00\\\"}, {\\\"cmtStatus\\\": \\\"\\u2192\\\", \\\"cmtPoster\\\": \\\"kyova\\\", \\\"cmtContent\\\": \\\":\\u5404\\u5927\\u91cd\\u5283\\u5340\\u770b\\u8d77\\u4f86\\u90fd\\u8981230\\u5e74\\u4f86\\u767c\\u5c55\\uff0c\\u73fe\\u5728\\u770b\\u90fd\\u70ba\\u4e4b\\u5c1a\\u65e9\\u3002\\\", \\\"cmtDate\\\": \\\"2024-03-17 11:23:00\\\"}, {\\\"cmtStatus\\\": \\\"\\u2192\\\", \\\"cmtPoster\\\": \\\"kyova\\\", \\\"cmtContent\\\": \\\":\\u5be6\\u4e2d\\u770b\\u8d77\\u4f86\\u5df2\\u7d93\\u8ffd\\u5e73\\u5357\\u5973\\uff0c\\u641e\\u4e0d\\u597d\\u4e4b\\u5f8c\\u8ffd\\u5e73\\u6216\\u8d85\\u8d8a\\u4e00\\u4e2d\\u3002\\\", \\\"cmtDate\\\": \\\"2024-03-17 11:27:00\\\"}, {\\\"cmtStatus\\\": \\\"\\u2192\\\", \\\"cmtPoster\\\": \\\"kyova\\\", \\\"cmtContent\\\": \\\":\\u770b\\u8d77\\u4f86\\u53ea\\u662f\\u6703\\u8003\\u7a4d\\u5206\\u3002\\u9084\\u662f\\u5f97\\u770b\\u5927\\u5b78\\u9304\\u53d6\\u72c0\\u6cc1\\u9451\\u5225\\u5ea6\\u8f03\\u9ad8\\u3002\\\", \\\"cmtDate\\\": \\\"2024-03-17 11:29:00\\\"}, {\\\"cmtStatus\\\": \\\"\\u63a8\\\", \\\"cmtPoster\\\": \\\"LeMirage2000\\\", \\\"cmtContent\\\": \\\":\\u56db\\u500b\\u5b57\\u62ff\\u6389\\u4e86\\u5440\\uff0c\\u539f\\u672c\\u4ee5\\u70ba\\u6703\\u8b8a\\u6210\\u5730\\u6a19\\\", \\\"cmtDate\\\": \\\"2024-03-17 13:56:00\\\"}, {\\\"cmtStatus\\\": \\\"\\u63a8\\\", \\\"cmtPoster\\\": \\\"NSYSUEE\\\", \\\"cmtContent\\\": \\\":\\u6295\\u8cc7\\u548c\\u81ea\\u4f4f\\u61c9\\u8a72\\u90fd\\u8981\\u9078\\u570b\\u6cf0\\uff0c\\u5148\\u8cb7\\u570b\\u6cf0\\u81ea\\u4f4f\\u500b\\u5e7e\\u5e74\\uff0c\\u7136\\u5f8c\\u518d\\\", \\\"cmtDate\\\": \\\"2024-03-17 15:22:00\\\"}, {\\\"cmtStatus\\\": \\\"\\u2192\\\", \\\"cmtPoster\\\": \\\"NSYSUEE\\\", \\\"cmtContent\\\": \\\":\\u8ce3\\u6389\\uff0c\\u6211\\u53ef\\u4ee5\\u5f88\\u660e\\u767d\\u7684\\u8aaa\\uff0c\\u570b\\u6cf0\\u5728\\u65b0\\u6848\\u6703\\u662f\\u5340\\u57df\\u9ad8\\u50f9\\uff0c\\u9032\\u5165\\\", \\\"cmtDate\\\": \\\"2024-03-17 15:22:00\\\"}, {\\\"cmtStatus\\\": \\\"\\u2192\\\", \\\"cmtPoster\\\": \\\"NSYSUEE\\\", \\\"cmtContent\\\": \\\":\\u4e8c\\u624b\\u5e02\\u5834\\u4f9d\\u7136\\u662f\\u5340\\u57df\\u9ad8\\u50f9\\\", \\\"cmtDate\\\": \\\"2024-03-17 15:22:00\\\"}, {\\\"cmtStatus\\\": \\\"\\u2192\\\", \\\"cmtPoster\\\": \\\"NSYSUEE\\\", \\\"cmtContent\\\": \\\":\\u5bf6\\u5bf6\\u8ddf\\u570b\\u6cf0\\u90fd\\u9032\\u5165\\u4e8c\\u624b\\u5e02\\u5834\\u6642\\uff0c\\u5bf6\\u5bf6\\u672c\\u8eab\\u5c31\\u6709\\u4e00\\u90e8\\u5206\\u7684\\u6297\\u6027\\\", \\\"cmtDate\\\": \\\"2024-03-17 15:23:00\\\"}, {\\\"cmtStatus\\\": \\\"\\u2192\\\", \\\"cmtPoster\\\": \\\"NSYSUEE\\\", \\\"cmtContent\\\": \\\":\\uff0c\\u56e0\\u70ba\\u6709\\u4e9b\\u4eba\\u5c31\\u662f\\u6703\\u7be9\\u6389\\u5bf6\\u5bf6\\\", \\\"cmtDate\\\": \\\"2024-03-17 15:23:00\\\"}, {\\\"cmtStatus\\\": \\\"\\u63a8\\\", \\\"cmtPoster\\\": \\\"NSYSUEE\\\", \\\"cmtContent\\\": \\\":\\u7576\\u6210\\u5c4b\\u8cb7\\u8ce3\\u6642\\uff0c\\u5bf6\\u5bf6\\u8ddf\\u570b\\u6cf0\\u4e00\\u576a\\u50f9\\u683c\\u4e00\\u6a23\\u7684\\u6642\\u5019\\uff0c\\u570b\\u6cf0\\u4e00\\u5b9a\\\", \\\"cmtDate\\\": \\\"2024-03-17 15:30:00\\\"}, {\\\"cmtStatus\\\": \\\"\\u2192\\\", \\\"cmtPoster\\\": \\\"NSYSUEE\\\", \\\"cmtContent\\\": \\\":\\u6703\\u5148\\u88ab\\u6436\\uff0c\\u751a\\u81f3\\u662f\\u570b\\u6cf0\\u4e00\\u576a\\u50f9\\u683c\\u9ad8\\u65bc\\u5bf6\\u5bf6\\u4e00\\u5169\\u6210\\u4ee5\\u4e0a\\uff0c\\u570b\\u6cf0\\\", \\\"cmtDate\\\": \\\"2024-03-17 15:30:00\\\"}, {\\\"cmtStatus\\\": \\\"\\u2192\\\", \\\"cmtPoster\\\": \\\"NSYSUEE\\\", \\\"cmtContent\\\": \\\":\\u7684\\u7522\\u54c1\\u4e5f\\u662f\\u6703\\u8ce3\\u7684\\u6bd4\\u5bf6\\u5bf6\\u597d\\uff0c\\u56e0\\u70ba\\u570b\\u6cf0\\u7684\\u54c1\\u8cea\\u548c\\u898f\\u5283\\uff0c\\u5728\\u4e8c\\\", \\\"cmtDate\\\": \\\"2024-03-17 15:30:00\\\"}, {\\\"cmtStatus\\\": \\\"\\u2192\\\", \\\"cmtPoster\\\": \\\"NSYSUEE\\\", \\\"cmtContent\\\": \\\":\\u624b\\u5e02\\u5834\\u80af\\u5b9a\\u6703\\u6bd4\\u5bf6\\u5bf6\\u597d\\u5f88\\u591a\\\", \\\"cmtDate\\\": \\\"2024-03-17 15:30:00\\\"}, {\\\"cmtStatus\\\": \\\"\\u2192\\\", \\\"cmtPoster\\\": \\\"NSYSUEE\\\", \\\"cmtContent\\\": \\\":\\u9019\\u4e9b\\u54c1\\u724c\\u5efa\\u5546\\u84cb\\u7684\\u5148\\u4e0d\\u8b1b\\u54c1\\u8cea\\u5982\\u4f55\\uff0c\\u6709\\u63a5\\u89f8\\u7684\\u90fd\\u77e5\\u9053\\uff0c\\u552e\\u5f8c\\\", \\\"cmtDate\\\": \\\"2024-03-17 15:32:00\\\"}, {\\\"cmtStatus\\\": \\\"\\u2192\\\", \\\"cmtPoster\\\": \\\"NSYSUEE\\\", \\\"cmtContent\\\": \\\":\\u670d\\u52d9\\u5f88\\u660e\\u986f\\u5c31\\u597d\\u592a\\u591a\\u4e86\\\", \\\"cmtDate\\\": \\\"2024-03-17 15:32:00\\\"}, {\\\"cmtStatus\\\": \\\"\\u63a8\\\", \\\"cmtPoster\\\": \\\"NSYSUEE\\\", \\\"cmtContent\\\": \\\":\\u6211\\u7684\\u7d93\\u9a57\\u662f\\u5bf6\\u5bf6\\u548c\\u570b\\u6cf0\\u540c\\u6642\\u51fa\\u73fe\\u5728\\u4e8c\\u624b\\u5e02\\u5834\\u4e14\\u50f9\\u683c\\u4e00\\u6a23\\u6642\\uff0c\\\", \\\"cmtDate\\\": \\\"2024-03-17 15:37:00\\\"}, {\\\"cmtStatus\\\": \\\"\\u2192\\\", \\\"cmtPoster\\\": \\\"NSYSUEE\\\", \\\"cmtContent\\\": \\\":\\u570b\\u6cf0\\u6703\\u88ab\\u5e02\\u5834\\u6436\\u7ffb\\uff0c\\u800c\\u5bf6\\u5bf6\\u6703\\u88ab\\u5927\\u780d\\u4e00\\u5200\\uff0c\\u9019\\u500b\\u5c31\\u662f\\u5be6\\u529b\\u5dee\\\", \\\"cmtDate\\\": \\\"2024-03-17 15:37:00\\\"}, {\\\"cmtStatus\\\": \\\"\\u2192\\\", \\\"cmtPoster\\\": \\\"NSYSUEE\\\", \\\"cmtContent\\\": \\\":\\u8ddd\\\", \\\"cmtDate\\\": \\\"2024-03-17 15:37:00\\\"}, {\\\"cmtStatus\\\": \\\"\\u63a8\\\", \\\"cmtPoster\\\": \\\"mitic1029\\\", \\\"cmtContent\\\": \\\":\\u9019\\u91cd\\u5283\\u5340\\u5bf6\\u4f73\\u8ddf\\u570b\\u6cf0\\u5165\\u624b\\u50f9\\u9322\\u53ef\\u80fd\\u5dee10\\u523015\\u842c\\uff0c\\u8ce3\\u7684\\u6642\\u5019\\\", \\\"cmtDate\\\": \\\"2024-03-17 16:03:00\\\"}, {\\\"cmtStatus\\\": \\\"\\u2192\\\", \\\"cmtPoster\\\": \\\"mitic1029\\\", \\\"cmtContent\\\": \\\":\\u600e\\u9ebc\\u53ef\\u80fd\\u50f9\\u683c\\u4e00\\u6478\\u4e00\\u6a23\\\", \\\"cmtDate\\\": \\\"2024-03-17 16:03:00\\\"}, {\\\"cmtStatus\\\": \\\"\\u63a8\\\", \\\"cmtPoster\\\": \\\"menace\\\", \\\"cmtContent\\\": \\\":\\u524d\\u63d0\\u662f\\u90fd\\u8981\\u91cb\\u51fa\\u554a\\u5982\\u679c\\u570b\\u6cf0\\u6c92\\u91cb\\u51fa\\u53ea\\u6709\\u5bf6\\u4f73\\u91cb\\u51fa\\u8cb7\\u5bb6\\u4e5f\\u6c92\\\", \\\"cmtDate\\\": \\\"2024-03-17 16:55:00\\\"}, {\\\"cmtStatus\\\": \\\"\\u2192\\\", \\\"cmtPoster\\\": \\\"menace\\\", \\\"cmtContent\\\": \\\":\\u5f97\\u9078\\\", \\\"cmtDate\\\": \\\"2024-03-17 16:55:00\\\"}, {\\\"cmtStatus\\\": \\\"\\u63a8\\\", \\\"cmtPoster\\\": \\\"freekid\\\", \\\"cmtContent\\\": \\\":\\u570b\\u6cf0\\u8ddf\\u5bf6\\u4f73\\u600e\\u9ebc\\u53ef\\u80fd\\u50f9\\u683c\\u4e00\\u6a23\\\", \\\"cmtDate\\\": \\\"2024-03-17 18:36:00\\\"}, {\\\"cmtStatus\\\": \\\"\\u2192\\\", \\\"cmtPoster\\\": \\\"freekid\\\", \\\"cmtContent\\\": \\\":\\u662f\\u770b\\u6210\\u4ea4\\u4e0d\\u662f\\u770b\\u958b\\u50f9\\u6b38\\u9664\\u975e\\u4f60\\u62ff\\u4e0d\\u540c\\u576a\\u6578\\u6bd4\\\", \\\"cmtDate\\\": \\\"2024-03-17 18:37:00\\\"}, {\\\"cmtStatus\\\": \\\"\\u2192\\\", \\\"cmtPoster\\\": \\\"freekid\\\", \\\"cmtContent\\\": \\\":\\u6295\\u8cc7\\u8981\\u770b\\u4e0d\\u540c\\u6642\\u671f\\u7684\\u50f9\\u5dee\\u9084\\u6709\\u5340\\u57df\\u7279\\u6027\\u4e26\\u6c92\\u6709\\u4e00\\u5b9a\\u8981\\u4ec0\\u9ebc\\\", \\\"cmtDate\\\": \\\"2024-03-17 18:39:00\\\"}, {\\\"cmtStatus\\\": \\\"\\u2192\\\", \\\"cmtPoster\\\": \\\"freekid\\\", \\\"cmtContent\\\": \\\":\\u7522\\u54c1\\\", \\\"cmtDate\\\": \\\"2024-03-17 18:39:00\\\"}, {\\\"cmtStatus\\\": \\\"\\u2192\\\", \\\"cmtPoster\\\": \\\"freekid\\\", \\\"cmtContent\\\": \\\":\\u4f46\\u6bd4\\u4f8b\\u4f86\\u8aaa\\u57fa\\u671f\\u4f4e\\u7684\\u6703\\u6bd4\\u8f03\\u597d\\u6f32\\u5bf6\\u4f73\\u3127\\u576a\\u5f9e2x\\u6f32\\u52304x\\u8ddf\\\", \\\"cmtDate\\\": \\\"2024-03-17 18:41:00\\\"}, {\\\"cmtStatus\\\": \\\"\\u2192\\\", \\\"cmtPoster\\\": \\\"freekid\\\", \\\"cmtContent\\\": \\\":\\u570b\\u6cf0\\u5f9e3x\\u52306x\\u524d\\u8005\\u76f8\\u5c0d\\u5bb9\\u6613\\\", \\\"cmtDate\\\": \\\"2024-03-17 18:41:00\\\"}, {\\\"cmtStatus\\\": \\\"\\u5653\\\", \\\"cmtPoster\\\": \\\"barrylaw\\\", \\\"cmtContent\\\": \\\":\\u9060\\u96c4\\u6709\\u7011\\u5e03\\uff0c\\u96e3\\u9053\\u5bf6\\u4f73\\u5c31\\u6c92\\u6709\\uff1fW\\u5927\\u71b1\\u611b\\u7684\\u767c\\u54e5\\u4e5f\\u662f\\u554a\\\", \\\"cmtDate\\\": \\\"2024-03-17 19:05:00\\\"}, {\\\"cmtStatus\\\": \\\"\\u2192\\\", \\\"cmtPoster\\\": \\\"barrylaw\\\", \\\"cmtContent\\\": \\\":\\u5982\\u679c\\u9810\\u7b97\\u8a31\\u53ef\\uff0c\\u5927\\u5bb6\\u7576\\u7136\\u60f3\\u8cb7\\u570b\\u6cf0\\u3002\\u5927\\u96c4\\u5728\\u9019\\u88e1\\u90fd\\u8981\\u8ce3\\u7b2c\\u4e8c\\\", \\\"cmtDate\\\": \\\"2024-03-17 19:07:00\\\"}, {\\\"cmtStatus\\\": \\\"\\u2192\\\", \\\"cmtPoster\\\": \\\"barrylaw\\\", \\\"cmtContent\\\": \\\":\\u671f\\u4e86\\uff0c\\u6700\\u597d\\u6c92\\u8089\\u53ef\\u4ee5\\u5403\\u3002\\\", \\\"cmtDate\\\": \\\"2024-03-17 19:07:00\\\"}, {\\\"cmtStatus\\\": \\\"\\u2192\\\", \\\"cmtPoster\\\": \\\"barrylaw\\\", \\\"cmtContent\\\": \\\":\\u53f0\\u5357\\u4eba\\u771f\\u53ef\\u6190\\uff0c\\u5bf6\\u5496\\u5496\\u4f86\\u9019\\u88cf\\u88ab\\u5439\\u5653\\u7684\\u53ef\\u6bd4\\u5927\\u96c4\\u570b\\u6cf0\\uff0c\\u7b11\\u6b7b\\\", \\\"cmtDate\\\": \\\"2024-03-17 19:09:00\\\"}, {\\\"cmtStatus\\\": \\\"\\u5653\\\", \\\"cmtPoster\\\": \\\"barrylaw\\\", \\\"cmtContent\\\": \\\":\\u5c0d\\u4e86\\uff0c\\u6afb\\u82b1\\u4e5f\\u5bf6\\u5496\\u5496\\u7684\\u4e00\\u54e1\\uff0c\\u53ea\\u662f\\u5305\\u88dd\\u7684\\u6bd4\\u8f03\\u597d\\\", \\\"cmtDate\\\": \\\"2024-03-17 19:12:00\\\"}, {\\\"cmtStatus\\\": \\\"\\u63a8\\\", \\\"cmtPoster\\\": \\\"remix920\\\", \\\"cmtContent\\\": \\\":\\u9806\\u4fbf\\u554f\\u4e00\\u4e0b\\u65c1\\u908a\\u7684\\u6625\\u798fx\\u7dd2\\u53c8\\u8ddf\\u5bf6\\u4f73\\u8207\\u9060\\u96c4\\u76f8\\u6bd4\\u4e4b\\u4e0b\\\", \\\"cmtDate\\\": \\\"2024-03-17 20:19:00\\\"}, {\\\"cmtStatus\\\": \\\"\\u2192\\\", \\\"cmtPoster\\\": \\\"remix920\\\", \\\"cmtContent\\\": \\\":\\u5982\\u4f55\\u56e0\\u70ba\\u7a0d\\u5fae\\\", \\\"cmtDate\\\": \\\"2024-03-17 20:19:00\\\"}, {\\\"cmtStatus\\\": \\\"\\u2192\\\", \\\"cmtPoster\\\": \\\"remix920\\\", \\\"cmtContent\\\": \\\":\\u67e5\\u4e86\\u4e00\\u4e0b\\u597d\\u50cf\\\", \\\"cmtDate\\\": \\\"2024-03-17 20:19:00\\\"}, {\\\"cmtStatus\\\": \\\"\\u63a8\\\", \\\"cmtPoster\\\": \\\"arkin\\\", \\\"cmtContent\\\": \\\":\\u63a8\\u5bf6\\u4f73\\u662f\\u8a8d\\u771f\\u7684\\u55ce\\u5bf6\\u4f73\\u5c31\\u662f\\u54c1\\u8cea\\u666e\\u4f46\\u4fbf\\u5b9c\\\", \\\"cmtDate\\\": \\\"2024-03-18 01:02:00\\\"}, {\\\"cmtStatus\\\": \\\"\\u2192\\\", \\\"cmtPoster\\\": \\\"arkin\\\", \\\"cmtContent\\\": \\\":\\u8cb7\\u5f97\\u8d77\\u570b\\u6cf0\\u7576\\u7136\\u8cb7\\u554a\\u554f\\u984c\\u662f\\u2026\\u8aaa\\u771f\\u7684\\u9060\\u96c4\\u4e5f\\u6bd4\\u5bf6\\u4f73\\u8cb4\\u5427\\\", \\\"cmtDate\\\": \\\"2024-03-18 01:03:00\\\"}, {\\\"cmtStatus\\\": \\\"\\u2192\\\", \\\"cmtPoster\\\": \\\"arkin\\\", \\\"cmtContent\\\": \\\":\\u4f60\\u9810\\u7b97\\u5728\\u54ea\\u908a\\u53c8\\u975e\\u5f97\\u73fe\\u5728\\u8cb7\\u7684\\u8a71\\u6709\\u4ec0\\u9ebc\\u9078\\u64c7\\u55ce\\\", \\\"cmtDate\\\": \\\"2024-03-18 01:03:00\\\"}, {\\\"cmtStatus\\\": \\\"\\u63a8\\\", \\\"cmtPoster\\\": \\\"kyova\\\", \\\"cmtContent\\\": \\\":\\u8981\\u8003\\u616e\\u7e3d\\u50f9\\u5566...\\u570b\\u6cf0\\u53ef\\u80fd\\u76f4\\u63a5\\u5237\\u78344\\u5343\\uff0c\\u4f60\\u6839\\u672c\\u8cfa\\u4e0d\\u5230...\\\", \\\"cmtDate\\\": \\\"2024-03-18 01:04:00\\\"}, {\\\"cmtStatus\\\": \\\"\\u2192\\\", \\\"cmtPoster\\\": \\\"kyova\\\", \\\"cmtContent\\\": \\\":\\u9644\\u8fd1\\u6c38\\u5eb7\\u5b89\\u5357\\u751a\\u81f3\\u5584\\u65b0\\u5b89\\u5b9a\\u9084\\u4e00\\u5806\\u5730\\uff0c\\u8981\\u8ddf\\u900f\\u5929\\u7af6\\u722d\\u5566...\\\", \\\"cmtDate\\\": \\\"2024-03-18 01:05:00\\\"}, {\\\"cmtStatus\\\": \\\"\\u2192\\\", \\\"cmtPoster\\\": \\\"kyova\\\", \\\"cmtContent\\\": \\\":\\u5927\\u576a\\u6578\\u5927\\u6a13\\u6c92\\u666f\\u89c0\\u5f88\\u96e3\\u6253\\u8d0f\\u3002\\u800c\\u4e14\\u6211\\u731c\\u570b\\u6cf0\\u9019\\u6848\\u7684\\u576a\\u6578\\u5927\\u6982\\u4e5f\\\", \\\"cmtDate\\\": \\\"2024-03-18 01:06:00\\\"}, {\\\"cmtStatus\\\": \\\"\\u2192\\\", \\\"cmtPoster\\\": \\\"kyova\\\", \\\"cmtContent\\\": \\\":\\u6703\\u88ab\\u58d3\\u5f88\\u5c0f\\u3002\\u516c\\u8a2d\\u6263\\u4e00\\u6263\\u5ba4\\u5167\\u641e\\u4e0d\\u597d\\u5269\\u4e0d\\u523040\\u576a...\\\", \\\"cmtDate\\\": \\\"2024-03-18 01:07:00\\\"}, {\\\"cmtStatus\\\": \\\"\\u2192\\\", \\\"cmtPoster\\\": \\\"kyova\\\", \\\"cmtContent\\\": \\\":\\u641e\\u4e0d\\u597d\\u53ea\\u6709\\u900f\\u5929\\u7684\\u4e00\\u534a...\\u6158\\\", \\\"cmtDate\\\": \\\"2024-03-18 01:09:00\\\"}, {\\\"cmtStatus\\\": \\\"\\u2192\\\", \\\"cmtPoster\\\": \\\"kyova\\\", \\\"cmtContent\\\": \\\":\\u9019\\u908a\\u7684\\u4e8c\\u624b\\u570b\\u6cf0\\u6211\\u89ba\\u7684\\u6d41\\u52d5\\u6027\\u4e0d\\u5982\\u5e02\\u5340\\u7684...\\\", \\\"cmtDate\\\": \\\"2024-03-18 01:09:00\\\"}, {\\\"cmtStatus\\\": \\\"\\u2192\\\", \\\"cmtPoster\\\": \\\"kyova\\\", \\\"cmtContent\\\": \\\":\\u6709\\u9322\\u4eba\\u9084\\u7279\\u4e0d\\u559c\\u6b61\\u63a5\\u4e8c\\u624b\\u5927\\u6a13...\\\", \\\"cmtDate\\\": \\\"2024-03-18 01:10:00\\\"}, {\\\"cmtStatus\\\": \\\"\\u2192\\\", \\\"cmtPoster\\\": \\\"kyova\\\", \\\"cmtContent\\\": \\\":\\u9664\\u975e\\u5e9c\\u5bcc\\u50d1\\uff0c\\u576a\\u6578\\u53c8\\u5927\\u5730\\u9ede\\u4e5f\\u4e0d\\u5dee\\u90a3\\u9084\\u53ef\\u4ee5\\u8003\\u616e...\\\", \\\"cmtDate\\\": \\\"2024-03-18 01:10:00\\\"}, {\\\"cmtStatus\\\": \\\"\\u63a8\\\", \\\"cmtPoster\\\": \\\"NSYSUEE\\\", \\\"cmtContent\\\": \\\":\\u81ea\\u4f4f\\u7121\\u5eb8\\u7f6e\\u7591\\u5c31\\u662f\\u570b\\u6cf0\\uff0c\\u4f46\\u5982\\u679c\\u6211\\u662f\\u8981\\u6295\\u8cc7\\u7684\\uff0c\\u6211\\u6703\\u9078\\u9644\\u8fd1\\\", \\\"cmtDate\\\": \\\"2024-03-18 16:32:00\\\"}, {\\\"cmtStatus\\\": \\\"\\u2192\\\", \\\"cmtPoster\\\": \\\"NSYSUEE\\\", \\\"cmtContent\\\": \\\":\\u4e8c\\u624b\\u4e2d\\u53e4\\u5c4b\\u66f4\\u4fbf\\u5b9c\\u7684\\u8cb7\\uff0c\\u7136\\u5f8c\\u79df\\u4eba\\u3002\\u56e0\\u70ba\\u4f60\\u4ed4\\u7d30\\u7b97\\u7684\\u8a71\\uff0c\\u9078\\\", \\\"cmtDate\\\": \\\"2024-03-18 16:32:00\\\"}, {\\\"cmtStatus\\\": \\\"\\u2192\\\", \\\"cmtPoster\\\": \\\"NSYSUEE\\\", \\\"cmtContent\\\": \\\":\\u5bf6\\u5bf6\\u7684\\u65b0\\u5efa\\u6848\\u6295\\u5831\\u7387\\u4e5f\\u5f88\\u5dee\\uff0c\\u4f46\\u9078\\u4e8c\\u624b\\u4e2d\\u53e4\\u5c4b\\u7684\\u7522\\u54c1\\u79df\\u4eba\\u653e\\\", \\\"cmtDate\\\": \\\"2024-03-18 16:32:00\\\"}, {\\\"cmtStatus\\\": \\\"\\u2192\\\", \\\"cmtPoster\\\": \\\"NSYSUEE\\\", \\\"cmtContent\\\": \\\":\\u8457\\uff0c\\u6295\\u5831\\u7387\\u6703\\u9ad8\\u4e00\\u9ede\\\", \\\"cmtDate\\\": \\\"2024-03-18 16:32:00\\\"}, {\\\"cmtStatus\\\": \\\"\\u63a8\\\", \\\"cmtPoster\\\": \\\"billbigd\\\", \\\"cmtContent\\\": \\\":\\u770b\\u4f86\\u5927\\u5bb6\\u4e00\\u81f4\\u63a8\\u85a6\\u634f\\u4e00\\u4e0b\\u76f4\\u4e0a\\u570b\\u6cf0\\uff0c\\u6211\\u7b49\\u770b\\u770b\\u958b\\u50f9\\u518d\\u60f3\\u60f3\\\", \\\"cmtDate\\\": \\\"2024-03-18 16:46:00\\\"}, {\\\"cmtStatus\\\": \\\"\\u2192\\\", \\\"cmtPoster\\\": \\\"billbigd\\\", \\\"cmtContent\\\": \\\":\\u56e0\\u70ba\\u570b\\u6cf0\\u9084\\u6c92\\u958b\\u6316\\uff0c\\u6709\\u6bd4\\u8f03\\u5145\\u8db3\\u7684\\u6642\\u9593\\u6e96\\u5099\\u982d\\u671f\\\", \\\"cmtDate\\\": \\\"2024-03-18 16:47:00\\\"}]\",\n          \"[{\\\"cmtStatus\\\": \\\"\\u63a8\\\", \\\"cmtPoster\\\": \\\"kagaya\\\", \\\"cmtContent\\\": \\\":\\u677f\\u51f3\\u96e2\\u5a5a\\u884c\\u4e0d\\u884c\\\", \\\"cmtDate\\\": \\\"2024-03-30 22:07:00\\\"}, {\\\"cmtStatus\\\": \\\"\\u5653\\\", \\\"cmtPoster\\\": \\\"ZhuBeiCity\\\", \\\"cmtContent\\\": \\\":\\u70ba\\u4e86\\u65b0\\u9752\\u5b89\\u641e\\u5230\\u8981\\u96e2\\u5a5a\\u4f60\\u662f\\u4f86\\u4e82\\u7684\\u5427\\\", \\\"cmtDate\\\": \\\"2024-03-30 22:07:00\\\"}, {\\\"cmtStatus\\\": \\\"\\u2192\\\", \\\"cmtPoster\\\": \\\"ZhuBeiCity\\\", \\\"cmtContent\\\": \\\":\\u6c92\\u770b\\u904e\\u9019\\u7a2e\\u6295\\u8cc7\\u5ba2\\u7684\\u50bb\\u773c\\\", \\\"cmtDate\\\": \\\"2024-03-30 22:08:00\\\"}, {\\\"cmtStatus\\\": \\\"\\u2192\\\", \\\"cmtPoster\\\": \\\"ZhuBeiCity\\\", \\\"cmtContent\\\": \\\":\\u65b0\\u9752\\u5b89\\u6709\\u597d\\u5230\\u8981\\u96e2\\u5a5a\\u4f86\\u8fa6\\u8cb8\\u6b3e\\u55ce\\u4f60\\u6709\\u6c92\\u6709\\u641e\\u932f\\\", \\\"cmtDate\\\": \\\"2024-03-30 22:08:00\\\"}, {\\\"cmtStatus\\\": \\\"\\u2192\\\", \\\"cmtPoster\\\": \\\"menace\\\", \\\"cmtContent\\\": \\\":\\u4ee3\\u554f\\u2026\\\", \\\"cmtDate\\\": \\\"2024-03-30 22:17:00\\\"}, {\\\"cmtStatus\\\": \\\"\\u2192\\\", \\\"cmtPoster\\\": \\\"menace\\\", \\\"cmtContent\\\": \\\":\\u4e0d\\u662f\\u6295\\u8cc7\\u5ba2\\u554a\\u5c31\\u4e00\\u822c\\u5bb6\\u5ead\\\", \\\"cmtDate\\\": \\\"2024-03-30 22:18:00\\\"}, {\\\"cmtStatus\\\": \\\"\\u63a8\\\", \\\"cmtPoster\\\": \\\"CIIIO\\\", \\\"cmtContent\\\": \\\":\\u6700\\u8fd1\\u624d\\u77e5\\u9053\\u65b0\\u9752\\u5b89\\u4e0d\\u80fd\\u51fa\\u79df\\u6709\\u9ede\\u68d8\\u624b\\\", \\\"cmtDate\\\": \\\"2024-03-30 22:19:00\\\"}, {\\\"cmtStatus\\\": \\\"\\u2192\\\", \\\"cmtPoster\\\": \\\"menace\\\", \\\"cmtContent\\\": \\\":\\u5c31\\u627e\\u4e0d\\u80fd\\u5831\\u7a05\\u7684\\u61c9\\u8a72\\u9084\\u597d\\uff1f\\u6216\\u662f\\u7a7a\\u7f6e\\u4e00\\u5e74\\u770b\\u770b\\uff1f\\\", \\\"cmtDate\\\": \\\"2024-03-30 22:20:00\\\"}, {\\\"cmtStatus\\\": \\\"\\u63a8\\\", \\\"cmtPoster\\\": \\\"ZhuBeiCity\\\", \\\"cmtContent\\\": \\\":\\u6c92\\u5fc5\\u8981\\u70ba\\u4e86\\u65b0\\u9752\\u5b89\\u5c31\\u96e2\\u5a5a\\u5427\\\", \\\"cmtDate\\\": \\\"2024-03-30 22:22:00\\\"}, {\\\"cmtStatus\\\": \\\"\\u2192\\\", \\\"cmtPoster\\\": \\\"ZhuBeiCity\\\", \\\"cmtContent\\\": \\\":\\u4f60\\u4e0d\\u89ba\\u5f97\\u5f88\\u53ef\\u7b11\\u55ce\\\", \\\"cmtDate\\\": \\\"2024-03-30 22:22:00\\\"}, {\\\"cmtStatus\\\": \\\"\\u2192\\\", \\\"cmtPoster\\\": \\\"blargelp\\\", \\\"cmtContent\\\": \\\":\\u5347\\u606f\\u5f8c\\uff0c\\u8cb8\\u6eff\\u4e00\\u5343\\u842c\\u4e00\\u5e74\\u5c11\\u56db\\u842c\\u4e00\\uff0c\\u5169\\u5e74\\u5c31\\u516b\\u842c\\u4e8c\\u4e86\\u3002\\u96e2\\\", \\\"cmtDate\\\": \\\"2024-03-30 22:40:00\\\"}, {\\\"cmtStatus\\\": \\\"\\u2192\\\", \\\"cmtPoster\\\": \\\"blargelp\\\", \\\"cmtContent\\\": \\\":\\u5a5a\\u734e\\u91d1\\uff0c\\u5e79\\u561b\\u4e0d\\u96e2\\uff1f\\\", \\\"cmtDate\\\": \\\"2024-03-30 22:40:00\\\"}, {\\\"cmtStatus\\\": \\\"\\u63a8\\\", \\\"cmtPoster\\\": \\\"ZhuBeiCity\\\", \\\"cmtContent\\\": \\\":\\u5c0f\\u5fc3\\u5047\\u96e2\\u5a5a\\u8b8a\\u771f\\u96e2\\u5a5a\\u70ba\\u4e86\\u5e7e\\u842c\\u5143\\u5c31\\u96e2\\u5a5a\\\", \\\"cmtDate\\\": \\\"2024-03-30 22:41:00\\\"}, {\\\"cmtStatus\\\": \\\"\\u2192\\\", \\\"cmtPoster\\\": \\\"ZhuBeiCity\\\", \\\"cmtContent\\\": \\\":\\u9019\\u5a5a\\u59fb\\u6211\\u770b\\u4e5f\\u662f\\u4e0d\\u7a69\\\", \\\"cmtDate\\\": \\\"2024-03-30 22:41:00\\\"}, {\\\"cmtStatus\\\": \\\"\\u2192\\\", \\\"cmtPoster\\\": \\\"blargelp\\\", \\\"cmtContent\\\": \\\":\\u539f\\u672c30\\u7684\\u4e5f\\u80fd\\u6524\\u523040\\u5e74\\u3002\\u6709\\u4fe1\\u5fc3\\u96e2\\u4e86\\u5169\\u4eba\\u7d50\\u7684\\u56de\\u4f86\\u7684\\u8a71\\uff0c\\u771f\\\", \\\"cmtDate\\\": \\\"2024-03-30 22:41:00\\\"}, {\\\"cmtStatus\\\": \\\"\\u2192\\\", \\\"cmtPoster\\\": \\\"blargelp\\\", \\\"cmtContent\\\": \\\":\\u7684\\u96e2\\u4e00\\u96e2\\u6bd4\\u8f03\\u597d\\u3002\\\", \\\"cmtDate\\\": \\\"2024-03-30 22:41:00\\\"}, {\\\"cmtStatus\\\": \\\"\\u2192\\\", \\\"cmtPoster\\\": \\\"ZhuBeiCity\\\", \\\"cmtContent\\\": \\\":\\u8ddf\\u90a3\\u500b\\u6539\\u540d\\u9bad\\u9b5a\\u53ef\\u4ee5\\u5403\\u58fd\\u53f8\\u5403\\u5230\\u98fd\\u4e00\\u6a23\\u597d\\u7b11\\\", \\\"cmtDate\\\": \\\"2024-03-30 22:41:00\\\"}, {\\\"cmtStatus\\\": \\\"\\u2192\\\", \\\"cmtPoster\\\": \\\"ZhuBeiCity\\\", \\\"cmtContent\\\": \\\":\\u96e2\\u5a5a\\u7d50\\u679c\\u5c0f\\u5fc3\\u88ab\\u6de8\\u8eab\\u51fa\\u6236\\u7d50\\u4e0d\\u56de\\u4f86\\\", \\\"cmtDate\\\": \\\"2024-03-30 22:42:00\\\"}, {\\\"cmtStatus\\\": \\\"\\u2192\\\", \\\"cmtPoster\\\": \\\"ZhuBeiCity\\\", \\\"cmtContent\\\": \\\":\\u70ba\\u4e86\\u5e7e\\u842c\\u5143\\u9084\\u771f\\u7684\\u53bb\\u96e2\\u5a5a\\u7684\\u6211\\u53ea\\u80fd\\u8aaa\\u4fdd\\u91cd\\\", \\\"cmtDate\\\": \\\"2024-03-30 22:42:00\\\"}, {\\\"cmtStatus\\\": \\\"\\u2192\\\", \\\"cmtPoster\\\": \\\"ZhuBeiCity\\\", \\\"cmtContent\\\": \\\":\\u5c0f\\u5fc3\\u771f\\u7684\\u88ab\\u96e2\\u5a5a\\u7d50\\u4e0d\\u56de\\u4f86\\u70ba\\u4e86\\u77018\\u842c\\u5f04\\u5de7\\u6210\\u62d9\\\", \\\"cmtDate\\\": \\\"2024-03-30 22:42:00\\\"}, {\\\"cmtStatus\\\": \\\"\\u63a8\\\", \\\"cmtPoster\\\": \\\"wsx890811\\\", \\\"cmtContent\\\": \\\":\\u60f3\\u77e5\\u9053\\u52a0\\u4e00\\\", \\\"cmtDate\\\": \\\"2024-03-30 22:59:00\\\"}, {\\\"cmtStatus\\\": \\\"\\u63a8\\\", \\\"cmtPoster\\\": \\\"l98\\\", \\\"cmtContent\\\": \\\":B\\u677f\\u53cb\\u524d\\u9762\\u4e0d\\u662f\\u6709\\u518d\\u554f\\u55ce\\uff1f\\u4eba\\u5fc3\\u5f88\\u96e3\\u8aaa\\u7684\\u3002\\\", \\\"cmtDate\\\": \\\"2024-03-30 23:05:00\\\"}, {\\\"cmtStatus\\\": \\\"\\u2192\\\", \\\"cmtPoster\\\": \\\"l98\\\", \\\"cmtContent\\\": \\\":\\u4f60\\u8981\\u4e0d\\u8981\\u793a\\u7bc4\\u4e00\\u4e0b\\u589e\\u52a0\\u6709\\u9019\\u9ebc\\u5ff5\\u982d\\u7684\\u4eba\\u7684\\u7684\\u4fe1\\u5fc3\\uff1f\\\", \\\"cmtDate\\\": \\\"2024-03-30 23:07:00\\\"}, {\\\"cmtStatus\\\": \\\"\\u2192\\\", \\\"cmtPoster\\\": \\\"l98\\\", \\\"cmtContent\\\": \\\":\\u5c11\\u4e86\\u90a3\\u5f35\\u5408\\u7d04\\uff0c\\u624b\\u7e8c\\u8fa6\\u5b8c\\uff0c\\u5c0d\\u65b9\\u8f49\\u982d\\u627e\\u5225\\u7684\\u4eba\\uff0c\\u4f60\\u4e5f\\u6c92\\u4ec0\\u9ebc\\u8fa6\\u6cd5\\\", \\\"cmtDate\\\": \\\"2024-03-30 23:08:00\\\"}, {\\\"cmtStatus\\\": \\\"\\u2192\\\", \\\"cmtPoster\\\": \\\"l98\\\", \\\"cmtContent\\\": \\\":\\u4eba\\u8ca1\\u5169\\u5931\\uff5e\\uff5e\\uff5e\\\", \\\"cmtDate\\\": \\\"2024-03-30 23:09:00\\\"}, {\\\"cmtStatus\\\": \\\"\\u5653\\\", \\\"cmtPoster\\\": \\\"ZhuBeiCity\\\", \\\"cmtContent\\\": \\\":\\u62dc\\u8a17\\u4e0d\\u8981\\u4f86\\u641e\\u7b11\\u4e86\\u597d\\u55ce\\u70ba\\u4e86\\u77018\\u842c\\u5229\\u606f\\u96e2\\u5a5a\\\", \\\"cmtDate\\\": \\\"2024-03-30 23:12:00\\\"}, {\\\"cmtStatus\\\": \\\"\\u2192\\\", \\\"cmtPoster\\\": \\\"ZhuBeiCity\\\", \\\"cmtContent\\\": \\\":\\u6211\\u52d2\\u9019\\u61c9\\u8a72\\u662f\\u83dc\\u7c43\\u65cf\\u4e0d\\u662f\\u6211\\u5011\\u6843\\u5712\\u4e00\\u54e5A7\\u6295\\u8cc7\\u5ba2\\u7fa4\\u5427\\\", \\\"cmtDate\\\": \\\"2024-03-30 23:12:00\\\"}, {\\\"cmtStatus\\\": \\\"\\u2192\\\", \\\"cmtPoster\\\": \\\"ZhuBeiCity\\\", \\\"cmtContent\\\": \\\":\\u6295\\u8cc7\\u623f\\u5b50\\u96a8\\u4fbf\\u90fd\\u8cfa\\u5e7e\\u767e\\u842c\\u4f60\\u70ba\\u4e86\\u77018\\u842c\\u5229\\u606f\\u96e2\\u5a5a\\\", \\\"cmtDate\\\": \\\"2024-03-30 23:13:00\\\"}, {\\\"cmtStatus\\\": \\\"\\u2192\\\", \\\"cmtPoster\\\": \\\"ZhuBeiCity\\\", \\\"cmtContent\\\": \\\":\\u6211\\u52d2...................\\\", \\\"cmtDate\\\": \\\"2024-03-30 23:13:00\\\"}, {\\\"cmtStatus\\\": \\\"\\u2192\\\", \\\"cmtPoster\\\": \\\"ZhuBeiCity\\\", \\\"cmtContent\\\": \\\":\\u70ba\\u4e86\\u65b0\\u9752\\u5b89\\u4f60\\u53ef\\u4ee5\\u96e2\\u5a5a\\u963f\\u53ef\\u4e0d\\u4fdd\\u8b49\\u4f60\\u7d50\\u7684\\u56de\\u53bb\\u5594XD\\\", \\\"cmtDate\\\": \\\"2024-03-30 23:13:00\\\"}, {\\\"cmtStatus\\\": \\\"\\u63a8\\\", \\\"cmtPoster\\\": \\\"htwlovefl\\\", \\\"cmtContent\\\": \\\":\\u90fd\\u6709\\u4eba\\u70ba\\u4e86\\u4e94\\u5104\\u8ddf\\u7537\\u9ad8\\u4e2d\\u751f\\u7d50\\u5a5a\\u4e86\\\", \\\"cmtDate\\\": \\\"2024-03-30 23:29:00\\\"}, {\\\"cmtStatus\\\": \\\"\\u63a8\\\", \\\"cmtPoster\\\": \\\"pickchu22001\\\", \\\"cmtContent\\\": \\\":\\u641e\\u4e0d\\u597d\\u65e9\\u60f3\\u60f3\\u96e2,\\u7528\\u9019\\u62db\\u9a19\\u4eba\\u7c3d\\u5b57\\\", \\\"cmtDate\\\": \\\"2024-03-30 23:31:00\\\"}, {\\\"cmtStatus\\\": \\\"\\u63a8\\\", \\\"cmtPoster\\\": \\\"Tattoo\\\", \\\"cmtContent\\\": \\\":\\u96e2\\u5a5a\\u5c31\\u4e00\\u500b\\u5f62\\u5f0f\\u800c\\u5df2\\\", \\\"cmtDate\\\": \\\"2024-03-30 23:37:00\\\"}, {\\\"cmtStatus\\\": \\\"\\u63a8\\\", \\\"cmtPoster\\\": \\\"l98\\\", \\\"cmtContent\\\": \\\":\\u89e3\\u9664\\u8ce3\\u8eab\\u5951\\u7d04\\u7684\\u5f62\\u5f0f\\\", \\\"cmtDate\\\": \\\"2024-03-30 23:43:00\\\"}, {\\\"cmtStatus\\\": \\\"\\u2192\\\", \\\"cmtPoster\\\": \\\"JOKO58802218\\\", \\\"cmtContent\\\": \\\":\\u8ca1\\u7522\\u4e5f\\u525b\\u597d....\\\", \\\"cmtDate\\\": \\\"2024-03-31 00:24:00\\\"}, {\\\"cmtStatus\\\": \\\"\\u63a8\\\", \\\"cmtPoster\\\": \\\"angele\\\", \\\"cmtContent\\\": \\\":8\\u842c\\u5229\\u606f\\u96e2\\u5a5a......\\\", \\\"cmtDate\\\": \\\"2024-03-31 00:58:00\\\"}, {\\\"cmtStatus\\\": \\\"\\u2192\\\", \\\"cmtPoster\\\": \\\"magomago\\\", \\\"cmtContent\\\": \\\":\\u96d6\\u597d\\u7b11\\uff0c\\u4f46\\u5f88\\u53ef\\u80fd\\u4e00\\u5806\\u4eba\\u9019\\u6a23\\u641e\\\", \\\"cmtDate\\\": \\\"2024-03-31 01:36:00\\\"}, {\\\"cmtStatus\\\": \\\"\\u5653\\\", \\\"cmtPoster\\\": \\\"chamber\\\", \\\"cmtContent\\\": \\\":\\u8a8d\\u771f\\u56de\\uff1a\\u6cd5\\u5f8b\\u4e0a\\u300c\\u53ef\\u80fd\\u300d\\u8a8d\\u70ba\\u9019\\u662f\\u865b\\u507d\\u610f\\u601d\\u96e2\\u5a5a\\uff0c\\u96e2\\u5a5a\\u7121\\u6548\\\", \\\"cmtDate\\\": \\\"2024-03-31 01:57:00\\\"}, {\\\"cmtStatus\\\": \\\"\\u2192\\\", \\\"cmtPoster\\\": \\\"chamber\\\", \\\"cmtContent\\\": \\\":\\u3002\\\", \\\"cmtDate\\\": \\\"2024-03-31 01:57:00\\\"}, {\\\"cmtStatus\\\": \\\"\\u2192\\\", \\\"cmtPoster\\\": \\\"cobrabaton\\\", \\\"cmtContent\\\": \\\":\\u5c31\\u96e2\\u5a5a\\u5f8c\\u627e\\u5225\\u4eba\\u7d50\\u5a5a\\u5c31\\u597d\\u4e86\\uff0c\\u96e2\\u5a5a\\u7d50\\u5a5a=\\u904e\\u6236\\uff0c\\u6c92\\u90a3\\u9ebc\\u8907\\\", \\\"cmtDate\\\": \\\"2024-03-31 06:35:00\\\"}, {\\\"cmtStatus\\\": \\\"\\u2192\\\", \\\"cmtPoster\\\": \\\"cobrabaton\\\", \\\"cmtContent\\\": \\\":\\u96dc\\\", \\\"cmtDate\\\": \\\"2024-03-31 06:35:00\\\"}, {\\\"cmtStatus\\\": \\\"\\u2192\\\", \\\"cmtPoster\\\": \\\"cobrabaton\\\", \\\"cmtContent\\\": \\\":\\u4f60\\u628a\\u6236\\u653f\\u7576\\u76e3\\u7406\\u7ad9\\u5c31\\u597d\\u4e86\\uff0c\\u884c\\u7167=\\u6236\\u53e3\\u540d\\u7c3f\\\", \\\"cmtDate\\\": \\\"2024-03-31 06:35:00\\\"}, {\\\"cmtStatus\\\": \\\"\\u2192\\\", \\\"cmtPoster\\\": \\\"cobrabaton\\\", \\\"cmtContent\\\": \\\":\\u96e2\\u5a5a\\u7d50\\u5a5a\\u53ea\\u662f\\u9053\\u5fb7\\u7cbe\\u795e\\u4e0a\\u7684\\u675f\\u7e1b\\u6bd4\\u8f03\\u91cd\\\", \\\"cmtDate\\\": \\\"2024-03-31 06:37:00\\\"}, {\\\"cmtStatus\\\": \\\"\\u63a8\\\", \\\"cmtPoster\\\": \\\"tswen\\\", \\\"cmtContent\\\": \\\":\\u5ee2\\u6587\\\", \\\"cmtDate\\\": \\\"2024-03-31 08:13:00\\\"}, {\\\"cmtStatus\\\": \\\"\\u63a8\\\", \\\"cmtPoster\\\": \\\"chouwang68\\\", \\\"cmtContent\\\": \\\":\\u5148\\u627f\\u8a8d\\u3002\\u3002\\u3002\\\", \\\"cmtDate\\\": \\\"2024-03-31 09:21:00\\\"}, {\\\"cmtStatus\\\": \\\"\\u2192\\\", \\\"cmtPoster\\\": \\\"jessicaabc98\\\", \\\"cmtContent\\\": \\\":\\u5c31\\u6295\\u8cc7\\u5ba2\\u4e2b\\uff0c\\u4e0d\\u7136\\u4f60\\u5c31\\u6709\\u623f\\u4e86\\uff0c\\u6211\\u5feb\\u7b11\\u6b7b\\\", \\\"cmtDate\\\": \\\"2024-03-31 09:23:00\\\"}, {\\\"cmtStatus\\\": \\\"\\u5653\\\", \\\"cmtPoster\\\": \\\"Miami5566\\\", \\\"cmtContent\\\": \\\":\\u807d\\u904e\\u4e00\\u500b\\u90fd\\u5e02\\u50b3\\u8aaa\\uff0c\\u7236\\u6bcd\\u5f88\\u6709\\u9322\\u8981\\u8f49\\u79fb\\u8cc7\\u7522\\u7d66\\u5c0f\\u5b69\\u6642\\uff0c\\u7236\\\", \\\"cmtDate\\\": \\\"2024-03-31 10:24:00\\\"}, {\\\"cmtStatus\\\": \\\"\\u2192\\\", \\\"cmtPoster\\\": \\\"Miami5566\\\", \\\"cmtContent\\\": \\\":\\u6bcd\\u8ddf\\u5c0f\\u5b69\\u592b\\u5a66\\u90fd\\u5148\\u96e2\\u5a5a\\uff0c\\u7136\\u5f8c\\u516c\\u516c\\u8ddf\\u5ab3\\u5a66\\u7d50\\u5a5a\\uff0c\\u8d08\\u8207\\u5b8c\\u6210\\\", \\\"cmtDate\\\": \\\"2024-03-31 10:24:00\\\"}, {\\\"cmtStatus\\\": \\\"\\u2192\\\", \\\"cmtPoster\\\": \\\"Miami5566\\\", \\\"cmtContent\\\": \\\":\\u5f8c\\u518d\\u96e2\\u5a5a\\u8ddf\\u539f\\u65b0\\u914d\\u5076\\u7d50\\u5a5a\\u2026.\\\", \\\"cmtDate\\\": \\\"2024-03-31 10:24:00\\\"}, {\\\"cmtStatus\\\": \\\"\\u2192\\\", \\\"cmtPoster\\\": \\\"kagaya\\\", \\\"cmtContent\\\": \\\":\\u6a13\\u4e0a\\u9019\\u4ec0\\u9ebc\\u5566XD\\\", \\\"cmtDate\\\": \\\"2024-03-31 10:49:00\\\"}, {\\\"cmtStatus\\\": \\\"\\u63a8\\\", \\\"cmtPoster\\\": \\\"Miami5566\\\", \\\"cmtContent\\\": \\\":\\u67e5\\u7121\\u4e0d\\u6cd5\\u8b1d\\u8b1d\\u6307\\u6559\\\", \\\"cmtDate\\\": \\\"2024-03-31 10:53:00\\\"}, {\\\"cmtStatus\\\": \\\"\\u63a8\\\", \\\"cmtPoster\\\": \\\"kimi0315\\\", \\\"cmtContent\\\": \\\":\\u60f3\\u8981\\u96e2\\u5a5a\\u624d\\u662f\\u771f\\u7684\\uff01\\u65b0\\u9752\\u5b89\\u53ea\\u662f\\u85c9\\u53e3\\u5427\\uff08\\u8aa4\\uff09\\\", \\\"cmtDate\\\": \\\"2024-03-31 10:55:00\\\"}, {\\\"cmtStatus\\\": \\\"\\u63a8\\\", \\\"cmtPoster\\\": \\\"e65947\\\", \\\"cmtContent\\\": \\\":\\u771f\\u7684\\u6709\\u7d50\\u4e0d\\u56de\\u4f86\\u7684\\u8acb\\u4fdd\\u91cd==\\\", \\\"cmtDate\\\": \\\"2024-03-31 14:59:00\\\"}, {\\\"cmtStatus\\\": \\\"\\u63a8\\\", \\\"cmtPoster\\\": \\\"chouwang68\\\", \\\"cmtContent\\\": \\\":\\u90fd\\u5e02\\u50b3\\u8aaa\\u679c\\u7136\\u662f\\u90fd\\u5e02\\u50b3\\u8aaa\\uff01\\u76f4\\u7cfb\\u59fb\\u89aa\\u662f\\u7d50\\u5a5a\\u7684\\u6d88\\u6975\\u8981\\u4ef6\\\", \\\"cmtDate\\\": \\\"2024-03-31 18:35:00\\\"}, {\\\"cmtStatus\\\": \\\"\\u2192\\\", \\\"cmtPoster\\\": \\\"chouwang68\\\", \\\"cmtContent\\\": \\\":\\uff0c\\u5c31\\u7b97\\u95dc\\u4fc2\\u6d88\\u6ec5\\u4e5f\\u7121\\u6548\\uff0c\\u9019\\u662f\\u70ba\\u4e86\\u502b\\u5e38\\u7684\\u7acb\\u6cd5\\u3002\\\", \\\"cmtDate\\\": \\\"2024-03-31 18:35:00\\\"}, {\\\"cmtStatus\\\": \\\"\\u63a8\\\", \\\"cmtPoster\\\": \\\"encoreg57985\\\", \\\"cmtContent\\\": \\\":chouwang68\\u8aaa\\u7684\\u6c11\\u6cd5\\u6b63\\u78ba\\\", \\\"cmtDate\\\": \\\"2024-03-31 19:47:00\\\"}, {\\\"cmtStatus\\\": \\\"\\u63a8\\\", \\\"cmtPoster\\\": \\\"cobrabaton\\\", \\\"cmtContent\\\": \\\":\\u6a13\\u4e0a\\u5169\\u4f4d\\u6c92\\u8fa6\\u6cd5\\u554a\\u7fa4\\u7d44\\u6d41\\u50b3\\u7684\\u5927\\u5bb6\\u9858\\u610f\\u4fe1\\uff0c\\u5c31\\u8ddf\\u8a3a\\u6240\\u770b\\\", \\\"cmtDate\\\": \\\"2024-03-31 20:40:00\\\"}, {\\\"cmtStatus\\\": \\\"\\u2192\\\", \\\"cmtPoster\\\": \\\"cobrabaton\\\", \\\"cmtContent\\\": \\\":\\u8a3a\\u91ab\\u5e2b\\u8aaa\\u7684\\u90fd\\u4e0d\\u807d\\uff0c\\u7fa4\\u7d44\\u54ea\\u500b\\u53f0\\u5927\\u91ab\\u5e2b\\u6d41\\u50b3\\u7684\\u5c31\\u4fe1\\u5230\\u4e0d\\\", \\\"cmtDate\\\": \\\"2024-03-31 20:40:00\\\"}, {\\\"cmtStatus\\\": \\\"\\u2192\\\", \\\"cmtPoster\\\": \\\"cobrabaton\\\", \\\"cmtContent\\\": \\\":\\u884cXD\\u62ff\\u7d05\\u9eb4\\u4f86\\u8aaa\\u597d\\u4e86\\uff0c\\u7acb\\u666e\\u59a5=\\u7d05\\u9eb4\\u8403\\u53d6\\u85e5\\u7269\\u964d\\u81bd\\u56fa\\u9187\\u7528\\\", \\\"cmtDate\\\": \\\"2024-03-31 20:40:00\\\"}, {\\\"cmtStatus\\\": \\\"\\u2192\\\", \\\"cmtPoster\\\": \\\"cobrabaton\\\", \\\"cmtContent\\\": \\\":\\u4e00\\u76d228\\u9846450\\u5de6\\u53f3\\u4e00\\u984616\\u5143\\uff0c\\u4fbf\\u5b9c\\u5230\\u7206\\u800c\\u4e14\\u91ab\\u85e5\\u7b49\\u7d1a\\u662f\\\", \\\"cmtDate\\\": \\\"2024-03-31 20:40:00\\\"}, {\\\"cmtStatus\\\": \\\"\\u2192\\\", \\\"cmtPoster\\\": \\\"cobrabaton\\\", \\\"cmtContent\\\": \\\":\\u6700\\u9ad8\\u7b49\\u7d1a\\uff0c\\u7d50\\u679c\\u7d05\\u9eb4\\u81a0\\u56ca=\\u4e00\\u984650-60\\u751a\\u81f380\\u4e00\\u9846\\uff0c\\u6fc3\\u5ea6\\\", \\\"cmtDate\\\": \\\"2024-03-31 20:40:00\\\"}, {\\\"cmtStatus\\\": \\\"\\u2192\\\", \\\"cmtPoster\\\": \\\"cobrabaton\\\", \\\"cmtContent\\\": \\\":\\u6548\\u679c\\u90fd\\u6c92\\u85e5\\u7269\\u597d\\u3002\\u7d50\\u679c\\u4f60\\u770b\\u4fdd\\u5065\\u98df\\u54c1\\u5c31\\u51fa\\u4e8b\\u4e86\\u5427\\\", \\\"cmtDate\\\": \\\"2024-03-31 20:40:00\\\"}, {\\\"cmtStatus\\\": \\\"\\u63a8\\\", \\\"cmtPoster\\\": \\\"cobrabaton\\\", \\\"cmtContent\\\": \\\":\\u5982\\u679c\\u662f\\u53f0\\u5ee0\\u5b78\\u540d\\u85e5\\u66f4\\u4fbf\\u5b9c\\u4e00\\u76d228\\u9846\\u5169\\u767e\\u4ee5\\u5167\\uff0c\\u7b49\\u65bc\\u4e00\\u9846\\\", \\\"cmtDate\\\": \\\"2024-03-31 20:43:00\\\"}, {\\\"cmtStatus\\\": \\\"\\u2192\\\", \\\"cmtPoster\\\": \\\"cobrabaton\\\", \\\"cmtContent\\\": \\\":\\u9ad8\\u6fc3\\u5ea6\\u7d05\\u9eb4\\u8403\\u53d6\\u4e14\\u7d93\\u85e5\\u7269\\u6e2c\\u8a66\\u6709\\u6548\\u7684\\u85e5\\u624d6\\u5143\\u591a\\\", \\\"cmtDate\\\": \\\"2024-03-31 20:43:00\\\"}, {\\\"cmtStatus\\\": \\\"\\u63a8\\\", \\\"cmtPoster\\\": \\\"jen1121\\\", \\\"cmtContent\\\": \\\":\\u5641\\uff0c\\u8981\\u78ba\\u5b9a\\u8036\\\", \\\"cmtDate\\\": \\\"2024-03-31 21:09:00\\\"}, {\\\"cmtStatus\\\": \\\"\\u63a8\\\", \\\"cmtPoster\\\": \\\"chouwang68\\\", \\\"cmtContent\\\": \\\":\\u4eba\\u4e00\\u591a\\u667a\\u529b\\u6025\\u901f\\u4e0b\\u964d\\uff0c\\u6240\\u4ee5\\u4eba\\u591a\\u7684\\u5730\\u65b9\\u4e0d\\u8981\\u53bb\\u3002940XD\\\", \\\"cmtDate\\\": \\\"2024-04-01 08:54:00\\\"}, {\\\"cmtStatus\\\": \\\"\\u63a8\\\", \\\"cmtPoster\\\": \\\"paul76318\\\", \\\"cmtContent\\\": \\\":\\u96e2\\u5a5a\\u734e\\u91d1\\u6709\\u9ede\\u8352\\u8b2c\\u4e0d\\u904e\\u53ef\\u4ee5\\u51fa\\u570b\\u73a9\\u4e00\\u8d9f\\u4e86\\uff0c\\u61c9\\u8a72\\u771f\\u7684\\u6703\\u6709\\\", \\\"cmtDate\\\": \\\"2024-04-02 00:18:00\\\"}, {\\\"cmtStatus\\\": \\\"\\u2192\\\", \\\"cmtPoster\\\": \\\"paul76318\\\", \\\"cmtContent\\\": \\\":\\u4eba\\u96e2\\\", \\\"cmtDate\\\": \\\"2024-04-02 00:18:00\\\"}]\",\n          \"[{\\\"cmtStatus\\\": \\\"\\u63a8\\\", \\\"cmtPoster\\\": \\\"gtaped05550\\\", \\\"cmtContent\\\": \\\":\\u91cd\\u96fb\\u7a7a\\u55ae\\u770b\\u4f86\\u90fd\\u4f48\\u597d\\u4e86\\\", \\\"cmtDate\\\": \\\"2024-03-27 20:37:00\\\"}, {\\\"cmtStatus\\\": \\\"\\u2192\\\", \\\"cmtPoster\\\": \\\"goodapple807\\\", \\\"cmtContent\\\": \\\":\\u83ef\\u57ce\\u660e\\u5929\\u4e00\\u6839\\\", \\\"cmtDate\\\": \\\"2024-03-27 20:38:00\\\"}, {\\\"cmtStatus\\\": \\\"\\u5653\\\", \\\"cmtPoster\\\": \\\"wvotyyj5\\\", \\\"cmtContent\\\": \\\":\\u7da0\\u96fb\\u8cb7\\u6700\\u591a\\u7684\\u53eb\\u53f0\\u96fb\\uff0c\\u90a3\\u9ebc\\u611b\\u7da0\\u96fb\\u6bcf\\u5ea6\\u52a0\\u5169\\u584a\\u8ddf\\u53f0\\u96fb\\\", \\\"cmtDate\\\": \\\"2024-03-27 20:38:00\\\"}, {\\\"cmtStatus\\\": \\\"\\u2192\\\", \\\"cmtPoster\\\": \\\"wvotyyj5\\\", \\\"cmtContent\\\": \\\":\\u8cb7\\u554a\\\", \\\"cmtDate\\\": \\\"2024-03-27 20:38:00\\\"}, {\\\"cmtStatus\\\": \\\"\\u5653\\\", \\\"cmtPoster\\\": \\\"cuteSquirrel\\\", \\\"cmtContent\\\": \\\":\\u5439\\\", \\\"cmtDate\\\": \\\"2024-03-27 20:39:00\\\"}, {\\\"cmtStatus\\\": \\\"\\u5653\\\", \\\"cmtPoster\\\": \\\"TurtleGods\\\", \\\"cmtContent\\\": \\\":\\u4f60\\u8ab0\\\", \\\"cmtDate\\\": \\\"2024-03-27 20:39:00\\\"}, {\\\"cmtStatus\\\": \\\"\\u5653\\\", \\\"cmtPoster\\\": \\\"EXDes\\\", \\\"cmtContent\\\": \\\":\\u7b11\\u6b7b\\u53cd\\u6b63\\u662f\\u53f0\\u96fb\\u8ce0\\u9322www\\\", \\\"cmtDate\\\": \\\"2024-03-27 20:40:00\\\"}, {\\\"cmtStatus\\\": \\\"\\u5653\\\", \\\"cmtPoster\\\": \\\"Kobe5210\\\", \\\"cmtContent\\\": \\\":?\\\", \\\"cmtDate\\\": \\\"2024-03-27 20:40:00\\\"}, {\\\"cmtStatus\\\": \\\"\\u5653\\\", \\\"cmtPoster\\\": \\\"sandwich1028\\\", \\\"cmtContent\\\": \\\":\\u4f60\\u8ab0?\\u6191\\u5565\\u4fdd\\u8b49\\\", \\\"cmtDate\\\": \\\"2024-03-27 20:40:00\\\"}, {\\\"cmtStatus\\\": \\\"\\u5653\\\", \\\"cmtPoster\\\": \\\"a210510\\\", \\\"cmtContent\\\": \\\":\\u65e9\\u8aaa\\u600e\\u9ebc\\u4e0d\\u65e9\\u8aaa\\u5bb3\\u6211\\u4e2d\\u8208\\u96fb\\u76f4\\u63a5\\u8dcc\\u721b\\\", \\\"cmtDate\\\": \\\"2024-03-27 20:40:00\\\"}, {\\\"cmtStatus\\\": \\\"\\u2192\\\", \\\"cmtPoster\\\": \\\"tctv2002\\\", \\\"cmtContent\\\": \\\":\\u964d\\u58d3\\u4e0d\\u7b97\\u7f3a\\u96fb\\u55ce\\\", \\\"cmtDate\\\": \\\"2024-03-27 20:40:00\\\"}, {\\\"cmtStatus\\\": \\\"\\u63a8\\\", \\\"cmtPoster\\\": \\\"pttstock\\\", \\\"cmtContent\\\": \\\":\\u7f3a\\u4fbf\\u5b9c\\u7684\\u96fb\\\", \\\"cmtDate\\\": \\\"2024-03-27 20:40:00\\\"}, {\\\"cmtStatus\\\": \\\"\\u63a8\\\", \\\"cmtPoster\\\": \\\"zick8932511\\\", \\\"cmtContent\\\": \\\":\\u505c\\u96fb\\u4f46\\u4e0d\\u7f3a\\u96fb\\\", \\\"cmtDate\\\": \\\"2024-03-27 20:41:00\\\"}, {\\\"cmtStatus\\\": \\\"\\u2192\\\", \\\"cmtPoster\\\": \\\"KID0924\\\", \\\"cmtContent\\\": \\\":\\u6f32\\u50f9\\u6cbb\\u767e\\u75c5\\\", \\\"cmtDate\\\": \\\"2024-03-27 20:41:00\\\"}, {\\\"cmtStatus\\\": \\\"\\u2192\\\", \\\"cmtPoster\\\": \\\"joy2105feh\\\", \\\"cmtContent\\\": \\\":\\u9019\\u5496\\u5594\\u563b\\u563b\\u98a8\\u8a55\\u4e0d\\u591a\\u8aaa\\\", \\\"cmtDate\\\": \\\"2024-03-27 20:41:00\\\"}, {\\\"cmtStatus\\\": \\\"\\u63a8\\\", \\\"cmtPoster\\\": \\\"MorrisChang\\\", \\\"cmtContent\\\": \\\":\\u4e0d\\u4fdd\\u8b49\\u4e0d\\u6703\\u8df3\\u96fb\\\", \\\"cmtDate\\\": \\\"2024-03-27 20:43:00\\\"}, {\\\"cmtStatus\\\": \\\"\\u2192\\\", \\\"cmtPoster\\\": \\\"HCYPMGO\\\", \\\"cmtContent\\\": \\\":\\u53cd\\u6b63\\u90fd\\u8981\\u7e3d\\u8fad\\u4e86\\\", \\\"cmtDate\\\": \\\"2024-03-27 20:44:00\\\"}, {\\\"cmtStatus\\\": \\\"\\u63a8\\\", \\\"cmtPoster\\\": \\\"vanii40\\\", \\\"cmtContent\\\": \\\":\\u7b11\\u6b7b\\\", \\\"cmtDate\\\": \\\"2024-03-27 20:44:00\\\"}, {\\\"cmtStatus\\\": \\\"\\u63a8\\\", \\\"cmtPoster\\\": \\\"Ilou\\\", \\\"cmtContent\\\": \\\":\\u56e0\\u70ba\\u6703\\u8b93\\u4f60\\u6f32\\u5230\\u7528\\u4e0d\\u8d77\\\", \\\"cmtDate\\\": \\\"2024-03-27 20:44:00\\\"}, {\\\"cmtStatus\\\": \\\"\\u63a8\\\", \\\"cmtPoster\\\": \\\"johnson44\\\", \\\"cmtContent\\\": \\\":\\u4ec0\\u9ebc\\u4fdd\\u8b49\\u5148\\u62ff\\u51fa\\u4f86\\u770b\\u770b\\\", \\\"cmtDate\\\": \\\"2024-03-27 20:45:00\\\"}, {\\\"cmtStatus\\\": \\\"\\u63a8\\\", \\\"cmtPoster\\\": \\\"sam2255\\\", \\\"cmtContent\\\": \\\":abf\\u8a02\\u55ae\\u4e5f\\u8aaa\\u6392\\u52302030\\u4e00\\u5e74\\u5f8c\\u71df\\u6536\\u5c31\\u8170\\u65ac\\u4e86\\\", \\\"cmtDate\\\": \\\"2024-03-27 20:45:00\\\"}, {\\\"cmtStatus\\\": \\\"\\u63a8\\\", \\\"cmtPoster\\\": \\\"peter080808\\\", \\\"cmtContent\\\": \\\":\\u53f0\\u7063\\u80fd\\u6e90\\u4f9d\\u8cf4\\u5ea6\\u964d\\u81f350\\uff05\\u4ee5\\u4e0b??\\u7b11\\u8a71\\u771f\\u6562\\u8b1bXD\\\", \\\"cmtDate\\\": \\\"2024-03-27 20:45:00\\\"}, {\\\"cmtStatus\\\": \\\"\\u63a8\\\", \\\"cmtPoster\\\": \\\"musi\\\", \\\"cmtContent\\\": \\\":\\u8ab0?\\\", \\\"cmtDate\\\": \\\"2024-03-27 20:46:00\\\"}, {\\\"cmtStatus\\\": \\\"\\u5653\\\", \\\"cmtPoster\\\": \\\"fu6cj84\\\", \\\"cmtContent\\\": \\\":\\u5ee2\\u8a71\\u90fd\\u662f\\u4eba\\u6c11\\u5728\\u9650\\u96fb\\\", \\\"cmtDate\\\": \\\"2024-03-27 20:46:00\\\"}, {\\\"cmtStatus\\\": \\\"\\u5653\\\", \\\"cmtPoster\\\": \\\"EDFR\\\", \\\"cmtContent\\\": \\\":\\u7a69\\\", \\\"cmtDate\\\": \\\"2024-03-27 20:46:00\\\"}, {\\\"cmtStatus\\\": \\\"\\u2192\\\", \\\"cmtPoster\\\": \\\"peter080808\\\", \\\"cmtContent\\\": \\\":\\u80fd\\u6e90\\u4f9d\\u8cf4\\u964d\\u523050%\\u662f\\u8981\\u4e2d\\u592e\\u5c71\\u8108\\u6a39\\u780d\\u5149\\u63d2\\u5149\\u96fb\\u677f\\u55ce?y\\\", \\\"cmtDate\\\": \\\"2024-03-27 20:47:00\\\"}, {\\\"cmtStatus\\\": \\\"\\u63a8\\\", \\\"cmtPoster\\\": \\\"YLTYY\\\", \\\"cmtContent\\\": \\\":\\u670920%\\u85cf\\u5728\\u6c11\\u9593\\u7528\\u96fb\\uff0c\\u5de5\\u696d\\u7528\\u96fb\\u4e0d\\u7528\\u64d4\\u5fc3\\\", \\\"cmtDate\\\": \\\"2024-03-27 20:48:00\\\"}, {\\\"cmtStatus\\\": \\\"\\u63a8\\\", \\\"cmtPoster\\\": \\\"panda816\\\", \\\"cmtContent\\\": \\\":\\u4f01\\u696d\\u4e0d\\u6703\\u4e00\\u822c\\u6c11\\u5bb6\\u5c31\\u4e0d\\u597d\\u8b1b\\u4e86XD\\\", \\\"cmtDate\\\": \\\"2024-03-27 20:50:00\\\"}, {\\\"cmtStatus\\\": \\\"\\u2192\\\", \\\"cmtPoster\\\": \\\"cloud7515\\\", \\\"cmtContent\\\": \\\":\\u90a3\\u4fdd\\u8b49\\u6703\\u7f3a\\u4e86\\u770b\\u770b\\u4ee5\\u5f80\\u4fdd\\u8b49\\u7684\\u7d00\\u9304\\\", \\\"cmtDate\\\": \\\"2024-03-27 20:50:00\\\"}, {\\\"cmtStatus\\\": \\\"\\u5653\\\", \\\"cmtPoster\\\": \\\"stationary\\\", \\\"cmtContent\\\": \\\":\\u4e0a\\u4e00\\u500b\\u8aaa2030\\u7684.......\\\", \\\"cmtDate\\\": \\\"2024-03-27 20:51:00\\\"}, {\\\"cmtStatus\\\": \\\"\\u2192\\\", \\\"cmtPoster\\\": \\\"DAEVA\\\", \\\"cmtContent\\\": \\\":\\u6f32\\u523012\\u5c31\\u4e0d\\u6703\\u7f3a\\u4e86\\\", \\\"cmtDate\\\": \\\"2024-03-27 20:51:00\\\"}, {\\\"cmtStatus\\\": \\\"\\u5653\\\", \\\"cmtPoster\\\": \\\"mack860120\\\", \\\"cmtContent\\\": \\\":\\u4e94\\u6708\\u5c31\\u6efe\\u4e86\\u5427\\\", \\\"cmtDate\\\": \\\"2024-03-27 20:53:00\\\"}, {\\\"cmtStatus\\\": \\\"\\u63a8\\\", \\\"cmtPoster\\\": \\\"yukaichen\\\", \\\"cmtContent\\\": \\\":\\u6240\\u4ee5\\u6709\\u7f3a\\u9019\\u4f4d\\u662f\\u8981\\u8ce0\\u5168\\u53f0\\u4f01\\u696d\\u640d\\u5931\\uff1f\\\", \\\"cmtDate\\\": \\\"2024-03-27 20:54:00\\\"}, {\\\"cmtStatus\\\": \\\"\\u63a8\\\", \\\"cmtPoster\\\": \\\"jerrylin\\\", \\\"cmtContent\\\": \\\":\\u6478\\u5b8c\\u982d\\u53ef\\u4ee5\\u56de\\u5bb6\\u4e86\\\", \\\"cmtDate\\\": \\\"2024-03-27 20:56:00\\\"}, {\\\"cmtStatus\\\": \\\"\\u5653\\\", \\\"cmtPoster\\\": \\\"lpmybig\\\", \\\"cmtContent\\\": \\\":\\u86e4\\u6211\\u5be7\\u9858\\u76f8\\u4fe1\\u53f0\\u96fb\\u7684\\u9000\\u5f79\\u5ee0\\u9577\\\", \\\"cmtDate\\\": \\\"2024-03-27 20:56:00\\\"}, {\\\"cmtStatus\\\": \\\"\\u5653\\\", \\\"cmtPoster\\\": \\\"d8711013\\\", \\\"cmtContent\\\": \\\":\\u5241\\u85cd\\u9ce5\\u55ce\\uff01\\\", \\\"cmtDate\\\": \\\"2024-03-27 20:56:00\\\"}, {\\\"cmtStatus\\\": \\\"\\u5653\\\", \\\"cmtPoster\\\": \\\"AmigoSin\\\", \\\"cmtContent\\\": \\\":\\u8ddf\\u8ab0\\u8463\\u4e8b\\u9577\\u5403\\u904e\\u98ef\\u90fd\\u80fd\\u5fd8\\u8a18\\uff0c\\u8ab0\\u76f8\\u4fe1\\u4f60\\\", \\\"cmtDate\\\": \\\"2024-03-27 20:58:00\\\"}, {\\\"cmtStatus\\\": \\\"\\u2192\\\", \\\"cmtPoster\\\": \\\"lolic\\\", \\\"cmtContent\\\": \\\":\\u54c8\\u54c8\\\", \\\"cmtDate\\\": \\\"2024-03-27 20:59:00\\\"}, {\\\"cmtStatus\\\": \\\"\\u63a8\\\", \\\"cmtPoster\\\": \\\"house911\\\", \\\"cmtContent\\\": \\\":\\u86e4?\\\", \\\"cmtDate\\\": \\\"2024-03-27 21:00:00\\\"}, {\\\"cmtStatus\\\": \\\"\\u5653\\\", \\\"cmtPoster\\\": \\\"jokem\\\", \\\"cmtContent\\\": \\\":\\u7b11\\u4e86\\\", \\\"cmtDate\\\": \\\"2024-03-27 21:03:00\\\"}, {\\\"cmtStatus\\\": \\\"\\u63a8\\\", \\\"cmtPoster\\\": \\\"pipi1983\\\", \\\"cmtContent\\\": \\\":\\u771f\\u7684\\u662f\\u628a\\u5927\\u5bb6\\u7576\\u6210\\u5317\\u4e03\\\", \\\"cmtDate\\\": \\\"2024-03-27 21:06:00\\\"}, {\\\"cmtStatus\\\": \\\"\\u5653\\\", \\\"cmtPoster\\\": \\\"Ushas\\\", \\\"cmtContent\\\": \\\":\\u8ab0?\\\", \\\"cmtDate\\\": \\\"2024-03-27 21:06:00\\\"}, {\\\"cmtStatus\\\": \\\"\\u2192\\\", \\\"cmtPoster\\\": \\\"mw221c\\\", \\\"cmtContent\\\": \\\":\\u4f46\\u662f\\u6703\\u8df3\\u96fb\\u554a\\uff01\\u6211\\u53c8\\u4f86\\u4e86\\u6211\\u53c8\\u8d70\\u4e86\\\", \\\"cmtDate\\\": \\\"2024-03-27 21:06:00\\\"}, {\\\"cmtStatus\\\": \\\"\\u63a8\\\", \\\"cmtPoster\\\": \\\"makestyle\\\", \\\"cmtContent\\\": \\\":\\u4f60\\u7684\\u4fdd\\u8b49\\u503c\\u591a\\u5c11\\u9322?\\\", \\\"cmtDate\\\": \\\"2024-03-27 21:08:00\\\"}, {\\\"cmtStatus\\\": \\\"\\u2192\\\", \\\"cmtPoster\\\": \\\"joy22762287\\\", \\\"cmtContent\\\": \\\":\\u90a3\\u7f3a\\u96fb\\u7684\\u8a71\\u8981\\u5e6b\\u6211\\u51fa\\u96fb\\u8cbb\\u55ce\\\", \\\"cmtDate\\\": \\\"2024-03-27 21:10:00\\\"}, {\\\"cmtStatus\\\": \\\"\\u63a8\\\", \\\"cmtPoster\\\": \\\"calford\\\", \\\"cmtContent\\\": \\\":\\u5168\\u53f0\\u53ea\\u6709\\u53f0\\u7a4d\\u4e0d\\u7f3a\\u96fb\\\", \\\"cmtDate\\\": \\\"2024-03-27 21:12:00\\\"}, {\\\"cmtStatus\\\": \\\"\\u5653\\\", \\\"cmtPoster\\\": \\\"ufo559\\\", \\\"cmtContent\\\": \\\":\\u90fd\\u8981\\u4e0b\\u53f0\\u4e86\\u4fdd\\u8b49\\u5565\\u6771\\u897f\\\", \\\"cmtDate\\\": \\\"2024-03-27 21:13:00\\\"}, {\\\"cmtStatus\\\": \\\"\\u2192\\\", \\\"cmtPoster\\\": \\\"koexe\\\", \\\"cmtContent\\\": \\\":\\u4e0a\\u4e00\\u500b\\u639b\\u4fdd\\u8b49\\u7684\\u55ef\\\", \\\"cmtDate\\\": \\\"2024-03-27 21:14:00\\\"}, {\\\"cmtStatus\\\": \\\"\\u63a8\\\", \\\"cmtPoster\\\": \\\"leon1757tw\\\", \\\"cmtContent\\\": \\\":\\u4e0a\\u4e00\\u500b\\u8aaa\\u770b\\u52302030\\u7684\\u5df2\\u7d93\\u2026\\\", \\\"cmtDate\\\": \\\"2024-03-27 21:16:00\\\"}, {\\\"cmtStatus\\\": \\\"\\u63a8\\\", \\\"cmtPoster\\\": \\\"good10740\\\", \\\"cmtContent\\\": \\\":\\u70ba\\u4ec0\\u9ebc\\u4e0d\\u65e9\\u8aaa1519\\u4ee4\\u4eba\\u610f\\u5916\\\", \\\"cmtDate\\\": \\\"2024-03-27 21:17:00\\\"}, {\\\"cmtStatus\\\": \\\"\\u2192\\\", \\\"cmtPoster\\\": \\\"stlotwa\\\", \\\"cmtContent\\\": \\\":\\u4e00\\u76f4\\u9a19\\\", \\\"cmtDate\\\": \\\"2024-03-27 21:18:00\\\"}, {\\\"cmtStatus\\\": \\\"\\u5653\\\", \\\"cmtPoster\\\": \\\"eddie0729\\\", \\\"cmtContent\\\": \\\":\\u96fb\\u90fd\\u505c\\u4e86\\u9084\\u4e0d\\u7f3a\\u96fb\\u7f3a\\u667a\\u5427~~\\\", \\\"cmtDate\\\": \\\"2024-03-27 21:22:00\\\"}, {\\\"cmtStatus\\\": \\\"\\u5653\\\", \\\"cmtPoster\\\": \\\"iorijkl\\\", \\\"cmtContent\\\": \\\":\\u7e3d\\u7d71\\u4fdd\\u8b49\\u90fd\\u6c92\\u7528\\\", \\\"cmtDate\\\": \\\"2024-03-27 21:24:00\\\"}, {\\\"cmtStatus\\\": \\\"\\u5653\\\", \\\"cmtPoster\\\": \\\"YCL13\\\", \\\"cmtContent\\\": \\\":\\u53ea\\u80fd\\u8aaa\\u5b98\\u54e1\\u6709\\u516c\\u958b\\u9020\\u8b20\\u7684\\u6b0a\\u529b\\uff0c\\u56e0\\u70ba\\u653f\\u5e9c\\u4e0d\\u6703\\u6293\\u81ea\\u5df1\\u4eba\\\", \\\"cmtDate\\\": \\\"2024-03-27 21:32:00\\\"}, {\\\"cmtStatus\\\": \\\"\\u2192\\\", \\\"cmtPoster\\\": \\\"YCL13\\\", \\\"cmtContent\\\": \\\":\\uff0c\\u4e5f\\u4e0d\\u60f3\\u60f3\\u591a\\u5c11\\u7522\\u696d\\u754c\\u4eba\\u58eb\\u7684\\u64d4\\u5fc3\\uff0c\\u96e3\\u4e0d\\u6210\\u7522\\u696d\\u754c\\u7684\\u4eba\\\", \\\"cmtDate\\\": \\\"2024-03-27 21:33:00\\\"}, {\\\"cmtStatus\\\": \\\"\\u2192\\\", \\\"cmtPoster\\\": \\\"YCL13\\\", \\\"cmtContent\\\": \\\":\\u58eb\\u53cd\\u800c\\u4e0d\\u61c2\\u80fd\\u6e90\\u9700\\u6c42\\u55ce\\uff1f\\\", \\\"cmtDate\\\": \\\"2024-03-27 21:33:00\\\"}, {\\\"cmtStatus\\\": \\\"\\u5653\\\", \\\"cmtPoster\\\": \\\"tttt0204\\\", \\\"cmtContent\\\": \\\":8\\u5e74\\u524d\\u9a19\\u904e\\u4e00\\u6b21\\uff0c\\u6703\\u518d\\u4e0a\\u7576\\u7684\\u662f\\u4ec0\\u9ebc\\u4eba\\\", \\\"cmtDate\\\": \\\"2024-03-27 21:42:00\\\"}, {\\\"cmtStatus\\\": \\\"\\u63a8\\\", \\\"cmtPoster\\\": \\\"rrroooqqq\\\", \\\"cmtContent\\\": \\\":abf2030\\u6897\\u53ef\\u4ee5\\u7528\\u5f88\\u4e45\\u5462\\\", \\\"cmtDate\\\": \\\"2024-03-27 21:45:00\\\"}, {\\\"cmtStatus\\\": \\\"\\u2192\\\", \\\"cmtPoster\\\": \\\"js70864444\\\", \\\"cmtContent\\\": \\\":\\u4f60\\u4fdd\\u8b49\\u6709\\u5c41\\u7528\\\", \\\"cmtDate\\\": \\\"2024-03-27 21:47:00\\\"}, {\\\"cmtStatus\\\": \\\"\\u5653\\\", \\\"cmtPoster\\\": \\\"NiNiNiNiNi\\\", \\\"cmtContent\\\": \\\":\\u9023\\u9694\\u58c1\\u963f\\u5b24\\u90fd\\u4e0d\\u76f8\\u4fe1\\\", \\\"cmtDate\\\": \\\"2024-03-27 21:49:00\\\"}, {\\\"cmtStatus\\\": \\\"\\u63a8\\\", \\\"cmtPoster\\\": \\\"topfree\\\", \\\"cmtContent\\\": \\\":\\u7f3a\\u4e86\\u6216\\u8df3\\u96fb\\u7684\\u8a71\\u5168\\u53f0\\u96fb\\u8cbb\\u4f60\\u51fa\\uff0c\\u9019\\u6a23\\u7684\\u4fdd\\u8b49\\u600e\\u9ebc\\u6a23\\uff1f\\\", \\\"cmtDate\\\": \\\"2024-03-27 21:57:00\\\"}, {\\\"cmtStatus\\\": \\\"\\u5653\\\", \\\"cmtPoster\\\": \\\"yanki826\\\", \\\"cmtContent\\\": \\\":\\u4e0d\\u7f3a\\u96fb\\u6f32\\u4ec0\\u9ebc\\u96fb\\u50f9\\\", \\\"cmtDate\\\": \\\"2024-03-27 21:57:00\\\"}, {\\\"cmtStatus\\\": \\\"\\u63a8\\\", \\\"cmtPoster\\\": \\\"mqhung\\\", \\\"cmtContent\\\": \\\":\\u4f01\\u696d\\u4e0d\\u6703\\u7f3a\\u96fb\\uff0c\\u4f46\\u662f\\u6c11\\u9593\\u7528\\u96fb\\u5462\\uff1f\\\", \\\"cmtDate\\\": \\\"2024-03-27 22:00:00\\\"}, {\\\"cmtStatus\\\": \\\"\\u5653\\\", \\\"cmtPoster\\\": \\\"lingarden\\\", \\\"cmtContent\\\": \\\":\\u4f60\\u8ab0\\\", \\\"cmtDate\\\": \\\"2024-03-27 22:08:00\\\"}, {\\\"cmtStatus\\\": \\\"\\u2192\\\", \\\"cmtPoster\\\": \\\"qqq5890003\\\", \\\"cmtContent\\\": \\\":\\u9019\\u53c8\\u8ab0\\\", \\\"cmtDate\\\": \\\"2024-03-27 22:24:00\\\"}, {\\\"cmtStatus\\\": \\\"\\u5653\\\", \\\"cmtPoster\\\": \\\"denniss\\\", \\\"cmtContent\\\": \\\":\\u53ea\\u6703\\u8df3\\u96fb\\u800c\\u5df2\\u5566\\uff0c\\u4e0d\\u6703\\u7f3a\\u96fb\\u7684\\uff0c\\u8b1d\\u8b1d\\u6307\\u6559\\u3002\\\", \\\"cmtDate\\\": \\\"2024-03-27 22:34:00\\\"}, {\\\"cmtStatus\\\": \\\"\\u5653\\\", \\\"cmtPoster\\\": \\\"younggrass\\\", \\\"cmtContent\\\": \\\":\\u4e0d\\u7f3a\\u96fb\\u53ea\\u662f\\u8cb7\\u4e0d\\u5230\\u96fb\\\", \\\"cmtDate\\\": \\\"2024-03-27 22:45:00\\\"}, {\\\"cmtStatus\\\": \\\"\\u2192\\\", \\\"cmtPoster\\\": \\\"livestock\\\", \\\"cmtContent\\\": \\\":\\u4e0d\\u6703\\u7f3a\\u96fb\\uff0c\\u4f46\\u662f\\u6703\\u8df3\\u96fb\\uff0c\\u4eca\\u5929\\u4e0d\\u6703\\u4f86\\u660e\\u5929\\u5c31\\u6703\\u4f86\\uff0c\\u516b\\\", \\\"cmtDate\\\": \\\"2024-03-27 23:38:00\\\"}, {\\\"cmtStatus\\\": \\\"\\u2192\\\", \\\"cmtPoster\\\": \\\"livestock\\\", \\\"cmtContent\\\": \\\":\\u5e74\\u653f\\u5e9c\\u8a71\\u8853\\u9084\\u770b\\u4e0d\\u6e05\\u55ce\\uff1f\\\", \\\"cmtDate\\\": \\\"2024-03-27 23:38:00\\\"}, {\\\"cmtStatus\\\": \\\"\\u5653\\\", \\\"cmtPoster\\\": \\\"slygun\\\", \\\"cmtContent\\\": \\\":\\u6c11\\u9032\\u515a\\u7684\\u4fdd\\u8b49\\\", \\\"cmtDate\\\": \\\"2024-03-28 02:16:00\\\"}, {\\\"cmtStatus\\\": \\\"\\u5653\\\", \\\"cmtPoster\\\": \\\"destiny1265\\\", \\\"cmtContent\\\": \\\":\\u5475\\uff5e\\\", \\\"cmtDate\\\": \\\"2024-03-28 04:59:00\\\"}, {\\\"cmtStatus\\\": \\\"\\u2192\\\", \\\"cmtPoster\\\": \\\"iamaq18c\\\", \\\"cmtContent\\\": \\\":\\u5594\\\", \\\"cmtDate\\\": \\\"2024-03-28 08:17:00\\\"}, {\\\"cmtStatus\\\": \\\"\\u2192\\\", \\\"cmtPoster\\\": \\\"heatsink\\\", \\\"cmtContent\\\": \\\":\\u4e0d\\u7f3a\\u96fb\\u53ea\\u662f\\u9650\\u96fb\\\", \\\"cmtDate\\\": \\\"2024-03-28 08:45:00\\\"}, {\\\"cmtStatus\\\": \\\"\\u5653\\\", \\\"cmtPoster\\\": \\\"simon9331\\\", \\\"cmtContent\\\": \\\":\\u639b\\u4fdd\\u8b49\\u7684\\u6700\\u5f8c\\u90fd\\u8df3\\u7968\\u4e86\\u3002\\\", \\\"cmtDate\\\": \\\"2024-03-28 12:59:00\\\"}]\"\n        ],\n        \"semantic_type\": \"\",\n        \"description\": \"\"\n      }\n    },\n    {\n      \"column\": \"e_ip\",\n      \"properties\": {\n        \"dtype\": \"string\",\n        \"num_unique_values\": 3345,\n        \"samples\": [\n          \"84.210.196.65\",\n          \"220.133.169.102\",\n          \"118.170.5.114\"\n        ],\n        \"semantic_type\": \"\",\n        \"description\": \"\"\n      }\n    },\n    {\n      \"column\": \"insertedDate\",\n      \"properties\": {\n        \"dtype\": \"object\",\n        \"num_unique_values\": 356,\n        \"samples\": [\n          \"2024-03-09 02:15:24\",\n          \"2024-03-13 02:03:49\",\n          \"2024-03-14 02:12:30\"\n        ],\n        \"semantic_type\": \"\",\n        \"description\": \"\"\n      }\n    },\n    {\n      \"column\": \"dataSource\",\n      \"properties\": {\n        \"dtype\": \"category\",\n        \"num_unique_values\": 1,\n        \"samples\": [\n          \"ptt\"\n        ],\n        \"semantic_type\": \"\",\n        \"description\": \"\"\n      }\n    }\n  ]\n}"
            }
          },
          "metadata": {},
          "execution_count": 119
        }
      ],
      "source": [
        "udn = pd.read_csv(\"week10data.csv\", encoding='utf-8')  # 匯資料\n",
        "udn.head(3)"
      ]
    },
    {
      "cell_type": "code",
      "execution_count": 120,
      "metadata": {
        "colab": {
          "base_uri": "https://localhost:8080/",
          "height": 198
        },
        "id": "ClOLwIdK2H9K",
        "outputId": "0ff820e0-cd08-4d7b-a184-19cda190bae1"
      },
      "outputs": [
        {
          "output_type": "stream",
          "name": "stderr",
          "text": [
            "/usr/local/lib/python3.10/dist-packages/ipykernel/ipkernel.py:283: DeprecationWarning: `should_run_async` will not call `transform_cell` automatically in the future. Please pass the result to `transformed_cell` argument and any exception that happen during thetransform in `preprocessing_exc_tuple` in IPython 7.17 and above.\n",
            "  and should_run_async(code)\n"
          ]
        },
        {
          "output_type": "execute_result",
          "data": {
            "text/plain": [
              "                                             content  \\\n",
              "0  不好意思又來叨擾房版了目前有看到高雄兩個物件感覺各有勝負想詢問看看版上的意見兩者的總價室內坪...   \n",
              "1  請問各位先進冠德安沐居要每坪萬冠德大直綻每坪萬雖然都在捷運出口但也比周邊貴一些這個價錢是貴在品牌嗎   \n",
              "2  連結內文台灣金聯土地未運用有原因駁斥養地炒房說媒體報導具公股色彩的台灣金聯近年大舉在南台灣與...   \n",
              "\n",
              "                                              artUrl artCatagory  \\\n",
              "0  https://www.ptt.cc/bbs/home-sale/M.1709223923....   home_sale   \n",
              "1  https://www.ptt.cc/bbs/home-sale/M.1709232819....   home_sale   \n",
              "2  https://www.ptt.cc/bbs/home-sale/M.1709249161....   home_sale   \n",
              "\n",
              "               artDate  \n",
              "0  2024-03-01 00:25:19  \n",
              "1  2024-03-01 02:53:37  \n",
              "2  2024-03-01 07:25:58  "
            ],
            "text/html": [
              "\n",
              "  <div id=\"df-b4cb5955-38b2-4b8b-9328-9e3be3ef2170\" class=\"colab-df-container\">\n",
              "    <div>\n",
              "<style scoped>\n",
              "    .dataframe tbody tr th:only-of-type {\n",
              "        vertical-align: middle;\n",
              "    }\n",
              "\n",
              "    .dataframe tbody tr th {\n",
              "        vertical-align: top;\n",
              "    }\n",
              "\n",
              "    .dataframe thead th {\n",
              "        text-align: right;\n",
              "    }\n",
              "</style>\n",
              "<table border=\"1\" class=\"dataframe\">\n",
              "  <thead>\n",
              "    <tr style=\"text-align: right;\">\n",
              "      <th></th>\n",
              "      <th>content</th>\n",
              "      <th>artUrl</th>\n",
              "      <th>artCatagory</th>\n",
              "      <th>artDate</th>\n",
              "    </tr>\n",
              "  </thead>\n",
              "  <tbody>\n",
              "    <tr>\n",
              "      <th>0</th>\n",
              "      <td>不好意思又來叨擾房版了目前有看到高雄兩個物件感覺各有勝負想詢問看看版上的意見兩者的總價室內坪...</td>\n",
              "      <td>https://www.ptt.cc/bbs/home-sale/M.1709223923....</td>\n",
              "      <td>home_sale</td>\n",
              "      <td>2024-03-01 00:25:19</td>\n",
              "    </tr>\n",
              "    <tr>\n",
              "      <th>1</th>\n",
              "      <td>請問各位先進冠德安沐居要每坪萬冠德大直綻每坪萬雖然都在捷運出口但也比周邊貴一些這個價錢是貴在品牌嗎</td>\n",
              "      <td>https://www.ptt.cc/bbs/home-sale/M.1709232819....</td>\n",
              "      <td>home_sale</td>\n",
              "      <td>2024-03-01 02:53:37</td>\n",
              "    </tr>\n",
              "    <tr>\n",
              "      <th>2</th>\n",
              "      <td>連結內文台灣金聯土地未運用有原因駁斥養地炒房說媒體報導具公股色彩的台灣金聯近年大舉在南台灣與...</td>\n",
              "      <td>https://www.ptt.cc/bbs/home-sale/M.1709249161....</td>\n",
              "      <td>home_sale</td>\n",
              "      <td>2024-03-01 07:25:58</td>\n",
              "    </tr>\n",
              "  </tbody>\n",
              "</table>\n",
              "</div>\n",
              "    <div class=\"colab-df-buttons\">\n",
              "\n",
              "  <div class=\"colab-df-container\">\n",
              "    <button class=\"colab-df-convert\" onclick=\"convertToInteractive('df-b4cb5955-38b2-4b8b-9328-9e3be3ef2170')\"\n",
              "            title=\"Convert this dataframe to an interactive table.\"\n",
              "            style=\"display:none;\">\n",
              "\n",
              "  <svg xmlns=\"http://www.w3.org/2000/svg\" height=\"24px\" viewBox=\"0 -960 960 960\">\n",
              "    <path d=\"M120-120v-720h720v720H120Zm60-500h600v-160H180v160Zm220 220h160v-160H400v160Zm0 220h160v-160H400v160ZM180-400h160v-160H180v160Zm440 0h160v-160H620v160ZM180-180h160v-160H180v160Zm440 0h160v-160H620v160Z\"/>\n",
              "  </svg>\n",
              "    </button>\n",
              "\n",
              "  <style>\n",
              "    .colab-df-container {\n",
              "      display:flex;\n",
              "      gap: 12px;\n",
              "    }\n",
              "\n",
              "    .colab-df-convert {\n",
              "      background-color: #E8F0FE;\n",
              "      border: none;\n",
              "      border-radius: 50%;\n",
              "      cursor: pointer;\n",
              "      display: none;\n",
              "      fill: #1967D2;\n",
              "      height: 32px;\n",
              "      padding: 0 0 0 0;\n",
              "      width: 32px;\n",
              "    }\n",
              "\n",
              "    .colab-df-convert:hover {\n",
              "      background-color: #E2EBFA;\n",
              "      box-shadow: 0px 1px 2px rgba(60, 64, 67, 0.3), 0px 1px 3px 1px rgba(60, 64, 67, 0.15);\n",
              "      fill: #174EA6;\n",
              "    }\n",
              "\n",
              "    .colab-df-buttons div {\n",
              "      margin-bottom: 4px;\n",
              "    }\n",
              "\n",
              "    [theme=dark] .colab-df-convert {\n",
              "      background-color: #3B4455;\n",
              "      fill: #D2E3FC;\n",
              "    }\n",
              "\n",
              "    [theme=dark] .colab-df-convert:hover {\n",
              "      background-color: #434B5C;\n",
              "      box-shadow: 0px 1px 3px 1px rgba(0, 0, 0, 0.15);\n",
              "      filter: drop-shadow(0px 1px 2px rgba(0, 0, 0, 0.3));\n",
              "      fill: #FFFFFF;\n",
              "    }\n",
              "  </style>\n",
              "\n",
              "    <script>\n",
              "      const buttonEl =\n",
              "        document.querySelector('#df-b4cb5955-38b2-4b8b-9328-9e3be3ef2170 button.colab-df-convert');\n",
              "      buttonEl.style.display =\n",
              "        google.colab.kernel.accessAllowed ? 'block' : 'none';\n",
              "\n",
              "      async function convertToInteractive(key) {\n",
              "        const element = document.querySelector('#df-b4cb5955-38b2-4b8b-9328-9e3be3ef2170');\n",
              "        const dataTable =\n",
              "          await google.colab.kernel.invokeFunction('convertToInteractive',\n",
              "                                                    [key], {});\n",
              "        if (!dataTable) return;\n",
              "\n",
              "        const docLinkHtml = 'Like what you see? Visit the ' +\n",
              "          '<a target=\"_blank\" href=https://colab.research.google.com/notebooks/data_table.ipynb>data table notebook</a>'\n",
              "          + ' to learn more about interactive tables.';\n",
              "        element.innerHTML = '';\n",
              "        dataTable['output_type'] = 'display_data';\n",
              "        await google.colab.output.renderOutput(dataTable, element);\n",
              "        const docLink = document.createElement('div');\n",
              "        docLink.innerHTML = docLinkHtml;\n",
              "        element.appendChild(docLink);\n",
              "      }\n",
              "    </script>\n",
              "  </div>\n",
              "\n",
              "\n",
              "<div id=\"df-c544184d-8492-456b-91ad-98311dcf9253\">\n",
              "  <button class=\"colab-df-quickchart\" onclick=\"quickchart('df-c544184d-8492-456b-91ad-98311dcf9253')\"\n",
              "            title=\"Suggest charts\"\n",
              "            style=\"display:none;\">\n",
              "\n",
              "<svg xmlns=\"http://www.w3.org/2000/svg\" height=\"24px\"viewBox=\"0 0 24 24\"\n",
              "     width=\"24px\">\n",
              "    <g>\n",
              "        <path d=\"M19 3H5c-1.1 0-2 .9-2 2v14c0 1.1.9 2 2 2h14c1.1 0 2-.9 2-2V5c0-1.1-.9-2-2-2zM9 17H7v-7h2v7zm4 0h-2V7h2v10zm4 0h-2v-4h2v4z\"/>\n",
              "    </g>\n",
              "</svg>\n",
              "  </button>\n",
              "\n",
              "<style>\n",
              "  .colab-df-quickchart {\n",
              "      --bg-color: #E8F0FE;\n",
              "      --fill-color: #1967D2;\n",
              "      --hover-bg-color: #E2EBFA;\n",
              "      --hover-fill-color: #174EA6;\n",
              "      --disabled-fill-color: #AAA;\n",
              "      --disabled-bg-color: #DDD;\n",
              "  }\n",
              "\n",
              "  [theme=dark] .colab-df-quickchart {\n",
              "      --bg-color: #3B4455;\n",
              "      --fill-color: #D2E3FC;\n",
              "      --hover-bg-color: #434B5C;\n",
              "      --hover-fill-color: #FFFFFF;\n",
              "      --disabled-bg-color: #3B4455;\n",
              "      --disabled-fill-color: #666;\n",
              "  }\n",
              "\n",
              "  .colab-df-quickchart {\n",
              "    background-color: var(--bg-color);\n",
              "    border: none;\n",
              "    border-radius: 50%;\n",
              "    cursor: pointer;\n",
              "    display: none;\n",
              "    fill: var(--fill-color);\n",
              "    height: 32px;\n",
              "    padding: 0;\n",
              "    width: 32px;\n",
              "  }\n",
              "\n",
              "  .colab-df-quickchart:hover {\n",
              "    background-color: var(--hover-bg-color);\n",
              "    box-shadow: 0 1px 2px rgba(60, 64, 67, 0.3), 0 1px 3px 1px rgba(60, 64, 67, 0.15);\n",
              "    fill: var(--button-hover-fill-color);\n",
              "  }\n",
              "\n",
              "  .colab-df-quickchart-complete:disabled,\n",
              "  .colab-df-quickchart-complete:disabled:hover {\n",
              "    background-color: var(--disabled-bg-color);\n",
              "    fill: var(--disabled-fill-color);\n",
              "    box-shadow: none;\n",
              "  }\n",
              "\n",
              "  .colab-df-spinner {\n",
              "    border: 2px solid var(--fill-color);\n",
              "    border-color: transparent;\n",
              "    border-bottom-color: var(--fill-color);\n",
              "    animation:\n",
              "      spin 1s steps(1) infinite;\n",
              "  }\n",
              "\n",
              "  @keyframes spin {\n",
              "    0% {\n",
              "      border-color: transparent;\n",
              "      border-bottom-color: var(--fill-color);\n",
              "      border-left-color: var(--fill-color);\n",
              "    }\n",
              "    20% {\n",
              "      border-color: transparent;\n",
              "      border-left-color: var(--fill-color);\n",
              "      border-top-color: var(--fill-color);\n",
              "    }\n",
              "    30% {\n",
              "      border-color: transparent;\n",
              "      border-left-color: var(--fill-color);\n",
              "      border-top-color: var(--fill-color);\n",
              "      border-right-color: var(--fill-color);\n",
              "    }\n",
              "    40% {\n",
              "      border-color: transparent;\n",
              "      border-right-color: var(--fill-color);\n",
              "      border-top-color: var(--fill-color);\n",
              "    }\n",
              "    60% {\n",
              "      border-color: transparent;\n",
              "      border-right-color: var(--fill-color);\n",
              "    }\n",
              "    80% {\n",
              "      border-color: transparent;\n",
              "      border-right-color: var(--fill-color);\n",
              "      border-bottom-color: var(--fill-color);\n",
              "    }\n",
              "    90% {\n",
              "      border-color: transparent;\n",
              "      border-bottom-color: var(--fill-color);\n",
              "    }\n",
              "  }\n",
              "</style>\n",
              "\n",
              "  <script>\n",
              "    async function quickchart(key) {\n",
              "      const quickchartButtonEl =\n",
              "        document.querySelector('#' + key + ' button');\n",
              "      quickchartButtonEl.disabled = true;  // To prevent multiple clicks.\n",
              "      quickchartButtonEl.classList.add('colab-df-spinner');\n",
              "      try {\n",
              "        const charts = await google.colab.kernel.invokeFunction(\n",
              "            'suggestCharts', [key], {});\n",
              "      } catch (error) {\n",
              "        console.error('Error during call to suggestCharts:', error);\n",
              "      }\n",
              "      quickchartButtonEl.classList.remove('colab-df-spinner');\n",
              "      quickchartButtonEl.classList.add('colab-df-quickchart-complete');\n",
              "    }\n",
              "    (() => {\n",
              "      let quickchartButtonEl =\n",
              "        document.querySelector('#df-c544184d-8492-456b-91ad-98311dcf9253 button');\n",
              "      quickchartButtonEl.style.display =\n",
              "        google.colab.kernel.accessAllowed ? 'block' : 'none';\n",
              "    })();\n",
              "  </script>\n",
              "</div>\n",
              "\n",
              "    </div>\n",
              "  </div>\n"
            ],
            "application/vnd.google.colaboratory.intrinsic+json": {
              "type": "dataframe",
              "variable_name": "udn",
              "summary": "{\n  \"name\": \"udn\",\n  \"rows\": 5102,\n  \"fields\": [\n    {\n      \"column\": \"content\",\n      \"properties\": {\n        \"dtype\": \"string\",\n        \"num_unique_values\": 4994,\n        \"samples\": [\n          \"\\u5fc5\\u8981\\u8cc7\\u8a0a\\u9580\\u724c\\u53f0\\u4e2d\\u5e02\\u5317\\u5c6f\\u5340\\u5d07\\u5fb7\\u516d\\u8def\\u865f\\u5efa\\u8a2d\\u516c\\u53f8\\u5927\\u6bc5\\u5efa\\u8a2d\\u7e3d\\u6236\\u6578\\u6236\\u5b8c\\u5de5\\u65e5\\u6c11\\u570b\\u5e74\\u6708\\u65e5\\u7e3d\\u6a13\\u9ad8\\u5730\\u4e0a\\u5c64\\u5730\\u4e0b\\u5c64\\u516c\\u8a2d\\u6bd4\\u7d04\\u683c\\u5c40\\u898f\\u5283\\u623f\\u623f\\u623f\\u5b78\\u5340\\u677e\\u7af9\\u570b\\u5c0f\\u5d07\\u5fb7\\u570b\\u4e2d\\u6b21\\u8981\\u8cc7\\u8a0a\\u88dc\\u5145\\u7d14\\u4f4f\\u5bb6\\u96f6\\u5e97\\u9762\\u793e\\u5340\\u8eca\\u4f4d\\u5305\\u542b\\u5761\\u9053\\u5e73\\u9762\\u5761\\u9053\\u6a5f\\u68b0\\u672c\\u6848\\u512a\\u7f3a\\u9ede\\u512a\\u9ede\\u672c\\u793e\\u5340\\u8a2d\\u6709\\u592a\\u967d\\u80fd\\u677f\\u96e8\\u6c34\\u56de\\u6536\\u7cfb\\u7d71\\u751f\\u6a5f\\u80a5\\u6599\\u8207\\u9805\\u8cc7\\u6e90\\u56de\\u6536\\u5c08\\u5340\\u4e3b\\u6253\\u7bc0\\u80fd\\u6e1b\\u78b3\\u7684\\u7da0\\u5efa\\u7bc9\\u6982\\u5ff5\\u5927\\u6bc5\\u5efa\\u8a2d\\u672c\\u8eab\\u7d93\\u71df\\u5927\\u6bc5\\u5e78\\u798f\\u9928\\u958b\\u5fc3\\u8fb2\\u5834\\u4e00\\u755d\\u7530\\u900f\\u904e\\u6708\\u6708\\u8209\\u8fa6\\u8ab2\\u7a0b\\u6d3b\\u52d5\\u51dd\\u805a\\u5927\\u6bc5\\u4f4f\\u6236\\u5c0d\\u793e\\u5340\\u7684\\u5411\\u5fc3\\u529b\\u7f3a\\u9ede\\u9019\\u793e\\u5340\\u4e00\\u76f4\\u662f\\u5c0f\\u59b9\\u5728\\u53f0\\u4e2d\\u6642\\u5f88\\u559c\\u6b61\\u7684\\u5efa\\u6848\\u9084\\u771f\\u7684\\u60f3\\u4e0d\\u592a\\u5230\\u7f3a\\u9ede\\u6b61\\u8fce\\u7248\\u53cb\\u5e6b\\u5fd9\\u88dc\\u5145\\u5099\\u8a3b\\u672c\\u6848\\u70ba\\u5927\\u6bc5\\u5efa\\u8a2d\\u7b2c\\u4e00\\u500b\\u5927\\u6a13\\u578b\\u5efa\\u6848\\u63a1\\u5148\\u5efa\\u5f8c\\u552e\\u66fe\\u69ae\\u7372\\u5e74\\u512a\\u826f\\u516c\\u5bd3\\u5927\\u5ec8\\u8a55\\u9078\\u7b2c\\u4e00\\u540d\\u4ee5\\u53ca\\u8af8\\u591a\\u734e\\u9805\\u76f8\\u95dc\\u9023\\u7d50\\u65b0\\u805e\\u5efa\\u6848\\u5b98\\u7db2\\u5176\\u4ed6\\u5167\\u653f\\u90e8\\u5be6\\u50f9\\u767b\\u9304\\u52ff\\u522a\\u7576\\u521d\\u56de\\u53f0\\u4e2d\\u96d6\\u7136\\u4e3b\\u8981\\u662f\\u5e0c\\u671b\\u53ef\\u4ee5\\u591a\\u9ede\\u6642\\u9593\\u966a\\u4f34\\u8001\\u4eba\\u5bb6\\u4f46\\u4e5f\\u771f\\u7684\\u82b1\\u4e86\\u4e0d\\u5c11\\u6642\\u9593\\u5728\\u8a8d\\u8b58\\u793e\\u5340\\u505a\\u529f\\u8ab2\\u7684\\u5728\\u53f0\\u4e2d\\u6642\\u6211\\u4e00\\u76f4\\u5f88\\u559c\\u6b61\\u4ecb\\u7d39\\u8cb7\\u65b9\\u5927\\u6bc5\\u7684\\u5efa\\u6848\\u9664\\u4e86\\u4e00\\u4e9b\\u6307\\u6a19\\u8c6a\\u5b85\\u5efa\\u5546\\u6216\\u8005\\u60e0\\u5b87\\u84cb\\u7d66\\u9996\\u8cfc\\u53c8\\u9858\\u610f\\u82b1\\u8cbb\\u90a3\\u9ebc\\u5927\\u5fc3\\u529b\\u505a\\u552e\\u5f8c\\u8edf\\u670d\\u52d9\\u7684\\u5efa\\u8a2d\\u516c\\u53f8\\u9084\\u771f\\u7684\\u4e0d\\u7b97\\u591a\\u53ef\\u80fd\\u4e5f\\u662f\\u6211\\u5011\\u642c\\u56de\\u6843\\u5712\\u5f8c\\u5be7\\u9858\\u72a7\\u7272\\u8cfa\\u9322\\u6642\\u9593\\u4e5f\\u5805\\u6301\\u8981\\u505a\\u5546\\u5708\\u6d3b\\u52d5\\u7684\\u4e00\\u500b\\u767c\\u60f3\\u5427\\u8cb7\\u8ce3\\u5f97\\u4e0d\\u55ae\\u55ae\\u662f\\u623f\\u5b50\\u800c\\u662f\\u6709\\u6eab\\u5ea6\\u7684\\u5bb6\\u96d6\\u7136\\u53ef\\u80fd\\u6709\\u4e9b\\u4eba\\u53ea\\u7576\\u9019\\u662f\\u4e00\\u500b\\u53e3\\u865f\\u5566\\u4f46\\u6211\\u5011\\u5e7e\\u4e4e\\u90fd\\u505a\\u81ea\\u7528\\u4f4f\\u5b85\\u5c45\\u591a\\u662f\\u8a8d\\u771f\\u5e0c\\u671b\\u80fd\\u628a\\u6eab\\u5ea6\\u5e36\\u7d66\\u66fe\\u7d93\\u95dc\\u7167\\u6211\\u5011\\u7684\\u4f4f\\u6236\\u5011\",\n          \"\\u5148\\u4e0a\\u5716\\u54e5\\u6843\\u5712\\u65b0\\u4e16\\u4ee3\\u751f\\u6d3b\\u5927\\u5e2b\\u6843\\u5712\\u5c0f\\u6a9c\\u738b\\u54e5\\u7684\\u5bb6\\u4eba\\u5c31\\u4f4f\\u85dd\\u6587\\u7e3d\\u5716\\u5c0d\\u9762\\u6700\\u8fd1\\u85dd\\u6587\\u5927\\u6a13\\u5275\\u65b0\\u9ad8\\u8ce3\\u5104\\u800c\\u4e14\\u9084\\u662f\\u5e74\\u7684\\u8001\\u820a\\u585e\\u8eca\\u4e2d\\u53e4\\u5c4b\\u65c1\\u908a\\u90fd\\u6c92\\u6709\\u5de5\\u696d\\u5340\\u5927\\u5b78\\u751f\\u6d3b\\u771f\\u7684\\u597d\\u6dd2\\u6158\\u554a\\u65c1\\u908a\\u53ea\\u6709\\u5168\\u570b\\u6700\\u7f8e\\u5716\\u66f8\\u9928\\u6c92\\u8fa6\\u6cd5\\u5438\\u5de5\\u696d\\u5ee2\\u6c23\\u9084\\u8981\\u5929\\u5929\\u585e\\u8eca\\u6316\\u6377\\u904b\\u6158\\u5230\\u53ea\\u80fd\\u88ab\\u9178\\u8aaa\\u8cb7\\u9019\\u908a\\u982d\\u6bbc\\u58de\\u6389\\u539f\\u4f86\\u5927\\u5bb6\\u90fd\\u982d\\u660f\\u4e82\\u8cb7\\u6843\\u5712\\u5340\\u4e0d\\u5c0f\\u5fc3\\u5c31\\u8cb7\\u5230\\u5168\\u570b\\u7b2c\\u4e00\\u540d\\u54e5\\u4e5f\\u4e0d\\u5c0f\\u5fc3\\u8ca2\\u737b\\u4e86\\u4e00\\u9ede\\u9ede\\u76f8\\u4fe1\\u5f88\\u591a\\u4eba\\u90fd\\u4e0d\\u77e5\\u9053\\u8001\\u6843\\u5712\\u4eba\\u8cb7\\u623f\\u5f88\\u591a\\u90fd\\u662f\\u76f4\\u63a5\\u7528\\u73fe\\u91d1\\u8cb7\\u5225\\u518d\\u53e3\\u5acc\\u9ad4\\u6b63\\u76f4\\u904e\\u4f86\\u6436\\u623f\\u5b50\\u5566\\u4e0a\\u6b21\\u641e\\u842c\\u8056\\u7bc0\\u6d3b\\u52d5\\u585e\\u8eca\\u5feb\\u4e00\\u500b\\u5c0f\\u6642\\u6843\\u5712\\u5340\\u4eba\\u53e3\\u842c\\u5168\\u570b\\u4eba\\u53e3\\u7b2c\\u4e8c\\u5927\\u5340\\u50c5\\u6b21\\u65bc\\u677f\\u6a4b\\u5728\\u6843\\u7af9\\u82d7\\u4eba\\u53e3\\u6700\\u591a\\u4eba\\u53e3\\u5bc6\\u5ea6\\u6700\\u9ad8\\u5168\\u570b\\u8cb7\\u8ce3\\u91cf\\u7b2c\\u4e00\\u7684\\u5340\\u584a\\u5927\\u5bb6\\u771f\\u7684\\u90fd\\u662f\\u982d\\u6bbc\\u58de\\u6389\\u554a\\u62dc\\u8a17\\u6c92\\u4e8b\\u5225\\u4f86\\u6436\\u554a\\u9084\\u60f3\\u6162\\u6162\\u8cb7\\u90fd\\u88ab\\u6436\\u8d70\\u6843\\u5712\\u591a\\u8ecd\\u7684\\u6307\\u6a19\\u5c31\\u662f\\u677f\\u6a4b\\u554a\\u5c0f\\u6a9c\\u6eaa\\u9060\\u96c4\\u5feb\\u8981\\u5b57\\u982d\\u5be6\\u50f9\\u767b\\u9304\\u9084\\u6162\\u4e86\\u5e7e\\u500b\\u6708\\u798f\\u5bb9\\u4f73\\u9e97\\u5bf6\\u5b57\\u982d\\u9019\\u500b\\u9084\\u662f\\u6210\\u5c4b\\u8cb7\\u8ce3\\u975e\\u9810\\u552e\\u5c4b\\u570b\\u738b\\u4e4b\\u68ee\\u4e00\\u6a23\\u662f\\u6210\\u5c4b\\u8cb7\\u8ce3\\u975e\\u9810\\u552e\\u5c4b\\u6b63\\u65c1\\u908a\\u6709\\u52a0\\u6cb9\\u7ad9\\u661f\\u5df4\\u5ba2\\u9ea5\\u7576\\u52de\\u90fd\\u8ce3\\u5230\\u5feb\\u52a0\\u6cb9\\u5427\\u6b61\\u8fce\\u7e7c\\u7e8c\\u9178\\u5566\\u4f46\\u662f\\u4e0d\\u8981\\u908a\\u9178\\u53c8\\u5077\\u5077\\u8dd1\\u4f86\\u8cb7\\u5bb3\\u6843\\u5712\\u585e\\u8eca\\u66f4\\u56b4\\u91cd\\u8ddf\\u5167\\u6e56\\u96d9\\u5317\\u4e00\\u6a23\\u6bcf\\u5929\\u90fd\\u585e\\u7206\\u7136\\u5f8c\\u6843\\u5712\\u53c8\\u8b8a\\u6210\\u5168\\u570b\\u8cb7\\u8ce3\\u7b2c\\u4e00\\u540d\\u7684\\u5340\",\n          \"\\u5225\\u54ed\\u4fbf\\u7576\\u963f\\u80a5\\u8ddf\\u4f60\\u4e00\\u6a23\\u53ef\\u60b2\\u9019\\u4e00\\u6ce2\\u7684\\u6f32\\u52e2\\u963f\\u80a5\\u4e00\\u5f35\\u6301\\u80a1\\u90fd\\u6c92\\u6709\\u4e5f\\u6c92\\u6709\\u4efb\\u4f55\\u7684\\u6bcf\\u5929\\u770b\\u8457\\u540c\\u4e8b\\u723d\\u5475\\u5475\\u8981\\u4e0b\\u73ed\\u4e4b\\u524d\\u4e0d\\u662f\\u8a0e\\u8ad6\\u53bb\\u5167\\u6e56\\u770b\\u4fdd\\u6642\\u6377\\u4e0d\\u7136\\u5c31\\u662f\\u53c8\\u8981\\u53bb\\u770b\\u54ea\\u88e1\\u7684\\u5927\\u56db\\u623f\\u800c\\u963f\\u80a5\\u53ea\\u5269\\u4e0b\\u6bcf\\u5929\\u53ef\\u60b2\\u7684\\u4fbf\\u7576\\u9322\\u50cf\\u4eca\\u5929\\u963f\\u80a5\\u53ea\\u6709\\u8584\\u8584\\u7684\\u665a\\u9910\\u9322\\u963f\\u80a5\\u6253\\u958b\\u624b\\u6a5f\\u8a02\\u8cfc\\u665a\\u9910\\u800c\\u540c\\u4e8b\\u6bcf\\u500b\\u90fd\\u6253\\u958b\\u624b\\u6a5f\\u4e0d\\u662f\\u8a02\\u623f\\u5c31\\u662f\\u8a02\\u8eca\\u53ea\\u6709\\u963f\\u80a5\\u773c\\u5149\\u6cdb\\u6dda\\u5403\\u8457\\u53cb\\u5584\\u6642\\u5149\\u83ab\\u5fd8\\u4e16\\u4e0a\\u82e6\\u4eba\\u591a\\u7576\\u5927\\u5bb6\\u8cfa\\u5230\\u624b\\u8edf\\u7684\\u6642\\u5019\\u8acb\\u4e0d\\u8981\\u5fd8\\u8a18\\u5e6b\\u5e6b\\u8eab\\u908a\\u9084\\u6709\\u5f88\\u591a\\u50cf\\u963f\\u80a5\\u4e00\\u6a23\\u5403\\u8457\\u53cb\\u5584\\u6642\\u5149\\u6c92\\u6709\\u4e0a\\u8eca\\u7684\\u53ef\\u6190\\u87f2\"\n        ],\n        \"semantic_type\": \"\",\n        \"description\": \"\"\n      }\n    },\n    {\n      \"column\": \"artUrl\",\n      \"properties\": {\n        \"dtype\": \"string\",\n        \"num_unique_values\": 5102,\n        \"samples\": [\n          \"https://www.ptt.cc/bbs/Stock/M.1711225541.A.28C.html\",\n          \"https://www.ptt.cc/bbs/home-sale/M.1710168723.A.4D8.html\",\n          \"https://www.ptt.cc/bbs/home-sale/M.1710140869.A.331.html\"\n        ],\n        \"semantic_type\": \"\",\n        \"description\": \"\"\n      }\n    },\n    {\n      \"column\": \"artCatagory\",\n      \"properties\": {\n        \"dtype\": \"category\",\n        \"num_unique_values\": 3,\n        \"samples\": [\n          \"home_sale\",\n          \"Lifeismoney\",\n          \"Stock\"\n        ],\n        \"semantic_type\": \"\",\n        \"description\": \"\"\n      }\n    },\n    {\n      \"column\": \"artDate\",\n      \"properties\": {\n        \"dtype\": \"object\",\n        \"num_unique_values\": 5094,\n        \"samples\": [\n          \"2024-03-18 19:06:59\",\n          \"2024-03-12 17:28:39\",\n          \"2024-03-16 15:40:07\"\n        ],\n        \"semantic_type\": \"\",\n        \"description\": \"\"\n      }\n    }\n  ]\n}"
            }
          },
          "metadata": {},
          "execution_count": 120
        }
      ],
      "source": [
        "# 移除網址格式\n",
        "# 只留下中文字\n",
        "udn[\"artContent\"] = udn[\"artContent\"].str.replace(\"(http|https)://.*\", \"\", regex=True)\n",
        "udn[\"artTitle\"] = udn[\"artTitle\"].str.replace(\"(http|https)://.*\", \"\", regex=True)\n",
        "udn[\"artContent\"] = udn[\"artContent\"].str.replace(\"[^\\u4e00-\\u9fa5]+\", \"\", regex=True)\n",
        "udn[\"artTitle\"] = udn[\"artTitle\"].str.replace(\"[^\\u4e00-\\u9fa5]+\", \"\", regex=True)\n",
        "udn['content'] = udn['artContent']\n",
        "\n",
        "\n",
        "udn = udn.loc[:,[\"content\", \"artUrl\", \"artCatagory\", 'artDate']]  # 文章內容 文章連結\n",
        "udn.head(3)"
      ]
    },
    {
      "cell_type": "code",
      "source": [
        "udn.dropna(inplace=True)\n",
        "\n",
        "# 刪除 Series 中包含空值的行\n",
        "udn[\"content\"].dropna(inplace=True)"
      ],
      "metadata": {
        "colab": {
          "base_uri": "https://localhost:8080/"
        },
        "id": "UbsUfpIZBaCz",
        "outputId": "1ccd7fac-bd8e-4462-d450-87ba8dafee8d"
      },
      "execution_count": 121,
      "outputs": [
        {
          "output_type": "stream",
          "name": "stderr",
          "text": [
            "/usr/local/lib/python3.10/dist-packages/ipykernel/ipkernel.py:283: DeprecationWarning: `should_run_async` will not call `transform_cell` automatically in the future. Please pass the result to `transformed_cell` argument and any exception that happen during thetransform in `preprocessing_exc_tuple` in IPython 7.17 and above.\n",
            "  and should_run_async(code)\n"
          ]
        }
      ]
    },
    {
      "cell_type": "code",
      "execution_count": 122,
      "metadata": {
        "colab": {
          "base_uri": "https://localhost:8080/",
          "height": 487
        },
        "id": "hV2kKUwC2H9L",
        "outputId": "514b559f-ba9c-4a41-fa36-88e23ba998f1"
      },
      "outputs": [
        {
          "output_type": "stream",
          "name": "stderr",
          "text": [
            "/usr/local/lib/python3.10/dist-packages/ipykernel/ipkernel.py:283: DeprecationWarning: `should_run_async` will not call `transform_cell` automatically in the future. Please pass the result to `transformed_cell` argument and any exception that happen during thetransform in `preprocessing_exc_tuple` in IPython 7.17 and above.\n",
            "  and should_run_async(code)\n",
            "Building prefix dict from /content/dict.txt.big ...\n",
            "DEBUG:jieba:Building prefix dict from /content/dict.txt.big ...\n",
            "Loading model from cache /tmp/jieba.u501edca284da514cb68b53a20324f4e3.cache\n",
            "DEBUG:jieba:Loading model from cache /tmp/jieba.u501edca284da514cb68b53a20324f4e3.cache\n",
            "Loading model cost 1.830 seconds.\n",
            "DEBUG:jieba:Loading model cost 1.830 seconds.\n",
            "Prefix dict has been built successfully.\n",
            "DEBUG:jieba:Prefix dict has been built successfully.\n"
          ]
        },
        {
          "output_type": "execute_result",
          "data": {
            "text/plain": [
              "                                             content  \\\n",
              "0  不好意思又來叨擾房版了目前有看到高雄兩個物件感覺各有勝負想詢問看看版上的意見兩者的總價室內坪...   \n",
              "1  請問各位先進冠德安沐居要每坪萬冠德大直綻每坪萬雖然都在捷運出口但也比周邊貴一些這個價錢是貴在品牌嗎   \n",
              "2  連結內文台灣金聯土地未運用有原因駁斥養地炒房說媒體報導具公股色彩的台灣金聯近年大舉在南台灣與...   \n",
              "3  好房網重點縣市成交漲跌排行點選區域實價登錄趨勢年月重點縣市實價登錄漲跌排行新竹市萬坪桃園市萬...   \n",
              "4  地範響出畫站次的在規任榭桃均桃參考這篇還在說沒發包出去桃地分好幾標分別發包了今年也安排很多標...   \n",
              "\n",
              "                                              artUrl artCatagory  \\\n",
              "0  https://www.ptt.cc/bbs/home-sale/M.1709223923....   home_sale   \n",
              "1  https://www.ptt.cc/bbs/home-sale/M.1709232819....   home_sale   \n",
              "2  https://www.ptt.cc/bbs/home-sale/M.1709249161....   home_sale   \n",
              "3  https://www.ptt.cc/bbs/home-sale/M.1709251729....   home_sale   \n",
              "4  https://www.ptt.cc/bbs/home-sale/M.1709252693....   home_sale   \n",
              "\n",
              "               artDate                                              words  \n",
              "0  2024-03-01 00:25:19  [不好意思, 叨擾, 房版, 目前, 看到, 高雄, 兩個, 物件, 感覺, 各有勝負, 詢...  \n",
              "1  2024-03-01 02:53:37  [請問, 先進, 德安, 沐居要, 每坪, 萬冠德大直, 每坪, 捷運, 出口, 周邊, 一...  \n",
              "2  2024-03-01 07:25:58  [連結, 文台, 灣金聯, 土地, 運用, 原因, 駁斥, 養地, 炒房, 說媒, 報導, ...  \n",
              "3  2024-03-01 08:08:47  [房網, 重點, 縣市, 成交, 漲跌, 排行, 點選, 區域, 實價, 登錄, 趨勢, 重...  \n",
              "4  2024-03-01 08:24:51  [地範響, 出畫, 規任, 桃均桃, 參考, 這篇, 還在, 發包, 桃地分, 好幾, 分別...  "
            ],
            "text/html": [
              "\n",
              "  <div id=\"df-190c9c1c-0851-4a18-ab8b-6e6cb7c043a1\" class=\"colab-df-container\">\n",
              "    <div>\n",
              "<style scoped>\n",
              "    .dataframe tbody tr th:only-of-type {\n",
              "        vertical-align: middle;\n",
              "    }\n",
              "\n",
              "    .dataframe tbody tr th {\n",
              "        vertical-align: top;\n",
              "    }\n",
              "\n",
              "    .dataframe thead th {\n",
              "        text-align: right;\n",
              "    }\n",
              "</style>\n",
              "<table border=\"1\" class=\"dataframe\">\n",
              "  <thead>\n",
              "    <tr style=\"text-align: right;\">\n",
              "      <th></th>\n",
              "      <th>content</th>\n",
              "      <th>artUrl</th>\n",
              "      <th>artCatagory</th>\n",
              "      <th>artDate</th>\n",
              "      <th>words</th>\n",
              "    </tr>\n",
              "  </thead>\n",
              "  <tbody>\n",
              "    <tr>\n",
              "      <th>0</th>\n",
              "      <td>不好意思又來叨擾房版了目前有看到高雄兩個物件感覺各有勝負想詢問看看版上的意見兩者的總價室內坪...</td>\n",
              "      <td>https://www.ptt.cc/bbs/home-sale/M.1709223923....</td>\n",
              "      <td>home_sale</td>\n",
              "      <td>2024-03-01 00:25:19</td>\n",
              "      <td>[不好意思, 叨擾, 房版, 目前, 看到, 高雄, 兩個, 物件, 感覺, 各有勝負, 詢...</td>\n",
              "    </tr>\n",
              "    <tr>\n",
              "      <th>1</th>\n",
              "      <td>請問各位先進冠德安沐居要每坪萬冠德大直綻每坪萬雖然都在捷運出口但也比周邊貴一些這個價錢是貴在品牌嗎</td>\n",
              "      <td>https://www.ptt.cc/bbs/home-sale/M.1709232819....</td>\n",
              "      <td>home_sale</td>\n",
              "      <td>2024-03-01 02:53:37</td>\n",
              "      <td>[請問, 先進, 德安, 沐居要, 每坪, 萬冠德大直, 每坪, 捷運, 出口, 周邊, 一...</td>\n",
              "    </tr>\n",
              "    <tr>\n",
              "      <th>2</th>\n",
              "      <td>連結內文台灣金聯土地未運用有原因駁斥養地炒房說媒體報導具公股色彩的台灣金聯近年大舉在南台灣與...</td>\n",
              "      <td>https://www.ptt.cc/bbs/home-sale/M.1709249161....</td>\n",
              "      <td>home_sale</td>\n",
              "      <td>2024-03-01 07:25:58</td>\n",
              "      <td>[連結, 文台, 灣金聯, 土地, 運用, 原因, 駁斥, 養地, 炒房, 說媒, 報導, ...</td>\n",
              "    </tr>\n",
              "    <tr>\n",
              "      <th>3</th>\n",
              "      <td>好房網重點縣市成交漲跌排行點選區域實價登錄趨勢年月重點縣市實價登錄漲跌排行新竹市萬坪桃園市萬...</td>\n",
              "      <td>https://www.ptt.cc/bbs/home-sale/M.1709251729....</td>\n",
              "      <td>home_sale</td>\n",
              "      <td>2024-03-01 08:08:47</td>\n",
              "      <td>[房網, 重點, 縣市, 成交, 漲跌, 排行, 點選, 區域, 實價, 登錄, 趨勢, 重...</td>\n",
              "    </tr>\n",
              "    <tr>\n",
              "      <th>4</th>\n",
              "      <td>地範響出畫站次的在規任榭桃均桃參考這篇還在說沒發包出去桃地分好幾標分別發包了今年也安排很多標...</td>\n",
              "      <td>https://www.ptt.cc/bbs/home-sale/M.1709252693....</td>\n",
              "      <td>home_sale</td>\n",
              "      <td>2024-03-01 08:24:51</td>\n",
              "      <td>[地範響, 出畫, 規任, 桃均桃, 參考, 這篇, 還在, 發包, 桃地分, 好幾, 分別...</td>\n",
              "    </tr>\n",
              "  </tbody>\n",
              "</table>\n",
              "</div>\n",
              "    <div class=\"colab-df-buttons\">\n",
              "\n",
              "  <div class=\"colab-df-container\">\n",
              "    <button class=\"colab-df-convert\" onclick=\"convertToInteractive('df-190c9c1c-0851-4a18-ab8b-6e6cb7c043a1')\"\n",
              "            title=\"Convert this dataframe to an interactive table.\"\n",
              "            style=\"display:none;\">\n",
              "\n",
              "  <svg xmlns=\"http://www.w3.org/2000/svg\" height=\"24px\" viewBox=\"0 -960 960 960\">\n",
              "    <path d=\"M120-120v-720h720v720H120Zm60-500h600v-160H180v160Zm220 220h160v-160H400v160Zm0 220h160v-160H400v160ZM180-400h160v-160H180v160Zm440 0h160v-160H620v160ZM180-180h160v-160H180v160Zm440 0h160v-160H620v160Z\"/>\n",
              "  </svg>\n",
              "    </button>\n",
              "\n",
              "  <style>\n",
              "    .colab-df-container {\n",
              "      display:flex;\n",
              "      gap: 12px;\n",
              "    }\n",
              "\n",
              "    .colab-df-convert {\n",
              "      background-color: #E8F0FE;\n",
              "      border: none;\n",
              "      border-radius: 50%;\n",
              "      cursor: pointer;\n",
              "      display: none;\n",
              "      fill: #1967D2;\n",
              "      height: 32px;\n",
              "      padding: 0 0 0 0;\n",
              "      width: 32px;\n",
              "    }\n",
              "\n",
              "    .colab-df-convert:hover {\n",
              "      background-color: #E2EBFA;\n",
              "      box-shadow: 0px 1px 2px rgba(60, 64, 67, 0.3), 0px 1px 3px 1px rgba(60, 64, 67, 0.15);\n",
              "      fill: #174EA6;\n",
              "    }\n",
              "\n",
              "    .colab-df-buttons div {\n",
              "      margin-bottom: 4px;\n",
              "    }\n",
              "\n",
              "    [theme=dark] .colab-df-convert {\n",
              "      background-color: #3B4455;\n",
              "      fill: #D2E3FC;\n",
              "    }\n",
              "\n",
              "    [theme=dark] .colab-df-convert:hover {\n",
              "      background-color: #434B5C;\n",
              "      box-shadow: 0px 1px 3px 1px rgba(0, 0, 0, 0.15);\n",
              "      filter: drop-shadow(0px 1px 2px rgba(0, 0, 0, 0.3));\n",
              "      fill: #FFFFFF;\n",
              "    }\n",
              "  </style>\n",
              "\n",
              "    <script>\n",
              "      const buttonEl =\n",
              "        document.querySelector('#df-190c9c1c-0851-4a18-ab8b-6e6cb7c043a1 button.colab-df-convert');\n",
              "      buttonEl.style.display =\n",
              "        google.colab.kernel.accessAllowed ? 'block' : 'none';\n",
              "\n",
              "      async function convertToInteractive(key) {\n",
              "        const element = document.querySelector('#df-190c9c1c-0851-4a18-ab8b-6e6cb7c043a1');\n",
              "        const dataTable =\n",
              "          await google.colab.kernel.invokeFunction('convertToInteractive',\n",
              "                                                    [key], {});\n",
              "        if (!dataTable) return;\n",
              "\n",
              "        const docLinkHtml = 'Like what you see? Visit the ' +\n",
              "          '<a target=\"_blank\" href=https://colab.research.google.com/notebooks/data_table.ipynb>data table notebook</a>'\n",
              "          + ' to learn more about interactive tables.';\n",
              "        element.innerHTML = '';\n",
              "        dataTable['output_type'] = 'display_data';\n",
              "        await google.colab.output.renderOutput(dataTable, element);\n",
              "        const docLink = document.createElement('div');\n",
              "        docLink.innerHTML = docLinkHtml;\n",
              "        element.appendChild(docLink);\n",
              "      }\n",
              "    </script>\n",
              "  </div>\n",
              "\n",
              "\n",
              "<div id=\"df-7d80f623-8250-4446-b69a-d48c49c81b8e\">\n",
              "  <button class=\"colab-df-quickchart\" onclick=\"quickchart('df-7d80f623-8250-4446-b69a-d48c49c81b8e')\"\n",
              "            title=\"Suggest charts\"\n",
              "            style=\"display:none;\">\n",
              "\n",
              "<svg xmlns=\"http://www.w3.org/2000/svg\" height=\"24px\"viewBox=\"0 0 24 24\"\n",
              "     width=\"24px\">\n",
              "    <g>\n",
              "        <path d=\"M19 3H5c-1.1 0-2 .9-2 2v14c0 1.1.9 2 2 2h14c1.1 0 2-.9 2-2V5c0-1.1-.9-2-2-2zM9 17H7v-7h2v7zm4 0h-2V7h2v10zm4 0h-2v-4h2v4z\"/>\n",
              "    </g>\n",
              "</svg>\n",
              "  </button>\n",
              "\n",
              "<style>\n",
              "  .colab-df-quickchart {\n",
              "      --bg-color: #E8F0FE;\n",
              "      --fill-color: #1967D2;\n",
              "      --hover-bg-color: #E2EBFA;\n",
              "      --hover-fill-color: #174EA6;\n",
              "      --disabled-fill-color: #AAA;\n",
              "      --disabled-bg-color: #DDD;\n",
              "  }\n",
              "\n",
              "  [theme=dark] .colab-df-quickchart {\n",
              "      --bg-color: #3B4455;\n",
              "      --fill-color: #D2E3FC;\n",
              "      --hover-bg-color: #434B5C;\n",
              "      --hover-fill-color: #FFFFFF;\n",
              "      --disabled-bg-color: #3B4455;\n",
              "      --disabled-fill-color: #666;\n",
              "  }\n",
              "\n",
              "  .colab-df-quickchart {\n",
              "    background-color: var(--bg-color);\n",
              "    border: none;\n",
              "    border-radius: 50%;\n",
              "    cursor: pointer;\n",
              "    display: none;\n",
              "    fill: var(--fill-color);\n",
              "    height: 32px;\n",
              "    padding: 0;\n",
              "    width: 32px;\n",
              "  }\n",
              "\n",
              "  .colab-df-quickchart:hover {\n",
              "    background-color: var(--hover-bg-color);\n",
              "    box-shadow: 0 1px 2px rgba(60, 64, 67, 0.3), 0 1px 3px 1px rgba(60, 64, 67, 0.15);\n",
              "    fill: var(--button-hover-fill-color);\n",
              "  }\n",
              "\n",
              "  .colab-df-quickchart-complete:disabled,\n",
              "  .colab-df-quickchart-complete:disabled:hover {\n",
              "    background-color: var(--disabled-bg-color);\n",
              "    fill: var(--disabled-fill-color);\n",
              "    box-shadow: none;\n",
              "  }\n",
              "\n",
              "  .colab-df-spinner {\n",
              "    border: 2px solid var(--fill-color);\n",
              "    border-color: transparent;\n",
              "    border-bottom-color: var(--fill-color);\n",
              "    animation:\n",
              "      spin 1s steps(1) infinite;\n",
              "  }\n",
              "\n",
              "  @keyframes spin {\n",
              "    0% {\n",
              "      border-color: transparent;\n",
              "      border-bottom-color: var(--fill-color);\n",
              "      border-left-color: var(--fill-color);\n",
              "    }\n",
              "    20% {\n",
              "      border-color: transparent;\n",
              "      border-left-color: var(--fill-color);\n",
              "      border-top-color: var(--fill-color);\n",
              "    }\n",
              "    30% {\n",
              "      border-color: transparent;\n",
              "      border-left-color: var(--fill-color);\n",
              "      border-top-color: var(--fill-color);\n",
              "      border-right-color: var(--fill-color);\n",
              "    }\n",
              "    40% {\n",
              "      border-color: transparent;\n",
              "      border-right-color: var(--fill-color);\n",
              "      border-top-color: var(--fill-color);\n",
              "    }\n",
              "    60% {\n",
              "      border-color: transparent;\n",
              "      border-right-color: var(--fill-color);\n",
              "    }\n",
              "    80% {\n",
              "      border-color: transparent;\n",
              "      border-right-color: var(--fill-color);\n",
              "      border-bottom-color: var(--fill-color);\n",
              "    }\n",
              "    90% {\n",
              "      border-color: transparent;\n",
              "      border-bottom-color: var(--fill-color);\n",
              "    }\n",
              "  }\n",
              "</style>\n",
              "\n",
              "  <script>\n",
              "    async function quickchart(key) {\n",
              "      const quickchartButtonEl =\n",
              "        document.querySelector('#' + key + ' button');\n",
              "      quickchartButtonEl.disabled = true;  // To prevent multiple clicks.\n",
              "      quickchartButtonEl.classList.add('colab-df-spinner');\n",
              "      try {\n",
              "        const charts = await google.colab.kernel.invokeFunction(\n",
              "            'suggestCharts', [key], {});\n",
              "      } catch (error) {\n",
              "        console.error('Error during call to suggestCharts:', error);\n",
              "      }\n",
              "      quickchartButtonEl.classList.remove('colab-df-spinner');\n",
              "      quickchartButtonEl.classList.add('colab-df-quickchart-complete');\n",
              "    }\n",
              "    (() => {\n",
              "      let quickchartButtonEl =\n",
              "        document.querySelector('#df-7d80f623-8250-4446-b69a-d48c49c81b8e button');\n",
              "      quickchartButtonEl.style.display =\n",
              "        google.colab.kernel.accessAllowed ? 'block' : 'none';\n",
              "    })();\n",
              "  </script>\n",
              "</div>\n",
              "\n",
              "    </div>\n",
              "  </div>\n"
            ],
            "application/vnd.google.colaboratory.intrinsic+json": {
              "type": "dataframe",
              "variable_name": "udn",
              "summary": "{\n  \"name\": \"udn\",\n  \"rows\": 5093,\n  \"fields\": [\n    {\n      \"column\": \"content\",\n      \"properties\": {\n        \"dtype\": \"string\",\n        \"num_unique_values\": 4994,\n        \"samples\": [\n          \"\\u5fc5\\u8981\\u8cc7\\u8a0a\\u9580\\u724c\\u53f0\\u4e2d\\u5e02\\u5317\\u5c6f\\u5340\\u5d07\\u5fb7\\u516d\\u8def\\u865f\\u5efa\\u8a2d\\u516c\\u53f8\\u5927\\u6bc5\\u5efa\\u8a2d\\u7e3d\\u6236\\u6578\\u6236\\u5b8c\\u5de5\\u65e5\\u6c11\\u570b\\u5e74\\u6708\\u65e5\\u7e3d\\u6a13\\u9ad8\\u5730\\u4e0a\\u5c64\\u5730\\u4e0b\\u5c64\\u516c\\u8a2d\\u6bd4\\u7d04\\u683c\\u5c40\\u898f\\u5283\\u623f\\u623f\\u623f\\u5b78\\u5340\\u677e\\u7af9\\u570b\\u5c0f\\u5d07\\u5fb7\\u570b\\u4e2d\\u6b21\\u8981\\u8cc7\\u8a0a\\u88dc\\u5145\\u7d14\\u4f4f\\u5bb6\\u96f6\\u5e97\\u9762\\u793e\\u5340\\u8eca\\u4f4d\\u5305\\u542b\\u5761\\u9053\\u5e73\\u9762\\u5761\\u9053\\u6a5f\\u68b0\\u672c\\u6848\\u512a\\u7f3a\\u9ede\\u512a\\u9ede\\u672c\\u793e\\u5340\\u8a2d\\u6709\\u592a\\u967d\\u80fd\\u677f\\u96e8\\u6c34\\u56de\\u6536\\u7cfb\\u7d71\\u751f\\u6a5f\\u80a5\\u6599\\u8207\\u9805\\u8cc7\\u6e90\\u56de\\u6536\\u5c08\\u5340\\u4e3b\\u6253\\u7bc0\\u80fd\\u6e1b\\u78b3\\u7684\\u7da0\\u5efa\\u7bc9\\u6982\\u5ff5\\u5927\\u6bc5\\u5efa\\u8a2d\\u672c\\u8eab\\u7d93\\u71df\\u5927\\u6bc5\\u5e78\\u798f\\u9928\\u958b\\u5fc3\\u8fb2\\u5834\\u4e00\\u755d\\u7530\\u900f\\u904e\\u6708\\u6708\\u8209\\u8fa6\\u8ab2\\u7a0b\\u6d3b\\u52d5\\u51dd\\u805a\\u5927\\u6bc5\\u4f4f\\u6236\\u5c0d\\u793e\\u5340\\u7684\\u5411\\u5fc3\\u529b\\u7f3a\\u9ede\\u9019\\u793e\\u5340\\u4e00\\u76f4\\u662f\\u5c0f\\u59b9\\u5728\\u53f0\\u4e2d\\u6642\\u5f88\\u559c\\u6b61\\u7684\\u5efa\\u6848\\u9084\\u771f\\u7684\\u60f3\\u4e0d\\u592a\\u5230\\u7f3a\\u9ede\\u6b61\\u8fce\\u7248\\u53cb\\u5e6b\\u5fd9\\u88dc\\u5145\\u5099\\u8a3b\\u672c\\u6848\\u70ba\\u5927\\u6bc5\\u5efa\\u8a2d\\u7b2c\\u4e00\\u500b\\u5927\\u6a13\\u578b\\u5efa\\u6848\\u63a1\\u5148\\u5efa\\u5f8c\\u552e\\u66fe\\u69ae\\u7372\\u5e74\\u512a\\u826f\\u516c\\u5bd3\\u5927\\u5ec8\\u8a55\\u9078\\u7b2c\\u4e00\\u540d\\u4ee5\\u53ca\\u8af8\\u591a\\u734e\\u9805\\u76f8\\u95dc\\u9023\\u7d50\\u65b0\\u805e\\u5efa\\u6848\\u5b98\\u7db2\\u5176\\u4ed6\\u5167\\u653f\\u90e8\\u5be6\\u50f9\\u767b\\u9304\\u52ff\\u522a\\u7576\\u521d\\u56de\\u53f0\\u4e2d\\u96d6\\u7136\\u4e3b\\u8981\\u662f\\u5e0c\\u671b\\u53ef\\u4ee5\\u591a\\u9ede\\u6642\\u9593\\u966a\\u4f34\\u8001\\u4eba\\u5bb6\\u4f46\\u4e5f\\u771f\\u7684\\u82b1\\u4e86\\u4e0d\\u5c11\\u6642\\u9593\\u5728\\u8a8d\\u8b58\\u793e\\u5340\\u505a\\u529f\\u8ab2\\u7684\\u5728\\u53f0\\u4e2d\\u6642\\u6211\\u4e00\\u76f4\\u5f88\\u559c\\u6b61\\u4ecb\\u7d39\\u8cb7\\u65b9\\u5927\\u6bc5\\u7684\\u5efa\\u6848\\u9664\\u4e86\\u4e00\\u4e9b\\u6307\\u6a19\\u8c6a\\u5b85\\u5efa\\u5546\\u6216\\u8005\\u60e0\\u5b87\\u84cb\\u7d66\\u9996\\u8cfc\\u53c8\\u9858\\u610f\\u82b1\\u8cbb\\u90a3\\u9ebc\\u5927\\u5fc3\\u529b\\u505a\\u552e\\u5f8c\\u8edf\\u670d\\u52d9\\u7684\\u5efa\\u8a2d\\u516c\\u53f8\\u9084\\u771f\\u7684\\u4e0d\\u7b97\\u591a\\u53ef\\u80fd\\u4e5f\\u662f\\u6211\\u5011\\u642c\\u56de\\u6843\\u5712\\u5f8c\\u5be7\\u9858\\u72a7\\u7272\\u8cfa\\u9322\\u6642\\u9593\\u4e5f\\u5805\\u6301\\u8981\\u505a\\u5546\\u5708\\u6d3b\\u52d5\\u7684\\u4e00\\u500b\\u767c\\u60f3\\u5427\\u8cb7\\u8ce3\\u5f97\\u4e0d\\u55ae\\u55ae\\u662f\\u623f\\u5b50\\u800c\\u662f\\u6709\\u6eab\\u5ea6\\u7684\\u5bb6\\u96d6\\u7136\\u53ef\\u80fd\\u6709\\u4e9b\\u4eba\\u53ea\\u7576\\u9019\\u662f\\u4e00\\u500b\\u53e3\\u865f\\u5566\\u4f46\\u6211\\u5011\\u5e7e\\u4e4e\\u90fd\\u505a\\u81ea\\u7528\\u4f4f\\u5b85\\u5c45\\u591a\\u662f\\u8a8d\\u771f\\u5e0c\\u671b\\u80fd\\u628a\\u6eab\\u5ea6\\u5e36\\u7d66\\u66fe\\u7d93\\u95dc\\u7167\\u6211\\u5011\\u7684\\u4f4f\\u6236\\u5011\",\n          \"\\u5148\\u4e0a\\u5716\\u54e5\\u6843\\u5712\\u65b0\\u4e16\\u4ee3\\u751f\\u6d3b\\u5927\\u5e2b\\u6843\\u5712\\u5c0f\\u6a9c\\u738b\\u54e5\\u7684\\u5bb6\\u4eba\\u5c31\\u4f4f\\u85dd\\u6587\\u7e3d\\u5716\\u5c0d\\u9762\\u6700\\u8fd1\\u85dd\\u6587\\u5927\\u6a13\\u5275\\u65b0\\u9ad8\\u8ce3\\u5104\\u800c\\u4e14\\u9084\\u662f\\u5e74\\u7684\\u8001\\u820a\\u585e\\u8eca\\u4e2d\\u53e4\\u5c4b\\u65c1\\u908a\\u90fd\\u6c92\\u6709\\u5de5\\u696d\\u5340\\u5927\\u5b78\\u751f\\u6d3b\\u771f\\u7684\\u597d\\u6dd2\\u6158\\u554a\\u65c1\\u908a\\u53ea\\u6709\\u5168\\u570b\\u6700\\u7f8e\\u5716\\u66f8\\u9928\\u6c92\\u8fa6\\u6cd5\\u5438\\u5de5\\u696d\\u5ee2\\u6c23\\u9084\\u8981\\u5929\\u5929\\u585e\\u8eca\\u6316\\u6377\\u904b\\u6158\\u5230\\u53ea\\u80fd\\u88ab\\u9178\\u8aaa\\u8cb7\\u9019\\u908a\\u982d\\u6bbc\\u58de\\u6389\\u539f\\u4f86\\u5927\\u5bb6\\u90fd\\u982d\\u660f\\u4e82\\u8cb7\\u6843\\u5712\\u5340\\u4e0d\\u5c0f\\u5fc3\\u5c31\\u8cb7\\u5230\\u5168\\u570b\\u7b2c\\u4e00\\u540d\\u54e5\\u4e5f\\u4e0d\\u5c0f\\u5fc3\\u8ca2\\u737b\\u4e86\\u4e00\\u9ede\\u9ede\\u76f8\\u4fe1\\u5f88\\u591a\\u4eba\\u90fd\\u4e0d\\u77e5\\u9053\\u8001\\u6843\\u5712\\u4eba\\u8cb7\\u623f\\u5f88\\u591a\\u90fd\\u662f\\u76f4\\u63a5\\u7528\\u73fe\\u91d1\\u8cb7\\u5225\\u518d\\u53e3\\u5acc\\u9ad4\\u6b63\\u76f4\\u904e\\u4f86\\u6436\\u623f\\u5b50\\u5566\\u4e0a\\u6b21\\u641e\\u842c\\u8056\\u7bc0\\u6d3b\\u52d5\\u585e\\u8eca\\u5feb\\u4e00\\u500b\\u5c0f\\u6642\\u6843\\u5712\\u5340\\u4eba\\u53e3\\u842c\\u5168\\u570b\\u4eba\\u53e3\\u7b2c\\u4e8c\\u5927\\u5340\\u50c5\\u6b21\\u65bc\\u677f\\u6a4b\\u5728\\u6843\\u7af9\\u82d7\\u4eba\\u53e3\\u6700\\u591a\\u4eba\\u53e3\\u5bc6\\u5ea6\\u6700\\u9ad8\\u5168\\u570b\\u8cb7\\u8ce3\\u91cf\\u7b2c\\u4e00\\u7684\\u5340\\u584a\\u5927\\u5bb6\\u771f\\u7684\\u90fd\\u662f\\u982d\\u6bbc\\u58de\\u6389\\u554a\\u62dc\\u8a17\\u6c92\\u4e8b\\u5225\\u4f86\\u6436\\u554a\\u9084\\u60f3\\u6162\\u6162\\u8cb7\\u90fd\\u88ab\\u6436\\u8d70\\u6843\\u5712\\u591a\\u8ecd\\u7684\\u6307\\u6a19\\u5c31\\u662f\\u677f\\u6a4b\\u554a\\u5c0f\\u6a9c\\u6eaa\\u9060\\u96c4\\u5feb\\u8981\\u5b57\\u982d\\u5be6\\u50f9\\u767b\\u9304\\u9084\\u6162\\u4e86\\u5e7e\\u500b\\u6708\\u798f\\u5bb9\\u4f73\\u9e97\\u5bf6\\u5b57\\u982d\\u9019\\u500b\\u9084\\u662f\\u6210\\u5c4b\\u8cb7\\u8ce3\\u975e\\u9810\\u552e\\u5c4b\\u570b\\u738b\\u4e4b\\u68ee\\u4e00\\u6a23\\u662f\\u6210\\u5c4b\\u8cb7\\u8ce3\\u975e\\u9810\\u552e\\u5c4b\\u6b63\\u65c1\\u908a\\u6709\\u52a0\\u6cb9\\u7ad9\\u661f\\u5df4\\u5ba2\\u9ea5\\u7576\\u52de\\u90fd\\u8ce3\\u5230\\u5feb\\u52a0\\u6cb9\\u5427\\u6b61\\u8fce\\u7e7c\\u7e8c\\u9178\\u5566\\u4f46\\u662f\\u4e0d\\u8981\\u908a\\u9178\\u53c8\\u5077\\u5077\\u8dd1\\u4f86\\u8cb7\\u5bb3\\u6843\\u5712\\u585e\\u8eca\\u66f4\\u56b4\\u91cd\\u8ddf\\u5167\\u6e56\\u96d9\\u5317\\u4e00\\u6a23\\u6bcf\\u5929\\u90fd\\u585e\\u7206\\u7136\\u5f8c\\u6843\\u5712\\u53c8\\u8b8a\\u6210\\u5168\\u570b\\u8cb7\\u8ce3\\u7b2c\\u4e00\\u540d\\u7684\\u5340\",\n          \"\\u5225\\u54ed\\u4fbf\\u7576\\u963f\\u80a5\\u8ddf\\u4f60\\u4e00\\u6a23\\u53ef\\u60b2\\u9019\\u4e00\\u6ce2\\u7684\\u6f32\\u52e2\\u963f\\u80a5\\u4e00\\u5f35\\u6301\\u80a1\\u90fd\\u6c92\\u6709\\u4e5f\\u6c92\\u6709\\u4efb\\u4f55\\u7684\\u6bcf\\u5929\\u770b\\u8457\\u540c\\u4e8b\\u723d\\u5475\\u5475\\u8981\\u4e0b\\u73ed\\u4e4b\\u524d\\u4e0d\\u662f\\u8a0e\\u8ad6\\u53bb\\u5167\\u6e56\\u770b\\u4fdd\\u6642\\u6377\\u4e0d\\u7136\\u5c31\\u662f\\u53c8\\u8981\\u53bb\\u770b\\u54ea\\u88e1\\u7684\\u5927\\u56db\\u623f\\u800c\\u963f\\u80a5\\u53ea\\u5269\\u4e0b\\u6bcf\\u5929\\u53ef\\u60b2\\u7684\\u4fbf\\u7576\\u9322\\u50cf\\u4eca\\u5929\\u963f\\u80a5\\u53ea\\u6709\\u8584\\u8584\\u7684\\u665a\\u9910\\u9322\\u963f\\u80a5\\u6253\\u958b\\u624b\\u6a5f\\u8a02\\u8cfc\\u665a\\u9910\\u800c\\u540c\\u4e8b\\u6bcf\\u500b\\u90fd\\u6253\\u958b\\u624b\\u6a5f\\u4e0d\\u662f\\u8a02\\u623f\\u5c31\\u662f\\u8a02\\u8eca\\u53ea\\u6709\\u963f\\u80a5\\u773c\\u5149\\u6cdb\\u6dda\\u5403\\u8457\\u53cb\\u5584\\u6642\\u5149\\u83ab\\u5fd8\\u4e16\\u4e0a\\u82e6\\u4eba\\u591a\\u7576\\u5927\\u5bb6\\u8cfa\\u5230\\u624b\\u8edf\\u7684\\u6642\\u5019\\u8acb\\u4e0d\\u8981\\u5fd8\\u8a18\\u5e6b\\u5e6b\\u8eab\\u908a\\u9084\\u6709\\u5f88\\u591a\\u50cf\\u963f\\u80a5\\u4e00\\u6a23\\u5403\\u8457\\u53cb\\u5584\\u6642\\u5149\\u6c92\\u6709\\u4e0a\\u8eca\\u7684\\u53ef\\u6190\\u87f2\"\n        ],\n        \"semantic_type\": \"\",\n        \"description\": \"\"\n      }\n    },\n    {\n      \"column\": \"artUrl\",\n      \"properties\": {\n        \"dtype\": \"string\",\n        \"num_unique_values\": 5093,\n        \"samples\": [\n          \"https://www.ptt.cc/bbs/home-sale/M.1710760920.A.04F.html\",\n          \"https://www.ptt.cc/bbs/Stock/M.1710236574.A.F73.html\",\n          \"https://www.ptt.cc/bbs/home-sale/M.1710575738.A.632.html\"\n        ],\n        \"semantic_type\": \"\",\n        \"description\": \"\"\n      }\n    },\n    {\n      \"column\": \"artCatagory\",\n      \"properties\": {\n        \"dtype\": \"category\",\n        \"num_unique_values\": 3,\n        \"samples\": [\n          \"home_sale\",\n          \"Lifeismoney\",\n          \"Stock\"\n        ],\n        \"semantic_type\": \"\",\n        \"description\": \"\"\n      }\n    },\n    {\n      \"column\": \"artDate\",\n      \"properties\": {\n        \"dtype\": \"object\",\n        \"num_unique_values\": 5085,\n        \"samples\": [\n          \"2024-03-27 16:20:32\",\n          \"2024-03-05 01:38:55\",\n          \"2024-03-08 11:56:46\"\n        ],\n        \"semantic_type\": \"\",\n        \"description\": \"\"\n      }\n    },\n    {\n      \"column\": \"words\",\n      \"properties\": {\n        \"dtype\": \"object\",\n        \"semantic_type\": \"\",\n        \"description\": \"\"\n      }\n    }\n  ]\n}"
            }
          },
          "metadata": {},
          "execution_count": 122
        }
      ],
      "source": [
        "# 設定繁體中文詞庫\n",
        "jieba.set_dictionary(\"dict.txt.big\")\n",
        "\n",
        "# 新增stopwords\n",
        "# jieba.analyse.set_stop_words('./dict/stop_words.txt') #jieba.analyse.extract_tags才會作用\n",
        "with open(\"stop_words.txt\", encoding=\"utf-8\") as f:\n",
        "    stopWords = [line.strip() for line in f.readlines()]\n",
        "\n",
        "# 設定斷詞 function\n",
        "def getToken(row):\n",
        "    seg_list = jieba.cut(row, cut_all=False)\n",
        "    seg_list = [\n",
        "        w for w in seg_list if w not in stopWords and len(w) > 1\n",
        "    ]  # 篩選掉停用字與字元數大於1的詞彙\n",
        "    return seg_list\n",
        "\n",
        "udn[\"words\"] = udn[\"content\"].apply(getToken)\n",
        "udn.head()"
      ]
    },
    {
      "cell_type": "markdown",
      "metadata": {
        "id": "XGZjiQEV2H9L"
      },
      "source": [
        "## 3. Lexicon-based / 人工給定主題的主題模型"
      ]
    },
    {
      "cell_type": "code",
      "execution_count": 123,
      "metadata": {
        "colab": {
          "base_uri": "https://localhost:8080/"
        },
        "id": "iK7Ibm2f2H9L",
        "outputId": "232ea6e4-8f0c-42e4-891f-42835fafd1e3"
      },
      "outputs": [
        {
          "output_type": "stream",
          "name": "stderr",
          "text": [
            "/usr/local/lib/python3.10/dist-packages/ipykernel/ipkernel.py:283: DeprecationWarning: `should_run_async` will not call `transform_cell` automatically in the future. Please pass the result to `transformed_cell` argument and any exception that happen during thetransform in `preprocessing_exc_tuple` in IPython 7.17 and above.\n",
            "  and should_run_async(code)\n"
          ]
        },
        {
          "output_type": "execute_result",
          "data": {
            "text/plain": [
              "array(['home_sale', 'Lifeismoney', 'Stock'], dtype=object)"
            ]
          },
          "metadata": {},
          "execution_count": 123
        }
      ],
      "source": [
        "udn['artCatagory'].unique()"
      ]
    },
    {
      "cell_type": "markdown",
      "source": [
        "### 定義主題:房地產(home_sale)、省錢(Lifeismoney)、股票(Stock)"
      ],
      "metadata": {
        "id": "HXlITqo8eJzI"
      }
    },
    {
      "cell_type": "code",
      "execution_count": 124,
      "metadata": {
        "colab": {
          "base_uri": "https://localhost:8080/"
        },
        "id": "FdJsSZSE2H9L",
        "outputId": "1b011adf-d56a-4cd4-f456-577c42d3fac9"
      },
      "outputs": [
        {
          "output_type": "stream",
          "name": "stderr",
          "text": [
            "/usr/local/lib/python3.10/dist-packages/ipykernel/ipkernel.py:283: DeprecationWarning: `should_run_async` will not call `transform_cell` automatically in the future. Please pass the result to `transformed_cell` argument and any exception that happen during thetransform in `preprocessing_exc_tuple` in IPython 7.17 and above.\n",
            "  and should_run_async(code)\n"
          ]
        },
        {
          "output_type": "execute_result",
          "data": {
            "text/plain": [
              "Index(['房屋', '車位', '房價', '目前', '建物', '資訊', '現在', '房子', '格局', '建設', '本文', '實價',\n",
              "       '登錄', '貸款', '物件', '預售', '土地', '公司', '以上', '社區', '問題', '願意', '公設', '真的',\n",
              "       '台灣', '同意', '仲介', '比較', '買房', '萬元', '未來', '相關', '內容', '大樓', '投資', '是否',\n",
              "       '不動產', '應該', '交通', '規範', '連結', '知道', '捷運', '桃園', '本站', '方式', '規劃', '使用',\n",
              "       '表示', '銀行', '建商', '覺得', '重劃', '門牌', '屋齡', '房市', '房貸', '樓層', '生活', '附近',\n",
              "       '價格', '已經', '市場', '政府', '總價', '權狀', '一間', '時間', '機能', '聯絡', '坪數', '最近',\n",
              "       '本案', '高鐵', '開價', '姓名', '學區', '物權', '一下', '台北', '網站', '情況', '區域', '屋主',\n",
              "       '看到', '規定', '所有', '直接', '台南市', '發表', '地方', '共同', '台南', '完工', '總樓', '租金',\n",
              "       '公寓', '內政部', '商圈', '停車位'],\n",
              "      dtype='object', name='words')"
            ]
          },
          "metadata": {},
          "execution_count": 124
        }
      ],
      "source": [
        "## 定義主題\n",
        "sport_cnt = udn.loc[udn['artCatagory'] == 'home_sale',:]['words'].explode().value_counts().head(100)\n",
        "sport_cnt.index"
      ]
    },
    {
      "cell_type": "code",
      "execution_count": 125,
      "metadata": {
        "colab": {
          "base_uri": "https://localhost:8080/"
        },
        "id": "2E5jorby2H9M",
        "outputId": "6c0f472e-7970-42b3-8d96-714aa3e7013e"
      },
      "outputs": [
        {
          "output_type": "stream",
          "name": "stderr",
          "text": [
            "/usr/local/lib/python3.10/dist-packages/ipykernel/ipkernel.py:283: DeprecationWarning: `should_run_async` will not call `transform_cell` automatically in the future. Please pass the result to `transformed_cell` argument and any exception that happen during thetransform in `preprocessing_exc_tuple` in IPython 7.17 and above.\n",
            "  and should_run_async(code)\n"
          ]
        },
        {
          "output_type": "execute_result",
          "data": {
            "text/plain": [
              "Index(['優惠', '活動', '回饋', '使用', '價格', '時間', '特價', '會員', '看到', '點數', '今天', '便宜',\n",
              "       '商品', '現在', '應該', '美食', '折扣', '參考', '比較', '購物', '消費', '分享', '指定', '兌換',\n",
              "       '最高', '買一送一', '折抵', '覺得', '一下', '原價', '全家', '內容', '之前', '直接', '知道',\n",
              "       '這次', '目前', '汽柴油', '折價券', '限定', '期間', '牛肉', '看看', '記得', '吸收', '連結',\n",
              "       '划算', '一次', '需要', '金額', '系列', '免費', '限量', '收到', '雞塊', '外送', '蝦皮', '輸入',\n",
              "       '帳號', '官網', '每人', '店家', '結帳', '購買', '發現', '真的', '加碼', '油價', '公升', '優惠券',\n",
              "       '下單', '上限', '品牌', '補助', '領取', '台灣', '已經', '提供', '限時', '剛剛', '信用卡', '搭配',\n",
              "       '完成', '飲料', '期限', '門市', '加入', '數量', '以下', '以上', '咖啡', '不錯', '支付', '即可',\n",
              "       '免運', '拿到', '訂單', '有沒有', '打折', '一張'],\n",
              "      dtype='object', name='words')"
            ]
          },
          "metadata": {},
          "execution_count": 125
        }
      ],
      "source": [
        "stock_cnt = udn.loc[udn['artCatagory'] == 'Lifeismoney',:]['words'].explode().value_counts().head(100)\n",
        "#pprint(\" \".join(stock_cnt.index))\n",
        "stock_cnt.index"
      ]
    },
    {
      "cell_type": "code",
      "execution_count": null,
      "metadata": {
        "colab": {
          "base_uri": "https://localhost:8080/"
        },
        "id": "A_CbQFmY2H9M",
        "outputId": "955f7833-364e-4d65-852c-6295044ee11c"
      },
      "outputs": [
        {
          "output_type": "stream",
          "name": "stderr",
          "text": [
            "/usr/local/lib/python3.10/dist-packages/ipykernel/ipkernel.py:283: DeprecationWarning: `should_run_async` will not call `transform_cell` automatically in the future. Please pass the result to `transformed_cell` argument and any exception that happen during thetransform in `preprocessing_exc_tuple` in IPython 7.17 and above.\n",
            "  and should_run_async(code)\n"
          ]
        },
        {
          "output_type": "execute_result",
          "data": {
            "text/plain": [
              "Index(['公司', '原文', '股利', '台灣', '累計', '市場', '億元', '標題', '投資', '今年', '現金', '盈餘',\n",
              "       '本期', '時間', '內容', '元股', '股價', '目前', '去年', '記者', '表示', '現在', '營收', '董事會',\n",
              "       '股票', '元月', '股東', '股息', '心得', '資訊', '美國', '成長', '中國', '發布', '台股', '連結',\n",
              "       '配股', '日期', '來源', '每股', '利率', '評論', '金額', '署名', '持續', '網址', '指數', '獲利',\n",
              "       '公開', '交易', '投信', '淨利', '已經', '未來', '配發', '資金', '應該', '資本', '外資', '產業',\n",
              "       '證券', '營業', '今天', '報導', '投資人', '影響', '以上', '增資', '指出', '決議', '期間', '真的',\n",
              "       '價格', '基金', '超過', '事項', '年度', '銀行', '高息', '仟元', '知道', '科技', '內文', '發行',\n",
              "       '半導體', '上市', '發放', '降息', '相關', '標的', '收入', '問題', '需求', '預期', '股市',\n",
              "       '台積電', '產品', '增加', '長榮', '台積'],\n",
              "      dtype='object', name='words')"
            ]
          },
          "metadata": {},
          "execution_count": 46
        }
      ],
      "source": [
        "global_cnt = udn.loc[udn['artCatagory'] == 'Stock',:]['words'].explode().value_counts().head(100)\n",
        "#pprint(\" \".join(global_cnt.index))\n",
        "global_cnt.index"
      ]
    },
    {
      "cell_type": "code",
      "execution_count": null,
      "metadata": {
        "colab": {
          "base_uri": "https://localhost:8080/"
        },
        "id": "zLHTPULr2H9M",
        "outputId": "8e5072d5-340e-41db-9007-0c99aabdfdc0"
      },
      "outputs": [
        {
          "output_type": "stream",
          "name": "stderr",
          "text": [
            "/usr/local/lib/python3.10/dist-packages/ipykernel/ipkernel.py:283: DeprecationWarning: `should_run_async` will not call `transform_cell` automatically in the future. Please pass the result to `transformed_cell` argument and any exception that happen during thetransform in `preprocessing_exc_tuple` in IPython 7.17 and above.\n",
            "  and should_run_async(code)\n"
          ]
        }
      ],
      "source": [
        "custom_topic_word = {\n",
        "    \"home_sale\": [\n",
        "        '房屋', '車位', '房價', '目前', '建物', '資訊', '現在', '房子', '格局', '建設', '本文', '實價',\n",
        "       '登錄', '貸款', '物件', '預售', '土地', '公司', '以上', '社區', '問題', '願意', '公設', '真的',\n",
        "       '台灣', '同意', '仲介', '比較', '買房', '萬元', '未來', '相關', '內容', '大樓', '投資', '是否',\n",
        "       '不動產', '應該', '交通', '規範', '連結', '知道', '捷運', '桃園', '本站', '方式', '規劃', '使用',\n",
        "       '表示', '銀行', '建商', '覺得', '重劃', '門牌', '屋齡', '房市', '房貸', '樓層', '生活', '附近',\n",
        "       '價格', '已經', '市場', '政府', '總價', '權狀', '一間', '時間', '機能', '聯絡', '坪數', '最近',\n",
        "       '本案', '高鐵', '開價', '姓名', '學區', '物權', '一下', '台北', '網站', '情況', '區域', '屋主',\n",
        "       '看到', '規定', '所有', '直接', '台南市', '發表', '地方', '共同', '台南', '完工', '總樓', '租金',\n",
        "       '公寓', '內政部', '商圈', '停車位'\n",
        "    ],\n",
        "    \"Lifeismoney\": [\n",
        "        '優惠', '活動', '回饋', '使用', '價格', '時間', '特價', '會員', '看到', '點數', '今天', '便宜',\n",
        "       '商品', '現在', '應該', '美食', '折扣', '參考', '比較', '購物', '消費', '分享', '指定', '兌換',\n",
        "       '最高', '買一送一', '折抵', '覺得', '一下', '原價', '全家', '內容', '之前', '直接', '知道',\n",
        "       '這次', '目前', '汽柴油', '折價券', '限定', '期間', '牛肉', '看看', '記得', '吸收', '連結',\n",
        "       '划算', '一次', '需要', '金額', '系列', '免費', '限量', '收到', '雞塊', '外送', '蝦皮', '輸入',\n",
        "       '帳號', '官網', '每人', '店家', '結帳', '購買', '發現', '真的', '加碼', '油價', '公升', '優惠券',\n",
        "       '下單', '上限', '品牌', '補助', '領取', '台灣', '已經', '提供', '限時', '剛剛', '信用卡', '搭配',\n",
        "       '完成', '飲料', '期限', '門市', '加入', '數量', '以下', '以上', '咖啡', '不錯', '支付', '即可',\n",
        "       '免運', '拿到', '訂單', '有沒有', '打折', '一張'\n",
        "    ],\n",
        "    \"Stock\": [\n",
        "        '公司', '原文', '股利', '台灣', '累計', '市場', '億元', '標題', '投資', '今年', '現金', '盈餘',\n",
        "       '本期', '時間', '內容', '元股', '股價', '目前', '去年', '記者', '表示', '現在', '營收', '董事會',\n",
        "       '股票', '元月', '股東', '股息', '心得', '資訊', '美國', '成長', '中國', '發布', '台股', '連結',\n",
        "       '配股', '日期', '來源', '每股', '利率', '評論', '金額', '署名', '持續', '網址', '指數', '獲利',\n",
        "       '公開', '交易', '投信', '淨利', '已經', '未來', '配發', '資金', '應該', '資本', '外資', '產業',\n",
        "       '證券', '營業', '今天', '報導', '投資人', '影響', '以上', '增資', '指出', '決議', '期間', '真的',\n",
        "       '價格', '基金', '超過', '事項', '年度', '銀行', '高息', '仟元', '知道', '科技', '內文', '發行',\n",
        "       '半導體', '上市', '發放', '降息', '相關', '標的', '收入', '問題', '需求', '預期', '股市',\n",
        "       '台積電', '產品', '增加', '長榮', '台積'\n",
        "    ]\n",
        "}"
      ]
    },
    {
      "cell_type": "code",
      "execution_count": null,
      "metadata": {
        "colab": {
          "base_uri": "https://localhost:8080/"
        },
        "id": "aZ0ZqQa62H9M",
        "outputId": "9d209eac-d13e-4d09-f926-ab37d2928d90"
      },
      "outputs": [
        {
          "output_type": "stream",
          "name": "stderr",
          "text": [
            "/usr/local/lib/python3.10/dist-packages/ipykernel/ipkernel.py:283: DeprecationWarning: `should_run_async` will not call `transform_cell` automatically in the future. Please pass the result to `transformed_cell` argument and any exception that happen during thetransform in `preprocessing_exc_tuple` in IPython 7.17 and above.\n",
            "  and should_run_async(code)\n"
          ]
        }
      ],
      "source": [
        "vocabularies = np.unique(reduce(lambda x, y: x + y, custom_topic_word.values()))"
      ]
    },
    {
      "cell_type": "code",
      "execution_count": null,
      "metadata": {
        "colab": {
          "base_uri": "https://localhost:8080/"
        },
        "id": "afyLfJsB2H9M",
        "outputId": "4d05db45-b0af-4d74-ee22-12d9d0bb4709"
      },
      "outputs": [
        {
          "output_type": "stream",
          "name": "stderr",
          "text": [
            "/usr/local/lib/python3.10/dist-packages/ipykernel/ipkernel.py:283: DeprecationWarning: `should_run_async` will not call `transform_cell` automatically in the future. Please pass the result to `transformed_cell` argument and any exception that happen during thetransform in `preprocessing_exc_tuple` in IPython 7.17 and above.\n",
            "  and should_run_async(code)\n"
          ]
        },
        {
          "output_type": "execute_result",
          "data": {
            "text/plain": [
              "array(['一下', '一張', '一次', '一間', '上市', '上限', '下單', '不動產', '不錯', '中國', '之前',\n",
              "       '事項', '交易', '交通', '今天', '今年', '仟元', '以上', '以下', '仲介', '使用', '來源',\n",
              "       '便宜', '信用卡', '停車位', '價格', '億元', '優惠', '優惠券', '元月', '元股', '兌換',\n",
              "       '免費', '免運', '內容', '內政部', '內文', '全家', '公升', '公司', '公寓', '公設', '公開',\n",
              "       '共同', '分享', '划算', '利率', '剛剛', '加入', '加碼', '區域', '半導體', '即可', '原價',\n",
              "       '原文', '去年', '參考', '台北', '台南', '台南市', '台灣', '台積', '台積電', '台股', '同意',\n",
              "       '吸收', '咖啡', '品牌', '商品', '商圈', '問題', '回饋', '土地', '地方', '坪數', '基金',\n",
              "       '報導', '增加', '增資', '外資', '外送', '大樓', '姓名', '學區', '完工', '完成', '官網',\n",
              "       '實價', '屋主', '屋齡', '已經', '市場', '帳號', '年度', '店家', '建商', '建物', '建設',\n",
              "       '影響', '心得', '情況', '應該', '成長', '房價', '房子', '房屋', '房市', '房貸', '所有',\n",
              "       '打折', '投信', '投資', '投資人', '折價券', '折扣', '折抵', '拿到', '持續', '指出', '指定',\n",
              "       '指數', '捷運', '提供', '搭配', '支付', '收入', '收到', '政府', '數量', '方式', '日期',\n",
              "       '是否', '時間', '最近', '最高', '會員', '有沒有', '期間', '期限', '未來', '本文', '本期',\n",
              "       '本案', '本站', '格局', '桃園', '樓層', '標的', '標題', '機能', '權狀', '每人', '每股',\n",
              "       '比較', '決議', '汽柴油', '油價', '活動', '消費', '淨利', '營收', '營業', '牛肉', '物件',\n",
              "       '物權', '特價', '獲利', '現在', '現金', '生活', '產品', '產業', '登錄', '發布', '發放',\n",
              "       '發現', '發行', '發表', '盈餘', '目前', '直接', '相關', '看到', '看看', '真的', '知道',\n",
              "       '社區', '科技', '租金', '系列', '累計', '結帳', '網址', '網站', '總價', '總樓', '署名',\n",
              "       '美國', '美食', '聯絡', '股價', '股利', '股市', '股息', '股東', '股票', '萬元', '董事會',\n",
              "       '蝦皮', '表示', '補助', '規劃', '規定', '規範', '覺得', '訂單', '記得', '記者', '評論',\n",
              "       '證券', '買一送一', '買房', '貸款', '資本', '資訊', '資金', '購物', '購買', '超過', '車位',\n",
              "       '輸入', '這次', '連結', '配發', '配股', '重劃', '金額', '銀行', '長榮', '門市', '門牌',\n",
              "       '開價', '附近', '降息', '限定', '限時', '限量', '雞塊', '需求', '需要', '預售', '預期',\n",
              "       '領取', '願意', '飲料', '高息', '高鐵', '點數'], dtype='<U4')"
            ]
          },
          "metadata": {},
          "execution_count": 50
        }
      ],
      "source": [
        "vocabularies"
      ]
    },
    {
      "cell_type": "markdown",
      "metadata": {
        "id": "_I5OQ83G2H9M"
      },
      "source": [
        "利用 CountVectorizer 的 vocabulary 參數來篩選、製作 DTM"
      ]
    },
    {
      "cell_type": "code",
      "execution_count": null,
      "metadata": {
        "colab": {
          "base_uri": "https://localhost:8080/"
        },
        "id": "ov6wJVjK2H9M",
        "outputId": "6ac36eec-3a38-4723-826c-43c045b8d8f5"
      },
      "outputs": [
        {
          "output_type": "stream",
          "name": "stderr",
          "text": [
            "/usr/local/lib/python3.10/dist-packages/ipykernel/ipkernel.py:283: DeprecationWarning: `should_run_async` will not call `transform_cell` automatically in the future. Please pass the result to `transformed_cell` argument and any exception that happen during thetransform in `preprocessing_exc_tuple` in IPython 7.17 and above.\n",
            "  and should_run_async(code)\n"
          ]
        }
      ],
      "source": [
        "udn_corpus = udn['words'].map(\" \".join)\n",
        "vectorizer = CountVectorizer(vocabulary=vocabularies)\n",
        "udn_matrix = vectorizer.fit_transform(udn_corpus)\n",
        "\n",
        "udn_matrix = udn_matrix.toarray()\n",
        "feature_names = vectorizer.get_feature_names_out()"
      ]
    },
    {
      "cell_type": "code",
      "execution_count": null,
      "metadata": {
        "colab": {
          "base_uri": "https://localhost:8080/"
        },
        "id": "F1zjuP8m2H9N",
        "outputId": "735f2a8d-d5f3-47cd-ee16-b848f5ad83c5"
      },
      "outputs": [
        {
          "output_type": "stream",
          "name": "stderr",
          "text": [
            "/usr/local/lib/python3.10/dist-packages/ipykernel/ipkernel.py:283: DeprecationWarning: `should_run_async` will not call `transform_cell` automatically in the future. Please pass the result to `transformed_cell` argument and any exception that happen during thetransform in `preprocessing_exc_tuple` in IPython 7.17 and above.\n",
            "  and should_run_async(code)\n"
          ]
        },
        {
          "output_type": "execute_result",
          "data": {
            "text/plain": [
              "(5093, 258)"
            ]
          },
          "metadata": {},
          "execution_count": 52
        }
      ],
      "source": [
        "udn_matrix.shape"
      ]
    },
    {
      "cell_type": "markdown",
      "source": [
        "觀看不同文章有多少屬於不同主題的主題字"
      ],
      "metadata": {
        "id": "NRCAaIGme1Qj"
      }
    },
    {
      "cell_type": "code",
      "execution_count": null,
      "metadata": {
        "colab": {
          "base_uri": "https://localhost:8080/",
          "height": 478
        },
        "id": "ziJiOmmh2H9N",
        "outputId": "fc460669-b9af-40c7-8d4a-13f32c995137"
      },
      "outputs": [
        {
          "output_type": "stream",
          "name": "stderr",
          "text": [
            "/usr/local/lib/python3.10/dist-packages/ipykernel/ipkernel.py:283: DeprecationWarning: `should_run_async` will not call `transform_cell` automatically in the future. Please pass the result to `transformed_cell` argument and any exception that happen during thetransform in `preprocessing_exc_tuple` in IPython 7.17 and above.\n",
            "  and should_run_async(code)\n"
          ]
        },
        {
          "output_type": "execute_result",
          "data": {
            "text/plain": [
              "      topic_home_sale  topic_Lifeismoney  topic_Stock\n",
              "0                  15                  3            2\n",
              "1                   1                  1            0\n",
              "2                  53                 22           54\n",
              "3                  15                  0            0\n",
              "4                   8                  3            5\n",
              "...               ...                ...          ...\n",
              "5088               15                  7           31\n",
              "5089               12                 10           31\n",
              "5090               14                  7           29\n",
              "5091               37                 20           61\n",
              "5092               21                 16           31\n",
              "\n",
              "[5093 rows x 3 columns]"
            ],
            "text/html": [
              "\n",
              "  <div id=\"df-4648ac2a-b5d9-4592-8462-427f6485655f\" class=\"colab-df-container\">\n",
              "    <div>\n",
              "<style scoped>\n",
              "    .dataframe tbody tr th:only-of-type {\n",
              "        vertical-align: middle;\n",
              "    }\n",
              "\n",
              "    .dataframe tbody tr th {\n",
              "        vertical-align: top;\n",
              "    }\n",
              "\n",
              "    .dataframe thead th {\n",
              "        text-align: right;\n",
              "    }\n",
              "</style>\n",
              "<table border=\"1\" class=\"dataframe\">\n",
              "  <thead>\n",
              "    <tr style=\"text-align: right;\">\n",
              "      <th></th>\n",
              "      <th>topic_home_sale</th>\n",
              "      <th>topic_Lifeismoney</th>\n",
              "      <th>topic_Stock</th>\n",
              "    </tr>\n",
              "  </thead>\n",
              "  <tbody>\n",
              "    <tr>\n",
              "      <th>0</th>\n",
              "      <td>15</td>\n",
              "      <td>3</td>\n",
              "      <td>2</td>\n",
              "    </tr>\n",
              "    <tr>\n",
              "      <th>1</th>\n",
              "      <td>1</td>\n",
              "      <td>1</td>\n",
              "      <td>0</td>\n",
              "    </tr>\n",
              "    <tr>\n",
              "      <th>2</th>\n",
              "      <td>53</td>\n",
              "      <td>22</td>\n",
              "      <td>54</td>\n",
              "    </tr>\n",
              "    <tr>\n",
              "      <th>3</th>\n",
              "      <td>15</td>\n",
              "      <td>0</td>\n",
              "      <td>0</td>\n",
              "    </tr>\n",
              "    <tr>\n",
              "      <th>4</th>\n",
              "      <td>8</td>\n",
              "      <td>3</td>\n",
              "      <td>5</td>\n",
              "    </tr>\n",
              "    <tr>\n",
              "      <th>...</th>\n",
              "      <td>...</td>\n",
              "      <td>...</td>\n",
              "      <td>...</td>\n",
              "    </tr>\n",
              "    <tr>\n",
              "      <th>5088</th>\n",
              "      <td>15</td>\n",
              "      <td>7</td>\n",
              "      <td>31</td>\n",
              "    </tr>\n",
              "    <tr>\n",
              "      <th>5089</th>\n",
              "      <td>12</td>\n",
              "      <td>10</td>\n",
              "      <td>31</td>\n",
              "    </tr>\n",
              "    <tr>\n",
              "      <th>5090</th>\n",
              "      <td>14</td>\n",
              "      <td>7</td>\n",
              "      <td>29</td>\n",
              "    </tr>\n",
              "    <tr>\n",
              "      <th>5091</th>\n",
              "      <td>37</td>\n",
              "      <td>20</td>\n",
              "      <td>61</td>\n",
              "    </tr>\n",
              "    <tr>\n",
              "      <th>5092</th>\n",
              "      <td>21</td>\n",
              "      <td>16</td>\n",
              "      <td>31</td>\n",
              "    </tr>\n",
              "  </tbody>\n",
              "</table>\n",
              "<p>5093 rows × 3 columns</p>\n",
              "</div>\n",
              "    <div class=\"colab-df-buttons\">\n",
              "\n",
              "  <div class=\"colab-df-container\">\n",
              "    <button class=\"colab-df-convert\" onclick=\"convertToInteractive('df-4648ac2a-b5d9-4592-8462-427f6485655f')\"\n",
              "            title=\"Convert this dataframe to an interactive table.\"\n",
              "            style=\"display:none;\">\n",
              "\n",
              "  <svg xmlns=\"http://www.w3.org/2000/svg\" height=\"24px\" viewBox=\"0 -960 960 960\">\n",
              "    <path d=\"M120-120v-720h720v720H120Zm60-500h600v-160H180v160Zm220 220h160v-160H400v160Zm0 220h160v-160H400v160ZM180-400h160v-160H180v160Zm440 0h160v-160H620v160ZM180-180h160v-160H180v160Zm440 0h160v-160H620v160Z\"/>\n",
              "  </svg>\n",
              "    </button>\n",
              "\n",
              "  <style>\n",
              "    .colab-df-container {\n",
              "      display:flex;\n",
              "      gap: 12px;\n",
              "    }\n",
              "\n",
              "    .colab-df-convert {\n",
              "      background-color: #E8F0FE;\n",
              "      border: none;\n",
              "      border-radius: 50%;\n",
              "      cursor: pointer;\n",
              "      display: none;\n",
              "      fill: #1967D2;\n",
              "      height: 32px;\n",
              "      padding: 0 0 0 0;\n",
              "      width: 32px;\n",
              "    }\n",
              "\n",
              "    .colab-df-convert:hover {\n",
              "      background-color: #E2EBFA;\n",
              "      box-shadow: 0px 1px 2px rgba(60, 64, 67, 0.3), 0px 1px 3px 1px rgba(60, 64, 67, 0.15);\n",
              "      fill: #174EA6;\n",
              "    }\n",
              "\n",
              "    .colab-df-buttons div {\n",
              "      margin-bottom: 4px;\n",
              "    }\n",
              "\n",
              "    [theme=dark] .colab-df-convert {\n",
              "      background-color: #3B4455;\n",
              "      fill: #D2E3FC;\n",
              "    }\n",
              "\n",
              "    [theme=dark] .colab-df-convert:hover {\n",
              "      background-color: #434B5C;\n",
              "      box-shadow: 0px 1px 3px 1px rgba(0, 0, 0, 0.15);\n",
              "      filter: drop-shadow(0px 1px 2px rgba(0, 0, 0, 0.3));\n",
              "      fill: #FFFFFF;\n",
              "    }\n",
              "  </style>\n",
              "\n",
              "    <script>\n",
              "      const buttonEl =\n",
              "        document.querySelector('#df-4648ac2a-b5d9-4592-8462-427f6485655f button.colab-df-convert');\n",
              "      buttonEl.style.display =\n",
              "        google.colab.kernel.accessAllowed ? 'block' : 'none';\n",
              "\n",
              "      async function convertToInteractive(key) {\n",
              "        const element = document.querySelector('#df-4648ac2a-b5d9-4592-8462-427f6485655f');\n",
              "        const dataTable =\n",
              "          await google.colab.kernel.invokeFunction('convertToInteractive',\n",
              "                                                    [key], {});\n",
              "        if (!dataTable) return;\n",
              "\n",
              "        const docLinkHtml = 'Like what you see? Visit the ' +\n",
              "          '<a target=\"_blank\" href=https://colab.research.google.com/notebooks/data_table.ipynb>data table notebook</a>'\n",
              "          + ' to learn more about interactive tables.';\n",
              "        element.innerHTML = '';\n",
              "        dataTable['output_type'] = 'display_data';\n",
              "        await google.colab.output.renderOutput(dataTable, element);\n",
              "        const docLink = document.createElement('div');\n",
              "        docLink.innerHTML = docLinkHtml;\n",
              "        element.appendChild(docLink);\n",
              "      }\n",
              "    </script>\n",
              "  </div>\n",
              "\n",
              "\n",
              "<div id=\"df-1ac82b81-88c4-448b-9ebf-30d87d0fc932\">\n",
              "  <button class=\"colab-df-quickchart\" onclick=\"quickchart('df-1ac82b81-88c4-448b-9ebf-30d87d0fc932')\"\n",
              "            title=\"Suggest charts\"\n",
              "            style=\"display:none;\">\n",
              "\n",
              "<svg xmlns=\"http://www.w3.org/2000/svg\" height=\"24px\"viewBox=\"0 0 24 24\"\n",
              "     width=\"24px\">\n",
              "    <g>\n",
              "        <path d=\"M19 3H5c-1.1 0-2 .9-2 2v14c0 1.1.9 2 2 2h14c1.1 0 2-.9 2-2V5c0-1.1-.9-2-2-2zM9 17H7v-7h2v7zm4 0h-2V7h2v10zm4 0h-2v-4h2v4z\"/>\n",
              "    </g>\n",
              "</svg>\n",
              "  </button>\n",
              "\n",
              "<style>\n",
              "  .colab-df-quickchart {\n",
              "      --bg-color: #E8F0FE;\n",
              "      --fill-color: #1967D2;\n",
              "      --hover-bg-color: #E2EBFA;\n",
              "      --hover-fill-color: #174EA6;\n",
              "      --disabled-fill-color: #AAA;\n",
              "      --disabled-bg-color: #DDD;\n",
              "  }\n",
              "\n",
              "  [theme=dark] .colab-df-quickchart {\n",
              "      --bg-color: #3B4455;\n",
              "      --fill-color: #D2E3FC;\n",
              "      --hover-bg-color: #434B5C;\n",
              "      --hover-fill-color: #FFFFFF;\n",
              "      --disabled-bg-color: #3B4455;\n",
              "      --disabled-fill-color: #666;\n",
              "  }\n",
              "\n",
              "  .colab-df-quickchart {\n",
              "    background-color: var(--bg-color);\n",
              "    border: none;\n",
              "    border-radius: 50%;\n",
              "    cursor: pointer;\n",
              "    display: none;\n",
              "    fill: var(--fill-color);\n",
              "    height: 32px;\n",
              "    padding: 0;\n",
              "    width: 32px;\n",
              "  }\n",
              "\n",
              "  .colab-df-quickchart:hover {\n",
              "    background-color: var(--hover-bg-color);\n",
              "    box-shadow: 0 1px 2px rgba(60, 64, 67, 0.3), 0 1px 3px 1px rgba(60, 64, 67, 0.15);\n",
              "    fill: var(--button-hover-fill-color);\n",
              "  }\n",
              "\n",
              "  .colab-df-quickchart-complete:disabled,\n",
              "  .colab-df-quickchart-complete:disabled:hover {\n",
              "    background-color: var(--disabled-bg-color);\n",
              "    fill: var(--disabled-fill-color);\n",
              "    box-shadow: none;\n",
              "  }\n",
              "\n",
              "  .colab-df-spinner {\n",
              "    border: 2px solid var(--fill-color);\n",
              "    border-color: transparent;\n",
              "    border-bottom-color: var(--fill-color);\n",
              "    animation:\n",
              "      spin 1s steps(1) infinite;\n",
              "  }\n",
              "\n",
              "  @keyframes spin {\n",
              "    0% {\n",
              "      border-color: transparent;\n",
              "      border-bottom-color: var(--fill-color);\n",
              "      border-left-color: var(--fill-color);\n",
              "    }\n",
              "    20% {\n",
              "      border-color: transparent;\n",
              "      border-left-color: var(--fill-color);\n",
              "      border-top-color: var(--fill-color);\n",
              "    }\n",
              "    30% {\n",
              "      border-color: transparent;\n",
              "      border-left-color: var(--fill-color);\n",
              "      border-top-color: var(--fill-color);\n",
              "      border-right-color: var(--fill-color);\n",
              "    }\n",
              "    40% {\n",
              "      border-color: transparent;\n",
              "      border-right-color: var(--fill-color);\n",
              "      border-top-color: var(--fill-color);\n",
              "    }\n",
              "    60% {\n",
              "      border-color: transparent;\n",
              "      border-right-color: var(--fill-color);\n",
              "    }\n",
              "    80% {\n",
              "      border-color: transparent;\n",
              "      border-right-color: var(--fill-color);\n",
              "      border-bottom-color: var(--fill-color);\n",
              "    }\n",
              "    90% {\n",
              "      border-color: transparent;\n",
              "      border-bottom-color: var(--fill-color);\n",
              "    }\n",
              "  }\n",
              "</style>\n",
              "\n",
              "  <script>\n",
              "    async function quickchart(key) {\n",
              "      const quickchartButtonEl =\n",
              "        document.querySelector('#' + key + ' button');\n",
              "      quickchartButtonEl.disabled = true;  // To prevent multiple clicks.\n",
              "      quickchartButtonEl.classList.add('colab-df-spinner');\n",
              "      try {\n",
              "        const charts = await google.colab.kernel.invokeFunction(\n",
              "            'suggestCharts', [key], {});\n",
              "      } catch (error) {\n",
              "        console.error('Error during call to suggestCharts:', error);\n",
              "      }\n",
              "      quickchartButtonEl.classList.remove('colab-df-spinner');\n",
              "      quickchartButtonEl.classList.add('colab-df-quickchart-complete');\n",
              "    }\n",
              "    (() => {\n",
              "      let quickchartButtonEl =\n",
              "        document.querySelector('#df-1ac82b81-88c4-448b-9ebf-30d87d0fc932 button');\n",
              "      quickchartButtonEl.style.display =\n",
              "        google.colab.kernel.accessAllowed ? 'block' : 'none';\n",
              "    })();\n",
              "  </script>\n",
              "</div>\n",
              "\n",
              "  <div id=\"id_d3a72bf4-1223-4dff-ab16-885779d10188\">\n",
              "    <style>\n",
              "      .colab-df-generate {\n",
              "        background-color: #E8F0FE;\n",
              "        border: none;\n",
              "        border-radius: 50%;\n",
              "        cursor: pointer;\n",
              "        display: none;\n",
              "        fill: #1967D2;\n",
              "        height: 32px;\n",
              "        padding: 0 0 0 0;\n",
              "        width: 32px;\n",
              "      }\n",
              "\n",
              "      .colab-df-generate:hover {\n",
              "        background-color: #E2EBFA;\n",
              "        box-shadow: 0px 1px 2px rgba(60, 64, 67, 0.3), 0px 1px 3px 1px rgba(60, 64, 67, 0.15);\n",
              "        fill: #174EA6;\n",
              "      }\n",
              "\n",
              "      [theme=dark] .colab-df-generate {\n",
              "        background-color: #3B4455;\n",
              "        fill: #D2E3FC;\n",
              "      }\n",
              "\n",
              "      [theme=dark] .colab-df-generate:hover {\n",
              "        background-color: #434B5C;\n",
              "        box-shadow: 0px 1px 3px 1px rgba(0, 0, 0, 0.15);\n",
              "        filter: drop-shadow(0px 1px 2px rgba(0, 0, 0, 0.3));\n",
              "        fill: #FFFFFF;\n",
              "      }\n",
              "    </style>\n",
              "    <button class=\"colab-df-generate\" onclick=\"generateWithVariable('df_count')\"\n",
              "            title=\"Generate code using this dataframe.\"\n",
              "            style=\"display:none;\">\n",
              "\n",
              "  <svg xmlns=\"http://www.w3.org/2000/svg\" height=\"24px\"viewBox=\"0 0 24 24\"\n",
              "       width=\"24px\">\n",
              "    <path d=\"M7,19H8.4L18.45,9,17,7.55,7,17.6ZM5,21V16.75L18.45,3.32a2,2,0,0,1,2.83,0l1.4,1.43a1.91,1.91,0,0,1,.58,1.4,1.91,1.91,0,0,1-.58,1.4L9.25,21ZM18.45,9,17,7.55Zm-12,3A5.31,5.31,0,0,0,4.9,8.1,5.31,5.31,0,0,0,1,6.5,5.31,5.31,0,0,0,4.9,4.9,5.31,5.31,0,0,0,6.5,1,5.31,5.31,0,0,0,8.1,4.9,5.31,5.31,0,0,0,12,6.5,5.46,5.46,0,0,0,6.5,12Z\"/>\n",
              "  </svg>\n",
              "    </button>\n",
              "    <script>\n",
              "      (() => {\n",
              "      const buttonEl =\n",
              "        document.querySelector('#id_d3a72bf4-1223-4dff-ab16-885779d10188 button.colab-df-generate');\n",
              "      buttonEl.style.display =\n",
              "        google.colab.kernel.accessAllowed ? 'block' : 'none';\n",
              "\n",
              "      buttonEl.onclick = () => {\n",
              "        google.colab.notebook.generateWithVariable('df_count');\n",
              "      }\n",
              "      })();\n",
              "    </script>\n",
              "  </div>\n",
              "\n",
              "    </div>\n",
              "  </div>\n"
            ],
            "application/vnd.google.colaboratory.intrinsic+json": {
              "type": "dataframe",
              "variable_name": "df_count",
              "summary": "{\n  \"name\": \"df_count\",\n  \"rows\": 5093,\n  \"fields\": [\n    {\n      \"column\": \"topic_home_sale\",\n      \"properties\": {\n        \"dtype\": \"number\",\n        \"std\": 16,\n        \"min\": 0,\n        \"max\": 218,\n        \"num_unique_values\": 111,\n        \"samples\": [\n          54,\n          9,\n          10\n        ],\n        \"semantic_type\": \"\",\n        \"description\": \"\"\n      }\n    },\n    {\n      \"column\": \"topic_Lifeismoney\",\n      \"properties\": {\n        \"dtype\": \"number\",\n        \"std\": 7,\n        \"min\": 0,\n        \"max\": 202,\n        \"num_unique_values\": 57,\n        \"samples\": [\n          3,\n          2,\n          34\n        ],\n        \"semantic_type\": \"\",\n        \"description\": \"\"\n      }\n    },\n    {\n      \"column\": \"topic_Stock\",\n      \"properties\": {\n        \"dtype\": \"number\",\n        \"std\": 22,\n        \"min\": 0,\n        \"max\": 341,\n        \"num_unique_values\": 126,\n        \"samples\": [\n          81,\n          11,\n          92\n        ],\n        \"semantic_type\": \"\",\n        \"description\": \"\"\n      }\n    }\n  ]\n}"
            }
          },
          "metadata": {},
          "execution_count": 53
        }
      ],
      "source": [
        "df_count = pd.DataFrame({})\n",
        "\n",
        "for k, v in custom_topic_word.items():\n",
        "    idx = np.isin(\n",
        "        feature_names,\n",
        "        v\n",
        "    )\n",
        "    df_count[f'topic_{k}'] = udn_matrix[:, idx].sum(axis=1)\n",
        "\n",
        "df_count"
      ]
    },
    {
      "cell_type": "markdown",
      "source": [
        "算出不同文章的主題字所佔比例"
      ],
      "metadata": {
        "id": "tvVRmXNAfFSm"
      }
    },
    {
      "cell_type": "code",
      "execution_count": null,
      "metadata": {
        "colab": {
          "base_uri": "https://localhost:8080/",
          "height": 261
        },
        "id": "tZZYsRXq2H9N",
        "outputId": "33edeb3f-eb09-4b56-fd36-0db68a8b3261"
      },
      "outputs": [
        {
          "output_type": "stream",
          "name": "stderr",
          "text": [
            "/usr/local/lib/python3.10/dist-packages/ipykernel/ipkernel.py:283: DeprecationWarning: `should_run_async` will not call `transform_cell` automatically in the future. Please pass the result to `transformed_cell` argument and any exception that happen during thetransform in `preprocessing_exc_tuple` in IPython 7.17 and above.\n",
            "  and should_run_async(code)\n"
          ]
        },
        {
          "output_type": "execute_result",
          "data": {
            "text/plain": [
              "   topic_home_sale  topic_Lifeismoney  topic_Stock\n",
              "0         0.750000           0.150000     0.100000\n",
              "1         0.500000           0.500000     0.000000\n",
              "2         0.410853           0.170543     0.418605\n",
              "3         1.000000           0.000000     0.000000\n",
              "4         0.500000           0.187500     0.312500"
            ],
            "text/html": [
              "\n",
              "  <div id=\"df-c552814d-a04f-4bc0-91e6-f6e5f1b49730\" class=\"colab-df-container\">\n",
              "    <div>\n",
              "<style scoped>\n",
              "    .dataframe tbody tr th:only-of-type {\n",
              "        vertical-align: middle;\n",
              "    }\n",
              "\n",
              "    .dataframe tbody tr th {\n",
              "        vertical-align: top;\n",
              "    }\n",
              "\n",
              "    .dataframe thead th {\n",
              "        text-align: right;\n",
              "    }\n",
              "</style>\n",
              "<table border=\"1\" class=\"dataframe\">\n",
              "  <thead>\n",
              "    <tr style=\"text-align: right;\">\n",
              "      <th></th>\n",
              "      <th>topic_home_sale</th>\n",
              "      <th>topic_Lifeismoney</th>\n",
              "      <th>topic_Stock</th>\n",
              "    </tr>\n",
              "  </thead>\n",
              "  <tbody>\n",
              "    <tr>\n",
              "      <th>0</th>\n",
              "      <td>0.750000</td>\n",
              "      <td>0.150000</td>\n",
              "      <td>0.100000</td>\n",
              "    </tr>\n",
              "    <tr>\n",
              "      <th>1</th>\n",
              "      <td>0.500000</td>\n",
              "      <td>0.500000</td>\n",
              "      <td>0.000000</td>\n",
              "    </tr>\n",
              "    <tr>\n",
              "      <th>2</th>\n",
              "      <td>0.410853</td>\n",
              "      <td>0.170543</td>\n",
              "      <td>0.418605</td>\n",
              "    </tr>\n",
              "    <tr>\n",
              "      <th>3</th>\n",
              "      <td>1.000000</td>\n",
              "      <td>0.000000</td>\n",
              "      <td>0.000000</td>\n",
              "    </tr>\n",
              "    <tr>\n",
              "      <th>4</th>\n",
              "      <td>0.500000</td>\n",
              "      <td>0.187500</td>\n",
              "      <td>0.312500</td>\n",
              "    </tr>\n",
              "  </tbody>\n",
              "</table>\n",
              "</div>\n",
              "    <div class=\"colab-df-buttons\">\n",
              "\n",
              "  <div class=\"colab-df-container\">\n",
              "    <button class=\"colab-df-convert\" onclick=\"convertToInteractive('df-c552814d-a04f-4bc0-91e6-f6e5f1b49730')\"\n",
              "            title=\"Convert this dataframe to an interactive table.\"\n",
              "            style=\"display:none;\">\n",
              "\n",
              "  <svg xmlns=\"http://www.w3.org/2000/svg\" height=\"24px\" viewBox=\"0 -960 960 960\">\n",
              "    <path d=\"M120-120v-720h720v720H120Zm60-500h600v-160H180v160Zm220 220h160v-160H400v160Zm0 220h160v-160H400v160ZM180-400h160v-160H180v160Zm440 0h160v-160H620v160ZM180-180h160v-160H180v160Zm440 0h160v-160H620v160Z\"/>\n",
              "  </svg>\n",
              "    </button>\n",
              "\n",
              "  <style>\n",
              "    .colab-df-container {\n",
              "      display:flex;\n",
              "      gap: 12px;\n",
              "    }\n",
              "\n",
              "    .colab-df-convert {\n",
              "      background-color: #E8F0FE;\n",
              "      border: none;\n",
              "      border-radius: 50%;\n",
              "      cursor: pointer;\n",
              "      display: none;\n",
              "      fill: #1967D2;\n",
              "      height: 32px;\n",
              "      padding: 0 0 0 0;\n",
              "      width: 32px;\n",
              "    }\n",
              "\n",
              "    .colab-df-convert:hover {\n",
              "      background-color: #E2EBFA;\n",
              "      box-shadow: 0px 1px 2px rgba(60, 64, 67, 0.3), 0px 1px 3px 1px rgba(60, 64, 67, 0.15);\n",
              "      fill: #174EA6;\n",
              "    }\n",
              "\n",
              "    .colab-df-buttons div {\n",
              "      margin-bottom: 4px;\n",
              "    }\n",
              "\n",
              "    [theme=dark] .colab-df-convert {\n",
              "      background-color: #3B4455;\n",
              "      fill: #D2E3FC;\n",
              "    }\n",
              "\n",
              "    [theme=dark] .colab-df-convert:hover {\n",
              "      background-color: #434B5C;\n",
              "      box-shadow: 0px 1px 3px 1px rgba(0, 0, 0, 0.15);\n",
              "      filter: drop-shadow(0px 1px 2px rgba(0, 0, 0, 0.3));\n",
              "      fill: #FFFFFF;\n",
              "    }\n",
              "  </style>\n",
              "\n",
              "    <script>\n",
              "      const buttonEl =\n",
              "        document.querySelector('#df-c552814d-a04f-4bc0-91e6-f6e5f1b49730 button.colab-df-convert');\n",
              "      buttonEl.style.display =\n",
              "        google.colab.kernel.accessAllowed ? 'block' : 'none';\n",
              "\n",
              "      async function convertToInteractive(key) {\n",
              "        const element = document.querySelector('#df-c552814d-a04f-4bc0-91e6-f6e5f1b49730');\n",
              "        const dataTable =\n",
              "          await google.colab.kernel.invokeFunction('convertToInteractive',\n",
              "                                                    [key], {});\n",
              "        if (!dataTable) return;\n",
              "\n",
              "        const docLinkHtml = 'Like what you see? Visit the ' +\n",
              "          '<a target=\"_blank\" href=https://colab.research.google.com/notebooks/data_table.ipynb>data table notebook</a>'\n",
              "          + ' to learn more about interactive tables.';\n",
              "        element.innerHTML = '';\n",
              "        dataTable['output_type'] = 'display_data';\n",
              "        await google.colab.output.renderOutput(dataTable, element);\n",
              "        const docLink = document.createElement('div');\n",
              "        docLink.innerHTML = docLinkHtml;\n",
              "        element.appendChild(docLink);\n",
              "      }\n",
              "    </script>\n",
              "  </div>\n",
              "\n",
              "\n",
              "<div id=\"df-b7bdc4eb-647f-4348-8abe-25dbc99de4d5\">\n",
              "  <button class=\"colab-df-quickchart\" onclick=\"quickchart('df-b7bdc4eb-647f-4348-8abe-25dbc99de4d5')\"\n",
              "            title=\"Suggest charts\"\n",
              "            style=\"display:none;\">\n",
              "\n",
              "<svg xmlns=\"http://www.w3.org/2000/svg\" height=\"24px\"viewBox=\"0 0 24 24\"\n",
              "     width=\"24px\">\n",
              "    <g>\n",
              "        <path d=\"M19 3H5c-1.1 0-2 .9-2 2v14c0 1.1.9 2 2 2h14c1.1 0 2-.9 2-2V5c0-1.1-.9-2-2-2zM9 17H7v-7h2v7zm4 0h-2V7h2v10zm4 0h-2v-4h2v4z\"/>\n",
              "    </g>\n",
              "</svg>\n",
              "  </button>\n",
              "\n",
              "<style>\n",
              "  .colab-df-quickchart {\n",
              "      --bg-color: #E8F0FE;\n",
              "      --fill-color: #1967D2;\n",
              "      --hover-bg-color: #E2EBFA;\n",
              "      --hover-fill-color: #174EA6;\n",
              "      --disabled-fill-color: #AAA;\n",
              "      --disabled-bg-color: #DDD;\n",
              "  }\n",
              "\n",
              "  [theme=dark] .colab-df-quickchart {\n",
              "      --bg-color: #3B4455;\n",
              "      --fill-color: #D2E3FC;\n",
              "      --hover-bg-color: #434B5C;\n",
              "      --hover-fill-color: #FFFFFF;\n",
              "      --disabled-bg-color: #3B4455;\n",
              "      --disabled-fill-color: #666;\n",
              "  }\n",
              "\n",
              "  .colab-df-quickchart {\n",
              "    background-color: var(--bg-color);\n",
              "    border: none;\n",
              "    border-radius: 50%;\n",
              "    cursor: pointer;\n",
              "    display: none;\n",
              "    fill: var(--fill-color);\n",
              "    height: 32px;\n",
              "    padding: 0;\n",
              "    width: 32px;\n",
              "  }\n",
              "\n",
              "  .colab-df-quickchart:hover {\n",
              "    background-color: var(--hover-bg-color);\n",
              "    box-shadow: 0 1px 2px rgba(60, 64, 67, 0.3), 0 1px 3px 1px rgba(60, 64, 67, 0.15);\n",
              "    fill: var(--button-hover-fill-color);\n",
              "  }\n",
              "\n",
              "  .colab-df-quickchart-complete:disabled,\n",
              "  .colab-df-quickchart-complete:disabled:hover {\n",
              "    background-color: var(--disabled-bg-color);\n",
              "    fill: var(--disabled-fill-color);\n",
              "    box-shadow: none;\n",
              "  }\n",
              "\n",
              "  .colab-df-spinner {\n",
              "    border: 2px solid var(--fill-color);\n",
              "    border-color: transparent;\n",
              "    border-bottom-color: var(--fill-color);\n",
              "    animation:\n",
              "      spin 1s steps(1) infinite;\n",
              "  }\n",
              "\n",
              "  @keyframes spin {\n",
              "    0% {\n",
              "      border-color: transparent;\n",
              "      border-bottom-color: var(--fill-color);\n",
              "      border-left-color: var(--fill-color);\n",
              "    }\n",
              "    20% {\n",
              "      border-color: transparent;\n",
              "      border-left-color: var(--fill-color);\n",
              "      border-top-color: var(--fill-color);\n",
              "    }\n",
              "    30% {\n",
              "      border-color: transparent;\n",
              "      border-left-color: var(--fill-color);\n",
              "      border-top-color: var(--fill-color);\n",
              "      border-right-color: var(--fill-color);\n",
              "    }\n",
              "    40% {\n",
              "      border-color: transparent;\n",
              "      border-right-color: var(--fill-color);\n",
              "      border-top-color: var(--fill-color);\n",
              "    }\n",
              "    60% {\n",
              "      border-color: transparent;\n",
              "      border-right-color: var(--fill-color);\n",
              "    }\n",
              "    80% {\n",
              "      border-color: transparent;\n",
              "      border-right-color: var(--fill-color);\n",
              "      border-bottom-color: var(--fill-color);\n",
              "    }\n",
              "    90% {\n",
              "      border-color: transparent;\n",
              "      border-bottom-color: var(--fill-color);\n",
              "    }\n",
              "  }\n",
              "</style>\n",
              "\n",
              "  <script>\n",
              "    async function quickchart(key) {\n",
              "      const quickchartButtonEl =\n",
              "        document.querySelector('#' + key + ' button');\n",
              "      quickchartButtonEl.disabled = true;  // To prevent multiple clicks.\n",
              "      quickchartButtonEl.classList.add('colab-df-spinner');\n",
              "      try {\n",
              "        const charts = await google.colab.kernel.invokeFunction(\n",
              "            'suggestCharts', [key], {});\n",
              "      } catch (error) {\n",
              "        console.error('Error during call to suggestCharts:', error);\n",
              "      }\n",
              "      quickchartButtonEl.classList.remove('colab-df-spinner');\n",
              "      quickchartButtonEl.classList.add('colab-df-quickchart-complete');\n",
              "    }\n",
              "    (() => {\n",
              "      let quickchartButtonEl =\n",
              "        document.querySelector('#df-b7bdc4eb-647f-4348-8abe-25dbc99de4d5 button');\n",
              "      quickchartButtonEl.style.display =\n",
              "        google.colab.kernel.accessAllowed ? 'block' : 'none';\n",
              "    })();\n",
              "  </script>\n",
              "</div>\n",
              "\n",
              "    </div>\n",
              "  </div>\n"
            ],
            "application/vnd.google.colaboratory.intrinsic+json": {
              "type": "dataframe",
              "variable_name": "thetas",
              "summary": "{\n  \"name\": \"thetas\",\n  \"rows\": 5093,\n  \"fields\": [\n    {\n      \"column\": \"topic_home_sale\",\n      \"properties\": {\n        \"dtype\": \"number\",\n        \"std\": 0.2351861533029233,\n        \"min\": 0.0,\n        \"max\": 1.0,\n        \"num_unique_values\": 1170,\n        \"samples\": [\n          0.27906976744186046,\n          0.8450704225352113,\n          0.2318840579710145\n        ],\n        \"semantic_type\": \"\",\n        \"description\": \"\"\n      }\n    },\n    {\n      \"column\": \"topic_Lifeismoney\",\n      \"properties\": {\n        \"dtype\": \"number\",\n        \"std\": 0.20120626646184492,\n        \"min\": 0.0,\n        \"max\": 1.0,\n        \"num_unique_values\": 939,\n        \"samples\": [\n          0.36666666666666664,\n          0.09090909090909091,\n          0.32\n        ],\n        \"semantic_type\": \"\",\n        \"description\": \"\"\n      }\n    },\n    {\n      \"column\": \"topic_Stock\",\n      \"properties\": {\n        \"dtype\": \"number\",\n        \"std\": 0.26546102586831705,\n        \"min\": 0.0,\n        \"max\": 1.0,\n        \"num_unique_values\": 1251,\n        \"samples\": [\n          0.717948717948718,\n          0.5529411764705883,\n          0.34108527131782945\n        ],\n        \"semantic_type\": \"\",\n        \"description\": \"\"\n      }\n    }\n  ]\n}"
            }
          },
          "metadata": {},
          "execution_count": 54
        }
      ],
      "source": [
        "thetas = df_count.div(\n",
        "    df_count.sum(axis=1),\n",
        "    axis=0\n",
        ")\n",
        "thetas.head()"
      ]
    },
    {
      "cell_type": "markdown",
      "metadata": {
        "id": "mz5EEWqB2H9N"
      },
      "source": [
        "## 4. LDA 主題模型\n",
        "Latent Dirichlet allocation 簡稱 LDA，是一種主題模型，他可以將資料集中每篇文檔的主題按照機率分佈，他是無監督學習法，訓練時不需要手動標註，只需要給文檔集、主題數，也可以根據一些參數(alpha、Beta)來改變模型訓練的結果，以下使用 gensim 套件來示範如何訓練 LDA 模型。"
      ]
    },
    {
      "cell_type": "markdown",
      "metadata": {
        "id": "3zSgkUNL2H9O"
      },
      "source": [
        "**4.1 正式處理文章**"
      ]
    },
    {
      "cell_type": "code",
      "execution_count": null,
      "metadata": {
        "colab": {
          "base_uri": "https://localhost:8080/"
        },
        "id": "mwsI_H5o2H9O",
        "outputId": "0c807ef8-a461-43bd-9503-d5490afd5b56"
      },
      "outputs": [
        {
          "output_type": "stream",
          "name": "stderr",
          "text": [
            "/usr/local/lib/python3.10/dist-packages/ipykernel/ipkernel.py:283: DeprecationWarning: `should_run_async` will not call `transform_cell` automatically in the future. Please pass the result to `transformed_cell` argument and any exception that happen during thetransform in `preprocessing_exc_tuple` in IPython 7.17 and above.\n",
            "  and should_run_async(code)\n"
          ]
        },
        {
          "output_type": "execute_result",
          "data": {
            "text/plain": [
              "['不好意思',\n",
              " '叨擾',\n",
              " '房版',\n",
              " '目前',\n",
              " '看到',\n",
              " '高雄',\n",
              " '兩個',\n",
              " '物件',\n",
              " '感覺',\n",
              " '各有勝負',\n",
              " '詢問',\n",
              " '看看',\n",
              " '版上',\n",
              " '意見',\n",
              " '總價',\n",
              " '室內',\n",
              " '連城',\n",
              " '預售',\n",
              " '轉約',\n",
              " '自備',\n",
              " '多一些',\n",
              " '條件',\n",
              " '只能',\n",
              " '貸成',\n",
              " '選手',\n",
              " '沒差',\n",
              " '捷運',\n",
              " '出口',\n",
              " '兩房一廳',\n",
              " '車位',\n",
              " '格局',\n",
              " '較佳',\n",
              " '客廳',\n",
              " '兩房',\n",
              " '室內',\n",
              " '數坪',\n",
              " '鳳凰',\n",
              " '年內',\n",
              " '成屋',\n",
              " '重劃',\n",
              " '邊陲',\n",
              " '兩房一廳',\n",
              " '機械',\n",
              " '車位',\n",
              " '格局',\n",
              " '較差',\n",
              " '暗房',\n",
              " '室內',\n",
              " '數坪',\n",
              " '鳳凰',\n",
              " '只贏',\n",
              " '車位',\n",
              " '高雄',\n",
              " '來說',\n",
              " '車位',\n",
              " '機械',\n",
              " '優點',\n",
              " '蠻大',\n",
              " '詢問',\n",
              " '版上',\n",
              " '前輩',\n",
              " '投資',\n",
              " '考量',\n",
              " '選擇',\n",
              " '物件',\n",
              " '非常感謝',\n",
              " '幫忙']"
            ]
          },
          "metadata": {},
          "execution_count": 64
        }
      ],
      "source": [
        "docs = udn['words'].to_list()\n",
        "docs[0]"
      ]
    },
    {
      "cell_type": "code",
      "execution_count": null,
      "metadata": {
        "colab": {
          "base_uri": "https://localhost:8080/"
        },
        "id": "PydiJ8IJ2H9P",
        "outputId": "577a83f5-3b0d-4ccb-d1a2-bc0780959a89"
      },
      "outputs": [
        {
          "output_type": "stream",
          "name": "stderr",
          "text": [
            "/usr/local/lib/python3.10/dist-packages/ipykernel/ipkernel.py:283: DeprecationWarning: `should_run_async` will not call `transform_cell` automatically in the future. Please pass the result to `transformed_cell` argument and any exception that happen during thetransform in `preprocessing_exc_tuple` in IPython 7.17 and above.\n",
            "  and should_run_async(code)\n"
          ]
        },
        {
          "output_type": "stream",
          "name": "stdout",
          "text": [
            "Dictionary<10205 unique tokens: ['不好意思', '來說', '優點', '兩個', '兩房']...>\n"
          ]
        }
      ],
      "source": [
        "dictionary = Dictionary(docs)\n",
        "# Filter out words that occur less than 5 documents, or more than 99% of the documents.\n",
        "dictionary.filter_extremes(no_below=5, no_above=0.99)\n",
        "print(dictionary)"
      ]
    },
    {
      "cell_type": "markdown",
      "source": [
        "所有辭彙都有不同的id"
      ],
      "metadata": {
        "id": "mB6vakXVgo0C"
      }
    },
    {
      "cell_type": "code",
      "execution_count": null,
      "metadata": {
        "colab": {
          "base_uri": "https://localhost:8080/"
        },
        "id": "tZsNFUMs2H9P",
        "outputId": "9d4291bb-0eeb-4746-9ff8-9b926e685a82"
      },
      "outputs": [
        {
          "output_type": "stream",
          "name": "stdout",
          "text": [
            "不好意思: 0\n",
            "來說: 1\n",
            "優點: 2\n",
            "兩個: 3\n",
            "兩房: 4\n",
            "兩房一廳: 5\n",
            "出口: 6\n",
            "前輩: 7\n",
            "只能: 8\n",
            "客廳: 9\n",
            "室內: 10\n",
            "幫忙: 11\n"
          ]
        },
        {
          "output_type": "stream",
          "name": "stderr",
          "text": [
            "/usr/local/lib/python3.10/dist-packages/ipykernel/ipkernel.py:283: DeprecationWarning: `should_run_async` will not call `transform_cell` automatically in the future. Please pass the result to `transformed_cell` argument and any exception that happen during thetransform in `preprocessing_exc_tuple` in IPython 7.17 and above.\n",
            "  and should_run_async(code)\n"
          ]
        }
      ],
      "source": [
        "for idx, (k, v) in enumerate(dictionary.token2id.items()):\n",
        "    print(f\"{k}: {v}\")\n",
        "    if idx > 10:\n",
        "        break"
      ]
    },
    {
      "cell_type": "markdown",
      "metadata": {
        "id": "5Gcofdd32H9P"
      },
      "source": [
        "將斷詞結果建構語料庫(corpus)之後，利用語料庫把每篇文章數字化。<br>\n",
        "每個詞彙都被賦予一個 ID 及頻率(word_id，word_frequency)。<br>\n",
        "\n",
        "舉例來說：<br>\n",
        "第一篇文章數字化結果為：corpus[600]:[(2, 2), (6, 1), (20, 2), .... ]，element 為文章中每個詞彙的 id 和頻率。<br>\n",
        "代表：'世界'出現2次、'之戰'出現一次...以此類推"
      ]
    },
    {
      "cell_type": "code",
      "execution_count": null,
      "metadata": {
        "colab": {
          "base_uri": "https://localhost:8080/"
        },
        "id": "0S82rtX22H9P",
        "outputId": "db74b9df-ee6c-41cc-d143-c3c162e75e08"
      },
      "outputs": [
        {
          "output_type": "stream",
          "name": "stdout",
          "text": [
            "('有人 百貨公司 愛人 有人 青山綠水 安靜 有人 適合 有人 適合 宜蘭 實在 太棒了 醫療 有陽明 大學 附設 醫院 博愛醫院 空氣 清幽 回家 等於 '\n",
            " '放假 台北 很近 通常 往返 相反 方向 塞到 房價 跟別 非常低 住個 注意 透天 最好 電梯 投資 適合')\n"
          ]
        },
        {
          "output_type": "stream",
          "name": "stderr",
          "text": [
            "/usr/local/lib/python3.10/dist-packages/ipykernel/ipkernel.py:283: DeprecationWarning: `should_run_async` will not call `transform_cell` automatically in the future. Please pass the result to `transformed_cell` argument and any exception that happen during thetransform in `preprocessing_exc_tuple` in IPython 7.17 and above.\n",
            "  and should_run_async(code)\n"
          ]
        }
      ],
      "source": [
        "pprint(\" \".join(udn['words'].iloc[600]))\n"
      ]
    },
    {
      "cell_type": "markdown",
      "source": [
        "計算文章中不同id的詞彙出現幾次"
      ],
      "metadata": {
        "id": "eatad5d1g9JD"
      }
    },
    {
      "cell_type": "code",
      "execution_count": null,
      "metadata": {
        "colab": {
          "base_uri": "https://localhost:8080/"
        },
        "id": "-bQvRB1Y2H9Q",
        "outputId": "f730732c-59ad-4110-d233-44ac6cd2848a"
      },
      "outputs": [
        {
          "output_type": "stream",
          "name": "stderr",
          "text": [
            "/usr/local/lib/python3.10/dist-packages/ipykernel/ipkernel.py:283: DeprecationWarning: `should_run_async` will not call `transform_cell` automatically in the future. Please pass the result to `transformed_cell` argument and any exception that happen during thetransform in `preprocessing_exc_tuple` in IPython 7.17 and above.\n",
            "  and should_run_async(code)\n"
          ]
        },
        {
          "output_type": "execute_result",
          "data": {
            "text/plain": [
              "[(17, 1),\n",
              " (118, 1),\n",
              " (162, 1),\n",
              " (278, 1),\n",
              " (384, 1),\n",
              " (638, 1),\n",
              " (723, 1),\n",
              " (745, 4),\n",
              " (847, 1),\n",
              " (875, 3)]"
            ]
          },
          "metadata": {},
          "execution_count": 68
        }
      ],
      "source": [
        "dictionary.doc2bow(udn['words'].iloc[600])[:10]"
      ]
    },
    {
      "cell_type": "markdown",
      "source": [
        "詞彙id和詞彙次數列表即為主題模型的input，拿到此列表後即可訓練主題模型"
      ],
      "metadata": {
        "id": "X3Lp2nmWhIGX"
      }
    },
    {
      "cell_type": "code",
      "execution_count": null,
      "metadata": {
        "colab": {
          "base_uri": "https://localhost:8080/"
        },
        "id": "3eB9y8UR2H9Q",
        "outputId": "da5981bf-2726-459c-a7b7-6287622a49cf"
      },
      "outputs": [
        {
          "output_type": "stream",
          "name": "stderr",
          "text": [
            "/usr/local/lib/python3.10/dist-packages/ipykernel/ipkernel.py:283: DeprecationWarning: `should_run_async` will not call `transform_cell` automatically in the future. Please pass the result to `transformed_cell` argument and any exception that happen during thetransform in `preprocessing_exc_tuple` in IPython 7.17 and above.\n",
            "  and should_run_async(code)\n"
          ]
        }
      ],
      "source": [
        "# Bag-of-words representation of the documents.\n",
        "# 用 gensim ldamodel input 需要將文章轉換成 bag of words\n",
        "corpus = [dictionary.doc2bow(doc) for doc in docs]"
      ]
    },
    {
      "cell_type": "code",
      "execution_count": null,
      "metadata": {
        "colab": {
          "base_uri": "https://localhost:8080/"
        },
        "id": "wGLl1htK2H9Q",
        "outputId": "e39b2ee1-a3c3-403a-d28a-9183a56cb3f0"
      },
      "outputs": [
        {
          "output_type": "stream",
          "name": "stderr",
          "text": [
            "/usr/local/lib/python3.10/dist-packages/ipykernel/ipkernel.py:283: DeprecationWarning: `should_run_async` will not call `transform_cell` automatically in the future. Please pass the result to `transformed_cell` argument and any exception that happen during thetransform in `preprocessing_exc_tuple` in IPython 7.17 and above.\n",
            "  and should_run_async(code)\n"
          ]
        },
        {
          "output_type": "execute_result",
          "data": {
            "text/plain": [
              "list"
            ]
          },
          "metadata": {},
          "execution_count": 70
        }
      ],
      "source": [
        "type(corpus)"
      ]
    },
    {
      "cell_type": "markdown",
      "metadata": {
        "id": "1hs7oS__2H9Q"
      },
      "source": [
        "訓練 topic model\n",
        "\n",
        "+ 參數說明：\n",
        "    + corpus = 文檔語料庫\n",
        "    + id2word = 詞彙字典\n",
        "    + num_topics = 生成幾個主題數\n",
        "    + random_state = 固定亂數值，每次的模型結果會一樣\n",
        "    + iteration = 每個文章訓練的次數，可以設定高一點讓模型收斂\n",
        "    + passes(epoch) = 整個 corpus 訓練模型的次數\n",
        "    + alpha = 文章主題分佈\n",
        "    + eta = 主題字分佈\n",
        "\n",
        "模型參數沒有一個絕對的答案，同學們應該**使用相同的資料**，嘗試做參數上的調整，進而比較出較佳的模型結果。"
      ]
    },
    {
      "cell_type": "markdown",
      "source": [
        "## 更改iterations和passes參數來增加模型更新和遍歷的次數，利用模型生成10主題數"
      ],
      "metadata": {
        "id": "yqVDUuYghxnY"
      }
    },
    {
      "cell_type": "code",
      "execution_count": null,
      "metadata": {
        "colab": {
          "base_uri": "https://localhost:8080/"
        },
        "id": "96NXi_t62H9Q",
        "outputId": "1170a022-3c93-4f1e-b747-f61a761bc1fd"
      },
      "outputs": [
        {
          "output_type": "stream",
          "name": "stderr",
          "text": [
            "/usr/local/lib/python3.10/dist-packages/ipykernel/ipkernel.py:283: DeprecationWarning: `should_run_async` will not call `transform_cell` automatically in the future. Please pass the result to `transformed_cell` argument and any exception that happen during thetransform in `preprocessing_exc_tuple` in IPython 7.17 and above.\n",
            "  and should_run_async(code)\n"
          ]
        }
      ],
      "source": [
        "ldamodel = LdaModel(\n",
        "    corpus=corpus,\n",
        "    id2word=dictionary, # 字典\n",
        "    num_topics=10, # 生成幾個主題數\n",
        "    random_state=2024, # 亂數\n",
        "    iterations=100,\n",
        "    passes=10\n",
        ")"
      ]
    },
    {
      "cell_type": "markdown",
      "metadata": {
        "id": "w7mJ2LvK2H9Q"
      },
      "source": [
        "**4.2 查看 LDA 主題代表字** <br>\n",
        "\n",
        "當 LDA 模型訓練好之後，我們可以查看每個主題的單詞分佈。<br>\n",
        "num_words = 選擇要查看每個主題前幾個字。<br>\n",
        "\n",
        "舉例來說：<br>\n",
        "`'0.020*\"經典賽\" + 0.014*\"中華隊\" + 0.011*\"今天\" + 0.009*\"比賽\" + 0.009*\"日本\" + 0.007*\"棒球\" + 0.007*\"世界\" + 0.007*\"投手\" + 0.006*\"先發\" + 0.005*\"球隊\"'`  "
      ]
    },
    {
      "cell_type": "markdown",
      "source": [
        "## 查看LDA主題代表字的訓練結果(數字越大、比例越大，在此篇文章的重要性就越高)"
      ],
      "metadata": {
        "id": "-gbG4xFOiLFa"
      }
    },
    {
      "cell_type": "code",
      "execution_count": null,
      "metadata": {
        "colab": {
          "base_uri": "https://localhost:8080/"
        },
        "id": "nIqAEi0y2H9Q",
        "outputId": "125d6ec8-af2c-43cc-a494-520526ccfe73"
      },
      "outputs": [
        {
          "output_type": "stream",
          "name": "stderr",
          "text": [
            "/usr/local/lib/python3.10/dist-packages/ipykernel/ipkernel.py:283: DeprecationWarning: `should_run_async` will not call `transform_cell` automatically in the future. Please pass the result to `transformed_cell` argument and any exception that happen during thetransform in `preprocessing_exc_tuple` in IPython 7.17 and above.\n",
            "  and should_run_async(code)\n"
          ]
        },
        {
          "output_type": "execute_result",
          "data": {
            "text/plain": [
              "[(0,\n",
              "  '0.018*\"公司\" + 0.015*\"中國\" + 0.013*\"美國\" + 0.011*\"原文\" + 0.010*\"台灣\" + 0.008*\"表示\" + 0.006*\"金管會\" + 0.006*\"內容\" + 0.006*\"記者\" + 0.005*\"經濟\"'),\n",
              " (1,\n",
              "  '0.014*\"現在\" + 0.009*\"應該\" + 0.009*\"真的\" + 0.008*\"知道\" + 0.008*\"目前\" + 0.008*\"投資\" + 0.007*\"股票\" + 0.007*\"覺得\" + 0.007*\"一下\" + 0.007*\"比較\"'),\n",
              " (2,\n",
              "  '0.038*\"投信\" + 0.017*\"國泰\" + 0.014*\"永豐\" + 0.014*\"中信\" + 0.013*\"長榮\" + 0.012*\"元大\" + 0.012*\"買超\" + 0.011*\"台灣\" + 0.010*\"群益\" + 0.009*\"臺灣\"'),\n",
              " (3,\n",
              "  '0.031*\"股利\" + 0.023*\"累計\" + 0.022*\"公司\" + 0.022*\"現金\" + 0.021*\"盈餘\" + 0.019*\"本期\" + 0.019*\"元股\" + 0.016*\"股東\" + 0.015*\"董事會\" + 0.014*\"元月\"'),\n",
              " (4,\n",
              "  '0.031*\"銀行\" + 0.029*\"貸款\" + 0.017*\"房貸\" + 0.017*\"增張\" + 0.017*\"升息\" + 0.015*\"交易\" + 0.010*\"利息\" + 0.010*\"季度\" + 0.009*\"資增\" + 0.009*\"融資\"'),\n",
              " (5,\n",
              "  '0.014*\"房價\" + 0.007*\"房市\" + 0.007*\"預售\" + 0.006*\"桃園\" + 0.006*\"土地\" + 0.005*\"建商\" + 0.005*\"台北\" + 0.005*\"房子\" + 0.005*\"區域\" + 0.005*\"重劃\"'),\n",
              " (6,\n",
              "  '0.018*\"成分股\" + 0.017*\"房屋\" + 0.014*\"車位\" + 0.012*\"建物\" + 0.012*\"排行\" + 0.011*\"本文\" + 0.009*\"物件\" + 0.009*\"格局\" + 0.008*\"登錄\" + 0.008*\"實價\"'),\n",
              " (7,\n",
              "  '0.028*\"電價\" + 0.014*\"建設\" + 0.013*\"調漲\" + 0.012*\"高鐵\" + 0.011*\"規劃\" + 0.010*\"用電\" + 0.010*\"台電\" + 0.010*\"資訊\" + 0.009*\"社區\" + 0.008*\"連結\"'),\n",
              " (8,\n",
              "  '0.015*\"今年\" + 0.013*\"原文\" + 0.011*\"成長\" + 0.010*\"市場\" + 0.009*\"去年\" + 0.007*\"記者\" + 0.007*\"表示\" + 0.007*\"億元\" + 0.007*\"產業\" + 0.007*\"持續\"'),\n",
              " (9,\n",
              "  '0.018*\"股價\" + 0.016*\"股息\" + 0.015*\"億元\" + 0.015*\"台股\" + 0.015*\"原文\" + 0.013*\"台灣\" + 0.012*\"投資人\" + 0.011*\"基金\" + 0.010*\"指數\" + 0.010*\"市場\"')]"
            ]
          },
          "metadata": {},
          "execution_count": 76
        }
      ],
      "source": [
        "ldamodel.print_topics()"
      ]
    },
    {
      "cell_type": "markdown",
      "metadata": {
        "id": "2tlYUnpg2H9Q"
      },
      "source": [
        "我們可以根據每個主題的詞彙分佈來猜測，該主題可能是有關什麼樣的議題：\n",
        "+ 主題一: 台美中三方經濟體系和活動\n",
        "+ 主題二: 目前股票投資趨勢\n",
        "+ 主題三: 台灣證券\n",
        "+ 主題四: 股票小白\n",
        "+ 主題五: 房屋貸款\n",
        "+ 主題六: 北部地區房地產\n",
        "+ 主題七: 買房建議\n",
        "+ 主題八: 運輸規劃和用電\n",
        "+ 主題九: 產業歷年成長趨勢\n",
        "+ 主題十: 股票投資"
      ]
    },
    {
      "cell_type": "markdown",
      "metadata": {
        "id": "eIJ1pkb42H9R"
      },
      "source": [
        "也可以使用 `get_document_topics()` 回去看每篇文章的主題分佈 (`theta`)"
      ]
    },
    {
      "cell_type": "code",
      "execution_count": null,
      "metadata": {
        "colab": {
          "base_uri": "https://localhost:8080/"
        },
        "id": "wj-7bT8l2H9R",
        "outputId": "063cb973-fa79-4897-da3c-ceed34a76cbd"
      },
      "outputs": [
        {
          "output_type": "stream",
          "name": "stderr",
          "text": [
            "/usr/local/lib/python3.10/dist-packages/ipykernel/ipkernel.py:283: DeprecationWarning: `should_run_async` will not call `transform_cell` automatically in the future. Please pass the result to `transformed_cell` argument and any exception that happen during thetransform in `preprocessing_exc_tuple` in IPython 7.17 and above.\n",
            "  and should_run_async(code)\n"
          ]
        },
        {
          "output_type": "execute_result",
          "data": {
            "text/plain": [
              "[(1, 0.16753562),\n",
              " (4, 0.22533719),\n",
              " (5, 0.11758998),\n",
              " (6, 0.44086716),\n",
              " (8, 0.040182833)]"
            ]
          },
          "metadata": {},
          "execution_count": 77
        }
      ],
      "source": [
        "ldamodel.get_document_topics(corpus[0])"
      ]
    },
    {
      "cell_type": "markdown",
      "metadata": {
        "id": "GmwyRTtX2H9R"
      },
      "source": [
        "**4.3 查看 LDA 模型指標**\n",
        "+ **Pointwise Mutual Information (PMI)** : <br>\n",
        "自然語言處理中，想要探討兩個字之間是否存在某種關係。<br>\n",
        "例如：某些字會一起出現，可能帶有某些訊息，因此這個可以用 PMI 來計算，數字越大越好。\n",
        "+ **perplexity** :<br>\n",
        "perplexity 也是評估的指標之一，廣泛用於語言模型的評估，\b意思為複雜度，因此數字要越小越好。"
      ]
    },
    {
      "cell_type": "code",
      "execution_count": null,
      "metadata": {
        "colab": {
          "base_uri": "https://localhost:8080/"
        },
        "id": "qrDjiuSb2H9R",
        "outputId": "2a743af4-93a0-40a7-d3f5-a9d661885ee3"
      },
      "outputs": [
        {
          "output_type": "stream",
          "name": "stderr",
          "text": [
            "/usr/local/lib/python3.10/dist-packages/ipykernel/ipkernel.py:283: DeprecationWarning: `should_run_async` will not call `transform_cell` automatically in the future. Please pass the result to `transformed_cell` argument and any exception that happen during thetransform in `preprocessing_exc_tuple` in IPython 7.17 and above.\n",
            "  and should_run_async(code)\n"
          ]
        },
        {
          "output_type": "execute_result",
          "data": {
            "text/plain": [
              "-7.708553306807251"
            ]
          },
          "metadata": {},
          "execution_count": 78
        }
      ],
      "source": [
        "# perplexity\n",
        "perplexity = ldamodel.log_perplexity(corpus)\n",
        "perplexity"
      ]
    },
    {
      "cell_type": "code",
      "execution_count": null,
      "metadata": {
        "colab": {
          "base_uri": "https://localhost:8080/"
        },
        "id": "DSC5JMfc2H9R",
        "outputId": "3142830e-5a7a-4a57-e21c-d48b3c4f3a8f"
      },
      "outputs": [
        {
          "output_type": "stream",
          "name": "stderr",
          "text": [
            "/usr/local/lib/python3.10/dist-packages/ipykernel/ipkernel.py:283: DeprecationWarning: `should_run_async` will not call `transform_cell` automatically in the future. Please pass the result to `transformed_cell` argument and any exception that happen during thetransform in `preprocessing_exc_tuple` in IPython 7.17 and above.\n",
            "  and should_run_async(code)\n"
          ]
        },
        {
          "output_type": "execute_result",
          "data": {
            "text/plain": [
              "209.1730690366384"
            ]
          },
          "metadata": {},
          "execution_count": 79
        }
      ],
      "source": [
        "np.exp2(-perplexity)"
      ]
    },
    {
      "cell_type": "code",
      "execution_count": null,
      "metadata": {
        "colab": {
          "base_uri": "https://localhost:8080/"
        },
        "id": "I_p0eZu32H9R",
        "outputId": "43942614-b884-4adf-8138-634dd488bd30"
      },
      "outputs": [
        {
          "output_type": "stream",
          "name": "stderr",
          "text": [
            "/usr/local/lib/python3.10/dist-packages/ipykernel/ipkernel.py:283: DeprecationWarning: `should_run_async` will not call `transform_cell` automatically in the future. Please pass the result to `transformed_cell` argument and any exception that happen during thetransform in `preprocessing_exc_tuple` in IPython 7.17 and above.\n",
            "  and should_run_async(code)\n"
          ]
        },
        {
          "output_type": "stream",
          "name": "stdout",
          "text": [
            "這個主題的 PMI score:  -0.03129932723453074\n"
          ]
        }
      ],
      "source": [
        "# npmi\n",
        "NPMI_model_lda = CoherenceModel(model=ldamodel, texts=docs, coherence='c_npmi')\n",
        "NPMI_lda = NPMI_model_lda.get_coherence()\n",
        "print('這個主題的 PMI score: ', NPMI_lda)"
      ]
    },
    {
      "cell_type": "code",
      "execution_count": null,
      "metadata": {
        "colab": {
          "base_uri": "https://localhost:8080/"
        },
        "id": "v6kB0yvR2H9R",
        "outputId": "236d6cc0-1319-4296-bc76-ee17b66d89ab"
      },
      "outputs": [
        {
          "output_type": "stream",
          "name": "stderr",
          "text": [
            "/usr/local/lib/python3.10/dist-packages/ipykernel/ipkernel.py:283: DeprecationWarning: `should_run_async` will not call `transform_cell` automatically in the future. Please pass the result to `transformed_cell` argument and any exception that happen during thetransform in `preprocessing_exc_tuple` in IPython 7.17 and above.\n",
            "  and should_run_async(code)\n"
          ]
        },
        {
          "output_type": "execute_result",
          "data": {
            "text/plain": [
              "[-0.0001963193672471357,\n",
              " 0.04933805366979186,\n",
              " 0.012872261177896435,\n",
              " 0.022131420619821738,\n",
              " -0.18245357246737812,\n",
              " -0.009543180108968007,\n",
              " -0.19204807914191063,\n",
              " -0.10899172987022669,\n",
              " 0.04596833463393489,\n",
              " 0.0499295385089783]"
            ]
          },
          "metadata": {},
          "execution_count": 81
        }
      ],
      "source": [
        "NPMI_model_lda.get_coherence_per_topic()"
      ]
    },
    {
      "cell_type": "markdown",
      "metadata": {
        "id": "VJa6wUca2H9R"
      },
      "source": [
        "`NPMI` 的值域是[-1,1]，-1 代表兩個字沒一起出現過，0 代表兩個字之間獨立，1 代表兩個字完全相關"
      ]
    },
    {
      "cell_type": "markdown",
      "metadata": {
        "id": "qMeNQ19p2H9S"
      },
      "source": [
        "**4.4 透過指標找出最佳主題數**\n",
        "\n",
        "透過建立不同主題數的模型，並以上述所說的**判斷指標**來找出最佳的主題數。<br>\n",
        "這裡我們選擇主題數 2~10 來做分析。\n",
        "\n",
        "**再次強調**：主題數及參數沒有一個絕對正確的答案，同學們應該**使用相同的資料**，嘗試做參數上的調整、主題數的調整，進而比較出較佳的模型結果。"
      ]
    },
    {
      "cell_type": "code",
      "execution_count": null,
      "metadata": {
        "colab": {
          "base_uri": "https://localhost:8080/"
        },
        "id": "m-VA8h4h2H9S",
        "outputId": "5d5741f2-c2c3-48cc-d1ab-b876771a876c"
      },
      "outputs": [
        {
          "output_type": "stream",
          "name": "stderr",
          "text": [
            "/usr/local/lib/python3.10/dist-packages/ipykernel/ipkernel.py:283: DeprecationWarning: `should_run_async` will not call `transform_cell` automatically in the future. Please pass the result to `transformed_cell` argument and any exception that happen during thetransform in `preprocessing_exc_tuple` in IPython 7.17 and above.\n",
            "  and should_run_async(code)\n"
          ]
        },
        {
          "output_type": "stream",
          "name": "stdout",
          "text": [
            "花費時間: 223.2027895450592 sec\n"
          ]
        }
      ],
      "source": [
        "t0 = time.time()\n",
        "\n",
        "topic_num_list = np.arange(2,10)\n",
        "result = {\"topic_num\":[], \"perplexity\":[], \"pmi\":[]}\n",
        "model_set = dict()\n",
        "\n",
        "\n",
        "for topic_num in topic_num_list:\n",
        "    # perplexity\n",
        "    model = LdaModel(\n",
        "        corpus = corpus,\n",
        "        num_topics = topic_num ,\n",
        "        id2word=dictionary,\n",
        "        random_state = 1500,\n",
        "        passes=5 # 訓練次數\n",
        "        )\n",
        "\n",
        "    loss = model.log_perplexity(corpus)\n",
        "    pmi = CoherenceModel(model=model, texts=docs, coherence='c_npmi').get_coherence()\n",
        "    perplexity = np.exp(-1. * loss)\n",
        "\n",
        "    # model_set[f'k_{topic_num}'] = model\n",
        "\n",
        "    result['topic_num'].append(topic_num)\n",
        "    result['perplexity'].append(perplexity)\n",
        "    result['pmi'].append(pmi)\n",
        "\n",
        "print(f\"花費時間: {time.time() - t0} sec\")\n",
        "\n",
        "### 花費時間: 99.35791897773743 sec"
      ]
    },
    {
      "cell_type": "markdown",
      "metadata": {
        "id": "wPi5AqF_2H9S"
      },
      "source": [
        "訓練要花一點時間，同學可以研究看看平行運算的 `gensim.models.ldamulticore.LdaMulticore()` class 或是其他方法"
      ]
    },
    {
      "cell_type": "code",
      "execution_count": null,
      "metadata": {
        "colab": {
          "base_uri": "https://localhost:8080/",
          "height": 355
        },
        "id": "aWxHK3RW2H9S",
        "outputId": "14119657-0127-4133-d81d-5cde2c29fa60"
      },
      "outputs": [
        {
          "output_type": "stream",
          "name": "stderr",
          "text": [
            "/usr/local/lib/python3.10/dist-packages/ipykernel/ipkernel.py:283: DeprecationWarning: `should_run_async` will not call `transform_cell` automatically in the future. Please pass the result to `transformed_cell` argument and any exception that happen during thetransform in `preprocessing_exc_tuple` in IPython 7.17 and above.\n",
            "  and should_run_async(code)\n"
          ]
        },
        {
          "output_type": "execute_result",
          "data": {
            "text/plain": [
              "   topic_num   perplexity       pmi\n",
              "0          2  3195.994186 -0.042732\n",
              "1          3  2615.955995  0.009962\n",
              "2          4  2458.302638 -0.054542\n",
              "3          5  2344.915860  0.012031\n",
              "4          6  2260.664965 -0.008626\n",
              "5          7  2176.587005  0.030353\n",
              "6          8  2200.148071 -0.005739\n",
              "7          9  2208.824527 -0.012906"
            ],
            "text/html": [
              "\n",
              "  <div id=\"df-bf8bfb15-b5c4-4904-a20e-18b6f6070f4c\" class=\"colab-df-container\">\n",
              "    <div>\n",
              "<style scoped>\n",
              "    .dataframe tbody tr th:only-of-type {\n",
              "        vertical-align: middle;\n",
              "    }\n",
              "\n",
              "    .dataframe tbody tr th {\n",
              "        vertical-align: top;\n",
              "    }\n",
              "\n",
              "    .dataframe thead th {\n",
              "        text-align: right;\n",
              "    }\n",
              "</style>\n",
              "<table border=\"1\" class=\"dataframe\">\n",
              "  <thead>\n",
              "    <tr style=\"text-align: right;\">\n",
              "      <th></th>\n",
              "      <th>topic_num</th>\n",
              "      <th>perplexity</th>\n",
              "      <th>pmi</th>\n",
              "    </tr>\n",
              "  </thead>\n",
              "  <tbody>\n",
              "    <tr>\n",
              "      <th>0</th>\n",
              "      <td>2</td>\n",
              "      <td>3195.994186</td>\n",
              "      <td>-0.042732</td>\n",
              "    </tr>\n",
              "    <tr>\n",
              "      <th>1</th>\n",
              "      <td>3</td>\n",
              "      <td>2615.955995</td>\n",
              "      <td>0.009962</td>\n",
              "    </tr>\n",
              "    <tr>\n",
              "      <th>2</th>\n",
              "      <td>4</td>\n",
              "      <td>2458.302638</td>\n",
              "      <td>-0.054542</td>\n",
              "    </tr>\n",
              "    <tr>\n",
              "      <th>3</th>\n",
              "      <td>5</td>\n",
              "      <td>2344.915860</td>\n",
              "      <td>0.012031</td>\n",
              "    </tr>\n",
              "    <tr>\n",
              "      <th>4</th>\n",
              "      <td>6</td>\n",
              "      <td>2260.664965</td>\n",
              "      <td>-0.008626</td>\n",
              "    </tr>\n",
              "    <tr>\n",
              "      <th>5</th>\n",
              "      <td>7</td>\n",
              "      <td>2176.587005</td>\n",
              "      <td>0.030353</td>\n",
              "    </tr>\n",
              "    <tr>\n",
              "      <th>6</th>\n",
              "      <td>8</td>\n",
              "      <td>2200.148071</td>\n",
              "      <td>-0.005739</td>\n",
              "    </tr>\n",
              "    <tr>\n",
              "      <th>7</th>\n",
              "      <td>9</td>\n",
              "      <td>2208.824527</td>\n",
              "      <td>-0.012906</td>\n",
              "    </tr>\n",
              "  </tbody>\n",
              "</table>\n",
              "</div>\n",
              "    <div class=\"colab-df-buttons\">\n",
              "\n",
              "  <div class=\"colab-df-container\">\n",
              "    <button class=\"colab-df-convert\" onclick=\"convertToInteractive('df-bf8bfb15-b5c4-4904-a20e-18b6f6070f4c')\"\n",
              "            title=\"Convert this dataframe to an interactive table.\"\n",
              "            style=\"display:none;\">\n",
              "\n",
              "  <svg xmlns=\"http://www.w3.org/2000/svg\" height=\"24px\" viewBox=\"0 -960 960 960\">\n",
              "    <path d=\"M120-120v-720h720v720H120Zm60-500h600v-160H180v160Zm220 220h160v-160H400v160Zm0 220h160v-160H400v160ZM180-400h160v-160H180v160Zm440 0h160v-160H620v160ZM180-180h160v-160H180v160Zm440 0h160v-160H620v160Z\"/>\n",
              "  </svg>\n",
              "    </button>\n",
              "\n",
              "  <style>\n",
              "    .colab-df-container {\n",
              "      display:flex;\n",
              "      gap: 12px;\n",
              "    }\n",
              "\n",
              "    .colab-df-convert {\n",
              "      background-color: #E8F0FE;\n",
              "      border: none;\n",
              "      border-radius: 50%;\n",
              "      cursor: pointer;\n",
              "      display: none;\n",
              "      fill: #1967D2;\n",
              "      height: 32px;\n",
              "      padding: 0 0 0 0;\n",
              "      width: 32px;\n",
              "    }\n",
              "\n",
              "    .colab-df-convert:hover {\n",
              "      background-color: #E2EBFA;\n",
              "      box-shadow: 0px 1px 2px rgba(60, 64, 67, 0.3), 0px 1px 3px 1px rgba(60, 64, 67, 0.15);\n",
              "      fill: #174EA6;\n",
              "    }\n",
              "\n",
              "    .colab-df-buttons div {\n",
              "      margin-bottom: 4px;\n",
              "    }\n",
              "\n",
              "    [theme=dark] .colab-df-convert {\n",
              "      background-color: #3B4455;\n",
              "      fill: #D2E3FC;\n",
              "    }\n",
              "\n",
              "    [theme=dark] .colab-df-convert:hover {\n",
              "      background-color: #434B5C;\n",
              "      box-shadow: 0px 1px 3px 1px rgba(0, 0, 0, 0.15);\n",
              "      filter: drop-shadow(0px 1px 2px rgba(0, 0, 0, 0.3));\n",
              "      fill: #FFFFFF;\n",
              "    }\n",
              "  </style>\n",
              "\n",
              "    <script>\n",
              "      const buttonEl =\n",
              "        document.querySelector('#df-bf8bfb15-b5c4-4904-a20e-18b6f6070f4c button.colab-df-convert');\n",
              "      buttonEl.style.display =\n",
              "        google.colab.kernel.accessAllowed ? 'block' : 'none';\n",
              "\n",
              "      async function convertToInteractive(key) {\n",
              "        const element = document.querySelector('#df-bf8bfb15-b5c4-4904-a20e-18b6f6070f4c');\n",
              "        const dataTable =\n",
              "          await google.colab.kernel.invokeFunction('convertToInteractive',\n",
              "                                                    [key], {});\n",
              "        if (!dataTable) return;\n",
              "\n",
              "        const docLinkHtml = 'Like what you see? Visit the ' +\n",
              "          '<a target=\"_blank\" href=https://colab.research.google.com/notebooks/data_table.ipynb>data table notebook</a>'\n",
              "          + ' to learn more about interactive tables.';\n",
              "        element.innerHTML = '';\n",
              "        dataTable['output_type'] = 'display_data';\n",
              "        await google.colab.output.renderOutput(dataTable, element);\n",
              "        const docLink = document.createElement('div');\n",
              "        docLink.innerHTML = docLinkHtml;\n",
              "        element.appendChild(docLink);\n",
              "      }\n",
              "    </script>\n",
              "  </div>\n",
              "\n",
              "\n",
              "<div id=\"df-51a5e5b2-a1e9-4280-9aa4-509263eede4f\">\n",
              "  <button class=\"colab-df-quickchart\" onclick=\"quickchart('df-51a5e5b2-a1e9-4280-9aa4-509263eede4f')\"\n",
              "            title=\"Suggest charts\"\n",
              "            style=\"display:none;\">\n",
              "\n",
              "<svg xmlns=\"http://www.w3.org/2000/svg\" height=\"24px\"viewBox=\"0 0 24 24\"\n",
              "     width=\"24px\">\n",
              "    <g>\n",
              "        <path d=\"M19 3H5c-1.1 0-2 .9-2 2v14c0 1.1.9 2 2 2h14c1.1 0 2-.9 2-2V5c0-1.1-.9-2-2-2zM9 17H7v-7h2v7zm4 0h-2V7h2v10zm4 0h-2v-4h2v4z\"/>\n",
              "    </g>\n",
              "</svg>\n",
              "  </button>\n",
              "\n",
              "<style>\n",
              "  .colab-df-quickchart {\n",
              "      --bg-color: #E8F0FE;\n",
              "      --fill-color: #1967D2;\n",
              "      --hover-bg-color: #E2EBFA;\n",
              "      --hover-fill-color: #174EA6;\n",
              "      --disabled-fill-color: #AAA;\n",
              "      --disabled-bg-color: #DDD;\n",
              "  }\n",
              "\n",
              "  [theme=dark] .colab-df-quickchart {\n",
              "      --bg-color: #3B4455;\n",
              "      --fill-color: #D2E3FC;\n",
              "      --hover-bg-color: #434B5C;\n",
              "      --hover-fill-color: #FFFFFF;\n",
              "      --disabled-bg-color: #3B4455;\n",
              "      --disabled-fill-color: #666;\n",
              "  }\n",
              "\n",
              "  .colab-df-quickchart {\n",
              "    background-color: var(--bg-color);\n",
              "    border: none;\n",
              "    border-radius: 50%;\n",
              "    cursor: pointer;\n",
              "    display: none;\n",
              "    fill: var(--fill-color);\n",
              "    height: 32px;\n",
              "    padding: 0;\n",
              "    width: 32px;\n",
              "  }\n",
              "\n",
              "  .colab-df-quickchart:hover {\n",
              "    background-color: var(--hover-bg-color);\n",
              "    box-shadow: 0 1px 2px rgba(60, 64, 67, 0.3), 0 1px 3px 1px rgba(60, 64, 67, 0.15);\n",
              "    fill: var(--button-hover-fill-color);\n",
              "  }\n",
              "\n",
              "  .colab-df-quickchart-complete:disabled,\n",
              "  .colab-df-quickchart-complete:disabled:hover {\n",
              "    background-color: var(--disabled-bg-color);\n",
              "    fill: var(--disabled-fill-color);\n",
              "    box-shadow: none;\n",
              "  }\n",
              "\n",
              "  .colab-df-spinner {\n",
              "    border: 2px solid var(--fill-color);\n",
              "    border-color: transparent;\n",
              "    border-bottom-color: var(--fill-color);\n",
              "    animation:\n",
              "      spin 1s steps(1) infinite;\n",
              "  }\n",
              "\n",
              "  @keyframes spin {\n",
              "    0% {\n",
              "      border-color: transparent;\n",
              "      border-bottom-color: var(--fill-color);\n",
              "      border-left-color: var(--fill-color);\n",
              "    }\n",
              "    20% {\n",
              "      border-color: transparent;\n",
              "      border-left-color: var(--fill-color);\n",
              "      border-top-color: var(--fill-color);\n",
              "    }\n",
              "    30% {\n",
              "      border-color: transparent;\n",
              "      border-left-color: var(--fill-color);\n",
              "      border-top-color: var(--fill-color);\n",
              "      border-right-color: var(--fill-color);\n",
              "    }\n",
              "    40% {\n",
              "      border-color: transparent;\n",
              "      border-right-color: var(--fill-color);\n",
              "      border-top-color: var(--fill-color);\n",
              "    }\n",
              "    60% {\n",
              "      border-color: transparent;\n",
              "      border-right-color: var(--fill-color);\n",
              "    }\n",
              "    80% {\n",
              "      border-color: transparent;\n",
              "      border-right-color: var(--fill-color);\n",
              "      border-bottom-color: var(--fill-color);\n",
              "    }\n",
              "    90% {\n",
              "      border-color: transparent;\n",
              "      border-bottom-color: var(--fill-color);\n",
              "    }\n",
              "  }\n",
              "</style>\n",
              "\n",
              "  <script>\n",
              "    async function quickchart(key) {\n",
              "      const quickchartButtonEl =\n",
              "        document.querySelector('#' + key + ' button');\n",
              "      quickchartButtonEl.disabled = true;  // To prevent multiple clicks.\n",
              "      quickchartButtonEl.classList.add('colab-df-spinner');\n",
              "      try {\n",
              "        const charts = await google.colab.kernel.invokeFunction(\n",
              "            'suggestCharts', [key], {});\n",
              "      } catch (error) {\n",
              "        console.error('Error during call to suggestCharts:', error);\n",
              "      }\n",
              "      quickchartButtonEl.classList.remove('colab-df-spinner');\n",
              "      quickchartButtonEl.classList.add('colab-df-quickchart-complete');\n",
              "    }\n",
              "    (() => {\n",
              "      let quickchartButtonEl =\n",
              "        document.querySelector('#df-51a5e5b2-a1e9-4280-9aa4-509263eede4f button');\n",
              "      quickchartButtonEl.style.display =\n",
              "        google.colab.kernel.accessAllowed ? 'block' : 'none';\n",
              "    })();\n",
              "  </script>\n",
              "</div>\n",
              "\n",
              "  <div id=\"id_cd8200f4-5880-42f1-b143-3e76bf0a63dc\">\n",
              "    <style>\n",
              "      .colab-df-generate {\n",
              "        background-color: #E8F0FE;\n",
              "        border: none;\n",
              "        border-radius: 50%;\n",
              "        cursor: pointer;\n",
              "        display: none;\n",
              "        fill: #1967D2;\n",
              "        height: 32px;\n",
              "        padding: 0 0 0 0;\n",
              "        width: 32px;\n",
              "      }\n",
              "\n",
              "      .colab-df-generate:hover {\n",
              "        background-color: #E2EBFA;\n",
              "        box-shadow: 0px 1px 2px rgba(60, 64, 67, 0.3), 0px 1px 3px 1px rgba(60, 64, 67, 0.15);\n",
              "        fill: #174EA6;\n",
              "      }\n",
              "\n",
              "      [theme=dark] .colab-df-generate {\n",
              "        background-color: #3B4455;\n",
              "        fill: #D2E3FC;\n",
              "      }\n",
              "\n",
              "      [theme=dark] .colab-df-generate:hover {\n",
              "        background-color: #434B5C;\n",
              "        box-shadow: 0px 1px 3px 1px rgba(0, 0, 0, 0.15);\n",
              "        filter: drop-shadow(0px 1px 2px rgba(0, 0, 0, 0.3));\n",
              "        fill: #FFFFFF;\n",
              "      }\n",
              "    </style>\n",
              "    <button class=\"colab-df-generate\" onclick=\"generateWithVariable('result')\"\n",
              "            title=\"Generate code using this dataframe.\"\n",
              "            style=\"display:none;\">\n",
              "\n",
              "  <svg xmlns=\"http://www.w3.org/2000/svg\" height=\"24px\"viewBox=\"0 0 24 24\"\n",
              "       width=\"24px\">\n",
              "    <path d=\"M7,19H8.4L18.45,9,17,7.55,7,17.6ZM5,21V16.75L18.45,3.32a2,2,0,0,1,2.83,0l1.4,1.43a1.91,1.91,0,0,1,.58,1.4,1.91,1.91,0,0,1-.58,1.4L9.25,21ZM18.45,9,17,7.55Zm-12,3A5.31,5.31,0,0,0,4.9,8.1,5.31,5.31,0,0,0,1,6.5,5.31,5.31,0,0,0,4.9,4.9,5.31,5.31,0,0,0,6.5,1,5.31,5.31,0,0,0,8.1,4.9,5.31,5.31,0,0,0,12,6.5,5.46,5.46,0,0,0,6.5,12Z\"/>\n",
              "  </svg>\n",
              "    </button>\n",
              "    <script>\n",
              "      (() => {\n",
              "      const buttonEl =\n",
              "        document.querySelector('#id_cd8200f4-5880-42f1-b143-3e76bf0a63dc button.colab-df-generate');\n",
              "      buttonEl.style.display =\n",
              "        google.colab.kernel.accessAllowed ? 'block' : 'none';\n",
              "\n",
              "      buttonEl.onclick = () => {\n",
              "        google.colab.notebook.generateWithVariable('result');\n",
              "      }\n",
              "      })();\n",
              "    </script>\n",
              "  </div>\n",
              "\n",
              "    </div>\n",
              "  </div>\n"
            ],
            "application/vnd.google.colaboratory.intrinsic+json": {
              "type": "dataframe",
              "variable_name": "result",
              "summary": "{\n  \"name\": \"result\",\n  \"rows\": 8,\n  \"fields\": [\n    {\n      \"column\": \"topic_num\",\n      \"properties\": {\n        \"dtype\": \"number\",\n        \"std\": 2,\n        \"min\": 2,\n        \"max\": 9,\n        \"num_unique_values\": 8,\n        \"samples\": [\n          3,\n          7,\n          2\n        ],\n        \"semantic_type\": \"\",\n        \"description\": \"\"\n      }\n    },\n    {\n      \"column\": \"perplexity\",\n      \"properties\": {\n        \"dtype\": \"number\",\n        \"std\": 343.0853425230879,\n        \"min\": 2176.587004850543,\n        \"max\": 3195.994185914526,\n        \"num_unique_values\": 8,\n        \"samples\": [\n          2615.9559953194134,\n          2176.587004850543,\n          3195.994185914526\n        ],\n        \"semantic_type\": \"\",\n        \"description\": \"\"\n      }\n    },\n    {\n      \"column\": \"pmi\",\n      \"properties\": {\n        \"dtype\": \"number\",\n        \"std\": 0.02825490133827767,\n        \"min\": -0.0545416957613595,\n        \"max\": 0.03035261227810278,\n        \"num_unique_values\": 8,\n        \"samples\": [\n          0.009961702177849589,\n          0.03035261227810278,\n          -0.04273165023139807\n        ],\n        \"semantic_type\": \"\",\n        \"description\": \"\"\n      }\n    }\n  ]\n}"
            }
          },
          "metadata": {},
          "execution_count": 84
        }
      ],
      "source": [
        "result = pd.DataFrame(result)\n",
        "result"
      ]
    },
    {
      "cell_type": "code",
      "execution_count": null,
      "metadata": {
        "colab": {
          "base_uri": "https://localhost:8080/",
          "height": 1000
        },
        "id": "CIGY0fcY2H9S",
        "outputId": "fd04980a-b4a2-4b64-baa6-b836259eda09"
      },
      "outputs": [
        {
          "output_type": "stream",
          "name": "stderr",
          "text": [
            "/usr/local/lib/python3.10/dist-packages/ipykernel/ipkernel.py:283: DeprecationWarning: `should_run_async` will not call `transform_cell` automatically in the future. Please pass the result to `transformed_cell` argument and any exception that happen during thetransform in `preprocessing_exc_tuple` in IPython 7.17 and above.\n",
            "  and should_run_async(code)\n"
          ]
        },
        {
          "output_type": "execute_result",
          "data": {
            "text/plain": [
              "<Axes: xlabel='topic_num'>"
            ]
          },
          "metadata": {},
          "execution_count": 85
        },
        {
          "output_type": "stream",
          "name": "stderr",
          "text": [
            "WARNING:matplotlib.font_manager:findfont: Generic family 'sans-serif' not found because none of the following families were found: SimHei\n",
            "WARNING:matplotlib.font_manager:findfont: Generic family 'sans-serif' not found because none of the following families were found: SimHei\n",
            "WARNING:matplotlib.font_manager:findfont: Generic family 'sans-serif' not found because none of the following families were found: SimHei\n",
            "WARNING:matplotlib.font_manager:findfont: Generic family 'sans-serif' not found because none of the following families were found: SimHei\n",
            "WARNING:matplotlib.font_manager:findfont: Generic family 'sans-serif' not found because none of the following families were found: SimHei\n",
            "WARNING:matplotlib.font_manager:findfont: Generic family 'sans-serif' not found because none of the following families were found: SimHei\n",
            "WARNING:matplotlib.font_manager:findfont: Generic family 'sans-serif' not found because none of the following families were found: SimHei\n",
            "WARNING:matplotlib.font_manager:findfont: Generic family 'sans-serif' not found because none of the following families were found: SimHei\n",
            "WARNING:matplotlib.font_manager:findfont: Generic family 'sans-serif' not found because none of the following families were found: SimHei\n",
            "WARNING:matplotlib.font_manager:findfont: Generic family 'sans-serif' not found because none of the following families were found: SimHei\n",
            "WARNING:matplotlib.font_manager:findfont: Generic family 'sans-serif' not found because none of the following families were found: SimHei\n",
            "WARNING:matplotlib.font_manager:findfont: Generic family 'sans-serif' not found because none of the following families were found: SimHei\n",
            "WARNING:matplotlib.font_manager:findfont: Generic family 'sans-serif' not found because none of the following families were found: SimHei\n",
            "WARNING:matplotlib.font_manager:findfont: Generic family 'sans-serif' not found because none of the following families were found: SimHei\n",
            "WARNING:matplotlib.font_manager:findfont: Generic family 'sans-serif' not found because none of the following families were found: SimHei\n",
            "WARNING:matplotlib.font_manager:findfont: Generic family 'sans-serif' not found because none of the following families were found: SimHei\n",
            "WARNING:matplotlib.font_manager:findfont: Generic family 'sans-serif' not found because none of the following families were found: SimHei\n",
            "WARNING:matplotlib.font_manager:findfont: Generic family 'sans-serif' not found because none of the following families were found: SimHei\n",
            "WARNING:matplotlib.font_manager:findfont: Generic family 'sans-serif' not found because none of the following families were found: SimHei\n",
            "WARNING:matplotlib.font_manager:findfont: Generic family 'sans-serif' not found because none of the following families were found: SimHei\n",
            "WARNING:matplotlib.font_manager:findfont: Generic family 'sans-serif' not found because none of the following families were found: SimHei\n",
            "WARNING:matplotlib.font_manager:findfont: Generic family 'sans-serif' not found because none of the following families were found: SimHei\n",
            "WARNING:matplotlib.font_manager:findfont: Generic family 'sans-serif' not found because none of the following families were found: SimHei\n",
            "WARNING:matplotlib.font_manager:findfont: Generic family 'sans-serif' not found because none of the following families were found: SimHei\n",
            "WARNING:matplotlib.font_manager:findfont: Generic family 'sans-serif' not found because none of the following families were found: SimHei\n",
            "WARNING:matplotlib.font_manager:findfont: Generic family 'sans-serif' not found because none of the following families were found: SimHei\n",
            "WARNING:matplotlib.font_manager:findfont: Generic family 'sans-serif' not found because none of the following families were found: SimHei\n",
            "WARNING:matplotlib.font_manager:findfont: Generic family 'sans-serif' not found because none of the following families were found: SimHei\n",
            "WARNING:matplotlib.font_manager:findfont: Generic family 'sans-serif' not found because none of the following families were found: SimHei\n",
            "WARNING:matplotlib.font_manager:findfont: Generic family 'sans-serif' not found because none of the following families were found: SimHei\n",
            "WARNING:matplotlib.font_manager:findfont: Generic family 'sans-serif' not found because none of the following families were found: SimHei\n",
            "WARNING:matplotlib.font_manager:findfont: Generic family 'sans-serif' not found because none of the following families were found: SimHei\n",
            "WARNING:matplotlib.font_manager:findfont: Generic family 'sans-serif' not found because none of the following families were found: SimHei\n",
            "WARNING:matplotlib.font_manager:findfont: Generic family 'sans-serif' not found because none of the following families were found: SimHei\n",
            "WARNING:matplotlib.font_manager:findfont: Generic family 'sans-serif' not found because none of the following families were found: SimHei\n",
            "WARNING:matplotlib.font_manager:findfont: Generic family 'sans-serif' not found because none of the following families were found: SimHei\n",
            "WARNING:matplotlib.font_manager:findfont: Generic family 'sans-serif' not found because none of the following families were found: SimHei\n",
            "WARNING:matplotlib.font_manager:findfont: Generic family 'sans-serif' not found because none of the following families were found: SimHei\n",
            "WARNING:matplotlib.font_manager:findfont: Generic family 'sans-serif' not found because none of the following families were found: SimHei\n",
            "WARNING:matplotlib.font_manager:findfont: Generic family 'sans-serif' not found because none of the following families were found: SimHei\n",
            "WARNING:matplotlib.font_manager:findfont: Generic family 'sans-serif' not found because none of the following families were found: SimHei\n",
            "WARNING:matplotlib.font_manager:findfont: Generic family 'sans-serif' not found because none of the following families were found: SimHei\n",
            "WARNING:matplotlib.font_manager:findfont: Generic family 'sans-serif' not found because none of the following families were found: SimHei\n",
            "WARNING:matplotlib.font_manager:findfont: Generic family 'sans-serif' not found because none of the following families were found: SimHei\n",
            "WARNING:matplotlib.font_manager:findfont: Generic family 'sans-serif' not found because none of the following families were found: SimHei\n",
            "WARNING:matplotlib.font_manager:findfont: Generic family 'sans-serif' not found because none of the following families were found: SimHei\n",
            "WARNING:matplotlib.font_manager:findfont: Generic family 'sans-serif' not found because none of the following families were found: SimHei\n",
            "WARNING:matplotlib.font_manager:findfont: Generic family 'sans-serif' not found because none of the following families were found: SimHei\n",
            "WARNING:matplotlib.font_manager:findfont: Generic family 'sans-serif' not found because none of the following families were found: SimHei\n",
            "WARNING:matplotlib.font_manager:findfont: Generic family 'sans-serif' not found because none of the following families were found: SimHei\n",
            "WARNING:matplotlib.font_manager:findfont: Generic family 'sans-serif' not found because none of the following families were found: SimHei\n",
            "WARNING:matplotlib.font_manager:findfont: Generic family 'sans-serif' not found because none of the following families were found: SimHei\n",
            "WARNING:matplotlib.font_manager:findfont: Generic family 'sans-serif' not found because none of the following families were found: SimHei\n",
            "WARNING:matplotlib.font_manager:findfont: Generic family 'sans-serif' not found because none of the following families were found: SimHei\n",
            "WARNING:matplotlib.font_manager:findfont: Generic family 'sans-serif' not found because none of the following families were found: SimHei\n",
            "WARNING:matplotlib.font_manager:findfont: Generic family 'sans-serif' not found because none of the following families were found: SimHei\n",
            "WARNING:matplotlib.font_manager:findfont: Generic family 'sans-serif' not found because none of the following families were found: SimHei\n",
            "WARNING:matplotlib.font_manager:findfont: Generic family 'sans-serif' not found because none of the following families were found: SimHei\n",
            "WARNING:matplotlib.font_manager:findfont: Generic family 'sans-serif' not found because none of the following families were found: SimHei\n",
            "WARNING:matplotlib.font_manager:findfont: Generic family 'sans-serif' not found because none of the following families were found: SimHei\n",
            "WARNING:matplotlib.font_manager:findfont: Generic family 'sans-serif' not found because none of the following families were found: SimHei\n",
            "WARNING:matplotlib.font_manager:findfont: Generic family 'sans-serif' not found because none of the following families were found: SimHei\n",
            "WARNING:matplotlib.font_manager:findfont: Generic family 'sans-serif' not found because none of the following families were found: SimHei\n",
            "WARNING:matplotlib.font_manager:findfont: Generic family 'sans-serif' not found because none of the following families were found: SimHei\n",
            "WARNING:matplotlib.font_manager:findfont: Generic family 'sans-serif' not found because none of the following families were found: SimHei\n",
            "WARNING:matplotlib.font_manager:findfont: Generic family 'sans-serif' not found because none of the following families were found: SimHei\n",
            "WARNING:matplotlib.font_manager:findfont: Generic family 'sans-serif' not found because none of the following families were found: SimHei\n",
            "WARNING:matplotlib.font_manager:findfont: Generic family 'sans-serif' not found because none of the following families were found: SimHei\n",
            "WARNING:matplotlib.font_manager:findfont: Generic family 'sans-serif' not found because none of the following families were found: SimHei\n",
            "WARNING:matplotlib.font_manager:findfont: Generic family 'sans-serif' not found because none of the following families were found: SimHei\n",
            "WARNING:matplotlib.font_manager:findfont: Generic family 'sans-serif' not found because none of the following families were found: SimHei\n",
            "WARNING:matplotlib.font_manager:findfont: Generic family 'sans-serif' not found because none of the following families were found: SimHei\n",
            "WARNING:matplotlib.font_manager:findfont: Generic family 'sans-serif' not found because none of the following families were found: SimHei\n",
            "WARNING:matplotlib.font_manager:findfont: Generic family 'sans-serif' not found because none of the following families were found: SimHei\n",
            "WARNING:matplotlib.font_manager:findfont: Generic family 'sans-serif' not found because none of the following families were found: SimHei\n",
            "WARNING:matplotlib.font_manager:findfont: Generic family 'sans-serif' not found because none of the following families were found: SimHei\n",
            "WARNING:matplotlib.font_manager:findfont: Generic family 'sans-serif' not found because none of the following families were found: SimHei\n",
            "WARNING:matplotlib.font_manager:findfont: Generic family 'sans-serif' not found because none of the following families were found: SimHei\n",
            "WARNING:matplotlib.font_manager:findfont: Generic family 'sans-serif' not found because none of the following families were found: SimHei\n",
            "WARNING:matplotlib.font_manager:findfont: Generic family 'sans-serif' not found because none of the following families were found: SimHei\n",
            "WARNING:matplotlib.font_manager:findfont: Generic family 'sans-serif' not found because none of the following families were found: SimHei\n",
            "WARNING:matplotlib.font_manager:findfont: Generic family 'sans-serif' not found because none of the following families were found: SimHei\n",
            "WARNING:matplotlib.font_manager:findfont: Generic family 'sans-serif' not found because none of the following families were found: SimHei\n",
            "WARNING:matplotlib.font_manager:findfont: Generic family 'sans-serif' not found because none of the following families were found: SimHei\n"
          ]
        },
        {
          "output_type": "display_data",
          "data": {
            "text/plain": [
              "<Figure size 640x480 with 1 Axes>"
            ],
            "image/png": "[encoded data removed]"
          },
          "metadata": {}
        }
      ],
      "source": [
        "result.plot.line(x='topic_num', y='perplexity')"
      ]
    },
    {
      "cell_type": "code",
      "execution_count": null,
      "metadata": {
        "colab": {
          "base_uri": "https://localhost:8080/",
          "height": 1000
        },
        "id": "QvskEqT82H9S",
        "outputId": "9f378ca4-262c-4a46-f2c8-8535134f2231"
      },
      "outputs": [
        {
          "output_type": "stream",
          "name": "stderr",
          "text": [
            "/usr/local/lib/python3.10/dist-packages/ipykernel/ipkernel.py:283: DeprecationWarning: `should_run_async` will not call `transform_cell` automatically in the future. Please pass the result to `transformed_cell` argument and any exception that happen during thetransform in `preprocessing_exc_tuple` in IPython 7.17 and above.\n",
            "  and should_run_async(code)\n"
          ]
        },
        {
          "output_type": "execute_result",
          "data": {
            "text/plain": [
              "<Axes: xlabel='topic_num'>"
            ]
          },
          "metadata": {},
          "execution_count": 86
        },
        {
          "output_type": "stream",
          "name": "stderr",
          "text": [
            "WARNING:matplotlib.font_manager:findfont: Generic family 'sans-serif' not found because none of the following families were found: SimHei\n",
            "WARNING:matplotlib.font_manager:findfont: Generic family 'sans-serif' not found because none of the following families were found: SimHei\n",
            "WARNING:matplotlib.font_manager:findfont: Generic family 'sans-serif' not found because none of the following families were found: SimHei\n",
            "WARNING:matplotlib.font_manager:findfont: Generic family 'sans-serif' not found because none of the following families were found: SimHei\n",
            "WARNING:matplotlib.font_manager:findfont: Generic family 'sans-serif' not found because none of the following families were found: SimHei\n",
            "WARNING:matplotlib.font_manager:findfont: Generic family 'sans-serif' not found because none of the following families were found: SimHei\n",
            "WARNING:matplotlib.font_manager:findfont: Generic family 'sans-serif' not found because none of the following families were found: SimHei\n",
            "WARNING:matplotlib.font_manager:findfont: Generic family 'sans-serif' not found because none of the following families were found: SimHei\n",
            "WARNING:matplotlib.font_manager:findfont: Generic family 'sans-serif' not found because none of the following families were found: SimHei\n",
            "WARNING:matplotlib.font_manager:findfont: Generic family 'sans-serif' not found because none of the following families were found: SimHei\n",
            "WARNING:matplotlib.font_manager:findfont: Generic family 'sans-serif' not found because none of the following families were found: SimHei\n",
            "WARNING:matplotlib.font_manager:findfont: Generic family 'sans-serif' not found because none of the following families were found: SimHei\n",
            "WARNING:matplotlib.font_manager:findfont: Generic family 'sans-serif' not found because none of the following families were found: SimHei\n",
            "WARNING:matplotlib.font_manager:findfont: Generic family 'sans-serif' not found because none of the following families were found: SimHei\n",
            "WARNING:matplotlib.font_manager:findfont: Generic family 'sans-serif' not found because none of the following families were found: SimHei\n",
            "WARNING:matplotlib.font_manager:findfont: Generic family 'sans-serif' not found because none of the following families were found: SimHei\n",
            "WARNING:matplotlib.font_manager:findfont: Generic family 'sans-serif' not found because none of the following families were found: SimHei\n",
            "WARNING:matplotlib.font_manager:findfont: Generic family 'sans-serif' not found because none of the following families were found: SimHei\n",
            "WARNING:matplotlib.font_manager:findfont: Generic family 'sans-serif' not found because none of the following families were found: SimHei\n",
            "WARNING:matplotlib.font_manager:findfont: Generic family 'sans-serif' not found because none of the following families were found: SimHei\n",
            "WARNING:matplotlib.font_manager:findfont: Generic family 'sans-serif' not found because none of the following families were found: SimHei\n",
            "WARNING:matplotlib.font_manager:findfont: Generic family 'sans-serif' not found because none of the following families were found: SimHei\n",
            "WARNING:matplotlib.font_manager:findfont: Generic family 'sans-serif' not found because none of the following families were found: SimHei\n",
            "WARNING:matplotlib.font_manager:findfont: Generic family 'sans-serif' not found because none of the following families were found: SimHei\n",
            "WARNING:matplotlib.font_manager:findfont: Generic family 'sans-serif' not found because none of the following families were found: SimHei\n",
            "WARNING:matplotlib.font_manager:findfont: Generic family 'sans-serif' not found because none of the following families were found: SimHei\n",
            "WARNING:matplotlib.font_manager:findfont: Generic family 'sans-serif' not found because none of the following families were found: SimHei\n",
            "WARNING:matplotlib.font_manager:findfont: Generic family 'sans-serif' not found because none of the following families were found: SimHei\n",
            "WARNING:matplotlib.font_manager:findfont: Generic family 'sans-serif' not found because none of the following families were found: SimHei\n",
            "WARNING:matplotlib.font_manager:findfont: Generic family 'sans-serif' not found because none of the following families were found: SimHei\n",
            "WARNING:matplotlib.font_manager:findfont: Generic family 'sans-serif' not found because none of the following families were found: SimHei\n",
            "WARNING:matplotlib.font_manager:findfont: Generic family 'sans-serif' not found because none of the following families were found: SimHei\n",
            "WARNING:matplotlib.font_manager:findfont: Generic family 'sans-serif' not found because none of the following families were found: SimHei\n",
            "WARNING:matplotlib.font_manager:findfont: Generic family 'sans-serif' not found because none of the following families were found: SimHei\n",
            "WARNING:matplotlib.font_manager:findfont: Generic family 'sans-serif' not found because none of the following families were found: SimHei\n",
            "WARNING:matplotlib.font_manager:findfont: Generic family 'sans-serif' not found because none of the following families were found: SimHei\n",
            "WARNING:matplotlib.font_manager:findfont: Generic family 'sans-serif' not found because none of the following families were found: SimHei\n",
            "WARNING:matplotlib.font_manager:findfont: Generic family 'sans-serif' not found because none of the following families were found: SimHei\n",
            "WARNING:matplotlib.font_manager:findfont: Generic family 'sans-serif' not found because none of the following families were found: SimHei\n",
            "WARNING:matplotlib.font_manager:findfont: Generic family 'sans-serif' not found because none of the following families were found: SimHei\n",
            "WARNING:matplotlib.font_manager:findfont: Generic family 'sans-serif' not found because none of the following families were found: SimHei\n",
            "WARNING:matplotlib.font_manager:findfont: Generic family 'sans-serif' not found because none of the following families were found: SimHei\n",
            "WARNING:matplotlib.font_manager:findfont: Generic family 'sans-serif' not found because none of the following families were found: SimHei\n",
            "WARNING:matplotlib.font_manager:findfont: Generic family 'sans-serif' not found because none of the following families were found: SimHei\n",
            "WARNING:matplotlib.font_manager:findfont: Generic family 'sans-serif' not found because none of the following families were found: SimHei\n",
            "WARNING:matplotlib.font_manager:findfont: Generic family 'sans-serif' not found because none of the following families were found: SimHei\n",
            "WARNING:matplotlib.font_manager:findfont: Generic family 'sans-serif' not found because none of the following families were found: SimHei\n",
            "WARNING:matplotlib.font_manager:findfont: Generic family 'sans-serif' not found because none of the following families were found: SimHei\n",
            "WARNING:matplotlib.font_manager:findfont: Generic family 'sans-serif' not found because none of the following families were found: SimHei\n",
            "WARNING:matplotlib.font_manager:findfont: Generic family 'sans-serif' not found because none of the following families were found: SimHei\n",
            "WARNING:matplotlib.font_manager:findfont: Generic family 'sans-serif' not found because none of the following families were found: SimHei\n",
            "WARNING:matplotlib.font_manager:findfont: Generic family 'sans-serif' not found because none of the following families were found: SimHei\n",
            "WARNING:matplotlib.font_manager:findfont: Generic family 'sans-serif' not found because none of the following families were found: SimHei\n",
            "WARNING:matplotlib.font_manager:findfont: Generic family 'sans-serif' not found because none of the following families were found: SimHei\n",
            "WARNING:matplotlib.font_manager:findfont: Generic family 'sans-serif' not found because none of the following families were found: SimHei\n",
            "WARNING:matplotlib.font_manager:findfont: Generic family 'sans-serif' not found because none of the following families were found: SimHei\n",
            "WARNING:matplotlib.font_manager:findfont: Generic family 'sans-serif' not found because none of the following families were found: SimHei\n",
            "WARNING:matplotlib.font_manager:findfont: Generic family 'sans-serif' not found because none of the following families were found: SimHei\n",
            "WARNING:matplotlib.font_manager:findfont: Generic family 'sans-serif' not found because none of the following families were found: SimHei\n",
            "WARNING:matplotlib.font_manager:findfont: Generic family 'sans-serif' not found because none of the following families were found: SimHei\n",
            "WARNING:matplotlib.font_manager:findfont: Generic family 'sans-serif' not found because none of the following families were found: SimHei\n",
            "WARNING:matplotlib.font_manager:findfont: Generic family 'sans-serif' not found because none of the following families were found: SimHei\n",
            "WARNING:matplotlib.font_manager:findfont: Generic family 'sans-serif' not found because none of the following families were found: SimHei\n",
            "WARNING:matplotlib.font_manager:findfont: Generic family 'sans-serif' not found because none of the following families were found: SimHei\n",
            "WARNING:matplotlib.font_manager:findfont: Generic family 'sans-serif' not found because none of the following families were found: SimHei\n",
            "WARNING:matplotlib.font_manager:findfont: Generic family 'sans-serif' not found because none of the following families were found: SimHei\n",
            "WARNING:matplotlib.font_manager:findfont: Generic family 'sans-serif' not found because none of the following families were found: SimHei\n",
            "WARNING:matplotlib.font_manager:findfont: Generic family 'sans-serif' not found because none of the following families were found: SimHei\n",
            "WARNING:matplotlib.font_manager:findfont: Generic family 'sans-serif' not found because none of the following families were found: SimHei\n",
            "WARNING:matplotlib.font_manager:findfont: Generic family 'sans-serif' not found because none of the following families were found: SimHei\n",
            "WARNING:matplotlib.font_manager:findfont: Generic family 'sans-serif' not found because none of the following families were found: SimHei\n",
            "WARNING:matplotlib.font_manager:findfont: Generic family 'sans-serif' not found because none of the following families were found: SimHei\n",
            "WARNING:matplotlib.font_manager:findfont: Generic family 'sans-serif' not found because none of the following families were found: SimHei\n",
            "WARNING:matplotlib.font_manager:findfont: Generic family 'sans-serif' not found because none of the following families were found: SimHei\n",
            "WARNING:matplotlib.font_manager:findfont: Generic family 'sans-serif' not found because none of the following families were found: SimHei\n",
            "WARNING:matplotlib.font_manager:findfont: Generic family 'sans-serif' not found because none of the following families were found: SimHei\n"
          ]
        },
        {
          "output_type": "display_data",
          "data": {
            "text/plain": [
              "<Figure size 640x480 with 1 Axes>"
            ],
            "image/png": "[encoded data removed]"
          },
          "metadata": {}
        }
      ],
      "source": [
        "result.plot.line(x='topic_num', y='pmi')"
      ]
    },
    {
      "cell_type": "markdown",
      "metadata": {
        "id": "ZJOwuiMY2H9S"
      },
      "source": [
        "就訓練結果來看，perplexity 7為最佳，coherence 最高也是7"
      ]
    },
    {
      "cell_type": "markdown",
      "metadata": {
        "id": "YupJHcLA2H9S"
      },
      "source": [
        "## 5. 視覺化呈現\n",
        "\n",
        "**5.1 產生 LDAvis 結果**\n",
        "\n",
        "LDAvis 是我們經常會使用的視覺化工具，目的為幫助我們解釋主題模型中，在我們建構好主題模型得到 θ(文件的主題分佈) 跟 φ(主題的字分佈)，透過 pyLDAvis 將主題降維成二維，以網頁的形式供我們查看。\n",
        "\n",
        "+ 圓圈數量代表主題數量，有幾個主題就會有幾個圓圈\n",
        "+ 圓越大代表 document 越大\n",
        "+ 右邊可以看到主題的字分佈\n",
        "+ 右上幫有一個 bar 調整 lambda：當 lambda=1 也就是代表本來的字分佈 φ，將 lambda 縮越小可以看到越唯一的字，好的分佈是 φ 高且唯一，因此我們要在這兩者間取平衡\n",
        "+ 圓心越相近，代表主題會越相似；反之，圓心分越開代表主題有唯一性<br>\n",
        "  --> 假設詞彙本來有 100 字，維度應該是 100，假如本來維度接近(相近)的話，降維後也會接近(相近)\n",
        "\n",
        "以下用主題數 8 來做 LDAvis 的結果範例"
      ]
    },
    {
      "cell_type": "code",
      "execution_count": null,
      "metadata": {
        "colab": {
          "base_uri": "https://localhost:8080/"
        },
        "id": "oTaBxEHW2H9T",
        "outputId": "0e7ab5fa-ccab-49ba-8b27-2b66cc117fd1"
      },
      "outputs": [
        {
          "output_type": "stream",
          "name": "stderr",
          "text": [
            "/usr/local/lib/python3.10/dist-packages/ipykernel/ipkernel.py:283: DeprecationWarning: `should_run_async` will not call `transform_cell` automatically in the future. Please pass the result to `transformed_cell` argument and any exception that happen during thetransform in `preprocessing_exc_tuple` in IPython 7.17 and above.\n",
            "  and should_run_async(code)\n"
          ]
        }
      ],
      "source": [
        "best_model = LdaModel(\n",
        "    corpus = corpus,\n",
        "    num_topics = 7,\n",
        "    id2word=dictionary,\n",
        "    random_state = 1500,\n",
        "    passes = 5 # 訓練次數\n",
        "    )"
      ]
    },
    {
      "cell_type": "code",
      "execution_count": null,
      "metadata": {
        "colab": {
          "base_uri": "https://localhost:8080/",
          "height": 916
        },
        "id": "_1WZXixN2H9T",
        "outputId": "262b1160-bc56-483e-f48d-a41e787023a4"
      },
      "outputs": [
        {
          "output_type": "stream",
          "name": "stderr",
          "text": [
            "/usr/local/lib/python3.10/dist-packages/ipykernel/ipkernel.py:283: DeprecationWarning: `should_run_async` will not call `transform_cell` automatically in the future. Please pass the result to `transformed_cell` argument and any exception that happen during thetransform in `preprocessing_exc_tuple` in IPython 7.17 and above.\n",
            "  and should_run_async(code)\n"
          ]
        },
        {
          "output_type": "execute_result",
          "data": {
            "text/plain": [
              "PreparedData(topic_coordinates=              x         y  topics  cluster       Freq\n",
              "topic                                                \n",
              "2     -0.048735  0.173823       1        1  28.657381\n",
              "4     -0.117134  0.071695       2        1  18.441704\n",
              "6     -0.099626 -0.258605       3        1  17.656698\n",
              "0     -0.203595 -0.110778       4        1  13.078667\n",
              "1      0.292054 -0.101151       5        1  10.956295\n",
              "3     -0.044256  0.194696       6        1   7.819196\n",
              "5      0.221292  0.030320       7        1   3.390060, topic_info=     Term         Freq        Total Category  logprob  loglift\n",
              "3251   股利  1679.000000  1679.000000  Default  30.0000  30.0000\n",
              "318    累計  1216.000000  1216.000000  Default  29.0000  29.0000\n",
              "152    盈餘  1125.000000  1125.000000  Default  28.0000  28.0000\n",
              "1217   本期   992.000000   992.000000  Default  27.0000  27.0000\n",
              "71     公司  2785.000000  2785.000000  Default  26.0000  26.0000\n",
              "...   ...          ...          ...      ...      ...      ...\n",
              "2659   標題   124.323068  1303.701910   Topic7  -4.8801   1.0342\n",
              "1563   科技   105.736680   571.365123   Topic7  -5.0420   1.6972\n",
              "7792   廣達    93.886165   337.790952   Topic7  -5.1609   2.1040\n",
              "4133   上市    97.896589   520.739711   Topic7  -5.1190   1.7130\n",
              "6395   網址    92.631931   662.772752   Topic7  -5.1743   1.4165\n",
              "\n",
              "[537 rows x 6 columns], token_table=      Topic      Freq Term\n",
              "term                      \n",
              "589       1  0.032883   一下\n",
              "589       2  0.420627   一下\n",
              "589       3  0.016441   一下\n",
              "589       4  0.523386   一下\n",
              "589       5  0.004110   一下\n",
              "...     ...       ...  ...\n",
              "8834      7  0.438628   高息\n",
              "7717      6  0.997133   鴻海\n",
              "7998      2  0.032220   點數\n",
              "7998      4  0.945129   點數\n",
              "7998      6  0.010740   點數\n",
              "\n",
              "[1394 rows x 3 columns], R=30, lambda_step=0.01, plot_opts={'xlab': 'PC1', 'ylab': 'PC2'}, topic_order=[3, 5, 7, 1, 2, 4, 6])"
            ],
            "text/html": [
              "\n",
              "<link rel=\"stylesheet\" type=\"text/css\" href=\"https://cdn.jsdelivr.net/gh/bmabey/pyLDAvis@3.4.0/pyLDAvis/js/ldavis.v1.0.0.css\">\n",
              "\n",
              "\n",
              "<div id=\"ldavis_el4101332497485449606288697928\" style=\"background-color:white;\"></div>\n",
              "<script type=\"text/javascript\">\n",
              "\n",
              "var ldavis_el4101332497485449606288697928_data = {\"mdsDat\": {\"x\": [-0.04873541881789526, -0.11713399392584181, -0.09962572924918274, -0.20359533685774073, 0.2920544626508992, -0.04425646644690262, 0.22129248264666393], \"y\": [0.1738227019486089, 0.07169491307285923, -0.25860469094906585, -0.11077841977144588, -0.1011507410142514, 0.19469590612954013, 0.03032033058375526], \"topics\": [1, 2, 3, 4, 5, 6, 7], \"cluster\": [1, 1, 1, 1, 1, 1, 1], \"Freq\": [28.657381369966345, 18.441703772778094, 17.656697805186532, 13.078666620420233, 10.956294570574787, 7.819196351996592, 3.390059509077417]}, \"tinfo\": {\"Term\": [\"\\u80a1\\u5229\", \"\\u7d2f\\u8a08\", \"\\u76c8\\u9918\", \"\\u672c\\u671f\", \"\\u516c\\u53f8\", \"\\u5143\\u80a1\", \"\\u73fe\\u91d1\", \"\\u53f0\\u7063\", \"\\u539f\\u6587\", \"\\u80a1\\u606f\", \"\\u8463\\u4e8b\\u6703\", \"\\u5143\\u6708\", \"\\u623f\\u5c4b\", \"\\u80a1\\u6771\", \"\\u914d\\u80a1\", \"\\u4eca\\u5e74\", \"\\u65e5\\u671f\", \"\\u4f86\\u6e90\", \"\\u9577\\u69ae\", \"\\u6a19\\u984c\", \"\\u8cc7\\u8a0a\", \"\\u516c\\u958b\", \"\\u9ad8\\u606f\", \"\\u5104\\u5143\", \"\\u6bcf\\u80a1\", \"\\u8eca\\u4f4d\", \"\\u914d\\u767c\", \"\\u80a1\\u7968\", \"\\u6de8\\u5229\", \"\\u7db2\\u5740\", \"\\u505c\\u640d\", \"\\u53f0\\u96fb\", \"\\u6a5f\\u5668\\u4eba\", \"\\u91d1\\u6cb3\", \"\\u7279\\u65af\\u62c9\", \"\\u4ee3\\u5de5\", \"\\u6838\\u96fb\", \"\\u76ee\\u6a19\\u50f9\", \"\\u5fae\\u8edf\", \"\\u5e73\\u6e96\", \"\\u6210\\u4efd\\u80a1\", \"\\u4ec1\\u52f3\", \"\\u6676\\u7247\", \"\\u767c\\u96fb\", \"\\u8f1d\\u9054\", \"\\u6838\\u80fd\", \"\\u8a55\\u7b49\", \"\\u79d1\\u6280\\u80a1\", \"\\u89e3\\u6c7a\\u65b9\\u6848\", \"\\u4e9e\\u99ac\\u905c\", \"\\u88c1\\u54e1\", \"\\u5104\\u53f0\", \"\\u96fb\\u5ee0\", \"\\u8cbb\\u7387\", \"\\u96fb\\u5546\", \"\\u5bb6\\u6578\", \"\\u5927\\u5abd\", \"\\u91cd\\u96fb\", \"\\u7da0\\u96fb\", \"\\u7def\\u5275\", \"\\u8a55\\u8ad6\", \"\\u96fb\\u50f9\", \"\\u7528\\u96fb\", \"\\u7f72\\u540d\", \"\\u96fb\\u529b\", \"\\u5104\\u7f8e\\u5143\", \"\\u5206\\u6790\\u5e2b\", \"\\u6982\\u5ff5\\u80a1\", \"\\u4eba\\u6c11\\u5e63\", \"\\u539f\\u6587\", \"\\u592a\\u967d\\u80fd\", \"\\u8abf\\u6f32\", \"\\u5408\\u4f5c\", \"\\u7522\\u80fd\", \"\\u7522\\u696d\", \"\\u4eba\\u5de5\\u667a\\u6167\", \"\\u9818\\u57df\", \"\\u4e2d\\u570b\", \"\\u767c\\u5e03\", \"\\u8a18\\u8005\", \"\\u5168\\u7403\", \"\\u6280\\u8853\", \"\\u4f01\\u696d\", \"\\u53f0\\u7a4d\\u96fb\", \"\\u5fc3\\u5f97\", \"\\u61c9\\u7528\", \"\\u7f8e\\u570b\", \"\\u53f0\\u7063\", \"\\u6307\\u51fa\", \"\\u8868\\u793a\", \"\\u80a1\\u50f9\", \"\\u534a\\u5c0e\\u9ad4\", \"\\u6642\\u9593\", \"\\u4eca\\u5e74\", \"\\u79d1\\u6280\", \"\\u9023\\u7d50\", \"\\u5e02\\u5834\", \"\\u53f0\\u80a1\", \"\\u5167\\u5bb9\", \"\\u6210\\u9577\", \"\\u5104\\u5143\", \"\\u6a19\\u984c\", \"\\u516c\\u53f8\", \"\\u672a\\u4f86\", \"\\u53bb\\u5e74\", \"\\u6301\\u7e8c\", \"\\u6295\\u8cc7\", \"\\u76ee\\u524d\", \"\\u7372\\u5229\", \"\\u8cea\\u62bc\", \"\\u4fe1\\u8cb8\", \"\\u907f\\u96aa\", \"\\u91d1\\u878d\\u80a1\", \"\\u5b9a\\u984d\", \"\\u672c\\u91d1\", \"\\u6b50\\u5370\", \"\\u8cf4\\u6e05\\u5fb7\", \"\\u501f\\u9322\", \"\\u6b63\\u4e8c\", \"\\u501f\\u6b3e\", \"\\u5b9a\\u5b58\", \"\\u5957\\u5229\", \"\\u5fc3\\u7406\", \"\\u55ae\\u4f4d\\u540d\\u7a31\", \"\\u570b\\u806f\", \"\\u5e74\\u5316\", \"\\u89c0\\u5ff5\", \"\\u76f4\\u64ad\", \"\\u5229\\u606f\", \"\\u521d\\u5be9\", \"\\u7a7a\\u624b\", \"\\u69d3\\u687f\", \"\\u8ffd\\u9ad8\", \"\\u80a1\\u795e\", \"\\u6578\\u984d\", \"\\u5c0f\\u53f0\", \"\\u901a\\u7e2e\", \"\\u7121\\u8166\", \"\\u4fdd\\u55ae\", \"\\u9592\\u9322\", \"\\u50b5\\u5238\", \"\\u79df\\u8cc3\", \"\\u884c\\u5eab\", \"\\u96f6\\u80a1\", \"\\u8ce3\\u51fa\", \"\\u73fe\\u91d1\\u6d41\", \"\\u5132\\u84c4\", \"\\u90e8\\u4f4d\", \"\\u6563\\u6236\", \"\\u5b58\\u6b3e\", \"\\u5229\\u7387\", \"\\u91d1\\u7ba1\\u6703\", \"\\u5b9a\\u671f\", \"\\u914d\\u606f\", \"\\u64cd\\u4f5c\", \"\\u5143\\u5927\", \"\\u8cc7\\u91d1\", \"\\u80a1\\u7968\", \"\\u8cb7\\u5165\", \"\\u98a8\\u96aa\", \"\\u50f9\\u5dee\", \"\\u9280\\u884c\", \"\\u5347\\u606f\", \"\\u57fa\\u91d1\", \"\\u80a1\\u606f\", \"\\u8cb7\\u9032\", \"\\u671f\\u8ca8\", \"\\u9032\\u5834\", \"\\u8cfa\\u9322\", \"\\u80a1\\u5e02\", \"\\u6295\\u8cc7\", \"\\u73fe\\u5728\", \"\\u8cb8\\u6b3e\", \"\\u6210\\u5206\\u80a1\", \"\\u6de8\\u503c\", \"\\u5927\\u76e4\", \"\\u964d\\u606f\", \"\\u61c9\\u8a72\", \"\\u6295\\u4fe1\", \"\\u8cc7\\u7522\", \"\\u76ee\\u524d\", \"\\u77e5\\u9053\", \"\\u6a19\\u7684\", \"\\u771f\\u7684\", \"\\u5df2\\u7d93\", \"\\u91d1\\u984d\", \"\\u4e00\\u4e0b\", \"\\u554f\\u984c\", \"\\u5e02\\u5834\", \"\\u89ba\\u5f97\", \"\\u80a1\\u50f9\", \"\\u4eca\\u5929\", \"\\u672c\\u6587\", \"\\u672c\\u7ad9\", \"\\u5be6\\u50f9\", \"\\u7269\\u6b0a\", \"\\u9580\\u724c\", \"\\u672c\\u677f\", \"\\u8f49\\u8f09\", \"\\u505c\\u8eca\\u4f4d\", \"\\u5c6c\\u5be6\", \"\\u8a73\\u76e1\", \"\\u9858\\u53d7\", \"\\u5404\\u7d1a\", \"\\u623f\\u5ef3\", \"\\u6a5f\\u80fd\", \"\\u7e3d\\u6a13\", \"\\u7d93\\u7d00\\u4eba\", \"\\u5546\\u5708\", \"\\u516c\\u53f8\\u5730\\u5740\", \"\\u5167\\u4e0a\", \"\\u5761\\u9053\", \"\\u9075\\u5b88\", \"\\u72c0\\u576a\\u4e3b\", \"\\u61c9\\u586b\", \"\\u6771\\u5340\", \"\\u5167\\u4fe1\", \"\\u5f97\\u8996\", \"\\u5b78\\u5340\", \"\\u885b\\u967d\\u53f0\", \"\\u5c4b\\u9f61\", \"\\u6a13\\u5171\\u6a13\", \"\\u8eca\\u4f4d\", \"\\u5efa\\u7269\", \"\\u6b0a\\u72c0\", \"\\u6a13\\u5c64\", \"\\u767b\\u9304\", \"\\u5e73\\u9762\", \"\\u576a\\u6578\", \"\\u4ea4\\u901a\", \"\\u6377\\u904b\", \"\\u623f\\u5c4b\", \"\\u7269\\u4ef6\", \"\\u5927\\u6a13\", \"\\u571f\\u5730\", \"\\u53f0\\u5357\\u5e02\", \"\\u91cd\\u5283\", \"\\u793e\\u5340\", \"\\u5efa\\u8a2d\", \"\\u683c\\u5c40\", \"\\u898f\\u7bc4\", \"\\u958b\\u50f9\", \"\\u59d3\\u540d\", \"\\u9810\\u552e\", \"\\u516c\\u8a2d\", \"\\u540c\\u610f\", \"\\u806f\\u7d61\", \"\\u7e3d\\u50f9\", \"\\u9858\\u610f\", \"\\u623f\\u50f9\", \"\\u4ef2\\u4ecb\", \"\\u8cc7\\u8a0a\", \"\\u898f\\u5283\", \"\\u842c\\u5143\", \"\\u6843\\u5712\", \"\\u9644\\u8fd1\", \"\\u76f8\\u95dc\", \"\\u5167\\u5bb9\", \"\\u65b9\\u5f0f\", \"\\u4ee5\\u4e0a\", \"\\u516c\\u53f8\", \"\\u7279\\u50f9\", \"\\u9019\\u652f\", \"\\u6298\\u6263\", \"\\u963f\\u80a5\", \"\\u66b4\\u8dcc\", \"\\u8cb7\\u4e00\\u9001\\u4e00\", \"\\u6298\\u62b5\", \"\\u514c\\u63db\", \"\\u725b\\u8089\", \"\\u6f22\\u5821\", \"\\u6298\\u50f9\\u5238\", \"\\u731c\\u6e2c\", \"\\u7d50\\u5e33\", \"\\u96de\\u584a\", \"\\u98f2\\u6599\", \"\\u9910\\u9ede\", \"\\u7d93\\u5178\", \"\\u5c4f\\u6771\", \"\\u9650\\u91cf\", \"\\u9810\\u8a2d\", \"\\u7e3d\\u6703\", \"\\u623f\\u87f2\", \"\\u6211\\u7528\", \"\\u7a0b\\u5f0f\", \"\\u5e97\\u54e1\", \"\\u751f\\u65e5\", \"\\u514d\\u904b\", \"\\u9000\\u6b3e\", \"\\u963f\\u7fd4\", \"\\u6599\\u7406\", \"\\u4e09\\u5f35\", \"\\u512a\\u60e0\", \"\\u8a02\\u95b1\", \"\\u5212\\u7b97\", \"\\u56de\\u994b\", \"\\u9ede\\u6578\", \"\\u6d3b\\u52d5\", \"\\u4fbf\\u7576\", \"\\u6703\\u54e1\", \"\\u514d\\u8cbb\", \"\\u8c46\\u8150\", \"\\u5e33\\u865f\", \"\\u623f\\u6771\", \"\\u4fbf\\u5b9c\", \"\\u539f\\u50f9\", \"\\u525b\\u525b\", \"\\u6307\\u5b9a\", \"\\u770b\\u904e\", \"\\u670b\\u53cb\", \"\\u770b\\u5230\", \"\\u5206\\u4eab\", \"\\u89ba\\u5f97\", \"\\u771f\\u7684\", \"\\u6bd4\\u8f03\", \"\\u4e00\\u4e0b\", \"\\u5de5\\u4f5c\", \"\\u767c\\u73fe\", \"\\u77e5\\u9053\", \"\\u6771\\u897f\", \"\\u53ea\\u80fd\", \"\\u76f4\\u63a5\", \"\\u623f\\u5b50\", \"\\u554f\\u984c\", \"\\u597d\\u50cf\", \"\\u73fe\\u5728\", \"\\u61c9\\u8a72\", \"\\u50f9\\u683c\", \"\\u9700\\u8981\", \"\\u4e00\\u9ede\", \"\\u8cb7\\u623f\", \"\\u8acb\\u554f\", \"\\u4e00\\u9593\", \"\\u4f7f\\u7528\", \"\\u5730\\u65b9\", \"\\u76ee\\u524d\", \"\\u5df2\\u7d93\", \"\\u4eca\\u5929\", \"\\u6700\\u8fd1\", \"\\u6642\\u9593\", \"\\u672c\\u671f\", \"\\u671f\\u672b\", \"\\u4edf\\u5143\", \"\\u589e\\u6e1b\", \"\\u89c0\\u6e2c\\u7ad9\", \"\\u6b78\\u5c6c\\u65bc\", \"\\u5143\\u6708\", \"\\u8ca1\\u52d9\\u5831\\u544a\", \"\\u6de8\\u640d\", \"\\u61c9\\u6558\\u660e\", \"\\u81ea\\u7d50\", \"\\u5143\\u80a1\", \"\\u5be9\\u8a08\", \"\\u71df\\u696d\\u6bdb\\u5229\", \"\\u6216\\u7d93\", \"\\u8d77\\u8a16\", \"\\u6bdb\\u640d\", \"\\u80a1\\u7968\\u540d\\u7a31\", \"\\u640d\\u4edf\", \"\\u516c\\u7a4d\\u8f49\", \"\\u63d0\\u5831\", \"\\u5132\\u80fd\", \"\\u6240\\u5c6c\", \"\\u516c\\u7a4d\", \"\\u7a05\\u524d\", \"\\u6de8\\u984d\", \"\\u6b04\\u4f4d\", \"\\u7b2c\\u689d\", \"\\u6f32\\u8dcc\\u5e45\", \"\\u4e8b\\u9805\", \"\\u76c8\\u9918\", \"\\u6cd5\\u5b9a\", \"\\u7d2f\\u8a08\", \"\\u914d\\u80a1\", \"\\u696d\\u4e3b\", \"\\u6de8\\u5229\", \"\\u65e5\\u671f\", \"\\u6bcd\\u516c\\u53f8\", \"\\u71df\\u696d\", \"\\u8463\\u4e8b\\u6703\", \"\\u666e\\u901a\\u80a1\", \"\\u767c\\u653e\", \"\\u6c7a\\u8b70\", \"\\u516c\\u958b\", \"\\u80a1\\u6771\", \"\\u914d\\u767c\", \"\\u80a1\\u5229\", \"\\u73fe\\u91d1\", \"\\u6bcf\\u80a1\", \"\\u7db2\\u5740\", \"\\u589e\\u8cc7\", \"\\u516c\\u53f8\", \"\\u5e74\\u5ea6\", \"\\u4f86\\u6e90\", \"\\u8cc7\\u8a0a\", \"\\u8cc7\\u672c\", \"\\u6a19\\u984c\", \"\\u589e\\u5f35\", \"\\u8cc7\\u589e\", \"\\u9d3b\\u6d77\", \"\\u5f35\\u5238\", \"\\u71c8\\u865f\", \"\\u7d05\\u71c8\", \"\\u7da0\\u71c8\", \"\\u85cd\\u71c8\", \"\\u8cb7\\u9032\\u8ce3\\u51fa\", \"\\u8abf\\u85aa\", \"\\u6539\\u5beb\", \"\\u524d\\u65e5\", \"\\u589e\\u5f35\\u5238\", \"\\u5167\\u8cc7\", \"\\u96fb\\u8cc7\\u589e\", \"\\u5f35\\u5238\\u589e\", \"\\u5206\\u6578\", \"\\u878d\\u5238\", \"\\u6b77\\u5e74\", \"\\u92b7\\u552e\\u91cf\", \"\\u5238\\u589e\", \"\\u8cc7\\u589e\\u5f35\", \"\\u4e0a\\u53f0\", \"\\u70d8\\u7119\", \"\\u4fe1\\u865f\", \"\\u5ee3\\u5dde\", \"\\u66fe\\u656c\\u5fb7\", \"\\u5f35\\u6ac3\", \"\\u6d77\\u95dc\", \"\\u8aaa\\u6703\", \"\\u589e\\u6eab\", \"\\u8f49\\u70ba\", \"\\u92b7\\u552e\\u984d\", \"\\u8cb7\\u6c23\", \"\\u71df\\u5efa\", \"\\u985e\\u80a1\", \"\\u7d71\\u8a08\", \"\\u52de\\u52d5\", \"\\u4fe1\\u7528\", \"\\u51fa\\u8ca8\", \"\\u8cbf\\u6613\", \"\\u65e5\\u5713\", \"\\u623f\\u5e02\", \"\\u666f\\u6c23\", \"\\u5ee3\\u9054\", \"\\u7b2c\\u4e00\\u5b63\", \"\\u5e36\\u52d5\", \"\\u8ca1\\u653f\\u90e8\", \"\\u5e74\\u589e\\u7387\", \"\\u65b0\\u9ad8\", \"\\u4e0b\\u534a\\u5e74\", \"\\u9918\\u984d\", \"\\u56de\\u5347\", \"\\u653f\\u7b56\", \"\\u4eca\\u5e74\", \"\\u8868\\u73fe\", \"\\u5104\\u5143\", \"\\u53bb\\u5e74\", \"\\u6210\\u9577\", \"\\u53d7\\u60e0\", \"\\u6307\\u6a19\", \"\\u589e\\u52a0\", \"\\u6307\\u6578\", \"\\u5e02\\u5834\", \"\\u9810\\u671f\", \"\\u4ea4\\u6613\", \"\\u6301\\u7e8c\", \"\\u8868\\u793a\", \"\\u7d93\\u6fdf\", \"\\u9700\\u6c42\", \"\\u592e\\u884c\", \"\\u8a18\\u8005\", \"\\u5bcc\\u90a6\", \"\\u6771\\u5143\", \"\\u4e16\\u9054\", \"\\u6578\\u6392\", \"\\u806f\\u5927\", \"\\u667a\\u80fd\", \"\\u6771\\u967d\", \"\\u5fa9\\u83ef\", \"\\u5546\\u9280\", \"\\u5927\\u7f8e\\u50b5\", \"\\u6210\\u92fc\", \"\\u91d1\\u5143\", \"\\u8aa0\\u54c1\", \"\\u540d\\u4e2d\", \"\\u4e9e\\u79d1\", \"\\u53f0\\u65b0\", \"\\u91d1\\u5bcc\", \"\\u512a\\u606f\", \"\\u6295\\u63a7\", \"\\u5357\\u4e9e\", \"\\u5bcc\\u6642\", \"\\u4ee3\\u865f\", \"\\u65b0\\u58fd\", \"\\u8b8a\\u58d3\\u5668\", \"\\u9031\\u56db\", \"\\u90a6\\u7279\", \"\\u9078\\u9ad8\", \"\\u512a\\u5229\\u9ad8\", \"\\u6392\\u5217\", \"\\u8acb\\u7559\", \"\\u83ef\\u5357\", \"\\u8ce3\\u8d85\", \"\\u6392\\u884c\", \"\\u83ef\\u65b0\", \"\\u570b\\u6cf0\", \"\\u4e2d\\u4fe1\", \"\\u83ef\\u96fb\", \"\\u6c38\\u8c50\", \"\\u9060\\u6771\", \"\\u8cb7\\u8d85\", \"\\u65b0\\u5149\", \"\\u7389\\u5c71\", \"\\u5b8f\\u7881\", \"\\u9577\\u69ae\", \"\\u6708\\u5149\", \"\\u83ef\\u57ce\", \"\\u5927\\u540c\", \"\\u4e2d\\u8208\", \"\\u6f22\\u5510\", \"\\u7cbe\\u9078\", \"\\u7d71\\u4e00\", \"\\u9ad8\\u606f\", \"\\u6f32\\u8dcc\", \"\\u7fa4\\u76ca\", \"\\u4e0a\\u6d77\", \"\\u80a1\\u606f\", \"\\u6f32\\u505c\", \"\\u5927\\u53f0\\u7063\", \"\\u53f0\\u7063\", \"\\u8b49\\u5238\", \"\\u5916\\u8cc7\", \"\\u4f86\\u6e90\", \"\\u96fb\\u5b50\", \"\\u6a19\\u984c\", \"\\u79d1\\u6280\", \"\\u5ee3\\u9054\", \"\\u4e0a\\u5e02\", \"\\u7db2\\u5740\"], \"Freq\": [1679.0, 1216.0, 1125.0, 992.0, 2785.0, 980.0, 1278.0, 1883.0, 2196.0, 973.0, 881.0, 747.0, 1084.0, 882.0, 737.0, 1438.0, 748.0, 929.0, 506.0, 1303.0, 1444.0, 706.0, 544.0, 1550.0, 725.0, 782.0, 643.0, 1049.0, 586.0, 662.0, 223.9068983153097, 166.42315795493624, 119.8462806930008, 110.7055245022886, 121.08572587064813, 101.68678260065239, 101.26386361649301, 134.28713725036232, 108.43047982503448, 117.00727424692745, 90.59479631771276, 87.51780080753218, 391.4018364853238, 92.2964736896085, 245.24947799520714, 86.64604124493309, 66.41914904721932, 70.88866725802704, 62.26083088977002, 60.63703909099618, 57.762612908221335, 56.828187347893255, 67.42941882492217, 55.501430928871414, 59.05807659180565, 54.69743874019781, 53.38351427534985, 55.00369847106759, 66.4176633267643, 63.51979175046748, 736.0448211241993, 477.1395831340294, 174.54430727923233, 687.6309813757643, 145.38418061972882, 217.31856155021637, 94.33799049046318, 96.87602781997003, 78.54566784895115, 2041.3701775590398, 93.17641478056699, 223.92414716742167, 227.77524732443942, 154.0751540678103, 594.8474249047844, 177.20146798375907, 161.09232854082694, 801.698429555497, 741.0740774703377, 933.6141073263938, 388.58030436655343, 369.6201277655707, 361.1824917999556, 370.002114949877, 780.5082066832367, 169.66677963127051, 687.6709871167972, 1255.7934818464298, 484.8662314009183, 875.8101921947914, 757.841250152851, 369.8734974587787, 834.0687431415827, 799.5587344143298, 401.1824671100559, 672.5942985734831, 846.678668673804, 527.81600200273, 751.5361907545156, 548.752049913243, 693.6743607095661, 613.9246231298994, 861.158621018749, 491.0121375251448, 512.2875578088639, 443.75495329583083, 518.390945754215, 471.42037270341166, 401.3570815401195, 172.57204629999654, 168.9317704974286, 123.62391591407629, 119.16029868286266, 110.47821871437664, 78.20371353693339, 66.84537749517243, 66.09683440857349, 63.023816504865714, 53.22922909106842, 51.27819668224954, 166.65182541242507, 55.11658911324961, 74.50068776042586, 50.753172847937044, 45.80236624931429, 51.90531294670359, 57.62947449708531, 42.06321350581362, 229.5869037428964, 37.87138932176911, 36.982512543761196, 179.16007325261447, 34.44734674759142, 41.9547704197085, 31.28118329870426, 31.428479133146332, 29.80508978752878, 45.28044130709989, 37.9310896335018, 32.8028792354036, 252.1737643764896, 131.91084050121046, 84.23172197574308, 45.65430864708222, 176.64516167009924, 65.52697509862092, 96.63210971538095, 70.50607074734991, 197.82373649001468, 109.15072174318942, 786.8453929314442, 325.7738405074759, 143.9604212183184, 390.978572284645, 225.42031376465738, 225.23033820560002, 622.327429379532, 794.059696649319, 136.58613590035574, 386.9845874870138, 165.41724338324272, 539.8059020028098, 383.5319034803509, 436.1138216873895, 672.7745736775472, 299.96210071108663, 125.08566020749319, 271.2058330269969, 208.15710101509495, 369.4460190007882, 807.3072841775016, 734.3087454959256, 338.37086797881017, 318.8460236637671, 260.4135630025199, 218.06045539586046, 341.8272416362655, 470.62727122361525, 374.9194708526649, 282.65780432180225, 528.8035291669194, 381.36437873845125, 283.6676285782777, 385.57679915434176, 362.13118266300853, 319.0658273547921, 306.94882759722213, 320.0631938577494, 348.8477350456639, 298.53043329014025, 302.19761452376724, 292.0450843442643, 547.167825173242, 353.19797983770496, 546.1118971532118, 253.3681085250588, 308.8588267826589, 189.34048034541675, 192.63182580558856, 213.7494137505879, 184.0187269637087, 177.6084980682131, 176.7226307030646, 176.71758981073876, 178.48079074694087, 283.2970770254313, 214.274599316014, 155.05134836655236, 219.87606268370683, 126.80491660215246, 122.34899601550269, 126.36842295721493, 190.9602540027263, 117.00804159708113, 118.7698830800379, 147.72390529713408, 118.74447023506461, 112.53608541594606, 253.32508232599432, 100.0746026658583, 308.6485183733017, 89.37591400830067, 775.2986864230398, 640.8057342588942, 277.41570521142586, 311.087734724049, 547.3608873801145, 201.4628539334127, 271.4250611409402, 401.476233016791, 370.8205027960579, 1048.6319833077298, 504.1796114154836, 462.98535994473434, 620.4352502178538, 231.34393395668985, 307.41532558849093, 477.61851467767804, 649.7904302185248, 578.0263818489748, 409.1223537575553, 257.0499643722196, 282.72215730186144, 476.18324958711327, 361.664178344956, 405.71300378648056, 282.3303966148074, 290.3048898139301, 397.04457420521334, 475.0136037992603, 324.03963279013436, 610.3305632443828, 347.590880196703, 388.0033170521631, 316.17760705876924, 325.891624876989, 379.33992836322165, 399.92637693296126, 326.1852667779845, 339.9259057247988, 350.22742565137014, 78.69560685006265, 59.50991847808409, 58.44358077824921, 52.6825905931763, 48.28302559374935, 46.71639454035196, 43.65785431516118, 69.3743865529387, 40.31330407059459, 50.0211656364589, 36.37001957532579, 34.21908634033198, 34.21908634033198, 33.08053316865378, 32.495301189888075, 31.708461254156415, 48.86729837464477, 35.61236718551676, 32.069428360744254, 34.52387973256231, 36.054267071795884, 44.280193653682716, 26.90967332350279, 27.632370117360786, 26.193830568066563, 26.26760611460696, 26.644712368502685, 26.861110715617922, 49.34561102911848, 25.18154054439778, 26.705911765188226, 249.69121582163558, 47.586545037468674, 64.1489558622837, 144.37078985238773, 88.0433318791425, 251.2358992517328, 83.56109210848973, 135.92161639759533, 88.76729474068752, 230.99319320213795, 72.41406622843483, 97.17149247311765, 224.87017381015337, 45.0982865345826, 100.87291577665715, 69.18586190791994, 80.38000976151046, 183.22105256448813, 428.38406061944977, 217.95743688882632, 401.24015742367226, 513.8771536429002, 433.948878302155, 381.7685141586323, 211.6809164368951, 248.83791927636995, 416.7821029923953, 131.39337923022035, 193.09349925457795, 299.63830271682497, 283.50408002635794, 390.59181153371225, 160.68545934527245, 524.2018566161981, 383.3808192010408, 324.2504821483683, 239.78040121673436, 180.8358765944129, 183.5020497643426, 172.40941518114678, 153.59949349362444, 244.91308739606936, 170.73714740903876, 336.5392107501965, 266.03729996354406, 219.29681522380622, 202.87561229083016, 226.35311576814027, 990.9177618373209, 366.0377527425668, 421.20679754548354, 314.47507711829195, 383.96901122028737, 288.34865353768794, 744.3268260990932, 227.35324771109777, 256.4623443091219, 374.6414741745719, 199.4543403769728, 974.5814197840398, 151.4118548503418, 122.56374614365711, 121.16393334600423, 121.16393334600423, 119.76419443724618, 114.98487599769719, 110.86513909262365, 335.0662126615717, 129.2936698325197, 96.34376074998035, 326.23868176714024, 378.4366541091245, 223.9778552176803, 89.24219439236931, 162.35172147004403, 101.62410747052509, 64.04577954389408, 475.70995562823305, 1101.5117040563034, 347.8490653552742, 1178.5102376501432, 715.7267008382586, 297.5605790926332, 565.3821094995918, 717.9471113870275, 333.05069601815393, 467.8002972149553, 830.7163919289353, 241.21364678767185, 472.23880312712174, 484.4392389221783, 648.1092983685143, 788.2219033295385, 583.2967676056084, 1373.1301384720273, 1019.6420204414623, 584.8412425445136, 525.9020415127585, 443.52892822783974, 1282.464425261582, 417.16670055421605, 603.4713914487568, 654.5802907402767, 434.9758945776849, 435.33755608822406, 314.02379976107676, 163.60011094936505, 173.5282695911512, 137.55340465885132, 70.04024988305835, 53.37096498290081, 49.20920043517562, 38.659805709099345, 36.54512855434722, 35.16636728449296, 35.63245803788843, 32.69918717670592, 31.593386419345475, 30.964635967157175, 30.10705763218359, 29.25222138233777, 35.54728421579088, 45.92852848126802, 27.01318803042127, 24.74888267278399, 19.809523864529094, 19.809137160216206, 20.11786342728513, 33.435162385560865, 17.478923984842584, 24.81480037784651, 16.74996548180135, 14.71663355673081, 14.430041717207628, 14.456934145830433, 25.512241380795437, 29.50872938406501, 18.48760373430242, 61.65067784308048, 114.20714247259018, 115.17447452254936, 186.57296617785926, 52.57308852059676, 136.1741797832583, 156.29686602853658, 59.2504832715836, 55.16037327528999, 207.34953426129647, 156.3027896355113, 223.15253997944043, 72.77722436177743, 181.85657975810642, 75.37163238568877, 54.869756195419, 195.90238350101083, 114.88572065436774, 106.94844764635349, 76.01466013688365, 186.3565523823912, 466.78799884908466, 190.74431044606285, 466.8779954891753, 379.20885834789084, 331.4500319875128, 120.00587032044936, 131.954875391522, 213.61489996126653, 251.20298103339525, 337.41322342189704, 176.98276952806992, 228.71797087308013, 195.50525574914187, 200.43318700551416, 138.7332834611497, 142.8801862590318, 126.15117312000156, 135.98165376784556, 156.21059408729658, 124.02818075394289, 86.73211532831863, 56.23444745892363, 78.66664643004681, 57.22305414472126, 48.790193275652726, 144.76127664172134, 46.15332578768547, 48.88213462336118, 37.569683242203844, 38.589798196234774, 37.700932764430945, 35.11114668440789, 37.59832227280506, 32.590409017573315, 32.96900358948333, 52.568167620083116, 70.59574388919417, 36.041930420581586, 31.525077850579464, 37.020542404773714, 40.397993276135225, 28.556874382643596, 28.686607362271005, 26.90850879423906, 26.385072972832848, 24.88852358676053, 27.36851846026042, 22.781339085003992, 71.24333806253094, 116.89464633522444, 262.8214964666567, 39.58056919408422, 281.66774663182053, 250.06741892815054, 51.83119650398662, 213.39133745556816, 95.52246872679191, 212.9361003262456, 127.64389266102333, 76.37590502280369, 79.44149300705018, 329.3727812796314, 70.61612195407646, 61.502066729148346, 118.11310067468038, 92.20448690154446, 78.3793340051675, 82.58453135532012, 158.86094661109377, 239.10002671332563, 110.22176744677519, 116.95519372695586, 65.07177176349342, 220.2606810084398, 98.6481925786473, 71.96281940341993, 210.23019204590693, 128.54198309190718, 125.87714339483355, 127.65449321758702, 91.2278791922454, 124.32306827100358, 105.73668034758295, 93.8861649866269, 97.89658949374974, 92.63193091096213], \"Total\": [1679.0, 1216.0, 1125.0, 992.0, 2785.0, 980.0, 1278.0, 1883.0, 2196.0, 973.0, 881.0, 747.0, 1084.0, 882.0, 737.0, 1438.0, 748.0, 929.0, 506.0, 1303.0, 1444.0, 706.0, 544.0, 1550.0, 725.0, 782.0, 643.0, 1049.0, 586.0, 662.0, 224.85392698243737, 167.39895615597018, 120.81808509019751, 111.64045876437574, 122.13830825170588, 102.62011937538823, 102.19898236161251, 135.54336665683658, 109.50646530951666, 118.16863161862655, 91.52980668610729, 88.47038682864296, 395.79718623181094, 93.34473337193941, 248.06911421075668, 87.65293534592016, 67.35918037041708, 71.92445806436082, 63.19176867226299, 61.61505253275921, 58.69798240110222, 57.77694209547393, 68.5860431013193, 56.45770722311947, 60.090482719560875, 55.65486996735659, 54.321868190157325, 55.97761964440596, 67.60943661737834, 64.67718654814858, 750.85882932084, 490.9258489243392, 177.81291784950133, 711.5059124973675, 148.4971768156979, 222.90706337215516, 96.10820914663338, 98.82900981150887, 80.00714577331681, 2196.81069825083, 95.2256827554642, 233.2283825143025, 237.88502913382723, 159.93967490396292, 651.9067005656872, 185.0893089055813, 167.78996214169757, 893.1025081933153, 828.0875648331181, 1089.7107728064714, 439.369183386628, 417.88486994370317, 408.2873544674433, 424.83864032551264, 990.7018398297117, 181.74866830113638, 924.5319009389848, 1883.904373368434, 624.2226142737788, 1287.933498478585, 1089.6383768151288, 484.37080515167327, 1486.3676191827317, 1438.9616823459894, 571.3651231665144, 1175.3015507581165, 1635.1570709865068, 856.8700835595217, 1538.9875631277532, 976.5705044899893, 1550.3459515530055, 1303.7019095604203, 2785.54618898448, 994.2577466806995, 1189.4380550408118, 774.5135500747157, 1557.3820070771467, 1695.7001752434503, 703.8118052739421, 173.60823966347073, 170.06336142154777, 124.54301447777382, 120.07780785842934, 111.43783522324794, 79.32858824143801, 67.85445725058676, 67.15229028677732, 64.05008944681767, 54.1686917158158, 52.21414849628448, 169.73410751775288, 56.14158548190422, 75.8945256672781, 51.70354256497547, 46.74300184178904, 53.02050249615152, 58.8865796825507, 43.0291565772624, 234.942352159868, 38.788443041954345, 37.89397845720238, 183.7980401722795, 35.36548493627762, 43.184479377599665, 32.21208566936404, 32.3905818209113, 30.73121448111231, 46.68749403557771, 39.1195305197428, 33.83759628435762, 265.9347192106174, 138.77540366176189, 88.02703188707953, 47.26101123202506, 188.30628853008096, 68.51296549263364, 102.37932170969728, 74.05442509915753, 218.35943132366614, 116.87657152756822, 953.1668684925193, 375.42260769746827, 158.15166630022236, 458.48088327545685, 258.24343303452594, 260.2339101850483, 790.6129737237411, 1049.254270541785, 152.15227366773422, 484.6694919424281, 189.57618777440555, 730.7527476996676, 495.4114736871157, 587.7959775937843, 973.6112868949881, 389.74584137348955, 138.79302200083853, 358.1586310950407, 262.15477785376714, 542.8576563488002, 1557.3820070771467, 1558.2236598018408, 523.4818152954019, 497.32392608759056, 374.48028943454807, 288.3720953285322, 588.2336670677346, 1070.6927969799945, 785.8648818834737, 472.41467270056455, 1695.7001752434503, 904.7668810027395, 500.8151814046905, 999.7879123767468, 980.5907385409005, 822.7356672290745, 729.8634781856493, 926.2791082626819, 1635.1570709865068, 721.439202102976, 1089.6383768151288, 803.0917200230537, 548.4439487532472, 354.0960203456455, 547.7286984815506, 254.22866358283895, 310.0660822159458, 190.1875558730659, 193.49933994524363, 214.71422034027472, 184.8755168689377, 178.44356923350833, 177.55580572434246, 177.55120458803293, 179.32844651405549, 284.8715911089751, 215.49803964743188, 155.960270454183, 221.17850557409312, 127.62122385649458, 123.16213070706334, 127.21859298228466, 192.26364557413942, 117.8164487459221, 119.59216442313947, 148.7502526590618, 119.58459515880241, 113.35212615681985, 255.28006754764982, 100.87755155309945, 311.2820246826496, 90.17581073489768, 782.8054648864522, 647.6200251435379, 280.063549052014, 314.84816738793967, 557.7938901159722, 203.3201139630098, 275.03423027181634, 408.46447656840286, 377.1664549910945, 1084.83822636428, 518.1850212103521, 475.7856384871471, 644.1009230534141, 234.32500093425568, 314.7158616901381, 498.27456743946277, 701.7446805477065, 622.3388939561169, 436.63827907683316, 265.1858197637509, 294.85891189629183, 537.3969875258733, 406.90825608293636, 474.282021211628, 303.3432729615124, 316.1302953307773, 527.9339821114725, 710.1790327839974, 382.26529764614025, 1444.9289158215138, 470.12964832680166, 627.2400883864082, 384.39238229456896, 423.027277591472, 867.5571843935843, 1538.9875631277532, 579.432392416348, 1093.157370233048, 2785.54618898448, 79.56451725151982, 60.34724691483296, 59.31449736948603, 53.52814275227647, 49.11868545543626, 47.54504115144201, 44.5030838827546, 70.84119132717754, 41.17280453437827, 51.1016181603155, 37.234134150218644, 35.055086608532605, 35.058255928478175, 33.90449027348843, 33.33524575348378, 32.534012329444195, 50.177589260197514, 36.57365319425915, 32.94780319538687, 35.47896644978227, 37.123461021412425, 45.618075270614504, 27.741975454940775, 28.497337701584467, 27.021389048746073, 27.09784909296451, 27.48968294893929, 27.72725422098896, 50.96593546346653, 26.014250575544445, 27.58907688996724, 265.6152772634793, 49.52988724697685, 67.361175217204, 154.80172112792462, 93.10899893027565, 274.94351526474037, 88.7090009921666, 150.19130784543418, 96.16545835376617, 289.98441569754135, 80.71393830394899, 112.16136284115217, 292.2372960570501, 47.82014355987172, 122.14295367483233, 79.57210947862801, 95.2325009121888, 255.36351870520005, 744.0525390195753, 324.151566585147, 721.439202102976, 999.7879123767468, 810.9070758929729, 729.8634781856493, 338.4868500839336, 437.0601647128551, 904.7668810027395, 190.05485336644117, 322.44274480722197, 599.2044251281042, 554.5700004123386, 926.2791082626819, 262.6777191951839, 1558.2236598018408, 1070.6927969799945, 900.6977651703446, 540.8957522485928, 344.9179364973507, 356.8557760972821, 321.47984257024433, 260.3433013886127, 673.7564146155178, 329.24083971256886, 1695.7001752434503, 980.5907385409005, 803.0917200230537, 670.0465284950383, 1486.3676191827317, 992.2206376058106, 367.0363096543587, 422.4728984791567, 315.5601457717596, 385.3120742653031, 289.36947381097514, 747.0821446861631, 228.325809580033, 257.56560067307066, 376.2838131941584, 200.61906038193223, 980.6647557490119, 152.39009595901274, 123.4912905499367, 122.09058793912077, 122.09058793912077, 120.68953839250882, 115.88752634762709, 111.78805253403783, 337.8821785716789, 130.42402125145227, 97.42822343906427, 330.14429452906757, 382.9808230834979, 226.8077070831127, 90.42106429359335, 164.60170213276348, 103.05830057089233, 64.98579452812432, 482.80110572073124, 1125.6308851620868, 353.76345031574056, 1216.869624503241, 737.3738393138904, 304.047925949611, 586.1220940424838, 748.1750694832996, 341.9403194898115, 484.6540606613849, 881.6289940094624, 246.85632408052578, 494.9473686817714, 517.6341436048787, 706.6430612828246, 882.4260217716264, 643.2375939678639, 1679.5476737484641, 1278.623836131302, 725.0523289678385, 662.7727523494968, 528.6031648941923, 2785.54618898448, 495.7682046822589, 929.9083898312216, 1444.9289158215138, 631.0447587168873, 1303.7019095604203, 314.91851180754924, 164.49271674851545, 174.5002187068783, 138.44620702859024, 70.96105924084357, 54.276416566057485, 50.2090486147151, 39.550799202907115, 37.44344064148252, 36.059686133024805, 36.571349247845696, 33.590241966779516, 32.48414925860217, 31.861723362577177, 30.997723375002977, 30.14294604390745, 36.68675361277092, 47.434118089246475, 27.906148757686893, 25.673260565080827, 20.700162889371523, 20.69992251213421, 21.044910069354472, 35.12413740319488, 18.370392041828662, 26.08974975531405, 17.648235133814335, 15.607189061026997, 15.321318368954179, 15.353616607420008, 27.115282253338364, 31.419719115943654, 19.649659272292297, 66.69432251724893, 129.10974899174454, 131.67248077085574, 226.42948852916044, 58.596354452249464, 163.35023700213972, 190.73656301452039, 67.20200088730128, 63.10107923994189, 290.7676250799539, 215.1168932152331, 337.79095185139175, 89.89872576520983, 281.99840129850224, 96.14417071326504, 64.94313731788802, 335.9554931078824, 178.05947584498094, 162.44842437216587, 104.48215176038073, 374.58397684057223, 1438.9616823459894, 395.03818731558033, 1550.3459515530055, 1189.4380550408118, 976.5705044899893, 208.89318135486764, 244.36856980152535, 569.7398230060853, 765.6750756878178, 1635.1570709865068, 500.2964567098939, 933.3657930243814, 774.5135500747157, 1287.933498478585, 493.31581631387274, 640.4604899298785, 355.01423463299903, 1089.7107728064714, 157.26399338470335, 124.99953880762956, 88.13639560451803, 57.17697633354419, 80.095355329679, 58.296550271781165, 49.78930888799864, 147.77112188806072, 47.151027425537436, 49.9868107962174, 38.51395974990025, 39.57122644718396, 38.687027689076984, 36.048288882331995, 38.63258451384064, 33.52306509654911, 33.94387531600199, 54.13170005740718, 72.7044296452303, 37.13983350841098, 32.48870234350645, 38.15901546951117, 41.691188543205726, 29.488481542276297, 29.62647571003569, 27.84498492462971, 27.32046863248554, 25.823357671247706, 28.47175621253623, 23.719568656620485, 74.83203669897017, 123.57179395680667, 284.2167123348644, 41.42236907787192, 322.6579069725871, 294.9758606049628, 55.76116573776067, 262.1506386501863, 110.48742820868515, 272.25600790828656, 153.88190486065326, 88.38377502206232, 93.16793172287534, 506.94894173264254, 84.0058825734949, 73.36539006929405, 173.18775037470675, 125.64323519648006, 103.81755558555706, 111.92510776727092, 294.63899659963135, 544.8813873363473, 184.58204792778628, 228.95134281151664, 81.26105059464686, 973.6112868949881, 199.50977715672917, 103.36311897908979, 1883.904373368434, 555.7934717427986, 671.1120890917473, 929.9083898312216, 226.84889368101494, 1303.7019095604203, 571.3651231665144, 337.79095185139175, 520.7397106420891, 662.7727523494968], \"Category\": [\"Default\", \"Default\", \"Default\", \"Default\", \"Default\", \"Default\", \"Default\", \"Default\", \"Default\", \"Default\", \"Default\", \"Default\", \"Default\", \"Default\", \"Default\", \"Default\", \"Default\", \"Default\", \"Default\", \"Default\", \"Default\", \"Default\", \"Default\", \"Default\", \"Default\", \"Default\", \"Default\", \"Default\", \"Default\", \"Default\", \"Topic1\", \"Topic1\", \"Topic1\", \"Topic1\", \"Topic1\", \"Topic1\", \"Topic1\", \"Topic1\", \"Topic1\", \"Topic1\", \"Topic1\", \"Topic1\", \"Topic1\", \"Topic1\", \"Topic1\", \"Topic1\", \"Topic1\", \"Topic1\", \"Topic1\", \"Topic1\", \"Topic1\", \"Topic1\", \"Topic1\", \"Topic1\", \"Topic1\", \"Topic1\", \"Topic1\", \"Topic1\", \"Topic1\", \"Topic1\", \"Topic1\", \"Topic1\", \"Topic1\", \"Topic1\", \"Topic1\", \"Topic1\", \"Topic1\", \"Topic1\", \"Topic1\", \"Topic1\", \"Topic1\", \"Topic1\", \"Topic1\", \"Topic1\", \"Topic1\", \"Topic1\", \"Topic1\", \"Topic1\", \"Topic1\", \"Topic1\", \"Topic1\", \"Topic1\", \"Topic1\", \"Topic1\", \"Topic1\", \"Topic1\", \"Topic1\", \"Topic1\", \"Topic1\", \"Topic1\", \"Topic1\", \"Topic1\", \"Topic1\", \"Topic1\", \"Topic1\", \"Topic1\", \"Topic1\", \"Topic1\", \"Topic1\", \"Topic1\", \"Topic1\", \"Topic1\", \"Topic1\", \"Topic1\", \"Topic1\", \"Topic1\", \"Topic1\", \"Topic1\", \"Topic1\", \"Topic2\", \"Topic2\", \"Topic2\", \"Topic2\", \"Topic2\", \"Topic2\", \"Topic2\", \"Topic2\", \"Topic2\", \"Topic2\", \"Topic2\", \"Topic2\", \"Topic2\", \"Topic2\", \"Topic2\", \"Topic2\", \"Topic2\", \"Topic2\", \"Topic2\", \"Topic2\", \"Topic2\", \"Topic2\", \"Topic2\", \"Topic2\", \"Topic2\", \"Topic2\", \"Topic2\", \"Topic2\", \"Topic2\", \"Topic2\", \"Topic2\", \"Topic2\", \"Topic2\", \"Topic2\", \"Topic2\", \"Topic2\", \"Topic2\", \"Topic2\", \"Topic2\", \"Topic2\", \"Topic2\", \"Topic2\", \"Topic2\", \"Topic2\", \"Topic2\", \"Topic2\", \"Topic2\", \"Topic2\", \"Topic2\", \"Topic2\", \"Topic2\", \"Topic2\", \"Topic2\", \"Topic2\", \"Topic2\", \"Topic2\", \"Topic2\", \"Topic2\", \"Topic2\", \"Topic2\", \"Topic2\", \"Topic2\", \"Topic2\", \"Topic2\", \"Topic2\", \"Topic2\", \"Topic2\", \"Topic2\", \"Topic2\", \"Topic2\", \"Topic2\", \"Topic2\", \"Topic2\", \"Topic2\", \"Topic2\", \"Topic2\", \"Topic2\", \"Topic2\", \"Topic2\", \"Topic2\", \"Topic2\", \"Topic2\", \"Topic2\", \"Topic3\", \"Topic3\", \"Topic3\", \"Topic3\", \"Topic3\", \"Topic3\", \"Topic3\", \"Topic3\", \"Topic3\", \"Topic3\", \"Topic3\", \"Topic3\", \"Topic3\", \"Topic3\", \"Topic3\", \"Topic3\", \"Topic3\", \"Topic3\", \"Topic3\", \"Topic3\", \"Topic3\", \"Topic3\", \"Topic3\", \"Topic3\", \"Topic3\", \"Topic3\", \"Topic3\", \"Topic3\", \"Topic3\", \"Topic3\", \"Topic3\", \"Topic3\", \"Topic3\", \"Topic3\", \"Topic3\", \"Topic3\", \"Topic3\", \"Topic3\", \"Topic3\", \"Topic3\", \"Topic3\", \"Topic3\", \"Topic3\", \"Topic3\", \"Topic3\", \"Topic3\", \"Topic3\", \"Topic3\", \"Topic3\", \"Topic3\", \"Topic3\", \"Topic3\", \"Topic3\", \"Topic3\", \"Topic3\", \"Topic3\", \"Topic3\", \"Topic3\", \"Topic3\", \"Topic3\", \"Topic3\", \"Topic3\", \"Topic3\", \"Topic3\", \"Topic3\", \"Topic3\", \"Topic3\", \"Topic3\", \"Topic3\", \"Topic4\", \"Topic4\", \"Topic4\", \"Topic4\", \"Topic4\", \"Topic4\", \"Topic4\", \"Topic4\", \"Topic4\", \"Topic4\", \"Topic4\", \"Topic4\", \"Topic4\", \"Topic4\", \"Topic4\", \"Topic4\", \"Topic4\", \"Topic4\", \"Topic4\", \"Topic4\", \"Topic4\", \"Topic4\", \"Topic4\", \"Topic4\", \"Topic4\", \"Topic4\", \"Topic4\", \"Topic4\", \"Topic4\", \"Topic4\", \"Topic4\", \"Topic4\", \"Topic4\", \"Topic4\", \"Topic4\", \"Topic4\", \"Topic4\", \"Topic4\", \"Topic4\", \"Topic4\", \"Topic4\", \"Topic4\", \"Topic4\", \"Topic4\", \"Topic4\", \"Topic4\", \"Topic4\", \"Topic4\", \"Topic4\", \"Topic4\", \"Topic4\", \"Topic4\", \"Topic4\", \"Topic4\", \"Topic4\", \"Topic4\", \"Topic4\", \"Topic4\", \"Topic4\", \"Topic4\", \"Topic4\", \"Topic4\", \"Topic4\", \"Topic4\", \"Topic4\", \"Topic4\", \"Topic4\", \"Topic4\", \"Topic4\", \"Topic4\", \"Topic4\", \"Topic4\", \"Topic4\", \"Topic4\", \"Topic4\", \"Topic4\", \"Topic4\", \"Topic4\", \"Topic4\", \"Topic5\", \"Topic5\", \"Topic5\", \"Topic5\", \"Topic5\", \"Topic5\", \"Topic5\", \"Topic5\", \"Topic5\", \"Topic5\", \"Topic5\", \"Topic5\", \"Topic5\", \"Topic5\", \"Topic5\", \"Topic5\", \"Topic5\", \"Topic5\", \"Topic5\", \"Topic5\", \"Topic5\", \"Topic5\", \"Topic5\", \"Topic5\", \"Topic5\", \"Topic5\", \"Topic5\", \"Topic5\", \"Topic5\", \"Topic5\", \"Topic5\", \"Topic5\", \"Topic5\", \"Topic5\", \"Topic5\", \"Topic5\", \"Topic5\", \"Topic5\", \"Topic5\", \"Topic5\", \"Topic5\", \"Topic5\", \"Topic5\", \"Topic5\", \"Topic5\", \"Topic5\", \"Topic5\", \"Topic5\", \"Topic5\", \"Topic5\", \"Topic5\", \"Topic5\", \"Topic5\", \"Topic5\", \"Topic5\", \"Topic5\", \"Topic5\", \"Topic6\", \"Topic6\", \"Topic6\", \"Topic6\", \"Topic6\", \"Topic6\", \"Topic6\", \"Topic6\", \"Topic6\", \"Topic6\", \"Topic6\", \"Topic6\", \"Topic6\", \"Topic6\", \"Topic6\", \"Topic6\", \"Topic6\", \"Topic6\", \"Topic6\", \"Topic6\", \"Topic6\", \"Topic6\", \"Topic6\", \"Topic6\", \"Topic6\", \"Topic6\", \"Topic6\", \"Topic6\", \"Topic6\", \"Topic6\", \"Topic6\", \"Topic6\", \"Topic6\", \"Topic6\", \"Topic6\", \"Topic6\", \"Topic6\", \"Topic6\", \"Topic6\", \"Topic6\", \"Topic6\", \"Topic6\", \"Topic6\", \"Topic6\", \"Topic6\", \"Topic6\", \"Topic6\", \"Topic6\", \"Topic6\", \"Topic6\", \"Topic6\", \"Topic6\", \"Topic6\", \"Topic6\", \"Topic6\", \"Topic6\", \"Topic6\", \"Topic6\", \"Topic6\", \"Topic6\", \"Topic6\", \"Topic6\", \"Topic6\", \"Topic6\", \"Topic6\", \"Topic6\", \"Topic6\", \"Topic6\", \"Topic6\", \"Topic6\", \"Topic6\", \"Topic6\", \"Topic7\", \"Topic7\", \"Topic7\", \"Topic7\", \"Topic7\", \"Topic7\", \"Topic7\", \"Topic7\", \"Topic7\", \"Topic7\", \"Topic7\", \"Topic7\", \"Topic7\", \"Topic7\", \"Topic7\", \"Topic7\", \"Topic7\", \"Topic7\", \"Topic7\", \"Topic7\", \"Topic7\", \"Topic7\", \"Topic7\", \"Topic7\", \"Topic7\", \"Topic7\", \"Topic7\", \"Topic7\", \"Topic7\", \"Topic7\", \"Topic7\", \"Topic7\", \"Topic7\", \"Topic7\", \"Topic7\", \"Topic7\", \"Topic7\", \"Topic7\", \"Topic7\", \"Topic7\", \"Topic7\", \"Topic7\", \"Topic7\", \"Topic7\", \"Topic7\", \"Topic7\", \"Topic7\", \"Topic7\", \"Topic7\", \"Topic7\", \"Topic7\", \"Topic7\", \"Topic7\", \"Topic7\", \"Topic7\", \"Topic7\", \"Topic7\", \"Topic7\", \"Topic7\", \"Topic7\", \"Topic7\", \"Topic7\", \"Topic7\", \"Topic7\", \"Topic7\", \"Topic7\", \"Topic7\", \"Topic7\"], \"logprob\": [30.0, 29.0, 28.0, 27.0, 26.0, 25.0, 24.0, 23.0, 22.0, 21.0, 20.0, 19.0, 18.0, 17.0, 16.0, 15.0, 14.0, 13.0, 12.0, 11.0, 10.0, 9.0, 8.0, 7.0, 6.0, 5.0, 4.0, 3.0, 2.0, 1.0, -6.4263, -6.723, -7.0513, -7.1306, -7.041, -7.2156, -7.2198, -6.9375, -7.1514, -7.0753, -7.3311, -7.3657, -5.8678, -7.3125, -6.3352, -7.3757, -7.6415, -7.5764, -7.7062, -7.7326, -7.7812, -7.7975, -7.6264, -7.8211, -7.759, -7.8357, -7.86, -7.8301, -7.6415, -7.6861, -5.2362, -5.6697, -6.6753, -5.3042, -6.8581, -6.4561, -7.2906, -7.2641, -7.4738, -4.2161, -7.303, -6.4262, -6.4091, -6.8001, -5.4492, -6.6602, -6.7555, -5.1508, -5.2294, -4.9984, -5.875, -5.925, -5.9481, -5.924, -5.1776, -6.7037, -5.3042, -4.702, -5.6536, -5.0623, -5.207, -5.9243, -5.1112, -5.1534, -5.8431, -5.3264, -5.0962, -5.5688, -5.2154, -5.5299, -5.2955, -5.4176, -5.0792, -5.641, -5.5986, -5.7422, -5.5868, -5.6817, -5.8426, -6.2459, -6.2672, -6.5795, -6.6162, -6.6919, -7.0374, -7.1943, -7.2056, -7.2532, -7.4221, -7.4594, -6.2808, -7.3873, -7.0859, -7.4697, -7.5724, -7.4473, -7.3427, -7.6575, -5.9604, -7.7625, -7.7863, -6.2084, -7.8573, -7.6601, -7.9537, -7.949, -8.002, -7.5838, -7.7609, -7.9062, -5.8666, -6.5146, -6.9631, -7.5756, -6.2226, -7.2142, -6.8258, -7.141, -6.1093, -6.704, -4.7287, -5.6105, -6.4272, -5.4281, -5.9787, -5.9796, -4.9632, -4.7195, -6.4797, -5.4383, -6.2882, -5.1055, -5.4473, -5.3188, -4.8853, -5.693, -6.5677, -5.7938, -6.0584, -5.4847, -4.703, -4.7978, -5.5726, -5.632, -5.8344, -6.0119, -5.5624, -5.2426, -5.47, -5.7525, -5.1261, -5.4529, -5.7489, -5.442, -5.5047, -5.6313, -5.67, -5.6282, -5.5421, -5.6978, -5.6856, -5.7198, -5.0484, -5.4862, -5.0504, -5.8184, -5.6203, -6.1097, -6.0924, -5.9884, -6.1382, -6.1736, -6.1786, -6.1787, -6.1687, -5.7067, -5.9859, -6.3094, -5.9601, -6.5106, -6.5463, -6.514, -6.1011, -6.591, -6.576, -6.3579, -6.5762, -6.6299, -5.8185, -6.7473, -5.621, -6.8604, -4.7, -4.8905, -5.7277, -5.6131, -5.0481, -6.0476, -5.7495, -5.3581, -5.4375, -4.398, -5.1303, -5.2155, -4.9228, -5.9093, -5.625, -5.1844, -4.8766, -4.9936, -5.3392, -5.8039, -5.7087, -5.1874, -5.4625, -5.3476, -5.7101, -5.6823, -5.3692, -5.1899, -5.5723, -4.9392, -5.5022, -5.3922, -5.5969, -5.5666, -5.4148, -5.3619, -5.5657, -5.5245, -5.4946, -6.6875, -6.9669, -6.985, -7.0888, -7.176, -7.209, -7.2767, -6.8136, -7.3564, -7.1406, -7.4593, -7.5203, -7.5203, -7.5541, -7.572, -7.5965, -7.164, -7.4804, -7.5852, -7.5114, -7.468, -7.2625, -7.7606, -7.7341, -7.7875, -7.7847, -7.7705, -7.7624, -7.1542, -7.827, -7.7682, -5.5328, -7.1905, -6.8919, -6.0807, -6.5752, -5.5267, -6.6275, -6.141, -6.5671, -5.6107, -6.7707, -6.4766, -5.6375, -7.2442, -6.4392, -6.8163, -6.6663, -5.8424, -4.9931, -5.6688, -5.0585, -4.8111, -4.9801, -5.1083, -5.698, -5.5363, -5.0205, -6.1749, -5.7899, -5.3505, -5.4058, -5.0854, -5.9736, -4.7912, -5.104, -5.2716, -5.5733, -5.8555, -5.8408, -5.9032, -6.0187, -5.5522, -5.9129, -5.2344, -5.4694, -5.6626, -5.7405, -5.631, -3.9774, -4.9733, -4.8329, -5.1251, -4.9254, -5.2118, -4.2635, -5.4495, -5.329, -4.95, -5.5804, -3.994, -5.856, -6.0674, -6.0789, -6.0789, -6.0905, -6.1312, -6.1677, -5.0617, -6.0139, -6.3081, -5.0884, -4.94, -5.4645, -6.3846, -5.7862, -6.2547, -6.7164, -4.7112, -3.8716, -5.0242, -3.804, -4.3027, -5.1804, -4.5385, -4.2996, -5.0677, -4.728, -4.1537, -5.3903, -4.7185, -4.693, -4.4019, -4.2062, -4.5073, -3.6512, -3.9488, -4.5047, -4.6109, -4.7812, -3.7195, -4.8425, -4.4733, -4.392, -4.8007, -4.7999, -4.7892, -5.4412, -5.3823, -5.6147, -6.2896, -6.5614, -6.6426, -6.8839, -6.9401, -6.9786, -6.9654, -7.0513, -7.0857, -7.1058, -7.1339, -7.1627, -6.9678, -6.7116, -7.2423, -7.3299, -7.5525, -7.5525, -7.5371, -7.0291, -7.6777, -7.3272, -7.7203, -7.8497, -7.8694, -7.8675, -7.2995, -7.154, -7.6216, -6.4172, -5.8007, -5.7922, -5.3098, -6.5765, -5.6247, -5.4869, -6.4569, -6.5284, -5.2043, -5.4869, -5.1308, -6.2513, -5.3355, -6.2162, -6.5337, -5.2611, -5.7947, -5.8663, -6.2077, -5.311, -4.3928, -5.2877, -4.3926, -4.6006, -4.7352, -5.7511, -5.6562, -5.1745, -5.0124, -4.7174, -5.3626, -5.1062, -5.2631, -5.2382, -5.6061, -5.5767, -5.7012, -5.6261, -4.6517, -4.8824, -5.2401, -5.6734, -5.3377, -5.656, -5.8154, -4.7278, -5.871, -5.8135, -6.0767, -6.0499, -6.0733, -6.1444, -6.076, -6.2189, -6.2074, -5.7408, -5.446, -6.1183, -6.2522, -6.0915, -6.0042, -6.351, -6.3465, -6.4105, -6.4301, -6.4885, -6.3935, -6.577, -5.4368, -4.9417, -4.1315, -6.0246, -4.0622, -4.1812, -5.7549, -4.3398, -5.1436, -4.3419, -4.8537, -5.3673, -5.3279, -3.9057, -5.4457, -5.5839, -4.9313, -5.1789, -5.3414, -5.2891, -4.6349, -4.2261, -5.0004, -4.9411, -5.5274, -4.3081, -5.1114, -5.4268, -4.3547, -4.8467, -4.8676, -4.8536, -5.1896, -4.8801, -5.042, -5.1609, -5.119, -5.1743], \"loglift\": [30.0, 29.0, 28.0, 27.0, 26.0, 25.0, 24.0, 23.0, 22.0, 21.0, 20.0, 19.0, 18.0, 17.0, 16.0, 15.0, 14.0, 13.0, 12.0, 11.0, 10.0, 9.0, 8.0, 7.0, 6.0, 5.0, 4.0, 3.0, 2.0, 1.0, 1.2455, 1.2439, 1.2417, 1.2413, 1.2411, 1.2406, 1.2406, 1.2404, 1.2399, 1.2399, 1.2395, 1.2389, 1.2386, 1.2385, 1.2383, 1.2382, 1.2357, 1.2353, 1.2349, 1.2338, 1.2337, 1.2332, 1.2328, 1.2327, 1.2324, 1.2324, 1.2323, 1.2322, 1.232, 1.2317, 1.2298, 1.2213, 1.2312, 1.2156, 1.2286, 1.2244, 1.2312, 1.2298, 1.2313, 1.1764, 1.228, 1.209, 1.2063, 1.2124, 1.1582, 1.2062, 1.209, 1.1418, 1.1387, 1.0952, 1.1269, 1.127, 1.1272, 1.1116, 1.0113, 1.181, 0.9538, 0.8442, 0.9971, 0.8641, 0.8866, 0.9801, 0.672, 0.6621, 0.8961, 0.6916, 0.5916, 0.7652, 0.533, 0.6734, 0.4455, 0.4967, 0.0758, 0.5442, 0.4074, 0.6928, 0.1497, -0.0303, 0.6881, 1.6846, 1.6839, 1.6831, 1.6829, 1.6819, 1.6763, 1.6756, 1.6747, 1.6744, 1.6731, 1.6725, 1.6722, 1.6721, 1.672, 1.672, 1.6702, 1.6693, 1.669, 1.6679, 1.6675, 1.6666, 1.6662, 1.665, 1.6643, 1.6617, 1.6612, 1.6604, 1.66, 1.66, 1.6597, 1.6595, 1.6374, 1.6398, 1.6465, 1.656, 1.6266, 1.646, 1.6328, 1.6415, 1.5918, 1.6222, 1.4988, 1.5487, 1.5965, 1.5313, 1.5546, 1.5461, 1.4512, 1.4119, 1.5826, 1.4655, 1.5542, 1.3877, 1.4346, 1.3921, 1.321, 1.4287, 1.5866, 1.4125, 1.4599, 1.3057, 1.0335, 0.9382, 1.2542, 1.246, 1.3273, 1.4111, 1.1477, 0.8686, 0.9505, 1.1769, 0.5253, 0.8266, 1.1221, 0.7378, 0.6944, 0.7433, 0.8244, 0.6279, 0.1457, 0.8082, 0.408, 0.679, 1.7317, 1.7315, 1.7311, 1.7307, 1.7302, 1.7296, 1.7296, 1.7296, 1.7294, 1.7294, 1.7294, 1.7293, 1.7293, 1.7285, 1.7284, 1.7282, 1.7281, 1.7276, 1.7274, 1.7273, 1.7273, 1.7272, 1.7272, 1.7271, 1.727, 1.7268, 1.7264, 1.7261, 1.7256, 1.7251, 1.7244, 1.7235, 1.7246, 1.722, 1.7152, 1.7249, 1.7208, 1.7168, 1.7171, 1.7001, 1.7067, 1.7068, 1.6966, 1.7213, 1.7106, 1.6917, 1.6571, 1.6602, 1.669, 1.7029, 1.692, 1.6131, 1.6162, 1.5779, 1.6623, 1.6488, 1.4491, 1.3319, 1.5688, 0.8722, 1.4321, 1.2537, 1.5387, 1.4732, 0.9068, 0.3865, 1.1595, 0.566, -0.3396, 2.0232, 2.0202, 2.0194, 2.0183, 2.017, 2.0166, 2.015, 2.0133, 2.0131, 2.0128, 2.0107, 2.0101, 2.01, 2.0096, 2.0087, 2.0085, 2.0077, 2.0076, 2.0072, 2.0069, 2.005, 2.0044, 2.0037, 2.0034, 2.0031, 2.0031, 2.003, 2.0025, 2.0019, 2.0017, 2.0017, 1.9724, 1.9942, 1.9853, 1.9644, 1.9782, 1.944, 1.9744, 1.9344, 1.9541, 1.8067, 1.9257, 1.8907, 1.7721, 1.9756, 1.8429, 1.8943, 1.8646, 1.7022, 1.4821, 1.6373, 1.4475, 1.3686, 1.409, 1.3861, 1.5648, 1.4709, 1.2591, 1.6651, 1.5214, 1.3412, 1.3632, 1.1707, 1.5427, 0.9448, 1.0072, 1.0125, 1.2207, 1.3885, 1.3691, 1.4111, 1.5065, 1.0222, 1.3775, 0.4171, 0.7297, 0.7361, 0.8394, 0.1522, 2.2099, 2.2085, 2.2083, 2.2078, 2.2078, 2.2077, 2.2076, 2.207, 2.207, 2.2069, 2.2054, 2.205, 2.2048, 2.2037, 2.2036, 2.2036, 2.2036, 2.2034, 2.203, 2.2029, 2.2026, 2.2001, 2.1994, 2.1993, 2.1987, 2.1981, 2.1975, 2.1972, 2.1967, 2.1965, 2.1896, 2.1944, 2.1792, 2.1815, 2.1897, 2.1752, 2.17, 2.1849, 2.1759, 2.1518, 2.1881, 2.1643, 2.145, 2.1248, 2.0984, 2.1134, 2.0098, 1.9849, 1.9964, 1.9799, 2.0358, 1.4356, 2.0386, 1.7789, 1.4194, 1.8392, 1.1144, 2.5457, 2.5431, 2.543, 2.5421, 2.5355, 2.5318, 2.5285, 2.5258, 2.5243, 2.5235, 2.5226, 2.5217, 2.5208, 2.52, 2.5194, 2.5186, 2.517, 2.5163, 2.5161, 2.5119, 2.5046, 2.5046, 2.5035, 2.4993, 2.4988, 2.4985, 2.4963, 2.4898, 2.4887, 2.4884, 2.4876, 2.4858, 2.4876, 2.47, 2.4259, 2.4147, 2.355, 2.4401, 2.3666, 2.3495, 2.4227, 2.4141, 2.2105, 2.2292, 2.134, 2.3373, 2.1099, 2.3052, 2.38, 2.0092, 2.1104, 2.1306, 2.2305, 1.8504, 1.4228, 1.8205, 1.3484, 1.4054, 1.468, 1.9943, 1.9324, 1.5676, 1.4341, 0.9704, 1.5094, 1.1423, 1.1719, 0.6883, 1.28, 1.0484, 1.5139, 0.4674, 3.3776, 3.3765, 3.3683, 3.3677, 3.3663, 3.3657, 3.3641, 3.3637, 3.3629, 3.362, 3.3595, 3.3592, 3.3585, 3.358, 3.3572, 3.3561, 3.3552, 3.355, 3.3549, 3.3543, 3.3542, 3.354, 3.3528, 3.3522, 3.3521, 3.3501, 3.3495, 3.3475, 3.3448, 3.344, 3.3352, 3.3288, 3.3061, 3.3388, 3.2485, 3.2192, 3.3112, 3.1785, 3.2388, 3.1386, 3.1974, 3.2383, 3.2249, 2.9531, 3.2107, 3.2079, 3.0016, 3.0749, 3.1032, 3.0803, 2.7666, 2.5606, 2.8687, 2.7126, 3.1621, 1.8981, 2.68, 3.0222, 1.1914, 1.9202, 1.7107, 1.3986, 2.4734, 1.0342, 1.6972, 2.104, 1.713, 1.4165]}, \"token.table\": {\"Topic\": [1, 2, 3, 4, 5, 6, 7, 2, 3, 4, 1, 2, 3, 4, 6, 4, 6, 1, 2, 5, 6, 7, 1, 3, 5, 6, 7, 1, 2, 3, 5, 6, 7, 1, 2, 3, 5, 6, 7, 1, 2, 3, 4, 5, 6, 7, 1, 5, 6, 7, 1, 2, 5, 7, 1, 1, 2, 3, 4, 5, 6, 7, 1, 3, 4, 6, 1, 6, 1, 1, 1, 2, 3, 4, 5, 6, 7, 1, 2, 3, 4, 5, 6, 7, 5, 1, 7, 1, 2, 3, 4, 5, 6, 7, 3, 4, 6, 1, 2, 3, 4, 5, 6, 7, 1, 2, 3, 4, 5, 6, 7, 1, 2, 3, 4, 5, 6, 7, 1, 2, 3, 4, 5, 6, 2, 4, 2, 1, 2, 5, 6, 6, 2, 2, 2, 1, 3, 1, 2, 1, 2, 3, 4, 6, 1, 2, 3, 4, 5, 6, 1, 2, 3, 5, 6, 7, 1, 1, 2, 6, 7, 1, 7, 2, 3, 4, 6, 5, 1, 2, 4, 1, 2, 7, 1, 5, 6, 2, 5, 4, 5, 1, 3, 4, 4, 3, 3, 1, 2, 3, 4, 5, 6, 7, 6, 1, 2, 5, 6, 7, 1, 2, 3, 4, 5, 6, 7, 3, 2, 5, 2, 5, 3, 4, 5, 1, 2, 3, 5, 6, 1, 6, 1, 2, 4, 6, 1, 3, 2, 4, 2, 2, 3, 4, 6, 1, 2, 5, 6, 6, 6, 1, 2, 3, 4, 2, 6, 1, 2, 3, 4, 6, 1, 2, 6, 7, 7, 1, 4, 1, 2, 4, 5, 6, 7, 1, 2, 3, 4, 5, 6, 7, 1, 6, 1, 2, 3, 4, 6, 7, 3, 5, 6, 7, 1, 2, 3, 4, 5, 6, 7, 1, 2, 3, 4, 5, 6, 7, 1, 2, 6, 7, 1, 3, 1, 3, 4, 6, 1, 2, 3, 4, 5, 6, 7, 7, 3, 7, 1, 2, 3, 4, 5, 6, 7, 2, 1, 2, 6, 1, 2, 3, 4, 5, 1, 2, 3, 4, 5, 6, 7, 2, 1, 3, 4, 5, 6, 1, 2, 3, 4, 5, 6, 3, 3, 4, 1, 2, 6, 7, 1, 2, 3, 4, 5, 6, 6, 6, 5, 1, 6, 2, 5, 7, 1, 2, 5, 6, 7, 2, 5, 6, 7, 1, 3, 5, 7, 1, 1, 3, 4, 5, 6, 1, 2, 6, 7, 1, 3, 1, 2, 3, 6, 2, 1, 2, 3, 4, 5, 6, 3, 5, 7, 1, 2, 3, 4, 6, 3, 4, 5, 1, 5, 7, 1, 2, 1, 2, 3, 4, 5, 2, 1, 7, 7, 3, 4, 5, 2, 3, 4, 4, 3, 1, 2, 3, 4, 6, 7, 1, 2, 3, 4, 5, 6, 1, 2, 3, 4, 5, 6, 7, 1, 2, 4, 1, 2, 3, 6, 1, 3, 5, 2, 1, 2, 6, 1, 2, 5, 6, 4, 6, 1, 3, 5, 6, 7, 3, 4, 6, 1, 3, 4, 5, 6, 7, 6, 6, 6, 3, 1, 3, 6, 7, 1, 1, 2, 3, 4, 5, 6, 7, 1, 2, 3, 2, 5, 1, 6, 1, 2, 3, 4, 5, 6, 7, 1, 1, 2, 5, 7, 1, 2, 3, 5, 6, 7, 4, 5, 1, 2, 3, 4, 5, 6, 2, 3, 4, 2, 3, 4, 6, 2, 3, 4, 6, 3, 2, 3, 4, 6, 3, 4, 2, 5, 1, 2, 4, 6, 1, 2, 5, 5, 7, 1, 2, 3, 4, 5, 6, 7, 4, 4, 4, 1, 2, 3, 5, 6, 1, 2, 3, 4, 6, 7, 4, 5, 1, 2, 6, 1, 2, 3, 4, 6, 3, 4, 6, 7, 1, 5, 7, 5, 5, 1, 2, 4, 6, 1, 2, 3, 6, 1, 2, 6, 7, 2, 4, 1, 2, 3, 5, 7, 7, 1, 2, 5, 6, 1, 2, 3, 4, 5, 6, 7, 5, 6, 7, 1, 2, 3, 5, 6, 1, 2, 3, 4, 5, 6, 7, 2, 5, 1, 2, 3, 6, 1, 6, 7, 4, 6, 1, 2, 3, 4, 5, 6, 1, 2, 4, 5, 6, 1, 6, 7, 1, 2, 3, 4, 5, 6, 7, 5, 1, 2, 6, 7, 1, 2, 3, 4, 5, 6, 7, 3, 4, 5, 3, 3, 2, 7, 3, 1, 2, 3, 4, 7, 1, 1, 1, 2, 3, 4, 5, 6, 1, 3, 4, 6, 7, 1, 2, 4, 5, 6, 1, 6, 1, 2, 4, 3, 3, 4, 1, 2, 3, 4, 5, 1, 2, 3, 4, 5, 6, 7, 1, 3, 4, 2, 5, 3, 4, 2, 2, 6, 5, 1, 5, 1, 2, 5, 6, 1, 2, 3, 4, 5, 6, 5, 2, 5, 7, 1, 2, 5, 2, 5, 1, 3, 4, 5, 6, 6, 1, 2, 4, 5, 6, 1, 2, 5, 6, 5, 5, 2, 5, 7, 4, 1, 2, 6, 7, 1, 2, 5, 6, 7, 5, 4, 6, 2, 4, 6, 1, 2, 3, 4, 6, 1, 5, 6, 5, 4, 3, 4, 3, 4, 1, 3, 4, 1, 2, 4, 5, 6, 7, 2, 5, 7, 1, 2, 3, 4, 5, 6, 7, 1, 2, 3, 4, 5, 6, 7, 1, 2, 4, 1, 2, 3, 4, 6, 1, 6, 1, 4, 3, 4, 5, 1, 2, 5, 6, 7, 1, 2, 5, 1, 2, 3, 4, 5, 6, 7, 1, 1, 2, 5, 1, 2, 3, 4, 5, 6, 7, 1, 1, 2, 3, 4, 5, 6, 2, 1, 2, 3, 4, 5, 6, 7, 1, 2, 3, 4, 5, 6, 7, 1, 2, 3, 4, 1, 2, 3, 4, 5, 6, 7, 1, 2, 3, 4, 5, 6, 7, 1, 3, 4, 5, 1, 2, 3, 4, 5, 6, 7, 1, 1, 2, 3, 2, 5, 4, 2, 1, 5, 6, 5, 1, 2, 4, 6, 7, 6, 1, 2, 5, 6, 4, 1, 2, 3, 4, 5, 6, 7, 1, 2, 3, 6, 2, 4, 1, 2, 3, 4, 6, 3, 6, 1, 1, 2, 3, 5, 6, 7, 1, 2, 3, 4, 5, 6, 4, 3, 5, 1, 2, 6, 1, 2, 4, 5, 6, 7, 1, 2, 5, 6, 7, 7, 1, 2, 3, 4, 6, 1, 2, 5, 6, 1, 2, 5, 1, 2, 4, 6, 1, 2, 5, 7, 1, 2, 5, 7, 2, 1, 2, 3, 4, 5, 6, 7, 5, 5, 1, 7, 1, 3, 4, 7, 3, 7, 2, 7, 1, 2, 3, 4, 5, 6, 7, 1, 2, 5, 6, 1, 6, 2, 6, 3, 1, 2, 6, 1, 2, 3, 4, 5, 6, 7, 1, 1, 2, 3, 4, 5, 6, 7, 1, 2, 3, 5, 6, 1, 2, 3, 4, 5, 6, 2, 5, 1, 4, 5, 1, 2, 3, 4, 5, 6, 7, 1, 1, 2, 4, 6, 3, 7, 6, 1, 4, 6, 6, 2, 3, 4, 7, 1, 2, 5, 6, 7, 7, 1, 4, 5, 5, 1, 2, 6, 4, 1, 2, 4, 6, 2, 3, 4, 6, 1, 3, 6, 1, 2, 5, 7, 1, 2, 3, 4, 6, 6, 1, 2, 3, 4, 6, 1, 4, 6, 6, 6, 1, 2, 5, 6, 1, 2, 3, 4, 5, 6, 1, 2, 3, 4, 5, 6, 7, 1, 2, 3, 4, 5, 6, 7, 1, 2, 3, 2, 7, 2, 2, 1, 2, 4, 5, 3, 4, 1, 6, 1, 2, 6, 3, 2, 4, 4, 2, 1, 2, 3, 4, 5, 6, 7, 7, 1, 2, 3, 4, 6, 7, 1, 2, 3, 5, 7, 3, 5, 7, 2, 7, 2, 6, 1, 2, 1, 2, 5, 2, 5, 3, 4, 6, 1, 7, 7, 1, 1, 2, 5, 6, 7, 2, 1, 2, 3, 4, 5, 6, 7, 1, 2, 3, 4, 5, 6, 7, 6, 6, 1, 2, 3, 5, 6, 7, 3, 3, 4, 2, 1, 4, 4, 1, 2, 3, 4, 5, 6, 7, 1, 2, 6, 4, 4, 1, 2, 1, 2, 4, 6, 1, 7, 1, 1, 4, 5, 6, 7, 1, 6, 1, 2, 3, 4, 5, 6, 1, 2, 3, 4, 5, 6, 2, 3, 4, 6, 1, 2, 3, 5, 6, 4, 1, 4, 6, 7, 3, 1, 2, 3, 4, 6, 1, 2, 6, 1, 2, 3, 4, 6, 4, 4, 2, 5, 6, 1, 2, 6, 7, 6, 2, 4, 6], \"Freq\": [0.032882861956130535, 0.4206266091888365, 0.016441430978065268, 0.5233855528017444, 0.004110357744516317, 0.0013701192481721059, 0.0013701192481721059, 0.07682164239803556, 0.3303330623115529, 0.5915266464648739, 0.055085566708839274, 0.3826997266087781, 0.034790884237161646, 0.5247625039105215, 0.002899240353096804, 0.9786481841231354, 0.9503485609626783, 0.2880517789108979, 0.40327249047525704, 0.10369864040792325, 0.015362761541914556, 0.1881938288884533, 0.09844814879278717, 0.024612037198196792, 0.036918055797295186, 0.024612037198196792, 0.7998912089413958, 0.19094743393269614, 0.06739321197624569, 0.04492880798416379, 0.05054490898218427, 0.6458516147723545, 0.987106398024067, 0.02373075541043859, 0.010170323747330824, 0.09153291372597741, 0.003390107915776941, 0.02373075541043859, 0.8475269789442353, 0.8979932232218121, 0.006718153789689367, 0.00895753838625249, 0.02799230745703903, 0.0033590768948446835, 0.0022393845965631223, 0.053745230317514936, 0.183058005184543, 0.031836174814703126, 0.04775426222205469, 0.732232020738172, 0.008284985168020178, 0.006213738876015133, 0.9859132349944011, 0.9836256227275189, 0.99001782020015, 0.043927043723284376, 0.27106200151197435, 0.031070347999396265, 0.02464200013745221, 0.38034391516502325, 0.2453486100641981, 0.0032141739309720276, 0.0048963866253497156, 0.9817255183826179, 0.0048963866253497156, 0.007344579938024573, 0.9562951044908388, 0.03781958040359249, 0.9874118022386358, 0.9946831154976857, 0.30880657067773143, 0.36359483321732894, 0.006225938924954262, 0.27269612491299666, 0.021168192344844492, 0.023658567914826196, 0.0037355633549725573, 0.5559564301224006, 0.08408841005601309, 0.01042418306479501, 0.00903429198948901, 0.015288801828366016, 0.32453956608395135, 0.0013898910753060013, 0.9965136261178908, 0.9939571364839305, 0.9696266935807814, 0.17563802360777014, 0.23052490598519831, 0.3110256668054263, 0.12989895495991333, 0.1161772343655563, 0.029273003934628356, 0.0064034696106999535, 0.8475788987257851, 0.14387913404295735, 0.007847952765979492, 0.8841811926085161, 0.05388361838611456, 0.002449255381187025, 0.002449255381187025, 0.007347766143561076, 0.03673883071780538, 0.0097970215247481, 0.18255855874884772, 0.004452647774362139, 0.44229634558663916, 0.36363290157290806, 0.0029684318495747596, 0.0014842159247873798, 0.0014842159247873798, 0.013979871718717906, 0.007527623233155796, 0.17421070911017697, 0.0010753747475936851, 0.6484509727989921, 0.017205995961498962, 0.1376479676919917, 0.054750027514888125, 0.0889687947116932, 0.06843753439361015, 0.7699222619281142, 0.003421876719680508, 0.013687506878722031, 0.04509125291979354, 0.9469163113156643, 0.9713818007305124, 0.006121815421589508, 0.1530453855397377, 0.006121815421589508, 0.8325668973361731, 0.925402134112961, 0.9937472632984601, 0.9767467529156225, 0.9836051837571659, 0.9962023034514133, 0.9966736234836108, 0.04888417743492959, 0.9476009779694043, 0.010549848182304348, 0.8703624750401087, 0.026374620455760868, 0.08439878545843478, 0.005274924091152174, 0.1410017931775162, 0.24869607615561914, 0.06328426937888523, 0.3597211101536634, 0.16209654963714462, 0.024425507479569737, 0.4476420242235673, 0.15802924486278672, 0.0051601386077644645, 0.0754670271385553, 0.30122309122825064, 0.012255329193440603, 0.9865527307729429, 0.9734998824945578, 0.0044861745737076394, 0.017944698294830558, 0.9681157779042634, 0.018473463773343357, 0.9790935799871978, 0.03011874950274164, 0.003764843687842705, 0.9412109219606762, 0.02258906212705623, 0.985340762782588, 0.048837987168715576, 0.9474569510730823, 0.009767597433743115, 0.015370786986045217, 0.8646067679650435, 0.11528090239533913, 0.0013385408915375476, 0.9958744233039355, 0.0013385408915375476, 0.00509858233477668, 0.9942235552814527, 0.9740095939567975, 0.014116081071837644, 0.031196232528355745, 0.041594976704474325, 0.9254882316745539, 0.9821866643624501, 0.9905642205084335, 0.9951114509521389, 0.4886329285674517, 0.020143112746796546, 0.2599111322167296, 0.026640891052214788, 0.16894223594087426, 0.031189335866007556, 0.004548444813792769, 0.9729542764284589, 0.8853602271365831, 0.002275990301122322, 0.002275990301122322, 0.10241956355050448, 0.0068279709033669655, 0.30909557465061915, 0.06713225605071518, 0.1256486075815525, 0.01471883688812472, 0.4602328997701437, 0.009692892584862622, 0.012923856779816828, 0.9951322841317278, 0.010444387183135579, 0.9869945888063122, 0.005919223110418405, 0.9914698709950829, 0.8896354266309526, 0.10813248279492241, 0.002457556427157328, 0.04245424832381237, 0.021227124161906186, 0.014151416107937456, 0.9170117637943472, 0.004245424832381237, 0.17825633146913553, 0.8178819914466218, 0.05861455553079718, 0.26530798819202933, 0.6725249003007255, 0.9812806109796574, 0.9780642136051368, 0.010404938442607838, 0.02969069339350245, 0.9501021885920784, 0.9796732485214333, 0.9789635537635848, 0.008512726554465954, 0.008512726554465954, 0.004256363277232977, 0.07763593390214525, 0.8256686483917339, 0.013638745144971463, 0.08183247086982878, 0.96617597199049, 0.9824281716290326, 0.016374256064941566, 0.14736830458447409, 0.008187128032470783, 0.8268999312795491, 0.0853295404934198, 0.9044931292302498, 0.008074096407638428, 0.775113255133289, 0.002018524101909607, 0.002018524101909607, 0.21396355480241833, 0.7638775831754356, 0.004129068017164517, 0.09083949637761937, 0.14038831258359358, 0.9693096764111007, 0.04182337925221748, 0.9410260331748932, 0.9290741353477151, 0.013656160735145249, 0.00091041071567635, 0.000455205357838175, 0.053714232224904644, 0.002276026789190875, 0.4304553716186862, 0.06641791866772698, 0.008407331476927465, 0.03362932590770986, 0.14040243566468866, 0.3186378629755509, 0.001681466295385493, 0.42126793909326143, 0.5744562805817202, 0.07753314472914156, 0.23570075997659035, 0.08373579630747288, 0.5985558773089729, 0.0031013257891656623, 0.0031013257891656623, 0.985810302268222, 0.0042675770660961995, 0.0042675770660961995, 0.9843968594446051, 0.666700506541244, 0.09289218841139946, 0.004777312546871972, 0.07325212571870357, 0.0010616250104159937, 0.050427187994759703, 0.11147062609367935, 0.870918896916968, 0.04943053198717927, 0.007061504569597038, 0.007061504569597038, 0.007061504569597038, 0.030599853134920498, 0.02824601827838815, 0.6161960956865673, 0.3361069612835822, 0.04434744628047265, 0.0023340761200248764, 0.9916429816045762, 0.9968955176096277, 0.9584461907089319, 0.004203711362758473, 0.02522226817655084, 0.008407422725516946, 0.02951830213642676, 0.008433800610407646, 0.8560307619563761, 0.027409851983824847, 0.06536195473065926, 0.006325350457805734, 0.006325350457805734, 0.9709198712384436, 0.9946716993541747, 0.9755884974647652, 0.1522219369326573, 0.3454682256627683, 0.04858146923382679, 0.422118988231695, 0.001079588205196151, 0.002159176410392302, 0.029148881540296077, 0.9863927589856859, 0.22970430447337625, 0.03828405074556271, 0.7273969641656914, 0.012919752993878184, 0.02583950598775637, 0.006459876496939092, 0.9302222155592293, 0.02583950598775637, 0.006198515383569755, 0.02479406153427902, 0.018595546150709262, 0.0030992576917848774, 0.0030992576917848774, 0.07128292691105217, 0.8739906690833354, 0.984104533031407, 0.01707806898933413, 0.9625820703079236, 0.0062102069052124105, 0.004657655178909308, 0.0062102069052124105, 0.09415599846927668, 0.10630515956208657, 0.27031883431502013, 0.5193766367176229, 0.0030372902732024734, 0.006074580546404947, 0.9904212666268495, 0.9853318975320661, 0.010907733183011801, 0.12079021073034099, 0.7417539701187137, 0.07655717581500486, 0.05954447007833711, 0.3387511144678026, 0.2351950742937075, 0.010531122729568992, 0.008775935607974161, 0.03159336818870698, 0.37561004402129405, 0.9970833349799691, 0.9850958307466229, 0.9950559479938634, 0.036879571846495623, 0.9588688680088863, 0.14755870789311834, 0.8399495680069814, 0.013242448144254211, 0.4410589599132285, 0.3397346042574868, 0.020860896752652697, 0.010430448376326349, 0.1877480707738743, 0.07739704528090323, 0.02902389198033871, 0.20316724386237098, 0.696573407528129, 0.15012609115683262, 0.0981593672948521, 0.06351488472019842, 0.6813414906348558, 0.9756660027683504, 0.0021017868533814814, 0.973127313115626, 0.018916081680433332, 0.0021017868533814814, 0.0021017868533814814, 0.1768548372958815, 0.7559677358921995, 0.06588709624748527, 0.9802585766025291, 0.9766272848767105, 0.010501368654588285, 0.002816788462112693, 0.6394109808995813, 0.002816788462112693, 0.3549153462261993, 0.9796659557776083, 0.04187641050677161, 0.29313487354740125, 0.026648624867945565, 0.612918371962748, 0.015227785638826038, 0.011420839229119528, 0.9597810633566237, 0.033914525206947835, 0.0033914525206947834, 0.025668104058753777, 0.9326077808013873, 0.00855603468625126, 0.01711206937250252, 0.025668104058753777, 0.9910683682844755, 0.003917266277804251, 0.003917266277804251, 0.12879968223072258, 0.010733306852560213, 0.847931241352257, 0.011783135571563396, 0.9838918202255436, 0.06323044349729966, 0.910518386361115, 0.006323044349729965, 0.01264608869945993, 0.006323044349729965, 0.9870974232372024, 0.9882333753049699, 0.9849577758342161, 0.9919626014989246, 0.996843878207691, 0.0018257213886587749, 0.9908780426295772, 0.9570683284233708, 0.9926689480866231, 0.006425041735188499, 0.9843151245730849, 0.9952642898109739, 0.16248784845367498, 0.0915840600375259, 0.0915840600375259, 0.6263167976759836, 0.02363459613871636, 0.00590864903467909, 0.2875817493642765, 0.36916522436123433, 0.05302925874802261, 0.2712650543648849, 0.0010197934374619733, 0.017336488436853547, 0.5179930509605394, 0.21343515322931317, 0.052594335752782044, 0.002446248174548002, 0.0067271824800070055, 0.20609640870566917, 0.0006115620436370005, 0.012389433857560563, 0.08672603700292393, 0.8920392377443604, 0.34397358124496286, 0.0035461193942779674, 0.007092238788555935, 0.6453937297585901, 0.9901104751521694, 0.9885888615848805, 0.00491835254519841, 0.9807526815456795, 0.12318468633323125, 0.030796171583307812, 0.8468947185409648, 0.08673408176217953, 0.04235850504664582, 0.8411188859262526, 0.028239003364430543, 0.962200720070182, 0.9582307317803198, 0.032564519386059095, 0.005920821706556199, 0.020722875972946694, 0.6601716202810162, 0.2782786202081413, 0.9897779177812319, 0.0015441153163513759, 0.0077205765817568795, 0.022800315333366145, 0.9262628104179997, 0.014250197083353842, 0.0042750591250061525, 0.028500394166707684, 0.0042750591250061525, 0.9967770368133083, 0.9620824705640056, 0.9610955529113683, 0.9968935196122154, 0.006767222087936221, 0.006767222087936221, 0.006767222087936221, 0.981247202750752, 0.9862431381995695, 0.7883300187816784, 0.04542234423197891, 0.01211262512852771, 0.019178323120168872, 0.01211262512852771, 0.12011686585789978, 0.0030281562821319274, 0.013176180906433277, 0.9882135679824958, 0.9950484680497605, 0.002657568476069447, 0.9965881785260425, 0.9353576099844088, 0.06052313946957939, 0.14196415669250093, 0.4399020908037364, 0.04296283689378317, 0.357712315876499, 0.009339747150822428, 0.007471797720657943, 0.0009339747150822428, 0.9942116485843326, 0.2392806654933414, 0.6414330444737472, 0.11863495179921968, 0.9866552347969989, 0.5621713921072329, 0.07475138729294718, 0.003071974820258103, 0.003071974820258103, 0.3389412218351441, 0.017407857314795917, 0.9732544116713711, 0.9910673872775142, 0.002816191280893961, 0.0506914430560913, 0.6688454292123157, 0.14221765968514502, 0.0014080956404469804, 0.13517718148291014, 0.06311196057121103, 0.4237517352638455, 0.5121084800635409, 0.0009217964261375575, 0.9669644510182979, 0.01474874281820092, 0.016592335670476036, 0.09285765563678441, 0.16851944911860875, 0.024074207016944106, 0.7119086932153472, 0.9925921038191151, 0.008915726188315345, 0.11590444044809949, 0.8648254402665885, 0.008915726188315345, 0.021921135297090524, 0.9645299530719831, 0.009086935772369875, 0.9874470205975264, 0.8854113336284366, 0.08854113336284367, 0.00239300360440118, 0.0239300360440118, 0.41991951492868934, 0.4771812669644197, 0.10179867028574287, 0.013754320127117645, 0.9765567290253528, 0.3326094674563299, 0.5181772977553248, 0.05457877361735144, 0.03467357382749385, 0.01155785794249795, 0.04045250279874283, 0.006421032190276639, 0.9668547643611206, 0.9778385145658798, 0.9886955276160188, 0.5732630500230348, 0.1639738904345167, 0.009037930968831629, 0.0012911329955473756, 0.25306206712728563, 0.7769664041477405, 0.00800996292935815, 0.02242789620220282, 0.0032039851717432597, 0.1874331325469807, 0.0016019925858716299, 0.8671380016453185, 0.12567217415149545, 0.49890614456379356, 0.1710908506226622, 0.3278152939411314, 0.1595949922351944, 0.28236037087765165, 0.012276537864245722, 0.004092179288081908, 0.5401676660268119, 0.983650574144405, 0.01325674628226961, 0.002651349256453922, 0.9483082040479045, 0.0035184419374389183, 0.07036883874877838, 0.9253502295464355, 0.9890816029302852, 0.992950476225553, 0.06970167561857607, 0.8712709452322009, 0.05421241437000361, 0.9843771351181594, 0.41646202092193496, 0.07741922183805201, 0.00800888501772952, 0.4965508710992302, 0.05953486836449294, 0.9067618412438155, 0.03205723681165004, 0.9794152050524979, 0.9623717109843396, 0.9610117319121265, 0.019495469611691057, 0.006498489870563686, 0.12347130754071002, 0.025993959482254744, 0.8318067034321518, 0.9594353482762167, 0.38993260323900447, 0.014882923787748262, 0.008929754272648957, 0.5834106124797319, 0.1018237861262093, 0.1725826883495073, 0.5626195640193938, 0.11908205496116003, 0.041419845203881756, 0.001725826883495073, 0.001725826883495073, 0.06339035794918813, 0.8716174218013367, 0.047542768461891094, 0.0013365855677209537, 0.006682927838604769, 0.024058540218977166, 0.9596684376236448, 0.008019513406325722, 0.5610994139246446, 0.13522899544227046, 0.08342485290965938, 0.15204852223857274, 0.005382248574816734, 0.05987751539483617, 0.0020183432155562752, 0.020254696810477396, 0.9762763862650105, 0.10691861367199822, 0.16270223819651902, 0.004648635377043401, 0.7251871188187705, 0.9878796858626445, 0.010106186044630634, 0.977759399728859, 0.9772248494628138, 0.9632691241419202, 0.12834929567228828, 0.34475217791044876, 0.0925308875776962, 0.3029640351334247, 0.12685686200168028, 0.00447730101182401, 0.019974524778007652, 0.019974524778007652, 0.9055117899363468, 0.039949049556015304, 0.0133163498520051, 0.1309432109159301, 0.011903928265084554, 0.8451789068210034, 0.01566394456139105, 0.20363127929808364, 0.05090781982452091, 0.7166254636836406, 0.007831972280695525, 0.003915986140347763, 0.003915986140347763, 0.9971765473139848, 0.021614919516500443, 0.9006216465208517, 0.007204973172166814, 0.06484475854950132, 0.4938357298589719, 0.1347739059085585, 0.2775940151549414, 0.033190588768525604, 0.006034652503368292, 0.04928299544417438, 0.0050288770861402435, 0.9973671899260996, 0.0018233403837771473, 0.9987697921615943, 0.993755869738089, 0.9969047368999638, 0.9832520876661207, 0.9920036600361556, 0.9949562932119423, 0.015784916548359628, 0.2788668590210201, 0.01052327769890642, 0.6892746892783705, 0.984147020602873, 0.9925509015374857, 0.988268157530472, 0.01928209873517267, 0.0048205246837931676, 0.928754422410817, 0.012854732490115114, 0.0016068415612643893, 0.03374367278655217, 0.015609050221505322, 0.8220766449992802, 0.10926335155053725, 0.049428659034766856, 0.002601508370250887, 0.0032889551766445107, 0.0032889551766445107, 0.009866865529933532, 0.9801086426400643, 0.0032889551766445107, 0.981493188943234, 0.010118486483950867, 0.0054407544229670216, 0.9738950417110968, 0.016322263268901065, 0.9869609075281355, 0.9877777043459867, 0.00952840229272656, 0.3813782151417248, 0.5670754612578526, 0.00798697832757539, 0.011980467491363084, 0.029951168728407706, 0.4709665572301166, 0.03068186040587079, 0.0007670465101467697, 0.002301139530440309, 0.33366523191384484, 0.06519895336247543, 0.09511376725819945, 0.9932287861574137, 0.9934300535139737, 0.003510353545985773, 0.006075271318843506, 0.9841939536526481, 0.9890612360573741, 0.007141236361425083, 0.9874075000345041, 0.9784249595329516, 0.967528706108639, 0.995267386732473, 0.023395895552581564, 0.9738541523762076, 0.18481424670514215, 0.005516843185228124, 0.8068383158396132, 0.002758421592614062, 0.06289253296234797, 0.30089760868260595, 0.0826235236956336, 0.5352031236403729, 0.01109868228747317, 0.006165934604151761, 0.9942866763624011, 0.1563986271828633, 0.030516805303973327, 0.8125099412182898, 0.040569194013657946, 0.02318239657923311, 0.9350233286957355, 0.01413373822405171, 0.983708180393999, 0.06546799251718295, 0.01091133208619716, 0.9129147845451623, 0.003637110695399053, 0.003637110695399053, 0.9137594861528635, 0.256355281462094, 0.694295553959838, 0.0053407350304602915, 0.04005551272845219, 0.0026703675152301458, 0.03241645417076331, 0.0017061291668822795, 0.963962979288488, 0.0017061291668822795, 0.993921545932456, 0.9842839242747773, 0.21191020994392018, 0.01926456454035638, 0.7513180170738988, 0.978442597319335, 0.28570028402779696, 0.1954791417032295, 0.02004914273879277, 0.49621628278512103, 0.010835289901986875, 0.18419992833377688, 0.19503521823576375, 0.005417644950993438, 0.5959409446092782, 0.9848306151323934, 0.02847045006460544, 0.9395248521319796, 0.9638555448212369, 0.021419012107138598, 0.986456526281806, 0.007745348494666669, 0.06196278795733335, 0.007745348494666669, 0.030981393978666675, 0.8829697283920003, 0.014443291758347026, 0.9656372204152012, 0.018569946546446177, 0.996021658306842, 0.9715150680736598, 0.9726255668733546, 0.025087564224907953, 0.995167092626286, 0.9929049120007194, 0.9906801701448162, 0.9930701633378645, 0.9699020396008438, 0.5697545806920932, 0.3253710697717938, 0.0014208343658156937, 0.034100024779576646, 0.0667792151933376, 0.0014208343658156937, 0.07920005677798513, 0.04525717530170579, 0.8598863307324099, 0.1399028943173171, 0.47104919462803096, 0.0462064605084717, 0.33628035147832186, 0.0012835127919019918, 0.003850538375705975, 0.0012835127919019918, 0.017205998651303744, 0.1501614427750145, 0.0023462725433596016, 0.0023462725433596016, 0.7977326647422645, 0.028155270520315218, 0.0023462725433596016, 0.029191554994288424, 0.963321314811518, 0.9594857477728908, 0.9127072930584901, 0.013805656533657833, 0.013805656533657833, 0.0015339618370730926, 0.05675658797170443, 0.9628630300297318, 0.03126178668927701, 0.9841804640319656, 0.01687166509769084, 0.9806489631614143, 0.008963884489592452, 0.008963884489592452, 0.8948329035098256, 0.006038008795612858, 0.0012076017591225716, 0.09540053897068315, 0.0024152035182451433, 0.01010208421415969, 0.03434708632814295, 0.9536367498166749, 0.08923256601438997, 0.2036332916738643, 0.03203220318465281, 0.5697156137841821, 0.004576029026378973, 0.01372808707913692, 0.08923256601438997, 0.9855939020514289, 0.009772297602171817, 0.010660688293278346, 0.9790065415993947, 0.2777613677679658, 0.3119655277054223, 0.12679128252677843, 0.19873796377453176, 0.011204811013994372, 0.07194668124775334, 0.0017691806864201642, 0.9886134844153309, 0.1518680373238984, 0.2887161588685101, 0.046728626868891815, 0.5006638593095551, 0.003337759062063701, 0.010013277186191102, 0.9760823437146748, 0.326203280995033, 0.023053235406009398, 0.4368588109438781, 0.009221294162403759, 0.15906732430146484, 0.041495823730816915, 0.004610647081201879, 0.10751928903490413, 0.28089414260368706, 0.020159866694044525, 0.575228196336737, 0.0013439911129363017, 0.014783902242299318, 0.0013439911129363017, 0.010500616810662904, 0.07350431767464033, 0.07350431767464033, 0.8400493448530323, 0.07301548568081873, 0.3860818831889867, 0.021004454784893056, 0.514109036163573, 0.001000212132613955, 0.00400084853045582, 0.00200042426522791, 0.08510479507678492, 0.42110294706824747, 0.022105141578385695, 0.46089220190934177, 0.004421028315677139, 0.003315771236757854, 0.0022105141578385697, 0.0020069256296559703, 0.9593104509755538, 0.03411773570415149, 0.0040138512593119405, 0.701827927083914, 0.015751748986920763, 0.014001554655040677, 0.0035003886637601693, 0.0017501943318800847, 0.07700855060272373, 0.18552059917928898, 0.9871468191872426, 0.02882355154051091, 0.95117720083686, 0.02161766365538318, 0.008818042498296184, 0.9876207598091725, 0.9825479240625059, 0.9764084296872644, 0.1446071664458553, 0.03337088456442815, 0.8120248577344183, 0.9897310496580104, 0.06254182050514796, 0.03573818314579884, 0.02680363735934913, 0.13401818679674565, 0.7415673002753259, 0.9764830354173435, 0.01725739518608887, 0.0008217807231470889, 0.9688794725904178, 0.012326710847206334, 0.9698143589733298, 0.1764871608990032, 0.09842553203982872, 0.08145561272261687, 0.0441217902247508, 0.010181951590327108, 0.05430374181507791, 0.5396434342873367, 0.12807519103796092, 0.039747473080746484, 0.004416385897860721, 0.8258641628999548, 0.019929215706527222, 0.9765315696198339, 0.597994206235435, 0.11351754423452326, 0.0020270990041879153, 0.006081297012563746, 0.2817667615821202, 0.993842852084146, 0.9759197067446373, 0.9761950890600285, 0.0015088127815379392, 0.0030176255630758784, 0.0015088127815379392, 0.793635523088956, 0.06035251126151756, 0.14031958868302835, 0.9895297463558583, 0.003163252667554901, 0.9173432735909213, 0.06642830601865292, 0.003163252667554901, 0.009489758002664703, 0.9697371691512161, 0.9930484766827449, 0.004640413442442733, 0.9669631522598845, 0.004216409094156473, 0.028109393961043155, 0.7441603683996677, 0.14710146817202732, 0.006489770654648265, 0.0010816284424413774, 0.08004050474066193, 0.021632568848827548, 0.3101095592107992, 0.04367740270574636, 0.026206441623447818, 0.10919350676436591, 0.5110256116572325, 0.98632435894478, 0.0032965952738529263, 0.0032965952738529263, 0.9296398672265253, 0.05274552438164682, 0.00988978582155878, 0.6956436338223837, 0.27715617073134546, 0.023861127281506564, 0.002753206994019988, 0.05953984013851601, 0.12265207068534298, 0.8174820051018248, 0.24499976825332648, 0.6797361991389284, 0.007368414082806811, 0.0644736232245596, 0.0780599003144026, 0.6912409593630651, 0.003081311854515892, 0.2259628693311654, 0.039663381559998996, 0.04986253681828445, 0.8929927048365488, 0.016998592097142426, 0.9725716416020042, 0.11246082414234103, 0.7567279183815151, 0.0009530578317147545, 0.006671404822003281, 0.04384066025887871, 0.0009530578317147545, 0.07910380003232462, 0.9923414850968103, 0.9919296781729019, 0.040089781493830245, 0.9487914953539824, 0.10904324222148826, 0.013630405277686032, 0.040891215833058096, 0.845085127216534, 0.024141545311424643, 0.9656618124569858, 0.053800883828518, 0.9325486530276453, 0.06217714830748229, 0.14508001271745868, 0.6185829113667469, 0.0063771434161520296, 0.0063771434161520296, 0.11000572392862251, 0.051017147329216236, 0.05444467040688639, 0.0022685279336202664, 0.9425733564192207, 0.9860736264751224, 0.0210818718737116, 0.9697661061907337, 0.9542523268051866, 0.03408044024304238, 0.9913008242211595, 0.45312075072125624, 0.06328502105045478, 0.4834975608254745, 0.6801593413284184, 0.02018737771066082, 0.1110305774086345, 0.009317251251074224, 0.020963815314917006, 0.1552875208512371, 0.002329312812768556, 0.98810892005908, 0.18292826309949875, 0.014889509787168504, 0.7402213437049485, 0.014889509787168504, 0.023397801094121935, 0.014889509787168504, 0.00850829130695343, 0.020612027005576194, 0.03664360356546879, 0.9367021161422959, 0.002290225222841799, 0.002290225222841799, 0.009702827320161127, 0.4144493383897396, 0.018019536451727807, 0.5558333936263732, 0.0013861181885944467, 0.0027722363771888934, 0.9849442829362797, 0.9965947751110449, 0.9811404444391489, 0.9691118366704897, 0.020189829930635204, 0.8571081642099861, 0.00825907224613477, 0.0027530240820449236, 0.001835349388029949, 0.0009176746940149744, 0.12480375838603654, 0.005506048164089847, 0.979821898619568, 0.9802108881981452, 0.0013318082720083493, 0.0013318082720083493, 0.01598169926410019, 0.9975142324522333, 0.9822413938181412, 0.9118372796435571, 0.9604319919607701, 0.034301142570027504, 0.004287642821253438, 0.9706129962109042, 0.38260563715786977, 0.07776537340607109, 0.5350257690337691, 0.9696635015991473, 0.1475368174852307, 0.08636301511330577, 0.4228189281588928, 0.11155222785468662, 0.23210060311700925, 0.9834348356806374, 0.17242305894172893, 0.7965945323107877, 0.027587689430676632, 0.994193343352328, 0.031203139802901115, 0.17681779221643965, 0.7800784950725278, 0.9885363197035434, 0.08544072123686451, 0.9004137545731106, 0.006572363172066501, 0.006572363172066501, 0.08967208083322858, 0.37269958596310626, 0.5156144647910643, 0.01961576768226875, 0.014993780013904081, 0.044981340041712246, 0.9296143608620531, 0.17263163579417737, 0.014692054110142756, 0.02938410822028551, 0.7823518813651017, 0.22322239460825644, 0.7697323952008842, 0.002565774650669614, 0.002565774650669614, 0.002565774650669614, 0.9881570541091984, 0.022923432389391356, 0.6456766789678565, 0.2349651819912614, 0.03820572064898559, 0.05730858097347839, 0.9918929186884862, 0.1041635651851959, 0.8779500494180797, 0.9970046287868858, 0.9661871916803592, 0.08874172430156244, 0.2202696371056639, 0.6893330369853511, 0.0015846736482421865, 0.25613090996581866, 0.5990499795068321, 0.02751819693847639, 0.031751765698241986, 0.05715317825683557, 0.02751819693847639, 0.04152453407431951, 0.04567698748175147, 0.4221660964222484, 0.019378115901349104, 0.453309496977988, 0.0006920755679053252, 0.017993964765538457, 0.12774897877566552, 0.786731334638257, 0.0025296827480329803, 0.0012648413740164901, 0.025296827480329805, 0.05565302045672557, 0.0012648413740164901, 0.05310497104509896, 0.9399579874982515, 0.005310497104509896, 0.04855476972436964, 0.946818009625208, 0.9964964815918314, 0.9828406405521479, 0.08010534910683197, 0.7934244102010024, 0.12206529387707729, 0.9910673872775142, 0.9900288574408657, 0.008942196131723949, 0.9876279873835918, 0.008062269284764015, 0.03182714639522538, 0.03182714639522538, 0.9548143918567614, 0.9974194230048281, 0.9613893337320842, 0.9737711417368387, 0.9942458532479034, 0.9762061313404414, 0.5726190011115769, 0.011060991106167163, 0.25185025903272923, 0.020420291272923993, 0.030630436909385987, 0.10295230183432512, 0.01191183657587233, 0.9788541939254868, 0.13960294589894176, 0.7566479667722643, 0.008376176753936504, 0.00558411783595767, 0.08655382645734389, 0.00558411783595767, 0.054304820894802534, 0.009050803482467088, 0.009050803482467088, 0.06335562437726962, 0.8688771343168405, 0.993427537637883, 0.005201191296533419, 0.951667423782203, 0.9956399443192318, 0.9696539636520939, 0.9587543202844704, 0.04051074592751283, 0.14613477343121017, 0.8528163643522861, 0.04508442956685899, 0.048193700571469954, 0.9063524978440962, 0.028479448117579034, 0.9710135643898375, 0.9754830860805643, 0.012709877343069243, 0.006354938671534621, 0.9825355266869826, 0.9855646008862935, 0.9721930596546522, 0.9942632019658082, 0.05327329678589006, 0.8683547376100079, 0.010654659357178011, 0.002663664839294503, 0.06392795614306807, 0.9910240878172921, 0.06806560385136179, 0.3877308505104359, 0.006077286058157302, 0.040110087983838194, 0.3148034178125483, 0.07535834712115055, 0.10817569183519998, 0.042422009493066876, 0.7389640363308423, 0.019158326867836653, 0.050632721007854015, 0.008210711514787137, 0.03284284605914855, 0.10673924969223278, 0.9737758060229967, 0.9160464184425601, 0.10849218821134496, 0.18542301257938956, 0.00986292620103136, 0.04142429004433171, 0.0039451704804125435, 0.6489805440278634, 0.9965617580345233, 0.9691317591150105, 0.026396584878618963, 0.9752465784709174, 0.01962094859843829, 0.9614264813234763, 0.9901333630288525, 0.08037306765081624, 0.014183482526614631, 0.7706358839460616, 0.1252874289850959, 0.004727827508871543, 0.004727827508871543, 0.0023639137544357717, 0.2108005830712194, 0.5814016081480406, 0.2074005736668449, 0.9712331899712339, 0.973322404607991, 0.021159090208429116, 0.9733181495877393, 0.9716334983076325, 0.01425877251185205, 0.0081478700067726, 0.006110902505079449, 0.9764495400472272, 0.01346826951789279, 0.9818526550260862, 0.4452302956435036, 0.0881644149789116, 0.00440822074894558, 0.057306869736292544, 0.4011480881540478, 0.9768751333419787, 0.9678130112030242, 0.5636569400862252, 0.01092963595735063, 0.16706729249093105, 0.029666154741380277, 0.004684129696007413, 0.22327684884302, 0.27177140768604074, 0.2421908463052472, 0.03697570172599194, 0.44370842071190325, 0.001848785086299597, 0.003697570172599194, 0.0055824652345219244, 0.8857511505441453, 0.046520543621016035, 0.06140711757974117, 0.5196918677174758, 0.11193363304684092, 0.007995259503345781, 0.005996444627509335, 0.3537902330230508, 0.9864999886493252, 0.9595329657684558, 0.029799160427591797, 0.00595983208551836, 0.00595983208551836, 0.9968696843109408, 0.026518467221994284, 0.0776612254358404, 0.7519879633665523, 0.13827486480039877, 0.003788352460284898, 0.10632441887658842, 0.015189202696655489, 0.8733791550576906, 0.15061810411758156, 0.7984822779932064, 0.0020632617002408434, 0.014442831901685904, 0.033012187203853495, 0.9599449254594369, 0.9835860291673616, 0.25238779728678606, 0.0861811990735367, 0.6586705929191734, 0.3652170997669998, 0.1743498717480652, 0.018352618078743707, 0.4386275720819746, 0.9971334207453427, 0.032220301307788086, 0.9451288383617839, 0.010740100435929363], \"Term\": [\"\\u4e00\\u4e0b\", \"\\u4e00\\u4e0b\", \"\\u4e00\\u4e0b\", \"\\u4e00\\u4e0b\", \"\\u4e00\\u4e0b\", \"\\u4e00\\u4e0b\", \"\\u4e00\\u4e0b\", \"\\u4e00\\u9593\", \"\\u4e00\\u9593\", \"\\u4e00\\u9593\", \"\\u4e00\\u9ede\", \"\\u4e00\\u9ede\", \"\\u4e00\\u9ede\", \"\\u4e00\\u9ede\", \"\\u4e00\\u9ede\", \"\\u4e09\\u5f35\", \"\\u4e0a\\u53f0\", \"\\u4e0a\\u5e02\", \"\\u4e0a\\u5e02\", \"\\u4e0a\\u5e02\", \"\\u4e0a\\u5e02\", \"\\u4e0a\\u5e02\", \"\\u4e0a\\u6d77\", \"\\u4e0a\\u6d77\", \"\\u4e0a\\u6d77\", \"\\u4e0a\\u6d77\", \"\\u4e0a\\u6d77\", \"\\u4e0b\\u534a\\u5e74\", \"\\u4e0b\\u534a\\u5e74\", \"\\u4e0b\\u534a\\u5e74\", \"\\u4e0b\\u534a\\u5e74\", \"\\u4e0b\\u534a\\u5e74\", \"\\u4e16\\u9054\", \"\\u4e2d\\u4fe1\", \"\\u4e2d\\u4fe1\", \"\\u4e2d\\u4fe1\", \"\\u4e2d\\u4fe1\", \"\\u4e2d\\u4fe1\", \"\\u4e2d\\u4fe1\", \"\\u4e2d\\u570b\", \"\\u4e2d\\u570b\", \"\\u4e2d\\u570b\", \"\\u4e2d\\u570b\", \"\\u4e2d\\u570b\", \"\\u4e2d\\u570b\", \"\\u4e2d\\u570b\", \"\\u4e2d\\u8208\", \"\\u4e2d\\u8208\", \"\\u4e2d\\u8208\", \"\\u4e2d\\u8208\", \"\\u4e8b\\u9805\", \"\\u4e8b\\u9805\", \"\\u4e8b\\u9805\", \"\\u4e9e\\u79d1\", \"\\u4e9e\\u99ac\\u905c\", \"\\u4ea4\\u6613\", \"\\u4ea4\\u6613\", \"\\u4ea4\\u6613\", \"\\u4ea4\\u6613\", \"\\u4ea4\\u6613\", \"\\u4ea4\\u6613\", \"\\u4ea4\\u6613\", \"\\u4ea4\\u901a\", \"\\u4ea4\\u901a\", \"\\u4ea4\\u901a\", \"\\u4ea4\\u901a\", \"\\u4eba\\u5de5\\u667a\\u6167\", \"\\u4eba\\u5de5\\u667a\\u6167\", \"\\u4eba\\u6c11\\u5e63\", \"\\u4ec1\\u52f3\", \"\\u4eca\\u5929\", \"\\u4eca\\u5929\", \"\\u4eca\\u5929\", \"\\u4eca\\u5929\", \"\\u4eca\\u5929\", \"\\u4eca\\u5929\", \"\\u4eca\\u5929\", \"\\u4eca\\u5e74\", \"\\u4eca\\u5e74\", \"\\u4eca\\u5e74\", \"\\u4eca\\u5e74\", \"\\u4eca\\u5e74\", \"\\u4eca\\u5e74\", \"\\u4eca\\u5e74\", \"\\u4edf\\u5143\", \"\\u4ee3\\u5de5\", \"\\u4ee3\\u865f\", \"\\u4ee5\\u4e0a\", \"\\u4ee5\\u4e0a\", \"\\u4ee5\\u4e0a\", \"\\u4ee5\\u4e0a\", \"\\u4ee5\\u4e0a\", \"\\u4ee5\\u4e0a\", \"\\u4ee5\\u4e0a\", \"\\u4ef2\\u4ecb\", \"\\u4ef2\\u4ecb\", \"\\u4ef2\\u4ecb\", \"\\u4f01\\u696d\", \"\\u4f01\\u696d\", \"\\u4f01\\u696d\", \"\\u4f01\\u696d\", \"\\u4f01\\u696d\", \"\\u4f01\\u696d\", \"\\u4f01\\u696d\", \"\\u4f7f\\u7528\", \"\\u4f7f\\u7528\", \"\\u4f7f\\u7528\", \"\\u4f7f\\u7528\", \"\\u4f7f\\u7528\", \"\\u4f7f\\u7528\", \"\\u4f7f\\u7528\", \"\\u4f86\\u6e90\", \"\\u4f86\\u6e90\", \"\\u4f86\\u6e90\", \"\\u4f86\\u6e90\", \"\\u4f86\\u6e90\", \"\\u4f86\\u6e90\", \"\\u4f86\\u6e90\", \"\\u4fbf\\u5b9c\", \"\\u4fbf\\u5b9c\", \"\\u4fbf\\u5b9c\", \"\\u4fbf\\u5b9c\", \"\\u4fbf\\u5b9c\", \"\\u4fbf\\u5b9c\", \"\\u4fbf\\u7576\", \"\\u4fbf\\u7576\", \"\\u4fdd\\u55ae\", \"\\u4fe1\\u7528\", \"\\u4fe1\\u7528\", \"\\u4fe1\\u7528\", \"\\u4fe1\\u7528\", \"\\u4fe1\\u865f\", \"\\u4fe1\\u8cb8\", \"\\u501f\\u6b3e\", \"\\u501f\\u9322\", \"\\u505c\\u640d\", \"\\u505c\\u8eca\\u4f4d\", \"\\u50b5\\u5238\", \"\\u50b5\\u5238\", \"\\u50f9\\u5dee\", \"\\u50f9\\u5dee\", \"\\u50f9\\u5dee\", \"\\u50f9\\u5dee\", \"\\u50f9\\u5dee\", \"\\u50f9\\u683c\", \"\\u50f9\\u683c\", \"\\u50f9\\u683c\", \"\\u50f9\\u683c\", \"\\u50f9\\u683c\", \"\\u50f9\\u683c\", \"\\u5104\\u5143\", \"\\u5104\\u5143\", \"\\u5104\\u5143\", \"\\u5104\\u5143\", \"\\u5104\\u5143\", \"\\u5104\\u5143\", \"\\u5104\\u53f0\", \"\\u5104\\u7f8e\\u5143\", \"\\u5104\\u7f8e\\u5143\", \"\\u5104\\u7f8e\\u5143\", \"\\u512a\\u5229\\u9ad8\", \"\\u512a\\u606f\", \"\\u512a\\u606f\", \"\\u512a\\u60e0\", \"\\u512a\\u60e0\", \"\\u512a\\u60e0\", \"\\u512a\\u60e0\", \"\\u5132\\u80fd\", \"\\u5132\\u84c4\", \"\\u5132\\u84c4\", \"\\u5132\\u84c4\", \"\\u5143\\u5927\", \"\\u5143\\u5927\", \"\\u5143\\u5927\", \"\\u5143\\u6708\", \"\\u5143\\u6708\", \"\\u5143\\u6708\", \"\\u5143\\u80a1\", \"\\u5143\\u80a1\", \"\\u514c\\u63db\", \"\\u514c\\u63db\", \"\\u514d\\u8cbb\", \"\\u514d\\u8cbb\", \"\\u514d\\u8cbb\", \"\\u514d\\u904b\", \"\\u5167\\u4e0a\", \"\\u5167\\u4fe1\", \"\\u5167\\u5bb9\", \"\\u5167\\u5bb9\", \"\\u5167\\u5bb9\", \"\\u5167\\u5bb9\", \"\\u5167\\u5bb9\", \"\\u5167\\u5bb9\", \"\\u5167\\u5bb9\", \"\\u5167\\u8cc7\", \"\\u5168\\u7403\", \"\\u5168\\u7403\", \"\\u5168\\u7403\", \"\\u5168\\u7403\", \"\\u5168\\u7403\", \"\\u516c\\u53f8\", \"\\u516c\\u53f8\", \"\\u516c\\u53f8\", \"\\u516c\\u53f8\", \"\\u516c\\u53f8\", \"\\u516c\\u53f8\", \"\\u516c\\u53f8\", \"\\u516c\\u53f8\\u5730\\u5740\", \"\\u516c\\u7a4d\", \"\\u516c\\u7a4d\", \"\\u516c\\u7a4d\\u8f49\", \"\\u516c\\u7a4d\\u8f49\", \"\\u516c\\u8a2d\", \"\\u516c\\u8a2d\", \"\\u516c\\u8a2d\", \"\\u516c\\u958b\", \"\\u516c\\u958b\", \"\\u516c\\u958b\", \"\\u516c\\u958b\", \"\\u516c\\u958b\", \"\\u51fa\\u8ca8\", \"\\u51fa\\u8ca8\", \"\\u5206\\u4eab\", \"\\u5206\\u4eab\", \"\\u5206\\u4eab\", \"\\u5206\\u6578\", \"\\u5206\\u6790\\u5e2b\", \"\\u5206\\u6790\\u5e2b\", \"\\u5212\\u7b97\", \"\\u5212\\u7b97\", \"\\u521d\\u5be9\", \"\\u5229\\u606f\", \"\\u5229\\u606f\", \"\\u5229\\u606f\", \"\\u5229\\u606f\", \"\\u5229\\u7387\", \"\\u5229\\u7387\", \"\\u5229\\u7387\", \"\\u5229\\u7387\", \"\\u5238\\u589e\", \"\\u524d\\u65e5\", \"\\u525b\\u525b\", \"\\u525b\\u525b\", \"\\u525b\\u525b\", \"\\u525b\\u525b\", \"\\u52de\\u52d5\", \"\\u52de\\u52d5\", \"\\u5347\\u606f\", \"\\u5347\\u606f\", \"\\u5347\\u606f\", \"\\u5347\\u606f\", \"\\u5347\\u606f\", \"\\u534a\\u5c0e\\u9ad4\", \"\\u534a\\u5c0e\\u9ad4\", \"\\u534a\\u5c0e\\u9ad4\", \"\\u534a\\u5c0e\\u9ad4\", \"\\u5357\\u4e9e\", \"\\u539f\\u50f9\", \"\\u539f\\u50f9\", \"\\u539f\\u6587\", \"\\u539f\\u6587\", \"\\u539f\\u6587\", \"\\u539f\\u6587\", \"\\u539f\\u6587\", \"\\u539f\\u6587\", \"\\u53bb\\u5e74\", \"\\u53bb\\u5e74\", \"\\u53bb\\u5e74\", \"\\u53bb\\u5e74\", \"\\u53bb\\u5e74\", \"\\u53bb\\u5e74\", \"\\u53bb\\u5e74\", \"\\u53d7\\u60e0\", \"\\u53d7\\u60e0\", \"\\u53ea\\u80fd\", \"\\u53ea\\u80fd\", \"\\u53ea\\u80fd\", \"\\u53ea\\u80fd\", \"\\u53ea\\u80fd\", \"\\u53ea\\u80fd\", \"\\u53f0\\u5357\\u5e02\", \"\\u53f0\\u5357\\u5e02\", \"\\u53f0\\u5357\\u5e02\", \"\\u53f0\\u65b0\", \"\\u53f0\\u7063\", \"\\u53f0\\u7063\", \"\\u53f0\\u7063\", \"\\u53f0\\u7063\", \"\\u53f0\\u7063\", \"\\u53f0\\u7063\", \"\\u53f0\\u7063\", \"\\u53f0\\u7a4d\\u96fb\", \"\\u53f0\\u7a4d\\u96fb\", \"\\u53f0\\u7a4d\\u96fb\", \"\\u53f0\\u7a4d\\u96fb\", \"\\u53f0\\u7a4d\\u96fb\", \"\\u53f0\\u7a4d\\u96fb\", \"\\u53f0\\u7a4d\\u96fb\", \"\\u53f0\\u80a1\", \"\\u53f0\\u80a1\", \"\\u53f0\\u80a1\", \"\\u53f0\\u80a1\", \"\\u53f0\\u96fb\", \"\\u5404\\u7d1a\", \"\\u5408\\u4f5c\", \"\\u5408\\u4f5c\", \"\\u5408\\u4f5c\", \"\\u5408\\u4f5c\", \"\\u540c\\u610f\", \"\\u540c\\u610f\", \"\\u540c\\u610f\", \"\\u540c\\u610f\", \"\\u540c\\u610f\", \"\\u540c\\u610f\", \"\\u540c\\u610f\", \"\\u540d\\u4e2d\", \"\\u5546\\u5708\", \"\\u5546\\u9280\", \"\\u554f\\u984c\", \"\\u554f\\u984c\", \"\\u554f\\u984c\", \"\\u554f\\u984c\", \"\\u554f\\u984c\", \"\\u554f\\u984c\", \"\\u554f\\u984c\", \"\\u55ae\\u4f4d\\u540d\\u7a31\", \"\\u56de\\u5347\", \"\\u56de\\u5347\", \"\\u56de\\u5347\", \"\\u56de\\u994b\", \"\\u56de\\u994b\", \"\\u56de\\u994b\", \"\\u56de\\u994b\", \"\\u56de\\u994b\", \"\\u570b\\u6cf0\", \"\\u570b\\u6cf0\", \"\\u570b\\u6cf0\", \"\\u570b\\u6cf0\", \"\\u570b\\u6cf0\", \"\\u570b\\u6cf0\", \"\\u570b\\u6cf0\", \"\\u570b\\u806f\", \"\\u571f\\u5730\", \"\\u571f\\u5730\", \"\\u571f\\u5730\", \"\\u571f\\u5730\", \"\\u571f\\u5730\", \"\\u5730\\u65b9\", \"\\u5730\\u65b9\", \"\\u5730\\u65b9\", \"\\u5730\\u65b9\", \"\\u5730\\u65b9\", \"\\u5730\\u65b9\", \"\\u5761\\u9053\", \"\\u576a\\u6578\", \"\\u576a\\u6578\", \"\\u57fa\\u91d1\", \"\\u57fa\\u91d1\", \"\\u57fa\\u91d1\", \"\\u57fa\\u91d1\", \"\\u589e\\u52a0\", \"\\u589e\\u52a0\", \"\\u589e\\u52a0\", \"\\u589e\\u52a0\", \"\\u589e\\u52a0\", \"\\u589e\\u52a0\", \"\\u589e\\u5f35\", \"\\u589e\\u5f35\\u5238\", \"\\u589e\\u6e1b\", \"\\u589e\\u6eab\", \"\\u589e\\u6eab\", \"\\u589e\\u8cc7\", \"\\u589e\\u8cc7\", \"\\u589e\\u8cc7\", \"\\u5916\\u8cc7\", \"\\u5916\\u8cc7\", \"\\u5916\\u8cc7\", \"\\u5916\\u8cc7\", \"\\u5916\\u8cc7\", \"\\u5927\\u53f0\\u7063\", \"\\u5927\\u53f0\\u7063\", \"\\u5927\\u53f0\\u7063\", \"\\u5927\\u53f0\\u7063\", \"\\u5927\\u540c\", \"\\u5927\\u540c\", \"\\u5927\\u540c\", \"\\u5927\\u540c\", \"\\u5927\\u5abd\", \"\\u5927\\u6a13\", \"\\u5927\\u6a13\", \"\\u5927\\u6a13\", \"\\u5927\\u6a13\", \"\\u5927\\u6a13\", \"\\u5927\\u76e4\", \"\\u5927\\u76e4\", \"\\u5927\\u76e4\", \"\\u5927\\u7f8e\\u50b5\", \"\\u592a\\u967d\\u80fd\", \"\\u592a\\u967d\\u80fd\", \"\\u592e\\u884c\", \"\\u592e\\u884c\", \"\\u592e\\u884c\", \"\\u592e\\u884c\", \"\\u5957\\u5229\", \"\\u597d\\u50cf\", \"\\u597d\\u50cf\", \"\\u597d\\u50cf\", \"\\u597d\\u50cf\", \"\\u597d\\u50cf\", \"\\u597d\\u50cf\", \"\\u59d3\\u540d\", \"\\u59d3\\u540d\", \"\\u59d3\\u540d\", \"\\u5b58\\u6b3e\", \"\\u5b58\\u6b3e\", \"\\u5b58\\u6b3e\", \"\\u5b58\\u6b3e\", \"\\u5b58\\u6b3e\", \"\\u5b78\\u5340\", \"\\u5b78\\u5340\", \"\\u5b78\\u5340\", \"\\u5b8f\\u7881\", \"\\u5b8f\\u7881\", \"\\u5b8f\\u7881\", \"\\u5b9a\\u5b58\", \"\\u5b9a\\u5b58\", \"\\u5b9a\\u671f\", \"\\u5b9a\\u671f\", \"\\u5b9a\\u671f\", \"\\u5b9a\\u671f\", \"\\u5b9a\\u671f\", \"\\u5b9a\\u984d\", \"\\u5bb6\\u6578\", \"\\u5bcc\\u6642\", \"\\u5bcc\\u90a6\", \"\\u5be6\\u50f9\", \"\\u5be6\\u50f9\", \"\\u5be9\\u8a08\", \"\\u5c0f\\u53f0\", \"\\u5c4b\\u9f61\", \"\\u5c4b\\u9f61\", \"\\u5c4f\\u6771\", \"\\u5c6c\\u5be6\", \"\\u5de5\\u4f5c\", \"\\u5de5\\u4f5c\", \"\\u5de5\\u4f5c\", \"\\u5de5\\u4f5c\", \"\\u5de5\\u4f5c\", \"\\u5de5\\u4f5c\", \"\\u5df2\\u7d93\", \"\\u5df2\\u7d93\", \"\\u5df2\\u7d93\", \"\\u5df2\\u7d93\", \"\\u5df2\\u7d93\", \"\\u5df2\\u7d93\", \"\\u5e02\\u5834\", \"\\u5e02\\u5834\", \"\\u5e02\\u5834\", \"\\u5e02\\u5834\", \"\\u5e02\\u5834\", \"\\u5e02\\u5834\", \"\\u5e02\\u5834\", \"\\u5e33\\u865f\", \"\\u5e33\\u865f\", \"\\u5e33\\u865f\", \"\\u5e36\\u52d5\", \"\\u5e36\\u52d5\", \"\\u5e36\\u52d5\", \"\\u5e36\\u52d5\", \"\\u5e73\\u6e96\", \"\\u5e73\\u9762\", \"\\u5e73\\u9762\", \"\\u5e74\\u5316\", \"\\u5e74\\u589e\\u7387\", \"\\u5e74\\u589e\\u7387\", \"\\u5e74\\u589e\\u7387\", \"\\u5e74\\u5ea6\", \"\\u5e74\\u5ea6\", \"\\u5e74\\u5ea6\", \"\\u5e74\\u5ea6\", \"\\u5e97\\u54e1\", \"\\u5ee3\\u5dde\", \"\\u5ee3\\u9054\", \"\\u5ee3\\u9054\", \"\\u5ee3\\u9054\", \"\\u5ee3\\u9054\", \"\\u5ee3\\u9054\", \"\\u5efa\\u7269\", \"\\u5efa\\u7269\", \"\\u5efa\\u7269\", \"\\u5efa\\u8a2d\", \"\\u5efa\\u8a2d\", \"\\u5efa\\u8a2d\", \"\\u5efa\\u8a2d\", \"\\u5efa\\u8a2d\", \"\\u5efa\\u8a2d\", \"\\u5f35\\u5238\", \"\\u5f35\\u5238\\u589e\", \"\\u5f35\\u6ac3\", \"\\u5f97\\u8996\", \"\\u5fa9\\u83ef\", \"\\u5fa9\\u83ef\", \"\\u5fa9\\u83ef\", \"\\u5fa9\\u83ef\", \"\\u5fae\\u8edf\", \"\\u5fc3\\u5f97\", \"\\u5fc3\\u5f97\", \"\\u5fc3\\u5f97\", \"\\u5fc3\\u5f97\", \"\\u5fc3\\u5f97\", \"\\u5fc3\\u5f97\", \"\\u5fc3\\u5f97\", \"\\u5fc3\\u7406\", \"\\u5fc3\\u7406\", \"\\u61c9\\u586b\", \"\\u61c9\\u6558\\u660e\", \"\\u61c9\\u6558\\u660e\", \"\\u61c9\\u7528\", \"\\u61c9\\u7528\", \"\\u61c9\\u8a72\", \"\\u61c9\\u8a72\", \"\\u61c9\\u8a72\", \"\\u61c9\\u8a72\", \"\\u61c9\\u8a72\", \"\\u61c9\\u8a72\", \"\\u61c9\\u8a72\", \"\\u6210\\u4efd\\u80a1\", \"\\u6210\\u5206\\u80a1\", \"\\u6210\\u5206\\u80a1\", \"\\u6210\\u5206\\u80a1\", \"\\u6210\\u92fc\", \"\\u6210\\u9577\", \"\\u6210\\u9577\", \"\\u6210\\u9577\", \"\\u6210\\u9577\", \"\\u6210\\u9577\", \"\\u6210\\u9577\", \"\\u6211\\u7528\", \"\\u6216\\u7d93\", \"\\u623f\\u50f9\", \"\\u623f\\u50f9\", \"\\u623f\\u50f9\", \"\\u623f\\u50f9\", \"\\u623f\\u50f9\", \"\\u623f\\u50f9\", \"\\u623f\\u5b50\", \"\\u623f\\u5b50\", \"\\u623f\\u5b50\", \"\\u623f\\u5c4b\", \"\\u623f\\u5c4b\", \"\\u623f\\u5c4b\", \"\\u623f\\u5c4b\", \"\\u623f\\u5e02\", \"\\u623f\\u5e02\", \"\\u623f\\u5e02\", \"\\u623f\\u5e02\", \"\\u623f\\u5ef3\", \"\\u623f\\u6771\", \"\\u623f\\u6771\", \"\\u623f\\u6771\", \"\\u623f\\u6771\", \"\\u623f\\u87f2\", \"\\u623f\\u87f2\", \"\\u6240\\u5c6c\", \"\\u6240\\u5c6c\", \"\\u6280\\u8853\", \"\\u6280\\u8853\", \"\\u6280\\u8853\", \"\\u6280\\u8853\", \"\\u6295\\u4fe1\", \"\\u6295\\u4fe1\", \"\\u6295\\u4fe1\", \"\\u6295\\u63a7\", \"\\u6295\\u63a7\", \"\\u6295\\u8cc7\", \"\\u6295\\u8cc7\", \"\\u6295\\u8cc7\", \"\\u6295\\u8cc7\", \"\\u6295\\u8cc7\", \"\\u6295\\u8cc7\", \"\\u6295\\u8cc7\", \"\\u6298\\u50f9\\u5238\", \"\\u6298\\u6263\", \"\\u6298\\u62b5\", \"\\u6301\\u7e8c\", \"\\u6301\\u7e8c\", \"\\u6301\\u7e8c\", \"\\u6301\\u7e8c\", \"\\u6301\\u7e8c\", \"\\u6307\\u51fa\", \"\\u6307\\u51fa\", \"\\u6307\\u51fa\", \"\\u6307\\u51fa\", \"\\u6307\\u51fa\", \"\\u6307\\u51fa\", \"\\u6307\\u5b9a\", \"\\u6307\\u5b9a\", \"\\u6307\\u6578\", \"\\u6307\\u6578\", \"\\u6307\\u6578\", \"\\u6307\\u6a19\", \"\\u6307\\u6a19\", \"\\u6307\\u6a19\", \"\\u6307\\u6a19\", \"\\u6307\\u6a19\", \"\\u6377\\u904b\", \"\\u6377\\u904b\", \"\\u6377\\u904b\", \"\\u6392\\u5217\", \"\\u6392\\u884c\", \"\\u6392\\u884c\", \"\\u6392\\u884c\", \"\\u63d0\\u5831\", \"\\u640d\\u4edf\", \"\\u64cd\\u4f5c\", \"\\u64cd\\u4f5c\", \"\\u64cd\\u4f5c\", \"\\u6539\\u5beb\", \"\\u653f\\u7b56\", \"\\u653f\\u7b56\", \"\\u653f\\u7b56\", \"\\u653f\\u7b56\", \"\\u6563\\u6236\", \"\\u6563\\u6236\", \"\\u6563\\u6236\", \"\\u6578\\u6392\", \"\\u6578\\u984d\", \"\\u6599\\u7406\", \"\\u65b0\\u5149\", \"\\u65b0\\u5149\", \"\\u65b0\\u5149\", \"\\u65b0\\u5149\", \"\\u65b0\\u5149\", \"\\u65b0\\u58fd\", \"\\u65b0\\u9ad8\", \"\\u65b0\\u9ad8\", \"\\u65b0\\u9ad8\", \"\\u65b0\\u9ad8\", \"\\u65b9\\u5f0f\", \"\\u65b9\\u5f0f\", \"\\u65b9\\u5f0f\", \"\\u65b9\\u5f0f\", \"\\u65b9\\u5f0f\", \"\\u65b9\\u5f0f\", \"\\u65b9\\u5f0f\", \"\\u65e5\\u5713\", \"\\u65e5\\u5713\", \"\\u65e5\\u5713\", \"\\u65e5\\u671f\", \"\\u65e5\\u671f\", \"\\u65e5\\u671f\", \"\\u65e5\\u671f\", \"\\u65e5\\u671f\", \"\\u6642\\u9593\", \"\\u6642\\u9593\", \"\\u6642\\u9593\", \"\\u6642\\u9593\", \"\\u6642\\u9593\", \"\\u6642\\u9593\", \"\\u6642\\u9593\", \"\\u666e\\u901a\\u80a1\", \"\\u666e\\u901a\\u80a1\", \"\\u666f\\u6c23\", \"\\u666f\\u6c23\", \"\\u666f\\u6c23\", \"\\u666f\\u6c23\", \"\\u6676\\u7247\", \"\\u6676\\u7247\", \"\\u667a\\u80fd\", \"\\u66b4\\u8dcc\", \"\\u66fe\\u656c\\u5fb7\", \"\\u6700\\u8fd1\", \"\\u6700\\u8fd1\", \"\\u6700\\u8fd1\", \"\\u6700\\u8fd1\", \"\\u6700\\u8fd1\", \"\\u6700\\u8fd1\", \"\\u6703\\u54e1\", \"\\u6703\\u54e1\", \"\\u6703\\u54e1\", \"\\u6703\\u54e1\", \"\\u6703\\u54e1\", \"\\u6708\\u5149\", \"\\u6708\\u5149\", \"\\u6708\\u5149\", \"\\u670b\\u53cb\", \"\\u670b\\u53cb\", \"\\u670b\\u53cb\", \"\\u670b\\u53cb\", \"\\u670b\\u53cb\", \"\\u670b\\u53cb\", \"\\u670b\\u53cb\", \"\\u671f\\u672b\", \"\\u671f\\u8ca8\", \"\\u671f\\u8ca8\", \"\\u671f\\u8ca8\", \"\\u671f\\u8ca8\", \"\\u672a\\u4f86\", \"\\u672a\\u4f86\", \"\\u672a\\u4f86\", \"\\u672a\\u4f86\", \"\\u672a\\u4f86\", \"\\u672a\\u4f86\", \"\\u672a\\u4f86\", \"\\u672c\\u6587\", \"\\u672c\\u6587\", \"\\u672c\\u671f\", \"\\u672c\\u677f\", \"\\u672c\\u7ad9\", \"\\u672c\\u91d1\", \"\\u6771\\u5143\", \"\\u6771\\u5340\", \"\\u6771\\u897f\", \"\\u6771\\u897f\", \"\\u6771\\u897f\", \"\\u6771\\u897f\", \"\\u6771\\u967d\", \"\\u6838\\u80fd\", \"\\u6838\\u96fb\", \"\\u683c\\u5c40\", \"\\u683c\\u5c40\", \"\\u683c\\u5c40\", \"\\u683c\\u5c40\", \"\\u683c\\u5c40\", \"\\u683c\\u5c40\", \"\\u6843\\u5712\", \"\\u6843\\u5712\", \"\\u6843\\u5712\", \"\\u6843\\u5712\", \"\\u6843\\u5712\", \"\\u696d\\u4e3b\", \"\\u696d\\u4e3b\", \"\\u696d\\u4e3b\", \"\\u696d\\u4e3b\", \"\\u696d\\u4e3b\", \"\\u6982\\u5ff5\\u80a1\", \"\\u6982\\u5ff5\\u80a1\", \"\\u69d3\\u687f\", \"\\u69d3\\u687f\", \"\\u69d3\\u687f\", \"\\u6a13\\u5171\\u6a13\", \"\\u6a13\\u5c64\", \"\\u6a13\\u5c64\", \"\\u6a19\\u7684\", \"\\u6a19\\u7684\", \"\\u6a19\\u7684\", \"\\u6a19\\u7684\", \"\\u6a19\\u7684\", \"\\u6a19\\u984c\", \"\\u6a19\\u984c\", \"\\u6a19\\u984c\", \"\\u6a19\\u984c\", \"\\u6a19\\u984c\", \"\\u6a19\\u984c\", \"\\u6a19\\u984c\", \"\\u6a5f\\u5668\\u4eba\", \"\\u6a5f\\u80fd\", \"\\u6a5f\\u80fd\", \"\\u6b04\\u4f4d\", \"\\u6b04\\u4f4d\", \"\\u6b0a\\u72c0\", \"\\u6b0a\\u72c0\", \"\\u6b50\\u5370\", \"\\u6b63\\u4e8c\", \"\\u6b77\\u5e74\", \"\\u6b78\\u5c6c\\u65bc\", \"\\u6bcd\\u516c\\u53f8\", \"\\u6bcd\\u516c\\u53f8\", \"\\u6bcf\\u80a1\", \"\\u6bcf\\u80a1\", \"\\u6bcf\\u80a1\", \"\\u6bcf\\u80a1\", \"\\u6bd4\\u8f03\", \"\\u6bd4\\u8f03\", \"\\u6bd4\\u8f03\", \"\\u6bd4\\u8f03\", \"\\u6bd4\\u8f03\", \"\\u6bd4\\u8f03\", \"\\u6bdb\\u640d\", \"\\u6c38\\u8c50\", \"\\u6c38\\u8c50\", \"\\u6c38\\u8c50\", \"\\u6c7a\\u8b70\", \"\\u6c7a\\u8b70\", \"\\u6c7a\\u8b70\", \"\\u6cd5\\u5b9a\", \"\\u6cd5\\u5b9a\", \"\\u6d3b\\u52d5\", \"\\u6d3b\\u52d5\", \"\\u6d3b\\u52d5\", \"\\u6d3b\\u52d5\", \"\\u6d3b\\u52d5\", \"\\u6d77\\u95dc\", \"\\u6de8\\u503c\", \"\\u6de8\\u503c\", \"\\u6de8\\u503c\", \"\\u6de8\\u503c\", \"\\u6de8\\u503c\", \"\\u6de8\\u5229\", \"\\u6de8\\u5229\", \"\\u6de8\\u5229\", \"\\u6de8\\u5229\", \"\\u6de8\\u640d\", \"\\u6de8\\u984d\", \"\\u6f22\\u5510\", \"\\u6f22\\u5510\", \"\\u6f22\\u5510\", \"\\u6f22\\u5821\", \"\\u6f32\\u505c\", \"\\u6f32\\u505c\", \"\\u6f32\\u505c\", \"\\u6f32\\u505c\", \"\\u6f32\\u8dcc\", \"\\u6f32\\u8dcc\", \"\\u6f32\\u8dcc\", \"\\u6f32\\u8dcc\", \"\\u6f32\\u8dcc\", \"\\u6f32\\u8dcc\\u5e45\", \"\\u70d8\\u7119\", \"\\u70d8\\u7119\", \"\\u7121\\u8166\", \"\\u7121\\u8166\", \"\\u71c8\\u865f\", \"\\u71df\\u5efa\", \"\\u71df\\u5efa\", \"\\u71df\\u5efa\", \"\\u71df\\u5efa\", \"\\u71df\\u5efa\", \"\\u71df\\u696d\", \"\\u71df\\u696d\", \"\\u71df\\u696d\", \"\\u71df\\u696d\\u6bdb\\u5229\", \"\\u725b\\u8089\", \"\\u7269\\u4ef6\", \"\\u7269\\u4ef6\", \"\\u7269\\u6b0a\", \"\\u7279\\u50f9\", \"\\u7279\\u65af\\u62c9\", \"\\u72c0\\u576a\\u4e3b\", \"\\u731c\\u6e2c\", \"\\u7372\\u5229\", \"\\u7372\\u5229\", \"\\u7372\\u5229\", \"\\u7372\\u5229\", \"\\u7372\\u5229\", \"\\u7372\\u5229\", \"\\u7389\\u5c71\", \"\\u7389\\u5c71\", \"\\u7389\\u5c71\", \"\\u73fe\\u5728\", \"\\u73fe\\u5728\", \"\\u73fe\\u5728\", \"\\u73fe\\u5728\", \"\\u73fe\\u5728\", \"\\u73fe\\u5728\", \"\\u73fe\\u5728\", \"\\u73fe\\u91d1\", \"\\u73fe\\u91d1\", \"\\u73fe\\u91d1\", \"\\u73fe\\u91d1\", \"\\u73fe\\u91d1\", \"\\u73fe\\u91d1\", \"\\u73fe\\u91d1\", \"\\u73fe\\u91d1\\u6d41\", \"\\u73fe\\u91d1\\u6d41\", \"\\u751f\\u65e5\", \"\\u7522\\u696d\", \"\\u7522\\u696d\", \"\\u7522\\u696d\", \"\\u7522\\u696d\", \"\\u7522\\u696d\", \"\\u7522\\u80fd\", \"\\u7522\\u80fd\", \"\\u7528\\u96fb\", \"\\u7528\\u96fb\", \"\\u767b\\u9304\", \"\\u767b\\u9304\", \"\\u767b\\u9304\", \"\\u767c\\u5e03\", \"\\u767c\\u5e03\", \"\\u767c\\u5e03\", \"\\u767c\\u5e03\", \"\\u767c\\u5e03\", \"\\u767c\\u653e\", \"\\u767c\\u653e\", \"\\u767c\\u653e\", \"\\u767c\\u73fe\", \"\\u767c\\u73fe\", \"\\u767c\\u73fe\", \"\\u767c\\u73fe\", \"\\u767c\\u73fe\", \"\\u767c\\u73fe\", \"\\u767c\\u73fe\", \"\\u767c\\u96fb\", \"\\u76c8\\u9918\", \"\\u76c8\\u9918\", \"\\u76c8\\u9918\", \"\\u76ee\\u524d\", \"\\u76ee\\u524d\", \"\\u76ee\\u524d\", \"\\u76ee\\u524d\", \"\\u76ee\\u524d\", \"\\u76ee\\u524d\", \"\\u76ee\\u524d\", \"\\u76ee\\u6a19\\u50f9\", \"\\u76f4\\u63a5\", \"\\u76f4\\u63a5\", \"\\u76f4\\u63a5\", \"\\u76f4\\u63a5\", \"\\u76f4\\u63a5\", \"\\u76f4\\u63a5\", \"\\u76f4\\u64ad\", \"\\u76f8\\u95dc\", \"\\u76f8\\u95dc\", \"\\u76f8\\u95dc\", \"\\u76f8\\u95dc\", \"\\u76f8\\u95dc\", \"\\u76f8\\u95dc\", \"\\u76f8\\u95dc\", \"\\u770b\\u5230\", \"\\u770b\\u5230\", \"\\u770b\\u5230\", \"\\u770b\\u5230\", \"\\u770b\\u5230\", \"\\u770b\\u5230\", \"\\u770b\\u5230\", \"\\u770b\\u904e\", \"\\u770b\\u904e\", \"\\u770b\\u904e\", \"\\u770b\\u904e\", \"\\u771f\\u7684\", \"\\u771f\\u7684\", \"\\u771f\\u7684\", \"\\u771f\\u7684\", \"\\u771f\\u7684\", \"\\u771f\\u7684\", \"\\u771f\\u7684\", \"\\u77e5\\u9053\", \"\\u77e5\\u9053\", \"\\u77e5\\u9053\", \"\\u77e5\\u9053\", \"\\u77e5\\u9053\", \"\\u77e5\\u9053\", \"\\u77e5\\u9053\", \"\\u793e\\u5340\", \"\\u793e\\u5340\", \"\\u793e\\u5340\", \"\\u793e\\u5340\", \"\\u79d1\\u6280\", \"\\u79d1\\u6280\", \"\\u79d1\\u6280\", \"\\u79d1\\u6280\", \"\\u79d1\\u6280\", \"\\u79d1\\u6280\", \"\\u79d1\\u6280\", \"\\u79d1\\u6280\\u80a1\", \"\\u79df\\u8cc3\", \"\\u79df\\u8cc3\", \"\\u79df\\u8cc3\", \"\\u7a05\\u524d\", \"\\u7a05\\u524d\", \"\\u7a0b\\u5f0f\", \"\\u7a7a\\u624b\", \"\\u7b2c\\u4e00\\u5b63\", \"\\u7b2c\\u4e00\\u5b63\", \"\\u7b2c\\u4e00\\u5b63\", \"\\u7b2c\\u689d\", \"\\u7cbe\\u9078\", \"\\u7cbe\\u9078\", \"\\u7cbe\\u9078\", \"\\u7cbe\\u9078\", \"\\u7cbe\\u9078\", \"\\u7d05\\u71c8\", \"\\u7d2f\\u8a08\", \"\\u7d2f\\u8a08\", \"\\u7d2f\\u8a08\", \"\\u7d2f\\u8a08\", \"\\u7d50\\u5e33\", \"\\u7d71\\u4e00\", \"\\u7d71\\u4e00\", \"\\u7d71\\u4e00\", \"\\u7d71\\u4e00\", \"\\u7d71\\u4e00\", \"\\u7d71\\u4e00\", \"\\u7d71\\u4e00\", \"\\u7d71\\u8a08\", \"\\u7d71\\u8a08\", \"\\u7d71\\u8a08\", \"\\u7d71\\u8a08\", \"\\u7d93\\u5178\", \"\\u7d93\\u5178\", \"\\u7d93\\u6fdf\", \"\\u7d93\\u6fdf\", \"\\u7d93\\u6fdf\", \"\\u7d93\\u6fdf\", \"\\u7d93\\u6fdf\", \"\\u7d93\\u7d00\\u4eba\", \"\\u7da0\\u71c8\", \"\\u7da0\\u96fb\", \"\\u7db2\\u5740\", \"\\u7db2\\u5740\", \"\\u7db2\\u5740\", \"\\u7db2\\u5740\", \"\\u7db2\\u5740\", \"\\u7db2\\u5740\", \"\\u7def\\u5275\", \"\\u7e3d\\u50f9\", \"\\u7e3d\\u50f9\", \"\\u7e3d\\u50f9\", \"\\u7e3d\\u50f9\", \"\\u7e3d\\u50f9\", \"\\u7e3d\\u6703\", \"\\u7e3d\\u6a13\", \"\\u7e3d\\u6a13\", \"\\u7f72\\u540d\", \"\\u7f72\\u540d\", \"\\u7f72\\u540d\", \"\\u7f8e\\u570b\", \"\\u7f8e\\u570b\", \"\\u7f8e\\u570b\", \"\\u7f8e\\u570b\", \"\\u7f8e\\u570b\", \"\\u7f8e\\u570b\", \"\\u7fa4\\u76ca\", \"\\u7fa4\\u76ca\", \"\\u7fa4\\u76ca\", \"\\u7fa4\\u76ca\", \"\\u7fa4\\u76ca\", \"\\u806f\\u5927\", \"\\u806f\\u7d61\", \"\\u806f\\u7d61\", \"\\u806f\\u7d61\", \"\\u806f\\u7d61\", \"\\u806f\\u7d61\", \"\\u80a1\\u50f9\", \"\\u80a1\\u50f9\", \"\\u80a1\\u50f9\", \"\\u80a1\\u50f9\", \"\\u80a1\\u5229\", \"\\u80a1\\u5229\", \"\\u80a1\\u5229\", \"\\u80a1\\u5e02\", \"\\u80a1\\u5e02\", \"\\u80a1\\u5e02\", \"\\u80a1\\u5e02\", \"\\u80a1\\u606f\", \"\\u80a1\\u606f\", \"\\u80a1\\u606f\", \"\\u80a1\\u606f\", \"\\u80a1\\u6771\", \"\\u80a1\\u6771\", \"\\u80a1\\u6771\", \"\\u80a1\\u6771\", \"\\u80a1\\u795e\", \"\\u80a1\\u7968\", \"\\u80a1\\u7968\", \"\\u80a1\\u7968\", \"\\u80a1\\u7968\", \"\\u80a1\\u7968\", \"\\u80a1\\u7968\", \"\\u80a1\\u7968\", \"\\u80a1\\u7968\\u540d\\u7a31\", \"\\u81ea\\u7d50\", \"\\u83ef\\u5357\", \"\\u83ef\\u5357\", \"\\u83ef\\u57ce\", \"\\u83ef\\u57ce\", \"\\u83ef\\u57ce\", \"\\u83ef\\u57ce\", \"\\u83ef\\u65b0\", \"\\u83ef\\u65b0\", \"\\u83ef\\u96fb\", \"\\u83ef\\u96fb\", \"\\u842c\\u5143\", \"\\u842c\\u5143\", \"\\u842c\\u5143\", \"\\u842c\\u5143\", \"\\u842c\\u5143\", \"\\u842c\\u5143\", \"\\u842c\\u5143\", \"\\u8463\\u4e8b\\u6703\", \"\\u8463\\u4e8b\\u6703\", \"\\u8463\\u4e8b\\u6703\", \"\\u85cd\\u71c8\", \"\\u878d\\u5238\", \"\\u878d\\u5238\", \"\\u884c\\u5eab\", \"\\u884c\\u5eab\", \"\\u885b\\u967d\\u53f0\", \"\\u8868\\u73fe\", \"\\u8868\\u73fe\", \"\\u8868\\u73fe\", \"\\u8868\\u793a\", \"\\u8868\\u793a\", \"\\u8868\\u793a\", \"\\u8868\\u793a\", \"\\u8868\\u793a\", \"\\u8868\\u793a\", \"\\u8868\\u793a\", \"\\u88c1\\u54e1\", \"\\u898f\\u5283\", \"\\u898f\\u5283\", \"\\u898f\\u5283\", \"\\u898f\\u5283\", \"\\u898f\\u5283\", \"\\u898f\\u5283\", \"\\u898f\\u5283\", \"\\u898f\\u7bc4\", \"\\u898f\\u7bc4\", \"\\u898f\\u7bc4\", \"\\u898f\\u7bc4\", \"\\u898f\\u7bc4\", \"\\u89ba\\u5f97\", \"\\u89ba\\u5f97\", \"\\u89ba\\u5f97\", \"\\u89ba\\u5f97\", \"\\u89ba\\u5f97\", \"\\u89ba\\u5f97\", \"\\u89c0\\u5ff5\", \"\\u89c0\\u6e2c\\u7ad9\", \"\\u89e3\\u6c7a\\u65b9\\u6848\", \"\\u8a02\\u95b1\", \"\\u8a02\\u95b1\", \"\\u8a18\\u8005\", \"\\u8a18\\u8005\", \"\\u8a18\\u8005\", \"\\u8a18\\u8005\", \"\\u8a18\\u8005\", \"\\u8a18\\u8005\", \"\\u8a18\\u8005\", \"\\u8a55\\u7b49\", \"\\u8a55\\u8ad6\", \"\\u8a55\\u8ad6\", \"\\u8a55\\u8ad6\", \"\\u8a55\\u8ad6\", \"\\u8a73\\u76e1\", \"\\u8aa0\\u54c1\", \"\\u8aaa\\u6703\", \"\\u8abf\\u6f32\", \"\\u8abf\\u6f32\", \"\\u8abf\\u6f32\", \"\\u8abf\\u85aa\", \"\\u8acb\\u554f\", \"\\u8acb\\u554f\", \"\\u8acb\\u554f\", \"\\u8acb\\u7559\", \"\\u8b49\\u5238\", \"\\u8b49\\u5238\", \"\\u8b49\\u5238\", \"\\u8b49\\u5238\", \"\\u8b49\\u5238\", \"\\u8b8a\\u58d3\\u5668\", \"\\u8c46\\u8150\", \"\\u8c46\\u8150\", \"\\u8c46\\u8150\", \"\\u8ca1\\u52d9\\u5831\\u544a\", \"\\u8ca1\\u653f\\u90e8\", \"\\u8ca1\\u653f\\u90e8\", \"\\u8ca1\\u653f\\u90e8\", \"\\u8cb7\\u4e00\\u9001\\u4e00\", \"\\u8cb7\\u5165\", \"\\u8cb7\\u5165\", \"\\u8cb7\\u5165\", \"\\u8cb7\\u5165\", \"\\u8cb7\\u623f\", \"\\u8cb7\\u623f\", \"\\u8cb7\\u623f\", \"\\u8cb7\\u623f\", \"\\u8cb7\\u6c23\", \"\\u8cb7\\u6c23\", \"\\u8cb7\\u6c23\", \"\\u8cb7\\u8d85\", \"\\u8cb7\\u8d85\", \"\\u8cb7\\u8d85\", \"\\u8cb7\\u8d85\", \"\\u8cb7\\u9032\", \"\\u8cb7\\u9032\", \"\\u8cb7\\u9032\", \"\\u8cb7\\u9032\", \"\\u8cb7\\u9032\", \"\\u8cb7\\u9032\\u8ce3\\u51fa\", \"\\u8cb8\\u6b3e\", \"\\u8cb8\\u6b3e\", \"\\u8cb8\\u6b3e\", \"\\u8cb8\\u6b3e\", \"\\u8cb8\\u6b3e\", \"\\u8cbb\\u7387\", \"\\u8cbf\\u6613\", \"\\u8cbf\\u6613\", \"\\u8cc7\\u589e\", \"\\u8cc7\\u589e\\u5f35\", \"\\u8cc7\\u672c\", \"\\u8cc7\\u672c\", \"\\u8cc7\\u672c\", \"\\u8cc7\\u672c\", \"\\u8cc7\\u7522\", \"\\u8cc7\\u7522\", \"\\u8cc7\\u7522\", \"\\u8cc7\\u7522\", \"\\u8cc7\\u7522\", \"\\u8cc7\\u7522\", \"\\u8cc7\\u8a0a\", \"\\u8cc7\\u8a0a\", \"\\u8cc7\\u8a0a\", \"\\u8cc7\\u8a0a\", \"\\u8cc7\\u8a0a\", \"\\u8cc7\\u8a0a\", \"\\u8cc7\\u8a0a\", \"\\u8cc7\\u91d1\", \"\\u8cc7\\u91d1\", \"\\u8cc7\\u91d1\", \"\\u8cc7\\u91d1\", \"\\u8cc7\\u91d1\", \"\\u8cc7\\u91d1\", \"\\u8cc7\\u91d1\", \"\\u8ce3\\u51fa\", \"\\u8ce3\\u51fa\", \"\\u8ce3\\u51fa\", \"\\u8ce3\\u8d85\", \"\\u8ce3\\u8d85\", \"\\u8cea\\u62bc\", \"\\u8cf4\\u6e05\\u5fb7\", \"\\u8cfa\\u9322\", \"\\u8cfa\\u9322\", \"\\u8cfa\\u9322\", \"\\u8d77\\u8a16\", \"\\u8eca\\u4f4d\", \"\\u8eca\\u4f4d\", \"\\u8f1d\\u9054\", \"\\u8f1d\\u9054\", \"\\u8f49\\u70ba\", \"\\u8f49\\u70ba\", \"\\u8f49\\u70ba\", \"\\u8f49\\u8f09\", \"\\u8ffd\\u9ad8\", \"\\u9000\\u6b3e\", \"\\u9019\\u652f\", \"\\u901a\\u7e2e\", \"\\u9023\\u7d50\", \"\\u9023\\u7d50\", \"\\u9023\\u7d50\", \"\\u9023\\u7d50\", \"\\u9023\\u7d50\", \"\\u9023\\u7d50\", \"\\u9023\\u7d50\", \"\\u9031\\u56db\", \"\\u9032\\u5834\", \"\\u9032\\u5834\", \"\\u9032\\u5834\", \"\\u9032\\u5834\", \"\\u9032\\u5834\", \"\\u9032\\u5834\", \"\\u9060\\u6771\", \"\\u9060\\u6771\", \"\\u9060\\u6771\", \"\\u9060\\u6771\", \"\\u9060\\u6771\", \"\\u9075\\u5b88\", \"\\u9075\\u5b88\", \"\\u9078\\u9ad8\", \"\\u907f\\u96aa\", \"\\u90a6\\u7279\", \"\\u90e8\\u4f4d\", \"\\u90e8\\u4f4d\", \"\\u914d\\u606f\", \"\\u914d\\u606f\", \"\\u914d\\u767c\", \"\\u914d\\u767c\", \"\\u914d\\u767c\", \"\\u914d\\u80a1\", \"\\u914d\\u80a1\", \"\\u91cd\\u5283\", \"\\u91cd\\u5283\", \"\\u91cd\\u5283\", \"\\u91cd\\u96fb\", \"\\u91d1\\u5143\", \"\\u91d1\\u5bcc\", \"\\u91d1\\u6cb3\", \"\\u91d1\\u7ba1\\u6703\", \"\\u91d1\\u7ba1\\u6703\", \"\\u91d1\\u7ba1\\u6703\", \"\\u91d1\\u7ba1\\u6703\", \"\\u91d1\\u7ba1\\u6703\", \"\\u91d1\\u878d\\u80a1\", \"\\u91d1\\u984d\", \"\\u91d1\\u984d\", \"\\u91d1\\u984d\", \"\\u91d1\\u984d\", \"\\u91d1\\u984d\", \"\\u91d1\\u984d\", \"\\u91d1\\u984d\", \"\\u9280\\u884c\", \"\\u9280\\u884c\", \"\\u9280\\u884c\", \"\\u9280\\u884c\", \"\\u9280\\u884c\", \"\\u9280\\u884c\", \"\\u9280\\u884c\", \"\\u92b7\\u552e\\u91cf\", \"\\u92b7\\u552e\\u984d\", \"\\u9577\\u69ae\", \"\\u9577\\u69ae\", \"\\u9577\\u69ae\", \"\\u9577\\u69ae\", \"\\u9577\\u69ae\", \"\\u9577\\u69ae\", \"\\u9580\\u724c\", \"\\u958b\\u50f9\", \"\\u958b\\u50f9\", \"\\u9592\\u9322\", \"\\u963f\\u7fd4\", \"\\u963f\\u7fd4\", \"\\u963f\\u80a5\", \"\\u9644\\u8fd1\", \"\\u9644\\u8fd1\", \"\\u9644\\u8fd1\", \"\\u9644\\u8fd1\", \"\\u9644\\u8fd1\", \"\\u9644\\u8fd1\", \"\\u9644\\u8fd1\", \"\\u964d\\u606f\", \"\\u964d\\u606f\", \"\\u964d\\u606f\", \"\\u9650\\u91cf\", \"\\u96de\\u584a\", \"\\u96f6\\u80a1\", \"\\u96f6\\u80a1\", \"\\u96fb\\u50f9\", \"\\u96fb\\u50f9\", \"\\u96fb\\u50f9\", \"\\u96fb\\u50f9\", \"\\u96fb\\u529b\", \"\\u96fb\\u529b\", \"\\u96fb\\u5546\", \"\\u96fb\\u5b50\", \"\\u96fb\\u5b50\", \"\\u96fb\\u5b50\", \"\\u96fb\\u5b50\", \"\\u96fb\\u5b50\", \"\\u96fb\\u5ee0\", \"\\u96fb\\u8cc7\\u589e\", \"\\u9700\\u6c42\", \"\\u9700\\u6c42\", \"\\u9700\\u6c42\", \"\\u9700\\u6c42\", \"\\u9700\\u6c42\", \"\\u9700\\u6c42\", \"\\u9700\\u8981\", \"\\u9700\\u8981\", \"\\u9700\\u8981\", \"\\u9700\\u8981\", \"\\u9700\\u8981\", \"\\u9700\\u8981\", \"\\u9810\\u552e\", \"\\u9810\\u552e\", \"\\u9810\\u552e\", \"\\u9810\\u552e\", \"\\u9810\\u671f\", \"\\u9810\\u671f\", \"\\u9810\\u671f\", \"\\u9810\\u671f\", \"\\u9810\\u671f\", \"\\u9810\\u8a2d\", \"\\u9818\\u57df\", \"\\u9818\\u57df\", \"\\u9818\\u57df\", \"\\u9818\\u57df\", \"\\u9858\\u53d7\", \"\\u9858\\u610f\", \"\\u9858\\u610f\", \"\\u9858\\u610f\", \"\\u9858\\u610f\", \"\\u9858\\u610f\", \"\\u985e\\u80a1\", \"\\u985e\\u80a1\", \"\\u985e\\u80a1\", \"\\u98a8\\u96aa\", \"\\u98a8\\u96aa\", \"\\u98a8\\u96aa\", \"\\u98a8\\u96aa\", \"\\u98a8\\u96aa\", \"\\u98f2\\u6599\", \"\\u9910\\u9ede\", \"\\u9918\\u984d\", \"\\u9918\\u984d\", \"\\u9918\\u984d\", \"\\u9ad8\\u606f\", \"\\u9ad8\\u606f\", \"\\u9ad8\\u606f\", \"\\u9ad8\\u606f\", \"\\u9d3b\\u6d77\", \"\\u9ede\\u6578\", \"\\u9ede\\u6578\", \"\\u9ede\\u6578\"]}, \"R\": 30, \"lambda.step\": 0.01, \"plot.opts\": {\"xlab\": \"PC1\", \"ylab\": \"PC2\"}, \"topic.order\": [3, 5, 7, 1, 2, 4, 6]};\n",
              "\n",
              "function LDAvis_load_lib(url, callback){\n",
              "  var s = document.createElement('script');\n",
              "  s.src = url;\n",
              "  s.async = true;\n",
              "  s.onreadystatechange = s.onload = callback;\n",
              "  s.onerror = function(){console.warn(\"failed to load library \" + url);};\n",
              "  document.getElementsByTagName(\"head\")[0].appendChild(s);\n",
              "}\n",
              "\n",
              "if(typeof(LDAvis) !== \"undefined\"){\n",
              "   // already loaded: just create the visualization\n",
              "   !function(LDAvis){\n",
              "       new LDAvis(\"#\" + \"ldavis_el4101332497485449606288697928\", ldavis_el4101332497485449606288697928_data);\n",
              "   }(LDAvis);\n",
              "}else if(typeof define === \"function\" && define.amd){\n",
              "   // require.js is available: use it to load d3/LDAvis\n",
              "   require.config({paths: {d3: \"https://d3js.org/d3.v5\"}});\n",
              "   require([\"d3\"], function(d3){\n",
              "      window.d3 = d3;\n",
              "      LDAvis_load_lib(\"https://cdn.jsdelivr.net/gh/bmabey/pyLDAvis@3.4.0/pyLDAvis/js/ldavis.v3.0.0.js\", function(){\n",
              "        new LDAvis(\"#\" + \"ldavis_el4101332497485449606288697928\", ldavis_el4101332497485449606288697928_data);\n",
              "      });\n",
              "    });\n",
              "}else{\n",
              "    // require.js not available: dynamically load d3 & LDAvis\n",
              "    LDAvis_load_lib(\"https://d3js.org/d3.v5.js\", function(){\n",
              "         LDAvis_load_lib(\"https://cdn.jsdelivr.net/gh/bmabey/pyLDAvis@3.4.0/pyLDAvis/js/ldavis.v3.0.0.js\", function(){\n",
              "                 new LDAvis(\"#\" + \"ldavis_el4101332497485449606288697928\", ldavis_el4101332497485449606288697928_data);\n",
              "            })\n",
              "         });\n",
              "}\n",
              "</script>"
            ]
          },
          "metadata": {},
          "execution_count": 117
        }
      ],
      "source": [
        "pyLDAvis.enable_notebook()\n",
        "p = pyLDAvis.gensim_models.prepare(best_model, corpus, dictionary)\n",
        "p"
      ]
    },
    {
      "cell_type": "markdown",
      "metadata": {
        "id": "n57gmqy82H9T"
      },
      "source": [
        "可以看到(2,1,6)很相近，試試看跑5個主題"
      ]
    },
    {
      "cell_type": "code",
      "execution_count": null,
      "metadata": {
        "colab": {
          "base_uri": "https://localhost:8080/",
          "height": 916
        },
        "id": "SdR0i_tP2H9T",
        "outputId": "f9538018-ca83-442a-bdd4-1fde60cd8576"
      },
      "outputs": [
        {
          "output_type": "stream",
          "name": "stderr",
          "text": [
            "/usr/local/lib/python3.10/dist-packages/ipykernel/ipkernel.py:283: DeprecationWarning: `should_run_async` will not call `transform_cell` automatically in the future. Please pass the result to `transformed_cell` argument and any exception that happen during thetransform in `preprocessing_exc_tuple` in IPython 7.17 and above.\n",
            "  and should_run_async(code)\n"
          ]
        },
        {
          "output_type": "execute_result",
          "data": {
            "text/plain": [
              "PreparedData(topic_coordinates=              x         y  topics  cluster       Freq\n",
              "topic                                                \n",
              "2      0.132764  0.056492       1        1  32.068120\n",
              "0     -0.013621 -0.212234       2        1  24.987827\n",
              "4      0.118970 -0.109539       3        1  23.225134\n",
              "1     -0.337549  0.054321       4        1  12.891208\n",
              "3      0.099436  0.210960       5        1   6.827710, topic_info=     Term         Freq        Total Category  logprob  loglift\n",
              "318    累計  1363.000000  1363.000000  Default  30.0000  30.0000\n",
              "3251   股利  1770.000000  1770.000000  Default  29.0000  29.0000\n",
              "1217   本期  1128.000000  1128.000000  Default  28.0000  28.0000\n",
              "71     公司  2790.000000  2790.000000  Default  27.0000  27.0000\n",
              "152    盈餘  1245.000000  1245.000000  Default  26.0000  26.0000\n",
              "...   ...          ...          ...      ...      ...      ...\n",
              "7792   廣達   125.931731   308.979297   Topic5  -5.5673   1.7866\n",
              "2659   標題   163.830908  1379.391494   Topic5  -5.3042   0.5536\n",
              "8175   證券   140.478354   592.572432   Topic5  -5.4580   1.2448\n",
              "195    開發   133.606317   461.183009   Topic5  -5.5082   1.4453\n",
              "1563   科技   135.115623   604.699998   Topic5  -5.4969   1.1856\n",
              "\n",
              "[406 rows x 6 columns], token_table=      Topic      Freq Term\n",
              "term                      \n",
              "589       1  0.033065   一下\n",
              "589       2  0.443619   一下\n",
              "589       3  0.520770   一下\n",
              "589       4  0.001378   一下\n",
              "589       5  0.001378   一下\n",
              "...     ...       ...  ...\n",
              "1343      2  0.814471   高鐵\n",
              "1343      4  0.006186   高鐵\n",
              "1343      5  0.084540   高鐵\n",
              "7717      1  0.006106   鴻海\n",
              "7717      5  0.989226   鴻海\n",
              "\n",
              "[957 rows x 3 columns], R=30, lambda_step=0.01, plot_opts={'xlab': 'PC1', 'ylab': 'PC2'}, topic_order=[3, 1, 5, 2, 4])"
            ],
            "text/html": [
              "\n",
              "<link rel=\"stylesheet\" type=\"text/css\" href=\"https://cdn.jsdelivr.net/gh/bmabey/pyLDAvis@3.4.0/pyLDAvis/js/ldavis.v1.0.0.css\">\n",
              "\n",
              "\n",
              "<div id=\"ldavis_el4101332497485460806901178838\" style=\"background-color:white;\"></div>\n",
              "<script type=\"text/javascript\">\n",
              "\n",
              "var ldavis_el4101332497485460806901178838_data = {\"mdsDat\": {\"x\": [0.13276351732483316, -0.013620646081315236, 0.11897032668441325, -0.337548867499313, 0.09943566957138157], \"y\": [0.05649204061112275, -0.2122337679307688, -0.10953913857826714, 0.05432072410307746, 0.2109601417948359], \"topics\": [1, 2, 3, 4, 5], \"cluster\": [1, 1, 1, 1, 1], \"Freq\": [32.06812011261745, 24.987827345658463, 23.22513436889025, 12.891208023367831, 6.82771014946602]}, \"tinfo\": {\"Term\": [\"\\u7d2f\\u8a08\", \"\\u80a1\\u5229\", \"\\u672c\\u671f\", \"\\u516c\\u53f8\", \"\\u76c8\\u9918\", \"\\u5143\\u80a1\", \"\\u539f\\u6587\", \"\\u8463\\u4e8b\\u6703\", \"\\u5143\\u6708\", \"\\u73fe\\u91d1\", \"\\u8cc7\\u8a0a\", \"\\u65e5\\u671f\", \"\\u914d\\u80a1\", \"\\u80a1\\u6771\", \"\\u53f0\\u7063\", \"\\u4f86\\u6e90\", \"\\u516c\\u958b\", \"\\u80a1\\u606f\", \"\\u6de8\\u5229\", \"\\u7db2\\u5740\", \"\\u6bcf\\u80a1\", \"\\u623f\\u5c4b\", \"\\u4e8b\\u9805\", \"\\u71df\\u696d\", \"\\u5104\\u5143\", \"\\u6c7a\\u8b70\", \"\\u6a19\\u984c\", \"\\u5229\\u7387\", \"\\u570b\\u6cf0\", \"\\u914d\\u767c\", \"\\u6676\\u7247\", \"\\u4f3a\\u670d\\u5668\", \"\\u5104\\u7f8e\\u5143\", \"\\u7d14\\u76ca\", \"\\u53f0\\u96fb\", \"\\u7522\\u80fd\", \"\\u96fb\\u529b\", \"\\u4eba\\u5de5\\u667a\\u6167\", \"\\u61c9\\u7528\", \"\\u88fd\\u7a0b\", \"\\u6bdb\\u5229\\u7387\", \"\\u8f1d\\u9054\", \"\\u91d1\\u6cb3\", \"\\u5fae\\u8edf\", \"\\u7528\\u96fb\", \"\\u4ee3\\u5de5\", \"\\u6838\\u96fb\", \"\\u88fd\\u9020\", \"\\u7279\\u65af\\u62c9\", \"\\u767c\\u96fb\", \"\\u82f1\\u7279\\u723e\", \"\\u4ec1\\u52f3\", \"\\u904b\\u7b97\", \"\\u6a5f\\u5668\\u4eba\", \"\\u6838\\u80fd\", \"\\u4e09\\u661f\", \"\\u96fb\\u50f9\", \"\\u8eca\\u7528\", \"\\u7da0\\u96fb\", \"\\u9762\\u677f\", \"\\u8a55\\u8ad6\", \"\\u7f72\\u540d\", \"\\u767c\\u5e03\", \"\\u76ee\\u6a19\\u50f9\", \"\\u539f\\u6587\", \"\\u5168\\u7403\", \"\\u860b\\u679c\", \"\\u8a18\\u8005\", \"\\u5408\\u4f5c\", \"\\u7522\\u696d\", \"\\u5ba2\\u6236\", \"\\u9818\\u57df\", \"\\u4e2d\\u570b\", \"\\u5927\\u9678\", \"\\u8abf\\u6f32\", \"\\u6307\\u51fa\", \"\\u4f01\\u696d\", \"\\u4eca\\u5e74\", \"\\u6210\\u9577\", \"\\u5fc3\\u5f97\", \"\\u8868\\u793a\", \"\\u7f8e\\u570b\", \"\\u6280\\u8853\", \"\\u7522\\u54c1\", \"\\u53f0\\u7063\", \"\\u9023\\u7d50\", \"\\u5104\\u5143\", \"\\u53bb\\u5e74\", \"\\u5e02\\u5834\", \"\\u6301\\u7e8c\", \"\\u9810\\u671f\", \"\\u6642\\u9593\", \"\\u534a\\u5c0e\\u9ad4\", \"\\u80a1\\u50f9\", \"\\u5167\\u5bb9\", \"\\u71df\\u6536\", \"\\u6a19\\u984c\", \"\\u516c\\u53f8\", \"\\u9700\\u6c42\", \"\\u79d1\\u6280\", \"\\u672a\\u4f86\", \"\\u53f0\\u80a1\", \"\\u76ee\\u524d\", \"\\u6295\\u8cc7\", \"\\u8766\\u76ae\", \"\\u7279\\u50f9\", \"\\u88dd\\u6f62\", \"\\u61c9\\u586b\", \"\\u5c4b\\u4e3b\", \"\\u6c34\\u6876\", \"\\u623f\\u6771\", \"\\u5169\\u623f\", \"\\u6298\\u6263\", \"\\u8cb7\\u4e00\\u9001\\u4e00\", \"\\u539f\\u50f9\", \"\\u5be6\\u576a\", \"\\u6f22\\u5821\", \"\\u6298\\u62b5\", \"\\u623f\\u87f2\", \"\\u5ba4\\u5167\", \"\\u9802\\u6a13\", \"\\u725b\\u8089\", \"\\u5ba2\\u5ef3\", \"\\u623f\\u5ba2\", \"\\u5e02\\u5340\", \"\\u6f0f\\u6c34\", \"\\u96de\\u584a\", \"\\u6298\\u50f9\\u5238\", \"\\u57fa\\u6cf0\", \"\\u958b\\u8eca\", \"\\u9910\\u9ede\", \"\\u586b\\u5beb\", \"\\u901a\\u52e4\", \"\\u4e0d\\u5168\", \"\\u516c\\u5bd3\", \"\\u81ea\\u4f4f\", \"\\u79df\\u5c4b\", \"\\u51fa\\u79df\", \"\\u623f\\u5b50\", \"\\u7269\\u4ef6\", \"\\u623f\\u5c4b\", \"\\u622a\\u5716\", \"\\u512a\\u60e0\", \"\\u4ef2\\u4ecb\", \"\\u806f\\u7d61\", \"\\u53e4\\u5c4b\", \"\\u8cb7\\u623f\", \"\\u4e00\\u9593\", \"\\u6377\\u904b\", \"\\u5c45\\u4f4f\", \"\\u8eca\\u4f4d\", \"\\u576a\\u6578\", \"\\u6d3b\\u52d5\", \"\\u9810\\u552e\", \"\\u7e3d\\u50f9\", \"\\u900f\\u5929\", \"\\u6a13\\u5c64\", \"\\u9644\\u8fd1\", \"\\u672c\\u6587\", \"\\u958b\\u50f9\", \"\\u9858\\u610f\", \"\\u6843\\u5712\", \"\\u4f7f\\u7528\", \"\\u9ad8\\u9435\", \"\\u79df\\u91d1\", \"\\u5be6\\u50f9\", \"\\u5efa\\u7269\", \"\\u767b\\u9304\", \"\\u571f\\u5730\", \"\\u623f\\u50f9\", \"\\u4ea4\\u901a\", \"\\u751f\\u6d3b\", \"\\u683c\\u5c40\", \"\\u5927\\u6a13\", \"\\u6bd4\\u8f03\", \"\\u73fe\\u5728\", \"\\u4ee5\\u4e0a\", \"\\u76ee\\u524d\", \"\\u554f\\u984c\", \"\\u771f\\u7684\", \"\\u540c\\u610f\", \"\\u50f9\\u683c\", \"\\u61c9\\u8a72\", \"\\u662f\\u5426\", \"\\u89ba\\u5f97\", \"\\u770b\\u5230\", \"\\u77e5\\u9053\", \"\\u8cea\\u62bc\", \"\\u907f\\u96aa\", \"\\u91d1\\u878d\\u80a1\", \"\\u5b9a\\u984d\", \"\\u4fe1\\u8cb8\", \"\\u90e8\\u4f4d\", \"\\u6b50\\u5370\", \"\\u501f\\u9322\", \"\\u694a\\u91d1\\u9f8d\", \"\\u5df4\\u83f2\\u7279\", \"\\u6b63\\u4e8c\", \"\\u69d3\\u687f\", \"\\u55ae\\u4f4d\\u540d\\u7a31\", \"\\u501f\\u6b3e\", \"\\u89c0\\u5ff5\", \"\\u672c\\u91d1\", \"\\u5b9a\\u5b58\", \"\\u5957\\u5229\", \"\\u9818\\u5230\", \"\\u4fdd\\u8b49\\u91d1\", \"\\u80a1\\u795e\", \"\\u51fa\\u5834\", \"\\u7a7a\\u624b\", \"\\u4e0d\\u914d\", \"\\u4fdd\\u55ae\", \"\\u4fdd\\u7f85\", \"\\u9577\\u5929\", \"\\u8ffd\\u9ad8\", \"\\u80a1\\u7248\", \"\\u884c\\u5eab\", \"\\u50b5\\u5238\", \"\\u7533\\u8cfc\", \"\\u5fc3\\u7406\", \"\\u5403\\u8c46\\u8150\", \"\\u671f\\u8ca8\", \"\\u914d\\u606f\", \"\\u5347\\u606f\", \"\\u5143\\u5927\", \"\\u6563\\u6236\", \"\\u6210\\u5206\\u80a1\", \"\\u91d1\\u7ba1\\u6703\", \"\\u6de8\\u503c\", \"\\u5229\\u7387\", \"\\u64cd\\u4f5c\", \"\\u57fa\\u91d1\", \"\\u79df\\u8cc3\", \"\\u5e73\\u6e96\", \"\\u592e\\u884c\", \"\\u8ce3\\u51fa\", \"\\u5229\\u606f\", \"\\u8cc7\\u91d1\", \"\\u5b9a\\u671f\", \"\\u80a1\\u7968\", \"\\u52df\\u96c6\", \"\\u80a1\\u606f\", \"\\u98a8\\u96aa\", \"\\u9032\\u5834\", \"\\u8cb7\\u9032\", \"\\u9280\\u884c\", \"\\u8cfa\\u9322\", \"\\u6a19\\u7684\", \"\\u80a1\\u5e02\", \"\\u6295\\u8cc7\", \"\\u73fe\\u5728\", \"\\u6295\\u4fe1\", \"\\u767c\\u884c\", \"\\u61c9\\u8a72\", \"\\u964d\\u606f\", \"\\u77e5\\u9053\", \"\\u771f\\u7684\", \"\\u6295\\u8cc7\\u4eba\", \"\\u76ee\\u524d\", \"\\u4eca\\u5929\", \"\\u80a1\\u50f9\", \"\\u4e00\\u4e0b\", \"\\u5df2\\u7d93\", \"\\u5e02\\u5834\", \"\\u80a1\\u5229\", \"\\u91d1\\u984d\", \"\\u89ba\\u5f97\", \"\\u53f0\\u80a1\", \"\\u672c\\u671f\", \"\\u671f\\u672b\", \"\\u8ca1\\u52d9\\u5831\\u544a\", \"\\u589e\\u6e1b\", \"\\u6b78\\u5c6c\\u65bc\", \"\\u80a1\\u7968\\u540d\\u7a31\", \"\\u6216\\u7d93\", \"\\u8d77\\u8a16\", \"\\u6bdb\\u640d\", \"\\u71df\\u696d\\u6bdb\\u5229\", \"\\u5be9\\u8a08\", \"\\u640d\\u4edf\", \"\\u63d0\\u5831\", \"\\u89c0\\u6e2c\\u7ad9\", \"\\u9ad8\\u5730\", \"\\u6b21\\u8981\", \"\\u6de8\\u640d\", \"\\u61c9\\u6558\\u660e\", \"\\u5468\\u8f49\\u7387\", \"\\u767e\\u842c\\u5143\", \"\\u4e0b\\u5c64\", \"\\u5143\\u6708\", \"\\u4e0a\\u5c64\", \"\\u696d\\u4e3b\", \"\\u5099\\u8a3b\", \"\\u6240\\u5217\", \"\\u81ea\\u7d50\", \"\\u4f55\\u8b02\", \"\\u6c11\\u570b\", \"\\u81ea\\u7d50\\u6578\", \"\\u5143\\u80a1\", \"\\u4edf\\u5143\", \"\\u65e5\\u671f\", \"\\u7d2f\\u8a08\", \"\\u4e8b\\u9805\", \"\\u516c\\u7a4d\\u8f49\", \"\\u6240\\u5c6c\", \"\\u6bcd\\u516c\\u53f8\", \"\\u71df\\u696d\", \"\\u7a05\\u524d\", \"\\u76c8\\u9918\", \"\\u914d\\u80a1\", \"\\u6cd5\\u5b9a\", \"\\u516c\\u7a4d\", \"\\u80a1\\u4efd\", \"\\u6de8\\u5229\", \"\\u516c\\u958b\", \"\\u8463\\u4e8b\\u6703\", \"\\u6c7a\\u8b70\", \"\\u767c\\u653e\", \"\\u80a1\\u6771\", \"\\u8cc7\\u8a0a\", \"\\u80a1\\u5229\", \"\\u4f86\\u6e90\", \"\\u73fe\\u91d1\", \"\\u516c\\u53f8\", \"\\u7db2\\u5740\", \"\\u6bcf\\u80a1\", \"\\u914d\\u767c\", \"\\u5e74\\u5ea6\", \"\\u8cc7\\u672c\", \"\\u6a19\\u984c\", \"\\u589e\\u5f35\", \"\\u8cc7\\u589e\", \"\\u5f35\\u5238\", \"\\u9d3b\\u6d77\", \"\\u83ef\\u901a\", \"\\u71c8\\u865f\", \"\\u6771\\u967d\", \"\\u6210\\u92fc\", \"\\u5546\\u9280\", \"\\u4e9e\\u79d1\", \"\\u91d1\\u5143\", \"\\u81f3\\u4e0a\", \"\\u91d1\\u53f0\", \"\\u4e2d\\u78ca\", \"\\u85cd\\u71c8\", \"\\u83ef\\u65b0\", \"\\u90a6\\u7279\", \"\\u9078\\u9ad8\", \"\\u8cb7\\u9032\\u8ce3\\u51fa\", \"\\u524d\\u65e5\", \"\\u91d1\\u5bcc\", \"\\u6578\\u6392\", \"\\u806f\\u5f37\", \"\\u806f\\u5927\", \"\\u589e\\u5f35\\u5238\", \"\\u7da0\\u71c8\", \"\\u5bcc\\u6642\", \"\\u512a\\u5229\\u9ad8\", \"\\u96fb\\u8cc7\\u589e\", \"\\u77fd\\u683c\", \"\\u5927\\u7f8e\\u50b5\", \"\\u540d\\u4e2d\", \"\\u795e\\u9054\", \"\\u6b23\\u8208\", \"\\u7d05\\u71c8\", \"\\u4e2d\\u4fe1\", \"\\u6295\\u63a7\", \"\\u8ce3\\u8d85\", \"\\u6392\\u884c\", \"\\u570b\\u6cf0\", \"\\u5fa9\\u83ef\", \"\\u8cb7\\u8d85\", \"\\u512a\\u606f\", \"\\u5927\\u53f0\\u7063\", \"\\u4e16\\u9054\", \"\\u623f\\u5e02\", \"\\u5609\\u7fa9\", \"\\u71df\\u5efa\", \"\\u7d71\\u8a08\", \"\\u5bcc\\u90a6\", \"\\u6708\\u5149\", \"\\u4e0a\\u6d77\", \"\\u82f1\\u696d\\u9054\", \"\\u4fe1\\u7528\", \"\\u9577\\u69ae\", \"\\u548c\\u78a9\", \"\\u7d71\\u4e00\", \"\\u7cbe\\u9078\", \"\\u9ad8\\u606f\", \"\\u6210\\u4ea4\\u91cf\", \"\\u4ea4\\u6613\", \"\\u53f0\\u7063\", \"\\u7fa4\\u76ca\", \"\\u5167\\u6587\", \"\\u623f\\u50f9\", \"\\u80a1\\u606f\", \"\\u5916\\u8cc7\", \"\\u7db2\\u5740\", \"\\u5104\\u5143\", \"\\u4f86\\u6e90\", \"\\u8cb7\\u8ce3\", \"\\u5ee3\\u9054\", \"\\u6a19\\u984c\", \"\\u8b49\\u5238\", \"\\u958b\\u767c\", \"\\u79d1\\u6280\"], \"Freq\": [1363.0, 1770.0, 1128.0, 2790.0, 1245.0, 1105.0, 2238.0, 967.0, 844.0, 1349.0, 1347.0, 836.0, 821.0, 956.0, 1966.0, 978.0, 779.0, 1014.0, 646.0, 753.0, 768.0, 1061.0, 542.0, 541.0, 1463.0, 572.0, 1379.0, 908.0, 406.0, 677.0, 406.71981759629534, 324.17739962084, 227.7030486152945, 207.17742457700186, 171.84278126014988, 162.72771284002883, 152.35386606680234, 187.8911329415383, 183.22396069764454, 157.06281376272628, 124.84750632324088, 253.71352998551382, 114.35954300029267, 112.10141581607239, 181.20837623707476, 105.0562958129702, 104.71152217834427, 116.44854087925972, 124.90187929078833, 95.3988043266379, 117.78524721104435, 90.43903270766405, 102.68429537868411, 123.47337689993743, 89.56029742819364, 99.20850748320775, 499.0220120356487, 74.69987884454802, 68.90771602500607, 67.57764636716885, 757.6473115191345, 715.4405522767314, 809.0837423306922, 137.92642174860043, 2141.4353346740113, 428.9079532389357, 155.39019170601063, 1028.2135418484863, 237.8315772465734, 624.4808673165112, 392.1028788905304, 168.14686124266217, 830.1774980988375, 174.5760456390738, 231.7680992662946, 548.7457214027568, 377.8478979839776, 1087.967648985655, 754.1945469799862, 803.0119921621123, 994.6339360940159, 742.5380063985879, 369.8243439090707, 415.45784363853767, 1282.7187508921454, 748.487566073309, 956.6972119682691, 776.4839673682734, 968.8694036426299, 541.0205428169834, 376.8745912271438, 862.0426883223653, 398.66526534300544, 661.0456697380545, 798.0600692098162, 519.2712837092172, 697.2178766259374, 979.8328105376263, 453.4753072056542, 441.0660155110567, 502.4444632398898, 481.5860773610946, 533.1543225195671, 483.56224727740647, 172.20203154148703, 102.41140635653207, 128.77952918761568, 120.07358491633939, 233.27488817224315, 93.65960437042968, 141.14961089883536, 106.91320015282537, 75.81967538177194, 60.8458570805169, 63.86392805949302, 66.2037387905661, 65.15754954911134, 56.852984914999006, 58.05582132976757, 171.28188606650644, 51.21499619397149, 52.30617247858821, 48.743268173464166, 64.16701307870412, 181.2807918021073, 47.28354851004883, 43.10510040302185, 47.30773071336548, 43.38058021539804, 85.20708172578065, 41.1482693486623, 117.95424369802451, 109.14065913149729, 46.195005305061535, 225.7571158175859, 87.883385990403, 88.6916712211799, 150.4232611813072, 622.5504619045714, 491.55313538513735, 990.9315306532834, 123.19527986643833, 319.33986937056477, 368.5296165690857, 289.14528500654296, 111.69032981980844, 398.26583443121706, 289.0407482344819, 335.31051544715496, 108.25878108046436, 638.3209658431425, 245.07042488677644, 305.82856179713224, 457.82494411533486, 277.4354251923783, 172.53971171625594, 266.3614927272212, 367.22683898390267, 414.4198271085634, 226.56932609239706, 433.1668204326028, 315.0183607811118, 555.7789328442616, 395.4415159836926, 204.70838960468782, 370.42518112662776, 418.0519041709389, 376.5188716729607, 410.9293605794313, 466.073041479101, 294.64512130557375, 313.8391062275044, 371.6164846526194, 312.8917031122, 459.34449085870364, 583.1631295073851, 485.72199447481364, 575.243668567554, 440.63954255018695, 439.7070251117209, 320.96507633330305, 390.9114394014065, 400.2027137635313, 358.1115807288457, 351.3564044072356, 350.86382893479964, 353.4985375628227, 166.04318394825046, 118.93294347348161, 114.66222989658415, 106.3261962954184, 162.38688894677964, 70.01229379475058, 64.40466214983243, 60.724246197341095, 75.01724755441681, 52.34045363525324, 51.24790051028897, 173.80685400872338, 48.882301543396494, 49.34684521617541, 55.71428029200825, 75.12337712841452, 160.29225584187202, 52.94443024054113, 39.9895706198617, 38.747067540589335, 40.68566824358303, 122.1290608509378, 35.606928912423854, 35.571103165500936, 36.653742945064735, 59.5719225826795, 37.424898755389655, 33.1837196384065, 44.17294690589554, 82.10603350612841, 249.63458770661586, 354.87792559372065, 70.8573298069228, 103.96727040006772, 130.71088537670704, 428.10644408467584, 433.18878589553293, 243.89025109388749, 199.6121600749261, 454.6680751004908, 342.9351310869298, 346.52260045272357, 806.5265483990403, 229.29592710976416, 514.4839612629995, 126.40352048462255, 127.37728640991155, 295.6169257243851, 170.78720592661205, 215.3403253865654, 641.1534648319813, 143.96135390889876, 849.5902774482532, 286.3532797059436, 780.2922470421497, 387.47689490435727, 293.26946641749305, 312.73277665761344, 547.0749685714053, 215.81958571100864, 376.24086514640754, 378.3639265150179, 871.6719117006649, 775.3786735736602, 480.2523116063935, 339.94105277919573, 536.5038834718911, 347.2672434482431, 459.7856324556408, 474.9423609514371, 375.20449961013674, 574.7287513489573, 397.87336415822625, 442.5264132724074, 377.6432478409668, 410.7856694874746, 441.89697131244367, 447.1434347889565, 380.253218277147, 365.65239416661234, 366.6423451456164, 1126.7243062845741, 416.07085252104935, 258.4944809367186, 357.08934909894833, 327.1737029482753, 130.837348935779, 137.8128683654761, 137.8128683654761, 136.2246435523038, 139.35795749638282, 171.89479547020937, 126.09216307289873, 146.53263713862296, 432.5881529478131, 75.64748937240134, 77.90274513387615, 288.0033157285442, 421.1127284175441, 57.16229188442853, 65.69970843677842, 78.74753508454154, 829.9078070218599, 82.93111667838181, 335.68967482150094, 194.7713416155113, 57.307786062980554, 220.78896815625077, 32.27403198219329, 164.42426619394206, 40.59829856680117, 1070.6529617368267, 464.94692763666757, 807.1709410838271, 1300.6142248646916, 520.3693967651278, 366.87568637592057, 358.2973510574578, 369.6870258505257, 513.1669404675624, 245.70916324280356, 1134.9794644927742, 759.0383008307157, 375.2346194435047, 401.65339189070136, 312.6952698789036, 586.889574278308, 692.4071326134192, 844.591094735461, 508.6686002489807, 469.18077381961746, 757.4380640993041, 963.7960382939218, 1188.117524687869, 733.867869522219, 918.2125328441766, 1360.4061632819148, 561.9475577817814, 530.9286408487548, 489.47700343893456, 429.14477502496305, 401.71019131108466, 411.49702123609075, 294.95056492760887, 153.68847998344333, 129.22919778648136, 162.0575444602801, 58.34372126520688, 65.52915400201267, 64.71665953208368, 49.9969544939238, 61.20418957845346, 50.12630881364845, 51.300481967516994, 45.05336400095081, 51.569451158446334, 41.70101467286684, 36.348180127163495, 52.863734926536374, 35.772196357150506, 35.08359977306261, 34.304388782392365, 30.735992300033043, 43.529146415980215, 73.46369141426342, 30.924830190828605, 102.723898695063, 29.722334998637628, 45.78954513960265, 41.613711730729996, 33.01830117659154, 28.32607309052913, 28.837987889688616, 63.43836135018132, 45.8767444785645, 52.009024081370505, 41.8387186410659, 48.463401111738946, 315.3224179212138, 89.62488114642112, 145.27375336651215, 325.3924623481968, 340.5264150887242, 167.46283674692722, 278.6654351009092, 65.76125581125905, 106.43040588401215, 95.49578912446475, 197.59189862485806, 103.54254028670891, 100.16336541060812, 151.85280055717317, 138.6349233067191, 86.00861616005524, 82.85216508728564, 105.57702269434817, 109.05676171898635, 263.2284085391028, 88.6293390520329, 162.48270119326017, 93.82411736138083, 206.32371235177607, 152.15335720501488, 214.04366840282003, 295.1961735211521, 122.5459181274569, 169.4403527569327, 170.80390867755423, 198.0868148290076, 164.41694944766022, 165.55696808816904, 188.73187788744968, 167.41461138754008, 136.81924313037936, 125.9317312810672, 163.83090849536256, 140.47835378534143, 133.6063168157686, 135.11562321784785], \"Total\": [1363.0, 1770.0, 1128.0, 2790.0, 1245.0, 1105.0, 2238.0, 967.0, 844.0, 1349.0, 1347.0, 836.0, 821.0, 956.0, 1966.0, 978.0, 779.0, 1014.0, 646.0, 753.0, 768.0, 1061.0, 542.0, 541.0, 1463.0, 572.0, 1379.0, 908.0, 406.0, 677.0, 407.7418775646214, 325.28876907156916, 228.93496814237162, 208.34822564540445, 172.87344684246787, 163.71555817013746, 153.3652873670798, 189.1469360945973, 184.4521111956426, 158.19909211403535, 125.80496190541697, 255.720015221355, 115.27564088703919, 113.03582961925352, 182.76221162336793, 105.96261443406085, 105.6188767934064, 117.48187894417723, 126.11155694628104, 96.34765949952832, 118.96045507588917, 91.34716038447856, 103.76610650220785, 124.79484586017779, 90.56003256487395, 100.40161017643145, 505.0408486727842, 75.63599529097523, 69.81511580164465, 68.48718067167503, 772.7962546670047, 729.7638352682424, 833.9756933327403, 139.9925135877284, 2238.496681153795, 442.43636529820947, 158.29291085093254, 1093.0163803906444, 244.75723624273343, 663.6167991875386, 413.4397947481927, 172.76443792992768, 927.8746156367977, 179.75733354959658, 242.91003216825047, 615.3468917789066, 416.3164330996468, 1356.267380457504, 920.6778525718145, 993.21003326701, 1276.8291852893076, 930.443347842804, 427.96195136651335, 495.20682270635496, 1966.9194919008364, 1073.2080835226627, 1463.5475493778024, 1127.9749146164431, 1571.0163116921615, 742.0927635635522, 461.0711360063733, 1507.9440963061857, 510.7976548102883, 1114.1507552963446, 1522.2177600535874, 776.4262469192032, 1379.3914939998238, 2790.368232334221, 629.587750869972, 604.6999978010813, 998.1169822448917, 865.2517613941634, 1725.4406985419037, 1560.947013382123, 173.40327177978645, 103.13681919987258, 129.81546164557406, 121.09136845303479, 235.39804369971063, 94.5543348895719, 142.50404374088623, 107.97206990946351, 76.65221482565822, 61.524371154407774, 64.57668436010471, 66.97138208964216, 65.92914408478917, 57.55685011336069, 58.81407035426447, 173.62335303582307, 51.93869646477054, 53.081711696141234, 49.469377689070605, 65.12723481880965, 184.04707294696126, 48.016722191515214, 43.776686334557525, 48.04834883330791, 44.06921405067699, 86.58855976998204, 41.8405639750118, 120.04002667429994, 111.07092132515191, 47.03454592349814, 230.42624286168456, 89.51483116003583, 90.60628550203079, 154.64414584967778, 650.6699191612331, 512.8941098807047, 1061.4504100715092, 126.91914591607468, 335.45881284656787, 389.2677958150186, 304.1680142755362, 115.08530680704182, 426.8407239187103, 308.2230728565763, 361.3948385838254, 111.51227569164686, 725.9637174236683, 264.62897742700346, 336.13582116352245, 520.3014009291162, 304.8416301467918, 184.30730896585132, 296.21210483351945, 429.6857781445283, 493.32247571401183, 251.22028107640904, 524.8897369421856, 368.5898606045864, 721.3390533917473, 484.97752950548323, 227.01468345079033, 472.98242405682737, 552.3465524463901, 484.7360209765684, 545.668570749627, 665.8429904612942, 361.4406846643785, 404.31550859238484, 529.4862527776685, 405.5517022296514, 835.6475394416574, 1596.5389772705382, 1122.7948564693822, 1725.4406985419037, 976.8835161346312, 996.9898429920307, 441.14085981021475, 939.332800037063, 1089.4234456723686, 691.7258206737243, 724.8561296301282, 737.0395287050375, 896.8480126647735, 167.07516240948493, 119.85424144997852, 115.57883098629134, 107.25064616115442, 163.9386691131957, 70.90422892055716, 65.32965458531464, 61.66553945625391, 76.29035140383884, 53.24127414557786, 52.16045764637343, 176.93758903830303, 49.768932910402505, 50.270903246078106, 56.75966490694682, 76.61429367569146, 163.47546914287085, 54.04764834963243, 40.894601853979346, 39.646974709075984, 41.63733396476703, 125.00015333473961, 36.501026484333956, 36.46430286281415, 37.587726402894056, 61.101491448157645, 38.42500543823047, 34.07290187034877, 45.376480783545915, 84.50394934047875, 257.4529806197667, 368.4753302573379, 73.01657068122188, 107.67730130704035, 135.75095391040372, 450.7880970016766, 463.2839541418649, 257.8360768406003, 210.46446045085392, 491.17428371660634, 367.4797047205243, 372.8480155273946, 908.5583946213843, 246.80188130589409, 573.0822336930729, 133.1439219691851, 134.23025782005018, 324.9593294058054, 182.74744369397294, 234.5712549986114, 762.19031296772, 153.39749214920226, 1048.0388329126486, 322.15623987682034, 1014.7995211275487, 470.85279118400575, 348.8409518056375, 383.60578713161294, 748.5619656566569, 250.25467284577357, 502.7137097184, 525.7746155266464, 1560.947013382123, 1596.5389772705382, 805.6691454603463, 498.88857647735057, 1089.4234456723686, 549.0291699567638, 896.8480126647735, 996.9898429920307, 647.9232467441129, 1725.4406985419037, 777.7131367377236, 1114.1507552963446, 725.8488652289072, 991.5487786758862, 1571.0163116921615, 1770.6233145437723, 846.0456973300636, 724.8561296301282, 865.2517613941634, 1128.4233506892667, 417.37850202385533, 259.5894738753034, 358.7398277807795, 328.8296880764522, 131.7086107280224, 138.7628377306214, 138.7628377306214, 137.1698159190894, 140.3415189855282, 173.12915482989376, 127.04143255658327, 148.01847419311758, 437.0422732093671, 76.58050317597213, 78.88381446837435, 291.7304314063644, 426.6067354246322, 58.054325297339155, 66.73181876172228, 80.07661984110646, 844.4757831277824, 84.41850969894368, 342.8693241614061, 199.32792676365293, 58.698773545200595, 226.19509230423148, 33.11393030204115, 168.7273140302901, 41.66458480520547, 1105.6089370807183, 478.64990938703534, 836.0798703760087, 1363.538353064805, 542.5304696547654, 380.52363529431574, 371.86368071475056, 385.20343457595914, 541.6218729774849, 254.7657846981343, 1245.2768059140128, 821.9108451436983, 396.3774863559246, 428.0010252563862, 329.40414584772395, 646.6751647237472, 779.6177332474188, 967.8290818645387, 572.5676196094582, 541.8178785910451, 956.5788406868011, 1347.6645762384574, 1770.6233145437723, 978.8496048489421, 1349.8113842614073, 2790.368232334221, 753.6819784121029, 768.946127296016, 677.5346166914162, 538.0325489827397, 665.4859413705752, 1379.3914939998238, 295.8229517790745, 154.55438899393866, 130.09741119740616, 163.764422886498, 59.29541074943057, 66.6574266183143, 65.84076043305308, 50.895330326181146, 62.322068615333045, 51.042157496752026, 52.254080439671434, 45.92750400090276, 52.73183663288987, 42.69088488764119, 37.21150005790568, 54.14253846066567, 36.699727818925275, 36.003753312110966, 35.217859271724826, 31.601210050418164, 44.75848275077564, 75.5406486788482, 31.814693987658273, 105.68820376032295, 30.583743949446315, 47.12682813661486, 42.83001677884587, 34.00193286217453, 29.187361465881697, 29.72127775623756, 65.85973697833437, 47.50393730561069, 53.999380555743926, 43.37379085970458, 50.68995644138069, 361.75558497954916, 96.4855239309496, 160.5355963775102, 376.0079540357671, 406.79611907778724, 191.996561821235, 342.8102884227014, 70.84838145361276, 124.06515688444404, 112.46109767905044, 265.0996383315884, 125.89491378675392, 121.22930125721484, 211.34856549802532, 199.34424487738704, 105.7565217695994, 101.42883726977283, 143.87684121723757, 151.65596181476496, 585.5500497742621, 114.42666308213091, 328.7095046449248, 134.92262045396612, 618.5333753874947, 344.9758395995369, 920.6580508593283, 1966.9194919008364, 258.12929194169357, 604.2540163835756, 665.8429904612942, 1014.7995211275487, 717.32919806164, 753.6819784121029, 1463.5475493778024, 978.8496048489421, 457.05848326995294, 308.9792971560934, 1379.3914939998238, 592.5724321437535, 461.18300930600185, 604.6999978010813], \"Category\": [\"Default\", \"Default\", \"Default\", \"Default\", \"Default\", \"Default\", \"Default\", \"Default\", \"Default\", \"Default\", \"Default\", \"Default\", \"Default\", \"Default\", \"Default\", \"Default\", \"Default\", \"Default\", \"Default\", \"Default\", \"Default\", \"Default\", \"Default\", \"Default\", \"Default\", \"Default\", \"Default\", \"Default\", \"Default\", \"Default\", \"Topic1\", \"Topic1\", \"Topic1\", \"Topic1\", \"Topic1\", \"Topic1\", \"Topic1\", \"Topic1\", \"Topic1\", \"Topic1\", \"Topic1\", \"Topic1\", \"Topic1\", \"Topic1\", \"Topic1\", \"Topic1\", \"Topic1\", \"Topic1\", \"Topic1\", \"Topic1\", \"Topic1\", \"Topic1\", \"Topic1\", \"Topic1\", \"Topic1\", \"Topic1\", \"Topic1\", \"Topic1\", \"Topic1\", \"Topic1\", \"Topic1\", \"Topic1\", \"Topic1\", \"Topic1\", \"Topic1\", \"Topic1\", \"Topic1\", \"Topic1\", \"Topic1\", \"Topic1\", \"Topic1\", \"Topic1\", \"Topic1\", \"Topic1\", \"Topic1\", \"Topic1\", \"Topic1\", \"Topic1\", \"Topic1\", \"Topic1\", \"Topic1\", \"Topic1\", \"Topic1\", \"Topic1\", \"Topic1\", \"Topic1\", \"Topic1\", \"Topic1\", \"Topic1\", \"Topic1\", \"Topic1\", \"Topic1\", \"Topic1\", \"Topic1\", \"Topic1\", \"Topic1\", \"Topic1\", \"Topic1\", \"Topic1\", \"Topic1\", \"Topic1\", \"Topic1\", \"Topic1\", \"Topic1\", \"Topic2\", \"Topic2\", \"Topic2\", \"Topic2\", \"Topic2\", \"Topic2\", \"Topic2\", \"Topic2\", \"Topic2\", \"Topic2\", \"Topic2\", \"Topic2\", \"Topic2\", \"Topic2\", \"Topic2\", \"Topic2\", \"Topic2\", \"Topic2\", \"Topic2\", \"Topic2\", \"Topic2\", \"Topic2\", \"Topic2\", \"Topic2\", \"Topic2\", \"Topic2\", \"Topic2\", \"Topic2\", \"Topic2\", \"Topic2\", \"Topic2\", \"Topic2\", \"Topic2\", \"Topic2\", \"Topic2\", \"Topic2\", \"Topic2\", \"Topic2\", \"Topic2\", \"Topic2\", \"Topic2\", \"Topic2\", \"Topic2\", \"Topic2\", \"Topic2\", \"Topic2\", \"Topic2\", \"Topic2\", \"Topic2\", \"Topic2\", \"Topic2\", \"Topic2\", \"Topic2\", \"Topic2\", \"Topic2\", \"Topic2\", \"Topic2\", \"Topic2\", \"Topic2\", \"Topic2\", \"Topic2\", \"Topic2\", \"Topic2\", \"Topic2\", \"Topic2\", \"Topic2\", \"Topic2\", \"Topic2\", \"Topic2\", \"Topic2\", \"Topic2\", \"Topic2\", \"Topic2\", \"Topic2\", \"Topic2\", \"Topic2\", \"Topic2\", \"Topic2\", \"Topic2\", \"Topic2\", \"Topic2\", \"Topic2\", \"Topic2\", \"Topic3\", \"Topic3\", \"Topic3\", \"Topic3\", \"Topic3\", \"Topic3\", \"Topic3\", \"Topic3\", \"Topic3\", \"Topic3\", \"Topic3\", \"Topic3\", \"Topic3\", \"Topic3\", \"Topic3\", \"Topic3\", \"Topic3\", \"Topic3\", \"Topic3\", \"Topic3\", \"Topic3\", \"Topic3\", \"Topic3\", \"Topic3\", \"Topic3\", \"Topic3\", \"Topic3\", \"Topic3\", \"Topic3\", \"Topic3\", \"Topic3\", \"Topic3\", \"Topic3\", \"Topic3\", \"Topic3\", \"Topic3\", \"Topic3\", \"Topic3\", \"Topic3\", \"Topic3\", \"Topic3\", \"Topic3\", \"Topic3\", \"Topic3\", \"Topic3\", \"Topic3\", \"Topic3\", \"Topic3\", \"Topic3\", \"Topic3\", \"Topic3\", \"Topic3\", \"Topic3\", \"Topic3\", \"Topic3\", \"Topic3\", \"Topic3\", \"Topic3\", \"Topic3\", \"Topic3\", \"Topic3\", \"Topic3\", \"Topic3\", \"Topic3\", \"Topic3\", \"Topic3\", \"Topic3\", \"Topic3\", \"Topic3\", \"Topic3\", \"Topic3\", \"Topic3\", \"Topic3\", \"Topic3\", \"Topic3\", \"Topic3\", \"Topic3\", \"Topic3\", \"Topic3\", \"Topic3\", \"Topic3\", \"Topic4\", \"Topic4\", \"Topic4\", \"Topic4\", \"Topic4\", \"Topic4\", \"Topic4\", \"Topic4\", \"Topic4\", \"Topic4\", \"Topic4\", \"Topic4\", \"Topic4\", \"Topic4\", \"Topic4\", \"Topic4\", \"Topic4\", \"Topic4\", \"Topic4\", \"Topic4\", \"Topic4\", \"Topic4\", \"Topic4\", \"Topic4\", \"Topic4\", \"Topic4\", \"Topic4\", \"Topic4\", \"Topic4\", \"Topic4\", \"Topic4\", \"Topic4\", \"Topic4\", \"Topic4\", \"Topic4\", \"Topic4\", \"Topic4\", \"Topic4\", \"Topic4\", \"Topic4\", \"Topic4\", \"Topic4\", \"Topic4\", \"Topic4\", \"Topic4\", \"Topic4\", \"Topic4\", \"Topic4\", \"Topic4\", \"Topic4\", \"Topic4\", \"Topic4\", \"Topic4\", \"Topic4\", \"Topic4\", \"Topic4\", \"Topic4\", \"Topic4\", \"Topic4\", \"Topic4\", \"Topic4\", \"Topic4\", \"Topic5\", \"Topic5\", \"Topic5\", \"Topic5\", \"Topic5\", \"Topic5\", \"Topic5\", \"Topic5\", \"Topic5\", \"Topic5\", \"Topic5\", \"Topic5\", \"Topic5\", \"Topic5\", \"Topic5\", \"Topic5\", \"Topic5\", \"Topic5\", \"Topic5\", \"Topic5\", \"Topic5\", \"Topic5\", \"Topic5\", \"Topic5\", \"Topic5\", \"Topic5\", \"Topic5\", \"Topic5\", \"Topic5\", \"Topic5\", \"Topic5\", \"Topic5\", \"Topic5\", \"Topic5\", \"Topic5\", \"Topic5\", \"Topic5\", \"Topic5\", \"Topic5\", \"Topic5\", \"Topic5\", \"Topic5\", \"Topic5\", \"Topic5\", \"Topic5\", \"Topic5\", \"Topic5\", \"Topic5\", \"Topic5\", \"Topic5\", \"Topic5\", \"Topic5\", \"Topic5\", \"Topic5\", \"Topic5\", \"Topic5\", \"Topic5\", \"Topic5\", \"Topic5\", \"Topic5\", \"Topic5\", \"Topic5\", \"Topic5\", \"Topic5\", \"Topic5\", \"Topic5\", \"Topic5\", \"Topic5\", \"Topic5\", \"Topic5\", \"Topic5\", \"Topic5\", \"Topic5\", \"Topic5\", \"Topic5\", \"Topic5\"], \"logprob\": [30.0, 29.0, 28.0, 27.0, 26.0, 25.0, 24.0, 23.0, 22.0, 21.0, 20.0, 19.0, 18.0, 17.0, 16.0, 15.0, 14.0, 13.0, 12.0, 11.0, 10.0, 9.0, 8.0, 7.0, 6.0, 5.0, 4.0, 3.0, 2.0, 1.0, -5.9418, -6.1687, -6.5219, -6.6164, -6.8034, -6.8579, -6.9237, -6.7141, -6.7392, -6.8933, -7.1229, -6.4137, -7.2106, -7.2305, -6.7503, -7.2955, -7.2987, -7.1925, -7.1224, -7.3919, -7.1811, -7.4453, -7.3183, -7.1339, -7.455, -7.3527, -5.7373, -7.6365, -7.7172, -7.7367, -5.3197, -5.3771, -5.254, -7.0232, -4.2807, -5.8887, -6.904, -5.0144, -6.4784, -5.513, -5.9784, -6.8251, -5.2283, -6.7876, -6.5042, -5.6423, -6.0155, -4.9579, -5.3243, -5.2616, -5.0476, -5.3399, -6.0369, -5.9206, -4.7932, -5.3319, -5.0865, -5.2952, -5.0738, -5.6565, -6.018, -5.1906, -5.9618, -5.4561, -5.2678, -5.6975, -5.4029, -5.0626, -5.833, -5.8608, -5.7305, -5.7729, -5.6711, -5.7688, -6.5518, -7.0715, -6.8424, -6.9124, -6.2483, -7.1608, -6.7507, -7.0285, -7.3721, -7.5921, -7.5437, -7.5077, -7.5237, -7.66, -7.6391, -6.5572, -7.7644, -7.7434, -7.8139, -7.539, -6.5004, -7.8443, -7.9368, -7.8438, -7.9305, -7.2554, -7.9833, -6.9302, -7.0078, -7.8676, -6.281, -7.2245, -7.2153, -6.687, -5.2667, -5.5029, -4.8018, -6.8867, -5.9342, -5.791, -6.0335, -6.9847, -5.7134, -6.0339, -5.8854, -7.016, -5.2416, -6.1989, -5.9775, -5.574, -6.0749, -6.5498, -6.1156, -5.7945, -5.6736, -6.2774, -5.6294, -5.9478, -5.3801, -5.7205, -6.3789, -5.7858, -5.6649, -5.7695, -5.6821, -5.5561, -6.0147, -5.9516, -5.7826, -5.9546, -5.5707, -5.332, -5.5148, -5.3457, -5.6122, -5.6144, -5.9291, -5.732, -5.7085, -5.8196, -5.8387, -5.8401, -5.8326, -6.5151, -6.8488, -6.8853, -6.9608, -6.5373, -7.3787, -7.4621, -7.521, -7.3096, -7.6696, -7.6906, -6.4694, -7.7379, -7.7284, -7.6071, -7.3082, -6.5503, -7.6581, -7.9387, -7.9703, -7.9214, -6.8222, -8.0548, -8.0558, -8.0258, -7.5401, -8.005, -8.1253, -7.8392, -7.2193, -6.1073, -5.7555, -7.3667, -6.9832, -6.7543, -5.568, -5.5561, -6.1306, -6.3309, -5.5078, -5.7898, -5.7794, -4.9346, -6.1923, -5.3842, -6.7878, -6.7802, -5.9383, -6.4869, -6.2551, -5.1641, -6.6578, -4.8826, -5.9701, -4.9677, -5.6677, -5.9462, -5.882, -5.3227, -6.2529, -5.6971, -5.6915, -4.8569, -4.974, -5.453, -5.7986, -5.3422, -5.7772, -5.4966, -5.4641, -5.6999, -5.2734, -5.6412, -5.5348, -5.6934, -5.6093, -5.5362, -5.5244, -5.6865, -5.7256, -5.7229, -4.0116, -5.0078, -5.4838, -5.1606, -5.2481, -6.1647, -6.1127, -6.1127, -6.1243, -6.1016, -5.8918, -6.2016, -6.0514, -4.9688, -6.7125, -6.6832, -5.3757, -4.9957, -6.9927, -6.8535, -6.6724, -4.3173, -6.6206, -5.2224, -5.7668, -6.9902, -5.6414, -7.5644, -5.9362, -7.3349, -4.0626, -4.8967, -4.3451, -3.868, -4.7841, -5.1336, -5.1573, -5.126, -4.798, -5.5345, -4.0043, -4.4066, -5.1111, -5.043, -5.2934, -4.6638, -4.4985, -4.2998, -4.8068, -4.8876, -4.4087, -4.1678, -3.9585, -4.4403, -4.2162, -3.8231, -4.7072, -4.764, -4.8453, -4.9768, -5.0429, -5.0188, -4.7163, -5.3681, -5.5415, -5.3151, -6.3367, -6.2206, -6.2331, -6.4911, -6.2889, -6.4885, -6.4654, -6.5952, -6.4601, -6.6726, -6.8099, -6.4354, -6.8259, -6.8453, -6.8678, -6.9776, -6.6296, -6.1063, -6.9715, -5.771, -7.0112, -6.579, -6.6746, -6.906, -7.0593, -7.0414, -6.253, -6.5771, -6.4517, -6.6693, -6.5223, -4.6495, -5.9074, -5.4245, -4.618, -4.5726, -5.2823, -4.7731, -6.217, -5.7356, -5.844, -5.1169, -5.7631, -5.7963, -5.3802, -5.4712, -5.9486, -5.986, -5.7436, -5.7112, -4.8301, -5.9186, -5.3125, -5.8617, -5.0736, -5.3782, -5.0369, -4.7154, -5.5946, -5.2706, -5.2626, -5.1144, -5.3007, -5.2938, -5.1628, -5.2826, -5.4844, -5.5673, -5.3042, -5.458, -5.5082, -5.4969], \"loglift\": [30.0, 29.0, 28.0, 27.0, 26.0, 25.0, 24.0, 23.0, 22.0, 21.0, 20.0, 19.0, 18.0, 17.0, 16.0, 15.0, 14.0, 13.0, 12.0, 11.0, 10.0, 9.0, 8.0, 7.0, 6.0, 5.0, 4.0, 3.0, 2.0, 1.0, 1.1348, 1.1339, 1.1319, 1.1317, 1.1313, 1.1313, 1.1307, 1.1306, 1.1306, 1.1301, 1.1297, 1.1294, 1.1293, 1.129, 1.1288, 1.1287, 1.1287, 1.1285, 1.1277, 1.1274, 1.1274, 1.1273, 1.1268, 1.1267, 1.1262, 1.1254, 1.1253, 1.1249, 1.1242, 1.1239, 1.1175, 1.1175, 1.107, 1.1224, 1.093, 1.1063, 1.1188, 1.0762, 1.1086, 1.0765, 1.0843, 1.1102, 1.0261, 1.1081, 1.0904, 1.0228, 1.0404, 0.9169, 0.9378, 0.9247, 0.8875, 0.9117, 0.9913, 0.9617, 0.7098, 0.777, 0.7122, 0.7639, 0.654, 0.8213, 0.9357, 0.5781, 0.8895, 0.6153, 0.4916, 0.735, 0.455, 0.0908, 0.8092, 0.8218, 0.4509, 0.5514, -0.0371, -0.0346, 1.3798, 1.3797, 1.3788, 1.3783, 1.3777, 1.3773, 1.3772, 1.3769, 1.3759, 1.3757, 1.3757, 1.3753, 1.375, 1.3745, 1.3738, 1.3732, 1.3727, 1.3721, 1.372, 1.3719, 1.3716, 1.3714, 1.3713, 1.3712, 1.371, 1.3707, 1.3701, 1.3693, 1.3692, 1.3688, 1.3663, 1.3684, 1.3654, 1.3591, 1.3426, 1.3443, 1.318, 1.357, 1.3375, 1.332, 1.3361, 1.3568, 1.3175, 1.3225, 1.3119, 1.3572, 1.2581, 1.31, 1.2923, 1.2589, 1.2926, 1.3208, 1.2806, 1.2297, 1.2125, 1.2835, 1.1947, 1.2297, 1.126, 1.1827, 1.2834, 1.1424, 1.1082, 1.1341, 1.1032, 1.0301, 1.1825, 1.1335, 1.0327, 1.1274, 0.7884, 0.3797, 0.5488, 0.2883, 0.5906, 0.5681, 1.0687, 0.5101, 0.3853, 0.7284, 0.6626, 0.6445, 0.4558, 1.4537, 1.4522, 1.452, 1.4513, 1.4504, 1.4473, 1.4457, 1.4446, 1.4431, 1.4429, 1.4423, 1.4421, 1.442, 1.4414, 1.4413, 1.4403, 1.4403, 1.4393, 1.4376, 1.437, 1.4368, 1.4367, 1.4351, 1.4351, 1.4348, 1.4346, 1.4336, 1.4335, 1.4331, 1.4311, 1.4291, 1.4223, 1.4299, 1.4249, 1.4221, 1.4083, 1.3928, 1.4043, 1.407, 1.3827, 1.3908, 1.3867, 1.3408, 1.3864, 1.3521, 1.408, 1.4075, 1.3653, 1.3922, 1.3744, 1.287, 1.3964, 1.25, 1.3421, 1.1972, 1.265, 1.2864, 1.2557, 1.1464, 1.3119, 1.1701, 1.1309, 0.8773, 0.7377, 0.9426, 1.0763, 0.7516, 1.0019, 0.7918, 0.7184, 0.9136, 0.3606, 0.7897, 0.5366, 0.8065, 0.5787, 0.1915, 0.0837, 0.6602, 0.7756, 0.6013, 2.0471, 2.0455, 2.0444, 2.044, 2.0436, 2.042, 2.0418, 2.0418, 2.0417, 2.0416, 2.0415, 2.0411, 2.0385, 2.0384, 2.0364, 2.0361, 2.0358, 2.0357, 2.0331, 2.033, 2.0319, 2.0312, 2.0308, 2.0275, 2.0255, 2.0246, 2.0244, 2.0229, 2.0228, 2.0227, 2.0165, 2.0196, 2.0134, 2.0014, 2.0069, 2.0121, 2.0115, 2.0075, 1.9947, 2.0124, 1.9559, 1.969, 1.9938, 1.9851, 1.9966, 1.9516, 1.93, 1.9124, 1.9303, 1.9047, 1.8152, 1.7134, 1.6497, 1.7606, 1.6633, 1.3302, 1.7551, 1.6782, 1.7235, 1.8225, 1.5438, 0.839, 2.6812, 2.6786, 2.6775, 2.6737, 2.668, 2.6671, 2.667, 2.6664, 2.6661, 2.6661, 2.6658, 2.665, 2.6619, 2.6607, 2.6607, 2.6603, 2.6586, 2.6583, 2.6579, 2.6564, 2.6563, 2.6563, 2.6558, 2.6557, 2.6556, 2.6554, 2.6554, 2.6548, 2.6542, 2.654, 2.6467, 2.6493, 2.6466, 2.6481, 2.6393, 2.5468, 2.6104, 2.5843, 2.5396, 2.5064, 2.5475, 2.477, 2.6097, 2.5309, 2.5207, 2.3903, 2.4887, 2.4933, 2.3536, 2.321, 2.4775, 2.4819, 2.3747, 2.3544, 1.8847, 2.4287, 1.9796, 2.3209, 1.5863, 1.8656, 1.2253, 0.7876, 1.9392, 1.4127, 1.3236, 1.0504, 1.2111, 1.1685, 0.6359, 0.9183, 1.478, 1.7866, 0.5536, 1.2448, 1.4453, 1.1856]}, \"token.table\": {\"Topic\": [1, 2, 3, 4, 5, 2, 3, 4, 1, 2, 4, 1, 2, 3, 5, 2, 4, 2, 3, 1, 5, 1, 2, 3, 4, 5, 1, 2, 3, 4, 5, 5, 1, 3, 4, 5, 1, 2, 3, 4, 5, 1, 2, 4, 5, 1, 5, 1, 1, 2, 3, 4, 5, 1, 2, 3, 4, 5, 4, 5, 1, 1, 2, 3, 4, 5, 2, 4, 5, 1, 2, 3, 4, 5, 1, 4, 1, 2, 3, 4, 5, 1, 2, 3, 4, 5, 3, 1, 3, 3, 1, 2, 3, 5, 2, 3, 3, 3, 1, 2, 4, 5, 1, 3, 1, 2, 3, 4, 5, 1, 3, 4, 5, 1, 5, 1, 3, 5, 1, 2, 3, 5, 1, 3, 5, 1, 3, 4, 5, 3, 4, 1, 2, 3, 4, 5, 1, 2, 3, 4, 5, 1, 2, 3, 5, 2, 1, 2, 3, 4, 5, 2, 4, 5, 3, 4, 3, 4, 1, 3, 4, 5, 1, 3, 2, 4, 5, 2, 3, 5, 1, 2, 3, 4, 5, 5, 1, 3, 1, 2, 3, 5, 1, 3, 5, 2, 1, 2, 3, 5, 1, 2, 3, 4, 5, 2, 5, 1, 2, 3, 4, 5, 1, 3, 5, 1, 1, 3, 1, 2, 1, 2, 3, 4, 3, 5, 4, 1, 5, 5, 1, 2, 3, 4, 5, 3, 1, 2, 4, 5, 1, 2, 3, 4, 5, 1, 2, 4, 5, 2, 4, 2, 1, 3, 5, 2, 4, 5, 5, 1, 2, 4, 1, 3, 4, 5, 3, 5, 2, 4, 5, 3, 5, 1, 2, 3, 5, 1, 2, 3, 5, 3, 1, 3, 1, 2, 3, 4, 3, 2, 1, 2, 3, 4, 5, 2, 4, 5, 1, 2, 3, 5, 2, 4, 5, 2, 4, 1, 2, 4, 5, 2, 4, 5, 1, 2, 3, 4, 5, 3, 2, 4, 5, 1, 2, 3, 4, 5, 1, 3, 1, 3, 4, 5, 1, 4, 5, 2, 4, 5, 5, 1, 3, 4, 5, 1, 1, 2, 3, 4, 5, 1, 3, 2, 4, 1, 3, 4, 1, 1, 2, 3, 4, 5, 1, 3, 4, 5, 1, 3, 4, 5, 1, 2, 3, 4, 5, 4, 1, 2, 3, 4, 1, 2, 3, 4, 5, 2, 3, 5, 2, 2, 3, 4, 5, 1, 2, 3, 5, 2, 2, 1, 4, 3, 4, 1, 3, 5, 1, 3, 4, 5, 1, 4, 5, 1, 2, 3, 4, 5, 1, 3, 4, 5, 2, 2, 2, 1, 2, 3, 4, 5, 1, 2, 3, 5, 2, 4, 5, 1, 3, 4, 5, 4, 4, 1, 2, 3, 1, 3, 3, 5, 1, 2, 3, 4, 5, 1, 2, 3, 4, 5, 1, 2, 3, 4, 5, 1, 1, 3, 5, 4, 1, 3, 5, 1, 2, 3, 4, 5, 2, 4, 4, 5, 2, 3, 5, 1, 1, 1, 2, 3, 4, 5, 1, 2, 4, 5, 3, 1, 2, 3, 4, 5, 2, 3, 2, 4, 5, 1, 2, 3, 4, 5, 1, 2, 3, 4, 5, 1, 3, 4, 4, 5, 3, 3, 1, 4, 1, 4, 1, 3, 4, 1, 2, 3, 4, 5, 1, 4, 2, 4, 5, 2, 1, 3, 4, 1, 3, 4, 1, 2, 4, 1, 3, 4, 1, 3, 4, 1, 4, 2, 2, 5, 1, 2, 3, 5, 1, 3, 4, 5, 1, 4, 5, 4, 2, 2, 4, 5, 2, 1, 1, 2, 3, 4, 5, 1, 2, 3, 4, 5, 1, 2, 3, 4, 5, 1, 2, 3, 4, 5, 1, 2, 3, 4, 5, 1, 1, 2, 1, 3, 4, 2, 4, 5, 1, 3, 5, 1, 3, 4, 1, 3, 4, 1, 4, 1, 3, 4, 1, 2, 3, 4, 5, 1, 3, 1, 2, 3, 4, 5, 1, 2, 3, 4, 5, 1, 2, 3, 4, 5, 5, 1, 5, 1, 2, 3, 4, 5, 2, 5, 1, 2, 3, 4, 1, 2, 3, 5, 1, 3, 4, 3, 1, 2, 3, 5, 1, 3, 5, 1, 1, 3, 4, 5, 1, 2, 3, 4, 5, 1, 3, 5, 1, 5, 1, 1, 3, 4, 5, 1, 2, 3, 4, 5, 1, 3, 5, 1, 2, 3, 5, 1, 3, 5, 3, 5, 5, 2, 4, 5, 1, 2, 3, 4, 1, 3, 4, 5, 1, 3, 4, 1, 2, 3, 5, 1, 3, 4, 5, 1, 3, 4, 3, 3, 1, 2, 3, 4, 5, 4, 2, 5, 1, 4, 4, 5, 1, 5, 1, 2, 5, 5, 1, 3, 4, 5, 1, 2, 5, 2, 3, 5, 1, 2, 3, 4, 5, 2, 1, 1, 1, 2, 3, 4, 5, 3, 1, 3, 4, 1, 2, 3, 5, 1, 3, 5, 1, 2, 1, 3, 4, 5, 4, 2, 1, 2, 3, 5, 1, 2, 3, 4, 5, 1, 3, 5, 1, 2, 3, 5, 5, 5, 1, 3, 4, 1, 2, 3, 4, 5, 1, 2, 3, 4, 5, 1, 2, 3, 3, 5, 3, 1, 2, 3, 4, 2, 4, 1, 1, 3, 3, 2, 4, 5, 2, 5, 1, 2, 3, 4, 5, 1, 2, 3, 5, 1, 5, 3, 5, 3, 1, 3, 1, 3, 4, 3, 4, 5, 5, 3, 5, 1, 1, 3, 4, 3, 1, 2, 3, 4, 5, 1, 2, 3, 4, 5, 3, 1, 2, 3, 4, 5, 2, 4, 5, 1, 2, 3, 4, 5, 2, 4, 1, 2, 3, 4, 5, 1, 3, 5, 2, 1, 2, 3, 1, 5, 1, 2, 3, 4, 5, 1, 2, 2, 3, 4, 5, 1, 2, 3, 4, 5, 3, 1, 2, 1, 2, 3, 4, 5, 1, 2, 3, 5, 2, 4, 1, 3, 5, 1, 2, 4, 5, 1, 5], \"Freq\": [0.033064734478066925, 0.44361852091406456, 0.520769568029554, 0.001377697269919455, 0.001377697269919455, 0.9376325961634894, 0.05839926204478481, 0.003244403446932489, 0.9860399631642515, 0.011845743351383907, 0.9831966981648643, 0.13802780724739896, 0.029577387267299776, 0.009859129089099927, 0.8183077143952938, 0.012488039604871794, 0.9865551287848717, 0.9780045516931143, 0.987266920622041, 0.14227141945263552, 0.8447365530000234, 0.04422875738298419, 0.002764297336436512, 0.04146446004654768, 0.04146446004654768, 0.8707536609775013, 0.8945174121725201, 0.018321440972208242, 0.023710100081681257, 0.007544122753262218, 0.05604205473851933, 0.9838165713955206, 0.020275358925001496, 0.020275358925001496, 0.9584715128182525, 0.9795824168126447, 0.06408459682173016, 0.033671567821587034, 0.3616978091802736, 0.3084750084300232, 0.23244243592966535, 0.00830011707947515, 0.8161781794817231, 0.13833528465791917, 0.038733879704217364, 0.9939362692397846, 0.005286895049147791, 0.9852523014529584, 0.2931672222439144, 0.17615749757638716, 0.5117568177766576, 0.007714926901155642, 0.010286569201540856, 0.8022017012847344, 0.02433148542499654, 0.12976792226664824, 0.0044239064409084625, 0.03981515796817616, 0.9714824778625456, 0.02507051555774311, 0.9909155277151086, 0.17723629463867835, 0.4328484381628024, 0.25115897029199646, 0.10420425363178576, 0.03473475121059526, 0.947933540783708, 0.04624066052603453, 0.005137851169559392, 0.9079631980549862, 0.0024020190424735082, 0.07446259031667876, 0.0024020190424735082, 0.012010095212367542, 0.9960380769516035, 0.9663606738348276, 0.18576562487491832, 0.7707887121675715, 0.016635727600738955, 0.026339902034503343, 0.0013863106333949129, 0.03371304420671715, 0.01941054060386745, 0.02554018500508875, 0.7498598317494057, 0.17060843583399285, 0.984363874617093, 0.016366212612804434, 0.9819727567682661, 0.9836816121829371, 0.006593871998394736, 0.006593871998394736, 0.2703487519341842, 0.7187320478250262, 0.006099842126384009, 0.9881744244742094, 0.9747189096671491, 0.9892072709957228, 0.0050168584815800535, 0.015050575444740161, 0.9782874039081105, 0.0050168584815800535, 0.027189430796834807, 0.9710510998869574, 0.16394615411483945, 0.4162528977850794, 0.31724645406637764, 0.09581268746971137, 0.006387512497980758, 0.6538906101184407, 0.20498138248226982, 0.012298882948936189, 0.12913827096383, 0.9959160099046548, 0.970533061569299, 0.01411464848572073, 0.04234394545716219, 0.9315668000575682, 0.0029809918884360328, 0.9509364124110944, 0.038752894549668425, 0.0059619837768720655, 0.011635299593294166, 0.9463377002545922, 0.03878433197764722, 0.010657499220008016, 0.004736666320003563, 0.9828582614007393, 0.0011841665800008908, 0.030752283976443407, 0.9686969452579673, 0.5242351133598044, 0.19051150736133243, 0.05124102611787562, 0.23124155376272076, 0.002627744929121827, 0.056267726946174025, 0.01985919774570848, 0.028133863473087013, 0.6139801969714872, 0.2796837015853944, 0.9696309653724935, 0.0022602120404953225, 0.011301060202476614, 0.01582148428346726, 0.9909970244130856, 0.35120812681421715, 0.03297055884378365, 0.1107380726383603, 0.4873908698646279, 0.017560406340710856, 0.9807910643913009, 0.004339783470757969, 0.013019350412273907, 0.05841107503194463, 0.9392500865136696, 0.03416344950542995, 0.9644604591148302, 0.04745915648414031, 0.05387255600902413, 0.8876144942439214, 0.008978759334837355, 0.015999980373177406, 0.9759988027638218, 0.969968822135743, 0.006466458814238287, 0.019399376442714857, 0.07673574496630696, 0.9165658426531108, 0.004263096942572609, 0.10456124841550611, 0.0011006447201632223, 0.8882202891717204, 0.0011006447201632223, 0.005503223600816111, 0.9809750940087749, 0.10864293677310922, 0.8877679976316926, 0.019426530790755722, 0.00431700684239016, 0.9346319813774697, 0.04101156500270652, 0.7811312292500437, 0.01566177903258233, 0.20360312742357028, 0.9910697743958347, 0.9564454653988845, 0.000446728381783692, 0.03931209759696489, 0.003127098672485844, 0.6879585617946754, 0.046100315996550414, 0.10283916645384324, 0.11259115637619044, 0.04964649415013121, 0.9731911319295102, 0.02606761960525474, 0.6522890262072217, 0.05287455863254175, 0.14387980858662802, 0.0005084092176205938, 0.14998071919807515, 0.557063298228209, 0.42415400508247453, 0.018491727742015237, 0.994947478294548, 0.02786102515186131, 0.9658488719311921, 0.9723920879870042, 0.024514086251773214, 0.03400274462549948, 0.7276587349856889, 0.013601097850199792, 0.22441811452829658, 0.021050886657386397, 0.9683407862397743, 0.9818389880178751, 0.21848054751064439, 0.7777907491378939, 0.9787865094226385, 0.16992814113276772, 0.45143560385271425, 0.35111658077433333, 0.0010236635007998057, 0.02763891452159475, 0.9845499417922664, 0.09531759178393896, 0.07943132648661581, 0.007943132648661581, 0.8260857954608044, 0.004916467749333571, 0.014749403248000713, 0.13766109698134, 0.0024582338746667854, 0.8382577512613739, 0.021991371032263552, 0.7532044578550267, 0.09896116964518598, 0.12645038343551543, 0.9258245350987006, 0.07179863741581759, 0.9757378461651833, 0.09422731472935683, 0.8969044402016557, 0.006979801091063468, 0.9830054463430347, 0.008330554630025718, 0.997218093545057, 0.9809132606390107, 0.0027875354854969853, 0.0027875354854969853, 0.9951501683224238, 0.38476058237390104, 0.36106156099579845, 0.0236990213781026, 0.22862585329463683, 0.13702477332805077, 0.8543897631043165, 0.7717881549483863, 0.14548083431934436, 0.08137063614471804, 0.03036756737516174, 0.9565783723175948, 0.973534690042095, 0.005563055371669115, 0.01112611074333823, 0.01112611074333823, 0.02769577354943672, 0.006154616344319271, 0.9108832189592522, 0.05539154709887344, 0.9806162084452735, 0.01223425147813512, 0.9787401182508096, 0.03911406839796372, 0.01955703419898186, 0.9387376415511293, 0.00651901139966062, 0.9883390337874962, 0.9905117527044552, 0.9481428855651143, 0.021768586658382726, 0.021768586658382726, 0.002418731850931414, 0.007256195552794242, 0.9848905519335189, 0.011519187741912502, 0.9806206758420926, 0.045148030260596356, 0.010032895613465856, 0.25082239033664644, 0.697286245135877, 0.7822700827368284, 0.209310103218773, 0.006342730400568879, 0.9854955645331919, 0.993477962559205, 0.008967622567090232, 0.9685032372457452, 0.008967622567090232, 0.017935245134180464, 0.9898128138109349, 0.004248123664424614, 0.004248123664424614, 0.286420603915476, 0.29146322018159354, 0.41450305707486146, 0.0010085232532235072, 0.00705966277256455, 0.9766858670176856, 0.9834440564678832, 0.005433392577170626, 0.005433392577170626, 0.6167981788529476, 0.030553470159898337, 0.2813465377223972, 0.02291510261992375, 0.04837632775317237, 0.04469931070268548, 0.9461354098735092, 0.12638640567112133, 0.0724863208996137, 0.7973495298957507, 0.0018586236128106078, 0.57932684049563, 0.012945851184259888, 0.4077943123041865, 0.7567712664243893, 0.22992811204760152, 0.012673203026245755, 0.991564696120348, 0.015625279804714697, 0.10416853203143131, 0.0052084266015715655, 0.8698072424624514, 0.9908362718021129, 0.8084896176075229, 0.017116218554580186, 0.12384087542431546, 0.0050341819278177016, 0.04430080096479577, 0.013695521313454072, 0.9723820132552392, 0.9909872316501397, 0.00825822693041783, 0.002344079258393866, 0.009376317033575464, 0.9868573677838176, 0.9921274352121544, 0.13309792494002104, 0.3671666894897132, 0.49292128063993995, 0.0036716668948971317, 0.002753750171172849, 0.3826354916716237, 0.06377258194527062, 0.11015264154183106, 0.44061056616732425, 0.06922186508367167, 0.9263514297961946, 0.004071874416686569, 0.9824083993473842, 0.8189618093818399, 0.001086156245864509, 0.10535715584885738, 0.0032584687375935275, 0.07277246847292211, 0.9945025790543265, 0.015758063809557153, 0.9691209242877649, 0.007879031904778577, 0.007879031904778577, 0.003003711128076013, 0.699864692841711, 0.03904824466498817, 0.0015018555640380065, 0.2568173014504991, 0.9574747220573806, 0.04149569421436481, 0.001536877563494993, 0.9826918059403914, 0.9336281663250166, 0.0009421071304995122, 0.04522114226397658, 0.019784249740489757, 0.003772166594769901, 0.12070933103263683, 0.12825366422217663, 0.7468889857644404, 0.9894456065848839, 0.9861585782218277, 0.017036131074015658, 0.9710594712188924, 0.03495904729123587, 0.9627183792509569, 0.8645628398005087, 0.13318941045575405, 0.0023366563237851587, 0.2656177181487121, 0.5957780593989804, 0.06950744026321438, 0.06826623597279985, 0.010364249052693703, 0.06218549431616222, 0.9327824147424333, 0.31006818031017674, 0.10057996757995402, 0.5586352339472606, 0.003843820417068307, 0.0275473796556562, 0.3935651348850402, 0.5787722571838827, 0.02160749760153162, 0.004630178057471061, 0.9781813764933962, 0.9914912461806661, 0.9903252156387302, 0.7290193713816874, 0.0040426212830777485, 0.2129113875754281, 0.0013475404276925829, 0.05390161710770332, 0.8921796913817109, 0.014625896580028048, 0.024376494300046746, 0.0682541840401309, 0.9269639857413096, 0.03873879343396518, 0.033204680086255864, 0.00797855462311478, 0.002659518207704927, 0.12499735576213158, 0.8643434175041014, 0.9931192765047099, 0.9918024180330348, 0.05267382862405083, 0.016207331884323332, 0.9278697503775108, 0.04751396021246601, 0.9502792042493202, 0.013237905915414856, 0.9663671318252844, 0.0035881739368402873, 0.005980289894733812, 0.017940869684201437, 0.9652187890100372, 0.008372405852627336, 0.15323990637903115, 0.5175460989027656, 0.28768623933421883, 0.03325016836526147, 0.008673956964850819, 0.5716392286103504, 0.21685154031970372, 0.197620058150678, 0.004642081902868275, 0.00928416380573655, 0.9981805215371732, 0.160746587685969, 0.018911363257172825, 0.8131886200584314, 0.996697237598077, 0.014732861481916434, 0.9650024270655264, 0.02209929222287465, 0.5029470582405464, 0.28754144564748374, 0.15629430495124552, 0.01803395826360525, 0.03506602995701021, 0.8392076590485682, 0.15811158793668675, 0.9987386376855838, 0.0008861922250981223, 0.013052394690643539, 0.9789296017982654, 0.9872303960719293, 0.9938158970462742, 0.9941404717395647, 0.03777246320387096, 0.7025678155919999, 0.0056658694805806434, 0.2360778950241935, 0.01888623160193548, 0.029843468786572274, 0.8546084243427514, 0.005426085233922231, 0.10852170467844463, 0.983086309341945, 0.011666252178678416, 0.002916563044669604, 0.002916563044669604, 0.9799651830089869, 0.002916563044669604, 0.0113034206630172, 0.9833975976824963, 0.898005164743353, 0.09115090018071628, 0.010127877797857366, 0.23074763579648253, 0.0139244262980636, 0.747940612581702, 0.005967611270598685, 0.0019892037568662287, 0.5052952718875393, 0.0014499146969513324, 0.07612052158994495, 0.2979574702234988, 0.11889300515000925, 0.9856176282938098, 0.00801315144954317, 0.9887959973242839, 0.02305539774548567, 0.9683267053103982, 0.9796469980783653, 0.9777521575013614, 0.003041087943882677, 0.9944357576496353, 0.038940462762260535, 0.9605314148024265, 0.2796034629318484, 0.028610586904654255, 0.6905555293805187, 0.05744048505434656, 0.549274638332189, 0.3781498599411149, 0.013163444491621087, 0.0023933535439311067, 0.9936015090881537, 0.9914717686886785, 0.01778016806135749, 0.9719825206875429, 0.005926722687119164, 0.9941373931695537, 0.06636770697218149, 0.04540948371780839, 0.8889779697063257, 0.005045695249714846, 0.04793410487229104, 0.9460678593215337, 0.08329966114018725, 0.910346296746332, 0.0059499757957276606, 0.06705144981028645, 0.9306741233667759, 0.002682057992411458, 0.09123591444122363, 0.0015463714312071801, 0.9077200301186148, 0.010283466094153083, 0.9872127450386959, 0.9788256643704248, 0.985906929360493, 0.9901372337387283, 0.024746492546672647, 0.04124415424445441, 0.10723480103558147, 0.8248830848890882, 0.6684472634192239, 0.0012879523379946511, 0.328427846188636, 0.0012879523379946511, 0.044311356681486294, 0.9471552490667696, 0.00738522611358105, 0.9904410398631459, 0.9796217630973669, 0.9592623321691791, 0.0389944037467146, 0.0019497201873357299, 0.9889775619541893, 0.9911859232159467, 0.14343527045703644, 0.3651649025172587, 0.4854250419397521, 0.0006263548928254866, 0.005010839142603893, 0.04370981063571615, 0.005185909736440899, 0.24596029035691122, 0.6800950197218207, 0.02518870443414151, 0.02967979151177684, 0.7766212112248273, 0.061832898982868416, 0.09151269049464526, 0.042046371308350525, 0.8380336880901265, 0.09289048108950798, 0.034329090837426864, 0.004038716569109043, 0.032309732552872346, 0.9403016933325962, 0.010548256175205406, 0.025617193568355987, 0.001506893739315058, 0.021096512350410813, 0.9956292598080763, 0.9903578994382085, 0.005471590604630986, 0.027138858910896815, 0.9634294913368369, 0.005427771782179363, 0.7777429027050246, 0.21867572330698304, 0.004125957043527982, 0.9700522526826504, 0.02038428713919043, 0.008393529998490176, 0.031375856485591, 0.1015101239239709, 0.8656045112789518, 0.026057922776650703, 0.6815149033893261, 0.2926505173377694, 0.9860125351614284, 0.9890334359934746, 0.035333509618935464, 0.05300026442840319, 0.9114439413066306, 0.3089065885894633, 0.33324819594548105, 0.33324819594548105, 0.005795620799051844, 0.0185459865569659, 0.9857669989868438, 0.007143239123093071, 0.12211013995155465, 0.4762295458110631, 0.3988931238417452, 0.0013567793327950515, 0.002713558665590103, 0.07923852038744539, 0.44132846798070846, 0.476434141570083, 0.001003019245410701, 0.0030090577362321034, 0.08920129037505337, 0.39360069377992296, 0.5129074196565568, 0.002230032259376334, 0.002230032259376334, 0.9757319398528825, 0.018518730950398462, 0.9629740094207201, 0.7292872525279368, 0.006614850363065187, 0.03638167699685853, 0.00496113777229889, 0.22325119975345004, 0.9822718093658659, 0.011036761902987257, 0.03004267818493256, 0.00751066954623314, 0.9463443628253756, 0.00751066954623314, 0.008810002813908455, 0.9030252884256167, 0.022025007034771137, 0.061670019697359184, 0.02747621706067841, 0.007850347731622402, 0.9655927709895555, 0.9862736330292247, 0.11117483450536605, 0.037058278168455354, 0.16305642394120354, 0.6966956295669606, 0.019727773906383774, 0.019727773906383774, 0.9469331475064211, 0.9935289794706529, 0.04253639061170099, 0.0022001581350879823, 0.9541352445831549, 0.0007333860450293274, 0.1764475902899497, 0.03650639799102407, 0.24337598660682716, 0.04867519732136543, 0.492836372878825, 0.18452928652768352, 0.09463040334753, 0.719191065441228, 0.021219335982067863, 0.9760894551751218, 0.988324651584615, 0.015921834863667876, 0.0172486544356402, 0.7456725994484455, 0.22025204894740563, 0.0032803918530368227, 0.9086685432911998, 0.0032803918530368227, 0.03608431038340505, 0.04920587779555234, 0.9797690231349768, 0.01781398223881776, 0.0013703063260629047, 0.7985440507717273, 0.004299025845339043, 0.16981152089089221, 0.02686891153336902, 0.34478845593433616, 0.1782052693593198, 0.47650539415644205, 0.01892358776893919, 0.9745647701003681, 0.9743925247882531, 0.9501327767429353, 0.03616422333623629, 0.009862970000791716, 0.042500982991488766, 0.0030357844993920548, 0.0060715689987841095, 0.9502005483097131, 0.593276984158383, 0.3976122601848165, 0.00897544605383333, 0.000897544605383333, 0.07624433660797288, 0.2524534701019546, 0.6709501621501612, 0.2681757464817243, 0.0038039112976131113, 0.718939235248878, 0.009509778244032778, 0.03547498717776317, 0.7686247221848688, 0.0009854163104934216, 0.19511242947769747, 0.06272352831568113, 0.1442641151260666, 0.791361848916177, 0.9696653253011845, 0.9846932090967607, 0.0925538223907441, 0.0028624893522910546, 0.8110386498157988, 0.04198317716693546, 0.05152480834123898, 0.9946198602801629, 0.9830773164580114, 0.011171333141568311, 0.017683849632864786, 0.9770326922157794, 0.9840491676969155, 0.9798050422926418, 0.25716438925799207, 0.736741223279653, 0.9919262659572338, 0.01846976570421603, 0.9788975823234495, 0.9781532713399238, 0.10435726916308594, 0.022731286352355353, 0.8730880439881943, 0.9674428589005969, 0.9791973573975556, 0.012634804611581363, 0.006317402305790682, 0.9919074665351844, 0.970368848319858, 0.023667532885850197, 0.7792741671820026, 0.11747851766562853, 0.043858646595167985, 0.01253104188433371, 0.04699140706625141, 0.9937183010772596, 0.9924203603319607, 0.9873863190008958, 0.008277504672632921, 0.4842340233490259, 0.5049277850306082, 0.0013795841121054867, 0.0027591682242109733, 0.9866161136047539, 0.004576216358461715, 0.004576216358461715, 0.9907508416069614, 0.9405165544111905, 0.0027446981159859646, 0.02378738367187836, 0.03293637739183158, 0.9808536149371215, 0.0181160298273347, 0.001294002130523907, 0.955086119453915, 0.045284255663763213, 0.1839437579059659, 0.2716967433289955, 0.3071354489806036, 0.23625803767738737, 0.9938769710051228, 0.9914770172442436, 0.002342794264847243, 0.9324321174092028, 0.04451309103209762, 0.02108514838362519, 0.00875161526678737, 0.09845567175135791, 0.49227835875678955, 0.1028314793847516, 0.29974282288746745, 0.12835087360547917, 0.05834130618430871, 0.8138612212711065, 0.17465847035569534, 0.0026068428411297816, 0.8159418092736216, 0.007820528523389344, 0.9654192703103166, 0.9964129844674913, 0.07964105130582616, 0.31555888253251874, 0.6040698608479644, 0.05119968367246826, 0.14840488021005294, 0.061588025287171964, 0.7153115226124551, 0.023002756432558204, 0.13513685263061354, 0.003936024833901365, 0.840997306176925, 0.001312008277967122, 0.018368115891539704, 0.04924829490403877, 0.010944065534230838, 0.9357176031767367, 0.0872080729502388, 0.903226469841759, 0.9935647980586737, 0.0679307994799231, 0.0679307994799231, 0.8631207463331405, 0.9945025790543265, 0.8788317992862814, 0.11984069990267475, 0.9915913674629583, 0.9932738341976629, 0.003910526906290011, 0.9685115792476002, 0.9386496985426316, 0.0542572080082446, 0.00542572080082446, 0.9813549640135834, 0.009003256550583334, 0.6969757416891509, 0.06615678831541405, 0.03447607278408901, 0.15281286315109724, 0.04845285904790888, 0.06593262597452959, 0.0028666359119360694, 0.8399243221972683, 0.08886571327001815, 0.9926169871065602, 0.9721208701934606, 0.992872663998837, 0.9809337054929208, 0.9872471792681043, 0.04880341816105711, 0.9494483169514748, 0.09888793627575669, 0.17858866103532178, 0.7217343408782839, 0.07543397239047292, 0.9234578232962732, 0.9760003347275569, 0.9861215409964801, 0.02234213356981299, 0.9830538770717714, 0.9889339944048612, 0.057146013045729756, 0.9333848797469193, 0.008163716149389965, 0.9949918944381779, 0.09692147866099217, 0.0307312005510463, 0.4491483157460613, 0.2659430816917468, 0.15720191051112145, 0.06545884275193704, 0.10954336950324159, 0.7307344282716237, 0.0066794737501976575, 0.08683315875256954, 0.9629146327507692, 0.2168900848850757, 0.0017077959439769739, 0.2732473510363158, 0.059772858039194084, 0.4491503332659441, 0.9035894674879279, 0.08359197716848672, 0.011941711024069532, 0.49871741880974535, 0.164793581867568, 0.006505009810561895, 0.039030058863371374, 0.29055710487176467, 0.9816539301011361, 0.01154886976589572, 0.07912758980950918, 0.854112513532055, 0.02560010258542944, 0.034909230798312874, 0.006981846159662575, 0.364279369738679, 0.6320247064966081, 0.0018213968486933952, 0.9822579916482987, 0.9880388909359329, 0.005940113572761119, 0.005940113572761119, 0.9910978071340748, 0.9593193284268038, 0.7195184457989202, 0.21760270877362486, 0.02223677315934853, 0.0031766818799069327, 0.03653184161892972, 0.9928865421689562, 0.9819268382022787, 0.8802590175274122, 0.0038439258407310575, 0.0019219629203655287, 0.11531777522193172, 0.817661246950815, 0.002168862724007467, 0.16700242974857493, 0.004337725448014934, 0.010844313620037333, 0.9781242067798175, 0.9724223457847262, 0.023152912994874434, 0.03238775461497065, 0.8249351616636642, 0.07430131941081501, 0.06668067126611604, 0.0019051620361747441, 0.15291403459444067, 0.016990448288271183, 0.8219129359451185, 0.0063714181081016945, 0.9799103096336416, 0.9924197001599976, 0.2020909541408187, 0.4623841030741932, 0.33304589242406923, 0.09278780409864582, 0.8144707248658911, 0.006185853606576388, 0.08453999928987731, 0.006106332391212228, 0.989225847376381], \"Term\": [\"\\u4e00\\u4e0b\", \"\\u4e00\\u4e0b\", \"\\u4e00\\u4e0b\", \"\\u4e00\\u4e0b\", \"\\u4e00\\u4e0b\", \"\\u4e00\\u9593\", \"\\u4e00\\u9593\", \"\\u4e00\\u9593\", \"\\u4e09\\u661f\", \"\\u4e0a\\u5c64\", \"\\u4e0a\\u5c64\", \"\\u4e0a\\u6d77\", \"\\u4e0a\\u6d77\", \"\\u4e0a\\u6d77\", \"\\u4e0a\\u6d77\", \"\\u4e0b\\u5c64\", \"\\u4e0b\\u5c64\", \"\\u4e0d\\u5168\", \"\\u4e0d\\u914d\", \"\\u4e16\\u9054\", \"\\u4e16\\u9054\", \"\\u4e2d\\u4fe1\", \"\\u4e2d\\u4fe1\", \"\\u4e2d\\u4fe1\", \"\\u4e2d\\u4fe1\", \"\\u4e2d\\u4fe1\", \"\\u4e2d\\u570b\", \"\\u4e2d\\u570b\", \"\\u4e2d\\u570b\", \"\\u4e2d\\u570b\", \"\\u4e2d\\u570b\", \"\\u4e2d\\u78ca\", \"\\u4e8b\\u9805\", \"\\u4e8b\\u9805\", \"\\u4e8b\\u9805\", \"\\u4e9e\\u79d1\", \"\\u4ea4\\u6613\", \"\\u4ea4\\u6613\", \"\\u4ea4\\u6613\", \"\\u4ea4\\u6613\", \"\\u4ea4\\u6613\", \"\\u4ea4\\u901a\", \"\\u4ea4\\u901a\", \"\\u4ea4\\u901a\", \"\\u4ea4\\u901a\", \"\\u4eba\\u5de5\\u667a\\u6167\", \"\\u4eba\\u5de5\\u667a\\u6167\", \"\\u4ec1\\u52f3\", \"\\u4eca\\u5929\", \"\\u4eca\\u5929\", \"\\u4eca\\u5929\", \"\\u4eca\\u5929\", \"\\u4eca\\u5929\", \"\\u4eca\\u5e74\", \"\\u4eca\\u5e74\", \"\\u4eca\\u5e74\", \"\\u4eca\\u5e74\", \"\\u4eca\\u5e74\", \"\\u4edf\\u5143\", \"\\u4edf\\u5143\", \"\\u4ee3\\u5de5\", \"\\u4ee5\\u4e0a\", \"\\u4ee5\\u4e0a\", \"\\u4ee5\\u4e0a\", \"\\u4ee5\\u4e0a\", \"\\u4ee5\\u4e0a\", \"\\u4ef2\\u4ecb\", \"\\u4ef2\\u4ecb\", \"\\u4ef2\\u4ecb\", \"\\u4f01\\u696d\", \"\\u4f01\\u696d\", \"\\u4f01\\u696d\", \"\\u4f01\\u696d\", \"\\u4f01\\u696d\", \"\\u4f3a\\u670d\\u5668\", \"\\u4f55\\u8b02\", \"\\u4f7f\\u7528\", \"\\u4f7f\\u7528\", \"\\u4f7f\\u7528\", \"\\u4f7f\\u7528\", \"\\u4f7f\\u7528\", \"\\u4f86\\u6e90\", \"\\u4f86\\u6e90\", \"\\u4f86\\u6e90\", \"\\u4f86\\u6e90\", \"\\u4f86\\u6e90\", \"\\u4fdd\\u55ae\", \"\\u4fdd\\u7f85\", \"\\u4fdd\\u7f85\", \"\\u4fdd\\u8b49\\u91d1\", \"\\u4fe1\\u7528\", \"\\u4fe1\\u7528\", \"\\u4fe1\\u7528\", \"\\u4fe1\\u7528\", \"\\u4fe1\\u8cb8\", \"\\u4fe1\\u8cb8\", \"\\u501f\\u6b3e\", \"\\u501f\\u9322\", \"\\u5099\\u8a3b\", \"\\u5099\\u8a3b\", \"\\u5099\\u8a3b\", \"\\u5099\\u8a3b\", \"\\u50b5\\u5238\", \"\\u50b5\\u5238\", \"\\u50f9\\u683c\", \"\\u50f9\\u683c\", \"\\u50f9\\u683c\", \"\\u50f9\\u683c\", \"\\u50f9\\u683c\", \"\\u5104\\u5143\", \"\\u5104\\u5143\", \"\\u5104\\u5143\", \"\\u5104\\u5143\", \"\\u5104\\u7f8e\\u5143\", \"\\u512a\\u5229\\u9ad8\", \"\\u512a\\u606f\", \"\\u512a\\u606f\", \"\\u512a\\u606f\", \"\\u512a\\u60e0\", \"\\u512a\\u60e0\", \"\\u512a\\u60e0\", \"\\u512a\\u60e0\", \"\\u5143\\u5927\", \"\\u5143\\u5927\", \"\\u5143\\u5927\", \"\\u5143\\u6708\", \"\\u5143\\u6708\", \"\\u5143\\u6708\", \"\\u5143\\u6708\", \"\\u5143\\u80a1\", \"\\u5143\\u80a1\", \"\\u5167\\u5bb9\", \"\\u5167\\u5bb9\", \"\\u5167\\u5bb9\", \"\\u5167\\u5bb9\", \"\\u5167\\u5bb9\", \"\\u5167\\u6587\", \"\\u5167\\u6587\", \"\\u5167\\u6587\", \"\\u5167\\u6587\", \"\\u5167\\u6587\", \"\\u5168\\u7403\", \"\\u5168\\u7403\", \"\\u5168\\u7403\", \"\\u5168\\u7403\", \"\\u5169\\u623f\", \"\\u516c\\u53f8\", \"\\u516c\\u53f8\", \"\\u516c\\u53f8\", \"\\u516c\\u53f8\", \"\\u516c\\u53f8\", \"\\u516c\\u5bd3\", \"\\u516c\\u5bd3\", \"\\u516c\\u5bd3\", \"\\u516c\\u7a4d\", \"\\u516c\\u7a4d\", \"\\u516c\\u7a4d\\u8f49\", \"\\u516c\\u7a4d\\u8f49\", \"\\u516c\\u958b\", \"\\u516c\\u958b\", \"\\u516c\\u958b\", \"\\u516c\\u958b\", \"\\u51fa\\u5834\", \"\\u51fa\\u5834\", \"\\u51fa\\u79df\", \"\\u51fa\\u79df\", \"\\u51fa\\u79df\", \"\\u5229\\u606f\", \"\\u5229\\u606f\", \"\\u5229\\u606f\", \"\\u5229\\u7387\", \"\\u5229\\u7387\", \"\\u5229\\u7387\", \"\\u5229\\u7387\", \"\\u5229\\u7387\", \"\\u524d\\u65e5\", \"\\u52df\\u96c6\", \"\\u52df\\u96c6\", \"\\u5347\\u606f\", \"\\u5347\\u606f\", \"\\u5347\\u606f\", \"\\u5347\\u606f\", \"\\u534a\\u5c0e\\u9ad4\", \"\\u534a\\u5c0e\\u9ad4\", \"\\u534a\\u5c0e\\u9ad4\", \"\\u539f\\u50f9\", \"\\u539f\\u6587\", \"\\u539f\\u6587\", \"\\u539f\\u6587\", \"\\u539f\\u6587\", \"\\u53bb\\u5e74\", \"\\u53bb\\u5e74\", \"\\u53bb\\u5e74\", \"\\u53bb\\u5e74\", \"\\u53bb\\u5e74\", \"\\u53e4\\u5c4b\", \"\\u53e4\\u5c4b\", \"\\u53f0\\u7063\", \"\\u53f0\\u7063\", \"\\u53f0\\u7063\", \"\\u53f0\\u7063\", \"\\u53f0\\u7063\", \"\\u53f0\\u80a1\", \"\\u53f0\\u80a1\", \"\\u53f0\\u80a1\", \"\\u53f0\\u96fb\", \"\\u5403\\u8c46\\u8150\", \"\\u5403\\u8c46\\u8150\", \"\\u5408\\u4f5c\", \"\\u5408\\u4f5c\", \"\\u540c\\u610f\", \"\\u540c\\u610f\", \"\\u540c\\u610f\", \"\\u540c\\u610f\", \"\\u540d\\u4e2d\", \"\\u540d\\u4e2d\", \"\\u5468\\u8f49\\u7387\", \"\\u548c\\u78a9\", \"\\u548c\\u78a9\", \"\\u5546\\u9280\", \"\\u554f\\u984c\", \"\\u554f\\u984c\", \"\\u554f\\u984c\", \"\\u554f\\u984c\", \"\\u554f\\u984c\", \"\\u55ae\\u4f4d\\u540d\\u7a31\", \"\\u5609\\u7fa9\", \"\\u5609\\u7fa9\", \"\\u5609\\u7fa9\", \"\\u5609\\u7fa9\", \"\\u570b\\u6cf0\", \"\\u570b\\u6cf0\", \"\\u570b\\u6cf0\", \"\\u570b\\u6cf0\", \"\\u570b\\u6cf0\", \"\\u571f\\u5730\", \"\\u571f\\u5730\", \"\\u571f\\u5730\", \"\\u571f\\u5730\", \"\\u576a\\u6578\", \"\\u576a\\u6578\", \"\\u57fa\\u6cf0\", \"\\u57fa\\u91d1\", \"\\u57fa\\u91d1\", \"\\u57fa\\u91d1\", \"\\u586b\\u5beb\", \"\\u586b\\u5beb\", \"\\u589e\\u5f35\", \"\\u589e\\u5f35\\u5238\", \"\\u589e\\u6e1b\", \"\\u589e\\u6e1b\", \"\\u589e\\u6e1b\", \"\\u5916\\u8cc7\", \"\\u5916\\u8cc7\", \"\\u5916\\u8cc7\", \"\\u5916\\u8cc7\", \"\\u5927\\u53f0\\u7063\", \"\\u5927\\u53f0\\u7063\", \"\\u5927\\u6a13\", \"\\u5927\\u6a13\", \"\\u5927\\u6a13\", \"\\u5927\\u7f8e\\u50b5\", \"\\u5927\\u7f8e\\u50b5\", \"\\u5927\\u9678\", \"\\u5927\\u9678\", \"\\u5927\\u9678\", \"\\u5927\\u9678\", \"\\u592e\\u884c\", \"\\u592e\\u884c\", \"\\u592e\\u884c\", \"\\u592e\\u884c\", \"\\u5957\\u5229\", \"\\u5b9a\\u5b58\", \"\\u5b9a\\u5b58\", \"\\u5b9a\\u671f\", \"\\u5b9a\\u671f\", \"\\u5b9a\\u671f\", \"\\u5b9a\\u671f\", \"\\u5b9a\\u984d\", \"\\u5ba2\\u5ef3\", \"\\u5ba2\\u6236\", \"\\u5ba2\\u6236\", \"\\u5ba2\\u6236\", \"\\u5ba2\\u6236\", \"\\u5ba2\\u6236\", \"\\u5ba4\\u5167\", \"\\u5ba4\\u5167\", \"\\u5bcc\\u6642\", \"\\u5bcc\\u90a6\", \"\\u5bcc\\u90a6\", \"\\u5bcc\\u90a6\", \"\\u5bcc\\u90a6\", \"\\u5be6\\u50f9\", \"\\u5be6\\u50f9\", \"\\u5be6\\u50f9\", \"\\u5be6\\u576a\", \"\\u5be9\\u8a08\", \"\\u5c45\\u4f4f\", \"\\u5c45\\u4f4f\", \"\\u5c45\\u4f4f\", \"\\u5c45\\u4f4f\", \"\\u5c4b\\u4e3b\", \"\\u5c4b\\u4e3b\", \"\\u5c4b\\u4e3b\", \"\\u5df2\\u7d93\", \"\\u5df2\\u7d93\", \"\\u5df2\\u7d93\", \"\\u5df2\\u7d93\", \"\\u5df2\\u7d93\", \"\\u5df4\\u83f2\\u7279\", \"\\u5e02\\u5340\", \"\\u5e02\\u5340\", \"\\u5e02\\u5340\", \"\\u5e02\\u5834\", \"\\u5e02\\u5834\", \"\\u5e02\\u5834\", \"\\u5e02\\u5834\", \"\\u5e02\\u5834\", \"\\u5e73\\u6e96\", \"\\u5e73\\u6e96\", \"\\u5e74\\u5ea6\", \"\\u5e74\\u5ea6\", \"\\u5e74\\u5ea6\", \"\\u5e74\\u5ea6\", \"\\u5ee3\\u9054\", \"\\u5ee3\\u9054\", \"\\u5ee3\\u9054\", \"\\u5efa\\u7269\", \"\\u5efa\\u7269\", \"\\u5efa\\u7269\", \"\\u5f35\\u5238\", \"\\u5fa9\\u83ef\", \"\\u5fa9\\u83ef\", \"\\u5fa9\\u83ef\", \"\\u5fa9\\u83ef\", \"\\u5fae\\u8edf\", \"\\u5fc3\\u5f97\", \"\\u5fc3\\u5f97\", \"\\u5fc3\\u5f97\", \"\\u5fc3\\u5f97\", \"\\u5fc3\\u5f97\", \"\\u5fc3\\u7406\", \"\\u5fc3\\u7406\", \"\\u61c9\\u586b\", \"\\u61c9\\u586b\", \"\\u61c9\\u6558\\u660e\", \"\\u61c9\\u6558\\u660e\", \"\\u61c9\\u6558\\u660e\", \"\\u61c9\\u7528\", \"\\u61c9\\u8a72\", \"\\u61c9\\u8a72\", \"\\u61c9\\u8a72\", \"\\u61c9\\u8a72\", \"\\u61c9\\u8a72\", \"\\u6210\\u4ea4\\u91cf\", \"\\u6210\\u4ea4\\u91cf\", \"\\u6210\\u4ea4\\u91cf\", \"\\u6210\\u4ea4\\u91cf\", \"\\u6210\\u5206\\u80a1\", \"\\u6210\\u5206\\u80a1\", \"\\u6210\\u5206\\u80a1\", \"\\u6210\\u92fc\", \"\\u6210\\u9577\", \"\\u6210\\u9577\", \"\\u6210\\u9577\", \"\\u6210\\u9577\", \"\\u6210\\u9577\", \"\\u6216\\u7d93\", \"\\u622a\\u5716\", \"\\u622a\\u5716\", \"\\u622a\\u5716\", \"\\u622a\\u5716\", \"\\u623f\\u50f9\", \"\\u623f\\u50f9\", \"\\u623f\\u50f9\", \"\\u623f\\u50f9\", \"\\u623f\\u50f9\", \"\\u623f\\u5b50\", \"\\u623f\\u5b50\", \"\\u623f\\u5b50\", \"\\u623f\\u5ba2\", \"\\u623f\\u5c4b\", \"\\u623f\\u5c4b\", \"\\u623f\\u5c4b\", \"\\u623f\\u5c4b\", \"\\u623f\\u5e02\", \"\\u623f\\u5e02\", \"\\u623f\\u5e02\", \"\\u623f\\u5e02\", \"\\u623f\\u6771\", \"\\u623f\\u87f2\", \"\\u6240\\u5217\", \"\\u6240\\u5217\", \"\\u6240\\u5c6c\", \"\\u6240\\u5c6c\", \"\\u6280\\u8853\", \"\\u6280\\u8853\", \"\\u6280\\u8853\", \"\\u6295\\u4fe1\", \"\\u6295\\u4fe1\", \"\\u6295\\u4fe1\", \"\\u6295\\u4fe1\", \"\\u6295\\u63a7\", \"\\u6295\\u63a7\", \"\\u6295\\u63a7\", \"\\u6295\\u8cc7\", \"\\u6295\\u8cc7\", \"\\u6295\\u8cc7\", \"\\u6295\\u8cc7\", \"\\u6295\\u8cc7\", \"\\u6295\\u8cc7\\u4eba\", \"\\u6295\\u8cc7\\u4eba\", \"\\u6295\\u8cc7\\u4eba\", \"\\u6295\\u8cc7\\u4eba\", \"\\u6298\\u50f9\\u5238\", \"\\u6298\\u6263\", \"\\u6298\\u62b5\", \"\\u6301\\u7e8c\", \"\\u6301\\u7e8c\", \"\\u6301\\u7e8c\", \"\\u6301\\u7e8c\", \"\\u6301\\u7e8c\", \"\\u6307\\u51fa\", \"\\u6307\\u51fa\", \"\\u6307\\u51fa\", \"\\u6307\\u51fa\", \"\\u6377\\u904b\", \"\\u6377\\u904b\", \"\\u6377\\u904b\", \"\\u6392\\u884c\", \"\\u6392\\u884c\", \"\\u6392\\u884c\", \"\\u6392\\u884c\", \"\\u63d0\\u5831\", \"\\u640d\\u4edf\", \"\\u64cd\\u4f5c\", \"\\u64cd\\u4f5c\", \"\\u64cd\\u4f5c\", \"\\u6563\\u6236\", \"\\u6563\\u6236\", \"\\u6578\\u6392\", \"\\u6578\\u6392\", \"\\u65e5\\u671f\", \"\\u65e5\\u671f\", \"\\u65e5\\u671f\", \"\\u65e5\\u671f\", \"\\u65e5\\u671f\", \"\\u662f\\u5426\", \"\\u662f\\u5426\", \"\\u662f\\u5426\", \"\\u662f\\u5426\", \"\\u662f\\u5426\", \"\\u6642\\u9593\", \"\\u6642\\u9593\", \"\\u6642\\u9593\", \"\\u6642\\u9593\", \"\\u6642\\u9593\", \"\\u6676\\u7247\", \"\\u6708\\u5149\", \"\\u6708\\u5149\", \"\\u6708\\u5149\", \"\\u671f\\u672b\", \"\\u671f\\u8ca8\", \"\\u671f\\u8ca8\", \"\\u671f\\u8ca8\", \"\\u672a\\u4f86\", \"\\u672a\\u4f86\", \"\\u672a\\u4f86\", \"\\u672a\\u4f86\", \"\\u672a\\u4f86\", \"\\u672c\\u6587\", \"\\u672c\\u6587\", \"\\u672c\\u671f\", \"\\u672c\\u671f\", \"\\u672c\\u91d1\", \"\\u672c\\u91d1\", \"\\u6771\\u967d\", \"\\u6838\\u80fd\", \"\\u6838\\u96fb\", \"\\u683c\\u5c40\", \"\\u683c\\u5c40\", \"\\u683c\\u5c40\", \"\\u683c\\u5c40\", \"\\u683c\\u5c40\", \"\\u6843\\u5712\", \"\\u6843\\u5712\", \"\\u6843\\u5712\", \"\\u6843\\u5712\", \"\\u694a\\u91d1\\u9f8d\", \"\\u696d\\u4e3b\", \"\\u696d\\u4e3b\", \"\\u696d\\u4e3b\", \"\\u696d\\u4e3b\", \"\\u696d\\u4e3b\", \"\\u69d3\\u687f\", \"\\u69d3\\u687f\", \"\\u6a13\\u5c64\", \"\\u6a13\\u5c64\", \"\\u6a13\\u5c64\", \"\\u6a19\\u7684\", \"\\u6a19\\u7684\", \"\\u6a19\\u7684\", \"\\u6a19\\u7684\", \"\\u6a19\\u7684\", \"\\u6a19\\u984c\", \"\\u6a19\\u984c\", \"\\u6a19\\u984c\", \"\\u6a19\\u984c\", \"\\u6a19\\u984c\", \"\\u6a5f\\u5668\\u4eba\", \"\\u6a5f\\u5668\\u4eba\", \"\\u6b21\\u8981\", \"\\u6b23\\u8208\", \"\\u6b23\\u8208\", \"\\u6b50\\u5370\", \"\\u6b63\\u4e8c\", \"\\u6b78\\u5c6c\\u65bc\", \"\\u6b78\\u5c6c\\u65bc\", \"\\u6bcd\\u516c\\u53f8\", \"\\u6bcd\\u516c\\u53f8\", \"\\u6bcf\\u80a1\", \"\\u6bcf\\u80a1\", \"\\u6bcf\\u80a1\", \"\\u6bd4\\u8f03\", \"\\u6bd4\\u8f03\", \"\\u6bd4\\u8f03\", \"\\u6bd4\\u8f03\", \"\\u6bd4\\u8f03\", \"\\u6bdb\\u5229\\u7387\", \"\\u6bdb\\u640d\", \"\\u6c11\\u570b\", \"\\u6c11\\u570b\", \"\\u6c11\\u570b\", \"\\u6c34\\u6876\", \"\\u6c7a\\u8b70\", \"\\u6c7a\\u8b70\", \"\\u6c7a\\u8b70\", \"\\u6cd5\\u5b9a\", \"\\u6cd5\\u5b9a\", \"\\u6cd5\\u5b9a\", \"\\u6d3b\\u52d5\", \"\\u6d3b\\u52d5\", \"\\u6d3b\\u52d5\", \"\\u6de8\\u503c\", \"\\u6de8\\u503c\", \"\\u6de8\\u503c\", \"\\u6de8\\u5229\", \"\\u6de8\\u5229\", \"\\u6de8\\u5229\", \"\\u6de8\\u640d\", \"\\u6de8\\u640d\", \"\\u6f0f\\u6c34\", \"\\u6f22\\u5821\", \"\\u71c8\\u865f\", \"\\u71df\\u5efa\", \"\\u71df\\u5efa\", \"\\u71df\\u5efa\", \"\\u71df\\u5efa\", \"\\u71df\\u6536\", \"\\u71df\\u6536\", \"\\u71df\\u6536\", \"\\u71df\\u6536\", \"\\u71df\\u696d\", \"\\u71df\\u696d\", \"\\u71df\\u696d\", \"\\u71df\\u696d\\u6bdb\\u5229\", \"\\u725b\\u8089\", \"\\u7269\\u4ef6\", \"\\u7269\\u4ef6\", \"\\u7269\\u4ef6\", \"\\u7279\\u50f9\", \"\\u7279\\u65af\\u62c9\", \"\\u73fe\\u5728\", \"\\u73fe\\u5728\", \"\\u73fe\\u5728\", \"\\u73fe\\u5728\", \"\\u73fe\\u5728\", \"\\u73fe\\u91d1\", \"\\u73fe\\u91d1\", \"\\u73fe\\u91d1\", \"\\u73fe\\u91d1\", \"\\u73fe\\u91d1\", \"\\u751f\\u6d3b\", \"\\u751f\\u6d3b\", \"\\u751f\\u6d3b\", \"\\u751f\\u6d3b\", \"\\u751f\\u6d3b\", \"\\u7522\\u54c1\", \"\\u7522\\u54c1\", \"\\u7522\\u54c1\", \"\\u7522\\u54c1\", \"\\u7522\\u54c1\", \"\\u7522\\u696d\", \"\\u7522\\u696d\", \"\\u7522\\u696d\", \"\\u7522\\u696d\", \"\\u7522\\u696d\", \"\\u7522\\u80fd\", \"\\u7528\\u96fb\", \"\\u7528\\u96fb\", \"\\u7533\\u8cfc\", \"\\u7533\\u8cfc\", \"\\u7533\\u8cfc\", \"\\u767b\\u9304\", \"\\u767b\\u9304\", \"\\u767b\\u9304\", \"\\u767c\\u5e03\", \"\\u767c\\u5e03\", \"\\u767c\\u5e03\", \"\\u767c\\u653e\", \"\\u767c\\u653e\", \"\\u767c\\u653e\", \"\\u767c\\u884c\", \"\\u767c\\u884c\", \"\\u767c\\u884c\", \"\\u767c\\u96fb\", \"\\u767e\\u842c\\u5143\", \"\\u76c8\\u9918\", \"\\u76c8\\u9918\", \"\\u76c8\\u9918\", \"\\u76ee\\u524d\", \"\\u76ee\\u524d\", \"\\u76ee\\u524d\", \"\\u76ee\\u524d\", \"\\u76ee\\u524d\", \"\\u76ee\\u6a19\\u50f9\", \"\\u76ee\\u6a19\\u50f9\", \"\\u770b\\u5230\", \"\\u770b\\u5230\", \"\\u770b\\u5230\", \"\\u770b\\u5230\", \"\\u770b\\u5230\", \"\\u771f\\u7684\", \"\\u771f\\u7684\", \"\\u771f\\u7684\", \"\\u771f\\u7684\", \"\\u771f\\u7684\", \"\\u77e5\\u9053\", \"\\u77e5\\u9053\", \"\\u77e5\\u9053\", \"\\u77e5\\u9053\", \"\\u77e5\\u9053\", \"\\u77fd\\u683c\", \"\\u795e\\u9054\", \"\\u795e\\u9054\", \"\\u79d1\\u6280\", \"\\u79d1\\u6280\", \"\\u79d1\\u6280\", \"\\u79d1\\u6280\", \"\\u79d1\\u6280\", \"\\u79df\\u5c4b\", \"\\u79df\\u5c4b\", \"\\u79df\\u8cc3\", \"\\u79df\\u8cc3\", \"\\u79df\\u8cc3\", \"\\u79df\\u8cc3\", \"\\u79df\\u91d1\", \"\\u79df\\u91d1\", \"\\u79df\\u91d1\", \"\\u79df\\u91d1\", \"\\u7a05\\u524d\", \"\\u7a05\\u524d\", \"\\u7a05\\u524d\", \"\\u7a7a\\u624b\", \"\\u7cbe\\u9078\", \"\\u7cbe\\u9078\", \"\\u7cbe\\u9078\", \"\\u7cbe\\u9078\", \"\\u7d05\\u71c8\", \"\\u7d05\\u71c8\", \"\\u7d05\\u71c8\", \"\\u7d14\\u76ca\", \"\\u7d2f\\u8a08\", \"\\u7d2f\\u8a08\", \"\\u7d2f\\u8a08\", \"\\u7d2f\\u8a08\", \"\\u7d71\\u4e00\", \"\\u7d71\\u4e00\", \"\\u7d71\\u4e00\", \"\\u7d71\\u4e00\", \"\\u7d71\\u4e00\", \"\\u7d71\\u8a08\", \"\\u7d71\\u8a08\", \"\\u7d71\\u8a08\", \"\\u7da0\\u71c8\", \"\\u7da0\\u71c8\", \"\\u7da0\\u96fb\", \"\\u7db2\\u5740\", \"\\u7db2\\u5740\", \"\\u7db2\\u5740\", \"\\u7db2\\u5740\", \"\\u7e3d\\u50f9\", \"\\u7e3d\\u50f9\", \"\\u7e3d\\u50f9\", \"\\u7e3d\\u50f9\", \"\\u7e3d\\u50f9\", \"\\u7f72\\u540d\", \"\\u7f72\\u540d\", \"\\u7f72\\u540d\", \"\\u7f8e\\u570b\", \"\\u7f8e\\u570b\", \"\\u7f8e\\u570b\", \"\\u7f8e\\u570b\", \"\\u7fa4\\u76ca\", \"\\u7fa4\\u76ca\", \"\\u7fa4\\u76ca\", \"\\u806f\\u5927\", \"\\u806f\\u5927\", \"\\u806f\\u5f37\", \"\\u806f\\u7d61\", \"\\u806f\\u7d61\", \"\\u806f\\u7d61\", \"\\u80a1\\u4efd\", \"\\u80a1\\u4efd\", \"\\u80a1\\u4efd\", \"\\u80a1\\u4efd\", \"\\u80a1\\u50f9\", \"\\u80a1\\u50f9\", \"\\u80a1\\u50f9\", \"\\u80a1\\u50f9\", \"\\u80a1\\u5229\", \"\\u80a1\\u5229\", \"\\u80a1\\u5229\", \"\\u80a1\\u5e02\", \"\\u80a1\\u5e02\", \"\\u80a1\\u5e02\", \"\\u80a1\\u5e02\", \"\\u80a1\\u606f\", \"\\u80a1\\u606f\", \"\\u80a1\\u606f\", \"\\u80a1\\u606f\", \"\\u80a1\\u6771\", \"\\u80a1\\u6771\", \"\\u80a1\\u6771\", \"\\u80a1\\u7248\", \"\\u80a1\\u795e\", \"\\u80a1\\u7968\", \"\\u80a1\\u7968\", \"\\u80a1\\u7968\", \"\\u80a1\\u7968\", \"\\u80a1\\u7968\", \"\\u80a1\\u7968\\u540d\\u7a31\", \"\\u81ea\\u4f4f\", \"\\u81ea\\u4f4f\", \"\\u81ea\\u7d50\", \"\\u81ea\\u7d50\", \"\\u81ea\\u7d50\\u6578\", \"\\u81f3\\u4e0a\", \"\\u82f1\\u696d\\u9054\", \"\\u82f1\\u696d\\u9054\", \"\\u82f1\\u7279\\u723e\", \"\\u83ef\\u65b0\", \"\\u83ef\\u65b0\", \"\\u83ef\\u901a\", \"\\u8463\\u4e8b\\u6703\", \"\\u8463\\u4e8b\\u6703\", \"\\u8463\\u4e8b\\u6703\", \"\\u85cd\\u71c8\", \"\\u860b\\u679c\", \"\\u860b\\u679c\", \"\\u860b\\u679c\", \"\\u8766\\u76ae\", \"\\u884c\\u5eab\", \"\\u884c\\u5eab\", \"\\u8868\\u793a\", \"\\u8868\\u793a\", \"\\u8868\\u793a\", \"\\u8868\\u793a\", \"\\u8868\\u793a\", \"\\u88dd\\u6f62\", \"\\u88fd\\u7a0b\", \"\\u88fd\\u9020\", \"\\u89ba\\u5f97\", \"\\u89ba\\u5f97\", \"\\u89ba\\u5f97\", \"\\u89ba\\u5f97\", \"\\u89ba\\u5f97\", \"\\u89c0\\u5ff5\", \"\\u89c0\\u6e2c\\u7ad9\", \"\\u89c0\\u6e2c\\u7ad9\", \"\\u89c0\\u6e2c\\u7ad9\", \"\\u8a18\\u8005\", \"\\u8a18\\u8005\", \"\\u8a18\\u8005\", \"\\u8a18\\u8005\", \"\\u8a55\\u8ad6\", \"\\u8a55\\u8ad6\", \"\\u8a55\\u8ad6\", \"\\u8abf\\u6f32\", \"\\u8abf\\u6f32\", \"\\u8b49\\u5238\", \"\\u8b49\\u5238\", \"\\u8b49\\u5238\", \"\\u8b49\\u5238\", \"\\u8ca1\\u52d9\\u5831\\u544a\", \"\\u8cb7\\u4e00\\u9001\\u4e00\", \"\\u8cb7\\u623f\", \"\\u8cb7\\u623f\", \"\\u8cb7\\u623f\", \"\\u8cb7\\u623f\", \"\\u8cb7\\u8ce3\", \"\\u8cb7\\u8ce3\", \"\\u8cb7\\u8ce3\", \"\\u8cb7\\u8ce3\", \"\\u8cb7\\u8ce3\", \"\\u8cb7\\u8d85\", \"\\u8cb7\\u8d85\", \"\\u8cb7\\u8d85\", \"\\u8cb7\\u9032\", \"\\u8cb7\\u9032\", \"\\u8cb7\\u9032\", \"\\u8cb7\\u9032\", \"\\u8cb7\\u9032\\u8ce3\\u51fa\", \"\\u8cc7\\u589e\", \"\\u8cc7\\u672c\", \"\\u8cc7\\u672c\", \"\\u8cc7\\u672c\", \"\\u8cc7\\u8a0a\", \"\\u8cc7\\u8a0a\", \"\\u8cc7\\u8a0a\", \"\\u8cc7\\u8a0a\", \"\\u8cc7\\u8a0a\", \"\\u8cc7\\u91d1\", \"\\u8cc7\\u91d1\", \"\\u8cc7\\u91d1\", \"\\u8cc7\\u91d1\", \"\\u8cc7\\u91d1\", \"\\u8ce3\\u51fa\", \"\\u8ce3\\u51fa\", \"\\u8ce3\\u51fa\", \"\\u8ce3\\u8d85\", \"\\u8ce3\\u8d85\", \"\\u8cea\\u62bc\", \"\\u8cfa\\u9322\", \"\\u8cfa\\u9322\", \"\\u8cfa\\u9322\", \"\\u8d77\\u8a16\", \"\\u8eca\\u4f4d\", \"\\u8eca\\u4f4d\", \"\\u8eca\\u7528\", \"\\u8f1d\\u9054\", \"\\u8f1d\\u9054\", \"\\u8ffd\\u9ad8\", \"\\u900f\\u5929\", \"\\u900f\\u5929\", \"\\u900f\\u5929\", \"\\u901a\\u52e4\", \"\\u901a\\u52e4\", \"\\u9023\\u7d50\", \"\\u9023\\u7d50\", \"\\u9023\\u7d50\", \"\\u9023\\u7d50\", \"\\u9023\\u7d50\", \"\\u9032\\u5834\", \"\\u9032\\u5834\", \"\\u9032\\u5834\", \"\\u9032\\u5834\", \"\\u904b\\u7b97\", \"\\u9078\\u9ad8\", \"\\u907f\\u96aa\", \"\\u90a6\\u7279\", \"\\u90e8\\u4f4d\", \"\\u914d\\u606f\", \"\\u914d\\u606f\", \"\\u914d\\u767c\", \"\\u914d\\u767c\", \"\\u914d\\u767c\", \"\\u914d\\u80a1\", \"\\u914d\\u80a1\", \"\\u91d1\\u5143\", \"\\u91d1\\u53f0\", \"\\u91d1\\u5bcc\", \"\\u91d1\\u5bcc\", \"\\u91d1\\u6cb3\", \"\\u91d1\\u7ba1\\u6703\", \"\\u91d1\\u7ba1\\u6703\", \"\\u91d1\\u7ba1\\u6703\", \"\\u91d1\\u878d\\u80a1\", \"\\u91d1\\u984d\", \"\\u91d1\\u984d\", \"\\u91d1\\u984d\", \"\\u91d1\\u984d\", \"\\u91d1\\u984d\", \"\\u9280\\u884c\", \"\\u9280\\u884c\", \"\\u9280\\u884c\", \"\\u9280\\u884c\", \"\\u9280\\u884c\", \"\\u9577\\u5929\", \"\\u9577\\u69ae\", \"\\u9577\\u69ae\", \"\\u9577\\u69ae\", \"\\u9577\\u69ae\", \"\\u9577\\u69ae\", \"\\u958b\\u50f9\", \"\\u958b\\u50f9\", \"\\u958b\\u50f9\", \"\\u958b\\u767c\", \"\\u958b\\u767c\", \"\\u958b\\u767c\", \"\\u958b\\u767c\", \"\\u958b\\u767c\", \"\\u958b\\u8eca\", \"\\u958b\\u8eca\", \"\\u9644\\u8fd1\", \"\\u9644\\u8fd1\", \"\\u9644\\u8fd1\", \"\\u9644\\u8fd1\", \"\\u9644\\u8fd1\", \"\\u964d\\u606f\", \"\\u964d\\u606f\", \"\\u964d\\u606f\", \"\\u96de\\u584a\", \"\\u96fb\\u50f9\", \"\\u96fb\\u50f9\", \"\\u96fb\\u50f9\", \"\\u96fb\\u529b\", \"\\u96fb\\u8cc7\\u589e\", \"\\u9700\\u6c42\", \"\\u9700\\u6c42\", \"\\u9700\\u6c42\", \"\\u9700\\u6c42\", \"\\u9700\\u6c42\", \"\\u9762\\u677f\", \"\\u9802\\u6a13\", \"\\u9810\\u552e\", \"\\u9810\\u552e\", \"\\u9810\\u552e\", \"\\u9810\\u552e\", \"\\u9810\\u671f\", \"\\u9810\\u671f\", \"\\u9810\\u671f\", \"\\u9810\\u671f\", \"\\u9810\\u671f\", \"\\u9818\\u5230\", \"\\u9818\\u57df\", \"\\u9818\\u57df\", \"\\u9858\\u610f\", \"\\u9858\\u610f\", \"\\u9858\\u610f\", \"\\u9858\\u610f\", \"\\u9858\\u610f\", \"\\u98a8\\u96aa\", \"\\u98a8\\u96aa\", \"\\u98a8\\u96aa\", \"\\u98a8\\u96aa\", \"\\u9910\\u9ede\", \"\\u9ad8\\u5730\", \"\\u9ad8\\u606f\", \"\\u9ad8\\u606f\", \"\\u9ad8\\u606f\", \"\\u9ad8\\u9435\", \"\\u9ad8\\u9435\", \"\\u9ad8\\u9435\", \"\\u9ad8\\u9435\", \"\\u9d3b\\u6d77\", \"\\u9d3b\\u6d77\"]}, \"R\": 30, \"lambda.step\": 0.01, \"plot.opts\": {\"xlab\": \"PC1\", \"ylab\": \"PC2\"}, \"topic.order\": [3, 1, 5, 2, 4]};\n",
              "\n",
              "function LDAvis_load_lib(url, callback){\n",
              "  var s = document.createElement('script');\n",
              "  s.src = url;\n",
              "  s.async = true;\n",
              "  s.onreadystatechange = s.onload = callback;\n",
              "  s.onerror = function(){console.warn(\"failed to load library \" + url);};\n",
              "  document.getElementsByTagName(\"head\")[0].appendChild(s);\n",
              "}\n",
              "\n",
              "if(typeof(LDAvis) !== \"undefined\"){\n",
              "   // already loaded: just create the visualization\n",
              "   !function(LDAvis){\n",
              "       new LDAvis(\"#\" + \"ldavis_el4101332497485460806901178838\", ldavis_el4101332497485460806901178838_data);\n",
              "   }(LDAvis);\n",
              "}else if(typeof define === \"function\" && define.amd){\n",
              "   // require.js is available: use it to load d3/LDAvis\n",
              "   require.config({paths: {d3: \"https://d3js.org/d3.v5\"}});\n",
              "   require([\"d3\"], function(d3){\n",
              "      window.d3 = d3;\n",
              "      LDAvis_load_lib(\"https://cdn.jsdelivr.net/gh/bmabey/pyLDAvis@3.4.0/pyLDAvis/js/ldavis.v3.0.0.js\", function(){\n",
              "        new LDAvis(\"#\" + \"ldavis_el4101332497485460806901178838\", ldavis_el4101332497485460806901178838_data);\n",
              "      });\n",
              "    });\n",
              "}else{\n",
              "    // require.js not available: dynamically load d3 & LDAvis\n",
              "    LDAvis_load_lib(\"https://d3js.org/d3.v5.js\", function(){\n",
              "         LDAvis_load_lib(\"https://cdn.jsdelivr.net/gh/bmabey/pyLDAvis@3.4.0/pyLDAvis/js/ldavis.v3.0.0.js\", function(){\n",
              "                 new LDAvis(\"#\" + \"ldavis_el4101332497485460806901178838\", ldavis_el4101332497485460806901178838_data);\n",
              "            })\n",
              "         });\n",
              "}\n",
              "</script>"
            ]
          },
          "metadata": {},
          "execution_count": 118
        }
      ],
      "source": [
        "model_5 = LdaModel(\n",
        "    corpus = corpus,\n",
        "    num_topics = 5,\n",
        "    id2word=dictionary,\n",
        "    random_state = 1500,\n",
        "    passes = 5 # 訓練次數\n",
        "    )\n",
        "pyLDAvis.enable_notebook()\n",
        "p = pyLDAvis.gensim_models.prepare(model_5, corpus, dictionary)\n",
        "p"
      ]
    },
    {
      "cell_type": "markdown",
      "metadata": {
        "id": "D-4ufnUK2H9T"
      },
      "source": [
        "替換主題數跑看看，可以看出最佳參數的數字和人類判斷的不一定會相符，所以為了更好的觀察文本中的資訊，逐步、循環的調整是很重要的"
      ]
    },
    {
      "cell_type": "markdown",
      "metadata": {
        "id": "ehRzuYlT2H9T"
      },
      "source": [
        "lambda 的意義: <https://nlp.stanford.edu/events/illvi2014/papers/sievert-illvi2014.pdf>"
      ]
    },
    {
      "cell_type": "code",
      "execution_count": null,
      "metadata": {
        "colab": {
          "base_uri": "https://localhost:8080/"
        },
        "id": "fSu8pVtS2H9T",
        "outputId": "3ab7a2c1-98c6-4074-e649-0da134c45ecf"
      },
      "outputs": [
        {
          "output_type": "stream",
          "name": "stderr",
          "text": [
            "/usr/local/lib/python3.10/dist-packages/ipykernel/ipkernel.py:283: DeprecationWarning: `should_run_async` will not call `transform_cell` automatically in the future. Please pass the result to `transformed_cell` argument and any exception that happen during thetransform in `preprocessing_exc_tuple` in IPython 7.17 and above.\n",
            "  and should_run_async(code)\n"
          ]
        }
      ],
      "source": [
        "pyLDAvis.save_html(p, \"lda_zh.html\")"
      ]
    },
    {
      "cell_type": "markdown",
      "metadata": {
        "id": "yrXgAIs22H9T"
      },
      "source": [
        "## 6. GuidedLDA"
      ]
    },
    {
      "cell_type": "markdown",
      "metadata": {
        "id": "kXZin6Z82H9U"
      },
      "source": [
        "- 原始套件: <https://github.com/vi3k6i5/GuidedLDA>  \n",
        "- 31lab 家銘修改版本: <https://github.com/Text-Analytics-and-Retrieval/GuidedLDA>\n",
        "\n",
        "安裝方式:  \n",
        "`pip install git+https://github.com/Text-Analytics-and-Retrieval/GuidedLDA.git#egg=GuidedLDA`  \n",
        "經測試，在 `python3.7~3.8` 可正常執行"
      ]
    },
    {
      "cell_type": "code",
      "source": [
        "pip install git+https://github.com/Text-Analytics-and-Retrieval/GuidedLDA.git#egg=GuidedLDA"
      ],
      "metadata": {
        "colab": {
          "base_uri": "https://localhost:8080/"
        },
        "id": "NyleSYLhzh-W",
        "outputId": "8c9694ad-2ef1-4fb0-f0f3-f5dd06738b03"
      },
      "execution_count": null,
      "outputs": [
        {
          "output_type": "stream",
          "name": "stderr",
          "text": [
            "/usr/local/lib/python3.10/dist-packages/ipykernel/ipkernel.py:283: DeprecationWarning: `should_run_async` will not call `transform_cell` automatically in the future. Please pass the result to `transformed_cell` argument and any exception that happen during thetransform in `preprocessing_exc_tuple` in IPython 7.17 and above.\n",
            "  and should_run_async(code)\n"
          ]
        },
        {
          "output_type": "stream",
          "name": "stdout",
          "text": [
            "Collecting GuidedLDA\n",
            "  Cloning https://github.com/Text-Analytics-and-Retrieval/GuidedLDA.git to /tmp/pip-install-3obe8iar/guidedlda_4d1a359615e047e09cd3785391cdb56d\n",
            "  Running command git clone --filter=blob:none --quiet https://github.com/Text-Analytics-and-Retrieval/GuidedLDA.git /tmp/pip-install-3obe8iar/guidedlda_4d1a359615e047e09cd3785391cdb56d\n",
            "  Resolved https://github.com/Text-Analytics-and-Retrieval/GuidedLDA.git to commit 05c3bf2c18f9d126cc5170256f33e6c1fbc90052\n",
            "  Preparing metadata (setup.py) ... \u001b[?25l\u001b[?25hdone\n",
            "Requirement already satisfied: numpy in /usr/local/lib/python3.10/dist-packages (from GuidedLDA) (1.25.2)\n",
            "Building wheels for collected packages: GuidedLDA\n",
            "  Building wheel for GuidedLDA (setup.py) ... \u001b[?25l\u001b[?25hdone\n",
            "  Created wheel for GuidedLDA: filename=guidedlda-2.0.0.dev31-cp310-cp310-linux_x86_64.whl size=2558687 sha256=765645cef4125be2fbf593e622f4c21ee621d55d4f4fe958af8511a184d6d90a\n",
            "  Stored in directory: /tmp/pip-ephem-wheel-cache-5weta16i/wheels/2e/d3/0d/45d6ae01da5e14302f3f8e8260a78d13db2e37d72bae36c0cd\n",
            "Successfully built GuidedLDA\n",
            "Installing collected packages: GuidedLDA\n",
            "Successfully installed GuidedLDA-2.0.0.dev31\n"
          ]
        }
      ]
    },
    {
      "cell_type": "code",
      "execution_count": null,
      "metadata": {
        "colab": {
          "base_uri": "https://localhost:8080/"
        },
        "id": "PGoniE_e2H9U",
        "outputId": "ea8411bf-3f5c-4dcc-fa71-c872b2922e49"
      },
      "outputs": [
        {
          "output_type": "stream",
          "name": "stderr",
          "text": [
            "/usr/local/lib/python3.10/dist-packages/ipykernel/ipkernel.py:283: DeprecationWarning: `should_run_async` will not call `transform_cell` automatically in the future. Please pass the result to `transformed_cell` argument and any exception that happen during thetransform in `preprocessing_exc_tuple` in IPython 7.17 and above.\n",
            "  and should_run_async(code)\n"
          ]
        }
      ],
      "source": [
        "import guidedlda"
      ]
    },
    {
      "cell_type": "code",
      "execution_count": null,
      "metadata": {
        "colab": {
          "base_uri": "https://localhost:8080/"
        },
        "id": "ZcsGh77J2H9U",
        "outputId": "4e3ce106-160a-4832-a129-2ec324c0f766"
      },
      "outputs": [
        {
          "output_type": "stream",
          "name": "stderr",
          "text": [
            "/usr/local/lib/python3.10/dist-packages/ipykernel/ipkernel.py:283: DeprecationWarning: `should_run_async` will not call `transform_cell` automatically in the future. Please pass the result to `transformed_cell` argument and any exception that happen during thetransform in `preprocessing_exc_tuple` in IPython 7.17 and above.\n",
            "  and should_run_async(code)\n"
          ]
        },
        {
          "output_type": "execute_result",
          "data": {
            "text/plain": [
              "('不好意思', '來說', '優點', '兩個', '兩房', '兩房一廳', '出口', '前輩', '只能', '客廳')"
            ]
          },
          "metadata": {},
          "execution_count": 94
        }
      ],
      "source": [
        "vocab = tuple(dictionary.token2id.keys())\n",
        "vocab[:10]"
      ]
    },
    {
      "cell_type": "code",
      "execution_count": null,
      "metadata": {
        "colab": {
          "base_uri": "https://localhost:8080/"
        },
        "id": "doWzQSmS2H9U",
        "outputId": "0a9f997f-e14a-4123-fe43-795b1f606740"
      },
      "outputs": [
        {
          "output_type": "stream",
          "name": "stderr",
          "text": [
            "/usr/local/lib/python3.10/dist-packages/ipykernel/ipkernel.py:283: DeprecationWarning: `should_run_async` will not call `transform_cell` automatically in the future. Please pass the result to `transformed_cell` argument and any exception that happen during thetransform in `preprocessing_exc_tuple` in IPython 7.17 and above.\n",
            "  and should_run_async(code)\n"
          ]
        }
      ],
      "source": [
        "word2id = dictionary.token2id"
      ]
    },
    {
      "cell_type": "code",
      "execution_count": null,
      "metadata": {
        "colab": {
          "base_uri": "https://localhost:8080/"
        },
        "id": "M1vdL63y2H9U",
        "outputId": "4c103fda-87a8-43ce-b37b-7ba79870013e"
      },
      "outputs": [
        {
          "output_type": "stream",
          "name": "stderr",
          "text": [
            "/usr/local/lib/python3.10/dist-packages/ipykernel/ipkernel.py:283: DeprecationWarning: `should_run_async` will not call `transform_cell` automatically in the future. Please pass the result to `transformed_cell` argument and any exception that happen during thetransform in `preprocessing_exc_tuple` in IPython 7.17 and above.\n",
            "  and should_run_async(code)\n"
          ]
        }
      ],
      "source": [
        "seed_topic_list = [\n",
        "    ['房屋', '車位', '房價', '目前', '建物', '資訊', '現在', '房子', '格局', '建設', '本文', '實價'],\n",
        "    ['優惠', '活動', '回饋', '使用', '價格', '時間', '特價', '會員', '看到', '點數', '今天', '便宜'],\n",
        "    ['公司', '原文', '股利', '台灣', '累計', '市場', '億元', '標題', '投資', '今年', '現金', '盈餘']\n",
        "]"
      ]
    },
    {
      "cell_type": "code",
      "execution_count": null,
      "metadata": {
        "colab": {
          "base_uri": "https://localhost:8080/"
        },
        "id": "kGsInQ-T2H9U",
        "outputId": "9f7c6563-cff3-4b81-faac-800a08471d1e"
      },
      "outputs": [
        {
          "output_type": "stream",
          "name": "stderr",
          "text": [
            "/usr/local/lib/python3.10/dist-packages/ipykernel/ipkernel.py:283: DeprecationWarning: `should_run_async` will not call `transform_cell` automatically in the future. Please pass the result to `transformed_cell` argument and any exception that happen during thetransform in `preprocessing_exc_tuple` in IPython 7.17 and above.\n",
            "  and should_run_async(code)\n"
          ]
        }
      ],
      "source": [
        "seed_topics = {}\n",
        "for t_id, st in enumerate(seed_topic_list):\n",
        "    for word in st:\n",
        "        seed_topics[word2id[word]] = t_id"
      ]
    },
    {
      "cell_type": "code",
      "execution_count": null,
      "metadata": {
        "colab": {
          "base_uri": "https://localhost:8080/"
        },
        "id": "B5Uo-Ifb2H9U",
        "outputId": "2b785cd9-5aef-45df-9097-e764e051fa4d"
      },
      "outputs": [
        {
          "output_type": "stream",
          "name": "stderr",
          "text": [
            "/usr/local/lib/python3.10/dist-packages/ipykernel/ipkernel.py:283: DeprecationWarning: `should_run_async` will not call `transform_cell` automatically in the future. Please pass the result to `transformed_cell` argument and any exception that happen during thetransform in `preprocessing_exc_tuple` in IPython 7.17 and above.\n",
            "  and should_run_async(code)\n"
          ]
        }
      ],
      "source": [
        "# guidedlda 需要 DTM 格式作為 input，因此這邊利用 corpus2dense() 方法進行轉換\n",
        "X = corpus2dense(corpus, len(dictionary), len(corpus)).T.astype(np.int64)"
      ]
    },
    {
      "cell_type": "code",
      "execution_count": null,
      "metadata": {
        "colab": {
          "base_uri": "https://localhost:8080/"
        },
        "id": "rx0dXSNH2H9U",
        "outputId": "cecd1f3c-6b31-44e6-8041-ad62f7fbc4ab"
      },
      "outputs": [
        {
          "output_type": "stream",
          "name": "stderr",
          "text": [
            "/usr/local/lib/python3.10/dist-packages/ipykernel/ipkernel.py:283: DeprecationWarning: `should_run_async` will not call `transform_cell` automatically in the future. Please pass the result to `transformed_cell` argument and any exception that happen during thetransform in `preprocessing_exc_tuple` in IPython 7.17 and above.\n",
            "  and should_run_async(code)\n",
            "WARNING:guidedlda:all zero row in document-term matrix found\n"
          ]
        },
        {
          "output_type": "execute_result",
          "data": {
            "text/plain": [
              "<guidedlda.guidedlda.GuidedLDA at 0x7930acae4130>"
            ]
          },
          "metadata": {},
          "execution_count": 99
        }
      ],
      "source": [
        "model = guidedlda.GuidedLDA(n_topics=6, n_iter=100, random_state=7, refresh=20)\n",
        "model.fit(X, seed_topics=seed_topics, seed_confidence=1)"
      ]
    },
    {
      "cell_type": "code",
      "execution_count": null,
      "metadata": {
        "colab": {
          "base_uri": "https://localhost:8080/",
          "height": 1000
        },
        "id": "9OX8NvZ22H9U",
        "outputId": "0d49570f-7b29-4149-b56c-15a878a8aeec"
      },
      "outputs": [
        {
          "output_type": "stream",
          "name": "stdout",
          "text": [
            "Topic 0: 房屋 車位 建物 資訊 格局 本文 實價 建設 登錄 物件\n",
            "Topic 1: 現在 真的 目前 知道 問題 覺得 應該 房子 比較 一下\n",
            "Topic 2: 累計 股利 公司 盈餘 本期 現金 元股 董事會 元月 股東\n",
            "Topic 3: 原文 億元 今年 台灣 成長 去年 記者 標題 時間 發布\n",
            "Topic 4: 公司 表示 台灣 原文 中國 美國 電價 政府 發展 記者\n",
            "Topic 5: 市場 投資 股價 利率 指數 台股 股息 今年 資金 基金\n"
          ]
        },
        {
          "output_type": "stream",
          "name": "stderr",
          "text": [
            "/usr/local/lib/python3.10/dist-packages/ipykernel/ipkernel.py:283: DeprecationWarning: `should_run_async` will not call `transform_cell` automatically in the future. Please pass the result to `transformed_cell` argument and any exception that happen during thetransform in `preprocessing_exc_tuple` in IPython 7.17 and above.\n",
            "  and should_run_async(code)\n"
          ]
        },
        {
          "output_type": "execute_result",
          "data": {
            "text/plain": [
              "PreparedData(topic_coordinates=              x         y  topics  cluster       Freq\n",
              "topic                                                \n",
              "1      0.148940  0.149070       1        1  23.341189\n",
              "5     -0.066011  0.190219       2        1  20.221640\n",
              "4      0.020071  0.112737       3        1  17.186398\n",
              "0      0.312717 -0.227244       4        1  14.647190\n",
              "3     -0.171889  0.060414       5        1  14.013015\n",
              "2     -0.243828 -0.285196       6        1  10.590568, topic_info=     Term         Freq        Total Category  logprob  loglift\n",
              "318    累計  1447.000000  1447.000000  Default  30.0000  30.0000\n",
              "3251   股利  1555.000000  1555.000000  Default  29.0000  29.0000\n",
              "739    原文  2112.000000  2112.000000  Default  28.0000  28.0000\n",
              "1217   本期  1152.000000  1152.000000  Default  27.0000  27.0000\n",
              "152    盈餘  1172.000000  1172.000000  Default  26.0000  26.0000\n",
              "...   ...          ...          ...      ...      ...      ...\n",
              "541    資訊   689.864832  1539.830090   Topic6  -4.3056   1.4423\n",
              "2721   資本   442.275827   611.138691   Topic6  -4.7501   1.9218\n",
              "1291   來源   469.231082   933.696846   Topic6  -4.6910   1.5571\n",
              "7929   營收   448.265884   908.755957   Topic6  -4.7367   1.5385\n",
              "2659   標題   430.295714  1278.361517   Topic6  -4.7776   1.1563\n",
              "\n",
              "[451 rows x 6 columns], token_table=      Topic      Freq Term\n",
              "term                      \n",
              "589       1  0.891523   一下\n",
              "589       2  0.108370   一下\n",
              "1353      1  0.905870   一堆\n",
              "1353      2  0.095355   一堆\n",
              "1045      1  0.741668   一直\n",
              "...     ...       ...  ...\n",
              "1343      3  0.550039   高鐵\n",
              "1343      4  0.413768   高鐵\n",
              "1343      5  0.037165   高鐵\n",
              "7717      5  1.000785   鴻海\n",
              "7998      1  1.000749   點數\n",
              "\n",
              "[826 rows x 3 columns], R=30, lambda_step=0.01, plot_opts={'xlab': 'PC1', 'ylab': 'PC2'}, topic_order=[2, 6, 5, 1, 4, 3])"
            ],
            "text/html": [
              "\n",
              "<link rel=\"stylesheet\" type=\"text/css\" href=\"https://cdn.jsdelivr.net/gh/bmabey/pyLDAvis@3.4.0/pyLDAvis/js/ldavis.v1.0.0.css\">\n",
              "\n",
              "\n",
              "<div id=\"ldavis_el4101332499747403361345765317\" style=\"background-color:white;\"></div>\n",
              "<script type=\"text/javascript\">\n",
              "\n",
              "var ldavis_el4101332499747403361345765317_data = {\"mdsDat\": {\"x\": [0.1489403829623952, -0.0660110046429921, 0.02007054674231218, 0.3127165156239277, -0.17188869957280437, -0.24382774111283934], \"y\": [0.14906957355952896, 0.19021876863006398, 0.11273722220724323, -0.22724363556345278, 0.06041396750585929, -0.28519589633924275], \"topics\": [1, 2, 3, 4, 5, 6], \"cluster\": [1, 1, 1, 1, 1, 1], \"Freq\": [23.341189253404206, 20.221639672673785, 17.18639786942057, 14.647189836530123, 14.013014890651815, 10.590568477319486]}, \"tinfo\": {\"Term\": [\"\\u7d2f\\u8a08\", \"\\u80a1\\u5229\", \"\\u539f\\u6587\", \"\\u672c\\u671f\", \"\\u76c8\\u9918\", \"\\u73fe\\u91d1\", \"\\u5143\\u80a1\", \"\\u516c\\u53f8\", \"\\u623f\\u5c4b\", \"\\u8463\\u4e8b\\u6703\", \"\\u5143\\u6708\", \"\\u80a1\\u6771\", \"\\u8cc7\\u8a0a\", \"\\u8eca\\u4f4d\", \"\\u914d\\u80a1\", \"\\u65e5\\u671f\", \"\\u6bcf\\u80a1\", \"\\u5efa\\u7269\", \"\\u6de8\\u5229\", \"\\u516c\\u958b\", \"\\u914d\\u767c\", \"\\u71df\\u6536\", \"\\u71df\\u696d\", \"\\u6307\\u6578\", \"\\u7db2\\u5740\", \"\\u589e\\u8cc7\", \"\\u73fe\\u5728\", \"\\u672c\\u6587\", \"\\u683c\\u5c40\", \"\\u5be6\\u50f9\", \"\\u5c0f\\u5f1f\", \"\\u8ce3\\u6389\", \"\\u6771\\u897f\", \"\\u4fe1\\u8cb8\", \"\\u623f\\u6771\", \"\\u8acb\\u6559\", \"\\u589e\\u8cb8\", \"\\u6c92\\u4ec0\\u9ebc\", \"\\u8cb7\\u4e0d\\u8d77\", \"\\u5e33\\u6236\", \"\\u540d\\u4e0b\", \"\\u9019\\u9593\", \"\\u96a8\\u4fbf\", \"\\u6709\\u9322\", \"\\u79df\\u5c4b\", \"\\u524d\\u8f29\", \"\\u90a3\\u7a2e\", \"\\u525b\\u525b\", \"\\u85aa\\u6c34\", \"\\u7406\\u89e3\", \"\\u60f3\\u6cd5\", \"\\u770b\\u904e\", \"\\u9ede\\u6578\", \"\\u54ea\\u88e1\", \"\\u7279\\u50f9\", \"\\u982d\\u671f\\u6b3e\", \"\\u5e74\\u8f15\", \"\\u5e6b\\u5fd9\", \"\\u5bb6\\u4eba\", \"\\u5bec\\u9650\\u671f\", \"\\u623f\\u5b50\", \"\\u53ea\\u80fd\", \"\\u4e00\\u9593\", \"\\u89ba\\u5f97\", \"\\u8cb7\\u623f\", \"\\u60f3\\u8981\", \"\\u8acb\\u554f\", \"\\u597d\\u50cf\", \"\\u4e0d\\u7528\", \"\\u4e00\\u4e0b\", \"\\u512a\\u60e0\", \"\\u56de\\u994b\", \"\\u771f\\u7684\", \"\\u77e5\\u9053\", \"\\u5206\\u4eab\", \"\\u623f\\u8cb8\", \"\\u5b8c\\u5168\", \"\\u4e00\\u5806\", \"\\u4e00\\u9ede\", \"\\u79df\\u91d1\", \"\\u73fe\\u5728\", \"\\u6bd4\\u8f03\", \"\\u670b\\u53cb\", \"\\u554f\\u984c\", \"\\u770b\\u5230\", \"\\u6709\\u6c92\\u6709\", \"\\u6700\\u8fd1\", \"\\u61c9\\u8a72\", \"\\u76f4\\u63a5\", \"\\u6709\\u4eba\", \"\\u8cb8\\u6b3e\", \"\\u4e00\\u76f4\", \"\\u9810\\u552e\", \"\\u76ee\\u524d\", \"\\u623f\\u50f9\", \"\\u4e4b\\u5f8c\", \"\\u5df2\\u7d93\", \"\\u9280\\u884c\", \"\\u50f9\\u683c\", \"\\u6700\\u5f8c\", \"\\u9700\\u8981\", \"\\u6295\\u8cc7\", \"\\u80a1\\u7968\", \"\\u6642\\u9593\", \"\\u6307\\u6578\", \"\\u964d\\u606f\", \"\\u5927\\u76e4\", \"\\u500b\\u80a1\", \"\\u6563\\u6236\", \"\\u6ce2\\u52d5\", \"\\u57fa\\u672c\\u9762\", \"\\u76e4\\u4e2d\", \"\\u806f\\u6e96\", \"\\u8dcc\\u7834\", \"\\u694a\\u91d1\\u9f8d\", \"\\u6295\\u9867\", \"\\u77ed\\u7dda\", \"\\u5e73\\u6e96\", \"\\u8d70\\u52e2\", \"\\u591a\\u7a7a\", \"\\u9078\\u80a1\", \"\\u6295\\u8cc7\\u8005\", \"\\u56de\\u5347\", \"\\u985e\\u80a1\", \"\\u7a69\\u5065\", \"\\u534a\\u78bc\", \"\\u9577\\u671f\\u6295\\u8cc7\", \"\\u8d85\\u984d\", \"\\u90e8\\u4f4d\", \"\\u767c\\u884c\\u50f9\", \"\\u5206\\u6563\", \"\\u9707\\u76ea\", \"\\u5f37\\u52e2\", \"\\u4fdd\\u7f85\", \"\\u6295\\u8cc7\\u4eba\", \"\\u914d\\u606f\", \"\\u6210\\u5206\\u80a1\", \"\\u57fa\\u91d1\", \"\\u4e0b\\u8dcc\", \"\\u50b5\\u5238\", \"\\u9000\\u5834\", \"\\u6a5f\\u5236\", \"\\u52df\\u96c6\", \"\\u6de8\\u503c\", \"\\u7f8e\\u80a1\", \"\\u5206\\u985e\", \"\\u5229\\u7387\", \"\\u505c\\u640d\", \"\\u71df\\u5efa\", \"\\u5206\\u6790\", \"\\u5347\\u606f\", \"\\u592e\\u884c\", \"\\u53f0\\u80a1\", \"\\u6307\\u6a19\", \"\\u7533\\u8cfc\", \"\\u80a1\\u50f9\", \"\\u6a19\\u7684\", \"\\u80a1\\u606f\", \"\\u4e0a\\u6f32\", \"\\u80a1\\u5e02\", \"\\u8cc7\\u91d1\", \"\\u5e02\\u5834\", \"\\u9032\\u5834\", \"\\u6295\\u8cc7\", \"\\u9577\\u671f\", \"\\u4eca\\u5e74\", \"\\u9810\\u671f\", \"\\u98a8\\u96aa\", \"\\u80a1\\u7968\", \"\\u7372\\u5229\", \"\\u6642\\u9593\", \"\\u76ee\\u524d\", \"\\u6301\\u7e8c\", \"\\u53f0\\u7063\", \"\\u5fc3\\u5f97\", \"\\u6210\\u9577\", \"\\u53bb\\u5e74\", \"\\u96fb\\u50f9\", \"\\u8abf\\u6f32\", \"\\u7528\\u96fb\", \"\\u6574\\u5408\", \"\\u53f0\\u96fb\", \"\\u4eba\\u58eb\", \"\\u7acb\\u59d4\", \"\\u592a\\u967d\\u80fd\", \"\\u5f37\\u5316\", \"\\u96f2\\u8c79\", \"\\u5be9\\u67e5\", \"\\u6838\\u96fb\\u5ee0\", \"\\u7d93\\u6fdf\\u90e8\", \"\\u5be9\\u8b70\", \"\\u884c\\u653f\\u9662\", \"\\u7acb\\u6cd5\\u9662\", \"\\u767c\\u96fb\", \"\\u6230\\u722d\", \"\\u8a2d\\u5ee0\", \"\\u898f\\u756b\", \"\\u516c\\u6703\", \"\\u7da0\\u96fb\", \"\\u6838\\u96fb\", \"\\u4ea4\\u901a\\u90e8\", \"\\u79d1\\u5b78\\u5712\\u5340\", \"\\u4e2d\\u5171\", \"\\u7528\\u96fb\\u91cf\", \"\\u8cbf\\u6613\", \"\\u6838\\u80fd\", \"\\u96fb\\u5546\", \"\\u79df\\u8cc3\", \"\\u6d88\\u8cbb\\u8005\", \"\\u97d3\\u570b\", \"\\u8ca1\\u653f\\u90e8\", \"\\u7da0\\u80fd\", \"\\u570b\\u5bb6\", \"\\u8a08\\u756b\", \"\\u9032\\u884c\", \"\\u4e2d\\u570b\", \"\\u653f\\u5e9c\", \"\\u5609\\u7fa9\", \"\\u8abf\\u67e5\", \"\\u767c\\u5c55\", \"\\u88dc\\u8cbc\", \"\\u8868\\u793a\", \"\\u91dd\\u5c0d\", \"\\u51fa\\u53e3\", \"\\u570b\\u969b\", \"\\u8981\\u6c42\", \"\\u65e5\\u672c\", \"\\u7f8e\\u570b\", \"\\u96fb\\u529b\", \"\\u5305\\u62ec\", \"\\u7522\\u696d\", \"\\u5831\\u5c0e\", \"\\u53f0\\u7063\", \"\\u6307\\u51fa\", \"\\u4f01\\u696d\", \"\\u63d0\\u4f9b\", \"\\u516c\\u53f8\", \"\\u539f\\u6587\", \"\\u7d93\\u6fdf\", \"\\u5f71\\u97ff\", \"\\u5b8c\\u6210\", \"\\u8a18\\u8005\", \"\\u900f\\u904e\", \"\\u9ad8\\u9435\", \"\\u5fc3\\u5f97\", \"\\u9023\\u7d50\", \"\\u672a\\u4f86\", \"\\u8cb8\\u6b3e\", \"\\u6210\\u672c\", \"\\u76ee\\u524d\", \"\\u767c\\u5e03\", \"\\u5167\\u5bb9\", \"\\u8eca\\u4f4d\", \"\\u5efa\\u7269\", \"\\u516c\\u8a2d\", \"\\u6377\\u904b\", \"\\u672c\\u7ad9\", \"\\u9580\\u724c\", \"\\u6a13\\u5c64\", \"\\u576a\\u6578\", \"\\u7269\\u6b0a\", \"\\u53f0\\u5357\\u5e02\", \"\\u5546\\u5708\", \"\\u7e3d\\u6a13\", \"\\u505c\\u8eca\\u4f4d\", \"\\u672c\\u677f\", \"\\u5e73\\u9762\", \"\\u8f49\\u8f09\", \"\\u623f\\u5ef3\", \"\\u8a73\\u76e1\", \"\\u5404\\u7d1a\", \"\\u9858\\u53d7\", \"\\u7d93\\u7d00\\u4eba\", \"\\u4e0a\\u5c64\", \"\\u512a\\u7f3a\\u9ede\", \"\\u6771\\u5340\", \"\\u6b21\\u8981\", \"\\u4e0b\\u5c64\", \"\\u9ad8\\u5730\", \"\\u516c\\u53f8\\u5730\\u5740\", \"\\u5167\\u4e0a\", \"\\u5167\\u4fe1\", \"\\u672c\\u6587\", \"\\u5be6\\u50f9\", \"\\u6a5f\\u80fd\", \"\\u767b\\u9304\", \"\\u4ea4\\u901a\", \"\\u6b0a\\u72c0\", \"\\u9644\\u5c6c\", \"\\u623f\\u5c4b\", \"\\u793e\\u5340\", \"\\u683c\\u5c40\", \"\\u7269\\u4ef6\", \"\\u91cd\\u5283\", \"\\u898f\\u7bc4\", \"\\u5c4b\\u9f61\", \"\\u806f\\u7d61\", \"\\u5efa\\u8a2d\", \"\\u5927\\u6a13\", \"\\u59d3\\u540d\", \"\\u540c\\u610f\", \"\\u672c\\u6848\", \"\\u6843\\u5712\", \"\\u571f\\u5730\", \"\\u9858\\u610f\", \"\\u8cc7\\u8a0a\", \"\\u898f\\u5283\", \"\\u76f8\\u95dc\", \"\\u5167\\u5bb9\", \"\\u4ef2\\u4ecb\", \"\\u516c\\u53f8\", \"\\u4ee5\\u4e0a\", \"\\u6676\\u7247\", \"\\u6392\\u884c\", \"\\u5ee3\\u9054\", \"\\u589e\\u5f35\", \"\\u7522\\u80fd\", \"\\u4eba\\u5de5\\u667a\\u6167\", \"\\u9d3b\\u6d77\", \"\\u82f1\\u7279\\u723e\", \"\\u8cc7\\u589e\", \"\\u5c01\\u88dd\", \"\\u4ee3\\u5de5\", \"\\u82f1\\u696d\\u9054\", \"\\u6a5f\\u5668\\u4eba\", \"\\u6771\\u5143\", \"\\u5927\\u5ee0\", \"\\u904b\\u7b97\", \"\\u5927\\u53f0\\u7063\", \"\\u4e16\\u9054\", \"\\u7def\\u5275\", \"\\u80a1\\u7968\\u540d\\u7a31\", \"\\u548c\\u78a9\", \"\\u91cf\\u7522\", \"\\u4e0a\\u6e38\", \"\\u83ef\\u57ce\", \"\\u8eca\\u7528\", \"\\u795e\\u57fa\", \"\\u6676\\u5713\", \"\\u4ec1\\u52f3\", \"\\u8a55\\u7b49\", \"\\u8cbb\\u57ce\", \"\\u88fd\\u7a0b\", \"\\u61c9\\u7528\", \"\\u4f3a\\u670d\\u5668\", \"\\u6c38\\u8c50\", \"\\u88fd\\u9020\", \"\\u5f35\\u5238\", \"\\u5fa9\\u83ef\", \"\\u8cb7\\u8d85\", \"\\u885b\\u661f\", \"\\u4e2d\\u8208\", \"\\u534a\\u5c0e\\u9ad4\", \"\\u8ce3\\u8d85\", \"\\u8f1d\\u9054\", \"\\u53ef\\u671b\", \"\\u5e03\\u5c40\", \"\\u8a02\\u55ae\", \"\\u6210\\u4ea4\\u91cf\", \"\\u570b\\u6cf0\", \"\\u539f\\u6587\", \"\\u5ba2\\u6236\", \"\\u51fa\\u8ca8\", \"\\u4e2d\\u4fe1\", \"\\u860b\\u679c\", \"\\u7d14\\u76ca\", \"\\u5104\\u7f8e\\u5143\", \"\\u6210\\u9577\", \"\\u6280\\u8853\", \"\\u7f72\\u540d\", \"\\u5916\\u8cc7\", \"\\u5104\\u5143\", \"\\u767c\\u5e03\", \"\\u79d1\\u6280\", \"\\u8a18\\u8005\", \"\\u53bb\\u5e74\", \"\\u4eca\\u5e74\", \"\\u8b49\\u5238\", \"\\u6a19\\u984c\", \"\\u71df\\u6536\", \"\\u7522\\u54c1\", \"\\u8a55\\u8ad6\", \"\\u53f0\\u7063\", \"\\u6642\\u9593\", \"\\u9700\\u6c42\", \"\\u53f0\\u7a4d\\u96fb\", \"\\u9023\\u7d50\", \"\\u9577\\u69ae\", \"\\u5167\\u5bb9\", \"\\u5e02\\u5834\", \"\\u516c\\u53f8\", \"\\u672c\\u671f\", \"\\u5143\\u80a1\", \"\\u914d\\u80a1\", \"\\u589e\\u8cc7\", \"\\u4edf\\u5143\", \"\\u671f\\u672b\", \"\\u89c0\\u6e2c\\u7ad9\", \"\\u61c9\\u6558\\u660e\", \"\\u516c\\u7a4d\", \"\\u516c\\u7a4d\\u8f49\", \"\\u6b78\\u5c6c\\u65bc\", \"\\u6de8\\u640d\", \"\\u666e\\u901a\\u80a1\", \"\\u81ea\\u7d50\", \"\\u8ca1\\u52d9\\u5831\\u544a\", \"\\u9762\\u984d\", \"\\u6b04\\u4f4d\", \"\\u5be9\\u8a08\", \"\\u63d0\\u5831\", \"\\u71df\\u696d\\u6bdb\\u5229\", \"\\u6216\\u7d93\", \"\\u8d77\\u8a16\", \"\\u6bdb\\u640d\", \"\\u640d\\u4edf\", \"\\u6de8\\u984d\", \"\\u64ec\\u8b70\", \"\\u7de3\\u7531\", \"\\u65b0\\u80a1\", \"\\u7b2c\\u6b3e\", \"\\u65bd\\u884c\\u7d30\\u5247\", \"\\u76c8\\u9918\", \"\\u5143\\u6708\", \"\\u589e\\u6e1b\", \"\\u8463\\u4e8b\\u6703\", \"\\u6240\\u5c6c\", \"\\u7d2f\\u8a08\", \"\\u71df\\u696d\", \"\\u4e8b\\u9805\", \"\\u7a05\\u524d\", \"\\u696d\\u4e3b\", \"\\u914d\\u767c\", \"\\u65e5\\u671f\", \"\\u6de8\\u5229\", \"\\u80a1\\u6771\", \"\\u6cd5\\u5b9a\", \"\\u6c7a\\u8b70\", \"\\u80a1\\u5229\", \"\\u6bcd\\u516c\\u53f8\", \"\\u516c\\u958b\", \"\\u73fe\\u91d1\", \"\\u6bcf\\u80a1\", \"\\u767c\\u653e\", \"\\u7db2\\u5740\", \"\\u5e74\\u5ea6\", \"\\u516c\\u53f8\", \"\\u8cc7\\u8a0a\", \"\\u8cc7\\u672c\", \"\\u4f86\\u6e90\", \"\\u71df\\u6536\", \"\\u6a19\\u984c\"], \"Freq\": [1447.0, 1555.0, 2112.0, 1152.0, 1172.0, 1317.0, 1035.0, 2870.0, 1205.0, 896.0, 871.0, 866.0, 1539.0, 877.0, 750.0, 785.0, 742.0, 703.0, 637.0, 684.0, 614.0, 908.0, 556.0, 745.0, 680.0, 523.0, 1651.0, 604.0, 682.0, 598.0, 240.65761648585118, 225.67954815969142, 186.736570511676, 164.76873696664165, 152.78628230571383, 134.8126003143221, 125.82575931862624, 114.84184254610906, 109.84915310405582, 105.8550015504132, 101.86084999677061, 98.86523633153864, 97.86669844312799, 96.86816055471733, 96.86816055471733, 95.8696226663067, 95.8696226663067, 92.87400900107474, 90.87693322425342, 90.87693322425342, 88.87985744743213, 88.87985744743213, 83.88716800537887, 79.89301645173626, 76.8974027865043, 75.89886489809365, 75.89886489809365, 74.90032700968301, 74.90032700968301, 74.90032700968301, 692.9952799358765, 326.5318748891672, 325.5333370007566, 710.9689619272682, 440.36519416798154, 182.74241895803337, 337.51579166168443, 263.6239879192962, 312.55234445141815, 617.1064004166669, 249.64445748154705, 132.8155245375008, 867.7394104077406, 801.8359097726376, 275.606442580224, 386.44414819380637, 249.64445748154705, 265.6210636961175, 301.56842767890095, 229.67369971333403, 1235.2013533428603, 678.0172116097167, 215.6941692755849, 731.9382575838919, 539.2204451206361, 261.6269121424749, 503.27308113785267, 699.9850451547511, 432.3768910606963, 290.58451090638374, 494.28624014215677, 380.45292086334246, 413.40467118089396, 811.8212886567441, 491.2906264769248, 345.50409476896965, 482.30378548122894, 437.3695805027496, 434.3739668375176, 327.5304127775779, 338.5143295500951, 475.31402026235435, 408.4119817388407, 394.4324513010916, 745.1956463267744, 505.4576332727592, 285.69778797324534, 244.74254407651776, 165.82878144623774, 153.84188079353697, 126.87135432496028, 125.87244593723521, 121.87681238633498, 115.88336205998459, 97.90301108093345, 97.90301108093345, 96.90410269320839, 96.90410269320839, 93.9073775300332, 91.90956075458307, 91.90956075458307, 90.91065236685802, 89.91174397913295, 89.91174397913295, 87.91392720368282, 86.91501881595775, 75.92702655098206, 69.93357622463168, 67.93575944918156, 62.94121751055623, 61.942309122831176, 59.94449234738104, 58.94558395965598, 56.94776718420585, 532.4281597413359, 371.60390931760077, 362.6137338280752, 533.427068129061, 268.7163453819192, 249.73708601514306, 218.7709259956661, 285.69778797324534, 290.6923299118706, 270.7141621573694, 187.80476597618912, 269.7152537696443, 779.1585315094266, 200.79057501661492, 107.89209495818407, 433.53622935655466, 389.5842602966519, 319.6606731558974, 677.2698759614701, 218.7709259956661, 327.65194025769796, 828.1050425079546, 424.5460538670291, 671.2764256351197, 419.5515119284038, 432.53732096882965, 566.3910449239881, 1063.8474220110695, 287.6956047486955, 921.0035225663855, 311.669406054097, 642.308082391093, 355.62137511399976, 344.63338284902403, 449.51876356015566, 384.5897183580266, 481.48383196735773, 487.47728229370813, 385.58862674575164, 492.47182423233346, 387.5864435212018, 359.61700866489997, 360.6159170526251, 433.5795409500244, 233.77790460522849, 176.83443824696164, 134.8760946145545, 123.88700461559073, 98.91180007249125, 94.91576734559531, 90.91973461869941, 85.9246937100795, 76.93362007456368, 75.93461189283971, 75.93461189283971, 75.93461189283971, 74.93560371111573, 71.93857916594378, 69.94056280249583, 68.94155462077184, 68.94155462077184, 67.94254643904786, 65.94453007559991, 65.94453007559991, 65.94453007559991, 65.94453007559991, 64.94552189387593, 63.94651371215195, 59.95048098525602, 58.95147280353204, 57.95246462180807, 55.9544482583601, 53.956431894912136, 98.91180007249125, 136.87411097800245, 137.87311915972643, 85.9246937100795, 89.92072643697543, 194.81658551799327, 174.83642188351368, 330.68169823245455, 639.3752263851643, 432.5805327683005, 134.8760946145545, 127.88303734248665, 392.6202054993413, 129.8810537059346, 774.2413309179016, 185.82551188247746, 146.86419279524225, 221.78980642454073, 167.84336461144582, 276.73525641935964, 504.50912185242703, 110.899898253179, 225.78583915143665, 350.66186186693415, 349.66285368521017, 719.2958809230826, 354.65789459383006, 241.76997005902032, 254.75707642143206, 814.2016581868606, 654.3603491110239, 270.7412073290157, 326.68566550555863, 186.82452006420144, 383.6291318638255, 195.81559369971725, 221.78980642454073, 325.6866573238346, 349.66285368521017, 312.69955096142286, 240.77096187729634, 222.7888146062647, 274.7372400559116, 222.7888146062647, 224.78683096971267, 877.8870516084074, 703.1106167197586, 469.40955521150795, 413.4810960471403, 395.5040913157364, 346.5666895469147, 341.5730771215247, 303.62162268856093, 283.64717298700106, 260.6765558302072, 241.70082861372532, 240.70210612864733, 237.70593867341336, 210.7404315763075, 208.7429866061515, 207.7442641210735, 199.75448424044959, 198.7557617553716, 197.7570392702936, 197.7570392702936, 168.79408720303175, 164.7991972627198, 163.8004747776418, 157.8081398671738, 154.81197241193982, 153.81324992686183, 150.81708247162786, 141.82858010592594, 136.83496768053595, 132.84007774022396, 602.2396457268811, 595.2485883313351, 305.6190676587169, 590.2549759059452, 416.4772635023743, 305.6190676587169, 203.74937418076155, 1103.598333236034, 499.37122976384774, 638.1936551896889, 518.3469569803297, 330.5871297856668, 407.48876113667234, 323.5960723901208, 303.62162268856093, 594.2498658462572, 407.48876113667234, 290.638230382547, 427.46321083823216, 296.63056529301497, 366.54113924847456, 452.4312729651821, 425.4657658680762, 680.1399995629647, 357.5526368827726, 384.51814397987846, 416.4772635023743, 319.60118244980885, 342.5717996066027, 324.59479487519883, 382.54098342046564, 295.64751965299087, 235.72099291680138, 221.73813667835717, 172.79813984380237, 163.80916083337397, 135.84344835648554, 113.87038855321607, 113.87038855321607, 105.88018498839081, 99.88753231477186, 99.88753231477186, 98.8887568691687, 95.89243053235923, 93.89487964115291, 93.89487964115291, 93.89487964115291, 86.9034515219308, 85.90467607632765, 84.90590063072449, 75.91692162029607, 70.92304439228026, 70.92304439228026, 66.92794260986763, 66.92794260986763, 63.93161627305816, 62.932840827454996, 62.932840827454996, 61.93406538185184, 60.93528993624868, 177.79201707181818, 189.77732241905608, 345.58629193314874, 229.72834024318243, 117.8654903356287, 102.88385865158135, 135.84344835648554, 243.71119648162662, 115.86793944442239, 115.86793944442239, 441.4687347110519, 123.85814300924766, 212.74915766792873, 174.79569073500872, 163.80916083337397, 229.72834024318243, 245.70874737283293, 300.64139688100664, 1444.239282096623, 363.5642499540056, 149.82630459492978, 249.70384915524556, 152.82263093173924, 175.79446618061186, 209.75283133111927, 540.3475038257646, 296.646295098594, 422.49200124459196, 366.5605762908151, 690.1638206662383, 444.4650610478614, 339.5936392595298, 518.3744440224951, 532.3573002609394, 579.2997462042878, 326.6095584666888, 514.3793422400825, 425.48832758140145, 320.6169057930698, 370.55567807322774, 574.305868976272, 485.41485431759094, 328.60710935789507, 291.65241787057823, 372.553228964434, 280.6658879689435, 368.5581271820214, 345.58629193314874, 359.569148171593, 1152.0975315352437, 1035.2914283042287, 750.7637409466283, 523.141591060548, 485.2045660795347, 429.2973713706728, 407.33383059219136, 398.34874572826715, 383.37360428839344, 353.423321408646, 322.47469576624036, 294.5210984118095, 241.60893199092234, 232.62384712699813, 231.6255043643399, 208.6636208232002, 173.72162413016153, 165.73488202889558, 150.75974058902187, 143.77134125041414, 141.77465572509766, 141.77465572509766, 139.77797019978115, 134.78625638648992, 121.80780047193272, 89.86083206686882, 80.8757472029446, 75.88403338965335, 59.910549187121404, 46.93209327256419, 1157.0892453485349, 862.5781303643519, 419.3139437440903, 880.5483000922004, 343.4398937820635, 1401.6832221998054, 542.1101035510546, 493.1913081808006, 246.60064580421357, 326.4680668168733, 586.0371851080176, 741.7786560827042, 606.0040403611825, 806.6709356554901, 362.40840627257023, 495.1879937061171, 1300.8506031713225, 351.4266358833295, 603.0090120732078, 1063.2450256586596, 645.9377508675124, 433.2907424213058, 546.1034746016877, 445.27085557320476, 1198.021298617523, 689.8648324244753, 442.27582728523, 469.2310818770026, 448.26588386117953, 430.29571413333105], \"Total\": [1447.0, 1555.0, 2112.0, 1152.0, 1172.0, 1317.0, 1035.0, 2870.0, 1205.0, 896.0, 871.0, 866.0, 1539.0, 877.0, 750.0, 785.0, 742.0, 703.0, 637.0, 684.0, 614.0, 908.0, 556.0, 745.0, 680.0, 523.0, 1651.0, 604.0, 682.0, 598.0, 240.7075540584791, 225.72948573231935, 186.78650808430393, 164.81867453926958, 152.83621987834175, 134.86253788695004, 125.87569689125411, 114.89178011873693, 109.89909067668368, 105.90493912304107, 101.91078756939848, 98.91517390416651, 97.91663601575586, 96.9180981273452, 96.9180981273452, 95.91956023893457, 95.91956023893457, 92.92394657370261, 90.92687079688129, 90.92687079688129, 88.92979502006, 88.92979502006, 83.93710557800674, 79.94295402436413, 76.94734035913217, 75.94880247072152, 75.94880247072152, 74.95026458231088, 74.95026458231088, 74.95026458231088, 702.0337198742063, 331.576853370415, 332.57433196893044, 738.9883343561978, 458.3935649552433, 186.78745831307393, 355.54608021336344, 278.6590482177838, 333.5789863609782, 692.0744670686745, 264.6795177800346, 135.8617884469382, 1001.6365984779759, 928.7498072303204, 298.63207142251963, 437.4435030343572, 272.66986905395055, 293.64043612504713, 338.57797559735616, 250.69823795582974, 1651.8030092790375, 842.8773107994531, 234.72243670175365, 954.7543521364439, 684.1120989133981, 299.6353684486552, 682.0852998029933, 1065.634263286697, 594.2464473773646, 350.5689517425154, 735.0971495102638, 512.3587656156786, 584.2361537018588, 1754.8288672765393, 863.8976406248172, 481.40816771617796, 971.8362969889481, 885.9301597606776, 922.803030585515, 491.3993659563189, 544.3549725467241, 1642.0351384270664, 1039.727056106166, 1476.2141841043042, 745.2455801944092, 505.5075671403939, 285.74772184088005, 244.79247794415252, 165.8787153138725, 153.89181466117174, 126.92128819259501, 125.92237980486995, 121.92674625396971, 115.93329592761933, 97.95294494856819, 97.95294494856819, 96.95403656084312, 96.95403656084312, 93.95731139766794, 91.9594946222178, 91.9594946222178, 90.96058623449275, 89.96167784676769, 89.96167784676769, 87.96386107131755, 86.96495268359249, 75.9769604186168, 69.98351009226641, 67.9856933168163, 62.99115137819097, 61.99224299046592, 59.994426215015785, 58.99551782729072, 56.99770105184059, 544.4582067608696, 378.6422425238432, 369.6553285510529, 549.4536082112662, 273.7613201581738, 254.77873369606905, 222.81689259019677, 292.7372919340022, 303.7207196940625, 282.74420917690304, 193.8459271742878, 284.74242281500386, 888.043631692755, 210.8258877683562, 108.94037158847706, 479.5189060910794, 429.58370468703924, 349.6667436758517, 801.1679650838965, 235.80085628950266, 372.6358839780596, 1045.8754757116756, 498.4846168195883, 861.0903005352272, 511.5101985146446, 534.4381194543508, 767.1349965655148, 1689.146406292405, 337.6724330368628, 1642.0351384270664, 385.6257227568331, 1408.429634241974, 506.4809758570018, 503.45742508033896, 1039.727056106166, 718.2026620342008, 1476.2141841043042, 1754.8288672765393, 807.1624215580125, 1935.8849518113166, 1013.9378362189105, 940.9637940545265, 1201.5252726814397, 433.6294738197191, 233.82783747492326, 176.8843711166564, 134.92602748424926, 123.93693748528547, 98.96173294218599, 94.96570021529006, 90.96966748839415, 85.97462657977424, 76.98355294425842, 75.98454476253445, 75.98454476253445, 75.98454476253445, 74.98553658081048, 71.98851203563852, 69.99049567219058, 68.99148749046658, 68.99148749046658, 67.9924793087426, 65.99446294529466, 65.99446294529466, 65.99446294529466, 65.99446294529466, 64.99545476357068, 63.9964465818467, 60.00041385495077, 59.00140567322679, 58.00239749150282, 56.00438112805485, 54.006364764606886, 99.960455427264, 139.91965751292918, 141.9172035830638, 87.97244335522437, 92.96719856719831, 220.83369047676675, 195.8549465194325, 411.63431460639435, 905.0889737384874, 581.4126110111823, 151.90430973057514, 142.91659602805737, 554.4684791674235, 146.90613067861045, 1309.6486081505254, 235.81678864596688, 176.87691391864675, 301.73638890253574, 210.83042668279862, 404.6330440079412, 930.0832595811244, 124.93244980412545, 336.69984648308196, 642.3643565567055, 657.2699814825884, 1935.8849518113166, 683.3203703531049, 389.65036778471017, 437.538345507936, 2870.1557896374024, 2112.6191067606346, 508.53096597796105, 722.2240778061955, 271.7569992085122, 1095.8317482202215, 299.7323197611673, 403.60802598630784, 1013.9378362189105, 1202.6629636831624, 1056.8282956497808, 735.0971495102638, 534.4268426751652, 1754.8288672765393, 805.1431782754235, 1534.1220763578644, 877.9369873350686, 703.1605524464197, 469.45949093816915, 413.5310317738015, 395.5540270423976, 346.6166252735759, 341.6230128481859, 303.67155841522214, 283.69710871366226, 260.7264915568684, 241.75076434038655, 240.75204185530856, 237.7558744000746, 210.79036730296872, 208.79292233281274, 207.79419984773475, 199.80441996711082, 198.80569748203283, 197.80697499695484, 197.80697499695484, 168.84402292969298, 164.84913298938102, 163.85041050430303, 157.85807559383503, 154.86190813860105, 153.86318565352306, 150.8670181982891, 141.87851583258717, 136.88490340719719, 132.8900134668852, 604.2866572303636, 598.2941377232282, 307.6660791621994, 603.2859041819449, 426.51658283791284, 312.65876860425266, 205.7968607986291, 1205.5028385737257, 524.3963700336084, 682.1825838071139, 578.3091660116299, 351.60636116895165, 445.5010077688448, 344.6153037734057, 320.6469400753958, 690.2045870184204, 452.47290184181287, 306.6649774070688, 497.4297454851916, 314.6506707475246, 430.51584127263726, 592.3273047471739, 554.339316825858, 1539.8300899312367, 505.4464258490332, 891.9423938959386, 1534.1220763578644, 443.4698163393909, 2870.1557896374024, 1048.7048988259328, 382.5909186175216, 295.6974548500468, 235.77092811385734, 221.78807187541312, 172.84807504085833, 163.85909603042992, 135.8933835535415, 113.92032375027203, 113.92032375027203, 105.93012018544677, 99.93746751182782, 99.93746751182782, 98.93869206622466, 95.94236572941519, 93.94481483820887, 93.94481483820887, 93.94481483820887, 86.95338671898676, 85.9546112733836, 84.95583582778045, 75.96685681735202, 70.97297958933622, 70.97297958933622, 66.97787780692359, 66.97787780692359, 63.98155147011412, 62.982776024510954, 62.982776024510954, 61.984000578907796, 60.98522513330464, 178.84096045059812, 192.822871281344, 355.62234701294005, 234.76998925352962, 118.91433392040973, 103.93233173704796, 139.8882734938535, 258.73685849581346, 118.9134883067103, 118.91489918665029, 502.45208155933676, 127.90371175720387, 231.7783522317609, 186.8332538194391, 174.8430128029471, 257.7373363157366, 278.72265936481597, 350.62136464194003, 2112.6191067606346, 441.52083335287887, 159.86532366923637, 289.7008377887479, 163.85930466119234, 197.80794215614924, 248.76408561541044, 940.9637940545265, 416.54856435350905, 684.2739967394184, 584.325593131389, 1510.1519089311473, 805.1431782754235, 563.4131065789528, 1095.8317482202215, 1201.5252726814397, 1408.429634241974, 548.2970504949429, 1278.361516602346, 908.7559567823876, 546.4095497245651, 735.2278321477074, 1935.8849518113166, 1476.2141841043042, 684.2297185450458, 510.45662099176366, 1202.6629636831624, 456.512410655651, 1534.1220763578644, 1689.146406292405, 2870.1557896374024, 1152.147471059129, 1035.341367828114, 750.8136804705138, 523.1915305844334, 485.2545056034201, 429.34731089455823, 407.3837701160768, 398.3986852521526, 383.42354381227887, 353.47326093253145, 322.5246352901258, 294.5710379356949, 241.65887151480774, 232.67378665088353, 231.6754438882253, 208.7135603470856, 173.77156365404693, 165.78482155278098, 150.80968011290727, 143.82128077429954, 141.82459524898306, 141.82459524898306, 139.82790972366655, 134.83619591037532, 121.85773999581814, 89.91077159075424, 80.92568672683001, 75.93397291353877, 59.96048871100681, 46.982032796449595, 1172.122810688296, 871.6180594751157, 423.3587732082877, 896.5786467457364, 346.4865584691241, 1447.6768322214361, 556.1461576190758, 507.2264216621951, 249.64619899333093, 334.50702211962147, 614.0565594882048, 785.7720652758262, 637.0160186987658, 866.6528525425631, 374.44387270732955, 527.2061950451698, 1555.6198452610074, 366.45820709126224, 684.975926000478, 1317.9484321785844, 742.881804000729, 472.29699756852546, 680.9838232525344, 522.2409322998745, 2870.1557896374024, 1539.8300899312367, 611.1386908394502, 933.6968459839334, 908.7559567823876, 1278.361516602346], \"Category\": [\"Default\", \"Default\", \"Default\", \"Default\", \"Default\", \"Default\", \"Default\", \"Default\", \"Default\", \"Default\", \"Default\", \"Default\", \"Default\", \"Default\", \"Default\", \"Default\", \"Default\", \"Default\", \"Default\", \"Default\", \"Default\", \"Default\", \"Default\", \"Default\", \"Default\", \"Default\", \"Default\", \"Default\", \"Default\", \"Default\", \"Topic1\", \"Topic1\", \"Topic1\", \"Topic1\", \"Topic1\", \"Topic1\", \"Topic1\", \"Topic1\", \"Topic1\", \"Topic1\", \"Topic1\", \"Topic1\", \"Topic1\", \"Topic1\", \"Topic1\", \"Topic1\", \"Topic1\", \"Topic1\", \"Topic1\", \"Topic1\", \"Topic1\", \"Topic1\", \"Topic1\", \"Topic1\", \"Topic1\", \"Topic1\", \"Topic1\", \"Topic1\", \"Topic1\", \"Topic1\", \"Topic1\", \"Topic1\", \"Topic1\", \"Topic1\", \"Topic1\", \"Topic1\", \"Topic1\", \"Topic1\", \"Topic1\", \"Topic1\", \"Topic1\", \"Topic1\", \"Topic1\", \"Topic1\", \"Topic1\", \"Topic1\", \"Topic1\", \"Topic1\", \"Topic1\", \"Topic1\", \"Topic1\", \"Topic1\", \"Topic1\", \"Topic1\", \"Topic1\", \"Topic1\", \"Topic1\", \"Topic1\", \"Topic1\", \"Topic1\", \"Topic1\", \"Topic1\", \"Topic1\", \"Topic1\", \"Topic1\", \"Topic1\", \"Topic1\", \"Topic1\", \"Topic1\", \"Topic1\", \"Topic1\", \"Topic1\", \"Topic1\", \"Topic1\", \"Topic2\", \"Topic2\", \"Topic2\", \"Topic2\", \"Topic2\", \"Topic2\", \"Topic2\", \"Topic2\", \"Topic2\", \"Topic2\", \"Topic2\", \"Topic2\", \"Topic2\", \"Topic2\", \"Topic2\", \"Topic2\", \"Topic2\", \"Topic2\", \"Topic2\", \"Topic2\", \"Topic2\", \"Topic2\", \"Topic2\", \"Topic2\", \"Topic2\", \"Topic2\", \"Topic2\", \"Topic2\", \"Topic2\", \"Topic2\", \"Topic2\", \"Topic2\", \"Topic2\", \"Topic2\", \"Topic2\", \"Topic2\", \"Topic2\", \"Topic2\", \"Topic2\", \"Topic2\", \"Topic2\", \"Topic2\", \"Topic2\", \"Topic2\", \"Topic2\", \"Topic2\", \"Topic2\", \"Topic2\", \"Topic2\", \"Topic2\", \"Topic2\", \"Topic2\", \"Topic2\", \"Topic2\", \"Topic2\", \"Topic2\", \"Topic2\", \"Topic2\", \"Topic2\", \"Topic2\", \"Topic2\", \"Topic2\", \"Topic2\", \"Topic2\", \"Topic2\", \"Topic2\", \"Topic2\", \"Topic2\", \"Topic2\", \"Topic2\", \"Topic2\", \"Topic2\", \"Topic2\", \"Topic3\", \"Topic3\", \"Topic3\", \"Topic3\", \"Topic3\", \"Topic3\", \"Topic3\", \"Topic3\", \"Topic3\", \"Topic3\", \"Topic3\", \"Topic3\", \"Topic3\", \"Topic3\", \"Topic3\", \"Topic3\", \"Topic3\", \"Topic3\", \"Topic3\", \"Topic3\", \"Topic3\", \"Topic3\", \"Topic3\", \"Topic3\", \"Topic3\", \"Topic3\", \"Topic3\", \"Topic3\", \"Topic3\", \"Topic3\", \"Topic3\", \"Topic3\", \"Topic3\", \"Topic3\", \"Topic3\", \"Topic3\", \"Topic3\", \"Topic3\", \"Topic3\", \"Topic3\", \"Topic3\", \"Topic3\", \"Topic3\", \"Topic3\", \"Topic3\", \"Topic3\", \"Topic3\", \"Topic3\", \"Topic3\", \"Topic3\", \"Topic3\", \"Topic3\", \"Topic3\", \"Topic3\", \"Topic3\", \"Topic3\", \"Topic3\", \"Topic3\", \"Topic3\", \"Topic3\", \"Topic3\", \"Topic3\", \"Topic3\", \"Topic3\", \"Topic3\", \"Topic3\", \"Topic3\", \"Topic3\", \"Topic3\", \"Topic3\", \"Topic3\", \"Topic3\", \"Topic3\", \"Topic3\", \"Topic3\", \"Topic4\", \"Topic4\", \"Topic4\", \"Topic4\", \"Topic4\", \"Topic4\", \"Topic4\", \"Topic4\", \"Topic4\", \"Topic4\", \"Topic4\", \"Topic4\", \"Topic4\", \"Topic4\", \"Topic4\", \"Topic4\", \"Topic4\", \"Topic4\", \"Topic4\", \"Topic4\", \"Topic4\", \"Topic4\", \"Topic4\", \"Topic4\", \"Topic4\", \"Topic4\", \"Topic4\", \"Topic4\", \"Topic4\", \"Topic4\", \"Topic4\", \"Topic4\", \"Topic4\", \"Topic4\", \"Topic4\", \"Topic4\", \"Topic4\", \"Topic4\", \"Topic4\", \"Topic4\", \"Topic4\", \"Topic4\", \"Topic4\", \"Topic4\", \"Topic4\", \"Topic4\", \"Topic4\", \"Topic4\", \"Topic4\", \"Topic4\", \"Topic4\", \"Topic4\", \"Topic4\", \"Topic4\", \"Topic4\", \"Topic4\", \"Topic4\", \"Topic4\", \"Topic4\", \"Topic4\", \"Topic5\", \"Topic5\", \"Topic5\", \"Topic5\", \"Topic5\", \"Topic5\", \"Topic5\", \"Topic5\", \"Topic5\", \"Topic5\", \"Topic5\", \"Topic5\", \"Topic5\", \"Topic5\", \"Topic5\", \"Topic5\", \"Topic5\", \"Topic5\", \"Topic5\", \"Topic5\", \"Topic5\", \"Topic5\", \"Topic5\", \"Topic5\", \"Topic5\", \"Topic5\", \"Topic5\", \"Topic5\", \"Topic5\", \"Topic5\", \"Topic5\", \"Topic5\", \"Topic5\", \"Topic5\", \"Topic5\", \"Topic5\", \"Topic5\", \"Topic5\", \"Topic5\", \"Topic5\", \"Topic5\", \"Topic5\", \"Topic5\", \"Topic5\", \"Topic5\", \"Topic5\", \"Topic5\", \"Topic5\", \"Topic5\", \"Topic5\", \"Topic5\", \"Topic5\", \"Topic5\", \"Topic5\", \"Topic5\", \"Topic5\", \"Topic5\", \"Topic5\", \"Topic5\", \"Topic5\", \"Topic5\", \"Topic5\", \"Topic5\", \"Topic5\", \"Topic5\", \"Topic5\", \"Topic5\", \"Topic5\", \"Topic5\", \"Topic5\", \"Topic5\", \"Topic5\", \"Topic5\", \"Topic5\", \"Topic5\", \"Topic5\", \"Topic5\", \"Topic5\", \"Topic5\", \"Topic6\", \"Topic6\", \"Topic6\", \"Topic6\", \"Topic6\", \"Topic6\", \"Topic6\", \"Topic6\", \"Topic6\", \"Topic6\", \"Topic6\", \"Topic6\", \"Topic6\", \"Topic6\", \"Topic6\", \"Topic6\", \"Topic6\", \"Topic6\", \"Topic6\", \"Topic6\", \"Topic6\", \"Topic6\", \"Topic6\", \"Topic6\", \"Topic6\", \"Topic6\", \"Topic6\", \"Topic6\", \"Topic6\", \"Topic6\", \"Topic6\", \"Topic6\", \"Topic6\", \"Topic6\", \"Topic6\", \"Topic6\", \"Topic6\", \"Topic6\", \"Topic6\", \"Topic6\", \"Topic6\", \"Topic6\", \"Topic6\", \"Topic6\", \"Topic6\", \"Topic6\", \"Topic6\", \"Topic6\", \"Topic6\", \"Topic6\", \"Topic6\", \"Topic6\", \"Topic6\", \"Topic6\", \"Topic6\", \"Topic6\", \"Topic6\", \"Topic6\", \"Topic6\", \"Topic6\"], \"logprob\": [30.0, 29.0, 28.0, 27.0, 26.0, 25.0, 24.0, 23.0, 22.0, 21.0, 20.0, 19.0, 18.0, 17.0, 16.0, 15.0, 14.0, 13.0, 12.0, 11.0, 10.0, 9.0, 8.0, 7.0, 6.0, 5.0, 4.0, 3.0, 2.0, 1.0, -6.1489, -6.2132, -6.4026, -6.5278, -6.6033, -6.7284, -6.7974, -6.8888, -6.9332, -6.9702, -7.0087, -7.0386, -7.0487, -7.059, -7.059, -7.0693, -7.0693, -7.1011, -7.1228, -7.1228, -7.145, -7.145, -7.2028, -7.2516, -7.2898, -7.3029, -7.3029, -7.3161, -7.3161, -7.3161, -5.0913, -5.8438, -5.8468, -5.0657, -5.5447, -6.4242, -5.8107, -6.0578, -5.8875, -5.2073, -6.1123, -6.7433, -4.8664, -4.9454, -6.0133, -5.6753, -6.1123, -6.0502, -5.9233, -6.1956, -4.5133, -5.1131, -6.2584, -5.0366, -5.3422, -6.0654, -5.4112, -5.0812, -5.563, -5.9604, -5.4292, -5.6909, -5.6079, -4.933, -5.4353, -5.7873, -5.4537, -5.5515, -5.5584, -5.8407, -5.8077, -5.4683, -5.62, -5.6549, -4.8752, -5.2634, -5.8339, -5.9886, -6.3779, -6.4529, -6.6457, -6.6536, -6.6858, -6.7363, -6.9049, -6.9049, -6.9151, -6.9151, -6.9465, -6.968, -6.968, -6.979, -6.99, -6.99, -7.0125, -7.0239, -7.1591, -7.2413, -7.2703, -7.3466, -7.3626, -7.3954, -7.4122, -7.4467, -5.2114, -5.571, -5.5955, -5.2095, -5.8952, -5.9684, -6.1008, -5.8339, -5.8166, -5.8878, -6.2534, -5.8915, -4.8306, -6.1866, -6.8077, -5.4169, -5.5238, -5.7216, -4.9708, -6.1008, -5.6969, -4.7697, -5.4378, -4.9797, -5.4497, -5.4192, -5.1496, -4.5192, -5.8269, -4.6634, -5.7469, -5.0238, -5.615, -5.6464, -5.3807, -5.5367, -5.312, -5.2996, -5.5341, -5.2894, -5.5289, -5.6038, -5.601, -5.2541, -5.8718, -6.151, -6.4218, -6.5068, -6.732, -6.7732, -6.8162, -6.8727, -6.9833, -6.9963, -6.9963, -6.9963, -7.0096, -7.0504, -7.0786, -7.0929, -7.0929, -7.1075, -7.1374, -7.1374, -7.1374, -7.1374, -7.1527, -7.1682, -7.2327, -7.2495, -7.2666, -7.3017, -7.338, -6.732, -6.4071, -6.3999, -6.8727, -6.8273, -6.0541, -6.1624, -5.5251, -4.8657, -5.2564, -6.4218, -6.4751, -5.3534, -6.4596, -4.6743, -6.1014, -6.3367, -5.9245, -6.2032, -5.7031, -5.1026, -6.6176, -5.9066, -5.4664, -5.4692, -4.7479, -5.4551, -5.8382, -5.7859, -4.624, -4.8425, -5.725, -5.5372, -6.096, -5.3765, -6.049, -5.9245, -5.5403, -5.4692, -5.581, -5.8424, -5.92, -5.7104, -5.92, -5.9111, -4.3888, -4.6108, -5.0149, -5.1417, -5.1862, -5.3183, -5.3328, -5.4506, -5.5186, -5.6031, -5.6786, -5.6828, -5.6953, -5.8157, -5.8252, -5.83, -5.8692, -5.8743, -5.8793, -5.8793, -6.0377, -6.0616, -6.0677, -6.105, -6.1241, -6.1306, -6.1503, -6.2117, -6.2476, -6.2772, -4.7657, -4.7774, -5.444, -4.7858, -5.1345, -5.444, -5.8494, -4.16, -4.953, -4.7077, -4.9157, -5.3655, -5.1563, -5.3868, -5.4506, -4.779, -5.1563, -5.4943, -5.1085, -5.4738, -5.2622, -5.0517, -5.1132, -4.644, -5.2871, -5.2143, -5.1345, -5.3993, -5.3299, -5.3838, -5.1752, -5.4329, -5.6594, -5.7206, -5.97, -6.0234, -6.2106, -6.387, -6.387, -6.4598, -6.518, -6.518, -6.5281, -6.5588, -6.5799, -6.5799, -6.5799, -6.6573, -6.6688, -6.6805, -6.7924, -6.8605, -6.8605, -6.9185, -6.9185, -6.9643, -6.98, -6.98, -6.996, -7.0123, -5.9415, -5.8762, -5.2768, -5.6852, -6.3525, -6.4885, -6.2106, -5.6261, -6.3696, -6.3696, -5.032, -6.3029, -5.762, -5.9585, -6.0234, -5.6852, -5.6179, -5.4162, -3.8467, -5.2261, -6.1126, -5.6018, -6.0928, -5.9528, -5.7761, -4.8299, -5.4295, -5.0759, -5.2179, -4.5851, -5.0252, -5.2943, -4.8714, -4.8448, -4.7603, -5.3333, -4.8791, -5.0688, -5.3518, -5.2071, -4.7689, -4.9371, -5.3272, -5.4465, -5.2017, -5.4849, -5.2125, -5.2768, -5.2372, -3.7927, -3.8996, -4.221, -4.5822, -4.6575, -4.7799, -4.8324, -4.8547, -4.893, -4.9744, -5.066, -5.1567, -5.3547, -5.3926, -5.3969, -5.5013, -5.6846, -5.7317, -5.8264, -5.8738, -5.8878, -5.8878, -5.902, -5.9384, -6.0396, -6.3438, -6.4491, -6.5128, -6.7492, -6.9934, -3.7884, -4.0821, -4.8034, -4.0615, -5.003, -3.5966, -4.5466, -4.6412, -5.3343, -5.0537, -4.4687, -4.233, -4.4352, -4.1491, -4.9493, -4.6371, -3.6713, -4.9801, -4.4401, -3.873, -4.3713, -4.7706, -4.5392, -4.7434, -3.7536, -4.3056, -4.7501, -4.691, -4.7367, -4.7776], \"loglift\": [30.0, 29.0, 28.0, 27.0, 26.0, 25.0, 24.0, 23.0, 22.0, 21.0, 20.0, 19.0, 18.0, 17.0, 16.0, 15.0, 14.0, 13.0, 12.0, 11.0, 10.0, 9.0, 8.0, 7.0, 6.0, 5.0, 4.0, 3.0, 2.0, 1.0, 1.4547, 1.4547, 1.4547, 1.4546, 1.4546, 1.4546, 1.4546, 1.4545, 1.4545, 1.4545, 1.4545, 1.4544, 1.4544, 1.4544, 1.4544, 1.4544, 1.4544, 1.4544, 1.4544, 1.4544, 1.4544, 1.4544, 1.4544, 1.4543, 1.4543, 1.4543, 1.4543, 1.4543, 1.4543, 1.4543, 1.442, 1.4396, 1.4336, 1.4163, 1.4148, 1.4331, 1.4029, 1.3995, 1.3898, 1.3403, 1.3965, 1.4323, 1.3115, 1.308, 1.3747, 1.331, 1.3667, 1.3547, 1.3392, 1.3674, 1.1643, 1.2373, 1.3704, 1.1892, 1.217, 1.3193, 1.1509, 1.0347, 1.137, 1.2673, 1.0581, 1.1573, 1.1091, 0.6841, 0.8905, 1.1232, 0.7543, 0.7491, 0.7014, 1.0493, 0.9799, 0.2152, 0.5205, 0.1352, 1.5983, 1.5983, 1.5982, 1.5982, 1.5981, 1.5981, 1.598, 1.598, 1.598, 1.598, 1.5979, 1.5979, 1.5979, 1.5979, 1.5979, 1.5979, 1.5979, 1.5979, 1.5979, 1.5979, 1.5978, 1.5978, 1.5978, 1.5977, 1.5977, 1.5976, 1.5976, 1.5976, 1.5976, 1.5975, 1.5761, 1.5797, 1.5792, 1.5688, 1.5798, 1.5784, 1.5801, 1.5741, 1.5546, 1.5549, 1.5668, 1.5442, 1.4676, 1.5496, 1.5887, 1.4976, 1.5007, 1.5087, 1.4304, 1.5235, 1.4698, 1.3649, 1.4379, 1.3494, 1.4002, 1.3869, 1.295, 1.1361, 1.4382, 1.0202, 1.3855, 0.8133, 1.2448, 1.2194, 0.7599, 0.9738, 0.4781, 0.3175, 0.8597, 0.2295, 0.6368, 0.6366, 0.3949, 1.7609, 1.7608, 1.7608, 1.7607, 1.7606, 1.7605, 1.7605, 1.7605, 1.7605, 1.7604, 1.7604, 1.7604, 1.7604, 1.7604, 1.7604, 1.7603, 1.7603, 1.7603, 1.7603, 1.7603, 1.7603, 1.7603, 1.7603, 1.7603, 1.7603, 1.7602, 1.7602, 1.7602, 1.7602, 1.7601, 1.7505, 1.739, 1.7321, 1.7375, 1.7277, 1.6357, 1.6475, 1.5421, 1.4135, 1.4654, 1.6422, 1.6499, 1.4159, 1.6379, 1.2354, 1.5228, 1.5751, 1.4532, 1.533, 1.3811, 1.1494, 1.6419, 1.3614, 1.1557, 1.1299, 0.771, 1.1052, 1.2838, 1.2202, 0.5011, 0.589, 1.1307, 0.9677, 1.3863, 0.7115, 1.3353, 1.1623, 0.6254, 0.5257, 0.5433, 0.6449, 0.8861, -0.0933, 0.4763, -0.1595, 1.9209, 1.9209, 1.9208, 1.9208, 1.9208, 1.9208, 1.9208, 1.9208, 1.9207, 1.9207, 1.9207, 1.9207, 1.9207, 1.9207, 1.9207, 1.9207, 1.9207, 1.9207, 1.9207, 1.9207, 1.9206, 1.9206, 1.9206, 1.9206, 1.9206, 1.9206, 1.9206, 1.9206, 1.9206, 1.9205, 1.9175, 1.9158, 1.9142, 1.8991, 1.8971, 1.8981, 1.9109, 1.8326, 1.872, 1.8543, 1.8115, 1.8593, 1.8317, 1.858, 1.8664, 1.7712, 1.8162, 1.8672, 1.7693, 1.8619, 1.76, 1.6515, 1.6563, 1.1038, 1.5748, 1.0795, 0.617, 1.5934, -0.2047, 0.7482, 1.9651, 1.965, 1.965, 1.965, 1.9649, 1.9649, 1.9648, 1.9647, 1.9647, 1.9647, 1.9647, 1.9647, 1.9647, 1.9647, 1.9647, 1.9647, 1.9647, 1.9646, 1.9646, 1.9646, 1.9645, 1.9645, 1.9645, 1.9644, 1.9644, 1.9644, 1.9644, 1.9644, 1.9644, 1.9644, 1.9593, 1.9493, 1.9366, 1.9435, 1.9563, 1.955, 1.9358, 1.9054, 1.9392, 1.9392, 1.8358, 1.933, 1.8795, 1.8986, 1.9, 1.8501, 1.8391, 1.8114, 1.5848, 1.7709, 1.9003, 1.8166, 1.8955, 1.8472, 1.7946, 1.4105, 1.6257, 1.483, 1.4989, 1.1821, 1.371, 1.4589, 1.2166, 1.1512, 1.0768, 1.4471, 1.0548, 1.2063, 1.4321, 1.28, 0.75, 0.853, 1.2318, 1.4054, 0.7933, 1.4787, 0.5391, 0.3784, -0.112, 2.2452, 2.2452, 2.2451, 2.2451, 2.2451, 2.2451, 2.2451, 2.2451, 2.2451, 2.2451, 2.2451, 2.245, 2.245, 2.245, 2.245, 2.245, 2.2449, 2.2449, 2.2449, 2.2449, 2.2449, 2.2449, 2.2448, 2.2448, 2.2448, 2.2447, 2.2446, 2.2445, 2.2444, 2.2441, 2.2323, 2.2348, 2.2356, 2.2272, 2.2364, 2.2129, 2.2196, 2.2171, 2.2329, 2.2209, 2.1985, 2.1876, 2.1953, 2.1735, 2.2125, 2.1826, 2.0664, 2.2033, 2.1178, 2.0305, 2.1054, 2.159, 2.0245, 2.0858, 1.3715, 1.4423, 1.9218, 1.5571, 1.5385, 1.1563]}, \"token.table\": {\"Topic\": [1, 2, 1, 2, 1, 2, 1, 4, 1, 2, 4, 5, 2, 3, 4, 2, 3, 1, 2, 4, 5, 1, 4, 5, 3, 1, 3, 4, 5, 3, 5, 1, 2, 3, 1, 3, 6, 3, 4, 5, 3, 3, 5, 5, 1, 2, 3, 5, 6, 6, 5, 1, 2, 3, 4, 5, 6, 1, 4, 2, 3, 5, 1, 2, 5, 1, 4, 5, 6, 2, 1, 2, 1, 2, 4, 2, 6, 1, 2, 3, 4, 6, 2, 3, 5, 6, 3, 5, 1, 3, 4, 2, 4, 6, 6, 4, 4, 1, 2, 3, 4, 5, 6, 1, 3, 4, 5, 6, 4, 3, 6, 6, 4, 2, 3, 6, 1, 3, 5, 2, 5, 1, 2, 3, 2, 1, 2, 1, 2, 4, 6, 1, 2, 6, 1, 1, 2, 6, 3, 5, 1, 2, 3, 2, 5, 2, 1, 3, 5, 1, 2, 5, 6, 1, 3, 1, 3, 5, 4, 1, 2, 3, 4, 5, 1, 2, 5, 2, 5, 3, 4, 3, 4, 6, 1, 5, 1, 4, 1, 2, 3, 5, 3, 4, 2, 1, 5, 1, 2, 3, 1, 4, 5, 3, 4, 5, 6, 1, 3, 4, 4, 2, 1, 2, 2, 3, 5, 6, 5, 4, 6, 1, 6, 2, 5, 6, 2, 5, 5, 1, 4, 2, 3, 1, 2, 1, 3, 3, 4, 6, 1, 3, 4, 1, 2, 3, 4, 5, 6, 1, 3, 5, 1, 1, 4, 3, 6, 3, 1, 5, 1, 1, 4, 1, 2, 3, 1, 2, 3, 4, 5, 6, 1, 5, 1, 1, 2, 4, 2, 3, 6, 1, 5, 4, 3, 4, 1, 5, 2, 3, 1, 2, 3, 4, 6, 4, 5, 1, 2, 3, 5, 6, 1, 1, 5, 6, 1, 5, 1, 2, 3, 4, 6, 2, 5, 2, 3, 5, 1, 2, 3, 4, 2, 3, 5, 6, 3, 1, 2, 3, 4, 1, 4, 1, 2, 4, 4, 1, 1, 3, 2, 6, 1, 2, 5, 1, 2, 4, 5, 6, 2, 6, 2, 2, 2, 3, 4, 5, 2, 3, 5, 2, 2, 3, 4, 4, 5, 1, 3, 4, 5, 6, 6, 6, 6, 1, 3, 2, 3, 6, 6, 1, 3, 4, 5, 6, 1, 2, 3, 4, 1, 2, 4, 5, 6, 5, 5, 1, 2, 3, 5, 6, 1, 2, 5, 6, 1, 2, 1, 2, 1, 1, 2, 4, 6, 1, 2, 3, 4, 5, 1, 4, 6, 4, 4, 6, 4, 5, 4, 1, 3, 3, 3, 1, 4, 5, 1, 3, 4, 2, 1, 5, 6, 4, 1, 2, 4, 6, 1, 2, 3, 5, 6, 1, 2, 6, 5, 1, 4, 6, 1, 4, 4, 6, 5, 6, 2, 6, 1, 2, 4, 6, 6, 5, 6, 3, 6, 1, 3, 4, 6, 2, 1, 3, 2, 6, 5, 6, 6, 6, 2, 6, 2, 5, 6, 3, 6, 6, 1, 4, 4, 1, 1, 2, 5, 6, 1, 2, 3, 5, 1, 2, 6, 1, 1, 3, 4, 5, 2, 3, 4, 5, 5, 3, 3, 1, 2, 6, 1, 4, 2, 3, 4, 5, 2, 3, 5, 1, 2, 6, 2, 3, 2, 6, 2, 1, 2, 3, 4, 5, 6, 1, 2, 4, 6, 1, 2, 3, 4, 5, 6, 1, 2, 1, 1, 2, 3, 4, 5, 1, 2, 3, 2, 3, 4, 5, 3, 2, 3, 4, 5, 1, 3, 4, 1, 3, 4, 1, 6, 2, 3, 3, 6, 5, 6, 5, 6, 1, 2, 3, 3, 4, 2, 3, 4, 3, 1, 5, 6, 6, 5, 4, 2, 3, 5, 2, 3, 5, 1, 2, 2, 1, 4, 5, 2, 5, 6, 1, 2, 5, 6, 1, 2, 1, 2, 5, 6, 2, 5, 6, 1, 2, 5, 6, 5, 6, 5, 5, 5, 5, 6, 1, 1, 3, 5, 3, 1, 5, 2, 3, 4, 5, 6, 1, 3, 3, 5, 2, 5, 1, 3, 1, 3, 4, 5, 3, 3, 4, 1, 2, 6, 1, 5, 2, 3, 6, 2, 3, 5, 3, 5, 2, 3, 5, 4, 2, 3, 3, 1, 2, 1, 1, 5, 6, 6, 2, 3, 1, 1, 3, 4, 1, 5, 6, 1, 3, 5, 3, 5, 1, 2, 6, 1, 3, 4, 5, 6, 1, 2, 6, 1, 2, 5, 2, 6, 2, 2, 4, 5, 2, 5, 4, 2, 3, 1, 2, 3, 5, 6, 1, 1, 2, 3, 4, 5, 1, 2, 1, 2, 3, 4, 5, 2, 1, 2, 2, 6, 2, 6, 6, 1, 4, 5, 1, 2, 3, 1, 2, 3, 4, 5, 6, 1, 2, 3, 2, 2, 4, 5, 6, 4, 4, 5, 2, 1, 3, 3, 1, 3, 5, 3, 1, 2, 3, 4, 5, 1, 2, 3, 4, 2, 6, 1, 3, 1, 4, 1, 2, 4, 5, 6, 1, 4, 1, 3, 4, 2, 1, 2, 3, 4, 3, 4, 5, 5, 1], \"Freq\": [0.8915225591450336, 0.10836984106301058, 0.9058697892912936, 0.09535471466224144, 0.7416678029180802, 0.2576319736452279, 0.9802319922586671, 0.02104792621414316, 0.8919658742337823, 0.10928058724056273, 1.0009151823117486, 1.0003807140523073, 0.8210979980841483, 0.17985956148509916, 1.0008891948122343, 0.9826077688571094, 0.0182640849229946, 0.9383085050246273, 0.05695802426667067, 0.005995581501754807, 1.0005360720585144, 0.03451836755574755, 0.10355510266724266, 0.8629591888936888, 0.9999931024650635, 0.04640427761098248, 0.7060079379385191, 0.00994377377378196, 0.2375457068181246, 0.02522812549578975, 0.975487519170537, 0.7187248227246322, 0.228496330924016, 0.05400822367294924, 0.0039430122615575595, 0.023658073569345354, 0.9719525224739384, 0.016412023076392737, 0.9753430856827684, 0.007033724175596888, 1.0000699316043846, 1.000386685405321, 1.000859909354949, 1.0002734712023862, 0.031240467347650694, 0.4558268190270851, 0.08875132769218946, 0.41109614987022164, 0.012780191187675283, 0.9994755214006645, 1.000625716157604, 0.246971288386238, 0.2317143748179762, 0.03242094133255634, 0.30990605685531797, 0.11251973756593082, 0.06770255395916178, 0.27961316741588976, 0.7215823675248768, 0.22584349271966248, 0.6210696049790718, 0.15398419958158804, 0.022495774146918005, 0.005623943536729501, 0.9729422318542037, 0.0257042744689886, 0.18314295559154378, 0.2891730877761218, 0.5023043635814856, 1.0000403340506192, 1.0011001511887976, 1.000847746865387, 0.04743250511525152, 0.9533933528165557, 1.0010267910332034, 0.981243592717712, 0.019624871854354242, 0.4703062144525345, 0.26549544364255984, 0.06501929232062689, 0.031425991288303, 0.16796650516161948, 0.17680340528720503, 0.14700507855340644, 0.4569076765849119, 0.21918324775305195, 0.15677504211879703, 0.8441733037165994, 0.9445385200065455, 0.056672311200392726, 1.0009129638139846, 0.009178332083685327, 0.0011472915104606659, 0.9901125735275547, 0.9996702847594797, 1.0008408275122964, 1.000827650853856, 0.02346618991721118, 0.1531820730706841, 0.14666368698256987, 0.27116486126555145, 0.2405284466514146, 0.16556700663810112, 0.054352450331522965, 0.2836082985247416, 0.11950570810072036, 0.12542873153428377, 0.41739894549464435, 1.0008562548508484, 1.0000839018071854, 0.9988953630544758, 0.9986611124946683, 0.9990212341063743, 0.02481839047871609, 0.0948938459480321, 0.8803229093332825, 0.011307298141349783, 0.8310864133892091, 0.15830217397889695, 0.06255265226053738, 0.9382897839080608, 0.9242141967046177, 0.05022903242959879, 0.02678881729578602, 1.000125128712237, 0.09592948143584312, 0.9050738031120851, 0.0035119459549225527, 0.9482254078290893, 0.017559729774612762, 0.03160751359430297, 0.0912117345468723, 0.877209150765599, 0.031529982312499066, 1.0008386168667274, 1.0008184480868672, 0.9581170500752269, 0.042802479900267865, 0.6712209772609913, 0.32967047998216825, 0.053540205899467216, 0.9078556652518354, 0.03957319566482359, 0.1214046119794933, 0.8776956374255172, 1.0004030050649833, 0.0066268453007919505, 0.3095683447655668, 0.6835117581673984, 0.10320215714087282, 0.3004514413536701, 0.4427705451527769, 0.15397096025049573, 0.9861967042515418, 0.015079460309656602, 0.005352366238648437, 0.058876028625132804, 0.9366640917634764, 1.001049024368404, 0.07541770489170581, 0.25414733429259767, 0.37140636861052384, 0.002066238490183721, 0.2965052233413639, 0.03526254584577214, 0.3937650952777889, 0.5720368548314148, 0.8450163130637731, 0.1547740366616069, 1.0005088274407459, 1.0009758250589906, 0.09850637289936398, 0.858412678123029, 0.04221701695687028, 1.0008753973227884, 1.0004362847699184, 1.0007135835338095, 1.0010309612062385, 0.7666893566518039, 0.0010473898314915353, 0.17596149169057795, 0.05655905090054291, 0.8887173789831412, 0.11191255883491408, 1.000425983086905, 0.9789360313915205, 0.022081263865974147, 0.05433953476071843, 0.06339612388750483, 0.8830174398616744, 0.0941186229016595, 0.04848535119176398, 0.8584759240424092, 0.735741555095327, 0.06628302298156098, 0.16570755745390248, 0.03314151149078049, 0.05402418518197253, 0.18233162498915728, 0.763091615695362, 1.001081568476455, 1.0006201623740656, 0.029119837891478477, 0.9700545997598768, 0.060857792272473704, 0.5325056823841449, 0.15823025990843162, 0.2495169483171422, 1.0009555433833517, 0.009448251112613758, 0.9897043040462912, 1.0009875068167708, 0.999633918797922, 0.23103557603311148, 0.6280744918826068, 0.1420440948944315, 1.0004404697736606, 1.000587421050179, 1.000587421050179, 0.09945346962619268, 0.8995013808413427, 1.0008828702377561, 1.0003334354454985, 0.08579597729148249, 0.9151570911091466, 0.9473943218010021, 0.05382922282960239, 0.01630443763835142, 0.9489182705520525, 0.035869762804373116, 0.9168596474095013, 0.06234645602384609, 0.022004631537828032, 0.15822959528268563, 0.003679758029829898, 0.688114751578191, 0.047836854387788674, 0.08095467665625776, 0.02207854817897939, 0.07700655876599602, 0.09965554663834779, 0.8244231585536044, 1.0006635789475367, 0.005014256050404098, 0.9944941166634795, 1.00020339975075, 1.0012979381658924, 1.0001928827857882, 1.0006635789475367, 1.0006596784222552, 1.0012149429321602, 0.060937514295093795, 0.9401787919814472, 0.49596830401723657, 0.3241286634137542, 0.18007147967430787, 0.02604865974677582, 0.6299039538765789, 0.08229008420004179, 0.05564940945902107, 0.20483718800873713, 0.0017760449827347148, 0.0629135807239681, 0.9379842944300698, 1.0008976056994705, 1.0006635789475367, 1.0004740745283776, 1.0009917848980396, 0.06701887545632433, 0.0804226505475892, 0.8520971308018379, 1.0006741058135606, 1.0009715866496993, 0.9997716702880144, 0.13908919442959009, 0.8606143905330886, 0.00962164500003744, 0.9910294350038563, 1.0000759748007026, 1.0002951268442233, 0.09692282790215155, 0.303229990151017, 0.4527680674857651, 0.02630762471629828, 0.12184584079127624, 0.028594248110266045, 0.9722044357490456, 0.005917522540015552, 0.38266645758767237, 0.3215187246741783, 0.2791098131374002, 0.011835045080031104, 1.0007894427275377, 0.9797231658523573, 0.0214147140077018, 0.9989992807031975, 0.015558320338580376, 0.9853602881100905, 0.6568857854110429, 0.25806227284005256, 0.0666269868059772, 0.007507266118983347, 0.01126089917847502, 0.11839726298250759, 0.8825977785968748, 0.9819958538751763, 0.0027052227379481437, 0.016231336427688862, 0.3592633914848122, 0.2226684561806909, 0.41726945990163083, 0.0018711634973167302, 0.3825864526081212, 0.043572345991480466, 0.5738796789121817, 1.0012367724421072, 1.0001233849253446, 0.5683543708313434, 0.20025520601593158, 0.005787722717223456, 0.2257211859717148, 0.9871320712688487, 0.012819897029465567, 0.07631670126040395, 0.008295293615261299, 0.9158004151248474, 1.0009788573892477, 1.0010716054204207, 0.8823996637794006, 0.11658648407448038, 0.008658344535080527, 0.9899373918442069, 0.10803062079889969, 0.18005103466483283, 0.7130020972727379, 0.2892751737669942, 0.5608893369250562, 0.01887901134058278, 0.10353006219029266, 0.027405016462136292, 0.9771181578197031, 0.022040259198940673, 1.0004333059750257, 1.0004803842442564, 0.4782184969103611, 0.21680890403967149, 0.002477816046167674, 0.3035324656555401, 0.1697593179317297, 0.5195220505669313, 0.3117132303401588, 0.9996704707804572, 0.9287498079783242, 0.02544520021858422, 0.046649533734071075, 0.9987158599161865, 1.0010231577749176, 0.15312943582629324, 0.5828060617269369, 0.02285513967556615, 0.09370607266982123, 0.14855840789118, 1.001261987207653, 1.0012148376666867, 1.0009924106719037, 0.2562723910320106, 0.7447378880326214, 1.0007311648507646, 1.0005482449689655, 1.0008695328840018, 1.0003824271211985, 0.01781687160778061, 0.008908435803890304, 0.022907406352860784, 0.0063631684313502175, 0.9442941952123723, 0.06919850075183302, 0.21995237738975496, 0.6845708824377766, 0.02718512529536297, 0.2668989393561885, 0.3258334767267175, 0.07790197468518192, 0.32854311062881075, 1.0014116116782883, 1.0002734712023862, 1.001069239656698, 0.6674815287188554, 0.1729753961618985, 0.09361021439349801, 0.056980130500390094, 0.010175023303641088, 0.7374444224868671, 0.1392787676665057, 0.01759310749471651, 0.10555864496829907, 0.8300792142418036, 0.17115035345191829, 0.8743961080312043, 0.12682080956177771, 1.0008450627306695, 0.9202358455167922, 0.059644915913125415, 0.021301755683259076, 0.9991910723888439, 0.15896622061647847, 0.28859938861920204, 0.2961692086485581, 0.17032095066051267, 0.08705293033759536, 0.003309687506864095, 0.9962159395660926, 0.9998720033130886, 1.0009945079545783, 0.943903915076388, 0.05720629788341746, 1.0011274640810435, 1.000600717630284, 1.0008990633240085, 1.0011429728939507, 0.9999217716905963, 1.0000839018071854, 1.00020339975075, 0.04397649648658057, 0.9352334919479468, 0.020522365027070933, 0.058069872472283755, 0.09058900105676265, 0.8524657278931255, 1.0004803842442564, 0.01494736932073125, 0.008968421592438752, 0.9745684797116776, 1.0011035180231889, 0.09629183806362508, 0.8525839828550138, 0.01003039979829428, 0.042127679152835974, 0.006258010661383608, 0.14471649654449595, 0.11029743790688609, 0.40207718499389683, 0.33636807304936894, 0.02049619288461787, 0.9769851941667851, 0.0034160321474363117, 1.0006196557938556, 0.006500554124933655, 0.9945847811148493, 1.0013145784105841, 0.022388625245499637, 0.9787027607318413, 1.0008917096725642, 0.9983733481640749, 0.040932362025840566, 0.9578172714046692, 0.13057258836818247, 0.8695865163489266, 0.8043875322221331, 0.15067436075547333, 0.03677878097180845, 0.00830488602589223, 1.0012307290917353, 0.9796822870389176, 0.021297441022585167, 0.06069731406941892, 0.9389115770113239, 1.000941928840786, 0.008011881669498813, 0.024035645008496434, 0.96676705478619, 1.00070299605646, 0.02144087580919634, 0.9791333286199662, 0.9584634846772225, 0.04244118751338254, 0.048664396326051226, 0.9513104572124853, 1.0014562262037408, 1.0011674269044113, 0.991368015596373, 0.009179333477744194, 0.03851419045870548, 0.46767231271285226, 0.4929816378714301, 0.025173238739858553, 0.9745639569288097, 1.0012426479915788, 0.10375073321731405, 0.8957146634428113, 1.0010676572902386, 1.0006843594674235, 0.09050370241722204, 0.536060391240469, 0.3341675166174352, 0.04037857492460675, 0.747667847232607, 0.1907007059743087, 0.05327511785948941, 0.008475586932191496, 0.13961092521339838, 0.05387160701169177, 0.8065565951187091, 1.0008042639373576, 0.11895838942193689, 0.27817961834052934, 0.016471161612268186, 0.5874714308375653, 0.12298316242742241, 0.5464188609117122, 0.010897242240404517, 0.3206902716461901, 1.0008789508306977, 1.0006536975687204, 0.99997617559767, 0.1180777318874386, 0.8802158195245423, 0.0026835848156236044, 0.02154865530569289, 0.9779774331045235, 0.007214116131554139, 0.7087869099251941, 0.1298540903679745, 0.15510349682841398, 0.17139808635724782, 0.2769693714323642, 0.5514547126276669, 0.006351935361530074, 0.07622322433836089, 0.9167960038475073, 1.0001404740446147, 1.0001233849253446, 0.012797293818718256, 0.9870979298838014, 1.00061641302563, 0.46272318352057223, 0.2775199388848752, 0.1567104377686667, 0.024503813905646068, 0.06154446283278547, 0.017095684120218186, 0.7269711109028589, 0.24400650713174662, 0.026924855959365144, 0.0016828034974603215, 0.014574932292675268, 0.05605743189490488, 0.21974513302802712, 0.4316422255907676, 0.14238587701305838, 0.1367801338235679, 0.7878825719587692, 0.21195356759558726, 1.0007894427275377, 0.8665817536209822, 0.08286438427481742, 0.00199673215120042, 0.00299509822680063, 0.045924839477609655, 0.8635264241848852, 0.10874834020283468, 0.027994622230432687, 1.0004740745283776, 0.04767386166002209, 0.951570278734041, 1.0002883413962618, 1.0000555252415266, 0.11714317474925695, 0.26978428124071296, 0.010649379522659723, 0.6034648396173843, 1.0008450627306695, 0.9903916461448811, 0.010003956021665466, 0.9174376408681558, 0.019944296540612083, 0.06382174892995866, 0.012017006516010053, 0.9894002031514944, 1.000410838362963, 1.0003611807698167, 1.000135794549219, 1.00065895541952, 0.889751938580231, 0.11121899232252888, 0.031775047425062236, 0.9684481845638534, 0.0019664485879967797, 0.46604831535523683, 0.5329075673471273, 1.00020339975075, 1.0009237938518674, 0.021512964043488576, 0.968083381956986, 0.010756482021744288, 1.0000839018071854, 0.026432345946233914, 0.17181024865052044, 0.8017811603690954, 1.0009182903003448, 1.0005280545853676, 1.0010299316374665, 0.11837363451770327, 0.26451392404573204, 0.6167120218082813, 0.3709345334904484, 0.5429621432251491, 0.08708897742819223, 0.030952417146249203, 0.9698424039158083, 1.0006008012866816, 0.04989911956196375, 0.9480832716773113, 0.0031186949726227345, 0.7916812462177486, 0.18070984968013828, 0.02772796635303709, 0.0012856611505007078, 0.1549221686353353, 0.007713966903004248, 0.8363225784007104, 0.19085464956006445, 0.8101966986226266, 0.008129228718113553, 0.7792446385505992, 0.20787599150604658, 0.004645273553207745, 0.04730844637471081, 0.021923426368768425, 0.9311686883997957, 0.39241067894105025, 0.4328058958908642, 0.1288799778875018, 0.04616596222835885, 1.0005198485988542, 1.0014020202009517, 1.000625716157604, 1.0006994032943817, 1.0003302910423675, 0.017845617958975876, 0.9826243388661091, 1.0008042639373576, 0.030513982775274014, 0.036616779330328815, 0.9337278729233848, 1.0001595805224561, 0.025228424821431377, 0.9754990930953465, 0.16416617301920486, 0.5909982228691375, 0.07101141437574908, 0.15653053706482326, 0.017561962695077732, 0.11572015355295993, 0.8849188212873407, 0.005591560219093286, 0.9952977189986048, 0.00840941513971989, 0.9923109864869469, 0.2039553809977102, 0.7968489304096584, 0.019784490479287316, 0.23345698765559034, 0.708284759158486, 0.03956898095857463, 1.0000839018071854, 0.08529722567926692, 0.9135781803016221, 0.9621261486074999, 0.03788963735725738, 0.9990579641501981, 0.1086377332840093, 0.8923813805472193, 0.03063491684344407, 0.8935184079337853, 0.07658729210861018, 0.17703447661110583, 0.3504187578281682, 0.47270030352862275, 1.0001106106342033, 1.0002581217885709, 0.21489937280864221, 0.28154538083157554, 0.5046054893164953, 1.000977348840743, 0.1049563200977387, 0.8956272648340369, 1.0007362789945624, 0.9506503342609374, 0.05062634916182507, 1.0010192757396068, 0.05106720886921541, 0.5963920464369086, 0.35382280430813534, 1.0014009085569349, 0.02273439185864362, 0.9775788499216757, 1.0009181998021548, 0.959873858706897, 0.010907657485305648, 0.028359909461794685, 0.011594791779728369, 0.9430430647512407, 0.046379167118913475, 0.6720200184820639, 0.3278478227817357, 1.0002422696097795, 0.9999586656482058, 1.0006994032943817, 0.01145402852891692, 0.2650789459549344, 0.7232400871116113, 0.03182169274415735, 0.01428729061982575, 0.4416071646127959, 0.06429280778921588, 0.4481013876218076, 0.1811936629436891, 0.7378101670944464, 0.08082019498207715, 1.0011984002302714, 0.031273525568930254, 0.9694792926368379, 1.0004543403988158, 1.0012367724421072, 1.0002356256168323, 1.0005753659623575, 1.000071773562158, 1.0003302910423675, 0.08197486873580596, 0.9189814231961406, 1.0009904037380064, 0.9828698239804611, 0.017951960255350886, 0.13678871878971752, 0.1301160983609508, 0.6539168020191374, 0.07006251450205044, 0.010008930643150062, 1.0008575640367945, 0.026607620726924037, 0.12222875771430729, 0.29102085170073166, 0.2511094206103456, 0.31014507909820827, 0.1480724960291373, 0.8528975771278309, 0.05101615500661126, 0.13118439858842895, 0.8041117765327774, 0.014576044287603217, 1.000587421050179, 1.0004404697736606, 1.0008386168667274, 1.0002104366740372, 0.9824577350916547, 0.01848710791839135, 0.04559840550085003, 0.9543094865535041, 1.0002481568121795, 0.05972588189298775, 0.941393662218045, 1.0003807140523073, 0.046646381977978525, 0.16538262701283293, 0.7887479134458186, 0.4932668734497647, 0.1422234005827697, 0.2426827867086943, 0.005643785737411496, 0.10045938612592462, 0.015802600064752186, 0.11150708436302842, 0.8090746586340667, 0.08038882826171817, 1.0003032443158593, 0.328578142672107, 0.019714688560326418, 0.6155363872724138, 0.03723885616950546, 1.0011060482921774, 0.9912687647826304, 0.009718321223359121, 0.9989959257321009, 1.0008513771268728, 1.000213643760421, 1.000854476465857, 0.008004325550070007, 0.8884801360577708, 0.10405623215091009, 0.9998821478795207, 0.1329962694305408, 0.09645883277379881, 0.16368771622220404, 0.12715027956546207, 0.4808326664027244, 0.6227554024426631, 0.04959998780516786, 0.31413325609939646, 0.0146962926830127, 1.0000929050469496, 1.0013724055707642, 0.028185448268495575, 0.9723979652630974, 0.7069059273089042, 0.29268986336518793, 0.011846446926950364, 0.7028891843323882, 0.003948815642316788, 0.2645706480352248, 0.017769670390425544, 1.0006741058135606, 1.0009758250589906, 0.1858067737099672, 0.04690268074232182, 0.7666784352110296, 1.000425983086905, 0.28800846462213103, 0.6852615192733463, 0.027807713825585067, 1.000881450454175, 0.550038615950445, 0.41376778767443384, 0.03716477134800304, 1.0007845595103348, 1.0007493041552977], \"Term\": [\"\\u4e00\\u4e0b\", \"\\u4e00\\u4e0b\", \"\\u4e00\\u5806\", \"\\u4e00\\u5806\", \"\\u4e00\\u76f4\", \"\\u4e00\\u76f4\", \"\\u4e00\\u9593\", \"\\u4e00\\u9593\", \"\\u4e00\\u9ede\", \"\\u4e00\\u9ede\", \"\\u4e0a\\u5c64\", \"\\u4e0a\\u6e38\", \"\\u4e0a\\u6f32\", \"\\u4e0a\\u6f32\", \"\\u4e0b\\u5c64\", \"\\u4e0b\\u8dcc\", \"\\u4e0b\\u8dcc\", \"\\u4e0d\\u7528\", \"\\u4e0d\\u7528\", \"\\u4e0d\\u7528\", \"\\u4e16\\u9054\", \"\\u4e2d\\u4fe1\", \"\\u4e2d\\u4fe1\", \"\\u4e2d\\u4fe1\", \"\\u4e2d\\u5171\", \"\\u4e2d\\u570b\", \"\\u4e2d\\u570b\", \"\\u4e2d\\u570b\", \"\\u4e2d\\u570b\", \"\\u4e2d\\u8208\", \"\\u4e2d\\u8208\", \"\\u4e4b\\u5f8c\", \"\\u4e4b\\u5f8c\", \"\\u4e4b\\u5f8c\", \"\\u4e8b\\u9805\", \"\\u4e8b\\u9805\", \"\\u4e8b\\u9805\", \"\\u4ea4\\u901a\", \"\\u4ea4\\u901a\", \"\\u4ea4\\u901a\", \"\\u4ea4\\u901a\\u90e8\", \"\\u4eba\\u58eb\", \"\\u4eba\\u5de5\\u667a\\u6167\", \"\\u4ec1\\u52f3\", \"\\u4eca\\u5e74\", \"\\u4eca\\u5e74\", \"\\u4eca\\u5e74\", \"\\u4eca\\u5e74\", \"\\u4eca\\u5e74\", \"\\u4edf\\u5143\", \"\\u4ee3\\u5de5\", \"\\u4ee5\\u4e0a\", \"\\u4ee5\\u4e0a\", \"\\u4ee5\\u4e0a\", \"\\u4ee5\\u4e0a\", \"\\u4ee5\\u4e0a\", \"\\u4ee5\\u4e0a\", \"\\u4ef2\\u4ecb\", \"\\u4ef2\\u4ecb\", \"\\u4f01\\u696d\", \"\\u4f01\\u696d\", \"\\u4f01\\u696d\", \"\\u4f3a\\u670d\\u5668\", \"\\u4f3a\\u670d\\u5668\", \"\\u4f3a\\u670d\\u5668\", \"\\u4f86\\u6e90\", \"\\u4f86\\u6e90\", \"\\u4f86\\u6e90\", \"\\u4f86\\u6e90\", \"\\u4fdd\\u7f85\", \"\\u4fe1\\u8cb8\", \"\\u500b\\u80a1\", \"\\u505c\\u640d\", \"\\u505c\\u640d\", \"\\u505c\\u8eca\\u4f4d\", \"\\u50b5\\u5238\", \"\\u50b5\\u5238\", \"\\u50f9\\u683c\", \"\\u50f9\\u683c\", \"\\u50f9\\u683c\", \"\\u50f9\\u683c\", \"\\u50f9\\u683c\", \"\\u5104\\u5143\", \"\\u5104\\u5143\", \"\\u5104\\u5143\", \"\\u5104\\u5143\", \"\\u5104\\u7f8e\\u5143\", \"\\u5104\\u7f8e\\u5143\", \"\\u512a\\u60e0\", \"\\u512a\\u60e0\", \"\\u512a\\u7f3a\\u9ede\", \"\\u5143\\u6708\", \"\\u5143\\u6708\", \"\\u5143\\u6708\", \"\\u5143\\u80a1\", \"\\u5167\\u4e0a\", \"\\u5167\\u4fe1\", \"\\u5167\\u5bb9\", \"\\u5167\\u5bb9\", \"\\u5167\\u5bb9\", \"\\u5167\\u5bb9\", \"\\u5167\\u5bb9\", \"\\u5167\\u5bb9\", \"\\u516c\\u53f8\", \"\\u516c\\u53f8\", \"\\u516c\\u53f8\", \"\\u516c\\u53f8\", \"\\u516c\\u53f8\", \"\\u516c\\u53f8\\u5730\\u5740\", \"\\u516c\\u6703\", \"\\u516c\\u7a4d\", \"\\u516c\\u7a4d\\u8f49\", \"\\u516c\\u8a2d\", \"\\u516c\\u958b\", \"\\u516c\\u958b\", \"\\u516c\\u958b\", \"\\u51fa\\u53e3\", \"\\u51fa\\u53e3\", \"\\u51fa\\u53e3\", \"\\u51fa\\u8ca8\", \"\\u51fa\\u8ca8\", \"\\u5206\\u4eab\", \"\\u5206\\u4eab\", \"\\u5206\\u4eab\", \"\\u5206\\u6563\", \"\\u5206\\u6790\", \"\\u5206\\u6790\", \"\\u5206\\u985e\", \"\\u5206\\u985e\", \"\\u5206\\u985e\", \"\\u5206\\u985e\", \"\\u5229\\u7387\", \"\\u5229\\u7387\", \"\\u5229\\u7387\", \"\\u524d\\u8f29\", \"\\u525b\\u525b\", \"\\u52df\\u96c6\", \"\\u52df\\u96c6\", \"\\u5305\\u62ec\", \"\\u5305\\u62ec\", \"\\u5347\\u606f\", \"\\u5347\\u606f\", \"\\u5347\\u606f\", \"\\u534a\\u5c0e\\u9ad4\", \"\\u534a\\u5c0e\\u9ad4\", \"\\u534a\\u78bc\", \"\\u539f\\u6587\", \"\\u539f\\u6587\", \"\\u539f\\u6587\", \"\\u53bb\\u5e74\", \"\\u53bb\\u5e74\", \"\\u53bb\\u5e74\", \"\\u53bb\\u5e74\", \"\\u53ea\\u80fd\", \"\\u53ea\\u80fd\", \"\\u53ef\\u671b\", \"\\u53ef\\u671b\", \"\\u53ef\\u671b\", \"\\u53f0\\u5357\\u5e02\", \"\\u53f0\\u7063\", \"\\u53f0\\u7063\", \"\\u53f0\\u7063\", \"\\u53f0\\u7063\", \"\\u53f0\\u7063\", \"\\u53f0\\u7a4d\\u96fb\", \"\\u53f0\\u7a4d\\u96fb\", \"\\u53f0\\u7a4d\\u96fb\", \"\\u53f0\\u80a1\", \"\\u53f0\\u80a1\", \"\\u53f0\\u96fb\", \"\\u5404\\u7d1a\", \"\\u540c\\u610f\", \"\\u540c\\u610f\", \"\\u540c\\u610f\", \"\\u540d\\u4e0b\", \"\\u548c\\u78a9\", \"\\u54ea\\u88e1\", \"\\u5546\\u5708\", \"\\u554f\\u984c\", \"\\u554f\\u984c\", \"\\u554f\\u984c\", \"\\u554f\\u984c\", \"\\u5609\\u7fa9\", \"\\u5609\\u7fa9\", \"\\u56de\\u5347\", \"\\u56de\\u994b\", \"\\u56de\\u994b\", \"\\u570b\\u5bb6\", \"\\u570b\\u5bb6\", \"\\u570b\\u5bb6\", \"\\u570b\\u6cf0\", \"\\u570b\\u6cf0\", \"\\u570b\\u6cf0\", \"\\u570b\\u969b\", \"\\u570b\\u969b\", \"\\u570b\\u969b\", \"\\u570b\\u969b\", \"\\u571f\\u5730\", \"\\u571f\\u5730\", \"\\u571f\\u5730\", \"\\u576a\\u6578\", \"\\u57fa\\u672c\\u9762\", \"\\u57fa\\u91d1\", \"\\u57fa\\u91d1\", \"\\u5831\\u5c0e\", \"\\u5831\\u5c0e\", \"\\u5831\\u5c0e\", \"\\u5831\\u5c0e\", \"\\u589e\\u5f35\", \"\\u589e\\u6e1b\", \"\\u589e\\u6e1b\", \"\\u589e\\u8cb8\", \"\\u589e\\u8cc7\", \"\\u5916\\u8cc7\", \"\\u5916\\u8cc7\", \"\\u5916\\u8cc7\", \"\\u591a\\u7a7a\", \"\\u5927\\u53f0\\u7063\", \"\\u5927\\u5ee0\", \"\\u5927\\u6a13\", \"\\u5927\\u6a13\", \"\\u5927\\u76e4\", \"\\u592a\\u967d\\u80fd\", \"\\u592e\\u884c\", \"\\u592e\\u884c\", \"\\u597d\\u50cf\", \"\\u597d\\u50cf\", \"\\u59d3\\u540d\", \"\\u59d3\\u540d\", \"\\u59d3\\u540d\", \"\\u5b8c\\u5168\", \"\\u5b8c\\u5168\", \"\\u5b8c\\u5168\", \"\\u5b8c\\u6210\", \"\\u5b8c\\u6210\", \"\\u5b8c\\u6210\", \"\\u5b8c\\u6210\", \"\\u5b8c\\u6210\", \"\\u5b8c\\u6210\", \"\\u5ba2\\u6236\", \"\\u5ba2\\u6236\", \"\\u5ba2\\u6236\", \"\\u5bb6\\u4eba\", \"\\u5be6\\u50f9\", \"\\u5be6\\u50f9\", \"\\u5be9\\u67e5\", \"\\u5be9\\u8a08\", \"\\u5be9\\u8b70\", \"\\u5bec\\u9650\\u671f\", \"\\u5c01\\u88dd\", \"\\u5c0f\\u5f1f\", \"\\u5c4b\\u9f61\", \"\\u5c4b\\u9f61\", \"\\u5df2\\u7d93\", \"\\u5df2\\u7d93\", \"\\u5df2\\u7d93\", \"\\u5e02\\u5834\", \"\\u5e02\\u5834\", \"\\u5e02\\u5834\", \"\\u5e02\\u5834\", \"\\u5e02\\u5834\", \"\\u5e02\\u5834\", \"\\u5e03\\u5c40\", \"\\u5e03\\u5c40\", \"\\u5e33\\u6236\", \"\\u5e6b\\u5fd9\", \"\\u5e73\\u6e96\", \"\\u5e73\\u9762\", \"\\u5e74\\u5ea6\", \"\\u5e74\\u5ea6\", \"\\u5e74\\u5ea6\", \"\\u5e74\\u8f15\", \"\\u5ee3\\u9054\", \"\\u5efa\\u7269\", \"\\u5efa\\u8a2d\", \"\\u5efa\\u8a2d\", \"\\u5f35\\u5238\", \"\\u5f35\\u5238\", \"\\u5f37\\u52e2\", \"\\u5f37\\u5316\", \"\\u5f71\\u97ff\", \"\\u5f71\\u97ff\", \"\\u5f71\\u97ff\", \"\\u5f71\\u97ff\", \"\\u5f71\\u97ff\", \"\\u5fa9\\u83ef\", \"\\u5fa9\\u83ef\", \"\\u5fc3\\u5f97\", \"\\u5fc3\\u5f97\", \"\\u5fc3\\u5f97\", \"\\u5fc3\\u5f97\", \"\\u5fc3\\u5f97\", \"\\u60f3\\u6cd5\", \"\\u60f3\\u8981\", \"\\u60f3\\u8981\", \"\\u61c9\\u6558\\u660e\", \"\\u61c9\\u7528\", \"\\u61c9\\u7528\", \"\\u61c9\\u8a72\", \"\\u61c9\\u8a72\", \"\\u61c9\\u8a72\", \"\\u61c9\\u8a72\", \"\\u61c9\\u8a72\", \"\\u6210\\u4ea4\\u91cf\", \"\\u6210\\u4ea4\\u91cf\", \"\\u6210\\u5206\\u80a1\", \"\\u6210\\u5206\\u80a1\", \"\\u6210\\u5206\\u80a1\", \"\\u6210\\u672c\", \"\\u6210\\u672c\", \"\\u6210\\u672c\", \"\\u6210\\u672c\", \"\\u6210\\u9577\", \"\\u6210\\u9577\", \"\\u6210\\u9577\", \"\\u6216\\u7d93\", \"\\u6230\\u722d\", \"\\u623f\\u50f9\", \"\\u623f\\u50f9\", \"\\u623f\\u50f9\", \"\\u623f\\u50f9\", \"\\u623f\\u5b50\", \"\\u623f\\u5b50\", \"\\u623f\\u5c4b\", \"\\u623f\\u5c4b\", \"\\u623f\\u5c4b\", \"\\u623f\\u5ef3\", \"\\u623f\\u6771\", \"\\u623f\\u8cb8\", \"\\u623f\\u8cb8\", \"\\u6240\\u5c6c\", \"\\u6240\\u5c6c\", \"\\u6280\\u8853\", \"\\u6280\\u8853\", \"\\u6280\\u8853\", \"\\u6295\\u8cc7\", \"\\u6295\\u8cc7\", \"\\u6295\\u8cc7\", \"\\u6295\\u8cc7\", \"\\u6295\\u8cc7\", \"\\u6295\\u8cc7\\u4eba\", \"\\u6295\\u8cc7\\u4eba\", \"\\u6295\\u8cc7\\u8005\", \"\\u6295\\u9867\", \"\\u6301\\u7e8c\", \"\\u6301\\u7e8c\", \"\\u6301\\u7e8c\", \"\\u6301\\u7e8c\", \"\\u6307\\u51fa\", \"\\u6307\\u51fa\", \"\\u6307\\u51fa\", \"\\u6307\\u6578\", \"\\u6307\\u6a19\", \"\\u6307\\u6a19\", \"\\u6307\\u6a19\", \"\\u6377\\u904b\", \"\\u6392\\u884c\", \"\\u63d0\\u4f9b\", \"\\u63d0\\u4f9b\", \"\\u63d0\\u4f9b\", \"\\u63d0\\u4f9b\", \"\\u63d0\\u4f9b\", \"\\u63d0\\u5831\", \"\\u640d\\u4edf\", \"\\u64ec\\u8b70\", \"\\u653f\\u5e9c\", \"\\u653f\\u5e9c\", \"\\u6563\\u6236\", \"\\u6574\\u5408\", \"\\u65b0\\u80a1\", \"\\u65bd\\u884c\\u7d30\\u5247\", \"\\u65e5\\u671f\", \"\\u65e5\\u671f\", \"\\u65e5\\u671f\", \"\\u65e5\\u671f\", \"\\u65e5\\u671f\", \"\\u65e5\\u672c\", \"\\u65e5\\u672c\", \"\\u65e5\\u672c\", \"\\u65e5\\u672c\", \"\\u6642\\u9593\", \"\\u6642\\u9593\", \"\\u6642\\u9593\", \"\\u6642\\u9593\", \"\\u666e\\u901a\\u80a1\", \"\\u6676\\u5713\", \"\\u6676\\u7247\", \"\\u6700\\u5f8c\", \"\\u6700\\u5f8c\", \"\\u6700\\u5f8c\", \"\\u6700\\u5f8c\", \"\\u6700\\u5f8c\", \"\\u6700\\u8fd1\", \"\\u6700\\u8fd1\", \"\\u6700\\u8fd1\", \"\\u6700\\u8fd1\", \"\\u6709\\u4eba\", \"\\u6709\\u4eba\", \"\\u6709\\u6c92\\u6709\", \"\\u6709\\u6c92\\u6709\", \"\\u6709\\u9322\", \"\\u670b\\u53cb\", \"\\u670b\\u53cb\", \"\\u670b\\u53cb\", \"\\u671f\\u672b\", \"\\u672a\\u4f86\", \"\\u672a\\u4f86\", \"\\u672a\\u4f86\", \"\\u672a\\u4f86\", \"\\u672a\\u4f86\", \"\\u672c\\u6587\", \"\\u672c\\u6587\", \"\\u672c\\u671f\", \"\\u672c\\u677f\", \"\\u672c\\u6848\", \"\\u672c\\u6848\", \"\\u672c\\u7ad9\", \"\\u6771\\u5143\", \"\\u6771\\u5340\", \"\\u6771\\u897f\", \"\\u6838\\u80fd\", \"\\u6838\\u96fb\", \"\\u6838\\u96fb\\u5ee0\", \"\\u683c\\u5c40\", \"\\u683c\\u5c40\", \"\\u683c\\u5c40\", \"\\u6843\\u5712\", \"\\u6843\\u5712\", \"\\u6843\\u5712\", \"\\u694a\\u91d1\\u9f8d\", \"\\u696d\\u4e3b\", \"\\u696d\\u4e3b\", \"\\u696d\\u4e3b\", \"\\u6a13\\u5c64\", \"\\u6a19\\u7684\", \"\\u6a19\\u7684\", \"\\u6a19\\u7684\", \"\\u6a19\\u7684\", \"\\u6a19\\u984c\", \"\\u6a19\\u984c\", \"\\u6a19\\u984c\", \"\\u6a19\\u984c\", \"\\u6a19\\u984c\", \"\\u6a5f\\u5236\", \"\\u6a5f\\u5236\", \"\\u6a5f\\u5236\", \"\\u6a5f\\u5668\\u4eba\", \"\\u6a5f\\u80fd\", \"\\u6a5f\\u80fd\", \"\\u6b04\\u4f4d\", \"\\u6b0a\\u72c0\", \"\\u6b0a\\u72c0\", \"\\u6b21\\u8981\", \"\\u6b78\\u5c6c\\u65bc\", \"\\u6bcd\\u516c\\u53f8\", \"\\u6bcd\\u516c\\u53f8\", \"\\u6bcf\\u80a1\", \"\\u6bcf\\u80a1\", \"\\u6bd4\\u8f03\", \"\\u6bd4\\u8f03\", \"\\u6bd4\\u8f03\", \"\\u6bd4\\u8f03\", \"\\u6bdb\\u640d\", \"\\u6c38\\u8c50\", \"\\u6c38\\u8c50\", \"\\u6c7a\\u8b70\", \"\\u6c7a\\u8b70\", \"\\u6c92\\u4ec0\\u9ebc\", \"\\u6cd5\\u5b9a\", \"\\u6cd5\\u5b9a\", \"\\u6cd5\\u5b9a\", \"\\u6ce2\\u52d5\", \"\\u6d88\\u8cbb\\u8005\", \"\\u6d88\\u8cbb\\u8005\", \"\\u6de8\\u503c\", \"\\u6de8\\u503c\", \"\\u6de8\\u5229\", \"\\u6de8\\u5229\", \"\\u6de8\\u640d\", \"\\u6de8\\u984d\", \"\\u71df\\u5efa\", \"\\u71df\\u5efa\", \"\\u71df\\u6536\", \"\\u71df\\u6536\", \"\\u71df\\u6536\", \"\\u71df\\u696d\", \"\\u71df\\u696d\", \"\\u71df\\u696d\\u6bdb\\u5229\", \"\\u7269\\u4ef6\", \"\\u7269\\u4ef6\", \"\\u7269\\u6b0a\", \"\\u7279\\u50f9\", \"\\u7372\\u5229\", \"\\u7372\\u5229\", \"\\u7372\\u5229\", \"\\u7372\\u5229\", \"\\u73fe\\u5728\", \"\\u73fe\\u5728\", \"\\u73fe\\u5728\", \"\\u73fe\\u5728\", \"\\u73fe\\u91d1\", \"\\u73fe\\u91d1\", \"\\u73fe\\u91d1\", \"\\u7406\\u89e3\", \"\\u7522\\u54c1\", \"\\u7522\\u54c1\", \"\\u7522\\u54c1\", \"\\u7522\\u54c1\", \"\\u7522\\u696d\", \"\\u7522\\u696d\", \"\\u7522\\u696d\", \"\\u7522\\u696d\", \"\\u7522\\u80fd\", \"\\u7528\\u96fb\", \"\\u7528\\u96fb\\u91cf\", \"\\u7533\\u8cfc\", \"\\u7533\\u8cfc\", \"\\u7533\\u8cfc\", \"\\u767b\\u9304\", \"\\u767b\\u9304\", \"\\u767c\\u5c55\", \"\\u767c\\u5c55\", \"\\u767c\\u5c55\", \"\\u767c\\u5c55\", \"\\u767c\\u5e03\", \"\\u767c\\u5e03\", \"\\u767c\\u5e03\", \"\\u767c\\u653e\", \"\\u767c\\u653e\", \"\\u767c\\u653e\", \"\\u767c\\u884c\\u50f9\", \"\\u767c\\u96fb\", \"\\u76c8\\u9918\", \"\\u76c8\\u9918\", \"\\u76e4\\u4e2d\", \"\\u76ee\\u524d\", \"\\u76ee\\u524d\", \"\\u76ee\\u524d\", \"\\u76ee\\u524d\", \"\\u76ee\\u524d\", \"\\u76ee\\u524d\", \"\\u76f4\\u63a5\", \"\\u76f4\\u63a5\", \"\\u76f4\\u63a5\", \"\\u76f4\\u63a5\", \"\\u76f8\\u95dc\", \"\\u76f8\\u95dc\", \"\\u76f8\\u95dc\", \"\\u76f8\\u95dc\", \"\\u76f8\\u95dc\", \"\\u76f8\\u95dc\", \"\\u770b\\u5230\", \"\\u770b\\u5230\", \"\\u770b\\u904e\", \"\\u771f\\u7684\", \"\\u771f\\u7684\", \"\\u771f\\u7684\", \"\\u771f\\u7684\", \"\\u771f\\u7684\", \"\\u77e5\\u9053\", \"\\u77e5\\u9053\", \"\\u77e5\\u9053\", \"\\u77ed\\u7dda\", \"\\u793e\\u5340\", \"\\u793e\\u5340\", \"\\u795e\\u57fa\", \"\\u79d1\\u5b78\\u5712\\u5340\", \"\\u79d1\\u6280\", \"\\u79d1\\u6280\", \"\\u79d1\\u6280\", \"\\u79d1\\u6280\", \"\\u79df\\u5c4b\", \"\\u79df\\u8cc3\", \"\\u79df\\u8cc3\", \"\\u79df\\u91d1\", \"\\u79df\\u91d1\", \"\\u79df\\u91d1\", \"\\u7a05\\u524d\", \"\\u7a05\\u524d\", \"\\u7a69\\u5065\", \"\\u7acb\\u59d4\", \"\\u7acb\\u6cd5\\u9662\", \"\\u7b2c\\u6b3e\", \"\\u7d14\\u76ca\", \"\\u7d14\\u76ca\", \"\\u7d2f\\u8a08\", \"\\u7d2f\\u8a08\", \"\\u7d93\\u6fdf\", \"\\u7d93\\u6fdf\", \"\\u7d93\\u6fdf\", \"\\u7d93\\u6fdf\\u90e8\", \"\\u7d93\\u7d00\\u4eba\", \"\\u7da0\\u80fd\", \"\\u7da0\\u80fd\", \"\\u7da0\\u80fd\", \"\\u7da0\\u96fb\", \"\\u7db2\\u5740\", \"\\u7db2\\u5740\", \"\\u7db2\\u5740\", \"\\u7de3\\u7531\", \"\\u7def\\u5275\", \"\\u7e3d\\u6a13\", \"\\u7f72\\u540d\", \"\\u7f72\\u540d\", \"\\u7f72\\u540d\", \"\\u7f8e\\u570b\", \"\\u7f8e\\u570b\", \"\\u7f8e\\u570b\", \"\\u7f8e\\u80a1\", \"\\u7f8e\\u80a1\", \"\\u806f\\u6e96\", \"\\u806f\\u7d61\", \"\\u806f\\u7d61\", \"\\u806f\\u7d61\", \"\\u80a1\\u50f9\", \"\\u80a1\\u50f9\", \"\\u80a1\\u50f9\", \"\\u80a1\\u5229\", \"\\u80a1\\u5229\", \"\\u80a1\\u5229\", \"\\u80a1\\u5229\", \"\\u80a1\\u5e02\", \"\\u80a1\\u5e02\", \"\\u80a1\\u606f\", \"\\u80a1\\u606f\", \"\\u80a1\\u606f\", \"\\u80a1\\u606f\", \"\\u80a1\\u6771\", \"\\u80a1\\u6771\", \"\\u80a1\\u6771\", \"\\u80a1\\u7968\", \"\\u80a1\\u7968\", \"\\u80a1\\u7968\", \"\\u80a1\\u7968\", \"\\u80a1\\u7968\\u540d\\u7a31\", \"\\u81ea\\u7d50\", \"\\u82f1\\u696d\\u9054\", \"\\u82f1\\u7279\\u723e\", \"\\u83ef\\u57ce\", \"\\u8463\\u4e8b\\u6703\", \"\\u8463\\u4e8b\\u6703\", \"\\u85aa\\u6c34\", \"\\u860b\\u679c\", \"\\u860b\\u679c\", \"\\u860b\\u679c\", \"\\u884c\\u653f\\u9662\", \"\\u885b\\u661f\", \"\\u885b\\u661f\", \"\\u8868\\u793a\", \"\\u8868\\u793a\", \"\\u8868\\u793a\", \"\\u8868\\u793a\", \"\\u8868\\u793a\", \"\\u88dc\\u8cbc\", \"\\u88dc\\u8cbc\", \"\\u88fd\\u7a0b\", \"\\u88fd\\u7a0b\", \"\\u88fd\\u9020\", \"\\u88fd\\u9020\", \"\\u8981\\u6c42\", \"\\u8981\\u6c42\", \"\\u898f\\u5283\", \"\\u898f\\u5283\", \"\\u898f\\u5283\", \"\\u898f\\u5283\", \"\\u898f\\u756b\", \"\\u898f\\u7bc4\", \"\\u898f\\u7bc4\", \"\\u89ba\\u5f97\", \"\\u89ba\\u5f97\", \"\\u89c0\\u6e2c\\u7ad9\", \"\\u8a02\\u55ae\", \"\\u8a02\\u55ae\", \"\\u8a08\\u756b\", \"\\u8a08\\u756b\", \"\\u8a08\\u756b\", \"\\u8a18\\u8005\", \"\\u8a18\\u8005\", \"\\u8a18\\u8005\", \"\\u8a2d\\u5ee0\", \"\\u8a55\\u7b49\", \"\\u8a55\\u8ad6\", \"\\u8a55\\u8ad6\", \"\\u8a55\\u8ad6\", \"\\u8a73\\u76e1\", \"\\u8abf\\u67e5\", \"\\u8abf\\u67e5\", \"\\u8abf\\u6f32\", \"\\u8acb\\u554f\", \"\\u8acb\\u554f\", \"\\u8acb\\u6559\", \"\\u8b49\\u5238\", \"\\u8b49\\u5238\", \"\\u8b49\\u5238\", \"\\u8ca1\\u52d9\\u5831\\u544a\", \"\\u8ca1\\u653f\\u90e8\", \"\\u8ca1\\u653f\\u90e8\", \"\\u8cb7\\u4e0d\\u8d77\", \"\\u8cb7\\u623f\", \"\\u8cb7\\u623f\", \"\\u8cb7\\u623f\", \"\\u8cb7\\u8d85\", \"\\u8cb7\\u8d85\", \"\\u8cb7\\u8d85\", \"\\u8cb8\\u6b3e\", \"\\u8cb8\\u6b3e\", \"\\u8cbb\\u57ce\", \"\\u8cbf\\u6613\", \"\\u8cc7\\u589e\", \"\\u8cc7\\u672c\", \"\\u8cc7\\u672c\", \"\\u8cc7\\u672c\", \"\\u8cc7\\u8a0a\", \"\\u8cc7\\u8a0a\", \"\\u8cc7\\u8a0a\", \"\\u8cc7\\u8a0a\", \"\\u8cc7\\u8a0a\", \"\\u8cc7\\u91d1\", \"\\u8cc7\\u91d1\", \"\\u8cc7\\u91d1\", \"\\u8ce3\\u6389\", \"\\u8ce3\\u8d85\", \"\\u8ce3\\u8d85\", \"\\u8d70\\u52e2\", \"\\u8d77\\u8a16\", \"\\u8d85\\u984d\", \"\\u8dcc\\u7834\", \"\\u8eca\\u4f4d\", \"\\u8eca\\u7528\", \"\\u8f1d\\u9054\", \"\\u8f1d\\u9054\", \"\\u8f49\\u8f09\", \"\\u9000\\u5834\", \"\\u9000\\u5834\", \"\\u900f\\u904e\", \"\\u900f\\u904e\", \"\\u900f\\u904e\", \"\\u900f\\u904e\", \"\\u900f\\u904e\", \"\\u9019\\u9593\", \"\\u9023\\u7d50\", \"\\u9023\\u7d50\", \"\\u9023\\u7d50\", \"\\u9023\\u7d50\", \"\\u9023\\u7d50\", \"\\u9032\\u5834\", \"\\u9032\\u5834\", \"\\u9032\\u884c\", \"\\u9032\\u884c\", \"\\u9032\\u884c\", \"\\u9032\\u884c\", \"\\u904b\\u7b97\", \"\\u9078\\u80a1\", \"\\u90a3\\u7a2e\", \"\\u90e8\\u4f4d\", \"\\u914d\\u606f\", \"\\u914d\\u606f\", \"\\u914d\\u767c\", \"\\u914d\\u767c\", \"\\u914d\\u80a1\", \"\\u91cd\\u5283\", \"\\u91cd\\u5283\", \"\\u91cf\\u7522\", \"\\u91dd\\u5c0d\", \"\\u91dd\\u5c0d\", \"\\u91dd\\u5c0d\", \"\\u9280\\u884c\", \"\\u9280\\u884c\", \"\\u9280\\u884c\", \"\\u9280\\u884c\", \"\\u9280\\u884c\", \"\\u9280\\u884c\", \"\\u9577\\u671f\", \"\\u9577\\u671f\", \"\\u9577\\u671f\", \"\\u9577\\u671f\\u6295\\u8cc7\", \"\\u9577\\u69ae\", \"\\u9577\\u69ae\", \"\\u9577\\u69ae\", \"\\u9577\\u69ae\", \"\\u9580\\u724c\", \"\\u9644\\u5c6c\", \"\\u9644\\u5c6c\", \"\\u964d\\u606f\", \"\\u96a8\\u4fbf\", \"\\u96f2\\u8c79\", \"\\u96fb\\u50f9\", \"\\u96fb\\u529b\", \"\\u96fb\\u529b\", \"\\u96fb\\u529b\", \"\\u96fb\\u5546\", \"\\u9700\\u6c42\", \"\\u9700\\u6c42\", \"\\u9700\\u6c42\", \"\\u9700\\u6c42\", \"\\u9700\\u6c42\", \"\\u9700\\u8981\", \"\\u9700\\u8981\", \"\\u9700\\u8981\", \"\\u9700\\u8981\", \"\\u9707\\u76ea\", \"\\u9762\\u984d\", \"\\u97d3\\u570b\", \"\\u97d3\\u570b\", \"\\u9810\\u552e\", \"\\u9810\\u552e\", \"\\u9810\\u671f\", \"\\u9810\\u671f\", \"\\u9810\\u671f\", \"\\u9810\\u671f\", \"\\u9810\\u671f\", \"\\u982d\\u671f\\u6b3e\", \"\\u9858\\u53d7\", \"\\u9858\\u610f\", \"\\u9858\\u610f\", \"\\u9858\\u610f\", \"\\u985e\\u80a1\", \"\\u98a8\\u96aa\", \"\\u98a8\\u96aa\", \"\\u98a8\\u96aa\", \"\\u9ad8\\u5730\", \"\\u9ad8\\u9435\", \"\\u9ad8\\u9435\", \"\\u9ad8\\u9435\", \"\\u9d3b\\u6d77\", \"\\u9ede\\u6578\"]}, \"R\": 30, \"lambda.step\": 0.01, \"plot.opts\": {\"xlab\": \"PC1\", \"ylab\": \"PC2\"}, \"topic.order\": [2, 6, 5, 1, 4, 3]};\n",
              "\n",
              "function LDAvis_load_lib(url, callback){\n",
              "  var s = document.createElement('script');\n",
              "  s.src = url;\n",
              "  s.async = true;\n",
              "  s.onreadystatechange = s.onload = callback;\n",
              "  s.onerror = function(){console.warn(\"failed to load library \" + url);};\n",
              "  document.getElementsByTagName(\"head\")[0].appendChild(s);\n",
              "}\n",
              "\n",
              "if(typeof(LDAvis) !== \"undefined\"){\n",
              "   // already loaded: just create the visualization\n",
              "   !function(LDAvis){\n",
              "       new LDAvis(\"#\" + \"ldavis_el4101332499747403361345765317\", ldavis_el4101332499747403361345765317_data);\n",
              "   }(LDAvis);\n",
              "}else if(typeof define === \"function\" && define.amd){\n",
              "   // require.js is available: use it to load d3/LDAvis\n",
              "   require.config({paths: {d3: \"https://d3js.org/d3.v5\"}});\n",
              "   require([\"d3\"], function(d3){\n",
              "      window.d3 = d3;\n",
              "      LDAvis_load_lib(\"https://cdn.jsdelivr.net/gh/bmabey/pyLDAvis@3.4.0/pyLDAvis/js/ldavis.v3.0.0.js\", function(){\n",
              "        new LDAvis(\"#\" + \"ldavis_el4101332499747403361345765317\", ldavis_el4101332499747403361345765317_data);\n",
              "      });\n",
              "    });\n",
              "}else{\n",
              "    // require.js not available: dynamically load d3 & LDAvis\n",
              "    LDAvis_load_lib(\"https://d3js.org/d3.v5.js\", function(){\n",
              "         LDAvis_load_lib(\"https://cdn.jsdelivr.net/gh/bmabey/pyLDAvis@3.4.0/pyLDAvis/js/ldavis.v3.0.0.js\", function(){\n",
              "                 new LDAvis(\"#\" + \"ldavis_el4101332499747403361345765317\", ldavis_el4101332499747403361345765317_data);\n",
              "            })\n",
              "         });\n",
              "}\n",
              "</script>"
            ]
          },
          "metadata": {},
          "execution_count": 100
        }
      ],
      "source": [
        "# 整理／顯示主題模型結果\n",
        "n_top_words = 10\n",
        "topic_word = model.topic_word_\n",
        "\n",
        "for i, topic_dist in enumerate(topic_word):\n",
        "    topic_words = np.array(vocab)[np.argsort(topic_dist)][: -(n_top_words + 1) : -1]\n",
        "    print(\"Topic {}: {}\".format(i, \" \".join(topic_words)))\n",
        "\n",
        "\n",
        "doc_topic = model.doc_topic_\n",
        "term_freq = tuple(dictionary.cfs.values())\n",
        "doc_len = [sum(v for k, v in doc) for doc in corpus]\n",
        "\n",
        "## LDAvis\n",
        "pyLDAvis.enable_notebook()\n",
        "p = pyLDAvis.prepare(topic_word, doc_topic, doc_len, vocab = vocab, term_frequency = term_freq)\n",
        "p"
      ]
    },
    {
      "cell_type": "markdown",
      "source": [
        "## 改變了主題列表、將房產相關的詞彙放在一起，多了運輸相關的詞彙"
      ],
      "metadata": {
        "id": "IIhnqvQJKxwP"
      }
    },
    {
      "cell_type": "code",
      "execution_count": 133,
      "metadata": {
        "colab": {
          "base_uri": "https://localhost:8080/"
        },
        "id": "PnsY2eQb2H9V",
        "outputId": "16585df3-055e-4bbf-f5e1-8bd210af512a"
      },
      "outputs": [
        {
          "output_type": "stream",
          "name": "stderr",
          "text": [
            "/usr/local/lib/python3.10/dist-packages/ipykernel/ipkernel.py:283: DeprecationWarning: `should_run_async` will not call `transform_cell` automatically in the future. Please pass the result to `transformed_cell` argument and any exception that happen during thetransform in `preprocessing_exc_tuple` in IPython 7.17 and above.\n",
            "  and should_run_async(code)\n"
          ]
        }
      ],
      "source": [
        "seed_topic_list = [\n",
        "    ['房屋', '車位', '房價', '目前', '資訊', '現在', '房子', '格局', '建設', '本文', '實價','買房','房價'],\n",
        "    ['優惠', '活動', '回饋', '特價', '會員', '今天', '便宜','使用', '價格', '時間','看到', '點數'],\n",
        "    ['公司', '原文', '股利', '台灣', '累計', '市場', '億元', '標題', '投資', '今年', '現金', '盈餘','股票','銀行'],\n",
        "    ['交通','捷運','汽車','運輸']\n",
        "]\n",
        "\n",
        "seed_topics = {}\n",
        "for t_id, st in enumerate(seed_topic_list):\n",
        "    for word in st:\n",
        "        seed_topics[word2id[word]] = t_id"
      ]
    },
    {
      "cell_type": "code",
      "execution_count": 134,
      "metadata": {
        "colab": {
          "base_uri": "https://localhost:8080/"
        },
        "id": "Hqep9iP02H9V",
        "outputId": "3c4814a7-e493-4460-cd5d-9a7ec17c5ae7"
      },
      "outputs": [
        {
          "output_type": "stream",
          "name": "stderr",
          "text": [
            "/usr/local/lib/python3.10/dist-packages/ipykernel/ipkernel.py:283: DeprecationWarning: `should_run_async` will not call `transform_cell` automatically in the future. Please pass the result to `transformed_cell` argument and any exception that happen during thetransform in `preprocessing_exc_tuple` in IPython 7.17 and above.\n",
            "  and should_run_async(code)\n",
            "WARNING:guidedlda:all zero row in document-term matrix found\n"
          ]
        },
        {
          "output_type": "execute_result",
          "data": {
            "text/plain": [
              "<guidedlda.guidedlda.GuidedLDA at 0x7930b6da7520>"
            ]
          },
          "metadata": {},
          "execution_count": 134
        }
      ],
      "source": [
        "model = guidedlda.GuidedLDA(n_topics=6, n_iter=100, random_state=7, refresh=20)\n",
        "model.fit(X, seed_topics=seed_topics, seed_confidence=1)"
      ]
    },
    {
      "cell_type": "code",
      "execution_count": 135,
      "metadata": {
        "colab": {
          "base_uri": "https://localhost:8080/",
          "height": 1000
        },
        "id": "ZYN8NLfd2H9V",
        "outputId": "39eca73f-7ed3-4ceb-eeaf-52c3648d2e38"
      },
      "outputs": [
        {
          "output_type": "stream",
          "name": "stderr",
          "text": [
            "/usr/local/lib/python3.10/dist-packages/ipykernel/ipkernel.py:283: DeprecationWarning: `should_run_async` will not call `transform_cell` automatically in the future. Please pass the result to `transformed_cell` argument and any exception that happen during thetransform in `preprocessing_exc_tuple` in IPython 7.17 and above.\n",
            "  and should_run_async(code)\n"
          ]
        },
        {
          "output_type": "stream",
          "name": "stdout",
          "text": [
            "Topic 0: 房屋 車位 建物 資訊 格局 建設 本文 實價 登錄 物件\n",
            "Topic 1: 現在 目前 真的 知道 問題 應該 貸款 覺得 房子 比較\n",
            "Topic 2: 累計 股利 公司 盈餘 本期 現金 元股 董事會 元月 股東\n",
            "Topic 3: 億元 今年 成長 原文 台灣 去年 營收 開發 伺服器 客戶\n",
            "Topic 4: 原文 公司 表示 台灣 中國 美國 記者 市場 時間 指出\n",
            "Topic 5: 市場 股價 投資 利率 指數 台股 股息 今年 股票 資金\n"
          ]
        },
        {
          "output_type": "execute_result",
          "data": {
            "text/plain": [
              "PreparedData(topic_coordinates=              x         y  topics  cluster       Freq\n",
              "topic                                                \n",
              "1     -0.050653  0.198438       1        1  25.326748\n",
              "5      0.174737  0.105587       2        1  19.078087\n",
              "4      0.072809  0.081807       3        1  17.436705\n",
              "0     -0.385622  0.013555       4        1  14.734614\n",
              "3      0.173652 -0.019589       5        1  12.766608\n",
              "2      0.015076 -0.379797       6        1  10.657238, topic_info=     Term         Freq        Total Category  logprob  loglift\n",
              "318    累計  1447.000000  1447.000000  Default  30.0000  30.0000\n",
              "3251   股利  1555.000000  1555.000000  Default  29.0000  29.0000\n",
              "1217   本期  1152.000000  1152.000000  Default  28.0000  28.0000\n",
              "152    盈餘  1172.000000  1172.000000  Default  27.0000  27.0000\n",
              "772    現金  1317.000000  1317.000000  Default  26.0000  26.0000\n",
              "...   ...          ...          ...      ...      ...      ...\n",
              "2721   資本   448.269229   611.127695   Topic6  -4.7429   1.9290\n",
              "1291   來源   480.216436   933.687405   Topic6  -4.6741   1.5740\n",
              "7929   營收   450.265930   908.736400   Topic6  -4.7385   1.5367\n",
              "2362   金額   429.300575   859.820623   Topic6  -4.7862   1.5444\n",
              "2659   標題   434.292326  1278.374844   Topic6  -4.7746   1.1593\n",
              "\n",
              "[457 rows x 6 columns], token_table=      Topic      Freq Term\n",
              "term                      \n",
              "589       1  0.868347   一下\n",
              "589       2  0.128590   一下\n",
              "589       6  0.002890   一下\n",
              "1353      1  0.912624   一堆\n",
              "1353      2  0.088538   一堆\n",
              "...     ...       ...  ...\n",
              "3165      1  0.033522   高點\n",
              "3165      2  0.967352   高點\n",
              "7717      2  0.066232   鴻海\n",
              "7717      5  0.934600   鴻海\n",
              "7998      1  1.000673   點數\n",
              "\n",
              "[833 rows x 3 columns], R=30, lambda_step=0.01, plot_opts={'xlab': 'PC1', 'ylab': 'PC2'}, topic_order=[2, 6, 5, 1, 4, 3])"
            ],
            "text/html": [
              "\n",
              "<link rel=\"stylesheet\" type=\"text/css\" href=\"https://cdn.jsdelivr.net/gh/bmabey/pyLDAvis@3.4.0/pyLDAvis/js/ldavis.v1.0.0.css\">\n",
              "\n",
              "\n",
              "<div id=\"ldavis_el4101332500775884165096905146\" style=\"background-color:white;\"></div>\n",
              "<script type=\"text/javascript\">\n",
              "\n",
              "var ldavis_el4101332500775884165096905146_data = {\"mdsDat\": {\"x\": [-0.05065310457046393, 0.17473723246611886, 0.07280923146425931, -0.3856218504198807, 0.17365204672210563, 0.015076444337860543], \"y\": [0.19843803338572547, 0.10558723774020495, 0.08180652791315815, 0.01355485448262753, -0.019589463392626138, -0.3797971901290901], \"topics\": [1, 2, 3, 4, 5, 6], \"cluster\": [1, 1, 1, 1, 1, 1], \"Freq\": [25.326747594588266, 19.078086824900485, 17.436705094323795, 14.734613713331404, 12.766608386865416, 10.65723838599064]}, \"tinfo\": {\"Term\": [\"\\u7d2f\\u8a08\", \"\\u80a1\\u5229\", \"\\u672c\\u671f\", \"\\u76c8\\u9918\", \"\\u73fe\\u91d1\", \"\\u5143\\u80a1\", \"\\u516c\\u53f8\", \"\\u623f\\u5c4b\", \"\\u8463\\u4e8b\\u6703\", \"\\u5143\\u6708\", \"\\u80a1\\u6771\", \"\\u539f\\u6587\", \"\\u8cc7\\u8a0a\", \"\\u8eca\\u4f4d\", \"\\u914d\\u80a1\", \"\\u65e5\\u671f\", \"\\u4eca\\u5e74\", \"\\u5e02\\u5834\", \"\\u6de8\\u5229\", \"\\u5efa\\u7269\", \"\\u914d\\u767c\", \"\\u5104\\u5143\", \"\\u516c\\u958b\", \"\\u6bcf\\u80a1\", \"\\u71df\\u6536\", \"\\u71df\\u696d\", \"\\u7db2\\u5740\", \"\\u589e\\u8cc7\", \"\\u6307\\u6578\", \"\\u672c\\u6587\", \"\\u512a\\u60e0\", \"\\u8ce3\\u6389\", \"\\u6771\\u897f\", \"\\u623f\\u6771\", \"\\u8acb\\u6559\", \"\\u589e\\u8cb8\", \"\\u4ee3\\u92b7\", \"\\u6c92\\u4ec0\\u9ebc\", \"\\u4e0d\\u5920\", \"\\u8cb7\\u4e0d\\u8d77\", \"\\u5e33\\u6236\", \"\\u540d\\u4e0b\", \"\\u9019\\u9593\", \"\\u81ea\\u5099\", \"\\u79df\\u5c4b\", \"\\u524d\\u8f29\", \"\\u90a3\\u7a2e\", \"\\u5408\\u4e00\", \"\\u623f\\u5730\", \"\\u525b\\u525b\", \"\\u85aa\\u6c34\", \"\\u7406\\u89e3\", \"\\u60f3\\u6cd5\", \"\\u770b\\u904e\", \"\\u9ede\\u6578\", \"\\u54ea\\u88e1\", \"\\u7279\\u50f9\", \"\\u982d\\u671f\\u6b3e\", \"\\u5e74\\u8f15\", \"\\u5e6b\\u5fd9\", \"\\u623f\\u5b50\", \"\\u8fa6\\u6cd5\", \"\\u8cb8\\u6b3e\", \"\\u8cb7\\u623f\", \"\\u4e00\\u9593\", \"\\u89ba\\u5f97\", \"\\u623f\\u8cb8\", \"\\u53ea\\u80fd\", \"\\u4e0d\\u7528\", \"\\u5c0f\\u5f1f\", \"\\u77e5\\u9053\", \"\\u79df\\u91d1\", \"\\u6d3b\\u52d5\", \"\\u8acb\\u554f\", \"\\u771f\\u7684\", \"\\u8ca0\\u64d4\", \"\\u4e00\\u4e0b\", \"\\u597d\\u50cf\", \"\\u5206\\u4eab\", \"\\u4e00\\u5806\", \"\\u73fe\\u5728\", \"\\u4e00\\u9ede\", \"\\u6bd4\\u8f03\", \"\\u554f\\u984c\", \"\\u5730\\u65b9\", \"\\u623f\\u50f9\", \"\\u770b\\u5230\", \"\\u5b8c\\u5168\", \"\\u61c9\\u8a72\", \"\\u9810\\u552e\", \"\\u6700\\u8fd1\", \"\\u76f4\\u63a5\", \"\\u76ee\\u524d\", \"\\u4e00\\u5b9a\", \"\\u4e4b\\u5f8c\", \"\\u9700\\u8981\", \"\\u5df2\\u7d93\", \"\\u9280\\u884c\", \"\\u4e00\\u76f4\", \"\\u50f9\\u683c\", \"\\u6295\\u8cc7\", \"\\u80a1\\u7968\", \"\\u964d\\u606f\", \"\\u5927\\u76e4\", \"\\u500b\\u80a1\", \"\\u505c\\u640d\", \"\\u6563\\u6236\", \"\\u57fa\\u672c\\u9762\", \"\\u76e4\\u4e2d\", \"\\u842c\\u5f35\", \"\\u806f\\u6e96\", \"\\u8dcc\\u7834\", \"\\u694a\\u91d1\\u9f8d\", \"\\u6295\\u9867\", \"\\u77ed\\u7dda\", \"\\u5e73\\u6e96\", \"\\u8d70\\u52e2\", \"\\u591a\\u7a7a\", \"\\u9078\\u80a1\", \"\\u6295\\u8cc7\\u8005\", \"\\u56de\\u5347\", \"\\u985e\\u80a1\", \"\\u4e00\\u6a94\", \"\\u4f4e\\u9ede\", \"\\u9577\\u671f\\u6295\\u8cc7\", \"\\u90e8\\u4f4d\", \"\\u8dcc\\u5e45\", \"\\u5403\\u8c46\\u8150\", \"\\u767c\\u884c\\u50f9\", \"\\u5206\\u6563\", \"\\u9707\\u76ea\", \"\\u5f37\\u52e2\", \"\\u9000\\u5834\", \"\\u6210\\u5206\\u80a1\", \"\\u6ce2\\u52d5\", \"\\u6307\\u6578\", \"\\u914d\\u606f\", \"\\u50b5\\u5238\", \"\\u7533\\u8cfc\", \"\\u52df\\u96c6\", \"\\u6295\\u8cc7\\u4eba\", \"\\u9ad8\\u9ede\", \"\\u6de8\\u503c\", \"\\u5206\\u985e\", \"\\u57fa\\u91d1\", \"\\u6a5f\\u5236\", \"\\u53f0\\u80a1\", \"\\u7f8e\\u80a1\", \"\\u5229\\u7387\", \"\\u6a19\\u7684\", \"\\u80a1\\u50f9\", \"\\u842c\\u9ede\", \"\\u5347\\u606f\", \"\\u80a1\\u606f\", \"\\u5206\\u6790\", \"\\u9032\\u5834\", \"\\u592e\\u884c\", \"\\u80a1\\u5e02\", \"\\u5e02\\u5834\", \"\\u8cc7\\u91d1\", \"\\u9ad8\\u606f\", \"\\u6295\\u8cc7\", \"\\u4eca\\u5e74\", \"\\u9810\\u671f\", \"\\u7372\\u5229\", \"\\u80a1\\u7968\", \"\\u98a8\\u96aa\", \"\\u6295\\u4fe1\", \"\\u9577\\u671f\", \"\\u5104\\u5143\", \"\\u539f\\u6587\", \"\\u6642\\u9593\", \"\\u76ee\\u524d\", \"\\u6301\\u7e8c\", \"\\u5fc3\\u5f97\", \"\\u53f0\\u7063\", \"\\u96fb\\u50f9\", \"\\u5104\\u7f8e\\u5143\", \"\\u7528\\u96fb\", \"\\u8abf\\u67e5\", \"\\u5c0d\\u6b64\", \"\\u91d1\\u6cb3\", \"\\u7acb\\u59d4\", \"\\u5fae\\u8edf\", \"\\u5916\\u754c\", \"\\u6838\\u96fb\\u5ee0\", \"\\u7d93\\u6fdf\\u90e8\", \"\\u5929\\u7267\", \"\\u7acb\\u6cd5\\u9662\", \"\\u767c\\u96fb\", \"\\u6230\\u722d\", \"\\u885d\\u64ca\", \"\\u5b98\\u54e1\", \"\\u6838\\u96fb\", \"\\u5de5\\u5546\\u6642\\u5831\", \"\\u88c1\\u54e1\", \"\\u8a13\\u7df4\", \"\\u4ec1\\u52f3\", \"\\u7e3d\\u88c1\", \"\\u7528\\u96fb\\u91cf\", \"\\u64d4\\u6182\", \"\\u8cbf\\u6613\", \"\\u51fa\\u5e2d\", \"\\u6838\\u80fd\", \"\\u842c\\u7f8e\\u5143\", \"\\u96fb\\u5546\", \"\\u79df\\u8cc3\", \"\\u97d3\\u570b\", \"\\u5f15\\u767c\", \"\\u8abf\\u6f32\", \"\\u51fa\\u53e3\", \"\\u4eba\\u58eb\", \"\\u696d\\u8005\", \"\\u570b\\u5bb6\", \"\\u4e2d\\u570b\", \"\\u7af6\\u722d\", \"\\u8ca1\\u653f\\u90e8\", \"\\u9032\\u884c\", \"\\u6b64\\u6b21\", \"\\u5a92\\u9ad4\", \"\\u65e5\\u672c\", \"\\u91d1\\u7ba1\\u6703\", \"\\u7f8e\\u570b\", \"\\u8868\\u793a\", \"\\u4eba\\u5de5\\u667a\\u6167\", \"\\u7d93\\u6fdf\", \"\\u4f01\\u696d\", \"\\u6307\\u51fa\", \"\\u570b\\u5167\", \"\\u6d88\\u8cbb\\u8005\", \"\\u5f37\\u8abf\", \"\\u539f\\u6587\", \"\\u91dd\\u5c0d\", \"\\u5168\\u7403\", \"\\u5831\\u5c0e\", \"\\u5831\\u544a\", \"\\u8abf\\u6574\", \"\\u8a18\\u8005\", \"\\u53f0\\u7063\", \"\\u767c\\u5e03\", \"\\u8a55\\u8ad6\", \"\\u516c\\u53f8\", \"\\u7f72\\u540d\", \"\\u5f71\\u97ff\", \"\\u6642\\u9593\", \"\\u5e02\\u5834\", \"\\u9023\\u7d50\", \"\\u653f\\u5e9c\", \"\\u5167\\u5bb9\", \"\\u5fc3\\u5f97\", \"\\u8a8d\\u70ba\", \"\\u9280\\u884c\", \"\\u6295\\u8cc7\", \"\\u6a19\\u984c\", \"\\u8eca\\u4f4d\", \"\\u672c\\u7ad9\", \"\\u9580\\u724c\", \"\\u6a13\\u5c64\", \"\\u576a\\u6578\", \"\\u7269\\u6b0a\", \"\\u53f0\\u5357\\u5e02\", \"\\u5546\\u5708\", \"\\u7e3d\\u6a13\", \"\\u505c\\u8eca\\u4f4d\", \"\\u672c\\u677f\", \"\\u5e73\\u9762\", \"\\u8f49\\u8f09\", \"\\u623f\\u5ef3\", \"\\u8a73\\u76e1\", \"\\u5404\\u7d1a\", \"\\u9858\\u53d7\", \"\\u7d93\\u7d00\\u4eba\", \"\\u4e0a\\u5c64\", \"\\u512a\\u7f3a\\u9ede\", \"\\u6771\\u5340\", \"\\u6b21\\u8981\", \"\\u4e0b\\u5c64\", \"\\u9ad8\\u5730\", \"\\u65b0\\u5317\\u5e02\", \"\\u516c\\u53f8\\u5730\\u5740\", \"\\u5167\\u4e0a\", \"\\u5167\\u4fe1\", \"\\u61c9\\u586b\", \"\\u72c0\\u576a\\u4e3b\", \"\\u5efa\\u7269\", \"\\u672c\\u6587\", \"\\u5be6\\u50f9\", \"\\u6a5f\\u80fd\", \"\\u516c\\u8a2d\", \"\\u767b\\u9304\", \"\\u6377\\u904b\", \"\\u4ea4\\u901a\", \"\\u793e\\u5340\", \"\\u6b0a\\u72c0\", \"\\u623f\\u5c4b\", \"\\u683c\\u5c40\", \"\\u9644\\u5c6c\", \"\\u59d3\\u540d\", \"\\u5efa\\u8a2d\", \"\\u898f\\u7bc4\", \"\\u7269\\u4ef6\", \"\\u672c\\u6848\", \"\\u5c4b\\u9f61\", \"\\u5b78\\u5340\", \"\\u91cd\\u5283\", \"\\u540c\\u610f\", \"\\u571f\\u5730\", \"\\u5927\\u6a13\", \"\\u806f\\u7d61\", \"\\u6843\\u5712\", \"\\u9858\\u610f\", \"\\u8cc7\\u8a0a\", \"\\u898f\\u5283\", \"\\u76f8\\u95dc\", \"\\u5167\\u5bb9\", \"\\u842c\\u5143\", \"\\u4ef2\\u4ecb\", \"\\u516c\\u53f8\", \"\\u6392\\u884c\", \"\\u589e\\u5f35\", \"\\u7522\\u80fd\", \"\\u6574\\u5408\", \"\\u885b\\u661f\", \"\\u4e2d\\u8208\", \"\\u8cc7\\u589e\", \"\\u5c01\\u88dd\", \"\\u5546\\u6a5f\", \"\\u4ee3\\u5de5\", \"\\u82f1\\u696d\\u9054\", \"\\u6a5f\\u5668\\u4eba\", \"\\u6771\\u5143\", \"\\u5927\\u5ee0\", \"\\u904b\\u7b97\", \"\\u6253\\u9020\", \"\\u4e16\\u9054\", \"\\u80a1\\u7968\\u540d\\u7a31\", \"\\u96f2\\u8c79\", \"\\u548c\\u78a9\", \"\\u5132\\u80fd\", \"\\u91cf\\u7522\", \"\\u8a2d\\u5ee0\", \"\\u7121\\u4eba\\u6a5f\", \"\\u83ef\\u57ce\", \"\\u8eca\\u7528\", \"\\u4ea4\\u901a\\u90e8\", \"\\u79d1\\u5b78\\u5712\\u5340\", \"\\u8a18\\u61b6\\u9ad4\", \"\\u5925\\u4f34\", \"\\u4f3a\\u670d\\u5668\", \"\\u88fd\\u7a0b\", \"\\u61c9\\u7528\", \"\\u5f35\\u5238\", \"\\u5149\\u96fb\", \"\\u5ee3\\u9054\", \"\\u8a02\\u55ae\", \"\\u6c38\\u7e8c\", \"\\u4e09\\u661f\", \"\\u51fa\\u8ca8\", \"\\u9d3b\\u6d77\", \"\\u5927\\u540c\", \"\\u7d14\\u76ca\", \"\\u4e2d\\u4fe1\", \"\\u6c38\\u8c50\", \"\\u5ba2\\u6236\", \"\\u958b\\u767c\", \"\\u570b\\u6cf0\", \"\\u6210\\u9577\", \"\\u5609\\u7fa9\", \"\\u534a\\u5c0e\\u9ad4\", \"\\u6676\\u7247\", \"\\u4eca\\u5e74\", \"\\u5104\\u5143\", \"\\u63a8\\u51fa\", \"\\u79d1\\u6280\", \"\\u71df\\u6536\", \"\\u7522\\u696d\", \"\\u9700\\u6c42\", \"\\u8cb7\\u8d85\", \"\\u53bb\\u5e74\", \"\\u7522\\u54c1\", \"\\u71df\\u904b\", \"\\u9577\\u69ae\", \"\\u53f0\\u7a4d\", \"\\u53f0\\u7063\", \"\\u539f\\u6587\", \"\\u767c\\u5c55\", \"\\u53f0\\u7a4d\\u96fb\", \"\\u6a19\\u984c\", \"\\u8a18\\u8005\", \"\\u6280\\u8853\", \"\\u4f86\\u6e90\", \"\\u5fc3\\u5f97\", \"\\u6301\\u7e8c\", \"\\u9023\\u7d50\", \"\\u672c\\u671f\", \"\\u5143\\u80a1\", \"\\u914d\\u80a1\", \"\\u4edf\\u5143\", \"\\u671f\\u672b\", \"\\u89c0\\u6e2c\\u7ad9\", \"\\u61c9\\u6558\\u660e\", \"\\u516c\\u7a4d\", \"\\u516c\\u7a4d\\u8f49\", \"\\u6b78\\u5c6c\\u65bc\", \"\\u6de8\\u640d\", \"\\u666e\\u901a\\u80a1\", \"\\u81ea\\u7d50\", \"\\u8ca1\\u52d9\\u5831\\u544a\", \"\\u9762\\u984d\", \"\\u6b04\\u4f4d\", \"\\u5be9\\u8a08\", \"\\u63d0\\u5831\", \"\\u71df\\u696d\\u6bdb\\u5229\", \"\\u6216\\u7d93\", \"\\u8d77\\u8a16\", \"\\u6bdb\\u640d\", \"\\u640d\\u4edf\", \"\\u6709\\u50f9\\u8b49\\u5238\", \"\\u64ec\\u8b70\", \"\\u7de3\\u7531\", \"\\u7b2c\\u6b3e\", \"\\u57fa\\u6e96\\u65e5\", \"\\u65bd\\u884c\\u7d30\\u5247\", \"\\u672c\\u5247\", \"\\u589e\\u8cc7\", \"\\u76c8\\u9918\", \"\\u5143\\u6708\", \"\\u7a05\\u524d\", \"\\u589e\\u6e1b\", \"\\u6240\\u5c6c\", \"\\u8463\\u4e8b\\u6703\", \"\\u7d2f\\u8a08\", \"\\u71df\\u696d\", \"\\u6de8\\u5229\", \"\\u4e8b\\u9805\", \"\\u696d\\u4e3b\", \"\\u80a1\\u6578\", \"\\u65e5\\u671f\", \"\\u914d\\u767c\", \"\\u80a1\\u6771\", \"\\u6c7a\\u8b70\", \"\\u6cd5\\u5b9a\", \"\\u6bcd\\u516c\\u53f8\", \"\\u80a1\\u5229\", \"\\u73fe\\u91d1\", \"\\u516c\\u958b\", \"\\u767c\\u653e\", \"\\u6bcf\\u80a1\", \"\\u7db2\\u5740\", \"\\u5e74\\u5ea6\", \"\\u516c\\u53f8\", \"\\u8cc7\\u8a0a\", \"\\u8cc7\\u672c\", \"\\u4f86\\u6e90\", \"\\u71df\\u6536\", \"\\u91d1\\u984d\", \"\\u6a19\\u984c\"], \"Freq\": [1447.0, 1555.0, 1152.0, 1172.0, 1317.0, 1035.0, 2870.0, 1205.0, 896.0, 871.0, 866.0, 2112.0, 1539.0, 877.0, 750.0, 785.0, 1408.0, 1689.0, 637.0, 703.0, 614.0, 1510.0, 684.0, 742.0, 908.0, 556.0, 680.0, 523.0, 745.0, 604.0, 264.6427513933282, 225.69679726201315, 186.75084313069812, 152.79796004185934, 134.8229042889447, 125.83537641248742, 119.84369116151585, 114.85062011903958, 110.85616328505854, 109.85754907656329, 105.86309224258225, 101.86863540860122, 98.87279278311546, 96.87556436612493, 96.87556436612493, 95.8769501576297, 95.8769501576297, 94.87833594913442, 92.8811075321439, 92.8811075321439, 90.88387911515339, 90.88387911515339, 88.88665069816288, 88.88665069816288, 83.89357965568658, 79.89912282170556, 76.9032801962198, 75.90466598772453, 75.90466598772453, 74.90605177922927, 695.0454752547842, 195.73837100715542, 714.019145216194, 445.3919231309698, 324.55960390304364, 701.0371605057558, 413.43626845912155, 313.57484760959585, 314.57346181809106, 228.69263988749893, 811.8833376487294, 236.681553555461, 248.66492405740405, 326.5568323200341, 850.8292917800443, 158.7896452928309, 601.17573965623, 258.6510661423566, 274.62889347828076, 267.638594018814, 1265.2541883055762, 303.5887055246432, 683.062104752841, 761.9526272239665, 309.5803907756148, 664.0884347914312, 539.261658729524, 245.66908143191827, 738.9845004285755, 446.3905373394651, 496.3212477642279, 428.4154815865504, 875.7946469924258, 339.5388170304725, 356.5152585748919, 381.48061378727334, 524.2824456020952, 467.3614357178655, 354.51803015790136, 458.37390784140814, 458.37390784140814, 362.5069438258634, 505.4271702039372, 285.6805694552046, 244.72779386112262, 210.7669555635912, 165.8187872286232, 126.86370800498423, 125.86485981976271, 122.86831526409819, 121.86946707887667, 115.8763779675476, 97.89711063356037, 97.89711063356037, 96.89826244833887, 96.89826244833887, 93.90171789267434, 91.90402152223132, 91.90402152223132, 90.9051733370098, 89.9063251517883, 89.9063251517883, 80.91669148479468, 76.92129874390864, 75.92245055868712, 67.93166507691504, 64.9351205212505, 64.9351205212505, 62.937424150807466, 61.938575965585954, 59.940879595142924, 58.94203140992141, 221.75428560102785, 365.5884242729256, 152.83376082074352, 728.1703155083344, 370.5826651990331, 249.72203478723017, 361.5930315320395, 291.6736585665337, 508.4237147596018, 201.77732189659764, 268.7001503064389, 269.6989984916604, 499.43408109260815, 275.6920876029895, 708.1933518039041, 185.7957509330534, 763.1300019910874, 439.5031899793174, 860.018275957574, 211.76580374881274, 373.5792097546976, 693.2106290255815, 407.54004805222905, 297.66674767786276, 305.65753315963485, 435.50779723843135, 1012.8420482964652, 515.4156520561523, 360.594183346818, 781.1092693250745, 691.2129326551384, 356.598790605932, 433.5101008679884, 526.402982093589, 344.6126123832738, 378.5734506808052, 300.6632922335273, 447.4939754610895, 466.4720909802983, 395.55386982957094, 407.54004805222905, 349.6068533093814, 359.5953351615965, 387.56308434779885, 433.58758289353045, 248.76764133618585, 176.83771813548955, 142.870809957383, 115.89708875712189, 101.91071480143094, 94.91752782358547, 85.92628742349844, 78.93310044565297, 75.93602031229062, 75.93602031229062, 75.93602031229062, 69.94186004556593, 68.94283333444514, 68.94283333444514, 67.94380662332436, 67.94380662332436, 65.94575320108281, 64.94672648996202, 62.94867306772045, 62.94867306772045, 62.94867306772045, 58.95256622323732, 58.95256622323732, 57.953539512116535, 57.953539512116535, 55.955486089874974, 55.955486089874974, 53.95743266763341, 53.95743266763341, 98.9136346680686, 138.87470311289985, 115.89708875712189, 224.79100026928708, 170.84355786876486, 96.91558124582703, 215.79975986920002, 204.81046604687145, 762.2673708522675, 116.89611546824267, 85.92628742349844, 356.66252613723026, 97.91460795694782, 106.90584835703486, 331.68685835921065, 252.76374818066896, 683.3442606737258, 898.135003564694, 146.8669168018661, 384.63527404861213, 305.7121638700704, 492.5301588496566, 200.8143592023883, 127.88540929057125, 190.8240920911805, 1167.872215567305, 191.82311880230128, 310.7072974256743, 418.60218222671875, 164.84939760204014, 265.7510954252391, 574.4503491615607, 848.1836680086548, 449.57201027146294, 413.6070486711148, 963.0717397875446, 376.6430603596459, 378.64111378188744, 530.4931738722462, 562.4620286281113, 461.56033080491227, 308.70924400343273, 485.5369718718111, 379.64014049300823, 283.7335762254132, 327.6907515147276, 301.71605702558725, 279.73746938093007, 877.8942052384989, 395.50731415626444, 346.56951361168984, 341.5758604948966, 303.62409680726734, 283.64948434009403, 260.6786800028448, 241.7027981590302, 240.70406753567153, 237.70787566559557, 210.7421488349116, 208.7446875881943, 207.74595696483564, 199.75611197796633, 198.75738135460767, 197.758650731249, 197.758650731249, 168.79546265384775, 164.80054016041308, 163.80180953705442, 157.80942579690242, 154.81323392682646, 153.81450330346777, 150.81831143339178, 149.81958081003313, 141.82973582316382, 136.8360827063705, 132.84116021293585, 132.84116021293585, 130.8436989662185, 700.1201542806568, 602.2445531915077, 596.2521694513558, 305.62155805398464, 462.42226592129487, 590.2597857112039, 403.49715914313373, 415.48192662343763, 504.3689521023587, 305.62155805398464, 1106.603517987633, 636.2013943857024, 203.75103447140097, 296.63298244375665, 632.2064718922677, 411.487004130003, 517.3524502060213, 298.630443690474, 321.6012480277233, 273.66217810650744, 326.5949011445166, 438.4527309606869, 505.36768272571743, 403.49715914313373, 301.62663556054997, 368.5415873255805, 425.4692328570243, 684.1404643069181, 360.55174233871116, 393.5098529095471, 419.47684911687236, 344.57205236497254, 318.6050561576473, 358.55428109199386, 295.6310888943113, 221.72581347057886, 172.7885365008101, 134.83717885078534, 118.8576598402486, 118.8576598402486, 113.86406014945587, 105.8743006441875, 99.88198101523622, 99.88198101523622, 99.88198101523622, 98.88326107707768, 95.88710126260203, 93.88966138628494, 93.88966138628494, 92.8909414481264, 86.89862181917512, 84.90118194285803, 76.91142243758966, 75.91270249943112, 72.91654268495547, 70.91910280863837, 67.92294299416274, 66.92422305600418, 66.92422305600418, 66.92422305600418, 64.92678317968709, 63.928063241528555, 58.93446355073581, 54.93958379810163, 351.5594054311899, 177.7821361916028, 189.76677544950536, 102.87814082971185, 118.8576598402486, 220.7270935324203, 228.71685303768868, 100.88070095339476, 106.87302058234604, 146.82181810868786, 126.84741934551698, 133.8384589126268, 172.7885365008101, 237.7053324811156, 198.7552548929323, 335.5798864206531, 358.55044499829967, 260.67589105876215, 533.3264341760453, 134.83717885078534, 325.59268703906764, 259.67717112060365, 640.1894675590097, 649.1779470024367, 181.777015944237, 299.62596864694547, 395.50308271016587, 318.60164747195785, 330.5862867298604, 184.77317575871265, 439.446759989142, 273.65925025482323, 229.71557297584724, 244.69637204822538, 253.68485149165235, 477.3981176391667, 478.39683757732524, 256.68101130612797, 248.69125180085962, 323.5952471627506, 292.6349290798356, 229.71557297584724, 248.69125180085962, 241.70021223374977, 235.7078926047985, 230.71429291400577, 1152.1061295078694, 1035.299154566213, 750.7693438108967, 485.20818710593454, 429.30057516804777, 407.33687047816375, 398.3517185595748, 383.37646536192653, 353.4259589666301, 322.4771023581571, 294.5232963892137, 241.6107350908566, 232.62558317226765, 231.62723295909112, 208.6651780560305, 173.72292059485127, 165.73611888943887, 150.76086569179063, 143.77241419955482, 141.77571377320172, 141.77571377320172, 139.77901334684861, 134.78726228096588, 97.84830439343357, 89.86150268802118, 80.87635076943224, 59.9109962927247, 49.92749416095921, 46.93244352142956, 46.93244352142956, 520.1504445671137, 1155.101180147399, 860.5878672603169, 248.59918658309246, 419.3170730362823, 343.4424568348646, 879.5565213106713, 1403.6903832283595, 543.1124994701744, 616.990415245239, 494.1933390245235, 328.46720363721636, 296.5199968155668, 743.7808923186607, 586.041558636766, 804.6802553224302, 496.1900394508766, 361.41276067204245, 353.4259589666301, 1294.8702099921159, 1062.2546103219797, 600.0184616212376, 435.2906764471071, 594.0283603421784, 548.1042505360572, 442.2791279393429, 1165.0846822791643, 689.8699808071271, 448.2692292184023, 480.21643604005175, 450.2659296447553, 429.30057516804777, 434.29232623393057], \"Total\": [1447.0, 1555.0, 1152.0, 1172.0, 1317.0, 1035.0, 2870.0, 1205.0, 896.0, 871.0, 866.0, 2112.0, 1539.0, 877.0, 750.0, 785.0, 1408.0, 1689.0, 637.0, 703.0, 614.0, 1510.0, 684.0, 742.0, 908.0, 556.0, 680.0, 523.0, 745.0, 604.0, 264.6926881500386, 225.74673401872354, 186.8007798874085, 152.84789679856974, 134.8728410456551, 125.88531316919777, 119.8936279182262, 114.90055687574993, 110.9061000417689, 109.90748583327364, 105.9130289992926, 101.91857216531157, 98.92272953982581, 96.92550112283529, 96.92550112283529, 95.92688691434005, 95.92688691434005, 94.92827270584478, 92.93104428885425, 92.93104428885425, 90.93381587186374, 90.93381587186374, 88.93658745487323, 88.93658745487323, 83.94351641239693, 79.94905957841591, 76.95321695293015, 75.95460274443488, 75.95460274443488, 74.95598853593962, 702.0865263750052, 196.78715594908732, 735.0447763006932, 458.4258282387942, 332.5993856466233, 739.0433283008836, 437.4585616611483, 331.60393413843065, 333.60116140842166, 240.72734412451328, 928.7985120763566, 250.71442441036973, 264.6943798246512, 355.5733664481684, 1001.7018418345028, 164.83190167849256, 692.1198653240081, 278.6779666034973, 298.6509301861815, 293.65858359128373, 1651.876403858838, 338.59832876410655, 842.9198601025661, 954.7998583397015, 352.58847611051874, 863.890844560468, 684.1404784373386, 272.68721381843244, 1065.6578777090024, 584.265300119671, 682.122458653974, 594.2802434714104, 1754.8240007253205, 442.4777934786672, 481.42568163177305, 544.3666183761494, 971.8508248366019, 885.9697752357084, 512.394192370977, 922.8316063389196, 1642.0857965503353, 1039.7380986071512, 505.4771046208803, 285.7305038721477, 244.77772827806575, 210.81688998053434, 165.86872164556632, 126.91364242192732, 125.9147942367058, 122.91824968104127, 121.91940149581976, 115.92631238449069, 97.94704505050346, 97.94704505050346, 96.94819686528196, 96.94819686528196, 93.95165230961743, 91.9539559391744, 91.9539559391744, 90.95510775395289, 89.95625956873138, 89.95625956873138, 80.96662590173777, 76.97123316085172, 75.9723849756302, 67.98159949385813, 64.98505493819358, 64.98505493819358, 62.98735856775056, 61.98851038252905, 59.99081401208602, 58.99196582686451, 222.80293995612953, 369.6332384425029, 153.88230944618192, 745.2037040143307, 378.61940132138864, 254.76372027005604, 372.62745824711175, 303.7037955415954, 544.4304928015623, 208.81755577300757, 282.7269877078537, 284.72608815716234, 549.429576028833, 292.7254761089859, 801.1423400743638, 193.8345990179586, 887.9987926103765, 498.4657564646041, 1045.8564534239395, 227.79398842033314, 429.5515398473752, 861.0436644282504, 479.50093054909433, 337.6612504346162, 349.64649275036936, 534.420538296405, 1689.1985513169318, 767.1133478954639, 495.47130941516485, 1642.0857965503353, 1408.3298335888328, 506.47349710920435, 718.1747717950119, 1039.7380986071512, 503.4422059509629, 641.2763797889803, 385.61193447758825, 1510.0748597963866, 2112.7711010753787, 1476.3518501096148, 1754.8240007253205, 807.1386230005548, 1013.9172737659613, 1935.866144685103, 433.6375155252146, 248.81757396786998, 176.88765076717368, 142.92074258906712, 115.947021388806, 101.96064743311504, 94.96746045526957, 85.97622005518254, 78.98303307733707, 75.98595294397472, 75.98595294397472, 75.98595294397472, 69.99179267725003, 68.99276596612924, 68.99276596612924, 67.99373925500846, 67.99373925500846, 65.99568583276691, 64.99665912164612, 62.99860569940455, 62.99860569940455, 62.99860569940455, 59.00249885492142, 59.00249885492142, 58.003472143800636, 58.003472143800636, 56.005418721559074, 56.005418721559074, 54.00736529931751, 54.00736529931751, 99.96229792311136, 141.92047837006976, 117.94471775924902, 233.82846077742852, 176.88611165832555, 98.96274229450164, 229.83029141981774, 220.8382260144797, 905.1295192985137, 121.93911914240306, 87.97344847217305, 411.6377536293778, 101.95942034126611, 112.94804831400754, 404.63679235968266, 298.756215584138, 930.0997123562172, 1309.6633420006806, 163.89508838224552, 508.5374681365124, 389.6616248955355, 683.3426532580861, 237.81918482704353, 139.91871242419845, 227.82539367877138, 2112.7711010753787, 235.81675614230184, 443.58903378545256, 657.2855451812479, 195.86213005945623, 375.6483923638067, 1095.861458089425, 1935.866144685103, 805.1866321706011, 735.266090402303, 2870.2513553694116, 684.3152778152848, 722.2264002294917, 1476.3518501096148, 1689.1985513169318, 1202.6811290477826, 581.3808555543221, 1534.1785947907642, 1013.9172737659613, 535.4705557904716, 885.9697752357084, 1642.0857965503353, 1278.3748436021774, 877.9441408310606, 395.5572497488262, 346.6194492042516, 341.62579608745835, 303.6740323998291, 283.6994199326558, 260.7286155954066, 241.75273375159193, 240.75400312823325, 237.7578112581573, 210.79208442747333, 208.79462318075602, 207.79589255739737, 199.80604757052805, 198.8073169471694, 197.80858632381072, 197.80858632381072, 168.84539824640947, 164.8504757529748, 163.85174512961615, 157.85936138946414, 154.86316951938818, 153.8644388960295, 150.8682470259535, 149.86951640259485, 141.87967141572554, 136.8860182989322, 132.89109580549757, 132.89109580549757, 130.89363455878024, 703.1659324987044, 604.29171720106, 598.2993334609081, 307.6687220635369, 469.4625009733234, 603.291706014204, 413.5332368206481, 426.5177815357434, 524.3994219173361, 312.6617931060132, 1205.5162602212251, 682.1927310570236, 205.79840994027978, 306.6664201680839, 690.1950066983285, 445.50384790067136, 578.3178525167938, 314.65398269386054, 344.61931041567595, 285.6954842010123, 351.6101919494598, 497.4310360525459, 592.3102545413833, 452.4791909519631, 320.65436614077686, 430.50750697878743, 554.3478263927336, 1539.856971665337, 505.4400300727864, 891.9572318560154, 1534.1785947907642, 631.2997235127854, 443.4817678121163, 2870.2513553694116, 295.681024593725, 221.7757491699926, 172.83847220022383, 134.88711455019907, 118.90759553966232, 118.90759553966232, 113.91399584886959, 105.92423634360122, 99.93191671464994, 99.93191671464994, 99.93191671464994, 98.9331967764914, 95.93703696201575, 93.93959708569867, 93.93959708569867, 92.94087714754012, 86.94855751858884, 84.95111764227175, 76.96135813700339, 75.96263819884484, 72.9664783843692, 70.9690385080521, 67.97287869357646, 66.9741587554179, 66.9741587554179, 66.9741587554179, 64.97671887910082, 63.977998940942285, 58.98439925014954, 54.98951949751536, 355.60379796458466, 178.83109860213733, 192.81255377440488, 103.92669073762083, 120.90429596601543, 235.75975201015672, 257.7266007834649, 104.92674349729161, 111.91602732423605, 159.85678021598125, 135.88698871192432, 145.8731620923445, 197.79722752963755, 289.6913534119291, 234.75824756782586, 441.5175784411082, 483.4380997567808, 350.61314442765644, 940.9162483702955, 151.86553514729636, 502.4557114831196, 382.60739228787355, 1408.3298335888328, 1510.0748597963866, 244.7476019875446, 563.4002761930685, 908.7364002211584, 642.3204140997162, 684.2132416854092, 258.7328974440686, 1201.5270465405795, 546.4156686455547, 399.524958293984, 456.49272136114246, 499.45144075555805, 1935.866144685103, 2112.7711010753787, 554.4038536838552, 510.43543442396316, 1278.3748436021774, 1095.861458089425, 416.55929041590264, 933.6874050747201, 1013.9172737659613, 807.1386230005548, 1202.6811290477826, 1152.156068904533, 1035.3490939628766, 750.8192832075603, 485.2581265025981, 429.3505145647113, 407.3868098748273, 398.40165795623835, 383.4264047585901, 353.47589836329365, 322.52704175482063, 294.5732357858773, 241.66067448752014, 232.6755225689312, 231.67717235575466, 208.71511745269405, 173.77285999151482, 165.78605828610242, 150.81080508845417, 143.82235359621836, 141.82565316986526, 141.82565316986526, 139.82895274351216, 134.83720167762942, 97.89824379009711, 89.91144208468472, 80.92629016609578, 59.96093568938824, 49.97743355762276, 46.98238291809311, 46.98238291809311, 523.1965437782529, 1172.1327329953424, 871.6250191325543, 249.64784591791457, 423.3619349263805, 346.48894078719263, 896.5846996560301, 1447.6896427747695, 556.1457980628991, 637.0208888643182, 507.2306256657572, 334.50882828485146, 302.56302532355943, 785.7794333342375, 614.0592472196319, 866.6633805987998, 527.2098068922844, 374.4473825234171, 366.4623252889771, 1555.618461577626, 1317.9666334177195, 684.9730312755502, 472.2977635732409, 742.8934698893618, 680.9820385738682, 522.246562552288, 2870.2513553694116, 1539.856971665337, 611.1276948386168, 933.6874050747201, 908.7364002211584, 859.8206228744043, 1278.3748436021774], \"Category\": [\"Default\", \"Default\", \"Default\", \"Default\", \"Default\", \"Default\", \"Default\", \"Default\", \"Default\", \"Default\", \"Default\", \"Default\", \"Default\", \"Default\", \"Default\", \"Default\", \"Default\", \"Default\", \"Default\", \"Default\", \"Default\", \"Default\", \"Default\", \"Default\", \"Default\", \"Default\", \"Default\", \"Default\", \"Default\", \"Default\", \"Topic1\", \"Topic1\", \"Topic1\", \"Topic1\", \"Topic1\", \"Topic1\", \"Topic1\", \"Topic1\", \"Topic1\", \"Topic1\", \"Topic1\", \"Topic1\", \"Topic1\", \"Topic1\", \"Topic1\", \"Topic1\", \"Topic1\", \"Topic1\", \"Topic1\", \"Topic1\", \"Topic1\", \"Topic1\", \"Topic1\", \"Topic1\", \"Topic1\", \"Topic1\", \"Topic1\", \"Topic1\", \"Topic1\", \"Topic1\", \"Topic1\", \"Topic1\", \"Topic1\", \"Topic1\", \"Topic1\", \"Topic1\", \"Topic1\", \"Topic1\", \"Topic1\", \"Topic1\", \"Topic1\", \"Topic1\", \"Topic1\", \"Topic1\", \"Topic1\", \"Topic1\", \"Topic1\", \"Topic1\", \"Topic1\", \"Topic1\", \"Topic1\", \"Topic1\", \"Topic1\", \"Topic1\", \"Topic1\", \"Topic1\", \"Topic1\", \"Topic1\", \"Topic1\", \"Topic1\", \"Topic1\", \"Topic1\", \"Topic1\", \"Topic1\", \"Topic1\", \"Topic1\", \"Topic1\", \"Topic1\", \"Topic1\", \"Topic1\", \"Topic1\", \"Topic1\", \"Topic2\", \"Topic2\", \"Topic2\", \"Topic2\", \"Topic2\", \"Topic2\", \"Topic2\", \"Topic2\", \"Topic2\", \"Topic2\", \"Topic2\", \"Topic2\", \"Topic2\", \"Topic2\", \"Topic2\", \"Topic2\", \"Topic2\", \"Topic2\", \"Topic2\", \"Topic2\", \"Topic2\", \"Topic2\", \"Topic2\", \"Topic2\", \"Topic2\", \"Topic2\", \"Topic2\", \"Topic2\", \"Topic2\", \"Topic2\", \"Topic2\", \"Topic2\", \"Topic2\", \"Topic2\", \"Topic2\", \"Topic2\", \"Topic2\", \"Topic2\", \"Topic2\", \"Topic2\", \"Topic2\", \"Topic2\", \"Topic2\", \"Topic2\", \"Topic2\", \"Topic2\", \"Topic2\", \"Topic2\", \"Topic2\", \"Topic2\", \"Topic2\", \"Topic2\", \"Topic2\", \"Topic2\", \"Topic2\", \"Topic2\", \"Topic2\", \"Topic2\", \"Topic2\", \"Topic2\", \"Topic2\", \"Topic2\", \"Topic2\", \"Topic2\", \"Topic2\", \"Topic2\", \"Topic2\", \"Topic2\", \"Topic2\", \"Topic2\", \"Topic2\", \"Topic2\", \"Topic2\", \"Topic2\", \"Topic3\", \"Topic3\", \"Topic3\", \"Topic3\", \"Topic3\", \"Topic3\", \"Topic3\", \"Topic3\", \"Topic3\", \"Topic3\", \"Topic3\", \"Topic3\", \"Topic3\", \"Topic3\", \"Topic3\", \"Topic3\", \"Topic3\", \"Topic3\", \"Topic3\", \"Topic3\", \"Topic3\", \"Topic3\", \"Topic3\", \"Topic3\", \"Topic3\", \"Topic3\", \"Topic3\", \"Topic3\", \"Topic3\", \"Topic3\", \"Topic3\", \"Topic3\", \"Topic3\", \"Topic3\", \"Topic3\", \"Topic3\", \"Topic3\", \"Topic3\", \"Topic3\", \"Topic3\", \"Topic3\", \"Topic3\", \"Topic3\", \"Topic3\", \"Topic3\", \"Topic3\", \"Topic3\", \"Topic3\", \"Topic3\", \"Topic3\", \"Topic3\", \"Topic3\", \"Topic3\", \"Topic3\", \"Topic3\", \"Topic3\", \"Topic3\", \"Topic3\", \"Topic3\", \"Topic3\", \"Topic3\", \"Topic3\", \"Topic3\", \"Topic3\", \"Topic3\", \"Topic3\", \"Topic3\", \"Topic3\", \"Topic3\", \"Topic3\", \"Topic3\", \"Topic3\", \"Topic3\", \"Topic3\", \"Topic3\", \"Topic3\", \"Topic3\", \"Topic3\", \"Topic4\", \"Topic4\", \"Topic4\", \"Topic4\", \"Topic4\", \"Topic4\", \"Topic4\", \"Topic4\", \"Topic4\", \"Topic4\", \"Topic4\", \"Topic4\", \"Topic4\", \"Topic4\", \"Topic4\", \"Topic4\", \"Topic4\", \"Topic4\", \"Topic4\", \"Topic4\", \"Topic4\", \"Topic4\", \"Topic4\", \"Topic4\", \"Topic4\", \"Topic4\", \"Topic4\", \"Topic4\", \"Topic4\", \"Topic4\", \"Topic4\", \"Topic4\", \"Topic4\", \"Topic4\", \"Topic4\", \"Topic4\", \"Topic4\", \"Topic4\", \"Topic4\", \"Topic4\", \"Topic4\", \"Topic4\", \"Topic4\", \"Topic4\", \"Topic4\", \"Topic4\", \"Topic4\", \"Topic4\", \"Topic4\", \"Topic4\", \"Topic4\", \"Topic4\", \"Topic4\", \"Topic4\", \"Topic4\", \"Topic4\", \"Topic4\", \"Topic4\", \"Topic4\", \"Topic4\", \"Topic4\", \"Topic4\", \"Topic4\", \"Topic4\", \"Topic5\", \"Topic5\", \"Topic5\", \"Topic5\", \"Topic5\", \"Topic5\", \"Topic5\", \"Topic5\", \"Topic5\", \"Topic5\", \"Topic5\", \"Topic5\", \"Topic5\", \"Topic5\", \"Topic5\", \"Topic5\", \"Topic5\", \"Topic5\", \"Topic5\", \"Topic5\", \"Topic5\", \"Topic5\", \"Topic5\", \"Topic5\", \"Topic5\", \"Topic5\", \"Topic5\", \"Topic5\", \"Topic5\", \"Topic5\", \"Topic5\", \"Topic5\", \"Topic5\", \"Topic5\", \"Topic5\", \"Topic5\", \"Topic5\", \"Topic5\", \"Topic5\", \"Topic5\", \"Topic5\", \"Topic5\", \"Topic5\", \"Topic5\", \"Topic5\", \"Topic5\", \"Topic5\", \"Topic5\", \"Topic5\", \"Topic5\", \"Topic5\", \"Topic5\", \"Topic5\", \"Topic5\", \"Topic5\", \"Topic5\", \"Topic5\", \"Topic5\", \"Topic5\", \"Topic5\", \"Topic5\", \"Topic5\", \"Topic5\", \"Topic5\", \"Topic5\", \"Topic5\", \"Topic5\", \"Topic5\", \"Topic5\", \"Topic5\", \"Topic5\", \"Topic5\", \"Topic5\", \"Topic5\", \"Topic5\", \"Topic5\", \"Topic6\", \"Topic6\", \"Topic6\", \"Topic6\", \"Topic6\", \"Topic6\", \"Topic6\", \"Topic6\", \"Topic6\", \"Topic6\", \"Topic6\", \"Topic6\", \"Topic6\", \"Topic6\", \"Topic6\", \"Topic6\", \"Topic6\", \"Topic6\", \"Topic6\", \"Topic6\", \"Topic6\", \"Topic6\", \"Topic6\", \"Topic6\", \"Topic6\", \"Topic6\", \"Topic6\", \"Topic6\", \"Topic6\", \"Topic6\", \"Topic6\", \"Topic6\", \"Topic6\", \"Topic6\", \"Topic6\", \"Topic6\", \"Topic6\", \"Topic6\", \"Topic6\", \"Topic6\", \"Topic6\", \"Topic6\", \"Topic6\", \"Topic6\", \"Topic6\", \"Topic6\", \"Topic6\", \"Topic6\", \"Topic6\", \"Topic6\", \"Topic6\", \"Topic6\", \"Topic6\", \"Topic6\", \"Topic6\", \"Topic6\", \"Topic6\", \"Topic6\", \"Topic6\", \"Topic6\", \"Topic6\", \"Topic6\", \"Topic6\"], \"logprob\": [30.0, 29.0, 28.0, 27.0, 26.0, 25.0, 24.0, 23.0, 22.0, 21.0, 20.0, 19.0, 18.0, 17.0, 16.0, 15.0, 14.0, 13.0, 12.0, 11.0, 10.0, 9.0, 8.0, 7.0, 6.0, 5.0, 4.0, 3.0, 2.0, 1.0, -6.1356, -6.2948, -6.4842, -6.6848, -6.81, -6.879, -6.9278, -6.9703, -7.0057, -7.0148, -7.0518, -7.0903, -7.1201, -7.1405, -7.1405, -7.1509, -7.1509, -7.1614, -7.1826, -7.1826, -7.2044, -7.2044, -7.2266, -7.2266, -7.2844, -7.3332, -7.3714, -7.3845, -7.3845, -7.3977, -5.17, -6.4372, -5.143, -5.615, -5.9315, -5.1614, -5.6894, -5.9659, -5.9627, -6.2816, -5.0146, -6.2472, -6.1978, -5.9253, -4.9677, -6.6464, -5.3151, -6.1585, -6.0985, -6.1243, -4.5709, -5.9983, -5.1874, -5.0781, -5.9787, -5.2155, -5.4237, -6.21, -5.1087, -5.6128, -5.5067, -5.6539, -4.9388, -5.8864, -5.8376, -5.7699, -5.4519, -5.5668, -5.8432, -5.5863, -5.5863, -5.8209, -5.2052, -5.7758, -5.9305, -6.0799, -6.3197, -6.5875, -6.5954, -6.6195, -6.6277, -6.6781, -6.8467, -6.8467, -6.857, -6.857, -6.8884, -6.9099, -6.9099, -6.9208, -6.9319, -6.9319, -7.0372, -7.0878, -7.1009, -7.2121, -7.2572, -7.2572, -7.2885, -7.3045, -7.3373, -7.3541, -6.0291, -5.5291, -6.4013, -4.8401, -5.5156, -5.9103, -5.5401, -5.755, -5.1993, -6.1235, -5.837, -5.8333, -5.2172, -5.8113, -4.8679, -6.206, -4.7932, -5.345, -4.6737, -6.0751, -5.5075, -4.8893, -5.4205, -5.7347, -5.7082, -5.3541, -4.5101, -5.1857, -5.5429, -4.7699, -4.8922, -5.554, -5.3587, -5.1646, -5.5882, -5.4942, -5.7246, -5.327, -5.2854, -5.4503, -5.4205, -5.5738, -5.5456, -5.4707, -5.2686, -5.8241, -6.1654, -6.3787, -6.588, -6.7166, -6.7877, -6.8872, -6.9721, -7.0108, -7.0108, -7.0108, -7.093, -7.1074, -7.1074, -7.122, -7.122, -7.1518, -7.1671, -7.1983, -7.1983, -7.1983, -7.2639, -7.2639, -7.281, -7.281, -7.3161, -7.3161, -7.3525, -7.3525, -6.7464, -6.4071, -6.588, -5.9255, -6.1999, -6.7668, -5.9663, -6.0186, -4.7044, -6.5794, -6.8872, -5.4639, -6.7566, -6.6687, -5.5365, -5.8082, -4.8137, -4.5403, -6.3511, -5.3884, -5.618, -5.1411, -6.0383, -6.4895, -6.0893, -4.2777, -6.0841, -5.6018, -5.3037, -6.2356, -5.7581, -4.9873, -4.5976, -5.2324, -5.3157, -4.4705, -5.4094, -5.4041, -5.0669, -5.0083, -5.2061, -5.6083, -5.1554, -5.4014, -5.6926, -5.5486, -5.6312, -5.7068, -4.3948, -5.1921, -5.3242, -5.3387, -5.4565, -5.5245, -5.609, -5.6846, -5.6887, -5.7012, -5.8217, -5.8312, -5.836, -5.8752, -5.8802, -5.8852, -5.8852, -6.0436, -6.0676, -6.0736, -6.1109, -6.1301, -6.1365, -6.1562, -6.1629, -6.2177, -6.2535, -6.2831, -6.2831, -6.2983, -4.621, -4.7716, -4.7816, -5.4499, -5.0358, -4.7917, -5.1721, -5.1428, -4.949, -5.4499, -4.1632, -4.7168, -5.8554, -5.4798, -4.7231, -5.1525, -4.9236, -5.4731, -5.399, -5.5604, -5.3836, -5.089, -4.947, -5.1721, -5.4631, -5.2627, -5.1191, -4.6441, -5.2847, -5.1972, -5.1333, -5.33, -5.4083, -5.2902, -5.3398, -5.6275, -5.8769, -6.1249, -6.251, -6.251, -6.2939, -6.3667, -6.4249, -6.4249, -6.4249, -6.435, -6.4657, -6.4868, -6.4868, -6.4975, -6.5642, -6.5874, -6.6863, -6.6993, -6.7396, -6.7674, -6.8105, -6.8254, -6.8254, -6.8254, -6.8557, -6.8712, -6.9525, -7.0227, -5.1665, -5.8484, -5.7831, -6.3954, -6.251, -5.632, -5.5964, -6.415, -6.3573, -6.0397, -6.1859, -6.1323, -5.8769, -5.5579, -5.7368, -5.2131, -5.1469, -5.4656, -4.7498, -6.1249, -5.2433, -5.4695, -4.5672, -4.5532, -5.8261, -5.3264, -5.0488, -5.265, -5.2281, -5.8098, -4.9434, -5.417, -5.5921, -5.5289, -5.4928, -4.8606, -4.8585, -5.4811, -5.5127, -5.2494, -5.35, -5.5921, -5.5127, -5.5412, -5.5663, -5.5877, -3.799, -3.9059, -4.2272, -4.6637, -4.7862, -4.8387, -4.861, -4.8993, -4.9807, -5.0723, -5.163, -5.361, -5.3989, -5.4032, -5.5076, -5.6909, -5.7379, -5.8326, -5.8801, -5.8941, -5.8941, -5.9083, -5.9446, -6.2649, -6.3501, -6.4554, -6.7555, -6.9378, -6.9996, -6.9996, -4.5942, -3.7964, -4.0907, -5.3325, -4.8097, -5.0093, -4.0689, -3.6015, -4.551, -4.4235, -4.6454, -5.0539, -5.1562, -4.2366, -4.4749, -4.1579, -4.6414, -4.9583, -4.9807, -3.6822, -3.8802, -4.4514, -4.7723, -4.4614, -4.5419, -4.7564, -3.7878, -4.3118, -4.7429, -4.6741, -4.7385, -4.7862, -4.7746], \"loglift\": [30.0, 29.0, 28.0, 27.0, 26.0, 25.0, 24.0, 23.0, 22.0, 21.0, 20.0, 19.0, 18.0, 17.0, 16.0, 15.0, 14.0, 13.0, 12.0, 11.0, 10.0, 9.0, 8.0, 7.0, 6.0, 5.0, 4.0, 3.0, 2.0, 1.0, 1.3731, 1.3731, 1.373, 1.373, 1.3729, 1.3729, 1.3729, 1.3729, 1.3729, 1.3729, 1.3728, 1.3728, 1.3728, 1.3728, 1.3728, 1.3728, 1.3728, 1.3728, 1.3728, 1.3728, 1.3728, 1.3728, 1.3727, 1.3727, 1.3727, 1.3727, 1.3727, 1.3727, 1.3727, 1.3726, 1.3632, 1.368, 1.3443, 1.3445, 1.3488, 1.3205, 1.3168, 1.3174, 1.3146, 1.322, 1.2388, 1.3157, 1.3108, 1.2882, 1.2101, 1.336, 1.2324, 1.2987, 1.2895, 1.2805, 1.1067, 1.2642, 1.163, 1.1477, 1.2432, 1.1103, 1.1353, 1.269, 1.0072, 1.1041, 1.0553, 1.0461, 0.6783, 1.1085, 1.0729, 1.0177, 0.7561, 0.7337, 1.005, 0.6735, 0.0973, 0.3196, 1.6565, 1.6565, 1.6564, 1.6564, 1.6563, 1.6562, 1.6562, 1.6562, 1.6562, 1.6562, 1.6561, 1.6561, 1.6561, 1.6561, 1.6561, 1.6561, 1.6561, 1.6561, 1.6561, 1.6561, 1.656, 1.656, 1.656, 1.6559, 1.6559, 1.6559, 1.6558, 1.6558, 1.6558, 1.6558, 1.6519, 1.6456, 1.6498, 1.6335, 1.6352, 1.6366, 1.6266, 1.6162, 1.5882, 1.6223, 1.6057, 1.6024, 1.5612, 1.5967, 1.5333, 1.6143, 1.5051, 1.5307, 1.461, 1.5837, 1.517, 1.4398, 1.494, 1.5306, 1.5222, 1.452, 1.1451, 1.259, 1.3389, 0.9136, 0.9449, 1.3058, 1.1518, 0.976, 1.2776, 1.1296, 1.4078, 0.4404, 0.1461, 0.3396, 0.1966, 0.8199, 0.62, 0.0482, 1.7465, 1.7464, 1.7463, 1.7462, 1.7462, 1.7461, 1.7461, 1.746, 1.746, 1.7459, 1.7459, 1.7459, 1.7459, 1.7459, 1.7459, 1.7459, 1.7459, 1.7458, 1.7458, 1.7458, 1.7458, 1.7458, 1.7457, 1.7457, 1.7457, 1.7457, 1.7457, 1.7457, 1.7457, 1.7457, 1.736, 1.7249, 1.7291, 1.7072, 1.7118, 1.7257, 1.6836, 1.6712, 1.5748, 1.7044, 1.723, 1.6032, 1.7061, 1.6916, 1.5478, 1.5794, 1.4383, 1.3694, 1.6369, 1.4673, 1.504, 1.4192, 1.5775, 1.6567, 1.5694, 1.1538, 1.5401, 1.3905, 1.2954, 1.5742, 1.4005, 1.1007, 0.9214, 1.1638, 1.1713, 0.6546, 1.1495, 1.1008, 0.7231, 0.6469, 0.7889, 1.1136, 0.5961, 0.7642, 1.1115, 0.752, 0.0524, 0.2271, 1.9149, 1.9148, 1.9148, 1.9148, 1.9148, 1.9148, 1.9148, 1.9148, 1.9148, 1.9148, 1.9147, 1.9147, 1.9147, 1.9147, 1.9147, 1.9147, 1.9147, 1.9147, 1.9147, 1.9147, 1.9147, 1.9146, 1.9146, 1.9146, 1.9146, 1.9146, 1.9146, 1.9146, 1.9146, 1.9146, 1.9106, 1.9116, 1.9115, 1.9083, 1.8999, 1.8931, 1.8904, 1.8888, 1.876, 1.8922, 1.8294, 1.8452, 1.905, 1.8817, 1.8272, 1.8355, 1.8036, 1.8627, 1.8458, 1.8719, 1.8412, 1.7888, 1.7562, 1.8004, 1.8538, 1.7596, 1.6504, 1.1037, 1.5772, 1.0967, 0.6182, 1.3095, 1.5843, -0.1651, 2.0582, 2.0581, 2.058, 2.058, 2.0579, 2.0579, 2.0579, 2.0579, 2.0578, 2.0578, 2.0578, 2.0578, 2.0578, 2.0578, 2.0578, 2.0578, 2.0578, 2.0577, 2.0577, 2.0577, 2.0577, 2.0576, 2.0576, 2.0576, 2.0576, 2.0576, 2.0576, 2.0576, 2.0575, 2.0574, 2.0469, 2.0525, 2.0424, 2.0482, 2.0413, 1.9925, 1.9389, 2.019, 2.0122, 1.9733, 1.9895, 1.9722, 1.9232, 1.8606, 1.8919, 1.784, 1.7595, 1.7619, 1.4906, 1.9394, 1.6245, 1.6708, 1.2699, 1.2141, 1.7609, 1.4269, 1.2264, 1.3572, 1.3309, 1.7217, 1.0525, 1.3668, 1.5049, 1.4348, 1.3809, 0.6584, 0.573, 1.2883, 1.3393, 0.6845, 0.738, 1.4632, 0.7354, 0.6245, 0.8274, 0.4072, 2.2389, 2.2389, 2.2389, 2.2388, 2.2388, 2.2388, 2.2388, 2.2388, 2.2388, 2.2388, 2.2388, 2.2387, 2.2387, 2.2387, 2.2387, 2.2386, 2.2386, 2.2386, 2.2386, 2.2386, 2.2386, 2.2386, 2.2386, 2.2384, 2.2384, 2.2383, 2.2381, 2.2379, 2.2379, 2.2379, 2.2331, 2.2243, 2.2262, 2.2347, 2.2293, 2.2301, 2.2198, 2.2081, 2.2152, 2.207, 2.2129, 2.2207, 2.2188, 2.184, 2.1922, 2.1647, 2.1783, 2.2035, 2.2027, 2.0555, 2.0232, 2.1065, 2.1573, 2.0153, 2.0219, 2.0727, 1.3373, 1.436, 1.929, 1.574, 1.5367, 1.5444, 1.1593]}, \"token.table\": {\"Topic\": [1, 2, 6, 1, 2, 1, 2, 3, 2, 1, 2, 3, 1, 4, 1, 2, 1, 5, 4, 4, 1, 1, 2, 4, 5, 1, 3, 4, 5, 1, 3, 4, 5, 5, 1, 2, 3, 3, 6, 4, 5, 5, 1, 3, 3, 5, 3, 1, 2, 5, 6, 6, 5, 1, 1, 4, 2, 3, 5, 1, 5, 2, 1, 3, 4, 5, 6, 2, 2, 4, 2, 6, 1, 2, 3, 4, 6, 2, 3, 5, 6, 3, 1, 4, 5, 2, 4, 6, 6, 5, 6, 4, 4, 1, 2, 3, 4, 5, 6, 2, 3, 5, 1, 2, 3, 4, 5, 6, 4, 6, 6, 1, 4, 1, 3, 5, 6, 1, 2, 3, 3, 2, 5, 1, 2, 5, 2, 1, 2, 3, 2, 4, 6, 1, 2, 6, 1, 1, 2, 6, 1, 2, 2, 3, 5, 2, 3, 5, 1, 2, 3, 5, 6, 1, 2, 4, 4, 1, 2, 3, 4, 5, 2, 5, 1, 2, 5, 2, 3, 5, 2, 4, 1, 3, 4, 6, 1, 5, 1, 4, 5, 1, 2, 3, 4, 5, 4, 5, 2, 2, 3, 6, 1, 3, 1, 2, 4, 5, 1, 3, 4, 1, 3, 4, 2, 6, 1, 2, 3, 2, 3, 6, 3, 5, 6, 5, 4, 6, 1, 5, 6, 3, 2, 5, 4, 5, 5, 1, 4, 2, 3, 1, 2, 1, 2, 4, 6, 1, 3, 4, 1, 4, 1, 2, 4, 3, 1, 3, 5, 1, 4, 6, 5, 3, 1, 4, 1, 4, 3, 1, 2, 3, 2, 3, 4, 6, 1, 1, 2, 4, 2, 3, 6, 1, 2, 5, 1, 4, 1, 3, 4, 2, 3, 1, 5, 2, 1, 3, 5, 1, 2, 3, 4, 6, 3, 1, 2, 3, 5, 6, 1, 4, 6, 1, 5, 1, 2, 3, 4, 6, 2, 5, 2, 3, 5, 6, 3, 1, 2, 4, 1, 1, 4, 1, 4, 4, 1, 1, 2, 2, 6, 5, 1, 2, 3, 5, 1, 2, 3, 5, 6, 1, 2, 3, 4, 5, 6, 2, 3, 6, 2, 2, 2, 3, 5, 2, 3, 5, 2, 3, 1, 4, 5, 1, 2, 5, 6, 6, 3, 6, 1, 3, 2, 5, 4, 6, 1, 2, 3, 4, 6, 1, 3, 4, 1, 2, 3, 4, 5, 6, 3, 5, 1, 2, 5, 6, 6, 6, 6, 1, 4, 6, 4, 4, 6, 4, 5, 4, 1, 3, 3, 3, 1, 2, 4, 1, 4, 5, 2, 1, 6, 1, 3, 4, 1, 2, 4, 6, 1, 2, 3, 5, 6, 2, 3, 5, 1, 4, 6, 1, 4, 4, 3, 5, 6, 3, 5, 6, 2, 5, 6, 1, 2, 4, 6, 6, 3, 5, 2, 5, 6, 3, 6, 1, 3, 4, 6, 1, 2, 1, 5, 1, 3, 2, 6, 3, 6, 6, 5, 2, 5, 6, 5, 6, 6, 3, 5, 6, 1, 4, 4, 1, 4, 1, 2, 5, 6, 1, 2, 3, 1, 2, 6, 1, 1, 2, 3, 5, 2, 3, 4, 5, 5, 3, 3, 1, 2, 6, 1, 4, 1, 2, 3, 4, 5, 2, 3, 5, 2, 4, 6, 2, 3, 3, 5, 6, 2, 1, 2, 3, 4, 5, 6, 1, 2, 3, 4, 1, 2, 3, 4, 5, 6, 1, 2, 5, 1, 1, 2, 5, 1, 2, 2, 3, 4, 5, 2, 3, 4, 5, 1, 3, 4, 1, 2, 4, 5, 6, 3, 3, 1, 3, 6, 5, 6, 2, 6, 1, 2, 3, 3, 4, 1, 5, 6, 6, 4, 3, 2, 3, 5, 1, 2, 3, 5, 1, 2, 2, 1, 3, 4, 2, 3, 5, 6, 1, 2, 5, 6, 1, 2, 2, 5, 6, 2, 6, 1, 2, 3, 6, 1, 2, 5, 6, 5, 1, 6, 5, 5, 1, 2, 3, 4, 6, 2, 3, 1, 2, 5, 5, 6, 1, 5, 3, 2, 3, 4, 5, 6, 3, 3, 5, 1, 3, 4, 5, 3, 4, 1, 2, 6, 1, 5, 3, 5, 2, 3, 5, 5, 2, 3, 5, 4, 1, 2, 3, 1, 2, 3, 6, 3, 1, 3, 1, 2, 1, 1, 5, 6, 1, 3, 1, 1, 2, 4, 2, 5, 6, 1, 2, 4, 3, 5, 1, 2, 5, 6, 1, 3, 4, 5, 6, 1, 2, 3, 6, 1, 2, 6, 2, 2, 4, 5, 4, 1, 2, 2, 5, 1, 1, 2, 3, 4, 5, 1, 2, 1, 3, 4, 5, 2, 1, 2, 2, 6, 2, 6, 6, 1, 4, 5, 3, 2, 3, 6, 1, 2, 3, 5, 6, 1, 2, 3, 1, 3, 4, 5, 6, 1, 2, 3, 2, 2, 3, 4, 5, 6, 4, 1, 4, 5, 4, 5, 2, 5, 3, 3, 1, 2, 3, 4, 5, 1, 2, 3, 4, 2, 6, 1, 3, 1, 4, 2, 3, 4, 5, 6, 1, 4, 1, 3, 4, 2, 1, 2, 4, 2, 5, 1, 2, 2, 5, 1], \"Freq\": [0.868346698470573, 0.1285904428683544, 0.0028896728734461663, 0.9126244386338267, 0.0885381918077593, 0.768400143489669, 0.13560002532170629, 0.09718001814722284, 1.0004121957397945, 0.692825963458574, 0.21858171241509938, 0.08977463188477297, 0.9771515343245479, 0.024052960844911948, 0.8978189618053006, 0.10336731468153132, 0.04467635350845965, 0.9560739650810366, 1.0009070295147298, 1.0008810424614234, 1.0008466617994478, 0.9442413169969496, 0.04796146372047998, 0.008992774447589995, 1.0005916427239194, 0.03451949767303001, 0.03797144744033301, 0.10701044278639303, 0.8215640446181143, 0.05082145595654703, 0.8418684660628007, 0.013257771119099225, 0.0939092120936195, 1.0007771115034183, 0.7415474778785436, 0.20771638035813547, 0.05192909508953387, 0.025629367278320516, 0.9739159565761796, 0.9729957764145921, 0.025790249495326538, 1.0003582994232518, 0.020209625901920058, 0.9801668562431228, 0.8969152245560781, 0.10372488991464848, 1.0000221322453087, 0.03905335148645119, 0.4906521068570504, 0.4544389991150684, 0.015621340594580476, 0.9994680635140343, 1.0006812967026788, 1.0008872204771913, 0.2818605161981698, 0.7193080373377294, 0.141148105140569, 0.7852967304184384, 0.07442354634684546, 0.011248473787106089, 0.9898656932653358, 1.0003737349392359, 0.024633512110147165, 0.009639200390927152, 0.18528685195893302, 0.2666845441489845, 0.5140906875161148, 1.0009080553345187, 1.0008685737631484, 1.0010186363197118, 0.9813014181728608, 0.019626028363457216, 0.4962985628732298, 0.17554665324336952, 0.13328542190700277, 0.031425018173195776, 0.16362681876388147, 0.29601181497735285, 0.045030880130782984, 0.42978001771879637, 0.22846549478117836, 1.000733171814277, 1.0011610137480913, 1.0009048110550582, 1.000459411175831, 0.011472823496911609, 0.001147282349691161, 0.9878101030840896, 0.9996628248723912, 0.9842495591178109, 0.016542009396937996, 1.0008326759919255, 1.0008194995597133, 0.022161696242826944, 0.1518728007229023, 0.31678189335334983, 0.27311031546307324, 0.06909234710998988, 0.1675163510119566, 0.03606942187786049, 0.7010993877509133, 0.2637576474818549, 0.04250498820313183, 0.04111138203253735, 0.3355106855706226, 0.12507615381085516, 0.05016982214140151, 0.40588779718564416, 1.0008481030656033, 0.9988879097701721, 0.998653661068556, 0.014910669085362722, 0.9841041596339396, 0.026278406854180193, 0.07299557459494498, 0.02481849536228129, 0.8759468951393397, 0.011306710183460949, 0.022613420366921898, 0.9667237206859112, 0.9999032464771666, 0.08132279395616378, 0.9195731316581596, 0.920807445095057, 0.07366459560760456, 0.006696781418873142, 1.0001853507593592, 0.09593307764246399, 0.850884688654898, 0.05422304388487095, 0.9482798072615184, 0.0175607371715096, 0.0351214743430192, 0.10698212744269209, 0.8592354025134111, 0.03378382971874487, 1.000762175110772, 1.000742009429394, 0.961463123894372, 0.03951218317374132, 0.13036852346029879, 0.8706754959669954, 0.16319846331919913, 0.18907139043077947, 0.648813402951938, 0.2205634106613872, 0.5528284627736058, 0.22624315514193796, 0.0882210686019876, 0.25217909232454944, 0.13566069983135828, 0.3653683878893637, 0.15896437832999652, 0.9469127705490921, 0.051265978023358486, 0.003015645766079911, 1.0010408692731085, 0.11364422101394113, 0.20042708069731435, 0.4380468155446458, 0.001549693922917379, 0.24640133374386328, 0.4925403751521012, 0.5085579483277792, 0.03330489784508171, 0.4799823512967659, 0.4878187978485498, 0.8837380882082476, 0.07364484068402063, 0.04243939971621528, 1.0002299769050074, 1.0009676712206816, 1.0007555946412032, 0.07639249915235664, 0.8805240691771634, 0.04221690742630236, 1.0007989499161778, 1.0004918444388062, 1.0006371609854163, 1.001022806421135, 1.0006812967026788, 0.7980730132543583, 0.0010473399124072945, 0.15081694738665039, 0.004189359649629178, 0.04608295614592095, 0.11194113255197422, 0.8889442879127364, 1.0004862411073818, 0.13455600742754345, 0.8451799216542574, 0.021024376160553665, 0.07245122499286391, 0.9282813202210689, 0.08271224413830754, 0.11979014668306609, 0.05419078064233942, 0.7444101972447679, 0.09285674117289368, 0.0540257403187745, 0.8525937144056601, 0.8792119453808541, 0.1219552053270217, 1.0010734128222782, 1.0006804436183905, 1.0004515326372496, 0.02548097265019695, 0.9082146680320199, 0.06552250110050645, 0.14295770188703796, 0.8424293146914736, 0.015316896630754067, 0.6374702791987611, 0.11410565856779732, 0.24951104006825015, 1.0010111602862202, 0.009448180551932639, 0.989696912814944, 1.0009110421852634, 0.005733982832408568, 0.9938903576174851, 1.000214817309514, 1.000500729526591, 1.0001905909086024, 0.08226324724765643, 0.9186062609321636, 1.0006429973746451, 0.10829227283780664, 0.8906486929313485, 1.0009431829090705, 1.0001848638528708, 0.1258413881228715, 0.8751696537636062, 0.9293881506194027, 0.07176742475825504, 0.968479039332752, 0.03260872186305563, 0.008853627972569248, 0.9473381930649095, 0.04426813986284624, 0.04200276400433732, 0.9590631114323688, 0.902132507627578, 0.07701131162674446, 0.02200323189335556, 1.000092078256912, 0.04982814065450504, 0.19025290068083742, 0.7610116027233497, 0.0033428083371426264, 0.9961568844685027, 1.0012904686685318, 1.0007152627105378, 1.0004569208467748, 0.9512837057744157, 0.0498489278135065, 0.06674031113421258, 0.9343643558789761, 1.0000514007704246, 0.539177399050004, 0.2623859480109752, 0.1985901488867381, 0.5996926762755306, 0.33270215603834963, 0.06630363252009815, 0.0011839934378588956, 1.0008211548808408, 1.0005871640801491, 1.0005343383001752, 1.000983630785675, 0.04978491361041146, 0.10339943596008533, 0.8463435313769948, 1.000597689329215, 0.06362409135616069, 0.9373949459807676, 0.004266418296659342, 0.9954976025538465, 0.0173863906338647, 0.06664783076314801, 0.9156832400502074, 0.016957096833131922, 0.9835116163216515, 0.009622167249842066, 0.9910832267337328, 1.0001361909714803, 0.052671916006517376, 0.8383613297704016, 0.10973315834691119, 0.1633836702210066, 0.17722974396854954, 0.5247661950318772, 0.029076754869840158, 0.10661476785608058, 1.0002765874657225, 0.022684296436307684, 0.35505855291612026, 0.37478402807812694, 0.23867824946028085, 0.00986273758100334, 1.0007130085259786, 1.0008194995597133, 0.9989918265945508, 0.015559152872950736, 0.98541301528688, 0.693468340504116, 0.24773429214220108, 0.03941227374989563, 0.007507099761884881, 0.012199037113062933, 0.9901706933667221, 0.010821537632423193, 0.3751662282497619, 0.05845366162531702, 0.5664691208417085, 1.0012293039110909, 1.0001048520633933, 0.7686156233520811, 0.06250789707983792, 0.16900283284548773, 1.000742009429394, 0.9899064771808197, 0.009970281065130558, 0.08212249246794269, 0.9182787794142683, 1.0009707034988693, 1.000995127866435, 0.944089420565293, 0.054862339209605405, 0.008658285003799145, 0.989930585434369, 1.0006361340055574, 0.07441917804557634, 0.15363959338441566, 0.22085691549009753, 0.5521422887252438, 0.001559390040732612, 0.59100882543766, 0.08888523232175889, 0.20272070529523956, 0.1169542530549459, 0.27891356283706875, 0.47561461261080934, 0.18391243663055623, 0.017660465769159372, 0.020096392082146874, 0.023750281551628123, 0.9330851352316875, 0.04408276229441043, 0.022041381147205216, 1.000493564871239, 1.000540648770662, 0.43363059334079146, 0.27504569063330203, 0.2923909143669337, 0.08048670712675021, 0.7214535747906883, 0.1990216758043278, 0.9769140921849204, 0.022812554350472043, 0.024181853136842447, 0.9745286814147507, 1.001078782132581, 0.11848941425573531, 0.13891862361017243, 0.7436232205015112, 1.0012545182782815, 1.0012073694821981, 0.9999401390352628, 1.0009849460008868, 0.46957170569317425, 0.5314932493010653, 1.0007914593729985, 1.0008368883134418, 1.0008706480179372, 1.0003749720812927, 0.013998839284103613, 0.002545243506200657, 0.012726217531003284, 0.02417981330890624, 0.9468305843066444, 0.15569518439637872, 0.8204889082475831, 0.024713521332758528, 0.1991395208250468, 0.2682287423357773, 0.3589930137322272, 0.07992674645359021, 0.09415099794109355, 1.0014041403848577, 0.3214783678498686, 0.6795477694387467, 0.7271421629757686, 0.17005744134110717, 0.0014660124253543722, 0.10115485734945169, 1.0010394079195237, 0.9991836167587532, 1.0003749720812927, 0.003309659793557223, 0.9962075978607241, 0.999864541871761, 1.000986353795454, 0.9502501682647032, 0.050849507331890476, 1.0011193076386664, 1.0006562954201845, 1.0008909108037558, 1.0010664843728787, 0.9999032464771666, 1.0000653704432139, 1.0001848638528708, 0.03518067388788092, 0.03224895106389084, 0.9322878580288443, 0.1022049541221311, 0.8571279107060539, 0.041811117595417266, 1.000540648770662, 0.017936746335707146, 0.9805421330186572, 0.06091451180570018, 0.9398238964308028, 1.0010953619920606, 0.06419698762651574, 0.8827085798645915, 0.008024623453314467, 0.04614158485655819, 0.008604674955120701, 0.1799159308797965, 0.21902808976670876, 0.2534467895871916, 0.3394935391383986, 0.9428629296933528, 0.05807489059705434, 1.0006752356709905, 0.006500498284602939, 0.9945762375442496, 1.0013071086503167, 0.02238840867143154, 0.9786932933511502, 1.0008835572785735, 0.9611667040866492, 0.03923129404435303, 0.9983658990205811, 0.027287934693189568, 0.008186380407956871, 0.9632640946695917, 0.06192004892282971, 0.1386470660663361, 0.7995762839165401, 0.8102786899775892, 0.14473499293889588, 0.03440421963301623, 0.010677171610246417, 1.0012232606561933, 0.038121834974352835, 0.962576333102409, 0.10649253118477574, 0.847680548230815, 0.046856713721301325, 0.05880012016986947, 0.9408019227179115, 1.0008654712122729, 0.010682408762063783, 0.024035419714643513, 0.9640873907762564, 0.006498472784811794, 0.9942663360762044, 0.9407075441683044, 0.06044707111121634, 0.08576408253114143, 0.9148168803321753, 0.9514479044991699, 0.04951773480664825, 0.031396144694181116, 0.9685710638154873, 1.001448754205331, 1.0003858390319835, 0.06932703475360703, 0.4357699327369585, 0.4951931053829074, 0.023375165370807537, 0.9763626766421918, 1.0012351793677385, 0.14767537991102372, 0.575683684398906, 0.2778299520359938, 0.10547832776479717, 0.8939720566295104, 1.0010595018749617, 1.0006079414080695, 1.0008126097313923, 0.07936786731944612, 0.6043097266077125, 0.2631671390065845, 0.05430433027119998, 0.7657957926179695, 0.1731364400701496, 0.06114258897582207, 0.13960899717381736, 0.054629607589754624, 0.8057867119488806, 1.0007278274589237, 0.09882586298056611, 0.05673336578513981, 0.3440604118582672, 0.5014497491976874, 0.12766214213342753, 0.37053158326531405, 0.00622742156748427, 0.4966368700068705, 1.0009345592894912, 1.0006351445809758, 0.9999576483204963, 0.02683645495971045, 0.9714796695415182, 0.0026836454959710447, 0.021548448073134833, 0.9779680279345808, 0.07034583136617133, 0.005411217797397794, 0.3372992427044625, 0.12445800934014926, 0.463560991310411, 0.1974697463262299, 0.5588766405459338, 0.24466377375010875, 0.07410579236116248, 0.004234616706352142, 0.9210291336315909, 1.0002006979263283, 1.0001048520633933, 0.009384602690763444, 0.005118874194961879, 0.9853832825301616, 1.0006766938214904, 0.49919536069595777, 0.23250194881729538, 0.12080983615016329, 0.018235446966062385, 0.1116921126671321, 0.018235446966062385, 0.7201989376256124, 0.19182868899373787, 0.068991019725818, 0.018509785780097515, 0.022422599745487024, 0.042602939516425346, 0.2802824968185878, 0.44172521498609435, 0.08296361905830199, 0.1311722085110991, 0.787849889003999, 0.16517075595074562, 0.04677401938428195, 1.0007130085259786, 0.8495541931334482, 0.12378933013930385, 0.026954128336783904, 0.8742477398943609, 0.125969194048818, 1.0005343383001752, 0.0381388673673113, 0.9610994576562447, 1.0003438847638548, 0.17394382669137515, 0.28753979514288547, 0.007099748028219393, 0.5324811021164545, 1.0007686199844383, 0.9903733913374867, 0.010003771629671582, 0.9452986223563988, 0.023931610692567058, 0.03190881425675608, 0.004005642413308885, 0.9974049609139124, 1.000342638884671, 1.0001172612164373, 0.04100406854801776, 0.9594952040236157, 1.0006514960142403, 0.8746330884444677, 0.12639206480411383, 0.030393254672780364, 0.9698211263769008, 0.04129489234481093, 0.20254161483407268, 0.7570730263215337, 1.0001848638528708, 1.0009156409069846, 0.026432415218610037, 0.16887376389667524, 0.8047201966554611, 1.0009108267999551, 1.0010217768700433, 0.9999576483204963, 0.1885096010304487, 0.5509156557246446, 0.2615753378639559, 0.019352763753039647, 0.1978282516977386, 0.7343298690736709, 0.04838190938259911, 0.04127230143911927, 0.9595810084595231, 1.0006610802152192, 0.028067604718186593, 0.03118622746465177, 0.9418240694324834, 0.8222925786655711, 0.11665080767116243, 0.032509241482127235, 0.028684624837171088, 0.0025713245881277417, 0.16456477364017547, 0.0006428311470319354, 0.8324663354063563, 0.1852473715093108, 0.8158369088692881, 0.8048372325695763, 0.18930514994060743, 0.005806906439895933, 0.01983057907880062, 0.9816136644006307, 0.0046154021152206735, 0.031153964277739546, 0.03576936639296022, 0.9288496756881605, 0.3491263814284388, 0.5058966298384541, 0.09713984717430392, 0.048089033254605895, 1.0005754174763668, 1.0007686199844383, 1.0013945490590772, 1.0006812967026788, 1.0003858390319835, 0.09662605213981945, 0.11563445583945606, 0.23126891167891211, 0.5464916063645526, 0.011088235491454691, 1.0006650787752907, 0.9998636241690981, 0.052679177722009043, 0.9306654730888265, 0.01755972590733635, 0.01896084107449297, 0.9815023615031656, 1.0007278274589237, 1.0007771115034183, 1.000092078256912, 0.0748283905162164, 0.6856723947302278, 0.09697148566897432, 0.12598657586913986, 0.016798210115885313, 1.0000221322453087, 0.005591868572170413, 0.9953526058463334, 0.039569481659614256, 0.1681702970533606, 0.7142291439560373, 0.07913896331922851, 0.07631808380604733, 0.9225509542436898, 0.9485235481546825, 0.05141782429369178, 0.9990505095760314, 0.11252233922242677, 0.8885384717908873, 1.0000221322453087, 1.0002644894251493, 0.20896802082924704, 0.5237888382357546, 0.26736956376842524, 1.0003990018805264, 0.22576860563387685, 0.5630614622435243, 0.21216808722219754, 1.0009691949762685, 0.18114908271063904, 0.2894650290737016, 0.5303746339156854, 0.12511700024655395, 0.08784810655609107, 0.7081089801187948, 0.07986191505099188, 1.0005545549896895, 0.03848975428430298, 0.9622438571075744, 0.9196414322771459, 0.08155841448329428, 1.000942806226658, 0.9646190960663199, 0.03640072060627622, 1.0013934374326254, 0.02273413211297067, 0.9775676808577389, 1.0008417458194494, 0.97071319412701, 0.008725511857321438, 0.019632401678973236, 0.2473593448387643, 0.715023106174553, 0.03864989763105692, 0.971369395471924, 0.02720922676391944, 0.001360461338195972, 0.9999401390352628, 1.0007549919611678, 0.017999511547099528, 0.23399365011229387, 0.014726873083990524, 0.7330710157364172, 0.029872904332310518, 0.050654055172178705, 0.44419709920218253, 0.027275260477326996, 0.4480935649846578, 0.2033597778320218, 0.6713479845095592, 0.04301841454138923, 0.08212606412447035, 1.001121903191102, 1.0005146018105486, 1.0012293039110909, 1.0002299769050074, 1.0006356418486333, 1.0000636249692225, 1.0003858390319835, 1.0009822496493586, 0.9959999627755636, 0.005081632463140631, 0.9963961877868953, 0.004488271116157186, 1.0007811193699734, 0.033259023554871786, 0.1405193745193333, 0.3841417220587692, 0.25110562783928203, 0.1920708610293846, 0.11846191989313115, 0.8825413032038271, 0.10203145758543596, 0.8672673894762056, 0.03158116544311113, 1.0006429973746451, 1.000500729526591, 1.000762175110772, 1.000270668920397, 0.9798758296727617, 0.02112939794442613, 0.04559820591706712, 0.9543053095500477, 1.0002406927958318, 0.07110146569242078, 0.9300071712568637, 1.0004362675977976, 1.000385958385668, 0.12384679571488207, 0.8468443058341936, 0.030124896254971313, 0.12095546121274121, 0.24191092242548243, 0.02326066561783485, 0.1151402948082825, 0.4989412775025575, 0.101773938343539, 0.0848116152862825, 0.814191506748312, 0.5271060176694591, 0.37021578971216823, 0.00451482670380693, 0.080138173992573, 0.01805930681522772, 0.1166976329738451, 0.7805775005583862, 0.10373122931008454, 1.0003634876590837, 0.3986920086202544, 0.004381230863958839, 0.024096769751773616, 0.5367007808349579, 0.03724046234365014, 1.0010978922175948, 0.06412403163010155, 0.19444061203966276, 0.7425976566195631, 0.9912613030353263, 0.009718248068973787, 0.9990561301065493, 1.0005020943488006, 1.000835915855542, 0.9998636241690981, 0.1505378641113143, 0.10523035161179253, 0.14761479878876455, 0.11399954757944192, 0.4837673108819907, 0.6998959655838679, 0.033065951129946515, 0.2535056253295899, 0.0128589809949792, 1.0001531232417038, 1.0013649348968243, 0.021138598421133022, 0.9794217268458301, 0.7633518538729733, 0.23619407137773615, 0.7048740003922154, 0.12438952948097919, 0.007897747903554233, 0.15005721016753046, 0.01382105883121991, 1.000597689329215, 1.0009676712206816, 0.2002352940071977, 0.03247058821738341, 0.7666666662437749, 1.0004862411073818, 0.3158257256156374, 0.685282234826383, 1.0008732982363335, 0.7285992006804802, 0.2724678451298195, 0.03352208569862421, 0.9673516158745843, 0.06623150667559266, 0.9346001497555854, 1.0006728761197659], \"Term\": [\"\\u4e00\\u4e0b\", \"\\u4e00\\u4e0b\", \"\\u4e00\\u4e0b\", \"\\u4e00\\u5806\", \"\\u4e00\\u5806\", \"\\u4e00\\u5b9a\", \"\\u4e00\\u5b9a\", \"\\u4e00\\u5b9a\", \"\\u4e00\\u6a94\", \"\\u4e00\\u76f4\", \"\\u4e00\\u76f4\", \"\\u4e00\\u76f4\", \"\\u4e00\\u9593\", \"\\u4e00\\u9593\", \"\\u4e00\\u9ede\", \"\\u4e00\\u9ede\", \"\\u4e09\\u661f\", \"\\u4e09\\u661f\", \"\\u4e0a\\u5c64\", \"\\u4e0b\\u5c64\", \"\\u4e0d\\u5920\", \"\\u4e0d\\u7528\", \"\\u4e0d\\u7528\", \"\\u4e0d\\u7528\", \"\\u4e16\\u9054\", \"\\u4e2d\\u4fe1\", \"\\u4e2d\\u4fe1\", \"\\u4e2d\\u4fe1\", \"\\u4e2d\\u4fe1\", \"\\u4e2d\\u570b\", \"\\u4e2d\\u570b\", \"\\u4e2d\\u570b\", \"\\u4e2d\\u570b\", \"\\u4e2d\\u8208\", \"\\u4e4b\\u5f8c\", \"\\u4e4b\\u5f8c\", \"\\u4e4b\\u5f8c\", \"\\u4e8b\\u9805\", \"\\u4e8b\\u9805\", \"\\u4ea4\\u901a\", \"\\u4ea4\\u901a\", \"\\u4ea4\\u901a\\u90e8\", \"\\u4eba\\u58eb\", \"\\u4eba\\u58eb\", \"\\u4eba\\u5de5\\u667a\\u6167\", \"\\u4eba\\u5de5\\u667a\\u6167\", \"\\u4ec1\\u52f3\", \"\\u4eca\\u5e74\", \"\\u4eca\\u5e74\", \"\\u4eca\\u5e74\", \"\\u4eca\\u5e74\", \"\\u4edf\\u5143\", \"\\u4ee3\\u5de5\", \"\\u4ee3\\u92b7\", \"\\u4ef2\\u4ecb\", \"\\u4ef2\\u4ecb\", \"\\u4f01\\u696d\", \"\\u4f01\\u696d\", \"\\u4f01\\u696d\", \"\\u4f3a\\u670d\\u5668\", \"\\u4f3a\\u670d\\u5668\", \"\\u4f4e\\u9ede\", \"\\u4f86\\u6e90\", \"\\u4f86\\u6e90\", \"\\u4f86\\u6e90\", \"\\u4f86\\u6e90\", \"\\u4f86\\u6e90\", \"\\u500b\\u80a1\", \"\\u505c\\u640d\", \"\\u505c\\u8eca\\u4f4d\", \"\\u50b5\\u5238\", \"\\u50b5\\u5238\", \"\\u50f9\\u683c\", \"\\u50f9\\u683c\", \"\\u50f9\\u683c\", \"\\u50f9\\u683c\", \"\\u50f9\\u683c\", \"\\u5104\\u5143\", \"\\u5104\\u5143\", \"\\u5104\\u5143\", \"\\u5104\\u5143\", \"\\u5104\\u7f8e\\u5143\", \"\\u512a\\u60e0\", \"\\u512a\\u7f3a\\u9ede\", \"\\u5132\\u80fd\", \"\\u5143\\u6708\", \"\\u5143\\u6708\", \"\\u5143\\u6708\", \"\\u5143\\u80a1\", \"\\u5149\\u96fb\", \"\\u5149\\u96fb\", \"\\u5167\\u4e0a\", \"\\u5167\\u4fe1\", \"\\u5167\\u5bb9\", \"\\u5167\\u5bb9\", \"\\u5167\\u5bb9\", \"\\u5167\\u5bb9\", \"\\u5167\\u5bb9\", \"\\u5167\\u5bb9\", \"\\u5168\\u7403\", \"\\u5168\\u7403\", \"\\u5168\\u7403\", \"\\u516c\\u53f8\", \"\\u516c\\u53f8\", \"\\u516c\\u53f8\", \"\\u516c\\u53f8\", \"\\u516c\\u53f8\", \"\\u516c\\u53f8\", \"\\u516c\\u53f8\\u5730\\u5740\", \"\\u516c\\u7a4d\", \"\\u516c\\u7a4d\\u8f49\", \"\\u516c\\u8a2d\", \"\\u516c\\u8a2d\", \"\\u516c\\u958b\", \"\\u516c\\u958b\", \"\\u516c\\u958b\", \"\\u516c\\u958b\", \"\\u51fa\\u53e3\", \"\\u51fa\\u53e3\", \"\\u51fa\\u53e3\", \"\\u51fa\\u5e2d\", \"\\u51fa\\u8ca8\", \"\\u51fa\\u8ca8\", \"\\u5206\\u4eab\", \"\\u5206\\u4eab\", \"\\u5206\\u4eab\", \"\\u5206\\u6563\", \"\\u5206\\u6790\", \"\\u5206\\u6790\", \"\\u5206\\u6790\", \"\\u5206\\u985e\", \"\\u5206\\u985e\", \"\\u5206\\u985e\", \"\\u5229\\u7387\", \"\\u5229\\u7387\", \"\\u5229\\u7387\", \"\\u524d\\u8f29\", \"\\u525b\\u525b\", \"\\u52df\\u96c6\", \"\\u52df\\u96c6\", \"\\u5347\\u606f\", \"\\u5347\\u606f\", \"\\u534a\\u5c0e\\u9ad4\", \"\\u534a\\u5c0e\\u9ad4\", \"\\u534a\\u5c0e\\u9ad4\", \"\\u539f\\u6587\", \"\\u539f\\u6587\", \"\\u539f\\u6587\", \"\\u53bb\\u5e74\", \"\\u53bb\\u5e74\", \"\\u53bb\\u5e74\", \"\\u53bb\\u5e74\", \"\\u53bb\\u5e74\", \"\\u53ea\\u80fd\", \"\\u53ea\\u80fd\", \"\\u53ea\\u80fd\", \"\\u53f0\\u5357\\u5e02\", \"\\u53f0\\u7063\", \"\\u53f0\\u7063\", \"\\u53f0\\u7063\", \"\\u53f0\\u7063\", \"\\u53f0\\u7063\", \"\\u53f0\\u7a4d\", \"\\u53f0\\u7a4d\", \"\\u53f0\\u7a4d\\u96fb\", \"\\u53f0\\u7a4d\\u96fb\", \"\\u53f0\\u7a4d\\u96fb\", \"\\u53f0\\u80a1\", \"\\u53f0\\u80a1\", \"\\u53f0\\u80a1\", \"\\u5403\\u8c46\\u8150\", \"\\u5404\\u7d1a\", \"\\u5408\\u4e00\", \"\\u540c\\u610f\", \"\\u540c\\u610f\", \"\\u540c\\u610f\", \"\\u540d\\u4e0b\", \"\\u548c\\u78a9\", \"\\u54ea\\u88e1\", \"\\u5546\\u5708\", \"\\u5546\\u6a5f\", \"\\u554f\\u984c\", \"\\u554f\\u984c\", \"\\u554f\\u984c\", \"\\u554f\\u984c\", \"\\u554f\\u984c\", \"\\u5609\\u7fa9\", \"\\u5609\\u7fa9\", \"\\u56de\\u5347\", \"\\u570b\\u5167\", \"\\u570b\\u5167\", \"\\u570b\\u5167\", \"\\u570b\\u5bb6\", \"\\u570b\\u5bb6\", \"\\u570b\\u6cf0\", \"\\u570b\\u6cf0\", \"\\u570b\\u6cf0\", \"\\u570b\\u6cf0\", \"\\u571f\\u5730\", \"\\u571f\\u5730\", \"\\u571f\\u5730\", \"\\u5730\\u65b9\", \"\\u5730\\u65b9\", \"\\u576a\\u6578\", \"\\u57fa\\u672c\\u9762\", \"\\u57fa\\u6e96\\u65e5\", \"\\u57fa\\u91d1\", \"\\u57fa\\u91d1\", \"\\u57fa\\u91d1\", \"\\u5831\\u544a\", \"\\u5831\\u544a\", \"\\u5831\\u544a\", \"\\u5831\\u5c0e\", \"\\u5831\\u5c0e\", \"\\u5831\\u5c0e\", \"\\u589e\\u5f35\", \"\\u589e\\u6e1b\", \"\\u589e\\u6e1b\", \"\\u589e\\u8cb8\", \"\\u589e\\u8cc7\", \"\\u589e\\u8cc7\", \"\\u5916\\u754c\", \"\\u591a\\u7a7a\", \"\\u5925\\u4f34\", \"\\u5927\\u540c\", \"\\u5927\\u540c\", \"\\u5927\\u5ee0\", \"\\u5927\\u6a13\", \"\\u5927\\u6a13\", \"\\u5927\\u76e4\", \"\\u5929\\u7267\", \"\\u592e\\u884c\", \"\\u592e\\u884c\", \"\\u597d\\u50cf\", \"\\u597d\\u50cf\", \"\\u59d3\\u540d\", \"\\u59d3\\u540d\", \"\\u5a92\\u9ad4\", \"\\u5a92\\u9ad4\", \"\\u5a92\\u9ad4\", \"\\u5b78\\u5340\", \"\\u5b78\\u5340\", \"\\u5b8c\\u5168\", \"\\u5b8c\\u5168\", \"\\u5b8c\\u5168\", \"\\u5b98\\u54e1\", \"\\u5ba2\\u6236\", \"\\u5ba2\\u6236\", \"\\u5ba2\\u6236\", \"\\u5be6\\u50f9\", \"\\u5be6\\u50f9\", \"\\u5be9\\u8a08\", \"\\u5c01\\u88dd\", \"\\u5c0d\\u6b64\", \"\\u5c0f\\u5f1f\", \"\\u5c0f\\u5f1f\", \"\\u5c4b\\u9f61\", \"\\u5c4b\\u9f61\", \"\\u5de5\\u5546\\u6642\\u5831\", \"\\u5df2\\u7d93\", \"\\u5df2\\u7d93\", \"\\u5df2\\u7d93\", \"\\u5e02\\u5834\", \"\\u5e02\\u5834\", \"\\u5e02\\u5834\", \"\\u5e02\\u5834\", \"\\u5e33\\u6236\", \"\\u5e6b\\u5fd9\", \"\\u5e73\\u6e96\", \"\\u5e73\\u9762\", \"\\u5e74\\u5ea6\", \"\\u5e74\\u5ea6\", \"\\u5e74\\u5ea6\", \"\\u5e74\\u8f15\", \"\\u5ee3\\u9054\", \"\\u5ee3\\u9054\", \"\\u5efa\\u7269\", \"\\u5efa\\u7269\", \"\\u5efa\\u8a2d\", \"\\u5efa\\u8a2d\", \"\\u5efa\\u8a2d\", \"\\u5f15\\u767c\", \"\\u5f15\\u767c\", \"\\u5f35\\u5238\", \"\\u5f35\\u5238\", \"\\u5f37\\u52e2\", \"\\u5f37\\u8abf\", \"\\u5f37\\u8abf\", \"\\u5f37\\u8abf\", \"\\u5f71\\u97ff\", \"\\u5f71\\u97ff\", \"\\u5f71\\u97ff\", \"\\u5f71\\u97ff\", \"\\u5f71\\u97ff\", \"\\u5fae\\u8edf\", \"\\u5fc3\\u5f97\", \"\\u5fc3\\u5f97\", \"\\u5fc3\\u5f97\", \"\\u5fc3\\u5f97\", \"\\u5fc3\\u5f97\", \"\\u60f3\\u6cd5\", \"\\u61c9\\u586b\", \"\\u61c9\\u6558\\u660e\", \"\\u61c9\\u7528\", \"\\u61c9\\u7528\", \"\\u61c9\\u8a72\", \"\\u61c9\\u8a72\", \"\\u61c9\\u8a72\", \"\\u61c9\\u8a72\", \"\\u61c9\\u8a72\", \"\\u6210\\u5206\\u80a1\", \"\\u6210\\u5206\\u80a1\", \"\\u6210\\u9577\", \"\\u6210\\u9577\", \"\\u6210\\u9577\", \"\\u6216\\u7d93\", \"\\u6230\\u722d\", \"\\u623f\\u50f9\", \"\\u623f\\u50f9\", \"\\u623f\\u50f9\", \"\\u623f\\u5730\", \"\\u623f\\u5b50\", \"\\u623f\\u5b50\", \"\\u623f\\u5c4b\", \"\\u623f\\u5c4b\", \"\\u623f\\u5ef3\", \"\\u623f\\u6771\", \"\\u623f\\u8cb8\", \"\\u623f\\u8cb8\", \"\\u6240\\u5c6c\", \"\\u6240\\u5c6c\", \"\\u6253\\u9020\", \"\\u6280\\u8853\", \"\\u6280\\u8853\", \"\\u6280\\u8853\", \"\\u6280\\u8853\", \"\\u6295\\u4fe1\", \"\\u6295\\u4fe1\", \"\\u6295\\u4fe1\", \"\\u6295\\u4fe1\", \"\\u6295\\u4fe1\", \"\\u6295\\u8cc7\", \"\\u6295\\u8cc7\", \"\\u6295\\u8cc7\", \"\\u6295\\u8cc7\", \"\\u6295\\u8cc7\", \"\\u6295\\u8cc7\", \"\\u6295\\u8cc7\\u4eba\", \"\\u6295\\u8cc7\\u4eba\", \"\\u6295\\u8cc7\\u4eba\", \"\\u6295\\u8cc7\\u8005\", \"\\u6295\\u9867\", \"\\u6301\\u7e8c\", \"\\u6301\\u7e8c\", \"\\u6301\\u7e8c\", \"\\u6307\\u51fa\", \"\\u6307\\u51fa\", \"\\u6307\\u51fa\", \"\\u6307\\u6578\", \"\\u6307\\u6578\", \"\\u6377\\u904b\", \"\\u6377\\u904b\", \"\\u6392\\u884c\", \"\\u63a8\\u51fa\", \"\\u63a8\\u51fa\", \"\\u63a8\\u51fa\", \"\\u63d0\\u5831\", \"\\u640d\\u4edf\", \"\\u64d4\\u6182\", \"\\u64ec\\u8b70\", \"\\u653f\\u5e9c\", \"\\u653f\\u5e9c\", \"\\u6563\\u6236\", \"\\u6574\\u5408\", \"\\u65b0\\u5317\\u5e02\", \"\\u65bd\\u884c\\u7d30\\u5247\", \"\\u65e5\\u671f\", \"\\u65e5\\u671f\", \"\\u65e5\\u671f\", \"\\u65e5\\u671f\", \"\\u65e5\\u671f\", \"\\u65e5\\u672c\", \"\\u65e5\\u672c\", \"\\u65e5\\u672c\", \"\\u6642\\u9593\", \"\\u6642\\u9593\", \"\\u6642\\u9593\", \"\\u6642\\u9593\", \"\\u6642\\u9593\", \"\\u666e\\u901a\\u80a1\", \"\\u6676\\u7247\", \"\\u6676\\u7247\", \"\\u6700\\u8fd1\", \"\\u6700\\u8fd1\", \"\\u6700\\u8fd1\", \"\\u6700\\u8fd1\", \"\\u6709\\u50f9\\u8b49\\u5238\", \"\\u671f\\u672b\", \"\\u672c\\u5247\", \"\\u672c\\u6587\", \"\\u672c\\u6587\", \"\\u672c\\u671f\", \"\\u672c\\u677f\", \"\\u672c\\u6848\", \"\\u672c\\u6848\", \"\\u672c\\u7ad9\", \"\\u6771\\u5143\", \"\\u6771\\u5340\", \"\\u6771\\u897f\", \"\\u6838\\u80fd\", \"\\u6838\\u96fb\", \"\\u6838\\u96fb\\u5ee0\", \"\\u683c\\u5c40\", \"\\u683c\\u5c40\", \"\\u683c\\u5c40\", \"\\u6843\\u5712\", \"\\u6843\\u5712\", \"\\u6843\\u5712\", \"\\u694a\\u91d1\\u9f8d\", \"\\u696d\\u4e3b\", \"\\u696d\\u4e3b\", \"\\u696d\\u8005\", \"\\u696d\\u8005\", \"\\u6a13\\u5c64\", \"\\u6a19\\u7684\", \"\\u6a19\\u7684\", \"\\u6a19\\u7684\", \"\\u6a19\\u7684\", \"\\u6a19\\u984c\", \"\\u6a19\\u984c\", \"\\u6a19\\u984c\", \"\\u6a19\\u984c\", \"\\u6a19\\u984c\", \"\\u6a5f\\u5236\", \"\\u6a5f\\u5236\", \"\\u6a5f\\u5668\\u4eba\", \"\\u6a5f\\u80fd\", \"\\u6a5f\\u80fd\", \"\\u6b04\\u4f4d\", \"\\u6b0a\\u72c0\", \"\\u6b0a\\u72c0\", \"\\u6b21\\u8981\", \"\\u6b64\\u6b21\", \"\\u6b64\\u6b21\", \"\\u6b78\\u5c6c\\u65bc\", \"\\u6bcd\\u516c\\u53f8\", \"\\u6bcd\\u516c\\u53f8\", \"\\u6bcd\\u516c\\u53f8\", \"\\u6bcf\\u80a1\", \"\\u6bcf\\u80a1\", \"\\u6bcf\\u80a1\", \"\\u6bd4\\u8f03\", \"\\u6bd4\\u8f03\", \"\\u6bd4\\u8f03\", \"\\u6bd4\\u8f03\", \"\\u6bdb\\u640d\", \"\\u6c38\\u7e8c\", \"\\u6c38\\u7e8c\", \"\\u6c38\\u8c50\", \"\\u6c38\\u8c50\", \"\\u6c38\\u8c50\", \"\\u6c7a\\u8b70\", \"\\u6c7a\\u8b70\", \"\\u6c92\\u4ec0\\u9ebc\", \"\\u6cd5\\u5b9a\", \"\\u6cd5\\u5b9a\", \"\\u6cd5\\u5b9a\", \"\\u6ce2\\u52d5\", \"\\u6ce2\\u52d5\", \"\\u6d3b\\u52d5\", \"\\u6d3b\\u52d5\", \"\\u6d88\\u8cbb\\u8005\", \"\\u6d88\\u8cbb\\u8005\", \"\\u6de8\\u503c\", \"\\u6de8\\u503c\", \"\\u6de8\\u5229\", \"\\u6de8\\u5229\", \"\\u6de8\\u640d\", \"\\u7121\\u4eba\\u6a5f\", \"\\u71df\\u6536\", \"\\u71df\\u6536\", \"\\u71df\\u6536\", \"\\u71df\\u696d\", \"\\u71df\\u696d\", \"\\u71df\\u696d\\u6bdb\\u5229\", \"\\u71df\\u904b\", \"\\u71df\\u904b\", \"\\u71df\\u904b\", \"\\u7269\\u4ef6\", \"\\u7269\\u4ef6\", \"\\u7269\\u6b0a\", \"\\u7279\\u50f9\", \"\\u72c0\\u576a\\u4e3b\", \"\\u7372\\u5229\", \"\\u7372\\u5229\", \"\\u7372\\u5229\", \"\\u7372\\u5229\", \"\\u73fe\\u5728\", \"\\u73fe\\u5728\", \"\\u73fe\\u5728\", \"\\u73fe\\u91d1\", \"\\u73fe\\u91d1\", \"\\u73fe\\u91d1\", \"\\u7406\\u89e3\", \"\\u7522\\u54c1\", \"\\u7522\\u54c1\", \"\\u7522\\u54c1\", \"\\u7522\\u54c1\", \"\\u7522\\u696d\", \"\\u7522\\u696d\", \"\\u7522\\u696d\", \"\\u7522\\u696d\", \"\\u7522\\u80fd\", \"\\u7528\\u96fb\", \"\\u7528\\u96fb\\u91cf\", \"\\u7533\\u8cfc\", \"\\u7533\\u8cfc\", \"\\u7533\\u8cfc\", \"\\u767b\\u9304\", \"\\u767b\\u9304\", \"\\u767c\\u5c55\", \"\\u767c\\u5c55\", \"\\u767c\\u5c55\", \"\\u767c\\u5c55\", \"\\u767c\\u5c55\", \"\\u767c\\u5e03\", \"\\u767c\\u5e03\", \"\\u767c\\u5e03\", \"\\u767c\\u653e\", \"\\u767c\\u653e\", \"\\u767c\\u653e\", \"\\u767c\\u884c\\u50f9\", \"\\u767c\\u96fb\", \"\\u76c8\\u9918\", \"\\u76c8\\u9918\", \"\\u76c8\\u9918\", \"\\u76e4\\u4e2d\", \"\\u76ee\\u524d\", \"\\u76ee\\u524d\", \"\\u76ee\\u524d\", \"\\u76ee\\u524d\", \"\\u76ee\\u524d\", \"\\u76ee\\u524d\", \"\\u76f4\\u63a5\", \"\\u76f4\\u63a5\", \"\\u76f4\\u63a5\", \"\\u76f4\\u63a5\", \"\\u76f8\\u95dc\", \"\\u76f8\\u95dc\", \"\\u76f8\\u95dc\", \"\\u76f8\\u95dc\", \"\\u76f8\\u95dc\", \"\\u76f8\\u95dc\", \"\\u770b\\u5230\", \"\\u770b\\u5230\", \"\\u770b\\u5230\", \"\\u770b\\u904e\", \"\\u771f\\u7684\", \"\\u771f\\u7684\", \"\\u771f\\u7684\", \"\\u77e5\\u9053\", \"\\u77e5\\u9053\", \"\\u77ed\\u7dda\", \"\\u793e\\u5340\", \"\\u793e\\u5340\", \"\\u79d1\\u5b78\\u5712\\u5340\", \"\\u79d1\\u6280\", \"\\u79d1\\u6280\", \"\\u79d1\\u6280\", \"\\u79d1\\u6280\", \"\\u79df\\u5c4b\", \"\\u79df\\u8cc3\", \"\\u79df\\u8cc3\", \"\\u79df\\u91d1\", \"\\u79df\\u91d1\", \"\\u79df\\u91d1\", \"\\u7a05\\u524d\", \"\\u7a05\\u524d\", \"\\u7acb\\u59d4\", \"\\u7acb\\u6cd5\\u9662\", \"\\u7af6\\u722d\", \"\\u7af6\\u722d\", \"\\u7b2c\\u6b3e\", \"\\u7d14\\u76ca\", \"\\u7d14\\u76ca\", \"\\u7d2f\\u8a08\", \"\\u7d2f\\u8a08\", \"\\u7d93\\u6fdf\", \"\\u7d93\\u6fdf\", \"\\u7d93\\u6fdf\", \"\\u7d93\\u6fdf\\u90e8\", \"\\u7d93\\u7d00\\u4eba\", \"\\u7db2\\u5740\", \"\\u7db2\\u5740\", \"\\u7db2\\u5740\", \"\\u7de3\\u7531\", \"\\u7e3d\\u6a13\", \"\\u7e3d\\u88c1\", \"\\u7f72\\u540d\", \"\\u7f72\\u540d\", \"\\u7f72\\u540d\", \"\\u7f8e\\u570b\", \"\\u7f8e\\u570b\", \"\\u7f8e\\u570b\", \"\\u7f8e\\u570b\", \"\\u7f8e\\u80a1\", \"\\u7f8e\\u80a1\", \"\\u806f\\u6e96\", \"\\u806f\\u7d61\", \"\\u806f\\u7d61\", \"\\u806f\\u7d61\", \"\\u80a1\\u50f9\", \"\\u80a1\\u50f9\", \"\\u80a1\\u50f9\", \"\\u80a1\\u50f9\", \"\\u80a1\\u5229\", \"\\u80a1\\u5229\", \"\\u80a1\\u5229\", \"\\u80a1\\u5229\", \"\\u80a1\\u5e02\", \"\\u80a1\\u5e02\", \"\\u80a1\\u606f\", \"\\u80a1\\u606f\", \"\\u80a1\\u606f\", \"\\u80a1\\u6578\", \"\\u80a1\\u6578\", \"\\u80a1\\u6771\", \"\\u80a1\\u6771\", \"\\u80a1\\u6771\", \"\\u80a1\\u6771\", \"\\u80a1\\u7968\", \"\\u80a1\\u7968\", \"\\u80a1\\u7968\", \"\\u80a1\\u7968\", \"\\u80a1\\u7968\\u540d\\u7a31\", \"\\u81ea\\u5099\", \"\\u81ea\\u7d50\", \"\\u82f1\\u696d\\u9054\", \"\\u83ef\\u57ce\", \"\\u842c\\u5143\", \"\\u842c\\u5143\", \"\\u842c\\u5143\", \"\\u842c\\u5143\", \"\\u842c\\u5143\", \"\\u842c\\u5f35\", \"\\u842c\\u7f8e\\u5143\", \"\\u842c\\u9ede\", \"\\u842c\\u9ede\", \"\\u842c\\u9ede\", \"\\u8463\\u4e8b\\u6703\", \"\\u8463\\u4e8b\\u6703\", \"\\u85aa\\u6c34\", \"\\u885b\\u661f\", \"\\u885d\\u64ca\", \"\\u8868\\u793a\", \"\\u8868\\u793a\", \"\\u8868\\u793a\", \"\\u8868\\u793a\", \"\\u8868\\u793a\", \"\\u88c1\\u54e1\", \"\\u88fd\\u7a0b\", \"\\u88fd\\u7a0b\", \"\\u898f\\u5283\", \"\\u898f\\u5283\", \"\\u898f\\u5283\", \"\\u898f\\u5283\", \"\\u898f\\u7bc4\", \"\\u898f\\u7bc4\", \"\\u89ba\\u5f97\", \"\\u89ba\\u5f97\", \"\\u89c0\\u6e2c\\u7ad9\", \"\\u8a02\\u55ae\", \"\\u8a02\\u55ae\", \"\\u8a13\\u7df4\", \"\\u8a18\\u61b6\\u9ad4\", \"\\u8a18\\u8005\", \"\\u8a18\\u8005\", \"\\u8a18\\u8005\", \"\\u8a2d\\u5ee0\", \"\\u8a55\\u8ad6\", \"\\u8a55\\u8ad6\", \"\\u8a55\\u8ad6\", \"\\u8a73\\u76e1\", \"\\u8a8d\\u70ba\", \"\\u8a8d\\u70ba\", \"\\u8a8d\\u70ba\", \"\\u8abf\\u6574\", \"\\u8abf\\u6574\", \"\\u8abf\\u6574\", \"\\u8abf\\u6574\", \"\\u8abf\\u67e5\", \"\\u8abf\\u6f32\", \"\\u8abf\\u6f32\", \"\\u8acb\\u554f\", \"\\u8acb\\u554f\", \"\\u8acb\\u6559\", \"\\u8ca0\\u64d4\", \"\\u8ca0\\u64d4\", \"\\u8ca1\\u52d9\\u5831\\u544a\", \"\\u8ca1\\u653f\\u90e8\", \"\\u8ca1\\u653f\\u90e8\", \"\\u8cb7\\u4e0d\\u8d77\", \"\\u8cb7\\u623f\", \"\\u8cb7\\u623f\", \"\\u8cb7\\u623f\", \"\\u8cb7\\u8d85\", \"\\u8cb7\\u8d85\", \"\\u8cb7\\u8d85\", \"\\u8cb8\\u6b3e\", \"\\u8cb8\\u6b3e\", \"\\u8cb8\\u6b3e\", \"\\u8cbf\\u6613\", \"\\u8cc7\\u589e\", \"\\u8cc7\\u672c\", \"\\u8cc7\\u672c\", \"\\u8cc7\\u672c\", \"\\u8cc7\\u672c\", \"\\u8cc7\\u8a0a\", \"\\u8cc7\\u8a0a\", \"\\u8cc7\\u8a0a\", \"\\u8cc7\\u8a0a\", \"\\u8cc7\\u8a0a\", \"\\u8cc7\\u91d1\", \"\\u8cc7\\u91d1\", \"\\u8cc7\\u91d1\", \"\\u8cc7\\u91d1\", \"\\u8ce3\\u6389\", \"\\u8d70\\u52e2\", \"\\u8d77\\u8a16\", \"\\u8dcc\\u5e45\", \"\\u8dcc\\u7834\", \"\\u8eca\\u4f4d\", \"\\u8eca\\u7528\", \"\\u8f49\\u8f09\", \"\\u8fa6\\u6cd5\", \"\\u8fa6\\u6cd5\", \"\\u9000\\u5834\", \"\\u9000\\u5834\", \"\\u9019\\u9593\", \"\\u9023\\u7d50\", \"\\u9023\\u7d50\", \"\\u9023\\u7d50\", \"\\u9023\\u7d50\", \"\\u9023\\u7d50\", \"\\u9032\\u5834\", \"\\u9032\\u5834\", \"\\u9032\\u884c\", \"\\u9032\\u884c\", \"\\u9032\\u884c\", \"\\u904b\\u7b97\", \"\\u9078\\u80a1\", \"\\u90a3\\u7a2e\", \"\\u90e8\\u4f4d\", \"\\u914d\\u606f\", \"\\u914d\\u606f\", \"\\u914d\\u767c\", \"\\u914d\\u767c\", \"\\u914d\\u80a1\", \"\\u91cd\\u5283\", \"\\u91cd\\u5283\", \"\\u91cf\\u7522\", \"\\u91d1\\u6cb3\", \"\\u91d1\\u7ba1\\u6703\", \"\\u91d1\\u7ba1\\u6703\", \"\\u91d1\\u7ba1\\u6703\", \"\\u91d1\\u984d\", \"\\u91d1\\u984d\", \"\\u91d1\\u984d\", \"\\u91d1\\u984d\", \"\\u91d1\\u984d\", \"\\u91dd\\u5c0d\", \"\\u91dd\\u5c0d\", \"\\u91dd\\u5c0d\", \"\\u9280\\u884c\", \"\\u9280\\u884c\", \"\\u9280\\u884c\", \"\\u9280\\u884c\", \"\\u9280\\u884c\", \"\\u9577\\u671f\", \"\\u9577\\u671f\", \"\\u9577\\u671f\", \"\\u9577\\u671f\\u6295\\u8cc7\", \"\\u9577\\u69ae\", \"\\u9577\\u69ae\", \"\\u9577\\u69ae\", \"\\u9577\\u69ae\", \"\\u9577\\u69ae\", \"\\u9580\\u724c\", \"\\u958b\\u767c\", \"\\u958b\\u767c\", \"\\u958b\\u767c\", \"\\u9644\\u5c6c\", \"\\u9644\\u5c6c\", \"\\u964d\\u606f\", \"\\u96f2\\u8c79\", \"\\u96fb\\u50f9\", \"\\u96fb\\u5546\", \"\\u9700\\u6c42\", \"\\u9700\\u6c42\", \"\\u9700\\u6c42\", \"\\u9700\\u6c42\", \"\\u9700\\u6c42\", \"\\u9700\\u8981\", \"\\u9700\\u8981\", \"\\u9700\\u8981\", \"\\u9700\\u8981\", \"\\u9707\\u76ea\", \"\\u9762\\u984d\", \"\\u97d3\\u570b\", \"\\u97d3\\u570b\", \"\\u9810\\u552e\", \"\\u9810\\u552e\", \"\\u9810\\u671f\", \"\\u9810\\u671f\", \"\\u9810\\u671f\", \"\\u9810\\u671f\", \"\\u9810\\u671f\", \"\\u982d\\u671f\\u6b3e\", \"\\u9858\\u53d7\", \"\\u9858\\u610f\", \"\\u9858\\u610f\", \"\\u9858\\u610f\", \"\\u985e\\u80a1\", \"\\u98a8\\u96aa\", \"\\u98a8\\u96aa\", \"\\u9ad8\\u5730\", \"\\u9ad8\\u606f\", \"\\u9ad8\\u606f\", \"\\u9ad8\\u9ede\", \"\\u9ad8\\u9ede\", \"\\u9d3b\\u6d77\", \"\\u9d3b\\u6d77\", \"\\u9ede\\u6578\"]}, \"R\": 30, \"lambda.step\": 0.01, \"plot.opts\": {\"xlab\": \"PC1\", \"ylab\": \"PC2\"}, \"topic.order\": [2, 6, 5, 1, 4, 3]};\n",
              "\n",
              "function LDAvis_load_lib(url, callback){\n",
              "  var s = document.createElement('script');\n",
              "  s.src = url;\n",
              "  s.async = true;\n",
              "  s.onreadystatechange = s.onload = callback;\n",
              "  s.onerror = function(){console.warn(\"failed to load library \" + url);};\n",
              "  document.getElementsByTagName(\"head\")[0].appendChild(s);\n",
              "}\n",
              "\n",
              "if(typeof(LDAvis) !== \"undefined\"){\n",
              "   // already loaded: just create the visualization\n",
              "   !function(LDAvis){\n",
              "       new LDAvis(\"#\" + \"ldavis_el4101332500775884165096905146\", ldavis_el4101332500775884165096905146_data);\n",
              "   }(LDAvis);\n",
              "}else if(typeof define === \"function\" && define.amd){\n",
              "   // require.js is available: use it to load d3/LDAvis\n",
              "   require.config({paths: {d3: \"https://d3js.org/d3.v5\"}});\n",
              "   require([\"d3\"], function(d3){\n",
              "      window.d3 = d3;\n",
              "      LDAvis_load_lib(\"https://cdn.jsdelivr.net/gh/bmabey/pyLDAvis@3.4.0/pyLDAvis/js/ldavis.v3.0.0.js\", function(){\n",
              "        new LDAvis(\"#\" + \"ldavis_el4101332500775884165096905146\", ldavis_el4101332500775884165096905146_data);\n",
              "      });\n",
              "    });\n",
              "}else{\n",
              "    // require.js not available: dynamically load d3 & LDAvis\n",
              "    LDAvis_load_lib(\"https://d3js.org/d3.v5.js\", function(){\n",
              "         LDAvis_load_lib(\"https://cdn.jsdelivr.net/gh/bmabey/pyLDAvis@3.4.0/pyLDAvis/js/ldavis.v3.0.0.js\", function(){\n",
              "                 new LDAvis(\"#\" + \"ldavis_el4101332500775884165096905146\", ldavis_el4101332500775884165096905146_data);\n",
              "            })\n",
              "         });\n",
              "}\n",
              "</script>"
            ]
          },
          "metadata": {},
          "execution_count": 135
        }
      ],
      "source": [
        "n_top_words = 10\n",
        "topic_word = model.topic_word_\n",
        "\n",
        "for i, topic_dist in enumerate(topic_word):\n",
        "    topic_words = np.array(vocab)[np.argsort(topic_dist)][: -(n_top_words + 1) : -1]\n",
        "    print(\"Topic {}: {}\".format(i, \" \".join(topic_words)))\n",
        "\n",
        "\n",
        "doc_topic = model.doc_topic_\n",
        "term_freq = tuple(dictionary.cfs.values())\n",
        "doc_len = [sum(v for k, v in doc) for doc in corpus]\n",
        "\n",
        "## LDAvis\n",
        "pyLDAvis.enable_notebook()\n",
        "p = pyLDAvis.prepare(topic_word, doc_topic, doc_len, vocab = vocab, term_frequency = term_freq)\n",
        "p"
      ]
    },
    {
      "cell_type": "code",
      "execution_count": null,
      "metadata": {
        "colab": {
          "base_uri": "https://localhost:8080/"
        },
        "id": "NssUSvEp2H9V",
        "outputId": "65d9bf90-9247-4985-c586-16e0b155cac4"
      },
      "outputs": [
        {
          "output_type": "stream",
          "name": "stderr",
          "text": [
            "/usr/local/lib/python3.10/dist-packages/ipykernel/ipkernel.py:283: DeprecationWarning: `should_run_async` will not call `transform_cell` automatically in the future. Please pass the result to `transformed_cell` argument and any exception that happen during thetransform in `preprocessing_exc_tuple` in IPython 7.17 and above.\n",
            "  and should_run_async(code)\n"
          ]
        }
      ],
      "source": [
        "# udn.loc[udn['artCatagory']=='兩岸', \"content\"].to_csv(\"tmp.csv\")\n",
        "udn.loc[udn['artCatagory']=='兩岸', \"words\"].to_csv(\"words.csv\")\n",
        "udn.loc[udn['artCatagory']=='股市', \"words\"].to_csv(\"words_stock.csv\")\n"
      ]
    },
    {
      "cell_type": "code",
      "execution_count": null,
      "metadata": {
        "id": "BY9b0Jn82H9V"
      },
      "outputs": [],
      "source": [
        "udn.loc[udn['artCatagory']=='兩岸', \"words\"].explode().value_counts().to_csv(\"words_count.csv\")\n",
        "udn.loc[udn['artCatagory']=='股市', \"words\"].explode().value_counts().to_csv(\"words_count_stock.csv\")"
      ]
    },
    {
      "cell_type": "markdown",
      "metadata": {
        "id": "9dwXGmKM2H9V"
      },
      "source": [
        "## 7. 主題分佈的應用，搭配其他文章資訊"
      ]
    },
    {
      "cell_type": "code",
      "execution_count": null,
      "metadata": {
        "colab": {
          "base_uri": "https://localhost:8080/"
        },
        "id": "PlVctxHi2H9V",
        "outputId": "c8f1b987-1eb3-4d80-8740-2e354cfb9b52"
      },
      "outputs": [
        {
          "output_type": "stream",
          "name": "stderr",
          "text": [
            "/usr/local/lib/python3.10/dist-packages/ipykernel/ipkernel.py:283: DeprecationWarning: `should_run_async` will not call `transform_cell` automatically in the future. Please pass the result to `transformed_cell` argument and any exception that happen during thetransform in `preprocessing_exc_tuple` in IPython 7.17 and above.\n",
            "  and should_run_async(code)\n"
          ]
        }
      ],
      "source": [
        "# 取得每條新聞的主題分佈\n",
        "topics_doc = model_5.get_document_topics(corpus)"
      ]
    },
    {
      "cell_type": "code",
      "execution_count": null,
      "metadata": {
        "colab": {
          "base_uri": "https://localhost:8080/"
        },
        "id": "UVgd9CtN2H9W",
        "outputId": "f9eac64e-27a2-468c-c307-d36252195074"
      },
      "outputs": [
        {
          "output_type": "stream",
          "name": "stderr",
          "text": [
            "/usr/local/lib/python3.10/dist-packages/ipykernel/ipkernel.py:283: DeprecationWarning: `should_run_async` will not call `transform_cell` automatically in the future. Please pass the result to `transformed_cell` argument and any exception that happen during thetransform in `preprocessing_exc_tuple` in IPython 7.17 and above.\n",
            "  and should_run_async(code)\n"
          ]
        },
        {
          "output_type": "execute_result",
          "data": {
            "text/plain": [
              "[(0, 0.9287559), (4, 0.054842994)]"
            ]
          },
          "metadata": {},
          "execution_count": 106
        }
      ],
      "source": [
        "topics_doc[100]"
      ]
    },
    {
      "cell_type": "code",
      "execution_count": null,
      "metadata": {
        "colab": {
          "base_uri": "https://localhost:8080/"
        },
        "id": "C0uXjJaS2H9W",
        "outputId": "7ad6e231-73e4-41e7-ba0f-c89f0a79f491"
      },
      "outputs": [
        {
          "output_type": "stream",
          "name": "stderr",
          "text": [
            "/usr/local/lib/python3.10/dist-packages/ipykernel/ipkernel.py:283: DeprecationWarning: `should_run_async` will not call `transform_cell` automatically in the future. Please pass the result to `transformed_cell` argument and any exception that happen during thetransform in `preprocessing_exc_tuple` in IPython 7.17 and above.\n",
            "  and should_run_async(code)\n"
          ]
        },
        {
          "output_type": "execute_result",
          "data": {
            "text/plain": [
              "array([[0.98601699, 0.        , 0.        , 0.        , 0.        ],\n",
              "       [0.77297533, 0.01821236, 0.17168507, 0.01880424, 0.01832297],\n",
              "       [0.21131662, 0.05050683, 0.37543115, 0.32416055, 0.03858482],\n",
              "       ...,\n",
              "       [0.        , 0.        , 0.74439198, 0.25186259, 0.        ],\n",
              "       [0.        , 0.        , 0.99123508, 0.        , 0.        ],\n",
              "       [0.        , 0.        , 0.        , 0.        , 0.99668831]])"
            ]
          },
          "metadata": {},
          "execution_count": 107
        }
      ],
      "source": [
        "m_theta = corpus2csc(topics_doc).T.toarray()\n",
        "m_theta"
      ]
    },
    {
      "cell_type": "code",
      "execution_count": null,
      "metadata": {
        "colab": {
          "base_uri": "https://localhost:8080/"
        },
        "id": "ITxmkxJL2H9W",
        "outputId": "773669db-dfdb-4b9a-df17-57f8c7dedfbf"
      },
      "outputs": [
        {
          "output_type": "stream",
          "name": "stderr",
          "text": [
            "/usr/local/lib/python3.10/dist-packages/ipykernel/ipkernel.py:283: DeprecationWarning: `should_run_async` will not call `transform_cell` automatically in the future. Please pass the result to `transformed_cell` argument and any exception that happen during thetransform in `preprocessing_exc_tuple` in IPython 7.17 and above.\n",
            "  and should_run_async(code)\n"
          ]
        }
      ],
      "source": [
        "udn['topic_label'] = m_theta.argmax(axis=1) + 1"
      ]
    },
    {
      "cell_type": "code",
      "execution_count": null,
      "metadata": {
        "colab": {
          "base_uri": "https://localhost:8080/"
        },
        "id": "niCuKXrX2H9W",
        "outputId": "56c7bece-79e6-41db-c895-170d57228a08"
      },
      "outputs": [
        {
          "output_type": "stream",
          "name": "stderr",
          "text": [
            "/usr/local/lib/python3.10/dist-packages/ipykernel/ipkernel.py:283: DeprecationWarning: `should_run_async` will not call `transform_cell` automatically in the future. Please pass the result to `transformed_cell` argument and any exception that happen during thetransform in `preprocessing_exc_tuple` in IPython 7.17 and above.\n",
            "  and should_run_async(code)\n"
          ]
        },
        {
          "output_type": "execute_result",
          "data": {
            "text/plain": [
              "topic_label\n",
              "1    1832\n",
              "5    1449\n",
              "3     922\n",
              "2     659\n",
              "4     231\n",
              "Name: count, dtype: int64"
            ]
          },
          "metadata": {},
          "execution_count": 109
        }
      ],
      "source": [
        "udn['topic_label'].value_counts()"
      ]
    },
    {
      "cell_type": "code",
      "execution_count": null,
      "metadata": {
        "colab": {
          "base_uri": "https://localhost:8080/",
          "height": 348
        },
        "id": "POzyy1z12H9W",
        "outputId": "80e2b456-471a-479f-a728-1d96e77bd3e4"
      },
      "outputs": [
        {
          "output_type": "stream",
          "name": "stderr",
          "text": [
            "/usr/local/lib/python3.10/dist-packages/ipykernel/ipkernel.py:283: DeprecationWarning: `should_run_async` will not call `transform_cell` automatically in the future. Please pass the result to `transformed_cell` argument and any exception that happen during thetransform in `preprocessing_exc_tuple` in IPython 7.17 and above.\n",
            "  and should_run_async(code)\n"
          ]
        },
        {
          "output_type": "execute_result",
          "data": {
            "text/plain": [
              "                                             content  \\\n",
              "0  不好意思又來叨擾房版了目前有看到高雄兩個物件感覺各有勝負想詢問看看版上的意見兩者的總價室內坪...   \n",
              "1  請問各位先進冠德安沐居要每坪萬冠德大直綻每坪萬雖然都在捷運出口但也比周邊貴一些這個價錢是貴在品牌嗎   \n",
              "2  連結內文台灣金聯土地未運用有原因駁斥養地炒房說媒體報導具公股色彩的台灣金聯近年大舉在南台灣與...   \n",
              "3  好房網重點縣市成交漲跌排行點選區域實價登錄趨勢年月重點縣市實價登錄漲跌排行新竹市萬坪桃園市萬...   \n",
              "4  地範響出畫站次的在規任榭桃均桃參考這篇還在說沒發包出去桃地分好幾標分別發包了今年也安排很多標...   \n",
              "\n",
              "                                              artUrl artCatagory  \\\n",
              "0  https://www.ptt.cc/bbs/home-sale/M.1709223923....   home_sale   \n",
              "1  https://www.ptt.cc/bbs/home-sale/M.1709232819....   home_sale   \n",
              "2  https://www.ptt.cc/bbs/home-sale/M.1709249161....   home_sale   \n",
              "3  https://www.ptt.cc/bbs/home-sale/M.1709251729....   home_sale   \n",
              "4  https://www.ptt.cc/bbs/home-sale/M.1709252693....   home_sale   \n",
              "\n",
              "               artDate                                              words  \\\n",
              "0  2024-03-01 00:25:19  [不好意思, 叨擾, 房版, 目前, 看到, 高雄, 兩個, 物件, 感覺, 各有勝負, 詢...   \n",
              "1  2024-03-01 02:53:37  [請問, 先進, 德安, 沐居要, 每坪, 萬冠德大直, 每坪, 捷運, 出口, 周邊, 一...   \n",
              "2  2024-03-01 07:25:58  [連結, 文台, 灣金聯, 土地, 運用, 原因, 駁斥, 養地, 炒房, 說媒, 報導, ...   \n",
              "3  2024-03-01 08:08:47  [房網, 重點, 縣市, 成交, 漲跌, 排行, 點選, 區域, 實價, 登錄, 趨勢, 重...   \n",
              "4  2024-03-01 08:24:51  [地範響, 出畫, 規任, 桃均桃, 參考, 這篇, 還在, 發包, 桃地分, 好幾, 分別...   \n",
              "\n",
              "   topic_label  \n",
              "0            1  \n",
              "1            1  \n",
              "2            3  \n",
              "3            1  \n",
              "4            1  "
            ],
            "text/html": [
              "\n",
              "  <div id=\"df-940fd22e-2e89-48e9-90fe-ddc16250ec2f\" class=\"colab-df-container\">\n",
              "    <div>\n",
              "<style scoped>\n",
              "    .dataframe tbody tr th:only-of-type {\n",
              "        vertical-align: middle;\n",
              "    }\n",
              "\n",
              "    .dataframe tbody tr th {\n",
              "        vertical-align: top;\n",
              "    }\n",
              "\n",
              "    .dataframe thead th {\n",
              "        text-align: right;\n",
              "    }\n",
              "</style>\n",
              "<table border=\"1\" class=\"dataframe\">\n",
              "  <thead>\n",
              "    <tr style=\"text-align: right;\">\n",
              "      <th></th>\n",
              "      <th>content</th>\n",
              "      <th>artUrl</th>\n",
              "      <th>artCatagory</th>\n",
              "      <th>artDate</th>\n",
              "      <th>words</th>\n",
              "      <th>topic_label</th>\n",
              "    </tr>\n",
              "  </thead>\n",
              "  <tbody>\n",
              "    <tr>\n",
              "      <th>0</th>\n",
              "      <td>不好意思又來叨擾房版了目前有看到高雄兩個物件感覺各有勝負想詢問看看版上的意見兩者的總價室內坪...</td>\n",
              "      <td>https://www.ptt.cc/bbs/home-sale/M.1709223923....</td>\n",
              "      <td>home_sale</td>\n",
              "      <td>2024-03-01 00:25:19</td>\n",
              "      <td>[不好意思, 叨擾, 房版, 目前, 看到, 高雄, 兩個, 物件, 感覺, 各有勝負, 詢...</td>\n",
              "      <td>1</td>\n",
              "    </tr>\n",
              "    <tr>\n",
              "      <th>1</th>\n",
              "      <td>請問各位先進冠德安沐居要每坪萬冠德大直綻每坪萬雖然都在捷運出口但也比周邊貴一些這個價錢是貴在品牌嗎</td>\n",
              "      <td>https://www.ptt.cc/bbs/home-sale/M.1709232819....</td>\n",
              "      <td>home_sale</td>\n",
              "      <td>2024-03-01 02:53:37</td>\n",
              "      <td>[請問, 先進, 德安, 沐居要, 每坪, 萬冠德大直, 每坪, 捷運, 出口, 周邊, 一...</td>\n",
              "      <td>1</td>\n",
              "    </tr>\n",
              "    <tr>\n",
              "      <th>2</th>\n",
              "      <td>連結內文台灣金聯土地未運用有原因駁斥養地炒房說媒體報導具公股色彩的台灣金聯近年大舉在南台灣與...</td>\n",
              "      <td>https://www.ptt.cc/bbs/home-sale/M.1709249161....</td>\n",
              "      <td>home_sale</td>\n",
              "      <td>2024-03-01 07:25:58</td>\n",
              "      <td>[連結, 文台, 灣金聯, 土地, 運用, 原因, 駁斥, 養地, 炒房, 說媒, 報導, ...</td>\n",
              "      <td>3</td>\n",
              "    </tr>\n",
              "    <tr>\n",
              "      <th>3</th>\n",
              "      <td>好房網重點縣市成交漲跌排行點選區域實價登錄趨勢年月重點縣市實價登錄漲跌排行新竹市萬坪桃園市萬...</td>\n",
              "      <td>https://www.ptt.cc/bbs/home-sale/M.1709251729....</td>\n",
              "      <td>home_sale</td>\n",
              "      <td>2024-03-01 08:08:47</td>\n",
              "      <td>[房網, 重點, 縣市, 成交, 漲跌, 排行, 點選, 區域, 實價, 登錄, 趨勢, 重...</td>\n",
              "      <td>1</td>\n",
              "    </tr>\n",
              "    <tr>\n",
              "      <th>4</th>\n",
              "      <td>地範響出畫站次的在規任榭桃均桃參考這篇還在說沒發包出去桃地分好幾標分別發包了今年也安排很多標...</td>\n",
              "      <td>https://www.ptt.cc/bbs/home-sale/M.1709252693....</td>\n",
              "      <td>home_sale</td>\n",
              "      <td>2024-03-01 08:24:51</td>\n",
              "      <td>[地範響, 出畫, 規任, 桃均桃, 參考, 這篇, 還在, 發包, 桃地分, 好幾, 分別...</td>\n",
              "      <td>1</td>\n",
              "    </tr>\n",
              "  </tbody>\n",
              "</table>\n",
              "</div>\n",
              "    <div class=\"colab-df-buttons\">\n",
              "\n",
              "  <div class=\"colab-df-container\">\n",
              "    <button class=\"colab-df-convert\" onclick=\"convertToInteractive('df-940fd22e-2e89-48e9-90fe-ddc16250ec2f')\"\n",
              "            title=\"Convert this dataframe to an interactive table.\"\n",
              "            style=\"display:none;\">\n",
              "\n",
              "  <svg xmlns=\"http://www.w3.org/2000/svg\" height=\"24px\" viewBox=\"0 -960 960 960\">\n",
              "    <path d=\"M120-120v-720h720v720H120Zm60-500h600v-160H180v160Zm220 220h160v-160H400v160Zm0 220h160v-160H400v160ZM180-400h160v-160H180v160Zm440 0h160v-160H620v160ZM180-180h160v-160H180v160Zm440 0h160v-160H620v160Z\"/>\n",
              "  </svg>\n",
              "    </button>\n",
              "\n",
              "  <style>\n",
              "    .colab-df-container {\n",
              "      display:flex;\n",
              "      gap: 12px;\n",
              "    }\n",
              "\n",
              "    .colab-df-convert {\n",
              "      background-color: #E8F0FE;\n",
              "      border: none;\n",
              "      border-radius: 50%;\n",
              "      cursor: pointer;\n",
              "      display: none;\n",
              "      fill: #1967D2;\n",
              "      height: 32px;\n",
              "      padding: 0 0 0 0;\n",
              "      width: 32px;\n",
              "    }\n",
              "\n",
              "    .colab-df-convert:hover {\n",
              "      background-color: #E2EBFA;\n",
              "      box-shadow: 0px 1px 2px rgba(60, 64, 67, 0.3), 0px 1px 3px 1px rgba(60, 64, 67, 0.15);\n",
              "      fill: #174EA6;\n",
              "    }\n",
              "\n",
              "    .colab-df-buttons div {\n",
              "      margin-bottom: 4px;\n",
              "    }\n",
              "\n",
              "    [theme=dark] .colab-df-convert {\n",
              "      background-color: #3B4455;\n",
              "      fill: #D2E3FC;\n",
              "    }\n",
              "\n",
              "    [theme=dark] .colab-df-convert:hover {\n",
              "      background-color: #434B5C;\n",
              "      box-shadow: 0px 1px 3px 1px rgba(0, 0, 0, 0.15);\n",
              "      filter: drop-shadow(0px 1px 2px rgba(0, 0, 0, 0.3));\n",
              "      fill: #FFFFFF;\n",
              "    }\n",
              "  </style>\n",
              "\n",
              "    <script>\n",
              "      const buttonEl =\n",
              "        document.querySelector('#df-940fd22e-2e89-48e9-90fe-ddc16250ec2f button.colab-df-convert');\n",
              "      buttonEl.style.display =\n",
              "        google.colab.kernel.accessAllowed ? 'block' : 'none';\n",
              "\n",
              "      async function convertToInteractive(key) {\n",
              "        const element = document.querySelector('#df-940fd22e-2e89-48e9-90fe-ddc16250ec2f');\n",
              "        const dataTable =\n",
              "          await google.colab.kernel.invokeFunction('convertToInteractive',\n",
              "                                                    [key], {});\n",
              "        if (!dataTable) return;\n",
              "\n",
              "        const docLinkHtml = 'Like what you see? Visit the ' +\n",
              "          '<a target=\"_blank\" href=https://colab.research.google.com/notebooks/data_table.ipynb>data table notebook</a>'\n",
              "          + ' to learn more about interactive tables.';\n",
              "        element.innerHTML = '';\n",
              "        dataTable['output_type'] = 'display_data';\n",
              "        await google.colab.output.renderOutput(dataTable, element);\n",
              "        const docLink = document.createElement('div');\n",
              "        docLink.innerHTML = docLinkHtml;\n",
              "        element.appendChild(docLink);\n",
              "      }\n",
              "    </script>\n",
              "  </div>\n",
              "\n",
              "\n",
              "<div id=\"df-993297aa-f498-4341-b8fe-3bc45f8a3a1a\">\n",
              "  <button class=\"colab-df-quickchart\" onclick=\"quickchart('df-993297aa-f498-4341-b8fe-3bc45f8a3a1a')\"\n",
              "            title=\"Suggest charts\"\n",
              "            style=\"display:none;\">\n",
              "\n",
              "<svg xmlns=\"http://www.w3.org/2000/svg\" height=\"24px\"viewBox=\"0 0 24 24\"\n",
              "     width=\"24px\">\n",
              "    <g>\n",
              "        <path d=\"M19 3H5c-1.1 0-2 .9-2 2v14c0 1.1.9 2 2 2h14c1.1 0 2-.9 2-2V5c0-1.1-.9-2-2-2zM9 17H7v-7h2v7zm4 0h-2V7h2v10zm4 0h-2v-4h2v4z\"/>\n",
              "    </g>\n",
              "</svg>\n",
              "  </button>\n",
              "\n",
              "<style>\n",
              "  .colab-df-quickchart {\n",
              "      --bg-color: #E8F0FE;\n",
              "      --fill-color: #1967D2;\n",
              "      --hover-bg-color: #E2EBFA;\n",
              "      --hover-fill-color: #174EA6;\n",
              "      --disabled-fill-color: #AAA;\n",
              "      --disabled-bg-color: #DDD;\n",
              "  }\n",
              "\n",
              "  [theme=dark] .colab-df-quickchart {\n",
              "      --bg-color: #3B4455;\n",
              "      --fill-color: #D2E3FC;\n",
              "      --hover-bg-color: #434B5C;\n",
              "      --hover-fill-color: #FFFFFF;\n",
              "      --disabled-bg-color: #3B4455;\n",
              "      --disabled-fill-color: #666;\n",
              "  }\n",
              "\n",
              "  .colab-df-quickchart {\n",
              "    background-color: var(--bg-color);\n",
              "    border: none;\n",
              "    border-radius: 50%;\n",
              "    cursor: pointer;\n",
              "    display: none;\n",
              "    fill: var(--fill-color);\n",
              "    height: 32px;\n",
              "    padding: 0;\n",
              "    width: 32px;\n",
              "  }\n",
              "\n",
              "  .colab-df-quickchart:hover {\n",
              "    background-color: var(--hover-bg-color);\n",
              "    box-shadow: 0 1px 2px rgba(60, 64, 67, 0.3), 0 1px 3px 1px rgba(60, 64, 67, 0.15);\n",
              "    fill: var(--button-hover-fill-color);\n",
              "  }\n",
              "\n",
              "  .colab-df-quickchart-complete:disabled,\n",
              "  .colab-df-quickchart-complete:disabled:hover {\n",
              "    background-color: var(--disabled-bg-color);\n",
              "    fill: var(--disabled-fill-color);\n",
              "    box-shadow: none;\n",
              "  }\n",
              "\n",
              "  .colab-df-spinner {\n",
              "    border: 2px solid var(--fill-color);\n",
              "    border-color: transparent;\n",
              "    border-bottom-color: var(--fill-color);\n",
              "    animation:\n",
              "      spin 1s steps(1) infinite;\n",
              "  }\n",
              "\n",
              "  @keyframes spin {\n",
              "    0% {\n",
              "      border-color: transparent;\n",
              "      border-bottom-color: var(--fill-color);\n",
              "      border-left-color: var(--fill-color);\n",
              "    }\n",
              "    20% {\n",
              "      border-color: transparent;\n",
              "      border-left-color: var(--fill-color);\n",
              "      border-top-color: var(--fill-color);\n",
              "    }\n",
              "    30% {\n",
              "      border-color: transparent;\n",
              "      border-left-color: var(--fill-color);\n",
              "      border-top-color: var(--fill-color);\n",
              "      border-right-color: var(--fill-color);\n",
              "    }\n",
              "    40% {\n",
              "      border-color: transparent;\n",
              "      border-right-color: var(--fill-color);\n",
              "      border-top-color: var(--fill-color);\n",
              "    }\n",
              "    60% {\n",
              "      border-color: transparent;\n",
              "      border-right-color: var(--fill-color);\n",
              "    }\n",
              "    80% {\n",
              "      border-color: transparent;\n",
              "      border-right-color: var(--fill-color);\n",
              "      border-bottom-color: var(--fill-color);\n",
              "    }\n",
              "    90% {\n",
              "      border-color: transparent;\n",
              "      border-bottom-color: var(--fill-color);\n",
              "    }\n",
              "  }\n",
              "</style>\n",
              "\n",
              "  <script>\n",
              "    async function quickchart(key) {\n",
              "      const quickchartButtonEl =\n",
              "        document.querySelector('#' + key + ' button');\n",
              "      quickchartButtonEl.disabled = true;  // To prevent multiple clicks.\n",
              "      quickchartButtonEl.classList.add('colab-df-spinner');\n",
              "      try {\n",
              "        const charts = await google.colab.kernel.invokeFunction(\n",
              "            'suggestCharts', [key], {});\n",
              "      } catch (error) {\n",
              "        console.error('Error during call to suggestCharts:', error);\n",
              "      }\n",
              "      quickchartButtonEl.classList.remove('colab-df-spinner');\n",
              "      quickchartButtonEl.classList.add('colab-df-quickchart-complete');\n",
              "    }\n",
              "    (() => {\n",
              "      let quickchartButtonEl =\n",
              "        document.querySelector('#df-993297aa-f498-4341-b8fe-3bc45f8a3a1a button');\n",
              "      quickchartButtonEl.style.display =\n",
              "        google.colab.kernel.accessAllowed ? 'block' : 'none';\n",
              "    })();\n",
              "  </script>\n",
              "</div>\n",
              "\n",
              "    </div>\n",
              "  </div>\n"
            ],
            "application/vnd.google.colaboratory.intrinsic+json": {
              "type": "dataframe",
              "variable_name": "udn",
              "summary": "{\n  \"name\": \"udn\",\n  \"rows\": 5093,\n  \"fields\": [\n    {\n      \"column\": \"content\",\n      \"properties\": {\n        \"dtype\": \"string\",\n        \"num_unique_values\": 4994,\n        \"samples\": [\n          \"\\u5fc5\\u8981\\u8cc7\\u8a0a\\u9580\\u724c\\u53f0\\u4e2d\\u5e02\\u5317\\u5c6f\\u5340\\u5d07\\u5fb7\\u516d\\u8def\\u865f\\u5efa\\u8a2d\\u516c\\u53f8\\u5927\\u6bc5\\u5efa\\u8a2d\\u7e3d\\u6236\\u6578\\u6236\\u5b8c\\u5de5\\u65e5\\u6c11\\u570b\\u5e74\\u6708\\u65e5\\u7e3d\\u6a13\\u9ad8\\u5730\\u4e0a\\u5c64\\u5730\\u4e0b\\u5c64\\u516c\\u8a2d\\u6bd4\\u7d04\\u683c\\u5c40\\u898f\\u5283\\u623f\\u623f\\u623f\\u5b78\\u5340\\u677e\\u7af9\\u570b\\u5c0f\\u5d07\\u5fb7\\u570b\\u4e2d\\u6b21\\u8981\\u8cc7\\u8a0a\\u88dc\\u5145\\u7d14\\u4f4f\\u5bb6\\u96f6\\u5e97\\u9762\\u793e\\u5340\\u8eca\\u4f4d\\u5305\\u542b\\u5761\\u9053\\u5e73\\u9762\\u5761\\u9053\\u6a5f\\u68b0\\u672c\\u6848\\u512a\\u7f3a\\u9ede\\u512a\\u9ede\\u672c\\u793e\\u5340\\u8a2d\\u6709\\u592a\\u967d\\u80fd\\u677f\\u96e8\\u6c34\\u56de\\u6536\\u7cfb\\u7d71\\u751f\\u6a5f\\u80a5\\u6599\\u8207\\u9805\\u8cc7\\u6e90\\u56de\\u6536\\u5c08\\u5340\\u4e3b\\u6253\\u7bc0\\u80fd\\u6e1b\\u78b3\\u7684\\u7da0\\u5efa\\u7bc9\\u6982\\u5ff5\\u5927\\u6bc5\\u5efa\\u8a2d\\u672c\\u8eab\\u7d93\\u71df\\u5927\\u6bc5\\u5e78\\u798f\\u9928\\u958b\\u5fc3\\u8fb2\\u5834\\u4e00\\u755d\\u7530\\u900f\\u904e\\u6708\\u6708\\u8209\\u8fa6\\u8ab2\\u7a0b\\u6d3b\\u52d5\\u51dd\\u805a\\u5927\\u6bc5\\u4f4f\\u6236\\u5c0d\\u793e\\u5340\\u7684\\u5411\\u5fc3\\u529b\\u7f3a\\u9ede\\u9019\\u793e\\u5340\\u4e00\\u76f4\\u662f\\u5c0f\\u59b9\\u5728\\u53f0\\u4e2d\\u6642\\u5f88\\u559c\\u6b61\\u7684\\u5efa\\u6848\\u9084\\u771f\\u7684\\u60f3\\u4e0d\\u592a\\u5230\\u7f3a\\u9ede\\u6b61\\u8fce\\u7248\\u53cb\\u5e6b\\u5fd9\\u88dc\\u5145\\u5099\\u8a3b\\u672c\\u6848\\u70ba\\u5927\\u6bc5\\u5efa\\u8a2d\\u7b2c\\u4e00\\u500b\\u5927\\u6a13\\u578b\\u5efa\\u6848\\u63a1\\u5148\\u5efa\\u5f8c\\u552e\\u66fe\\u69ae\\u7372\\u5e74\\u512a\\u826f\\u516c\\u5bd3\\u5927\\u5ec8\\u8a55\\u9078\\u7b2c\\u4e00\\u540d\\u4ee5\\u53ca\\u8af8\\u591a\\u734e\\u9805\\u76f8\\u95dc\\u9023\\u7d50\\u65b0\\u805e\\u5efa\\u6848\\u5b98\\u7db2\\u5176\\u4ed6\\u5167\\u653f\\u90e8\\u5be6\\u50f9\\u767b\\u9304\\u52ff\\u522a\\u7576\\u521d\\u56de\\u53f0\\u4e2d\\u96d6\\u7136\\u4e3b\\u8981\\u662f\\u5e0c\\u671b\\u53ef\\u4ee5\\u591a\\u9ede\\u6642\\u9593\\u966a\\u4f34\\u8001\\u4eba\\u5bb6\\u4f46\\u4e5f\\u771f\\u7684\\u82b1\\u4e86\\u4e0d\\u5c11\\u6642\\u9593\\u5728\\u8a8d\\u8b58\\u793e\\u5340\\u505a\\u529f\\u8ab2\\u7684\\u5728\\u53f0\\u4e2d\\u6642\\u6211\\u4e00\\u76f4\\u5f88\\u559c\\u6b61\\u4ecb\\u7d39\\u8cb7\\u65b9\\u5927\\u6bc5\\u7684\\u5efa\\u6848\\u9664\\u4e86\\u4e00\\u4e9b\\u6307\\u6a19\\u8c6a\\u5b85\\u5efa\\u5546\\u6216\\u8005\\u60e0\\u5b87\\u84cb\\u7d66\\u9996\\u8cfc\\u53c8\\u9858\\u610f\\u82b1\\u8cbb\\u90a3\\u9ebc\\u5927\\u5fc3\\u529b\\u505a\\u552e\\u5f8c\\u8edf\\u670d\\u52d9\\u7684\\u5efa\\u8a2d\\u516c\\u53f8\\u9084\\u771f\\u7684\\u4e0d\\u7b97\\u591a\\u53ef\\u80fd\\u4e5f\\u662f\\u6211\\u5011\\u642c\\u56de\\u6843\\u5712\\u5f8c\\u5be7\\u9858\\u72a7\\u7272\\u8cfa\\u9322\\u6642\\u9593\\u4e5f\\u5805\\u6301\\u8981\\u505a\\u5546\\u5708\\u6d3b\\u52d5\\u7684\\u4e00\\u500b\\u767c\\u60f3\\u5427\\u8cb7\\u8ce3\\u5f97\\u4e0d\\u55ae\\u55ae\\u662f\\u623f\\u5b50\\u800c\\u662f\\u6709\\u6eab\\u5ea6\\u7684\\u5bb6\\u96d6\\u7136\\u53ef\\u80fd\\u6709\\u4e9b\\u4eba\\u53ea\\u7576\\u9019\\u662f\\u4e00\\u500b\\u53e3\\u865f\\u5566\\u4f46\\u6211\\u5011\\u5e7e\\u4e4e\\u90fd\\u505a\\u81ea\\u7528\\u4f4f\\u5b85\\u5c45\\u591a\\u662f\\u8a8d\\u771f\\u5e0c\\u671b\\u80fd\\u628a\\u6eab\\u5ea6\\u5e36\\u7d66\\u66fe\\u7d93\\u95dc\\u7167\\u6211\\u5011\\u7684\\u4f4f\\u6236\\u5011\",\n          \"\\u5148\\u4e0a\\u5716\\u54e5\\u6843\\u5712\\u65b0\\u4e16\\u4ee3\\u751f\\u6d3b\\u5927\\u5e2b\\u6843\\u5712\\u5c0f\\u6a9c\\u738b\\u54e5\\u7684\\u5bb6\\u4eba\\u5c31\\u4f4f\\u85dd\\u6587\\u7e3d\\u5716\\u5c0d\\u9762\\u6700\\u8fd1\\u85dd\\u6587\\u5927\\u6a13\\u5275\\u65b0\\u9ad8\\u8ce3\\u5104\\u800c\\u4e14\\u9084\\u662f\\u5e74\\u7684\\u8001\\u820a\\u585e\\u8eca\\u4e2d\\u53e4\\u5c4b\\u65c1\\u908a\\u90fd\\u6c92\\u6709\\u5de5\\u696d\\u5340\\u5927\\u5b78\\u751f\\u6d3b\\u771f\\u7684\\u597d\\u6dd2\\u6158\\u554a\\u65c1\\u908a\\u53ea\\u6709\\u5168\\u570b\\u6700\\u7f8e\\u5716\\u66f8\\u9928\\u6c92\\u8fa6\\u6cd5\\u5438\\u5de5\\u696d\\u5ee2\\u6c23\\u9084\\u8981\\u5929\\u5929\\u585e\\u8eca\\u6316\\u6377\\u904b\\u6158\\u5230\\u53ea\\u80fd\\u88ab\\u9178\\u8aaa\\u8cb7\\u9019\\u908a\\u982d\\u6bbc\\u58de\\u6389\\u539f\\u4f86\\u5927\\u5bb6\\u90fd\\u982d\\u660f\\u4e82\\u8cb7\\u6843\\u5712\\u5340\\u4e0d\\u5c0f\\u5fc3\\u5c31\\u8cb7\\u5230\\u5168\\u570b\\u7b2c\\u4e00\\u540d\\u54e5\\u4e5f\\u4e0d\\u5c0f\\u5fc3\\u8ca2\\u737b\\u4e86\\u4e00\\u9ede\\u9ede\\u76f8\\u4fe1\\u5f88\\u591a\\u4eba\\u90fd\\u4e0d\\u77e5\\u9053\\u8001\\u6843\\u5712\\u4eba\\u8cb7\\u623f\\u5f88\\u591a\\u90fd\\u662f\\u76f4\\u63a5\\u7528\\u73fe\\u91d1\\u8cb7\\u5225\\u518d\\u53e3\\u5acc\\u9ad4\\u6b63\\u76f4\\u904e\\u4f86\\u6436\\u623f\\u5b50\\u5566\\u4e0a\\u6b21\\u641e\\u842c\\u8056\\u7bc0\\u6d3b\\u52d5\\u585e\\u8eca\\u5feb\\u4e00\\u500b\\u5c0f\\u6642\\u6843\\u5712\\u5340\\u4eba\\u53e3\\u842c\\u5168\\u570b\\u4eba\\u53e3\\u7b2c\\u4e8c\\u5927\\u5340\\u50c5\\u6b21\\u65bc\\u677f\\u6a4b\\u5728\\u6843\\u7af9\\u82d7\\u4eba\\u53e3\\u6700\\u591a\\u4eba\\u53e3\\u5bc6\\u5ea6\\u6700\\u9ad8\\u5168\\u570b\\u8cb7\\u8ce3\\u91cf\\u7b2c\\u4e00\\u7684\\u5340\\u584a\\u5927\\u5bb6\\u771f\\u7684\\u90fd\\u662f\\u982d\\u6bbc\\u58de\\u6389\\u554a\\u62dc\\u8a17\\u6c92\\u4e8b\\u5225\\u4f86\\u6436\\u554a\\u9084\\u60f3\\u6162\\u6162\\u8cb7\\u90fd\\u88ab\\u6436\\u8d70\\u6843\\u5712\\u591a\\u8ecd\\u7684\\u6307\\u6a19\\u5c31\\u662f\\u677f\\u6a4b\\u554a\\u5c0f\\u6a9c\\u6eaa\\u9060\\u96c4\\u5feb\\u8981\\u5b57\\u982d\\u5be6\\u50f9\\u767b\\u9304\\u9084\\u6162\\u4e86\\u5e7e\\u500b\\u6708\\u798f\\u5bb9\\u4f73\\u9e97\\u5bf6\\u5b57\\u982d\\u9019\\u500b\\u9084\\u662f\\u6210\\u5c4b\\u8cb7\\u8ce3\\u975e\\u9810\\u552e\\u5c4b\\u570b\\u738b\\u4e4b\\u68ee\\u4e00\\u6a23\\u662f\\u6210\\u5c4b\\u8cb7\\u8ce3\\u975e\\u9810\\u552e\\u5c4b\\u6b63\\u65c1\\u908a\\u6709\\u52a0\\u6cb9\\u7ad9\\u661f\\u5df4\\u5ba2\\u9ea5\\u7576\\u52de\\u90fd\\u8ce3\\u5230\\u5feb\\u52a0\\u6cb9\\u5427\\u6b61\\u8fce\\u7e7c\\u7e8c\\u9178\\u5566\\u4f46\\u662f\\u4e0d\\u8981\\u908a\\u9178\\u53c8\\u5077\\u5077\\u8dd1\\u4f86\\u8cb7\\u5bb3\\u6843\\u5712\\u585e\\u8eca\\u66f4\\u56b4\\u91cd\\u8ddf\\u5167\\u6e56\\u96d9\\u5317\\u4e00\\u6a23\\u6bcf\\u5929\\u90fd\\u585e\\u7206\\u7136\\u5f8c\\u6843\\u5712\\u53c8\\u8b8a\\u6210\\u5168\\u570b\\u8cb7\\u8ce3\\u7b2c\\u4e00\\u540d\\u7684\\u5340\",\n          \"\\u5225\\u54ed\\u4fbf\\u7576\\u963f\\u80a5\\u8ddf\\u4f60\\u4e00\\u6a23\\u53ef\\u60b2\\u9019\\u4e00\\u6ce2\\u7684\\u6f32\\u52e2\\u963f\\u80a5\\u4e00\\u5f35\\u6301\\u80a1\\u90fd\\u6c92\\u6709\\u4e5f\\u6c92\\u6709\\u4efb\\u4f55\\u7684\\u6bcf\\u5929\\u770b\\u8457\\u540c\\u4e8b\\u723d\\u5475\\u5475\\u8981\\u4e0b\\u73ed\\u4e4b\\u524d\\u4e0d\\u662f\\u8a0e\\u8ad6\\u53bb\\u5167\\u6e56\\u770b\\u4fdd\\u6642\\u6377\\u4e0d\\u7136\\u5c31\\u662f\\u53c8\\u8981\\u53bb\\u770b\\u54ea\\u88e1\\u7684\\u5927\\u56db\\u623f\\u800c\\u963f\\u80a5\\u53ea\\u5269\\u4e0b\\u6bcf\\u5929\\u53ef\\u60b2\\u7684\\u4fbf\\u7576\\u9322\\u50cf\\u4eca\\u5929\\u963f\\u80a5\\u53ea\\u6709\\u8584\\u8584\\u7684\\u665a\\u9910\\u9322\\u963f\\u80a5\\u6253\\u958b\\u624b\\u6a5f\\u8a02\\u8cfc\\u665a\\u9910\\u800c\\u540c\\u4e8b\\u6bcf\\u500b\\u90fd\\u6253\\u958b\\u624b\\u6a5f\\u4e0d\\u662f\\u8a02\\u623f\\u5c31\\u662f\\u8a02\\u8eca\\u53ea\\u6709\\u963f\\u80a5\\u773c\\u5149\\u6cdb\\u6dda\\u5403\\u8457\\u53cb\\u5584\\u6642\\u5149\\u83ab\\u5fd8\\u4e16\\u4e0a\\u82e6\\u4eba\\u591a\\u7576\\u5927\\u5bb6\\u8cfa\\u5230\\u624b\\u8edf\\u7684\\u6642\\u5019\\u8acb\\u4e0d\\u8981\\u5fd8\\u8a18\\u5e6b\\u5e6b\\u8eab\\u908a\\u9084\\u6709\\u5f88\\u591a\\u50cf\\u963f\\u80a5\\u4e00\\u6a23\\u5403\\u8457\\u53cb\\u5584\\u6642\\u5149\\u6c92\\u6709\\u4e0a\\u8eca\\u7684\\u53ef\\u6190\\u87f2\"\n        ],\n        \"semantic_type\": \"\",\n        \"description\": \"\"\n      }\n    },\n    {\n      \"column\": \"artUrl\",\n      \"properties\": {\n        \"dtype\": \"string\",\n        \"num_unique_values\": 5093,\n        \"samples\": [\n          \"https://www.ptt.cc/bbs/home-sale/M.1710760920.A.04F.html\",\n          \"https://www.ptt.cc/bbs/Stock/M.1710236574.A.F73.html\",\n          \"https://www.ptt.cc/bbs/home-sale/M.1710575738.A.632.html\"\n        ],\n        \"semantic_type\": \"\",\n        \"description\": \"\"\n      }\n    },\n    {\n      \"column\": \"artCatagory\",\n      \"properties\": {\n        \"dtype\": \"category\",\n        \"num_unique_values\": 3,\n        \"samples\": [\n          \"home_sale\",\n          \"Lifeismoney\",\n          \"Stock\"\n        ],\n        \"semantic_type\": \"\",\n        \"description\": \"\"\n      }\n    },\n    {\n      \"column\": \"artDate\",\n      \"properties\": {\n        \"dtype\": \"object\",\n        \"num_unique_values\": 5085,\n        \"samples\": [\n          \"2024-03-27 16:20:32\",\n          \"2024-03-05 01:38:55\",\n          \"2024-03-08 11:56:46\"\n        ],\n        \"semantic_type\": \"\",\n        \"description\": \"\"\n      }\n    },\n    {\n      \"column\": \"words\",\n      \"properties\": {\n        \"dtype\": \"object\",\n        \"semantic_type\": \"\",\n        \"description\": \"\"\n      }\n    },\n    {\n      \"column\": \"topic_label\",\n      \"properties\": {\n        \"dtype\": \"number\",\n        \"std\": 1,\n        \"min\": 1,\n        \"max\": 5,\n        \"num_unique_values\": 5,\n        \"samples\": [\n          3,\n          2,\n          4\n        ],\n        \"semantic_type\": \"\",\n        \"description\": \"\"\n      }\n    }\n  ]\n}"
            }
          },
          "metadata": {},
          "execution_count": 110
        }
      ],
      "source": [
        "udn.head()"
      ]
    },
    {
      "cell_type": "code",
      "execution_count": null,
      "metadata": {
        "colab": {
          "base_uri": "https://localhost:8080/"
        },
        "id": "76XL64e02H9W",
        "outputId": "3037cb36-da10-4677-ab5c-330e8aa9d305"
      },
      "outputs": [
        {
          "output_type": "stream",
          "name": "stderr",
          "text": [
            "/usr/local/lib/python3.10/dist-packages/ipykernel/ipkernel.py:283: DeprecationWarning: `should_run_async` will not call `transform_cell` automatically in the future. Please pass the result to `transformed_cell` argument and any exception that happen during thetransform in `preprocessing_exc_tuple` in IPython 7.17 and above.\n",
            "  and should_run_async(code)\n"
          ]
        }
      ],
      "source": [
        "udn['artDate'] = pd.to_datetime(udn['artDate'])\n"
      ]
    },
    {
      "cell_type": "code",
      "execution_count": null,
      "metadata": {
        "colab": {
          "base_uri": "https://localhost:8080/"
        },
        "id": "LOEj9hbS2H9W",
        "outputId": "e2c0fb54-d6ff-42ee-c330-bbeca4c05f87"
      },
      "outputs": [
        {
          "output_type": "stream",
          "name": "stderr",
          "text": [
            "/usr/local/lib/python3.10/dist-packages/ipykernel/ipkernel.py:283: DeprecationWarning: `should_run_async` will not call `transform_cell` automatically in the future. Please pass the result to `transformed_cell` argument and any exception that happen during thetransform in `preprocessing_exc_tuple` in IPython 7.17 and above.\n",
            "  and should_run_async(code)\n"
          ]
        },
        {
          "output_type": "execute_result",
          "data": {
            "text/plain": [
              "0       2024-03-01\n",
              "1       2024-03-01\n",
              "2       2024-03-01\n",
              "3       2024-03-01\n",
              "4       2024-03-01\n",
              "           ...    \n",
              "5097    2024-03-31\n",
              "5098    2024-03-31\n",
              "5099    2024-03-31\n",
              "5100    2024-03-31\n",
              "5101    2024-03-31\n",
              "Name: artDate, Length: 5093, dtype: object"
            ]
          },
          "metadata": {},
          "execution_count": 112
        }
      ],
      "source": [
        "udn['artDate'].dt.date"
      ]
    },
    {
      "cell_type": "code",
      "execution_count": null,
      "metadata": {
        "colab": {
          "base_uri": "https://localhost:8080/"
        },
        "id": "YpcCQasl2H9W",
        "outputId": "5de65785-bf1f-418d-ab43-210bca8dc296"
      },
      "outputs": [
        {
          "output_type": "stream",
          "name": "stderr",
          "text": [
            "/usr/local/lib/python3.10/dist-packages/ipykernel/ipkernel.py:283: DeprecationWarning: `should_run_async` will not call `transform_cell` automatically in the future. Please pass the result to `transformed_cell` argument and any exception that happen during thetransform in `preprocessing_exc_tuple` in IPython 7.17 and above.\n",
            "  and should_run_async(code)\n"
          ]
        },
        {
          "output_type": "execute_result",
          "data": {
            "text/plain": [
              "artDate     topic_label\n",
              "2024-03-01  1              0.369128\n",
              "            5              0.275168\n",
              "            3              0.187919\n",
              "            2              0.100671\n",
              "            4              0.067114\n",
              "                             ...   \n",
              "2024-03-31  1              0.427419\n",
              "            5              0.258065\n",
              "            3              0.225806\n",
              "            4              0.048387\n",
              "            2              0.040323\n",
              "Name: proportion, Length: 155, dtype: float64"
            ]
          },
          "metadata": {},
          "execution_count": 113
        }
      ],
      "source": [
        "udn.groupby(udn['artDate'].dt.date)['topic_label'].value_counts(normalize=True)"
      ]
    },
    {
      "cell_type": "code",
      "execution_count": null,
      "metadata": {
        "colab": {
          "base_uri": "https://localhost:8080/",
          "height": 292
        },
        "id": "_N4-yane2H9W",
        "outputId": "2d8d21dd-1f3c-436e-f4cb-5cfaac480f45"
      },
      "outputs": [
        {
          "output_type": "stream",
          "name": "stderr",
          "text": [
            "/usr/local/lib/python3.10/dist-packages/ipykernel/ipkernel.py:283: DeprecationWarning: `should_run_async` will not call `transform_cell` automatically in the future. Please pass the result to `transformed_cell` argument and any exception that happen during thetransform in `preprocessing_exc_tuple` in IPython 7.17 and above.\n",
            "  and should_run_async(code)\n"
          ]
        },
        {
          "output_type": "execute_result",
          "data": {
            "text/plain": [
              "topic_label         1         2         3         4         5\n",
              "artDate                                                      \n",
              "2024-03-01   0.369128  0.100671  0.187919  0.067114  0.275168\n",
              "2024-03-02   0.388889  0.111111  0.203704  0.009259  0.287037\n",
              "2024-03-03   0.423529  0.082353  0.200000  0.011765  0.282353\n",
              "2024-03-04   0.286550  0.099415  0.175439  0.076023  0.362573\n",
              "2024-03-05   0.325967  0.171271  0.209945  0.060773  0.232044"
            ],
            "text/html": [
              "\n",
              "  <div id=\"df-1bd32ef9-6ea9-42d5-96ac-10a378724f0f\" class=\"colab-df-container\">\n",
              "    <div>\n",
              "<style scoped>\n",
              "    .dataframe tbody tr th:only-of-type {\n",
              "        vertical-align: middle;\n",
              "    }\n",
              "\n",
              "    .dataframe tbody tr th {\n",
              "        vertical-align: top;\n",
              "    }\n",
              "\n",
              "    .dataframe thead th {\n",
              "        text-align: right;\n",
              "    }\n",
              "</style>\n",
              "<table border=\"1\" class=\"dataframe\">\n",
              "  <thead>\n",
              "    <tr style=\"text-align: right;\">\n",
              "      <th>topic_label</th>\n",
              "      <th>1</th>\n",
              "      <th>2</th>\n",
              "      <th>3</th>\n",
              "      <th>4</th>\n",
              "      <th>5</th>\n",
              "    </tr>\n",
              "    <tr>\n",
              "      <th>artDate</th>\n",
              "      <th></th>\n",
              "      <th></th>\n",
              "      <th></th>\n",
              "      <th></th>\n",
              "      <th></th>\n",
              "    </tr>\n",
              "  </thead>\n",
              "  <tbody>\n",
              "    <tr>\n",
              "      <th>2024-03-01</th>\n",
              "      <td>0.369128</td>\n",
              "      <td>0.100671</td>\n",
              "      <td>0.187919</td>\n",
              "      <td>0.067114</td>\n",
              "      <td>0.275168</td>\n",
              "    </tr>\n",
              "    <tr>\n",
              "      <th>2024-03-02</th>\n",
              "      <td>0.388889</td>\n",
              "      <td>0.111111</td>\n",
              "      <td>0.203704</td>\n",
              "      <td>0.009259</td>\n",
              "      <td>0.287037</td>\n",
              "    </tr>\n",
              "    <tr>\n",
              "      <th>2024-03-03</th>\n",
              "      <td>0.423529</td>\n",
              "      <td>0.082353</td>\n",
              "      <td>0.200000</td>\n",
              "      <td>0.011765</td>\n",
              "      <td>0.282353</td>\n",
              "    </tr>\n",
              "    <tr>\n",
              "      <th>2024-03-04</th>\n",
              "      <td>0.286550</td>\n",
              "      <td>0.099415</td>\n",
              "      <td>0.175439</td>\n",
              "      <td>0.076023</td>\n",
              "      <td>0.362573</td>\n",
              "    </tr>\n",
              "    <tr>\n",
              "      <th>2024-03-05</th>\n",
              "      <td>0.325967</td>\n",
              "      <td>0.171271</td>\n",
              "      <td>0.209945</td>\n",
              "      <td>0.060773</td>\n",
              "      <td>0.232044</td>\n",
              "    </tr>\n",
              "  </tbody>\n",
              "</table>\n",
              "</div>\n",
              "    <div class=\"colab-df-buttons\">\n",
              "\n",
              "  <div class=\"colab-df-container\">\n",
              "    <button class=\"colab-df-convert\" onclick=\"convertToInteractive('df-1bd32ef9-6ea9-42d5-96ac-10a378724f0f')\"\n",
              "            title=\"Convert this dataframe to an interactive table.\"\n",
              "            style=\"display:none;\">\n",
              "\n",
              "  <svg xmlns=\"http://www.w3.org/2000/svg\" height=\"24px\" viewBox=\"0 -960 960 960\">\n",
              "    <path d=\"M120-120v-720h720v720H120Zm60-500h600v-160H180v160Zm220 220h160v-160H400v160Zm0 220h160v-160H400v160ZM180-400h160v-160H180v160Zm440 0h160v-160H620v160ZM180-180h160v-160H180v160Zm440 0h160v-160H620v160Z\"/>\n",
              "  </svg>\n",
              "    </button>\n",
              "\n",
              "  <style>\n",
              "    .colab-df-container {\n",
              "      display:flex;\n",
              "      gap: 12px;\n",
              "    }\n",
              "\n",
              "    .colab-df-convert {\n",
              "      background-color: #E8F0FE;\n",
              "      border: none;\n",
              "      border-radius: 50%;\n",
              "      cursor: pointer;\n",
              "      display: none;\n",
              "      fill: #1967D2;\n",
              "      height: 32px;\n",
              "      padding: 0 0 0 0;\n",
              "      width: 32px;\n",
              "    }\n",
              "\n",
              "    .colab-df-convert:hover {\n",
              "      background-color: #E2EBFA;\n",
              "      box-shadow: 0px 1px 2px rgba(60, 64, 67, 0.3), 0px 1px 3px 1px rgba(60, 64, 67, 0.15);\n",
              "      fill: #174EA6;\n",
              "    }\n",
              "\n",
              "    .colab-df-buttons div {\n",
              "      margin-bottom: 4px;\n",
              "    }\n",
              "\n",
              "    [theme=dark] .colab-df-convert {\n",
              "      background-color: #3B4455;\n",
              "      fill: #D2E3FC;\n",
              "    }\n",
              "\n",
              "    [theme=dark] .colab-df-convert:hover {\n",
              "      background-color: #434B5C;\n",
              "      box-shadow: 0px 1px 3px 1px rgba(0, 0, 0, 0.15);\n",
              "      filter: drop-shadow(0px 1px 2px rgba(0, 0, 0, 0.3));\n",
              "      fill: #FFFFFF;\n",
              "    }\n",
              "  </style>\n",
              "\n",
              "    <script>\n",
              "      const buttonEl =\n",
              "        document.querySelector('#df-1bd32ef9-6ea9-42d5-96ac-10a378724f0f button.colab-df-convert');\n",
              "      buttonEl.style.display =\n",
              "        google.colab.kernel.accessAllowed ? 'block' : 'none';\n",
              "\n",
              "      async function convertToInteractive(key) {\n",
              "        const element = document.querySelector('#df-1bd32ef9-6ea9-42d5-96ac-10a378724f0f');\n",
              "        const dataTable =\n",
              "          await google.colab.kernel.invokeFunction('convertToInteractive',\n",
              "                                                    [key], {});\n",
              "        if (!dataTable) return;\n",
              "\n",
              "        const docLinkHtml = 'Like what you see? Visit the ' +\n",
              "          '<a target=\"_blank\" href=https://colab.research.google.com/notebooks/data_table.ipynb>data table notebook</a>'\n",
              "          + ' to learn more about interactive tables.';\n",
              "        element.innerHTML = '';\n",
              "        dataTable['output_type'] = 'display_data';\n",
              "        await google.colab.output.renderOutput(dataTable, element);\n",
              "        const docLink = document.createElement('div');\n",
              "        docLink.innerHTML = docLinkHtml;\n",
              "        element.appendChild(docLink);\n",
              "      }\n",
              "    </script>\n",
              "  </div>\n",
              "\n",
              "\n",
              "<div id=\"df-ea7a51a5-deb4-4a03-9f58-2aabd5eac23e\">\n",
              "  <button class=\"colab-df-quickchart\" onclick=\"quickchart('df-ea7a51a5-deb4-4a03-9f58-2aabd5eac23e')\"\n",
              "            title=\"Suggest charts\"\n",
              "            style=\"display:none;\">\n",
              "\n",
              "<svg xmlns=\"http://www.w3.org/2000/svg\" height=\"24px\"viewBox=\"0 0 24 24\"\n",
              "     width=\"24px\">\n",
              "    <g>\n",
              "        <path d=\"M19 3H5c-1.1 0-2 .9-2 2v14c0 1.1.9 2 2 2h14c1.1 0 2-.9 2-2V5c0-1.1-.9-2-2-2zM9 17H7v-7h2v7zm4 0h-2V7h2v10zm4 0h-2v-4h2v4z\"/>\n",
              "    </g>\n",
              "</svg>\n",
              "  </button>\n",
              "\n",
              "<style>\n",
              "  .colab-df-quickchart {\n",
              "      --bg-color: #E8F0FE;\n",
              "      --fill-color: #1967D2;\n",
              "      --hover-bg-color: #E2EBFA;\n",
              "      --hover-fill-color: #174EA6;\n",
              "      --disabled-fill-color: #AAA;\n",
              "      --disabled-bg-color: #DDD;\n",
              "  }\n",
              "\n",
              "  [theme=dark] .colab-df-quickchart {\n",
              "      --bg-color: #3B4455;\n",
              "      --fill-color: #D2E3FC;\n",
              "      --hover-bg-color: #434B5C;\n",
              "      --hover-fill-color: #FFFFFF;\n",
              "      --disabled-bg-color: #3B4455;\n",
              "      --disabled-fill-color: #666;\n",
              "  }\n",
              "\n",
              "  .colab-df-quickchart {\n",
              "    background-color: var(--bg-color);\n",
              "    border: none;\n",
              "    border-radius: 50%;\n",
              "    cursor: pointer;\n",
              "    display: none;\n",
              "    fill: var(--fill-color);\n",
              "    height: 32px;\n",
              "    padding: 0;\n",
              "    width: 32px;\n",
              "  }\n",
              "\n",
              "  .colab-df-quickchart:hover {\n",
              "    background-color: var(--hover-bg-color);\n",
              "    box-shadow: 0 1px 2px rgba(60, 64, 67, 0.3), 0 1px 3px 1px rgba(60, 64, 67, 0.15);\n",
              "    fill: var(--button-hover-fill-color);\n",
              "  }\n",
              "\n",
              "  .colab-df-quickchart-complete:disabled,\n",
              "  .colab-df-quickchart-complete:disabled:hover {\n",
              "    background-color: var(--disabled-bg-color);\n",
              "    fill: var(--disabled-fill-color);\n",
              "    box-shadow: none;\n",
              "  }\n",
              "\n",
              "  .colab-df-spinner {\n",
              "    border: 2px solid var(--fill-color);\n",
              "    border-color: transparent;\n",
              "    border-bottom-color: var(--fill-color);\n",
              "    animation:\n",
              "      spin 1s steps(1) infinite;\n",
              "  }\n",
              "\n",
              "  @keyframes spin {\n",
              "    0% {\n",
              "      border-color: transparent;\n",
              "      border-bottom-color: var(--fill-color);\n",
              "      border-left-color: var(--fill-color);\n",
              "    }\n",
              "    20% {\n",
              "      border-color: transparent;\n",
              "      border-left-color: var(--fill-color);\n",
              "      border-top-color: var(--fill-color);\n",
              "    }\n",
              "    30% {\n",
              "      border-color: transparent;\n",
              "      border-left-color: var(--fill-color);\n",
              "      border-top-color: var(--fill-color);\n",
              "      border-right-color: var(--fill-color);\n",
              "    }\n",
              "    40% {\n",
              "      border-color: transparent;\n",
              "      border-right-color: var(--fill-color);\n",
              "      border-top-color: var(--fill-color);\n",
              "    }\n",
              "    60% {\n",
              "      border-color: transparent;\n",
              "      border-right-color: var(--fill-color);\n",
              "    }\n",
              "    80% {\n",
              "      border-color: transparent;\n",
              "      border-right-color: var(--fill-color);\n",
              "      border-bottom-color: var(--fill-color);\n",
              "    }\n",
              "    90% {\n",
              "      border-color: transparent;\n",
              "      border-bottom-color: var(--fill-color);\n",
              "    }\n",
              "  }\n",
              "</style>\n",
              "\n",
              "  <script>\n",
              "    async function quickchart(key) {\n",
              "      const quickchartButtonEl =\n",
              "        document.querySelector('#' + key + ' button');\n",
              "      quickchartButtonEl.disabled = true;  // To prevent multiple clicks.\n",
              "      quickchartButtonEl.classList.add('colab-df-spinner');\n",
              "      try {\n",
              "        const charts = await google.colab.kernel.invokeFunction(\n",
              "            'suggestCharts', [key], {});\n",
              "      } catch (error) {\n",
              "        console.error('Error during call to suggestCharts:', error);\n",
              "      }\n",
              "      quickchartButtonEl.classList.remove('colab-df-spinner');\n",
              "      quickchartButtonEl.classList.add('colab-df-quickchart-complete');\n",
              "    }\n",
              "    (() => {\n",
              "      let quickchartButtonEl =\n",
              "        document.querySelector('#df-ea7a51a5-deb4-4a03-9f58-2aabd5eac23e button');\n",
              "      quickchartButtonEl.style.display =\n",
              "        google.colab.kernel.accessAllowed ? 'block' : 'none';\n",
              "    })();\n",
              "  </script>\n",
              "</div>\n",
              "\n",
              "    </div>\n",
              "  </div>\n"
            ],
            "application/vnd.google.colaboratory.intrinsic+json": {
              "type": "dataframe",
              "variable_name": "date_topic",
              "summary": "{\n  \"name\": \"date_topic\",\n  \"rows\": 31,\n  \"fields\": [\n    {\n      \"column\": \"artDate\",\n      \"properties\": {\n        \"dtype\": \"date\",\n        \"min\": \"2024-03-01\",\n        \"max\": \"2024-03-31\",\n        \"num_unique_values\": 31,\n        \"samples\": [\n          \"2024-03-28\",\n          \"2024-03-16\",\n          \"2024-03-24\"\n        ],\n        \"semantic_type\": \"\",\n        \"description\": \"\"\n      }\n    },\n    {\n      \"column\": 1,\n      \"properties\": {\n        \"dtype\": \"number\",\n        \"std\": 0.07867361340013597,\n        \"min\": 0.2563176895306859,\n        \"max\": 0.5853658536585366,\n        \"num_unique_values\": 30,\n        \"samples\": [\n          0.3558282208588957,\n          0.42,\n          0.34615384615384615\n        ],\n        \"semantic_type\": \"\",\n        \"description\": \"\"\n      }\n    },\n    {\n      \"column\": 2,\n      \"properties\": {\n        \"dtype\": \"number\",\n        \"std\": 0.07640495325492204,\n        \"min\": 0.015037593984962405,\n        \"max\": 0.3285198555956679,\n        \"num_unique_values\": 31,\n        \"samples\": [\n          0.09271523178807947,\n          0.05,\n          0.016260162601626018\n        ],\n        \"semantic_type\": \"\",\n        \"description\": \"\"\n      }\n    },\n    {\n      \"column\": 3,\n      \"properties\": {\n        \"dtype\": \"number\",\n        \"std\": 0.040014094972858606,\n        \"min\": 0.08502024291497975,\n        \"max\": 0.2647058823529412,\n        \"num_unique_values\": 30,\n        \"samples\": [\n          0.2085889570552147,\n          0.15966386554621848,\n          0.21153846153846154\n        ],\n        \"semantic_type\": \"\",\n        \"description\": \"\"\n      }\n    },\n    {\n      \"column\": 4,\n      \"properties\": {\n        \"dtype\": \"number\",\n        \"std\": 0.021928449077542666,\n        \"min\": 0.008130081300813009,\n        \"max\": 0.07692307692307693,\n        \"num_unique_values\": 30,\n        \"samples\": [\n          0.06134969325153374,\n          0.03,\n          0.07692307692307693\n        ],\n        \"semantic_type\": \"\",\n        \"description\": \"\"\n      }\n    },\n    {\n      \"column\": 5,\n      \"properties\": {\n        \"dtype\": \"number\",\n        \"std\": 0.04990977436603408,\n        \"min\": 0.2184873949579832,\n        \"max\": 0.40437158469945356,\n        \"num_unique_values\": 30,\n        \"samples\": [\n          0.27607361963190186,\n          0.3,\n          0.28846153846153844\n        ],\n        \"semantic_type\": \"\",\n        \"description\": \"\"\n      }\n    }\n  ]\n}"
            }
          },
          "metadata": {},
          "execution_count": 114
        }
      ],
      "source": [
        "date_topic = udn.groupby(udn['artDate'].dt.date)['topic_label'].value_counts(normalize=True).unstack()\n",
        "date_topic.head()"
      ]
    },
    {
      "cell_type": "markdown",
      "source": [
        "## 計算不同時間段的主題比率"
      ],
      "metadata": {
        "id": "h61AusAHmVLb"
      }
    },
    {
      "cell_type": "code",
      "execution_count": null,
      "metadata": {
        "colab": {
          "base_uri": "https://localhost:8080/",
          "height": 1000
        },
        "id": "gTHI4-6w2H9X",
        "outputId": "c478863b-8fed-4b34-d312-a36fdd32594e"
      },
      "outputs": [
        {
          "output_type": "stream",
          "name": "stderr",
          "text": [
            "/usr/local/lib/python3.10/dist-packages/ipykernel/ipkernel.py:283: DeprecationWarning: `should_run_async` will not call `transform_cell` automatically in the future. Please pass the result to `transformed_cell` argument and any exception that happen during thetransform in `preprocessing_exc_tuple` in IPython 7.17 and above.\n",
            "  and should_run_async(code)\n"
          ]
        },
        {
          "output_type": "execute_result",
          "data": {
            "text/plain": [
              "<matplotlib.legend.Legend at 0x7930acae7af0>"
            ]
          },
          "metadata": {},
          "execution_count": 115
        },
        {
          "output_type": "stream",
          "name": "stderr",
          "text": [
            "WARNING:matplotlib.font_manager:findfont: Generic family 'sans-serif' not found because none of the following families were found: SimHei\n",
            "WARNING:matplotlib.font_manager:findfont: Generic family 'sans-serif' not found because none of the following families were found: SimHei\n",
            "WARNING:matplotlib.font_manager:findfont: Generic family 'sans-serif' not found because none of the following families were found: SimHei\n",
            "WARNING:matplotlib.font_manager:findfont: Generic family 'sans-serif' not found because none of the following families were found: SimHei\n",
            "WARNING:matplotlib.font_manager:findfont: Generic family 'sans-serif' not found because none of the following families were found: SimHei\n",
            "WARNING:matplotlib.font_manager:findfont: Generic family 'sans-serif' not found because none of the following families were found: SimHei\n",
            "WARNING:matplotlib.font_manager:findfont: Generic family 'sans-serif' not found because none of the following families were found: SimHei\n",
            "WARNING:matplotlib.font_manager:findfont: Generic family 'sans-serif' not found because none of the following families were found: SimHei\n",
            "WARNING:matplotlib.font_manager:findfont: Generic family 'sans-serif' not found because none of the following families were found: SimHei\n",
            "WARNING:matplotlib.font_manager:findfont: Generic family 'sans-serif' not found because none of the following families were found: SimHei\n",
            "WARNING:matplotlib.font_manager:findfont: Generic family 'sans-serif' not found because none of the following families were found: SimHei\n",
            "WARNING:matplotlib.font_manager:findfont: Generic family 'sans-serif' not found because none of the following families were found: SimHei\n",
            "WARNING:matplotlib.font_manager:findfont: Generic family 'sans-serif' not found because none of the following families were found: SimHei\n",
            "WARNING:matplotlib.font_manager:findfont: Generic family 'sans-serif' not found because none of the following families were found: SimHei\n",
            "WARNING:matplotlib.font_manager:findfont: Generic family 'sans-serif' not found because none of the following families were found: SimHei\n",
            "WARNING:matplotlib.font_manager:findfont: Generic family 'sans-serif' not found because none of the following families were found: SimHei\n",
            "WARNING:matplotlib.font_manager:findfont: Generic family 'sans-serif' not found because none of the following families were found: SimHei\n",
            "WARNING:matplotlib.font_manager:findfont: Generic family 'sans-serif' not found because none of the following families were found: SimHei\n",
            "WARNING:matplotlib.font_manager:findfont: Generic family 'sans-serif' not found because none of the following families were found: SimHei\n",
            "WARNING:matplotlib.font_manager:findfont: Generic family 'sans-serif' not found because none of the following families were found: SimHei\n",
            "WARNING:matplotlib.font_manager:findfont: Generic family 'sans-serif' not found because none of the following families were found: SimHei\n",
            "WARNING:matplotlib.font_manager:findfont: Generic family 'sans-serif' not found because none of the following families were found: SimHei\n",
            "WARNING:matplotlib.font_manager:findfont: Generic family 'sans-serif' not found because none of the following families were found: SimHei\n",
            "WARNING:matplotlib.font_manager:findfont: Generic family 'sans-serif' not found because none of the following families were found: SimHei\n",
            "WARNING:matplotlib.font_manager:findfont: Generic family 'sans-serif' not found because none of the following families were found: SimHei\n",
            "WARNING:matplotlib.font_manager:findfont: Generic family 'sans-serif' not found because none of the following families were found: SimHei\n",
            "WARNING:matplotlib.font_manager:findfont: Generic family 'sans-serif' not found because none of the following families were found: SimHei\n",
            "WARNING:matplotlib.font_manager:findfont: Generic family 'sans-serif' not found because none of the following families were found: SimHei\n",
            "WARNING:matplotlib.font_manager:findfont: Generic family 'sans-serif' not found because none of the following families were found: SimHei\n",
            "WARNING:matplotlib.font_manager:findfont: Generic family 'sans-serif' not found because none of the following families were found: SimHei\n",
            "WARNING:matplotlib.font_manager:findfont: Generic family 'sans-serif' not found because none of the following families were found: SimHei\n",
            "WARNING:matplotlib.font_manager:findfont: Generic family 'sans-serif' not found because none of the following families were found: SimHei\n",
            "WARNING:matplotlib.font_manager:findfont: Generic family 'sans-serif' not found because none of the following families were found: SimHei\n",
            "WARNING:matplotlib.font_manager:findfont: Generic family 'sans-serif' not found because none of the following families were found: SimHei\n",
            "WARNING:matplotlib.font_manager:findfont: Generic family 'sans-serif' not found because none of the following families were found: SimHei\n",
            "WARNING:matplotlib.font_manager:findfont: Generic family 'sans-serif' not found because none of the following families were found: SimHei\n",
            "WARNING:matplotlib.font_manager:findfont: Generic family 'sans-serif' not found because none of the following families were found: SimHei\n",
            "WARNING:matplotlib.font_manager:findfont: Generic family 'sans-serif' not found because none of the following families were found: SimHei\n",
            "WARNING:matplotlib.font_manager:findfont: Generic family 'sans-serif' not found because none of the following families were found: SimHei\n",
            "WARNING:matplotlib.font_manager:findfont: Generic family 'sans-serif' not found because none of the following families were found: SimHei\n",
            "WARNING:matplotlib.font_manager:findfont: Generic family 'sans-serif' not found because none of the following families were found: SimHei\n",
            "WARNING:matplotlib.font_manager:findfont: Generic family 'sans-serif' not found because none of the following families were found: SimHei\n",
            "WARNING:matplotlib.font_manager:findfont: Generic family 'sans-serif' not found because none of the following families were found: SimHei\n",
            "WARNING:matplotlib.font_manager:findfont: Generic family 'sans-serif' not found because none of the following families were found: SimHei\n",
            "WARNING:matplotlib.font_manager:findfont: Generic family 'sans-serif' not found because none of the following families were found: SimHei\n",
            "WARNING:matplotlib.font_manager:findfont: Generic family 'sans-serif' not found because none of the following families were found: SimHei\n",
            "WARNING:matplotlib.font_manager:findfont: Generic family 'sans-serif' not found because none of the following families were found: SimHei\n",
            "WARNING:matplotlib.font_manager:findfont: Generic family 'sans-serif' not found because none of the following families were found: SimHei\n",
            "WARNING:matplotlib.font_manager:findfont: Generic family 'sans-serif' not found because none of the following families were found: SimHei\n",
            "WARNING:matplotlib.font_manager:findfont: Generic family 'sans-serif' not found because none of the following families were found: SimHei\n",
            "WARNING:matplotlib.font_manager:findfont: Generic family 'sans-serif' not found because none of the following families were found: SimHei\n",
            "WARNING:matplotlib.font_manager:findfont: Generic family 'sans-serif' not found because none of the following families were found: SimHei\n",
            "WARNING:matplotlib.font_manager:findfont: Generic family 'sans-serif' not found because none of the following families were found: SimHei\n",
            "WARNING:matplotlib.font_manager:findfont: Generic family 'sans-serif' not found because none of the following families were found: SimHei\n",
            "WARNING:matplotlib.font_manager:findfont: Generic family 'sans-serif' not found because none of the following families were found: SimHei\n",
            "WARNING:matplotlib.font_manager:findfont: Generic family 'sans-serif' not found because none of the following families were found: SimHei\n",
            "WARNING:matplotlib.font_manager:findfont: Generic family 'sans-serif' not found because none of the following families were found: SimHei\n",
            "WARNING:matplotlib.font_manager:findfont: Generic family 'sans-serif' not found because none of the following families were found: SimHei\n",
            "WARNING:matplotlib.font_manager:findfont: Generic family 'sans-serif' not found because none of the following families were found: SimHei\n",
            "WARNING:matplotlib.font_manager:findfont: Generic family 'sans-serif' not found because none of the following families were found: SimHei\n",
            "WARNING:matplotlib.font_manager:findfont: Generic family 'sans-serif' not found because none of the following families were found: SimHei\n",
            "WARNING:matplotlib.font_manager:findfont: Generic family 'sans-serif' not found because none of the following families were found: SimHei\n",
            "WARNING:matplotlib.font_manager:findfont: Generic family 'sans-serif' not found because none of the following families were found: SimHei\n",
            "WARNING:matplotlib.font_manager:findfont: Generic family 'sans-serif' not found because none of the following families were found: SimHei\n",
            "WARNING:matplotlib.font_manager:findfont: Generic family 'sans-serif' not found because none of the following families were found: SimHei\n",
            "WARNING:matplotlib.font_manager:findfont: Generic family 'sans-serif' not found because none of the following families were found: SimHei\n",
            "WARNING:matplotlib.font_manager:findfont: Generic family 'sans-serif' not found because none of the following families were found: SimHei\n",
            "WARNING:matplotlib.font_manager:findfont: Generic family 'sans-serif' not found because none of the following families were found: SimHei\n",
            "WARNING:matplotlib.font_manager:findfont: Generic family 'sans-serif' not found because none of the following families were found: SimHei\n",
            "WARNING:matplotlib.font_manager:findfont: Generic family 'sans-serif' not found because none of the following families were found: SimHei\n",
            "WARNING:matplotlib.font_manager:findfont: Generic family 'sans-serif' not found because none of the following families were found: SimHei\n",
            "WARNING:matplotlib.font_manager:findfont: Generic family 'sans-serif' not found because none of the following families were found: SimHei\n",
            "WARNING:matplotlib.font_manager:findfont: Generic family 'sans-serif' not found because none of the following families were found: SimHei\n",
            "WARNING:matplotlib.font_manager:findfont: Generic family 'sans-serif' not found because none of the following families were found: SimHei\n",
            "WARNING:matplotlib.font_manager:findfont: Generic family 'sans-serif' not found because none of the following families were found: SimHei\n",
            "WARNING:matplotlib.font_manager:findfont: Generic family 'sans-serif' not found because none of the following families were found: SimHei\n",
            "WARNING:matplotlib.font_manager:findfont: Generic family 'sans-serif' not found because none of the following families were found: SimHei\n",
            "WARNING:matplotlib.font_manager:findfont: Generic family 'sans-serif' not found because none of the following families were found: SimHei\n",
            "WARNING:matplotlib.font_manager:findfont: Generic family 'sans-serif' not found because none of the following families were found: SimHei\n",
            "WARNING:matplotlib.font_manager:findfont: Generic family 'sans-serif' not found because none of the following families were found: SimHei\n",
            "WARNING:matplotlib.font_manager:findfont: Generic family 'sans-serif' not found because none of the following families were found: SimHei\n",
            "WARNING:matplotlib.font_manager:findfont: Generic family 'sans-serif' not found because none of the following families were found: SimHei\n",
            "WARNING:matplotlib.font_manager:findfont: Generic family 'sans-serif' not found because none of the following families were found: SimHei\n",
            "WARNING:matplotlib.font_manager:findfont: Generic family 'sans-serif' not found because none of the following families were found: SimHei\n",
            "WARNING:matplotlib.font_manager:findfont: Generic family 'sans-serif' not found because none of the following families were found: SimHei\n",
            "WARNING:matplotlib.font_manager:findfont: Generic family 'sans-serif' not found because none of the following families were found: SimHei\n",
            "WARNING:matplotlib.font_manager:findfont: Generic family 'sans-serif' not found because none of the following families were found: SimHei\n",
            "WARNING:matplotlib.font_manager:findfont: Generic family 'sans-serif' not found because none of the following families were found: SimHei\n",
            "WARNING:matplotlib.font_manager:findfont: Generic family 'sans-serif' not found because none of the following families were found: SimHei\n",
            "WARNING:matplotlib.font_manager:findfont: Generic family 'sans-serif' not found because none of the following families were found: SimHei\n",
            "WARNING:matplotlib.font_manager:findfont: Generic family 'sans-serif' not found because none of the following families were found: SimHei\n",
            "WARNING:matplotlib.font_manager:findfont: Generic family 'sans-serif' not found because none of the following families were found: SimHei\n",
            "WARNING:matplotlib.font_manager:findfont: Generic family 'sans-serif' not found because none of the following families were found: SimHei\n",
            "WARNING:matplotlib.font_manager:findfont: Generic family 'sans-serif' not found because none of the following families were found: SimHei\n",
            "WARNING:matplotlib.font_manager:findfont: Generic family 'sans-serif' not found because none of the following families were found: SimHei\n",
            "WARNING:matplotlib.font_manager:findfont: Generic family 'sans-serif' not found because none of the following families were found: SimHei\n",
            "WARNING:matplotlib.font_manager:findfont: Generic family 'sans-serif' not found because none of the following families were found: SimHei\n",
            "WARNING:matplotlib.font_manager:findfont: Generic family 'sans-serif' not found because none of the following families were found: SimHei\n",
            "WARNING:matplotlib.font_manager:findfont: Generic family 'sans-serif' not found because none of the following families were found: SimHei\n",
            "WARNING:matplotlib.font_manager:findfont: Generic family 'sans-serif' not found because none of the following families were found: SimHei\n",
            "WARNING:matplotlib.font_manager:findfont: Generic family 'sans-serif' not found because none of the following families were found: SimHei\n",
            "WARNING:matplotlib.font_manager:findfont: Generic family 'sans-serif' not found because none of the following families were found: SimHei\n",
            "WARNING:matplotlib.font_manager:findfont: Generic family 'sans-serif' not found because none of the following families were found: SimHei\n",
            "WARNING:matplotlib.font_manager:findfont: Generic family 'sans-serif' not found because none of the following families were found: SimHei\n",
            "WARNING:matplotlib.font_manager:findfont: Generic family 'sans-serif' not found because none of the following families were found: SimHei\n",
            "WARNING:matplotlib.font_manager:findfont: Generic family 'sans-serif' not found because none of the following families were found: SimHei\n",
            "WARNING:matplotlib.font_manager:findfont: Generic family 'sans-serif' not found because none of the following families were found: SimHei\n",
            "WARNING:matplotlib.font_manager:findfont: Generic family 'sans-serif' not found because none of the following families were found: SimHei\n",
            "WARNING:matplotlib.font_manager:findfont: Generic family 'sans-serif' not found because none of the following families were found: SimHei\n",
            "WARNING:matplotlib.font_manager:findfont: Generic family 'sans-serif' not found because none of the following families were found: SimHei\n",
            "WARNING:matplotlib.font_manager:findfont: Generic family 'sans-serif' not found because none of the following families were found: SimHei\n",
            "WARNING:matplotlib.font_manager:findfont: Generic family 'sans-serif' not found because none of the following families were found: SimHei\n",
            "WARNING:matplotlib.font_manager:findfont: Generic family 'sans-serif' not found because none of the following families were found: SimHei\n",
            "WARNING:matplotlib.font_manager:findfont: Generic family 'sans-serif' not found because none of the following families were found: SimHei\n",
            "WARNING:matplotlib.font_manager:findfont: Generic family 'sans-serif' not found because none of the following families were found: SimHei\n",
            "WARNING:matplotlib.font_manager:findfont: Generic family 'sans-serif' not found because none of the following families were found: SimHei\n",
            "WARNING:matplotlib.font_manager:findfont: Generic family 'sans-serif' not found because none of the following families were found: SimHei\n",
            "WARNING:matplotlib.font_manager:findfont: Generic family 'sans-serif' not found because none of the following families were found: SimHei\n",
            "WARNING:matplotlib.font_manager:findfont: Generic family 'sans-serif' not found because none of the following families were found: SimHei\n",
            "WARNING:matplotlib.font_manager:findfont: Generic family 'sans-serif' not found because none of the following families were found: SimHei\n",
            "WARNING:matplotlib.font_manager:findfont: Generic family 'sans-serif' not found because none of the following families were found: SimHei\n",
            "WARNING:matplotlib.font_manager:findfont: Generic family 'sans-serif' not found because none of the following families were found: SimHei\n",
            "WARNING:matplotlib.font_manager:findfont: Generic family 'sans-serif' not found because none of the following families were found: SimHei\n",
            "WARNING:matplotlib.font_manager:findfont: Generic family 'sans-serif' not found because none of the following families were found: SimHei\n",
            "WARNING:matplotlib.font_manager:findfont: Generic family 'sans-serif' not found because none of the following families were found: SimHei\n",
            "WARNING:matplotlib.font_manager:findfont: Generic family 'sans-serif' not found because none of the following families were found: SimHei\n",
            "WARNING:matplotlib.font_manager:findfont: Generic family 'sans-serif' not found because none of the following families were found: SimHei\n",
            "WARNING:matplotlib.font_manager:findfont: Generic family 'sans-serif' not found because none of the following families were found: SimHei\n",
            "WARNING:matplotlib.font_manager:findfont: Generic family 'sans-serif' not found because none of the following families were found: SimHei\n",
            "WARNING:matplotlib.font_manager:findfont: Generic family 'sans-serif' not found because none of the following families were found: SimHei\n",
            "WARNING:matplotlib.font_manager:findfont: Generic family 'sans-serif' not found because none of the following families were found: SimHei\n",
            "WARNING:matplotlib.font_manager:findfont: Generic family 'sans-serif' not found because none of the following families were found: SimHei\n",
            "WARNING:matplotlib.font_manager:findfont: Generic family 'sans-serif' not found because none of the following families were found: SimHei\n",
            "WARNING:matplotlib.font_manager:findfont: Generic family 'sans-serif' not found because none of the following families were found: SimHei\n",
            "WARNING:matplotlib.font_manager:findfont: Generic family 'sans-serif' not found because none of the following families were found: SimHei\n",
            "WARNING:matplotlib.font_manager:findfont: Generic family 'sans-serif' not found because none of the following families were found: SimHei\n",
            "WARNING:matplotlib.font_manager:findfont: Generic family 'sans-serif' not found because none of the following families were found: SimHei\n",
            "WARNING:matplotlib.font_manager:findfont: Generic family 'sans-serif' not found because none of the following families were found: SimHei\n",
            "WARNING:matplotlib.font_manager:findfont: Generic family 'sans-serif' not found because none of the following families were found: SimHei\n",
            "WARNING:matplotlib.font_manager:findfont: Generic family 'sans-serif' not found because none of the following families were found: SimHei\n",
            "WARNING:matplotlib.font_manager:findfont: Generic family 'sans-serif' not found because none of the following families were found: SimHei\n",
            "WARNING:matplotlib.font_manager:findfont: Generic family 'sans-serif' not found because none of the following families were found: SimHei\n",
            "WARNING:matplotlib.font_manager:findfont: Generic family 'sans-serif' not found because none of the following families were found: SimHei\n",
            "WARNING:matplotlib.font_manager:findfont: Generic family 'sans-serif' not found because none of the following families were found: SimHei\n",
            "WARNING:matplotlib.font_manager:findfont: Generic family 'sans-serif' not found because none of the following families were found: SimHei\n",
            "WARNING:matplotlib.font_manager:findfont: Generic family 'sans-serif' not found because none of the following families were found: SimHei\n",
            "WARNING:matplotlib.font_manager:findfont: Generic family 'sans-serif' not found because none of the following families were found: SimHei\n",
            "WARNING:matplotlib.font_manager:findfont: Generic family 'sans-serif' not found because none of the following families were found: SimHei\n",
            "WARNING:matplotlib.font_manager:findfont: Generic family 'sans-serif' not found because none of the following families were found: SimHei\n",
            "WARNING:matplotlib.font_manager:findfont: Generic family 'sans-serif' not found because none of the following families were found: SimHei\n",
            "WARNING:matplotlib.font_manager:findfont: Generic family 'sans-serif' not found because none of the following families were found: SimHei\n",
            "WARNING:matplotlib.font_manager:findfont: Generic family 'sans-serif' not found because none of the following families were found: SimHei\n",
            "WARNING:matplotlib.font_manager:findfont: Generic family 'sans-serif' not found because none of the following families were found: SimHei\n",
            "WARNING:matplotlib.font_manager:findfont: Generic family 'sans-serif' not found because none of the following families were found: SimHei\n",
            "WARNING:matplotlib.font_manager:findfont: Generic family 'sans-serif' not found because none of the following families were found: SimHei\n",
            "WARNING:matplotlib.font_manager:findfont: Generic family 'sans-serif' not found because none of the following families were found: SimHei\n",
            "WARNING:matplotlib.font_manager:findfont: Generic family 'sans-serif' not found because none of the following families were found: SimHei\n",
            "WARNING:matplotlib.font_manager:findfont: Generic family 'sans-serif' not found because none of the following families were found: SimHei\n",
            "WARNING:matplotlib.font_manager:findfont: Generic family 'sans-serif' not found because none of the following families were found: SimHei\n",
            "WARNING:matplotlib.font_manager:findfont: Generic family 'sans-serif' not found because none of the following families were found: SimHei\n",
            "WARNING:matplotlib.font_manager:findfont: Generic family 'sans-serif' not found because none of the following families were found: SimHei\n",
            "WARNING:matplotlib.font_manager:findfont: Generic family 'sans-serif' not found because none of the following families were found: SimHei\n",
            "WARNING:matplotlib.font_manager:findfont: Generic family 'sans-serif' not found because none of the following families were found: SimHei\n",
            "WARNING:matplotlib.font_manager:findfont: Generic family 'sans-serif' not found because none of the following families were found: SimHei\n",
            "WARNING:matplotlib.font_manager:findfont: Generic family 'sans-serif' not found because none of the following families were found: SimHei\n",
            "WARNING:matplotlib.font_manager:findfont: Generic family 'sans-serif' not found because none of the following families were found: SimHei\n",
            "WARNING:matplotlib.font_manager:findfont: Generic family 'sans-serif' not found because none of the following families were found: SimHei\n",
            "WARNING:matplotlib.font_manager:findfont: Generic family 'sans-serif' not found because none of the following families were found: SimHei\n",
            "WARNING:matplotlib.font_manager:findfont: Generic family 'sans-serif' not found because none of the following families were found: SimHei\n",
            "WARNING:matplotlib.font_manager:findfont: Generic family 'sans-serif' not found because none of the following families were found: SimHei\n",
            "WARNING:matplotlib.font_manager:findfont: Generic family 'sans-serif' not found because none of the following families were found: SimHei\n",
            "WARNING:matplotlib.font_manager:findfont: Generic family 'sans-serif' not found because none of the following families were found: SimHei\n",
            "WARNING:matplotlib.font_manager:findfont: Generic family 'sans-serif' not found because none of the following families were found: SimHei\n",
            "WARNING:matplotlib.font_manager:findfont: Generic family 'sans-serif' not found because none of the following families were found: SimHei\n",
            "WARNING:matplotlib.font_manager:findfont: Generic family 'sans-serif' not found because none of the following families were found: SimHei\n",
            "WARNING:matplotlib.font_manager:findfont: Generic family 'sans-serif' not found because none of the following families were found: SimHei\n",
            "WARNING:matplotlib.font_manager:findfont: Generic family 'sans-serif' not found because none of the following families were found: SimHei\n",
            "WARNING:matplotlib.font_manager:findfont: Generic family 'sans-serif' not found because none of the following families were found: SimHei\n",
            "WARNING:matplotlib.font_manager:findfont: Generic family 'sans-serif' not found because none of the following families were found: SimHei\n",
            "WARNING:matplotlib.font_manager:findfont: Generic family 'sans-serif' not found because none of the following families were found: SimHei\n",
            "WARNING:matplotlib.font_manager:findfont: Generic family 'sans-serif' not found because none of the following families were found: SimHei\n",
            "WARNING:matplotlib.font_manager:findfont: Generic family 'sans-serif' not found because none of the following families were found: SimHei\n",
            "WARNING:matplotlib.font_manager:findfont: Generic family 'sans-serif' not found because none of the following families were found: SimHei\n",
            "WARNING:matplotlib.font_manager:findfont: Generic family 'sans-serif' not found because none of the following families were found: SimHei\n",
            "WARNING:matplotlib.font_manager:findfont: Generic family 'sans-serif' not found because none of the following families were found: SimHei\n",
            "WARNING:matplotlib.font_manager:findfont: Generic family 'sans-serif' not found because none of the following families were found: SimHei\n",
            "WARNING:matplotlib.font_manager:findfont: Generic family 'sans-serif' not found because none of the following families were found: SimHei\n",
            "WARNING:matplotlib.font_manager:findfont: Generic family 'sans-serif' not found because none of the following families were found: SimHei\n",
            "WARNING:matplotlib.font_manager:findfont: Generic family 'sans-serif' not found because none of the following families were found: SimHei\n",
            "WARNING:matplotlib.font_manager:findfont: Generic family 'sans-serif' not found because none of the following families were found: SimHei\n",
            "WARNING:matplotlib.font_manager:findfont: Generic family 'sans-serif' not found because none of the following families were found: SimHei\n",
            "WARNING:matplotlib.font_manager:findfont: Generic family 'sans-serif' not found because none of the following families were found: SimHei\n",
            "WARNING:matplotlib.font_manager:findfont: Generic family 'sans-serif' not found because none of the following families were found: SimHei\n",
            "WARNING:matplotlib.font_manager:findfont: Generic family 'sans-serif' not found because none of the following families were found: SimHei\n",
            "WARNING:matplotlib.font_manager:findfont: Generic family 'sans-serif' not found because none of the following families were found: SimHei\n",
            "WARNING:matplotlib.font_manager:findfont: Generic family 'sans-serif' not found because none of the following families were found: SimHei\n",
            "WARNING:matplotlib.font_manager:findfont: Generic family 'sans-serif' not found because none of the following families were found: SimHei\n",
            "WARNING:matplotlib.font_manager:findfont: Generic family 'sans-serif' not found because none of the following families were found: SimHei\n",
            "WARNING:matplotlib.font_manager:findfont: Generic family 'sans-serif' not found because none of the following families were found: SimHei\n",
            "WARNING:matplotlib.font_manager:findfont: Generic family 'sans-serif' not found because none of the following families were found: SimHei\n",
            "WARNING:matplotlib.font_manager:findfont: Generic family 'sans-serif' not found because none of the following families were found: SimHei\n",
            "WARNING:matplotlib.font_manager:findfont: Generic family 'sans-serif' not found because none of the following families were found: SimHei\n",
            "WARNING:matplotlib.font_manager:findfont: Generic family 'sans-serif' not found because none of the following families were found: SimHei\n",
            "WARNING:matplotlib.font_manager:findfont: Generic family 'sans-serif' not found because none of the following families were found: SimHei\n",
            "WARNING:matplotlib.font_manager:findfont: Generic family 'sans-serif' not found because none of the following families were found: SimHei\n",
            "WARNING:matplotlib.font_manager:findfont: Generic family 'sans-serif' not found because none of the following families were found: SimHei\n",
            "WARNING:matplotlib.font_manager:findfont: Generic family 'sans-serif' not found because none of the following families were found: SimHei\n",
            "WARNING:matplotlib.font_manager:findfont: Generic family 'sans-serif' not found because none of the following families were found: SimHei\n",
            "WARNING:matplotlib.font_manager:findfont: Generic family 'sans-serif' not found because none of the following families were found: SimHei\n",
            "WARNING:matplotlib.font_manager:findfont: Generic family 'sans-serif' not found because none of the following families were found: SimHei\n",
            "WARNING:matplotlib.font_manager:findfont: Generic family 'sans-serif' not found because none of the following families were found: SimHei\n",
            "WARNING:matplotlib.font_manager:findfont: Generic family 'sans-serif' not found because none of the following families were found: SimHei\n",
            "WARNING:matplotlib.font_manager:findfont: Generic family 'sans-serif' not found because none of the following families were found: SimHei\n",
            "WARNING:matplotlib.font_manager:findfont: Generic family 'sans-serif' not found because none of the following families were found: SimHei\n",
            "WARNING:matplotlib.font_manager:findfont: Generic family 'sans-serif' not found because none of the following families were found: SimHei\n",
            "WARNING:matplotlib.font_manager:findfont: Generic family 'sans-serif' not found because none of the following families were found: SimHei\n",
            "WARNING:matplotlib.font_manager:findfont: Generic family 'sans-serif' not found because none of the following families were found: SimHei\n",
            "WARNING:matplotlib.font_manager:findfont: Generic family 'sans-serif' not found because none of the following families were found: SimHei\n",
            "WARNING:matplotlib.font_manager:findfont: Generic family 'sans-serif' not found because none of the following families were found: SimHei\n",
            "WARNING:matplotlib.font_manager:findfont: Generic family 'sans-serif' not found because none of the following families were found: SimHei\n",
            "WARNING:matplotlib.font_manager:findfont: Generic family 'sans-serif' not found because none of the following families were found: SimHei\n",
            "WARNING:matplotlib.font_manager:findfont: Generic family 'sans-serif' not found because none of the following families were found: SimHei\n",
            "WARNING:matplotlib.font_manager:findfont: Generic family 'sans-serif' not found because none of the following families were found: SimHei\n",
            "WARNING:matplotlib.font_manager:findfont: Generic family 'sans-serif' not found because none of the following families were found: SimHei\n",
            "WARNING:matplotlib.font_manager:findfont: Generic family 'sans-serif' not found because none of the following families were found: SimHei\n",
            "WARNING:matplotlib.font_manager:findfont: Generic family 'sans-serif' not found because none of the following families were found: SimHei\n",
            "WARNING:matplotlib.font_manager:findfont: Generic family 'sans-serif' not found because none of the following families were found: SimHei\n",
            "WARNING:matplotlib.font_manager:findfont: Generic family 'sans-serif' not found because none of the following families were found: SimHei\n",
            "WARNING:matplotlib.font_manager:findfont: Generic family 'sans-serif' not found because none of the following families were found: SimHei\n",
            "WARNING:matplotlib.font_manager:findfont: Generic family 'sans-serif' not found because none of the following families were found: SimHei\n",
            "WARNING:matplotlib.font_manager:findfont: Generic family 'sans-serif' not found because none of the following families were found: SimHei\n",
            "WARNING:matplotlib.font_manager:findfont: Generic family 'sans-serif' not found because none of the following families were found: SimHei\n",
            "WARNING:matplotlib.font_manager:findfont: Generic family 'sans-serif' not found because none of the following families were found: SimHei\n",
            "WARNING:matplotlib.font_manager:findfont: Generic family 'sans-serif' not found because none of the following families were found: SimHei\n",
            "WARNING:matplotlib.font_manager:findfont: Generic family 'sans-serif' not found because none of the following families were found: SimHei\n",
            "WARNING:matplotlib.font_manager:findfont: Generic family 'sans-serif' not found because none of the following families were found: SimHei\n",
            "WARNING:matplotlib.font_manager:findfont: Generic family 'sans-serif' not found because none of the following families were found: SimHei\n",
            "WARNING:matplotlib.font_manager:findfont: Generic family 'sans-serif' not found because none of the following families were found: SimHei\n",
            "WARNING:matplotlib.font_manager:findfont: Generic family 'sans-serif' not found because none of the following families were found: SimHei\n",
            "WARNING:matplotlib.font_manager:findfont: Generic family 'sans-serif' not found because none of the following families were found: SimHei\n",
            "WARNING:matplotlib.font_manager:findfont: Generic family 'sans-serif' not found because none of the following families were found: SimHei\n",
            "WARNING:matplotlib.font_manager:findfont: Generic family 'sans-serif' not found because none of the following families were found: SimHei\n",
            "WARNING:matplotlib.font_manager:findfont: Generic family 'sans-serif' not found because none of the following families were found: SimHei\n",
            "WARNING:matplotlib.font_manager:findfont: Generic family 'sans-serif' not found because none of the following families were found: SimHei\n",
            "WARNING:matplotlib.font_manager:findfont: Generic family 'sans-serif' not found because none of the following families were found: SimHei\n",
            "WARNING:matplotlib.font_manager:findfont: Generic family 'sans-serif' not found because none of the following families were found: SimHei\n",
            "WARNING:matplotlib.font_manager:findfont: Generic family 'sans-serif' not found because none of the following families were found: SimHei\n",
            "WARNING:matplotlib.font_manager:findfont: Generic family 'sans-serif' not found because none of the following families were found: SimHei\n",
            "WARNING:matplotlib.font_manager:findfont: Generic family 'sans-serif' not found because none of the following families were found: SimHei\n",
            "WARNING:matplotlib.font_manager:findfont: Generic family 'sans-serif' not found because none of the following families were found: SimHei\n",
            "WARNING:matplotlib.font_manager:findfont: Generic family 'sans-serif' not found because none of the following families were found: SimHei\n",
            "WARNING:matplotlib.font_manager:findfont: Generic family 'sans-serif' not found because none of the following families were found: SimHei\n",
            "WARNING:matplotlib.font_manager:findfont: Generic family 'sans-serif' not found because none of the following families were found: SimHei\n",
            "WARNING:matplotlib.font_manager:findfont: Generic family 'sans-serif' not found because none of the following families were found: SimHei\n",
            "WARNING:matplotlib.font_manager:findfont: Generic family 'sans-serif' not found because none of the following families were found: SimHei\n",
            "WARNING:matplotlib.font_manager:findfont: Generic family 'sans-serif' not found because none of the following families were found: SimHei\n",
            "WARNING:matplotlib.font_manager:findfont: Generic family 'sans-serif' not found because none of the following families were found: SimHei\n",
            "WARNING:matplotlib.font_manager:findfont: Generic family 'sans-serif' not found because none of the following families were found: SimHei\n",
            "WARNING:matplotlib.font_manager:findfont: Generic family 'sans-serif' not found because none of the following families were found: SimHei\n",
            "WARNING:matplotlib.font_manager:findfont: Generic family 'sans-serif' not found because none of the following families were found: SimHei\n",
            "WARNING:matplotlib.font_manager:findfont: Generic family 'sans-serif' not found because none of the following families were found: SimHei\n",
            "WARNING:matplotlib.font_manager:findfont: Generic family 'sans-serif' not found because none of the following families were found: SimHei\n",
            "WARNING:matplotlib.font_manager:findfont: Generic family 'sans-serif' not found because none of the following families were found: SimHei\n",
            "WARNING:matplotlib.font_manager:findfont: Generic family 'sans-serif' not found because none of the following families were found: SimHei\n"
          ]
        },
        {
          "output_type": "display_data",
          "data": {
            "text/plain": [
              "<Figure size 1500x600 with 1 Axes>"
            ],
            "image/png": "[encoded data removed]"
          },
          "metadata": {}
        }
      ],
      "source": [
        "fig, ax = plt.subplots(figsize=(15, 6))\n",
        "date_topic.plot.bar(ax=ax, stacked=True, color = plt.cm.Set3.colors)\n",
        "ax.legend(loc='lower right')"
      ]
    },
    {
      "cell_type": "markdown",
      "metadata": {
        "id": "XYvEePzo2H9X"
      },
      "source": [
        "可以看到主題3（中國各產業市場）在 2/15、2/16 被討論的比例很高，可以作為後續探索的目標，<br>\n",
        "大家可以像這樣，透過搭配文章的資訊（例如日期等），讓主題模型的結果做出更多的分析應用。"
      ]
    }
  ],
  "metadata": {
    "kernelspec": {
      "display_name": "py37",
      "language": "python",
      "name": "python3"
    },
    "language_info": {
      "codemirror_mode": {
        "name": "ipython",
        "version": 3
      },
      "file_extension": ".py",
      "mimetype": "text/x-python",
      "name": "python",
      "nbconvert_exporter": "python",
      "pygments_lexer": "ipython3",
      "version": "3.8.19"
    },
    "orig_nbformat": 4,
    "colab": {
      "provenance": []
    }
  },
  "nbformat": 4,
  "nbformat_minor": 0
}