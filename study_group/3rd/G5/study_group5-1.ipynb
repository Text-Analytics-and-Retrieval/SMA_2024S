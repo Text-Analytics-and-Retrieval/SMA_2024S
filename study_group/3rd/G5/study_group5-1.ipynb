{
 "cells": [
  {
   "cell_type": "code",
   "execution_count": 1,
   "metadata": {},
   "outputs": [],
   "source": [
    "import time \n",
    "from functools import reduce\n",
    "from collections import Counter\n",
    "from pprint import pprint\n",
    "\n",
    "import numpy as np\n",
    "import pandas as pd\n",
    "import matplotlib.pyplot as plt\n",
    "import jieba\n",
    "from sklearn.feature_extraction.text import TfidfVectorizer, CountVectorizer\n",
    "from gensim.corpora import Dictionary\n",
    "from gensim.models import LdaModel, CoherenceModel\n",
    "from gensim.models.ldamulticore import LdaMulticore\n",
    "from gensim.matutils import corpus2csc, corpus2dense, Sparse2Corpus\n",
    "\n",
    "import pyLDAvis\n",
    "import pyLDAvis.gensim_models"
   ]
  },
  {
   "cell_type": "code",
   "execution_count": 2,
   "metadata": {},
   "outputs": [],
   "source": [
    "import logging\n",
    "logging.basicConfig(format='%(asctime)s : %(levelname)s : %(message)s', level=logging.INFO)"
   ]
  },
  {
   "cell_type": "markdown",
   "metadata": {},
   "source": [
    "## 資料前處理"
   ]
  },
  {
   "cell_type": "markdown",
   "metadata": {},
   "source": [
    "## <font color=#ffa>資料集\n",
    "蘋果日報：娛樂時尚, 3C車市, 國際, 生活, 社會, 政治, 體育  \n",
    "檢索時段：2024年4月  \n",
    "資料筆數：4492筆\n",
    "</font>"
   ]
  },
  {
   "cell_type": "code",
   "execution_count": 4,
   "metadata": {},
   "outputs": [
    {
     "data": {
      "text/html": [
       "<div>\n",
       "<style scoped>\n",
       "    .dataframe tbody tr th:only-of-type {\n",
       "        vertical-align: middle;\n",
       "    }\n",
       "\n",
       "    .dataframe tbody tr th {\n",
       "        vertical-align: top;\n",
       "    }\n",
       "\n",
       "    .dataframe thead th {\n",
       "        text-align: right;\n",
       "    }\n",
       "</style>\n",
       "<table border=\"1\" class=\"dataframe\">\n",
       "  <thead>\n",
       "    <tr style=\"text-align: right;\">\n",
       "      <th></th>\n",
       "      <th>system_id</th>\n",
       "      <th>artTitle</th>\n",
       "      <th>artDate</th>\n",
       "      <th>artCatagory</th>\n",
       "      <th>artUrl</th>\n",
       "      <th>artContent</th>\n",
       "      <th>dataSource</th>\n",
       "    </tr>\n",
       "  </thead>\n",
       "  <tbody>\n",
       "    <tr>\n",
       "      <th>0</th>\n",
       "      <td>1</td>\n",
       "      <td>CITIZEN抗磁飛行錶端酷帥鋼鐵灰、曜石黑　韋禮安搶先戴上手</td>\n",
       "      <td>2024-04-01 18:41:00</td>\n",
       "      <td>娛樂時尚</td>\n",
       "      <td>https://tw.nextapple.com/entertainment/2024040...</td>\n",
       "      <td>【記者劉旻君／台北報導】若是經常出遊的outdoor派，也許對日本鐘錶品牌CITIZEN的P...</td>\n",
       "      <td>appleDaily</td>\n",
       "    </tr>\n",
       "    <tr>\n",
       "      <th>1</th>\n",
       "      <td>2</td>\n",
       "      <td>劉香慈高齡懷第3胎　不敢驗「唐氏症」！曝心中有堅定答案</td>\n",
       "      <td>2024-04-01 07:52:00</td>\n",
       "      <td>娛樂時尚</td>\n",
       "      <td>https://tw.nextapple.com/entertainment/2024040...</td>\n",
       "      <td>【王怡人／綜合報導】40歲「最美士官長」劉香慈和永信藥品總經理鍾威凱育有2子，兩人婚姻剛跨越...</td>\n",
       "      <td>appleDaily</td>\n",
       "    </tr>\n",
       "    <tr>\n",
       "      <th>2</th>\n",
       "      <td>3</td>\n",
       "      <td>南拳媽媽張傑與「他」穩交6年　最新戀情成果曝光</td>\n",
       "      <td>2024-04-01 18:10:00</td>\n",
       "      <td>娛樂時尚</td>\n",
       "      <td>https://tw.nextapple.com/entertainment/2024040...</td>\n",
       "      <td>【記者林秭渝／台北報導】曾奪下亞洲、東亞、世界運動會的健美比賽拿過銀牌、金牌和銅牌的許家豪，...</td>\n",
       "      <td>appleDaily</td>\n",
       "    </tr>\n",
       "  </tbody>\n",
       "</table>\n",
       "</div>"
      ],
      "text/plain": [
       "   system_id                         artTitle              artDate  \\\n",
       "0          1  CITIZEN抗磁飛行錶端酷帥鋼鐵灰、曜石黑　韋禮安搶先戴上手  2024-04-01 18:41:00   \n",
       "1          2      劉香慈高齡懷第3胎　不敢驗「唐氏症」！曝心中有堅定答案  2024-04-01 07:52:00   \n",
       "2          3          南拳媽媽張傑與「他」穩交6年　最新戀情成果曝光  2024-04-01 18:10:00   \n",
       "\n",
       "  artCatagory                                             artUrl  \\\n",
       "0        娛樂時尚  https://tw.nextapple.com/entertainment/2024040...   \n",
       "1        娛樂時尚  https://tw.nextapple.com/entertainment/2024040...   \n",
       "2        娛樂時尚  https://tw.nextapple.com/entertainment/2024040...   \n",
       "\n",
       "                                          artContent  dataSource  \n",
       "0  【記者劉旻君／台北報導】若是經常出遊的outdoor派，也許對日本鐘錶品牌CITIZEN的P...  appleDaily  \n",
       "1  【王怡人／綜合報導】40歲「最美士官長」劉香慈和永信藥品總經理鍾威凱育有2子，兩人婚姻剛跨越...  appleDaily  \n",
       "2  【記者林秭渝／台北報導】曾奪下亞洲、東亞、世界運動會的健美比賽拿過銀牌、金牌和銅牌的許家豪，...  appleDaily  "
      ]
     },
     "execution_count": 4,
     "metadata": {},
     "output_type": "execute_result"
    }
   ],
   "source": [
    "udn = pd.read_csv(\"CSV/appleNews04.csv\")  # 匯資料\n",
    "udn.head(3)"
   ]
  },
  {
   "cell_type": "code",
   "execution_count": 4,
   "metadata": {},
   "outputs": [
    {
     "data": {
      "text/html": [
       "<div>\n",
       "<style scoped>\n",
       "    .dataframe tbody tr th:only-of-type {\n",
       "        vertical-align: middle;\n",
       "    }\n",
       "\n",
       "    .dataframe tbody tr th {\n",
       "        vertical-align: top;\n",
       "    }\n",
       "\n",
       "    .dataframe thead th {\n",
       "        text-align: right;\n",
       "    }\n",
       "</style>\n",
       "<table border=\"1\" class=\"dataframe\">\n",
       "  <thead>\n",
       "    <tr style=\"text-align: right;\">\n",
       "      <th></th>\n",
       "      <th>content</th>\n",
       "      <th>artUrl</th>\n",
       "      <th>artCatagory</th>\n",
       "      <th>artDate</th>\n",
       "    </tr>\n",
       "  </thead>\n",
       "  <tbody>\n",
       "    <tr>\n",
       "      <th>0</th>\n",
       "      <td>記者劉旻君台北報導若是經常出遊的派也許對日本鐘錶品牌的系列不陌生近日該系列又有新作登場端出首...</td>\n",
       "      <td>https://tw.nextapple.com/entertainment/2024040...</td>\n",
       "      <td>娛樂時尚</td>\n",
       "      <td>2024-04-01 18:41:00</td>\n",
       "    </tr>\n",
       "    <tr>\n",
       "      <th>1</th>\n",
       "      <td>王怡人綜合報導歲最美士官長劉香慈和永信藥品總經理鍾威凱育有子兩人婚姻剛跨越七年之癢她開心懷上...</td>\n",
       "      <td>https://tw.nextapple.com/entertainment/2024040...</td>\n",
       "      <td>娛樂時尚</td>\n",
       "      <td>2024-04-01 07:52:00</td>\n",
       "    </tr>\n",
       "    <tr>\n",
       "      <th>2</th>\n",
       "      <td>記者林秭渝台北報導曾奪下亞洲東亞世界運動會的健美比賽拿過銀牌金牌和銅牌的許家豪與從歌手轉戰健...</td>\n",
       "      <td>https://tw.nextapple.com/entertainment/2024040...</td>\n",
       "      <td>娛樂時尚</td>\n",
       "      <td>2024-04-01 18:10:00</td>\n",
       "    </tr>\n",
       "  </tbody>\n",
       "</table>\n",
       "</div>"
      ],
      "text/plain": [
       "                                             content  \\\n",
       "0  記者劉旻君台北報導若是經常出遊的派也許對日本鐘錶品牌的系列不陌生近日該系列又有新作登場端出首...   \n",
       "1  王怡人綜合報導歲最美士官長劉香慈和永信藥品總經理鍾威凱育有子兩人婚姻剛跨越七年之癢她開心懷上...   \n",
       "2  記者林秭渝台北報導曾奪下亞洲東亞世界運動會的健美比賽拿過銀牌金牌和銅牌的許家豪與從歌手轉戰健...   \n",
       "\n",
       "                                              artUrl artCatagory  \\\n",
       "0  https://tw.nextapple.com/entertainment/2024040...        娛樂時尚   \n",
       "1  https://tw.nextapple.com/entertainment/2024040...        娛樂時尚   \n",
       "2  https://tw.nextapple.com/entertainment/2024040...        娛樂時尚   \n",
       "\n",
       "               artDate  \n",
       "0  2024-04-01 18:41:00  \n",
       "1  2024-04-01 07:52:00  \n",
       "2  2024-04-01 18:10:00  "
      ]
     },
     "execution_count": 4,
     "metadata": {},
     "output_type": "execute_result"
    }
   ],
   "source": [
    "# 移除網址格式\n",
    "# 只留下中文字\n",
    "udn[\"artContent\"] = udn[\"artContent\"].str.replace(\"(http|https)://.*\", \"\", regex=True)\n",
    "udn[\"artTitle\"] = udn[\"artTitle\"].str.replace(\"(http|https)://.*\", \"\", regex=True)\n",
    "udn[\"artContent\"] = udn[\"artContent\"].str.replace(\"[^\\u4e00-\\u9fa5]+\", \"\", regex=True)\n",
    "udn[\"artTitle\"] = udn[\"artTitle\"].str.replace(\"[^\\u4e00-\\u9fa5]+\", \"\", regex=True)\n",
    "udn['content'] = udn['artContent']\n",
    "\n",
    "\n",
    "udn = udn.loc[:,[\"content\", \"artUrl\", \"artCatagory\", 'artDate']]  # 文章內容 文章連結\n",
    "udn.head(3)"
   ]
  },
  {
   "cell_type": "code",
   "execution_count": 5,
   "metadata": {},
   "outputs": [
    {
     "name": "stderr",
     "output_type": "stream",
     "text": [
      "Building prefix dict from c:\\新電腦\\課業\\1122\\社媒\\w10\\期末\\dict\\dict.txt.big ...\n",
      "2024-05-05 23:47:36,215 : DEBUG : Building prefix dict from c:\\新電腦\\課業\\1122\\社媒\\w10\\期末\\dict\\dict.txt.big ...\n",
      "Loading model from cache C:\\Users\\win90\\AppData\\Local\\Temp\\jieba.u7ceb51d5e090774a1d7e965ba195b2ac.cache\n",
      "2024-05-05 23:47:36,217 : DEBUG : Loading model from cache C:\\Users\\win90\\AppData\\Local\\Temp\\jieba.u7ceb51d5e090774a1d7e965ba195b2ac.cache\n",
      "Loading model cost 0.873 seconds.\n",
      "2024-05-05 23:47:37,090 : DEBUG : Loading model cost 0.873 seconds.\n",
      "Prefix dict has been built successfully.\n",
      "2024-05-05 23:47:37,091 : DEBUG : Prefix dict has been built successfully.\n"
     ]
    },
    {
     "data": {
      "text/html": [
       "<div>\n",
       "<style scoped>\n",
       "    .dataframe tbody tr th:only-of-type {\n",
       "        vertical-align: middle;\n",
       "    }\n",
       "\n",
       "    .dataframe tbody tr th {\n",
       "        vertical-align: top;\n",
       "    }\n",
       "\n",
       "    .dataframe thead th {\n",
       "        text-align: right;\n",
       "    }\n",
       "</style>\n",
       "<table border=\"1\" class=\"dataframe\">\n",
       "  <thead>\n",
       "    <tr style=\"text-align: right;\">\n",
       "      <th></th>\n",
       "      <th>content</th>\n",
       "      <th>artUrl</th>\n",
       "      <th>artCatagory</th>\n",
       "      <th>artDate</th>\n",
       "      <th>words</th>\n",
       "    </tr>\n",
       "  </thead>\n",
       "  <tbody>\n",
       "    <tr>\n",
       "      <th>0</th>\n",
       "      <td>記者劉旻君台北報導若是經常出遊的派也許對日本鐘錶品牌的系列不陌生近日該系列又有新作登場端出首...</td>\n",
       "      <td>https://tw.nextapple.com/entertainment/2024040...</td>\n",
       "      <td>娛樂時尚</td>\n",
       "      <td>2024-04-01 18:41:00</td>\n",
       "      <td>[劉旻君, 台北, 出遊, 也許, 日本, 鐘錶, 品牌, 系列, 陌生, 近日, 系列, ...</td>\n",
       "    </tr>\n",
       "    <tr>\n",
       "      <th>1</th>\n",
       "      <td>王怡人綜合報導歲最美士官長劉香慈和永信藥品總經理鍾威凱育有子兩人婚姻剛跨越七年之癢她開心懷上...</td>\n",
       "      <td>https://tw.nextapple.com/entertainment/2024040...</td>\n",
       "      <td>娛樂時尚</td>\n",
       "      <td>2024-04-01 07:52:00</td>\n",
       "      <td>[王怡, 最美, 士官長, 劉香, 慈和, 永信, 藥品, 總經理, 威凱育, 有子, 兩人...</td>\n",
       "    </tr>\n",
       "    <tr>\n",
       "      <th>2</th>\n",
       "      <td>記者林秭渝台北報導曾奪下亞洲東亞世界運動會的健美比賽拿過銀牌金牌和銅牌的許家豪與從歌手轉戰健...</td>\n",
       "      <td>https://tw.nextapple.com/entertainment/2024040...</td>\n",
       "      <td>娛樂時尚</td>\n",
       "      <td>2024-04-01 18:10:00</td>\n",
       "      <td>[秭渝, 台北, 奪下, 亞洲, 東亞, 世界, 運動會, 健美, 比賽, 拿過, 銀牌, ...</td>\n",
       "    </tr>\n",
       "    <tr>\n",
       "      <th>3</th>\n",
       "      <td>吳惠菁綜合報導愚人節搞笑日本電視台生活資訊節目突然插播北韓領導人金正恩閱兵的影片引起網友恐慌...</td>\n",
       "      <td>https://tw.nextapple.com/entertainment/2024040...</td>\n",
       "      <td>娛樂時尚</td>\n",
       "      <td>2024-04-01 11:58:00</td>\n",
       "      <td>[吳惠菁, 愚人節, 搞笑, 日本, 電視, 生活, 資訊, 節目, 突然, 插播, 北韓,...</td>\n",
       "    </tr>\n",
       "    <tr>\n",
       "      <th>4</th>\n",
       "      <td>記者陳薇安綜合報導打造出經典劇如果歲還是處男似乎就能成為魔法師的日本東京電視台又有新作推出改...</td>\n",
       "      <td>https://tw.nextapple.com/entertainment/2024040...</td>\n",
       "      <td>娛樂時尚</td>\n",
       "      <td>2024-04-01 21:46:00</td>\n",
       "      <td>[打造出, 經典, 處男, 似乎, 成為, 魔法師, 日本, 東京, 電視, 新作, 推出,...</td>\n",
       "    </tr>\n",
       "  </tbody>\n",
       "</table>\n",
       "</div>"
      ],
      "text/plain": [
       "                                             content  \\\n",
       "0  記者劉旻君台北報導若是經常出遊的派也許對日本鐘錶品牌的系列不陌生近日該系列又有新作登場端出首...   \n",
       "1  王怡人綜合報導歲最美士官長劉香慈和永信藥品總經理鍾威凱育有子兩人婚姻剛跨越七年之癢她開心懷上...   \n",
       "2  記者林秭渝台北報導曾奪下亞洲東亞世界運動會的健美比賽拿過銀牌金牌和銅牌的許家豪與從歌手轉戰健...   \n",
       "3  吳惠菁綜合報導愚人節搞笑日本電視台生活資訊節目突然插播北韓領導人金正恩閱兵的影片引起網友恐慌...   \n",
       "4  記者陳薇安綜合報導打造出經典劇如果歲還是處男似乎就能成為魔法師的日本東京電視台又有新作推出改...   \n",
       "\n",
       "                                              artUrl artCatagory  \\\n",
       "0  https://tw.nextapple.com/entertainment/2024040...        娛樂時尚   \n",
       "1  https://tw.nextapple.com/entertainment/2024040...        娛樂時尚   \n",
       "2  https://tw.nextapple.com/entertainment/2024040...        娛樂時尚   \n",
       "3  https://tw.nextapple.com/entertainment/2024040...        娛樂時尚   \n",
       "4  https://tw.nextapple.com/entertainment/2024040...        娛樂時尚   \n",
       "\n",
       "               artDate                                              words  \n",
       "0  2024-04-01 18:41:00  [劉旻君, 台北, 出遊, 也許, 日本, 鐘錶, 品牌, 系列, 陌生, 近日, 系列, ...  \n",
       "1  2024-04-01 07:52:00  [王怡, 最美, 士官長, 劉香, 慈和, 永信, 藥品, 總經理, 威凱育, 有子, 兩人...  \n",
       "2  2024-04-01 18:10:00  [秭渝, 台北, 奪下, 亞洲, 東亞, 世界, 運動會, 健美, 比賽, 拿過, 銀牌, ...  \n",
       "3  2024-04-01 11:58:00  [吳惠菁, 愚人節, 搞笑, 日本, 電視, 生活, 資訊, 節目, 突然, 插播, 北韓,...  \n",
       "4  2024-04-01 21:46:00  [打造出, 經典, 處男, 似乎, 成為, 魔法師, 日本, 東京, 電視, 新作, 推出,...  "
      ]
     },
     "execution_count": 5,
     "metadata": {},
     "output_type": "execute_result"
    }
   ],
   "source": [
    "# 設定繁體中文詞庫\n",
    "jieba.set_dictionary(\"./dict/dict.txt.big\")\n",
    "\n",
    "# 新增stopwords\n",
    "# jieba.analyse.set_stop_words('./dict/stop_words.txt') #jieba.analyse.extract_tags才會作用\n",
    "with open(\"./dict/stop_words.txt\", encoding=\"utf-8\") as f:\n",
    "    stopWords = [line.strip() for line in f.readlines()]\n",
    "\n",
    "# 設定斷詞 function\n",
    "def getToken(row):\n",
    "    seg_list = jieba.cut(row, cut_all=False)\n",
    "    seg_list = [\n",
    "        w for w in seg_list if w not in stopWords and len(w) > 1\n",
    "    ]  # 篩選掉停用字與字元數大於1的詞彙\n",
    "    return seg_list\n",
    "\n",
    "udn[\"words\"] = udn[\"content\"].apply(getToken)\n",
    "udn.head()"
   ]
  },
  {
   "cell_type": "markdown",
   "metadata": {},
   "source": [
    "# 1. Lexicon-based 人工給定主題的主題模型"
   ]
  },
  {
   "cell_type": "markdown",
   "metadata": {},
   "source": [
    "#### 查看有幾種版別"
   ]
  },
  {
   "cell_type": "code",
   "execution_count": 6,
   "metadata": {},
   "outputs": [
    {
     "data": {
      "text/plain": [
       "array(['娛樂時尚', '3C車市', '國際', '生活', '社會', '政治', '體育'], dtype=object)"
      ]
     },
     "execution_count": 6,
     "metadata": {},
     "output_type": "execute_result"
    }
   ],
   "source": [
    "udn['artCatagory'].unique()"
   ]
  },
  {
   "cell_type": "markdown",
   "metadata": {},
   "source": [
    "### 查看每個版別當中前100的字詞"
   ]
  },
  {
   "cell_type": "code",
   "execution_count": 7,
   "metadata": {},
   "outputs": [
    {
     "data": {
      "text/plain": [
       "Index(['台北', '粉絲', '黃子佼', '網友', '台灣', '覺得', '真的', '希望', '演出', '一起', '節目', '品牌',\n",
       "       '看到', '透露', '媽媽', '電影', '演唱會', '知道', '合作', '現在', '最後', '系列', '拍攝', '喜歡',\n",
       "       '工作', '韓國', '導演', '當時', '時間', '藝人', '這次', '現場', '已經', '分享', '音樂', '一直',\n",
       "       '活動', '角色', '觀眾', '影片', '開心', '特別', '許多', '兩人', '日本', '朋友', '對方', '女兒',\n",
       "       '公司', '推出', '相當', '飾演', '去年', '今日', '地震', '作品', '日前', '透過', '設計', '演員',\n",
       "       '發文', '發現', '成為', '今年', '機會', '生活', '全新', '留言', '表演', '歌迷', '應該', '成員',\n",
       "       '少女', '造型', '未成年', '事情', '事件', '老婆', '搭配', '需要', '製作', '演藝圈', '發生',\n",
       "       '目前', '過去', '感謝', '老公', '回應', '出席', '感覺', '坦言', '中國', '歌手', '舉辦', '支持',\n",
       "       '努力', '準備', '之後', '直接', '之前'],\n",
       "      dtype='object', name='words')"
      ]
     },
     "execution_count": 7,
     "metadata": {},
     "output_type": "execute_result"
    }
   ],
   "source": [
    "## 定義主題\n",
    "joy_cnt = udn.loc[udn['artCatagory'] == '娛樂時尚',:]['words'].explode().value_counts().head(100)\n",
    "joy_cnt.index"
   ]
  },
  {
   "cell_type": "code",
   "execution_count": 8,
   "metadata": {},
   "outputs": [
    {
     "name": "stdout",
     "output_type": "stream",
     "text": [
      "('提供 系統 車主 全新 台北 台灣 體驗 活動 科技 林浩 搭配 車輛 設計 品牌 汽車 透過 智慧 車型 服務 輔助 萬元 配備 搭載 車款 性能 '\n",
      " '消費者 升級 推出 原廠 市場 擁有 車系 動力 優惠 模式 包含 帶來 全球 車身 專屬 銷售 功能 提升 持續 產品 導入 空間 最大 方案 打造 '\n",
      " '獲得 輪胎 安全 風格 花蓮 未來 選擇 煞車 行車 售價 充電 系列 部分 正式 舉辦 即日起 之外 座椅 世代 結合 生活 年度 購車 機車 特別 '\n",
      " '電動車 同步 頭燈 旗下 玩具 採用 達到 展現 運動 這次 使用 最高 福斯 商用車 總代理 最佳 針對 需求 集團 車迷 免費 進行 今年 駕駛 '\n",
      " '實力 上市 永續 滿足 行駛 引擎 大樂 數位 操控 露營 經典 國內 回饋 感受 超過 商旅 限量 成為 新車 調整 電動 零件 表現 輸出 維修 '\n",
      " '電車 標配 福特 環景 保固 更是 森那美 起亞 輕鬆 試駕 面對 樂趣 駕馭 騎乘 智慧型 手機 舒適 純電 現場 無線 地力 平台 攜手 豪華 共同 '\n",
      " '影音 之後 成長 發展 全面 座艙 視覺 顯示 快速 跑車 外型 旗艦 以來 獨特 同級 方式 日本 移動 享有 用車 整合 最新 主動 乘客 扭力 '\n",
      " '馬力 展示 技術 外觀 自動 大型 受災 多功能 主廚 鑰匙 購買 家庭 進階 傳統 呈現 氛圍 義大利 雪鐵龍 限時 報名 豐富 電動機 資訊 限量版 '\n",
      " '味全 懸吊')\n"
     ]
    }
   ],
   "source": [
    "car_cnt = udn.loc[udn['artCatagory'] == '3C車市',:]['words'].explode().value_counts().head(200)\n",
    "pprint(\" \".join(car_cnt.index))"
   ]
  },
  {
   "cell_type": "code",
   "execution_count": 9,
   "metadata": {},
   "outputs": [
    {
     "name": "stdout",
     "output_type": "stream",
     "text": [
      "('中國 美國 台灣 日本 外電 以色列 發生 一名 指出 伊朗 地震 已經 中央社 攻擊 發現 警方 國家 拜登 公司 目前 總統 男子 包括 進行 媒體 '\n",
      " '造成 飛彈 調查 台幣 安全 影片 當時 問題 去年 網友 影響 研究 機場 時間 國際 民眾 要求 事件 社群 英國 提供 許多 相關 這是 無人機 '\n",
      " '烏克蘭 超過 澳洲 今年 全球 無法 支持 周恩華 出現 導致 活動 劉育良 正在 工作 宣布 當地 透過 情況 員工 行動 日圓 有人 女性 接受 '\n",
      " '地區 南韓 使用 政府 合作 需要 俄羅斯 過去 是否 中心 持續 平台 萬元 日前 希望 現在 學生 行為 大學 增加 顯示 成為 最大 花蓮 人員 '\n",
      " '余平 官員 之後 受到 死亡 發布 億美元 飛機 舉行 進入 系統 現場 新聞 引發 習近平 李威翰 北京 威脅 這項 重要 這次 附近 醫院 網站 '\n",
      " '準備 來自 確認 手機 照片 經濟 針對 當局 軍事 部分 海嘯 內容 世界 紀錄 駕駛 聲明 小時 企業 看到 能力 告訴 強調 以來 規模 遭到 '\n",
      " '指控 穩定 決定 網路 關係 逮捕 提出 發動 川普 公布 受傷 面臨 知道 菲律賓 獲得 所有 東京 發展 新加坡 一直 生活 女子 男性 最後 真的 '\n",
      " '協助 法院 一起 風險 委員會 嚴重 共同 方式 特斯拉 人士 航空 年月日 應該 地方 這名 服務 組織 法案 北韓 至少 回應 衝突 香港 車輛 '\n",
      " '對方 旅客 保護')\n"
     ]
    }
   ],
   "source": [
    "global_cnt = udn.loc[udn['artCatagory'] == '國際',:]['words'].explode().value_counts().head(200)\n",
    "pprint(\" \".join(global_cnt.index))"
   ]
  },
  {
   "cell_type": "code",
   "execution_count": 10,
   "metadata": {},
   "outputs": [
    {
     "name": "stdout",
     "output_type": "stream",
     "text": [
      "('地區 地震 天氣 台北 短暫 發生 台灣 陣雨 指出 民眾 活動 花蓮 影響 局部 各地 出現 降雨 多雲 網友 目前 今日 機率 工作 雷雨 提供 '\n",
      " '進行 氣溫 鋒面 花蓮縣 時間 氣象 台北市 相關 造成 規模 以上 北部 環境 中心 發現 山區 部分 萬安 公司 新聞 持續 舒適 安全 桃園 '\n",
      " '衛生局 政府 醫院 時分 使用 醫師 學生 溫度 服務 萬元 問題 透過 高溫 今年 高雄市 最大 資料 通報 至度 針對 健康 穩定 提醒 包括 協助 '\n",
      " '說明 機會 需要 本週 學校 白天 市府 推出 悶熱 影片 希望 中央 日本 特別 超過 注意 市長 未來 路段 教育 狀況 期間 現場 整體 東部 '\n",
      " '人員 熱門 系統 方面 真的 預計 是否 完成 文化 發展 強震 前往 中部 嚴重 之間 許多 症狀 治療 日前 高雄 一名 公里 患者 調查 食物中毒 '\n",
      " '國際 臺北市 建議 合作 留意 午後 已經 台南 資訊 業者 舉辦 上午 增加 東半 分享 朋友 範圍 改善 新北 來源 晚間 兒童 臺灣 處理 捐款 '\n",
      " '導致 食品 南部 醫療 優惠 左右 顯示 方式 情況 就醫 呼籲 檢驗 為主 晴時多雲 事件 林則 消費者 計畫 下午 地方 無法 情形 生活 新北市 '\n",
      " '寶林 臺中市 何心嵐 餐廳 一起 即時 變化 食材 餘震 對此 以下 一定 尤其 最高 專業 強調 稽查 中南部 維持 分別 後續 孩子 團隊 受到 '\n",
      " '之後 位於 半部')\n"
     ]
    }
   ],
   "source": [
    "life_cnt = udn.loc[udn['artCatagory'] == '生活',:]['words'].explode().value_counts().head(200)\n",
    "pprint(\" \".join(life_cnt.index))"
   ]
  },
  {
   "cell_type": "code",
   "execution_count": 11,
   "metadata": {},
   "outputs": [
    {
     "name": "stdout",
     "output_type": "stream",
     "text": [
      "('警方 發現 發生 新聞 熱門 男子 萬元 指出 現場 花蓮 目前 民眾 分局 台北 人員 前往 時分 地震 進行 造成 調查 駕駛 協助 相關 桃園 '\n",
      " '詐騙 安全 影片 一名 立即 搜救 法官 昨天 持續 媽祖 大甲 新北市 女子 上午 強震 消防局 機車 偵辦 通報 當時 疑似 車輛 受困 釐清 新北 '\n",
      " '嚴重 黃子佼 學生 透過 了解 後續 日前 台灣 到場 工作 導致 警員 接獲 報案 檢察官 送醫 提供 要求 受傷 原因 醫院 被害人 大樓 午時 '\n",
      " '執行 今日 步道 台中市 已經 處理 派出所 去年 毒品 員警 影像 網友 晚間 有人 無法 案件 希望 集團 時間 高雄 家屬 落石 未成年 警察 '\n",
      " '呼籲 狀況 中心 全案 規定 網站 起訴 下午 傳出 統神 砂卡 確認 針對 附近 公司 進入 死亡 活動 使用 老師 地檢署 影響 道路 公里 救援 '\n",
      " '搜索 期間 獲報 時許 年月日 違反 凱凱 鮮明 律師 通知 法院 緊急 手機 部分 移送 今年 對方 包括 災情 檢方 凌晨 方式 畫面 條例 網路 '\n",
      " '看到 所幸 車道 曾佳俊 遺體 業者 訊息 一起 第一 發文 完成 搶救 小時 騎士 依法 利用 兒子 單位 查獲 車禍 逮捕 行經 少女 行為 找到 '\n",
      " '花蓮縣 到案 張沛森 事件 不斷 事故 傷害 環境 真的 進一步 判刑 犯罪 政府 作業 學校 隨即 身分 注意 以下 市府 江孟謙 臉書 是否 曝光 '\n",
      " '維護 分別 初步')\n"
     ]
    }
   ],
   "source": [
    "social_cnt = udn.loc[udn['artCatagory'] == '社會',:]['words'].explode().value_counts().head(200)\n",
    "pprint(\" \".join(social_cnt.index))"
   ]
  },
  {
   "cell_type": "code",
   "execution_count": 12,
   "metadata": {},
   "outputs": [
    {
     "name": "stdout",
     "output_type": "stream",
     "text": [
      "('民進黨 國民黨 台灣 立委 總統 台北 花蓮 立法院 賴清德 政府 中國 黨團 馬英九 民眾 國家 未來 兩岸 希望 行政院 強調 主委 社會 主席 '\n",
      " '政治 指出 地震 卓榮泰 針對 過去 發生 應該 現在 相關 秘書長 內閣 國會 工作 地方 袁詩羽 問題 協助 政策 擔任 人事 支持 目前 已經 '\n",
      " '柯文 媒體 市長 公布 進行 對此 接任 投票 院長 部長 能夠 持續 時間 發言人 英文 是否 重要 知道 昨天 需要 討論 民主 要求 合作 團隊 '\n",
      " '蘇柏銓 日前 這是 質疑 傳出 提出 黃國 議員 包括 交流 發展 表決 陳建仁 面對 推動 一定 和平 提到 外界 吳崢 說明 公司 國際 宣布 詐騙 '\n",
      " '造成 特別 批評 一起 改革 委員會 回應 提供 吳思瑤 兒少 前往 安全 臉書 影像 努力 事件 共識 所有 行政院長 透過 最後 韓國 受訪 影響 '\n",
      " '事情 當時 重建 預算 繼續 選舉 代表 清楚 基金會 調查 董事長 國人 看到 接受 美國 呼籲 無法 萬元 出任 人員 部分 共同 第一 這次 '\n",
      " '未成年 表達 大陸 救災 新聞 中央 綠營 行為 黃子佼 感謝 去年 許多 處理 青年 完全 災情 真的 強震 產業 關係 名單 習近平 參與 相信 '\n",
      " '總統府 了解 盧縣 洗錢 規模 柯建銘 立法 影片 人物 記者會 發文 衛福部 台南 召開 法案 國安 人士 近日 中心 朱立倫 市府 期待 陸委會 '\n",
      " '我國 後續 嚴重 規定 歷史 機會 新北 尊重')\n"
     ]
    }
   ],
   "source": [
    "policy_cnt = udn.loc[udn['artCatagory'] == '政治',:]['words'].explode().value_counts().head(200)\n",
    "pprint(\" \".join(policy_cnt.index))"
   ]
  },
  {
   "cell_type": "code",
   "execution_count": 13,
   "metadata": {},
   "outputs": [
    {
     "data": {
      "text/plain": [
       "Index(['聯盟', '大谷', '球員', '台灣', '比賽', '推薦', '奧運', '翔平', '球迷', '之後', '廖柏璋', '投手',\n",
       "       '本季', '球隊', '生涯', '水原', '拿下', '道奇', '美國', '今年', '日本', '台北', '教練', '選手',\n",
       "       '勇士', '球場', '紀錄', '棒球', '全壘打', '目前', '表現', '萬美元', '進行', '最後', '季後賽',\n",
       "       '中職', '主場', '球團', '去年', '以比', '時間', '鄧愷威', '巴黎', '巨蛋', '球星', '啦啦隊',\n",
       "       '希望', '網友', '籃板', '已經', '助攻', '冠軍', '職棒', '拿到', '投球', '總教練', '國王', '失分',\n",
       "       '台鋼', '中信', '發生', '雄鷹', '三振', '戰神', '中央社', '巨人', '出賽', '運動', '日籍', '賽事',\n",
       "       '一平', '台南', '成為', '樂天', '成績', '指出', '兄弟', '第局', '擊出', '籃球', '擔任',\n",
       "       '體育中心', '狀況', '媒體', '投局', '林書豪', '取得', '機會', '接受', '先發', '領先', '過去',\n",
       "       '韓國', '中華', '挑戰', '包括', '昨天', '發文', '雲豹', '連續'],\n",
       "      dtype='object', name='words')"
      ]
     },
     "execution_count": 13,
     "metadata": {},
     "output_type": "execute_result"
    }
   ],
   "source": [
    "sport_cnt = udn.loc[udn['artCatagory'] == '體育',:]['words'].explode().value_counts().head(100)\n",
    "sport_cnt.index"
   ]
  },
  {
   "cell_type": "markdown",
   "metadata": {},
   "source": [
    "### 從每個版別前100字詞中整理出代表字\n",
    "\n",
    "從每個版別前100字詞中篩選出代表字"
   ]
  },
  {
   "cell_type": "code",
   "execution_count": 14,
   "metadata": {},
   "outputs": [],
   "source": [
    "custom_topic_word = {\n",
    "    \"娛樂時尚\": [\n",
    "        '粉絲',\n",
    "        '演出',\n",
    "        '品牌',\n",
    "        '電影',\n",
    "        '演唱會',\n",
    "        '拍攝',\n",
    "        '導演',\n",
    "        '音樂',\n",
    "        '活動',\n",
    "        '觀眾',\n",
    "        '飾演',\n",
    "        '設計',\n",
    "        '演員',\n",
    "        '表演',\n",
    "        '歌迷',\n",
    "        '成員',\n",
    "        '造型',\n",
    "        '演藝圈',\n",
    "        '出席',\n",
    "        '歌手'\n",
    "    ],\n",
    "    \"3C車市\": [\n",
    "        \"系統\",\n",
    "        \"車主\",\n",
    "        \"科技\",\n",
    "        \"車輛\",\n",
    "        \"汽車\",\n",
    "        \"智慧\",\n",
    "        \"車型\",\n",
    "        \"輔助\",\n",
    "        \"搭載\",\n",
    "        \"車款\",\n",
    "        \"性能\",\n",
    "        \"車系\",\n",
    "        \"動力\",\n",
    "        \"車身\",\n",
    "        \"功能\",\n",
    "        \"行車\",\n",
    "        \"煞車\",\n",
    "        \"充電\",\n",
    "        \"機車\",\n",
    "        \"電動車\",\n",
    "        \"商用車\",\n",
    "        \"電動\",\n",
    "        \"零件\",\n",
    "        \"新車\",\n",
    "        \"電車\",\n",
    "        \"智慧型\",\n",
    "        \"純電\",\n",
    "        \"電動機\",\n",
    "        \"馬力\",\n",
    "        \"懸吊\",\n",
    "    ],\n",
    "    \"國際\": [\n",
    "        \"中國\",\n",
    "        \"美國\",\n",
    "        \"以色列\",\n",
    "        \"伊朗\",\n",
    "        \"攻擊\",\n",
    "        \"國家\",\n",
    "        \"拜登\",\n",
    "        \"總統\",\n",
    "        \"國際\",\n",
    "        \"英國\",\n",
    "        \"烏克蘭\",\n",
    "        \"澳洲\",\n",
    "        \"全球\",\n",
    "        \"俄羅斯\",\n",
    "        \"南韓\",\n",
    "        \"政府\",\n",
    "        \"世界\",\n",
    "        \"北京\",\n",
    "        \"軍事\",\n",
    "        \"菲律賓\",\n",
    "        \"新加坡\",\n",
    "        \"特斯拉\",\n",
    "        \"北韓\",\n",
    "        \"國際\"\n",
    "    ],\n",
    "    \"生活\": [\n",
    "        \"天氣\",\n",
    "        \"陣雨\",\n",
    "        \"民眾\",\n",
    "        \"活動\",\n",
    "        \"雷雨\",\n",
    "        \"氣溫\",\n",
    "        \"衛生局\",\n",
    "        \"醫院\",\n",
    "        \"醫師\",\n",
    "        \"溫度\",\n",
    "        \"服務\",\n",
    "        \"健康\",\n",
    "        \"學校\",\n",
    "        \"教育\",\n",
    "        \"患者\",\n",
    "        \"食物中毒\",\n",
    "        \"調查\",\n",
    "        \"業者\",\n",
    "        \"兒童\",\n",
    "        \"食品\",\n",
    "        \"醫療\",\n",
    "        \"餐廳\",\n",
    "        \"生活\",\n",
    "        \"食材\",\n",
    "        \"孩子\",\n",
    "        \"捐款\",\n",
    "        \"餘震\",\n",
    "        \"稽查\",\n",
    "        \"搶救\",\n",
    "        \"未成年\",\n",
    "        \"警察\",\n",
    "        \"災情\",\n",
    "        \"查獲\",\n",
    "    ],\n",
    "    \"政治\": [\n",
    "        \"立委\",\n",
    "        \"總統\",\n",
    "        \"立法院\",\n",
    "        \"賴清德\",\n",
    "        \"政府\",\n",
    "        \"中國\",\n",
    "        \"黨團\",\n",
    "        \"馬英九\",\n",
    "        \"兩岸\",\n",
    "        \"行政院\",\n",
    "        \"主委\",\n",
    "        \"主席\",\n",
    "        \"政治\",\n",
    "        \"秘書長\",\n",
    "        \"內閣\",\n",
    "        \"國會\",\n",
    "        \"協助\",\n",
    "        \"政策\",\n",
    "        \"人事\",\n",
    "        \"市長\",\n",
    "        \"部長\",\n",
    "        \"發言人\",\n",
    "        \"民主\",\n",
    "        \"蘇柏銓\",\n",
    "        \"黃國\",\n",
    "        \"議員\",\n",
    "        \"陳建仁\",\n",
    "        \"吳崢\",\n",
    "        \"國際\",\n",
    "        \"委員會\",\n",
    "        \"吳思瑤\",\n",
    "        \"行政院長\",\n",
    "        \"選舉\",\n",
    "        \"董事長\",\n",
    "        \"美國\",\n",
    "        \"第一\",\n",
    "        \"總統府\",\n",
    "        \"立法\",\n",
    "        \"衛福部\",\n",
    "        \"國安\",\n",
    "        \"法案\",\n",
    "        \"朱立倫\"\n",
    "    ],\n",
    "    \"體育\": [\n",
    "        \"聯盟\",\n",
    "        \"大谷\",\n",
    "        \"球員\",\n",
    "        \"比賽\",\n",
    "        \"翔平\",\n",
    "        \"奧運\",\n",
    "        \"球迷\",\n",
    "        \"廖柏璋\",\n",
    "        \"投手\",\n",
    "        \"球隊\",\n",
    "        \"本季\",\n",
    "        \"生涯\",\n",
    "        \"道奇\",\n",
    "        \"教練\",\n",
    "        \"選手\",\n",
    "        \"球場\",\n",
    "        \"紀錄\",\n",
    "        \"棒球\",\n",
    "        \"全壘打\",\n",
    "        \"中職\",\n",
    "        \"季後賽\",\n",
    "        \"球團\",\n",
    "        \"鄧愷威\",\n",
    "        \"球星\",\n",
    "        \"啦啦隊\",\n",
    "        \"籃板\",\n",
    "        \"冠軍\",\n",
    "        \"助攻\",\n",
    "        \"職棒\",\n",
    "        \"投球\",\n",
    "        \"總教練\",\n",
    "        \"國王\",\n",
    "        \"失分\",\n",
    "        \"雄鷹\",\n",
    "        \"戰神\",\n",
    "        \"三振\",\n",
    "        \"出賽\",\n",
    "        \"運動\",\n",
    "        \"賽事\",\n",
    "        \"樂天\",\n",
    "        \"籃球\",\n",
    "        \"體育中心\",\n",
    "        \"林書豪\",\n",
    "        \"投局\",\n",
    "        \"先發\",\n",
    "        \"挑戰\"\n",
    "    ]\n",
    "}"
   ]
  },
  {
   "cell_type": "code",
   "execution_count": 15,
   "metadata": {},
   "outputs": [],
   "source": [
    "vocabularies = np.unique(reduce(lambda x, y: x + y, custom_topic_word.values()))"
   ]
  },
  {
   "cell_type": "code",
   "execution_count": 16,
   "metadata": {},
   "outputs": [
    {
     "data": {
      "text/plain": [
       "array(['三振', '世界', '中國', '中職', '主委', '主席', '人事', '以色列', '伊朗', '俄羅斯', '健康',\n",
       "       '充電', '先發', '兒童', '內閣', '全壘打', '全球', '兩岸', '冠軍', '出席', '出賽', '功能',\n",
       "       '助攻', '動力', '北京', '北韓', '協助', '南韓', '吳崢', '吳思瑤', '品牌', '商用車',\n",
       "       '啦啦隊', '國安', '國家', '國會', '國王', '國際', '大谷', '天氣', '失分', '奧運', '委員會',\n",
       "       '季後賽', '孩子', '學校', '導演', '市長', '廖柏璋', '性能', '患者', '懸吊', '成員', '戰神',\n",
       "       '投局', '投手', '投球', '拍攝', '拜登', '挑戰', '捐款', '搭載', '搶救', '攻擊', '政府',\n",
       "       '政治', '政策', '教練', '教育', '新加坡', '新車', '智慧', '智慧型', '服務', '未成年',\n",
       "       '本季', '朱立倫', '林書豪', '查獲', '棒球', '業者', '樂天', '機車', '歌手', '歌迷', '比賽',\n",
       "       '民主', '民眾', '氣溫', '汽車', '法案', '活動', '溫度', '演出', '演員', '演唱會', '演藝圈',\n",
       "       '澳洲', '災情', '烏克蘭', '煞車', '特斯拉', '球員', '球團', '球場', '球星', '球迷', '球隊',\n",
       "       '生活', '生涯', '發言人', '科技', '秘書長', '稽查', '立委', '立法', '立法院', '第一',\n",
       "       '籃板', '籃球', '粉絲', '系統', '紀錄', '純電', '總教練', '總統', '總統府', '美國', '翔平',\n",
       "       '聯盟', '職棒', '英國', '菲律賓', '董事長', '蘇柏銓', '行政院', '行政院長', '行車', '衛生局',\n",
       "       '衛福部', '表演', '觀眾', '設計', '調查', '警察', '議員', '賴清德', '賽事', '車主', '車型',\n",
       "       '車款', '車系', '車身', '車輛', '軍事', '輔助', '造型', '運動', '道奇', '選手', '選舉',\n",
       "       '部長', '鄧愷威', '醫師', '醫療', '醫院', '陣雨', '陳建仁', '雄鷹', '零件', '雷雨', '電動',\n",
       "       '電動機', '電動車', '電影', '電車', '音樂', '食品', '食材', '食物中毒', '飾演', '餐廳',\n",
       "       '餘震', '馬力', '馬英九', '體育中心', '黃國', '黨團'], dtype='<U4')"
      ]
     },
     "execution_count": 16,
     "metadata": {},
     "output_type": "execute_result"
    }
   ],
   "source": [
    "vocabularies"
   ]
  },
  {
   "cell_type": "markdown",
   "metadata": {},
   "source": [
    "### 製作DTM"
   ]
  },
  {
   "cell_type": "code",
   "execution_count": 17,
   "metadata": {},
   "outputs": [
    {
     "data": {
      "text/plain": [
       "(4492, 188)"
      ]
     },
     "execution_count": 17,
     "metadata": {},
     "output_type": "execute_result"
    }
   ],
   "source": [
    "udn_corpus = udn['words'].map(\" \".join)\n",
    "vectorizer = CountVectorizer(vocabulary=vocabularies) #計算文本中詞彙數量（只會計算上方 vocabulary 有出現的詞彙的出現次數）\n",
    "udn_matrix = vectorizer.fit_transform(udn_corpus)\n",
    "\n",
    "udn_matrix = udn_matrix.toarray()\n",
    "feature_names = vectorizer.get_feature_names_out()\n",
    "udn_matrix.shape"
   ]
  },
  {
   "cell_type": "code",
   "execution_count": 18,
   "metadata": {},
   "outputs": [
    {
     "data": {
      "text/plain": [
       "array([[0, 0, 0, ..., 0, 0, 0],\n",
       "       [0, 0, 0, ..., 0, 0, 0],\n",
       "       [0, 1, 0, ..., 0, 0, 0],\n",
       "       ...,\n",
       "       [0, 0, 0, ..., 0, 0, 0],\n",
       "       [0, 1, 0, ..., 1, 0, 0],\n",
       "       [0, 0, 0, ..., 0, 0, 0]], dtype=int64)"
      ]
     },
     "execution_count": 18,
     "metadata": {},
     "output_type": "execute_result"
    }
   ],
   "source": [
    "udn_matrix"
   ]
  },
  {
   "cell_type": "markdown",
   "metadata": {},
   "source": [
    "## 分類結果"
   ]
  },
  {
   "cell_type": "code",
   "execution_count": 19,
   "metadata": {},
   "outputs": [
    {
     "data": {
      "text/html": [
       "<div>\n",
       "<style scoped>\n",
       "    .dataframe tbody tr th:only-of-type {\n",
       "        vertical-align: middle;\n",
       "    }\n",
       "\n",
       "    .dataframe tbody tr th {\n",
       "        vertical-align: top;\n",
       "    }\n",
       "\n",
       "    .dataframe thead th {\n",
       "        text-align: right;\n",
       "    }\n",
       "</style>\n",
       "<table border=\"1\" class=\"dataframe\">\n",
       "  <thead>\n",
       "    <tr style=\"text-align: right;\">\n",
       "      <th></th>\n",
       "      <th>topic_娛樂時尚</th>\n",
       "      <th>topic_3C車市</th>\n",
       "      <th>topic_國際</th>\n",
       "      <th>topic_生活</th>\n",
       "      <th>topic_政治</th>\n",
       "      <th>topic_體育</th>\n",
       "    </tr>\n",
       "  </thead>\n",
       "  <tbody>\n",
       "    <tr>\n",
       "      <th>0</th>\n",
       "      <td>6</td>\n",
       "      <td>2</td>\n",
       "      <td>0</td>\n",
       "      <td>0</td>\n",
       "      <td>0</td>\n",
       "      <td>0</td>\n",
       "    </tr>\n",
       "    <tr>\n",
       "      <th>1</th>\n",
       "      <td>0</td>\n",
       "      <td>0</td>\n",
       "      <td>1</td>\n",
       "      <td>7</td>\n",
       "      <td>1</td>\n",
       "      <td>0</td>\n",
       "    </tr>\n",
       "    <tr>\n",
       "      <th>2</th>\n",
       "      <td>5</td>\n",
       "      <td>1</td>\n",
       "      <td>1</td>\n",
       "      <td>1</td>\n",
       "      <td>0</td>\n",
       "      <td>8</td>\n",
       "    </tr>\n",
       "    <tr>\n",
       "      <th>3</th>\n",
       "      <td>1</td>\n",
       "      <td>0</td>\n",
       "      <td>2</td>\n",
       "      <td>1</td>\n",
       "      <td>0</td>\n",
       "      <td>0</td>\n",
       "    </tr>\n",
       "    <tr>\n",
       "      <th>4</th>\n",
       "      <td>4</td>\n",
       "      <td>0</td>\n",
       "      <td>0</td>\n",
       "      <td>0</td>\n",
       "      <td>0</td>\n",
       "      <td>0</td>\n",
       "    </tr>\n",
       "    <tr>\n",
       "      <th>...</th>\n",
       "      <td>...</td>\n",
       "      <td>...</td>\n",
       "      <td>...</td>\n",
       "      <td>...</td>\n",
       "      <td>...</td>\n",
       "      <td>...</td>\n",
       "    </tr>\n",
       "    <tr>\n",
       "      <th>4487</th>\n",
       "      <td>0</td>\n",
       "      <td>0</td>\n",
       "      <td>0</td>\n",
       "      <td>0</td>\n",
       "      <td>0</td>\n",
       "      <td>8</td>\n",
       "    </tr>\n",
       "    <tr>\n",
       "      <th>4488</th>\n",
       "      <td>0</td>\n",
       "      <td>2</td>\n",
       "      <td>0</td>\n",
       "      <td>0</td>\n",
       "      <td>0</td>\n",
       "      <td>33</td>\n",
       "    </tr>\n",
       "    <tr>\n",
       "      <th>4489</th>\n",
       "      <td>0</td>\n",
       "      <td>0</td>\n",
       "      <td>0</td>\n",
       "      <td>0</td>\n",
       "      <td>0</td>\n",
       "      <td>9</td>\n",
       "    </tr>\n",
       "    <tr>\n",
       "      <th>4490</th>\n",
       "      <td>0</td>\n",
       "      <td>0</td>\n",
       "      <td>3</td>\n",
       "      <td>0</td>\n",
       "      <td>4</td>\n",
       "      <td>11</td>\n",
       "    </tr>\n",
       "    <tr>\n",
       "      <th>4491</th>\n",
       "      <td>0</td>\n",
       "      <td>0</td>\n",
       "      <td>0</td>\n",
       "      <td>0</td>\n",
       "      <td>0</td>\n",
       "      <td>27</td>\n",
       "    </tr>\n",
       "  </tbody>\n",
       "</table>\n",
       "<p>4492 rows × 6 columns</p>\n",
       "</div>"
      ],
      "text/plain": [
       "      topic_娛樂時尚  topic_3C車市  topic_國際  topic_生活  topic_政治  topic_體育\n",
       "0              6           2         0         0         0         0\n",
       "1              0           0         1         7         1         0\n",
       "2              5           1         1         1         0         8\n",
       "3              1           0         2         1         0         0\n",
       "4              4           0         0         0         0         0\n",
       "...          ...         ...       ...       ...       ...       ...\n",
       "4487           0           0         0         0         0         8\n",
       "4488           0           2         0         0         0        33\n",
       "4489           0           0         0         0         0         9\n",
       "4490           0           0         3         0         4        11\n",
       "4491           0           0         0         0         0        27\n",
       "\n",
       "[4492 rows x 6 columns]"
      ]
     },
     "execution_count": 19,
     "metadata": {},
     "output_type": "execute_result"
    }
   ],
   "source": [
    "df_count = pd.DataFrame({})\n",
    "\n",
    "for k, v in custom_topic_word.items():\n",
    "    idx = np.isin(\n",
    "        feature_names,\n",
    "        v\n",
    "    )\n",
    "    df_count[f'topic_{k}'] = udn_matrix[:, idx].sum(axis=1)\n",
    "    \n",
    "df_count"
   ]
  },
  {
   "cell_type": "code",
   "execution_count": 20,
   "metadata": {},
   "outputs": [
    {
     "data": {
      "text/html": [
       "<div>\n",
       "<style scoped>\n",
       "    .dataframe tbody tr th:only-of-type {\n",
       "        vertical-align: middle;\n",
       "    }\n",
       "\n",
       "    .dataframe tbody tr th {\n",
       "        vertical-align: top;\n",
       "    }\n",
       "\n",
       "    .dataframe thead th {\n",
       "        text-align: right;\n",
       "    }\n",
       "</style>\n",
       "<table border=\"1\" class=\"dataframe\">\n",
       "  <thead>\n",
       "    <tr style=\"text-align: right;\">\n",
       "      <th></th>\n",
       "      <th>topic_娛樂時尚</th>\n",
       "      <th>topic_3C車市</th>\n",
       "      <th>topic_國際</th>\n",
       "      <th>topic_生活</th>\n",
       "      <th>topic_政治</th>\n",
       "      <th>topic_體育</th>\n",
       "    </tr>\n",
       "  </thead>\n",
       "  <tbody>\n",
       "    <tr>\n",
       "      <th>0</th>\n",
       "      <td>0.7500</td>\n",
       "      <td>0.2500</td>\n",
       "      <td>0.000000</td>\n",
       "      <td>0.000000</td>\n",
       "      <td>0.000000</td>\n",
       "      <td>0.0</td>\n",
       "    </tr>\n",
       "    <tr>\n",
       "      <th>1</th>\n",
       "      <td>0.0000</td>\n",
       "      <td>0.0000</td>\n",
       "      <td>0.111111</td>\n",
       "      <td>0.777778</td>\n",
       "      <td>0.111111</td>\n",
       "      <td>0.0</td>\n",
       "    </tr>\n",
       "    <tr>\n",
       "      <th>2</th>\n",
       "      <td>0.3125</td>\n",
       "      <td>0.0625</td>\n",
       "      <td>0.062500</td>\n",
       "      <td>0.062500</td>\n",
       "      <td>0.000000</td>\n",
       "      <td>0.5</td>\n",
       "    </tr>\n",
       "    <tr>\n",
       "      <th>3</th>\n",
       "      <td>0.2500</td>\n",
       "      <td>0.0000</td>\n",
       "      <td>0.500000</td>\n",
       "      <td>0.250000</td>\n",
       "      <td>0.000000</td>\n",
       "      <td>0.0</td>\n",
       "    </tr>\n",
       "    <tr>\n",
       "      <th>4</th>\n",
       "      <td>1.0000</td>\n",
       "      <td>0.0000</td>\n",
       "      <td>0.000000</td>\n",
       "      <td>0.000000</td>\n",
       "      <td>0.000000</td>\n",
       "      <td>0.0</td>\n",
       "    </tr>\n",
       "  </tbody>\n",
       "</table>\n",
       "</div>"
      ],
      "text/plain": [
       "   topic_娛樂時尚  topic_3C車市  topic_國際  topic_生活  topic_政治  topic_體育\n",
       "0      0.7500      0.2500  0.000000  0.000000  0.000000       0.0\n",
       "1      0.0000      0.0000  0.111111  0.777778  0.111111       0.0\n",
       "2      0.3125      0.0625  0.062500  0.062500  0.000000       0.5\n",
       "3      0.2500      0.0000  0.500000  0.250000  0.000000       0.0\n",
       "4      1.0000      0.0000  0.000000  0.000000  0.000000       0.0"
      ]
     },
     "execution_count": 20,
     "metadata": {},
     "output_type": "execute_result"
    }
   ],
   "source": [
    "thetas = df_count.div(\n",
    "    df_count.sum(axis=1),\n",
    "    axis=0\n",
    ")\n",
    "thetas.head()"
   ]
  },
  {
   "cell_type": "markdown",
   "metadata": {},
   "source": [
    "### 考慮加個準確率?"
   ]
  },
  {
   "cell_type": "markdown",
   "metadata": {},
   "source": [
    "# 2. LDA 主題模型"
   ]
  },
  {
   "cell_type": "markdown",
   "metadata": {},
   "source": [
    "### 處理新聞"
   ]
  },
  {
   "cell_type": "code",
   "execution_count": 21,
   "metadata": {},
   "outputs": [
    {
     "name": "stdout",
     "output_type": "stream",
     "text": [
      "['劉旻君', '台北', '出遊', '也許', '日本', '鐘錶', '品牌', '系列', '陌生', '近日', '系列', '新作', '登場', '首款', '具備', '兩地', '時間', '抗磁', '機械', '飛行', '腕錶', '搭配', '寬大', '指針', '切角', '造型', '代言人', '韋禮安', '搶先', '戴上', '擁有', '酷帥', '外觀', '腕錶', '秀出', '機能', '時尚', '專業', '飛行', '腕錶', '系列', '全新', '推出', '抗磁', '機械', '飛行', '腕錶', '選用', '深色', '面盤', '之外', '具備', '清晰', '易讀', '寬大', '指針', '設計', '搭配', '阿拉伯數字', '條形', '刻度', '飛行員', '正確', '快速', '辨別', '時間', '透過', '單面', '防眩', '藍寶石', '玻璃', '鏡面', '減少', '讀時', '所受', '反光', '影響', '夜光', '時標', '指針', '則使', '飛行員', '昏暗', '座艙', '依然', '清晰', '可視', '透過', '旋轉', '點鐘', '方向', '轉動', '錶盤', '外圈', '航空', '飛行', '用來', '計算', '飛行速度', '時間', '油耗', '資訊', '擁有', '優異', '機能', '擅長', '粗曠', '外表', '展現', '日系', '細膩', '美學', '系列', '此次', '機身', '圓潤', '外型', '化為', '小時', '設計', '靈感', '強化', '飛行', '腕錶', '兩地', '時間', '功能', '連結', '性而', '錶殼', '錶帶', '接合處', '流動', '切角', '造型', '則是將', '飛機', '航行', '時機', '橫切面', '劃過', '天空', '畫面', '融入', '設計', '側邊', '採用', '滾花', '加工', '凸顯出', '強悍', '風格', '增加', '摩擦阻力', '飛行員', '配戴', '飛行', '手套', '輕鬆', '操作', '翻至', '底蓋', '處雷刻', '飛行', '頭盔', '圖騰', '再度', '呼應', '飛行', '腕錶', '全新', '共有', '鋼鐵', '灰及', '黑色', '面盤', '鋼鐵', '錶盤', '搭配', '灰色', '電鍍', '透過', '加工', '技術', '展現', '彩色', '光譜', '則以', '石黑', '錶盤', '色澤', '搭配', '黑色', '圈並', '運用', '原色', '不鏽鋼', '錶殼', '襯托出', '深色', '面盤', '醒目', '紅色', '指針', '抗磁', '機械', '飛行', '腕錶', '搭載', '機芯', '具有', '最大', '上鍊', '時間', '小時', '精準度', '每日', '特色', '功能設計', '直接', '調校', '時針', '佩戴', '所在地', '時間', '抗磁', '規格', '則能', '減少', '飛行', '儀器', '影響']\n"
     ]
    }
   ],
   "source": [
    "docs = udn['words'].to_list()\n",
    "print(docs[0])"
   ]
  },
  {
   "cell_type": "markdown",
   "metadata": {},
   "source": [
    "### 將文章數字化 "
   ]
  },
  {
   "cell_type": "code",
   "execution_count": 22,
   "metadata": {},
   "outputs": [
    {
     "name": "stderr",
     "output_type": "stream",
     "text": [
      "2024-05-05 23:47:54,500 : INFO : adding document #0 to Dictionary<0 unique tokens: []>\n",
      "2024-05-05 23:47:54,978 : INFO : built Dictionary<79303 unique tokens: ['上鍊', '不鏽鋼', '之外', '也許', '代言人']...> from 4492 documents (total 764406 corpus positions)\n",
      "2024-05-05 23:47:54,979 : INFO : Dictionary lifecycle event {'msg': \"built Dictionary<79303 unique tokens: ['上鍊', '不鏽鋼', '之外', '也許', '代言人']...> from 4492 documents (total 764406 corpus positions)\", 'datetime': '2024-05-05T23:47:54.979904', 'gensim': '4.3.2', 'python': '3.10.7 (tags/v3.10.7:6cc6b13, Sep  5 2022, 14:08:36) [MSC v.1933 64 bit (AMD64)]', 'platform': 'Windows-10-10.0.22631-SP0', 'event': 'created'}\n",
      "2024-05-05 23:47:55,035 : INFO : discarding 63113 tokens: [('上鍊', 4), ('不鏽鋼', 4), ('光譜', 3), ('切角', 1), ('刻度', 4), ('則使', 2), ('則是將', 2), ('則能', 4), ('劃過', 1), ('功能設計', 1)]...\n",
      "2024-05-05 23:47:55,036 : INFO : keeping 16190 tokens which were in no less than 5 and no more than 4447 (=99.0%) documents\n",
      "2024-05-05 23:47:55,067 : INFO : resulting dictionary: Dictionary<16190 unique tokens: ['之外', '也許', '代言人', '佩戴', '依然']...>\n"
     ]
    },
    {
     "name": "stdout",
     "output_type": "stream",
     "text": [
      "Dictionary<16190 unique tokens: ['之外', '也許', '代言人', '佩戴', '依然']...>\n"
     ]
    }
   ],
   "source": [
    "dictionary = Dictionary(docs)\n",
    "# Filter out words that occur less than 5 documents, or more than 99% of the documents.\n",
    "dictionary.filter_extremes(no_below=5, no_above=0.99)\n",
    "print(dictionary)"
   ]
  },
  {
   "cell_type": "markdown",
   "metadata": {},
   "source": [
    "查看 dictionary 內的內容"
   ]
  },
  {
   "cell_type": "code",
   "execution_count": 23,
   "metadata": {},
   "outputs": [
    {
     "name": "stdout",
     "output_type": "stream",
     "text": [
      "之外: 0\n",
      "也許: 1\n",
      "代言人: 2\n",
      "佩戴: 3\n",
      "依然: 4\n",
      "側邊: 5\n",
      "儀器: 6\n",
      "優異: 7\n",
      "全新: 8\n",
      "兩地: 9\n",
      "共有: 10\n",
      "具備: 11\n"
     ]
    }
   ],
   "source": [
    "for idx, (k, v) in enumerate(dictionary.token2id.items()):\n",
    "    print(f\"{k}: {v}\")\n",
    "    if idx > 10:\n",
    "        break"
   ]
  },
  {
   "cell_type": "code",
   "execution_count": 24,
   "metadata": {},
   "outputs": [
    {
     "name": "stdout",
     "output_type": "stream",
     "text": [
      "('張瑞振 台北 俗話說 機會 一次 把握住 機會 成功 本事 無法 確定 下次 是否 機會 清水 國際 塔羅 雲蔚 老師 揭露 以下 星座 積極 把握住 '\n",
      " '機會 巨蟹座 巨蟹座 家庭 重會 積極 創造 穩定 安全 生活 環境 具有 出色 洞察力 敏感 捕捉 機會 實力 著手 處理 巨蟹座 人際關係 敏銳 '\n",
      " '感知 擅於 協作 運用 社交 技巧 拓展 機會 積極爭取 把握 機會 完成 夢想 家庭 打造 美好未來 水瓶座 水瓶座 挑戰 常規 擁有 非凡 創新 '\n",
      " '思維 滿足 現狀 喜歡 嘗試 事物 追求 突破 水瓶座 擁抱 變革 樂於 冒險 能夠 敏銳地 抓住 潛在 機會 思維 獨立 擁有 豐富 人際 脈絡 擅於 '\n",
      " '創造 合作 機會 堅信 理念 能為 社會 帶來 改變 有創造力 積極爭取 機會 星座 獅子座 獅子座 天生 充滿 自信 果斷 並很有 冒險 精神 樂於 '\n",
      " '挑戰 勇於 追求 卓越 機會 上門 敏感度 事業 生活 追求 領導 地位 擁有 強烈 企圖心 進取心 時時刻刻 保持 警覺 不讓 機會 錯過 獅子座 '\n",
      " '自我 驅動力 果斷 行動 成為 積極 追逐 機會 星座 射手座 射手座 擁有 極強 好奇心 冒險 精神 勇於 嘗試 事物 並會 迎接挑戰 性格開朗 樂觀 '\n",
      " '未知 可能性 充滿熱情 不畏 困難 積極主動 尋找機會 樂觀 態度 應對 挑戰 射手座 積極 進取心 不懈 努力 追求 成功 不斷 努力 保持 未來 '\n",
      " '熱切 期待 牡羊座 牡羊座 擁有 強烈 領導力 堅定 決心 勇於 挑戰 追求 卓越 性格 直率 充滿活力 不畏艱難 冒險 總是 迫不及待 迎接 挑戰 '\n",
      " '牡羊座 熱愛 競爭 樂於 奮鬥 強烈 目標 意識 時常 保持 成功 渴望 積極進取 果敢 行動 能夠 敏銳地 抓住機會 成為 事業 生活 引領者 爆料 '\n",
      " '網址 爆料 信箱 下載 壹蘋 新聞網 追蹤')\n"
     ]
    }
   ],
   "source": [
    "pprint(\" \".join(udn['words'].iloc[600]))"
   ]
  },
  {
   "cell_type": "code",
   "execution_count": 25,
   "metadata": {},
   "outputs": [
    {
     "data": {
      "text/plain": [
       "[(12, 1),\n",
       " (21, 1),\n",
       " (50, 5),\n",
       " (102, 1),\n",
       " (133, 1),\n",
       " (156, 1),\n",
       " (219, 1),\n",
       " (229, 1),\n",
       " (238, 1),\n",
       " (304, 3)]"
      ]
     },
     "execution_count": 25,
     "metadata": {},
     "output_type": "execute_result"
    }
   ],
   "source": [
    "dictionary.doc2bow(udn['words'].iloc[600])[:10]"
   ]
  },
  {
   "cell_type": "code",
   "execution_count": 26,
   "metadata": {},
   "outputs": [],
   "source": [
    "# Bag-of-words representation of the documents.\n",
    "# 用 gensim ldamodel input 需要將文章轉換成 bag of words \n",
    "corpus = [dictionary.doc2bow(doc) for doc in docs]"
   ]
  },
  {
   "cell_type": "code",
   "execution_count": 27,
   "metadata": {},
   "outputs": [
    {
     "data": {
      "text/plain": [
       "list"
      ]
     },
     "execution_count": 27,
     "metadata": {},
     "output_type": "execute_result"
    }
   ],
   "source": [
    "type(corpus)"
   ]
  },
  {
   "cell_type": "markdown",
   "metadata": {},
   "source": [
    "### 訓練 topic model"
   ]
  },
  {
   "cell_type": "markdown",
   "metadata": {},
   "source": [
    "### 這邊我們嘗試了幾次之後，發現生成 4 個主題數，並將亂數設成 3090 產生的結果比較看得懂"
   ]
  },
  {
   "cell_type": "code",
   "execution_count": null,
   "metadata": {},
   "outputs": [],
   "source": [
    "ldamodel = LdaModel(\n",
    "    corpus=corpus, \n",
    "    id2word=dictionary, # 字典\n",
    "    num_topics=4, # 生成幾個主題數\n",
    "    random_state=3090, # 亂數\n",
    ")"
   ]
  },
  {
   "cell_type": "markdown",
   "metadata": {},
   "source": [
    "### 查看 LDA 主題代表字"
   ]
  },
  {
   "cell_type": "code",
   "execution_count": 29,
   "metadata": {},
   "outputs": [
    {
     "name": "stderr",
     "output_type": "stream",
     "text": [
      "2024-05-05 23:47:57,686 : INFO : topic #0 (0.250): 0.004*\"聯盟\" + 0.004*\"台北\" + 0.004*\"奧運\" + 0.004*\"台灣\" + 0.003*\"球迷\" + 0.003*\"勇士\" + 0.003*\"今年\" + 0.003*\"活動\" + 0.003*\"高雄\" + 0.003*\"台南\"\n",
      "2024-05-05 23:47:57,688 : INFO : topic #1 (0.250): 0.009*\"民進黨\" + 0.007*\"國民黨\" + 0.007*\"立委\" + 0.005*\"大谷\" + 0.005*\"台北\" + 0.005*\"立法院\" + 0.004*\"黨團\" + 0.003*\"台灣\" + 0.003*\"總統\" + 0.003*\"主委\"\n",
      "2024-05-05 23:47:57,689 : INFO : topic #2 (0.250): 0.010*\"台灣\" + 0.006*\"地震\" + 0.005*\"花蓮\" + 0.005*\"發生\" + 0.005*\"國民黨\" + 0.004*\"台北\" + 0.004*\"民眾\" + 0.004*\"指出\" + 0.004*\"政府\" + 0.003*\"目前\"\n",
      "2024-05-05 23:47:57,689 : INFO : topic #3 (0.250): 0.004*\"台灣\" + 0.004*\"立委\" + 0.003*\"民進黨\" + 0.003*\"國民黨\" + 0.003*\"台北\" + 0.003*\"知道\" + 0.003*\"詐騙\" + 0.003*\"希望\" + 0.003*\"指出\" + 0.002*\"黃子佼\"\n"
     ]
    },
    {
     "data": {
      "text/plain": [
       "[(0,\n",
       "  '0.004*\"聯盟\" + 0.004*\"台北\" + 0.004*\"奧運\" + 0.004*\"台灣\" + 0.003*\"球迷\" + 0.003*\"勇士\" + 0.003*\"今年\" + 0.003*\"活動\" + 0.003*\"高雄\" + 0.003*\"台南\"'),\n",
       " (1,\n",
       "  '0.009*\"民進黨\" + 0.007*\"國民黨\" + 0.007*\"立委\" + 0.005*\"大谷\" + 0.005*\"台北\" + 0.005*\"立法院\" + 0.004*\"黨團\" + 0.003*\"台灣\" + 0.003*\"總統\" + 0.003*\"主委\"'),\n",
       " (2,\n",
       "  '0.010*\"台灣\" + 0.006*\"地震\" + 0.005*\"花蓮\" + 0.005*\"發生\" + 0.005*\"國民黨\" + 0.004*\"台北\" + 0.004*\"民眾\" + 0.004*\"指出\" + 0.004*\"政府\" + 0.003*\"目前\"'),\n",
       " (3,\n",
       "  '0.004*\"台灣\" + 0.004*\"立委\" + 0.003*\"民進黨\" + 0.003*\"國民黨\" + 0.003*\"台北\" + 0.003*\"知道\" + 0.003*\"詐騙\" + 0.003*\"希望\" + 0.003*\"指出\" + 0.002*\"黃子佼\"')]"
      ]
     },
     "execution_count": 29,
     "metadata": {},
     "output_type": "execute_result"
    }
   ],
   "source": [
    "ldamodel.print_topics()"
   ]
  },
  {
   "cell_type": "markdown",
   "metadata": {},
   "source": [
    "* 主題一：運動賽事\n",
    "* 主題二：政治\n",
    "* 主題三：地震\n",
    "* 主題四：討論負面或犯罪的新聞 (主題四跟主題三的代表字有些許相似，但多了詐騙和黃子佼，因此推論主題四應該比較偏向討論負面或犯罪的新聞)"
   ]
  },
  {
   "cell_type": "markdown",
   "metadata": {},
   "source": [
    "### 查看 LDA 模型指標"
   ]
  },
  {
   "cell_type": "code",
   "execution_count": 30,
   "metadata": {},
   "outputs": [
    {
     "name": "stderr",
     "output_type": "stream",
     "text": [
      "2024-05-05 23:48:00,404 : INFO : -8.858 per-word bound, 464.1 perplexity estimate based on a held-out corpus of 4492 documents with 644058 words\n"
     ]
    },
    {
     "data": {
      "text/plain": [
       "-8.858237952897094"
      ]
     },
     "execution_count": 30,
     "metadata": {},
     "output_type": "execute_result"
    }
   ],
   "source": [
    "# perplexity\n",
    "perplexity = ldamodel.log_perplexity(corpus)\n",
    "perplexity"
   ]
  },
  {
   "cell_type": "code",
   "execution_count": 31,
   "metadata": {},
   "outputs": [
    {
     "data": {
      "text/plain": [
       "464.08265019298454"
      ]
     },
     "execution_count": 31,
     "metadata": {},
     "output_type": "execute_result"
    }
   ],
   "source": [
    "np.exp2(-perplexity)"
   ]
  },
  {
   "cell_type": "code",
   "execution_count": null,
   "metadata": {},
   "outputs": [],
   "source": [
    "# npmi\n",
    "NPMI_model_lda = CoherenceModel(model=ldamodel, texts=docs, coherence='c_npmi')\n",
    "NPMI_lda = NPMI_model_lda.get_coherence()"
   ]
  },
  {
   "cell_type": "code",
   "execution_count": 33,
   "metadata": {},
   "outputs": [
    {
     "name": "stdout",
     "output_type": "stream",
     "text": [
      "這個主題的 PMI score:  -0.02390072062165776\n"
     ]
    }
   ],
   "source": [
    "print('這個主題的 PMI score: ', NPMI_lda)"
   ]
  },
  {
   "cell_type": "markdown",
   "metadata": {},
   "source": [
    "### 每個主題的 pmi 值"
   ]
  },
  {
   "cell_type": "code",
   "execution_count": 34,
   "metadata": {},
   "outputs": [
    {
     "name": "stdout",
     "output_type": "stream",
     "text": [
      "topic 0 pmi = -0.06662322499046007\n",
      "topic 1 pmi = -0.06224922561539962\n",
      "topic 2 pmi = 0.015827844932521592\n",
      "topic 3 pmi = 0.017441723186707062\n"
     ]
    }
   ],
   "source": [
    "for i, topic_pmi in enumerate(NPMI_model_lda.get_coherence_per_topic()):\n",
    "    print('topic', i, \"pmi =\", topic_pmi)"
   ]
  },
  {
   "cell_type": "markdown",
   "metadata": {},
   "source": [
    "### 透過指標找出最佳主題數"
   ]
  },
  {
   "cell_type": "code",
   "execution_count": null,
   "metadata": {},
   "outputs": [],
   "source": [
    "t0 = time.time()\n",
    "\n",
    "topic_num_list = np.arange(2, 10)\n",
    "result = {\"topic_num\":[], \"perplexity\":[], \"pmi\":[]}\n",
    "model_set = dict()\n",
    "\n",
    "\n",
    "for topic_num in topic_num_list:\n",
    "    # perplexity\n",
    "    model = LdaModel(\n",
    "        corpus = corpus,\n",
    "        num_topics = topic_num ,\n",
    "        id2word=dictionary,\n",
    "        random_state = 1500,\n",
    "        passes=5 # 訓練次數\n",
    "        )\n",
    "    \n",
    "    loss = model.log_perplexity(corpus)\n",
    "    pmi = CoherenceModel(model=model, texts=docs, coherence='c_npmi').get_coherence()\n",
    "    perplexity = np.exp(-1. * loss)\n",
    "    \n",
    "    # model_set[f'k_{topic_num}'] = model\n",
    "    \n",
    "    result['topic_num'].append(topic_num)\n",
    "    result['perplexity'].append(perplexity)\n",
    "    result['pmi'].append(pmi)\n",
    "    \n",
    "print(f\"花費時間: {time.time() - t0} sec\")"
   ]
  },
  {
   "cell_type": "markdown",
   "metadata": {},
   "source": [
    "#### perplexity 最佳值是在topic數為7時\n",
    "#### pmi 最佳值是在topic數為4時"
   ]
  },
  {
   "cell_type": "code",
   "execution_count": 36,
   "metadata": {},
   "outputs": [
    {
     "data": {
      "text/html": [
       "<div>\n",
       "<style scoped>\n",
       "    .dataframe tbody tr th:only-of-type {\n",
       "        vertical-align: middle;\n",
       "    }\n",
       "\n",
       "    .dataframe tbody tr th {\n",
       "        vertical-align: top;\n",
       "    }\n",
       "\n",
       "    .dataframe thead th {\n",
       "        text-align: right;\n",
       "    }\n",
       "</style>\n",
       "<table border=\"1\" class=\"dataframe\">\n",
       "  <thead>\n",
       "    <tr style=\"text-align: right;\">\n",
       "      <th></th>\n",
       "      <th>topic_num</th>\n",
       "      <th>perplexity</th>\n",
       "      <th>pmi</th>\n",
       "    </tr>\n",
       "  </thead>\n",
       "  <tbody>\n",
       "    <tr>\n",
       "      <th>0</th>\n",
       "      <td>2</td>\n",
       "      <td>6296.452252</td>\n",
       "      <td>0.013935</td>\n",
       "    </tr>\n",
       "    <tr>\n",
       "      <th>1</th>\n",
       "      <td>3</td>\n",
       "      <td>5851.499629</td>\n",
       "      <td>0.023304</td>\n",
       "    </tr>\n",
       "    <tr>\n",
       "      <th>2</th>\n",
       "      <td>4</td>\n",
       "      <td>5416.759317</td>\n",
       "      <td>0.025015</td>\n",
       "    </tr>\n",
       "    <tr>\n",
       "      <th>3</th>\n",
       "      <td>5</td>\n",
       "      <td>5005.412171</td>\n",
       "      <td>-0.022280</td>\n",
       "    </tr>\n",
       "    <tr>\n",
       "      <th>4</th>\n",
       "      <td>6</td>\n",
       "      <td>4771.079508</td>\n",
       "      <td>0.011168</td>\n",
       "    </tr>\n",
       "    <tr>\n",
       "      <th>5</th>\n",
       "      <td>7</td>\n",
       "      <td>4705.711866</td>\n",
       "      <td>-0.004126</td>\n",
       "    </tr>\n",
       "    <tr>\n",
       "      <th>6</th>\n",
       "      <td>8</td>\n",
       "      <td>4828.088796</td>\n",
       "      <td>0.012167</td>\n",
       "    </tr>\n",
       "    <tr>\n",
       "      <th>7</th>\n",
       "      <td>9</td>\n",
       "      <td>4789.074665</td>\n",
       "      <td>0.014926</td>\n",
       "    </tr>\n",
       "  </tbody>\n",
       "</table>\n",
       "</div>"
      ],
      "text/plain": [
       "   topic_num   perplexity       pmi\n",
       "0          2  6296.452252  0.013935\n",
       "1          3  5851.499629  0.023304\n",
       "2          4  5416.759317  0.025015\n",
       "3          5  5005.412171 -0.022280\n",
       "4          6  4771.079508  0.011168\n",
       "5          7  4705.711866 -0.004126\n",
       "6          8  4828.088796  0.012167\n",
       "7          9  4789.074665  0.014926"
      ]
     },
     "execution_count": 36,
     "metadata": {},
     "output_type": "execute_result"
    }
   ],
   "source": [
    "result = pd.DataFrame(result)\n",
    "result"
   ]
  },
  {
   "cell_type": "code",
   "execution_count": 37,
   "metadata": {},
   "outputs": [
    {
     "data": {
      "text/plain": [
       "<AxesSubplot:xlabel='topic_num'>"
      ]
     },
     "execution_count": 37,
     "metadata": {},
     "output_type": "execute_result"
    },
    {
     "data": {
      "image/png": "[encoded data removed]",
      "text/plain": [
       "<Figure size 640x480 with 1 Axes>"
      ]
     },
     "metadata": {},
     "output_type": "display_data"
    }
   ],
   "source": [
    "result.plot.line(x='topic_num', y='perplexity')"
   ]
  },
  {
   "cell_type": "code",
   "execution_count": 38,
   "metadata": {},
   "outputs": [
    {
     "data": {
      "text/plain": [
       "<AxesSubplot:xlabel='topic_num'>"
      ]
     },
     "execution_count": 38,
     "metadata": {},
     "output_type": "execute_result"
    },
    {
     "data": {
      "image/png": "[encoded data removed]",
      "text/plain": [
       "<Figure size 640x480 with 1 Axes>"
      ]
     },
     "metadata": {},
     "output_type": "display_data"
    }
   ],
   "source": [
    "result.plot.line(x='topic_num', y='pmi')"
   ]
  },
  {
   "cell_type": "markdown",
   "metadata": {},
   "source": [
    "## 視覺化"
   ]
  },
  {
   "cell_type": "markdown",
   "metadata": {},
   "source": [
    "### 先測試 pmi 最大的主題數4"
   ]
  },
  {
   "cell_type": "code",
   "execution_count": null,
   "metadata": {},
   "outputs": [],
   "source": [
    "best_model = LdaModel(\n",
    "    corpus = corpus,\n",
    "    num_topics = 4,\n",
    "    id2word=dictionary,\n",
    "    random_state = 1500,\n",
    "    passes = 5 # 訓練次數\n",
    "    )"
   ]
  },
  {
   "cell_type": "code",
   "execution_count": 40,
   "metadata": {},
   "outputs": [
    {
     "data": {
      "text/html": [
       "\n",
       "<link rel=\"stylesheet\" type=\"text/css\" href=\"https://cdn.jsdelivr.net/gh/bmabey/pyLDAvis@3.4.0/pyLDAvis/js/ldavis.v1.0.0.css\">\n",
       "\n",
       "\n",
       "<div id=\"ldavis_el2225621826178348642023600439\" style=\"background-color:white;\"></div>\n",
       "<script type=\"text/javascript\">\n",
       "\n",
       "var ldavis_el2225621826178348642023600439_data = {\"mdsDat\": {\"x\": [0.005852560587900041, 0.11252549620280844, -0.22713505019176172, 0.10875699340105323], \"y\": [0.2002746875537986, 0.009128288722789066, -0.06125406522837966, -0.14814891104820804], \"topics\": [1, 2, 3, 4], \"cluster\": [1, 1, 1, 1], \"Freq\": [30.540924736796534, 30.05464493043321, 22.05131810432751, 17.353112228442747]}, \"tinfo\": {\"Term\": [\"\\u6c11\\u9032\\u9ee8\", \"\\u570b\\u6c11\\u9ee8\", \"\\u806f\\u76df\", \"\\u5927\\u8c37\", \"\\u7acb\\u59d4\", \"\\u53f0\\u7063\", \"\\u7e3d\\u7d71\", \"\\u5730\\u9707\", \"\\u7403\\u54e1\", \"\\u6bd4\\u8cfd\", \"\\u5929\\u6c23\", \"\\u4e3b\\u59d4\", \"\\u8a50\\u9a19\", \"\\u82b1\\u84ee\", \"\\u8cf4\\u6e05\\u5fb7\", \"\\u7acb\\u6cd5\\u9662\", \"\\u77ed\\u66ab\", \"\\u7fd4\\u5e73\", \"\\u5967\\u904b\", \"\\u9663\\u96e8\", \"\\u653f\\u5e9c\", \"\\u653f\\u7b56\", \"\\u9ee8\\u5718\", \"\\u7403\\u8ff7\", \"\\u672a\\u4f86\", \"\\u570b\\u5bb6\", \"\\u63a8\\u85a6\", \"\\u5730\\u5340\", \"\\u9ec3\\u5b50\\u4f7c\", \"\\u5ed6\\u67cf\\u748b\", \"\\u9663\\u96e8\", \"\\u5c40\\u90e8\", \"\\u964d\\u96e8\", \"\\u591a\\u96f2\", \"\\u6c23\\u6eab\", \"\\u92d2\\u9762\", \"\\u6eab\\u5ea6\", \"\\u9ad8\\u6eab\", \"\\u96f7\\u96e8\", \"\\u81f3\\u5ea6\", \"\\u767d\\u5929\", \"\\u60b6\\u71b1\", \"\\u5348\\u5f8c\", \"\\u81fa\\u5317\\u5e02\", \"\\u6771\\u534a\", \"\\u6674\\u6642\\u591a\\u96f2\", \"\\u534a\\u90e8\", \"\\u6771\\u5317\\u90e8\", \"\\u4e2d\\u592e\\u6c23\\u8c61\\u5c40\", \"\\u6f8e\\u6e56\", \"\\u5e6b\\u624b\", \"\\u6c34\\u6c23\", \"\\u4e2d\\u5357\\u90e8\", \"\\u5929\\u6c23\", \"\\u4ee5\\u5317\", \"\\u96e8\\u52e2\", \"\\u75c5\\u60a3\", \"\\u4ecb\\u65bc\", \"\\u5168\\u806f\", \"\\u5496\\u5561\", \"\\u77ed\\u66ab\", \"\\u60a3\\u8005\", \"\\u5317\\u90e8\", \"\\u6d88\\u8cbb\\u8005\", \"\\u4f34\\u96a8\", \"\\u6a5f\\u7387\", \"\\u8212\\u9069\", \"\\u5c71\\u5340\", \"\\u81fa\\u4e2d\\u5e02\", \"\\u5404\\u5730\", \"\\u5730\\u5340\", \"\\u8a2d\\u8a08\", \"\\u9ad8\\u96c4\\u5e02\", \"\\u91ab\\u9662\", \"\\u5065\\u5eb7\", \"\\u696d\\u8005\", \"\\u6d3b\\u52d5\", \"\\u4f7f\\u7528\", \"\\u54c1\\u724c\", \"\\u63a8\\u51fa\", \"\\u6c23\\u8c61\", \"\\u91ab\\u5e2b\", \"\\u6843\\u5712\", \"\\u63d0\\u4f9b\", \"\\u51fa\\u73fe\", \"\\u670d\\u52d9\", \"\\u71b1\\u9580\", \"\\u5f71\\u97ff\", \"\\u6c11\\u773e\", \"\\u767c\\u73fe\", \"\\u842c\\u5143\", \"\\u53f0\\u5317\", \"\\u6307\\u51fa\", \"\\u9032\\u884c\", \"\\u53f0\\u7063\", \"\\u900f\\u904e\", \"\\u4eca\\u5e74\", \"\\u767c\\u751f\", \"\\u6d17\\u9322\", \"\\u76e7\\u7e23\", \"\\u8a50\\u9a19\\u6848\", \"\\u6797\\u4e8e\\u502b\", \"\\u5289\\u5973\", \"\\u6d89\\u6848\", \"\\u96a7\\u9053\", \"\\u7f88\\u62bc\", \"\\u570b\\u9053\", \"\\u525d\\u524a\", \"\\u5433\\u6c9b\\u61b6\", \"\\u5289\\u5411\\u5a55\", \"\\u7802\\u5361\", \"\\u675c\\u79c9\\u6f84\", \"\\u8a50\\u6b3a\", \"\\u6aa2\\u8abf\", \"\\u641c\\u6551\", \"\\u6e05\\u767d\", \"\\u6536\\u62bc\\u7981\\u898b\", \"\\u9ec3\\u5b50\\u4f7c\", \"\\u7981\\u898b\", \"\\u88ab\\u5bb3\\u4eba\", \"\\u9707\\u5ea6\", \"\\u5075\\u67e5\", \"\\u9707\\u5ea6\\u7d1a\", \"\\u7b2c\\u4e00\\u6848\", \"\\u6797\\u4e8e\", \"\\u7455\\u75b5\", \"\\u59d0\\u592b\", \"\\u5be9\\u7406\", \"\\u8a50\\u9a19\", \"\\u6d89\\u5165\", \"\\u72af\\u7f6a\", \"\\u6d89\\u5acc\", \"\\u5289\\u5f65\", \"\\u672a\\u6210\\u5e74\", \"\\u5a46\\u5a46\", \"\\u8d77\\u8a34\", \"\\u6aa2\\u5bdf\\u5b98\", \"\\u8b70\\u4e8b\", \"\\u6436\\u4fee\", \"\\u4e08\\u592b\", \"\\u53d7\\u5bb3\\u8005\", \"\\u5bb6\\u66b4\", \"\\u5730\\u9707\", \"\\u6372\\u5165\", \"\\u53f8\\u6cd5\", \"\\u6aa2\\u65b9\", \"\\u82b1\\u84ee\", \"\\u8868\\u6c7a\", \"\\u6cd5\\u9662\", \"\\u898f\\u6a21\", \"\\u884c\\u70ba\", \"\\u5f37\\u9707\", \"\\u8abf\\u67e5\", \"\\u8981\\u6c42\", \"\\u4e8b\\u4ef6\", \"\\u767c\\u751f\", \"\\u8b66\\u65b9\", \"\\u7acb\\u59d4\", \"\\u707d\\u60c5\", \"\\u6295\\u7968\", \"\\u8cea\\u7591\", \"\\u4eba\\u54e1\", \"\\u570b\\u6c11\\u9ee8\", \"\\u516c\\u53f8\", \"\\u9ee8\\u5718\", \"\\u9020\\u6210\", \"\\u7576\\u6642\", \"\\u6307\\u51fa\", \"\\u767c\\u73fe\", \"\\u6c11\\u9032\\u9ee8\", \"\\u53f0\\u5317\", \"\\u77e5\\u9053\", \"\\u842c\\u5143\", \"\\u76ee\\u524d\", \"\\u5df2\\u7d93\", \"\\u9032\\u884c\", \"\\u6c11\\u773e\", \"\\u5b63\\u5f8c\\u8cfd\", \"\\u7c43\\u677f\", \"\\u6230\\u795e\", \"\\u5931\\u5206\", \"\\u9127\\u6137\\u5a01\", \"\\u7e3d\\u6559\\u7df4\", \"\\u52c7\\u58eb\", \"\\u5ed6\\u67cf\\u748b\", \"\\u4e09\\u632f\", \"\\u52a9\\u653b\", \"\\u6295\\u5c40\", \"\\u7279\\u653b\", \"\\u5168\\u58d8\\u6253\", \"\\u4e0a\\u5834\", \"\\u570b\\u738b\", \"\\u5168\\u5834\", \"\\u5148\\u767c\", \"\\u6797\\u66f8\\u8c6a\", \"\\u5206\\u7403\", \"\\u53f0\\u92fc\", \"\\u9644\\u52a0\\u8cfd\", \"\\u51fa\\u8cfd\", \"\\u6bd4\\u8cfd\", \"\\u6797\\u529b\\u4ec1\", \"\\u5566\\u5566\\u968a\", \"\\u7403\\u5b63\", \"\\u9053\\u5947\", \"\\u64ca\\u51fa\", \"\\u652f\\u5b89\\u6253\", \"\\u6295\\u4e2d\", \"\\u7403\\u54e1\", \"\\u7403\\u968a\", \"\\u6295\\u624b\", \"\\u7fd4\\u5e73\", \"\\u7403\\u661f\", \"\\u6295\\u7403\", \"\\u5de8\\u4eba\", \"\\u7403\\u8ff7\", \"\\u5967\\u904b\", \"\\u751f\\u6daf\", \"\\u6559\\u7df4\", \"\\u672c\\u5b63\", \"\\u5927\\u8c37\", \"\\u806f\\u76df\", \"\\u4e2d\\u8077\", \"\\u5df4\\u9ece\", \"\\u5de8\\u86cb\", \"\\u68d2\\u7403\", \"\\u62ff\\u4e0b\", \"\\u4e3b\\u5834\", \"\\u63a8\\u85a6\", \"\\u9078\\u624b\", \"\\u4ee5\\u6bd4\", \"\\u7c89\\u7d72\", \"\\u4e4b\\u5f8c\", \"\\u7db2\\u53cb\", \"\\u8868\\u73fe\", \"\\u65e5\\u672c\", \"\\u53f0\\u7063\", \"\\u4eca\\u5e74\", \"\\u53f0\\u5317\", \"\\u6700\\u5f8c\", \"\\u7f8e\\u570b\", \"\\u5e0c\\u671b\", \"\\u6642\\u9593\", \"\\u7d00\\u9304\", \"\\u5df2\\u7d93\", \"\\u8cf4\\u6e05\\u5fb7\", \"\\u5353\\u69ae\\u6cf0\", \"\\u99ac\\u82f1\\u4e5d\", \"\\u5167\\u95a3\", \"\\u63a5\\u4efb\", \"\\u6c11\\u4e3b\", \"\\u66d9\\u5149\", \"\\u6731\\u7acb\\u502b\", \"\\u570b\\u9020\", \"\\u88dc\\u9078\", \"\\u4f59\\u5929\", \"\\u6f5b\\u8266\", \"\\u5916\\u4ea4\\u90e8\\u9577\", \"\\u5e02\\u9ee8\\u90e8\", \"\\u6e96\\u95a3\", \"\\u57f7\\u653f\", \"\\u570b\\u9632\", \"\\u5353\\u69ae\", \"\\u51fa\\u4efb\", \"\\u51fa\\u8a2a\", \"\\u570b\\u5b89\", \"\\u4eba\\u4e8b\", \"\\u7d93\\u6fdf\\u90e8\\u9577\", \"\\u8607\\u5de7\\u6167\", \"\\u7e3d\\u7d71\\u5e9c\", \"\\u694a\\u5bf6\\u6968\", \"\\u5916\\u4ea4\", \"\\u6797\\u4f73\\u9f8d\", \"\\u6d77\\u57fa\\u6703\", \"\\u7fd2\\u8fd1\\u5e73\", \"\\u7e3d\\u7d71\", \"\\u4e3b\\u5e2d\", \"\\u79d8\\u66f8\\u9577\", \"\\u884c\\u653f\\u9662\", \"\\u90e8\\u9577\", \"\\u5169\\u5cb8\", \"\\u653f\\u7b56\", \"\\u4e3b\\u59d4\", \"\\u90ed\\u667a\\u8f1d\", \"\\u67ef\\u6587\", \"\\u884c\\u653f\\u9662\\u9577\", \"\\u53c3\\u9078\", \"\\u9752\\u5e74\", \"\\u570b\\u6703\", \"\\u8463\\u4e8b\\u9577\", \"\\u570b\\u5bb6\", \"\\u6539\\u9769\", \"\\u6c11\\u9032\\u9ee8\", \"\\u63a8\\u52d5\", \"\\u672a\\u4f86\", \"\\u9673\\u5efa\\u4ec1\", \"\\u570b\\u6c11\\u9ee8\", \"\\u653f\\u5e9c\", \"\\u53f0\\u7063\", \"\\u4e2d\\u570b\", \"\\u7acb\\u6cd5\\u9662\", \"\\u516c\\u5e03\", \"\\u5730\\u65b9\", \"\\u7acb\\u59d4\", \"\\u652f\\u6301\", \"\\u5e02\\u9577\", \"\\u653f\\u6cbb\", \"\\u9ee8\\u5718\", \"\\u53f0\\u5317\", \"\\u6c11\\u773e\", \"\\u5e0c\\u671b\", \"\\u793e\\u6703\", \"\\u64d4\\u4efb\", \"\\u5f37\\u8abf\"], \"Freq\": [1939.0, 1999.0, 1176.0, 1110.0, 1820.0, 2647.0, 729.0, 1332.0, 736.0, 723.0, 854.0, 593.0, 816.0, 1218.0, 489.0, 884.0, 728.0, 545.0, 549.0, 634.0, 824.0, 444.0, 901.0, 527.0, 822.0, 602.0, 740.0, 1052.0, 599.0, 433.0, 633.7128845020088, 444.24873365714905, 397.10798816617, 387.5641256312413, 354.50113840579985, 349.81684177032645, 261.50187925512756, 251.35964186559883, 418.20107390024776, 231.0323687778947, 213.22034931248314, 205.2487807680849, 151.8930980076715, 168.96534103694552, 145.36644753521227, 131.88676643673472, 119.86566268847743, 116.16818879884471, 110.4655374373238, 107.40387833521646, 117.95010061567375, 86.53372622009542, 129.85580464406738, 847.3636441993629, 81.44026378554399, 103.28031053004393, 88.92956134073327, 69.59381102714683, 69.60400110063415, 82.53240494820835, 718.2568786537378, 188.53509093131512, 352.2545134398661, 211.98975481988015, 98.93284734616978, 405.05583330352806, 302.69338505571346, 344.60893565089583, 132.09068240168872, 446.4813902077406, 896.0226419428272, 480.15461399130226, 356.7324668119818, 402.7183449407457, 338.03413994358925, 246.63066920007205, 793.149430573362, 495.3748283385379, 314.09152037875185, 379.7601780709491, 330.4683424153601, 345.05826064408257, 531.0486497856789, 540.0353786398291, 500.8462795271045, 393.75904913836575, 435.62344327473767, 518.9353315971217, 605.1730762557333, 550.8191326782278, 508.17942279324126, 729.1497695241377, 599.7090443566273, 505.3972350436641, 555.0153820412627, 416.60917833015526, 392.72753891295093, 403.98956233304864, 457.38296733339484, 335.75836554216636, 167.1504753950445, 130.43505986978, 130.2063465953121, 151.06479667028637, 98.91908273633703, 138.15099777943854, 99.60580845511834, 102.89920524381144, 96.45015341628333, 267.2198735677834, 90.45570006577157, 136.04668692704604, 246.05537202848234, 84.45899327149935, 210.6457708263102, 89.69578249365054, 66.69162580440413, 592.8546880849595, 64.37039845562977, 182.08098251209697, 67.82349680362665, 68.60485025951905, 70.6244992298311, 59.62819507002428, 63.61499340463905, 63.08518060850796, 55.40304998886568, 111.22115051675165, 803.1898216888904, 319.558200607158, 251.57959926949894, 231.18063764450125, 191.44014287910156, 345.435419220459, 166.23454064416802, 192.8092226357689, 194.20268465392436, 164.24060346716283, 119.85960323306722, 324.8201720633324, 224.3310249213326, 280.755859548113, 1215.8345841505004, 141.8802781947174, 260.962443330426, 224.80314392358653, 1054.313864767775, 474.2503995003129, 214.30040591702382, 393.0205122670207, 342.93283471784287, 378.2215161278287, 623.9937204133716, 536.85120237251, 553.0431873066678, 1140.3204218089886, 518.6759165158963, 1174.6294636129899, 244.32423146282196, 438.1226032372446, 420.1231761316973, 475.36743157237277, 947.1462990250886, 599.1330978837269, 536.4761391930191, 511.01402745483244, 415.04851092089234, 649.1846527294246, 546.6806789867602, 688.7896479215078, 714.3005241826709, 421.1525492414753, 439.0803619043152, 461.01750170576514, 425.5508207731406, 412.5847307198313, 406.7649417951928, 244.09402662825258, 208.89514908534758, 209.51972559486288, 194.4798253663156, 231.03763960103765, 199.08931772638033, 292.0199732473845, 431.2937560581731, 182.79885911552134, 207.6016692550609, 149.19855750439828, 140.83122293264697, 276.8251193168259, 138.27720664075235, 202.13166469110394, 171.12042251863315, 146.3595748733002, 149.04930792393995, 119.4354680629756, 196.51847840932606, 111.99375534924799, 176.1157118999026, 717.7735888470282, 104.54151067775456, 238.04322675440963, 112.71053195684968, 365.38172216157244, 153.24461492452068, 104.51752856670385, 97.08518218590297, 727.3116075656649, 402.10085556728507, 414.54933204013065, 538.0119512536758, 232.29272821322039, 201.3365597476851, 178.34671784188865, 514.1679626129663, 534.0727345102922, 394.5108356931818, 334.3503088925957, 415.3804804182896, 1059.0983684965827, 1117.7862729827493, 240.0750844526136, 248.12285594791663, 321.70600744678586, 288.28498058928085, 384.33845252311875, 249.62310605107493, 617.2852202737016, 321.23016797347344, 241.70148657736237, 367.50167133697613, 536.941593511379, 515.0869709967259, 297.3015599295531, 455.24812358435264, 724.1633954116564, 416.1860015836746, 620.8644986802536, 386.6561776463947, 388.8333003068128, 383.39914077336806, 332.6468763263541, 305.2361418128236, 314.5880904330357, 488.05964501351593, 330.11158395925565, 251.7131104413269, 296.45011223908966, 304.17558201251904, 180.14399633660676, 127.80281381595657, 115.1611040686655, 112.38972342679214, 109.77019480260549, 113.77770369333012, 115.44077668627973, 108.87794222005965, 90.57685310706438, 105.48814615528774, 123.6144122337832, 86.84012377816708, 89.89142424769118, 216.07965727101674, 76.05460360102678, 92.62714809456236, 289.24029657970016, 121.59922107146889, 67.09195168332734, 91.3068448282812, 116.56909533710581, 100.16951980279629, 71.51824088141836, 67.26313812807963, 64.82590738923344, 713.4080392605887, 304.8540824853429, 277.94363061892255, 305.5745566201542, 347.4351785658019, 231.47306193464266, 430.3091946288316, 564.1313776678616, 221.25149941156982, 288.0610526613541, 163.11855004513987, 185.90242886062205, 174.91558213085773, 376.6061710502402, 197.11090589364022, 486.00863441801755, 219.1099839206016, 1245.6169507156046, 232.78267661960862, 559.0554530214723, 163.86812990898605, 1051.1990078380475, 532.8409364409767, 1181.409582354288, 489.14383016729863, 494.1422609727709, 347.92194813873436, 322.100157228863, 643.7155225650855, 334.4969078520869, 328.8111030345858, 332.7206386845272, 364.5555405002321, 458.48983768492263, 380.6856050505332, 364.4316232166704, 314.1367933339887, 307.1316936069343, 308.6028015010106], \"Total\": [1939.0, 1999.0, 1176.0, 1110.0, 1820.0, 2647.0, 729.0, 1332.0, 736.0, 723.0, 854.0, 593.0, 816.0, 1218.0, 489.0, 884.0, 728.0, 545.0, 549.0, 634.0, 824.0, 444.0, 901.0, 527.0, 822.0, 602.0, 740.0, 1052.0, 599.0, 433.0, 634.3541217651467, 444.8999957217133, 397.7464705225939, 388.2002552133958, 355.14388967183, 350.48824888212687, 262.1789839635887, 252.02467564277845, 419.31997201651814, 231.66094469661965, 213.85851227354624, 205.87672808304086, 152.52687736460328, 169.68365378688435, 145.9936341052429, 132.51039374502545, 120.5024001347232, 116.81756607354728, 111.10940319046888, 108.07638921807143, 118.7506870415505, 87.1584915576347, 130.85314829487322, 854.0033077330626, 82.08952746359564, 104.11426219007731, 89.7362849991377, 70.22881448400211, 70.25261620973785, 83.31555902568789, 728.3772177216458, 190.46011133316236, 358.83165984282203, 214.95834770068848, 99.87771908616526, 415.13407087374765, 315.4079381373465, 363.1538255215502, 134.23191693531425, 488.8886455466357, 1052.1121842862033, 550.7162184695715, 403.6835221621692, 479.67647947637056, 392.23767410313457, 276.30636304986206, 1115.1238732905103, 647.4610474189974, 371.1855495295842, 469.49314553503797, 397.1083869781013, 427.460871413782, 792.0352989303437, 829.0619224595963, 780.5911873657924, 545.5578021781287, 677.2585397505215, 951.3303078191784, 1404.2219105903969, 1196.1978403781554, 1002.7467817906968, 2522.8046300719852, 1617.3628142414377, 1292.184251586887, 2647.5658277319694, 864.9924142603085, 914.8053042972505, 1731.989785642364, 458.20252648138757, 337.53193556751694, 168.0425409467321, 131.2757566580656, 131.1757271819441, 152.26659128141785, 99.70880971798303, 139.3499163939479, 100.47523048813115, 103.86871671416725, 97.38193779316158, 269.8584006413852, 91.37265526492428, 137.5102875593649, 248.70294709870075, 85.3721696394916, 212.96362375314317, 90.69874926201909, 67.45458793110014, 599.6548348823206, 65.15784930859513, 184.35106410569307, 68.66973541875947, 69.46472048243857, 71.52552808324353, 60.40035203603444, 64.46150450719028, 63.92774454525025, 56.18697245372502, 112.81511334700153, 816.7860224444072, 324.2212823327365, 255.82043535680572, 234.87713039236507, 194.27025629276085, 353.21429495123107, 168.82476143177237, 196.4790175973089, 198.1908959650468, 167.36465834797508, 121.86609221028677, 339.1038990176009, 231.64838760274966, 292.0858683146544, 1332.681389967939, 145.12727488431506, 274.2160664009659, 235.80755378708136, 1218.2019935013113, 520.754192485358, 225.13106847992327, 435.9579931230401, 379.6848574917809, 424.9853162502688, 763.7112122419632, 653.1376703813575, 707.0468956530849, 1731.989785642364, 662.3716184004983, 1820.4404889746534, 264.9694703524414, 561.4518569616132, 558.9613094490951, 688.1096377827895, 1999.7759056525124, 1052.7586111327014, 901.7042034695892, 865.6784587813759, 650.361942422563, 1617.3628142414377, 1196.1978403781554, 1939.3354961834593, 2522.8046300719852, 796.788428771771, 1002.7467817906968, 1261.6045236000425, 1000.3425030357754, 1292.184251586887, 1404.2219105903969, 244.92325520181595, 209.76077145778274, 210.4124060434636, 195.32774510704735, 232.07232337960596, 199.98191569191468, 293.35120569065117, 433.31960565393456, 183.67398518052522, 208.81332524794428, 150.0988578117329, 141.70100342786117, 278.5720688529343, 139.17405408135627, 203.48141197034087, 172.27468742939317, 147.36128464830662, 150.07382713512308, 120.28380186820769, 197.97182165056665, 112.83127028812358, 177.46405379926156, 723.3465197631406, 105.36893634125909, 239.9360245073, 113.60968026647501, 368.34667086125444, 154.49136262428777, 105.38697750058208, 97.91358649646911, 736.0140255181885, 406.2035870359703, 418.96698065513897, 545.2927132688749, 234.37094396745752, 203.14160068377683, 179.89968013042312, 527.2315767772586, 549.1492838413516, 403.34799415395395, 340.99186739700514, 425.533709498691, 1110.4065616244222, 1176.6083780506585, 244.33058316492534, 253.33679724312194, 333.04324086063093, 297.5595652912213, 412.45326404700245, 258.981298504721, 740.4259523579152, 348.8047684098006, 250.25570845060838, 440.2527299539628, 789.4403203987952, 930.1740551468667, 376.96472843483457, 933.4765360173195, 2647.5658277319694, 914.8053042972505, 2522.8046300719852, 783.5976162843798, 816.8227423572012, 1159.6466153367185, 1090.6393334660283, 484.3674691883923, 1000.3425030357754, 489.84457947106347, 331.37232950121637, 252.70475172298725, 297.8851163414832, 306.0997077672726, 181.30930347142166, 128.6726076929965, 116.03938681470068, 113.26806469091794, 110.63619602364393, 114.68834580309772, 116.46983171477305, 109.92282277870893, 91.49778962440129, 106.64490520376059, 124.97852215994881, 87.8169144663484, 90.93543627101167, 218.58945322482336, 76.94479406433828, 93.71785428757745, 292.7432807796885, 123.13318110644468, 67.95891204989888, 92.52646507877887, 118.1559828241555, 101.53976374870695, 72.51519523924966, 68.2239624407675, 65.76621308994287, 729.7604248217775, 309.85675184628434, 282.68517662129545, 312.0606639187388, 355.5577171118919, 236.6378418614477, 444.40290732130745, 593.0441639208391, 228.1232455769162, 303.70166627366496, 169.32305157982563, 195.12885557331555, 183.6180857113103, 438.5653659889059, 213.41134598758467, 602.5419436005154, 247.87236913350017, 1939.3354961834593, 270.6374692335592, 822.0941777605315, 178.21283066215892, 1999.7759056525124, 824.4991326956867, 2647.5658277319694, 829.9116458928237, 884.3157588340546, 554.0395131472412, 512.4415135611855, 1820.4404889746534, 555.1120817777507, 565.0819060524453, 671.3108818667577, 901.7042034695892, 2522.8046300719852, 1404.2219105903969, 1159.6466153367185, 591.5140622369522, 563.5750038382479, 808.8234296035175], \"Category\": [\"Default\", \"Default\", \"Default\", \"Default\", \"Default\", \"Default\", \"Default\", \"Default\", \"Default\", \"Default\", \"Default\", \"Default\", \"Default\", \"Default\", \"Default\", \"Default\", \"Default\", \"Default\", \"Default\", \"Default\", \"Default\", \"Default\", \"Default\", \"Default\", \"Default\", \"Default\", \"Default\", \"Default\", \"Default\", \"Default\", \"Topic1\", \"Topic1\", \"Topic1\", \"Topic1\", \"Topic1\", \"Topic1\", \"Topic1\", \"Topic1\", \"Topic1\", \"Topic1\", \"Topic1\", \"Topic1\", \"Topic1\", \"Topic1\", \"Topic1\", \"Topic1\", \"Topic1\", \"Topic1\", \"Topic1\", \"Topic1\", \"Topic1\", \"Topic1\", \"Topic1\", \"Topic1\", \"Topic1\", \"Topic1\", \"Topic1\", \"Topic1\", \"Topic1\", \"Topic1\", \"Topic1\", \"Topic1\", \"Topic1\", \"Topic1\", \"Topic1\", \"Topic1\", \"Topic1\", \"Topic1\", \"Topic1\", \"Topic1\", \"Topic1\", \"Topic1\", \"Topic1\", \"Topic1\", \"Topic1\", \"Topic1\", \"Topic1\", \"Topic1\", \"Topic1\", \"Topic1\", \"Topic1\", \"Topic1\", \"Topic1\", \"Topic1\", \"Topic1\", \"Topic1\", \"Topic1\", \"Topic1\", \"Topic1\", \"Topic1\", \"Topic1\", \"Topic1\", \"Topic1\", \"Topic1\", \"Topic1\", \"Topic1\", \"Topic1\", \"Topic1\", \"Topic2\", \"Topic2\", \"Topic2\", \"Topic2\", \"Topic2\", \"Topic2\", \"Topic2\", \"Topic2\", \"Topic2\", \"Topic2\", \"Topic2\", \"Topic2\", \"Topic2\", \"Topic2\", \"Topic2\", \"Topic2\", \"Topic2\", \"Topic2\", \"Topic2\", \"Topic2\", \"Topic2\", \"Topic2\", \"Topic2\", \"Topic2\", \"Topic2\", \"Topic2\", \"Topic2\", \"Topic2\", \"Topic2\", \"Topic2\", \"Topic2\", \"Topic2\", \"Topic2\", \"Topic2\", \"Topic2\", \"Topic2\", \"Topic2\", \"Topic2\", \"Topic2\", \"Topic2\", \"Topic2\", \"Topic2\", \"Topic2\", \"Topic2\", \"Topic2\", \"Topic2\", \"Topic2\", \"Topic2\", \"Topic2\", \"Topic2\", \"Topic2\", \"Topic2\", \"Topic2\", \"Topic2\", \"Topic2\", \"Topic2\", \"Topic2\", \"Topic2\", \"Topic2\", \"Topic2\", \"Topic2\", \"Topic2\", \"Topic2\", \"Topic2\", \"Topic2\", \"Topic2\", \"Topic2\", \"Topic2\", \"Topic2\", \"Topic2\", \"Topic2\", \"Topic2\", \"Topic2\", \"Topic2\", \"Topic2\", \"Topic2\", \"Topic2\", \"Topic2\", \"Topic2\", \"Topic3\", \"Topic3\", \"Topic3\", \"Topic3\", \"Topic3\", \"Topic3\", \"Topic3\", \"Topic3\", \"Topic3\", \"Topic3\", \"Topic3\", \"Topic3\", \"Topic3\", \"Topic3\", \"Topic3\", \"Topic3\", \"Topic3\", \"Topic3\", \"Topic3\", \"Topic3\", \"Topic3\", \"Topic3\", \"Topic3\", \"Topic3\", \"Topic3\", \"Topic3\", \"Topic3\", \"Topic3\", \"Topic3\", \"Topic3\", \"Topic3\", \"Topic3\", \"Topic3\", \"Topic3\", \"Topic3\", \"Topic3\", \"Topic3\", \"Topic3\", \"Topic3\", \"Topic3\", \"Topic3\", \"Topic3\", \"Topic3\", \"Topic3\", \"Topic3\", \"Topic3\", \"Topic3\", \"Topic3\", \"Topic3\", \"Topic3\", \"Topic3\", \"Topic3\", \"Topic3\", \"Topic3\", \"Topic3\", \"Topic3\", \"Topic3\", \"Topic3\", \"Topic3\", \"Topic3\", \"Topic3\", \"Topic3\", \"Topic3\", \"Topic3\", \"Topic3\", \"Topic3\", \"Topic3\", \"Topic4\", \"Topic4\", \"Topic4\", \"Topic4\", \"Topic4\", \"Topic4\", \"Topic4\", \"Topic4\", \"Topic4\", \"Topic4\", \"Topic4\", \"Topic4\", \"Topic4\", \"Topic4\", \"Topic4\", \"Topic4\", \"Topic4\", \"Topic4\", \"Topic4\", \"Topic4\", \"Topic4\", \"Topic4\", \"Topic4\", \"Topic4\", \"Topic4\", \"Topic4\", \"Topic4\", \"Topic4\", \"Topic4\", \"Topic4\", \"Topic4\", \"Topic4\", \"Topic4\", \"Topic4\", \"Topic4\", \"Topic4\", \"Topic4\", \"Topic4\", \"Topic4\", \"Topic4\", \"Topic4\", \"Topic4\", \"Topic4\", \"Topic4\", \"Topic4\", \"Topic4\", \"Topic4\", \"Topic4\", \"Topic4\", \"Topic4\", \"Topic4\", \"Topic4\", \"Topic4\", \"Topic4\", \"Topic4\", \"Topic4\", \"Topic4\", \"Topic4\", \"Topic4\", \"Topic4\", \"Topic4\", \"Topic4\", \"Topic4\", \"Topic4\", \"Topic4\", \"Topic4\", \"Topic4\", \"Topic4\", \"Topic4\"], \"logprob\": [30.0, 29.0, 28.0, 27.0, 26.0, 25.0, 24.0, 23.0, 22.0, 21.0, 20.0, 19.0, 18.0, 17.0, 16.0, 15.0, 14.0, 13.0, 12.0, 11.0, 10.0, 9.0, 8.0, 7.0, 6.0, 5.0, 4.0, 3.0, 2.0, 1.0, -5.7378, -6.0931, -6.2052, -6.2296, -6.3187, -6.332, -6.623, -6.6626, -6.1535, -6.7469, -6.8271, -6.8652, -7.1663, -7.0597, -7.2102, -7.3075, -7.4031, -7.4344, -7.4847, -7.5128, -7.4192, -7.7289, -7.323, -5.4473, -7.7896, -7.552, -7.7016, -7.9468, -7.9466, -7.7763, -5.6126, -6.9502, -6.3251, -6.8329, -7.595, -6.1854, -6.4767, -6.347, -7.306, -6.088, -5.3915, -6.0153, -6.3125, -6.1912, -6.3663, -6.6815, -5.5134, -5.9841, -6.4398, -6.2499, -6.3889, -6.3457, -5.9146, -5.8978, -5.9731, -6.2137, -6.1127, -5.9377, -5.7839, -5.878, -5.9586, -5.5976, -5.793, -5.9641, -5.8704, -6.1573, -6.2163, -6.1881, -6.0479, -6.357, -7.0545, -7.3025, -7.3043, -7.1557, -7.5791, -7.245, -7.5722, -7.5396, -7.6044, -6.5853, -7.6685, -7.2604, -6.6678, -7.7371, -6.8232, -7.677, -7.9733, -5.7884, -8.0087, -6.9689, -7.9565, -7.945, -7.916, -8.0853, -8.0205, -8.0289, -8.1588, -7.4619, -5.4848, -6.4065, -6.6456, -6.7302, -6.9188, -6.3286, -7.06, -6.9117, -6.9045, -7.0721, -7.3871, -6.3901, -6.7603, -6.5359, -5.0702, -7.2184, -6.609, -6.7582, -5.2127, -6.0117, -6.806, -6.1995, -6.3359, -6.2379, -5.7373, -5.8877, -5.858, -5.1343, -5.9221, -5.1047, -6.6749, -6.0909, -6.1328, -6.0093, -5.3199, -5.7779, -5.8884, -5.937, -6.145, -5.6977, -5.8695, -5.6385, -5.6021, -6.1304, -6.0887, -6.04, -6.12, -6.1509, -6.1652, -6.3662, -6.5219, -6.5189, -6.5934, -6.4212, -6.57, -6.1869, -5.797, -6.6554, -6.5281, -6.8585, -6.9162, -6.2404, -6.9345, -6.5548, -6.7214, -6.8777, -6.8595, -7.081, -6.583, -7.1453, -6.6926, -5.2876, -7.2142, -6.3913, -7.1389, -5.9628, -6.8317, -7.2144, -7.2882, -5.2744, -5.867, -5.8366, -5.5759, -6.4157, -6.5588, -6.68, -5.6212, -5.5832, -5.8861, -6.0516, -5.8346, -4.8986, -4.8446, -6.3828, -6.3498, -6.0901, -6.1998, -5.9122, -6.3438, -5.4384, -6.0916, -6.376, -5.957, -5.5779, -5.6194, -6.169, -5.7429, -5.2787, -5.8326, -5.4326, -5.9062, -5.9006, -5.9147, -6.0567, -6.1427, -6.1125, -5.4337, -5.8247, -6.0959, -5.9323, -5.9065, -6.4304, -6.7737, -6.8778, -6.9022, -6.9258, -6.8899, -6.8754, -6.9339, -7.1179, -6.9655, -6.807, -7.1601, -7.1255, -6.2485, -7.2927, -7.0956, -5.9569, -6.8234, -7.4181, -7.1099, -6.8657, -7.0173, -7.3542, -7.4155, -7.4524, -5.0541, -5.9043, -5.9967, -5.902, -5.7736, -6.1797, -5.5596, -5.2889, -6.2248, -5.961, -6.5297, -6.3989, -6.4598, -5.6929, -6.3404, -5.4379, -6.2346, -4.4968, -6.174, -5.2979, -6.5251, -4.6665, -5.3459, -4.5497, -5.4315, -5.4213, -5.7722, -5.8493, -5.1569, -5.8115, -5.8287, -5.8168, -5.7255, -5.4962, -5.6822, -5.7258, -5.8743, -5.8969, -5.8921], \"loglift\": [30.0, 29.0, 28.0, 27.0, 26.0, 25.0, 24.0, 23.0, 22.0, 21.0, 20.0, 19.0, 18.0, 17.0, 16.0, 15.0, 14.0, 13.0, 12.0, 11.0, 10.0, 9.0, 8.0, 7.0, 6.0, 5.0, 4.0, 3.0, 2.0, 1.0, 1.1851, 1.1846, 1.1845, 1.1845, 1.1843, 1.1842, 1.1835, 1.1835, 1.1834, 1.1834, 1.1831, 1.183, 1.1819, 1.1819, 1.1818, 1.1814, 1.1808, 1.1805, 1.1803, 1.1799, 1.1793, 1.1789, 1.1785, 1.1783, 1.1782, 1.1781, 1.1771, 1.177, 1.1768, 1.1767, 1.1721, 1.1759, 1.1676, 1.1722, 1.1766, 1.1615, 1.145, 1.1337, 1.17, 1.0954, 1.0255, 1.049, 1.0625, 1.0112, 1.0374, 1.0725, 0.8454, 0.9184, 1.0191, 0.974, 1.0024, 0.972, 0.7864, 0.7574, 0.7424, 0.86, 0.7448, 0.58, 0.3444, 0.4106, 0.5064, -0.0551, 0.194, 0.2474, -0.3763, 0.4555, 0.3405, -0.2695, 1.2004, 1.1969, 1.1968, 1.1957, 1.1947, 1.1942, 1.1942, 1.1935, 1.1935, 1.1928, 1.1925, 1.1923, 1.1921, 1.1915, 1.1915, 1.1914, 1.1912, 1.191, 1.1908, 1.1907, 1.19, 1.1898, 1.1898, 1.1897, 1.1895, 1.1893, 1.1889, 1.1889, 1.1881, 1.1879, 1.1854, 1.1877, 1.1854, 1.1863, 1.1875, 1.1799, 1.1867, 1.1833, 1.1818, 1.1833, 1.1856, 1.1591, 1.1701, 1.1626, 1.1104, 1.1795, 1.1526, 1.1544, 1.0577, 1.1086, 1.1528, 1.0985, 1.1003, 1.0856, 1.0001, 1.0061, 0.9565, 0.7842, 0.9576, 0.764, 1.121, 0.9541, 0.9166, 0.8323, 0.4548, 0.6385, 0.6829, 0.675, 0.753, 0.2893, 0.4191, 0.167, -0.0597, 0.5646, 0.3763, 0.1954, 0.3474, 0.0605, -0.0369, 1.5084, 1.5077, 1.5075, 1.5074, 1.5073, 1.5073, 1.5072, 1.5071, 1.507, 1.506, 1.5058, 1.5056, 1.5055, 1.5053, 1.5051, 1.5051, 1.505, 1.5049, 1.5047, 1.5044, 1.5043, 1.5042, 1.5041, 1.5039, 1.5039, 1.5039, 1.5037, 1.5037, 1.5035, 1.5033, 1.4999, 1.5016, 1.5012, 1.4984, 1.5029, 1.5029, 1.5031, 1.4867, 1.484, 1.4896, 1.4921, 1.4876, 1.4645, 1.4605, 1.4942, 1.491, 1.4772, 1.4801, 1.4412, 1.475, 1.3299, 1.4294, 1.477, 1.3312, 1.1264, 0.9208, 1.2744, 0.7937, 0.2154, 0.7242, 0.1098, 0.8054, 0.7695, 0.405, 0.3244, 1.05, 0.355, 1.7477, 1.7476, 1.7475, 1.7466, 1.7451, 1.745, 1.7446, 1.7438, 1.7436, 1.7435, 1.7434, 1.7425, 1.7418, 1.7413, 1.7405, 1.7404, 1.7402, 1.7399, 1.7399, 1.7398, 1.7397, 1.7394, 1.7389, 1.7386, 1.7381, 1.7379, 1.7378, 1.7376, 1.7372, 1.737, 1.7287, 1.7351, 1.7345, 1.7304, 1.7283, 1.7293, 1.7192, 1.7014, 1.7208, 1.6985, 1.7141, 1.703, 1.7028, 1.5991, 1.6719, 1.5365, 1.6281, 1.3087, 1.6007, 1.3658, 1.6675, 1.1083, 1.3148, 0.9445, 1.2227, 1.1694, 1.2861, 1.2871, 0.7118, 1.2449, 1.2099, 1.0495, 0.8458, 0.0462, 0.4461, 0.5939, 1.1185, 1.1444, 0.7879]}, \"token.table\": {\"Topic\": [1, 2, 3, 4, 3, 3, 1, 4, 1, 2, 3, 4, 1, 1, 3, 4, 1, 3, 4, 2, 3, 4, 2, 3, 4, 1, 2, 3, 4, 1, 2, 3, 4, 1, 2, 3, 4, 1, 2, 3, 4, 1, 2, 3, 4, 1, 1, 2, 3, 4, 1, 4, 1, 2, 3, 4, 1, 2, 3, 4, 2, 3, 3, 4, 1, 3, 1, 3, 1, 2, 4, 1, 2, 3, 4, 1, 2, 3, 4, 3, 4, 1, 2, 3, 4, 4, 3, 4, 3, 1, 2, 2, 3, 1, 2, 2, 3, 3, 1, 3, 1, 2, 4, 1, 1, 4, 3, 4, 2, 3, 4, 1, 2, 3, 4, 1, 2, 3, 4, 1, 2, 3, 4, 3, 4, 2, 4, 1, 2, 4, 2, 1, 1, 2, 3, 4, 3, 4, 4, 1, 2, 3, 4, 2, 4, 2, 3, 4, 2, 3, 4, 1, 2, 4, 1, 2, 4, 1, 2, 3, 4, 1, 2, 3, 4, 2, 4, 2, 4, 4, 1, 1, 2, 3, 1, 4, 3, 1, 2, 3, 4, 2, 2, 3, 4, 3, 2, 3, 1, 2, 1, 1, 2, 4, 3, 4, 1, 3, 1, 2, 3, 4, 1, 3, 4, 1, 2, 3, 4, 4, 1, 2, 3, 4, 1, 1, 3, 4, 1, 2, 3, 4, 1, 2, 3, 4, 1, 2, 3, 4, 1, 3, 1, 3, 3, 3, 3, 4, 1, 3, 4, 2, 3, 4, 1, 3, 4, 1, 2, 3, 4, 1, 2, 3, 3, 4, 1, 2, 3, 4, 1, 2, 4, 1, 2, 3, 4, 1, 2, 3, 4, 1, 2, 4, 1, 2, 4, 1, 3, 1, 2, 3, 4, 3, 1, 2, 3, 4, 2, 2, 4, 1, 2, 3, 4, 2, 3, 4, 1, 2, 3, 4, 1, 3, 4, 1, 2, 3, 4, 1, 2, 3, 4, 1, 4, 1, 2, 3, 4, 1, 2, 3, 4, 1, 2, 3, 4, 1, 2, 3, 1, 3, 4, 4, 2, 3, 1, 1, 2, 2, 4, 3, 3, 1, 2, 3, 4, 1, 2, 3, 4, 1, 3, 4, 3, 4, 1, 2, 3, 4, 1, 2, 3, 4, 1, 2, 1, 2, 3, 2, 1, 3, 4, 2, 4, 1, 2, 3, 4, 2, 3, 4, 1, 1, 2, 4, 1, 1, 2, 4, 2, 1, 2, 3, 4, 4, 1, 2, 3, 2, 3, 4, 1, 2, 1, 2, 2, 4, 1, 4, 1, 1, 2, 3, 4, 1, 2, 3, 4, 3, 1, 2, 3, 1, 3, 4, 3, 1, 3, 4, 1, 3, 4, 1, 3, 4, 2, 1, 3, 4, 1, 2, 3, 4, 1, 1, 2, 3, 4, 1, 2, 3, 4, 1, 2, 4, 1, 2, 3, 4, 1, 2, 3, 4, 1, 3, 1, 2, 1, 2, 3, 4, 2, 2, 3, 4, 2, 3, 4, 2, 4, 2, 3, 1, 2, 3, 4, 1, 2, 3, 4, 2, 4, 1, 2, 3, 4, 3, 2, 3, 4, 4, 1, 2, 1, 2, 3, 4, 4, 1, 3, 1, 2, 3, 4, 1, 1, 2, 4, 1, 1, 3, 1, 2, 3, 4, 1, 2, 3, 4, 1, 2, 3, 4, 4, 1, 2, 3, 4, 2, 4, 1, 2, 3, 4, 2, 4, 1, 2, 3, 4, 1, 2, 4, 1, 2, 3, 4, 1, 2, 3, 4, 1, 2, 3, 4, 1, 2, 1, 2, 3, 4, 2, 1, 2, 3, 4, 1, 2, 3, 2, 4, 1, 2, 3, 4, 2, 4, 1, 2, 1, 2, 3, 4, 1, 2, 3, 4, 1, 2, 3, 4, 1, 3, 1, 3, 4, 1, 2, 3, 4, 2, 4, 3, 1, 2, 3, 4, 1, 2, 3, 4, 1, 3, 1, 1, 2, 4, 2, 1, 1, 2, 2, 2, 1, 3, 4, 4, 1, 1, 2, 3, 4, 1, 2, 3, 2, 4], \"Freq\": [0.0029489486935922724, 0.9584083254174885, 0.014744743467961362, 0.02654053824233045, 0.9963305354328607, 0.991564131050821, 0.9934801087632169, 0.007642154682793976, 0.030123688616400673, 0.23134992857395717, 0.14941349553734734, 0.5892193493367972, 0.9900152178068395, 0.004092815508588996, 0.9822757220613592, 0.012278446525766989, 0.030890261367093143, 0.9653206677216607, 0.003861282670886643, 0.037096731303364806, 0.011803505414706983, 0.9510252934135341, 0.012909191025097768, 0.003227297756274442, 0.9843258156637048, 0.11907169873526954, 0.11780497853595816, 0.6802287470302101, 0.08360353315455095, 0.05515900039979171, 0.7821263390021748, 0.1414333343584403, 0.021215000153766043, 0.003415962263374973, 0.006831924526749946, 0.003415962263374973, 0.9872130941153672, 0.2296145720456755, 0.6902969729221258, 0.004359770355297637, 0.07556935282515903, 0.4295996078661797, 0.05137705234023014, 0.4547415696496966, 0.06449459761858678, 0.9967418717561545, 0.9867275705286668, 0.011987738535810838, 0.9670109085554076, 0.019979564226351398, 0.9912120631688831, 0.9939981190043538, 0.7645247570849867, 0.13128202899439165, 0.0664132617265746, 0.03706786701018117, 0.8617224257533371, 0.0025494746324063225, 0.09433056139903394, 0.043341068750907485, 0.9933099783715958, 0.9907622639721453, 0.0033569988735309667, 0.9936716665651661, 0.005804683293416802, 0.9926008431742731, 0.003589735338929212, 0.9943566888833918, 0.9964041736327133, 0.021129334009593943, 0.9761752312432401, 0.1937766149264825, 0.5689813350047207, 0.0626924342409208, 0.1747789075807489, 0.08302656923997236, 0.10468567425909558, 0.1841023926625474, 0.6281140455545735, 0.009149572271188046, 0.9881538052883089, 0.6418212351214089, 0.15757287808369919, 0.1396377537489692, 0.06149185486193139, 0.9877211437651223, 0.9917501388708407, 0.005634943970857049, 0.9893268931621041, 0.009627537834628934, 0.9916363969667803, 0.9894077759499371, 0.007411294201872189, 0.007623361588939197, 0.9910370065620956, 0.9831664591627828, 0.010294936745160028, 0.996105012709421, 0.003408883210981359, 0.9953938976065567, 0.9809613793670979, 0.00557364420094942, 0.01114728840189884, 0.9965456752691276, 0.9958307873190781, 0.9897131821282099, 0.003017753478406619, 0.9958586478741843, 0.04099854927399074, 0.005124818659248843, 0.9532162706202847, 0.004316887375511912, 0.9669827721146682, 0.004316887375511912, 0.02590132425307147, 0.2889641121275407, 0.28301834850351726, 0.24615461403457173, 0.18154398265351665, 0.20962651586851735, 0.07063091615750045, 0.2734587342140659, 0.4460701175508451, 0.9950911112376286, 0.0050512239149118204, 0.9518041864781147, 0.047407871357147476, 0.9122731813526144, 0.07159094472498095, 0.01431818894499619, 0.9858090953571205, 0.9962124838460173, 0.8459381039966202, 0.002694070394893695, 0.14009166053447214, 0.01077628157957478, 0.9919310803316194, 0.004167777648452183, 0.9923402611697161, 0.056427607009117954, 0.08464141051367693, 0.05310833600858161, 0.8065828531303332, 0.13908987058851127, 0.8596210034732581, 0.4735530602820223, 0.00050005602986486, 0.5255588873879677, 0.004914453808418424, 0.9927196693005217, 0.9888047465596045, 0.00995270172700054, 0.9952701727000538, 0.9906975271072472, 0.85162021064121, 0.11785815415123889, 0.03041500752290036, 0.14830960800158827, 0.18148412558089091, 0.04098028642149149, 0.628364391796203, 0.02476210761883146, 0.9124461474090623, 0.0030014675901613892, 0.059278984905687435, 0.008001374817988243, 0.9921704774305421, 0.00984835854527714, 0.9848358545277139, 0.9916048118545253, 0.9994841445601685, 0.045028552359105856, 0.0009005710471821171, 0.953704738965862, 0.9917994372274123, 0.007025733911882495, 0.9932024756323292, 0.0018209984596627435, 0.0018209984596627435, 0.9724131774599051, 0.02367297997561567, 0.9788745966922743, 0.9832680857487013, 0.005923301721377719, 0.005923301721377719, 0.9962304306258906, 0.9620458587105899, 0.03766015817016544, 0.008864060588444009, 0.9839107253172851, 0.9979770830964982, 0.9500106449505847, 0.04681211873669548, 0.002753654043335028, 0.9894403362527054, 0.005558653574453401, 0.03302874417019976, 0.9668414202549386, 0.07997260913859115, 0.4258541436629979, 0.3148921484832027, 0.1799383705618301, 0.011841943344381052, 0.9789339831355004, 0.007894628896254035, 0.24244273004077574, 0.11148826271948081, 0.06547723366064746, 0.582216483090622, 0.994559544810375, 0.05863855341849578, 0.2966420937641551, 0.3302730288129983, 0.31388872712253624, 0.9936784614872346, 0.0023077654159932887, 0.9946468942931074, 0.0023077654159932887, 0.061818189446502345, 0.4846546052605784, 0.07170909975794272, 0.3820364107793845, 0.04000138204772445, 0.8894424949435201, 0.002353022473395556, 0.06588462925507556, 0.5455518401276958, 0.25017598834372173, 0.08304160957627739, 0.12088335571230252, 0.9923337683521131, 0.005250443218794249, 0.995741490108162, 0.998040010799656, 0.9906694614183901, 0.9926791061054496, 0.9905315195747985, 0.009547291754937817, 0.004922674610389941, 0.9894575966883781, 0.004922674610389941, 0.7801203158723301, 0.051651801735839206, 0.16742308148858226, 0.002424517120286486, 0.9310145741900107, 0.06546196224773512, 0.3709742765919885, 0.4012705091803342, 0.05626443194978492, 0.171884748154288, 0.006890503530760345, 0.978451501367969, 0.01378100706152069, 0.003266909358699223, 0.9931404450445637, 0.8093834885852255, 0.0042599130978169765, 0.09371808815197348, 0.09371808815197348, 0.09976445640163407, 0.036949798667271876, 0.8609303089474347, 0.0958907501471251, 0.01485631340307572, 0.8333041245179744, 0.05672410572083457, 0.6513385615370805, 0.19781393350385407, 0.012061825213649638, 0.13871098995697084, 0.004695637604096887, 0.9907795344644431, 0.009391275208193774, 0.008205727958146423, 0.9846873549775707, 0.008205727958146423, 0.006472853776504841, 0.9903466278052407, 0.03548773431005506, 0.06565230847360186, 0.3548773431005506, 0.5447367216593452, 0.9963280330287493, 0.034227322055669106, 0.19095242831057502, 0.17293804828127549, 0.6016802929786043, 0.9932608300629683, 0.11296136030764946, 0.8835192109776868, 0.1297757581019706, 0.22195293208094036, 0.0024257151047097306, 0.6464530754051433, 0.5020028858505649, 0.001489622806678234, 0.49604439462385197, 0.0067506309040210035, 0.022502103013403347, 0.0022502103013403345, 0.9675904295763439, 0.005865242521081796, 0.97949550102066, 0.011730485042163593, 0.3835125856804158, 0.035351718791770174, 0.4874252136441039, 0.09427125011138712, 0.2805693785383098, 0.26589908423565306, 0.30532550017404303, 0.1485367298143993, 0.9961482738779907, 0.9947727204332308, 0.08295073727790729, 0.24247138588926748, 0.49387592810077113, 0.18121545682250517, 0.7221966186295253, 0.05132361756758048, 0.02566180878379024, 0.19979551124522402, 0.10947650820879086, 0.07176793315909623, 0.13745383808437076, 0.6799707565412677, 0.002831142494213242, 0.9767441605035684, 0.019817997459492694, 0.02114991080401748, 0.9752458870741393, 0.0023499900893352754, 0.9910428101765099, 0.9890169122167467, 0.007272183178064314, 0.9930013430254783, 0.993193990194623, 0.992840618432373, 0.9902818563720903, 0.9928953478295152, 0.9964986232748501, 0.9928446741472366, 0.0098781150489201, 0.0296343451467603, 0.013170820065226801, 0.9482990446963296, 0.6704246650586456, 0.21463689841802217, 0.07954190941373762, 0.03535195973943894, 0.02688537332742238, 0.9678734397872057, 0.0033606716659277977, 0.008463388616454914, 0.9902164681252249, 0.8939352582170775, 0.09409844823337658, 0.007238342171798198, 0.007238342171798198, 0.9755884385677666, 0.004817720684285267, 0.019270882737141067, 0.0024088603421426333, 0.020182561769665975, 0.9788542458287998, 0.04240746252356843, 0.9541679067802897, 0.004240746252356843, 0.9839272019759369, 0.0027649265536729187, 0.9926086327685778, 0.004147389830509378, 0.005515436774912227, 0.9927786194842008, 0.4308435835085576, 0.28984022890575695, 0.008545657854715193, 0.27132463688720737, 0.3552763311742226, 0.002062562154857606, 0.6424881112381442, 0.9995948412009483, 0.8310073793989096, 0.10072816719986782, 0.06799151285991077, 0.998181570667387, 0.026651141668325835, 0.9505573861702881, 0.01776742777888389, 0.9973755568511986, 0.7111317576405334, 0.08877937453519899, 0.1372044879180348, 0.06187653376695687, 0.9820596400886251, 0.9862375770360511, 0.004652064042622883, 0.009304128085245765, 0.9869802429304922, 0.0030843132591577885, 0.009252939777473365, 0.012772635611600261, 0.98349294209322, 0.006567428820625585, 0.9916817519144634, 0.9922959327696959, 0.9845758669800704, 0.9993173214691627, 0.987380150781255, 0.9900404776116314, 0.037740196961932225, 0.9208608058711463, 0.0037740196961932224, 0.037740196961932225, 0.6437718750074487, 0.2849724125606367, 0.020671573968129086, 0.05167893492032272, 0.9950529395635647, 0.00781798372444523, 0.9850659492800989, 0.00781798372444523, 0.0013586697608051054, 0.9877529161053117, 0.009510688325635739, 0.9946335535401122, 0.004266740505763591, 0.9898837973371531, 0.004266740505763591, 0.00379339950051009, 0.9749036716310931, 0.01896699750255045, 0.002461819717784638, 0.9896515265494243, 0.007385459153353913, 0.9854876071125338, 0.002479248724411184, 0.9793032461424177, 0.017354741070878286, 0.07380505664461638, 0.6381062189065791, 0.18758785230506667, 0.10148195288634754, 0.9917950135873713, 0.46062614510807987, 0.457282216649945, 0.06771455127723135, 0.015047678061606964, 0.2332577266615713, 0.658202496025226, 0.0790997736451368, 0.02944590113797063, 0.995985606257056, 0.9954613611155306, 0.002962682622367651, 0.2663275168364248, 0.36540769423092806, 0.2338292186510277, 0.13395639983736843, 0.016315497979857926, 0.5283711268861682, 0.26481308259615555, 0.19076582253372343, 0.9857529622437868, 0.012356234902777272, 0.010944193282997167, 0.984977395469745, 0.013524615069582763, 0.43447825911034627, 0.020286922604374143, 0.5308411414811234, 0.9822300870749827, 0.003537504201501407, 0.014150016806005628, 0.9834261680173911, 0.6454481797764277, 0.0010986351996194513, 0.35376053427746335, 0.4398881237996771, 0.5586239926916208, 0.993371693665037, 0.9963731471213823, 0.1362853559278876, 0.022714225987981267, 0.8358835163577106, 0.004542845197596253, 0.1135501525157298, 0.22090666034878342, 0.6296872094054107, 0.033032771640939575, 0.008121287787859002, 0.9907971101187982, 0.02795175790609943, 0.41390103053262617, 0.5536598200631233, 0.003225202835319165, 0.9950899775686348, 0.020554690950339363, 0.0013703127300226242, 0.9770329765061311, 0.9835023949366356, 0.007176179404176744, 0.9903127577763906, 0.10895876838977606, 0.04897023298416901, 0.47623551577104367, 0.36605249155666336, 0.9883494418494952, 0.011003264584321519, 0.9866260577274962, 0.007649104126651483, 0.004249502292584157, 0.9501887126218175, 0.03824552063325742, 0.9971469308411687, 0.9833726807582597, 0.007449793036047422, 0.007449793036047422, 0.9959710097488649, 0.9606606662767525, 0.03804596698125752, 0.02790998552077431, 0.8652095511440037, 0.0024626457812447922, 0.10425200473936287, 0.5066084571149836, 0.4377974658926728, 0.010969868165875628, 0.044876733405854845, 0.023428932406859372, 0.046857864813718744, 0.004685786481371875, 0.9230999368302593, 0.9858898263527998, 0.00320450513513104, 0.016022525675655198, 0.00320450513513104, 0.9805785713500982, 0.03543522245800868, 0.9626568767759026, 0.028971395047636628, 0.903380772849033, 0.039506447792231766, 0.028971395047636628, 0.910218308061586, 0.08833342230133534, 0.08223581057228523, 0.002652768082976943, 0.787872120644152, 0.12468009989991632, 0.010848866046432745, 0.9872468102253799, 0.9942496574673629, 0.06889818493201466, 0.822185006855375, 0.03062141552533985, 0.07961568036588361, 0.06422637144330917, 0.9014629991864466, 0.0022937989801181846, 0.032113185721654586, 0.8715922718490291, 0.010894903398112863, 0.07263268932075242, 0.04721124805848907, 0.008041722156216654, 0.9891318252146484, 0.01101879776672178, 0.9831216229641766, 0.0012243108629690868, 0.004897243451876347, 0.9937959701105533, 0.15974624706877721, 0.8170627718927621, 0.013093954677768624, 0.0104751637422149, 0.21589089270660156, 0.7835480651379455, 0.001509726522423787, 0.9798962434411961, 0.01194995418830727, 0.0017890325915144052, 0.7513936884360501, 0.05903807551997537, 0.18784842210901254, 0.0020414638477367756, 0.9962343576955465, 0.01526880598593287, 0.9822931850950146, 0.48208515256933704, 0.23699629802569327, 0.11329579125130702, 0.1687876073743962, 0.2703082162046681, 0.5902884550452367, 0.04620653268455865, 0.09356822868623126, 0.3908111396496489, 0.3196138627233763, 0.14858562141135168, 0.14084678696284378, 0.008144501463758344, 0.9909143447572653, 0.028669332835069762, 0.9202855840057393, 0.048737865819618593, 0.0028124829018555822, 0.011249931607422329, 0.008437448705566748, 0.975931566943887, 0.02630157213845611, 0.9687745737664667, 0.9953793569005127, 0.8070914160141691, 0.07252125767083839, 0.06550307144462822, 0.056145489809681336, 0.8401495950769299, 0.12091483006069959, 0.0312710767398361, 0.010423692246612033, 0.9986069464991076, 0.9926326249274615, 0.9981232504172493, 0.9994417601257775, 0.07855775562277015, 0.9202479944381646, 0.9928912026932442, 0.9892976988297429, 0.9968521126952996, 0.0023848136667351666, 0.9902470074382067, 0.9926525801720485, 0.01633825986355553, 0.02723043310592588, 0.9530651587074058, 0.9972111655274303, 0.9959342249318839, 0.8843561364305197, 0.044589385030110236, 0.004954376114456692, 0.06688407754516536, 0.0016676260105469593, 0.9889022242543469, 0.008338130052734797, 0.5944299670973832, 0.40478906341519566], \"Term\": [\"\\u4e08\\u592b\", \"\\u4e08\\u592b\", \"\\u4e08\\u592b\", \"\\u4e08\\u592b\", \"\\u4e09\\u632f\", \"\\u4e0a\\u5834\", \"\\u4e2d\\u5357\\u90e8\", \"\\u4e2d\\u5357\\u90e8\", \"\\u4e2d\\u570b\", \"\\u4e2d\\u570b\", \"\\u4e2d\\u570b\", \"\\u4e2d\\u570b\", \"\\u4e2d\\u592e\\u6c23\\u8c61\\u5c40\", \"\\u4e2d\\u8077\", \"\\u4e2d\\u8077\", \"\\u4e2d\\u8077\", \"\\u4e3b\\u5834\", \"\\u4e3b\\u5834\", \"\\u4e3b\\u5834\", \"\\u4e3b\\u59d4\", \"\\u4e3b\\u59d4\", \"\\u4e3b\\u59d4\", \"\\u4e3b\\u5e2d\", \"\\u4e3b\\u5e2d\", \"\\u4e3b\\u5e2d\", \"\\u4e4b\\u5f8c\", \"\\u4e4b\\u5f8c\", \"\\u4e4b\\u5f8c\", \"\\u4e4b\\u5f8c\", \"\\u4e8b\\u4ef6\", \"\\u4e8b\\u4ef6\", \"\\u4e8b\\u4ef6\", \"\\u4e8b\\u4ef6\", \"\\u4eba\\u4e8b\", \"\\u4eba\\u4e8b\", \"\\u4eba\\u4e8b\", \"\\u4eba\\u4e8b\", \"\\u4eba\\u54e1\", \"\\u4eba\\u54e1\", \"\\u4eba\\u54e1\", \"\\u4eba\\u54e1\", \"\\u4eca\\u5e74\", \"\\u4eca\\u5e74\", \"\\u4eca\\u5e74\", \"\\u4eca\\u5e74\", \"\\u4ecb\\u65bc\", \"\\u4ee5\\u5317\", \"\\u4ee5\\u6bd4\", \"\\u4ee5\\u6bd4\", \"\\u4ee5\\u6bd4\", \"\\u4f34\\u96a8\", \"\\u4f59\\u5929\", \"\\u4f7f\\u7528\", \"\\u4f7f\\u7528\", \"\\u4f7f\\u7528\", \"\\u4f7f\\u7528\", \"\\u5065\\u5eb7\", \"\\u5065\\u5eb7\", \"\\u5065\\u5eb7\", \"\\u5065\\u5eb7\", \"\\u5075\\u67e5\", \"\\u5148\\u767c\", \"\\u5167\\u95a3\", \"\\u5167\\u95a3\", \"\\u5168\\u5834\", \"\\u5168\\u5834\", \"\\u5168\\u58d8\\u6253\", \"\\u5168\\u58d8\\u6253\", \"\\u5168\\u806f\", \"\\u5169\\u5cb8\", \"\\u5169\\u5cb8\", \"\\u516c\\u53f8\", \"\\u516c\\u53f8\", \"\\u516c\\u53f8\", \"\\u516c\\u53f8\", \"\\u516c\\u5e03\", \"\\u516c\\u5e03\", \"\\u516c\\u5e03\", \"\\u516c\\u5e03\", \"\\u51fa\\u4efb\", \"\\u51fa\\u4efb\", \"\\u51fa\\u73fe\", \"\\u51fa\\u73fe\", \"\\u51fa\\u73fe\", \"\\u51fa\\u73fe\", \"\\u51fa\\u8a2a\", \"\\u51fa\\u8cfd\", \"\\u51fa\\u8cfd\", \"\\u5206\\u7403\", \"\\u525d\\u524a\", \"\\u525d\\u524a\", \"\\u5289\\u5411\\u5a55\", \"\\u5289\\u5411\\u5a55\", \"\\u5289\\u5973\", \"\\u5289\\u5973\", \"\\u5289\\u5f65\", \"\\u5289\\u5f65\", \"\\u52a9\\u653b\", \"\\u52c7\\u58eb\", \"\\u52c7\\u58eb\", \"\\u5317\\u90e8\", \"\\u5317\\u90e8\", \"\\u5317\\u90e8\", \"\\u5348\\u5f8c\", \"\\u534a\\u90e8\", \"\\u5353\\u69ae\", \"\\u5353\\u69ae\\u6cf0\", \"\\u5353\\u69ae\\u6cf0\", \"\\u53c3\\u9078\", \"\\u53c3\\u9078\", \"\\u53c3\\u9078\", \"\\u53d7\\u5bb3\\u8005\", \"\\u53d7\\u5bb3\\u8005\", \"\\u53d7\\u5bb3\\u8005\", \"\\u53d7\\u5bb3\\u8005\", \"\\u53f0\\u5317\", \"\\u53f0\\u5317\", \"\\u53f0\\u5317\", \"\\u53f0\\u5317\", \"\\u53f0\\u7063\", \"\\u53f0\\u7063\", \"\\u53f0\\u7063\", \"\\u53f0\\u7063\", \"\\u53f0\\u92fc\", \"\\u53f0\\u92fc\", \"\\u53f8\\u6cd5\", \"\\u53f8\\u6cd5\", \"\\u5404\\u5730\", \"\\u5404\\u5730\", \"\\u5404\\u5730\", \"\\u5433\\u6c9b\\u61b6\", \"\\u5496\\u5561\", \"\\u54c1\\u724c\", \"\\u54c1\\u724c\", \"\\u54c1\\u724c\", \"\\u54c1\\u724c\", \"\\u5566\\u5566\\u968a\", \"\\u5566\\u5566\\u968a\", \"\\u570b\\u5b89\", \"\\u570b\\u5bb6\", \"\\u570b\\u5bb6\", \"\\u570b\\u5bb6\", \"\\u570b\\u5bb6\", \"\\u570b\\u6703\", \"\\u570b\\u6703\", \"\\u570b\\u6c11\\u9ee8\", \"\\u570b\\u6c11\\u9ee8\", \"\\u570b\\u6c11\\u9ee8\", \"\\u570b\\u738b\", \"\\u570b\\u738b\", \"\\u570b\\u9020\", \"\\u570b\\u9053\", \"\\u570b\\u9053\", \"\\u570b\\u9632\", \"\\u5730\\u5340\", \"\\u5730\\u5340\", \"\\u5730\\u5340\", \"\\u5730\\u65b9\", \"\\u5730\\u65b9\", \"\\u5730\\u65b9\", \"\\u5730\\u65b9\", \"\\u5730\\u9707\", \"\\u5730\\u9707\", \"\\u5730\\u9707\", \"\\u5730\\u9707\", \"\\u57f7\\u653f\", \"\\u57f7\\u653f\", \"\\u5916\\u4ea4\", \"\\u5916\\u4ea4\", \"\\u5916\\u4ea4\\u90e8\\u9577\", \"\\u591a\\u96f2\", \"\\u5927\\u8c37\", \"\\u5927\\u8c37\", \"\\u5927\\u8c37\", \"\\u5929\\u6c23\", \"\\u5929\\u6c23\", \"\\u5931\\u5206\", \"\\u5967\\u904b\", \"\\u5967\\u904b\", \"\\u5967\\u904b\", \"\\u5967\\u904b\", \"\\u59d0\\u592b\", \"\\u5a46\\u5a46\", \"\\u5a46\\u5a46\", \"\\u5a46\\u5a46\", \"\\u5b63\\u5f8c\\u8cfd\", \"\\u5bb6\\u66b4\", \"\\u5bb6\\u66b4\", \"\\u5be9\\u7406\", \"\\u5be9\\u7406\", \"\\u5c40\\u90e8\", \"\\u5c71\\u5340\", \"\\u5c71\\u5340\", \"\\u5c71\\u5340\", \"\\u5de8\\u4eba\", \"\\u5de8\\u4eba\", \"\\u5de8\\u86cb\", \"\\u5de8\\u86cb\", \"\\u5df2\\u7d93\", \"\\u5df2\\u7d93\", \"\\u5df2\\u7d93\", \"\\u5df2\\u7d93\", \"\\u5df4\\u9ece\", \"\\u5df4\\u9ece\", \"\\u5df4\\u9ece\", \"\\u5e02\\u9577\", \"\\u5e02\\u9577\", \"\\u5e02\\u9577\", \"\\u5e02\\u9577\", \"\\u5e02\\u9ee8\\u90e8\", \"\\u5e0c\\u671b\", \"\\u5e0c\\u671b\", \"\\u5e0c\\u671b\", \"\\u5e0c\\u671b\", \"\\u5e6b\\u624b\", \"\\u5ed6\\u67cf\\u748b\", \"\\u5ed6\\u67cf\\u748b\", \"\\u5ed6\\u67cf\\u748b\", \"\\u5f37\\u8abf\", \"\\u5f37\\u8abf\", \"\\u5f37\\u8abf\", \"\\u5f37\\u8abf\", \"\\u5f37\\u9707\", \"\\u5f37\\u9707\", \"\\u5f37\\u9707\", \"\\u5f37\\u9707\", \"\\u5f71\\u97ff\", \"\\u5f71\\u97ff\", \"\\u5f71\\u97ff\", \"\\u5f71\\u97ff\", \"\\u60a3\\u8005\", \"\\u60a3\\u8005\", \"\\u60b6\\u71b1\", \"\\u6230\\u795e\", \"\\u6295\\u4e2d\", \"\\u6295\\u5c40\", \"\\u6295\\u624b\", \"\\u6295\\u624b\", \"\\u6295\\u7403\", \"\\u6295\\u7403\", \"\\u6295\\u7403\", \"\\u6295\\u7968\", \"\\u6295\\u7968\", \"\\u6295\\u7968\", \"\\u62ff\\u4e0b\", \"\\u62ff\\u4e0b\", \"\\u62ff\\u4e0b\", \"\\u6307\\u51fa\", \"\\u6307\\u51fa\", \"\\u6307\\u51fa\", \"\\u6307\\u51fa\", \"\\u6372\\u5165\", \"\\u6372\\u5165\", \"\\u6372\\u5165\", \"\\u63a5\\u4efb\", \"\\u63a5\\u4efb\", \"\\u63a8\\u51fa\", \"\\u63a8\\u51fa\", \"\\u63a8\\u51fa\", \"\\u63a8\\u51fa\", \"\\u63a8\\u52d5\", \"\\u63a8\\u52d5\", \"\\u63a8\\u52d5\", \"\\u63a8\\u85a6\", \"\\u63a8\\u85a6\", \"\\u63a8\\u85a6\", \"\\u63a8\\u85a6\", \"\\u63d0\\u4f9b\", \"\\u63d0\\u4f9b\", \"\\u63d0\\u4f9b\", \"\\u63d0\\u4f9b\", \"\\u641c\\u6551\", \"\\u641c\\u6551\", \"\\u641c\\u6551\", \"\\u6436\\u4fee\", \"\\u6436\\u4fee\", \"\\u6436\\u4fee\", \"\\u64ca\\u51fa\", \"\\u64ca\\u51fa\", \"\\u64d4\\u4efb\", \"\\u64d4\\u4efb\", \"\\u64d4\\u4efb\", \"\\u64d4\\u4efb\", \"\\u652f\\u5b89\\u6253\", \"\\u652f\\u6301\", \"\\u652f\\u6301\", \"\\u652f\\u6301\", \"\\u652f\\u6301\", \"\\u6536\\u62bc\\u7981\\u898b\", \"\\u6539\\u9769\", \"\\u6539\\u9769\", \"\\u653f\\u5e9c\", \"\\u653f\\u5e9c\", \"\\u653f\\u5e9c\", \"\\u653f\\u5e9c\", \"\\u653f\\u6cbb\", \"\\u653f\\u6cbb\", \"\\u653f\\u6cbb\", \"\\u653f\\u7b56\", \"\\u653f\\u7b56\", \"\\u653f\\u7b56\", \"\\u653f\\u7b56\", \"\\u6559\\u7df4\", \"\\u6559\\u7df4\", \"\\u6559\\u7df4\", \"\\u65e5\\u672c\", \"\\u65e5\\u672c\", \"\\u65e5\\u672c\", \"\\u65e5\\u672c\", \"\\u6642\\u9593\", \"\\u6642\\u9593\", \"\\u6642\\u9593\", \"\\u6642\\u9593\", \"\\u6674\\u6642\\u591a\\u96f2\", \"\\u66d9\\u5149\", \"\\u6700\\u5f8c\", \"\\u6700\\u5f8c\", \"\\u6700\\u5f8c\", \"\\u6700\\u5f8c\", \"\\u670d\\u52d9\", \"\\u670d\\u52d9\", \"\\u670d\\u52d9\", \"\\u670d\\u52d9\", \"\\u672a\\u4f86\", \"\\u672a\\u4f86\", \"\\u672a\\u4f86\", \"\\u672a\\u4f86\", \"\\u672a\\u6210\\u5e74\", \"\\u672a\\u6210\\u5e74\", \"\\u672a\\u6210\\u5e74\", \"\\u672c\\u5b63\", \"\\u672c\\u5b63\", \"\\u672c\\u5b63\", \"\\u6731\\u7acb\\u502b\", \"\\u675c\\u79c9\\u6f84\", \"\\u675c\\u79c9\\u6f84\", \"\\u6771\\u5317\\u90e8\", \"\\u6771\\u534a\", \"\\u6797\\u4e8e\", \"\\u6797\\u4e8e\\u502b\", \"\\u6797\\u4f73\\u9f8d\", \"\\u6797\\u529b\\u4ec1\", \"\\u6797\\u66f8\\u8c6a\", \"\\u67ef\\u6587\", \"\\u67ef\\u6587\", \"\\u67ef\\u6587\", \"\\u67ef\\u6587\", \"\\u6843\\u5712\", \"\\u6843\\u5712\", \"\\u6843\\u5712\", \"\\u6843\\u5712\", \"\\u68d2\\u7403\", \"\\u68d2\\u7403\", \"\\u68d2\\u7403\", \"\\u694a\\u5bf6\\u6968\", \"\\u694a\\u5bf6\\u6968\", \"\\u696d\\u8005\", \"\\u696d\\u8005\", \"\\u696d\\u8005\", \"\\u696d\\u8005\", \"\\u6a5f\\u7387\", \"\\u6a5f\\u7387\", \"\\u6a5f\\u7387\", \"\\u6a5f\\u7387\", \"\\u6aa2\\u5bdf\\u5b98\", \"\\u6aa2\\u5bdf\\u5b98\", \"\\u6aa2\\u65b9\", \"\\u6aa2\\u65b9\", \"\\u6aa2\\u65b9\", \"\\u6aa2\\u8abf\", \"\\u6bd4\\u8cfd\", \"\\u6bd4\\u8cfd\", \"\\u6bd4\\u8cfd\", \"\\u6c11\\u4e3b\", \"\\u6c11\\u4e3b\", \"\\u6c11\\u773e\", \"\\u6c11\\u773e\", \"\\u6c11\\u773e\", \"\\u6c11\\u773e\", \"\\u6c11\\u9032\\u9ee8\", \"\\u6c11\\u9032\\u9ee8\", \"\\u6c11\\u9032\\u9ee8\", \"\\u6c23\\u6eab\", \"\\u6c23\\u8c61\", \"\\u6c23\\u8c61\", \"\\u6c23\\u8c61\", \"\\u6c34\\u6c23\", \"\\u6cd5\\u9662\", \"\\u6cd5\\u9662\", \"\\u6cd5\\u9662\", \"\\u6d17\\u9322\", \"\\u6d3b\\u52d5\", \"\\u6d3b\\u52d5\", \"\\u6d3b\\u52d5\", \"\\u6d3b\\u52d5\", \"\\u6d77\\u57fa\\u6703\", \"\\u6d88\\u8cbb\\u8005\", \"\\u6d88\\u8cbb\\u8005\", \"\\u6d88\\u8cbb\\u8005\", \"\\u6d89\\u5165\", \"\\u6d89\\u5165\", \"\\u6d89\\u5165\", \"\\u6d89\\u5acc\", \"\\u6d89\\u5acc\", \"\\u6d89\\u6848\", \"\\u6d89\\u6848\", \"\\u6e05\\u767d\", \"\\u6e96\\u95a3\", \"\\u6eab\\u5ea6\", \"\\u6f5b\\u8266\", \"\\u6f8e\\u6e56\", \"\\u707d\\u60c5\", \"\\u707d\\u60c5\", \"\\u707d\\u60c5\", \"\\u707d\\u60c5\", \"\\u71b1\\u9580\", \"\\u71b1\\u9580\", \"\\u71b1\\u9580\", \"\\u71b1\\u9580\", \"\\u7279\\u653b\", \"\\u72af\\u7f6a\", \"\\u72af\\u7f6a\", \"\\u72af\\u7f6a\", \"\\u7403\\u54e1\", \"\\u7403\\u54e1\", \"\\u7403\\u54e1\", \"\\u7403\\u5b63\", \"\\u7403\\u661f\", \"\\u7403\\u661f\", \"\\u7403\\u661f\", \"\\u7403\\u8ff7\", \"\\u7403\\u8ff7\", \"\\u7403\\u8ff7\", \"\\u7403\\u968a\", \"\\u7403\\u968a\", \"\\u7403\\u968a\", \"\\u7455\\u75b5\", \"\\u751f\\u6daf\", \"\\u751f\\u6daf\", \"\\u751f\\u6daf\", \"\\u7576\\u6642\", \"\\u7576\\u6642\", \"\\u7576\\u6642\", \"\\u7576\\u6642\", \"\\u75c5\\u60a3\", \"\\u767c\\u73fe\", \"\\u767c\\u73fe\", \"\\u767c\\u73fe\", \"\\u767c\\u73fe\", \"\\u767c\\u751f\", \"\\u767c\\u751f\", \"\\u767c\\u751f\", \"\\u767c\\u751f\", \"\\u767d\\u5929\", \"\\u76e7\\u7e23\", \"\\u76e7\\u7e23\", \"\\u76ee\\u524d\", \"\\u76ee\\u524d\", \"\\u76ee\\u524d\", \"\\u76ee\\u524d\", \"\\u77e5\\u9053\", \"\\u77e5\\u9053\", \"\\u77e5\\u9053\", \"\\u77e5\\u9053\", \"\\u77ed\\u66ab\", \"\\u77ed\\u66ab\", \"\\u7802\\u5361\", \"\\u7802\\u5361\", \"\\u793e\\u6703\", \"\\u793e\\u6703\", \"\\u793e\\u6703\", \"\\u793e\\u6703\", \"\\u7981\\u898b\", \"\\u79d8\\u66f8\\u9577\", \"\\u79d8\\u66f8\\u9577\", \"\\u79d8\\u66f8\\u9577\", \"\\u7acb\\u59d4\", \"\\u7acb\\u59d4\", \"\\u7acb\\u59d4\", \"\\u7acb\\u6cd5\\u9662\", \"\\u7acb\\u6cd5\\u9662\", \"\\u7b2c\\u4e00\\u6848\", \"\\u7c43\\u677f\", \"\\u7c89\\u7d72\", \"\\u7c89\\u7d72\", \"\\u7c89\\u7d72\", \"\\u7c89\\u7d72\", \"\\u7d00\\u9304\", \"\\u7d00\\u9304\", \"\\u7d00\\u9304\", \"\\u7d00\\u9304\", \"\\u7d93\\u6fdf\\u90e8\\u9577\", \"\\u7d93\\u6fdf\\u90e8\\u9577\", \"\\u7db2\\u53cb\", \"\\u7db2\\u53cb\", \"\\u7db2\\u53cb\", \"\\u7db2\\u53cb\", \"\\u7e3d\\u6559\\u7df4\", \"\\u7e3d\\u7d71\", \"\\u7e3d\\u7d71\", \"\\u7e3d\\u7d71\", \"\\u7e3d\\u7d71\\u5e9c\", \"\\u7f88\\u62bc\", \"\\u7f88\\u62bc\", \"\\u7f8e\\u570b\", \"\\u7f8e\\u570b\", \"\\u7f8e\\u570b\", \"\\u7f8e\\u570b\", \"\\u7fd2\\u8fd1\\u5e73\", \"\\u7fd4\\u5e73\", \"\\u7fd4\\u5e73\", \"\\u806f\\u76df\", \"\\u806f\\u76df\", \"\\u806f\\u76df\", \"\\u806f\\u76df\", \"\\u81f3\\u5ea6\", \"\\u81fa\\u4e2d\\u5e02\", \"\\u81fa\\u4e2d\\u5e02\", \"\\u81fa\\u4e2d\\u5e02\", \"\\u81fa\\u5317\\u5e02\", \"\\u8212\\u9069\", \"\\u8212\\u9069\", \"\\u82b1\\u84ee\", \"\\u82b1\\u84ee\", \"\\u82b1\\u84ee\", \"\\u82b1\\u84ee\", \"\\u842c\\u5143\", \"\\u842c\\u5143\", \"\\u842c\\u5143\", \"\\u842c\\u5143\", \"\\u8463\\u4e8b\\u9577\", \"\\u8463\\u4e8b\\u9577\", \"\\u8463\\u4e8b\\u9577\", \"\\u8463\\u4e8b\\u9577\", \"\\u8607\\u5de7\\u6167\", \"\\u884c\\u653f\\u9662\", \"\\u884c\\u653f\\u9662\", \"\\u884c\\u653f\\u9662\", \"\\u884c\\u653f\\u9662\", \"\\u884c\\u653f\\u9662\\u9577\", \"\\u884c\\u653f\\u9662\\u9577\", \"\\u884c\\u70ba\", \"\\u884c\\u70ba\", \"\\u884c\\u70ba\", \"\\u884c\\u70ba\", \"\\u8868\\u6c7a\", \"\\u8868\\u6c7a\", \"\\u8868\\u73fe\", \"\\u8868\\u73fe\", \"\\u8868\\u73fe\", \"\\u8868\\u73fe\", \"\\u88ab\\u5bb3\\u4eba\", \"\\u88ab\\u5bb3\\u4eba\", \"\\u88dc\\u9078\", \"\\u8981\\u6c42\", \"\\u8981\\u6c42\", \"\\u8981\\u6c42\", \"\\u8981\\u6c42\", \"\\u898f\\u6a21\", \"\\u898f\\u6a21\", \"\\u898f\\u6a21\", \"\\u898f\\u6a21\", \"\\u8a2d\\u8a08\", \"\\u8a2d\\u8a08\", \"\\u8a2d\\u8a08\", \"\\u8a2d\\u8a08\", \"\\u8a50\\u6b3a\", \"\\u8a50\\u6b3a\", \"\\u8a50\\u9a19\", \"\\u8a50\\u9a19\", \"\\u8a50\\u9a19\", \"\\u8a50\\u9a19\", \"\\u8a50\\u9a19\\u6848\", \"\\u8abf\\u67e5\", \"\\u8abf\\u67e5\", \"\\u8abf\\u67e5\", \"\\u8abf\\u67e5\", \"\\u8b66\\u65b9\", \"\\u8b66\\u65b9\", \"\\u8b66\\u65b9\", \"\\u8b70\\u4e8b\", \"\\u8b70\\u4e8b\", \"\\u8cea\\u7591\", \"\\u8cea\\u7591\", \"\\u8cea\\u7591\", \"\\u8cea\\u7591\", \"\\u8cf4\\u6e05\\u5fb7\", \"\\u8cf4\\u6e05\\u5fb7\", \"\\u8d77\\u8a34\", \"\\u8d77\\u8a34\", \"\\u900f\\u904e\", \"\\u900f\\u904e\", \"\\u900f\\u904e\", \"\\u900f\\u904e\", \"\\u9020\\u6210\", \"\\u9020\\u6210\", \"\\u9020\\u6210\", \"\\u9020\\u6210\", \"\\u9032\\u884c\", \"\\u9032\\u884c\", \"\\u9032\\u884c\", \"\\u9032\\u884c\", \"\\u9053\\u5947\", \"\\u9053\\u5947\", \"\\u9078\\u624b\", \"\\u9078\\u624b\", \"\\u9078\\u624b\", \"\\u90e8\\u9577\", \"\\u90e8\\u9577\", \"\\u90e8\\u9577\", \"\\u90e8\\u9577\", \"\\u90ed\\u667a\\u8f1d\", \"\\u90ed\\u667a\\u8f1d\", \"\\u9127\\u6137\\u5a01\", \"\\u91ab\\u5e2b\", \"\\u91ab\\u5e2b\", \"\\u91ab\\u5e2b\", \"\\u91ab\\u5e2b\", \"\\u91ab\\u9662\", \"\\u91ab\\u9662\", \"\\u91ab\\u9662\", \"\\u91ab\\u9662\", \"\\u92d2\\u9762\", \"\\u9644\\u52a0\\u8cfd\", \"\\u964d\\u96e8\", \"\\u9663\\u96e8\", \"\\u9673\\u5efa\\u4ec1\", \"\\u9673\\u5efa\\u4ec1\", \"\\u96a7\\u9053\", \"\\u96e8\\u52e2\", \"\\u96f7\\u96e8\", \"\\u96f7\\u96e8\", \"\\u9707\\u5ea6\", \"\\u9707\\u5ea6\\u7d1a\", \"\\u9752\\u5e74\", \"\\u9752\\u5e74\", \"\\u9752\\u5e74\", \"\\u99ac\\u82f1\\u4e5d\", \"\\u9ad8\\u6eab\", \"\\u9ad8\\u96c4\\u5e02\", \"\\u9ad8\\u96c4\\u5e02\", \"\\u9ad8\\u96c4\\u5e02\", \"\\u9ad8\\u96c4\\u5e02\", \"\\u9ec3\\u5b50\\u4f7c\", \"\\u9ec3\\u5b50\\u4f7c\", \"\\u9ec3\\u5b50\\u4f7c\", \"\\u9ee8\\u5718\", \"\\u9ee8\\u5718\"]}, \"R\": 30, \"lambda.step\": 0.01, \"plot.opts\": {\"xlab\": \"PC1\", \"ylab\": \"PC2\"}, \"topic.order\": [4, 1, 2, 3]};\n",
       "\n",
       "function LDAvis_load_lib(url, callback){\n",
       "  var s = document.createElement('script');\n",
       "  s.src = url;\n",
       "  s.async = true;\n",
       "  s.onreadystatechange = s.onload = callback;\n",
       "  s.onerror = function(){console.warn(\"failed to load library \" + url);};\n",
       "  document.getElementsByTagName(\"head\")[0].appendChild(s);\n",
       "}\n",
       "\n",
       "if(typeof(LDAvis) !== \"undefined\"){\n",
       "   // already loaded: just create the visualization\n",
       "   !function(LDAvis){\n",
       "       new LDAvis(\"#\" + \"ldavis_el2225621826178348642023600439\", ldavis_el2225621826178348642023600439_data);\n",
       "   }(LDAvis);\n",
       "}else if(typeof define === \"function\" && define.amd){\n",
       "   // require.js is available: use it to load d3/LDAvis\n",
       "   require.config({paths: {d3: \"https://d3js.org/d3.v5\"}});\n",
       "   require([\"d3\"], function(d3){\n",
       "      window.d3 = d3;\n",
       "      LDAvis_load_lib(\"https://cdn.jsdelivr.net/gh/bmabey/pyLDAvis@3.4.0/pyLDAvis/js/ldavis.v3.0.0.js\", function(){\n",
       "        new LDAvis(\"#\" + \"ldavis_el2225621826178348642023600439\", ldavis_el2225621826178348642023600439_data);\n",
       "      });\n",
       "    });\n",
       "}else{\n",
       "    // require.js not available: dynamically load d3 & LDAvis\n",
       "    LDAvis_load_lib(\"https://d3js.org/d3.v5.js\", function(){\n",
       "         LDAvis_load_lib(\"https://cdn.jsdelivr.net/gh/bmabey/pyLDAvis@3.4.0/pyLDAvis/js/ldavis.v3.0.0.js\", function(){\n",
       "                 new LDAvis(\"#\" + \"ldavis_el2225621826178348642023600439\", ldavis_el2225621826178348642023600439_data);\n",
       "            })\n",
       "         });\n",
       "}\n",
       "</script>"
      ],
      "text/plain": [
       "PreparedData(topic_coordinates=              x         y  topics  cluster       Freq\n",
       "topic                                                \n",
       "3      0.005853  0.200275       1        1  30.540925\n",
       "0      0.112525  0.009128       2        1  30.054645\n",
       "1     -0.227135 -0.061254       3        1  22.051318\n",
       "2      0.108757 -0.148149       4        1  17.353112, topic_info=      Term         Freq        Total Category  logprob  loglift\n",
       "8278   民進黨  1939.000000  1939.000000  Default  30.0000  30.0000\n",
       "10811  國民黨  1999.000000  1999.000000  Default  29.0000  29.0000\n",
       "8682    聯盟  1176.000000  1176.000000  Default  28.0000  28.0000\n",
       "9886    大谷  1110.000000  1110.000000  Default  27.0000  27.0000\n",
       "4061    立委  1820.000000  1820.000000  Default  26.0000  26.0000\n",
       "...    ...          ...          ...      ...      ...      ...\n",
       "4868    民眾   380.685605  1404.221911   Topic4  -5.6822   0.4461\n",
       "433     希望   364.431623  1159.646615   Topic4  -5.7258   0.5939\n",
       "2662    社會   314.136793   591.514062   Topic4  -5.8743   1.1185\n",
       "222     擔任   307.131694   563.575004   Topic4  -5.8969   1.1444\n",
       "679     強調   308.602802   808.823430   Topic4  -5.8921   0.7879\n",
       "\n",
       "[313 rows x 6 columns], token_table=       Topic      Freq Term\n",
       "term                       \n",
       "5953       1  0.002949   丈夫\n",
       "5953       2  0.958408   丈夫\n",
       "5953       3  0.014745   丈夫\n",
       "5953       4  0.026541   丈夫\n",
       "16086      3  0.996331   三振\n",
       "...      ...       ...  ...\n",
       "5162       1  0.001668  黃子佼\n",
       "5162       2  0.988902  黃子佼\n",
       "5162       3  0.008338  黃子佼\n",
       "8586       2  0.594430   黨團\n",
       "8586       4  0.404789   黨團\n",
       "\n",
       "[648 rows x 3 columns], R=30, lambda_step=0.01, plot_opts={'xlab': 'PC1', 'ylab': 'PC2'}, topic_order=[4, 1, 2, 3])"
      ]
     },
     "execution_count": 40,
     "metadata": {},
     "output_type": "execute_result"
    }
   ],
   "source": [
    "pyLDAvis.enable_notebook()\n",
    "p = pyLDAvis.gensim_models.prepare(best_model, corpus, dictionary)\n",
    "p"
   ]
  },
  {
   "cell_type": "markdown",
   "metadata": {},
   "source": [
    "從上面結果看到每個主題都可以分的清楚\n",
    "* 主題一：生活 (多為天氣相關)\n",
    "* 主題二：天災人禍 (負面相關新聞)\n",
    "* 主題三：職棒賽事\n",
    "* 主題四：政治"
   ]
  },
  {
   "cell_type": "markdown",
   "metadata": {},
   "source": [
    "## 再來測試 perplexity 最低的主題數 7"
   ]
  },
  {
   "cell_type": "code",
   "execution_count": null,
   "metadata": {},
   "outputs": [],
   "source": [
    "model_7 = LdaModel(\n",
    "    corpus = corpus,\n",
    "    num_topics = 7,\n",
    "    id2word=dictionary,\n",
    "    random_state = 1500,\n",
    "    passes = 5 # 訓練次數\n",
    "    )"
   ]
  },
  {
   "cell_type": "code",
   "execution_count": 42,
   "metadata": {},
   "outputs": [
    {
     "data": {
      "text/html": [
       "\n",
       "<link rel=\"stylesheet\" type=\"text/css\" href=\"https://cdn.jsdelivr.net/gh/bmabey/pyLDAvis@3.4.0/pyLDAvis/js/ldavis.v1.0.0.css\">\n",
       "\n",
       "\n",
       "<div id=\"ldavis_el2225621826178357606521073430\" style=\"background-color:white;\"></div>\n",
       "<script type=\"text/javascript\">\n",
       "\n",
       "var ldavis_el2225621826178357606521073430_data = {\"mdsDat\": {\"x\": [-0.15246239532264777, 0.08004030951404838, -0.1028626640225723, 0.14184605155832167, -0.14675723715344366, -0.07184851022349023, 0.25204444564978434], \"y\": [-0.05464462775322655, 0.03645166715730173, 0.1773996663156728, 0.11490539648464261, 0.024820157373589873, -0.2151538773223809, -0.08377838225559928], \"topics\": [1, 2, 3, 4, 5, 6, 7], \"cluster\": [1, 1, 1, 1, 1, 1, 1], \"Freq\": [21.873185207198567, 18.81230266961339, 15.097580103212449, 13.677736020248604, 12.656406636211731, 10.514214517439513, 7.368574846075762]}, \"tinfo\": {\"Term\": [\"\\u5927\\u8c37\", \"\\u5730\\u9707\", \"\\u82b1\\u84ee\", \"\\u6c11\\u9032\\u9ee8\", \"\\u570b\\u6c11\\u9ee8\", \"\\u5929\\u6c23\", \"\\u5730\\u5340\", \"\\u7acb\\u59d4\", \"\\u8b66\\u65b9\", \"\\u77ed\\u66ab\", \"\\u6c34\\u539f\", \"\\u8a50\\u9a19\", \"\\u9663\\u96e8\", \"\\u53f0\\u7063\", \"\\u9053\\u5947\", \"\\u9ec3\\u5b50\\u4f7c\", \"\\u7fd4\\u5e73\", \"\\u806f\\u76df\", \"\\u52c7\\u58eb\", \"\\u99ac\\u82f1\\u4e5d\", \"\\u4e2d\\u570b\", \"\\u898f\\u6a21\", \"\\u5c40\\u90e8\", \"\\u5433\\u5d22\", \"\\u5f37\\u9707\", \"\\u7acb\\u6cd5\\u9662\", \"\\u5404\\u5730\", \"\\u96f7\\u96e8\", \"\\u9ee8\\u5718\", \"\\u7e3d\\u7d71\", \"\\u7fd2\\u8fd1\\u5e73\", \"\\u7fd2\\u4e8c\\u6703\", \"\\u5169\\u5cb8\\u4eba\\u6c11\", \"\\u611b\\u60c5\", \"\\u4e2d\\u884c\", \"\\u856d\\u65ed\\u5c91\", \"\\u7acb\\u8a00\", \"\\u8449\\u4fdd\\u5f1f\", \"\\u4e2d\\u83ef\\u6c11\\u65cf\", \"\\u5e03\\u6717\", \"\\u65e5\\u8a2a\", \"\\u7dad\\u7e6b\", \"\\u79ae\\u8c8c\", \"\\u99ac\\u82f1\\u4e5d\", \"\\u5973\\u512a\", \"\\u5c0e\\u6f14\", \"\\u570d\\u68cb\", \"\\u54c8\\u85a9\\u514b\", \"\\u53f0\\u7368\", \"\\u9999\\u6ab3\", \"\\u5b9c\\u8389\", \"\\u5433\\u6177\\u4ec1\", \"\\u5bcc\\u58eb\", \"\\u8003\\u53d6\", \"\\u63a5\\u6a5f\", \"\\u751f\\u8096\", \"\\u4f2f\\u683c\", \"\\u9577\\u6c99\", \"\\u9ed1\\u5609\\u5609\", \"\\u596e\\u9b25\", \"\\u4e00\\u7c92\", \"\\u904b\\u52e2\", \"\\u9ad4\\u529b\", \"\\u9ad4\\u91cd\", \"\\u5169\\u5cb8\", \"\\u73cd\\u60dc\", \"\\u6f14\\u54e1\", \"\\u9ad8\\u6821\", \"\\u96fb\\u5f71\", \"\\u5165\\u570d\", \"\\u98fe\\u6f14\", \"\\u570b\\u5bb6\\u968a\", \"\\u751f\\u65e5\", \"\\u5973\\u58eb\", \"\\u4e5d\\u4e8c\", \"\\u559c\\u6b61\", \"\\u5927\\u9678\", \"\\u4e2d\\u6587\", \"\\u51fa\\u8a2a\", \"\\u4e2d\\u570b\", \"\\u6f14\\u51fa\", \"\\u4f5c\\u54c1\", \"\\u7bc0\\u76ee\", \"\\u4eba\\u751f\", \"\\u89d2\\u8272\", \"\\u900f\\u9732\", \"\\u8a2a\\u554f\", \"\\u795d\\u798f\", \"\\u7238\\u7238\", \"\\u5206\\u4eab\", \"\\u89ba\\u5f97\", \"\\u6708\\u85aa\", \"\\u65e5\\u672c\", \"\\u611f\\u52d5\", \"\\u958b\\u5fc3\", \"\\u53f0\\u7063\", \"\\u7f8e\\u570b\", \"\\u770b\\u5230\", \"\\u771f\\u7684\", \"\\u4ea4\\u6d41\", \"\\u611f\\u89ba\", \"\\u5de5\\u4f5c\", \"\\u62cd\\u651d\", \"\\u7db2\\u53cb\", \"\\u4e00\\u8d77\", \"\\u9019\\u6b21\", \"\\u5e0c\\u671b\", \"\\u7c89\\u7d72\", \"\\u8a31\\u591a\", \"\\u751f\\u6d3b\", \"\\u73fe\\u5728\", \"\\u53f0\\u5317\", \"\\u6a5f\\u6703\", \"\\u5df2\\u7d93\", \"\\u6642\\u9593\", \"\\u4e4b\\u5f8c\", \"\\u5f71\\u7247\", \"\\u6350\\u6b3e\", \"\\u82ae\\u6c0f\", \"\\u707d\\u6c11\", \"\\u9918\\u9707\", \"\\u9707\\u707d\", \"\\u898f\\u6a21\", \"\\u8cd1\\u707d\", \"\\u707d\\u60c5\", \"\\u707d\\u5340\", \"\\u6350\\u51fa\", \"\\u7fa9\\u6d88\", \"\\u7b2c\\u671f\", \"\\u52df\\u6b3e\", \"\\u9707\\u592e\", \"\\u6771\\u83ef\\u5927\\u5b78\", \"\\u97ff\\u61c9\", \"\\u6551\\u707d\", \"\\u5584\\u6b3e\", \"\\u734e\\u52f5\", \"\\u9707\\u5ea6\\u7d1a\", \"\\u5efa\\u7269\", \"\\u8607\\u82b1\\u516c\\u8def\", \"\\u5f35\\u5584\\u653f\", \"\\u7af9\\u5e02\", \"\\u5929\\u738b\\u661f\", \"\\u7e23\\u5e9c\", \"\\u6436\\u901a\", \"\\u8fd1\\u6d77\", \"\\u707d\\u640d\", \"\\u6559\\u80b2\\u90e8\", \"\\u82b1\\u84ee\", \"\\u5730\\u9707\", \"\\u5f37\\u9707\", \"\\u5012\\u584c\", \"\\u6559\\u80b2\\u5c40\", \"\\u707d\\u5bb3\", \"\\u50be\\u659c\", \"\\u88dc\\u52a9\", \"\\u5927\\u6a13\", \"\\u91cd\\u5efa\", \"\\u5e02\\u5e9c\", \"\\u6280\\u5e2b\", \"\\u641c\\u6551\", \"\\u53d7\\u56f0\", \"\\u5b89\\u7f6e\", \"\\u6d3b\\u52d5\", \"\\u89c0\\u5149\", \"\\u6b65\\u9053\", \"\\u82b1\\u84ee\\u7e23\", \"\\u5e02\\u9577\", \"\\u653f\\u5e9c\", \"\\u767c\\u751f\", \"\\u5354\\u52a9\", \"\\u842c\\u5b89\", \"\\u6d88\\u9632\\u5c40\", \"\\u63d0\\u4f9b\", \"\\u6c11\\u773e\", \"\\u6843\\u5712\", \"\\u4e2d\\u5fc3\", \"\\u5b78\\u751f\", \"\\u53f0\\u7063\", \"\\u670d\\u52d9\", \"\\u6301\\u7e8c\", \"\\u76ee\\u524d\", \"\\u9032\\u884c\", \"\\u65b0\\u805e\", \"\\u5b89\\u5168\", \"\\u900f\\u904e\", \"\\u71b1\\u9580\", \"\\u53f0\\u5317\", \"\\u76f8\\u95dc\", \"\\u6307\\u51fa\", \"\\u9020\\u6210\", \"\\u672a\\u6210\\u5e74\", \"\\u5289\\u5411\\u5a55\", \"\\u9ec3\\u5b50\\u4f7c\", \"\\u6eab\\u6717\\u6771\", \"\\u5289\\u5f65\", \"\\u5bb6\\u66b4\", \"\\u7d71\\u795e\", \"\\u675c\\u79c9\\u6f84\", \"\\u5f35\\u5609\\u822a\", \"\\u6797\\u4e8e\\u502b\", \"\\u6d89\\u5165\", \"\\u6372\\u5165\", \"\\u8a50\\u9a19\\u6848\", \"\\u525d\\u524a\", \"\\u535a\\u96c5\", \"\\u5077\\u62cd\", \"\\u6e05\\u767d\", \"\\u6536\\u62bc\\u7981\\u898b\", \"\\u79c1\\u5bc6\", \"\\u6797\\u4e8e\", \"\\u6aa2\\u8abf\", \"\\u5075\\u67e5\", \"\\u7981\\u898b\", \"\\u8b77\\u77ed\", \"\\u4e0d\\u76f8\\u5f80\\u4f86\", \"\\u72af\\u6cd5\", \"\\u9023\\u9023\\u770b\", \"\\u59d1\\u592b\", \"\\u63d0\\u544a\", \"\\u7de9\\u5211\", \"\\u9053\\u6b49\", \"\\u53d7\\u5bb3\\u8005\", \"\\u8a50\\u9a19\", \"\\u5be9\\u7406\", \"\\u72af\\u7f6a\", \"\\u5289\\u5973\", \"\\u7f88\\u62bc\", \"\\u5a46\\u5a46\", \"\\u6d89\\u6848\", \"\\u4e08\\u592b\", \"\\u6d89\\u5acc\", \"\\u8fad\\u8077\", \"\\u8d77\\u8a34\", \"\\u8b49\\u64da\", \"\\u6d17\\u9322\", \"\\u5152\\u5c11\", \"\\u8cea\\u7591\", \"\\u8a50\\u6b3a\", \"\\u5f8b\\u5e2b\", \"\\u5f71\\u50cf\", \"\\u6307\\u63a7\", \"\\u4e8b\\u4ef6\", \"\\u7acb\\u59d4\", \"\\u767c\\u6587\", \"\\u81c9\\u66f8\", \"\\u4e8b\\u60c5\", \"\\u516c\\u53f8\", \"\\u8001\\u516c\", \"\\u77e5\\u9053\", \"\\u884c\\u70ba\", \"\\u7db2\\u53cb\", \"\\u8abf\\u67e5\", \"\\u61c9\\u8a72\", \"\\u5c0d\\u6b64\", \"\\u8981\\u6c42\", \"\\u554f\\u984c\", \"\\u570b\\u6c11\\u9ee8\", \"\\u653f\\u6cbb\", \"\\u5f37\\u8abf\", \"\\u6c11\\u9032\\u9ee8\", \"\\u771f\\u7684\", \"\\u842c\\u5143\", \"\\u73fe\\u5728\", \"\\u53f0\\u5317\", \"\\u5f71\\u7247\", \"\\u5e0c\\u671b\", \"\\u6307\\u51fa\", \"\\u99d5\\u99db\", \"\\u884c\\u4eba\", \"\\u570b\\u9053\", \"\\u8eca\\u9053\", \"\\u98db\\u5f48\", \"\\u884c\\u99db\", \"\\u4e58\\u5ba2\", \"\\u8b66\\u54e1\", \"\\u8def\\u53e3\", \"\\u5206\\u5c40\", \"\\u5317\\u5411\", \"\\u907a\\u9ad4\", \"\\u9ad8\\u516c\\u5c40\", \"\\u4f0a\\u6717\", \"\\u8087\\u4e8b\", \"\\u8abf\\u5ea6\", \"\\u6307\\u63ee\\u90e8\", \"\\u5831\\u8003\", \"\\u5168\\u7dda\", \"\\u4ea4\\u901a\\u5b89\\u5168\", \"\\u505c\\u8eca\", \"\\u52e4\\u52d9\", \"\\u901a\\u8eca\", \"\\u767c\\u5c04\", \"\\u7a7a\\u8ecd\", \"\\u8607\\u6fb3\", \"\\u5357\\u5411\", \"\\u53f8\\u4ee4\\u90e8\", \"\\u4eba\\u884c\\u9053\", \"\\u76e3\\u59d4\", \"\\u8eca\\u8f1b\", \"\\u9678\\u8ecd\", \"\\u6a5f\\u8eca\", \"\\u4ee5\\u8272\\u5217\", \"\\u9a0e\\u58eb\", \"\\u8b66\\u65b9\", \"\\u96a7\\u9053\", \"\\u8def\\u6bb5\", \"\\u5217\\u8eca\", \"\\u54e1\\u8b66\", \"\\u6d3e\\u54e1\", \"\\u9055\\u898f\", \"\\u8eca\\u798d\", \"\\u7372\\u5831\", \"\\u4e8b\\u6545\", \"\\u7537\\u5b50\", \"\\u884c\\u8eca\", \"\\u7cfb\\u7d71\", \"\\u6d3e\\u51fa\\u6240\", \"\\u9001\\u91ab\", \"\\u7121\\u4eba\\u6a5f\", \"\\u91d0\\u6e05\", \"\\u767c\\u73fe\", \"\\u4eba\\u54e1\", \"\\u7acb\\u5373\", \"\\u4e00\\u540d\", \"\\u6642\\u5206\", \"\\u5b89\\u5168\", \"\\u9020\\u6210\", \"\\u8abf\\u67e5\", \"\\u516c\\u91cc\", \"\\u539f\\u56e0\", \"\\u767c\\u751f\", \"\\u73fe\\u5834\", \"\\u65b0\\u805e\", \"\\u898f\\u5b9a\", \"\\u5c0e\\u81f4\", \"\\u71b1\\u9580\", \"\\u6307\\u51fa\", \"\\u9032\\u884c\", \"\\u76ee\\u524d\", \"\\u6c11\\u773e\", \"\\u5353\\u69ae\\u6cf0\", \"\\u570b\\u6703\", \"\\u63a5\\u4efb\", \"\\u8868\\u6c7a\", \"\\u6295\\u624b\", \"\\u5167\\u95a3\", \"\\u51fa\\u4efb\", \"\\u4eba\\u4e8b\", \"\\u6539\\u9769\", \"\\u9127\\u6137\\u5a01\", \"\\u67ef\\u5efa\\u9298\", \"\\u6cd5\\u6848\", \"\\u7e3d\\u53ec\", \"\\u694a\\u5bf6\\u6968\", \"\\u7403\\u5718\", \"\\u85cd\\u767d\", \"\\u4f59\\u5929\", \"\\u5148\\u767c\", \"\\u6f5b\\u8266\", \"\\u59d4\\u6703\", \"\\u57f7\\u653f\", \"\\u6e96\\u95a3\", \"\\u5de8\\u4eba\", \"\\u52dd\\u6557\", \"\\u61f7\\u88e1\", \"\\u5433\\u601d\\u7464\", \"\\u8b70\\u4e8b\", \"\\u5353\\u69ae\", \"\\u51fa\\u8cfd\", \"\\u570b\\u9020\", \"\\u8cf4\\u6e05\\u5fb7\", \"\\u9ec3\\u570b\", \"\\u6c11\\u4e3b\", \"\\u7d93\\u6fdf\\u90e8\\u9577\", \"\\u90e8\\u9577\", \"\\u76e7\\u7e23\", \"\\u4e3b\\u59d4\", \"\\u79d8\\u66f8\\u9577\", \"\\u5967\\u904b\", \"\\u806f\\u76df\", \"\\u7403\\u8ff7\", \"\\u6295\\u7968\", \"\\u90ed\\u667a\\u8f1d\", \"\\u9ee8\\u5718\", \"\\u7403\\u5834\", \"\\u7acb\\u6cd5\\u9662\", \"\\u7403\\u54e1\", \"\\u67ef\\u6587\", \"\\u7e3d\\u7d71\", \"\\u6c11\\u9032\\u9ee8\", \"\\u570b\\u6c11\\u9ee8\", \"\\u653f\\u7b56\", \"\\u4e3b\\u5e2d\", \"\\u7acb\\u59d4\", \"\\u672a\\u4f86\", \"\\u516c\\u5e03\", \"\\u53f0\\u7063\", \"\\u6bd4\\u8cfd\", \"\\u64d4\\u4efb\", \"\\u570b\\u5bb6\", \"\\u53f0\\u5317\", \"\\u63a8\\u85a6\", \"\\u653f\\u5e9c\", \"\\u6c11\\u773e\", \"\\u904e\\u53bb\", \"\\u7f8e\\u570b\", \"\\u653f\\u6cbb\", \"\\u5e0c\\u671b\", \"\\u5c71\\u672c\", \"\\u8a18\\u5206\", \"\\u8179\\u7009\", \"\\u97cc\\u5e36\", \"\\u5614\\u5410\", \"\\u75c7\\u72c0\", \"\\u6aa2\\u9ad4\", \"\\u611f\\u67d3\", \"\\u7375\\u9df9\", \"\\u7b2c\\u9ede\", \"\\u71b1\\u706b\", \"\\u6aa2\\u51fa\", \"\\u534a\\u7a0b\", \"\\u541e\\u4e0b\", \"\\u9175\\u83cc\\u9178\", \"\\u96d9\\u6253\", \"\\u99ac\\u62c9\\u677e\", \"\\u885b\\u751f\\u5c40\", \"\\u91cd\\u75c7\", \"\\u694a\\u4e9e\\u4f9d\", \"\\u5b63\\u5f8c\\u8cfd\", \"\\u5b55\\u5a66\\u88dd\", \"\\u75c5\\u623f\", \"\\u9644\\u52a0\\u8cfd\", \"\\u75be\\u7ba1\\u7f72\", \"\\u5eda\\u5e2b\", \"\\u5289\\u65fb\\u541b\", \"\\u7368\\u62ff\\u5206\", \"\\u633a\\u8eab\\u800c\\u51fa\", \"\\u55ae\\u54c1\", \"\\u52c7\\u58eb\", \"\\u6e56\\u4eba\", \"\\u98df\\u6750\", \"\\u7c43\\u677f\", \"\\u5206\\u7403\", \"\\u52a9\\u653b\", \"\\u98df\\u5b89\", \"\\u5bf6\\u6797\", \"\\u738b\\u54c1\", \"\\u98df\\u7269\\u4e2d\\u6bd2\", \"\\u516c\\u725b\", \"\\u547d\\u4e2d\\u7387\", \"\\u91d1\\u584a\", \"\\u98df\\u54c1\", \"\\u54c1\\u724c\", \"\\u7cfb\\u5217\", \"\\u6f14\\u5531\\u6703\", \"\\u8a79\\u59c6\\u58eb\", \"\\u885b\\u751f\", \"\\u624b\\u8853\", \"\\u6642\\u5c1a\", \"\\u642d\\u914d\", \"\\u5168\\u5834\", \"\\u8b1d\\u6dd1\\u8587\", \"\\u5de8\\u86cb\", \"\\u4e2d\\u83ef\\u968a\", \"\\u672c\\u5b63\", \"\\u7c89\\u7d72\", \"\\u6bd4\\u8cfd\", \"\\u9910\\u5ef3\", \"\\u53f0\\u5317\", \"\\u91ab\\u5e2b\", \"\\u8a2d\\u8a08\", \"\\u62ff\\u4e0b\", \"\\u65e5\\u672c\", \"\\u6700\\u5f8c\", \"\\u63a8\\u85a6\", \"\\u91ab\\u9662\", \"\\u4eca\\u5e74\", \"\\u76ee\\u524d\", \"\\u7db2\\u53cb\", \"\\u63a8\\u51fa\", \"\\u9ad8\\u96c4\", \"\\u51fa\\u73fe\", \"\\u9663\\u96e8\", \"\\u5c40\\u90e8\", \"\\u964d\\u96e8\", \"\\u92d2\\u9762\", \"\\u591a\\u96f2\", \"\\u96f7\\u96e8\", \"\\u6c23\\u6eab\", \"\\u81f3\\u5ea6\", \"\\u60b6\\u71b1\", \"\\u9ad8\\u6eab\", \"\\u5348\\u5f8c\", \"\\u767d\\u5929\", \"\\u6771\\u534a\", \"\\u6674\\u6642\\u591a\\u96f2\", \"\\u6c34\\u539f\", \"\\u4e2d\\u5357\\u90e8\", \"\\u4e2d\\u592e\\u6c23\\u8c61\\u5c40\", \"\\u96e8\\u52e2\", \"\\u5929\\u6c23\", \"\\u534a\\u90e8\", \"\\u6c34\\u6c23\", \"\\u6f8e\\u6e56\", \"\\u4ee5\\u5317\", \"\\u9810\\u5831\", \"\\u6d77\\u5de1\", \"\\u5927\\u96e8\", \"\\u6642\\u6674\", \"\\u5e6b\\u624b\", \"\\u6771\\u5357\\u90e8\", \"\\u5b63\\u98a8\", \"\\u77ed\\u66ab\", \"\\u6a5f\\u7387\", \"\\u6eab\\u5ea6\", \"\\u81fa\\u4e2d\\u5e02\", \"\\u81fa\\u5317\\u5e02\", \"\\u4e00\\u5e73\", \"\\u5927\\u8c37\", \"\\u6771\\u5317\\u90e8\", \"\\u5433\\u5d22\", \"\\u9053\\u5947\", \"\\u5317\\u90e8\", \"\\u8212\\u9069\", \"\\u672c\\u9031\", \"\\u5730\\u5340\", \"\\u7fd4\\u5e73\", \"\\u5c71\\u5340\", \"\\u6c23\\u8c61\", \"\\u5404\\u5730\", \"\\u4e2d\\u90e8\", \"\\u842c\\u7f8e\\u5143\", \"\\u9280\\u884c\", \"\\u9ad8\\u96c4\\u5e02\", \"\\u5f71\\u97ff\", \"\\u842c\\u5143\", \"\\u6307\\u51fa\", \"\\u53f0\\u7063\"], \"Freq\": [1259.0, 1681.0, 1568.0, 1206.0, 1207.0, 604.0, 864.0, 1158.0, 838.0, 518.0, 512.0, 702.0, 442.0, 3015.0, 445.0, 513.0, 496.0, 562.0, 428.0, 662.0, 1304.0, 531.0, 310.0, 347.0, 535.0, 469.0, 380.0, 292.0, 429.0, 517.0, 182.5683704451152, 118.68107749787384, 72.42997035232864, 128.39364960521783, 69.31332343635586, 79.13522697565205, 62.01977793647691, 57.21593948190237, 58.12384219054377, 99.19089038824512, 44.70903211120041, 41.9079522965201, 43.098109352962204, 647.750021822215, 39.05265366926439, 241.63773313055108, 37.42252636489013, 41.09598211787261, 39.047709031638405, 36.91366329272139, 33.710897271429474, 34.11645800752412, 33.78667199803356, 36.337465408171674, 36.66895293060981, 38.584110303906485, 32.12341849158708, 41.59306580040666, 28.853575959879734, 31.482487264452153, 185.69285662074043, 75.89479191771943, 48.171873361522096, 43.94243697783211, 453.83337182291973, 70.63179506920147, 160.90575720451574, 42.47394520341554, 329.5056657573011, 67.04525177757513, 163.2348045272878, 67.36391850245404, 114.65227204087512, 52.55984565158334, 102.14989110461683, 368.7955103314581, 174.04027275097152, 104.6048913858218, 148.07941640310065, 938.3625292239235, 304.2483911633013, 203.92499015727182, 405.9560283026081, 154.85857198875462, 234.62776218851891, 438.8349328930299, 198.85594118459076, 134.7172015239779, 182.43124900169624, 414.21870637705416, 527.1829955733061, 149.17478073822215, 689.5116276051185, 134.3316427900875, 251.56900910211147, 1282.359607652923, 526.771418041427, 431.82952118569096, 495.39394487607444, 270.68525696626773, 238.4020705089341, 508.1085352271299, 257.7655994547637, 525.0226727344348, 404.0208791771852, 346.19036551871056, 511.85632454575006, 352.4230361459139, 341.99091676321, 290.12325887879575, 372.0047195517792, 466.4978761928484, 291.25342427873426, 313.0189155021787, 293.3605779130171, 277.37616348039467, 275.73798781477683, 329.76433202809835, 188.21846815865203, 153.12566746267896, 196.75798159847562, 120.26984158078004, 526.5937984232404, 152.0561460129481, 323.7771276790411, 121.8689824356477, 81.08030473677945, 76.77513708907934, 76.13579388100877, 73.0806862889852, 78.57542414419608, 69.41443164290376, 75.93557861931136, 225.10232410243754, 69.34167738457587, 81.47710318930967, 85.72429170190766, 95.85250114815146, 66.41514510115795, 94.48369000661557, 62.67880206623756, 83.04390098207072, 69.98058333362975, 60.45441608030567, 70.28344867578105, 62.61700749358644, 85.88170494792146, 1524.9950408767966, 1631.190868802281, 519.1916521063849, 111.27378741212772, 113.32725449048145, 214.66904186126456, 101.40116996627756, 192.38825477272843, 219.73628144943365, 210.76149781617457, 376.7303512226427, 93.49422221976563, 229.1668441345246, 205.5749993574816, 99.00960998466864, 738.0902863311074, 149.38092482309898, 145.61859308694378, 300.3739531151415, 377.94849842266456, 515.0275921749144, 934.5894105916936, 468.86319570415645, 215.6338891444481, 176.91415185107311, 432.44437177720147, 576.6961213881846, 388.96370188942404, 321.52851613307075, 303.5337842416659, 818.861956727741, 271.8819863250881, 358.54012223538194, 461.7314447211794, 434.4244498663966, 383.7363126601044, 341.0938542022209, 357.830606007695, 320.70536898155876, 524.1499436737465, 344.58476093003884, 404.39536247619986, 272.37267557260856, 302.2656937996422, 230.05319727373782, 511.1352664797035, 230.28133847253366, 165.39700349592246, 250.1600053706072, 166.820276752199, 116.76547061411534, 258.1091764547788, 111.00472988612131, 272.85657944249436, 123.2397157532089, 142.15061071972286, 87.83241451415512, 123.91984910873384, 90.72521978471546, 76.51389314667603, 56.82202152457398, 62.466133356507996, 54.280880165981046, 71.93932477789699, 58.47324920135019, 54.79489969686922, 46.030874336156096, 45.37048005056269, 45.255195392239955, 45.27197996912368, 45.30303327584178, 110.46886861448309, 62.73551859905755, 345.092553434227, 194.37935774616332, 675.388100093246, 94.34627929182093, 212.36375312461328, 109.26725025617328, 115.67461744535686, 140.87540171273926, 126.37521394981782, 273.6664501344984, 187.87921268334026, 146.55689184369203, 157.76105395440646, 138.94826853289416, 349.66561059679196, 192.725294435255, 366.52206882477975, 189.8788271619791, 168.5480325908517, 212.17602395716116, 175.37234553647306, 412.25379507989595, 589.0825811700789, 366.51593344074945, 294.4290877686028, 313.18833007855886, 501.5134448141848, 224.30298404970728, 384.27277625503376, 226.6576131297471, 425.7735552667082, 327.9431815583261, 304.89023449742973, 279.1864392987339, 287.66121582810183, 324.54402032696714, 378.8188952877303, 265.99697105885355, 305.24631316912377, 359.08783984308025, 312.53668890311576, 299.002303409722, 295.76714484225874, 353.18994724624577, 284.44638779517453, 277.35890989025944, 275.76638153800224, 328.1108321578596, 171.04486988527918, 141.8411764992373, 114.81394978653407, 222.223412848018, 113.36977470184733, 93.27778190319869, 150.84232470551876, 83.42224736120349, 325.5405200629795, 71.80492012826804, 99.04713943073263, 68.40872636773916, 189.7765556301068, 69.02624550989643, 65.78722482848806, 64.61753858950145, 64.70290389751392, 59.940885719431336, 59.72337544789235, 73.24452133893104, 57.4162559605125, 55.513739728420504, 58.28314353486957, 59.897341618299556, 58.226498258703444, 47.975169783811396, 45.986739583930536, 51.67303925110972, 44.048401508867904, 330.83478950077466, 58.75976992304685, 219.5333185813953, 239.98936508849357, 108.92628685375843, 764.2338019394291, 133.8216575478388, 241.15574398583743, 170.0590667139665, 129.73155787235945, 109.61342425557963, 111.1628702300727, 145.53165700636947, 112.7231253149268, 196.28206074771177, 421.8366280982799, 89.71927714676478, 295.16657126752875, 114.88157338588945, 159.17755377310706, 124.69489189107142, 172.15793135874551, 521.6752733522228, 369.20516226040087, 239.84695967438242, 330.0971856548485, 294.65519984528777, 333.07949509284407, 365.336444240864, 320.6110734828532, 201.08780762273875, 213.97210308791, 435.0844542504317, 296.9705030803603, 303.88203694313944, 208.0385988616678, 226.53879120215066, 244.81882227011891, 314.5471420596741, 261.5500944702299, 237.11926939392333, 210.62363760026557, 198.8437680988776, 247.72033209654086, 183.50245182209449, 191.36845231299782, 187.6070231014744, 178.5726124820617, 130.77295089829664, 174.8800014750763, 141.44408085663682, 103.46375788295789, 83.8087965978398, 110.15230470578693, 73.03100886096884, 70.36822736335725, 107.33595859221607, 67.33257778772433, 68.42375722709515, 65.60748702991098, 69.4998720084814, 65.65502966707804, 74.52272790131093, 63.593937726531585, 80.12932861530079, 56.969217605815444, 57.52636796776209, 97.65863107298925, 58.148099450914415, 54.14454915835326, 78.98059981004182, 67.50998489387968, 292.38530168868243, 145.53606899492223, 108.17449304144371, 73.21293773690664, 210.44130572404364, 115.78413338403003, 343.3567593980676, 167.45306340661722, 244.68147505357013, 517.8870520378384, 233.79037736478432, 215.96756317704052, 133.2596870399392, 388.9232171031028, 137.32139402948206, 408.56236880069184, 314.684582555123, 173.26787904543767, 410.67895561991156, 843.9245126829096, 801.5371295870689, 244.89848204493467, 176.6070043768795, 550.7176628365223, 324.40188005194415, 233.71588441034092, 630.6924636467077, 251.44294905536702, 236.95474317405677, 253.5338002194975, 359.4902062327117, 230.67203586494506, 238.743067537212, 237.24834979959547, 217.3402073648532, 220.37855197221376, 205.71220828952622, 215.90419197324778, 94.12848831284724, 118.23612011174747, 97.59149545096494, 87.77313548423993, 60.76925572628934, 160.23179829337153, 57.732896617480804, 78.04860339713129, 50.8652508188693, 50.3014597289194, 64.02744500687781, 50.82189227930536, 44.760088588602166, 45.36418735360487, 44.99003863233681, 43.917210404535425, 43.65217936060814, 236.8017966576642, 59.20574678961368, 53.15458959121614, 328.62783615247463, 49.188233167300666, 86.12462015990646, 151.88668266732088, 46.51827736791991, 60.18893714939474, 42.208178384026944, 37.418644319748424, 32.509373677621376, 40.44879527402848, 412.1728675928224, 135.0883861678846, 103.6151002683123, 242.24658862194545, 140.74801575401978, 228.1666360520433, 89.48458375790774, 99.76067588512385, 60.472655723874084, 138.948557528408, 90.9269331683001, 121.06461049851565, 104.9588917765904, 136.45295035829926, 270.3779244258626, 231.65113325904304, 244.20407689921154, 107.54119237571453, 122.21269732594378, 134.217084490291, 116.02736515602292, 158.79765547201302, 186.90349645466654, 116.45446253746938, 184.5865422343029, 117.7887624672684, 190.62985547872478, 270.48611580713083, 222.1504573700176, 121.7651504805648, 456.00727895353236, 168.43094542513748, 186.19788746517384, 157.76252158183436, 237.79100202938838, 195.8025134819611, 168.76261460268913, 154.56879462452122, 166.88142158831388, 168.3508188440233, 163.61467885037507, 146.73601926869975, 145.04418482165647, 145.38889309456061, 441.3284661066501, 309.3029095023777, 276.4922041710278, 243.59506845836648, 269.66815982298874, 291.1751370158337, 246.47405539913782, 160.833569541277, 142.86907776869873, 174.80710365039118, 105.71206900137179, 148.05490064738927, 101.14606532611872, 91.7850539289901, 505.7866577586844, 90.8552146273096, 76.83741561055878, 72.20782671039429, 595.377283863931, 83.17508188273753, 60.17239058794046, 74.42566322281185, 56.651429890608455, 55.80008179496815, 53.31945139879559, 63.08872535392698, 44.35212254328766, 81.4252368245359, 41.66446309676382, 40.3297783420947, 504.66582521474237, 288.3327244246073, 178.82245894642185, 92.99455993368699, 115.28587460500732, 204.18701344824206, 1126.6205286795293, 79.69887227774912, 303.5497532692947, 380.94852437228104, 231.71843794064404, 189.6482564683496, 155.61995678672372, 551.6779858358907, 351.6283379458171, 211.09967600877386, 239.25958263211885, 263.3390073080077, 126.27278710902446, 179.79904932753584, 163.60372845526018, 170.34162971295095, 241.88292481425776, 210.57892798902844, 196.47718476276296, 191.01870066069696], \"Total\": [1259.0, 1681.0, 1568.0, 1206.0, 1207.0, 604.0, 864.0, 1158.0, 838.0, 518.0, 512.0, 702.0, 442.0, 3015.0, 445.0, 513.0, 496.0, 562.0, 428.0, 662.0, 1304.0, 531.0, 310.0, 347.0, 535.0, 469.0, 380.0, 292.0, 429.0, 517.0, 183.61417211740024, 119.80577037414143, 73.34383737544344, 130.07451418443836, 70.22238911827483, 80.21863306921233, 62.93560701846269, 58.12336003240523, 59.04632231142857, 101.15844659769729, 45.61844345905966, 42.817741702169315, 44.03817033646234, 662.1582794095328, 39.97151500399556, 247.45472761990513, 38.33257790174555, 42.10530989725627, 40.03900072632496, 37.86822286964486, 34.62123671834079, 35.054975719267254, 34.75820220706487, 37.396804081093784, 37.747000841377705, 39.728408277257515, 33.09905956290857, 42.8974596390695, 29.763334097913862, 32.48914599557131, 192.8165291614257, 78.73777395133287, 49.75099230101224, 45.37035777871272, 499.4064169104574, 73.74066690555642, 173.178629968947, 43.88349830553699, 362.8650762386931, 70.57300370038301, 178.84984891246586, 71.03626561479109, 124.65133584969877, 54.848819244921465, 111.2812329931331, 438.4546357684876, 199.5433537579405, 115.00491751859269, 169.7993300392268, 1304.2104942254969, 380.1081751653923, 245.5741874275946, 529.0085345466634, 181.99743992936013, 293.5308418378521, 604.8437293448994, 242.96717260713046, 156.83278834947814, 225.06656591609558, 605.0709350343102, 811.1110979597912, 178.61056000444077, 1260.8903948141233, 157.5900035006345, 355.40139974993696, 3015.3325934134796, 955.9100554883198, 742.0038469437162, 926.9094890793034, 407.8022596455647, 343.6447174409067, 1073.8126437671312, 387.10429109595174, 1204.4137086997985, 843.362556324612, 648.0433623600363, 1314.2142146356416, 685.6086534338585, 686.7941862512826, 503.12372311397826, 895.0853020670631, 2435.8577750468503, 620.9655002471488, 1060.1529645713704, 1117.7231470024037, 755.9648479494066, 804.7118879600614, 330.99922155943034, 189.468847620843, 154.17472826201754, 198.38850357746807, 121.4112126233123, 531.9737052583074, 153.71961027038472, 327.58184684891984, 123.3457376843383, 82.07725307252686, 77.74434645426133, 77.10572980709257, 74.06392663727564, 79.67116396322368, 70.39227363319787, 77.00635747578517, 228.27765160497447, 70.33813041662819, 82.64927421165223, 86.9669338964595, 97.26348050283241, 67.39420835320527, 95.89429554006247, 63.66518748599192, 84.4321122128204, 71.15413589643438, 61.474599398853734, 71.48269501460928, 63.73227333592051, 87.44069483961495, 1568.3053047831881, 1681.8343353500115, 535.9702942216785, 113.36137783263769, 115.88478768954147, 223.16218764615277, 104.23543546826846, 204.02068159955735, 239.2144682886134, 230.2663414579109, 434.87130578286025, 96.46699381300796, 264.84982839536247, 237.1600854567884, 103.34680193466205, 1073.0692969300019, 168.360717923735, 165.66177718050253, 409.39736682380277, 559.405404744848, 830.7081764254832, 1878.6345753776443, 788.5582264283161, 287.0048159159944, 217.25973918377983, 799.467435279333, 1220.7510438607019, 696.6630893243969, 548.5840133644779, 517.0778249717839, 3015.3325934134796, 453.6560715605342, 778.5671545477004, 1290.6219694356162, 1164.16047982962, 910.4407205285078, 769.6312814611806, 870.6205354409589, 675.6114687756565, 2435.8577750468503, 907.8020169125012, 1485.5658814395729, 911.5158149203115, 303.4184968761666, 231.08130703273002, 513.8308394980049, 231.78381664102386, 166.50552947679384, 252.0966411728073, 168.2843875232381, 117.79213131802236, 260.4817378434667, 112.15071433728188, 276.1563414754233, 124.75722543591499, 143.91177780082543, 88.93098229517688, 125.47774775684924, 92.28381759645356, 77.85742474927733, 57.87602630496789, 63.632377078672214, 55.30653049390675, 73.29937388268448, 59.59314850951918, 55.942063457557346, 47.05798024495196, 46.40059422759037, 46.29074908964791, 46.337397407341804, 46.37439403051528, 113.13494813149981, 64.26136413766645, 355.0965900767311, 199.6039457191923, 702.5454102154581, 96.65287201662542, 220.30439266362515, 112.79213957201088, 119.74935481100408, 147.35814588987256, 132.15150232475628, 297.4059244968164, 202.5401468434289, 156.41703554793745, 169.40400571064043, 148.35442965951836, 418.2476856496246, 216.7266479754263, 454.06388812495015, 217.80661103708988, 189.2492223925255, 255.31241971355055, 202.0763733427371, 625.7373033771335, 1158.3807554550456, 600.7504826308844, 437.75460133221065, 484.26966676914515, 1045.065682259781, 310.01505042765956, 795.1385823934205, 330.88622345725844, 1204.4137086997985, 752.340084865931, 641.6182820051325, 536.4432757386784, 579.979986881939, 788.9713853970859, 1207.164566212711, 489.2411534445898, 724.4705483938833, 1206.134640167165, 926.9094890793034, 888.167678073831, 895.0853020670631, 2435.8577750468503, 804.7118879600614, 1314.2142146356416, 1485.5658814395729, 329.4543179020193, 172.01188069517374, 142.89626427224974, 115.86738170344216, 224.33778941640486, 114.46811185489325, 94.31705849829918, 152.6144007241875, 84.4707606936554, 329.72535896147656, 72.74321891487352, 100.37907035387755, 69.34669370150736, 192.3842558202209, 69.98777510188629, 66.73462247252539, 65.59863147245706, 65.69681740633762, 60.8810169008735, 60.66148987916875, 74.40123124745446, 58.35407304915979, 56.45387016545567, 59.310844578370705, 60.973103774916346, 59.33584193733929, 48.92733467367323, 46.9497881636853, 52.76610079873793, 44.98927286071092, 343.59549434128684, 60.12524103534736, 228.655617485202, 251.7244503943945, 112.52464360105762, 838.6544007757637, 140.70395631733027, 262.6666635000958, 182.0913736352263, 137.22809273606038, 115.3820183058455, 117.88720813250785, 160.00401032673972, 122.16240136140513, 228.37884915494726, 569.5361691723226, 95.16900032315978, 397.64033574601297, 128.2839009664538, 193.9848107781688, 143.23549281926753, 231.06738627917105, 1212.2171468386166, 730.3046761137965, 383.27654229581, 684.1926200728926, 609.3874666432243, 769.6312814611806, 911.5158149203115, 752.340084865931, 341.4022202414547, 399.3466013691194, 1878.6345753776443, 848.3227366893798, 910.4407205285078, 383.6915046241901, 497.2709859790847, 675.6114687756565, 1485.5658814395729, 1164.16047982962, 1290.6219694356162, 1220.7510438607019, 199.96485029837717, 249.2896101554996, 184.74920684462523, 192.7593231051403, 189.11207292086866, 180.05301408027296, 131.92552038506244, 176.58032644608593, 142.90616371110875, 104.59605607127266, 84.94246259027365, 111.65773720042246, 74.13912670874872, 71.48174066168949, 109.05204751995022, 68.43734473667347, 69.56736934289175, 66.70984521242767, 70.67259324912415, 66.76395000119518, 75.78575255619654, 64.69787529090394, 81.56314916279244, 58.08858858357748, 58.66192826466637, 99.6210848682385, 59.33075096641474, 55.252035301532786, 80.60488885781001, 68.9162321373285, 299.64579893097783, 148.83743555067747, 110.58527435581632, 74.8367060116136, 217.49850722184823, 119.03730424960595, 361.23020481133256, 173.90041986598246, 257.90626152061134, 562.390647410998, 247.4384354948091, 229.0898407127638, 139.080336062646, 429.63760583895794, 144.26298247239941, 469.27786077313533, 366.55452202559195, 192.32840229767118, 517.1845349997946, 1206.134640167165, 1207.164566212711, 311.5857814766101, 216.5923945923535, 1158.3807554550456, 701.1335902548408, 410.041294239678, 3015.3325934134796, 490.51243099759336, 446.2567333840271, 572.9442485761142, 2435.8577750468503, 539.8046366085982, 830.7081764254832, 1220.7510438607019, 735.1656740891328, 955.9100554883198, 489.2411534445898, 1314.2142146356416, 95.11816642574486, 119.66812306227374, 98.90489590696855, 88.97615494844749, 61.79122674435052, 162.94599456954882, 58.824948609421526, 79.53743215119775, 51.84987822829237, 51.29163673135224, 65.30042107967225, 51.83500248790884, 45.743822262411015, 46.36489212287966, 45.99416944100676, 44.90713563344725, 44.64449591062933, 242.35689412534933, 60.600164202442436, 54.46919820543572, 337.4554520388809, 50.531476478444056, 88.50411145035852, 156.1015633389089, 47.81303661746254, 61.86739101125458, 43.486742467061326, 38.553837209936084, 33.548758627220586, 41.755843845339726, 428.2559658185298, 139.4657993678312, 108.06422330589533, 261.9529238512636, 151.71411596676245, 253.14821315443658, 94.63717731095079, 107.042691476766, 62.90341936193041, 153.08415864943348, 97.23693582498792, 133.14038483845474, 114.06666949930187, 153.01786389886192, 324.5415146668375, 277.21312379596367, 296.6176716888111, 118.97273679637557, 140.68818966111013, 156.96413392926317, 135.2653952514771, 200.26230964217459, 252.06793231127781, 137.22043775336937, 281.8860547447667, 142.54916013928013, 322.9639895782662, 685.6086534338585, 490.51243099759336, 153.26666554723107, 2435.8577750468503, 343.57145520597203, 472.7654821846415, 328.9152947795264, 1260.8903948141233, 830.1816142042296, 539.8046366085982, 417.6849019481205, 899.6110105927088, 1290.6219694356162, 1204.4137086997985, 431.0867799616666, 580.3791341059089, 738.0902227109995, 442.4674119000024, 310.4986481715757, 277.6063220019327, 244.7091476424605, 271.05371740744573, 292.9134654068512, 248.05590323813044, 161.8745733401927, 143.9070917485229, 176.17566826141257, 106.7486083313307, 149.5627660702999, 102.20911847432275, 92.78771888411632, 512.0749501456673, 92.08386255555064, 77.87688752267398, 73.249716042874, 604.7947245418399, 84.56219265778665, 61.20242073138028, 75.74470718566766, 57.66559111442291, 56.83330276402481, 54.33174811490848, 64.41745348471707, 45.35698513502343, 83.40192139172579, 42.68556258895131, 41.32748633053667, 518.0448674280083, 296.2582474817487, 183.46399715078812, 95.31075461884933, 118.92216844293684, 213.88664482938734, 1259.8945207229374, 82.29308333451553, 347.66976313068295, 445.11542293418154, 261.18411009171626, 218.29041557664075, 174.44444684488155, 864.0937688039751, 496.3328269670915, 269.8824258425186, 317.61725610475787, 380.2354019517404, 145.2093223507194, 285.3283740763816, 251.3434268322257, 286.07892439591495, 887.7635374177672, 888.167678073831, 1485.5658814395729, 3015.3325934134796], \"Category\": [\"Default\", \"Default\", \"Default\", \"Default\", \"Default\", \"Default\", \"Default\", \"Default\", \"Default\", \"Default\", \"Default\", \"Default\", \"Default\", \"Default\", \"Default\", \"Default\", \"Default\", \"Default\", \"Default\", \"Default\", \"Default\", \"Default\", \"Default\", \"Default\", \"Default\", \"Default\", \"Default\", \"Default\", \"Default\", \"Default\", \"Topic1\", \"Topic1\", \"Topic1\", \"Topic1\", \"Topic1\", \"Topic1\", \"Topic1\", \"Topic1\", \"Topic1\", \"Topic1\", \"Topic1\", \"Topic1\", \"Topic1\", \"Topic1\", \"Topic1\", \"Topic1\", \"Topic1\", \"Topic1\", \"Topic1\", \"Topic1\", \"Topic1\", \"Topic1\", \"Topic1\", \"Topic1\", \"Topic1\", \"Topic1\", \"Topic1\", \"Topic1\", \"Topic1\", \"Topic1\", \"Topic1\", \"Topic1\", \"Topic1\", \"Topic1\", \"Topic1\", \"Topic1\", \"Topic1\", \"Topic1\", \"Topic1\", \"Topic1\", \"Topic1\", \"Topic1\", \"Topic1\", \"Topic1\", \"Topic1\", \"Topic1\", \"Topic1\", \"Topic1\", \"Topic1\", \"Topic1\", \"Topic1\", \"Topic1\", \"Topic1\", \"Topic1\", \"Topic1\", \"Topic1\", \"Topic1\", \"Topic1\", \"Topic1\", \"Topic1\", \"Topic1\", \"Topic1\", \"Topic1\", \"Topic1\", \"Topic1\", \"Topic1\", \"Topic1\", \"Topic1\", \"Topic1\", \"Topic1\", \"Topic1\", \"Topic1\", \"Topic1\", \"Topic1\", \"Topic1\", \"Topic1\", \"Topic1\", \"Topic1\", \"Topic1\", \"Topic1\", \"Topic1\", \"Topic1\", \"Topic1\", \"Topic1\", \"Topic1\", \"Topic1\", \"Topic1\", \"Topic2\", \"Topic2\", \"Topic2\", \"Topic2\", \"Topic2\", \"Topic2\", \"Topic2\", \"Topic2\", \"Topic2\", \"Topic2\", \"Topic2\", \"Topic2\", \"Topic2\", \"Topic2\", \"Topic2\", \"Topic2\", \"Topic2\", \"Topic2\", \"Topic2\", \"Topic2\", \"Topic2\", \"Topic2\", \"Topic2\", \"Topic2\", \"Topic2\", \"Topic2\", \"Topic2\", \"Topic2\", \"Topic2\", \"Topic2\", \"Topic2\", \"Topic2\", \"Topic2\", \"Topic2\", \"Topic2\", \"Topic2\", \"Topic2\", \"Topic2\", \"Topic2\", \"Topic2\", \"Topic2\", \"Topic2\", \"Topic2\", \"Topic2\", \"Topic2\", \"Topic2\", \"Topic2\", \"Topic2\", \"Topic2\", \"Topic2\", \"Topic2\", \"Topic2\", \"Topic2\", \"Topic2\", \"Topic2\", \"Topic2\", \"Topic2\", \"Topic2\", \"Topic2\", \"Topic2\", \"Topic2\", \"Topic2\", \"Topic2\", \"Topic2\", \"Topic2\", \"Topic2\", \"Topic2\", \"Topic2\", \"Topic2\", \"Topic2\", \"Topic2\", \"Topic2\", \"Topic2\", \"Topic3\", \"Topic3\", \"Topic3\", \"Topic3\", \"Topic3\", \"Topic3\", \"Topic3\", \"Topic3\", \"Topic3\", \"Topic3\", \"Topic3\", \"Topic3\", \"Topic3\", \"Topic3\", \"Topic3\", \"Topic3\", \"Topic3\", \"Topic3\", \"Topic3\", \"Topic3\", \"Topic3\", \"Topic3\", \"Topic3\", \"Topic3\", \"Topic3\", \"Topic3\", \"Topic3\", \"Topic3\", \"Topic3\", \"Topic3\", \"Topic3\", \"Topic3\", \"Topic3\", \"Topic3\", \"Topic3\", \"Topic3\", \"Topic3\", \"Topic3\", \"Topic3\", \"Topic3\", \"Topic3\", \"Topic3\", \"Topic3\", \"Topic3\", \"Topic3\", \"Topic3\", \"Topic3\", \"Topic3\", \"Topic3\", \"Topic3\", \"Topic3\", \"Topic3\", \"Topic3\", \"Topic3\", \"Topic3\", \"Topic3\", \"Topic3\", \"Topic3\", \"Topic3\", \"Topic3\", \"Topic3\", \"Topic3\", \"Topic3\", \"Topic3\", \"Topic3\", \"Topic3\", \"Topic3\", \"Topic3\", \"Topic3\", \"Topic3\", \"Topic3\", \"Topic3\", \"Topic3\", \"Topic3\", \"Topic3\", \"Topic3\", \"Topic3\", \"Topic4\", \"Topic4\", \"Topic4\", \"Topic4\", \"Topic4\", \"Topic4\", \"Topic4\", \"Topic4\", \"Topic4\", \"Topic4\", \"Topic4\", \"Topic4\", \"Topic4\", \"Topic4\", \"Topic4\", \"Topic4\", \"Topic4\", \"Topic4\", \"Topic4\", \"Topic4\", \"Topic4\", \"Topic4\", \"Topic4\", \"Topic4\", \"Topic4\", \"Topic4\", \"Topic4\", \"Topic4\", \"Topic4\", \"Topic4\", \"Topic4\", \"Topic4\", \"Topic4\", \"Topic4\", \"Topic4\", \"Topic4\", \"Topic4\", \"Topic4\", \"Topic4\", \"Topic4\", \"Topic4\", \"Topic4\", \"Topic4\", \"Topic4\", \"Topic4\", \"Topic4\", \"Topic4\", \"Topic4\", \"Topic4\", \"Topic4\", \"Topic4\", \"Topic4\", \"Topic4\", \"Topic4\", \"Topic4\", \"Topic4\", \"Topic4\", \"Topic4\", \"Topic4\", \"Topic4\", \"Topic4\", \"Topic4\", \"Topic4\", \"Topic4\", \"Topic4\", \"Topic4\", \"Topic4\", \"Topic4\", \"Topic4\", \"Topic4\", \"Topic4\", \"Topic4\", \"Topic5\", \"Topic5\", \"Topic5\", \"Topic5\", \"Topic5\", \"Topic5\", \"Topic5\", \"Topic5\", \"Topic5\", \"Topic5\", \"Topic5\", \"Topic5\", \"Topic5\", \"Topic5\", \"Topic5\", \"Topic5\", \"Topic5\", \"Topic5\", \"Topic5\", \"Topic5\", \"Topic5\", \"Topic5\", \"Topic5\", \"Topic5\", \"Topic5\", \"Topic5\", \"Topic5\", \"Topic5\", \"Topic5\", \"Topic5\", \"Topic5\", \"Topic5\", \"Topic5\", \"Topic5\", \"Topic5\", \"Topic5\", \"Topic5\", \"Topic5\", \"Topic5\", \"Topic5\", \"Topic5\", \"Topic5\", \"Topic5\", \"Topic5\", \"Topic5\", \"Topic5\", \"Topic5\", \"Topic5\", \"Topic5\", \"Topic5\", \"Topic5\", \"Topic5\", \"Topic5\", \"Topic5\", \"Topic5\", \"Topic5\", \"Topic5\", \"Topic5\", \"Topic5\", \"Topic5\", \"Topic5\", \"Topic5\", \"Topic5\", \"Topic5\", \"Topic5\", \"Topic5\", \"Topic5\", \"Topic5\", \"Topic6\", \"Topic6\", \"Topic6\", \"Topic6\", \"Topic6\", \"Topic6\", \"Topic6\", \"Topic6\", \"Topic6\", \"Topic6\", \"Topic6\", \"Topic6\", \"Topic6\", \"Topic6\", \"Topic6\", \"Topic6\", \"Topic6\", \"Topic6\", \"Topic6\", \"Topic6\", \"Topic6\", \"Topic6\", \"Topic6\", \"Topic6\", \"Topic6\", \"Topic6\", \"Topic6\", \"Topic6\", \"Topic6\", \"Topic6\", \"Topic6\", \"Topic6\", \"Topic6\", \"Topic6\", \"Topic6\", \"Topic6\", \"Topic6\", \"Topic6\", \"Topic6\", \"Topic6\", \"Topic6\", \"Topic6\", \"Topic6\", \"Topic6\", \"Topic6\", \"Topic6\", \"Topic6\", \"Topic6\", \"Topic6\", \"Topic6\", \"Topic6\", \"Topic6\", \"Topic6\", \"Topic6\", \"Topic6\", \"Topic6\", \"Topic6\", \"Topic6\", \"Topic6\", \"Topic6\", \"Topic6\", \"Topic6\", \"Topic6\", \"Topic6\", \"Topic6\", \"Topic6\", \"Topic6\", \"Topic6\", \"Topic6\", \"Topic6\", \"Topic6\", \"Topic6\", \"Topic6\", \"Topic6\", \"Topic7\", \"Topic7\", \"Topic7\", \"Topic7\", \"Topic7\", \"Topic7\", \"Topic7\", \"Topic7\", \"Topic7\", \"Topic7\", \"Topic7\", \"Topic7\", \"Topic7\", \"Topic7\", \"Topic7\", \"Topic7\", \"Topic7\", \"Topic7\", \"Topic7\", \"Topic7\", \"Topic7\", \"Topic7\", \"Topic7\", \"Topic7\", \"Topic7\", \"Topic7\", \"Topic7\", \"Topic7\", \"Topic7\", \"Topic7\", \"Topic7\", \"Topic7\", \"Topic7\", \"Topic7\", \"Topic7\", \"Topic7\", \"Topic7\", \"Topic7\", \"Topic7\", \"Topic7\", \"Topic7\", \"Topic7\", \"Topic7\", \"Topic7\", \"Topic7\", \"Topic7\", \"Topic7\", \"Topic7\", \"Topic7\", \"Topic7\", \"Topic7\", \"Topic7\", \"Topic7\", \"Topic7\", \"Topic7\", \"Topic7\"], \"logprob\": [30.0, 29.0, 28.0, 27.0, 26.0, 25.0, 24.0, 23.0, 22.0, 21.0, 20.0, 19.0, 18.0, 17.0, 16.0, 15.0, 14.0, 13.0, 12.0, 11.0, 10.0, 9.0, 8.0, 7.0, 6.0, 5.0, 4.0, 3.0, 2.0, 1.0, -6.6485, -7.0792, -7.573, -7.0005, -7.617, -7.4845, -7.7282, -7.8088, -7.7931, -7.2586, -8.0555, -8.1202, -8.0922, -5.3821, -8.1907, -6.3682, -8.2334, -8.1397, -8.1909, -8.2471, -8.3378, -8.3259, -8.3356, -8.2628, -8.2537, -8.2028, -8.3861, -8.1277, -8.4934, -8.4062, -6.6315, -7.5263, -7.9809, -8.0728, -5.7379, -7.5982, -6.7748, -8.1067, -6.058, -7.6503, -6.7604, -7.6455, -7.1137, -7.8937, -7.2292, -5.9454, -6.6963, -7.2054, -6.8579, -5.0115, -6.1378, -6.5379, -5.8494, -6.8131, -6.3976, -5.7715, -6.5631, -6.9525, -6.6493, -5.8292, -5.5881, -6.8505, -5.3197, -6.9553, -6.3279, -4.6992, -5.5889, -5.7876, -5.6503, -6.2547, -6.3817, -5.6249, -6.3036, -5.5922, -5.8542, -6.0086, -5.6176, -5.9908, -6.0209, -6.1853, -5.9367, -5.7104, -6.1814, -6.1094, -6.1742, -6.2303, -6.2362, -5.9065, -6.4673, -6.6736, -6.4229, -6.9151, -5.4385, -6.6806, -5.9248, -6.9019, -7.3094, -7.364, -7.3724, -7.4133, -7.3408, -7.4648, -7.375, -6.2883, -7.4658, -7.3046, -7.2537, -7.1421, -7.509, -7.1565, -7.5669, -7.2855, -7.4567, -7.603, -7.4523, -7.5678, -7.2519, -4.3751, -4.3078, -5.4526, -6.9929, -6.9746, -6.3358, -7.0858, -6.4454, -6.3125, -6.3542, -5.7734, -7.167, -6.2704, -6.3791, -7.1097, -5.1008, -6.6984, -6.7239, -5.9999, -5.7701, -5.4607, -4.8648, -5.5546, -6.3313, -6.5292, -5.6354, -5.3476, -5.7414, -5.9318, -5.9894, -4.997, -6.0995, -5.8228, -5.5699, -5.6309, -5.7549, -5.8727, -5.8248, -5.9344, -5.4431, -5.8625, -5.7025, -6.0977, -5.7736, -6.0466, -5.2483, -6.0456, -6.3766, -5.9628, -6.368, -6.7247, -5.9315, -6.7753, -5.876, -6.6708, -6.528, -7.0095, -6.6653, -6.9771, -7.1474, -7.445, -7.3503, -7.4907, -7.2091, -7.4163, -7.4813, -7.6556, -7.67, -7.6726, -7.6722, -7.6715, -6.7802, -7.346, -5.6411, -6.2151, -4.9696, -6.9379, -6.1266, -6.7911, -6.7341, -6.537, -6.6457, -5.873, -6.2491, -6.4975, -6.4238, -6.5508, -5.6279, -6.2236, -5.5808, -6.2385, -6.3577, -6.1275, -6.318, -5.4633, -5.1063, -5.5809, -5.7999, -5.7381, -5.2673, -6.0719, -5.5336, -6.0615, -5.431, -5.6921, -5.765, -5.853, -5.8231, -5.7025, -5.5479, -5.9014, -5.7638, -5.6013, -5.7402, -5.7845, -5.7953, -5.6179, -5.8344, -5.8596, -5.8654, -5.5928, -6.2442, -6.4314, -6.6428, -5.9825, -6.6555, -6.8506, -6.3699, -6.9622, -5.6007, -7.1122, -6.7905, -7.1606, -6.1403, -7.1517, -7.1997, -7.2177, -7.2163, -7.2928, -7.2964, -7.0923, -7.3358, -7.3695, -7.3208, -7.2935, -7.3218, -7.5155, -7.5578, -7.4412, -7.6009, -5.5845, -7.3127, -5.9946, -5.9055, -6.6955, -4.7473, -6.4896, -5.9007, -6.25, -6.5207, -6.6892, -6.6751, -6.4057, -6.6612, -6.1066, -5.3415, -6.8895, -5.6986, -6.6422, -6.3161, -6.5603, -6.2377, -5.1291, -5.4748, -5.9061, -5.5868, -5.7003, -5.5778, -5.4853, -5.6159, -6.0824, -6.0203, -5.3106, -5.6925, -5.6695, -6.0484, -5.9632, -5.8856, -5.635, -5.8195, -5.9176, -6.0361, -6.016, -5.7962, -6.0963, -6.0543, -6.0742, -6.1235, -6.4351, -6.1444, -6.3566, -6.6693, -6.88, -6.6067, -7.0177, -7.0548, -6.6326, -7.0989, -7.0828, -7.1248, -7.0672, -7.1241, -6.9974, -7.156, -6.9249, -7.266, -7.2563, -6.7271, -7.2455, -7.3169, -6.9393, -7.0963, -5.6305, -6.3281, -6.6248, -7.0152, -5.9593, -6.5568, -5.4698, -6.1878, -5.8086, -5.0588, -5.8541, -5.9334, -6.4162, -5.3452, -6.3862, -5.2959, -5.557, -6.1537, -5.2907, -4.5705, -4.622, -5.8077, -6.1346, -4.9973, -5.5266, -5.8544, -4.8617, -5.7813, -5.8407, -5.773, -5.4239, -5.8675, -5.8331, -5.8394, -5.9271, -5.9132, -5.9821, -5.9337, -6.5784, -6.3504, -6.5423, -6.6483, -7.016, -6.0465, -7.0673, -6.7658, -7.1939, -7.2051, -6.9638, -7.1948, -7.3218, -7.3084, -7.3167, -7.3408, -7.3468, -5.6559, -7.0421, -7.1499, -5.3282, -7.2274, -6.6673, -6.1, -7.2833, -7.0256, -7.3805, -7.5009, -7.6416, -7.4231, -5.1017, -6.2172, -6.4824, -5.6331, -6.1761, -5.693, -6.629, -6.5203, -7.0209, -6.189, -6.613, -6.3268, -6.4695, -6.2071, -5.5233, -5.6779, -5.6251, -6.4452, -6.3173, -6.2236, -6.3693, -6.0555, -5.8925, -6.3656, -5.905, -6.3542, -5.8728, -5.5229, -5.7197, -6.321, -5.0006, -5.9966, -5.8963, -6.062, -5.6517, -5.846, -5.9946, -6.0825, -6.0058, -5.9971, -6.0256, -6.1345, -6.1461, -6.1437, -4.6778, -5.0333, -5.1454, -5.2721, -5.1704, -5.0937, -5.2603, -5.6872, -5.8057, -5.6039, -6.1069, -5.77, -6.151, -6.2481, -4.5415, -6.2583, -6.4259, -6.488, -4.3784, -6.3467, -6.6704, -6.4578, -6.7307, -6.7458, -6.7913, -6.6231, -6.9754, -6.3679, -7.0379, -7.0705, -4.5437, -5.1035, -5.5812, -6.2351, -6.0202, -5.4486, -3.7406, -6.3893, -5.0521, -4.8249, -5.3221, -5.5224, -5.7202, -4.4546, -4.905, -5.4153, -5.29, -5.1942, -5.9292, -5.5758, -5.6702, -5.6298, -5.2791, -5.4177, -5.4871, -5.5152], \"loglift\": [30.0, 29.0, 28.0, 27.0, 26.0, 25.0, 24.0, 23.0, 22.0, 21.0, 20.0, 19.0, 18.0, 17.0, 16.0, 15.0, 14.0, 13.0, 12.0, 11.0, 10.0, 9.0, 8.0, 7.0, 6.0, 5.0, 4.0, 3.0, 2.0, 1.0, 1.5142, 1.5105, 1.5074, 1.5069, 1.5069, 1.5063, 1.5052, 1.5042, 1.5042, 1.5003, 1.4998, 1.4984, 1.4983, 1.4979, 1.4967, 1.4961, 1.4959, 1.4956, 1.4948, 1.4944, 1.4933, 1.4928, 1.4916, 1.4912, 1.4909, 1.4907, 1.49, 1.489, 1.4889, 1.4884, 1.4823, 1.4831, 1.4877, 1.4879, 1.4242, 1.4768, 1.4464, 1.4873, 1.4235, 1.4686, 1.4286, 1.4668, 1.4363, 1.4773, 1.4343, 1.3469, 1.3832, 1.4251, 1.383, 1.1907, 1.2973, 1.3341, 1.2551, 1.3584, 1.2959, 1.1991, 1.3196, 1.3679, 1.3099, 1.141, 1.0891, 1.3398, 0.9163, 1.3602, 1.1744, 0.6649, 0.924, 0.9786, 0.8934, 1.1101, 1.1543, 0.7716, 1.1133, 0.6896, 0.784, 0.8929, 0.577, 0.8544, 0.8227, 0.9694, 0.6419, -0.1329, 0.7628, 0.3, 0.1823, 0.5173, 0.4489, 1.6669, 1.664, 1.6638, 1.6624, 1.6612, 1.6605, 1.6598, 1.659, 1.6586, 1.6584, 1.6581, 1.658, 1.6573, 1.6568, 1.6567, 1.6567, 1.6567, 1.6564, 1.6564, 1.6563, 1.656, 1.656, 1.6558, 1.655, 1.6541, 1.654, 1.6539, 1.6537, 1.653, 1.6527, 1.6427, 1.6401, 1.6389, 1.6521, 1.6483, 1.6319, 1.6431, 1.612, 1.5857, 1.5821, 1.5271, 1.6394, 1.5259, 1.5277, 1.6278, 1.2964, 1.551, 1.5417, 1.361, 1.2785, 1.1926, 0.9725, 1.1508, 1.3847, 1.4652, 1.0562, 0.9208, 1.0878, 1.1364, 1.138, 0.3671, 1.1587, 0.8952, 0.6428, 0.6849, 0.8067, 0.8569, 0.7815, 0.9256, 0.1344, 0.702, 0.3695, 0.4627, 1.8868, 1.8862, 1.8854, 1.8841, 1.884, 1.8829, 1.8819, 1.8819, 1.8815, 1.8804, 1.8786, 1.8784, 1.8783, 1.8782, 1.8781, 1.8736, 1.8732, 1.8723, 1.8721, 1.8719, 1.8719, 1.8717, 1.8699, 1.8686, 1.8682, 1.868, 1.8674, 1.8673, 1.8668, 1.8666, 1.8621, 1.8641, 1.8512, 1.8665, 1.8539, 1.8589, 1.856, 1.8456, 1.8459, 1.8074, 1.8155, 1.8255, 1.8194, 1.8251, 1.7115, 1.7733, 1.6765, 1.7534, 1.7748, 1.7056, 1.7489, 1.4733, 1.2144, 1.3965, 1.494, 1.4548, 1.1564, 1.567, 1.1635, 1.5123, 0.8508, 1.0603, 1.1466, 1.2376, 1.1894, 1.0023, 0.7317, 1.2813, 1.0263, 0.679, 0.8035, 0.8019, 0.7833, -0.0404, 0.8507, 0.335, 0.2066, 1.9853, 1.9838, 1.982, 1.9803, 1.9799, 1.9798, 1.9783, 1.9777, 1.9769, 1.9766, 1.9764, 1.976, 1.9758, 1.9758, 1.9756, 1.9751, 1.9743, 1.9742, 1.9738, 1.9738, 1.9737, 1.9732, 1.9726, 1.9719, 1.9716, 1.9705, 1.9697, 1.9687, 1.9685, 1.9683, 1.9516, 1.9664, 1.9487, 1.9417, 1.9569, 1.8965, 1.9393, 1.904, 1.921, 1.9332, 1.9381, 1.9307, 1.8946, 1.909, 1.8379, 1.6892, 1.9304, 1.6914, 1.8791, 1.7916, 1.8508, 1.6951, 1.1462, 1.3073, 1.5206, 1.2605, 1.2628, 1.1519, 1.0751, 1.1364, 1.4601, 1.3654, 0.5266, 0.9398, 0.8921, 1.3773, 1.2032, 0.9743, 0.437, 0.4963, 0.2951, 0.2323, 2.0614, 2.0607, 2.0602, 2.0598, 2.059, 2.0588, 2.0582, 2.0573, 2.0567, 2.0561, 2.0536, 2.0534, 2.0519, 2.0513, 2.0511, 2.0507, 2.0504, 2.0503, 2.0503, 2.0503, 2.0502, 2.0498, 2.0493, 2.0475, 2.0475, 2.0471, 2.0469, 2.0468, 2.0466, 2.0464, 2.0425, 2.0446, 2.045, 2.0451, 2.034, 2.0393, 2.0163, 2.0292, 2.0144, 1.9846, 2.0103, 2.008, 2.0243, 1.9674, 2.0177, 1.9285, 1.9144, 1.9626, 1.8364, 1.7099, 1.6575, 1.8262, 1.8629, 1.3235, 1.2963, 1.5049, 0.5024, 1.3988, 1.434, 1.2517, 0.1536, 1.2168, 0.8201, 0.4289, 0.8484, 0.5997, 1.2006, 0.2608, 2.242, 2.2404, 2.2391, 2.2388, 2.2358, 2.2356, 2.2337, 2.2335, 2.2333, 2.2329, 2.2328, 2.2327, 2.2307, 2.2306, 2.2304, 2.2302, 2.23, 2.2293, 2.2292, 2.228, 2.2259, 2.2255, 2.2252, 2.2251, 2.225, 2.2249, 2.2226, 2.2226, 2.221, 2.2206, 2.2142, 2.2206, 2.2104, 2.1742, 2.1774, 2.1485, 2.1965, 2.182, 2.213, 2.1556, 2.1853, 2.1574, 2.1692, 2.1379, 2.0698, 2.0729, 2.058, 2.1514, 2.1117, 2.0959, 2.099, 2.0204, 1.9533, 2.0884, 1.8291, 2.0616, 1.7252, 1.3224, 1.4603, 2.0224, 0.5769, 1.5396, 1.3207, 1.5177, 0.5843, 0.8079, 1.0897, 1.2584, 0.5678, 0.2156, 0.2562, 1.1748, 0.8658, 0.6278, 2.6054, 2.6041, 2.6039, 2.6034, 2.6028, 2.602, 2.6015, 2.6015, 2.6007, 2.6001, 2.5982, 2.5978, 2.5975, 2.5971, 2.5956, 2.5945, 2.5945, 2.5936, 2.5923, 2.5914, 2.591, 2.5904, 2.5902, 2.5896, 2.5891, 2.5871, 2.5855, 2.584, 2.5837, 2.5835, 2.5818, 2.5808, 2.5823, 2.5833, 2.5769, 2.5615, 2.4961, 2.5759, 2.4722, 2.4523, 2.4882, 2.4673, 2.4938, 2.1592, 2.2633, 2.3623, 2.3246, 2.2406, 2.4682, 2.1461, 2.1786, 2.0895, 1.3077, 1.1686, 0.5849, -0.1511]}, \"token.table\": {\"Topic\": [1, 2, 3, 4, 5, 6, 7, 1, 4, 5, 7, 1, 5, 1, 2, 3, 4, 5, 6, 7, 1, 3, 4, 5, 3, 7, 1, 2, 3, 4, 5, 6, 7, 7, 1, 2, 3, 4, 5, 6, 7, 1, 2, 5, 6, 1, 1, 5, 6, 1, 2, 4, 7, 3, 4, 5, 6, 1, 2, 5, 1, 2, 3, 4, 5, 6, 7, 4, 1, 2, 1, 2, 3, 4, 5, 6, 7, 1, 2, 3, 4, 5, 6, 2, 3, 4, 5, 7, 1, 2, 4, 5, 4, 5, 1, 2, 3, 4, 5, 6, 7, 1, 2, 3, 5, 6, 4, 1, 2, 3, 4, 5, 6, 7, 7, 1, 4, 5, 1, 4, 1, 5, 1, 2, 3, 6, 2, 4, 4, 3, 3, 2, 5, 5, 2, 3, 5, 1, 2, 6, 5, 1, 3, 5, 6, 4, 1, 2, 4, 5, 1, 1, 2, 3, 4, 5, 6, 7, 1, 2, 3, 4, 5, 6, 7, 5, 6, 2, 4, 5, 7, 5, 1, 2, 3, 4, 5, 6, 7, 1, 2, 5, 1, 5, 1, 2, 3, 4, 5, 6, 7, 2, 3, 4, 7, 5, 6, 1, 2, 4, 5, 3, 3, 3, 4, 7, 3, 6, 1, 5, 6, 1, 2, 6, 5, 2, 4, 4, 1, 2, 4, 7, 7, 6, 1, 7, 5, 5, 1, 2, 3, 4, 5, 6, 7, 4, 3, 7, 1, 2, 3, 4, 5, 6, 7, 2, 4, 7, 3, 4, 5, 1, 2, 3, 4, 5, 6, 7, 1, 2, 3, 4, 5, 6, 7, 1, 4, 1, 2, 4, 7, 6, 3, 5, 7, 3, 5, 1, 5, 6, 1, 2, 3, 4, 5, 6, 7, 1, 3, 4, 7, 1, 2, 3, 4, 5, 6, 7, 2, 1, 2, 3, 4, 5, 6, 7, 6, 6, 1, 2, 3, 4, 5, 6, 7, 1, 5, 1, 5, 1, 2, 3, 4, 5, 1, 5, 4, 1, 1, 2, 4, 5, 7, 1, 2, 3, 4, 5, 7, 5, 4, 1, 7, 1, 2, 3, 4, 6, 7, 5, 6, 7, 1, 2, 4, 5, 6, 7, 1, 6, 7, 2, 1, 5, 1, 1, 1, 2, 3, 5, 1, 3, 4, 1, 6, 5, 6, 7, 1, 2, 3, 4, 5, 6, 7, 1, 2, 3, 4, 5, 6, 7, 2, 4, 1, 3, 4, 1, 3, 4, 7, 3, 6, 7, 1, 2, 3, 4, 5, 6, 7, 1, 2, 6, 1, 2, 3, 4, 5, 6, 7, 7, 1, 2, 4, 7, 6, 1, 2, 3, 4, 5, 6, 7, 5, 1, 2, 5, 6, 7, 1, 2, 3, 4, 5, 6, 7, 2, 3, 5, 6, 7, 2, 3, 4, 5, 6, 7, 1, 5, 1, 2, 3, 4, 5, 6, 7, 6, 7, 2, 6, 2, 7, 2, 3, 3, 5, 7, 1, 2, 3, 4, 5, 6, 7, 1, 2, 4, 7, 1, 2, 3, 4, 7, 1, 2, 3, 4, 5, 6, 7, 1, 2, 3, 4, 5, 6, 7, 1, 2, 3, 4, 5, 7, 7, 1, 6, 1, 2, 3, 5, 6, 1, 6, 1, 2, 3, 4, 5, 6, 7, 1, 2, 3, 4, 5, 6, 7, 5, 1, 3, 5, 6, 7, 2, 4, 5, 6, 3, 5, 1, 2, 3, 4, 5, 6, 7, 1, 5, 6, 7, 1, 2, 3, 4, 5, 6, 7, 1, 2, 3, 4, 5, 6, 7, 1, 3, 4, 5, 7, 4, 6, 2, 2, 3, 5, 1, 1, 2, 3, 4, 5, 6, 7, 1, 2, 4, 5, 6, 7, 1, 2, 3, 4, 5, 6, 7, 3, 4, 2, 4, 1, 2, 4, 5, 6, 7, 2, 1, 2, 3, 4, 5, 6, 7, 3, 1, 5, 1, 2, 3, 4, 5, 6, 7, 1, 2, 3, 4, 5, 1, 2, 3, 4, 5, 2, 4, 2, 7, 2, 3, 1, 2, 3, 4, 5, 6, 7, 1, 2, 3, 4, 5, 6, 7, 1, 1, 2, 3, 4, 5, 6, 7, 1, 2, 3, 5, 6, 7, 1, 2, 3, 4, 5, 6, 7, 7, 1, 2, 3, 4, 5, 6, 7, 1, 2, 5, 2, 3, 4, 5, 6, 7, 1, 2, 3, 4, 5, 6, 7, 3, 1, 5, 6, 7, 1, 2, 5, 6, 7, 3, 4, 7, 7, 7, 2, 3, 3, 5, 1, 3, 4, 5, 1, 2, 3, 4, 5, 6, 7, 6, 5, 1, 2, 3, 4, 5, 6, 7, 1, 3, 6, 7, 4, 6, 7, 6, 3, 6, 2, 4, 1, 2, 5, 6, 1, 2, 5, 1, 2, 3, 4, 5, 6, 7, 1, 2, 3, 4, 5, 1, 7, 2, 4, 5, 7, 3, 4, 6, 7, 7, 4, 5, 2, 3, 4, 1, 2, 3, 4, 5, 6, 7, 4, 7, 4, 6, 7, 2, 4, 7, 3, 5, 3, 4, 7, 3, 4, 3, 5, 6, 5, 6, 7, 3, 1, 2, 3, 5, 6, 1, 3, 6, 1, 2, 5, 6, 5, 7, 2, 4, 2, 4, 2, 4, 2, 2, 1, 2, 4, 6, 1, 2, 3, 4, 5, 6, 7, 1, 2, 3, 4, 5, 6, 7, 3, 3, 4, 7, 2, 6, 3, 4, 6, 7, 6, 6, 7, 1, 3, 5, 1, 2, 3, 4, 5, 6, 7, 1, 2, 3, 4, 5, 6, 7, 1, 5, 6, 1, 5, 1, 5, 6, 7, 1, 5, 6, 7, 1, 6, 7, 1, 2, 3, 4, 5, 6, 7, 1, 1, 2, 3, 4, 5, 6, 7, 6, 6, 7, 1, 6, 4, 1, 2, 3, 4, 5, 6, 7, 1, 2, 3, 4, 5, 6, 7, 1, 2, 3, 4, 5, 6, 7, 7, 4, 3, 5, 1, 2, 3, 4, 5, 6, 7, 1, 2, 3, 4, 5, 6, 7, 1, 2, 3, 4, 5, 6, 7, 1, 2, 3, 4, 5, 6, 7, 1, 2, 3, 4, 5, 6, 7, 1, 4, 6, 7, 1, 2, 3, 5, 3, 1, 3, 2, 5, 6, 4, 1, 2, 3, 4, 5, 6, 7, 1, 2, 3, 4, 5, 1, 2, 3, 4, 5, 1, 2, 2, 6, 1, 3, 5, 6, 7, 5, 6, 1, 2, 3, 4, 5, 6, 7, 1, 2, 4, 5, 6, 7, 1, 2, 4, 5, 6, 7, 3, 2, 5, 1, 1, 2, 3, 4, 5, 6, 7, 3, 2, 5, 1, 2, 3, 4, 5, 3, 4, 7, 1, 2, 3, 4, 5, 6, 7, 2, 1, 1, 5, 6, 7, 1, 3, 5, 6, 1, 1, 4, 5, 6, 7, 4, 4, 6, 1, 2, 3, 4, 5, 6, 7, 7, 4, 7, 6, 7, 1, 2, 4, 5, 6, 7, 2, 1, 2, 3, 4, 5, 7, 2, 4, 7, 1, 2, 3, 4, 5, 6, 7, 2, 3, 5, 6, 7, 1, 4, 5, 7, 1, 1, 5, 4, 2, 4, 1, 2, 3, 4, 5, 6, 7, 2, 4, 7, 4, 2, 4, 6, 2, 3, 4, 6, 7, 5, 1, 2, 4, 5, 7, 1, 2, 3, 4, 5, 6, 7, 1, 2, 3, 4, 5, 6, 7, 1, 2, 4, 1, 2, 3, 4, 5, 6, 1, 2, 4, 5, 7, 1, 2, 3, 4, 5, 6, 7, 6, 1, 4, 5, 1, 2, 4, 5, 6, 7, 1, 2, 3, 4, 5, 6, 7, 3, 4, 5, 7, 2, 3, 4, 5, 7, 3, 4, 1, 5, 6, 4, 1, 2, 3, 4, 5, 6, 7, 1, 5, 6, 3, 5, 6, 7, 4, 7, 1, 3, 4, 6, 7, 5, 3, 1, 2, 1, 2, 3, 4, 5, 6, 2, 5, 3, 4, 7, 4, 2, 4, 6, 7, 1, 2, 4, 6, 2, 3, 4, 7, 4, 2, 3, 5, 2, 2, 3, 4, 5, 6, 7, 1, 2, 3, 4, 5, 6, 7, 1, 2, 3, 4, 5, 6, 7, 1, 2, 3, 4, 5, 6, 7, 4, 1, 2, 3, 4, 5, 6, 7, 3, 1, 2, 3, 4, 5, 6, 7, 1, 2, 1, 2, 3, 4, 5, 6, 7, 5, 6, 7, 1, 3, 5, 3, 4, 6, 7, 2, 4, 1, 2, 5, 3, 5, 5, 6, 1, 2, 3, 4, 5, 6, 7, 1, 2, 3, 4, 5, 6, 7, 1, 2, 5, 6, 1, 6, 1, 2, 3, 4, 6, 7, 4, 5, 6, 1, 2, 3, 4, 5, 7, 7, 1, 1, 2, 3, 5, 6, 7, 5, 6, 7, 7, 4, 2, 4, 6, 7, 4, 7, 1, 2, 4, 5, 6, 7, 2, 2, 2, 6, 2, 7, 1, 4, 5, 1, 2, 6, 7, 5, 6, 2, 6, 7, 2, 4, 6, 7, 1, 6, 1, 2, 3, 4, 6, 7, 2, 4, 1, 6, 1, 5, 4, 4, 6, 7, 1, 2, 1, 2, 4, 1, 5, 7, 1, 2, 3, 4, 5, 6, 7, 2, 3, 4, 5, 6, 7, 3, 5, 1, 3, 4, 1, 1, 2, 3, 5], \"Freq\": [0.11400298353362832, 0.005846306847878376, 0.2206980835074087, 0.482320314949966, 0.002923153423939188, 0.140311364349081, 0.03361626437530066, 0.004675373727974825, 0.00935074745594965, 0.02805224236784895, 0.9537762405068643, 0.9646475891300849, 0.031117664165486607, 0.4790347839968598, 0.176673719840426, 0.1150157773457807, 0.0687723204747967, 0.11620150700913925, 0.03912907889083261, 0.004742918653434255, 0.026899262392083373, 0.9212997369288555, 0.036986485789114634, 0.016812038995052108, 0.9698151661437655, 0.9882296145549196, 0.7192090572442676, 0.007667473957828013, 0.003066989583131205, 0.12728006769994502, 0.13264729947042464, 0.007667473957828013, 0.0015334947915656026, 0.9887400800087359, 0.10572674118643144, 0.5869657010694987, 0.08385224300992838, 0.11301824057859913, 0.03645749696083843, 0.01276012393629345, 0.06197774483342533, 0.9130044372496053, 0.008695280354758146, 0.008695280354758146, 0.06956224283806517, 0.9822796362166311, 0.014030247516336577, 0.15433272267970236, 0.8277846034638581, 0.9825926013964581, 0.04820627137900366, 0.07575271216700574, 0.8677128848220658, 0.044293084539695854, 0.002768317783730991, 0.9495329998197298, 0.002768317783730991, 0.17544475682777064, 0.004616967284941332, 0.8172032094346159, 0.36641915394793384, 0.042330010564382244, 0.07672314414794282, 0.03307032075342363, 0.2341378709342393, 0.16270597810684426, 0.08466002112876449, 0.9860358399713778, 0.9165966017494988, 0.0718899295489803, 0.011186803091681881, 0.011186803091681881, 0.6584232676818479, 0.18697942310382573, 0.06871893327747441, 0.0431490976393444, 0.02077549145598064, 0.22301623952731356, 0.002064965180808459, 0.6463341015930477, 0.002064965180808459, 0.12389791084850754, 0.002064965180808459, 0.09195247317212031, 0.039408202788051565, 0.8582230829397895, 0.004378689198672396, 0.004378689198672396, 0.6645377596375647, 0.14958230013982082, 0.06866072793303252, 0.11525193617330458, 0.9890953901645613, 0.9910503821241465, 0.005477166079896108, 0.3382150054335847, 0.05614095231893511, 0.505268570870416, 0.06846457599870136, 0.001369291519974027, 0.024647247359532488, 0.8516603313769753, 0.01648374834923178, 0.0274729139153863, 0.06044041061384986, 0.04395666226461808, 0.9854811936614377, 0.2967949445439613, 0.26344719796598814, 0.03334774657797318, 0.04557525365656335, 0.13227939475929362, 0.1856357892840507, 0.042240478998766026, 0.9884577422764607, 0.01986298904284485, 0.9534234740565528, 0.02383558685141382, 0.01039586109306657, 0.987606803841324, 0.9667948401730363, 0.9774697626531439, 0.8307061997716988, 0.05700924900394011, 0.008144178429134301, 0.10180223036417876, 0.9791694677871335, 0.008821346556640842, 0.9811665583490945, 0.9732662470541442, 0.9860883778988474, 0.9689603113016839, 0.01918733289706305, 0.9893592136188104, 0.07843982343106953, 0.8905227013056717, 0.027684643563906892, 0.9493715229189881, 0.014169724222671464, 0.02833944844534293, 0.9941516442496015, 0.2261295178539843, 0.003967184523754111, 0.023803107142524663, 0.7418635059420187, 0.9855288734367238, 0.9090792281137255, 0.0020023771544355187, 0.0020023771544355187, 0.08810459479516283, 0.9816775693291803, 0.16171232379821868, 0.06793831354836405, 0.48035258311660217, 0.16458295676505094, 0.0717658241708071, 0.009568776556107614, 0.04497324981370578, 0.06096946905398011, 0.06340824781613931, 0.07316336286477614, 0.08779603543773136, 0.5706742303452538, 0.1121838230593234, 0.03414290267022886, 0.05142078941071589, 0.9358583672750292, 0.32220059940501605, 0.5887483680037111, 0.0790856016721403, 0.008787289074682255, 0.9929845235223553, 0.26013079985639903, 0.1232911603486058, 0.05283906872083106, 0.09754904994614964, 0.051484220804912315, 0.19645294780821804, 0.2167756665469992, 0.8716171021747215, 0.05300374269981415, 0.07067165693308552, 0.012406195383062146, 0.9800894352619096, 0.6842172975578877, 0.09255113203681574, 0.06445525266849668, 0.013221590290973678, 0.024790481795575643, 0.10742542111416112, 0.013221590290973678, 0.0030328270872148322, 0.0030328270872148322, 0.9887016304320354, 0.0060656541744296645, 0.06591344474624103, 0.9293795709219984, 0.005491748346098182, 0.021966993384392727, 0.9335972188366909, 0.03844223842268727, 0.9895314065902613, 0.9953206641999092, 0.9663793985431952, 0.00886586604168069, 0.01773173208336138, 0.9909580812029208, 0.9658115926207292, 0.007900510041443083, 0.0869056104558739, 0.9006581447245114, 0.030355677533068278, 0.0046701042358566576, 0.9620414725864715, 0.9812598548162136, 0.9856350225328159, 0.9767955692138394, 0.9897829801050836, 0.007657433675033633, 0.06508818623778588, 0.03828716837516817, 0.8882623063039015, 0.9929871841606859, 0.9837393941821465, 0.011825615781356139, 0.9815261098525595, 0.9773395623401034, 0.9951749005040762, 0.005072548691955876, 0.5947563341318265, 0.12934999164487485, 0.16993038118052184, 0.0735519560333602, 0.005072548691955876, 0.021558331940812473, 0.981046695474867, 0.9882230293158208, 0.007969540558998555, 0.12270043073362452, 0.03505726592389272, 0.1327167924261653, 0.5358753505509316, 0.03505726592389272, 0.11769224988735413, 0.02253681380821675, 0.8686115945827406, 0.12228027302378387, 0.008433122277502335, 0.9719246746400692, 0.010019842006598651, 0.010019842006598651, 0.1913083780070194, 0.21511929200789304, 0.14491814900531724, 0.060348351002214265, 0.14738134700540764, 0.18720304800686874, 0.05295875700194313, 0.4251603961700038, 0.27161182875447204, 0.005969490741856528, 0.009949151236427546, 0.20926381433952607, 0.01492372685464132, 0.06334292953858871, 0.9740502832868695, 0.9797701288795178, 0.02892944724120171, 0.27351477391681617, 0.0026299497492001554, 0.6916767840396408, 0.9705619476205763, 0.005752585390200399, 0.11792800049910818, 0.8743929793104606, 0.01003803563595625, 0.9837274923237125, 0.9699051076881103, 0.08261955989797384, 0.9088151588777124, 0.08319428726311708, 0.04005650868224155, 0.0030812698986339656, 0.012325079594535862, 0.009243809695901897, 0.8319428726311707, 0.018487619391803795, 0.9737489190804341, 0.03643568820574386, 0.9473278933493404, 0.014574275282297544, 0.12294488975817586, 0.13815456684166152, 0.4119287543444036, 0.07224596614655694, 0.19645832899502327, 0.048163977431037966, 0.010139784722323781, 0.9809757466014216, 0.8415921965410329, 0.011403688300013995, 0.059299179160072775, 0.002280737660002799, 0.020526638940025193, 0.061579916820075575, 0.004561475320005598, 0.9579497458644776, 0.9871951604452834, 0.27925928290166685, 0.17104631077727092, 0.019199075699489594, 0.08552315538863546, 0.4433241116063961, 0.0017453705181354176, 0.0017453705181354176, 0.9431802111237296, 0.042231949751808794, 0.004011398627388559, 0.9948268595923626, 0.019881299262532386, 0.0016567749385443657, 0.3139588508541573, 0.0008283874692721828, 0.6643667503562907, 0.01451036960359807, 0.9867051330446688, 0.9937278677170863, 0.9652364131324215, 0.019673790754827853, 0.2395573344852568, 0.09836895377413926, 0.003471845427322562, 0.6388195586273514, 0.01367554432477049, 0.9697744692913335, 0.0029729444184283674, 0.01010801102265645, 0.0005945888836856735, 0.003567533302114041, 0.9896319224960669, 0.989393437401575, 0.0036893056091048112, 0.9961125144582991, 0.01672139661374487, 0.9196768137559679, 0.004180349153436218, 0.04180349153436218, 0.012541047460308654, 0.004180349153436218, 0.0777842893893743, 0.02698638611468088, 0.8945193279778044, 0.8719909569680466, 0.045102980532829996, 0.015034326844276665, 0.06013730737710666, 0.005011442281425555, 0.9779958162262132, 0.013227628607475657, 0.001653453575934457, 0.9838048776810019, 0.9830382993474023, 0.046528532999734806, 0.9499575487445856, 0.9541648156656902, 0.9756948165737913, 0.9662924513166681, 0.018231933043710718, 0.9703630837825955, 0.9885574475269736, 0.03393093724005409, 0.9568524301695253, 0.006786187448010818, 0.01978964537928324, 0.9696926235848786, 0.02370683286242552, 0.9749435014672495, 0.967878851379456, 0.13150825024010776, 0.5879192363675406, 0.24754494162843813, 0.0019339448564721729, 0.017405503708249555, 0.009669724282360865, 0.005801834569416519, 0.02338782275822543, 0.4430693089197151, 0.010394587892544636, 0.4326747210271704, 0.07666008570751669, 0.0012993234865680795, 0.011693911379112715, 0.9579396570257666, 0.038704632607101684, 0.9820561950633125, 0.9916831848173253, 0.003966732739269301, 0.9781863802233489, 0.9725525795429121, 0.010346304037690554, 0.010346304037690554, 0.04671033520383097, 0.9342067040766194, 0.018684134081532387, 0.0764293297246448, 0.05965215978508863, 0.5200922681262414, 0.04846737982538451, 0.2572499390731947, 0.029826079892544315, 0.007456519973136079, 0.9779566643467661, 0.008082286482204678, 0.016164572964409357, 0.08245001449114199, 0.14277929338709955, 0.21316345209905005, 0.45649154364607886, 0.04021951926397171, 0.04223049522717029, 0.024131711558383024, 0.9951734148267608, 0.0037053172205570675, 0.17785522658673925, 0.03334785498501361, 0.7818219335375413, 0.9882444493227509, 0.47308066537365684, 0.2477154665145526, 0.10243872675413829, 0.04935684107244845, 0.10709503251569004, 0.011175133827724178, 0.007450089218482785, 0.9808351053283568, 0.017737663555322886, 0.01419013084425831, 0.3086353458626182, 0.6562935515469468, 0.0035475327110645774, 0.2952404138458914, 0.10281535178658836, 0.1943115822755707, 0.1801626806535631, 0.15375139762581563, 0.06885798789377019, 0.004716300540669191, 0.8669231448171093, 0.022995308881090432, 0.08738217374814365, 0.0022995308881090435, 0.018396247104872348, 0.6757174614221159, 0.04469030829511349, 0.003575224663609079, 0.26456662510707185, 0.007150449327218158, 0.005362836995413618, 0.9786627150742899, 0.009885481970447373, 0.3895864116352973, 0.20316322638012574, 0.21077233598237763, 0.00684819864202671, 0.16435676740864105, 0.02358823976698089, 0.00076091096022519, 0.011990131441974295, 0.9712006467999179, 0.016163603857451907, 0.9698162314471144, 0.9870097132417998, 0.01028135117960208, 0.9802460039005023, 0.010428148977664918, 0.9904725073472979, 0.0038390407261523173, 0.0038390407261523173, 0.12422865249598582, 0.09524196691358912, 0.42099710012528524, 0.10076324035785515, 0.24155571318663907, 0.011042546888532073, 0.006901591805332545, 0.0018657750453356242, 0.9683372485291889, 0.02238930054402749, 0.005597325136006873, 0.003916769897531646, 0.08225216784816457, 0.830355218276709, 0.07833539795063292, 0.003916769897531646, 0.34297989644425153, 0.028581658037020962, 0.35292134271799797, 0.16776190586947085, 0.009941446273746421, 0.03479506195811247, 0.06461940077935174, 0.12953899901599908, 0.29962933685439785, 0.0833555298015994, 0.12953899901599908, 0.07434412117439947, 0.011264260783999919, 0.27259511097279804, 0.021136150254311335, 0.005284037563577834, 0.8930023482446539, 0.052840375635778335, 0.010568075127155668, 0.021136150254311335, 0.9936966848714583, 0.984051340130344, 0.007687901094768313, 0.8503077417563512, 0.08249254211069078, 0.03172790081180415, 0.02538232064944332, 0.01269116032472166, 0.012572696565046714, 0.9806703320736437, 0.6925757560668064, 0.02909982168347926, 0.04073975035687097, 0.017459893010087556, 0.08147950071374194, 0.10766934022887327, 0.03200980385182719, 0.17767573524204547, 0.023378386216058616, 0.4753605197265252, 0.014027031729635169, 0.28209919367377395, 0.020261268053917467, 0.006234236324282298, 0.9887162204815373, 0.02548352862446031, 0.012741764312230156, 0.03185441078057539, 0.8536982089194204, 0.07645058587338094, 0.9640603104132343, 0.020732479793832994, 0.9941195032993267, 0.005287869698400674, 0.052381196663564736, 0.9428615399441653, 0.6664870577114047, 0.03874924754136074, 0.2040793703844999, 0.018082982185968346, 0.005166566338848099, 0.06458207923560123, 0.0025832831694240495, 0.10337007898276782, 0.39827883372772305, 0.48036683762580334, 0.015201482203348207, 0.07064258963242755, 0.4611034486916635, 0.05009201810299408, 0.15412928647075103, 0.14513841142662387, 0.044954375220635716, 0.07449582179419632, 0.043081226352601365, 0.2719502413507961, 0.1857877886455934, 0.21204041095420983, 0.11510765166085676, 0.039042361382044984, 0.1319362557048417, 0.009897248089502507, 0.8660092078314693, 0.04453761640276128, 0.06928073662651754, 0.0049486240447512535, 0.9908743298599392, 0.9836429528341673, 0.9868751324855505, 0.9969811966483706, 0.985914840364756, 0.9959447357992972, 0.9802103259934004, 0.1809380468752393, 0.3525972195517484, 0.0023197185496825552, 0.030156341145873216, 0.0463943709936511, 0.3409986268033356, 0.04871408954333366, 0.07595340465689311, 0.10559375769372945, 0.0055575661944068135, 0.4279325969693246, 0.3130762289515838, 0.07224836052728857, 0.008755828806903445, 0.5403597206546127, 0.06879579776852707, 0.2426615412198955, 0.048782474781319196, 0.037524980601014765, 0.05128414015472018, 0.9722901881047757, 0.008839001710043416, 0.8646409226973462, 0.13215035936422323, 0.024967254242368012, 0.11484936951489286, 0.029960705090841616, 0.014980352545420808, 0.7939586849073028, 0.024967254242368012, 0.9760128668869174, 0.2823486808692485, 0.04705811347820809, 0.06946673894402147, 0.013445175279488027, 0.531084423539777, 0.04929897602478943, 0.00896345018632535, 0.9848637447852446, 0.006997598802117067, 0.9866614310985065, 0.00481516868801256, 0.6199529685816171, 0.039725141676103616, 0.04333651819211304, 0.28770632910875044, 0.00120379217200314, 0.00361137651600942, 0.022483799497553573, 0.0020439817725048702, 0.5436991514862956, 0.012263890635029223, 0.4210602451360033, 0.00962816719615045, 0.17651639859609158, 0.006418778130766967, 0.022465723457684383, 0.7863003210189534, 0.9856418200295564, 0.008761260622484945, 0.9751064160615291, 0.017258520638257155, 0.9835237489562784, 0.011436322662282308, 0.02745922874087572, 0.4217737534598511, 0.14278798945255375, 0.33390422148904875, 0.01977064469343052, 0.01867227554379549, 0.03624618193795595, 0.5472323390184265, 0.15385952720228224, 0.0007930903464035167, 0.03172361385614067, 0.03886142697377232, 0.188755502444037, 0.03965451732017584, 0.986443126679351, 0.0016409920694766538, 0.42665793806393, 0.0016409920694766538, 0.48409266049561284, 0.006563968277906615, 0.024614881042149806, 0.054152738292729576, 0.0073928738251262385, 0.08132161207638863, 0.05175011677588367, 0.0073928738251262385, 0.8575733637146437, 0.9700821134609408, 0.262140048531508, 0.2174062518537763, 0.10646643609300156, 0.09304629708968203, 0.12972801036542206, 0.12346527883053962, 0.06710069501659761, 0.9915105264620191, 0.2915024807336513, 0.04938678392594919, 0.2047744699368625, 0.04818222822043824, 0.16261502024397903, 0.23609291828014736, 0.008431889938576692, 0.8342171929604578, 0.15676564699928067, 0.005598773107117166, 0.5995731503478959, 0.0022043130527496175, 0.20720542695846403, 0.14768897453422436, 0.019838817474746556, 0.022043130527496173, 0.162593836017134, 0.27526851185356893, 0.05705046877794175, 0.01141009375558835, 0.4621087971013282, 0.009983832036139806, 0.021393925791728156, 0.9953249492342402, 0.0030963204328316074, 0.3994253358352774, 0.5913972026708371, 0.006192640865663215, 0.017197451992654385, 0.005732483997551462, 0.04585987198041169, 0.028662419987757305, 0.894267503618028, 0.9932751762858955, 0.02430337908071985, 0.972135163228794, 0.9881701506443722, 0.983939239701417, 0.9802212151797686, 0.9763765601957134, 0.9897395719315596, 0.988904694289125, 0.010398880124343533, 0.0311966403730306, 0.057193840683889434, 0.8995031307557156, 0.0014354140693312318, 0.5583760729698491, 0.00861248441598739, 0.24976204806363433, 0.06602904718923666, 0.0315791095252871, 0.08468943009054268, 0.9730269904121868, 0.9792710607216142, 0.46862506835593903, 0.07246779407566067, 0.06441581695614282, 0.0048311862717107116, 0.15459796069474277, 0.0869613528907928, 0.14815637899912848, 0.010126300366320834, 0.006750866910880555, 0.006750866910880555, 0.9721248351668, 0.9621456162748236, 0.008746778329771124, 0.02624033498931337, 0.9838911459856954, 0.9822730561823881, 0.9859762119827946, 0.8813137374526693, 0.1146915137780871, 0.03058026474373612, 0.0020386843162490745, 0.5117097633785177, 0.45258791820729455, 0.009042795307288616, 0.009042795307288616, 0.9766218931871705, 0.015564189025725757, 0.4726598456759875, 0.01720252471264426, 0.17284441496990186, 0.19414277889984236, 0.03850088864258477, 0.09010846278051755, 0.0008290948346043725, 0.0008290948346043725, 0.29764504562296973, 0.0008290948346043725, 0.6997560404060904, 0.00403134933273494, 0.9917119358527953, 0.22039104820209235, 0.0031484435457441763, 0.022039104820209234, 0.7524780074328581, 0.00585851738919587, 0.0039056782594639127, 0.0019528391297319563, 0.98813659964437, 0.9803533795393854, 0.008955940045650652, 0.9851534050215717, 0.0023909277547986777, 0.8368247141795371, 0.1601921595715114, 0.09785015776744317, 0.6877468231654577, 0.0493910320159475, 0.02422956287574783, 0.02982100046245887, 0.08107584500731005, 0.03075290672691071, 0.8964491969266857, 0.09354252489669763, 0.9533547914582385, 0.043334308702647206, 0.9754885833584461, 0.8146930520351764, 0.1657002817698664, 0.018411142418874045, 0.9885704544803865, 0.007242274391797703, 0.9282110383050677, 0.00493729275694185, 0.06418480584024404, 0.9534511358816092, 0.03783536253498449, 0.9889872449282971, 0.021510650020279964, 0.9679792509125984, 0.9892133197919398, 0.02180264281886555, 0.9756682661442333, 0.9923039638104392, 0.7997723276215352, 0.010523320100283357, 0.015784980150425034, 0.015784980150425034, 0.1552189714791795, 0.9296759076386574, 0.028871922597473832, 0.04042069163646336, 0.13148238868557996, 0.037084776295932806, 0.0067426865992605105, 0.8226077651097822, 0.9763332124628825, 0.9769659524672663, 0.9890897106815133, 0.008107292710504208, 0.9634248627321453, 0.031367321112209384, 0.9890657956679395, 0.009158016626554995, 0.988510164511772, 0.9923805394356129, 0.013963019644324965, 0.11170415715459972, 0.8726887277703103, 0.9800855636430641, 0.005920562608637776, 0.4751251493431815, 0.031082953695348324, 0.3626344597790638, 0.016281547173753883, 0.023682250434551105, 0.08436801717308831, 0.8086496510896659, 0.004443129951042121, 0.09774885892292666, 0.008886259902084241, 0.017772519804168482, 0.05331755941250545, 0.004443129951042121, 0.9721164786694592, 0.9623049156522956, 0.02269587065217678, 0.009078348260870712, 0.9800449038738237, 0.9596969504883517, 0.00818582467973596, 0.9249981888101635, 0.00818582467973596, 0.05730077275815172, 0.9836088674200854, 0.9538432188364059, 0.03179477396121353, 0.9628337114299964, 0.013561038189154878, 0.013561038189154878, 0.41560284717101564, 0.049157326009474964, 0.33069473860919524, 0.007820483683325562, 0.17651948885220556, 0.01675817932141192, 0.003351635864282384, 0.18978626062565554, 0.2121833969727826, 0.04479427269425411, 0.35010260500509127, 0.023575932996975846, 0.14499198793140144, 0.035363899495463764, 0.008184321348491091, 0.8593537415915645, 0.13094914157585746, 0.009169933281785083, 0.981182861151004, 0.006931785152794282, 0.9496545659328166, 0.027727140611177127, 0.006931785152794282, 0.036372683904190004, 0.9456897815089401, 0.012124227968063334, 0.0040414093226877786, 0.9225733460142289, 0.056156638453040024, 0.01604475384372572, 0.5763989783767423, 0.30410015066083296, 0.041739236365212366, 0.015900661472461854, 0.029813740260865976, 0.023850992208692783, 0.007950330736230927, 0.9816653042786391, 0.0649651453282944, 0.0017558147386025512, 0.06145351585108929, 0.7409538196902766, 0.022825591601833166, 0.01404651790882041, 0.09481399588453776, 0.9829955034237338, 0.9717062698068771, 0.011298910114033455, 0.01227400529410594, 0.9819204235284752, 0.9778987369394375, 0.2047439054253314, 0.05826046089338698, 0.6109025470820864, 0.011652092178677397, 0.04161461492384785, 0.06491879928120264, 0.009987507581723483, 0.12786487998806972, 0.05279582141442879, 0.1988092650137084, 0.4306159184114348, 0.016498694192008997, 0.05362075612402924, 0.11961553289206522, 0.04364872289413512, 0.4977019012928822, 0.09581426976761369, 0.23155115193839973, 0.029276582428993073, 0.019695155452231702, 0.0819744308011806, 0.9895511021134409, 0.9780109168740344, 0.01680145575042809, 0.9744844335248292, 0.11234893209156196, 0.357966942250356, 0.06973381991890053, 0.18363239245310473, 0.11699785341948866, 0.13016979718194766, 0.028668348188881327, 0.03304685321369093, 0.3800388119574457, 0.2379373431385747, 0.20599205169867346, 0.10905461560518007, 0.013218741285476373, 0.020929673702004256, 0.5822072240991614, 0.040431057229108426, 0.2156323052219116, 0.040431057229108426, 0.07008049919712127, 0.04716956676729316, 0.00539080763054779, 0.534032724696434, 0.020498225796428782, 0.33768129864643204, 0.003236561967857176, 0.03668103563571466, 0.0679678013250007, 0.0010788539892857254, 0.3156682439487129, 0.011318781655531537, 0.4829346839693456, 0.011318781655531537, 0.13959830708488896, 0.03647162977893496, 0.0025152848123403417, 0.02123368204497972, 0.0019303347313617929, 0.0038606694627235857, 0.9748190393377054, 0.8607893886269046, 0.057385959241793634, 0.006376217693532626, 0.07651461232239151, 0.9831600159284064, 0.9764256705369349, 0.9743467531213864, 0.028752086992390725, 0.9603197055458502, 0.005750417398478145, 0.9840404421840065, 0.005218164378180012, 0.21394473950538045, 0.07044521910543015, 0.6261797253816014, 0.010436328756360023, 0.03130898626908007, 0.04435439721453009, 0.0008632740101135149, 0.013812384161816238, 0.5084683919568602, 0.0017265480202270297, 0.4756639795725467, 0.0021309336825574934, 0.008523734730229974, 0.11720135254066215, 0.0021309336825574934, 0.8715518761660148, 0.9851339001435512, 0.9895517862703493, 0.9856595636944369, 0.9748177907030461, 0.7674734403820607, 0.1833618810765022, 0.011341972025350651, 0.03402591607605195, 0.001890328670891775, 0.0725321165370468, 0.9238301158929119, 0.5134124230156875, 0.00875134811958558, 0.06709366891682278, 0.0014585580199309302, 0.0029171160398618603, 0.3938106653813511, 0.013127022179378372, 0.06853932360714823, 0.0793613220714348, 0.0036073328214288546, 0.010821998464286563, 0.8369012145714942, 0.007214665642857709, 0.007544506254305667, 0.09556374588787178, 0.7418764483400573, 0.05784121461634344, 0.03269286043532456, 0.06035605003444534, 0.9923677559033173, 0.013362426719380382, 0.9754571505147679, 0.9809018021581487, 0.43589673233357135, 0.022417546234297953, 0.35369906280781216, 0.034871738586685706, 0.014945030822865303, 0.1361658363861061, 0.0024908384704775506, 0.9803713451372703, 0.9837797777754727, 0.9846352828888353, 0.13728175379418142, 0.027069641593218872, 0.0019335458280870623, 0.03867091656174124, 0.7946873353437826, 0.9686899790239242, 0.008350775681240727, 0.016701551362481453, 0.5513070994224303, 0.007322864698210649, 0.003138370584947421, 0.1485495410208446, 0.23014717622947756, 0.026153088207895175, 0.033475952906105826, 0.9904257159753829, 0.9932743608957642, 0.9966550941557629, 0.23371414038606636, 0.05641375802422292, 0.7092015294473738, 0.24192373852991653, 0.722545565742684, 0.0032256498470655537, 0.02580519877652443, 0.9626491055742394, 0.005334370359483565, 0.007112493812644753, 0.9210679487374955, 0.04267496287586852, 0.02133748143793426, 0.9858864623079058, 0.010110722940759325, 0.9908508481944139, 0.052540852637538285, 0.11193485996692938, 0.6716091598015763, 0.011421924486421367, 0.08909101099408666, 0.0342657734592641, 0.02741261876741128, 0.9945972160905424, 0.01049199541016154, 0.9757555731450233, 0.025226583397186444, 0.9670190302254803, 0.02290526584409073, 0.004581053168818146, 0.009162106337636292, 0.03206737218172702, 0.06413474436345404, 0.8704001020754476, 0.9922475507753, 0.0031881547456037137, 0.9723871974091327, 0.0031881547456037137, 0.013390249931535599, 0.0031881547456037137, 0.004463416643845199, 0.7327843906947125, 0.019540917085192334, 0.24426146356490416, 0.01688870285454487, 0.2859820350036265, 0.3366481435672611, 0.09682856303272393, 0.011259135236363248, 0.015762789330908546, 0.23756775348726453, 0.752600611633021, 0.16724458036289355, 0.03135835881804254, 0.027874096727148925, 0.01742131045446808, 0.17523669057398106, 0.014018935245918485, 0.1787414243854607, 0.6308520860663318, 0.9806728304802247, 0.9848086034056339, 0.9789976548300647, 0.9774867619010111, 0.9793126384703803, 0.9941173790375158, 0.05439936366019516, 0.009066560610032528, 0.6860364194924612, 0.17226465159061802, 0.06951029801024937, 0.006044373740021684, 0.006044373740021684, 0.010507623245010022, 0.945686092050902, 0.042030492980040086, 0.9871744905100355, 0.12083459202190049, 0.007107917177758852, 0.86716589568658, 0.012378438875555035, 0.004126146291851679, 0.004126146291851679, 0.9778966711688478, 0.004126146291851679, 0.9908729545383353, 0.004901463871994876, 0.9410810634230161, 0.024507319359974376, 0.019605855487979502, 0.004901463871994876, 0.03793234335252732, 0.06207110730413561, 0.4965688584330849, 0.2586296137672317, 0.10517604293200757, 0.034483948502297565, 0.006896789700459513, 0.005212520933865651, 0.08861285587571606, 0.14855684661517105, 0.5421021771220277, 0.1329192838135741, 0.07297529307411911, 0.007818781400798476, 0.0018797921591151498, 0.9906504678536839, 0.007519168636460599, 0.6497260379318897, 0.0012328767323185762, 0.2921917855595026, 0.0036986301969557287, 0.03452054850492014, 0.01726027425246007, 0.08315478914946063, 0.8850045416621166, 0.017818883389170134, 0.0059396277963900445, 0.0059396277963900445, 0.8005973019006131, 0.006813594058728622, 0.02384757920555018, 0.003406797029364311, 0.0919835197928364, 0.05791554949919329, 0.013627188117457244, 0.9860604226122468, 0.8190406871210381, 0.0041157823473419, 0.17286285858835979, 0.03595863200807995, 0.516112129998324, 0.021152136475341147, 0.02749777741794349, 0.3934297384413453, 0.0042304272950682295, 0.497965776132633, 0.20675771991471895, 0.09318657798973248, 0.04659328899486624, 0.07862617517883679, 0.05969765152467237, 0.016016443091985272, 0.8723334847152333, 0.032138602068455965, 0.004591228866922281, 0.08723334847152332, 0.001423395534949574, 0.9607919860909625, 0.025621119629092335, 0.004270186604848723, 0.0071169776747478704, 0.9867156265453733, 0.0069487015953899525, 0.008405287017239266, 0.08405287017239267, 0.9077709978618408, 0.9889918838931346, 0.0013291861222284901, 0.05050907264468263, 0.4359730480909448, 0.42666874523534537, 0.021266977955655842, 0.017279419588970373, 0.04785070040022565, 0.1311757949085687, 0.014575088323174301, 0.8453551227441095, 0.9369453970401336, 0.026962457468780822, 0.0067406143671952055, 0.020221843101585618, 0.9894217012514754, 0.00655246159769189, 0.0011923862786327598, 0.04769545114531039, 0.9109831168754284, 0.0011923862786327598, 0.038156360916248314, 0.9775706367315654, 0.9775175169132879, 0.006505350867342511, 0.9888133318360617, 0.017618666027452386, 0.002202333253431548, 0.8082563040093782, 0.015416332774020837, 0.1563656609936399, 0.002202333253431548, 0.020023641317200896, 0.9744838774371103, 0.9326816053563712, 0.011806096270333813, 0.05312743321650216, 0.9825885231578616, 0.04949238638345615, 0.9175127014163794, 0.0038071066448812424, 0.03045685315904994, 0.07499812020645692, 0.012499686701076153, 0.9124771291785592, 0.006249843350538077, 0.02037279334357928, 0.011641596196331016, 0.9633420852463915, 0.002910399049082754, 0.9925140130838359, 0.0383589931811562, 0.939795332938327, 0.0191794965905781, 0.9792579866454916, 0.04124034231292673, 0.03608529952381089, 0.8196518034694188, 0.0051550427891158416, 0.04124034231292673, 0.056705470680274254, 0.16080484470664558, 0.4112009600355651, 0.16884508694197783, 0.09763151285760624, 0.0735107861516094, 0.0735107861516094, 0.01493187843704566, 0.7258073097252357, 0.02479979418195566, 0.12565229052190868, 0.008266598060651886, 0.08431930021864924, 0.028106433406216415, 0.0033066392242607546, 0.5339148891826335, 0.12344852929078232, 0.05400873156471726, 0.024689705858156462, 0.12344852929078232, 0.14042270206826488, 0.0015431066161347789, 0.9919603356842417, 0.027426841740738863, 0.2984040381392388, 0.17662886081035828, 0.4004318894147874, 0.05265953614221862, 0.018650252383702427, 0.025232694401479752, 0.9711378393657926, 0.04466738125967858, 0.37280083589808666, 0.08160386960902818, 0.22505488250068825, 0.1477459533973984, 0.08418083391247118, 0.04380839315853092, 0.9652292182780648, 0.025400768902054338, 0.26796680931013567, 0.07345283097841282, 0.31285465046361016, 0.023124039382092926, 0.29517156152436264, 0.02040356416067023, 0.005440950442845394, 0.056165207296572844, 0.08761772338265364, 0.8559577591997701, 0.019712946267626517, 0.9715666374758783, 0.0056322703621790055, 0.008482684557903667, 0.9415779859273071, 0.008482684557903667, 0.03393073823161467, 0.009962236116299825, 0.9862613755136826, 0.01379319811579214, 0.01379319811579214, 0.9655238681054498, 0.035950445199872456, 0.9562818423166073, 0.9847407624032679, 0.9783848811036384, 0.08149687517903349, 0.12515591545351573, 0.23866942016716952, 0.005821205369930964, 0.032016629534620304, 0.488981251074201, 0.026195424164689337, 0.035912238939062986, 0.17477289617010655, 0.09337182124156378, 0.2944803593003165, 0.004788298525208398, 0.3710931357036509, 0.02633564188864619, 0.0043427971003863995, 0.9163301881815302, 0.0738275507065688, 0.0043427971003863995, 0.01650160545208054, 0.9735947216727519, 0.004327741859648768, 0.012983225578946305, 0.1947483836841946, 0.7443715998595881, 0.017310967438595073, 0.02596645115789261, 0.03506721128580406, 0.04383401410725507, 0.9205142962523566, 0.003978620060223458, 0.11935860180670373, 0.20290962307139634, 0.01591448024089383, 0.003978620060223458, 0.652493689876647, 0.9971020795532474, 0.9790789560356127, 0.7090574212068638, 0.01125487970169625, 0.03657835903051281, 0.028137199254240623, 0.21384271433222873, 0.0028137199254240626, 0.019218257241195986, 0.97372503355393, 0.9942136692336512, 0.996683570675406, 0.9812850474115217, 0.04264272417804779, 0.952354173309734, 0.979799744057343, 0.9829389639934915, 0.003413977567098253, 0.9934674720255916, 0.9094289354617461, 0.019290916812824917, 0.005511690517949976, 0.011023381035899952, 0.05236105992052477, 0.002755845258974988, 0.9915758232987096, 0.9888815915068283, 0.9883765873610809, 0.9890290275072792, 0.98693150138803, 0.9853377733916903, 0.004457563759549439, 0.9895791546199755, 0.004457563759549439, 0.00653518468053479, 0.0784222161664175, 0.8887851165527315, 0.019605554041604373, 0.04226668750756524, 0.9404337970433265, 0.02776126925474639, 0.9623906674978748, 0.009253756418248797, 0.006532354548128162, 0.0718559000294098, 0.9079972821898147, 0.006532354548128162, 0.911379019837902, 0.08386923495440816, 0.05219660760176647, 0.08481948735287051, 0.013049151900441617, 0.05219660760176647, 0.7959982659269387, 0.006524575950220809, 0.9930010885085089, 0.00504061466247974, 0.977072521395219, 0.9855638215308892, 0.9786179832680515, 0.019632768182846712, 0.9955856766082762, 0.9686766961595202, 0.017773884333202206, 0.008886942166601103, 0.9648048768471175, 0.020100101600981614, 0.9697961875152838, 0.022040822443529177, 0.9805802752860286, 0.9570795771015517, 0.022787608978608372, 0.9933267273908217, 0.07581251188119176, 0.4273068851485354, 0.006892046534653796, 0.07236648861386485, 0.10338069801980694, 0.24983668688120012, 0.06375143044554761, 0.28663418730740625, 0.0034955388696025153, 0.017477694348012576, 0.08039739400085785, 0.017477694348012576, 0.5942416078324276, 0.01343747957360514, 0.9809360088731752, 0.0019461657867343378, 0.9944907170212466, 0.0019461657867343378, 0.9743532060150693, 0.002327542995328096, 0.002327542995328096, 0.09077417681779575, 0.9054142251826294], \"Term\": [\"\\u4e00\\u540d\", \"\\u4e00\\u540d\", \"\\u4e00\\u540d\", \"\\u4e00\\u540d\", \"\\u4e00\\u540d\", \"\\u4e00\\u540d\", \"\\u4e00\\u540d\", \"\\u4e00\\u5e73\", \"\\u4e00\\u5e73\", \"\\u4e00\\u5e73\", \"\\u4e00\\u5e73\", \"\\u4e00\\u7c92\", \"\\u4e00\\u7c92\", \"\\u4e00\\u8d77\", \"\\u4e00\\u8d77\", \"\\u4e00\\u8d77\", \"\\u4e00\\u8d77\", \"\\u4e00\\u8d77\", \"\\u4e00\\u8d77\", \"\\u4e00\\u8d77\", \"\\u4e08\\u592b\", \"\\u4e08\\u592b\", \"\\u4e08\\u592b\", \"\\u4e08\\u592b\", \"\\u4e0d\\u76f8\\u5f80\\u4f86\", \"\\u4e2d\\u5357\\u90e8\", \"\\u4e2d\\u570b\", \"\\u4e2d\\u570b\", \"\\u4e2d\\u570b\", \"\\u4e2d\\u570b\", \"\\u4e2d\\u570b\", \"\\u4e2d\\u570b\", \"\\u4e2d\\u570b\", \"\\u4e2d\\u592e\\u6c23\\u8c61\\u5c40\", \"\\u4e2d\\u5fc3\", \"\\u4e2d\\u5fc3\", \"\\u4e2d\\u5fc3\", \"\\u4e2d\\u5fc3\", \"\\u4e2d\\u5fc3\", \"\\u4e2d\\u5fc3\", \"\\u4e2d\\u5fc3\", \"\\u4e2d\\u6587\", \"\\u4e2d\\u6587\", \"\\u4e2d\\u6587\", \"\\u4e2d\\u6587\", \"\\u4e2d\\u83ef\\u6c11\\u65cf\", \"\\u4e2d\\u83ef\\u968a\", \"\\u4e2d\\u83ef\\u968a\", \"\\u4e2d\\u83ef\\u968a\", \"\\u4e2d\\u884c\", \"\\u4e2d\\u90e8\", \"\\u4e2d\\u90e8\", \"\\u4e2d\\u90e8\", \"\\u4e3b\\u59d4\", \"\\u4e3b\\u59d4\", \"\\u4e3b\\u59d4\", \"\\u4e3b\\u59d4\", \"\\u4e3b\\u5e2d\", \"\\u4e3b\\u5e2d\", \"\\u4e3b\\u5e2d\", \"\\u4e4b\\u5f8c\", \"\\u4e4b\\u5f8c\", \"\\u4e4b\\u5f8c\", \"\\u4e4b\\u5f8c\", \"\\u4e4b\\u5f8c\", \"\\u4e4b\\u5f8c\", \"\\u4e4b\\u5f8c\", \"\\u4e58\\u5ba2\", \"\\u4e5d\\u4e8c\", \"\\u4e5d\\u4e8c\", \"\\u4e8b\\u4ef6\", \"\\u4e8b\\u4ef6\", \"\\u4e8b\\u4ef6\", \"\\u4e8b\\u4ef6\", \"\\u4e8b\\u4ef6\", \"\\u4e8b\\u4ef6\", \"\\u4e8b\\u4ef6\", \"\\u4e8b\\u60c5\", \"\\u4e8b\\u60c5\", \"\\u4e8b\\u60c5\", \"\\u4e8b\\u60c5\", \"\\u4e8b\\u60c5\", \"\\u4e8b\\u60c5\", \"\\u4e8b\\u6545\", \"\\u4e8b\\u6545\", \"\\u4e8b\\u6545\", \"\\u4e8b\\u6545\", \"\\u4e8b\\u6545\", \"\\u4ea4\\u6d41\", \"\\u4ea4\\u6d41\", \"\\u4ea4\\u6d41\", \"\\u4ea4\\u6d41\", \"\\u4ea4\\u901a\\u5b89\\u5168\", \"\\u4eba\\u4e8b\", \"\\u4eba\\u54e1\", \"\\u4eba\\u54e1\", \"\\u4eba\\u54e1\", \"\\u4eba\\u54e1\", \"\\u4eba\\u54e1\", \"\\u4eba\\u54e1\", \"\\u4eba\\u54e1\", \"\\u4eba\\u751f\", \"\\u4eba\\u751f\", \"\\u4eba\\u751f\", \"\\u4eba\\u751f\", \"\\u4eba\\u751f\", \"\\u4eba\\u884c\\u9053\", \"\\u4eca\\u5e74\", \"\\u4eca\\u5e74\", \"\\u4eca\\u5e74\", \"\\u4eca\\u5e74\", \"\\u4eca\\u5e74\", \"\\u4eca\\u5e74\", \"\\u4eca\\u5e74\", \"\\u4ee5\\u5317\", \"\\u4ee5\\u8272\\u5217\", \"\\u4ee5\\u8272\\u5217\", \"\\u4ee5\\u8272\\u5217\", \"\\u4f0a\\u6717\", \"\\u4f0a\\u6717\", \"\\u4f2f\\u683c\", \"\\u4f59\\u5929\", \"\\u4f5c\\u54c1\", \"\\u4f5c\\u54c1\", \"\\u4f5c\\u54c1\", \"\\u4f5c\\u54c1\", \"\\u5012\\u584c\", \"\\u5012\\u584c\", \"\\u505c\\u8eca\", \"\\u5075\\u67e5\", \"\\u5077\\u62cd\", \"\\u50be\\u659c\", \"\\u50be\\u659c\", \"\\u5148\\u767c\", \"\\u5152\\u5c11\", \"\\u5152\\u5c11\", \"\\u5152\\u5c11\", \"\\u5165\\u570d\", \"\\u5165\\u570d\", \"\\u5165\\u570d\", \"\\u5167\\u95a3\", \"\\u5168\\u5834\", \"\\u5168\\u5834\", \"\\u5168\\u5834\", \"\\u5168\\u5834\", \"\\u5168\\u7dda\", \"\\u5169\\u5cb8\", \"\\u5169\\u5cb8\", \"\\u5169\\u5cb8\", \"\\u5169\\u5cb8\", \"\\u5169\\u5cb8\\u4eba\\u6c11\", \"\\u516c\\u53f8\", \"\\u516c\\u53f8\", \"\\u516c\\u53f8\", \"\\u516c\\u53f8\", \"\\u516c\\u53f8\", \"\\u516c\\u53f8\", \"\\u516c\\u53f8\", \"\\u516c\\u5e03\", \"\\u516c\\u5e03\", \"\\u516c\\u5e03\", \"\\u516c\\u5e03\", \"\\u516c\\u5e03\", \"\\u516c\\u5e03\", \"\\u516c\\u5e03\", \"\\u516c\\u725b\", \"\\u516c\\u725b\", \"\\u516c\\u91cc\", \"\\u516c\\u91cc\", \"\\u516c\\u91cc\", \"\\u516c\\u91cc\", \"\\u51fa\\u4efb\", \"\\u51fa\\u73fe\", \"\\u51fa\\u73fe\", \"\\u51fa\\u73fe\", \"\\u51fa\\u73fe\", \"\\u51fa\\u73fe\", \"\\u51fa\\u73fe\", \"\\u51fa\\u73fe\", \"\\u51fa\\u8a2a\", \"\\u51fa\\u8a2a\", \"\\u51fa\\u8a2a\", \"\\u51fa\\u8cfd\", \"\\u51fa\\u8cfd\", \"\\u5206\\u4eab\", \"\\u5206\\u4eab\", \"\\u5206\\u4eab\", \"\\u5206\\u4eab\", \"\\u5206\\u4eab\", \"\\u5206\\u4eab\", \"\\u5206\\u4eab\", \"\\u5206\\u5c40\", \"\\u5206\\u5c40\", \"\\u5206\\u5c40\", \"\\u5206\\u5c40\", \"\\u5206\\u7403\", \"\\u5206\\u7403\", \"\\u5217\\u8eca\", \"\\u5217\\u8eca\", \"\\u5217\\u8eca\", \"\\u5217\\u8eca\", \"\\u525d\\u524a\", \"\\u5289\\u5411\\u5a55\", \"\\u5289\\u5973\", \"\\u5289\\u5973\", \"\\u5289\\u5973\", \"\\u5289\\u5f65\", \"\\u5289\\u65fb\\u541b\", \"\\u52a9\\u653b\", \"\\u52a9\\u653b\", \"\\u52a9\\u653b\", \"\\u52c7\\u58eb\", \"\\u52c7\\u58eb\", \"\\u52c7\\u58eb\", \"\\u52dd\\u6557\", \"\\u52df\\u6b3e\", \"\\u52e4\\u52d9\", \"\\u5317\\u5411\", \"\\u5317\\u90e8\", \"\\u5317\\u90e8\", \"\\u5317\\u90e8\", \"\\u5317\\u90e8\", \"\\u5348\\u5f8c\", \"\\u534a\\u7a0b\", \"\\u534a\\u90e8\", \"\\u534a\\u90e8\", \"\\u5353\\u69ae\", \"\\u5353\\u69ae\\u6cf0\", \"\\u5354\\u52a9\", \"\\u5354\\u52a9\", \"\\u5354\\u52a9\", \"\\u5354\\u52a9\", \"\\u5354\\u52a9\", \"\\u5354\\u52a9\", \"\\u5354\\u52a9\", \"\\u5357\\u5411\", \"\\u535a\\u96c5\", \"\\u535a\\u96c5\", \"\\u539f\\u56e0\", \"\\u539f\\u56e0\", \"\\u539f\\u56e0\", \"\\u539f\\u56e0\", \"\\u539f\\u56e0\", \"\\u539f\\u56e0\", \"\\u539f\\u56e0\", \"\\u53d7\\u56f0\", \"\\u53d7\\u56f0\", \"\\u53d7\\u56f0\", \"\\u53d7\\u5bb3\\u8005\", \"\\u53d7\\u5bb3\\u8005\", \"\\u53d7\\u5bb3\\u8005\", \"\\u53f0\\u5317\", \"\\u53f0\\u5317\", \"\\u53f0\\u5317\", \"\\u53f0\\u5317\", \"\\u53f0\\u5317\", \"\\u53f0\\u5317\", \"\\u53f0\\u5317\", \"\\u53f0\\u7063\", \"\\u53f0\\u7063\", \"\\u53f0\\u7063\", \"\\u53f0\\u7063\", \"\\u53f0\\u7063\", \"\\u53f0\\u7063\", \"\\u53f0\\u7063\", \"\\u53f0\\u7368\", \"\\u53f8\\u4ee4\\u90e8\", \"\\u5404\\u5730\", \"\\u5404\\u5730\", \"\\u5404\\u5730\", \"\\u5404\\u5730\", \"\\u541e\\u4e0b\", \"\\u5433\\u5d22\", \"\\u5433\\u5d22\", \"\\u5433\\u5d22\", \"\\u5433\\u601d\\u7464\", \"\\u5433\\u601d\\u7464\", \"\\u5433\\u6177\\u4ec1\", \"\\u547d\\u4e2d\\u7387\", \"\\u547d\\u4e2d\\u7387\", \"\\u54c1\\u724c\", \"\\u54c1\\u724c\", \"\\u54c1\\u724c\", \"\\u54c1\\u724c\", \"\\u54c1\\u724c\", \"\\u54c1\\u724c\", \"\\u54c1\\u724c\", \"\\u54c8\\u85a9\\u514b\", \"\\u54e1\\u8b66\", \"\\u54e1\\u8b66\", \"\\u54e1\\u8b66\", \"\\u554f\\u984c\", \"\\u554f\\u984c\", \"\\u554f\\u984c\", \"\\u554f\\u984c\", \"\\u554f\\u984c\", \"\\u554f\\u984c\", \"\\u554f\\u984c\", \"\\u5584\\u6b3e\", \"\\u559c\\u6b61\", \"\\u559c\\u6b61\", \"\\u559c\\u6b61\", \"\\u559c\\u6b61\", \"\\u559c\\u6b61\", \"\\u559c\\u6b61\", \"\\u559c\\u6b61\", \"\\u55ae\\u54c1\", \"\\u5614\\u5410\", \"\\u570b\\u5bb6\", \"\\u570b\\u5bb6\", \"\\u570b\\u5bb6\", \"\\u570b\\u5bb6\", \"\\u570b\\u5bb6\", \"\\u570b\\u5bb6\", \"\\u570b\\u5bb6\", \"\\u570b\\u5bb6\\u968a\", \"\\u570b\\u5bb6\\u968a\", \"\\u570b\\u6703\", \"\\u570b\\u6703\", \"\\u570b\\u6c11\\u9ee8\", \"\\u570b\\u6c11\\u9ee8\", \"\\u570b\\u6c11\\u9ee8\", \"\\u570b\\u6c11\\u9ee8\", \"\\u570b\\u6c11\\u9ee8\", \"\\u570b\\u9020\", \"\\u570b\\u9020\", \"\\u570b\\u9053\", \"\\u570d\\u68cb\", \"\\u5730\\u5340\", \"\\u5730\\u5340\", \"\\u5730\\u5340\", \"\\u5730\\u5340\", \"\\u5730\\u5340\", \"\\u5730\\u9707\", \"\\u5730\\u9707\", \"\\u5730\\u9707\", \"\\u5730\\u9707\", \"\\u5730\\u9707\", \"\\u5730\\u9707\", \"\\u57f7\\u653f\", \"\\u5831\\u8003\", \"\\u591a\\u96f2\", \"\\u591a\\u96f2\", \"\\u5927\\u6a13\", \"\\u5927\\u6a13\", \"\\u5927\\u6a13\", \"\\u5927\\u6a13\", \"\\u5927\\u6a13\", \"\\u5927\\u6a13\", \"\\u5927\\u8c37\", \"\\u5927\\u8c37\", \"\\u5927\\u8c37\", \"\\u5927\\u9678\", \"\\u5927\\u9678\", \"\\u5927\\u9678\", \"\\u5927\\u9678\", \"\\u5927\\u9678\", \"\\u5927\\u96e8\", \"\\u5929\\u6c23\", \"\\u5929\\u6c23\", \"\\u5929\\u6c23\", \"\\u5929\\u738b\\u661f\", \"\\u5967\\u904b\", \"\\u5967\\u904b\", \"\\u596e\\u9b25\", \"\\u5973\\u512a\", \"\\u5973\\u58eb\", \"\\u5973\\u58eb\", \"\\u59d1\\u592b\", \"\\u59d4\\u6703\", \"\\u5a46\\u5a46\", \"\\u5a46\\u5a46\", \"\\u5a46\\u5a46\", \"\\u5b55\\u5a66\\u88dd\", \"\\u5b55\\u5a66\\u88dd\", \"\\u5b63\\u5f8c\\u8cfd\", \"\\u5b63\\u5f8c\\u8cfd\", \"\\u5b63\\u98a8\", \"\\u5b78\\u751f\", \"\\u5b78\\u751f\", \"\\u5b78\\u751f\", \"\\u5b78\\u751f\", \"\\u5b78\\u751f\", \"\\u5b78\\u751f\", \"\\u5b78\\u751f\", \"\\u5b89\\u5168\", \"\\u5b89\\u5168\", \"\\u5b89\\u5168\", \"\\u5b89\\u5168\", \"\\u5b89\\u5168\", \"\\u5b89\\u5168\", \"\\u5b89\\u5168\", \"\\u5b89\\u7f6e\", \"\\u5b89\\u7f6e\", \"\\u5b9c\\u8389\", \"\\u5bb6\\u66b4\", \"\\u5bb6\\u66b4\", \"\\u5bcc\\u58eb\", \"\\u5be9\\u7406\", \"\\u5be9\\u7406\", \"\\u5be9\\u7406\", \"\\u5bf6\\u6797\", \"\\u5bf6\\u6797\", \"\\u5bf6\\u6797\", \"\\u5c0d\\u6b64\", \"\\u5c0d\\u6b64\", \"\\u5c0d\\u6b64\", \"\\u5c0d\\u6b64\", \"\\u5c0d\\u6b64\", \"\\u5c0d\\u6b64\", \"\\u5c0d\\u6b64\", \"\\u5c0e\\u6f14\", \"\\u5c0e\\u6f14\", \"\\u5c0e\\u6f14\", \"\\u5c0e\\u81f4\", \"\\u5c0e\\u81f4\", \"\\u5c0e\\u81f4\", \"\\u5c0e\\u81f4\", \"\\u5c0e\\u81f4\", \"\\u5c0e\\u81f4\", \"\\u5c0e\\u81f4\", \"\\u5c40\\u90e8\", \"\\u5c71\\u5340\", \"\\u5c71\\u5340\", \"\\u5c71\\u5340\", \"\\u5c71\\u5340\", \"\\u5c71\\u672c\", \"\\u5de5\\u4f5c\", \"\\u5de5\\u4f5c\", \"\\u5de5\\u4f5c\", \"\\u5de5\\u4f5c\", \"\\u5de5\\u4f5c\", \"\\u5de5\\u4f5c\", \"\\u5de5\\u4f5c\", \"\\u5de8\\u4eba\", \"\\u5de8\\u86cb\", \"\\u5de8\\u86cb\", \"\\u5de8\\u86cb\", \"\\u5de8\\u86cb\", \"\\u5de8\\u86cb\", \"\\u5df2\\u7d93\", \"\\u5df2\\u7d93\", \"\\u5df2\\u7d93\", \"\\u5df2\\u7d93\", \"\\u5df2\\u7d93\", \"\\u5df2\\u7d93\", \"\\u5df2\\u7d93\", \"\\u5e02\\u5e9c\", \"\\u5e02\\u5e9c\", \"\\u5e02\\u5e9c\", \"\\u5e02\\u5e9c\", \"\\u5e02\\u5e9c\", \"\\u5e02\\u9577\", \"\\u5e02\\u9577\", \"\\u5e02\\u9577\", \"\\u5e02\\u9577\", \"\\u5e02\\u9577\", \"\\u5e02\\u9577\", \"\\u5e03\\u6717\", \"\\u5e03\\u6717\", \"\\u5e0c\\u671b\", \"\\u5e0c\\u671b\", \"\\u5e0c\\u671b\", \"\\u5e0c\\u671b\", \"\\u5e0c\\u671b\", \"\\u5e0c\\u671b\", \"\\u5e0c\\u671b\", \"\\u5e6b\\u624b\", \"\\u5e6b\\u624b\", \"\\u5eda\\u5e2b\", \"\\u5eda\\u5e2b\", \"\\u5efa\\u7269\", \"\\u5efa\\u7269\", \"\\u5f35\\u5584\\u653f\", \"\\u5f35\\u5584\\u653f\", \"\\u5f35\\u5609\\u822a\", \"\\u5f35\\u5609\\u822a\", \"\\u5f35\\u5609\\u822a\", \"\\u5f37\\u8abf\", \"\\u5f37\\u8abf\", \"\\u5f37\\u8abf\", \"\\u5f37\\u8abf\", \"\\u5f37\\u8abf\", \"\\u5f37\\u8abf\", \"\\u5f37\\u8abf\", \"\\u5f37\\u9707\", \"\\u5f37\\u9707\", \"\\u5f37\\u9707\", \"\\u5f37\\u9707\", \"\\u5f71\\u50cf\", \"\\u5f71\\u50cf\", \"\\u5f71\\u50cf\", \"\\u5f71\\u50cf\", \"\\u5f71\\u50cf\", \"\\u5f71\\u7247\", \"\\u5f71\\u7247\", \"\\u5f71\\u7247\", \"\\u5f71\\u7247\", \"\\u5f71\\u7247\", \"\\u5f71\\u7247\", \"\\u5f71\\u7247\", \"\\u5f71\\u97ff\", \"\\u5f71\\u97ff\", \"\\u5f71\\u97ff\", \"\\u5f71\\u97ff\", \"\\u5f71\\u97ff\", \"\\u5f71\\u97ff\", \"\\u5f71\\u97ff\", \"\\u5f8b\\u5e2b\", \"\\u5f8b\\u5e2b\", \"\\u5f8b\\u5e2b\", \"\\u5f8b\\u5e2b\", \"\\u5f8b\\u5e2b\", \"\\u5f8b\\u5e2b\", \"\\u60b6\\u71b1\", \"\\u611b\\u60c5\", \"\\u611b\\u60c5\", \"\\u611f\\u52d5\", \"\\u611f\\u52d5\", \"\\u611f\\u52d5\", \"\\u611f\\u52d5\", \"\\u611f\\u52d5\", \"\\u611f\\u67d3\", \"\\u611f\\u67d3\", \"\\u611f\\u89ba\", \"\\u611f\\u89ba\", \"\\u611f\\u89ba\", \"\\u611f\\u89ba\", \"\\u611f\\u89ba\", \"\\u611f\\u89ba\", \"\\u611f\\u89ba\", \"\\u61c9\\u8a72\", \"\\u61c9\\u8a72\", \"\\u61c9\\u8a72\", \"\\u61c9\\u8a72\", \"\\u61c9\\u8a72\", \"\\u61c9\\u8a72\", \"\\u61c9\\u8a72\", \"\\u61f7\\u88e1\", \"\\u624b\\u8853\", \"\\u624b\\u8853\", \"\\u624b\\u8853\", \"\\u624b\\u8853\", \"\\u624b\\u8853\", \"\\u6280\\u5e2b\", \"\\u6280\\u5e2b\", \"\\u6295\\u624b\", \"\\u6295\\u624b\", \"\\u6295\\u7968\", \"\\u6295\\u7968\", \"\\u62cd\\u651d\", \"\\u62cd\\u651d\", \"\\u62cd\\u651d\", \"\\u62cd\\u651d\", \"\\u62cd\\u651d\", \"\\u62cd\\u651d\", \"\\u62cd\\u651d\", \"\\u62ff\\u4e0b\", \"\\u62ff\\u4e0b\", \"\\u62ff\\u4e0b\", \"\\u62ff\\u4e0b\", \"\\u6301\\u7e8c\", \"\\u6301\\u7e8c\", \"\\u6301\\u7e8c\", \"\\u6301\\u7e8c\", \"\\u6301\\u7e8c\", \"\\u6301\\u7e8c\", \"\\u6301\\u7e8c\", \"\\u6307\\u51fa\", \"\\u6307\\u51fa\", \"\\u6307\\u51fa\", \"\\u6307\\u51fa\", \"\\u6307\\u51fa\", \"\\u6307\\u51fa\", \"\\u6307\\u51fa\", \"\\u6307\\u63a7\", \"\\u6307\\u63a7\", \"\\u6307\\u63a7\", \"\\u6307\\u63a7\", \"\\u6307\\u63a7\", \"\\u6307\\u63ee\\u90e8\", \"\\u633a\\u8eab\\u800c\\u51fa\", \"\\u6350\\u51fa\", \"\\u6350\\u6b3e\", \"\\u6372\\u5165\", \"\\u63a5\\u4efb\", \"\\u63a5\\u6a5f\", \"\\u63a8\\u51fa\", \"\\u63a8\\u51fa\", \"\\u63a8\\u51fa\", \"\\u63a8\\u51fa\", \"\\u63a8\\u51fa\", \"\\u63a8\\u51fa\", \"\\u63a8\\u51fa\", \"\\u63a8\\u85a6\", \"\\u63a8\\u85a6\", \"\\u63a8\\u85a6\", \"\\u63a8\\u85a6\", \"\\u63a8\\u85a6\", \"\\u63a8\\u85a6\", \"\\u63d0\\u4f9b\", \"\\u63d0\\u4f9b\", \"\\u63d0\\u4f9b\", \"\\u63d0\\u4f9b\", \"\\u63d0\\u4f9b\", \"\\u63d0\\u4f9b\", \"\\u63d0\\u4f9b\", \"\\u63d0\\u544a\", \"\\u63d0\\u544a\", \"\\u641c\\u6551\", \"\\u641c\\u6551\", \"\\u642d\\u914d\", \"\\u642d\\u914d\", \"\\u642d\\u914d\", \"\\u642d\\u914d\", \"\\u642d\\u914d\", \"\\u642d\\u914d\", \"\\u6436\\u901a\", \"\\u64d4\\u4efb\", \"\\u64d4\\u4efb\", \"\\u64d4\\u4efb\", \"\\u64d4\\u4efb\", \"\\u64d4\\u4efb\", \"\\u64d4\\u4efb\", \"\\u64d4\\u4efb\", \"\\u6536\\u62bc\\u7981\\u898b\", \"\\u6539\\u9769\", \"\\u6539\\u9769\", \"\\u653f\\u5e9c\", \"\\u653f\\u5e9c\", \"\\u653f\\u5e9c\", \"\\u653f\\u5e9c\", \"\\u653f\\u5e9c\", \"\\u653f\\u5e9c\", \"\\u653f\\u5e9c\", \"\\u653f\\u6cbb\", \"\\u653f\\u6cbb\", \"\\u653f\\u6cbb\", \"\\u653f\\u6cbb\", \"\\u653f\\u6cbb\", \"\\u653f\\u7b56\", \"\\u653f\\u7b56\", \"\\u653f\\u7b56\", \"\\u653f\\u7b56\", \"\\u653f\\u7b56\", \"\\u6551\\u707d\", \"\\u6551\\u707d\", \"\\u6559\\u80b2\\u5c40\", \"\\u6559\\u80b2\\u5c40\", \"\\u6559\\u80b2\\u90e8\", \"\\u6559\\u80b2\\u90e8\", \"\\u65b0\\u805e\", \"\\u65b0\\u805e\", \"\\u65b0\\u805e\", \"\\u65b0\\u805e\", \"\\u65b0\\u805e\", \"\\u65b0\\u805e\", \"\\u65b0\\u805e\", \"\\u65e5\\u672c\", \"\\u65e5\\u672c\", \"\\u65e5\\u672c\", \"\\u65e5\\u672c\", \"\\u65e5\\u672c\", \"\\u65e5\\u672c\", \"\\u65e5\\u672c\", \"\\u65e5\\u8a2a\", \"\\u6642\\u5206\", \"\\u6642\\u5206\", \"\\u6642\\u5206\", \"\\u6642\\u5206\", \"\\u6642\\u5206\", \"\\u6642\\u5206\", \"\\u6642\\u5206\", \"\\u6642\\u5c1a\", \"\\u6642\\u5c1a\", \"\\u6642\\u5c1a\", \"\\u6642\\u5c1a\", \"\\u6642\\u5c1a\", \"\\u6642\\u6674\", \"\\u6642\\u9593\", \"\\u6642\\u9593\", \"\\u6642\\u9593\", \"\\u6642\\u9593\", \"\\u6642\\u9593\", \"\\u6642\\u9593\", \"\\u6642\\u9593\", \"\\u6674\\u6642\\u591a\\u96f2\", \"\\u6700\\u5f8c\", \"\\u6700\\u5f8c\", \"\\u6700\\u5f8c\", \"\\u6700\\u5f8c\", \"\\u6700\\u5f8c\", \"\\u6700\\u5f8c\", \"\\u6700\\u5f8c\", \"\\u6708\\u85aa\", \"\\u6708\\u85aa\", \"\\u6708\\u85aa\", \"\\u670d\\u52d9\", \"\\u670d\\u52d9\", \"\\u670d\\u52d9\", \"\\u670d\\u52d9\", \"\\u670d\\u52d9\", \"\\u670d\\u52d9\", \"\\u672a\\u4f86\", \"\\u672a\\u4f86\", \"\\u672a\\u4f86\", \"\\u672a\\u4f86\", \"\\u672a\\u4f86\", \"\\u672a\\u4f86\", \"\\u672a\\u4f86\", \"\\u672a\\u6210\\u5e74\", \"\\u672c\\u5b63\", \"\\u672c\\u5b63\", \"\\u672c\\u5b63\", \"\\u672c\\u5b63\", \"\\u672c\\u9031\", \"\\u672c\\u9031\", \"\\u672c\\u9031\", \"\\u672c\\u9031\", \"\\u672c\\u9031\", \"\\u675c\\u79c9\\u6f84\", \"\\u6771\\u5317\\u90e8\", \"\\u6771\\u5317\\u90e8\", \"\\u6771\\u534a\", \"\\u6771\\u5357\\u90e8\", \"\\u6771\\u83ef\\u5927\\u5b78\", \"\\u6797\\u4e8e\", \"\\u6797\\u4e8e\\u502b\", \"\\u67ef\\u5efa\\u9298\", \"\\u67ef\\u6587\", \"\\u67ef\\u6587\", \"\\u67ef\\u6587\", \"\\u67ef\\u6587\", \"\\u6843\\u5712\", \"\\u6843\\u5712\", \"\\u6843\\u5712\", \"\\u6843\\u5712\", \"\\u6843\\u5712\", \"\\u6843\\u5712\", \"\\u6843\\u5712\", \"\\u694a\\u4e9e\\u4f9d\", \"\\u694a\\u5bf6\\u6968\", \"\\u6a5f\\u6703\", \"\\u6a5f\\u6703\", \"\\u6a5f\\u6703\", \"\\u6a5f\\u6703\", \"\\u6a5f\\u6703\", \"\\u6a5f\\u6703\", \"\\u6a5f\\u6703\", \"\\u6a5f\\u7387\", \"\\u6a5f\\u7387\", \"\\u6a5f\\u7387\", \"\\u6a5f\\u7387\", \"\\u6a5f\\u8eca\", \"\\u6a5f\\u8eca\", \"\\u6a5f\\u8eca\", \"\\u6aa2\\u51fa\", \"\\u6aa2\\u8abf\", \"\\u6aa2\\u9ad4\", \"\\u6b65\\u9053\", \"\\u6b65\\u9053\", \"\\u6bd4\\u8cfd\", \"\\u6bd4\\u8cfd\", \"\\u6bd4\\u8cfd\", \"\\u6bd4\\u8cfd\", \"\\u6c11\\u4e3b\", \"\\u6c11\\u4e3b\", \"\\u6c11\\u4e3b\", \"\\u6c11\\u773e\", \"\\u6c11\\u773e\", \"\\u6c11\\u773e\", \"\\u6c11\\u773e\", \"\\u6c11\\u773e\", \"\\u6c11\\u773e\", \"\\u6c11\\u773e\", \"\\u6c11\\u9032\\u9ee8\", \"\\u6c11\\u9032\\u9ee8\", \"\\u6c11\\u9032\\u9ee8\", \"\\u6c11\\u9032\\u9ee8\", \"\\u6c11\\u9032\\u9ee8\", \"\\u6c23\\u6eab\", \"\\u6c23\\u6eab\", \"\\u6c23\\u8c61\", \"\\u6c23\\u8c61\", \"\\u6c23\\u8c61\", \"\\u6c23\\u8c61\", \"\\u6c34\\u539f\", \"\\u6c34\\u539f\", \"\\u6c34\\u539f\", \"\\u6c34\\u539f\", \"\\u6c34\\u6c23\", \"\\u6cd5\\u6848\", \"\\u6cd5\\u6848\", \"\\u6d17\\u9322\", \"\\u6d17\\u9322\", \"\\u6d17\\u9322\", \"\\u6d3b\\u52d5\", \"\\u6d3b\\u52d5\", \"\\u6d3b\\u52d5\", \"\\u6d3b\\u52d5\", \"\\u6d3b\\u52d5\", \"\\u6d3b\\u52d5\", \"\\u6d3b\\u52d5\", \"\\u6d3e\\u51fa\\u6240\", \"\\u6d3e\\u51fa\\u6240\", \"\\u6d3e\\u54e1\", \"\\u6d3e\\u54e1\", \"\\u6d77\\u5de1\", \"\\u6d88\\u9632\\u5c40\", \"\\u6d88\\u9632\\u5c40\", \"\\u6d88\\u9632\\u5c40\", \"\\u6d89\\u5165\", \"\\u6d89\\u5165\", \"\\u6d89\\u5acc\", \"\\u6d89\\u5acc\", \"\\u6d89\\u5acc\", \"\\u6d89\\u6848\", \"\\u6d89\\u6848\", \"\\u6e05\\u767d\", \"\\u6e56\\u4eba\", \"\\u6e56\\u4eba\", \"\\u6e96\\u95a3\", \"\\u6eab\\u5ea6\", \"\\u6eab\\u5ea6\", \"\\u6eab\\u6717\\u6771\", \"\\u6f14\\u51fa\", \"\\u6f14\\u51fa\", \"\\u6f14\\u51fa\", \"\\u6f14\\u51fa\", \"\\u6f14\\u51fa\", \"\\u6f14\\u54e1\", \"\\u6f14\\u54e1\", \"\\u6f14\\u54e1\", \"\\u6f14\\u5531\\u6703\", \"\\u6f14\\u5531\\u6703\", \"\\u6f14\\u5531\\u6703\", \"\\u6f14\\u5531\\u6703\", \"\\u6f5b\\u8266\", \"\\u6f8e\\u6e56\", \"\\u707d\\u5340\", \"\\u707d\\u5340\", \"\\u707d\\u5bb3\", \"\\u707d\\u5bb3\", \"\\u707d\\u60c5\", \"\\u707d\\u60c5\", \"\\u707d\\u640d\", \"\\u707d\\u6c11\", \"\\u7121\\u4eba\\u6a5f\", \"\\u7121\\u4eba\\u6a5f\", \"\\u7121\\u4eba\\u6a5f\", \"\\u71b1\\u706b\", \"\\u71b1\\u9580\", \"\\u71b1\\u9580\", \"\\u71b1\\u9580\", \"\\u71b1\\u9580\", \"\\u71b1\\u9580\", \"\\u71b1\\u9580\", \"\\u71b1\\u9580\", \"\\u7238\\u7238\", \"\\u7238\\u7238\", \"\\u7238\\u7238\", \"\\u7238\\u7238\", \"\\u7238\\u7238\", \"\\u7238\\u7238\", \"\\u7238\\u7238\", \"\\u72af\\u6cd5\", \"\\u72af\\u7f6a\", \"\\u72af\\u7f6a\", \"\\u72af\\u7f6a\", \"\\u734e\\u52f5\", \"\\u7368\\u62ff\\u5206\", \"\\u7372\\u5831\", \"\\u7372\\u5831\", \"\\u7372\\u5831\", \"\\u7372\\u5831\", \"\\u7375\\u9df9\", \"\\u738b\\u54c1\", \"\\u738b\\u54c1\", \"\\u73cd\\u60dc\", \"\\u73cd\\u60dc\", \"\\u73cd\\u60dc\", \"\\u73fe\\u5728\", \"\\u73fe\\u5728\", \"\\u73fe\\u5728\", \"\\u73fe\\u5728\", \"\\u73fe\\u5728\", \"\\u73fe\\u5728\", \"\\u73fe\\u5728\", \"\\u73fe\\u5834\", \"\\u73fe\\u5834\", \"\\u73fe\\u5834\", \"\\u73fe\\u5834\", \"\\u73fe\\u5834\", \"\\u73fe\\u5834\", \"\\u73fe\\u5834\", \"\\u7403\\u54e1\", \"\\u7403\\u54e1\", \"\\u7403\\u54e1\", \"\\u7403\\u5718\", \"\\u7403\\u5718\", \"\\u7403\\u5834\", \"\\u7403\\u5834\", \"\\u7403\\u5834\", \"\\u7403\\u5834\", \"\\u7403\\u8ff7\", \"\\u7403\\u8ff7\", \"\\u7403\\u8ff7\", \"\\u7403\\u8ff7\", \"\\u751f\\u65e5\", \"\\u751f\\u65e5\", \"\\u751f\\u65e5\", \"\\u751f\\u6d3b\", \"\\u751f\\u6d3b\", \"\\u751f\\u6d3b\", \"\\u751f\\u6d3b\", \"\\u751f\\u6d3b\", \"\\u751f\\u6d3b\", \"\\u751f\\u6d3b\", \"\\u751f\\u8096\", \"\\u7537\\u5b50\", \"\\u7537\\u5b50\", \"\\u7537\\u5b50\", \"\\u7537\\u5b50\", \"\\u7537\\u5b50\", \"\\u7537\\u5b50\", \"\\u7537\\u5b50\", \"\\u75be\\u7ba1\\u7f72\", \"\\u75c5\\u623f\", \"\\u75c5\\u623f\", \"\\u75c7\\u72c0\", \"\\u75c7\\u72c0\", \"\\u767c\\u5c04\", \"\\u767c\\u6587\", \"\\u767c\\u6587\", \"\\u767c\\u6587\", \"\\u767c\\u6587\", \"\\u767c\\u6587\", \"\\u767c\\u6587\", \"\\u767c\\u6587\", \"\\u767c\\u73fe\", \"\\u767c\\u73fe\", \"\\u767c\\u73fe\", \"\\u767c\\u73fe\", \"\\u767c\\u73fe\", \"\\u767c\\u73fe\", \"\\u767c\\u73fe\", \"\\u767c\\u751f\", \"\\u767c\\u751f\", \"\\u767c\\u751f\", \"\\u767c\\u751f\", \"\\u767c\\u751f\", \"\\u767c\\u751f\", \"\\u767c\\u751f\", \"\\u767d\\u5929\", \"\\u76e3\\u59d4\", \"\\u76e7\\u7e23\", \"\\u76e7\\u7e23\", \"\\u76ee\\u524d\", \"\\u76ee\\u524d\", \"\\u76ee\\u524d\", \"\\u76ee\\u524d\", \"\\u76ee\\u524d\", \"\\u76ee\\u524d\", \"\\u76ee\\u524d\", \"\\u76f8\\u95dc\", \"\\u76f8\\u95dc\", \"\\u76f8\\u95dc\", \"\\u76f8\\u95dc\", \"\\u76f8\\u95dc\", \"\\u76f8\\u95dc\", \"\\u76f8\\u95dc\", \"\\u770b\\u5230\", \"\\u770b\\u5230\", \"\\u770b\\u5230\", \"\\u770b\\u5230\", \"\\u770b\\u5230\", \"\\u770b\\u5230\", \"\\u770b\\u5230\", \"\\u771f\\u7684\", \"\\u771f\\u7684\", \"\\u771f\\u7684\", \"\\u771f\\u7684\", \"\\u771f\\u7684\", \"\\u771f\\u7684\", \"\\u771f\\u7684\", \"\\u77e5\\u9053\", \"\\u77e5\\u9053\", \"\\u77e5\\u9053\", \"\\u77e5\\u9053\", \"\\u77e5\\u9053\", \"\\u77e5\\u9053\", \"\\u77e5\\u9053\", \"\\u77ed\\u66ab\", \"\\u77ed\\u66ab\", \"\\u77ed\\u66ab\", \"\\u77ed\\u66ab\", \"\\u795d\\u798f\", \"\\u795d\\u798f\", \"\\u795d\\u798f\", \"\\u795d\\u798f\", \"\\u7981\\u898b\", \"\\u79ae\\u8c8c\", \"\\u79c1\\u5bc6\", \"\\u79d8\\u66f8\\u9577\", \"\\u79d8\\u66f8\\u9577\", \"\\u79d8\\u66f8\\u9577\", \"\\u7a7a\\u8ecd\", \"\\u7acb\\u5373\", \"\\u7acb\\u5373\", \"\\u7acb\\u5373\", \"\\u7acb\\u5373\", \"\\u7acb\\u5373\", \"\\u7acb\\u5373\", \"\\u7acb\\u5373\", \"\\u7acb\\u59d4\", \"\\u7acb\\u59d4\", \"\\u7acb\\u59d4\", \"\\u7acb\\u59d4\", \"\\u7acb\\u59d4\", \"\\u7acb\\u6cd5\\u9662\", \"\\u7acb\\u6cd5\\u9662\", \"\\u7acb\\u6cd5\\u9662\", \"\\u7acb\\u6cd5\\u9662\", \"\\u7acb\\u6cd5\\u9662\", \"\\u7acb\\u8a00\", \"\\u7af9\\u5e02\", \"\\u7b2c\\u671f\", \"\\u7b2c\\u9ede\", \"\\u7bc0\\u76ee\", \"\\u7bc0\\u76ee\", \"\\u7bc0\\u76ee\", \"\\u7bc0\\u76ee\", \"\\u7bc0\\u76ee\", \"\\u7c43\\u677f\", \"\\u7c43\\u677f\", \"\\u7c89\\u7d72\", \"\\u7c89\\u7d72\", \"\\u7c89\\u7d72\", \"\\u7c89\\u7d72\", \"\\u7c89\\u7d72\", \"\\u7c89\\u7d72\", \"\\u7c89\\u7d72\", \"\\u7cfb\\u5217\", \"\\u7cfb\\u5217\", \"\\u7cfb\\u5217\", \"\\u7cfb\\u5217\", \"\\u7cfb\\u5217\", \"\\u7cfb\\u5217\", \"\\u7cfb\\u7d71\", \"\\u7cfb\\u7d71\", \"\\u7cfb\\u7d71\", \"\\u7cfb\\u7d71\", \"\\u7cfb\\u7d71\", \"\\u7cfb\\u7d71\", \"\\u7d71\\u795e\", \"\\u7d93\\u6fdf\\u90e8\\u9577\", \"\\u7d93\\u6fdf\\u90e8\\u9577\", \"\\u7dad\\u7e6b\", \"\\u7db2\\u53cb\", \"\\u7db2\\u53cb\", \"\\u7db2\\u53cb\", \"\\u7db2\\u53cb\", \"\\u7db2\\u53cb\", \"\\u7db2\\u53cb\", \"\\u7db2\\u53cb\", \"\\u7de9\\u5211\", \"\\u7e23\\u5e9c\", \"\\u7e3d\\u53ec\", \"\\u7e3d\\u7d71\", \"\\u7e3d\\u7d71\", \"\\u7e3d\\u7d71\", \"\\u7e3d\\u7d71\", \"\\u7e3d\\u7d71\", \"\\u7f88\\u62bc\", \"\\u7f88\\u62bc\", \"\\u7f88\\u62bc\", \"\\u7f8e\\u570b\", \"\\u7f8e\\u570b\", \"\\u7f8e\\u570b\", \"\\u7f8e\\u570b\", \"\\u7f8e\\u570b\", \"\\u7f8e\\u570b\", \"\\u7f8e\\u570b\", \"\\u7fa9\\u6d88\", \"\\u7fd2\\u4e8c\\u6703\", \"\\u7fd2\\u8fd1\\u5e73\", \"\\u7fd4\\u5e73\", \"\\u7fd4\\u5e73\", \"\\u7fd4\\u5e73\", \"\\u8001\\u516c\", \"\\u8001\\u516c\", \"\\u8001\\u516c\", \"\\u8001\\u516c\", \"\\u8003\\u53d6\", \"\\u806f\\u76df\", \"\\u806f\\u76df\", \"\\u806f\\u76df\", \"\\u806f\\u76df\", \"\\u806f\\u76df\", \"\\u8087\\u4e8b\", \"\\u8179\\u7009\", \"\\u8179\\u7009\", \"\\u81c9\\u66f8\", \"\\u81c9\\u66f8\", \"\\u81c9\\u66f8\", \"\\u81c9\\u66f8\", \"\\u81c9\\u66f8\", \"\\u81c9\\u66f8\", \"\\u81c9\\u66f8\", \"\\u81f3\\u5ea6\", \"\\u81fa\\u4e2d\\u5e02\", \"\\u81fa\\u4e2d\\u5e02\", \"\\u81fa\\u5317\\u5e02\", \"\\u81fa\\u5317\\u5e02\", \"\\u8212\\u9069\", \"\\u8212\\u9069\", \"\\u8212\\u9069\", \"\\u8212\\u9069\", \"\\u8212\\u9069\", \"\\u8212\\u9069\", \"\\u82ae\\u6c0f\", \"\\u82b1\\u84ee\", \"\\u82b1\\u84ee\", \"\\u82b1\\u84ee\", \"\\u82b1\\u84ee\", \"\\u82b1\\u84ee\", \"\\u82b1\\u84ee\", \"\\u82b1\\u84ee\\u7e23\", \"\\u82b1\\u84ee\\u7e23\", \"\\u82b1\\u84ee\\u7e23\", \"\\u842c\\u5143\", \"\\u842c\\u5143\", \"\\u842c\\u5143\", \"\\u842c\\u5143\", \"\\u842c\\u5143\", \"\\u842c\\u5143\", \"\\u842c\\u5143\", \"\\u842c\\u5b89\", \"\\u842c\\u5b89\", \"\\u842c\\u5b89\", \"\\u842c\\u5b89\", \"\\u842c\\u5b89\", \"\\u842c\\u7f8e\\u5143\", \"\\u842c\\u7f8e\\u5143\", \"\\u842c\\u7f8e\\u5143\", \"\\u842c\\u7f8e\\u5143\", \"\\u8449\\u4fdd\\u5f1f\", \"\\u856d\\u65ed\\u5c91\", \"\\u85cd\\u767d\", \"\\u8607\\u6fb3\", \"\\u8607\\u82b1\\u516c\\u8def\", \"\\u884c\\u4eba\", \"\\u884c\\u70ba\", \"\\u884c\\u70ba\", \"\\u884c\\u70ba\", \"\\u884c\\u70ba\", \"\\u884c\\u70ba\", \"\\u884c\\u70ba\", \"\\u884c\\u70ba\", \"\\u884c\\u8eca\", \"\\u884c\\u8eca\", \"\\u884c\\u8eca\", \"\\u884c\\u99db\", \"\\u885b\\u751f\", \"\\u885b\\u751f\", \"\\u885b\\u751f\", \"\\u885b\\u751f\\u5c40\", \"\\u885b\\u751f\\u5c40\", \"\\u885b\\u751f\\u5c40\", \"\\u885b\\u751f\\u5c40\", \"\\u885b\\u751f\\u5c40\", \"\\u8868\\u6c7a\", \"\\u88dc\\u52a9\", \"\\u88dc\\u52a9\", \"\\u88dc\\u52a9\", \"\\u88dc\\u52a9\", \"\\u88dc\\u52a9\", \"\\u8981\\u6c42\", \"\\u8981\\u6c42\", \"\\u8981\\u6c42\", \"\\u8981\\u6c42\", \"\\u8981\\u6c42\", \"\\u8981\\u6c42\", \"\\u8981\\u6c42\", \"\\u898f\\u5b9a\", \"\\u898f\\u5b9a\", \"\\u898f\\u5b9a\", \"\\u898f\\u5b9a\", \"\\u898f\\u5b9a\", \"\\u898f\\u5b9a\", \"\\u898f\\u5b9a\", \"\\u898f\\u6a21\", \"\\u898f\\u6a21\", \"\\u898f\\u6a21\", \"\\u89ba\\u5f97\", \"\\u89ba\\u5f97\", \"\\u89ba\\u5f97\", \"\\u89ba\\u5f97\", \"\\u89ba\\u5f97\", \"\\u89ba\\u5f97\", \"\\u89c0\\u5149\", \"\\u89c0\\u5149\", \"\\u89c0\\u5149\", \"\\u89c0\\u5149\", \"\\u89c0\\u5149\", \"\\u89d2\\u8272\", \"\\u89d2\\u8272\", \"\\u89d2\\u8272\", \"\\u89d2\\u8272\", \"\\u89d2\\u8272\", \"\\u89d2\\u8272\", \"\\u89d2\\u8272\", \"\\u8a18\\u5206\", \"\\u8a2a\\u554f\", \"\\u8a2a\\u554f\", \"\\u8a2a\\u554f\", \"\\u8a2d\\u8a08\", \"\\u8a2d\\u8a08\", \"\\u8a2d\\u8a08\", \"\\u8a2d\\u8a08\", \"\\u8a2d\\u8a08\", \"\\u8a2d\\u8a08\", \"\\u8a31\\u591a\", \"\\u8a31\\u591a\", \"\\u8a31\\u591a\", \"\\u8a31\\u591a\", \"\\u8a31\\u591a\", \"\\u8a31\\u591a\", \"\\u8a31\\u591a\", \"\\u8a50\\u6b3a\", \"\\u8a50\\u6b3a\", \"\\u8a50\\u6b3a\", \"\\u8a50\\u6b3a\", \"\\u8a50\\u9a19\", \"\\u8a50\\u9a19\", \"\\u8a50\\u9a19\", \"\\u8a50\\u9a19\", \"\\u8a50\\u9a19\", \"\\u8a50\\u9a19\\u6848\", \"\\u8a50\\u9a19\\u6848\", \"\\u8a79\\u59c6\\u58eb\", \"\\u8a79\\u59c6\\u58eb\", \"\\u8a79\\u59c6\\u58eb\", \"\\u8abf\\u5ea6\", \"\\u8abf\\u67e5\", \"\\u8abf\\u67e5\", \"\\u8abf\\u67e5\", \"\\u8abf\\u67e5\", \"\\u8abf\\u67e5\", \"\\u8abf\\u67e5\", \"\\u8abf\\u67e5\", \"\\u8b1d\\u6dd1\\u8587\", \"\\u8b1d\\u6dd1\\u8587\", \"\\u8b1d\\u6dd1\\u8587\", \"\\u8b49\\u64da\", \"\\u8b49\\u64da\", \"\\u8b49\\u64da\", \"\\u8b49\\u64da\", \"\\u8b66\\u54e1\", \"\\u8b66\\u54e1\", \"\\u8b66\\u65b9\", \"\\u8b66\\u65b9\", \"\\u8b66\\u65b9\", \"\\u8b66\\u65b9\", \"\\u8b66\\u65b9\", \"\\u8b70\\u4e8b\", \"\\u8b77\\u77ed\", \"\\u8cd1\\u707d\", \"\\u8cd1\\u707d\", \"\\u8cea\\u7591\", \"\\u8cea\\u7591\", \"\\u8cea\\u7591\", \"\\u8cea\\u7591\", \"\\u8cea\\u7591\", \"\\u8cea\\u7591\", \"\\u8cf4\\u6e05\\u5fb7\", \"\\u8cf4\\u6e05\\u5fb7\", \"\\u8d77\\u8a34\", \"\\u8d77\\u8a34\", \"\\u8d77\\u8a34\", \"\\u8def\\u53e3\", \"\\u8def\\u6bb5\", \"\\u8def\\u6bb5\", \"\\u8def\\u6bb5\", \"\\u8def\\u6bb5\", \"\\u8eca\\u798d\", \"\\u8eca\\u798d\", \"\\u8eca\\u798d\", \"\\u8eca\\u798d\", \"\\u8eca\\u8f1b\", \"\\u8eca\\u8f1b\", \"\\u8eca\\u8f1b\", \"\\u8eca\\u8f1b\", \"\\u8eca\\u9053\", \"\\u8fad\\u8077\", \"\\u8fad\\u8077\", \"\\u8fad\\u8077\", \"\\u8fd1\\u6d77\", \"\\u9001\\u91ab\", \"\\u9001\\u91ab\", \"\\u9001\\u91ab\", \"\\u9001\\u91ab\", \"\\u9001\\u91ab\", \"\\u9001\\u91ab\", \"\\u900f\\u904e\", \"\\u900f\\u904e\", \"\\u900f\\u904e\", \"\\u900f\\u904e\", \"\\u900f\\u904e\", \"\\u900f\\u904e\", \"\\u900f\\u904e\", \"\\u900f\\u9732\", \"\\u900f\\u9732\", \"\\u900f\\u9732\", \"\\u900f\\u9732\", \"\\u900f\\u9732\", \"\\u900f\\u9732\", \"\\u900f\\u9732\", \"\\u9019\\u6b21\", \"\\u9019\\u6b21\", \"\\u9019\\u6b21\", \"\\u9019\\u6b21\", \"\\u9019\\u6b21\", \"\\u9019\\u6b21\", \"\\u9019\\u6b21\", \"\\u901a\\u8eca\", \"\\u9020\\u6210\", \"\\u9020\\u6210\", \"\\u9020\\u6210\", \"\\u9020\\u6210\", \"\\u9020\\u6210\", \"\\u9020\\u6210\", \"\\u9020\\u6210\", \"\\u9023\\u9023\\u770b\", \"\\u9032\\u884c\", \"\\u9032\\u884c\", \"\\u9032\\u884c\", \"\\u9032\\u884c\", \"\\u9032\\u884c\", \"\\u9032\\u884c\", \"\\u9032\\u884c\", \"\\u904b\\u52e2\", \"\\u904b\\u52e2\", \"\\u904e\\u53bb\", \"\\u904e\\u53bb\", \"\\u904e\\u53bb\", \"\\u904e\\u53bb\", \"\\u904e\\u53bb\", \"\\u904e\\u53bb\", \"\\u904e\\u53bb\", \"\\u9053\\u5947\", \"\\u9053\\u5947\", \"\\u9053\\u5947\", \"\\u9053\\u6b49\", \"\\u9053\\u6b49\", \"\\u9053\\u6b49\", \"\\u9055\\u898f\", \"\\u9055\\u898f\", \"\\u9055\\u898f\", \"\\u9055\\u898f\", \"\\u907a\\u9ad4\", \"\\u907a\\u9ad4\", \"\\u90e8\\u9577\", \"\\u90e8\\u9577\", \"\\u90e8\\u9577\", \"\\u90ed\\u667a\\u8f1d\", \"\\u90ed\\u667a\\u8f1d\", \"\\u9127\\u6137\\u5a01\", \"\\u9175\\u83cc\\u9178\", \"\\u91ab\\u5e2b\", \"\\u91ab\\u5e2b\", \"\\u91ab\\u5e2b\", \"\\u91ab\\u5e2b\", \"\\u91ab\\u5e2b\", \"\\u91ab\\u5e2b\", \"\\u91ab\\u5e2b\", \"\\u91ab\\u9662\", \"\\u91ab\\u9662\", \"\\u91ab\\u9662\", \"\\u91ab\\u9662\", \"\\u91ab\\u9662\", \"\\u91ab\\u9662\", \"\\u91ab\\u9662\", \"\\u91cd\\u5efa\", \"\\u91cd\\u5efa\", \"\\u91cd\\u5efa\", \"\\u91cd\\u5efa\", \"\\u91cd\\u75c7\", \"\\u91cd\\u75c7\", \"\\u91d0\\u6e05\", \"\\u91d0\\u6e05\", \"\\u91d0\\u6e05\", \"\\u91d0\\u6e05\", \"\\u91d0\\u6e05\", \"\\u91d0\\u6e05\", \"\\u91d1\\u584a\", \"\\u91d1\\u584a\", \"\\u91d1\\u584a\", \"\\u9280\\u884c\", \"\\u9280\\u884c\", \"\\u9280\\u884c\", \"\\u9280\\u884c\", \"\\u9280\\u884c\", \"\\u9280\\u884c\", \"\\u92d2\\u9762\", \"\\u9577\\u6c99\", \"\\u958b\\u5fc3\", \"\\u958b\\u5fc3\", \"\\u958b\\u5fc3\", \"\\u958b\\u5fc3\", \"\\u958b\\u5fc3\", \"\\u958b\\u5fc3\", \"\\u9644\\u52a0\\u8cfd\", \"\\u9644\\u52a0\\u8cfd\", \"\\u964d\\u96e8\", \"\\u9663\\u96e8\", \"\\u9678\\u8ecd\", \"\\u96a7\\u9053\", \"\\u96a7\\u9053\", \"\\u96d9\\u6253\", \"\\u96e8\\u52e2\", \"\\u96f7\\u96e8\", \"\\u96f7\\u96e8\", \"\\u96fb\\u5f71\", \"\\u96fb\\u5f71\", \"\\u96fb\\u5f71\", \"\\u96fb\\u5f71\", \"\\u96fb\\u5f71\", \"\\u96fb\\u5f71\", \"\\u9707\\u592e\", \"\\u9707\\u5ea6\\u7d1a\", \"\\u9707\\u707d\", \"\\u97cc\\u5e36\", \"\\u97ff\\u61c9\", \"\\u9810\\u5831\", \"\\u98db\\u5f48\", \"\\u98db\\u5f48\", \"\\u98db\\u5f48\", \"\\u98df\\u54c1\", \"\\u98df\\u54c1\", \"\\u98df\\u54c1\", \"\\u98df\\u54c1\", \"\\u98df\\u5b89\", \"\\u98df\\u5b89\", \"\\u98df\\u6750\", \"\\u98df\\u6750\", \"\\u98df\\u6750\", \"\\u98df\\u7269\\u4e2d\\u6bd2\", \"\\u98df\\u7269\\u4e2d\\u6bd2\", \"\\u98df\\u7269\\u4e2d\\u6bd2\", \"\\u98df\\u7269\\u4e2d\\u6bd2\", \"\\u98fe\\u6f14\", \"\\u98fe\\u6f14\", \"\\u9910\\u5ef3\", \"\\u9910\\u5ef3\", \"\\u9910\\u5ef3\", \"\\u9910\\u5ef3\", \"\\u9910\\u5ef3\", \"\\u9910\\u5ef3\", \"\\u9918\\u9707\", \"\\u9918\\u9707\", \"\\u9999\\u6ab3\", \"\\u99ac\\u62c9\\u677e\", \"\\u99ac\\u82f1\\u4e5d\", \"\\u99ac\\u82f1\\u4e5d\", \"\\u99d5\\u99db\", \"\\u9a0e\\u58eb\", \"\\u9a0e\\u58eb\", \"\\u9a0e\\u58eb\", \"\\u9ad4\\u529b\", \"\\u9ad4\\u529b\", \"\\u9ad4\\u91cd\", \"\\u9ad4\\u91cd\", \"\\u9ad8\\u516c\\u5c40\", \"\\u9ad8\\u6821\", \"\\u9ad8\\u6821\", \"\\u9ad8\\u6eab\", \"\\u9ad8\\u96c4\", \"\\u9ad8\\u96c4\", \"\\u9ad8\\u96c4\", \"\\u9ad8\\u96c4\", \"\\u9ad8\\u96c4\", \"\\u9ad8\\u96c4\", \"\\u9ad8\\u96c4\", \"\\u9ad8\\u96c4\\u5e02\", \"\\u9ad8\\u96c4\\u5e02\", \"\\u9ad8\\u96c4\\u5e02\", \"\\u9ad8\\u96c4\\u5e02\", \"\\u9ad8\\u96c4\\u5e02\", \"\\u9ad8\\u96c4\\u5e02\", \"\\u9ec3\\u570b\", \"\\u9ec3\\u570b\", \"\\u9ec3\\u5b50\\u4f7c\", \"\\u9ec3\\u5b50\\u4f7c\", \"\\u9ec3\\u5b50\\u4f7c\", \"\\u9ed1\\u5609\\u5609\", \"\\u9ee8\\u5718\", \"\\u9ee8\\u5718\", \"\\u9ee8\\u5718\", \"\\u9ee8\\u5718\"]}, \"R\": 30, \"lambda.step\": 0.01, \"plot.opts\": {\"xlab\": \"PC1\", \"ylab\": \"PC2\"}, \"topic.order\": [3, 6, 7, 1, 5, 2, 4]};\n",
       "\n",
       "function LDAvis_load_lib(url, callback){\n",
       "  var s = document.createElement('script');\n",
       "  s.src = url;\n",
       "  s.async = true;\n",
       "  s.onreadystatechange = s.onload = callback;\n",
       "  s.onerror = function(){console.warn(\"failed to load library \" + url);};\n",
       "  document.getElementsByTagName(\"head\")[0].appendChild(s);\n",
       "}\n",
       "\n",
       "if(typeof(LDAvis) !== \"undefined\"){\n",
       "   // already loaded: just create the visualization\n",
       "   !function(LDAvis){\n",
       "       new LDAvis(\"#\" + \"ldavis_el2225621826178357606521073430\", ldavis_el2225621826178357606521073430_data);\n",
       "   }(LDAvis);\n",
       "}else if(typeof define === \"function\" && define.amd){\n",
       "   // require.js is available: use it to load d3/LDAvis\n",
       "   require.config({paths: {d3: \"https://d3js.org/d3.v5\"}});\n",
       "   require([\"d3\"], function(d3){\n",
       "      window.d3 = d3;\n",
       "      LDAvis_load_lib(\"https://cdn.jsdelivr.net/gh/bmabey/pyLDAvis@3.4.0/pyLDAvis/js/ldavis.v3.0.0.js\", function(){\n",
       "        new LDAvis(\"#\" + \"ldavis_el2225621826178357606521073430\", ldavis_el2225621826178357606521073430_data);\n",
       "      });\n",
       "    });\n",
       "}else{\n",
       "    // require.js not available: dynamically load d3 & LDAvis\n",
       "    LDAvis_load_lib(\"https://d3js.org/d3.v5.js\", function(){\n",
       "         LDAvis_load_lib(\"https://cdn.jsdelivr.net/gh/bmabey/pyLDAvis@3.4.0/pyLDAvis/js/ldavis.v3.0.0.js\", function(){\n",
       "                 new LDAvis(\"#\" + \"ldavis_el2225621826178357606521073430\", ldavis_el2225621826178357606521073430_data);\n",
       "            })\n",
       "         });\n",
       "}\n",
       "</script>"
      ],
      "text/plain": [
       "PreparedData(topic_coordinates=              x         y  topics  cluster       Freq\n",
       "topic                                                \n",
       "2     -0.152462 -0.054645       1        1  21.873185\n",
       "5      0.080040  0.036452       2        1  18.812303\n",
       "6     -0.102863  0.177400       3        1  15.097580\n",
       "0      0.141846  0.114905       4        1  13.677736\n",
       "4     -0.146757  0.024820       5        1  12.656407\n",
       "1     -0.071849 -0.215154       6        1  10.514215\n",
       "3      0.252044 -0.083778       7        1   7.368575, topic_info=      Term         Freq        Total Category  logprob  loglift\n",
       "9886    大谷  1259.000000  1259.000000  Default  30.0000  30.0000\n",
       "4380    地震  1681.000000  1681.000000  Default  29.0000  29.0000\n",
       "4424    花蓮  1568.000000  1568.000000  Default  28.0000  28.0000\n",
       "8278   民進黨  1206.000000  1206.000000  Default  27.0000  27.0000\n",
       "10811  國民黨  1207.000000  1207.000000  Default  26.0000  26.0000\n",
       "...    ...          ...          ...      ...      ...      ...\n",
       "10104  高雄市   170.341630   286.078924   Topic7  -5.6298   2.0895\n",
       "39      影響   241.882925   887.763537   Topic7  -5.2791   1.3077\n",
       "1788    萬元   210.578928   888.167678   Topic7  -5.4177   1.1686\n",
       "894     指出   196.477185  1485.565881   Topic7  -5.4871   0.5849\n",
       "977     台灣   191.018701  3015.332593   Topic7  -5.5152  -0.1511\n",
       "\n",
       "[537 rows x 6 columns], token_table=      Topic      Freq Term\n",
       "term                      \n",
       "753       1  0.114003   一名\n",
       "753       2  0.005846   一名\n",
       "753       3  0.220698   一名\n",
       "753       4  0.482320   一名\n",
       "753       5  0.002923   一名\n",
       "...     ...       ...  ...\n",
       "4473      1  0.974353  黑嘉嘉\n",
       "8586      1  0.002328   黨團\n",
       "8586      2  0.002328   黨團\n",
       "8586      3  0.090774   黨團\n",
       "8586      5  0.905414   黨團\n",
       "\n",
       "[1500 rows x 3 columns], R=30, lambda_step=0.01, plot_opts={'xlab': 'PC1', 'ylab': 'PC2'}, topic_order=[3, 6, 7, 1, 5, 2, 4])"
      ]
     },
     "execution_count": 42,
     "metadata": {},
     "output_type": "execute_result"
    }
   ],
   "source": [
    "pyLDAvis.enable_notebook()\n",
    "p = pyLDAvis.gensim_models.prepare(model_7, corpus, dictionary)\n",
    "p"
   ]
  },
  {
   "cell_type": "markdown",
   "metadata": {},
   "source": [
    "* 主題一：國際、兩岸相關新聞\n",
    "* 主題二：地震\n",
    "* 主題三：負面社會新聞\n",
    "* 主題四：戰爭、交通相關新聞\n",
    "* 主題五：政治\n",
    "* 主題六：主要為運動賽事\n",
    "* 主題七：主要和天氣相關\n"
   ]
  },
  {
   "cell_type": "markdown",
   "metadata": {},
   "source": [
    "<font color='#ffa'>\n",
    "從結果可以看出主題 一、五 有些許重疊。\n",
    "從主題字中可以看出主題一主要是在討論兩岸相關議題以及一些娛樂新聞，而主題五則是政治相關。\n",
    "</br></br>\n",
    "圖表中也可以看出主題二和四相當接近，推測是因為戰爭以及地震都是會造成傷亡的負面事件，因此在圖中也較為接近。\n",
    "</font>"
   ]
  },
  {
   "cell_type": "markdown",
   "metadata": {},
   "source": [
    "# 3. GuidedLDA"
   ]
  },
  {
   "cell_type": "code",
   "execution_count": 43,
   "metadata": {},
   "outputs": [],
   "source": [
    "import guidedlda"
   ]
  },
  {
   "cell_type": "code",
   "execution_count": 44,
   "metadata": {},
   "outputs": [
    {
     "data": {
      "text/plain": [
       "('之外', '也許', '代言人', '佩戴', '依然', '側邊', '儀器', '優異', '全新', '兩地')"
      ]
     },
     "execution_count": 44,
     "metadata": {},
     "output_type": "execute_result"
    }
   ],
   "source": [
    "vocab = tuple(dictionary.token2id.keys())\n",
    "vocab[:10]"
   ]
  },
  {
   "cell_type": "code",
   "execution_count": 45,
   "metadata": {},
   "outputs": [],
   "source": [
    "word2id = dictionary.token2id\n"
   ]
  },
  {
   "cell_type": "markdown",
   "metadata": {},
   "source": [
    "### 給予預先定義的 Seed\n",
    "<font color='#ffa'>\n",
    "我們先決定了六個類別，分別是運動、娛樂、汽車、國際、天氣以及政治，並且給予每個類別一些 seed words。\n",
    "</font>"
   ]
  },
  {
   "cell_type": "code",
   "execution_count": 46,
   "metadata": {},
   "outputs": [],
   "source": [
    "seed_topic_ch = ['運動', '娛樂', '汽車', '國際', '天氣', '政治']\n",
    "\n",
    "seed_topic_list = [\n",
    "    [\"聯盟\", \"大谷\", \"球員\", \"比賽\", \"翔平\", \"奧運\", \"球迷\"],\n",
    "    ['粉絲', '電影', '演唱會', '拍攝', '導演', '音樂', '觀眾'],\n",
    "    [\"車主\", \"車輛\", \"汽車\", \"輔助\", \"搭載\", \"車款\", \"性能\"],\n",
    "    [\"中國\", \"美國\", \"以色列\", \"伊朗\", \"攻擊\", \"國家\", \"拜登\"],\n",
    "    [\"天氣\", \"雷雨\", \"醫師\", \"溫度\", \"學校\", \"食物中毒\", \"調查\"],\n",
    "    [\"立委\", \"總統\", \"賴清德\", \"黨團\", \"兩岸\", \"行政院\", \"內閣\"]\n",
    "]"
   ]
  },
  {
   "cell_type": "code",
   "execution_count": 47,
   "metadata": {},
   "outputs": [],
   "source": [
    "seed_topics = {}\n",
    "for t_id, st in enumerate(seed_topic_list):\n",
    "    for word in st:\n",
    "        seed_topics[word2id[word]] = t_id"
   ]
  },
  {
   "cell_type": "code",
   "execution_count": 48,
   "metadata": {},
   "outputs": [],
   "source": [
    "# guidedlda 需要 DTM 格式作為 input，因此這邊利用 corpus2dense() 方法進行轉換\n",
    "X = corpus2dense(corpus, len(dictionary), len(corpus)).T.astype(np.int64)"
   ]
  },
  {
   "cell_type": "code",
   "execution_count": 49,
   "metadata": {},
   "outputs": [
    {
     "name": "stderr",
     "output_type": "stream",
     "text": [
      "2024-05-05 23:51:43,490 : INFO : n_documents: 4492\n",
      "2024-05-05 23:51:43,491 : INFO : vocab_size: 16190\n",
      "2024-05-05 23:51:43,492 : INFO : n_words: 644058\n",
      "2024-05-05 23:51:43,493 : INFO : n_topics: 6\n",
      "2024-05-05 23:51:43,493 : INFO : n_iter: 100\n",
      "2024-05-05 23:51:45,386 : INFO : <0> log likelihood: -7196465\n",
      "2024-05-05 23:51:45,911 : INFO : <20> log likelihood: -5656211\n",
      "2024-05-05 23:51:46,424 : INFO : <40> log likelihood: -5598476\n",
      "2024-05-05 23:51:46,939 : INFO : <60> log likelihood: -5582997\n",
      "2024-05-05 23:51:47,450 : INFO : <80> log likelihood: -5574810\n",
      "2024-05-05 23:51:47,956 : INFO : <99> log likelihood: -5571595\n"
     ]
    },
    {
     "data": {
      "text/plain": [
       "<guidedlda.guidedlda.GuidedLDA at 0x1fc2df55ba0>"
      ]
     },
     "execution_count": 49,
     "metadata": {},
     "output_type": "execute_result"
    }
   ],
   "source": [
    "model = guidedlda.GuidedLDA(n_topics=6, n_iter=100, random_state=7, refresh=20)\n",
    "model.fit(X, seed_topics=seed_topics, seed_confidence=1)"
   ]
  },
  {
   "cell_type": "code",
   "execution_count": 50,
   "metadata": {},
   "outputs": [
    {
     "name": "stdout",
     "output_type": "stream",
     "text": [
      "Topic 運動：黃子佼 影片 網友 發現 一名 事件 未成年 萬元 詐騙 發文\n",
      "Topic 娛樂：台北 粉絲 網友 台灣 活動 真的 覺得 希望 一起 分享\n",
      "Topic 汽車：地震 花蓮 發生 民眾 警方 目前 新聞 熱門 規模 強震\n",
      "Topic 國際：台灣 美國 中國 日本 公司 指出 國際 提供 以色列 外電\n",
      "Topic 天氣：天氣 短暫 地區 陣雨 局部 降雨 機率 多雲 醫師 醫院\n",
      "Topic 政治：民進黨 國民黨 立委 總統 台灣 台北 立法院 政府 賴清德 馬英九\n"
     ]
    },
    {
     "data": {
      "text/html": [
       "\n",
       "<link rel=\"stylesheet\" type=\"text/css\" href=\"https://cdn.jsdelivr.net/gh/bmabey/pyLDAvis@3.4.0/pyLDAvis/js/ldavis.v1.0.0.css\">\n",
       "\n",
       "\n",
       "<div id=\"ldavis_el2225621826178395688259460934\" style=\"background-color:white;\"></div>\n",
       "<script type=\"text/javascript\">\n",
       "\n",
       "var ldavis_el2225621826178395688259460934_data = {\"mdsDat\": {\"x\": [-0.18383534648338445, 0.1665356634002685, -0.1437249560603335, -0.035380794898886285, -0.11838492645487887, 0.31479036049721476], \"y\": [-0.0600155468838745, -0.015324490777329069, -0.23622532013789696, 0.15054197452666004, 0.20267705744993628, -0.0416536741774959], \"topics\": [1, 2, 3, 4, 5, 6], \"cluster\": [1, 1, 1, 1, 1, 1], \"Freq\": [28.142056018865414, 18.907323226879562, 16.689149765942187, 13.959219183005741, 13.634311337703444, 8.667940467603657]}, \"tinfo\": {\"Term\": [\"\\u5730\\u9707\", \"\\u6c11\\u9032\\u9ee8\", \"\\u82b1\\u84ee\", \"\\u9ec3\\u5b50\\u4f7c\", \"\\u7f8e\\u570b\", \"\\u5929\\u6c23\", \"\\u570b\\u6c11\\u9ee8\", \"\\u4e2d\\u570b\", \"\\u7acb\\u59d4\", \"\\u5730\\u5340\", \"\\u77ed\\u66ab\", \"\\u65e5\\u672c\", \"\\u9663\\u96e8\", \"\\u53f0\\u7063\", \"\\u767c\\u751f\", \"\\u7e3d\\u7d71\", \"\\u7c89\\u7d72\", \"\\u5c40\\u90e8\", \"\\u6c11\\u773e\", \"\\u8b66\\u65b9\", \"\\u7db2\\u53cb\", \"\\u7acb\\u6cd5\\u9662\", \"\\u5404\\u5730\", \"\\u964d\\u96e8\", \"\\u898f\\u6a21\", \"\\u91ab\\u9662\", \"\\u591a\\u96f2\", \"\\u6a5f\\u7387\", \"\\u5f37\\u9707\", \"\\u91ab\\u5e2b\", \"\\u7bc0\\u76ee\", \"\\u6f14\\u5531\\u6703\", \"\\u97f3\\u6a02\", \"\\u5c0e\\u6f14\", \"\\u89c0\\u773e\", \"\\u4f5c\\u54c1\", \"\\u98fe\\u6f14\", \"\\u8868\\u6f14\", \"\\u9020\\u578b\", \"\\u6b4c\\u8ff7\", \"\\u6b4c\\u624b\", \"\\u7d93\\u5178\", \"\\u821e\\u53f0\", \"\\u5287\\u4e2d\", \"\\u6642\\u5c1a\", \"\\u6b4c\\u66f2\", \"\\u5145\\u6eff\", \"\\u5973\\u795e\", \"\\u6f14\\u5531\", \"\\u6232\\u5287\", \"\\u611b\\u60c5\", \"\\u5c08\\u8f2f\", \"\\u5973\\u661f\", \"\\u53ef\\u611b\", \"\\u5c71\\u8c6c\", \"\\u958b\\u5531\", \"\\u7f8e\\u98df\", \"\\u751f\\u65e5\", \"\\u6797\\u4e1e\\u5049\", \"\\u4e3b\\u6f14\", \"\\u96fb\\u5f71\", \"\\u958b\\u5fc3\", \"\\u7cfb\\u5217\", \"\\u6f14\\u54e1\", \"\\u6f14\\u51fa\", \"\\u7c89\\u7d72\", \"\\u7d50\\u5a5a\", \"\\u5b9b\\u5982\", \"\\u642d\\u914d\", \"\\u559c\\u6b61\", \"\\u6545\\u4e8b\", \"\\u54c1\\u724c\", \"\\u5206\\u4eab\", \"\\u5168\\u65b0\", \"\\u63a8\\u51fa\", \"\\u5275\\u4f5c\", \"\\u8a2d\\u8a08\", \"\\u89ba\\u5f97\", \"\\u8001\\u5a46\", \"\\u9ad4\\u9a57\", \"\\u771f\\u7684\", \"\\u670b\\u53cb\", \"\\u89d2\\u8272\", \"\\u900f\\u9732\", \"\\u7db2\\u53cb\", \"\\u6d3b\\u52d5\", \"\\u770b\\u5230\", \"\\u4e00\\u8d77\", \"\\u53f0\\u5317\", \"\\u97d3\\u570b\", \"\\u8209\\u8fa6\", \"\\u5e0c\\u671b\", \"\\u62cd\\u651d\", \"\\u53f0\\u7063\", \"\\u7279\\u5225\", \"\\u5de5\\u4f5c\", \"\\u9019\\u6b21\", \"\\u8a31\\u591a\", \"\\u5408\\u4f5c\", \"\\u73fe\\u5834\", \"\\u73fe\\u5728\", \"\\u707d\\u60c5\", \"\\u8eca\\u8f1b\", \"\\u5206\\u5c40\", \"\\u641c\\u6551\", \"\\u53d7\\u56f0\", \"\\u5927\\u7532\", \"\\u6a5f\\u8eca\", \"\\u82ae\\u6c0f\", \"\\u6d88\\u9632\\u5c40\", \"\\u6b65\\u9053\", \"\\u5f35\\u6c9b\\u68ee\", \"\\u570b\\u9053\", \"\\u5f70\\u5316\", \"\\u6389\\u843d\", \"\\u623f\\u5c4b\", \"\\u54e1\\u8b66\", \"\\u6436\\u4fee\", \"\\u5012\\u584c\", \"\\u6d3e\\u51fa\\u6240\", \"\\u7802\\u5361\", \"\\u53f0\\u7dda\", \"\\u901a\\u884c\", \"\\u884c\\u99db\", \"\\u66fe\\u4f73\\u4fca\", \"\\u5931\\u806f\", \"\\u9a0e\\u58eb\", \"\\u8eca\\u9053\", \"\\u62c6\\u9664\", \"\\u50be\\u659c\", \"\\u4e58\\u5ba2\", \"\\u5f37\\u9707\", \"\\u99d5\\u99db\", \"\\u5730\\u9707\", \"\\u898f\\u6a21\", \"\\u5927\\u6a13\", \"\\u9918\\u9707\", \"\\u82b1\\u84ee\", \"\\u61c9\\u8b8a\", \"\\u4e8b\\u6545\", \"\\u9053\\u8def\", \"\\u6642\\u5206\", \"\\u71b1\\u9580\", \"\\u5abd\\u7956\", \"\\u5217\\u8eca\", \"\\u6843\\u5712\", \"\\u707d\\u5bb3\", \"\\u6551\\u63f4\", \"\\u8def\\u6bb5\", \"\\u843d\\u77f3\", \"\\u516c\\u91cc\", \"\\u767c\\u751f\", \"\\u8b66\\u65b9\", \"\\u65b0\\u5317\\u5e02\", \"\\u7acb\\u5373\", \"\\u4eba\\u54e1\", \"\\u65b0\\u805e\", \"\\u4e0a\\u5348\", \"\\u6c11\\u773e\", \"\\u5b89\\u5168\", \"\\u524d\\u5f80\", \"\\u76ee\\u524d\", \"\\u9020\\u6210\", \"\\u73fe\\u5834\", \"\\u82b1\\u84ee\\u7e23\", \"\\u5354\\u52a9\", \"\\u767c\\u73fe\", \"\\u7537\\u5b50\", \"\\u5730\\u5340\", \"\\u53f0\\u5317\", \"\\u6307\\u51fa\", \"\\u9032\\u884c\", \"\\u9ec3\\u5b50\\u4f7c\", \"\\u672a\\u6210\\u5e74\", \"\\u5927\\u8c37\", \"\\u7d71\\u795e\", \"\\u8d77\\u8a34\", \"\\u5075\\u8fa6\", \"\\u5077\\u62cd\", \"\\u7403\\u8ff7\", \"\\u525d\\u524a\", \"\\u7fd4\\u5e73\", \"\\u6027\\u4fb5\", \"\\u6d89\\u5acc\", \"\\u6d17\\u9322\", \"\\u7403\\u968a\", \"\\u5f35\\u5609\\u822a\", \"\\u5ed6\\u67cf\\u748b\", \"\\u6295\\u624b\", \"\\u5224\\u5211\", \"\\u6c34\\u539f\", \"\\u9053\\u5947\", \"\\u63d0\\u544a\", \"\\u51f1\\u51f1\", \"\\u5be9\\u7406\", \"\\u5f92\\u5211\", \"\\u5b5f\\u803f\\u5982\", \"\\u8cfd\\u4e8b\", \"\\u6709\\u671f\\u5f92\\u5211\", \"\\u7b2c\\u671f\", \"\\u5211\\u4e8b\", \"\\u548c\\u89e3\", \"\\u88ab\\u5bb3\\u4eba\", \"\\u7403\\u54e1\", \"\\u6aa2\\u65b9\", \"\\u9053\\u6b49\", \"\\u6cd5\\u5b98\", \"\\u6cd5\\u9662\", \"\\u6301\\u6709\", \"\\u6aa2\\u5bdf\\u5b98\", \"\\u72af\\u7f6a\", \"\\u8a50\\u9a19\", \"\\u79c1\\u623f\", \"\\u53d7\\u5bb3\\u8005\", \"\\u5f8b\\u5e2b\", \"\\u5f71\\u50cf\", \"\\u5c11\\u5973\", \"\\u5152\\u5c11\", \"\\u806f\\u76df\", \"\\u7206\\u6599\", \"\\u5967\\u904b\", \"\\u5f71\\u7247\", \"\\u884c\\u70ba\", \"\\u4e8b\\u4ef6\", \"\\u4e00\\u540d\", \"\\u767c\\u6587\", \"\\u5c0d\\u65b9\", \"\\u7db2\\u53cb\", \"\\u85dd\\u4eba\", \"\\u842c\\u5143\", \"\\u767c\\u73fe\", \"\\u77e5\\u9053\", \"\\u7576\\u6642\", \"\\u81c9\\u66f8\", \"\\u65e5\\u524d\", \"\\u771f\\u7684\", \"\\u53f0\\u5317\", \"\\u8abf\\u67e5\", \"\\u8981\\u6c42\", \"\\u5df2\\u7d93\", \"\\u4ee5\\u8272\\u5217\", \"\\u5916\\u96fb\", \"\\u4f0a\\u6717\", \"\\u62dc\\u767b\", \"\\u98db\\u5f48\", \"\\u65e5\\u5713\", \"\\u70cf\\u514b\\u862d\", \"\\u5468\\u6069\\u83ef\", \"\\u4fc4\\u7f85\\u65af\", \"\\u6709\\u9650\\u516c\\u53f8\", \"\\u8ecd\\u4e8b\", \"\\u4f59\\u5e73\", \"\\u674e\\u5a01\\u7ff0\", \"\\u7e3d\\u7406\", \"\\u5ddd\\u666e\", \"\\u6210\\u672c\", \"\\u7279\\u65af\\u62c9\", \"\\u767c\\u5c04\", \"\\u4eba\\u5de5\\u667a\\u6167\", \"\\u4e2d\\u65b9\", \"\\u7f8e\\u5143\", \"\\u5317\\u97d3\", \"\\u767d\\u5bae\", \"\\u5404\\u570b\", \"\\u7f8e\\u65b9\", \"\\u5357\\u6d77\", \"\\u6cd5\\u65b0\\u793e\", \"\\u8266\\u9577\", \"\\u5370\\u592a\", \"\\u88fd\\u85e5\", \"\\u7f8e\\u570b\", \"\\u7121\\u4eba\\u6a5f\", \"\\u6d77\\u8ecd\", \"\\u5104\\u7f8e\\u5143\", \"\\u65e5\\u672c\", \"\\u4e2d\\u570b\", \"\\u7814\\u7a76\", \"\\u4f01\\u696d\", \"\\u5357\\u97d3\", \"\\u79d1\\u6280\", \"\\u5168\\u7403\", \"\\u570b\\u969b\", \"\\u4e2d\\u592e\\u793e\", \"\\u9019\\u9805\", \"\\u63a1\\u53d6\", \"\\u82f1\\u570b\", \"\\u653b\\u64ca\", \"\\u6fb3\\u6d32\", \"\\u53f0\\u7063\", \"\\u884c\\u52d5\", \"\\u516c\\u53f8\", \"\\u5927\\u5b78\", \"\\u6295\\u8cc7\", \"\\u63d0\\u4f9b\", \"\\u53f0\\u5e63\", \"\\u570b\\u5bb6\", \"\\u8a13\\u7df4\", \"\\u7522\\u54c1\", \"\\u6307\\u51fa\", \"\\u4f7f\\u7528\", \"\\u900f\\u904e\", \"\\u8d85\\u904e\", \"\\u53bb\\u5e74\", \"\\u670d\\u52d9\", \"\\u4eca\\u5e74\", \"\\u5305\\u62ec\", \"\\u5de5\\u4f5c\", \"\\u5b89\\u5168\", \"\\u9032\\u884c\", \"\\u842c\\u5143\", \"\\u5408\\u4f5c\", \"\\u554f\\u984c\", \"\\u6c11\\u9032\\u9ee8\", \"\\u570b\\u6c11\\u9ee8\", \"\\u7acb\\u6cd5\\u9662\", \"\\u8cf4\\u6e05\\u5fb7\", \"\\u99ac\\u82f1\\u4e5d\", \"\\u9ee8\\u5718\", \"\\u5169\\u5cb8\", \"\\u884c\\u653f\\u9662\", \"\\u5353\\u69ae\\u6cf0\", \"\\u79d8\\u66f8\\u9577\", \"\\u5167\\u95a3\", \"\\u6295\\u7968\", \"\\u4eba\\u4e8b\", \"\\u8881\\u8a69\\u7fbd\", \"\\u6c11\\u4e3b\", \"\\u63a5\\u4efb\", \"\\u8868\\u6c7a\", \"\\u9673\\u5efa\\u4ec1\", \"\\u9ec3\\u570b\", \"\\u9078\\u8209\", \"\\u8cd1\\u707d\", \"\\u884c\\u653f\\u9662\\u9577\", \"\\u5433\\u601d\\u7464\", \"\\u7acb\\u6cd5\", \"\\u51fa\\u4efb\", \"\\u8cea\\u8a62\", \"\\u7e3d\\u7d71\\u5e9c\", \"\\u63d0\\u6848\", \"\\u76e7\\u7e23\", \"\\u57f7\\u653f\", \"\\u7acb\\u59d4\", \"\\u4e3b\\u59d4\", \"\\u570b\\u6703\", \"\\u59d4\\u54e1\", \"\\u4e3b\\u5e2d\", \"\\u653f\\u6cbb\", \"\\u90e8\\u9577\", \"\\u63a8\\u52d5\", \"\\u7e3d\\u7d71\", \"\\u67ef\\u6587\", \"\\u9662\\u9577\", \"\\u57fa\\u91d1\\u6703\", \"\\u653f\\u7b56\", \"\\u5e02\\u9577\", \"\\u653f\\u5e9c\", \"\\u672a\\u4f86\", \"\\u793e\\u6703\", \"\\u53f0\\u7063\", \"\\u53f0\\u5317\", \"\\u570b\\u5bb6\", \"\\u652f\\u6301\", \"\\u6c11\\u773e\", \"\\u5e0c\\u671b\", \"\\u64d4\\u4efb\", \"\\u5f37\\u8abf\", \"\\u91dd\\u5c0d\", \"\\u4e2d\\u570b\", \"\\u9663\\u96e8\", \"\\u5c40\\u90e8\", \"\\u591a\\u96f2\", \"\\u96f7\\u96e8\", \"\\u6c23\\u6eab\", \"\\u92d2\\u9762\", \"\\u885b\\u751f\\u5c40\", \"\\u9ad8\\u6eab\", \"\\u81f3\\u5ea6\", \"\\u60b6\\u71b1\", \"\\u75c7\\u72c0\", \"\\u5bf6\\u6797\", \"\\u6771\\u534a\", \"\\u6674\\u6642\\u591a\\u96f2\", \"\\u8179\\u7009\", \"\\u75c5\\u4eba\", \"\\u8336\\u5ba4\", \"\\u75c5\\u60a3\", \"\\u96e8\\u52e2\", \"\\u91cd\\u75c7\", \"\\u6c34\\u6c23\", \"\\u63a5\\u7a2e\", \"\\u764c\\u75c7\", \"\\u6aa2\\u9ad4\", \"\\u5eda\\u5e2b\", \"\\u8178\\u75c5\\u6bd2\", \"\\u5614\\u5410\", \"\\u6aa2\\u51fa\", \"\\u9175\\u83cc\\u9178\", \"\\u52a0\\u8b77\", \"\\u964d\\u96e8\", \"\\u5929\\u6c23\", \"\\u6eab\\u5ea6\", \"\\u5348\\u5f8c\", \"\\u77ed\\u66ab\", \"\\u75c5\\u623f\", \"\\u6a5f\\u7387\", \"\\u60a3\\u8005\", \"\\u767d\\u5929\", \"\\u7a3d\\u67e5\", \"\\u91ab\\u5e2b\", \"\\u5317\\u90e8\", \"\\u98df\\u54c1\", \"\\u98df\\u7269\\u4e2d\\u6bd2\", \"\\u672c\\u9031\", \"\\u8212\\u9069\", \"\\u5404\\u5730\", \"\\u91ab\\u9662\", \"\\u5730\\u5340\", \"\\u5c71\\u5340\", \"\\u6c23\\u8c61\", \"\\u6cbb\\u7642\", \"\\u5b78\\u751f\", \"\\u51fa\\u73fe\", \"\\u5f71\\u97ff\", \"\\u5b78\\u6821\", \"\\u901a\\u5831\", \"\\u6307\\u51fa\", \"\\u767c\\u751f\", \"\\u53f0\\u7063\", \"\\u6c11\\u773e\"], \"Freq\": [1790.0, 1098.0, 1483.0, 1101.0, 1080.0, 782.0, 920.0, 1334.0, 830.0, 1051.0, 672.0, 1130.0, 593.0, 2903.0, 1902.0, 763.0, 953.0, 410.0, 1362.0, 884.0, 1358.0, 476.0, 486.0, 370.0, 573.0, 499.0, 362.0, 382.0, 548.0, 396.0, 480.48581164558175, 423.5479283088566, 357.6198528663328, 329.650366314959, 312.66889233733923, 298.68414906165236, 247.73972712879302, 231.75716338515088, 217.77242010946398, 205.78549730173236, 184.80838238820206, 176.817100516381, 163.83126747467176, 159.8356265387612, 158.83671630478358, 157.83780607080595, 154.84107536887305, 144.8519730290967, 144.8519730290967, 142.85415256114143, 138.8585116252309, 134.86287068932035, 130.86722975340982, 127.87049905147694, 126.8715888174993, 121.87703764761113, 119.87921717965588, 117.8813967117006, 117.8813967117006, 114.88466600976768, 428.5424794787448, 330.64927654893665, 405.5675440972592, 230.75825315117322, 483.4825423475147, 932.9921476374499, 206.78440753571002, 169.82472887853757, 290.69286718983125, 433.537030648633, 207.78331776968764, 469.4977990718278, 514.4487596008213, 293.6895978917642, 482.483632113537, 186.80620285615734, 367.6089552061091, 644.3070900179138, 218.77133034344163, 241.7462657249272, 665.284204931444, 432.5381204146553, 300.6819695296076, 418.5533771389685, 780.158881838872, 684.2634993770191, 510.4531186649108, 552.4073484919714, 1207.6924619812994, 401.57190316134864, 335.6438277188248, 627.325616040294, 366.6100449721315, 769.1708692651181, 407.5653645652145, 481.4847218795594, 379.5958780138407, 383.5915189497513, 389.584980353617, 387.58715988566183, 377.59805754588547, 377.48063314234577, 325.5534541698266, 304.5828626616938, 294.59686670544016, 259.64588085855223, 237.6766897547941, 236.6780901591687, 205.7215026947823, 198.7313055254047, 181.7551123997734, 138.81532978788255, 137.81673019225718, 137.81673019225718, 130.8265330228796, 130.8265330228796, 129.8279334272542, 127.8307342360035, 126.83213464037813, 126.83213464037813, 122.83773625787666, 121.83913666225129, 120.84053706662591, 119.84193747100053, 119.84193747100053, 117.8447382797498, 116.84613868412444, 115.84753908849908, 115.84753908849908, 109.85594151474686, 107.85874232349612, 544.2467656117824, 339.53384850858174, 1752.552276318479, 563.2201579286643, 270.63047641043124, 207.718701886033, 1390.06062310647, 191.7411083560271, 167.77471806101823, 195.73550673852858, 540.2523672292809, 578.1991518630449, 247.6626857110478, 178.7593136128973, 535.259369251154, 226.69209420291503, 186.74811037790028, 240.67248854167022, 218.70329743791208, 296.59406589669084, 1230.284687806411, 645.1053247699447, 288.6052691316879, 306.58006185294454, 466.3559971530036, 590.1823470105494, 352.51564325171154, 683.0521094037088, 485.32938946988565, 417.4246169673605, 591.1809466061748, 479.33779189613347, 466.3559971530036, 324.55485457420116, 404.4428222242307, 509.29577976489446, 345.52544608233393, 369.4918363773428, 430.4064117104903, 385.4694299073487, 363.5002388035906, 1101.3184309027047, 420.3643417506167, 308.5361042359043, 249.62658625940404, 230.65572453815815, 214.6802620360564, 182.72933703185285, 169.74927374889515, 156.76921046593745, 154.77227765317474, 148.78147921488656, 144.78761358936111, 132.8060167127848, 125.81675186811528, 118.82748702344577, 115.83208780430168, 114.83362139792031, 111.83822217877623, 105.84742374048808, 99.8566253021999, 98.85815889581853, 97.85969248943718, 94.8642932702931, 93.86582686391174, 91.86889405114901, 89.8719612383863, 86.87656201924221, 86.87656201924221, 85.87809561286085, 84.87962920647949, 184.72626984461556, 230.65572453815815, 205.69406437862415, 313.5284362678111, 229.65725813177679, 206.6925307850055, 193.71246750204782, 200.70173234671734, 233.65112375730223, 388.41341674641313, 119.82595342982711, 214.6802620360564, 240.64038860197178, 334.4962308018197, 280.5790448572262, 278.5821120444635, 327.50696595715016, 256.61585110407356, 169.74927374889515, 596.0944292737362, 305.5407050167602, 424.3582073761422, 442.3306026910067, 349.4732268975401, 315.52536908057385, 525.2033144206596, 280.5790448572262, 408.3827448740404, 446.3244683165321, 335.49469720820105, 335.49469720820105, 263.6051159487431, 295.5560409529466, 286.5698432955143, 329.5038987699129, 270.5943807934126, 264.6035823551244, 269.5959143870312, 373.3769502056384, 373.3769502056384, 284.5275917170904, 199.6714628235334, 181.7019296460743, 133.78317450618323, 132.7848671074355, 103.83395254375137, 96.84580075251726, 88.85934156253542, 78.87626757505812, 75.88134537881494, 73.88473058131949, 69.89150098632855, 62.90334919509444, 60.90673439759899, 59.908426998851255, 58.91011960010353, 58.91011960010353, 57.9118122013558, 56.91350480260807, 55.91519740386034, 53.918582606364886, 52.920275207617145, 52.920275207617145, 51.92196780886942, 50.923660410121684, 50.923660410121684, 48.92704561262623, 47.928738213878496, 1007.3021484104468, 168.72393346235378, 72.88642318257175, 91.85426375877863, 847.5729646108099, 967.3698524605376, 202.66638501977658, 211.65115160850615, 97.84410815126499, 212.64945900725388, 244.59529576718126, 405.32278696556574, 275.54282512836085, 87.86103416378769, 90.85595636003089, 171.718855658597, 244.59529576718126, 128.7916375124446, 1061.2107479428241, 214.64607380474934, 451.2449273079613, 201.66807762102886, 155.7459372786333, 395.33971297808847, 204.66299981727207, 338.4361912494678, 164.73070386736288, 147.75947808865146, 447.2516977129703, 257.5732919509017, 302.4971248945496, 231.61729958346075, 273.5462103308654, 225.62745519097436, 269.5529807358745, 271.54959553336994, 265.5597511408836, 245.59360316592898, 259.56990674839716, 248.58852536217216, 229.62068478596527, 216.6426886022448, 1098.1837919261595, 920.4793029098265, 476.21808036899426, 436.2844873316161, 423.3060695944681, 383.37247655708995, 351.4256021271874, 330.46046578256386, 263.57169744495536, 252.5899593596764, 243.6049009262663, 232.6231628409873, 228.6298035372495, 217.6480654519705, 196.68292910734695, 193.68790962954358, 160.74269537370654, 160.74269537370654, 157.74767589590317, 139.777559029083, 137.7808793772141, 136.78253955127963, 128.795820943804, 116.81574303259056, 114.81906338072164, 99.84396599170482, 94.85226686203255, 92.85558721016363, 90.85890755829473, 89.86056773236028, 828.6320389238568, 300.5102710045302, 259.5783381412176, 122.80578198819728, 312.49034891574365, 346.43390299751513, 230.6264831891184, 284.5368337895789, 646.934190603786, 235.61818231879067, 226.63312388538057, 249.59493988187305, 270.56007622649656, 358.4139809087286, 474.2214007171254, 421.30938994259924, 355.4189614309252, 634.9541126925725, 535.1201300991271, 336.4505047381706, 311.4920090898092, 394.35421464236896, 346.43390299751513, 283.53849396364444, 276.5501151821033, 270.56007622649656, 267.56505674869317, 593.5286282479018, 409.9867254267493, 362.1062290386226, 356.1211669901067, 337.16847050313993, 323.2033257232696, 299.2630775292062, 234.4249053369513, 213.47718816714584, 192.5294709973404, 189.53693997308247, 137.66640221927852, 134.67387119502058, 122.70374709798894, 114.72366436663447, 104.74856095244141, 102.7535402696028, 89.78590583115181, 84.79835412405528, 81.80582309979735, 80.80831275837805, 77.81578173412012, 76.81827139270082, 74.82325070986221, 74.82325070986221, 71.83071968560428, 69.83569900276568, 64.84814729566914, 63.85063695424983, 62.853126612830515, 369.0888014285577, 770.0879586791191, 244.40000875114436, 139.66142290211712, 654.3767590744794, 118.71370573231171, 367.0937807457191, 181.556857241728, 197.51702270443695, 150.63403665772952, 361.10871869720324, 287.29295343217456, 176.56930553463147, 172.57926416895427, 198.51453304585624, 245.39751909256364, 350.1361049415909, 356.1211669901067, 607.493773027772, 259.3626638724339, 267.3427466037884, 203.50208475295278, 301.25809821204484, 343.1535325516557, 323.2033257232696, 237.4174363612092, 228.43984328843544, 252.3800914824988, 254.37511216533744, 240.40996738546713, 213.47718816714584], \"Total\": [1790.0, 1098.0, 1483.0, 1101.0, 1080.0, 782.0, 920.0, 1334.0, 830.0, 1051.0, 672.0, 1130.0, 593.0, 2903.0, 1902.0, 763.0, 953.0, 410.0, 1362.0, 884.0, 1358.0, 476.0, 486.0, 370.0, 573.0, 499.0, 362.0, 382.0, 548.0, 396.0, 480.53572388126287, 423.59784054453775, 357.6697651020139, 329.7002785506401, 312.71880457302035, 298.7340612973335, 247.7896393644741, 231.80707562083197, 217.82233234514507, 205.83540953741345, 184.85829462388315, 176.8670127520621, 163.88117971035285, 159.8855387744423, 158.88662854046467, 157.88771830648705, 154.89098760455414, 144.9018852647778, 144.9018852647778, 142.90406479682252, 138.908423860912, 134.91278292500144, 130.9171419890909, 127.92041128715802, 126.92150105318038, 121.92694988329221, 119.92912941533696, 117.93130894738168, 117.93130894738168, 114.93457824544876, 429.5899020558452, 331.6974961833655, 408.6132551198164, 231.80663179323568, 489.523253021484, 953.0046955460238, 208.83099942326, 170.87310752060003, 297.7297088322718, 452.55780460555997, 211.82709563089418, 511.47662205491355, 572.4017671665781, 312.7073507036522, 546.4341455591384, 191.84844712374525, 425.56566391607845, 847.043151140073, 232.7997722684618, 266.7506746999878, 977.8508112728714, 567.3794953329426, 357.6383910675748, 564.3718787451699, 1358.3279023992934, 1133.5805513429762, 761.1092058438433, 858.9869883947907, 2699.252397997835, 552.3708048412651, 426.5423430124481, 1263.3569035450782, 498.45752285015226, 2903.482127985357, 712.0746890649851, 1140.4694801841592, 631.233818143893, 697.1301674697368, 797.9484231435433, 921.8605158500923, 804.9562351002022, 377.5305484844104, 325.60336951189123, 304.63277800375846, 294.6467820475048, 259.6957962006169, 237.72660509685872, 236.72800550123333, 205.7714180368469, 198.78122086746933, 181.80502774183802, 138.86524512994717, 137.8666455343218, 137.8666455343218, 130.87644836494422, 130.87644836494422, 129.87784876931883, 127.88064957806809, 126.88204998244272, 126.88204998244272, 122.88765159994125, 121.88905200431589, 120.8904524086905, 119.89185281306513, 119.89185281306513, 117.8946536218144, 116.89605402618903, 115.89745443056367, 115.89745443056367, 109.90585685681145, 107.90865766556071, 548.2867223195242, 340.5820712493941, 1790.5323291662646, 573.2534715300734, 274.67603268840645, 209.7636379109362, 1483.9470167257373, 193.78770334996062, 169.8215662158456, 199.77865167558411, 588.1931407047417, 648.14207263619, 260.6984340948217, 183.8037801248501, 607.1913599883504, 239.72039485494082, 193.78729056463442, 257.68007968786304, 231.72084721842768, 334.58252452857454, 1902.0561850128556, 884.7871776435358, 334.56717125633867, 370.51717629035926, 665.0739836394354, 969.5904937553071, 463.36530261320803, 1362.793827870322, 806.8176735310618, 665.0506892001351, 1297.0306533277796, 898.6458603014012, 921.8605158500923, 454.2811143007757, 754.888550101703, 1325.0047829813095, 574.2208293254238, 1051.898604549845, 2699.252397997835, 1540.4029972354867, 1127.2193532959232, 1101.3683475766618, 420.41425842457375, 308.58602090986136, 249.67650293336112, 230.70564121211524, 214.7301787100135, 182.77925370580994, 169.79919042285223, 156.81912713989453, 154.82219432713183, 148.83139588884364, 144.8375302633182, 132.8559333867419, 125.86666854207232, 118.87740369740281, 115.88200447825872, 114.88353807187735, 111.88813885273328, 105.89734041444513, 99.90654197615694, 98.90807556977558, 97.90960916339422, 94.91420994425015, 93.91574353786878, 91.91881072510606, 89.92187791234335, 86.92647869319926, 86.92647869319926, 85.92801228681789, 84.92954588043654, 185.77449391732037, 232.7034616800705, 207.74118024383196, 319.571814345634, 232.70219428353724, 209.73746693676594, 196.758182962881, 205.74464699880124, 241.68749962124116, 410.4325245241283, 120.8741775025319, 225.71175465935886, 259.65874868736563, 381.4868518755667, 314.5919094864229, 315.57060227799536, 390.4512407136848, 293.6217556579252, 181.77887920782499, 921.7570864741185, 405.42256137139907, 653.9812995017177, 740.9293294480415, 562.2365227425129, 498.3734472315183, 1358.3279023992934, 426.4698556919178, 910.651864349353, 1325.0047829813095, 763.0114562835334, 788.9710315561604, 448.3623833791914, 799.9030387578573, 977.8508112728714, 2699.252397997835, 690.9209418559262, 626.0455492140798, 1054.4894844746952, 373.42686846967183, 373.42686846967183, 284.5775099811238, 199.7213810875668, 181.7518479101077, 133.83309277021664, 132.8347853714689, 103.88387080778475, 96.89571901655064, 88.9092598265688, 78.9261858390915, 75.93126364284832, 73.93464884535287, 69.94141925036193, 62.95326745912782, 60.95665266163237, 59.958345262884635, 58.96003786413691, 58.96003786413691, 57.96173046538918, 56.96342306664145, 55.96511566789372, 53.968500870398266, 52.970193471650525, 52.970193471650525, 51.9718860729028, 50.973578674155064, 50.973578674155064, 48.97696387665961, 47.978656477911876, 1080.2725137548473, 175.76404889576477, 74.93302109847403, 96.89651405471882, 1130.3024957454143, 1334.863648334787, 235.66105302824016, 247.64338176370723, 104.88639805314182, 253.6455703356794, 299.58527689998454, 543.1989307887422, 359.46946799616893, 93.90206811325861, 97.89607179344186, 214.72191398366866, 353.47640678097315, 157.80560362489769, 2903.482127985357, 319.53969421151214, 956.5734674702683, 305.56986532810225, 211.71308109319682, 838.6797463544083, 328.53997363877164, 729.8595932999444, 234.67660030919174, 200.6928432660497, 1540.4029972354867, 592.0597412514915, 879.7722864089305, 495.2937540759519, 757.9458705285818, 495.2824701285023, 791.9341141597173, 811.7485449427137, 1140.4694801841592, 806.8176735310618, 1127.2193532959232, 910.651864349353, 797.9484231435433, 789.7501150054503, 1098.2337098659211, 920.529220849588, 476.2679983087558, 436.33440527137765, 423.35598753422966, 383.4223944968515, 351.47552006694895, 330.5103837223254, 263.6216153847169, 252.63987729943793, 243.65481886602782, 232.67308078074882, 228.67972147701101, 217.697983391732, 196.73284704710846, 193.7378275693051, 160.79261331346805, 160.79261331346805, 157.79759383566469, 139.8274769688445, 137.8307973169756, 136.83245749104114, 128.8457388835655, 116.86566097235207, 114.86898132048316, 99.89388393146633, 94.90218480179406, 92.90550514992515, 90.90882549805625, 89.9104856721218, 830.678889676381, 302.55738813554245, 263.62148567597006, 123.85416633434015, 326.51657043797337, 364.4533541147358, 241.65741423984224, 304.5615393870182, 763.7860741970318, 251.6456937885581, 242.64320728785097, 273.6187034370978, 313.5372123124105, 487.28324668416275, 816.74879641208, 771.8621267866583, 570.1450506646171, 2903.482127985357, 2699.252397997835, 729.8595932999444, 604.1545052040382, 1362.793827870322, 1263.3569035450782, 538.2781221531746, 643.0159072775932, 721.8375074313268, 1334.863648334787, 593.5785544825085, 410.03665166135596, 362.1561552732293, 356.1710932247134, 337.2183967377466, 323.2532519578763, 299.3130037638129, 234.47483157155796, 213.5271144017525, 192.57939723194707, 189.58686620768913, 137.71632845388518, 134.72379742962724, 122.7536733325956, 114.77359060124112, 104.79848718704807, 102.80346650420945, 89.83583206575847, 84.84828035866194, 81.85574933440401, 80.85823899298471, 77.86570796872678, 76.86819762730748, 74.87317694446887, 74.87317694446887, 71.88064592021094, 69.88562523737234, 64.8980735302758, 63.900563188856495, 62.90305284743718, 370.13732725878975, 782.1248077214574, 246.4477554537063, 140.70994873234915, 672.4058638502237, 119.76254220089601, 382.11927200734345, 185.60118185883616, 202.5615001089318, 154.67836127483767, 396.10643423684166, 313.3053003655303, 186.60531993286494, 182.61518635981463, 222.52774570646838, 295.3910931959384, 486.9988722351063, 499.975069925669, 1051.898604549845, 337.3033585658194, 357.2666364446783, 254.47699425486505, 554.9149096849877, 769.6224533225586, 890.4080064914573, 399.2468135284096, 452.1696125015394, 1540.4029972354867, 1902.0561850128556, 2903.482127985357, 1362.793827870322], \"Category\": [\"Default\", \"Default\", \"Default\", \"Default\", \"Default\", \"Default\", \"Default\", \"Default\", \"Default\", \"Default\", \"Default\", \"Default\", \"Default\", \"Default\", \"Default\", \"Default\", \"Default\", \"Default\", \"Default\", \"Default\", \"Default\", \"Default\", \"Default\", \"Default\", \"Default\", \"Default\", \"Default\", \"Default\", \"Default\", \"Default\", \"Topic1\", \"Topic1\", \"Topic1\", \"Topic1\", \"Topic1\", \"Topic1\", \"Topic1\", \"Topic1\", \"Topic1\", \"Topic1\", \"Topic1\", \"Topic1\", \"Topic1\", \"Topic1\", \"Topic1\", \"Topic1\", \"Topic1\", \"Topic1\", \"Topic1\", \"Topic1\", \"Topic1\", \"Topic1\", \"Topic1\", \"Topic1\", \"Topic1\", \"Topic1\", \"Topic1\", \"Topic1\", \"Topic1\", \"Topic1\", \"Topic1\", \"Topic1\", \"Topic1\", \"Topic1\", \"Topic1\", \"Topic1\", \"Topic1\", \"Topic1\", \"Topic1\", \"Topic1\", \"Topic1\", \"Topic1\", \"Topic1\", \"Topic1\", \"Topic1\", \"Topic1\", \"Topic1\", \"Topic1\", \"Topic1\", \"Topic1\", \"Topic1\", \"Topic1\", \"Topic1\", \"Topic1\", \"Topic1\", \"Topic1\", \"Topic1\", \"Topic1\", \"Topic1\", \"Topic1\", \"Topic1\", \"Topic1\", \"Topic1\", \"Topic1\", \"Topic1\", \"Topic1\", \"Topic1\", \"Topic1\", \"Topic1\", \"Topic1\", \"Topic1\", \"Topic2\", \"Topic2\", \"Topic2\", \"Topic2\", \"Topic2\", \"Topic2\", \"Topic2\", \"Topic2\", \"Topic2\", \"Topic2\", \"Topic2\", \"Topic2\", \"Topic2\", \"Topic2\", \"Topic2\", \"Topic2\", \"Topic2\", \"Topic2\", \"Topic2\", \"Topic2\", \"Topic2\", \"Topic2\", \"Topic2\", \"Topic2\", \"Topic2\", \"Topic2\", \"Topic2\", \"Topic2\", \"Topic2\", \"Topic2\", \"Topic2\", \"Topic2\", \"Topic2\", \"Topic2\", \"Topic2\", \"Topic2\", \"Topic2\", \"Topic2\", \"Topic2\", \"Topic2\", \"Topic2\", \"Topic2\", \"Topic2\", \"Topic2\", \"Topic2\", \"Topic2\", \"Topic2\", \"Topic2\", \"Topic2\", \"Topic2\", \"Topic2\", \"Topic2\", \"Topic2\", \"Topic2\", \"Topic2\", \"Topic2\", \"Topic2\", \"Topic2\", \"Topic2\", \"Topic2\", \"Topic2\", \"Topic2\", \"Topic2\", \"Topic2\", \"Topic2\", \"Topic2\", \"Topic2\", \"Topic2\", \"Topic2\", \"Topic2\", \"Topic2\", \"Topic3\", \"Topic3\", \"Topic3\", \"Topic3\", \"Topic3\", \"Topic3\", \"Topic3\", \"Topic3\", \"Topic3\", \"Topic3\", \"Topic3\", \"Topic3\", \"Topic3\", \"Topic3\", \"Topic3\", \"Topic3\", \"Topic3\", \"Topic3\", \"Topic3\", \"Topic3\", \"Topic3\", \"Topic3\", \"Topic3\", \"Topic3\", \"Topic3\", \"Topic3\", \"Topic3\", \"Topic3\", \"Topic3\", \"Topic3\", \"Topic3\", \"Topic3\", \"Topic3\", \"Topic3\", \"Topic3\", \"Topic3\", \"Topic3\", \"Topic3\", \"Topic3\", \"Topic3\", \"Topic3\", \"Topic3\", \"Topic3\", \"Topic3\", \"Topic3\", \"Topic3\", \"Topic3\", \"Topic3\", \"Topic3\", \"Topic3\", \"Topic3\", \"Topic3\", \"Topic3\", \"Topic3\", \"Topic3\", \"Topic3\", \"Topic3\", \"Topic3\", \"Topic3\", \"Topic3\", \"Topic3\", \"Topic3\", \"Topic3\", \"Topic3\", \"Topic3\", \"Topic3\", \"Topic3\", \"Topic3\", \"Topic4\", \"Topic4\", \"Topic4\", \"Topic4\", \"Topic4\", \"Topic4\", \"Topic4\", \"Topic4\", \"Topic4\", \"Topic4\", \"Topic4\", \"Topic4\", \"Topic4\", \"Topic4\", \"Topic4\", \"Topic4\", \"Topic4\", \"Topic4\", \"Topic4\", \"Topic4\", \"Topic4\", \"Topic4\", \"Topic4\", \"Topic4\", \"Topic4\", \"Topic4\", \"Topic4\", \"Topic4\", \"Topic4\", \"Topic4\", \"Topic4\", \"Topic4\", \"Topic4\", \"Topic4\", \"Topic4\", \"Topic4\", \"Topic4\", \"Topic4\", \"Topic4\", \"Topic4\", \"Topic4\", \"Topic4\", \"Topic4\", \"Topic4\", \"Topic4\", \"Topic4\", \"Topic4\", \"Topic4\", \"Topic4\", \"Topic4\", \"Topic4\", \"Topic4\", \"Topic4\", \"Topic4\", \"Topic4\", \"Topic4\", \"Topic4\", \"Topic4\", \"Topic4\", \"Topic4\", \"Topic4\", \"Topic4\", \"Topic4\", \"Topic4\", \"Topic4\", \"Topic4\", \"Topic4\", \"Topic4\", \"Topic4\", \"Topic4\", \"Topic4\", \"Topic4\", \"Topic5\", \"Topic5\", \"Topic5\", \"Topic5\", \"Topic5\", \"Topic5\", \"Topic5\", \"Topic5\", \"Topic5\", \"Topic5\", \"Topic5\", \"Topic5\", \"Topic5\", \"Topic5\", \"Topic5\", \"Topic5\", \"Topic5\", \"Topic5\", \"Topic5\", \"Topic5\", \"Topic5\", \"Topic5\", \"Topic5\", \"Topic5\", \"Topic5\", \"Topic5\", \"Topic5\", \"Topic5\", \"Topic5\", \"Topic5\", \"Topic5\", \"Topic5\", \"Topic5\", \"Topic5\", \"Topic5\", \"Topic5\", \"Topic5\", \"Topic5\", \"Topic5\", \"Topic5\", \"Topic5\", \"Topic5\", \"Topic5\", \"Topic5\", \"Topic5\", \"Topic5\", \"Topic5\", \"Topic5\", \"Topic5\", \"Topic5\", \"Topic5\", \"Topic5\", \"Topic5\", \"Topic5\", \"Topic5\", \"Topic5\", \"Topic5\", \"Topic6\", \"Topic6\", \"Topic6\", \"Topic6\", \"Topic6\", \"Topic6\", \"Topic6\", \"Topic6\", \"Topic6\", \"Topic6\", \"Topic6\", \"Topic6\", \"Topic6\", \"Topic6\", \"Topic6\", \"Topic6\", \"Topic6\", \"Topic6\", \"Topic6\", \"Topic6\", \"Topic6\", \"Topic6\", \"Topic6\", \"Topic6\", \"Topic6\", \"Topic6\", \"Topic6\", \"Topic6\", \"Topic6\", \"Topic6\", \"Topic6\", \"Topic6\", \"Topic6\", \"Topic6\", \"Topic6\", \"Topic6\", \"Topic6\", \"Topic6\", \"Topic6\", \"Topic6\", \"Topic6\", \"Topic6\", \"Topic6\", \"Topic6\", \"Topic6\", \"Topic6\", \"Topic6\", \"Topic6\", \"Topic6\", \"Topic6\", \"Topic6\", \"Topic6\", \"Topic6\", \"Topic6\", \"Topic6\", \"Topic6\", \"Topic6\", \"Topic6\", \"Topic6\", \"Topic6\", \"Topic6\"], \"logprob\": [30.0, 29.0, 28.0, 27.0, 26.0, 25.0, 24.0, 23.0, 22.0, 21.0, 20.0, 19.0, 18.0, 17.0, 16.0, 15.0, 14.0, 13.0, 12.0, 11.0, 10.0, 9.0, 8.0, 7.0, 6.0, 5.0, 4.0, 3.0, 2.0, 1.0, -5.9328, -6.059, -6.2282, -6.3096, -6.3625, -6.4083, -6.5953, -6.6619, -6.7242, -6.7808, -6.8883, -6.9325, -7.0088, -7.0335, -7.0398, -7.0461, -7.0652, -7.1319, -7.1319, -7.1458, -7.1742, -7.2034, -7.2335, -7.2566, -7.2645, -7.3046, -7.3212, -7.338, -7.338, -7.3637, -6.0472, -6.3066, -6.1024, -6.6663, -5.9266, -5.2692, -6.776, -6.9729, -6.4354, -6.0357, -6.7711, -5.956, -5.8645, -6.4251, -5.9287, -6.8776, -6.2006, -5.6395, -6.7196, -6.6198, -5.6074, -6.038, -6.4016, -6.0708, -5.4481, -5.5793, -5.8723, -5.7934, -5.0112, -6.1123, -6.2916, -5.6662, -6.2033, -5.4623, -6.0974, -5.9308, -6.1685, -6.1581, -6.1426, -6.1477, -6.1738, -5.7764, -5.9244, -5.991, -6.0243, -6.1506, -6.239, -6.2432, -6.3834, -6.418, -6.5073, -6.7768, -6.784, -6.784, -6.8361, -6.8361, -6.8437, -6.8592, -6.8671, -6.8671, -6.8991, -6.9072, -6.9155, -6.9237, -6.9237, -6.9406, -6.9491, -6.9576, -6.9576, -7.0108, -7.0291, -5.4105, -5.8823, -4.2411, -5.3763, -6.1092, -6.3737, -4.4728, -6.4538, -6.5873, -6.4332, -5.4179, -5.35, -6.1979, -6.5239, -5.4272, -6.2863, -6.4802, -6.2265, -6.3222, -6.0176, -4.5949, -5.2405, -6.0449, -5.9844, -5.565, -5.3295, -5.8448, -5.1834, -5.5251, -5.6758, -5.3278, -5.5375, -5.565, -5.9275, -5.7074, -5.4769, -5.8649, -5.7978, -5.6452, -5.7555, -5.8141, -4.5809, -5.544, -5.8533, -6.0652, -6.1442, -6.216, -6.3771, -6.4508, -6.5304, -6.5432, -6.5827, -6.6099, -6.6962, -6.7503, -6.8075, -6.833, -6.8416, -6.8681, -6.9231, -6.9814, -6.9914, -7.0016, -7.0327, -7.0433, -7.0648, -7.0867, -7.1206, -7.1206, -7.1322, -7.1439, -6.3663, -6.1442, -6.2587, -5.8372, -6.1485, -6.2539, -6.3188, -6.2833, -6.1313, -5.6231, -6.7991, -6.216, -6.1018, -5.7725, -5.9483, -5.9554, -5.7936, -6.0376, -6.4508, -5.1947, -5.863, -5.5346, -5.4931, -5.7287, -5.8309, -5.3213, -5.9483, -5.5729, -5.4841, -5.7695, -5.7695, -6.0107, -5.8963, -5.9272, -5.7875, -5.9845, -6.0069, -5.9882, -5.4839, -5.4839, -5.7557, -6.1098, -6.2041, -6.5103, -6.5178, -6.7637, -6.8334, -6.9195, -7.0386, -7.0773, -7.104, -7.1596, -7.2649, -7.2972, -7.3137, -7.3305, -7.3305, -7.3476, -7.365, -7.3827, -7.419, -7.4377, -7.4377, -7.4568, -7.4762, -7.4762, -7.5162, -7.5368, -4.4915, -6.2783, -7.1176, -6.8863, -4.6641, -4.5319, -6.095, -6.0516, -6.8231, -6.0469, -5.9069, -5.4018, -5.7878, -6.9308, -6.8972, -6.2607, -5.9069, -6.5483, -4.4393, -6.0375, -5.2945, -6.0999, -6.3583, -5.4268, -6.0851, -5.5822, -6.3022, -6.4109, -5.3034, -5.8552, -5.6944, -5.9614, -5.795, -5.9876, -5.8097, -5.8024, -5.8247, -5.9028, -5.8475, -5.8907, -5.9701, -6.0283, -4.3816, -4.5581, -5.2171, -5.3047, -5.3349, -5.434, -5.521, -5.5825, -5.8086, -5.8512, -5.8874, -5.9335, -5.9509, -6.0001, -6.1014, -6.1167, -6.3032, -6.3032, -6.322, -6.4429, -6.4573, -6.4646, -6.5247, -6.6224, -6.6396, -6.7794, -6.8306, -6.8519, -6.8737, -6.8847, -4.6632, -5.6775, -5.8239, -6.5724, -5.6384, -5.5353, -5.9422, -5.7321, -4.9107, -5.9208, -5.9596, -5.8631, -5.7825, -5.5013, -5.2213, -5.3396, -5.5097, -4.9294, -5.1005, -5.5645, -5.6416, -5.4057, -5.5353, -5.7356, -5.7606, -5.7825, -5.7936, -4.5439, -4.9139, -5.0381, -5.0547, -5.1094, -5.1517, -5.2287, -5.4729, -5.5665, -5.6698, -5.6854, -6.0052, -6.0271, -6.1202, -6.1875, -6.2784, -6.2977, -6.4326, -6.4897, -6.5257, -6.5379, -6.5757, -6.5886, -6.6149, -6.6149, -6.6557, -6.6839, -6.758, -6.7735, -6.7892, -5.019, -4.2835, -5.4312, -5.9908, -4.4463, -6.1533, -5.0244, -5.7284, -5.6442, -5.9152, -5.0408, -5.2695, -5.7563, -5.7791, -5.6391, -5.4271, -5.0717, -5.0547, -4.5207, -5.3718, -5.3415, -5.6143, -5.222, -5.0918, -5.1517, -5.4602, -5.4987, -5.3991, -5.3912, -5.4477, -5.5665], \"loglift\": [30.0, 29.0, 28.0, 27.0, 26.0, 25.0, 24.0, 23.0, 22.0, 21.0, 20.0, 19.0, 18.0, 17.0, 16.0, 15.0, 14.0, 13.0, 12.0, 11.0, 10.0, 9.0, 8.0, 7.0, 6.0, 5.0, 4.0, 3.0, 2.0, 1.0, 1.2678, 1.2678, 1.2678, 1.2678, 1.2677, 1.2677, 1.2677, 1.2677, 1.2677, 1.2677, 1.2676, 1.2676, 1.2676, 1.2676, 1.2676, 1.2676, 1.2676, 1.2676, 1.2676, 1.2676, 1.2675, 1.2675, 1.2675, 1.2675, 1.2675, 1.2675, 1.2675, 1.2675, 1.2675, 1.2675, 1.2655, 1.2647, 1.2604, 1.2634, 1.2555, 1.2467, 1.2581, 1.2618, 1.244, 1.225, 1.2486, 1.1823, 1.1612, 1.2052, 1.1434, 1.2413, 1.1215, 0.9943, 1.2058, 1.1695, 0.8828, 0.9965, 1.0944, 0.969, 0.7134, 0.7631, 0.8684, 0.8264, 0.4636, 0.9491, 1.0282, 0.5678, 0.9607, -0.0604, 0.7099, 0.4056, 0.7593, 0.6705, 0.5509, 0.4015, 0.5109, 1.6655, 1.6655, 1.6655, 1.6655, 1.6654, 1.6654, 1.6654, 1.6654, 1.6654, 1.6653, 1.6653, 1.6653, 1.6653, 1.6652, 1.6652, 1.6652, 1.6652, 1.6652, 1.6652, 1.6652, 1.6652, 1.6652, 1.6652, 1.6652, 1.6652, 1.6652, 1.6652, 1.6652, 1.6652, 1.6652, 1.6582, 1.6625, 1.6442, 1.648, 1.6508, 1.6558, 1.6003, 1.655, 1.6535, 1.6452, 1.5806, 1.5514, 1.6143, 1.6378, 1.5395, 1.6097, 1.6286, 1.5973, 1.6078, 1.5451, 1.2299, 1.3497, 1.5178, 1.4762, 1.3107, 1.1692, 1.3922, 0.9749, 1.1574, 1.1999, 0.8799, 1.0371, 0.9842, 1.3294, 1.0416, 0.7095, 1.1577, 0.6194, -0.1704, 0.2803, 0.5339, 1.7904, 1.7903, 1.7902, 1.7902, 1.7902, 1.7902, 1.7901, 1.7901, 1.7901, 1.7901, 1.7901, 1.7901, 1.79, 1.79, 1.79, 1.79, 1.79, 1.79, 1.7899, 1.7899, 1.7899, 1.7899, 1.7899, 1.7899, 1.7899, 1.7899, 1.7898, 1.7898, 1.7898, 1.7898, 1.7848, 1.7816, 1.7805, 1.7713, 1.7772, 1.7758, 1.7748, 1.7656, 1.7566, 1.7353, 1.7817, 1.7403, 1.7143, 1.659, 1.676, 1.6657, 1.6146, 1.6557, 1.7219, 1.3545, 1.5076, 1.3579, 1.2746, 1.3149, 1.3333, 0.8402, 1.3717, 0.9885, 0.7023, 0.9687, 0.9353, 1.2593, 0.7948, 0.563, -0.3127, 0.853, 0.9292, 0.4265, 1.9689, 1.9689, 1.9689, 1.9688, 1.9688, 1.9687, 1.9687, 1.9685, 1.9685, 1.9685, 1.9684, 1.9684, 1.9684, 1.9683, 1.9682, 1.9682, 1.9682, 1.9682, 1.9682, 1.9682, 1.9682, 1.9681, 1.9681, 1.9681, 1.9681, 1.9681, 1.9681, 1.9681, 1.968, 1.968, 1.8991, 1.9282, 1.9413, 1.9156, 1.6812, 1.647, 1.8182, 1.812, 1.8995, 1.7927, 1.7662, 1.6762, 1.7031, 1.9025, 1.8944, 1.7455, 1.6008, 1.7659, 0.9625, 1.5711, 1.2177, 1.5535, 1.662, 1.2169, 1.4957, 1.2005, 1.6151, 1.6628, 0.7324, 1.1367, 0.9014, 1.209, 0.9499, 1.1828, 0.8913, 0.874, 0.5117, 0.7796, 0.5005, 0.6707, 0.7234, 0.6756, 1.9925, 1.9925, 1.9925, 1.9925, 1.9925, 1.9925, 1.9924, 1.9924, 1.9924, 1.9924, 1.9924, 1.9924, 1.9924, 1.9924, 1.9923, 1.9923, 1.9923, 1.9923, 1.9923, 1.9922, 1.9922, 1.9922, 1.9922, 1.9922, 1.9921, 1.9921, 1.9921, 1.992, 1.992, 1.992, 1.9901, 1.9858, 1.9771, 1.9841, 1.9487, 1.9419, 1.9459, 1.9246, 1.8265, 1.9268, 1.9243, 1.9007, 1.8452, 1.6854, 1.4489, 1.3871, 1.52, 0.4725, 0.3743, 1.2182, 1.3301, 0.7525, 0.6987, 1.3516, 1.1488, 1.0113, 0.3854, 2.4455, 2.4454, 2.4454, 2.4454, 2.4454, 2.4454, 2.4454, 2.4453, 2.4453, 2.4453, 2.4453, 2.4452, 2.4452, 2.4451, 2.4451, 2.4451, 2.4451, 2.445, 2.445, 2.4449, 2.4449, 2.4449, 2.4449, 2.4449, 2.4449, 2.4448, 2.4448, 2.4448, 2.4448, 2.4447, 2.4427, 2.43, 2.4372, 2.4381, 2.4184, 2.4367, 2.4054, 2.4235, 2.4203, 2.419, 2.353, 2.3589, 2.3903, 2.389, 2.3313, 2.2601, 2.1156, 2.1063, 1.8965, 2.1828, 2.1556, 2.222, 1.8347, 1.6378, 1.4321, 1.9258, 1.7628, 0.6367, 0.4337, -0.0458, 0.5918]}, \"token.table\": {\"Topic\": [1, 2, 3, 4, 6, 1, 2, 3, 5, 1, 2, 3, 5, 6, 1, 3, 4, 5, 2, 3, 4, 6, 4, 2, 5, 4, 5, 1, 2, 2, 3, 4, 5, 6, 2, 3, 5, 2, 3, 4, 5, 4, 1, 2, 3, 4, 6, 4, 2, 4, 5, 4, 4, 1, 1, 2, 4, 6, 4, 2, 3, 3, 2, 3, 4, 1, 3, 5, 5, 1, 4, 1, 4, 5, 1, 2, 3, 4, 5, 6, 2, 3, 4, 3, 5, 1, 2, 3, 4, 5, 6, 1, 3, 4, 5, 6, 2, 3, 1, 2, 3, 1, 2, 5, 6, 3, 1, 3, 1, 6, 1, 2, 3, 4, 5, 6, 2, 4, 6, 4, 2, 6, 5, 1, 2, 4, 5, 6, 4, 1, 4, 4, 1, 2, 3, 4, 5, 2, 3, 4, 5, 1, 1, 2, 3, 5, 6, 1, 2, 3, 4, 1, 2, 3, 4, 5, 6, 2, 4, 1, 2, 4, 6, 1, 4, 5, 5, 4, 3, 1, 4, 2, 1, 2, 3, 4, 5, 6, 1, 3, 6, 1, 2, 3, 4, 5, 4, 5, 5, 2, 1, 4, 5, 2, 4, 6, 2, 3, 5, 6, 5, 1, 5, 4, 6, 1, 4, 5, 1, 2, 2, 3, 1, 6, 2, 3, 4, 1, 1, 3, 5, 1, 2, 3, 1, 4, 6, 1, 2, 3, 4, 5, 6, 2, 4, 5, 6, 1, 3, 3, 6, 1, 1, 3, 4, 1, 1, 3, 6, 2, 6, 1, 4, 1, 2, 3, 4, 5, 1, 2, 3, 4, 5, 6, 2, 5, 1, 2, 3, 4, 5, 3, 6, 3, 2, 1, 2, 3, 4, 5, 6, 2, 6, 2, 1, 2, 3, 1, 2, 3, 1, 2, 3, 4, 5, 6, 1, 3, 4, 3, 3, 2, 6, 6, 1, 2, 5, 4, 1, 2, 3, 5, 1, 3, 4, 2, 1, 3, 4, 2, 3, 2, 3, 4, 5, 6, 2, 2, 4, 5, 6, 1, 2, 4, 5, 1, 2, 5, 2, 3, 4, 5, 6, 3, 5, 2, 1, 2, 6, 2, 1, 3, 5, 1, 4, 5, 3, 4, 5, 2, 4, 5, 6, 4, 5, 4, 5, 1, 3, 2, 3, 2, 4, 5, 6, 1, 2, 3, 4, 5, 6, 1, 2, 3, 4, 5, 6, 4, 1, 3, 4, 2, 4, 6, 1, 6, 2, 3, 4, 1, 2, 5, 1, 2, 4, 5, 1, 2, 3, 4, 5, 6, 3, 1, 4, 5, 6, 4, 6, 1, 2, 5, 1, 2, 3, 5, 6, 3, 4, 6, 2, 6, 2, 3, 2, 3, 6, 1, 1, 1, 2, 5, 2, 3, 4, 5, 6, 5, 6, 2, 6, 3, 6, 2, 3, 6, 3, 5, 4, 3, 5, 3, 1, 2, 4, 5, 6, 2, 4, 5, 2, 3, 1, 6, 1, 3, 1, 3, 1, 1, 1, 2, 4, 2, 4, 5, 2, 4, 2, 4, 1, 2, 3, 5, 6, 1, 2, 3, 4, 1, 2, 3, 4, 5, 6, 4, 3, 4, 1, 3, 4, 5, 1, 2, 4, 5, 6, 1, 3, 3, 3, 1, 1, 4, 6, 2, 3, 4, 1, 2, 3, 4, 5, 6, 6, 1, 6, 6, 6, 4, 1, 2, 3, 4, 5, 6, 1, 2, 3, 4, 6, 1, 2, 3, 4, 5, 6, 1, 6, 4, 5, 1, 2, 3, 4, 5, 6, 1, 3, 4, 5, 1, 3, 5, 1, 3, 5, 1, 4, 6, 2, 1, 2, 4, 5, 6, 1, 3, 4, 5, 3, 4, 1, 4, 5, 5, 2, 6, 2, 3, 4, 6, 3, 5, 5, 5, 3, 1, 1, 3, 6, 1, 2, 1, 5, 3, 1, 1, 2, 3, 4, 4, 5, 5, 4, 1, 4, 4, 1, 3, 1, 3, 1, 3, 4, 5, 6, 6, 1, 2, 3, 4, 5, 6, 6, 1, 2, 4, 1, 2, 6, 1, 4, 2, 2, 5, 6, 2, 6, 1, 4, 6, 2, 3, 4, 5, 2, 6, 1, 3, 1, 2, 4, 5, 5, 5, 3, 4, 5, 2, 6, 5, 1, 5, 3, 4, 4, 1, 2, 3, 4, 5, 6, 2, 5, 1, 3, 5, 1, 1, 3, 5, 2, 3, 4, 1, 2, 4, 1, 2, 3, 4, 5, 6, 2, 3, 1, 2, 3, 4, 5, 6, 2, 3, 5, 5, 5, 3, 3, 1, 2, 4, 5, 6, 2, 6, 2, 2, 4, 1, 2, 3, 4, 5, 6, 1, 2, 3, 4, 5, 1, 2, 3, 4, 5, 1, 3, 4, 5, 2, 3, 4, 6, 2, 1, 2, 3, 4, 5, 6, 1, 2, 3, 4, 5, 6, 3, 1, 3, 2, 4, 5, 1, 5, 6, 6, 2, 3, 6, 1, 2, 3, 6, 6, 2, 3, 4, 5, 6, 6, 1, 1, 4, 2, 6, 5, 6, 6, 5, 6, 6, 1, 6, 1, 4, 5, 1, 4, 1, 4, 6, 2, 6, 1, 2, 6, 5, 2, 4, 2, 1, 4, 6, 6, 5, 3, 5], \"Freq\": [0.001349656384563632, 0.26183333860534463, 0.5965481219771255, 0.13631529484092686, 0.004048969153690896, 0.6426174173272816, 0.11758036077908594, 0.12107284674282116, 0.11874452276699768, 0.047478738429330335, 0.7618179393433459, 0.008632497896241879, 0.10790622370302348, 0.07553435659211644, 0.0711683175420279, 0.003745700923264627, 0.7244185585593789, 0.200769569486984, 0.1557851361123021, 0.0723288131949974, 0.7677981708392032, 0.005563754861153646, 1.0006602552115602, 0.006610316186045411, 0.9948525859998343, 0.04287684383436064, 0.9555410911657514, 1.0005692086363385, 1.0008464782753799, 0.03211100992643115, 0.6483365813717528, 0.1880787724262396, 0.04587287132347307, 0.0856293598038164, 0.9892736461190662, 0.01177706721570317, 1.0014005549810903, 0.7006739272072297, 0.030071842369408998, 0.1894526069272767, 0.07969038227893385, 1.000677783415865, 0.4179640630220962, 0.0883911915756699, 0.12374766820593784, 0.340937453220441, 0.030305551397372534, 0.9988568887091034, 0.03230451766174525, 0.856069718036249, 0.11306581181610835, 1.0014846219538016, 1.000905244478414, 1.0008902188840187, 0.1030301433282031, 0.2871331863245004, 0.4357668357160065, 0.17565794928087083, 1.0010762186865194, 1.000929603656101, 1.00125655970487, 1.0012077207326022, 1.0008565798573519, 0.05160144354807676, 0.9494665612846125, 1.0007038007642135, 0.8841127721847194, 0.1172479303614144, 1.0014166809241807, 0.9401761721892465, 0.06075968459726423, 0.18358712607349376, 0.817797197963745, 0.9986470748606948, 0.16203669166144588, 0.09513121897542952, 0.21221579617595818, 0.4714745028342716, 0.0355435323644462, 0.024044154246537133, 0.8876733786932591, 0.05379838658747025, 0.05977598509718916, 1.0009232070006013, 1.0011405923340724, 0.22478554160307676, 0.12863450068615376, 0.05847022758461534, 0.08835501057230763, 0.054572212412307655, 0.4456730680338458, 0.8979706728445822, 0.06289288759222754, 0.010482147932037923, 0.01747024655339654, 0.010482147932037923, 1.0012054579242848, 1.0008377676995694, 0.027202922576476458, 0.9738646282378572, 1.0009997587627582, 0.12329887229892572, 0.6270198749835613, 0.14284625449265784, 0.10675877967346008, 1.0011533851986314, 0.9747277228644029, 0.02606223857926211, 1.0007158947984607, 1.0015412153810397, 0.15398857291308288, 0.11703131541394299, 0.13058230983029429, 0.33507913465886835, 0.1724672016626528, 0.09239314374784972, 0.07021904823931421, 0.012767099679875311, 0.9160394020310536, 1.0006233227911703, 0.007106818025370373, 0.9949545235518522, 1.0014353322838527, 0.003974096573058132, 0.5351783385051618, 0.20135422636827868, 0.23049760123737167, 0.029143374869092967, 1.0005409449073632, 0.0667388730086181, 0.9343442221206534, 1.0004703460875688, 0.2810227066102445, 0.027706464031995934, 0.29157755005100483, 0.3615033878460422, 0.03958066290285133, 1.0011713851507558, 0.9525423269358528, 0.022152147138043088, 0.026582576565651706, 1.0006221736784704, 0.447531324190369, 0.1593033687101479, 0.12225607366127629, 0.1982030285114631, 0.07298317124627707, 0.10348816804065024, 0.0487003143720707, 0.225238953970827, 0.6239727778921559, 0.2648543941731052, 0.05200651953204016, 0.016187459721893296, 0.36542329287082526, 0.2187029132638775, 0.08265936879264663, 1.0009102375796655, 1.0005627037848261, 0.03490767837300655, 0.24230035576557488, 0.004106785690941947, 0.7186874959148407, 0.4887533939394009, 0.2882391810411852, 0.22432527567987887, 1.0011972543117929, 1.0011178750975704, 1.0008295595935794, 0.9169529549869571, 0.08211518999883198, 1.0009405085766252, 0.09876541771628827, 0.005064893216219911, 0.22158907820962112, 0.2747704569799302, 0.3140233794056345, 0.08736940797979346, 0.9589935154875198, 0.04198358708355501, 1.0016365992611382, 0.045214175853736105, 0.027402530820446122, 0.002740253082044612, 0.46310277086553947, 0.46036251778349485, 0.01517327007600812, 0.9862625549405278, 0.9994250906569815, 1.0009672714176903, 0.17857178006435487, 0.7455832054233373, 0.07547879363544896, 0.35079426705572236, 0.07129964777555332, 0.5770518159968115, 0.9790384521100822, 0.006701917527279513, 0.008935890036372685, 0.005584931272732928, 1.0009955938643758, 0.0877133021190467, 0.9136802304067364, 0.9988568887091034, 0.9995688178401622, 0.14072068249867908, 0.6610599503426319, 0.19962701470742844, 0.014562610217024706, 0.9866168422034238, 1.0011500391511918, 1.0013415354620343, 0.015342819817925566, 0.9844976049835572, 1.0008935636600074, 0.9352021573729785, 0.06601426993221025, 1.0006329042144535, 1.0006771115161333, 0.00807401179626476, 0.9931034509405654, 0.049866045590713504, 0.9512907158843807, 1.0008832715986367, 0.22291975035053585, 0.18284428961336086, 0.5936177621694044, 0.07208312355980319, 0.04144779604688684, 0.03423948369090652, 0.14596832520860148, 0.16398910609855227, 0.542425504787519, 0.6011271392672682, 0.30490160053556287, 0.06569018222920664, 0.02850706021267458, 0.9948903163682749, 0.005852295978636911, 1.000903869460645, 1.0020598250715769, 1.0006464700609359, 0.3591684127522266, 0.6340626727916403, 0.008026109782172662, 1.0009090724784264, 0.108076523822579, 0.8932206821807265, 0.9999106136946357, 0.23124584448743205, 0.767854791310832, 1.000618484229766, 1.0007423370185276, 0.42175613495797337, 0.11048081705759802, 0.04471842595188491, 0.23323728045492914, 0.19027251826586325, 0.25130644155452386, 0.14604223395998744, 0.2560480725272507, 0.1545771697108958, 0.1507838649327143, 0.04267467875454179, 0.2647330908210201, 0.734685631890893, 0.4962968091127606, 0.05936564702305749, 0.1313959654110339, 0.03878555605506422, 0.27387351826637185, 1.0010182385286872, 1.0016938383104166, 1.0010312834801578, 1.0009704002605313, 0.05287583031024772, 0.0342137725536897, 0.2628239800715254, 0.18817574904529336, 0.43078249988054756, 0.032658601073976536, 0.9921816047242777, 0.007295452975913807, 1.0009672714176903, 0.055047768741581106, 0.06815438034671946, 0.8755216552232423, 0.2419292493351083, 0.1117431061951397, 0.6465911775951774, 0.06513867752441022, 0.26617011333250384, 0.068507919465328, 0.16060053251708037, 0.07749256464110871, 0.3627550489721466, 0.0038512085768541548, 0.9281412670218513, 0.06932175438337479, 1.0008971494975947, 1.0011328531197965, 0.021551586902298418, 0.980597204054578, 1.0021840486266884, 1.0006592554759652, 0.9907749391779921, 0.010320572283104084, 1.000711117433043, 1.000671325922841, 1.0009440326093757, 1.0010137390445772, 1.0014050581964797, 0.033063615927060155, 0.23144531148942107, 0.7368462978030548, 1.000884795700994, 0.7362713635085985, 0.26481694818292917, 1.0013950379819927, 0.015247142227197528, 0.9859818640254401, 0.2499345954863419, 0.14801321498931416, 0.2901838030711554, 0.14801321498931416, 0.16359355340924198, 1.0009440326093757, 0.07150440126719095, 0.9295572164734823, 1.0013532330468664, 1.0017246620467017, 0.882082505123822, 0.05307135404271958, 0.03843098051369349, 0.02562065367579566, 0.029550678060381586, 0.03611749540713305, 0.9357714719120835, 0.34935862142089263, 0.07869511608798264, 0.47097834628413854, 0.019077603900117004, 0.08227216681925459, 1.000929392566733, 1.0010171071124618, 1.0011987843547474, 0.9773965827640565, 0.013435004574076379, 0.010076253430557285, 1.0009332953994658, 0.3381151722681557, 0.1356176240416229, 0.5276082907920672, 0.2979370317518521, 0.18703824771088493, 0.5147689826379221, 0.27158814042003404, 0.6931155666969618, 0.03677756068187961, 0.26323883297346734, 0.1493727331291303, 0.580349799206621, 0.0073461999899572285, 0.04938903647552468, 0.9493670344739744, 0.13714480550128297, 0.8643312160662252, 0.981932926854821, 0.018883325516438867, 0.9649755639554152, 0.036122079934159924, 0.8638026226983698, 0.002988936410721003, 0.09265702873235108, 0.04184510975009404, 0.022689991436273385, 0.6085043157909681, 0.1732690255133604, 0.10313632471033357, 0.041254529884133424, 0.051568162355166786, 0.2812840920687025, 0.1300157581117558, 0.3700448500103819, 0.03125378800763361, 0.16001939459908407, 0.028753484967022916, 1.0012471297369623, 0.2264880427705086, 0.02388741076095208, 0.7502416416773098, 0.9180657893306963, 0.022101583817220466, 0.05950426412328587, 1.0007135368191569, 1.0020066745109695, 1.0009020394997439, 1.0008457872434962, 1.001020593058678, 0.7631576459172398, 0.1057493273788323, 0.13218665922354036, 0.02422859827218712, 0.3614099242267912, 0.4563052674595241, 0.15950493862523188, 0.21895102005271905, 0.038867044979772614, 0.04404931764374229, 0.12178340760328751, 0.545434197882809, 0.03109363598381809, 0.9990146423051252, 0.02696292986275281, 0.040444394794129215, 0.040444394794129215, 0.894270507114635, 1.000883904308301, 1.0020501394381867, 1.0005824666344454, 0.06358145756089824, 0.937826499023249, 0.041173181384662076, 0.8811060816317685, 0.029644690596956697, 0.018116199809251315, 0.029644690596956697, 0.015701903671282755, 0.023552855506924132, 0.9604331078934619, 1.0011489747408244, 1.0015705623322801, 0.024301968838242153, 0.9769391472973346, 0.009627364192561825, 0.9916185118338681, 1.0016938383104166, 1.0007665621735025, 1.000711149003338, 1.000799621712107, 1.0010724250070733, 1.0013579478816141, 0.5011763232501164, 0.010273013946561682, 0.04255962920718412, 0.2891119639246645, 0.15629656932983133, 0.9997871947802899, 0.9993523581754157, 0.2519126915841643, 0.7473409850330208, 1.0009694255318697, 1.0017532042347297, 0.09431107935817334, 0.10609996427794502, 0.8016441745444735, 0.9883877576150196, 0.012892014229761125, 1.0005183337433268, 0.986948126261145, 0.014303596032770217, 1.0010843822295743, 0.6033977904698975, 0.18172506555087556, 0.14379216351841123, 0.03528642049531564, 0.036168581007698535, 1.000929603656101, 0.9742033476011366, 0.026690502674003743, 1.0011006026201867, 1.0011217378284925, 0.008115310266543238, 0.990067852518275, 0.9866742734257862, 0.012256823272370015, 0.9965202384979427, 0.00431394042639802, 1.0006771115161333, 1.0009493897677695, 0.09505365877662271, 0.08871674819151452, 0.8174614654789553, 0.9469365346964401, 0.004171526584565816, 0.050058319014789784, 0.9985946872735457, 1.001243760270091, 0.039826119413938196, 0.9615163115650793, 0.03394317531420131, 0.8917797878003799, 0.020057330867482594, 0.04474327655053809, 0.009257229631145813, 0.09195503902461337, 0.02724593748877433, 0.8752757418268754, 0.006811484372193583, 0.5729736027209994, 0.03651302370280879, 0.02949128837534556, 0.09409125338800726, 0.19801293623446303, 0.07021735327463229, 1.0006947279304113, 0.9681923987244331, 0.033100594828185746, 0.46959074731925765, 0.20125317742253898, 0.06459978534550634, 0.2658529627680453, 0.4208879687641317, 0.5054994676393954, 0.01844096770358309, 0.04339051224372492, 0.011932390867024353, 0.008594629343115126, 0.992679689129797, 1.0011826297678315, 1.0010593071181757, 1.0005824666344454, 0.05481012586690888, 0.7374453298456831, 0.20927502603728845, 0.6025556411920301, 0.36222998083220304, 0.03657129614171281, 0.34348536151635595, 0.12928231319065794, 0.42460367567520013, 0.03675673610322628, 0.06590863025406092, 1.001922859941597, 1.0018274215362235, 0.00834985615387612, 0.9936328823112582, 1.0021791266482474, 1.001714654132149, 1.000677783415865, 0.21699052812311212, 0.03912943949761038, 0.620735199303001, 0.04624388304263045, 0.060472770132670585, 0.016007497976295155, 0.11320713851499802, 0.3841495566942266, 0.3366025585179275, 0.05282999797366574, 0.11320713851499802, 0.023132860294399038, 0.6466685945934276, 0.11881878242123142, 0.05362617613701595, 0.02418435394414445, 0.13353969351766717, 0.024683861431274663, 0.9774809126784767, 1.0005836576724148, 1.0010029224494348, 0.10254190959848414, 0.4556561546819859, 0.13261058985668625, 0.09097703257609871, 0.10716786040743831, 0.11179381121639248, 0.6700746700791275, 0.23781081428298445, 0.0013138719021159363, 0.0906571612459996, 0.6800628401937586, 0.2935008047152011, 0.0265889230752447, 0.40759545277971954, 0.43904976424825093, 0.15333976840909064, 0.023795152392609042, 0.0029743940490761303, 0.9726268540478946, 1.0009142366917751, 0.029703677846000132, 0.008486765098857181, 0.8614066575340039, 0.07638088588971463, 0.025460295296571542, 0.06664970599271794, 0.1894254801898299, 0.12102183456572467, 0.6226485691424964, 0.9927678721742402, 0.008273065601452, 0.0985627305334547, 0.8397544641450341, 0.06308014754141102, 1.0014254388674169, 0.02586011363860176, 0.9762192898572165, 0.8285715741270159, 0.07287111563983527, 0.07017218543095248, 0.029688232297710664, 0.0024076692267684416, 0.9979788944955191, 1.0011495166889075, 0.9994372951579625, 1.0008457872434962, 0.998885152852038, 0.979008817438657, 0.013641066052199936, 0.007345189412723043, 0.9936045757520761, 0.007341905732158197, 0.9912321473903932, 0.00957712219700863, 1.001295664841658, 1.0007519053206622, 0.5742354247617536, 0.03901856091329864, 0.38650461282041104, 1.0008375687863635, 0.15318425401117988, 0.8470958320105417, 1.001030694903497, 1.0006421126292877, 0.06757554142173271, 0.9321721946806142, 1.0005627037848261, 1.0005909372060695, 1.001148450799583, 0.9407225697259357, 0.060137515872890866, 0.0025611392556267815, 0.8400536758455843, 0.12805696278133907, 0.030733671067521378, 1.0016604480700069, 1.0019726611110868, 0.08698321145067318, 0.10705626024698238, 0.5888094313584031, 0.022303387551454664, 0.14274168032930984, 0.05352813012349119, 0.9975313935973456, 0.7877295314387914, 0.021099898163539056, 0.19224351660113362, 0.14895506673525183, 0.020312054554807068, 0.8294088943212886, 1.000725039262331, 1.0005183337433268, 1.0011108538072677, 0.9366911246379759, 0.057279673089372624, 0.00606490656240416, 0.7154160491576593, 0.2861664196630637, 0.20025901968846319, 0.8010360787538527, 1.001911739968248, 0.26354747560032327, 0.44803070852054955, 0.2734305059353354, 0.01537360274335219, 0.9451027071101782, 0.05610198718005624, 0.34234541562879073, 0.6588976835047273, 0.02190651154396645, 0.16899308905345548, 0.6728428545646838, 0.13769807256207484, 0.9984557709909828, 1.0012244354302402, 0.754768059687926, 0.15539342405339654, 0.09126280460278845, 1.0009020394997439, 0.9989542593877415, 1.001289777448468, 1.0008322626850426, 1.0013873192739895, 0.9958309997191269, 0.005382870268752037, 1.0004448545177156, 0.055906475245991336, 0.08625570466524378, 0.42329188400536294, 0.17890072078717228, 0.18529003224385698, 0.07187975388770315, 0.9821135465561058, 0.017444290347355344, 0.7602918447935171, 0.2160456639708286, 0.023611547974953948, 1.0008991957722644, 0.8416322394849576, 0.025165083572639926, 0.1342137790540796, 0.10652958141997086, 0.19175324655594755, 0.7030952373718077, 0.8647314179758864, 0.03994683180866866, 0.0963423590679656, 0.5508296985536347, 0.05881254593932037, 0.08606714039900543, 0.216602303337497, 0.08319823571903857, 0.005737809359933695, 0.053601989816737035, 0.945344184040635, 0.002894687190444212, 0.23302231883075908, 0.3922301143051908, 0.1939440417597622, 0.0694724925706611, 0.10999811323688007, 0.7289888645514011, 0.27125167053075394, 1.0012276115811423, 1.001062287943539, 0.9992336032471021, 1.0008687773150469, 1.001275906329547, 0.23622345130978248, 0.19786237802015968, 0.4684088949048678, 0.03230406171757709, 0.06662712729250275, 0.935268260906826, 0.06597327981500432, 1.0012181399986841, 1.000884795700994, 1.0009352303056807, 0.3012143074905002, 0.09320593665743779, 0.155722113683768, 0.3432706447627587, 0.10002588324212837, 0.006819946584690571, 0.7424182808888509, 0.010631288031821253, 0.13997862575231318, 0.03189386409546376, 0.07619089756138565, 0.601995629951146, 0.023762985392808394, 0.06653635909986351, 0.13782531527828867, 0.17109349482822045, 0.010649392714054653, 0.04259757085621861, 0.9371465588368095, 0.010649392714054653, 0.40913850662481255, 0.06855834435334697, 0.017692475962154057, 0.5042355649213905, 1.0009061723992823, 1.0008156539916826, 0.5330242102704906, 0.16135388411110885, 0.16691781114942295, 0.06120319742145508, 0.07789497853639737, 0.06032543692686964, 0.32291851531441984, 0.117102318740394, 0.23065608236744276, 0.1552492862088557, 0.11532804118372138, 1.0009354544957163, 0.018775122619264163, 0.9825647504081578, 0.9810858084990974, 0.020022159357124435, 1.0012338278205073, 0.02482853678987506, 0.9558986664101897, 0.02069044732489588, 1.0015561179147925, 0.02777031385817589, 0.060589775690565575, 0.9113712093455905, 0.050002493131741016, 0.206010271702773, 0.03200159560431425, 0.7120355021959921, 1.0017622545364124, 0.23551006736259578, 0.12052574035615195, 0.1468474537672656, 0.3754307544427262, 0.12329644703100602, 0.9992165524821719, 1.0005991301904764, 0.9978971918950515, 0.0030147951416768927, 0.002701699953922312, 0.9969272829973331, 0.9355300011786721, 0.06594044061171257, 1.0007100079918807, 1.001289777448468, 1.0017881286538364, 0.9995196319185694, 0.9986268251348038, 0.0023278014571906846, 0.7277719902584693, 0.018103780852200727, 0.25526331001603025, 1.0009232955374125, 1.0013653346183036, 0.026794520122999984, 0.026794520122999984, 0.9485260123541995, 0.05475995835470422, 0.9473472795363831, 1.000848948471233, 0.9915922610396134, 0.009534540971534744, 0.999159129563035, 0.9982909515839784, 0.0029361498575999367, 1.0008892171312103, 0.9072142001971515, 0.07872519919066191, 0.014995276036316554, 0.9979749145425314, 1.0012826948714193, 0.9996655546008089, 0.9988983572610416], \"Term\": [\"\\u4e00\\u540d\", \"\\u4e00\\u540d\", \"\\u4e00\\u540d\", \"\\u4e00\\u540d\", \"\\u4e00\\u540d\", \"\\u4e00\\u8d77\", \"\\u4e00\\u8d77\", \"\\u4e00\\u8d77\", \"\\u4e00\\u8d77\", \"\\u4e0a\\u5348\", \"\\u4e0a\\u5348\", \"\\u4e0a\\u5348\", \"\\u4e0a\\u5348\", \"\\u4e0a\\u5348\", \"\\u4e2d\\u570b\", \"\\u4e2d\\u570b\", \"\\u4e2d\\u570b\", \"\\u4e2d\\u570b\", \"\\u4e2d\\u592e\\u793e\", \"\\u4e2d\\u592e\\u793e\", \"\\u4e2d\\u592e\\u793e\", \"\\u4e2d\\u592e\\u793e\", \"\\u4e2d\\u65b9\", \"\\u4e3b\\u59d4\", \"\\u4e3b\\u59d4\", \"\\u4e3b\\u5e2d\", \"\\u4e3b\\u5e2d\", \"\\u4e3b\\u6f14\", \"\\u4e58\\u5ba2\", \"\\u4e8b\\u4ef6\", \"\\u4e8b\\u4ef6\", \"\\u4e8b\\u4ef6\", \"\\u4e8b\\u4ef6\", \"\\u4e8b\\u4ef6\", \"\\u4e8b\\u6545\", \"\\u4e8b\\u6545\", \"\\u4eba\\u4e8b\", \"\\u4eba\\u54e1\", \"\\u4eba\\u54e1\", \"\\u4eba\\u54e1\", \"\\u4eba\\u54e1\", \"\\u4eba\\u5de5\\u667a\\u6167\", \"\\u4eca\\u5e74\", \"\\u4eca\\u5e74\", \"\\u4eca\\u5e74\", \"\\u4eca\\u5e74\", \"\\u4eca\\u5e74\", \"\\u4ee5\\u8272\\u5217\", \"\\u4f01\\u696d\", \"\\u4f01\\u696d\", \"\\u4f01\\u696d\", \"\\u4f0a\\u6717\", \"\\u4f59\\u5e73\", \"\\u4f5c\\u54c1\", \"\\u4f7f\\u7528\", \"\\u4f7f\\u7528\", \"\\u4f7f\\u7528\", \"\\u4f7f\\u7528\", \"\\u4fc4\\u7f85\\u65af\", \"\\u5012\\u584c\", \"\\u5075\\u8fa6\", \"\\u5077\\u62cd\", \"\\u50be\\u659c\", \"\\u5104\\u7f8e\\u5143\", \"\\u5104\\u7f8e\\u5143\", \"\\u5145\\u6eff\", \"\\u5152\\u5c11\", \"\\u5152\\u5c11\", \"\\u5167\\u95a3\", \"\\u5168\\u65b0\", \"\\u5168\\u65b0\", \"\\u5168\\u7403\", \"\\u5168\\u7403\", \"\\u5169\\u5cb8\", \"\\u516c\\u53f8\", \"\\u516c\\u53f8\", \"\\u516c\\u53f8\", \"\\u516c\\u53f8\", \"\\u516c\\u53f8\", \"\\u516c\\u53f8\", \"\\u516c\\u91cc\", \"\\u516c\\u91cc\", \"\\u516c\\u91cc\", \"\\u51f1\\u51f1\", \"\\u51fa\\u4efb\", \"\\u51fa\\u73fe\", \"\\u51fa\\u73fe\", \"\\u51fa\\u73fe\", \"\\u51fa\\u73fe\", \"\\u51fa\\u73fe\", \"\\u51fa\\u73fe\", \"\\u5206\\u4eab\", \"\\u5206\\u4eab\", \"\\u5206\\u4eab\", \"\\u5206\\u4eab\", \"\\u5206\\u4eab\", \"\\u5206\\u5c40\", \"\\u5211\\u4e8b\", \"\\u5217\\u8eca\", \"\\u5217\\u8eca\", \"\\u5224\\u5211\", \"\\u524d\\u5f80\", \"\\u524d\\u5f80\", \"\\u524d\\u5f80\", \"\\u524d\\u5f80\", \"\\u525d\\u524a\", \"\\u5275\\u4f5c\", \"\\u5275\\u4f5c\", \"\\u5287\\u4e2d\", \"\\u52a0\\u8b77\", \"\\u5305\\u62ec\", \"\\u5305\\u62ec\", \"\\u5305\\u62ec\", \"\\u5305\\u62ec\", \"\\u5305\\u62ec\", \"\\u5305\\u62ec\", \"\\u5317\\u90e8\", \"\\u5317\\u90e8\", \"\\u5317\\u90e8\", \"\\u5317\\u97d3\", \"\\u5348\\u5f8c\", \"\\u5348\\u5f8c\", \"\\u5353\\u69ae\\u6cf0\", \"\\u5354\\u52a9\", \"\\u5354\\u52a9\", \"\\u5354\\u52a9\", \"\\u5354\\u52a9\", \"\\u5354\\u52a9\", \"\\u5357\\u6d77\", \"\\u5357\\u97d3\", \"\\u5357\\u97d3\", \"\\u5370\\u592a\", \"\\u53bb\\u5e74\", \"\\u53bb\\u5e74\", \"\\u53bb\\u5e74\", \"\\u53bb\\u5e74\", \"\\u53bb\\u5e74\", \"\\u53d7\\u56f0\", \"\\u53d7\\u5bb3\\u8005\", \"\\u53d7\\u5bb3\\u8005\", \"\\u53d7\\u5bb3\\u8005\", \"\\u53ef\\u611b\", \"\\u53f0\\u5317\", \"\\u53f0\\u5317\", \"\\u53f0\\u5317\", \"\\u53f0\\u5317\", \"\\u53f0\\u5317\", \"\\u53f0\\u5e63\", \"\\u53f0\\u5e63\", \"\\u53f0\\u5e63\", \"\\u53f0\\u5e63\", \"\\u53f0\\u7063\", \"\\u53f0\\u7063\", \"\\u53f0\\u7063\", \"\\u53f0\\u7063\", \"\\u53f0\\u7063\", \"\\u53f0\\u7063\", \"\\u53f0\\u7dda\", \"\\u5404\\u570b\", \"\\u5404\\u5730\", \"\\u5404\\u5730\", \"\\u5404\\u5730\", \"\\u5404\\u5730\", \"\\u5408\\u4f5c\", \"\\u5408\\u4f5c\", \"\\u5408\\u4f5c\", \"\\u5433\\u601d\\u7464\", \"\\u5468\\u6069\\u83ef\", \"\\u548c\\u89e3\", \"\\u54c1\\u724c\", \"\\u54c1\\u724c\", \"\\u54e1\\u8b66\", \"\\u554f\\u984c\", \"\\u554f\\u984c\", \"\\u554f\\u984c\", \"\\u554f\\u984c\", \"\\u554f\\u984c\", \"\\u554f\\u984c\", \"\\u559c\\u6b61\", \"\\u559c\\u6b61\", \"\\u5614\\u5410\", \"\\u570b\\u5bb6\", \"\\u570b\\u5bb6\", \"\\u570b\\u5bb6\", \"\\u570b\\u5bb6\", \"\\u570b\\u5bb6\", \"\\u570b\\u6703\", \"\\u570b\\u6703\", \"\\u570b\\u6c11\\u9ee8\", \"\\u570b\\u9053\", \"\\u570b\\u969b\", \"\\u570b\\u969b\", \"\\u570b\\u969b\", \"\\u5730\\u5340\", \"\\u5730\\u5340\", \"\\u5730\\u5340\", \"\\u5730\\u9707\", \"\\u5730\\u9707\", \"\\u5730\\u9707\", \"\\u5730\\u9707\", \"\\u57f7\\u653f\", \"\\u57fa\\u91d1\\u6703\", \"\\u57fa\\u91d1\\u6703\", \"\\u5916\\u96fb\", \"\\u591a\\u96f2\", \"\\u5927\\u5b78\", \"\\u5927\\u5b78\", \"\\u5927\\u5b78\", \"\\u5927\\u6a13\", \"\\u5927\\u6a13\", \"\\u5927\\u7532\", \"\\u5927\\u8c37\", \"\\u5929\\u6c23\", \"\\u5929\\u6c23\", \"\\u5931\\u806f\", \"\\u5967\\u904b\", \"\\u5967\\u904b\", \"\\u5973\\u661f\", \"\\u5973\\u795e\", \"\\u59d4\\u54e1\", \"\\u59d4\\u54e1\", \"\\u5abd\\u7956\", \"\\u5abd\\u7956\", \"\\u5b5f\\u803f\\u5982\", \"\\u5b78\\u6821\", \"\\u5b78\\u6821\", \"\\u5b78\\u6821\", \"\\u5b78\\u751f\", \"\\u5b78\\u751f\", \"\\u5b78\\u751f\", \"\\u5b78\\u751f\", \"\\u5b78\\u751f\", \"\\u5b78\\u751f\", \"\\u5b89\\u5168\", \"\\u5b89\\u5168\", \"\\u5b89\\u5168\", \"\\u5b89\\u5168\", \"\\u5b9b\\u5982\", \"\\u5b9b\\u5982\", \"\\u5be9\\u7406\", \"\\u5bf6\\u6797\", \"\\u5c08\\u8f2f\", \"\\u5c0d\\u65b9\", \"\\u5c0d\\u65b9\", \"\\u5c0d\\u65b9\", \"\\u5c0e\\u6f14\", \"\\u5c11\\u5973\", \"\\u5c11\\u5973\", \"\\u5c40\\u90e8\", \"\\u5c71\\u5340\", \"\\u5c71\\u5340\", \"\\u5c71\\u8c6c\", \"\\u5ddd\\u666e\", \"\\u5de5\\u4f5c\", \"\\u5de5\\u4f5c\", \"\\u5de5\\u4f5c\", \"\\u5de5\\u4f5c\", \"\\u5de5\\u4f5c\", \"\\u5df2\\u7d93\", \"\\u5df2\\u7d93\", \"\\u5df2\\u7d93\", \"\\u5df2\\u7d93\", \"\\u5df2\\u7d93\", \"\\u5df2\\u7d93\", \"\\u5e02\\u9577\", \"\\u5e02\\u9577\", \"\\u5e0c\\u671b\", \"\\u5e0c\\u671b\", \"\\u5e0c\\u671b\", \"\\u5e0c\\u671b\", \"\\u5e0c\\u671b\", \"\\u5ed6\\u67cf\\u748b\", \"\\u5eda\\u5e2b\", \"\\u5f35\\u5609\\u822a\", \"\\u5f35\\u6c9b\\u68ee\", \"\\u5f37\\u8abf\", \"\\u5f37\\u8abf\", \"\\u5f37\\u8abf\", \"\\u5f37\\u8abf\", \"\\u5f37\\u8abf\", \"\\u5f37\\u8abf\", \"\\u5f37\\u9707\", \"\\u5f37\\u9707\", \"\\u5f70\\u5316\", \"\\u5f71\\u50cf\", \"\\u5f71\\u50cf\", \"\\u5f71\\u50cf\", \"\\u5f71\\u7247\", \"\\u5f71\\u7247\", \"\\u5f71\\u7247\", \"\\u5f71\\u97ff\", \"\\u5f71\\u97ff\", \"\\u5f71\\u97ff\", \"\\u5f71\\u97ff\", \"\\u5f71\\u97ff\", \"\\u5f71\\u97ff\", \"\\u5f8b\\u5e2b\", \"\\u5f8b\\u5e2b\", \"\\u5f8b\\u5e2b\", \"\\u5f92\\u5211\", \"\\u6027\\u4fb5\", \"\\u60a3\\u8005\", \"\\u60a3\\u8005\", \"\\u60b6\\u71b1\", \"\\u611b\\u60c5\", \"\\u61c9\\u8b8a\", \"\\u61c9\\u8b8a\", \"\\u6210\\u672c\", \"\\u6232\\u5287\", \"\\u623f\\u5c4b\", \"\\u6295\\u624b\", \"\\u6295\\u7968\", \"\\u6295\\u8cc7\", \"\\u6295\\u8cc7\", \"\\u6295\\u8cc7\", \"\\u62c6\\u9664\", \"\\u62cd\\u651d\", \"\\u62cd\\u651d\", \"\\u62dc\\u767b\", \"\\u6301\\u6709\", \"\\u6301\\u6709\", \"\\u6307\\u51fa\", \"\\u6307\\u51fa\", \"\\u6307\\u51fa\", \"\\u6307\\u51fa\", \"\\u6307\\u51fa\", \"\\u6389\\u843d\", \"\\u63a1\\u53d6\", \"\\u63a1\\u53d6\", \"\\u63a5\\u4efb\", \"\\u63a5\\u7a2e\", \"\\u63a8\\u51fa\", \"\\u63a8\\u51fa\", \"\\u63a8\\u51fa\", \"\\u63a8\\u51fa\", \"\\u63a8\\u52d5\", \"\\u63a8\\u52d5\", \"\\u63a8\\u52d5\", \"\\u63d0\\u4f9b\", \"\\u63d0\\u4f9b\", \"\\u63d0\\u4f9b\", \"\\u63d0\\u4f9b\", \"\\u63d0\\u4f9b\", \"\\u63d0\\u544a\", \"\\u63d0\\u6848\", \"\\u641c\\u6551\", \"\\u642d\\u914d\", \"\\u642d\\u914d\", \"\\u642d\\u914d\", \"\\u6436\\u4fee\", \"\\u64d4\\u4efb\", \"\\u64d4\\u4efb\", \"\\u64d4\\u4efb\", \"\\u652f\\u6301\", \"\\u652f\\u6301\", \"\\u652f\\u6301\", \"\\u653b\\u64ca\", \"\\u653b\\u64ca\", \"\\u653b\\u64ca\", \"\\u653f\\u5e9c\", \"\\u653f\\u5e9c\", \"\\u653f\\u5e9c\", \"\\u653f\\u5e9c\", \"\\u653f\\u6cbb\", \"\\u653f\\u6cbb\", \"\\u653f\\u7b56\", \"\\u653f\\u7b56\", \"\\u6545\\u4e8b\", \"\\u6545\\u4e8b\", \"\\u6551\\u63f4\", \"\\u6551\\u63f4\", \"\\u65b0\\u5317\\u5e02\", \"\\u65b0\\u5317\\u5e02\", \"\\u65b0\\u5317\\u5e02\", \"\\u65b0\\u5317\\u5e02\", \"\\u65b0\\u805e\", \"\\u65b0\\u805e\", \"\\u65b0\\u805e\", \"\\u65b0\\u805e\", \"\\u65b0\\u805e\", \"\\u65b0\\u805e\", \"\\u65e5\\u524d\", \"\\u65e5\\u524d\", \"\\u65e5\\u524d\", \"\\u65e5\\u524d\", \"\\u65e5\\u524d\", \"\\u65e5\\u524d\", \"\\u65e5\\u5713\", \"\\u65e5\\u672c\", \"\\u65e5\\u672c\", \"\\u65e5\\u672c\", \"\\u6642\\u5206\", \"\\u6642\\u5206\", \"\\u6642\\u5206\", \"\\u6642\\u5c1a\", \"\\u6674\\u6642\\u591a\\u96f2\", \"\\u66fe\\u4f73\\u4fca\", \"\\u6709\\u671f\\u5f92\\u5211\", \"\\u6709\\u9650\\u516c\\u53f8\", \"\\u670b\\u53cb\", \"\\u670b\\u53cb\", \"\\u670b\\u53cb\", \"\\u670d\\u52d9\", \"\\u670d\\u52d9\", \"\\u670d\\u52d9\", \"\\u670d\\u52d9\", \"\\u672a\\u4f86\", \"\\u672a\\u4f86\", \"\\u672a\\u4f86\", \"\\u672a\\u4f86\", \"\\u672a\\u4f86\", \"\\u672a\\u4f86\", \"\\u672a\\u6210\\u5e74\", \"\\u672c\\u9031\", \"\\u672c\\u9031\", \"\\u672c\\u9031\", \"\\u672c\\u9031\", \"\\u674e\\u5a01\\u7ff0\", \"\\u6771\\u534a\", \"\\u6797\\u4e1e\\u5049\", \"\\u67ef\\u6587\", \"\\u67ef\\u6587\", \"\\u6843\\u5712\", \"\\u6843\\u5712\", \"\\u6843\\u5712\", \"\\u6843\\u5712\", \"\\u6843\\u5712\", \"\\u6a5f\\u7387\", \"\\u6a5f\\u7387\", \"\\u6a5f\\u7387\", \"\\u6a5f\\u8eca\", \"\\u6aa2\\u51fa\", \"\\u6aa2\\u5bdf\\u5b98\", \"\\u6aa2\\u5bdf\\u5b98\", \"\\u6aa2\\u65b9\", \"\\u6aa2\\u65b9\", \"\\u6aa2\\u9ad4\", \"\\u6b4c\\u624b\", \"\\u6b4c\\u66f2\", \"\\u6b4c\\u8ff7\", \"\\u6b65\\u9053\", \"\\u6c11\\u4e3b\", \"\\u6c11\\u773e\", \"\\u6c11\\u773e\", \"\\u6c11\\u773e\", \"\\u6c11\\u773e\", \"\\u6c11\\u773e\", \"\\u6c11\\u9032\\u9ee8\", \"\\u6c23\\u6eab\", \"\\u6c23\\u8c61\", \"\\u6c23\\u8c61\", \"\\u6c34\\u539f\", \"\\u6c34\\u6c23\", \"\\u6cbb\\u7642\", \"\\u6cbb\\u7642\", \"\\u6cbb\\u7642\", \"\\u6cd5\\u5b98\", \"\\u6cd5\\u5b98\", \"\\u6cd5\\u65b0\\u793e\", \"\\u6cd5\\u9662\", \"\\u6cd5\\u9662\", \"\\u6d17\\u9322\", \"\\u6d3b\\u52d5\", \"\\u6d3b\\u52d5\", \"\\u6d3b\\u52d5\", \"\\u6d3b\\u52d5\", \"\\u6d3b\\u52d5\", \"\\u6d3e\\u51fa\\u6240\", \"\\u6d77\\u8ecd\", \"\\u6d77\\u8ecd\", \"\\u6d88\\u9632\\u5c40\", \"\\u6d89\\u5acc\", \"\\u6eab\\u5ea6\", \"\\u6eab\\u5ea6\", \"\\u6f14\\u51fa\", \"\\u6f14\\u51fa\", \"\\u6f14\\u54e1\", \"\\u6f14\\u54e1\", \"\\u6f14\\u5531\", \"\\u6f14\\u5531\\u6703\", \"\\u6fb3\\u6d32\", \"\\u6fb3\\u6d32\", \"\\u6fb3\\u6d32\", \"\\u707d\\u5bb3\", \"\\u707d\\u5bb3\", \"\\u707d\\u5bb3\", \"\\u707d\\u60c5\", \"\\u70cf\\u514b\\u862d\", \"\\u7121\\u4eba\\u6a5f\", \"\\u7121\\u4eba\\u6a5f\", \"\\u71b1\\u9580\", \"\\u71b1\\u9580\", \"\\u71b1\\u9580\", \"\\u71b1\\u9580\", \"\\u71b1\\u9580\", \"\\u7206\\u6599\", \"\\u7206\\u6599\", \"\\u7206\\u6599\", \"\\u7206\\u6599\", \"\\u7279\\u5225\", \"\\u7279\\u5225\", \"\\u7279\\u5225\", \"\\u7279\\u5225\", \"\\u7279\\u5225\", \"\\u7279\\u5225\", \"\\u7279\\u65af\\u62c9\", \"\\u72af\\u7f6a\", \"\\u72af\\u7f6a\", \"\\u73fe\\u5728\", \"\\u73fe\\u5728\", \"\\u73fe\\u5728\", \"\\u73fe\\u5728\", \"\\u73fe\\u5834\", \"\\u73fe\\u5834\", \"\\u73fe\\u5834\", \"\\u73fe\\u5834\", \"\\u73fe\\u5834\", \"\\u7403\\u54e1\", \"\\u7403\\u54e1\", \"\\u7403\\u8ff7\", \"\\u7403\\u968a\", \"\\u751f\\u65e5\", \"\\u7522\\u54c1\", \"\\u7522\\u54c1\", \"\\u7522\\u54c1\", \"\\u7537\\u5b50\", \"\\u7537\\u5b50\", \"\\u7537\\u5b50\", \"\\u7576\\u6642\", \"\\u7576\\u6642\", \"\\u7576\\u6642\", \"\\u7576\\u6642\", \"\\u7576\\u6642\", \"\\u75c5\\u4eba\", \"\\u75c5\\u60a3\", \"\\u75c5\\u623f\", \"\\u75c5\\u623f\", \"\\u75c7\\u72c0\", \"\\u764c\\u75c7\", \"\\u767c\\u5c04\", \"\\u767c\\u6587\", \"\\u767c\\u6587\", \"\\u767c\\u6587\", \"\\u767c\\u6587\", \"\\u767c\\u6587\", \"\\u767c\\u6587\", \"\\u767c\\u73fe\", \"\\u767c\\u73fe\", \"\\u767c\\u73fe\", \"\\u767c\\u73fe\", \"\\u767c\\u73fe\", \"\\u767c\\u751f\", \"\\u767c\\u751f\", \"\\u767c\\u751f\", \"\\u767c\\u751f\", \"\\u767c\\u751f\", \"\\u767c\\u751f\", \"\\u767d\\u5929\", \"\\u767d\\u5929\", \"\\u767d\\u5bae\", \"\\u76e7\\u7e23\", \"\\u76ee\\u524d\", \"\\u76ee\\u524d\", \"\\u76ee\\u524d\", \"\\u76ee\\u524d\", \"\\u76ee\\u524d\", \"\\u76ee\\u524d\", \"\\u770b\\u5230\", \"\\u770b\\u5230\", \"\\u770b\\u5230\", \"\\u770b\\u5230\", \"\\u771f\\u7684\", \"\\u771f\\u7684\", \"\\u771f\\u7684\", \"\\u77e5\\u9053\", \"\\u77e5\\u9053\", \"\\u77e5\\u9053\", \"\\u77ed\\u66ab\", \"\\u77ed\\u66ab\", \"\\u77ed\\u66ab\", \"\\u7802\\u5361\", \"\\u7814\\u7a76\", \"\\u7814\\u7a76\", \"\\u7814\\u7a76\", \"\\u7814\\u7a76\", \"\\u7814\\u7a76\", \"\\u793e\\u6703\", \"\\u793e\\u6703\", \"\\u793e\\u6703\", \"\\u793e\\u6703\", \"\\u79c1\\u623f\", \"\\u79c1\\u623f\", \"\\u79d1\\u6280\", \"\\u79d1\\u6280\", \"\\u79d1\\u6280\", \"\\u79d8\\u66f8\\u9577\", \"\\u7a3d\\u67e5\", \"\\u7a3d\\u67e5\", \"\\u7acb\\u5373\", \"\\u7acb\\u5373\", \"\\u7acb\\u5373\", \"\\u7acb\\u5373\", \"\\u7acb\\u59d4\", \"\\u7acb\\u59d4\", \"\\u7acb\\u6cd5\", \"\\u7acb\\u6cd5\\u9662\", \"\\u7b2c\\u671f\", \"\\u7bc0\\u76ee\", \"\\u7c89\\u7d72\", \"\\u7c89\\u7d72\", \"\\u7c89\\u7d72\", \"\\u7cfb\\u5217\", \"\\u7cfb\\u5217\", \"\\u7d50\\u5a5a\", \"\\u7d50\\u5a5a\", \"\\u7d71\\u795e\", \"\\u7d93\\u5178\", \"\\u7db2\\u53cb\", \"\\u7db2\\u53cb\", \"\\u7db2\\u53cb\", \"\\u7e3d\\u7406\", \"\\u7e3d\\u7d71\", \"\\u7e3d\\u7d71\", \"\\u7e3d\\u7d71\\u5e9c\", \"\\u7f8e\\u5143\", \"\\u7f8e\\u570b\", \"\\u7f8e\\u570b\", \"\\u7f8e\\u65b9\", \"\\u7f8e\\u98df\", \"\\u7fd4\\u5e73\", \"\\u8001\\u5a46\", \"\\u8001\\u5a46\", \"\\u806f\\u76df\", \"\\u806f\\u76df\", \"\\u806f\\u76df\", \"\\u806f\\u76df\", \"\\u8178\\u75c5\\u6bd2\", \"\\u8179\\u7009\", \"\\u81c9\\u66f8\", \"\\u81c9\\u66f8\", \"\\u81c9\\u66f8\", \"\\u81c9\\u66f8\", \"\\u81c9\\u66f8\", \"\\u81c9\\u66f8\", \"\\u81f3\\u5ea6\", \"\\u8209\\u8fa6\", \"\\u8209\\u8fa6\", \"\\u8209\\u8fa6\", \"\\u8212\\u9069\", \"\\u8212\\u9069\", \"\\u8212\\u9069\", \"\\u821e\\u53f0\", \"\\u8266\\u9577\", \"\\u82ae\\u6c0f\", \"\\u82b1\\u84ee\", \"\\u82b1\\u84ee\", \"\\u82b1\\u84ee\", \"\\u82b1\\u84ee\\u7e23\", \"\\u82b1\\u84ee\\u7e23\", \"\\u82f1\\u570b\", \"\\u82f1\\u570b\", \"\\u8336\\u5ba4\", \"\\u842c\\u5143\", \"\\u842c\\u5143\", \"\\u842c\\u5143\", \"\\u842c\\u5143\", \"\\u843d\\u77f3\", \"\\u843d\\u77f3\", \"\\u85dd\\u4eba\", \"\\u85dd\\u4eba\", \"\\u884c\\u52d5\", \"\\u884c\\u52d5\", \"\\u884c\\u52d5\", \"\\u884c\\u52d5\", \"\\u884c\\u653f\\u9662\", \"\\u884c\\u653f\\u9662\\u9577\", \"\\u884c\\u70ba\", \"\\u884c\\u70ba\", \"\\u884c\\u70ba\", \"\\u884c\\u99db\", \"\\u885b\\u751f\\u5c40\", \"\\u8868\\u6c7a\", \"\\u8868\\u6f14\", \"\\u8881\\u8a69\\u7fbd\", \"\\u88ab\\u5bb3\\u4eba\", \"\\u88ab\\u5bb3\\u4eba\", \"\\u88fd\\u85e5\", \"\\u8981\\u6c42\", \"\\u8981\\u6c42\", \"\\u8981\\u6c42\", \"\\u8981\\u6c42\", \"\\u8981\\u6c42\", \"\\u8981\\u6c42\", \"\\u898f\\u6a21\", \"\\u898f\\u6a21\", \"\\u89ba\\u5f97\", \"\\u89ba\\u5f97\", \"\\u89ba\\u5f97\", \"\\u89c0\\u773e\", \"\\u89d2\\u8272\", \"\\u89d2\\u8272\", \"\\u89d2\\u8272\", \"\\u8a13\\u7df4\", \"\\u8a13\\u7df4\", \"\\u8a13\\u7df4\", \"\\u8a2d\\u8a08\", \"\\u8a2d\\u8a08\", \"\\u8a2d\\u8a08\", \"\\u8a31\\u591a\", \"\\u8a31\\u591a\", \"\\u8a31\\u591a\", \"\\u8a31\\u591a\", \"\\u8a31\\u591a\", \"\\u8a31\\u591a\", \"\\u8a50\\u9a19\", \"\\u8a50\\u9a19\", \"\\u8abf\\u67e5\", \"\\u8abf\\u67e5\", \"\\u8abf\\u67e5\", \"\\u8abf\\u67e5\", \"\\u8abf\\u67e5\", \"\\u8abf\\u67e5\", \"\\u8b66\\u65b9\", \"\\u8b66\\u65b9\", \"\\u8cd1\\u707d\", \"\\u8cea\\u8a62\", \"\\u8cf4\\u6e05\\u5fb7\", \"\\u8cfd\\u4e8b\", \"\\u8d77\\u8a34\", \"\\u8d85\\u904e\", \"\\u8d85\\u904e\", \"\\u8d85\\u904e\", \"\\u8d85\\u904e\", \"\\u8d85\\u904e\", \"\\u8def\\u6bb5\", \"\\u8def\\u6bb5\", \"\\u8eca\\u8f1b\", \"\\u8eca\\u9053\", \"\\u8ecd\\u4e8b\", \"\\u900f\\u904e\", \"\\u900f\\u904e\", \"\\u900f\\u904e\", \"\\u900f\\u904e\", \"\\u900f\\u904e\", \"\\u900f\\u904e\", \"\\u900f\\u9732\", \"\\u900f\\u9732\", \"\\u900f\\u9732\", \"\\u900f\\u9732\", \"\\u900f\\u9732\", \"\\u9019\\u6b21\", \"\\u9019\\u6b21\", \"\\u9019\\u6b21\", \"\\u9019\\u6b21\", \"\\u9019\\u6b21\", \"\\u9019\\u9805\", \"\\u9019\\u9805\", \"\\u9019\\u9805\", \"\\u9019\\u9805\", \"\\u901a\\u5831\", \"\\u901a\\u5831\", \"\\u901a\\u5831\", \"\\u901a\\u5831\", \"\\u901a\\u884c\", \"\\u9020\\u578b\", \"\\u9020\\u6210\", \"\\u9020\\u6210\", \"\\u9020\\u6210\", \"\\u9020\\u6210\", \"\\u9020\\u6210\", \"\\u9032\\u884c\", \"\\u9032\\u884c\", \"\\u9032\\u884c\", \"\\u9032\\u884c\", \"\\u9032\\u884c\", \"\\u9032\\u884c\", \"\\u9053\\u5947\", \"\\u9053\\u6b49\", \"\\u9053\\u6b49\", \"\\u9053\\u8def\", \"\\u9053\\u8def\", \"\\u9078\\u8209\", \"\\u90e8\\u9577\", \"\\u90e8\\u9577\", \"\\u90e8\\u9577\", \"\\u9175\\u83cc\\u9178\", \"\\u91ab\\u5e2b\", \"\\u91ab\\u5e2b\", \"\\u91ab\\u5e2b\", \"\\u91ab\\u9662\", \"\\u91ab\\u9662\", \"\\u91ab\\u9662\", \"\\u91ab\\u9662\", \"\\u91cd\\u75c7\", \"\\u91dd\\u5c0d\", \"\\u91dd\\u5c0d\", \"\\u91dd\\u5c0d\", \"\\u91dd\\u5c0d\", \"\\u91dd\\u5c0d\", \"\\u92d2\\u9762\", \"\\u958b\\u5531\", \"\\u958b\\u5fc3\", \"\\u958b\\u5fc3\", \"\\u964d\\u96e8\", \"\\u964d\\u96e8\", \"\\u9662\\u9577\", \"\\u9662\\u9577\", \"\\u9663\\u96e8\", \"\\u9673\\u5efa\\u4ec1\", \"\\u96e8\\u52e2\", \"\\u96f7\\u96e8\", \"\\u96fb\\u5f71\", \"\\u96fb\\u5f71\", \"\\u97d3\\u570b\", \"\\u97d3\\u570b\", \"\\u97d3\\u570b\", \"\\u97f3\\u6a02\", \"\\u98db\\u5f48\", \"\\u98df\\u54c1\", \"\\u98df\\u54c1\", \"\\u98df\\u54c1\", \"\\u98df\\u7269\\u4e2d\\u6bd2\", \"\\u98df\\u7269\\u4e2d\\u6bd2\", \"\\u98fe\\u6f14\", \"\\u9918\\u9707\", \"\\u9918\\u9707\", \"\\u99ac\\u82f1\\u4e5d\", \"\\u99d5\\u99db\", \"\\u99d5\\u99db\", \"\\u9a0e\\u58eb\", \"\\u9ad4\\u9a57\", \"\\u9ad4\\u9a57\", \"\\u9ad4\\u9a57\", \"\\u9ad8\\u6eab\", \"\\u9ec3\\u570b\", \"\\u9ec3\\u5b50\\u4f7c\", \"\\u9ee8\\u5718\"]}, \"R\": 30, \"lambda.step\": 0.01, \"plot.opts\": {\"xlab\": \"PC1\", \"ylab\": \"PC2\"}, \"topic.order\": [2, 3, 1, 4, 6, 5]};\n",
       "\n",
       "function LDAvis_load_lib(url, callback){\n",
       "  var s = document.createElement('script');\n",
       "  s.src = url;\n",
       "  s.async = true;\n",
       "  s.onreadystatechange = s.onload = callback;\n",
       "  s.onerror = function(){console.warn(\"failed to load library \" + url);};\n",
       "  document.getElementsByTagName(\"head\")[0].appendChild(s);\n",
       "}\n",
       "\n",
       "if(typeof(LDAvis) !== \"undefined\"){\n",
       "   // already loaded: just create the visualization\n",
       "   !function(LDAvis){\n",
       "       new LDAvis(\"#\" + \"ldavis_el2225621826178395688259460934\", ldavis_el2225621826178395688259460934_data);\n",
       "   }(LDAvis);\n",
       "}else if(typeof define === \"function\" && define.amd){\n",
       "   // require.js is available: use it to load d3/LDAvis\n",
       "   require.config({paths: {d3: \"https://d3js.org/d3.v5\"}});\n",
       "   require([\"d3\"], function(d3){\n",
       "      window.d3 = d3;\n",
       "      LDAvis_load_lib(\"https://cdn.jsdelivr.net/gh/bmabey/pyLDAvis@3.4.0/pyLDAvis/js/ldavis.v3.0.0.js\", function(){\n",
       "        new LDAvis(\"#\" + \"ldavis_el2225621826178395688259460934\", ldavis_el2225621826178395688259460934_data);\n",
       "      });\n",
       "    });\n",
       "}else{\n",
       "    // require.js not available: dynamically load d3 & LDAvis\n",
       "    LDAvis_load_lib(\"https://d3js.org/d3.v5.js\", function(){\n",
       "         LDAvis_load_lib(\"https://cdn.jsdelivr.net/gh/bmabey/pyLDAvis@3.4.0/pyLDAvis/js/ldavis.v3.0.0.js\", function(){\n",
       "                 new LDAvis(\"#\" + \"ldavis_el2225621826178395688259460934\", ldavis_el2225621826178395688259460934_data);\n",
       "            })\n",
       "         });\n",
       "}\n",
       "</script>"
      ],
      "text/plain": [
       "PreparedData(topic_coordinates=              x         y  topics  cluster       Freq\n",
       "topic                                                \n",
       "1     -0.183835 -0.060016       1        1  28.142056\n",
       "2      0.166536 -0.015324       2        1  18.907323\n",
       "0     -0.143725 -0.236225       3        1  16.689150\n",
       "3     -0.035381  0.150542       4        1  13.959219\n",
       "5     -0.118385  0.202677       5        1  13.634311\n",
       "4      0.314790 -0.041654       6        1   8.667940, topic_info=     Term         Freq        Total Category  logprob  loglift\n",
       "4380   地震  1790.000000  1790.000000  Default  30.0000  30.0000\n",
       "8278  民進黨  1098.000000  1098.000000  Default  29.0000  29.0000\n",
       "4424   花蓮  1483.000000  1483.000000  Default  28.0000  28.0000\n",
       "5162  黃子佼  1101.000000  1101.000000  Default  27.0000  27.0000\n",
       "1278   美國  1080.000000  1080.000000  Default  26.0000  26.0000\n",
       "...   ...          ...          ...      ...      ...      ...\n",
       "8514   通報   228.439843   452.169613   Topic6  -5.4987   1.7628\n",
       "894    指出   252.380091  1540.402997   Topic6  -5.3991   0.6367\n",
       "2657   發生   254.375112  1902.056185   Topic6  -5.3912   0.4337\n",
       "977    台灣   240.409967  2903.482128   Topic6  -5.4477  -0.0458\n",
       "4868   民眾   213.477188  1362.793828   Topic6  -5.5665   0.5918\n",
       "\n",
       "[430 rows x 6 columns], token_table=       Topic      Freq Term\n",
       "term                       \n",
       "753        1  0.001350   一名\n",
       "753        2  0.261833   一名\n",
       "753        3  0.596548   一名\n",
       "753        4  0.136315   一名\n",
       "753        6  0.004049   一名\n",
       "...      ...       ...  ...\n",
       "596        6  0.014995   體驗\n",
       "11038      6  0.997975   高溫\n",
       "15147      5  1.001283   黃國\n",
       "5162       3  0.999666  黃子佼\n",
       "8586       5  0.998898   黨團\n",
       "\n",
       "[837 rows x 3 columns], R=30, lambda_step=0.01, plot_opts={'xlab': 'PC1', 'ylab': 'PC2'}, topic_order=[2, 3, 1, 4, 6, 5])"
      ]
     },
     "execution_count": 50,
     "metadata": {},
     "output_type": "execute_result"
    }
   ],
   "source": [
    "# 整理／顯示主題模型結果\n",
    "n_top_words = 10\n",
    "topic_word = model.topic_word_\n",
    "\n",
    "for i, topic_dist in enumerate(topic_word):\n",
    "    topic_words = np.array(vocab)[np.argsort(topic_dist)][: -(n_top_words + 1) : -1]\n",
    "    print(\"Topic {}：{}\".format(seed_topic_ch[i], \" \".join(topic_words)))\n",
    "\n",
    "\n",
    "doc_topic = model.doc_topic_\n",
    "term_freq = tuple(dictionary.cfs.values())\n",
    "doc_len = [sum(v for k, v in doc) for doc in corpus]\n",
    "\n",
    "## LDAvis\n",
    "pyLDAvis.enable_notebook()\n",
    "p = pyLDAvis.prepare(topic_word, doc_topic, doc_len, vocab = vocab, term_frequency = term_freq)\n",
    "p"
   ]
  },
  {
   "cell_type": "markdown",
   "metadata": {},
   "source": [
    "<font color='#ffa'>\n",
    "根據模型的結果，模型在娛樂、國際、天氣、政治這四個主題都分類的蠻準確的，在運動以及汽車主題相對沒有那麼準確。\n",
    "</br></br>\n",
    "模型將原先的運動主題分類成社會負面新聞，推測可能的原因是，最近有發生大谷翔平遭翻譯挪用資金簽賭的負面新聞，因此模型將運動以及負面新聞連結在一起。\n",
    "</br></br>\n",
    "模型將原先的汽車主題分類成地震相關新聞，推測可能的原因是，地震發生時有許多與汽車有關的災情，因此地震相關新聞可能時常出現汽車、駕駛等字詞，因此模型將汽車與地震相關新聞結合在一起。\n",
    "</font>"
   ]
  },
  {
   "cell_type": "markdown",
   "metadata": {},
   "source": [
    "<font color='#ffa'>\n",
    "從最後分類的結果中可以看出，相較於 LDA 模型，加入Seed Words 的 GuideLDA 更加準確的將類別分割出來，每個主題也更為明確。\n",
    "</br>\n",
    "</br>\n",
    "GuideLDA 比較不會發生將兩個不太相關的主題和在一起的現象，例如 LDA 中就將兩岸以及娛樂新聞結合在一起。\n",
    "\n",
    "</font>"
   ]
  },
  {
   "cell_type": "markdown",
   "metadata": {},
   "source": [
    "# 主題分布的應用"
   ]
  },
  {
   "cell_type": "code",
   "execution_count": 72,
   "metadata": {},
   "outputs": [],
   "source": [
    "# 取得每條新聞的主題分佈\n",
    "topics_doc = model_7.get_document_topics(corpus)"
   ]
  },
  {
   "cell_type": "code",
   "execution_count": 73,
   "metadata": {},
   "outputs": [
    {
     "data": {
      "text/plain": [
       "array([[0.15048948, 0.72815967, 0.        , ..., 0.        , 0.11802936,\n",
       "        0.        ],\n",
       "       [0.        , 0.        , 0.59029746, ..., 0.        , 0.17423016,\n",
       "        0.20388664],\n",
       "       [0.        , 0.45796573, 0.45166761, ..., 0.        , 0.08514803,\n",
       "        0.        ],\n",
       "       ...,\n",
       "       [0.02009206, 0.19711445, 0.        , ..., 0.77711487, 0.        ,\n",
       "        0.        ],\n",
       "       [0.        , 0.02408972, 0.        , ..., 0.9710049 , 0.        ,\n",
       "        0.        ],\n",
       "       [0.        , 0.1652898 , 0.1487682 , ..., 0.37610957, 0.        ,\n",
       "        0.        ]])"
      ]
     },
     "execution_count": 73,
     "metadata": {},
     "output_type": "execute_result"
    }
   ],
   "source": [
    "m_theta = corpus2csc(topics_doc).T.toarray()\n",
    "m_theta"
   ]
  },
  {
   "cell_type": "code",
   "execution_count": 74,
   "metadata": {},
   "outputs": [],
   "source": [
    "udn['topic_label'] = m_theta.argmax(axis=1) + 1"
   ]
  },
  {
   "cell_type": "code",
   "execution_count": 75,
   "metadata": {},
   "outputs": [
    {
     "data": {
      "text/plain": [
       "topic_label\n",
       "3    1165\n",
       "6     842\n",
       "1     681\n",
       "7     602\n",
       "5     465\n",
       "2     460\n",
       "4     277\n",
       "Name: count, dtype: int64"
      ]
     },
     "execution_count": 75,
     "metadata": {},
     "output_type": "execute_result"
    }
   ],
   "source": [
    "udn['topic_label'].value_counts()"
   ]
  },
  {
   "cell_type": "code",
   "execution_count": 76,
   "metadata": {},
   "outputs": [
    {
     "data": {
      "text/html": [
       "<div>\n",
       "<style scoped>\n",
       "    .dataframe tbody tr th:only-of-type {\n",
       "        vertical-align: middle;\n",
       "    }\n",
       "\n",
       "    .dataframe tbody tr th {\n",
       "        vertical-align: top;\n",
       "    }\n",
       "\n",
       "    .dataframe thead th {\n",
       "        text-align: right;\n",
       "    }\n",
       "</style>\n",
       "<table border=\"1\" class=\"dataframe\">\n",
       "  <thead>\n",
       "    <tr style=\"text-align: right;\">\n",
       "      <th></th>\n",
       "      <th>content</th>\n",
       "      <th>artUrl</th>\n",
       "      <th>artCatagory</th>\n",
       "      <th>artDate</th>\n",
       "      <th>words</th>\n",
       "      <th>topic_label</th>\n",
       "    </tr>\n",
       "  </thead>\n",
       "  <tbody>\n",
       "    <tr>\n",
       "      <th>0</th>\n",
       "      <td>記者劉旻君台北報導若是經常出遊的派也許對日本鐘錶品牌的系列不陌生近日該系列又有新作登場端出首...</td>\n",
       "      <td>https://tw.nextapple.com/entertainment/2024040...</td>\n",
       "      <td>娛樂時尚</td>\n",
       "      <td>2024-04-01 18:41:00</td>\n",
       "      <td>[劉旻君, 台北, 出遊, 也許, 日本, 鐘錶, 品牌, 系列, 陌生, 近日, 系列, ...</td>\n",
       "      <td>2</td>\n",
       "    </tr>\n",
       "    <tr>\n",
       "      <th>1</th>\n",
       "      <td>王怡人綜合報導歲最美士官長劉香慈和永信藥品總經理鍾威凱育有子兩人婚姻剛跨越七年之癢她開心懷上...</td>\n",
       "      <td>https://tw.nextapple.com/entertainment/2024040...</td>\n",
       "      <td>娛樂時尚</td>\n",
       "      <td>2024-04-01 07:52:00</td>\n",
       "      <td>[王怡, 最美, 士官長, 劉香, 慈和, 永信, 藥品, 總經理, 威凱育, 有子, 兩人...</td>\n",
       "      <td>3</td>\n",
       "    </tr>\n",
       "    <tr>\n",
       "      <th>2</th>\n",
       "      <td>記者林秭渝台北報導曾奪下亞洲東亞世界運動會的健美比賽拿過銀牌金牌和銅牌的許家豪與從歌手轉戰健...</td>\n",
       "      <td>https://tw.nextapple.com/entertainment/2024040...</td>\n",
       "      <td>娛樂時尚</td>\n",
       "      <td>2024-04-01 18:10:00</td>\n",
       "      <td>[秭渝, 台北, 奪下, 亞洲, 東亞, 世界, 運動會, 健美, 比賽, 拿過, 銀牌, ...</td>\n",
       "      <td>2</td>\n",
       "    </tr>\n",
       "    <tr>\n",
       "      <th>3</th>\n",
       "      <td>吳惠菁綜合報導愚人節搞笑日本電視台生活資訊節目突然插播北韓領導人金正恩閱兵的影片引起網友恐慌...</td>\n",
       "      <td>https://tw.nextapple.com/entertainment/2024040...</td>\n",
       "      <td>娛樂時尚</td>\n",
       "      <td>2024-04-01 11:58:00</td>\n",
       "      <td>[吳惠菁, 愚人節, 搞笑, 日本, 電視, 生活, 資訊, 節目, 突然, 插播, 北韓,...</td>\n",
       "      <td>3</td>\n",
       "    </tr>\n",
       "    <tr>\n",
       "      <th>4</th>\n",
       "      <td>記者陳薇安綜合報導打造出經典劇如果歲還是處男似乎就能成為魔法師的日本東京電視台又有新作推出改...</td>\n",
       "      <td>https://tw.nextapple.com/entertainment/2024040...</td>\n",
       "      <td>娛樂時尚</td>\n",
       "      <td>2024-04-01 21:46:00</td>\n",
       "      <td>[打造出, 經典, 處男, 似乎, 成為, 魔法師, 日本, 東京, 電視, 新作, 推出,...</td>\n",
       "      <td>3</td>\n",
       "    </tr>\n",
       "  </tbody>\n",
       "</table>\n",
       "</div>"
      ],
      "text/plain": [
       "                                             content  \\\n",
       "0  記者劉旻君台北報導若是經常出遊的派也許對日本鐘錶品牌的系列不陌生近日該系列又有新作登場端出首...   \n",
       "1  王怡人綜合報導歲最美士官長劉香慈和永信藥品總經理鍾威凱育有子兩人婚姻剛跨越七年之癢她開心懷上...   \n",
       "2  記者林秭渝台北報導曾奪下亞洲東亞世界運動會的健美比賽拿過銀牌金牌和銅牌的許家豪與從歌手轉戰健...   \n",
       "3  吳惠菁綜合報導愚人節搞笑日本電視台生活資訊節目突然插播北韓領導人金正恩閱兵的影片引起網友恐慌...   \n",
       "4  記者陳薇安綜合報導打造出經典劇如果歲還是處男似乎就能成為魔法師的日本東京電視台又有新作推出改...   \n",
       "\n",
       "                                              artUrl artCatagory  \\\n",
       "0  https://tw.nextapple.com/entertainment/2024040...        娛樂時尚   \n",
       "1  https://tw.nextapple.com/entertainment/2024040...        娛樂時尚   \n",
       "2  https://tw.nextapple.com/entertainment/2024040...        娛樂時尚   \n",
       "3  https://tw.nextapple.com/entertainment/2024040...        娛樂時尚   \n",
       "4  https://tw.nextapple.com/entertainment/2024040...        娛樂時尚   \n",
       "\n",
       "              artDate                                              words  \\\n",
       "0 2024-04-01 18:41:00  [劉旻君, 台北, 出遊, 也許, 日本, 鐘錶, 品牌, 系列, 陌生, 近日, 系列, ...   \n",
       "1 2024-04-01 07:52:00  [王怡, 最美, 士官長, 劉香, 慈和, 永信, 藥品, 總經理, 威凱育, 有子, 兩人...   \n",
       "2 2024-04-01 18:10:00  [秭渝, 台北, 奪下, 亞洲, 東亞, 世界, 運動會, 健美, 比賽, 拿過, 銀牌, ...   \n",
       "3 2024-04-01 11:58:00  [吳惠菁, 愚人節, 搞笑, 日本, 電視, 生活, 資訊, 節目, 突然, 插播, 北韓,...   \n",
       "4 2024-04-01 21:46:00  [打造出, 經典, 處男, 似乎, 成為, 魔法師, 日本, 東京, 電視, 新作, 推出,...   \n",
       "\n",
       "   topic_label  \n",
       "0            2  \n",
       "1            3  \n",
       "2            2  \n",
       "3            3  \n",
       "4            3  "
      ]
     },
     "execution_count": 76,
     "metadata": {},
     "output_type": "execute_result"
    }
   ],
   "source": [
    "udn.head()"
   ]
  },
  {
   "cell_type": "code",
   "execution_count": 136,
   "metadata": {},
   "outputs": [
    {
     "data": {
      "text/plain": [
       "0       2024-04-01\n",
       "1       2024-04-01\n",
       "2       2024-04-01\n",
       "3       2024-04-01\n",
       "4       2024-04-01\n",
       "           ...    \n",
       "4487    2024-04-22\n",
       "4488    2024-04-22\n",
       "4489    2024-04-22\n",
       "4490    2024-04-22\n",
       "4491    2024-04-22\n",
       "Name: artDate, Length: 4492, dtype: object"
      ]
     },
     "execution_count": 136,
     "metadata": {},
     "output_type": "execute_result"
    }
   ],
   "source": [
    "udn['artDate'] = pd.to_datetime(udn['artDate'])\n",
    "udn['artDate'].dt.date"
   ]
  },
  {
   "cell_type": "code",
   "execution_count": 78,
   "metadata": {},
   "outputs": [
    {
     "data": {
      "text/plain": [
       "artDate     topic_label\n",
       "2024-04-01  3              0.311224\n",
       "            2              0.168367\n",
       "            1              0.132653\n",
       "            5              0.107143\n",
       "            7              0.096939\n",
       "                             ...   \n",
       "2024-04-22  6              0.150754\n",
       "            7              0.140704\n",
       "            2              0.115578\n",
       "            4              0.075377\n",
       "            5              0.075377\n",
       "Name: proportion, Length: 154, dtype: float64"
      ]
     },
     "execution_count": 78,
     "metadata": {},
     "output_type": "execute_result"
    }
   ],
   "source": [
    "udn.groupby(udn['artDate'].dt.date)['topic_label'].value_counts(normalize=True)"
   ]
  },
  {
   "cell_type": "code",
   "execution_count": 79,
   "metadata": {},
   "outputs": [
    {
     "data": {
      "text/html": [
       "<div>\n",
       "<style scoped>\n",
       "    .dataframe tbody tr th:only-of-type {\n",
       "        vertical-align: middle;\n",
       "    }\n",
       "\n",
       "    .dataframe tbody tr th {\n",
       "        vertical-align: top;\n",
       "    }\n",
       "\n",
       "    .dataframe thead th {\n",
       "        text-align: right;\n",
       "    }\n",
       "</style>\n",
       "<table border=\"1\" class=\"dataframe\">\n",
       "  <thead>\n",
       "    <tr style=\"text-align: right;\">\n",
       "      <th>topic_label</th>\n",
       "      <th>1</th>\n",
       "      <th>2</th>\n",
       "      <th>3</th>\n",
       "      <th>4</th>\n",
       "      <th>5</th>\n",
       "      <th>6</th>\n",
       "      <th>7</th>\n",
       "    </tr>\n",
       "    <tr>\n",
       "      <th>artDate</th>\n",
       "      <th></th>\n",
       "      <th></th>\n",
       "      <th></th>\n",
       "      <th></th>\n",
       "      <th></th>\n",
       "      <th></th>\n",
       "      <th></th>\n",
       "    </tr>\n",
       "  </thead>\n",
       "  <tbody>\n",
       "    <tr>\n",
       "      <th>2024-04-01</th>\n",
       "      <td>0.132653</td>\n",
       "      <td>0.168367</td>\n",
       "      <td>0.311224</td>\n",
       "      <td>0.091837</td>\n",
       "      <td>0.107143</td>\n",
       "      <td>0.091837</td>\n",
       "      <td>0.096939</td>\n",
       "    </tr>\n",
       "    <tr>\n",
       "      <th>2024-04-02</th>\n",
       "      <td>0.153846</td>\n",
       "      <td>0.183761</td>\n",
       "      <td>0.299145</td>\n",
       "      <td>0.038462</td>\n",
       "      <td>0.085470</td>\n",
       "      <td>0.128205</td>\n",
       "      <td>0.111111</td>\n",
       "    </tr>\n",
       "    <tr>\n",
       "      <th>2024-04-03</th>\n",
       "      <td>0.132492</td>\n",
       "      <td>0.028391</td>\n",
       "      <td>0.157729</td>\n",
       "      <td>0.028391</td>\n",
       "      <td>0.031546</td>\n",
       "      <td>0.580442</td>\n",
       "      <td>0.041009</td>\n",
       "    </tr>\n",
       "    <tr>\n",
       "      <th>2024-04-04</th>\n",
       "      <td>0.116505</td>\n",
       "      <td>0.058252</td>\n",
       "      <td>0.266990</td>\n",
       "      <td>0.043689</td>\n",
       "      <td>0.048544</td>\n",
       "      <td>0.402913</td>\n",
       "      <td>0.063107</td>\n",
       "    </tr>\n",
       "    <tr>\n",
       "      <th>2024-04-05</th>\n",
       "      <td>0.119048</td>\n",
       "      <td>0.101190</td>\n",
       "      <td>0.220238</td>\n",
       "      <td>0.059524</td>\n",
       "      <td>0.017857</td>\n",
       "      <td>0.375000</td>\n",
       "      <td>0.107143</td>\n",
       "    </tr>\n",
       "  </tbody>\n",
       "</table>\n",
       "</div>"
      ],
      "text/plain": [
       "topic_label         1         2         3         4         5         6  \\\n",
       "artDate                                                                   \n",
       "2024-04-01   0.132653  0.168367  0.311224  0.091837  0.107143  0.091837   \n",
       "2024-04-02   0.153846  0.183761  0.299145  0.038462  0.085470  0.128205   \n",
       "2024-04-03   0.132492  0.028391  0.157729  0.028391  0.031546  0.580442   \n",
       "2024-04-04   0.116505  0.058252  0.266990  0.043689  0.048544  0.402913   \n",
       "2024-04-05   0.119048  0.101190  0.220238  0.059524  0.017857  0.375000   \n",
       "\n",
       "topic_label         7  \n",
       "artDate                \n",
       "2024-04-01   0.096939  \n",
       "2024-04-02   0.111111  \n",
       "2024-04-03   0.041009  \n",
       "2024-04-04   0.063107  \n",
       "2024-04-05   0.107143  "
      ]
     },
     "execution_count": 79,
     "metadata": {},
     "output_type": "execute_result"
    }
   ],
   "source": [
    "date_topic = udn.groupby(udn['artDate'].dt.date)['topic_label'].value_counts(normalize=True).unstack()\n",
    "date_topic.head()"
   ]
  },
  {
   "cell_type": "markdown",
   "metadata": {},
   "source": [
    "* 主題一：政治\n",
    "* 主題二：戰爭、交通相關新聞\n",
    "* 主題三：兩岸相關新聞\n",
    "* 主題四：主要和天氣相關\n",
    "* 主題五：主要為運動賽事\n",
    "* 主題六：地震\n",
    "* 主題七：負面社會新聞"
   ]
  },
  {
   "cell_type": "code",
   "execution_count": 80,
   "metadata": {},
   "outputs": [
    {
     "data": {
      "text/plain": [
       "<matplotlib.legend.Legend at 0x1fc302b06a0>"
      ]
     },
     "execution_count": 80,
     "metadata": {},
     "output_type": "execute_result"
    },
    {
     "data": {
      "image/png": "[encoded data removed]",
      "text/plain": [
       "<Figure size 1500x600 with 1 Axes>"
      ]
     },
     "metadata": {},
     "output_type": "display_data"
    }
   ],
   "source": [
    "fig, ax = plt.subplots(figsize=(15, 6))\n",
    "date_topic.plot.bar(ax=ax, stacked=True, color = plt.cm.Set3.colors)\n",
    "ax.legend(loc='lower right')"
   ]
  },
  {
   "cell_type": "markdown",
   "metadata": {},
   "source": [
    "<font color='#ffa'>\n",
    "可以看到 4/3 ~ 4/5 主題六（地震）的討論比例很高，因為4/3台灣發生了大地震，因此該段時間討論的比例特別高。\n",
    "</br></br>\n",
    "圖表中也可以發現主題三在大部分的時候都是占比最高的主題，主題三中主要是與兩岸相關的新聞，可見台灣媒體對於兩岸議題非常關注。\n",
    "</font>"
   ]
  }
 ],
 "metadata": {
  "kernelspec": {
   "display_name": "SMA_new",
   "language": "python",
   "name": "python3"
  },
  "language_info": {
   "codemirror_mode": {
    "name": "ipython",
    "version": 3
   },
   "file_extension": ".py",
   "mimetype": "text/x-python",
   "name": "python",
   "nbconvert_exporter": "python",
   "pygments_lexer": "ipython3",
   "version": "3.10.7"
  }
 },
 "nbformat": 4,
 "nbformat_minor": 2
}
