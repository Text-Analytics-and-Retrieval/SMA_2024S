{
 "cells": [
  {
   "cell_type": "markdown",
   "metadata": {},
   "source": [
    "# 文件分類\n",
    "\n",
    "**Author:** 第五組  \n",
    "本周課程為「文件分類」，主要使用文章轉DTM(document term matrix)的方式，將文章用不同的字詞分布表示，再利用python的sklearn套件，套用決策樹、logistic regression等方式訓練模型，以分辨不同的文件。本篇 Jupyter Notebook 將展示「中文」的文件分類，使用日旅、韓旅、航空三個版文章做示範。"
   ]
  },
  {
   "cell_type": "markdown",
   "metadata": {},
   "source": [
    "## 分析目標\n",
    "+ 資料內容：\n",
    "    + 資料來源：ptt\n",
    "    + 版別：日旅、韓旅、航空\n",
    "\n",
    "* 分析主題：將ptt三個不同版別的文章合起來，訓練分類模型進行文件的版別分類。\n",
    "\n",
    "* 以下為教學目標：\n",
    "    1. 如何將以數字向量代表一篇文章？\n",
    "        * `CountVectorizer`\n",
    "        * `TfidfVectorizer`\n",
    "    2. 基本的分類模型流程，包含以下三步驟：\n",
    "        * 前處理 (preprocess)\n",
    "        * 建模 (train model)\n",
    "        * 評估與預測 (evaluation and predict)\n",
    "    3. cross validation\n",
    "    4. 不同分類器的效果\n",
    "    5. 可解釋的可視化模型結果\n",
    "    6. 預測其他時間段文章的版別"
   ]
  },
  {
   "cell_type": "markdown",
   "metadata": {},
   "source": [
    "## 1. 套件說明\n",
    "下面列出在本次實作過程中我們所使用到的相關套件，在這個Jupyter Notebook當中我們將會簡單的展示這些套件的使用方式，關於各個套件的進階使用請同學參照其官網的說明。\n",
    "- **sklearn**: 全名為Scikit-learn，機器學習的常用建模套件，包含各種分群、分類、迴歸模型，如隨機森林、SVM或 K-means 等。\n",
    "- pandas: 一個資料分析的函式庫，提供了DataFrame等資料格式，與資料處理的函數。\n",
    "- jieba: 結巴套件，中文斷詞套件\n",
    "- seaborn: 基於 matplotlib 封裝的繪圖工具"
   ]
  },
  {
   "cell_type": "code",
   "execution_count": 1,
   "metadata": {},
   "outputs": [],
   "source": [
    "import re\n",
    "from pprint import pprint\n",
    "\n",
    "import pandas as pd\n",
    "import numpy as np\n",
    "import matplotlib.pyplot as plt\n",
    "import seaborn as sns\n",
    "import jieba\n",
    "from sklearn.model_selection import train_test_split, cross_validate, cross_val_predict, KFold\n",
    "from sklearn.metrics import (\n",
    "    confusion_matrix,\n",
    "    classification_report,\n",
    "    roc_curve,\n",
    "    auc,\n",
    "    precision_recall_curve,\n",
    "    RocCurveDisplay\n",
    ")\n",
    "from sklearn.feature_extraction.text import TfidfVectorizer, CountVectorizer\n",
    "from sklearn.preprocessing import LabelBinarizer\n",
    "from sklearn.linear_model import LogisticRegression\n",
    "from sklearn.naive_bayes import GaussianNB\n",
    "from sklearn.tree import DecisionTreeClassifier, plot_tree\n",
    "from sklearn.ensemble import RandomForestClassifier\n",
    "from sklearn import svm"
   ]
  },
  {
   "cell_type": "markdown",
   "metadata": {},
   "source": [
    "設定中文字體"
   ]
  },
  {
   "cell_type": "code",
   "execution_count": 2,
   "metadata": {},
   "outputs": [
    {
     "data": {
      "text/plain": [
       "Text(0.5, 1.0, '聲量圖')"
      ]
     },
     "execution_count": 2,
     "metadata": {},
     "output_type": "execute_result"
    },
    {
     "data": {
      "image/png": "[encoded data removed]",
      "text/plain": [
       "<Figure size 640x480 with 1 Axes>"
      ]
     },
     "metadata": {},
     "output_type": "display_data"
    }
   ],
   "source": [
    "# https://zhuanlan.zhihu.com/p/566430362\n",
    "# from matplotlib import font_manager\n",
    "# font_set = {f.name for f in font_manager.fontManager.ttflist}\n",
    "plt.rcParams['font.sans-serif']=['SimHei']\n",
    "plt.rcParams['font.sans-serif'] = ['Microsoft JhengHei']\n",
    "plt.rcParams['axes.unicode_minus']=False\n",
    "plt.plot((1, 2, 3), (4, 3, -1))\n",
    "plt.title(\"聲量圖\")"
   ]
  },
  {
   "cell_type": "markdown",
   "metadata": {},
   "source": [
    "## 2. 文字前處理\n",
    "\n",
    "- 資料來源：ptt\n",
    "- 版別：日旅、韓旅、航空\n",
    "- 時間範圍：2023/6/1～2023/12/31\n",
    "\n",
    "首先我們先看文集的基本資料，並做文集前處理。"
   ]
  },
  {
   "cell_type": "code",
   "execution_count": 3,
   "metadata": {
    "scrolled": true
   },
   "outputs": [
    {
     "data": {
      "text/html": [
       "<div>\n",
       "<style scoped>\n",
       "    .dataframe tbody tr th:only-of-type {\n",
       "        vertical-align: middle;\n",
       "    }\n",
       "\n",
       "    .dataframe tbody tr th {\n",
       "        vertical-align: top;\n",
       "    }\n",
       "\n",
       "    .dataframe thead th {\n",
       "        text-align: right;\n",
       "    }\n",
       "</style>\n",
       "<table border=\"1\" class=\"dataframe\">\n",
       "  <thead>\n",
       "    <tr style=\"text-align: right;\">\n",
       "      <th></th>\n",
       "      <th>system_id</th>\n",
       "      <th>artUrl</th>\n",
       "      <th>artTitle</th>\n",
       "      <th>artDate</th>\n",
       "      <th>artPoster</th>\n",
       "      <th>artCatagory</th>\n",
       "      <th>artContent</th>\n",
       "      <th>artComment</th>\n",
       "      <th>e_ip</th>\n",
       "      <th>insertedDate</th>\n",
       "      <th>dataSource</th>\n",
       "    </tr>\n",
       "  </thead>\n",
       "  <tbody>\n",
       "    <tr>\n",
       "      <th>0</th>\n",
       "      <td>1</td>\n",
       "      <td>https://www.ptt.cc/bbs/Aviation/M.1685574818.A...</td>\n",
       "      <td>Re:[新聞]韓亞航逃生門「飛一半被打開」　空姐「肉</td>\n",
       "      <td>2023-06-01 07:13:35</td>\n",
       "      <td>cici950630</td>\n",
       "      <td>Aviation</td>\n",
       "      <td>看到這新聞想到以前的飛行體驗\\n那時候從德國要去iceland hofn i\\n飛丹麥轉機時...</td>\n",
       "      <td>[]</td>\n",
       "      <td>209.141.52.118</td>\n",
       "      <td>2023-06-02 01:02:07</td>\n",
       "      <td>ptt</td>\n",
       "    </tr>\n",
       "    <tr>\n",
       "      <th>1</th>\n",
       "      <td>2</td>\n",
       "      <td>https://www.ptt.cc/bbs/Aviation/M.1685581301.A...</td>\n",
       "      <td>[分享]長榮哩程機票兌換升等後補時間</td>\n",
       "      <td>2023-06-01 09:01:39</td>\n",
       "      <td>nanna</td>\n",
       "      <td>Aviation</td>\n",
       "      <td>今天八點半準時打長榮客服，聽了很多語音，按了很多按鍵後，\\n  按9轉客服，完全沒有等到。\\...</td>\n",
       "      <td>[{\"cmtStatus\": \"→\", \"cmtPoster\": \"abyssa1\", \"c...</td>\n",
       "      <td>118.163.43.79</td>\n",
       "      <td>2023-06-02 01:02:07</td>\n",
       "      <td>ptt</td>\n",
       "    </tr>\n",
       "    <tr>\n",
       "      <th>2</th>\n",
       "      <td>3</td>\n",
       "      <td>https://www.ptt.cc/bbs/Aviation/M.1685586987.A...</td>\n",
       "      <td>[分享]紐西蘭航空貴賓室皇后鎮國內線ZQN</td>\n",
       "      <td>2023-06-01 10:36:23</td>\n",
       "      <td>Furella</td>\n",
       "      <td>Aviation</td>\n",
       "      <td>圖文網誌版:\\nhttps://bitesize.tw/2018-zqn-air-new-z...</td>\n",
       "      <td>[]</td>\n",
       "      <td>118.167.224.229</td>\n",
       "      <td>2023-06-02 01:02:07</td>\n",
       "      <td>ptt</td>\n",
       "    </tr>\n",
       "  </tbody>\n",
       "</table>\n",
       "</div>"
      ],
      "text/plain": [
       "   system_id                                             artUrl  \\\n",
       "0          1  https://www.ptt.cc/bbs/Aviation/M.1685574818.A...   \n",
       "1          2  https://www.ptt.cc/bbs/Aviation/M.1685581301.A...   \n",
       "2          3  https://www.ptt.cc/bbs/Aviation/M.1685586987.A...   \n",
       "\n",
       "                     artTitle              artDate   artPoster artCatagory  \\\n",
       "0  Re:[新聞]韓亞航逃生門「飛一半被打開」　空姐「肉  2023-06-01 07:13:35  cici950630    Aviation   \n",
       "1          [分享]長榮哩程機票兌換升等後補時間  2023-06-01 09:01:39       nanna    Aviation   \n",
       "2       [分享]紐西蘭航空貴賓室皇后鎮國內線ZQN  2023-06-01 10:36:23     Furella    Aviation   \n",
       "\n",
       "                                          artContent  \\\n",
       "0  看到這新聞想到以前的飛行體驗\\n那時候從德國要去iceland hofn i\\n飛丹麥轉機時...   \n",
       "1  今天八點半準時打長榮客服，聽了很多語音，按了很多按鍵後，\\n  按9轉客服，完全沒有等到。\\...   \n",
       "2  圖文網誌版:\\nhttps://bitesize.tw/2018-zqn-air-new-z...   \n",
       "\n",
       "                                          artComment             e_ip  \\\n",
       "0                                                 []   209.141.52.118   \n",
       "1  [{\"cmtStatus\": \"→\", \"cmtPoster\": \"abyssa1\", \"c...    118.163.43.79   \n",
       "2                                                 []  118.167.224.229   \n",
       "\n",
       "          insertedDate dataSource  \n",
       "0  2023-06-02 01:02:07        ptt  \n",
       "1  2023-06-02 01:02:07        ptt  \n",
       "2  2023-06-02 01:02:07        ptt  "
      ]
     },
     "execution_count": 3,
     "metadata": {},
     "output_type": "execute_result"
    }
   ],
   "source": [
    "udn = pd.read_csv(\"raw_data/japan_korea_avia_train.csv\")  # 匯資料\n",
    "udn.head(3)"
   ]
  },
  {
   "cell_type": "code",
   "execution_count": 4,
   "metadata": {},
   "outputs": [
    {
     "name": "stdout",
     "output_type": "stream",
     "text": [
      "number of posts: 8067\n",
      "date range: ('2023-06-01 00:22:53', '2023-12-31 23:30:19')\n",
      "category: \n",
      "artCatagory\n",
      "Japan_Travel    6063\n",
      "Aviation        1059\n",
      "Korea_Travel     945\n",
      "Name: count, dtype: int64\n"
     ]
    }
   ],
   "source": [
    "# 看看有幾篇文章\n",
    "print(f\"number of posts: {udn.shape[0]}\")\n",
    "print(f\"date range: {(udn['artDate'].min(), udn['artDate'].max())}\")\n",
    "print(f\"category: \\n{udn['artCatagory'].value_counts()}\")"
   ]
  },
  {
   "cell_type": "markdown",
   "metadata": {},
   "source": [
    "+ 2.1 斷句\n",
    "+ 2.2 斷詞（刪掉次數太少的、標點符號、停用字）"
   ]
  },
  {
   "cell_type": "markdown",
   "metadata": {},
   "source": [
    "### 2.1 清理"
   ]
  },
  {
   "cell_type": "markdown",
   "metadata": {},
   "source": [
    "* 針對column: artTitle & artContent：\n",
    "    1. 過濾missing data\n",
    "    2. 只留下中文字"
   ]
  },
  {
   "cell_type": "code",
   "execution_count": 5,
   "metadata": {},
   "outputs": [
    {
     "data": {
      "text/html": [
       "<div>\n",
       "<style scoped>\n",
       "    .dataframe tbody tr th:only-of-type {\n",
       "        vertical-align: middle;\n",
       "    }\n",
       "\n",
       "    .dataframe tbody tr th {\n",
       "        vertical-align: top;\n",
       "    }\n",
       "\n",
       "    .dataframe thead th {\n",
       "        text-align: right;\n",
       "    }\n",
       "</style>\n",
       "<table border=\"1\" class=\"dataframe\">\n",
       "  <thead>\n",
       "    <tr style=\"text-align: right;\">\n",
       "      <th></th>\n",
       "      <th>system_id</th>\n",
       "      <th>artUrl</th>\n",
       "      <th>artTitle</th>\n",
       "      <th>artDate</th>\n",
       "      <th>artPoster</th>\n",
       "      <th>artCatagory</th>\n",
       "      <th>artContent</th>\n",
       "      <th>artComment</th>\n",
       "      <th>e_ip</th>\n",
       "      <th>insertedDate</th>\n",
       "      <th>dataSource</th>\n",
       "    </tr>\n",
       "  </thead>\n",
       "  <tbody>\n",
       "    <tr>\n",
       "      <th>0</th>\n",
       "      <td>1</td>\n",
       "      <td>https://www.ptt.cc/bbs/Aviation/M.1685574818.A...</td>\n",
       "      <td>新聞韓亞航逃生門飛一半被打開空姐肉</td>\n",
       "      <td>2023-06-01 07:13:35</td>\n",
       "      <td>cici950630</td>\n",
       "      <td>Aviation</td>\n",
       "      <td>看到這新聞想到以前的飛行體驗那時候從德國要去飛丹麥轉機時機上一女子恐慌症發作倚著艙門把拼命搖...</td>\n",
       "      <td>[]</td>\n",
       "      <td>209.141.52.118</td>\n",
       "      <td>2023-06-02 01:02:07</td>\n",
       "      <td>ptt</td>\n",
       "    </tr>\n",
       "    <tr>\n",
       "      <th>1</th>\n",
       "      <td>2</td>\n",
       "      <td>https://www.ptt.cc/bbs/Aviation/M.1685581301.A...</td>\n",
       "      <td>分享長榮哩程機票兌換升等後補時間</td>\n",
       "      <td>2023-06-01 09:01:39</td>\n",
       "      <td>nanna</td>\n",
       "      <td>Aviation</td>\n",
       "      <td>今天八點半準時打長榮客服聽了很多語音按了很多按鍵後按轉客服完全沒有等到里程換商務艙機票兩個位...</td>\n",
       "      <td>[{\"cmtStatus\": \"→\", \"cmtPoster\": \"abyssa1\", \"c...</td>\n",
       "      <td>118.163.43.79</td>\n",
       "      <td>2023-06-02 01:02:07</td>\n",
       "      <td>ptt</td>\n",
       "    </tr>\n",
       "    <tr>\n",
       "      <th>2</th>\n",
       "      <td>3</td>\n",
       "      <td>https://www.ptt.cc/bbs/Aviation/M.1685586987.A...</td>\n",
       "      <td>分享紐西蘭航空貴賓室皇后鎮國內線</td>\n",
       "      <td>2023-06-01 10:36:23</td>\n",
       "      <td>Furella</td>\n",
       "      <td>Aviation</td>\n",
       "      <td>圖文網誌版年疫情前的老遊記最近發憤圖強要把全部照片圖文都整理完畢所以大量出清不喜舊遊記的朋友...</td>\n",
       "      <td>[]</td>\n",
       "      <td>118.167.224.229</td>\n",
       "      <td>2023-06-02 01:02:07</td>\n",
       "      <td>ptt</td>\n",
       "    </tr>\n",
       "  </tbody>\n",
       "</table>\n",
       "</div>"
      ],
      "text/plain": [
       "   system_id                                             artUrl  \\\n",
       "0          1  https://www.ptt.cc/bbs/Aviation/M.1685574818.A...   \n",
       "1          2  https://www.ptt.cc/bbs/Aviation/M.1685581301.A...   \n",
       "2          3  https://www.ptt.cc/bbs/Aviation/M.1685586987.A...   \n",
       "\n",
       "            artTitle              artDate   artPoster artCatagory  \\\n",
       "0  新聞韓亞航逃生門飛一半被打開空姐肉  2023-06-01 07:13:35  cici950630    Aviation   \n",
       "1   分享長榮哩程機票兌換升等後補時間  2023-06-01 09:01:39       nanna    Aviation   \n",
       "2   分享紐西蘭航空貴賓室皇后鎮國內線  2023-06-01 10:36:23     Furella    Aviation   \n",
       "\n",
       "                                          artContent  \\\n",
       "0  看到這新聞想到以前的飛行體驗那時候從德國要去飛丹麥轉機時機上一女子恐慌症發作倚著艙門把拼命搖...   \n",
       "1  今天八點半準時打長榮客服聽了很多語音按了很多按鍵後按轉客服完全沒有等到里程換商務艙機票兩個位...   \n",
       "2  圖文網誌版年疫情前的老遊記最近發憤圖強要把全部照片圖文都整理完畢所以大量出清不喜舊遊記的朋友...   \n",
       "\n",
       "                                          artComment             e_ip  \\\n",
       "0                                                 []   209.141.52.118   \n",
       "1  [{\"cmtStatus\": \"→\", \"cmtPoster\": \"abyssa1\", \"c...    118.163.43.79   \n",
       "2                                                 []  118.167.224.229   \n",
       "\n",
       "          insertedDate dataSource  \n",
       "0  2023-06-02 01:02:07        ptt  \n",
       "1  2023-06-02 01:02:07        ptt  \n",
       "2  2023-06-02 01:02:07        ptt  "
      ]
     },
     "execution_count": 5,
     "metadata": {},
     "output_type": "execute_result"
    }
   ],
   "source": [
    "# 過濾 nan 的資料\n",
    "udn = udn.dropna(subset=['artTitle'])\n",
    "udn = udn.dropna(subset=['artContent'])\n",
    "# 移除網址格式\n",
    "udn[\"artContent\"] = udn.artContent.apply(\n",
    "    lambda x: re.sub(\"(http|https)://.*\", \"\", x)\n",
    ")\n",
    "udn[\"artTitle\"] = udn[\"artTitle\"].apply(\n",
    "    lambda x: re.sub(\"(http|https)://.*\", \"\", x)\n",
    ")\n",
    "# 只留下中文字\n",
    "udn[\"artContent\"] = udn.artContent.apply(\n",
    "    lambda x: re.sub(\"[^\\u4e00-\\u9fa5]+\", \"\", x)\n",
    ")\n",
    "udn[\"artTitle\"] = udn[\"artTitle\"].apply(\n",
    "    lambda x: re.sub(\"[^\\u4e00-\\u9fa5]+\", \"\", x)\n",
    ")\n",
    "udn.head(3)"
   ]
  },
  {
   "cell_type": "markdown",
   "metadata": {},
   "source": [
    "文章的標題`artTitle`和內文`sentence`都會納入分析的內容，成為新的`content`欄位。"
   ]
  },
  {
   "cell_type": "code",
   "execution_count": 6,
   "metadata": {},
   "outputs": [
    {
     "data": {
      "text/html": [
       "<div>\n",
       "<style scoped>\n",
       "    .dataframe tbody tr th:only-of-type {\n",
       "        vertical-align: middle;\n",
       "    }\n",
       "\n",
       "    .dataframe tbody tr th {\n",
       "        vertical-align: top;\n",
       "    }\n",
       "\n",
       "    .dataframe thead th {\n",
       "        text-align: right;\n",
       "    }\n",
       "</style>\n",
       "<table border=\"1\" class=\"dataframe\">\n",
       "  <thead>\n",
       "    <tr style=\"text-align: right;\">\n",
       "      <th></th>\n",
       "      <th>content</th>\n",
       "      <th>artUrl</th>\n",
       "      <th>artCatagory</th>\n",
       "    </tr>\n",
       "  </thead>\n",
       "  <tbody>\n",
       "    <tr>\n",
       "      <th>0</th>\n",
       "      <td>新聞韓亞航逃生門飛一半被打開空姐肉看到這新聞想到以前的飛行體驗那時候從德國要去飛丹麥轉機時機...</td>\n",
       "      <td>https://www.ptt.cc/bbs/Aviation/M.1685574818.A...</td>\n",
       "      <td>Aviation</td>\n",
       "    </tr>\n",
       "    <tr>\n",
       "      <th>1</th>\n",
       "      <td>分享長榮哩程機票兌換升等後補時間今天八點半準時打長榮客服聽了很多語音按了很多按鍵後按轉客服完...</td>\n",
       "      <td>https://www.ptt.cc/bbs/Aviation/M.1685581301.A...</td>\n",
       "      <td>Aviation</td>\n",
       "    </tr>\n",
       "    <tr>\n",
       "      <th>2</th>\n",
       "      <td>分享紐西蘭航空貴賓室皇后鎮國內線圖文網誌版年疫情前的老遊記最近發憤圖強要把全部照片圖文都整理...</td>\n",
       "      <td>https://www.ptt.cc/bbs/Aviation/M.1685586987.A...</td>\n",
       "      <td>Aviation</td>\n",
       "    </tr>\n",
       "    <tr>\n",
       "      <th>3</th>\n",
       "      <td>分享紐西蘭航空貴賓室基督城國際線圖文網誌版年疫情前的老遊記最近發憤圖強要把全部照片圖文都整理...</td>\n",
       "      <td>https://www.ptt.cc/bbs/Aviation/M.1685589145.A...</td>\n",
       "      <td>Aviation</td>\n",
       "    </tr>\n",
       "    <tr>\n",
       "      <th>4</th>\n",
       "      <td>問題馬印航空行李問題板上前輩好關於馬印航空的小問題想請教預計搭乘馬印航空飛在轉機機票已有附了...</td>\n",
       "      <td>https://www.ptt.cc/bbs/Aviation/M.1685590945.A...</td>\n",
       "      <td>Aviation</td>\n",
       "    </tr>\n",
       "  </tbody>\n",
       "</table>\n",
       "</div>"
      ],
      "text/plain": [
       "                                             content  \\\n",
       "0  新聞韓亞航逃生門飛一半被打開空姐肉看到這新聞想到以前的飛行體驗那時候從德國要去飛丹麥轉機時機...   \n",
       "1  分享長榮哩程機票兌換升等後補時間今天八點半準時打長榮客服聽了很多語音按了很多按鍵後按轉客服完...   \n",
       "2  分享紐西蘭航空貴賓室皇后鎮國內線圖文網誌版年疫情前的老遊記最近發憤圖強要把全部照片圖文都整理...   \n",
       "3  分享紐西蘭航空貴賓室基督城國際線圖文網誌版年疫情前的老遊記最近發憤圖強要把全部照片圖文都整理...   \n",
       "4  問題馬印航空行李問題板上前輩好關於馬印航空的小問題想請教預計搭乘馬印航空飛在轉機機票已有附了...   \n",
       "\n",
       "                                              artUrl artCatagory  \n",
       "0  https://www.ptt.cc/bbs/Aviation/M.1685574818.A...    Aviation  \n",
       "1  https://www.ptt.cc/bbs/Aviation/M.1685581301.A...    Aviation  \n",
       "2  https://www.ptt.cc/bbs/Aviation/M.1685586987.A...    Aviation  \n",
       "3  https://www.ptt.cc/bbs/Aviation/M.1685589145.A...    Aviation  \n",
       "4  https://www.ptt.cc/bbs/Aviation/M.1685590945.A...    Aviation  "
      ]
     },
     "execution_count": 6,
     "metadata": {},
     "output_type": "execute_result"
    }
   ],
   "source": [
    "# 留下 content\n",
    "udn[\"content\"] = udn[\"artTitle\"] + udn[\"artContent\"]\n",
    "udn = udn[[\"content\", \"artUrl\", \"artCatagory\"]]  # 文章內容 文章連結\n",
    "udn.head()"
   ]
  },
  {
   "cell_type": "code",
   "execution_count": 7,
   "metadata": {
    "scrolled": true
   },
   "outputs": [
    {
     "name": "stdout",
     "output_type": "stream",
     "text": [
      "total docs: 8063\n"
     ]
    }
   ],
   "source": [
    "# 看看有幾篇文章\n",
    "print(f\"total docs: {udn.shape[0]}\")\n"
   ]
  },
  {
   "cell_type": "markdown",
   "metadata": {},
   "source": [
    "### 2.2 斷詞"
   ]
  },
  {
   "cell_type": "markdown",
   "metadata": {},
   "source": [
    "<font color=#ffa>斷詞的部分加上Bigram高頻率詞彙</font>"
   ]
  },
  {
   "cell_type": "code",
   "execution_count": 8,
   "metadata": {},
   "outputs": [
    {
     "name": "stderr",
     "output_type": "stream",
     "text": [
      "Building prefix dict from c:\\Users\\ariel\\SMA_2024S\\week7\\dict\\dict.txt.big ...\n",
      "Loading model from cache C:\\Users\\ariel\\AppData\\Local\\Temp\\jieba.u07c63026232109d53925277a1d546e38.cache\n",
      "Loading model cost 1.255 seconds.\n",
      "Prefix dict has been built successfully.\n"
     ]
    }
   ],
   "source": [
    "# 設定繁體中文詞庫\n",
    "jieba.set_dictionary(\"./dict/dict.txt.big\")\n",
    "jieba.load_userdict('./dict/travel_lexicon.txt')\n",
    "# 新增stopwords\n",
    "# jieba.analyse.set_stop_words('./dict/stop_words.txt') #jieba.analyse.extract_tags才會作用\n",
    "with open(\"./dict/stop_words.txt\", encoding=\"utf-8\") as f:\n",
    "    stopWords = [line.strip() for line in f.readlines()]"
   ]
  },
  {
   "cell_type": "code",
   "execution_count": 9,
   "metadata": {},
   "outputs": [],
   "source": [
    "# 參數形式手動加入停用字\n",
    "stopwords_manual = [\"一些\", \"一份\", \"一台\", \"一圈\", \"一堆\", \"一定\", \"一家\", \"一人\", \"一天\", \"一小\", \"一大\", \"一帶\", \"一座\", \"一張\", \"一旁\", \"一日\", \"一早\", \"一晚\", \"一杯\", \"一條\", \"一次\", \"一段\", \"一種\", \"一起\", \"一趟\", \"一路\", \"一邊\", \"一間\", \"三個\", \"三天\", \"上次\", \"上面\", \"上方\", \"上點\", \"下來\", \"下去\", \"下方\", \"下次\", \"下面\", \"不到\", \"不太\", \"不知\", \"不算\", \"中間\", \"之前\", \"之外\", \"之間\", \"令人\", \"以來\", \"以前\", \"以外\", \"以為\", \"似乎\", \"來說\", \"像是\", \"先到\", \"兩個\", \"再次\", \"出現\", \"則是\", \"前方\", \"前面\", \"剛剛\", \"十分\", \"in\", \"XD\", \"一下\", \"一位\", \"一個\", \"一半\", \"一直\", \"一點\", \"下午\", \"不用\", \"主要\", \"之後\", \"今天\", \"今年\", \"今日\", \"他們\", \"以下\", \"以後\", \"來到\", \"入住\", \"內容\", \"出發\", \"分享\", \"前往\", \"包含\", \"包括\", \"可能\", \"吃到\", \"各位\", \"名稱\", \"回到\", \"因一\", \"因上\", \"地方\", \"好像\", \"完整\", \"就是\", \"層面\", \"左右\", \"年前\", \"年增\", \"建議\", \"感覺\", \"成為\", \"我們\", \"打打\", \"抵達\", \"持續\", \"指出\", \"提供\", \"搭配\", \"整個\", \"方面\", \"旁邊\", \"日期\", \"早上\", \"明天\", \"明年\", \"明日\", \"昨日\", \"是否\", \"晚上\", \"最後\", \"月底\", \"有\", \"有沒有\", \"有無\", \"東西\", \"決定\", \"沒\", \"沒有\", \"準備\", \"然後\", \"特別\", \"現在\", \"發現\", \"發生\", \"目前\", \"直接\", \"相關\", \"看到\", \"看看\", \"知道\", \"碰到\", \"維持\", \"聞到\", \"聽到\", \"表示\", \"裡面\", \"認為\", \"謝謝\", \"這\", \"這裡\", \"這間\", \"造成\", \"造訪\", \"進行\", \"過去\", \"那裡\", \"附近\", \"隔天\", \"離開\", \"需要\", \"顯示\"]\n",
    "stopWords.extend(stopwords_manual)"
   ]
  },
  {
   "cell_type": "markdown",
   "metadata": {},
   "source": [
    "去除停用字 & 只保留長度>1的word"
   ]
  },
  {
   "cell_type": "code",
   "execution_count": 10,
   "metadata": {},
   "outputs": [],
   "source": [
    "# 設定斷詞 function\n",
    "def getToken(row):\n",
    "    seg_list = jieba.cut(row, cut_all=False)\n",
    "    seg_list = [\n",
    "        w for w in seg_list if w not in stopWords and len(w) > 1\n",
    "    ]  # 篩選掉停用字與字元數大於1的詞彙\n",
    "    return seg_list"
   ]
  },
  {
   "cell_type": "code",
   "execution_count": 11,
   "metadata": {},
   "outputs": [
    {
     "data": {
      "text/html": [
       "<div>\n",
       "<style scoped>\n",
       "    .dataframe tbody tr th:only-of-type {\n",
       "        vertical-align: middle;\n",
       "    }\n",
       "\n",
       "    .dataframe tbody tr th {\n",
       "        vertical-align: top;\n",
       "    }\n",
       "\n",
       "    .dataframe thead th {\n",
       "        text-align: right;\n",
       "    }\n",
       "</style>\n",
       "<table border=\"1\" class=\"dataframe\">\n",
       "  <thead>\n",
       "    <tr style=\"text-align: right;\">\n",
       "      <th></th>\n",
       "      <th>content</th>\n",
       "      <th>artUrl</th>\n",
       "      <th>artCatagory</th>\n",
       "      <th>words</th>\n",
       "    </tr>\n",
       "  </thead>\n",
       "  <tbody>\n",
       "    <tr>\n",
       "      <th>0</th>\n",
       "      <td>新聞韓亞航逃生門飛一半被打開空姐肉看到這新聞想到以前的飛行體驗那時候從德國要去飛丹麥轉機時機...</td>\n",
       "      <td>https://www.ptt.cc/bbs/Aviation/M.1685574818.A...</td>\n",
       "      <td>Aviation</td>\n",
       "      <td>新聞 亞航 逃生門 打開 空姐 新聞 想到 飛行 體驗 德國 丹麥 轉機 時機 女子 恐慌 ...</td>\n",
       "    </tr>\n",
       "    <tr>\n",
       "      <th>1</th>\n",
       "      <td>分享長榮哩程機票兌換升等後補時間今天八點半準時打長榮客服聽了很多語音按了很多按鍵後按轉客服完...</td>\n",
       "      <td>https://www.ptt.cc/bbs/Aviation/M.1685581301.A...</td>\n",
       "      <td>Aviation</td>\n",
       "      <td>長榮 哩程 機票 兌換 補時 八點半 準時 長榮 客服 語音 按鍵 按轉 客服 完全 里程 ...</td>\n",
       "    </tr>\n",
       "    <tr>\n",
       "      <th>2</th>\n",
       "      <td>分享紐西蘭航空貴賓室皇后鎮國內線圖文網誌版年疫情前的老遊記最近發憤圖強要把全部照片圖文都整理...</td>\n",
       "      <td>https://www.ptt.cc/bbs/Aviation/M.1685586987.A...</td>\n",
       "      <td>Aviation</td>\n",
       "      <td>紐西蘭 航空 貴賓室 皇后 國內 圖文 網誌 疫情 遊記 最近 發憤圖強 全部 照片 圖文 ...</td>\n",
       "    </tr>\n",
       "    <tr>\n",
       "      <th>3</th>\n",
       "      <td>分享紐西蘭航空貴賓室基督城國際線圖文網誌版年疫情前的老遊記最近發憤圖強要把全部照片圖文都整理...</td>\n",
       "      <td>https://www.ptt.cc/bbs/Aviation/M.1685589145.A...</td>\n",
       "      <td>Aviation</td>\n",
       "      <td>紐西蘭 航空 貴賓室 基督城 國際 圖文 網誌 疫情 遊記 最近 發憤圖強 全部 照片 圖文...</td>\n",
       "    </tr>\n",
       "    <tr>\n",
       "      <th>4</th>\n",
       "      <td>問題馬印航空行李問題板上前輩好關於馬印航空的小問題想請教預計搭乘馬印航空飛在轉機機票已有附了...</td>\n",
       "      <td>https://www.ptt.cc/bbs/Aviation/M.1685590945.A...</td>\n",
       "      <td>Aviation</td>\n",
       "      <td>問題 航空 行李 問題 板上 前輩 航空 問題 請教 預計 搭乘 航空 飛在 轉機 機票 已...</td>\n",
       "    </tr>\n",
       "  </tbody>\n",
       "</table>\n",
       "</div>"
      ],
      "text/plain": [
       "                                             content  \\\n",
       "0  新聞韓亞航逃生門飛一半被打開空姐肉看到這新聞想到以前的飛行體驗那時候從德國要去飛丹麥轉機時機...   \n",
       "1  分享長榮哩程機票兌換升等後補時間今天八點半準時打長榮客服聽了很多語音按了很多按鍵後按轉客服完...   \n",
       "2  分享紐西蘭航空貴賓室皇后鎮國內線圖文網誌版年疫情前的老遊記最近發憤圖強要把全部照片圖文都整理...   \n",
       "3  分享紐西蘭航空貴賓室基督城國際線圖文網誌版年疫情前的老遊記最近發憤圖強要把全部照片圖文都整理...   \n",
       "4  問題馬印航空行李問題板上前輩好關於馬印航空的小問題想請教預計搭乘馬印航空飛在轉機機票已有附了...   \n",
       "\n",
       "                                              artUrl artCatagory  \\\n",
       "0  https://www.ptt.cc/bbs/Aviation/M.1685574818.A...    Aviation   \n",
       "1  https://www.ptt.cc/bbs/Aviation/M.1685581301.A...    Aviation   \n",
       "2  https://www.ptt.cc/bbs/Aviation/M.1685586987.A...    Aviation   \n",
       "3  https://www.ptt.cc/bbs/Aviation/M.1685589145.A...    Aviation   \n",
       "4  https://www.ptt.cc/bbs/Aviation/M.1685590945.A...    Aviation   \n",
       "\n",
       "                                               words  \n",
       "0  新聞 亞航 逃生門 打開 空姐 新聞 想到 飛行 體驗 德國 丹麥 轉機 時機 女子 恐慌 ...  \n",
       "1  長榮 哩程 機票 兌換 補時 八點半 準時 長榮 客服 語音 按鍵 按轉 客服 完全 里程 ...  \n",
       "2  紐西蘭 航空 貴賓室 皇后 國內 圖文 網誌 疫情 遊記 最近 發憤圖強 全部 照片 圖文 ...  \n",
       "3  紐西蘭 航空 貴賓室 基督城 國際 圖文 網誌 疫情 遊記 最近 發憤圖強 全部 照片 圖文...  \n",
       "4  問題 航空 行李 問題 板上 前輩 航空 問題 請教 預計 搭乘 航空 飛在 轉機 機票 已...  "
      ]
     },
     "execution_count": 11,
     "metadata": {},
     "output_type": "execute_result"
    }
   ],
   "source": [
    "udn[\"words\"] = udn[\"content\"].apply(getToken).map(\" \".join)\n",
    "udn.head()"
   ]
  },
  {
   "cell_type": "markdown",
   "metadata": {},
   "source": [
    "### 2.3 資料集基本檢視"
   ]
  },
  {
   "cell_type": "markdown",
   "metadata": {},
   "source": [
    "檢視資料內容"
   ]
  },
  {
   "cell_type": "code",
   "execution_count": 12,
   "metadata": {},
   "outputs": [
    {
     "name": "stdout",
     "output_type": "stream",
     "text": [
      "total posts: 8063\n",
      "category: \n",
      "artCatagory\n",
      "Japan_Travel    6060\n",
      "Aviation        1058\n",
      "Korea_Travel     945\n",
      "Name: count, dtype: int64\n"
     ]
    }
   ],
   "source": [
    "print(f\"total posts: {len(udn['artUrl'].unique())}\")\n",
    "print(f\"category: \\n{udn['artCatagory'].value_counts()}\")\n"
   ]
  },
  {
   "cell_type": "markdown",
   "metadata": {},
   "source": [
    "## 3. 分類模型的訓練流程\n",
    "### 3.1 根據7:3的比例切分資料集\n",
    "利用 sklearn 中的 train_test_split 函數將 `raw_data` 隨機切成 7:3，設置 random_state 讓每次切分的結果一致。`y_train`和`y_test`分別為訓練資料和測試資料的預測目標。"
   ]
  },
  {
   "cell_type": "code",
   "execution_count": 13,
   "metadata": {},
   "outputs": [
    {
     "name": "stdout",
     "output_type": "stream",
     "text": [
      "7861    徵求 桃園機場 台北 共乘 徵求 類別 共乘原 性別 徵求 航桃機 台北 下車 地點 台北市...\n",
      "3709    問題 環球影城 待滿 整整 實在 沒想到 一整天 環球 是連 留下 遺憾 傷感 行程 飯店 ...\n",
      "2710    問題 京都 交通 行程 請益 行程 京都 第四天 移動 難波 住宿 第一天 日本 中午 預計...\n",
      "2369    問題 東京 短暫 四日 人去 東京 抽到 寶可夢 門票 抽到 哭哭 請問 安排 行程 可不可...\n",
      "2927    資訊 日本 兒童票 年齡 定義 給有 小朋友 日本 家長 參考 日本 眾多 交通方式 小學生...\n",
      "Name: words, dtype: object\n",
      "7861    Korea_Travel\n",
      "3709    Japan_Travel\n",
      "2710    Japan_Travel\n",
      "2369    Japan_Travel\n",
      "2927    Japan_Travel\n",
      "Name: artCatagory, dtype: object\n"
     ]
    }
   ],
   "source": [
    "data = udn\n",
    "X = data[\"words\"]\n",
    "y = data[\"artCatagory\"]\n",
    "\n",
    "# 把整個資料集七三切\n",
    "X_train, X_test, y_train, y_test = train_test_split(\n",
    "    X, y, test_size=0.3, random_state=777\n",
    ")\n",
    "\n",
    "print(X_train.head())\n",
    "print(y_train.head())"
   ]
  },
  {
   "cell_type": "code",
   "execution_count": 14,
   "metadata": {},
   "outputs": [
    {
     "name": "stdout",
     "output_type": "stream",
     "text": [
      "raw data percentage :\n",
      "artCatagory\n",
      "Japan_Travel    75.158130\n",
      "Aviation        13.121667\n",
      "Korea_Travel    11.720203\n",
      "Name: proportion, dtype: float64\n",
      "\n",
      "train percentage :\n",
      "artCatagory\n",
      "Japan_Travel    75.442948\n",
      "Aviation        13.058115\n",
      "Korea_Travel    11.498937\n",
      "Name: proportion, dtype: float64\n",
      "\n",
      "test percentage :\n",
      "artCatagory\n",
      "Japan_Travel    74.493592\n",
      "Aviation        13.269946\n",
      "Korea_Travel    12.236461\n",
      "Name: proportion, dtype: float64\n"
     ]
    }
   ],
   "source": [
    "# 看一下各個資料集切分的比例，應該要一致\n",
    "print(\n",
    "    f\"raw data percentage :\\n{data['artCatagory'].value_counts(normalize=True) * 100}\"\n",
    ")\n",
    "print(f\"\\ntrain percentage :\\n{y_train.value_counts(normalize=True) * 100}\")\n",
    "print(f\"\\ntest percentage :\\n{y_test.value_counts(normalize=True) * 100}\")"
   ]
  },
  {
   "cell_type": "markdown",
   "metadata": {},
   "source": [
    "### 3.2 將文章轉為 DTM\n",
    "\n",
    "DTM(document term matrix) :\n",
    "+ 將不同的文章 (document) 以文章中出現過的字詞(term)表示\n",
    "    + row 是document (文件)\n",
    "    + column 是字詞 (term)\n",
    "    + row 內的數字是出現的字數\n",
    "\n",
    "DTM裡面的值可以有不同的表示方法\n",
    "+ (1) 依據詞頻 (classic BoW)\n",
    "    + 用 `CountVectorizer()`\n",
    "    + unigrams and bigrams\n",
    "    + [sklearn.feature_extraction.text.CountVectorizer](https://scikit-learn.org/stable/modules/generated/sklearn.feature_extraction.text.CountVectorizer.html)\n",
    "+ (2) 依據tfidf (advanced variant of BoW)\n",
    "    + 篩選出現次數大於10的字\n",
    "    + 用 `TfidfVectorizer()`\n",
    "    + [sklearn.feature_extraction.text.TfidfVectorizer](https://scikit-learn.org/stable/modules/generated/sklearn.feature_extraction.text.CountVectorizer.html)\n",
    "+ 常用參數介紹\n",
    "    + max_features: 取 詞頻 / tfidf 前多少的字"
   ]
  },
  {
   "cell_type": "markdown",
   "metadata": {},
   "source": [
    "### 3.3 套入正式的資料集\n",
    "+  模型訓練範例: logistic regression + cv tokenizer"
   ]
  },
  {
   "cell_type": "markdown",
   "metadata": {},
   "source": [
    "<font color=#ffa>用 Vectorizer 計算詞頻，之後篩選出現次數大於10的字詞 </font>"
   ]
  },
  {
   "cell_type": "markdown",
   "metadata": {},
   "source": [
    "<font color=#ffa>這裡使用的 Train 和 Test 的資料和結果都是使用 Vectorizer 生成的 DTM，等等會與使用 TfidfVectorizer 的結果進行比較</font>"
   ]
  },
  {
   "cell_type": "code",
   "execution_count": 15,
   "metadata": {},
   "outputs": [
    {
     "name": "stdout",
     "output_type": "stream",
     "text": [
      "CountVectorizer(max_features=1000)\n"
     ]
    }
   ],
   "source": [
    "vectorizer = CountVectorizer(max_features=1000)\n",
    "print(vectorizer)"
   ]
  },
  {
   "cell_type": "code",
   "execution_count": 16,
   "metadata": {},
   "outputs": [
    {
     "data": {
      "text/plain": [
       "7861    徵求 桃園機場 台北 共乘 徵求 類別 共乘原 性別 徵求 航桃機 台北 下車 地點 台北市...\n",
       "3709    問題 環球影城 待滿 整整 實在 沒想到 一整天 環球 是連 留下 遺憾 傷感 行程 飯店 ...\n",
       "2710    問題 京都 交通 行程 請益 行程 京都 第四天 移動 難波 住宿 第一天 日本 中午 預計...\n",
       "2369    問題 東京 短暫 四日 人去 東京 抽到 寶可夢 門票 抽到 哭哭 請問 安排 行程 可不可...\n",
       "2927    資訊 日本 兒童票 年齡 定義 給有 小朋友 日本 家長 參考 日本 眾多 交通方式 小學生...\n",
       "Name: words, dtype: object"
      ]
     },
     "execution_count": 16,
     "metadata": {},
     "output_type": "execute_result"
    }
   ],
   "source": [
    "X_train.head()"
   ]
  },
  {
   "cell_type": "code",
   "execution_count": 17,
   "metadata": {},
   "outputs": [
    {
     "data": {
      "text/plain": [
       "<5644x1000 sparse matrix of type '<class 'numpy.int64'>'\n",
       "\twith 225934 stored elements in Compressed Sparse Row format>"
      ]
     },
     "execution_count": 17,
     "metadata": {},
     "output_type": "execute_result"
    }
   ],
   "source": [
    "vectorizer.fit(X_train)\n",
    "vec_train = vectorizer.transform(X_train)\n",
    "vec_train"
   ]
  },
  {
   "cell_type": "code",
   "execution_count": 18,
   "metadata": {},
   "outputs": [
    {
     "data": {
      "text/plain": [
       "array([[0, 0, 0, ..., 0, 0, 0],\n",
       "       [1, 0, 0, ..., 0, 0, 0],\n",
       "       [0, 0, 0, ..., 0, 0, 0],\n",
       "       ...,\n",
       "       [0, 0, 0, ..., 0, 0, 0],\n",
       "       [0, 0, 0, ..., 0, 0, 0],\n",
       "       [0, 0, 0, ..., 0, 0, 0]], dtype=int64)"
      ]
     },
     "execution_count": 18,
     "metadata": {},
     "output_type": "execute_result"
    }
   ],
   "source": [
    "### 用 `toarray()` 轉成 numpy array\n",
    "vec_train.toarray()"
   ]
  },
  {
   "cell_type": "code",
   "execution_count": 19,
   "metadata": {},
   "outputs": [
    {
     "name": "stdout",
     "output_type": "stream",
     "text": [
      "['一整天' '一日遊' '一樓' '一班' '一站' '一點點' '三井' '上午' '上山' '上網']\n"
     ]
    }
   ],
   "source": [
    "# 可用 `fit_transform()` 一次完成\n",
    "vec_train = vectorizer.fit_transform(X_train)\n",
    "print(vectorizer.get_feature_names_out()[:10])\n"
   ]
  },
  {
   "cell_type": "code",
   "execution_count": 20,
   "metadata": {},
   "outputs": [
    {
     "name": "stdout",
     "output_type": "stream",
     "text": [
      "{'徵求': 361, '桃園機場': 513, '台北': 181, '類別': 962, '性別': 366, '下車': 13, '地點': 238, '地址': 235, '金額': 907, '備註': 80, '內信': 97, '問題': 211, '環球影城': 623, '實在': 295, '沒想到': 557, '一整天': 0, '環球': 622, '行程': 767, '飯店': 974, '時間': 465, '紀錄': 693, '這次': 861, '還沒': 890, '去過': 166, '是從': 462, '訂票': 788, '官網': 283, '導致': 301, '無法': 592, '選擇': 885, '希望': 327, '自行': 740, '重要': 904, '原本': 163, '大阪': 259, '梅田': 515, '真的': 652, '報到': 241, '現場': 618, '任天堂': 58, '單人': 214, '參加': 167, '小時': 307, '分鐘': 129, '上車': 10, '組合': 697, '參觀': 170, '氣氛': 552, '工作人員': 321, '等於': 684, '考慮': 728, '排隊': 398, '根本': 511, '辦法': 849, '關係': 926, '變成': 808, '應該': 378, '只能': 178, '放棄': 421, '哈利波': 204, '解決': 784, '所有': 387, '方式': 436, '值得': 73, '簡單': 688, '奈良': 267, '拍照': 394, '回來': 219, '喜歡': 213, '方案': 437, '提早': 407, '入園': 94, '整理': 423, '京都': 43, '交通': 38, '請益': 806, '第四天': 682, '移動': 667, '難波': 940, '住宿': 65, '第一天': 678, '日本': 450, '中午': 21, '預計': 958, '民宿': 550, '確定': 655, '改成': 419, '市場': 326, '第二天': 681, '有點': 488, '詢問': 800, '安排': 278, '比較': 549, '嵐山': 318, '火車': 588, '請問': 804, '關西': 927, '周遊': 194, '以上': 57, '使用': 66, '東京': 501, '寶可夢': 299, '門票': 921, '感謝': 376, '每日': 546, '酒店': 900, '長榮': 917, '行李': 765, '搭乘': 410, '上野': 11, '池袋': 555, '秋葉原': 665, '資訊': 818, '小朋友': 308, '參考': 169, '交通方式': 40, '免費': 91, '飛機': 967, '兒童': 92, '西瓜': 773, '服務人員': 491, '護照': 807, '當時': 634, '算是': 685, '清水': 574, '網誌': 708, '稍微': 669, '重點': 905, '唯一': 207, '入口': 93, '區域': 150, '步行': 541, '範圍': 687, '一樓': 2, '外觀': 246, '風格': 965, '氛圍': 551, '大廳': 252, '設計': 797, '櫃台': 531, '自然': 738, '充滿': 87, '旅客': 439, '人員': 46, '日文': 449, '溝通': 576, '自助': 736, '機器': 522, '完成': 281, '付款': 53, '空間': 673, '歐洲': 536, '餐廳': 977, '不想': 17, '電梯': 943, '座位': 341, '許多': 798, '品牌': 201, '販售': 812, '適合': 883, '櫃檯': 532, '相對': 648, '晚餐': 467, '品項': 203, '甜點': 624, '蛋糕': 763, '價格': 83, '美味': 716, '購買': 823, '早餐': 452, '幾個': 335, '位置': 64, '空中': 671, '大門': 258, '行李箱': 766, '白色': 641, '浴室': 566, '廁所': 344, '寬敞': 298, '順便': 953, '兌換': 89, '完全': 280, '資料': 817, '咖啡': 199, '選項': 886, '備品': 79, '物品': 608, '合作': 187, '製作': 772, '室內': 288, '內部': 98, '很大': 353, '感受': 375, '同樣': 188, '商品': 209, '電視': 944, '漂亮': 583, '打開': 391, '英文': 755, '正常': 539, '覺得': 779, '女生': 270, '進出': 873, '設施': 796, '疫情': 635, '預約': 956, '腳踏車': 734, '利用': 133, '接近': 400, '幸運': 334, '欣賞': 534, '大樓': 253, '輕鬆': 844, '享用': 42, '營業': 600, '餐點': 978, '沙拉': 559, '想到': 370, '那種': 896, '遇到': 875, '戶外': 384, '用餐': 626, '可惜': 179, '冬天': 116, '前一天': 136, '可愛': 180, '山形': 315, '特色': 611, '自由': 739, '部分': 897, '新鮮': 433, '蔬菜': 759, '水果': 554, '醬汁': 901, '經典': 701, '滿足': 582, '好吃': 272, '朋友': 489, '滿滿的': 581, '大小': 251, '實際': 296, '容易': 290, '體驗': 983, '有趣': 487, '文化': 426, '遊客': 876, '經驗': 703, '印象': 159, '客人': 284, '紀念': 691, '更是': 477, '機會': 526, '附上': 931, '電話': 945, '推薦': 403, '沖繩': 558, '旅遊': 443, '燒肉': 599, '尤其': 310, '口感': 176, '同行': 189, '料理': 428, '版友': 604, '讓售': 809, '北九州': 145, '圖片': 231, '買入': 814, '小於': 306, '欲售': 535, '交易方式': 37, '現金': 619, '面交': 950, '聯絡方式': 732, '說明': 802, '票券': 661, '長崎': 916, '巴士': 324, '活動': 564, '期限': 494, '清楚': 573, '關西機場': 928, '班機': 616, '南海': 155, '電車': 946, '心齋橋': 363, '日航': 451, '包車': 144, '計程車': 790, '幫忙': 329, '指定': 397, '海鮮': 569, '類似': 961, '食記': 973, '金澤': 906, '車站': 842, '美食': 720, '營業時間': 601, '食物': 972, '日式': 448, '消費': 570, '城市': 240, '划算': 130, '錯過': 913, '菜單': 757, '滿意': 579, '生魚片': 625, '套餐': 269, '壽司': 244, '還好': 888, '車票': 840, '請教': 805, '已經': 323, '新宿': 430, '成田': 382, '東京車站': 502, '青森': 948, '東北': 505, '自駕': 741, '市區': 325, '盛岡': 643, '小孩': 303, '滑雪': 578, '有個': 485, '公園': 110, '樂園': 517, '想要': 372, '大人': 249, '開心': 922, '有人': 484, '高山': 986, '北陸': 147, '遊記': 877, '首爾': 979, '心得': 362, '出門': 124, '走走': 825, '工作': 320, '當天': 632, '狀態': 612, '優點': 86, '路線': 837, '手機': 388, '帶著': 328, '車上': 838, '吃飯': 185, '規定': 777, '詳細': 801, '特殊': 610, '景點': 471, '歷史': 543, '缺點': 715, '不錯': 19, '每個': 544, '逛街': 867, '研究': 654, '一站': 4, '韓國': 951, '當地': 631, '價錢': 84, '最近': 480, '新聞': 432, '兩間': 106, '檢查': 530, '台灣': 183, '還要': 893, '回覆': 224, '旅伴': 438, '方便': 434, '設定': 795, '高雄': 990, '仁川機場': 51, '景觀': 470, '明洞': 455, '五天': 36, '星巴克': 459, '第一次': 679, '出國': 121, '便宜': 69, '半小時': 153, '機上': 521, '座椅': 342, '分別': 127, '東橫': 506, '天王': 263, '出口': 120, '相當': 649, '走路': 826, '旅館': 444, '對面': 300, '超市': 830, '二樓': 35, '房間': 386, '隔壁': 936, '地鐵': 237, '動物園': 143, '步道': 542, '天橋': 261, '回程': 223, '機場': 524, '百貨': 642, '很快': 354, '哪裡': 206, '乾淨': 32, '習慣': 724, '注意': 563, '每天': 545, '咖哩': 198, '假日': 74, '網路上': 710, '更好': 474, '額外': 960, '京都車站': 44, '鐵道': 915, '博物館': 158, '伏見': 60, '稻荷': 670, '大社': 255, '神社': 659, '宇治': 276, '京阪': 45, '快速': 365, '回家': 222, '熱門': 597, '午餐': 152, '很棒': 355, '點燈': 998, '景色': 469, '鳥居': 994, '返回': 852, '下山': 12, '過程': 881, '狐狸': 614, '過來': 879, '進場': 874, '夜景': 248, '觀景': 782, '入場': 95, '超過': 832, '展望': 312, '要求': 775, '網路': 709, '搭車': 414, '網頁': 711, '刷卡': 135, '商店': 210, '接受': 399, '信用卡': 71, '實體': 297, '店家': 340, '至少': 742, '情況': 369, '搭公車': 411, '處理': 762, '國泰': 226, '銀行': 911, '日幣': 447, '回去': 220, '規劃': 776, '食伴': 970, '討論': 791, '旅行': 441, '點餐': 999, '協助': 154, '幾天': 336, '司機': 184, '放在': 420, '靠近': 949, '兩人': 101, '打算': 390, '出遊': 123, '天夜': 260, '一日遊': 1, '水族館': 553, '購物': 821, '冬季': 117, '推車': 404, '聖誕': 730, '得到': 359, '繼續': 713, '銀座': 909, '距離': 834, '轉乘': 846, '意見': 374, '桃園': 512, '大邱': 256, '松山': 507, '網站': 707, '開放': 923, '單程': 215, '期間': 493, '小弟': 304, '名古屋': 190, '輸入': 845, '優惠': 85, '營運': 602, '航線': 751, '適用': 884, '票價': 660, '自動': 737, '來回': 67, '台幣': 182, '會員': 481, '領取': 959, '網址': 706, '順利': 954, '時段': 464, '限制': 933, '飛行': 969, '公尺': 111, '起飛': 829, '降落': 932, '國際': 227, '航班': 748, '國內': 225, '調整': 803, '配合': 898, '提醒': 408, '確認': 656, '當日': 633, '航空': 749, '成功': 380, '服務': 490, '全程': 99, '仙台': 55, '美術館': 719, '星野': 460, '接駁': 401, '溫泉': 577, '藏王': 760, '逛逛': 868, '回台灣': 221, '匯款': 148, '草莓': 756, '餅乾': 976, '店名': 338, '羽田': 722, '空港': 672, '東京都': 503, '羽田機場': 723, '圖文': 230, '造型': 870, '北海道': 146, '人潮': 49, '店員': 339, '速度': 869, '推出': 402, '口味': 175, '限定': 934, '手禮': 389, '畫面': 629, '巧克力': 322, '奶油': 271, '風味': 963, '人氣': 48, '分店': 128, '轉機': 847, '特急': 609, '旅行社': 442, '公司': 108, '記得': 793, '結帳': 699, '收到': 418, '福岡': 662, '華航': 758, '機票': 527, '還能': 891, '九州': 31, '起床': 828, '辦理': 850, '登機': 637, '貴賓室': 813, '地勤': 232, '恢復': 367, '整體': 424, '環境': 621, '客機': 286, '機型': 523, '更改': 475, '配置': 899, '商務': 208, '經濟艙': 702, '客艙': 287, '舒服': 744, '螢幕': 764, '還在': 887, '設備': 794, '更新': 476, '安全': 277, '系列': 689, '每次': 547, '艙門': 753, '歡迎': 537, '飛航': 968, '跑道': 833, '大橋': 254, '風景': 964, '窗外': 676, '組員': 698, '吃飽': 186, '目的地': 645, '天氣': 262, '福岡機場': 663, '方向': 435, '航廈': 746, '滿滿': 580, '入境': 96, '上午': 7, '通關': 866, '航機': 747, '博多車站': 157, '一點點': 5, '由布院': 627, '這趟': 863, '舒適': 745, '美景': 718, '成田機場': 383, '寄放': 291, '休息': 61, '輕井澤': 843, '發車': 639, '新幹線': 431, '富士': 292, '河口': 560, '上山': 8, '淺間': 572, '為主': 590, '富士山': 293, '體力': 982, '淺草': 571, '周邊': 195, '澀谷': 586, '途中': 857, '外面': 247, '擔心': 416, '停留': 75, '還會': 889, '點了': 997, '狀況': 613, '廣域': 345, '劃位': 141, '考量': 729, '結束': 700, '還蠻': 892, '興趣': 743, '剩下': 140, '運行': 878, '第一': 677, '出境': 122, '機門': 528, '突然': 674, '原因': 162, '位於': 63, '通知': 865, '影響': 351, '後續': 357, '桃機': 514, '終於': 696, '這是': 860, '徵人': 360, '事情': 34, '橫濱': 529, '預定': 955, '紅葉': 695, '熊本': 595, '中部': 26, '賞楓': 819, '上網': 9, '到達': 134, '日圓': 446, '咖啡廳': 200, '地圖': 234, '慢慢': 377, '建築': 349, '透過': 856, '原來': 161, '味道': 196, '照片': 594, '進入': 872, '店內': 337, '影片': 350, '介紹': 52, '這家': 859, '音樂': 952, '觀光客': 781, '員工': 205, '小路': 309, '東京鐵塔': 504, '六本木': 114, '第三天': 680, '明治': 454, '神宮': 657, '參道': 171, '中央': 23, '程度': 668, '下雨': 14, '晃晃': 466, '八幡': 107, '晴空': 472, '列車': 131, '不夠': 15, '退房': 854, '不行': 18, '食堂': 971, '纜車': 714, '知名': 653, '觀光': 780, '預訂': 957, '麻煩': 996, '文章': 427, '閱讀': 925, '廣播': 348, '代表': 56, '品質': 202, '中文': 25, '停車場': 77, '廣場': 346, '大部分': 257, '一班': 3, '購票': 822, '成人': 379, '樣子': 520, '拿到': 396, '大型': 250, '車廂': 839, '好好': 274, '有名': 486, '臨時': 735, '中心': 24, '套票': 268, '前進': 139, '告知': 193, '展示': 313, '白天': 640, '找到': 392, '紀念品': 692, '兩張': 103, '補充': 771, '角度': 783, '成員': 381, '國際機場': 228, '阪神': 929, '天神': 264, '想問': 371, '不好': 16, '街道': 768, '後面': 358, '山頂': 316, '綠色': 704, '表演': 770, '箱根': 686, '普通': 468, '世界': 20, '庭園': 343, '園區': 229, '搭到': 412, '衣服': 769, '搜尋': 409, '房型': 385, '便利商店': 68, '電子': 941, '飲料': 975, '要來': 774, '釜山': 908, '千歲': 151, '札幌': 499, '函館': 126, '猶豫': 615, '旭川': 453, '兩天': 102, '開車': 924, '往返': 352, '期待': 492, '連結': 871, '博多': 156, '只好': 177, '廣島': 347, '取消': 173, '仁川': 50, '計畫': 789, '年月日': 333, '每週': 548, '美麗': 721, '即可': 160, '數量': 425, '曉得': 473, '之森': 28, '就要': 311, '嘗試': 216, '前輩': 138, '提前': 406, '兩種': 105, '演唱會': 584, '這天': 858, '超級': 831, '意外': 373, '再來': 115, '浴場': 565, '昨天': 461, '事先': 33, '牛舌': 607, '忘記': 364, '本店': 496, '熱鬧': 598, '豬排': 811, '相同': 647, '友人': 172, '起司': 827, '櫻花': 533, '豐富': 810, '星宇': 457, '那天': 895, '名字': 191, '當初': 630, '牛肉': 606, '訂位': 785, '價位': 82, '旅程': 440, '場景': 242, '香氣': 980, '巡禮': 319, '紅色': 694, '買票': 815, '傳統': 81, '炸雞': 589, '公里': 113, '長輩': 919, '泡湯': 561, '四夜': 218, '媽媽': 275, '瀑布': 587, '正在': 538, '親子': 778, '球場': 620, '看過': 650, '啤酒': 212, '登山': 636, '租車': 666, '還車': 894, '路上': 835, '情報': 368, '公告': 109, '班次': 617, '時刻表': 463, '迪士尼': 853, '海洋': 568, '日光': 445, '人數': 47, '富山': 294, '直達': 646, '虎航': 761, '這段': 862, '平日': 332, '公車': 112, '海岸': 567, '全部': 100, '月台': 483, '官方': 282, '鳥取': 993, '擁有': 415, '車程': 841, '吸引': 192, '參拜': 168, '小心': 305, '導覽': 302, '費用': 816, '岡山': 317, '楓葉': 516, '家人': 289, '去程': 165, '託運': 792, '購入': 820, '申請': 628, '航空公司': 750, '樂桃': 519, '高松': 987, '板友': 509, '沒什麼': 556, '門口': 920, '和服': 197, '神戶': 658, '能夠': 733, '鐵路': 914, '高千穗': 984, '地區': 233, '位子': 62, '爸媽': 603, '聯絡': 731, '道路': 882, '拍攝': 393, '轉車': 848, '乘客': 29, '乘車': 30, '高速': 989, '天空': 265, '攝影': 417, '重新': 903, '提到': 405, '平均': 330, '散步': 422, '階梯': 935, '電影': 942, '招牌': 395, '近期': 851, '傍晚': 78, '兩次': 104, '路程': 836, '外國人': 245, '鮭魚': 991, '鰻魚': 992, '太宰': 266, '窗口': 675, '阿蘇': 930, '匯率': 149, '最大': 479, '三井': 6, '享受': 41, '加入': 142, '月初': 482, '本次': 497, '訂房': 787, '通常': 864, '之旅': 27, '未來': 495, '版本': 605, '漢堡': 585, '冰淇淋': 118, '平常': 331, '等待': 683, '需求': 947, '真是': 651, '倉庫': 72, '樂天': 518, '銀杏': 910, '總共': 712, '付費': 54, '查詢': 510, '鹿兒島': 995, '隨意': 938, '贈送': 824, '評價': 799, '湯頭': 575, '增加': 243, '烏龍': 591, '好喝': 273, '系統': 690, '曼谷': 478, '翻譯': 725, '飛往': 966, '網卡': 705, '航點': 752, '機師': 525, '美國': 717, '目標': 644, '別府': 132, '熟悉': 596, '老婆': 726, '發動機': 638, '隨便': 937, '交通工具': 39, '星宇航空': 458, '過夜': 880, '安檢': 279, '秋田': 664, '此時': 540, '凌晨': 119, '出關': 125, '免稅店': 90, '老闆': 727, '後方': 356, '花園': 754, '先生': 88, '取票': 174, '新加坡': 429, '搭船': 413, '雞肉': 939, '份量': 59, '停車': 76, '促銷': 70, '香港': 981, '中國': 22, '退稅': 855, '訂單': 786, '客服': 285, '坐在': 239, '波音': 562, '長榮航空': 918, '醬油': 902, '鋼彈': 912, '松本': 508, '山口': 314, '四國': 217, '地獄': 236, '前來': 137, '煙火': 593, '本行': 498, '高地': 985, '朱印': 500, '高知': 988, '明顯': 456, '原爆': 164}\n"
     ]
    },
    {
     "data": {
      "text/plain": [
       "1"
      ]
     },
     "execution_count": 20,
     "metadata": {},
     "output_type": "execute_result"
    }
   ],
   "source": [
    "# fit 完後，可以用 `vocabulary_` 看到詞的 feature index\n",
    "print(vectorizer.vocabulary_)\n",
    "vectorizer.vocabulary_['一日遊']"
   ]
  },
  {
   "cell_type": "code",
   "execution_count": 21,
   "metadata": {},
   "outputs": [
    {
     "name": "stdout",
     "output_type": "stream",
     "text": [
      "(5644, 1000)\n",
      "(2419, 1000)\n"
     ]
    }
   ],
   "source": [
    "# 不需重新 `fit()` data，因前面已經 `fit()` 過了\n",
    "# 只需將測試數據使用之前訓練好的 vectorizer 轉換為相同的特徵表示形式，而不需要重新fit。\n",
    "# 如果對測試數據再次 fit vectorizer，可能會導致使用了測試數據的信息，進而導致模型的不穩定性和過度擬合的問題。\n",
    "vec_test = vectorizer.transform(X_test)\n",
    "print(vec_train.shape)\n",
    "print(vec_test.shape)"
   ]
  },
  {
   "cell_type": "markdown",
   "metadata": {},
   "source": [
    "<font color=#ffa>以 Logistic Regression 建立模型並預測類別，之後使用 Confusion Matrix 查看預測的結果</font>\n"
   ]
  },
  {
   "cell_type": "code",
   "execution_count": 22,
   "metadata": {},
   "outputs": [
    {
     "name": "stderr",
     "output_type": "stream",
     "text": [
      "c:\\Users\\ariel\\AppData\\Local\\Programs\\Python\\Python310\\lib\\site-packages\\sklearn\\linear_model\\_logistic.py:460: ConvergenceWarning: lbfgs failed to converge (status=1):\n",
      "STOP: TOTAL NO. of ITERATIONS REACHED LIMIT.\n",
      "\n",
      "Increase the number of iterations (max_iter) or scale the data as shown in:\n",
      "    https://scikit-learn.org/stable/modules/preprocessing.html\n",
      "Please also refer to the documentation for alternative solver options:\n",
      "    https://scikit-learn.org/stable/modules/linear_model.html#logistic-regression\n",
      "  n_iter_i = _check_optimize_result(\n"
     ]
    },
    {
     "data": {
      "text/html": [
       "<style>#sk-container-id-1 {color: black;}#sk-container-id-1 pre{padding: 0;}#sk-container-id-1 div.sk-toggleable {background-color: white;}#sk-container-id-1 label.sk-toggleable__label {cursor: pointer;display: block;width: 100%;margin-bottom: 0;padding: 0.3em;box-sizing: border-box;text-align: center;}#sk-container-id-1 label.sk-toggleable__label-arrow:before {content: \"▸\";float: left;margin-right: 0.25em;color: #696969;}#sk-container-id-1 label.sk-toggleable__label-arrow:hover:before {color: black;}#sk-container-id-1 div.sk-estimator:hover label.sk-toggleable__label-arrow:before {color: black;}#sk-container-id-1 div.sk-toggleable__content {max-height: 0;max-width: 0;overflow: hidden;text-align: left;background-color: #f0f8ff;}#sk-container-id-1 div.sk-toggleable__content pre {margin: 0.2em;color: black;border-radius: 0.25em;background-color: #f0f8ff;}#sk-container-id-1 input.sk-toggleable__control:checked~div.sk-toggleable__content {max-height: 200px;max-width: 100%;overflow: auto;}#sk-container-id-1 input.sk-toggleable__control:checked~label.sk-toggleable__label-arrow:before {content: \"▾\";}#sk-container-id-1 div.sk-estimator input.sk-toggleable__control:checked~label.sk-toggleable__label {background-color: #d4ebff;}#sk-container-id-1 div.sk-label input.sk-toggleable__control:checked~label.sk-toggleable__label {background-color: #d4ebff;}#sk-container-id-1 input.sk-hidden--visually {border: 0;clip: rect(1px 1px 1px 1px);clip: rect(1px, 1px, 1px, 1px);height: 1px;margin: -1px;overflow: hidden;padding: 0;position: absolute;width: 1px;}#sk-container-id-1 div.sk-estimator {font-family: monospace;background-color: #f0f8ff;border: 1px dotted black;border-radius: 0.25em;box-sizing: border-box;margin-bottom: 0.5em;}#sk-container-id-1 div.sk-estimator:hover {background-color: #d4ebff;}#sk-container-id-1 div.sk-parallel-item::after {content: \"\";width: 100%;border-bottom: 1px solid gray;flex-grow: 1;}#sk-container-id-1 div.sk-label:hover label.sk-toggleable__label {background-color: #d4ebff;}#sk-container-id-1 div.sk-serial::before {content: \"\";position: absolute;border-left: 1px solid gray;box-sizing: border-box;top: 0;bottom: 0;left: 50%;z-index: 0;}#sk-container-id-1 div.sk-serial {display: flex;flex-direction: column;align-items: center;background-color: white;padding-right: 0.2em;padding-left: 0.2em;position: relative;}#sk-container-id-1 div.sk-item {position: relative;z-index: 1;}#sk-container-id-1 div.sk-parallel {display: flex;align-items: stretch;justify-content: center;background-color: white;position: relative;}#sk-container-id-1 div.sk-item::before, #sk-container-id-1 div.sk-parallel-item::before {content: \"\";position: absolute;border-left: 1px solid gray;box-sizing: border-box;top: 0;bottom: 0;left: 50%;z-index: -1;}#sk-container-id-1 div.sk-parallel-item {display: flex;flex-direction: column;z-index: 1;position: relative;background-color: white;}#sk-container-id-1 div.sk-parallel-item:first-child::after {align-self: flex-end;width: 50%;}#sk-container-id-1 div.sk-parallel-item:last-child::after {align-self: flex-start;width: 50%;}#sk-container-id-1 div.sk-parallel-item:only-child::after {width: 0;}#sk-container-id-1 div.sk-dashed-wrapped {border: 1px dashed gray;margin: 0 0.4em 0.5em 0.4em;box-sizing: border-box;padding-bottom: 0.4em;background-color: white;}#sk-container-id-1 div.sk-label label {font-family: monospace;font-weight: bold;display: inline-block;line-height: 1.2em;}#sk-container-id-1 div.sk-label-container {text-align: center;}#sk-container-id-1 div.sk-container {/* jupyter's `normalize.less` sets `[hidden] { display: none; }` but bootstrap.min.css set `[hidden] { display: none !important; }` so we also need the `!important` here to be able to override the default hidden behavior on the sphinx rendered scikit-learn.org. See: https://github.com/scikit-learn/scikit-learn/issues/21755 */display: inline-block !important;position: relative;}#sk-container-id-1 div.sk-text-repr-fallback {display: none;}</style><div id=\"sk-container-id-1\" class=\"sk-top-container\"><div class=\"sk-text-repr-fallback\"><pre>LogisticRegression()</pre><b>In a Jupyter environment, please rerun this cell to show the HTML representation or trust the notebook. <br />On GitHub, the HTML representation is unable to render, please try loading this page with nbviewer.org.</b></div><div class=\"sk-container\" hidden><div class=\"sk-item\"><div class=\"sk-estimator sk-toggleable\"><input class=\"sk-toggleable__control sk-hidden--visually\" id=\"sk-estimator-id-1\" type=\"checkbox\" checked><label for=\"sk-estimator-id-1\" class=\"sk-toggleable__label sk-toggleable__label-arrow\">LogisticRegression</label><div class=\"sk-toggleable__content\"><pre>LogisticRegression()</pre></div></div></div></div></div>"
      ],
      "text/plain": [
       "LogisticRegression()"
      ]
     },
     "execution_count": 22,
     "metadata": {},
     "output_type": "execute_result"
    }
   ],
   "source": [
    "# 建立分類器模型\n",
    "clf = LogisticRegression()\n",
    "clf.fit(vec_train, y_train)\n",
    "clf"
   ]
  },
  {
   "cell_type": "code",
   "execution_count": 23,
   "metadata": {},
   "outputs": [
    {
     "data": {
      "text/plain": [
       "array(['Aviation', 'Japan_Travel', 'Korea_Travel'], dtype=object)"
      ]
     },
     "execution_count": 23,
     "metadata": {},
     "output_type": "execute_result"
    }
   ],
   "source": [
    "clf.classes_"
   ]
  },
  {
   "cell_type": "code",
   "execution_count": 24,
   "metadata": {},
   "outputs": [
    {
     "name": "stdout",
     "output_type": "stream",
     "text": [
      "['Japan_Travel' 'Korea_Travel' 'Japan_Travel' 'Korea_Travel'\n",
      " 'Korea_Travel' 'Japan_Travel' 'Japan_Travel' 'Japan_Travel'\n",
      " 'Japan_Travel' 'Japan_Travel']\n"
     ]
    }
   ],
   "source": [
    "y_pred = clf.predict(vec_test)\n",
    "y_pred_proba = clf.predict_proba(vec_test)\n",
    "print(y_pred[:10])"
   ]
  },
  {
   "cell_type": "code",
   "execution_count": 25,
   "metadata": {},
   "outputs": [
    {
     "name": "stdout",
     "output_type": "stream",
     "text": [
      "(2419, 3)\n"
     ]
    },
    {
     "data": {
      "text/plain": [
       "array([2.98419821e-16, 9.99999995e-01, 5.32013783e-09])"
      ]
     },
     "execution_count": 25,
     "metadata": {},
     "output_type": "execute_result"
    }
   ],
   "source": [
    "print(y_pred_proba.shape)\n",
    "y_pred_proba[0,:]"
   ]
  },
  {
   "cell_type": "markdown",
   "metadata": {},
   "source": [
    "<font color=#ffa>這裡結果都是使用 Vectorizer 的，等等會與使用 TfidfVectorizer 的結果進行比較</font>"
   ]
  },
  {
   "cell_type": "code",
   "execution_count": 26,
   "metadata": {},
   "outputs": [
    {
     "name": "stdout",
     "output_type": "stream",
     "text": [
      "              precision    recall  f1-score   support\n",
      "\n",
      "    Aviation       0.88      0.81      0.84       321\n",
      "Japan_Travel       0.95      0.98      0.96      1802\n",
      "Korea_Travel       0.93      0.84      0.88       296\n",
      "\n",
      "    accuracy                           0.94      2419\n",
      "   macro avg       0.92      0.87      0.90      2419\n",
      "weighted avg       0.94      0.94      0.94      2419\n",
      "\n"
     ]
    }
   ],
   "source": [
    "## Accuracy, Precision, Recall, F1-score\n",
    "print(classification_report(y_test, y_pred))"
   ]
  },
  {
   "cell_type": "code",
   "execution_count": 27,
   "metadata": {},
   "outputs": [
    {
     "data": {
      "text/plain": [
       "array([[ 259,   57,    5],\n",
       "       [  24, 1765,   13],\n",
       "       [  11,   37,  248]], dtype=int64)"
      ]
     },
     "execution_count": 27,
     "metadata": {},
     "output_type": "execute_result"
    }
   ],
   "source": [
    "classes = clf.classes_\n",
    "cm = confusion_matrix(y_test, y_pred)\n",
    "cm"
   ]
  },
  {
   "cell_type": "code",
   "execution_count": 28,
   "metadata": {},
   "outputs": [
    {
     "data": {
      "text/plain": [
       "(array([0.5, 1.5, 2.5]),\n",
       " [Text(0, 0.5, 'Aviation'),\n",
       "  Text(0, 1.5, 'Japan_Travel'),\n",
       "  Text(0, 2.5, 'Korea_Travel')])"
      ]
     },
     "execution_count": 28,
     "metadata": {},
     "output_type": "execute_result"
    },
    {
     "data": {
      "image/png": "[encoded data removed]",
      "text/plain": [
       "<Figure size 640x480 with 1 Axes>"
      ]
     },
     "metadata": {},
     "output_type": "display_data"
    }
   ],
   "source": [
    "## Plot confusion matrix\n",
    "fig, ax = plt.subplots()\n",
    "sns.heatmap(cm, annot=True, fmt=\"d\", ax=ax, cmap=plt.cm.Blues, cbar=False)\n",
    "ax.set(\n",
    "    xlabel=\"Pred\",\n",
    "    ylabel=\"True\",\n",
    "    xticklabels=classes,\n",
    "    yticklabels=classes,\n",
    "    title=\"Confusion matrix\",\n",
    ")\n",
    "plt.yticks(rotation=0)"
   ]
  },
  {
   "cell_type": "markdown",
   "metadata": {},
   "source": [
    "### 3.4 tfidf"
   ]
  },
  {
   "cell_type": "markdown",
   "metadata": {},
   "source": [
    "改試試看使用 tf-idf 的 DTM 來代表文章，訓練分類模型的效果"
   ]
  },
  {
   "cell_type": "markdown",
   "metadata": {},
   "source": [
    "<font color=#ffa>這裡使用 TfidfVectorizer 生成 DTM</font>"
   ]
  },
  {
   "cell_type": "code",
   "execution_count": 29,
   "metadata": {},
   "outputs": [
    {
     "data": {
      "text/plain": [
       "array([0.        , 0.        , 0.        , 0.        , 0.        ,\n",
       "       0.        , 0.        , 0.        , 0.        , 0.        ,\n",
       "       0.        , 0.        , 0.        , 0.23765497, 0.        ,\n",
       "       0.        , 0.        , 0.        , 0.        , 0.        ,\n",
       "       0.        , 0.        , 0.        , 0.        , 0.        ,\n",
       "       0.        , 0.        , 0.        , 0.        , 0.        ,\n",
       "       0.        , 0.        , 0.        , 0.        , 0.        ,\n",
       "       0.        , 0.        , 0.        , 0.        , 0.        ,\n",
       "       0.        , 0.        , 0.        , 0.        , 0.        ,\n",
       "       0.        , 0.        , 0.        , 0.        , 0.        ,\n",
       "       0.        , 0.        , 0.        , 0.        , 0.        ,\n",
       "       0.        , 0.        , 0.        , 0.        , 0.        ,\n",
       "       0.        , 0.        , 0.        , 0.        , 0.        ,\n",
       "       0.        , 0.        , 0.        , 0.        , 0.        ,\n",
       "       0.        , 0.        , 0.        , 0.        , 0.        ,\n",
       "       0.        , 0.        , 0.        , 0.        , 0.        ,\n",
       "       0.21337444, 0.        , 0.        , 0.        , 0.        ,\n",
       "       0.        , 0.        , 0.        , 0.        , 0.        ,\n",
       "       0.        , 0.        , 0.        , 0.        , 0.        ,\n",
       "       0.        , 0.        , 0.20064852, 0.        , 0.        ,\n",
       "       0.        , 0.        , 0.        , 0.        , 0.        ,\n",
       "       0.        , 0.        , 0.        , 0.        , 0.        ,\n",
       "       0.        , 0.        , 0.        , 0.        , 0.        ,\n",
       "       0.        , 0.        , 0.        , 0.        , 0.        ,\n",
       "       0.        , 0.        , 0.        , 0.        , 0.        ,\n",
       "       0.        , 0.        , 0.        , 0.        , 0.        ,\n",
       "       0.        , 0.        , 0.        , 0.        , 0.        ,\n",
       "       0.        , 0.        , 0.        , 0.        , 0.        ,\n",
       "       0.        , 0.        , 0.        , 0.        , 0.        ,\n",
       "       0.        , 0.        , 0.        , 0.        , 0.        ,\n",
       "       0.        , 0.        , 0.        , 0.        , 0.        ,\n",
       "       0.        , 0.        , 0.        , 0.        , 0.        ,\n",
       "       0.        , 0.        , 0.        , 0.        , 0.        ,\n",
       "       0.        , 0.        , 0.        , 0.        , 0.        ,\n",
       "       0.        , 0.        , 0.        , 0.        , 0.        ,\n",
       "       0.        , 0.        , 0.        , 0.        , 0.        ,\n",
       "       0.        , 0.42647387, 0.        , 0.        , 0.        ,\n",
       "       0.        , 0.        , 0.        , 0.        , 0.        ,\n",
       "       0.        , 0.        , 0.        , 0.        , 0.        ,\n",
       "       0.        , 0.        , 0.        , 0.        , 0.        ,\n",
       "       0.        , 0.        , 0.        , 0.        , 0.        ,\n",
       "       0.        , 0.        , 0.        , 0.        , 0.        ,\n",
       "       0.        , 0.        , 0.        , 0.        , 0.        ,\n",
       "       0.        , 0.        , 0.        , 0.        , 0.        ,\n",
       "       0.        , 0.        , 0.        , 0.        , 0.        ,\n",
       "       0.        , 0.        , 0.        , 0.        , 0.        ,\n",
       "       0.        , 0.        , 0.        , 0.        , 0.        ,\n",
       "       0.2222623 , 0.        , 0.        , 0.21081436, 0.        ,\n",
       "       0.        , 0.        , 0.        , 0.        , 0.        ,\n",
       "       0.        , 0.        , 0.        , 0.        , 0.        ,\n",
       "       0.        , 0.        , 0.        , 0.        , 0.        ,\n",
       "       0.        , 0.        , 0.        , 0.        , 0.        ,\n",
       "       0.        , 0.        , 0.        , 0.        , 0.        ,\n",
       "       0.        , 0.        , 0.        , 0.        , 0.        ,\n",
       "       0.        , 0.        , 0.        , 0.        , 0.        ,\n",
       "       0.        , 0.        , 0.        , 0.        , 0.        ,\n",
       "       0.        , 0.        , 0.        , 0.        , 0.        ,\n",
       "       0.        , 0.        , 0.        , 0.        , 0.        ,\n",
       "       0.        , 0.        , 0.        , 0.        , 0.        ,\n",
       "       0.        , 0.        , 0.        , 0.        , 0.        ,\n",
       "       0.        , 0.        , 0.        , 0.        , 0.        ,\n",
       "       0.        , 0.        , 0.        , 0.        , 0.        ,\n",
       "       0.        , 0.        , 0.        , 0.        , 0.        ,\n",
       "       0.        , 0.        , 0.        , 0.        , 0.        ,\n",
       "       0.        , 0.        , 0.        , 0.        , 0.        ,\n",
       "       0.        , 0.        , 0.        , 0.        , 0.        ,\n",
       "       0.        , 0.        , 0.        , 0.        , 0.        ,\n",
       "       0.        , 0.        , 0.        , 0.        , 0.        ,\n",
       "       0.        , 0.        , 0.        , 0.        , 0.        ,\n",
       "       0.        , 0.        , 0.        , 0.        , 0.        ,\n",
       "       0.        , 0.        , 0.        , 0.        , 0.        ,\n",
       "       0.        , 0.        , 0.        , 0.        , 0.        ,\n",
       "       0.        , 0.60736934, 0.        , 0.        , 0.        ,\n",
       "       0.        , 0.20648971, 0.        , 0.        , 0.        ,\n",
       "       0.        , 0.        , 0.        , 0.        , 0.        ,\n",
       "       0.        , 0.        , 0.        , 0.        , 0.        ,\n",
       "       0.        , 0.        , 0.        , 0.        , 0.        ,\n",
       "       0.        , 0.        , 0.        , 0.        , 0.        ,\n",
       "       0.        , 0.        , 0.        , 0.        , 0.        ,\n",
       "       0.        , 0.        , 0.        , 0.        , 0.        ,\n",
       "       0.        , 0.        , 0.        , 0.        , 0.        ,\n",
       "       0.        , 0.        , 0.        , 0.        , 0.        ,\n",
       "       0.        , 0.        , 0.        , 0.        , 0.        ,\n",
       "       0.        , 0.        , 0.        , 0.        , 0.        ,\n",
       "       0.        , 0.        , 0.        , 0.        , 0.        ,\n",
       "       0.        , 0.        , 0.        , 0.        , 0.        ,\n",
       "       0.        , 0.        , 0.        , 0.        , 0.        ,\n",
       "       0.        , 0.        , 0.        , 0.        , 0.        ,\n",
       "       0.        , 0.        , 0.        , 0.        , 0.        ,\n",
       "       0.        , 0.        , 0.        , 0.        , 0.        ,\n",
       "       0.        , 0.        , 0.        , 0.        , 0.        ,\n",
       "       0.        , 0.        , 0.        , 0.        , 0.        ,\n",
       "       0.        , 0.        , 0.        , 0.        , 0.        ,\n",
       "       0.        , 0.        , 0.        , 0.        , 0.        ,\n",
       "       0.        , 0.        , 0.        , 0.        , 0.        ,\n",
       "       0.        , 0.        , 0.        , 0.        , 0.        ,\n",
       "       0.        , 0.        , 0.        , 0.        , 0.        ,\n",
       "       0.        , 0.        , 0.        , 0.        , 0.        ,\n",
       "       0.        , 0.        , 0.        , 0.        , 0.        ,\n",
       "       0.        , 0.        , 0.        , 0.        , 0.        ,\n",
       "       0.        , 0.        , 0.        , 0.        , 0.        ,\n",
       "       0.        , 0.        , 0.        , 0.        , 0.        ,\n",
       "       0.        , 0.        , 0.        , 0.26111517, 0.        ,\n",
       "       0.        , 0.        , 0.        , 0.        , 0.        ,\n",
       "       0.        , 0.        , 0.        , 0.        , 0.        ,\n",
       "       0.        , 0.        , 0.        , 0.        , 0.        ,\n",
       "       0.        , 0.        , 0.        , 0.        , 0.        ,\n",
       "       0.        , 0.        , 0.        , 0.        , 0.        ,\n",
       "       0.        , 0.        , 0.        , 0.        , 0.        ,\n",
       "       0.        , 0.        , 0.        , 0.        , 0.        ,\n",
       "       0.        , 0.        , 0.        , 0.        , 0.        ,\n",
       "       0.        , 0.        , 0.        , 0.        , 0.        ,\n",
       "       0.        , 0.        , 0.        , 0.        , 0.        ,\n",
       "       0.        , 0.        , 0.        , 0.        , 0.        ,\n",
       "       0.        , 0.        , 0.        , 0.        , 0.        ,\n",
       "       0.        , 0.        , 0.        , 0.        , 0.        ,\n",
       "       0.        , 0.        , 0.        , 0.        , 0.        ,\n",
       "       0.        , 0.        , 0.        , 0.        , 0.        ,\n",
       "       0.        , 0.        , 0.        , 0.        , 0.        ,\n",
       "       0.        , 0.        , 0.        , 0.        , 0.        ,\n",
       "       0.        , 0.        , 0.        , 0.        , 0.        ,\n",
       "       0.        , 0.        , 0.        , 0.        , 0.        ,\n",
       "       0.        , 0.        , 0.        , 0.        , 0.        ,\n",
       "       0.        , 0.        , 0.        , 0.        , 0.        ,\n",
       "       0.        , 0.        , 0.        , 0.        , 0.        ,\n",
       "       0.        , 0.        , 0.        , 0.        , 0.        ,\n",
       "       0.        , 0.        , 0.        , 0.        , 0.        ,\n",
       "       0.        , 0.        , 0.        , 0.        , 0.        ,\n",
       "       0.        , 0.        , 0.        , 0.        , 0.        ,\n",
       "       0.        , 0.        , 0.        , 0.        , 0.        ,\n",
       "       0.        , 0.        , 0.        , 0.        , 0.        ,\n",
       "       0.        , 0.        , 0.        , 0.        , 0.        ,\n",
       "       0.        , 0.        , 0.        , 0.        , 0.        ,\n",
       "       0.        , 0.        , 0.        , 0.        , 0.        ,\n",
       "       0.        , 0.        , 0.        , 0.        , 0.        ,\n",
       "       0.        , 0.        , 0.        , 0.        , 0.        ,\n",
       "       0.        , 0.        , 0.        , 0.        , 0.        ,\n",
       "       0.        , 0.        , 0.        , 0.        , 0.        ,\n",
       "       0.        , 0.        , 0.        , 0.        , 0.        ,\n",
       "       0.        , 0.        , 0.        , 0.        , 0.        ,\n",
       "       0.        , 0.        , 0.        , 0.        , 0.        ,\n",
       "       0.        , 0.        , 0.        , 0.        , 0.        ,\n",
       "       0.        , 0.        , 0.        , 0.        , 0.        ,\n",
       "       0.        , 0.        , 0.        , 0.        , 0.        ,\n",
       "       0.        , 0.        , 0.        , 0.        , 0.        ,\n",
       "       0.        , 0.        , 0.        , 0.        , 0.        ,\n",
       "       0.        , 0.        , 0.        , 0.        , 0.        ,\n",
       "       0.        , 0.        , 0.        , 0.        , 0.        ,\n",
       "       0.        , 0.        , 0.        , 0.        , 0.        ,\n",
       "       0.        , 0.        , 0.        , 0.        , 0.        ,\n",
       "       0.        , 0.        , 0.        , 0.        , 0.        ,\n",
       "       0.        , 0.        , 0.        , 0.        , 0.        ,\n",
       "       0.        , 0.        , 0.        , 0.        , 0.        ,\n",
       "       0.        , 0.        , 0.        , 0.        , 0.        ,\n",
       "       0.        , 0.        , 0.        , 0.        , 0.        ,\n",
       "       0.        , 0.        , 0.        , 0.        , 0.        ,\n",
       "       0.        , 0.        , 0.        , 0.        , 0.        ,\n",
       "       0.        , 0.        , 0.        , 0.        , 0.        ,\n",
       "       0.        , 0.        , 0.        , 0.        , 0.        ,\n",
       "       0.        , 0.        , 0.        , 0.        , 0.        ,\n",
       "       0.        , 0.        , 0.        , 0.        , 0.        ,\n",
       "       0.        , 0.        , 0.        , 0.        , 0.        ,\n",
       "       0.        , 0.        , 0.        , 0.        , 0.        ,\n",
       "       0.        , 0.        , 0.        , 0.        , 0.        ,\n",
       "       0.        , 0.        , 0.        , 0.        , 0.        ,\n",
       "       0.        , 0.        , 0.        , 0.        , 0.        ,\n",
       "       0.        , 0.        , 0.        , 0.        , 0.        ,\n",
       "       0.        , 0.        , 0.        , 0.        , 0.        ,\n",
       "       0.        , 0.        , 0.        , 0.        , 0.        ,\n",
       "       0.        , 0.        , 0.        , 0.        , 0.        ,\n",
       "       0.        , 0.        , 0.        , 0.        , 0.        ,\n",
       "       0.        , 0.        , 0.        , 0.        , 0.        ,\n",
       "       0.        , 0.        , 0.        , 0.        , 0.        ,\n",
       "       0.        , 0.        , 0.        , 0.        , 0.        ,\n",
       "       0.        , 0.        , 0.        , 0.        , 0.        ,\n",
       "       0.        , 0.        , 0.        , 0.        , 0.        ,\n",
       "       0.        , 0.        , 0.        , 0.        , 0.        ,\n",
       "       0.        , 0.        , 0.        , 0.        , 0.        ,\n",
       "       0.        , 0.        , 0.        , 0.        , 0.        ,\n",
       "       0.        , 0.        , 0.        , 0.        , 0.        ,\n",
       "       0.        , 0.        , 0.        , 0.        , 0.        ,\n",
       "       0.        , 0.        , 0.24350716, 0.        , 0.        ,\n",
       "       0.        , 0.        , 0.        , 0.        , 0.        ,\n",
       "       0.        , 0.        , 0.        , 0.        , 0.        ,\n",
       "       0.        , 0.        , 0.        , 0.        , 0.        ,\n",
       "       0.        , 0.        , 0.        , 0.        , 0.        ,\n",
       "       0.        , 0.        , 0.        , 0.        , 0.        ,\n",
       "       0.        , 0.        , 0.        , 0.        , 0.        ,\n",
       "       0.        , 0.        , 0.        , 0.        , 0.        ,\n",
       "       0.        , 0.        , 0.        , 0.        , 0.        ,\n",
       "       0.        , 0.        , 0.        , 0.        , 0.        ,\n",
       "       0.        , 0.        , 0.        , 0.        , 0.        ,\n",
       "       0.        , 0.        , 0.20735491, 0.        , 0.        ,\n",
       "       0.        , 0.        , 0.        , 0.        , 0.        ,\n",
       "       0.        , 0.        , 0.        , 0.        , 0.        ,\n",
       "       0.        , 0.        , 0.        , 0.        , 0.        ,\n",
       "       0.        , 0.        , 0.        , 0.        , 0.        ,\n",
       "       0.        , 0.        , 0.        , 0.        , 0.        ,\n",
       "       0.        , 0.        , 0.        , 0.        , 0.        ,\n",
       "       0.        , 0.        , 0.        , 0.        , 0.        ])"
      ]
     },
     "execution_count": 29,
     "metadata": {},
     "output_type": "execute_result"
    }
   ],
   "source": [
    "vectorizer = TfidfVectorizer(max_features=1000)\n",
    "vec_train = vectorizer.fit_transform(X_train)\n",
    "vec_test = vectorizer.transform(X_test)\n",
    "vec_train.toarray()[0,:]"
   ]
  },
  {
   "cell_type": "code",
   "execution_count": 30,
   "metadata": {},
   "outputs": [
    {
     "name": "stdout",
     "output_type": "stream",
     "text": [
      "              precision    recall  f1-score   support\n",
      "\n",
      "    Aviation       0.91      0.79      0.85       321\n",
      "Japan_Travel       0.94      0.99      0.96      1802\n",
      "Korea_Travel       1.00      0.77      0.87       296\n",
      "\n",
      "    accuracy                           0.94      2419\n",
      "   macro avg       0.95      0.85      0.89      2419\n",
      "weighted avg       0.94      0.94      0.94      2419\n",
      "\n"
     ]
    }
   ],
   "source": [
    "clf.fit(vec_train, y_train)\n",
    "y_pred = clf.predict(vec_test)\n",
    "y_pred_proba = clf.predict_proba(vec_test)\n",
    "\n",
    "# results\n",
    "## Accuracy, Precision, Recall, F1-score\n",
    "print(classification_report(y_test, y_pred))"
   ]
  },
  {
   "cell_type": "markdown",
   "metadata": {
    "tags": []
   },
   "source": [
    "<font style=\"font-size: 20px;\">Logistic regression 結果比較： 詞頻 v.s. tf-idf</font>\n",
    "\n",
    "<font color=#ffa>可以看到使用 TfidfVectorizer 和使用 Vectorizer 的結果差不多，但 Aviation 類別在使用 TfidfVectorizer 時的效果較佳</font>\n"
   ]
  },
  {
   "cell_type": "markdown",
   "metadata": {},
   "source": [
    "### 3.5 CV"
   ]
  },
  {
   "cell_type": "markdown",
   "metadata": {},
   "source": [
    "接著介紹 cross-validation。CV 在機器學習中，是一個很常用來讓模型評估能夠得到更穩定的數值的手法。"
   ]
  },
  {
   "cell_type": "markdown",
   "metadata": {},
   "source": [
    "* figure1: "
   ]
  },
  {
   "cell_type": "markdown",
   "metadata": {},
   "source": [
    "<img src=\"https://scikit-learn.org/stable/_images/grid_search_workflow.png\"  width=\"1000\">"
   ]
  },
  {
   "cell_type": "markdown",
   "metadata": {},
   "source": [
    "* figure 2:  "
   ]
  },
  {
   "cell_type": "markdown",
   "metadata": {},
   "source": [
    "![](https://scikit-learn.org/stable/_images/grid_search_cross_validation.png)"
   ]
  },
  {
   "cell_type": "markdown",
   "metadata": {},
   "source": [
    "source: <https://scikit-learn.org/stable/modules/cross_validation.html#cross-validation-and-model-selection>"
   ]
  },
  {
   "cell_type": "markdown",
   "metadata": {},
   "source": [
    "cross-validation 會自動切成 k 組 train-test dataset。  \n",
    "`cross_validate()` 會回傳經過 cross-validation 的模型評估結果。"
   ]
  },
  {
   "cell_type": "markdown",
   "metadata": {},
   "source": [
    "<font color=#ffa>這邊將 CV 應用在 LogisticRegression 中 (但結果沒有比較好，猜測可能是因為類別不平均問題)</font>"
   ]
  },
  {
   "cell_type": "code",
   "execution_count": 31,
   "metadata": {},
   "outputs": [
    {
     "name": "stdout",
     "output_type": "stream",
     "text": [
      "{'estimator': [LogisticRegression(),\n",
      "               LogisticRegression(),\n",
      "               LogisticRegression(),\n",
      "               LogisticRegression(),\n",
      "               LogisticRegression()],\n",
      " 'fit_time': array([0.16117215, 0.13797569, 0.11518097, 0.12306118, 0.14387822]),\n",
      " 'score_time': array([0.02007413, 0.01996255, 0.01699901, 0.01688337, 0.01498985]),\n",
      " 'test_f1_macro': array([0.88206678, 0.8993769 , 0.84883964, 0.87951225, 0.89044434]),\n",
      " 'test_precision_macro': array([0.9257428 , 0.94090756, 0.91801218, 0.92481436, 0.93412997]),\n",
      " 'test_recall_macro': array([0.84741194, 0.86633501, 0.79931604, 0.84543071, 0.85609523])}\n"
     ]
    }
   ],
   "source": [
    "clf = LogisticRegression()\n",
    "vec_train = TfidfVectorizer(max_features=1000).fit_transform(X_train)\n",
    "\n",
    "scores = cross_validate(clf, vec_train, y_train, cv=5, scoring=(\"f1_macro\", \"recall_macro\", \"precision_macro\"), return_estimator=True)\n",
    "pprint(scores)"
   ]
  },
  {
   "cell_type": "markdown",
   "metadata": {},
   "source": [
    "`cross_val_predict()` 則會回傳 cv 預測的類別。"
   ]
  },
  {
   "cell_type": "code",
   "execution_count": 32,
   "metadata": {},
   "outputs": [
    {
     "name": "stdout",
     "output_type": "stream",
     "text": [
      "              precision    recall  f1-score   support\n",
      "\n",
      "    Aviation       0.88      0.79      0.83       737\n",
      "Japan_Travel       0.94      0.98      0.96      4258\n",
      "Korea_Travel       0.97      0.76      0.85       649\n",
      "\n",
      "    accuracy                           0.93      5644\n",
      "   macro avg       0.93      0.84      0.88      5644\n",
      "weighted avg       0.93      0.93      0.93      5644\n",
      "\n"
     ]
    }
   ],
   "source": [
    "y_pred = cross_val_predict(clf, vec_train, y_train, cv=5)\n",
    "print(classification_report(y_train, y_pred))"
   ]
  },
  {
   "cell_type": "markdown",
   "metadata": {},
   "source": [
    "## 4. 比較不同模型效果"
   ]
  },
  {
   "cell_type": "markdown",
   "metadata": {},
   "source": [
    "<font color=#ffa>這邊使用 TfidfVectorizer 生成的 DTM 來 Train 四種模型，且全部都有加上 CV</font>"
   ]
  },
  {
   "cell_type": "markdown",
   "metadata": {},
   "source": [
    "<font color=#ffa>四種模型分別是 Logistic, Decision tree, SVM, Random forest</font>"
   ]
  },
  {
   "cell_type": "code",
   "execution_count": 33,
   "metadata": {
    "scrolled": true
   },
   "outputs": [],
   "source": [
    "# 定義模型訓練組合\n",
    "## pipeline: 資料處理 vectorizer + 分類器 clf\n",
    "## 由於 cross-validation 會自動將資料分成 train/test，因此 input 只要給 X, y 即可\n",
    "\n",
    "def train_cv(vectorizer, clf, X, y):\n",
    "\n",
    "    ## train classifier\n",
    "    vec_X = vectorizer.fit_transform(X).toarray()\n",
    "    \n",
    "    ## get cv results\n",
    "    cv_results = cross_validate(clf, vec_X, y, cv=5, return_estimator=True)\n",
    "    y_pred = cross_val_predict(clf, vec_X, y, cv=5)\n",
    "    y_pred_proba = cross_val_predict(clf, vec_X, y, cv=5, method=\"predict_proba\")\n",
    "\n",
    "    ## Accuracy, Precision, Recall, F1-score\n",
    "    cls_report = classification_report(y, y_pred, output_dict=True)\n",
    "    print(classification_report(y, y_pred))\n",
    "\n",
    "    classes = cv_results['estimator'][0].classes_\n",
    "    \n",
    "    ## Plot confusion matrix\n",
    "    cm = confusion_matrix(y, y_pred)\n",
    "    fig, ax = plt.subplots()\n",
    "    sns.heatmap(cm, annot=True, fmt=\"d\", ax=ax, cmap=plt.cm.Blues, cbar=False)\n",
    "    ax.set(\n",
    "        xlabel=\"Pred\",\n",
    "        ylabel=\"True\",\n",
    "        xticklabels=classes,\n",
    "        yticklabels=classes,\n",
    "        title= str(clf) + \"Confusion matrix\",\n",
    "    )\n",
    "    plt.yticks(rotation=0)\n",
    "\n",
    "    clf.fit(vec_X, y)\n",
    "    # return the model object\n",
    "    return cls_report"
   ]
  },
  {
   "cell_type": "code",
   "execution_count": 34,
   "metadata": {},
   "outputs": [
    {
     "name": "stdout",
     "output_type": "stream",
     "text": [
      "              precision    recall  f1-score   support\n",
      "\n",
      "    Aviation       0.88      0.79      0.83       737\n",
      "Japan_Travel       0.94      0.98      0.96      4258\n",
      "Korea_Travel       0.97      0.76      0.85       649\n",
      "\n",
      "    accuracy                           0.93      5644\n",
      "   macro avg       0.93      0.84      0.88      5644\n",
      "weighted avg       0.93      0.93      0.93      5644\n",
      "\n"
     ]
    },
    {
     "data": {
      "image/png": "[encoded data removed]",
      "text/plain": [
       "<Figure size 640x480 with 1 Axes>"
      ]
     },
     "metadata": {},
     "output_type": "display_data"
    }
   ],
   "source": [
    "vectorizer = TfidfVectorizer(max_features=1000)\n",
    "clf = LogisticRegression()\n",
    "result = train_cv(vectorizer, clf, X_train, y_train)"
   ]
  },
  {
   "cell_type": "code",
   "execution_count": 35,
   "metadata": {},
   "outputs": [
    {
     "name": "stdout",
     "output_type": "stream",
     "text": [
      "====================================================================================================\n",
      "now training: clf_logistic\n",
      "              precision    recall  f1-score   support\n",
      "\n",
      "    Aviation       0.88      0.79      0.83       737\n",
      "Japan_Travel       0.94      0.98      0.96      4258\n",
      "Korea_Travel       0.97      0.76      0.85       649\n",
      "\n",
      "    accuracy                           0.93      5644\n",
      "   macro avg       0.93      0.84      0.88      5644\n",
      "weighted avg       0.93      0.93      0.93      5644\n",
      "\n",
      "====================================================================================================\n",
      "====================================================================================================\n",
      "now training: clf_dtree\n",
      "              precision    recall  f1-score   support\n",
      "\n",
      "    Aviation       0.75      0.75      0.75       737\n",
      "Japan_Travel       0.94      0.94      0.94      4258\n",
      "Korea_Travel       0.82      0.81      0.81       649\n",
      "\n",
      "    accuracy                           0.90      5644\n",
      "   macro avg       0.84      0.84      0.84      5644\n",
      "weighted avg       0.90      0.90      0.90      5644\n",
      "\n",
      "====================================================================================================\n",
      "====================================================================================================\n",
      "now training: clf_svm\n",
      "              precision    recall  f1-score   support\n",
      "\n",
      "    Aviation       0.89      0.79      0.84       737\n",
      "Japan_Travel       0.94      0.98      0.96      4258\n",
      "Korea_Travel       0.97      0.78      0.86       649\n",
      "\n",
      "    accuracy                           0.94      5644\n",
      "   macro avg       0.93      0.85      0.89      5644\n",
      "weighted avg       0.94      0.94      0.93      5644\n",
      "\n",
      "====================================================================================================\n",
      "====================================================================================================\n",
      "now training: clf_rf\n",
      "              precision    recall  f1-score   support\n",
      "\n",
      "    Aviation       0.86      0.84      0.85       737\n",
      "Japan_Travel       0.96      0.98      0.97      4258\n",
      "Korea_Travel       0.96      0.84      0.90       649\n",
      "\n",
      "    accuracy                           0.94      5644\n",
      "   macro avg       0.92      0.89      0.90      5644\n",
      "weighted avg       0.94      0.94      0.94      5644\n",
      "\n",
      "====================================================================================================\n"
     ]
    },
    {
     "data": {
      "image/png": "[encoded data removed]",
      "text/plain": [
       "<Figure size 640x480 with 1 Axes>"
      ]
     },
     "metadata": {},
     "output_type": "display_data"
    },
    {
     "data": {
      "image/png": "[encoded data removed]",
      "text/plain": [
       "<Figure size 640x480 with 1 Axes>"
      ]
     },
     "metadata": {},
     "output_type": "display_data"
    },
    {
     "data": {
      "image/png": "[encoded data removed]",
      "text/plain": [
       "<Figure size 640x480 with 1 Axes>"
      ]
     },
     "metadata": {},
     "output_type": "display_data"
    },
    {
     "data": {
      "image/png": "[encoded data removed]",
      "text/plain": [
       "<Figure size 640x480 with 1 Axes>"
      ]
     },
     "metadata": {},
     "output_type": "display_data"
    }
   ],
   "source": [
    "# 準備訓練資料\n",
    "X = data[\"words\"]\n",
    "y = data[\"artCatagory\"]\n",
    "\n",
    "# 把整個資料集七三切\n",
    "X_train, X_test, y_train, y_test = train_test_split(\n",
    "    X, y, test_size=0.3, random_state=777\n",
    ")\n",
    "# 定義模型訓練組合\n",
    "model_set = dict()\n",
    "model_set['clf_logistic'] = LogisticRegression()\n",
    "model_set['clf_dtree'] = DecisionTreeClassifier()\n",
    "model_set['clf_svm'] = svm.SVC(probability=True) # 要使用SVM的predict_proba的話，必須在叫出SVC的時候就將probability設為True\n",
    "model_set['clf_rf'] = RandomForestClassifier()\n",
    "# 定義 vectorizer\n",
    "# vectorizer = CountVectorizer(max_features=1000)\n",
    "vectorizer = TfidfVectorizer(max_features=1000)\n",
    "# 存結果\n",
    "result_set = dict()\n",
    "\n",
    "for k, model in model_set.items():\n",
    "    print(\"=\"*100)\n",
    "    print(f\"now training: {k}\")\n",
    "    result_set[k] = train_cv(vectorizer, model, X_train, y_train)\n",
    "    print(\"=\"*100)\n"
   ]
  },
  {
   "cell_type": "code",
   "execution_count": 36,
   "metadata": {},
   "outputs": [
    {
     "data": {
      "text/plain": [
       "{'Aviation': {'precision': 0.8803030303030303,\n",
       "  'recall': 0.7883310719131614,\n",
       "  'f1-score': 0.8317823908375089,\n",
       "  'support': 737.0},\n",
       " 'Japan_Travel': {'precision': 0.9354622599374721,\n",
       "  'recall': 0.9837952090183184,\n",
       "  'f1-score': 0.9590201465201464,\n",
       "  'support': 4258.0},\n",
       " 'Korea_Travel': {'precision': 0.9703557312252964,\n",
       "  'recall': 0.7565485362095532,\n",
       "  'f1-score': 0.8502164502164502,\n",
       "  'support': 649.0},\n",
       " 'accuracy': 0.932140326009922,\n",
       " 'macro avg': {'precision': 0.9287070071552662,\n",
       "  'recall': 0.8428916057136777,\n",
       "  'f1-score': 0.880339662524702,\n",
       "  'support': 5644.0},\n",
       " 'weighted avg': {'precision': 0.9322718826563264,\n",
       "  'recall': 0.932140326009922,\n",
       "  'f1-score': 0.9298940258895295,\n",
       "  'support': 5644.0}}"
      ]
     },
     "execution_count": 36,
     "metadata": {},
     "output_type": "execute_result"
    }
   ],
   "source": [
    "#clf_logistic, clf_dtree, clf_svm, clf_rf\n",
    "result_set['clf_logistic']"
   ]
  },
  {
   "cell_type": "markdown",
   "metadata": {},
   "source": [
    "<font color=#ffa>Print 出最佳的模型結果 - Random Forest</font>"
   ]
  },
  {
   "cell_type": "code",
   "execution_count": 37,
   "metadata": {},
   "outputs": [
    {
     "name": "stdout",
     "output_type": "stream",
     "text": [
      "best model: clf_rf\n",
      "{'Aviation': {'f1-score': 0.8503075871496923,\n",
      "              'precision': 0.8567493112947658,\n",
      "              'recall': 0.8439620081411127,\n",
      "              'support': 737.0},\n",
      " 'Japan_Travel': {'f1-score': 0.9650203370133643,\n",
      "                  'precision': 0.9551414768806074,\n",
      "                  'recall': 0.9751056834194457,\n",
      "                  'support': 4258.0},\n",
      " 'Korea_Travel': {'f1-score': 0.8983606557377048,\n",
      "                  'precision': 0.9597197898423818,\n",
      "                  'recall': 0.8443759630200308,\n",
      "                  'support': 649.0},\n",
      " 'accuracy': 0.9429482636428065,\n",
      " 'macro avg': {'f1-score': 0.9045628599669205,\n",
      "               'precision': 0.923870192672585,\n",
      "               'recall': 0.8878145515268631,\n",
      "               'support': 5644.0},\n",
      " 'weighted avg': {'f1-score': 0.9423758597282067,\n",
      "                  'precision': 0.9428197722518735,\n",
      "                  'recall': 0.9429482636428065,\n",
      "                  'support': 5644.0}}\n"
     ]
    }
   ],
   "source": [
    "max = 0\n",
    "best_model_name = \"\"\n",
    "best_model_metric = \"f1-score\"\n",
    "\n",
    "## choose max f1-score model from result_set\n",
    "for k, v in result_set.items():\n",
    "    if v['weighted avg'][best_model_metric] > max:\n",
    "        max = v['weighted avg'][best_model_metric]\n",
    "        best_model_name = k\n",
    "print(f\"best model: {best_model_name}\")\n",
    "pprint(result_set[best_model_name])"
   ]
  },
  {
   "cell_type": "code",
   "execution_count": 38,
   "metadata": {},
   "outputs": [
    {
     "name": "stdout",
     "output_type": "stream",
     "text": [
      "              precision    recall  f1-score   support\n",
      "\n",
      "    Aviation       0.91      0.86      0.88       321\n",
      "Japan_Travel       0.95      0.99      0.97      1802\n",
      "Korea_Travel       0.99      0.83      0.90       296\n",
      "\n",
      "    accuracy                           0.95      2419\n",
      "   macro avg       0.95      0.89      0.92      2419\n",
      "weighted avg       0.95      0.95      0.95      2419\n",
      "\n"
     ]
    }
   ],
   "source": [
    "y_pred = model_set['clf_rf'].predict(vectorizer.transform(X_test).toarray())\n",
    "print(classification_report(y_test, y_pred))"
   ]
  },
  {
   "cell_type": "markdown",
   "metadata": {},
   "source": [
    "<font color=#ffa>最佳的 model 為 Random Forest，其中 Decision Tree 的表現較差外，其餘三個 model （Logistic、SVM、Random Forest）表現差不多</font>"
   ]
  },
  {
   "cell_type": "markdown",
   "metadata": {},
   "source": [
    "<font color=#ffa>嘗試使用 Vectorizer，與 TfidfVectorizer 比較後，發現結果差不多，最佳的模型依舊是 Random Forest</font>"
   ]
  },
  {
   "cell_type": "code",
   "execution_count": 39,
   "metadata": {},
   "outputs": [
    {
     "name": "stderr",
     "output_type": "stream",
     "text": [
      "c:\\Users\\ariel\\AppData\\Local\\Programs\\Python\\Python310\\lib\\site-packages\\sklearn\\linear_model\\_logistic.py:460: ConvergenceWarning: lbfgs failed to converge (status=1):\n",
      "STOP: TOTAL NO. of ITERATIONS REACHED LIMIT.\n",
      "\n",
      "Increase the number of iterations (max_iter) or scale the data as shown in:\n",
      "    https://scikit-learn.org/stable/modules/preprocessing.html\n",
      "Please also refer to the documentation for alternative solver options:\n",
      "    https://scikit-learn.org/stable/modules/linear_model.html#logistic-regression\n",
      "  n_iter_i = _check_optimize_result(\n",
      "c:\\Users\\ariel\\AppData\\Local\\Programs\\Python\\Python310\\lib\\site-packages\\sklearn\\linear_model\\_logistic.py:460: ConvergenceWarning: lbfgs failed to converge (status=1):\n",
      "STOP: TOTAL NO. of ITERATIONS REACHED LIMIT.\n",
      "\n",
      "Increase the number of iterations (max_iter) or scale the data as shown in:\n",
      "    https://scikit-learn.org/stable/modules/preprocessing.html\n",
      "Please also refer to the documentation for alternative solver options:\n",
      "    https://scikit-learn.org/stable/modules/linear_model.html#logistic-regression\n",
      "  n_iter_i = _check_optimize_result(\n",
      "c:\\Users\\ariel\\AppData\\Local\\Programs\\Python\\Python310\\lib\\site-packages\\sklearn\\linear_model\\_logistic.py:460: ConvergenceWarning: lbfgs failed to converge (status=1):\n",
      "STOP: TOTAL NO. of ITERATIONS REACHED LIMIT.\n",
      "\n",
      "Increase the number of iterations (max_iter) or scale the data as shown in:\n",
      "    https://scikit-learn.org/stable/modules/preprocessing.html\n",
      "Please also refer to the documentation for alternative solver options:\n",
      "    https://scikit-learn.org/stable/modules/linear_model.html#logistic-regression\n",
      "  n_iter_i = _check_optimize_result(\n",
      "c:\\Users\\ariel\\AppData\\Local\\Programs\\Python\\Python310\\lib\\site-packages\\sklearn\\linear_model\\_logistic.py:460: ConvergenceWarning: lbfgs failed to converge (status=1):\n",
      "STOP: TOTAL NO. of ITERATIONS REACHED LIMIT.\n",
      "\n",
      "Increase the number of iterations (max_iter) or scale the data as shown in:\n",
      "    https://scikit-learn.org/stable/modules/preprocessing.html\n",
      "Please also refer to the documentation for alternative solver options:\n",
      "    https://scikit-learn.org/stable/modules/linear_model.html#logistic-regression\n",
      "  n_iter_i = _check_optimize_result(\n",
      "c:\\Users\\ariel\\AppData\\Local\\Programs\\Python\\Python310\\lib\\site-packages\\sklearn\\linear_model\\_logistic.py:460: ConvergenceWarning: lbfgs failed to converge (status=1):\n",
      "STOP: TOTAL NO. of ITERATIONS REACHED LIMIT.\n",
      "\n",
      "Increase the number of iterations (max_iter) or scale the data as shown in:\n",
      "    https://scikit-learn.org/stable/modules/preprocessing.html\n",
      "Please also refer to the documentation for alternative solver options:\n",
      "    https://scikit-learn.org/stable/modules/linear_model.html#logistic-regression\n",
      "  n_iter_i = _check_optimize_result(\n",
      "c:\\Users\\ariel\\AppData\\Local\\Programs\\Python\\Python310\\lib\\site-packages\\sklearn\\linear_model\\_logistic.py:460: ConvergenceWarning: lbfgs failed to converge (status=1):\n",
      "STOP: TOTAL NO. of ITERATIONS REACHED LIMIT.\n",
      "\n",
      "Increase the number of iterations (max_iter) or scale the data as shown in:\n",
      "    https://scikit-learn.org/stable/modules/preprocessing.html\n",
      "Please also refer to the documentation for alternative solver options:\n",
      "    https://scikit-learn.org/stable/modules/linear_model.html#logistic-regression\n",
      "  n_iter_i = _check_optimize_result(\n",
      "c:\\Users\\ariel\\AppData\\Local\\Programs\\Python\\Python310\\lib\\site-packages\\sklearn\\linear_model\\_logistic.py:460: ConvergenceWarning: lbfgs failed to converge (status=1):\n",
      "STOP: TOTAL NO. of ITERATIONS REACHED LIMIT.\n",
      "\n",
      "Increase the number of iterations (max_iter) or scale the data as shown in:\n",
      "    https://scikit-learn.org/stable/modules/preprocessing.html\n",
      "Please also refer to the documentation for alternative solver options:\n",
      "    https://scikit-learn.org/stable/modules/linear_model.html#logistic-regression\n",
      "  n_iter_i = _check_optimize_result(\n",
      "c:\\Users\\ariel\\AppData\\Local\\Programs\\Python\\Python310\\lib\\site-packages\\sklearn\\linear_model\\_logistic.py:460: ConvergenceWarning: lbfgs failed to converge (status=1):\n",
      "STOP: TOTAL NO. of ITERATIONS REACHED LIMIT.\n",
      "\n",
      "Increase the number of iterations (max_iter) or scale the data as shown in:\n",
      "    https://scikit-learn.org/stable/modules/preprocessing.html\n",
      "Please also refer to the documentation for alternative solver options:\n",
      "    https://scikit-learn.org/stable/modules/linear_model.html#logistic-regression\n",
      "  n_iter_i = _check_optimize_result(\n",
      "c:\\Users\\ariel\\AppData\\Local\\Programs\\Python\\Python310\\lib\\site-packages\\sklearn\\linear_model\\_logistic.py:460: ConvergenceWarning: lbfgs failed to converge (status=1):\n",
      "STOP: TOTAL NO. of ITERATIONS REACHED LIMIT.\n",
      "\n",
      "Increase the number of iterations (max_iter) or scale the data as shown in:\n",
      "    https://scikit-learn.org/stable/modules/preprocessing.html\n",
      "Please also refer to the documentation for alternative solver options:\n",
      "    https://scikit-learn.org/stable/modules/linear_model.html#logistic-regression\n",
      "  n_iter_i = _check_optimize_result(\n",
      "c:\\Users\\ariel\\AppData\\Local\\Programs\\Python\\Python310\\lib\\site-packages\\sklearn\\linear_model\\_logistic.py:460: ConvergenceWarning: lbfgs failed to converge (status=1):\n",
      "STOP: TOTAL NO. of ITERATIONS REACHED LIMIT.\n",
      "\n",
      "Increase the number of iterations (max_iter) or scale the data as shown in:\n",
      "    https://scikit-learn.org/stable/modules/preprocessing.html\n",
      "Please also refer to the documentation for alternative solver options:\n",
      "    https://scikit-learn.org/stable/modules/linear_model.html#logistic-regression\n",
      "  n_iter_i = _check_optimize_result(\n",
      "c:\\Users\\ariel\\AppData\\Local\\Programs\\Python\\Python310\\lib\\site-packages\\sklearn\\linear_model\\_logistic.py:460: ConvergenceWarning: lbfgs failed to converge (status=1):\n",
      "STOP: TOTAL NO. of ITERATIONS REACHED LIMIT.\n",
      "\n",
      "Increase the number of iterations (max_iter) or scale the data as shown in:\n",
      "    https://scikit-learn.org/stable/modules/preprocessing.html\n",
      "Please also refer to the documentation for alternative solver options:\n",
      "    https://scikit-learn.org/stable/modules/linear_model.html#logistic-regression\n",
      "  n_iter_i = _check_optimize_result(\n",
      "c:\\Users\\ariel\\AppData\\Local\\Programs\\Python\\Python310\\lib\\site-packages\\sklearn\\linear_model\\_logistic.py:460: ConvergenceWarning: lbfgs failed to converge (status=1):\n",
      "STOP: TOTAL NO. of ITERATIONS REACHED LIMIT.\n",
      "\n",
      "Increase the number of iterations (max_iter) or scale the data as shown in:\n",
      "    https://scikit-learn.org/stable/modules/preprocessing.html\n",
      "Please also refer to the documentation for alternative solver options:\n",
      "    https://scikit-learn.org/stable/modules/linear_model.html#logistic-regression\n",
      "  n_iter_i = _check_optimize_result(\n",
      "c:\\Users\\ariel\\AppData\\Local\\Programs\\Python\\Python310\\lib\\site-packages\\sklearn\\linear_model\\_logistic.py:460: ConvergenceWarning: lbfgs failed to converge (status=1):\n",
      "STOP: TOTAL NO. of ITERATIONS REACHED LIMIT.\n",
      "\n",
      "Increase the number of iterations (max_iter) or scale the data as shown in:\n",
      "    https://scikit-learn.org/stable/modules/preprocessing.html\n",
      "Please also refer to the documentation for alternative solver options:\n",
      "    https://scikit-learn.org/stable/modules/linear_model.html#logistic-regression\n",
      "  n_iter_i = _check_optimize_result(\n",
      "c:\\Users\\ariel\\AppData\\Local\\Programs\\Python\\Python310\\lib\\site-packages\\sklearn\\linear_model\\_logistic.py:460: ConvergenceWarning: lbfgs failed to converge (status=1):\n",
      "STOP: TOTAL NO. of ITERATIONS REACHED LIMIT.\n",
      "\n",
      "Increase the number of iterations (max_iter) or scale the data as shown in:\n",
      "    https://scikit-learn.org/stable/modules/preprocessing.html\n",
      "Please also refer to the documentation for alternative solver options:\n",
      "    https://scikit-learn.org/stable/modules/linear_model.html#logistic-regression\n",
      "  n_iter_i = _check_optimize_result(\n",
      "c:\\Users\\ariel\\AppData\\Local\\Programs\\Python\\Python310\\lib\\site-packages\\sklearn\\linear_model\\_logistic.py:460: ConvergenceWarning: lbfgs failed to converge (status=1):\n",
      "STOP: TOTAL NO. of ITERATIONS REACHED LIMIT.\n",
      "\n",
      "Increase the number of iterations (max_iter) or scale the data as shown in:\n",
      "    https://scikit-learn.org/stable/modules/preprocessing.html\n",
      "Please also refer to the documentation for alternative solver options:\n",
      "    https://scikit-learn.org/stable/modules/linear_model.html#logistic-regression\n",
      "  n_iter_i = _check_optimize_result(\n"
     ]
    },
    {
     "name": "stdout",
     "output_type": "stream",
     "text": [
      "              precision    recall  f1-score   support\n",
      "\n",
      "    Aviation       0.86      0.82      0.84       737\n",
      "Japan_Travel       0.95      0.97      0.96      4258\n",
      "Korea_Travel       0.90      0.84      0.87       649\n",
      "\n",
      "    accuracy                           0.94      5644\n",
      "   macro avg       0.91      0.88      0.89      5644\n",
      "weighted avg       0.94      0.94      0.94      5644\n",
      "\n"
     ]
    },
    {
     "name": "stderr",
     "output_type": "stream",
     "text": [
      "c:\\Users\\ariel\\AppData\\Local\\Programs\\Python\\Python310\\lib\\site-packages\\sklearn\\linear_model\\_logistic.py:460: ConvergenceWarning: lbfgs failed to converge (status=1):\n",
      "STOP: TOTAL NO. of ITERATIONS REACHED LIMIT.\n",
      "\n",
      "Increase the number of iterations (max_iter) or scale the data as shown in:\n",
      "    https://scikit-learn.org/stable/modules/preprocessing.html\n",
      "Please also refer to the documentation for alternative solver options:\n",
      "    https://scikit-learn.org/stable/modules/linear_model.html#logistic-regression\n",
      "  n_iter_i = _check_optimize_result(\n"
     ]
    },
    {
     "name": "stdout",
     "output_type": "stream",
     "text": [
      "====================================================================================================\n",
      "now training: clf_logistic\n",
      "              precision    recall  f1-score   support\n",
      "\n",
      "    Aviation       0.88      0.79      0.83       737\n",
      "Japan_Travel       0.94      0.98      0.96      4258\n",
      "Korea_Travel       0.97      0.76      0.85       649\n",
      "\n",
      "    accuracy                           0.93      5644\n",
      "   macro avg       0.93      0.84      0.88      5644\n",
      "weighted avg       0.93      0.93      0.93      5644\n",
      "\n",
      "====================================================================================================\n",
      "====================================================================================================\n",
      "now training: clf_dtree\n",
      "              precision    recall  f1-score   support\n",
      "\n",
      "    Aviation       0.75      0.74      0.75       737\n",
      "Japan_Travel       0.94      0.95      0.94      4258\n",
      "Korea_Travel       0.81      0.81      0.81       649\n",
      "\n",
      "    accuracy                           0.90      5644\n",
      "   macro avg       0.84      0.83      0.83      5644\n",
      "weighted avg       0.90      0.90      0.90      5644\n",
      "\n",
      "====================================================================================================\n",
      "====================================================================================================\n",
      "now training: clf_svm\n",
      "              precision    recall  f1-score   support\n",
      "\n",
      "    Aviation       0.89      0.79      0.84       737\n",
      "Japan_Travel       0.94      0.98      0.96      4258\n",
      "Korea_Travel       0.97      0.78      0.86       649\n",
      "\n",
      "    accuracy                           0.94      5644\n",
      "   macro avg       0.93      0.85      0.89      5644\n",
      "weighted avg       0.94      0.94      0.93      5644\n",
      "\n",
      "====================================================================================================\n",
      "====================================================================================================\n",
      "now training: clf_rf\n",
      "              precision    recall  f1-score   support\n",
      "\n",
      "    Aviation       0.86      0.83      0.85       737\n",
      "Japan_Travel       0.95      0.98      0.96      4258\n",
      "Korea_Travel       0.95      0.84      0.90       649\n",
      "\n",
      "    accuracy                           0.94      5644\n",
      "   macro avg       0.92      0.88      0.90      5644\n",
      "weighted avg       0.94      0.94      0.94      5644\n",
      "\n",
      "====================================================================================================\n"
     ]
    },
    {
     "data": {
      "image/png": "[encoded data removed]",
      "text/plain": [
       "<Figure size 640x480 with 1 Axes>"
      ]
     },
     "metadata": {},
     "output_type": "display_data"
    },
    {
     "data": {
      "image/png": "[encoded data removed]",
      "text/plain": [
       "<Figure size 640x480 with 1 Axes>"
      ]
     },
     "metadata": {},
     "output_type": "display_data"
    },
    {
     "data": {
      "image/png": "[encoded data removed]",
      "text/plain": [
       "<Figure size 640x480 with 1 Axes>"
      ]
     },
     "metadata": {},
     "output_type": "display_data"
    },
    {
     "data": {
      "image/png": "[encoded data removed]",
      "text/plain": [
       "<Figure size 640x480 with 1 Axes>"
      ]
     },
     "metadata": {},
     "output_type": "display_data"
    },
    {
     "data": {
      "image/png": "[encoded data removed]",
      "text/plain": [
       "<Figure size 640x480 with 1 Axes>"
      ]
     },
     "metadata": {},
     "output_type": "display_data"
    }
   ],
   "source": [
    "vectorizer = CountVectorizer(max_features=1000)\n",
    "clf = LogisticRegression()\n",
    "result = train_cv(vectorizer, clf, X_train, y_train)\n",
    "\n",
    "# 準備訓練資料\n",
    "X = data[\"words\"]\n",
    "y = data[\"artCatagory\"]\n",
    "\n",
    "# 把整個資料集七三切\n",
    "X_train, X_test, y_train, y_test = train_test_split(\n",
    "    X, y, test_size=0.3, random_state=777\n",
    ")\n",
    "# 定義模型訓練組合\n",
    "model_set = dict()\n",
    "model_set['clf_logistic'] = LogisticRegression()\n",
    "model_set['clf_dtree'] = DecisionTreeClassifier()\n",
    "model_set['clf_svm'] = svm.SVC(probability=True) # 要使用SVM的predict_proba的話，必須在叫出SVC的時候就將probability設為True\n",
    "model_set['clf_rf'] = RandomForestClassifier()\n",
    "# 定義 vectorizer\n",
    "# vectorizer = CountVectorizer(max_features=1000)\n",
    "vectorizer = TfidfVectorizer(max_features=1000)\n",
    "# 存結果\n",
    "result_set = dict()\n",
    "\n",
    "for k, model in model_set.items():\n",
    "    print(\"=\"*100)\n",
    "    print(f\"now training: {k}\")\n",
    "    result_set[k] = train_cv(vectorizer, model, X_train, y_train)\n",
    "    print(\"=\"*100)\n"
   ]
  },
  {
   "cell_type": "code",
   "execution_count": 40,
   "metadata": {},
   "outputs": [
    {
     "name": "stdout",
     "output_type": "stream",
     "text": [
      "best model: clf_rf\n",
      "              precision    recall  f1-score   support\n",
      "\n",
      "    Aviation       0.90      0.87      0.88       321\n",
      "Japan_Travel       0.96      0.99      0.97      1802\n",
      "Korea_Travel       0.98      0.84      0.90       296\n",
      "\n",
      "    accuracy                           0.95      2419\n",
      "   macro avg       0.94      0.90      0.92      2419\n",
      "weighted avg       0.95      0.95      0.95      2419\n",
      "\n",
      "{'Aviation': {'f1-score': 0.8486523842432618,\n",
      "              'precision': 0.8647887323943662,\n",
      "              'recall': 0.8331071913161465,\n",
      "              'support': 737.0},\n",
      " 'Japan_Travel': {'f1-score': 0.9649570666047806,\n",
      "                  'precision': 0.9536697247706422,\n",
      "                  'recall': 0.9765147956787225,\n",
      "                  'support': 4258.0},\n",
      " 'Korea_Travel': {'f1-score': 0.8961569910057237,\n",
      "                  'precision': 0.9547038327526133,\n",
      "                  'recall': 0.8443759630200308,\n",
      "                  'support': 649.0},\n",
      " 'accuracy': 0.9425939050318922,\n",
      " 'macro avg': {'f1-score': 0.903255480617922,\n",
      "               'precision': 0.9243874299725405,\n",
      "               'recall': 0.8846659833382998,\n",
      "               'support': 5644.0},\n",
      " 'weighted avg': {'f1-score': 0.9418585903531457,\n",
      "                  'precision': 0.942182454164509,\n",
      "                  'recall': 0.9425939050318922,\n",
      "                  'support': 5644.0}}\n"
     ]
    }
   ],
   "source": [
    "max = 0\n",
    "best_model_name = \"\"\n",
    "best_model_metric = \"f1-score\"\n",
    "\n",
    "## choose max f1-score model from result_set\n",
    "for k, v in result_set.items():\n",
    "    if v['weighted avg'][best_model_metric] > max:\n",
    "        max = v['weighted avg'][best_model_metric]\n",
    "        best_model_name = k\n",
    "\n",
    "print(f\"best model: {best_model_name}\")\n",
    "y_pred = model_set['clf_rf'].predict(vectorizer.transform(X_test).toarray())\n",
    "print(classification_report(y_test, y_pred))\n",
    "pprint(result_set[best_model_name])\n"
   ]
  },
  {
   "cell_type": "markdown",
   "metadata": {},
   "source": [
    "## 5. 分析可解釋模型的結果"
   ]
  },
  {
   "cell_type": "markdown",
   "metadata": {},
   "source": [
    "### 5.1 各字詞特徵的estimate係數\n",
    "對於線性的模型，可以藉由相關係數，查看資料特徵（詞）對於判斷分類的影響\n",
    "+ coefficient estimate 代表特徵每增加一單位（在此處會是該文章的某字詞頻 +1），y是1的發生機率比y是0的發生機率多幾倍（odds ratio 勝算比）\n",
    "+ 這裡舉logistic regression + cv tokenizer 為例"
   ]
  },
  {
   "cell_type": "code",
   "execution_count": 41,
   "metadata": {},
   "outputs": [],
   "source": [
    "def plot_coef(logistic_reg_model, feature_names, top_n=10):\n",
    "    # 選出某個類別的前10大影響力字詞\n",
    "    log_odds = logistic_reg_model.coef_.T\n",
    "    coef_df = pd.DataFrame(\n",
    "        log_odds, \n",
    "        columns=logistic_reg_model.classes_, index=feature_names\n",
    "    )\n",
    "    for label in coef_df.columns:\n",
    "        select_words = (\n",
    "            coef_df[[label]]\n",
    "            .sort_values(by=label, ascending=False)\n",
    "            .iloc[np.r_[0:top_n, -top_n:0]]\n",
    "        )\n",
    "        word = select_words.index\n",
    "        count = select_words[label]\n",
    "        category_colors = np.where(\n",
    "            select_words[label] >= 0, \"darkseagreen\", \"rosybrown\"\n",
    "        )  # 設定顏色\n",
    "\n",
    "        fig, ax = plt.subplots(figsize=(8, top_n*0.8))  # 設定畫布\n",
    "        plt.rcParams[\"axes.unicode_minus\"] = False\n",
    "\n",
    "        ax.barh(word, count, color=category_colors)\n",
    "        ax.invert_yaxis()\n",
    "        ax.set_title(\n",
    "            \"Coeff increase/decrease odds ratio of 「\" + label + \"」 label the most\",\n",
    "            loc=\"left\",\n",
    "            size=16,\n",
    "        )\n",
    "        ax.set_ylabel(\"word\", size=14)\n",
    "        ax.set_xlabel(\"odds ratio\", size=14)"
   ]
  },
  {
   "cell_type": "code",
   "execution_count": 42,
   "metadata": {},
   "outputs": [
    {
     "data": {
      "image/png": "[encoded data removed]",
      "text/plain": [
       "<Figure size 800x800 with 1 Axes>"
      ]
     },
     "metadata": {},
     "output_type": "display_data"
    },
    {
     "data": {
      "image/png": "[encoded data removed]",
      "text/plain": [
       "<Figure size 800x800 with 1 Axes>"
      ]
     },
     "metadata": {},
     "output_type": "display_data"
    },
    {
     "data": {
      "image/png": "[encoded data removed]",
      "text/plain": [
       "<Figure size 800x800 with 1 Axes>"
      ]
     },
     "metadata": {},
     "output_type": "display_data"
    }
   ],
   "source": [
    "plot_coef(logistic_reg_model=model_set['clf_logistic'], feature_names=vectorizer.get_feature_names_out(), top_n=10)"
   ]
  },
  {
   "cell_type": "markdown",
   "metadata": {},
   "source": [
    "\n",
    "<font color=#ffa>「航空」中出現了轉機、機票、新聞、長榮、桃園機場、星宇等，航空相關關鍵字；\n",
    "「日旅」中高係數的字多是日本旅遊地點，像是東京，大阪、名古屋...；\n",
    "「韓旅」中高係數的字多是韓國旅遊地點，像是釜山，首爾、大邱、仁川機場...。\n",
    "<br>可以發現其中有根據Bigram斷詞的結果，例如：桃園機場、仁川機場等。</font>"
   ]
  },
  {
   "cell_type": "markdown",
   "metadata": {},
   "source": [
    "## 6. 預測ptt文章類別"
   ]
  },
  {
   "cell_type": "markdown",
   "metadata": {},
   "source": [
    "- 版別：日旅、韓旅、航空\n",
    "- 時間範圍：2024/1/1～2024/3/31"
   ]
  },
  {
   "cell_type": "code",
   "execution_count": 43,
   "metadata": {},
   "outputs": [
    {
     "data": {
      "text/html": [
       "<div>\n",
       "<style scoped>\n",
       "    .dataframe tbody tr th:only-of-type {\n",
       "        vertical-align: middle;\n",
       "    }\n",
       "\n",
       "    .dataframe tbody tr th {\n",
       "        vertical-align: top;\n",
       "    }\n",
       "\n",
       "    .dataframe thead th {\n",
       "        text-align: right;\n",
       "    }\n",
       "</style>\n",
       "<table border=\"1\" class=\"dataframe\">\n",
       "  <thead>\n",
       "    <tr style=\"text-align: right;\">\n",
       "      <th></th>\n",
       "      <th>system_id</th>\n",
       "      <th>artUrl</th>\n",
       "      <th>artTitle</th>\n",
       "      <th>artDate</th>\n",
       "      <th>artPoster</th>\n",
       "      <th>artCatagory</th>\n",
       "      <th>artContent</th>\n",
       "      <th>artComment</th>\n",
       "      <th>e_ip</th>\n",
       "      <th>insertedDate</th>\n",
       "      <th>dataSource</th>\n",
       "    </tr>\n",
       "  </thead>\n",
       "  <tbody>\n",
       "    <tr>\n",
       "      <th>0</th>\n",
       "      <td>1</td>\n",
       "      <td>https://www.ptt.cc/bbs/Aviation/M.1704099792.A...</td>\n",
       "      <td>[情報]能登半島大地震M7.6KIJ關場中</td>\n",
       "      <td>2024-01-01 17:03:09</td>\n",
       "      <td>jh961202</td>\n",
       "      <td>Aviation</td>\n",
       "      <td>以防萬一有人來這邊問，也發一篇：\\n台灣時間下午3時10分，能登半島發生大地震\\n（速報值M...</td>\n",
       "      <td>[{\"cmtStatus\": \"→\", \"cmtPoster\": \"yhls\", \"cmtC...</td>\n",
       "      <td>122.116.60.211</td>\n",
       "      <td>2024-01-02 01:02:12</td>\n",
       "      <td>ptt</td>\n",
       "    </tr>\n",
       "    <tr>\n",
       "      <th>1</th>\n",
       "      <td>2</td>\n",
       "      <td>https://www.ptt.cc/bbs/Aviation/M.1704113816.A...</td>\n",
       "      <td>[分享]20231221JX725TPE-KUL</td>\n",
       "      <td>2024-01-01 20:56:54</td>\n",
       "      <td>ATR72</td>\n",
       "      <td>Aviation</td>\n",
       "      <td>祝各位板友新年快樂！\\n\\n\\n去年年初因為辦了玉山星宇聯名卡，所以有了3000元的折扣，\\...</td>\n",
       "      <td>[{\"cmtStatus\": \"推\", \"cmtPoster\": \"ingridlyon\",...</td>\n",
       "      <td>114.37.172.131</td>\n",
       "      <td>2024-01-02 01:02:12</td>\n",
       "      <td>ptt</td>\n",
       "    </tr>\n",
       "    <tr>\n",
       "      <th>2</th>\n",
       "      <td>3</td>\n",
       "      <td>https://www.ptt.cc/bbs/Aviation/M.1704131645.A...</td>\n",
       "      <td>[問題]入境日本1小時後出境是否影響入境審查</td>\n",
       "      <td>2024-01-02 01:54:03</td>\n",
       "      <td>lonboo</td>\n",
       "      <td>Aviation</td>\n",
       "      <td>請教若飛到日本抵達航班時間預設為11:00\\n\\n但13:30又立刻飛回台灣\\n\\n那這樣在...</td>\n",
       "      <td>[{\"cmtStatus\": \"推\", \"cmtPoster\": \"Kifoiser\", \"...</td>\n",
       "      <td>61.228.190.207</td>\n",
       "      <td>2024-01-03 01:02:16</td>\n",
       "      <td>ptt</td>\n",
       "    </tr>\n",
       "    <tr>\n",
       "      <th>3</th>\n",
       "      <td>4</td>\n",
       "      <td>https://www.ptt.cc/bbs/Aviation/M.1704153162.A...</td>\n",
       "      <td>[新聞]罷工遇能登半島7.6強震捷星日本航空喊卡</td>\n",
       "      <td>2024-01-02 07:52:40</td>\n",
       "      <td>sammy98</td>\n",
       "      <td>Aviation</td>\n",
       "      <td>[媒體名稱]\\nYahoo新聞 今日新聞\\n國際中心蔡姍伶／綜合報導\\n[新聞日期]\\n20...</td>\n",
       "      <td>[{\"cmtStatus\": \"推\", \"cmtPoster\": \"tiesto06202\"...</td>\n",
       "      <td>223.140.223.203</td>\n",
       "      <td>2024-01-03 01:02:16</td>\n",
       "      <td>ptt</td>\n",
       "    </tr>\n",
       "    <tr>\n",
       "      <th>4</th>\n",
       "      <td>5</td>\n",
       "      <td>https://www.ptt.cc/bbs/Aviation/M.1704186030.A...</td>\n",
       "      <td>[分享]羽田火災？</td>\n",
       "      <td>2024-01-02 17:00:28</td>\n",
       "      <td>sammy98</td>\n",
       "      <td>Aviation</td>\n",
       "      <td>https://www.youtube.com/live/6NLUoAmlm0A?si=kM...</td>\n",
       "      <td>[{\"cmtStatus\": \"→\", \"cmtPoster\": \"Profaner\", \"...</td>\n",
       "      <td>223.140.223.203</td>\n",
       "      <td>2024-01-03 01:02:16</td>\n",
       "      <td>ptt</td>\n",
       "    </tr>\n",
       "    <tr>\n",
       "      <th>...</th>\n",
       "      <td>...</td>\n",
       "      <td>...</td>\n",
       "      <td>...</td>\n",
       "      <td>...</td>\n",
       "      <td>...</td>\n",
       "      <td>...</td>\n",
       "      <td>...</td>\n",
       "      <td>...</td>\n",
       "      <td>...</td>\n",
       "      <td>...</td>\n",
       "      <td>...</td>\n",
       "    </tr>\n",
       "    <tr>\n",
       "      <th>3805</th>\n",
       "      <td>3806</td>\n",
       "      <td>https://www.ptt.cc/bbs/Korea_Travel/M.17118127...</td>\n",
       "      <td>[交通]「出售」臺北-首爾來回機票</td>\n",
       "      <td>2024-03-30 23:31:43</td>\n",
       "      <td>iopp50</td>\n",
       "      <td>Korea_Travel</td>\n",
       "      <td>春酒中獎機票香香價轉讓\\n台北-首爾 來回機票*2\\n-價格14000（已含各種稅）\\n-機...</td>\n",
       "      <td>[{\"cmtStatus\": \"推\", \"cmtPoster\": \"SK3\", \"cmtCo...</td>\n",
       "      <td>114.33.91.69</td>\n",
       "      <td>2024-04-01 02:08:27</td>\n",
       "      <td>ptt</td>\n",
       "    </tr>\n",
       "    <tr>\n",
       "      <th>3806</th>\n",
       "      <td>3807</td>\n",
       "      <td>https://www.ptt.cc/bbs/Korea_Travel/M.17118639...</td>\n",
       "      <td>[問題]請教仁川機場到東橫inn東大門搭機場巴士</td>\n",
       "      <td>2024-03-31 13:46:01</td>\n",
       "      <td>Mollyc</td>\n",
       "      <td>Korea_Travel</td>\n",
       "      <td>想請教住過東橫inn東大門店的版友\\n從仁川機場出發，是否可以搭乘6001號機場巴士直接到旅...</td>\n",
       "      <td>[{\"cmtStatus\": \"推\", \"cmtPoster\": \"ponchiyang\",...</td>\n",
       "      <td>49.158.130.17</td>\n",
       "      <td>2024-04-01 02:08:27</td>\n",
       "      <td>ptt</td>\n",
       "    </tr>\n",
       "    <tr>\n",
       "      <th>3807</th>\n",
       "      <td>3808</td>\n",
       "      <td>https://www.ptt.cc/bbs/Korea_Travel/M.17118657...</td>\n",
       "      <td>[問題]樂天租車會員註冊無法</td>\n",
       "      <td>2024-03-31 14:15:48</td>\n",
       "      <td>miaou0123</td>\n",
       "      <td>Korea_Travel</td>\n",
       "      <td>想請問，這兩天註冊樂天租車的英文版會員\\n\\n選擇國家taiwan，輸入email之後，收到...</td>\n",
       "      <td>[{\"cmtStatus\": \"推\", \"cmtPoster\": \"betty0217\", ...</td>\n",
       "      <td>111.83.195.237</td>\n",
       "      <td>2024-04-01 02:08:27</td>\n",
       "      <td>ptt</td>\n",
       "    </tr>\n",
       "    <tr>\n",
       "      <th>3808</th>\n",
       "      <td>3809</td>\n",
       "      <td>https://www.ptt.cc/bbs/Korea_Travel/M.17118782...</td>\n",
       "      <td>[問題]關於濟州島一日券</td>\n",
       "      <td>2024-03-31 17:44:35</td>\n",
       "      <td>williamsm</td>\n",
       "      <td>Korea_Travel</td>\n",
       "      <td>由於在五月有規劃濟州島的行程\\n有規劃兩天是觀光巴士（不租車）的行程\\n後來一些網站上有看到...</td>\n",
       "      <td>[]</td>\n",
       "      <td>39.12.88.167</td>\n",
       "      <td>2024-04-01 02:08:27</td>\n",
       "      <td>ptt</td>\n",
       "    </tr>\n",
       "    <tr>\n",
       "      <th>3809</th>\n",
       "      <td>3810</td>\n",
       "      <td>https://www.ptt.cc/bbs/Korea_Travel/M.17118985...</td>\n",
       "      <td>[出售]韓國SKTeSIM吃到飽5日</td>\n",
       "      <td>2024-03-31 23:22:43</td>\n",
       "      <td>e158420502</td>\n",
       "      <td>Korea_Travel</td>\n",
       "      <td>商品：KKDAY 韓國網卡｜SK電信 4G 高速吃到飽 eSIM\\n\\n天數：5日\\n\\n購...</td>\n",
       "      <td>[]</td>\n",
       "      <td>111.243.150.41</td>\n",
       "      <td>2024-04-01 02:08:27</td>\n",
       "      <td>ptt</td>\n",
       "    </tr>\n",
       "  </tbody>\n",
       "</table>\n",
       "<p>3768 rows × 11 columns</p>\n",
       "</div>"
      ],
      "text/plain": [
       "      system_id                                             artUrl  \\\n",
       "0             1  https://www.ptt.cc/bbs/Aviation/M.1704099792.A...   \n",
       "1             2  https://www.ptt.cc/bbs/Aviation/M.1704113816.A...   \n",
       "2             3  https://www.ptt.cc/bbs/Aviation/M.1704131645.A...   \n",
       "3             4  https://www.ptt.cc/bbs/Aviation/M.1704153162.A...   \n",
       "4             5  https://www.ptt.cc/bbs/Aviation/M.1704186030.A...   \n",
       "...         ...                                                ...   \n",
       "3805       3806  https://www.ptt.cc/bbs/Korea_Travel/M.17118127...   \n",
       "3806       3807  https://www.ptt.cc/bbs/Korea_Travel/M.17118639...   \n",
       "3807       3808  https://www.ptt.cc/bbs/Korea_Travel/M.17118657...   \n",
       "3808       3809  https://www.ptt.cc/bbs/Korea_Travel/M.17118782...   \n",
       "3809       3810  https://www.ptt.cc/bbs/Korea_Travel/M.17118985...   \n",
       "\n",
       "                      artTitle              artDate   artPoster   artCatagory  \\\n",
       "0        [情報]能登半島大地震M7.6KIJ關場中  2024-01-01 17:03:09    jh961202      Aviation   \n",
       "1     [分享]20231221JX725TPE-KUL  2024-01-01 20:56:54       ATR72      Aviation   \n",
       "2       [問題]入境日本1小時後出境是否影響入境審查  2024-01-02 01:54:03      lonboo      Aviation   \n",
       "3     [新聞]罷工遇能登半島7.6強震捷星日本航空喊卡  2024-01-02 07:52:40     sammy98      Aviation   \n",
       "4                    [分享]羽田火災？  2024-01-02 17:00:28     sammy98      Aviation   \n",
       "...                        ...                  ...         ...           ...   \n",
       "3805         [交通]「出售」臺北-首爾來回機票  2024-03-30 23:31:43      iopp50  Korea_Travel   \n",
       "3806  [問題]請教仁川機場到東橫inn東大門搭機場巴士  2024-03-31 13:46:01      Mollyc  Korea_Travel   \n",
       "3807            [問題]樂天租車會員註冊無法  2024-03-31 14:15:48   miaou0123  Korea_Travel   \n",
       "3808              [問題]關於濟州島一日券  2024-03-31 17:44:35   williamsm  Korea_Travel   \n",
       "3809        [出售]韓國SKTeSIM吃到飽5日  2024-03-31 23:22:43  e158420502  Korea_Travel   \n",
       "\n",
       "                                             artContent  \\\n",
       "0     以防萬一有人來這邊問，也發一篇：\\n台灣時間下午3時10分，能登半島發生大地震\\n（速報值M...   \n",
       "1     祝各位板友新年快樂！\\n\\n\\n去年年初因為辦了玉山星宇聯名卡，所以有了3000元的折扣，\\...   \n",
       "2     請教若飛到日本抵達航班時間預設為11:00\\n\\n但13:30又立刻飛回台灣\\n\\n那這樣在...   \n",
       "3     [媒體名稱]\\nYahoo新聞 今日新聞\\n國際中心蔡姍伶／綜合報導\\n[新聞日期]\\n20...   \n",
       "4     https://www.youtube.com/live/6NLUoAmlm0A?si=kM...   \n",
       "...                                                 ...   \n",
       "3805  春酒中獎機票香香價轉讓\\n台北-首爾 來回機票*2\\n-價格14000（已含各種稅）\\n-機...   \n",
       "3806  想請教住過東橫inn東大門店的版友\\n從仁川機場出發，是否可以搭乘6001號機場巴士直接到旅...   \n",
       "3807  想請問，這兩天註冊樂天租車的英文版會員\\n\\n選擇國家taiwan，輸入email之後，收到...   \n",
       "3808  由於在五月有規劃濟州島的行程\\n有規劃兩天是觀光巴士（不租車）的行程\\n後來一些網站上有看到...   \n",
       "3809  商品：KKDAY 韓國網卡｜SK電信 4G 高速吃到飽 eSIM\\n\\n天數：5日\\n\\n購...   \n",
       "\n",
       "                                             artComment             e_ip  \\\n",
       "0     [{\"cmtStatus\": \"→\", \"cmtPoster\": \"yhls\", \"cmtC...   122.116.60.211   \n",
       "1     [{\"cmtStatus\": \"推\", \"cmtPoster\": \"ingridlyon\",...   114.37.172.131   \n",
       "2     [{\"cmtStatus\": \"推\", \"cmtPoster\": \"Kifoiser\", \"...   61.228.190.207   \n",
       "3     [{\"cmtStatus\": \"推\", \"cmtPoster\": \"tiesto06202\"...  223.140.223.203   \n",
       "4     [{\"cmtStatus\": \"→\", \"cmtPoster\": \"Profaner\", \"...  223.140.223.203   \n",
       "...                                                 ...              ...   \n",
       "3805  [{\"cmtStatus\": \"推\", \"cmtPoster\": \"SK3\", \"cmtCo...     114.33.91.69   \n",
       "3806  [{\"cmtStatus\": \"推\", \"cmtPoster\": \"ponchiyang\",...    49.158.130.17   \n",
       "3807  [{\"cmtStatus\": \"推\", \"cmtPoster\": \"betty0217\", ...   111.83.195.237   \n",
       "3808                                                 []     39.12.88.167   \n",
       "3809                                                 []   111.243.150.41   \n",
       "\n",
       "             insertedDate dataSource  \n",
       "0     2024-01-02 01:02:12        ptt  \n",
       "1     2024-01-02 01:02:12        ptt  \n",
       "2     2024-01-03 01:02:16        ptt  \n",
       "3     2024-01-03 01:02:16        ptt  \n",
       "4     2024-01-03 01:02:16        ptt  \n",
       "...                   ...        ...  \n",
       "3805  2024-04-01 02:08:27        ptt  \n",
       "3806  2024-04-01 02:08:27        ptt  \n",
       "3807  2024-04-01 02:08:27        ptt  \n",
       "3808  2024-04-01 02:08:27        ptt  \n",
       "3809  2024-04-01 02:08:27        ptt  \n",
       "\n",
       "[3768 rows x 11 columns]"
      ]
     },
     "execution_count": 43,
     "metadata": {},
     "output_type": "execute_result"
    }
   ],
   "source": [
    "ct = pd.read_csv(\"./raw_data/japan_korea_avia_test.csv\")\n",
    "ct.dropna(inplace=True)\n",
    "ct"
   ]
  },
  {
   "cell_type": "markdown",
   "metadata": {},
   "source": [
    "文字清理"
   ]
  },
  {
   "cell_type": "code",
   "execution_count": 44,
   "metadata": {},
   "outputs": [
    {
     "data": {
      "text/html": [
       "<div>\n",
       "<style scoped>\n",
       "    .dataframe tbody tr th:only-of-type {\n",
       "        vertical-align: middle;\n",
       "    }\n",
       "\n",
       "    .dataframe tbody tr th {\n",
       "        vertical-align: top;\n",
       "    }\n",
       "\n",
       "    .dataframe thead th {\n",
       "        text-align: right;\n",
       "    }\n",
       "</style>\n",
       "<table border=\"1\" class=\"dataframe\">\n",
       "  <thead>\n",
       "    <tr style=\"text-align: right;\">\n",
       "      <th></th>\n",
       "      <th>content</th>\n",
       "      <th>artUrl</th>\n",
       "      <th>artCatagory</th>\n",
       "      <th>words</th>\n",
       "    </tr>\n",
       "  </thead>\n",
       "  <tbody>\n",
       "    <tr>\n",
       "      <th>0</th>\n",
       "      <td>[情報]能登半島大地震M7.6KIJ關場中以防萬一有人來這邊問，也發一篇：\\n台灣時間下午3...</td>\n",
       "      <td>https://www.ptt.cc/bbs/Aviation/M.1704099792.A...</td>\n",
       "      <td>Aviation</td>\n",
       "      <td>情報 能登 半島 地震 M7.6 KIJ 關場 以防萬一 有人 一篇 台灣 時間 10 能登...</td>\n",
       "    </tr>\n",
       "    <tr>\n",
       "      <th>1</th>\n",
       "      <td>[分享]20231221JX725TPE-KUL祝各位板友新年快樂！\\n\\n\\n去年年初因為...</td>\n",
       "      <td>https://www.ptt.cc/bbs/Aviation/M.1704113816.A...</td>\n",
       "      <td>Aviation</td>\n",
       "      <td>20231221JX725TPE KUL 板友 新年快樂 去年 年初 玉山 星宇 聯名卡 3...</td>\n",
       "    </tr>\n",
       "    <tr>\n",
       "      <th>2</th>\n",
       "      <td>[問題]入境日本1小時後出境是否影響入境審查請教若飛到日本抵達航班時間預設為11:00\\n\\...</td>\n",
       "      <td>https://www.ptt.cc/bbs/Aviation/M.1704131645.A...</td>\n",
       "      <td>Aviation</td>\n",
       "      <td>問題 入境 日本 小時 出境 影響 入境 審查 請教 若飛到 日本 航班 時間 預設 11 ...</td>\n",
       "    </tr>\n",
       "    <tr>\n",
       "      <th>3</th>\n",
       "      <td>[新聞]罷工遇能登半島7.6強震捷星日本航空喊卡[媒體名稱]\\nYahoo新聞 今日新聞\\n...</td>\n",
       "      <td>https://www.ptt.cc/bbs/Aviation/M.1704153162.A...</td>\n",
       "      <td>Aviation</td>\n",
       "      <td>新聞 罷工 能登 半島 7.6 強震 捷星 日本航空 喊卡 媒體 Yahoo 新聞 新聞 國...</td>\n",
       "    </tr>\n",
       "    <tr>\n",
       "      <th>4</th>\n",
       "      <td>[分享]羽田火災？https://www.youtube.com/live/6NLUoAml...</td>\n",
       "      <td>https://www.ptt.cc/bbs/Aviation/M.1704186030.A...</td>\n",
       "      <td>Aviation</td>\n",
       "      <td>羽田 火災 https www youtube com live 6NLUoAmlm0A s...</td>\n",
       "    </tr>\n",
       "  </tbody>\n",
       "</table>\n",
       "</div>"
      ],
      "text/plain": [
       "                                             content  \\\n",
       "0  [情報]能登半島大地震M7.6KIJ關場中以防萬一有人來這邊問，也發一篇：\\n台灣時間下午3...   \n",
       "1  [分享]20231221JX725TPE-KUL祝各位板友新年快樂！\\n\\n\\n去年年初因為...   \n",
       "2  [問題]入境日本1小時後出境是否影響入境審查請教若飛到日本抵達航班時間預設為11:00\\n\\...   \n",
       "3  [新聞]罷工遇能登半島7.6強震捷星日本航空喊卡[媒體名稱]\\nYahoo新聞 今日新聞\\n...   \n",
       "4  [分享]羽田火災？https://www.youtube.com/live/6NLUoAml...   \n",
       "\n",
       "                                              artUrl artCatagory  \\\n",
       "0  https://www.ptt.cc/bbs/Aviation/M.1704099792.A...    Aviation   \n",
       "1  https://www.ptt.cc/bbs/Aviation/M.1704113816.A...    Aviation   \n",
       "2  https://www.ptt.cc/bbs/Aviation/M.1704131645.A...    Aviation   \n",
       "3  https://www.ptt.cc/bbs/Aviation/M.1704153162.A...    Aviation   \n",
       "4  https://www.ptt.cc/bbs/Aviation/M.1704186030.A...    Aviation   \n",
       "\n",
       "                                               words  \n",
       "0  情報 能登 半島 地震 M7.6 KIJ 關場 以防萬一 有人 一篇 台灣 時間 10 能登...  \n",
       "1  20231221JX725TPE KUL 板友 新年快樂 去年 年初 玉山 星宇 聯名卡 3...  \n",
       "2  問題 入境 日本 小時 出境 影響 入境 審查 請教 若飛到 日本 航班 時間 預設 11 ...  \n",
       "3  新聞 罷工 能登 半島 7.6 強震 捷星 日本航空 喊卡 媒體 Yahoo 新聞 新聞 國...  \n",
       "4  羽田 火災 https www youtube com live 6NLUoAmlm0A s...  "
      ]
     },
     "execution_count": 44,
     "metadata": {},
     "output_type": "execute_result"
    }
   ],
   "source": [
    "# 移除網址格式\n",
    "ct[\"artContent\"].str.replace(\"(http|https)://.*\", \"\", regex=True)\n",
    "ct[\"artTitle\"].str.replace(\"(http|https)://.*\", \"\", regex=True)\n",
    "ct[\"artContent\"].str.replace(\"[^\\u4e00-\\u9fa5]+\", \"\", regex=True)\n",
    "ct[\"artTitle\"].str.replace(\"[^\\u4e00-\\u9fa5]+\", \"\", regex=True)\n",
    "\n",
    "# 留下 content\n",
    "ct[\"content\"] = ct[\"artTitle\"] + ct[\"artContent\"]\n",
    "ct = ct.loc[:,[\"content\", \"artUrl\", \"artCatagory\"]]  # 文章內容 文章連結\n",
    "\n",
    "# 設定斷詞 function\n",
    "def getToken(row):\n",
    "    seg_list = jieba.cut(row, cut_all=False)\n",
    "    seg_list = [\n",
    "        w for w in seg_list if w not in stopWords and len(w) > 1\n",
    "    ]  # 篩選掉停用字與字元數大於1的詞彙\n",
    "    return seg_list\n",
    "\n",
    "ct[\"words\"] = ct[\"content\"].apply(getToken).map(\" \".join)\n",
    "ct.head()"
   ]
  },
  {
   "cell_type": "markdown",
   "metadata": {},
   "source": [
    "testing data 中各類別資料數量"
   ]
  },
  {
   "cell_type": "code",
   "execution_count": 45,
   "metadata": {},
   "outputs": [
    {
     "data": {
      "text/plain": [
       "artCatagory\n",
       "Japan_Travel    2786\n",
       "Aviation         605\n",
       "Korea_Travel     377\n",
       "Name: count, dtype: int64"
      ]
     },
     "execution_count": 45,
     "metadata": {},
     "output_type": "execute_result"
    }
   ],
   "source": [
    "ct['artCatagory'].value_counts()"
   ]
  },
  {
   "cell_type": "markdown",
   "metadata": {},
   "source": [
    "<font color=#ffa>將testing data DTM by Tf-idf，then 使用先前訓練表現最佳的分類模型：Random forest 進行類別預測</font>"
   ]
  },
  {
   "cell_type": "code",
   "execution_count": 46,
   "metadata": {},
   "outputs": [
    {
     "name": "stdout",
     "output_type": "stream",
     "text": [
      "              precision    recall  f1-score   support\n",
      "\n",
      "    Aviation       0.89      0.85      0.87       605\n",
      "Japan_Travel       0.95      0.98      0.97      2786\n",
      "Korea_Travel       0.96      0.84      0.90       377\n",
      "\n",
      "    accuracy                           0.95      3768\n",
      "   macro avg       0.94      0.89      0.91      3768\n",
      "weighted avg       0.94      0.95      0.94      3768\n",
      "\n"
     ]
    }
   ],
   "source": [
    "\n",
    "# ct['artCatagory'] = ct['artCatagory'].map(mapper)\n",
    "ct['artCatagory'] = ct['artCatagory']\n",
    "\n",
    "X = ct['words']\n",
    "y = ct['artCatagory']\n",
    "\n",
    "y_pred = model_set[best_model_name].predict(vectorizer.transform(X).toarray())\n",
    "print(classification_report(y, y_pred))"
   ]
  },
  {
   "cell_type": "markdown",
   "metadata": {},
   "source": [
    "<font color=#ffa>分類結果：</font>"
   ]
  },
  {
   "cell_type": "code",
   "execution_count": 47,
   "metadata": {},
   "outputs": [
    {
     "data": {
      "text/html": [
       "<div>\n",
       "<style scoped>\n",
       "    .dataframe tbody tr th:only-of-type {\n",
       "        vertical-align: middle;\n",
       "    }\n",
       "\n",
       "    .dataframe tbody tr th {\n",
       "        vertical-align: top;\n",
       "    }\n",
       "\n",
       "    .dataframe thead th {\n",
       "        text-align: right;\n",
       "    }\n",
       "</style>\n",
       "<table border=\"1\" class=\"dataframe\">\n",
       "  <thead>\n",
       "    <tr style=\"text-align: right;\">\n",
       "      <th></th>\n",
       "      <th>words</th>\n",
       "      <th>artCatagory</th>\n",
       "      <th>pred</th>\n",
       "    </tr>\n",
       "  </thead>\n",
       "  <tbody>\n",
       "    <tr>\n",
       "      <th>0</th>\n",
       "      <td>情報 能登 半島 地震 M7.6 KIJ 關場 以防萬一 有人 一篇 台灣 時間 10 能登...</td>\n",
       "      <td>Aviation</td>\n",
       "      <td>Aviation</td>\n",
       "    </tr>\n",
       "    <tr>\n",
       "      <th>1</th>\n",
       "      <td>20231221JX725TPE KUL 板友 新年快樂 去年 年初 玉山 星宇 聯名卡 3...</td>\n",
       "      <td>Aviation</td>\n",
       "      <td>Aviation</td>\n",
       "    </tr>\n",
       "    <tr>\n",
       "      <th>2</th>\n",
       "      <td>問題 入境 日本 小時 出境 影響 入境 審查 請教 若飛到 日本 航班 時間 預設 11 ...</td>\n",
       "      <td>Aviation</td>\n",
       "      <td>Aviation</td>\n",
       "    </tr>\n",
       "    <tr>\n",
       "      <th>3</th>\n",
       "      <td>新聞 罷工 能登 半島 7.6 強震 捷星 日本航空 喊卡 媒體 Yahoo 新聞 新聞 國...</td>\n",
       "      <td>Aviation</td>\n",
       "      <td>Aviation</td>\n",
       "    </tr>\n",
       "    <tr>\n",
       "      <th>4</th>\n",
       "      <td>羽田 火災 https www youtube com live 6NLUoAmlm0A s...</td>\n",
       "      <td>Aviation</td>\n",
       "      <td>Japan_Travel</td>\n",
       "    </tr>\n",
       "    <tr>\n",
       "      <th>...</th>\n",
       "      <td>...</td>\n",
       "      <td>...</td>\n",
       "      <td>...</td>\n",
       "    </tr>\n",
       "    <tr>\n",
       "      <th>3805</th>\n",
       "      <td>交通 出售 臺北 首爾 來回 機票 春酒 中獎 機票 香香 轉讓 台北 首爾 來回 機票 價...</td>\n",
       "      <td>Korea_Travel</td>\n",
       "      <td>Korea_Travel</td>\n",
       "    </tr>\n",
       "    <tr>\n",
       "      <th>3806</th>\n",
       "      <td>問題 請教 仁川機場 東橫 inn 大門 機場巴士 請教 住過 東橫 inn 東大 門店 版...</td>\n",
       "      <td>Korea_Travel</td>\n",
       "      <td>Korea_Travel</td>\n",
       "    </tr>\n",
       "    <tr>\n",
       "      <th>3807</th>\n",
       "      <td>問題 樂天 租車 會員 註冊 無法 請問 兩天 註冊 樂天 租車 英文版 會員 選擇 國家 ...</td>\n",
       "      <td>Korea_Travel</td>\n",
       "      <td>Japan_Travel</td>\n",
       "    </tr>\n",
       "    <tr>\n",
       "      <th>3808</th>\n",
       "      <td>問題 濟州島 五月 規劃 濟州島 行程 規劃 兩天 觀光 巴士 租車 行程 網站 濟州島 通...</td>\n",
       "      <td>Korea_Travel</td>\n",
       "      <td>Japan_Travel</td>\n",
       "    </tr>\n",
       "    <tr>\n",
       "      <th>3809</th>\n",
       "      <td>出售 韓國 SKTeSIM 商品 KKDAY 韓國 網卡 SK 電信 4G 高速 eSIM ...</td>\n",
       "      <td>Korea_Travel</td>\n",
       "      <td>Korea_Travel</td>\n",
       "    </tr>\n",
       "  </tbody>\n",
       "</table>\n",
       "<p>3768 rows × 3 columns</p>\n",
       "</div>"
      ],
      "text/plain": [
       "                                                  words   artCatagory  \\\n",
       "0     情報 能登 半島 地震 M7.6 KIJ 關場 以防萬一 有人 一篇 台灣 時間 10 能登...      Aviation   \n",
       "1     20231221JX725TPE KUL 板友 新年快樂 去年 年初 玉山 星宇 聯名卡 3...      Aviation   \n",
       "2     問題 入境 日本 小時 出境 影響 入境 審查 請教 若飛到 日本 航班 時間 預設 11 ...      Aviation   \n",
       "3     新聞 罷工 能登 半島 7.6 強震 捷星 日本航空 喊卡 媒體 Yahoo 新聞 新聞 國...      Aviation   \n",
       "4     羽田 火災 https www youtube com live 6NLUoAmlm0A s...      Aviation   \n",
       "...                                                 ...           ...   \n",
       "3805  交通 出售 臺北 首爾 來回 機票 春酒 中獎 機票 香香 轉讓 台北 首爾 來回 機票 價...  Korea_Travel   \n",
       "3806  問題 請教 仁川機場 東橫 inn 大門 機場巴士 請教 住過 東橫 inn 東大 門店 版...  Korea_Travel   \n",
       "3807  問題 樂天 租車 會員 註冊 無法 請問 兩天 註冊 樂天 租車 英文版 會員 選擇 國家 ...  Korea_Travel   \n",
       "3808  問題 濟州島 五月 規劃 濟州島 行程 規劃 兩天 觀光 巴士 租車 行程 網站 濟州島 通...  Korea_Travel   \n",
       "3809  出售 韓國 SKTeSIM 商品 KKDAY 韓國 網卡 SK 電信 4G 高速 eSIM ...  Korea_Travel   \n",
       "\n",
       "              pred  \n",
       "0         Aviation  \n",
       "1         Aviation  \n",
       "2         Aviation  \n",
       "3         Aviation  \n",
       "4     Japan_Travel  \n",
       "...            ...  \n",
       "3805  Korea_Travel  \n",
       "3806  Korea_Travel  \n",
       "3807  Japan_Travel  \n",
       "3808  Japan_Travel  \n",
       "3809  Korea_Travel  \n",
       "\n",
       "[3768 rows x 3 columns]"
      ]
     },
     "execution_count": 47,
     "metadata": {},
     "output_type": "execute_result"
    }
   ],
   "source": [
    "ct['pred'] = y_pred\n",
    "ct.loc[:,['words', 'artCatagory',\"pred\"]]"
   ]
  },
  {
   "cell_type": "markdown",
   "metadata": {},
   "source": [
    "<font color=#ffa>查看分類錯誤的data：</font>"
   ]
  },
  {
   "cell_type": "code",
   "execution_count": 48,
   "metadata": {},
   "outputs": [
    {
     "data": {
      "text/html": [
       "<div>\n",
       "<style scoped>\n",
       "    .dataframe tbody tr th:only-of-type {\n",
       "        vertical-align: middle;\n",
       "    }\n",
       "\n",
       "    .dataframe tbody tr th {\n",
       "        vertical-align: top;\n",
       "    }\n",
       "\n",
       "    .dataframe thead th {\n",
       "        text-align: right;\n",
       "    }\n",
       "</style>\n",
       "<table border=\"1\" class=\"dataframe\">\n",
       "  <thead>\n",
       "    <tr style=\"text-align: right;\">\n",
       "      <th></th>\n",
       "      <th>words</th>\n",
       "      <th>artCatagory</th>\n",
       "      <th>pred</th>\n",
       "    </tr>\n",
       "  </thead>\n",
       "  <tbody>\n",
       "    <tr>\n",
       "      <th>4</th>\n",
       "      <td>羽田 火災 https www youtube com live 6NLUoAmlm0A s...</td>\n",
       "      <td>Aviation</td>\n",
       "      <td>Japan_Travel</td>\n",
       "    </tr>\n",
       "    <tr>\n",
       "      <th>6</th>\n",
       "      <td>問題 桃機 信用卡 外圍 停車 請問 預計 一月底 出國 正在 考慮 自駕 接送 信用卡 配...</td>\n",
       "      <td>Aviation</td>\n",
       "      <td>Japan_Travel</td>\n",
       "    </tr>\n",
       "    <tr>\n",
       "      <th>21</th>\n",
       "      <td>JL516 國交 公布 英文 ATC 抄件 https imgur com xKTJOji ...</td>\n",
       "      <td>Aviation</td>\n",
       "      <td>Japan_Travel</td>\n",
       "    </tr>\n",
       "    <tr>\n",
       "      <th>24</th>\n",
       "      <td>問題 飛越 北極點 航線 心血來潮 飛越 北極點 固定 航班 沒想到 查不到 最多 俄羅斯 ...</td>\n",
       "      <td>Aviation</td>\n",
       "      <td>Japan_Travel</td>\n",
       "    </tr>\n",
       "    <tr>\n",
       "      <th>35</th>\n",
       "      <td>海保機 24 小時 執行 三次 任務 報導 39 海保機 機長 宮本 元氣 週一 鳥島 海域...</td>\n",
       "      <td>Aviation</td>\n",
       "      <td>Japan_Travel</td>\n",
       "    </tr>\n",
       "    <tr>\n",
       "      <th>...</th>\n",
       "      <td>...</td>\n",
       "      <td>...</td>\n",
       "      <td>...</td>\n",
       "    </tr>\n",
       "    <tr>\n",
       "      <th>3786</th>\n",
       "      <td>資訊 德威航空 高雄 金浦 21 開航 這次 應該 算是 開航 官網 航班 資訊 放上去 應...</td>\n",
       "      <td>Korea_Travel</td>\n",
       "      <td>Japan_Travel</td>\n",
       "    </tr>\n",
       "    <tr>\n",
       "      <th>3788</th>\n",
       "      <td>出售 VISITBUSANPASS24H 實體 朋友 使用 出售 klook 購買 VISI...</td>\n",
       "      <td>Korea_Travel</td>\n",
       "      <td>Japan_Travel</td>\n",
       "    </tr>\n",
       "    <tr>\n",
       "      <th>3798</th>\n",
       "      <td>徵求 愛寶 樂園 旅伴 徵求 類別 愛寶 樂園 同行 旅伴 PO 性別 女生 30 20 3...</td>\n",
       "      <td>Korea_Travel</td>\n",
       "      <td>Japan_Travel</td>\n",
       "    </tr>\n",
       "    <tr>\n",
       "      <th>3807</th>\n",
       "      <td>問題 樂天 租車 會員 註冊 無法 請問 兩天 註冊 樂天 租車 英文版 會員 選擇 國家 ...</td>\n",
       "      <td>Korea_Travel</td>\n",
       "      <td>Japan_Travel</td>\n",
       "    </tr>\n",
       "    <tr>\n",
       "      <th>3808</th>\n",
       "      <td>問題 濟州島 五月 規劃 濟州島 行程 規劃 兩天 觀光 巴士 租車 行程 網站 濟州島 通...</td>\n",
       "      <td>Korea_Travel</td>\n",
       "      <td>Japan_Travel</td>\n",
       "    </tr>\n",
       "  </tbody>\n",
       "</table>\n",
       "<p>207 rows × 3 columns</p>\n",
       "</div>"
      ],
      "text/plain": [
       "                                                  words   artCatagory  \\\n",
       "4     羽田 火災 https www youtube com live 6NLUoAmlm0A s...      Aviation   \n",
       "6     問題 桃機 信用卡 外圍 停車 請問 預計 一月底 出國 正在 考慮 自駕 接送 信用卡 配...      Aviation   \n",
       "21    JL516 國交 公布 英文 ATC 抄件 https imgur com xKTJOji ...      Aviation   \n",
       "24    問題 飛越 北極點 航線 心血來潮 飛越 北極點 固定 航班 沒想到 查不到 最多 俄羅斯 ...      Aviation   \n",
       "35    海保機 24 小時 執行 三次 任務 報導 39 海保機 機長 宮本 元氣 週一 鳥島 海域...      Aviation   \n",
       "...                                                 ...           ...   \n",
       "3786  資訊 德威航空 高雄 金浦 21 開航 這次 應該 算是 開航 官網 航班 資訊 放上去 應...  Korea_Travel   \n",
       "3788  出售 VISITBUSANPASS24H 實體 朋友 使用 出售 klook 購買 VISI...  Korea_Travel   \n",
       "3798  徵求 愛寶 樂園 旅伴 徵求 類別 愛寶 樂園 同行 旅伴 PO 性別 女生 30 20 3...  Korea_Travel   \n",
       "3807  問題 樂天 租車 會員 註冊 無法 請問 兩天 註冊 樂天 租車 英文版 會員 選擇 國家 ...  Korea_Travel   \n",
       "3808  問題 濟州島 五月 規劃 濟州島 行程 規劃 兩天 觀光 巴士 租車 行程 網站 濟州島 通...  Korea_Travel   \n",
       "\n",
       "              pred  \n",
       "4     Japan_Travel  \n",
       "6     Japan_Travel  \n",
       "21    Japan_Travel  \n",
       "24    Japan_Travel  \n",
       "35    Japan_Travel  \n",
       "...            ...  \n",
       "3786  Japan_Travel  \n",
       "3788  Japan_Travel  \n",
       "3798  Japan_Travel  \n",
       "3807  Japan_Travel  \n",
       "3808  Japan_Travel  \n",
       "\n",
       "[207 rows x 3 columns]"
      ]
     },
     "execution_count": 48,
     "metadata": {},
     "output_type": "execute_result"
    }
   ],
   "source": [
    "false_pred = ct.query(\"artCatagory != pred\").loc[:,['words', 'artCatagory',\"pred\"]]\n",
    "false_pred"
   ]
  },
  {
   "cell_type": "code",
   "execution_count": 49,
   "metadata": {},
   "outputs": [
    {
     "data": {
      "text/html": [
       "<div>\n",
       "<style scoped>\n",
       "    .dataframe tbody tr th:only-of-type {\n",
       "        vertical-align: middle;\n",
       "    }\n",
       "\n",
       "    .dataframe tbody tr th {\n",
       "        vertical-align: top;\n",
       "    }\n",
       "\n",
       "    .dataframe thead th {\n",
       "        text-align: right;\n",
       "    }\n",
       "</style>\n",
       "<table border=\"1\" class=\"dataframe\">\n",
       "  <thead>\n",
       "    <tr style=\"text-align: right;\">\n",
       "      <th></th>\n",
       "      <th>words</th>\n",
       "      <th>artCatagory</th>\n",
       "      <th>pred</th>\n",
       "    </tr>\n",
       "  </thead>\n",
       "  <tbody>\n",
       "    <tr>\n",
       "      <th>4</th>\n",
       "      <td>羽田 火災 https www youtube com live 6NLUoAmlm0A s...</td>\n",
       "      <td>Aviation</td>\n",
       "      <td>Japan_Travel</td>\n",
       "    </tr>\n",
       "    <tr>\n",
       "      <th>6</th>\n",
       "      <td>問題 桃機 信用卡 外圍 停車 請問 預計 一月底 出國 正在 考慮 自駕 接送 信用卡 配...</td>\n",
       "      <td>Aviation</td>\n",
       "      <td>Japan_Travel</td>\n",
       "    </tr>\n",
       "    <tr>\n",
       "      <th>21</th>\n",
       "      <td>JL516 國交 公布 英文 ATC 抄件 https imgur com xKTJOji ...</td>\n",
       "      <td>Aviation</td>\n",
       "      <td>Japan_Travel</td>\n",
       "    </tr>\n",
       "    <tr>\n",
       "      <th>24</th>\n",
       "      <td>問題 飛越 北極點 航線 心血來潮 飛越 北極點 固定 航班 沒想到 查不到 最多 俄羅斯 ...</td>\n",
       "      <td>Aviation</td>\n",
       "      <td>Japan_Travel</td>\n",
       "    </tr>\n",
       "    <tr>\n",
       "      <th>35</th>\n",
       "      <td>海保機 24 小時 執行 三次 任務 報導 39 海保機 機長 宮本 元氣 週一 鳥島 海域...</td>\n",
       "      <td>Aviation</td>\n",
       "      <td>Japan_Travel</td>\n",
       "    </tr>\n",
       "    <tr>\n",
       "      <th>37</th>\n",
       "      <td>閒聊 日航 事故 客艙 疏散 過程 分鐘 影片 日本 ANN 新聞頻道 一部 剪輯 分鐘 客...</td>\n",
       "      <td>Aviation</td>\n",
       "      <td>Japan_Travel</td>\n",
       "    </tr>\n",
       "    <tr>\n",
       "      <th>42</th>\n",
       "      <td>問題 英法 旅遊 行李 小弟 預計 一月底 英國 旅行 歐洲 之星 法國 兩地 11 回程 ...</td>\n",
       "      <td>Aviation</td>\n",
       "      <td>Japan_Travel</td>\n",
       "    </tr>\n",
       "    <tr>\n",
       "      <th>44</th>\n",
       "      <td>空中 浩劫 S24E05 中華航空 676 班機 劇照 https imgur com 7j...</td>\n",
       "      <td>Aviation</td>\n",
       "      <td>Japan_Travel</td>\n",
       "    </tr>\n",
       "    <tr>\n",
       "      <th>66</th>\n",
       "      <td>新聞 關西機場 逐年 下沉 40 搶救 專家 2056 消失 https news tvbs...</td>\n",
       "      <td>Aviation</td>\n",
       "      <td>Japan_Travel</td>\n",
       "    </tr>\n",
       "    <tr>\n",
       "      <th>70</th>\n",
       "      <td>空港 3FANA 飛機 自動 販賣 昨天 大雪 交通 臨時 問題 提早到 空港 晃晃 下雪 ...</td>\n",
       "      <td>Aviation</td>\n",
       "      <td>Japan_Travel</td>\n",
       "    </tr>\n",
       "    <tr>\n",
       "      <th>93</th>\n",
       "      <td>閒聊 韓國 10 機場 算是 舊聞 航空 討論 韓國 15 機場 https imgur c...</td>\n",
       "      <td>Aviation</td>\n",
       "      <td>Korea_Travel</td>\n",
       "    </tr>\n",
       "    <tr>\n",
       "      <th>96</th>\n",
       "      <td>問題 JA894a NH851 同一 台寶可夢 彩虹 http imgur com rUab...</td>\n",
       "      <td>Aviation</td>\n",
       "      <td>Japan_Travel</td>\n",
       "    </tr>\n",
       "    <tr>\n",
       "      <th>104</th>\n",
       "      <td>閒聊 濟州 機場 運量 韓國 觀光 不差 嚴格來說 世界 普通 程度 火山島 韓國 真的 很...</td>\n",
       "      <td>Aviation</td>\n",
       "      <td>Korea_Travel</td>\n",
       "    </tr>\n",
       "    <tr>\n",
       "      <th>108</th>\n",
       "      <td>問題 機捷 捷運 預掛 行李 使用 班機 起飛時間 太早 30 想到 機捷 A3 前一天 預...</td>\n",
       "      <td>Aviation</td>\n",
       "      <td>Japan_Travel</td>\n",
       "    </tr>\n",
       "    <tr>\n",
       "      <th>117</th>\n",
       "      <td>問題 ANA 日本 國內 同一個 航班 重複 訂位 作者 TsukasaLove LOVE ...</td>\n",
       "      <td>Aviation</td>\n",
       "      <td>Japan_Travel</td>\n",
       "    </tr>\n",
       "    <tr>\n",
       "      <th>126</th>\n",
       "      <td>Re 問題 土航 無法 上報 不好意思 回覆 有點 文章 遇到 狀況 登記 時間 24 小時...</td>\n",
       "      <td>Aviation</td>\n",
       "      <td>Japan_Travel</td>\n",
       "    </tr>\n",
       "    <tr>\n",
       "      <th>147</th>\n",
       "      <td>問題 日航 A350 專為 日本 國內 設計 不好意思 奇怪 問題 波音 747 專為 日本...</td>\n",
       "      <td>Aviation</td>\n",
       "      <td>Japan_Travel</td>\n",
       "    </tr>\n",
       "    <tr>\n",
       "      <th>148</th>\n",
       "      <td>問題 護照 更改 別名 起因 朋友 訂票 蠢事 當時 改了 中文 名字 還沒去 換新 護照 ...</td>\n",
       "      <td>Aviation</td>\n",
       "      <td>Japan_Travel</td>\n",
       "    </tr>\n",
       "    <tr>\n",
       "      <th>153</th>\n",
       "      <td>問題 美國 安檢 電子 用品 拿出 背包 以往 TSA 手機 筆電 電子 用品 背包 放到 ...</td>\n",
       "      <td>Aviation</td>\n",
       "      <td>Japan_Travel</td>\n",
       "    </tr>\n",
       "    <tr>\n",
       "      <th>158</th>\n",
       "      <td>問題 飛機 起飛時 有種 味道 氣體 飛機 有個 疑惑 飛機 起飛 艙內 釋放 氣體 聞起來...</td>\n",
       "      <td>Aviation</td>\n",
       "      <td>Japan_Travel</td>\n",
       "    </tr>\n",
       "    <tr>\n",
       "      <th>185</th>\n",
       "      <td>問題 日航 機票 收據 日航 網站 購買 日本 國內 外國人 優惠 付款 收到 電子機票 m...</td>\n",
       "      <td>Aviation</td>\n",
       "      <td>Japan_Travel</td>\n",
       "    </tr>\n",
       "    <tr>\n",
       "      <th>202</th>\n",
       "      <td>問題 台灣飛 紐約 航班 推薦 六月 想要 美東 旅行 預計 紐約 時間 稍微 寶貴 飛機 ...</td>\n",
       "      <td>Aviation</td>\n",
       "      <td>Korea_Travel</td>\n",
       "    </tr>\n",
       "    <tr>\n",
       "      <th>206</th>\n",
       "      <td>問題 年度 甲類 航醫 體檢 問題 詢問 請問 年度 體檢 首次 新進人員 體檢 項目 耗費...</td>\n",
       "      <td>Aviation</td>\n",
       "      <td>Japan_Travel</td>\n",
       "    </tr>\n",
       "    <tr>\n",
       "      <th>209</th>\n",
       "      <td>新加坡 樟宜機場 SATSPremierLounge 2024.1 兩天 有圖 部落 格版 ...</td>\n",
       "      <td>Aviation</td>\n",
       "      <td>Japan_Travel</td>\n",
       "    </tr>\n",
       "    <tr>\n",
       "      <th>223</th>\n",
       "      <td>問題 樂桃虎航 隨身 檢查 範圍 服務 廉航 新手 請益 問題 一因 看板友 大包 隨身 用...</td>\n",
       "      <td>Aviation</td>\n",
       "      <td>Japan_Travel</td>\n",
       "    </tr>\n",
       "    <tr>\n",
       "      <th>228</th>\n",
       "      <td>問題 虎般 更改 護照 號碼 最近 想訂 虎航 驚覺 訂位 護照 號碼 嬰兒 護照 還沒 申...</td>\n",
       "      <td>Aviation</td>\n",
       "      <td>Japan_Travel</td>\n",
       "    </tr>\n",
       "    <tr>\n",
       "      <th>232</th>\n",
       "      <td>台北 松山 機場貴賓室 早餐 午餐 時段 心得 2023.12 2024.1 有圖 部落 格...</td>\n",
       "      <td>Aviation</td>\n",
       "      <td>Japan_Travel</td>\n",
       "    </tr>\n",
       "    <tr>\n",
       "      <th>245</th>\n",
       "      <td>問題 華航 網路 報到 失敗 無法 選位 新加坡 台北 48 小時 網路 報到 位置 正常 ...</td>\n",
       "      <td>Aviation</td>\n",
       "      <td>Japan_Travel</td>\n",
       "    </tr>\n",
       "    <tr>\n",
       "      <th>252</th>\n",
       "      <td>出國 試試 桃機裡 餐廳 家族 疫情 春節 出國 日本 過年 提早到 機場 光顧 餐廳 普普...</td>\n",
       "      <td>Aviation</td>\n",
       "      <td>Japan_Travel</td>\n",
       "    </tr>\n",
       "    <tr>\n",
       "      <th>272</th>\n",
       "      <td>問題 名字 問題 請教 護照 ccc aaa bbb 訂機票 小心 打成 ccc aaabb...</td>\n",
       "      <td>Aviation</td>\n",
       "      <td>Japan_Travel</td>\n",
       "    </tr>\n",
       "    <tr>\n",
       "      <th>281</th>\n",
       "      <td>閒聊 來回 分開 便宜 預計 九月 弟弟 大阪 犒賞 機票 CI156 CI153 買樂活 ...</td>\n",
       "      <td>Aviation</td>\n",
       "      <td>Japan_Travel</td>\n",
       "    </tr>\n",
       "    <tr>\n",
       "      <th>285</th>\n",
       "      <td>Re 閒聊 來回 分開 便宜 有點 看不懂 問題 台日線 大多數 機票 計價 貨幣 出發地 ...</td>\n",
       "      <td>Aviation</td>\n",
       "      <td>Japan_Travel</td>\n",
       "    </tr>\n",
       "    <tr>\n",
       "      <th>303</th>\n",
       "      <td>Fw 遊記 ANA 外國人 優惠機票 退票 札幌 女滿別 作者 milkpa 風中 狂歌 傻...</td>\n",
       "      <td>Aviation</td>\n",
       "      <td>Japan_Travel</td>\n",
       "    </tr>\n",
       "    <tr>\n",
       "      <th>304</th>\n",
       "      <td>樂桃 MM860 班機 台北 時間 55 起飛 實際上 幾點 起飛 有點 忘記 落地 時間 ...</td>\n",
       "      <td>Aviation</td>\n",
       "      <td>Japan_Travel</td>\n",
       "    </tr>\n",
       "    <tr>\n",
       "      <th>311</th>\n",
       "      <td>問題 60L 登山包 搭易捷 酷航 https imgur com oJ1H5I8 jpg ...</td>\n",
       "      <td>Aviation</td>\n",
       "      <td>Japan_Travel</td>\n",
       "    </tr>\n",
       "    <tr>\n",
       "      <th>319</th>\n",
       "      <td>問題 長榮航空 小孩 單程 機票 問題 前輩 工作 關係 小孩 韓國 媽媽 回台灣 工作 請...</td>\n",
       "      <td>Aviation</td>\n",
       "      <td>Korea_Travel</td>\n",
       "    </tr>\n",
       "    <tr>\n",
       "      <th>325</th>\n",
       "      <td>問題 航廈 checkin 請問 華航 日本 航廈 第一 航廈 櫃台 check 運行 一航...</td>\n",
       "      <td>Aviation</td>\n",
       "      <td>Japan_Travel</td>\n",
       "    </tr>\n",
       "    <tr>\n",
       "      <th>330</th>\n",
       "      <td>閒聊 華信 AE335 發動機 故障 折返 目擊者 發動機 一側 不轉 著陸 機場 消防車 ...</td>\n",
       "      <td>Aviation</td>\n",
       "      <td>Japan_Travel</td>\n",
       "    </tr>\n",
       "    <tr>\n",
       "      <th>332</th>\n",
       "      <td>問題 緊急 逃生 出口 座位 網路 報到 AirDo 千歲 東京 畫了 緊急 逃生 出口 座...</td>\n",
       "      <td>Aviation</td>\n",
       "      <td>Japan_Travel</td>\n",
       "    </tr>\n",
       "    <tr>\n",
       "      <th>334</th>\n",
       "      <td>問題 A359 垂直 尾翼 後方 擾流板 日前 拍機 A359 垂直 尾翼 後方 一小塊 掀...</td>\n",
       "      <td>Aviation</td>\n",
       "      <td>Japan_Travel</td>\n",
       "    </tr>\n",
       "    <tr>\n",
       "      <th>344</th>\n",
       "      <td>閒聊 韓計畫 除役 A220 大韓航空 KE 首爾 仁川 報道 希望 退役 十架 A220 ...</td>\n",
       "      <td>Aviation</td>\n",
       "      <td>Korea_Travel</td>\n",
       "    </tr>\n",
       "    <tr>\n",
       "      <th>350</th>\n",
       "      <td>ANA 里程 開票 TPE SIN Hi 資訊 方便 後續 類似 問題 朋友 參考 行程 T...</td>\n",
       "      <td>Aviation</td>\n",
       "      <td>Japan_Travel</td>\n",
       "    </tr>\n",
       "    <tr>\n",
       "      <th>352</th>\n",
       "      <td>問題 越南 電子 簽證 機場 入境 電子 簽證 申請 胡志明 機場 如同 想改 班機 河內 ...</td>\n",
       "      <td>Aviation</td>\n",
       "      <td>Japan_Travel</td>\n",
       "    </tr>\n",
       "    <tr>\n",
       "      <th>356</th>\n",
       "      <td>Fw 遊記 捷星 日本 GK408 愛媛 松山 成田 飛行紀錄 簡易 心得 這次 訂購 日本...</td>\n",
       "      <td>Aviation</td>\n",
       "      <td>Japan_Travel</td>\n",
       "    </tr>\n",
       "    <tr>\n",
       "      <th>358</th>\n",
       "      <td>閒聊 機長 廣播 清楚 機長 廣播 聽懂 模糊 聽力 不好 其他人 機長 廣播 覺得 難懂</td>\n",
       "      <td>Aviation</td>\n",
       "      <td>Japan_Travel</td>\n",
       "    </tr>\n",
       "    <tr>\n",
       "      <th>369</th>\n",
       "      <td>Re 閒聊 NASA 飛機 台灣 NASA 規劃 行程 觀測 機依 天氣狀況 第二趟 預計 ...</td>\n",
       "      <td>Aviation</td>\n",
       "      <td>Korea_Travel</td>\n",
       "    </tr>\n",
       "    <tr>\n",
       "      <th>370</th>\n",
       "      <td>閒聊 2024 01 部分 航空公司 載客率 https www caa gov tw ar...</td>\n",
       "      <td>Aviation</td>\n",
       "      <td>Japan_Travel</td>\n",
       "    </tr>\n",
       "    <tr>\n",
       "      <th>373</th>\n",
       "      <td>問題 網路 報到 護照 效期 填錯 如題 後天 28 飛機 起床 預約 報到 選位 是剛 睡...</td>\n",
       "      <td>Aviation</td>\n",
       "      <td>Japan_Travel</td>\n",
       "    </tr>\n",
       "    <tr>\n",
       "      <th>375</th>\n",
       "      <td>問題 七月 成田 轉機 七月 日本 國際 機票 已經 買好 國內 線還 查到 同樣 成田 轉...</td>\n",
       "      <td>Aviation</td>\n",
       "      <td>Japan_Travel</td>\n",
       "    </tr>\n",
       "    <tr>\n",
       "      <th>397</th>\n",
       "      <td>問題 星宇 獎勵 哩程 到期 起哩程 兌換 異動 看哩程 能換 2023 12 被扣 一筆 ...</td>\n",
       "      <td>Aviation</td>\n",
       "      <td>Japan_Travel</td>\n",
       "    </tr>\n",
       "  </tbody>\n",
       "</table>\n",
       "</div>"
      ],
      "text/plain": [
       "                                                 words artCatagory  \\\n",
       "4    羽田 火災 https www youtube com live 6NLUoAmlm0A s...    Aviation   \n",
       "6    問題 桃機 信用卡 外圍 停車 請問 預計 一月底 出國 正在 考慮 自駕 接送 信用卡 配...    Aviation   \n",
       "21   JL516 國交 公布 英文 ATC 抄件 https imgur com xKTJOji ...    Aviation   \n",
       "24   問題 飛越 北極點 航線 心血來潮 飛越 北極點 固定 航班 沒想到 查不到 最多 俄羅斯 ...    Aviation   \n",
       "35   海保機 24 小時 執行 三次 任務 報導 39 海保機 機長 宮本 元氣 週一 鳥島 海域...    Aviation   \n",
       "37   閒聊 日航 事故 客艙 疏散 過程 分鐘 影片 日本 ANN 新聞頻道 一部 剪輯 分鐘 客...    Aviation   \n",
       "42   問題 英法 旅遊 行李 小弟 預計 一月底 英國 旅行 歐洲 之星 法國 兩地 11 回程 ...    Aviation   \n",
       "44   空中 浩劫 S24E05 中華航空 676 班機 劇照 https imgur com 7j...    Aviation   \n",
       "66   新聞 關西機場 逐年 下沉 40 搶救 專家 2056 消失 https news tvbs...    Aviation   \n",
       "70   空港 3FANA 飛機 自動 販賣 昨天 大雪 交通 臨時 問題 提早到 空港 晃晃 下雪 ...    Aviation   \n",
       "93   閒聊 韓國 10 機場 算是 舊聞 航空 討論 韓國 15 機場 https imgur c...    Aviation   \n",
       "96   問題 JA894a NH851 同一 台寶可夢 彩虹 http imgur com rUab...    Aviation   \n",
       "104  閒聊 濟州 機場 運量 韓國 觀光 不差 嚴格來說 世界 普通 程度 火山島 韓國 真的 很...    Aviation   \n",
       "108  問題 機捷 捷運 預掛 行李 使用 班機 起飛時間 太早 30 想到 機捷 A3 前一天 預...    Aviation   \n",
       "117  問題 ANA 日本 國內 同一個 航班 重複 訂位 作者 TsukasaLove LOVE ...    Aviation   \n",
       "126  Re 問題 土航 無法 上報 不好意思 回覆 有點 文章 遇到 狀況 登記 時間 24 小時...    Aviation   \n",
       "147  問題 日航 A350 專為 日本 國內 設計 不好意思 奇怪 問題 波音 747 專為 日本...    Aviation   \n",
       "148  問題 護照 更改 別名 起因 朋友 訂票 蠢事 當時 改了 中文 名字 還沒去 換新 護照 ...    Aviation   \n",
       "153  問題 美國 安檢 電子 用品 拿出 背包 以往 TSA 手機 筆電 電子 用品 背包 放到 ...    Aviation   \n",
       "158  問題 飛機 起飛時 有種 味道 氣體 飛機 有個 疑惑 飛機 起飛 艙內 釋放 氣體 聞起來...    Aviation   \n",
       "185  問題 日航 機票 收據 日航 網站 購買 日本 國內 外國人 優惠 付款 收到 電子機票 m...    Aviation   \n",
       "202  問題 台灣飛 紐約 航班 推薦 六月 想要 美東 旅行 預計 紐約 時間 稍微 寶貴 飛機 ...    Aviation   \n",
       "206  問題 年度 甲類 航醫 體檢 問題 詢問 請問 年度 體檢 首次 新進人員 體檢 項目 耗費...    Aviation   \n",
       "209  新加坡 樟宜機場 SATSPremierLounge 2024.1 兩天 有圖 部落 格版 ...    Aviation   \n",
       "223  問題 樂桃虎航 隨身 檢查 範圍 服務 廉航 新手 請益 問題 一因 看板友 大包 隨身 用...    Aviation   \n",
       "228  問題 虎般 更改 護照 號碼 最近 想訂 虎航 驚覺 訂位 護照 號碼 嬰兒 護照 還沒 申...    Aviation   \n",
       "232  台北 松山 機場貴賓室 早餐 午餐 時段 心得 2023.12 2024.1 有圖 部落 格...    Aviation   \n",
       "245  問題 華航 網路 報到 失敗 無法 選位 新加坡 台北 48 小時 網路 報到 位置 正常 ...    Aviation   \n",
       "252  出國 試試 桃機裡 餐廳 家族 疫情 春節 出國 日本 過年 提早到 機場 光顧 餐廳 普普...    Aviation   \n",
       "272  問題 名字 問題 請教 護照 ccc aaa bbb 訂機票 小心 打成 ccc aaabb...    Aviation   \n",
       "281  閒聊 來回 分開 便宜 預計 九月 弟弟 大阪 犒賞 機票 CI156 CI153 買樂活 ...    Aviation   \n",
       "285  Re 閒聊 來回 分開 便宜 有點 看不懂 問題 台日線 大多數 機票 計價 貨幣 出發地 ...    Aviation   \n",
       "303  Fw 遊記 ANA 外國人 優惠機票 退票 札幌 女滿別 作者 milkpa 風中 狂歌 傻...    Aviation   \n",
       "304  樂桃 MM860 班機 台北 時間 55 起飛 實際上 幾點 起飛 有點 忘記 落地 時間 ...    Aviation   \n",
       "311  問題 60L 登山包 搭易捷 酷航 https imgur com oJ1H5I8 jpg ...    Aviation   \n",
       "319  問題 長榮航空 小孩 單程 機票 問題 前輩 工作 關係 小孩 韓國 媽媽 回台灣 工作 請...    Aviation   \n",
       "325  問題 航廈 checkin 請問 華航 日本 航廈 第一 航廈 櫃台 check 運行 一航...    Aviation   \n",
       "330  閒聊 華信 AE335 發動機 故障 折返 目擊者 發動機 一側 不轉 著陸 機場 消防車 ...    Aviation   \n",
       "332  問題 緊急 逃生 出口 座位 網路 報到 AirDo 千歲 東京 畫了 緊急 逃生 出口 座...    Aviation   \n",
       "334  問題 A359 垂直 尾翼 後方 擾流板 日前 拍機 A359 垂直 尾翼 後方 一小塊 掀...    Aviation   \n",
       "344  閒聊 韓計畫 除役 A220 大韓航空 KE 首爾 仁川 報道 希望 退役 十架 A220 ...    Aviation   \n",
       "350  ANA 里程 開票 TPE SIN Hi 資訊 方便 後續 類似 問題 朋友 參考 行程 T...    Aviation   \n",
       "352  問題 越南 電子 簽證 機場 入境 電子 簽證 申請 胡志明 機場 如同 想改 班機 河內 ...    Aviation   \n",
       "356  Fw 遊記 捷星 日本 GK408 愛媛 松山 成田 飛行紀錄 簡易 心得 這次 訂購 日本...    Aviation   \n",
       "358      閒聊 機長 廣播 清楚 機長 廣播 聽懂 模糊 聽力 不好 其他人 機長 廣播 覺得 難懂    Aviation   \n",
       "369  Re 閒聊 NASA 飛機 台灣 NASA 規劃 行程 觀測 機依 天氣狀況 第二趟 預計 ...    Aviation   \n",
       "370  閒聊 2024 01 部分 航空公司 載客率 https www caa gov tw ar...    Aviation   \n",
       "373  問題 網路 報到 護照 效期 填錯 如題 後天 28 飛機 起床 預約 報到 選位 是剛 睡...    Aviation   \n",
       "375  問題 七月 成田 轉機 七月 日本 國際 機票 已經 買好 國內 線還 查到 同樣 成田 轉...    Aviation   \n",
       "397  問題 星宇 獎勵 哩程 到期 起哩程 兌換 異動 看哩程 能換 2023 12 被扣 一筆 ...    Aviation   \n",
       "\n",
       "             pred  \n",
       "4    Japan_Travel  \n",
       "6    Japan_Travel  \n",
       "21   Japan_Travel  \n",
       "24   Japan_Travel  \n",
       "35   Japan_Travel  \n",
       "37   Japan_Travel  \n",
       "42   Japan_Travel  \n",
       "44   Japan_Travel  \n",
       "66   Japan_Travel  \n",
       "70   Japan_Travel  \n",
       "93   Korea_Travel  \n",
       "96   Japan_Travel  \n",
       "104  Korea_Travel  \n",
       "108  Japan_Travel  \n",
       "117  Japan_Travel  \n",
       "126  Japan_Travel  \n",
       "147  Japan_Travel  \n",
       "148  Japan_Travel  \n",
       "153  Japan_Travel  \n",
       "158  Japan_Travel  \n",
       "185  Japan_Travel  \n",
       "202  Korea_Travel  \n",
       "206  Japan_Travel  \n",
       "209  Japan_Travel  \n",
       "223  Japan_Travel  \n",
       "228  Japan_Travel  \n",
       "232  Japan_Travel  \n",
       "245  Japan_Travel  \n",
       "252  Japan_Travel  \n",
       "272  Japan_Travel  \n",
       "281  Japan_Travel  \n",
       "285  Japan_Travel  \n",
       "303  Japan_Travel  \n",
       "304  Japan_Travel  \n",
       "311  Japan_Travel  \n",
       "319  Korea_Travel  \n",
       "325  Japan_Travel  \n",
       "330  Japan_Travel  \n",
       "332  Japan_Travel  \n",
       "334  Japan_Travel  \n",
       "344  Korea_Travel  \n",
       "350  Japan_Travel  \n",
       "352  Japan_Travel  \n",
       "356  Japan_Travel  \n",
       "358  Japan_Travel  \n",
       "369  Korea_Travel  \n",
       "370  Japan_Travel  \n",
       "373  Japan_Travel  \n",
       "375  Japan_Travel  \n",
       "397  Japan_Travel  "
      ]
     },
     "execution_count": 49,
     "metadata": {},
     "output_type": "execute_result"
    }
   ],
   "source": [
    "false_pred.loc[false_pred['artCatagory']=='Aviation', :].head(50)"
   ]
  },
  {
   "cell_type": "code",
   "execution_count": 50,
   "metadata": {},
   "outputs": [
    {
     "data": {
      "text/plain": [
       "words          問題 網路 報到 護照 效期 填錯 如題 後天 28 飛機 起床 預約 報到 選位 是剛 睡...\n",
       "artCatagory                                             Aviation\n",
       "pred                                                Japan_Travel\n",
       "Name: 373, dtype: object"
      ]
     },
     "execution_count": 50,
     "metadata": {},
     "output_type": "execute_result"
    }
   ],
   "source": [
    "false_pred.loc[373, :]"
   ]
  },
  {
   "cell_type": "code",
   "execution_count": 51,
   "metadata": {},
   "outputs": [
    {
     "name": "stdout",
     "output_type": "stream",
     "text": [
      "('問題 網路 報到 護照 效期 填錯 如題 後天 28 飛機 起床 預約 報到 選位 是剛 睡醒 腦袋 轉不 過來 預約 報到 護照 效期 填錯 回想起來 '\n",
      " '驚覺 填錯 請問 取消 報到 重新 填報 我怕 取消 報到 系統 認定 我要 改票 取消 機票 現場 櫃台 處理 重新 報到 網路 報到 填錯 資料 '\n",
      " '收費 感謝 Sent from JPTT on my Samsung SM S9180')\n"
     ]
    }
   ],
   "source": [
    "pprint(false_pred['words'][373])"
   ]
  },
  {
   "cell_type": "markdown",
   "metadata": {},
   "source": [
    "<font color=#ffa>模型對於航空版的辨識能力，相較日旅版 & 韓旅版分類結果較普通。可以看到航空版的 precision 與 recall 都相對低，從預測結果來看，可以發現ptt中，航空版的討論也常常會提及機場地名，飛行目的地...，因而出現東京、大阪、札幌等字樣，使模型預測成「日旅」/「韓旅」。</font>"
   ]
  },
  {
   "cell_type": "markdown",
   "metadata": {},
   "source": [
    "* accuracy可能會因為資料分布不同而有所偏差，所以評估模型的時候，可以加入一起 F1-score, recall, precision, AUC 等常見分類任務指標來評估。"
   ]
  }
 ],
 "metadata": {
  "kernelspec": {
   "display_name": "Python 3",
   "language": "python",
   "name": "python3"
  },
  "language_info": {
   "codemirror_mode": {
    "name": "ipython",
    "version": 3
   },
   "file_extension": ".py",
   "mimetype": "text/x-python",
   "name": "python",
   "nbconvert_exporter": "python",
   "pygments_lexer": "ipython3",
   "version": "3.10.7"
  }
 },
 "nbformat": 4,
 "nbformat_minor": 4
}
