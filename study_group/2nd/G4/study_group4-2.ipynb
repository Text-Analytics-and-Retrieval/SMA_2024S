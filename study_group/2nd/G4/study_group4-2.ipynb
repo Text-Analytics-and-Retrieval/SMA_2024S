{
 "cells": [
  {
   "attachments": {},
   "cell_type": "markdown",
   "metadata": {},
   "source": [
    "# 文件分類\n",
    "\n",
    "本次練習為「文件分類」，主要使用文章轉DTM(document term matrix)的方式，將文章用不同的字詞分布表示，再利用python的sklearn套件，套用決策樹、logistic regression等方式訓練模型，以分辨不同的文件。本篇 Jupyter Notebook 將展示「中文」的文件分類，使用聯合新聞網的三個版別文章做示範。"
   ]
  },
  {
   "attachments": {},
   "cell_type": "markdown",
   "metadata": {},
   "source": [
    "## 分析目標\n",
    "+ 資料內容：\n",
    "    + 資料來源：聯合新聞網\n",
    "    + 版別：財經、社會、全球\n",
    "    + 時間範圍：2024/01/01 ~ 2024/01/13\n",
    "        + 聯合新聞網的版別：產經、股市、社會、國際、要聞\n",
    "        + 聯合新聞網的產經版與股市版合併為財經版\n",
    "            + 產經(produce)、股市(stock) -> 財經(economy)\n",
    "        + 東森新聞網的版別：政治、社會、國際、財經\n",
    "        + 東森新聞網的政治板對應到聯合新聞網的要聞板\n",
    "            + 政治(politics) -> 要聞(news)\n",
    "\n",
    "* 分析主題：將聯合新聞網三個版別的文章合起來，訓練模型能預測新聞版別，再用分類模型進行文件的版別分類。\n",
    "\n",
    "* 以下為教學目標：\n",
    "    1. 如何將以數字向量代表一篇文章？\n",
    "        * `CountVectorizer`\n",
    "        * `TfidfVectorizer`\n",
    "    2. 基本的分類模型流程，包含以下三步驟：\n",
    "        * 前處理 (preprocess)\n",
    "        * 建模 (train model)\n",
    "        * 評估與預測 (evaluation and predict)\n",
    "    3. cross validation\n",
    "    4. 不同分類器的效果\n",
    "    5. 可解釋的可視化模型結果\n",
    "    6. 預測其他家新聞文章的版別"
   ]
  },
  {
   "attachments": {},
   "cell_type": "markdown",
   "metadata": {},
   "source": [
    "## 1. 套件說明\n",
    "下面列出在本次實作過程中我們所使用到的相關套件，在這個Jupyter Notebook當中我們將會簡單的展示這些套件的使用方式，關於各個套件的進階使用請同學參照其官網的說明。\n",
    "- **sklearn**: 全名為Scikit-learn，機器學習的常用建模套件，包含各種分群、分類、迴歸模型，如隨機森林、SVM或 K-means 等。\n",
    "- pandas: 一個資料分析的函式庫，提供了DataFrame等資料格式，與資料處理的函數。\n",
    "- jieba: 結巴套件，中文斷詞套件\n",
    "- seaborn: 基於 matplotlib 封裝的繪圖工具  "
   ]
  },
  {
   "cell_type": "code",
   "execution_count": 3,
   "metadata": {},
   "outputs": [
    {
     "name": "stdout",
     "output_type": "stream",
     "text": [
      "Collecting seaborn\n",
      "  Downloading seaborn-0.13.2-py3-none-any.whl (294 kB)\n",
      "Requirement already satisfied: matplotlib!=3.6.1,>=3.4 in c:\\users\\asus\\appdata\\local\\programs\\python\\python39\\lib\\site-packages (from seaborn) (3.8.3)\n",
      "Requirement already satisfied: numpy!=1.24.0,>=1.20 in c:\\users\\asus\\appdata\\local\\programs\\python\\python39\\lib\\site-packages (from seaborn) (1.26.4)\n",
      "Requirement already satisfied: pandas>=1.2 in c:\\users\\asus\\appdata\\local\\programs\\python\\python39\\lib\\site-packages (from seaborn) (2.2.1)\n",
      "Requirement already satisfied: contourpy>=1.0.1 in c:\\users\\asus\\appdata\\local\\programs\\python\\python39\\lib\\site-packages (from matplotlib!=3.6.1,>=3.4->seaborn) (1.2.0)\n",
      "Requirement already satisfied: fonttools>=4.22.0 in c:\\users\\asus\\appdata\\local\\programs\\python\\python39\\lib\\site-packages (from matplotlib!=3.6.1,>=3.4->seaborn) (4.50.0)\n",
      "Requirement already satisfied: packaging>=20.0 in c:\\users\\asus\\appdata\\local\\programs\\python\\python39\\lib\\site-packages (from matplotlib!=3.6.1,>=3.4->seaborn) (20.9)\n",
      "Requirement already satisfied: pyparsing>=2.3.1 in c:\\users\\asus\\appdata\\local\\programs\\python\\python39\\lib\\site-packages (from matplotlib!=3.6.1,>=3.4->seaborn) (2.4.7)\n",
      "Requirement already satisfied: importlib-resources>=3.2.0 in c:\\users\\asus\\appdata\\local\\programs\\python\\python39\\lib\\site-packages (from matplotlib!=3.6.1,>=3.4->seaborn) (6.3.2)\n",
      "Requirement already satisfied: cycler>=0.10 in c:\\users\\asus\\appdata\\local\\programs\\python\\python39\\lib\\site-packages (from matplotlib!=3.6.1,>=3.4->seaborn) (0.12.1)\n",
      "Requirement already satisfied: kiwisolver>=1.3.1 in c:\\users\\asus\\appdata\\local\\programs\\python\\python39\\lib\\site-packages (from matplotlib!=3.6.1,>=3.4->seaborn) (1.4.5)\n",
      "Requirement already satisfied: python-dateutil>=2.7 in c:\\users\\asus\\appdata\\local\\programs\\python\\python39\\lib\\site-packages (from matplotlib!=3.6.1,>=3.4->seaborn) (2.9.0.post0)\n",
      "Requirement already satisfied: pillow>=8 in c:\\users\\asus\\appdata\\local\\programs\\python\\python39\\lib\\site-packages (from matplotlib!=3.6.1,>=3.4->seaborn) (10.2.0)\n",
      "Requirement already satisfied: zipp>=3.1.0 in c:\\users\\asus\\appdata\\local\\programs\\python\\python39\\lib\\site-packages (from importlib-resources>=3.2.0->matplotlib!=3.6.1,>=3.4->seaborn) (3.18.1)\n",
      "Requirement already satisfied: tzdata>=2022.7 in c:\\users\\asus\\appdata\\local\\programs\\python\\python39\\lib\\site-packages (from pandas>=1.2->seaborn) (2024.1)\n",
      "Requirement already satisfied: pytz>=2020.1 in c:\\users\\asus\\appdata\\local\\programs\\python\\python39\\lib\\site-packages (from pandas>=1.2->seaborn) (2024.1)\n",
      "Requirement already satisfied: six>=1.5 in c:\\users\\asus\\appdata\\local\\programs\\python\\python39\\lib\\site-packages (from python-dateutil>=2.7->matplotlib!=3.6.1,>=3.4->seaborn) (1.16.0)\n",
      "Installing collected packages: seaborn\n",
      "Successfully installed seaborn-0.13.2\n",
      "Note: you may need to restart the kernel to use updated packages.\n"
     ]
    },
    {
     "name": "stderr",
     "output_type": "stream",
     "text": [
      "WARNING: You are using pip version 21.1.1; however, version 24.0 is available.\n",
      "You should consider upgrading via the 'c:\\Users\\ASUS\\AppData\\Local\\Programs\\Python\\Python39\\python.exe -m pip install --upgrade pip' command.\n"
     ]
    }
   ],
   "source": [
    "%pip install seaborn"
   ]
  },
  {
   "cell_type": "code",
   "execution_count": 4,
   "metadata": {
    "ExecuteTime": {
     "end_time": "2024-04-08T01:59:41.646092Z",
     "start_time": "2024-04-08T01:59:41.640745Z"
    }
   },
   "outputs": [],
   "source": [
    "import re\n",
    "from pprint import pprint\n",
    "\n",
    "import pandas as pd\n",
    "import numpy as np\n",
    "import matplotlib.pyplot as plt\n",
    "import seaborn as sns\n",
    "import jieba\n",
    "from sklearn.model_selection import train_test_split, cross_validate, cross_val_predict, KFold\n",
    "from sklearn.metrics import (\n",
    "    confusion_matrix,\n",
    "    classification_report,\n",
    "    roc_curve,\n",
    "    auc,\n",
    "    precision_recall_curve,\n",
    "    RocCurveDisplay\n",
    ")\n",
    "from sklearn.feature_extraction.text import TfidfVectorizer, CountVectorizer\n",
    "from sklearn.preprocessing import LabelBinarizer\n",
    "from sklearn.linear_model import LogisticRegression\n",
    "from sklearn.naive_bayes import GaussianNB\n",
    "from sklearn.tree import DecisionTreeClassifier, plot_tree\n",
    "from sklearn.ensemble import RandomForestClassifier\n",
    "from sklearn import svm\n",
    "\n",
    "from matplotlib import font_manager"
   ]
  },
  {
   "cell_type": "markdown",
   "metadata": {},
   "source": [
    "設定中文字體 "
   ]
  },
  {
   "cell_type": "code",
   "execution_count": 5,
   "metadata": {
    "ExecuteTime": {
     "end_time": "2024-04-08T01:59:43.906055Z",
     "start_time": "2024-04-08T01:59:43.900059Z"
    }
   },
   "outputs": [
    {
     "name": "stdout",
     "output_type": "stream",
     "text": [
      "Found font: Noto Sans TC\n"
     ]
    }
   ],
   "source": [
    "# Path to the custom font\n",
    "font_path = 'font/TraditionalChinese.ttf'\n",
    "\n",
    "# Add the custom font to the font manager\n",
    "font_manager.fontManager.addfont(font_path)\n",
    "\n",
    "# After adding the font, search for it by filename to get the correct font name\n",
    "for font in font_manager.fontManager.ttflist:\n",
    "    if font.fname == font_path:\n",
    "        print(f\"Found font: {font.name}\")\n",
    "        plt.rcParams['font.family'] = font.name\n",
    "        break"
   ]
  },
  {
   "cell_type": "code",
   "execution_count": 6,
   "metadata": {
    "ExecuteTime": {
     "end_time": "2024-04-08T01:59:45.054065Z",
     "start_time": "2024-04-08T01:59:44.890791Z"
    }
   },
   "outputs": [
    {
     "data": {
      "text/plain": [
       "Text(0.5, 1.0, '聲量圖')"
      ]
     },
     "execution_count": 6,
     "metadata": {},
     "output_type": "execute_result"
    },
    {
     "data": {
      "image/png": "[encoded data removed]",
      "text/plain": [
       "<Figure size 432x288 with 1 Axes>"
      ]
     },
     "metadata": {
      "needs_background": "light"
     },
     "output_type": "display_data"
    }
   ],
   "source": [
    "plt.plot((1, 2, 3), (4, 3, -1))\n",
    "plt.title(\"聲量圖\")"
   ]
  },
  {
   "cell_type": "markdown",
   "metadata": {},
   "source": [
    "# 2. 文字前處理\n",
    "`聯合新聞.csv`裡面包含了要分析的 udn 新聞資料。\n",
    "- 版別：全球(global)、社會(social)、產經(produce)、股市(stock)、要聞(important)\n",
    "- 時間範圍：2024-01-01 ~ 2024-01-13 (總統大選前)\n",
    "- 工作流程平台搜尋/排除關鍵字：無\n",
    " "
   ]
  },
  {
   "cell_type": "code",
   "execution_count": 7,
   "metadata": {
    "ExecuteTime": {
     "end_time": "2024-04-08T02:51:35.058134Z",
     "start_time": "2024-04-08T02:51:34.741192Z"
    },
    "scrolled": true
   },
   "outputs": [
    {
     "data": {
      "text/html": [
       "<div>\n",
       "<style scoped>\n",
       "    .dataframe tbody tr th:only-of-type {\n",
       "        vertical-align: middle;\n",
       "    }\n",
       "\n",
       "    .dataframe tbody tr th {\n",
       "        vertical-align: top;\n",
       "    }\n",
       "\n",
       "    .dataframe thead th {\n",
       "        text-align: right;\n",
       "    }\n",
       "</style>\n",
       "<table border=\"1\" class=\"dataframe\">\n",
       "  <thead>\n",
       "    <tr style=\"text-align: right;\">\n",
       "      <th></th>\n",
       "      <th>system_id</th>\n",
       "      <th>artTitle</th>\n",
       "      <th>artDate</th>\n",
       "      <th>artCatagory</th>\n",
       "      <th>artUrl</th>\n",
       "      <th>artContent</th>\n",
       "      <th>dataSource</th>\n",
       "    </tr>\n",
       "  </thead>\n",
       "  <tbody>\n",
       "    <tr>\n",
       "      <th>0</th>\n",
       "      <td>1</td>\n",
       "      <td>蔡總統主持元旦升旗 國防部長邱國正率將領參加</td>\n",
       "      <td>2024/1/1 10:27</td>\n",
       "      <td>要聞</td>\n",
       "      <td>https://udn.com/news/story/10930/7678307</td>\n",
       "      <td>國防部表示，蔡英文總統上午主持中華民國113年元旦總統府升旗典禮，國防部長邱國正、參謀總長梅...</td>\n",
       "      <td>UDN</td>\n",
       "    </tr>\n",
       "    <tr>\n",
       "      <th>1</th>\n",
       "      <td>2</td>\n",
       "      <td>F-16V廠級維修能量今年第一季驗證 台美還在對峙談判中</td>\n",
       "      <td>2024/1/1 10:29</td>\n",
       "      <td>要聞</td>\n",
       "      <td>https://udn.com/news/story/10930/7678314</td>\n",
       "      <td>空軍2025年開始陸續接裝66架F-16C/D BLOCK70戰機，國防部軍備局表示，正透過...</td>\n",
       "      <td>UDN</td>\n",
       "    </tr>\n",
       "    <tr>\n",
       "      <th>2</th>\n",
       "      <td>3</td>\n",
       "      <td>義務役新兵看過來 入伍結訓震撼教育攻略圖表在這裡</td>\n",
       "      <td>2024/1/1 11:16</td>\n",
       "      <td>要聞</td>\n",
       "      <td>https://udn.com/news/story/10930/7678409</td>\n",
       "      <td>2024年1月首波徵召入營600名一年制兵役役男，這些役男入伍後，將接受新兵訓練震撼教育。國...</td>\n",
       "      <td>UDN</td>\n",
       "    </tr>\n",
       "  </tbody>\n",
       "</table>\n",
       "</div>"
      ],
      "text/plain": [
       "   system_id                      artTitle         artDate artCatagory  \\\n",
       "0          1        蔡總統主持元旦升旗 國防部長邱國正率將領參加  2024/1/1 10:27          要聞   \n",
       "1          2  F-16V廠級維修能量今年第一季驗證 台美還在對峙談判中  2024/1/1 10:29          要聞   \n",
       "2          3      義務役新兵看過來 入伍結訓震撼教育攻略圖表在這裡  2024/1/1 11:16          要聞   \n",
       "\n",
       "                                     artUrl  \\\n",
       "0  https://udn.com/news/story/10930/7678307   \n",
       "1  https://udn.com/news/story/10930/7678314   \n",
       "2  https://udn.com/news/story/10930/7678409   \n",
       "\n",
       "                                          artContent dataSource  \n",
       "0  國防部表示，蔡英文總統上午主持中華民國113年元旦總統府升旗典禮，國防部長邱國正、參謀總長梅...        UDN  \n",
       "1  空軍2025年開始陸續接裝66架F-16C/D BLOCK70戰機，國防部軍備局表示，正透過...        UDN  \n",
       "2  2024年1月首波徵召入營600名一年制兵役役男，這些役男入伍後，將接受新兵訓練震撼教育。國...        UDN  "
      ]
     },
     "execution_count": 7,
     "metadata": {},
     "output_type": "execute_result"
    }
   ],
   "source": [
    "# 文字前處理\n",
    "udn = pd.read_csv(\"data/聯合日報最新.csv\")  # 匯資料\n",
    "udn.head(3)"
   ]
  },
  {
   "cell_type": "code",
   "execution_count": 8,
   "metadata": {
    "ExecuteTime": {
     "end_time": "2024-04-08T02:51:37.179767Z",
     "start_time": "2024-04-08T02:51:37.173591Z"
    }
   },
   "outputs": [
    {
     "name": "stdout",
     "output_type": "stream",
     "text": [
      "number of posts: 9480\n",
      "date range: ('2024/1/1 0:05', '2024/1/9 9:59')\n",
      "category: \n",
      "artCatagory\n",
      "要聞    3551\n",
      "產經    1806\n",
      "全球    1795\n",
      "股市    1232\n",
      "社會    1096\n",
      "Name: count, dtype: int64\n"
     ]
    }
   ],
   "source": [
    "# 看看有幾篇文章\n",
    "print(f\"number of posts: {udn.shape[0]}\")\n",
    "print(f\"date range: {(udn['artDate'].min(), udn['artDate'].max())}\")\n",
    "print(f\"category: \\n{udn['artCatagory'].value_counts()}\")"
   ]
  },
  {
   "cell_type": "markdown",
   "metadata": {},
   "source": [
    "**我們將聯合時報的產經版面與股市版面資料匯總，對應到東森新聞的財經版面**"
   ]
  },
  {
   "cell_type": "code",
   "execution_count": 9,
   "metadata": {
    "ExecuteTime": {
     "end_time": "2024-04-08T02:51:40.948678Z",
     "start_time": "2024-04-08T02:51:40.940914Z"
    }
   },
   "outputs": [
    {
     "name": "stdout",
     "output_type": "stream",
     "text": [
      "number of posts: 9480\n",
      "date range: ('2024/1/1 0:05', '2024/1/9 9:59')\n",
      "category: \n",
      "artCatagory\n",
      "要聞    3551\n",
      "財經    3038\n",
      "全球    1795\n",
      "社會    1096\n",
      "Name: count, dtype: int64\n"
     ]
    }
   ],
   "source": [
    "udn.loc[udn['artCatagory'].isin(['產經', '股市']), 'artCatagory'] = '財經'\n",
    "\n",
    "# 看看有幾篇文章\n",
    "print(f\"number of posts: {udn.shape[0]}\")\n",
    "print(f\"date range: {(udn['artDate'].min(), udn['artDate'].max())}\")\n",
    "print(f\"category: \\n{udn['artCatagory'].value_counts()}\")"
   ]
  },
  {
   "cell_type": "code",
   "execution_count": 10,
   "metadata": {
    "ExecuteTime": {
     "end_time": "2024-04-08T02:51:42.110352Z",
     "start_time": "2024-04-08T02:51:41.841485Z"
    }
   },
   "outputs": [],
   "source": [
    "udn.to_csv('data/聯合新聞_merge.csv')"
   ]
  },
  {
   "attachments": {},
   "cell_type": "markdown",
   "metadata": {},
   "source": [
    "### 2.1 清理 "
   ]
  },
  {
   "cell_type": "markdown",
   "metadata": {},
   "source": [
    "利用問號、句號或驚嘆號等符號斷句，或是如果出現中文或是英文的省略號，像是`...`也會斷句，最後設定會去除結尾的空白符號。 "
   ]
  },
  {
   "cell_type": "code",
   "execution_count": 11,
   "metadata": {
    "ExecuteTime": {
     "end_time": "2024-04-08T02:51:44.549252Z",
     "start_time": "2024-04-08T02:51:44.248885Z"
    }
   },
   "outputs": [
    {
     "data": {
      "text/html": [
       "<div>\n",
       "<style scoped>\n",
       "    .dataframe tbody tr th:only-of-type {\n",
       "        vertical-align: middle;\n",
       "    }\n",
       "\n",
       "    .dataframe tbody tr th {\n",
       "        vertical-align: top;\n",
       "    }\n",
       "\n",
       "    .dataframe thead th {\n",
       "        text-align: right;\n",
       "    }\n",
       "</style>\n",
       "<table border=\"1\" class=\"dataframe\">\n",
       "  <thead>\n",
       "    <tr style=\"text-align: right;\">\n",
       "      <th></th>\n",
       "      <th>system_id</th>\n",
       "      <th>artTitle</th>\n",
       "      <th>artDate</th>\n",
       "      <th>artCatagory</th>\n",
       "      <th>artUrl</th>\n",
       "      <th>artContent</th>\n",
       "      <th>dataSource</th>\n",
       "    </tr>\n",
       "  </thead>\n",
       "  <tbody>\n",
       "    <tr>\n",
       "      <th>0</th>\n",
       "      <td>1</td>\n",
       "      <td>蔡總統主持元旦升旗國防部長邱國正率將領參加</td>\n",
       "      <td>2024/1/1 10:27</td>\n",
       "      <td>要聞</td>\n",
       "      <td>https://udn.com/news/story/10930/7678307</td>\n",
       "      <td>國防部表示蔡英文總統上午主持中華民國年元旦總統府升旗典禮國防部長邱國正參謀總長梅家樹率將領與...</td>\n",
       "      <td>UDN</td>\n",
       "    </tr>\n",
       "    <tr>\n",
       "      <th>1</th>\n",
       "      <td>2</td>\n",
       "      <td>廠級維修能量今年第一季驗證台美還在對峙談判中</td>\n",
       "      <td>2024/1/1 10:29</td>\n",
       "      <td>要聞</td>\n",
       "      <td>https://udn.com/news/story/10930/7678314</td>\n",
       "      <td>空軍年開始陸續接裝架戰機國防部軍備局表示正透過談判爭取由漢翔建立廠級維修中心漢翔公司說維修中...</td>\n",
       "      <td>UDN</td>\n",
       "    </tr>\n",
       "    <tr>\n",
       "      <th>2</th>\n",
       "      <td>3</td>\n",
       "      <td>義務役新兵看過來入伍結訓震撼教育攻略圖表在這裡</td>\n",
       "      <td>2024/1/1 11:16</td>\n",
       "      <td>要聞</td>\n",
       "      <td>https://udn.com/news/story/10930/7678409</td>\n",
       "      <td>年月首波徵召入營名一年制兵役役男這些役男入伍後將接受新兵訓練震撼教育國防部說明震撼教育訓練場...</td>\n",
       "      <td>UDN</td>\n",
       "    </tr>\n",
       "  </tbody>\n",
       "</table>\n",
       "</div>"
      ],
      "text/plain": [
       "   system_id                 artTitle         artDate artCatagory  \\\n",
       "0          1    蔡總統主持元旦升旗國防部長邱國正率將領參加  2024/1/1 10:27          要聞   \n",
       "1          2   廠級維修能量今年第一季驗證台美還在對峙談判中  2024/1/1 10:29          要聞   \n",
       "2          3  義務役新兵看過來入伍結訓震撼教育攻略圖表在這裡  2024/1/1 11:16          要聞   \n",
       "\n",
       "                                     artUrl  \\\n",
       "0  https://udn.com/news/story/10930/7678307   \n",
       "1  https://udn.com/news/story/10930/7678314   \n",
       "2  https://udn.com/news/story/10930/7678409   \n",
       "\n",
       "                                          artContent dataSource  \n",
       "0  國防部表示蔡英文總統上午主持中華民國年元旦總統府升旗典禮國防部長邱國正參謀總長梅家樹率將領與...        UDN  \n",
       "1  空軍年開始陸續接裝架戰機國防部軍備局表示正透過談判爭取由漢翔建立廠級維修中心漢翔公司說維修中...        UDN  \n",
       "2  年月首波徵召入營名一年制兵役役男這些役男入伍後將接受新兵訓練震撼教育國防部說明震撼教育訓練場...        UDN  "
      ]
     },
     "execution_count": 11,
     "metadata": {},
     "output_type": "execute_result"
    }
   ],
   "source": [
    "# 過濾 nan 的資料\n",
    "udn = udn.dropna(subset=['artTitle'])\n",
    "udn = udn.dropna(subset=['artContent'])\n",
    "# 移除網址格式\n",
    "udn[\"artContent\"] = udn.artContent.apply(\n",
    "    lambda x: re.sub(\"(http|https)://.*\", \"\", x)\n",
    ")\n",
    "udn[\"artTitle\"] = udn[\"artTitle\"].apply(\n",
    "    lambda x: re.sub(\"(http|https)://.*\", \"\", x)\n",
    ")\n",
    "# 只留下中文字\n",
    "udn[\"artContent\"] = udn.artContent.apply(\n",
    "    lambda x: re.sub(\"[^\\u4e00-\\u9fa5]+\", \"\", x)\n",
    ")\n",
    "udn[\"artTitle\"] = udn[\"artTitle\"].apply(\n",
    "    lambda x: re.sub(\"[^\\u4e00-\\u9fa5]+\", \"\", x)\n",
    ")\n",
    "udn.head(3)"
   ]
  },
  {
   "cell_type": "markdown",
   "metadata": {},
   "source": [
    "文章的標題`artTitle`和內文`sentence`都會納入分析的內容，成為新的`content`欄位。 "
   ]
  },
  {
   "cell_type": "code",
   "execution_count": 12,
   "metadata": {
    "ExecuteTime": {
     "end_time": "2024-04-08T02:51:46.530580Z",
     "start_time": "2024-04-08T02:51:46.513409Z"
    }
   },
   "outputs": [
    {
     "data": {
      "text/html": [
       "<div>\n",
       "<style scoped>\n",
       "    .dataframe tbody tr th:only-of-type {\n",
       "        vertical-align: middle;\n",
       "    }\n",
       "\n",
       "    .dataframe tbody tr th {\n",
       "        vertical-align: top;\n",
       "    }\n",
       "\n",
       "    .dataframe thead th {\n",
       "        text-align: right;\n",
       "    }\n",
       "</style>\n",
       "<table border=\"1\" class=\"dataframe\">\n",
       "  <thead>\n",
       "    <tr style=\"text-align: right;\">\n",
       "      <th></th>\n",
       "      <th>content</th>\n",
       "      <th>artUrl</th>\n",
       "      <th>artCatagory</th>\n",
       "    </tr>\n",
       "  </thead>\n",
       "  <tbody>\n",
       "    <tr>\n",
       "      <th>0</th>\n",
       "      <td>蔡總統主持元旦升旗國防部長邱國正率將領參加國防部表示蔡英文總統上午主持中華民國年元旦總統府升...</td>\n",
       "      <td>https://udn.com/news/story/10930/7678307</td>\n",
       "      <td>要聞</td>\n",
       "    </tr>\n",
       "    <tr>\n",
       "      <th>1</th>\n",
       "      <td>廠級維修能量今年第一季驗證台美還在對峙談判中空軍年開始陸續接裝架戰機國防部軍備局表示正透過談...</td>\n",
       "      <td>https://udn.com/news/story/10930/7678314</td>\n",
       "      <td>要聞</td>\n",
       "    </tr>\n",
       "    <tr>\n",
       "      <th>2</th>\n",
       "      <td>義務役新兵看過來入伍結訓震撼教育攻略圖表在這裡年月首波徵召入營名一年制兵役役男這些役男入伍後...</td>\n",
       "      <td>https://udn.com/news/story/10930/7678409</td>\n",
       "      <td>要聞</td>\n",
       "    </tr>\n",
       "    <tr>\n",
       "      <th>3</th>\n",
       "      <td>國防部籲法界嚴肅看待暴行抗命及聚眾鬥毆軍紀案因應兵役延長一年國防部今天表示已配合全國檢察長座...</td>\n",
       "      <td>https://udn.com/news/story/10930/7678652</td>\n",
       "      <td>要聞</td>\n",
       "    </tr>\n",
       "    <tr>\n",
       "      <th>4</th>\n",
       "      <td>暴行抗命等軍紀案國防部檢察官允速查嚴辦國軍已恢復一年制義務役外界關注是否恢復軍事審判制度國防...</td>\n",
       "      <td>https://udn.com/news/story/10930/7679055</td>\n",
       "      <td>要聞</td>\n",
       "    </tr>\n",
       "  </tbody>\n",
       "</table>\n",
       "</div>"
      ],
      "text/plain": [
       "                                             content  \\\n",
       "0  蔡總統主持元旦升旗國防部長邱國正率將領參加國防部表示蔡英文總統上午主持中華民國年元旦總統府升...   \n",
       "1  廠級維修能量今年第一季驗證台美還在對峙談判中空軍年開始陸續接裝架戰機國防部軍備局表示正透過談...   \n",
       "2  義務役新兵看過來入伍結訓震撼教育攻略圖表在這裡年月首波徵召入營名一年制兵役役男這些役男入伍後...   \n",
       "3  國防部籲法界嚴肅看待暴行抗命及聚眾鬥毆軍紀案因應兵役延長一年國防部今天表示已配合全國檢察長座...   \n",
       "4  暴行抗命等軍紀案國防部檢察官允速查嚴辦國軍已恢復一年制義務役外界關注是否恢復軍事審判制度國防...   \n",
       "\n",
       "                                     artUrl artCatagory  \n",
       "0  https://udn.com/news/story/10930/7678307          要聞  \n",
       "1  https://udn.com/news/story/10930/7678314          要聞  \n",
       "2  https://udn.com/news/story/10930/7678409          要聞  \n",
       "3  https://udn.com/news/story/10930/7678652          要聞  \n",
       "4  https://udn.com/news/story/10930/7679055          要聞  "
      ]
     },
     "execution_count": 12,
     "metadata": {},
     "output_type": "execute_result"
    }
   ],
   "source": [
    "# 留下 content\n",
    "udn[\"content\"] = udn[\"artTitle\"] + udn[\"artContent\"]\n",
    "udn = udn[[\"content\", \"artUrl\", \"artCatagory\"]]  # 文章內容 文章連結\n",
    "udn.head()"
   ]
  },
  {
   "cell_type": "code",
   "execution_count": 13,
   "metadata": {
    "ExecuteTime": {
     "end_time": "2024-04-08T02:51:47.951339Z",
     "start_time": "2024-04-08T02:51:47.945348Z"
    },
    "scrolled": true
   },
   "outputs": [
    {
     "name": "stdout",
     "output_type": "stream",
     "text": [
      "total docs: 9479\n"
     ]
    }
   ],
   "source": [
    "# 看看有幾篇文章\n",
    "print(f\"total docs: {udn.shape[0]}\")"
   ]
  },
  {
   "attachments": {},
   "cell_type": "markdown",
   "metadata": {},
   "source": [
    "### 2.2 斷詞 "
   ]
  },
  {
   "cell_type": "code",
   "execution_count": 14,
   "metadata": {
    "ExecuteTime": {
     "end_time": "2024-04-08T02:52:10.504325Z",
     "start_time": "2024-04-08T02:52:10.499115Z"
    }
   },
   "outputs": [],
   "source": [
    "# 設定繁體中文詞庫\n",
    "jieba.set_dictionary(\"./dict/dict.txt.big\")\n",
    "\n",
    "# 新增stopwords\n",
    "# jieba.analyse.set_stop_words('./dict/stop_words.txt') #jieba.analyse.extract_tags才會作用\n",
    "with open(\"./dict/stop_words.txt\", encoding=\"utf-8\") as f:\n",
    "    stopWords = [line.strip() for line in f.readlines()]"
   ]
  },
  {
   "cell_type": "code",
   "execution_count": 15,
   "metadata": {
    "ExecuteTime": {
     "end_time": "2024-04-08T02:52:11.313233Z",
     "start_time": "2024-04-08T02:52:11.308441Z"
    }
   },
   "outputs": [],
   "source": [
    "# 設定斷詞 function\n",
    "def getToken(row):\n",
    "    seg_list = jieba.cut(row, cut_all=False)\n",
    "    seg_list = [\n",
    "        w for w in seg_list if w not in stopWords and len(w) > 1\n",
    "    ]  # 篩選掉停用字與字元數大於1的詞彙\n",
    "    return seg_list"
   ]
  },
  {
   "cell_type": "code",
   "execution_count": 16,
   "metadata": {
    "ExecuteTime": {
     "end_time": "2024-04-08T02:53:01.420024Z",
     "start_time": "2024-04-08T02:52:12.112170Z"
    }
   },
   "outputs": [
    {
     "name": "stderr",
     "output_type": "stream",
     "text": [
      "Building prefix dict from c:\\Users\\ASUS\\Desktop\\課程資料\\2024春\\社媒\\SMA_2024S-main\\SMA_2024S-main\\week6\\study_udn\\StockNatrakLanguageAnalyze-main\\dict\\dict.txt.big ...\n",
      "Dumping model to file cache C:\\Users\\ASUS\\AppData\\Local\\Temp\\jieba.uf7cea8bfc355019a7eb141ec535f1126.cache\n",
      "Loading model cost 1.577 seconds.\n",
      "Prefix dict has been built successfully.\n"
     ]
    },
    {
     "data": {
      "text/html": [
       "<div>\n",
       "<style scoped>\n",
       "    .dataframe tbody tr th:only-of-type {\n",
       "        vertical-align: middle;\n",
       "    }\n",
       "\n",
       "    .dataframe tbody tr th {\n",
       "        vertical-align: top;\n",
       "    }\n",
       "\n",
       "    .dataframe thead th {\n",
       "        text-align: right;\n",
       "    }\n",
       "</style>\n",
       "<table border=\"1\" class=\"dataframe\">\n",
       "  <thead>\n",
       "    <tr style=\"text-align: right;\">\n",
       "      <th></th>\n",
       "      <th>content</th>\n",
       "      <th>artUrl</th>\n",
       "      <th>artCatagory</th>\n",
       "      <th>words</th>\n",
       "    </tr>\n",
       "  </thead>\n",
       "  <tbody>\n",
       "    <tr>\n",
       "      <th>0</th>\n",
       "      <td>蔡總統主持元旦升旗國防部長邱國正率將領參加國防部表示蔡英文總統上午主持中華民國年元旦總統府升...</td>\n",
       "      <td>https://udn.com/news/story/10930/7678307</td>\n",
       "      <td>要聞</td>\n",
       "      <td>總統 主持 元旦 升旗 國防部長 邱國 正率 將領 參加 國防部 表示 英文 總統 上午 主...</td>\n",
       "    </tr>\n",
       "    <tr>\n",
       "      <th>1</th>\n",
       "      <td>廠級維修能量今年第一季驗證台美還在對峙談判中空軍年開始陸續接裝架戰機國防部軍備局表示正透過談...</td>\n",
       "      <td>https://udn.com/news/story/10930/7678314</td>\n",
       "      <td>要聞</td>\n",
       "      <td>廠級 維修 能量 今年 第一季 驗證 台美還 對峙 談判 空軍 陸續 接裝架 戰機 國防部 ...</td>\n",
       "    </tr>\n",
       "    <tr>\n",
       "      <th>2</th>\n",
       "      <td>義務役新兵看過來入伍結訓震撼教育攻略圖表在這裡年月首波徵召入營名一年制兵役役男這些役男入伍後...</td>\n",
       "      <td>https://udn.com/news/story/10930/7678409</td>\n",
       "      <td>要聞</td>\n",
       "      <td>義務役 新兵 過來 入伍 結訓 震撼 教育 攻略 圖表 這裡 首波 徵召 入營 一年制 兵役...</td>\n",
       "    </tr>\n",
       "    <tr>\n",
       "      <th>3</th>\n",
       "      <td>國防部籲法界嚴肅看待暴行抗命及聚眾鬥毆軍紀案因應兵役延長一年國防部今天表示已配合全國檢察長座...</td>\n",
       "      <td>https://udn.com/news/story/10930/7678652</td>\n",
       "      <td>要聞</td>\n",
       "      <td>國防部 法界 嚴肅 看待 暴行 抗命 聚眾 鬥毆 軍紀 因應 兵役 延長 一年 國防部 今天...</td>\n",
       "    </tr>\n",
       "    <tr>\n",
       "      <th>4</th>\n",
       "      <td>暴行抗命等軍紀案國防部檢察官允速查嚴辦國軍已恢復一年制義務役外界關注是否恢復軍事審判制度國防...</td>\n",
       "      <td>https://udn.com/news/story/10930/7679055</td>\n",
       "      <td>要聞</td>\n",
       "      <td>暴行 抗命 軍紀 國防部 檢察官 速查 嚴辦 國軍 恢復 一年制 義務役 外界 關注 是否 ...</td>\n",
       "    </tr>\n",
       "  </tbody>\n",
       "</table>\n",
       "</div>"
      ],
      "text/plain": [
       "                                             content  \\\n",
       "0  蔡總統主持元旦升旗國防部長邱國正率將領參加國防部表示蔡英文總統上午主持中華民國年元旦總統府升...   \n",
       "1  廠級維修能量今年第一季驗證台美還在對峙談判中空軍年開始陸續接裝架戰機國防部軍備局表示正透過談...   \n",
       "2  義務役新兵看過來入伍結訓震撼教育攻略圖表在這裡年月首波徵召入營名一年制兵役役男這些役男入伍後...   \n",
       "3  國防部籲法界嚴肅看待暴行抗命及聚眾鬥毆軍紀案因應兵役延長一年國防部今天表示已配合全國檢察長座...   \n",
       "4  暴行抗命等軍紀案國防部檢察官允速查嚴辦國軍已恢復一年制義務役外界關注是否恢復軍事審判制度國防...   \n",
       "\n",
       "                                     artUrl artCatagory  \\\n",
       "0  https://udn.com/news/story/10930/7678307          要聞   \n",
       "1  https://udn.com/news/story/10930/7678314          要聞   \n",
       "2  https://udn.com/news/story/10930/7678409          要聞   \n",
       "3  https://udn.com/news/story/10930/7678652          要聞   \n",
       "4  https://udn.com/news/story/10930/7679055          要聞   \n",
       "\n",
       "                                               words  \n",
       "0  總統 主持 元旦 升旗 國防部長 邱國 正率 將領 參加 國防部 表示 英文 總統 上午 主...  \n",
       "1  廠級 維修 能量 今年 第一季 驗證 台美還 對峙 談判 空軍 陸續 接裝架 戰機 國防部 ...  \n",
       "2  義務役 新兵 過來 入伍 結訓 震撼 教育 攻略 圖表 這裡 首波 徵召 入營 一年制 兵役...  \n",
       "3  國防部 法界 嚴肅 看待 暴行 抗命 聚眾 鬥毆 軍紀 因應 兵役 延長 一年 國防部 今天...  \n",
       "4  暴行 抗命 軍紀 國防部 檢察官 速查 嚴辦 國軍 恢復 一年制 義務役 外界 關注 是否 ...  "
      ]
     },
     "execution_count": 16,
     "metadata": {},
     "output_type": "execute_result"
    }
   ],
   "source": [
    "udn[\"words\"] = udn[\"content\"].apply(getToken).map(\" \".join)\n",
    "udn.head()"
   ]
  },
  {
   "attachments": {},
   "cell_type": "markdown",
   "metadata": {},
   "source": [
    "### 2.3 資料集基本檢視 "
   ]
  },
  {
   "cell_type": "markdown",
   "metadata": {},
   "source": [
    "檢視資料內容"
   ]
  },
  {
   "cell_type": "code",
   "execution_count": 17,
   "metadata": {
    "ExecuteTime": {
     "end_time": "2024-04-08T02:53:06.161765Z",
     "start_time": "2024-04-08T02:53:06.154724Z"
    }
   },
   "outputs": [
    {
     "name": "stdout",
     "output_type": "stream",
     "text": [
      "total posts: 9479\n",
      "category: \n",
      "artCatagory\n",
      "要聞    3550\n",
      "財經    3038\n",
      "全球    1795\n",
      "社會    1096\n",
      "Name: count, dtype: int64\n"
     ]
    }
   ],
   "source": [
    "print(f\"total posts: {len(udn['artUrl'].unique())}\")\n",
    "print(f\"category: \\n{udn['artCatagory'].value_counts()}\")"
   ]
  },
  {
   "attachments": {},
   "cell_type": "markdown",
   "metadata": {},
   "source": [
    "## 3. 分類模型的訓練流程\n",
    "### 3.1 根據7:3的比例切分資料集\n",
    "利用 sklearn 中的 train_test_split 函數將 `raw_data` 隨機切成 7:3，設置 random_state 讓每次切分的結果一致。`y_train`和`y_test`分別為訓練資料和測試資料的預測目標。 "
   ]
  },
  {
   "cell_type": "code",
   "execution_count": 18,
   "metadata": {
    "ExecuteTime": {
     "end_time": "2024-04-08T02:53:07.632863Z",
     "start_time": "2024-04-08T02:53:07.622635Z"
    }
   },
   "outputs": [
    {
     "name": "stdout",
     "output_type": "stream",
     "text": [
      "4592    機構 全球 半導體 產能 增長 首破 每月 萬片 大關 集微網 消息 發佈 世界 晶圓廠 預...\n",
      "7535    聯於 全球 首款 奈米 控制 最高 傳輸速度 每秒 控制 廠群 聯在 美西 時間 舉行 大展...\n",
      "4833    彭博 評選 應該 關注 企業 台灣 一家 上榜 彭博 資訊 發布 應該 關注 全球 企業 包...\n",
      "3259    國民黨 點名 戰犯 這是 合作 態度 總統 選舉 出爐 民進黨 總統 候選人 賴清德 當選 ...\n",
      "1143    新泰 合法 房屋 自救 抗爭 市府 傲慢 得獎 國民黨 總統 候選人 侯友宜 先前 新北市 ...\n",
      "Name: words, dtype: object\n",
      "4592    全球\n",
      "7535    財經\n",
      "4833    全球\n",
      "3259    要聞\n",
      "1143    要聞\n",
      "Name: artCatagory, dtype: object\n"
     ]
    }
   ],
   "source": [
    "data = udn\n",
    "X = data[\"words\"]\n",
    "y = data[\"artCatagory\"]\n",
    "\n",
    "# 把整個資料集七三切\n",
    "X_train, X_test, y_train, y_test = train_test_split(\n",
    "    X, y, test_size=0.3, random_state=777\n",
    ")\n",
    "\n",
    "print(X_train.head())\n",
    "print(y_train.head())"
   ]
  },
  {
   "cell_type": "code",
   "execution_count": 19,
   "metadata": {
    "ExecuteTime": {
     "end_time": "2024-04-08T02:53:08.497396Z",
     "start_time": "2024-04-08T02:53:08.489587Z"
    }
   },
   "outputs": [
    {
     "name": "stdout",
     "output_type": "stream",
     "text": [
      "raw data percentage :\n",
      "artCatagory\n",
      "要聞    37.451208\n",
      "財經    32.049794\n",
      "全球    18.936597\n",
      "社會    11.562401\n",
      "Name: proportion, dtype: float64\n",
      "\n",
      "train percentage :\n",
      "artCatagory\n",
      "要聞    37.452901\n",
      "財經    31.936699\n",
      "全球    19.050490\n",
      "社會    11.559910\n",
      "Name: proportion, dtype: float64\n",
      "\n",
      "test percentage :\n",
      "artCatagory\n",
      "要聞    37.447257\n",
      "財經    32.313643\n",
      "全球    18.670886\n",
      "社會    11.568214\n",
      "Name: proportion, dtype: float64\n"
     ]
    }
   ],
   "source": [
    "# 看一下各個資料集切分的比例，應該要一致\n",
    "print(\n",
    "    f\"raw data percentage :\\n{data['artCatagory'].value_counts(normalize=True) * 100}\"\n",
    ")\n",
    "print(f\"\\ntrain percentage :\\n{y_train.value_counts(normalize=True) * 100}\")\n",
    "print(f\"\\ntest percentage :\\n{y_test.value_counts(normalize=True) * 100}\")"
   ]
  },
  {
   "attachments": {},
   "cell_type": "markdown",
   "metadata": {},
   "source": [
    "### 3.2 將文章轉為 DTM\n",
    "\n",
    "DTM(document term matrix) :\n",
    "+ 將不同的文章 (document) 以文章中出現過的字詞(term)表示\n",
    "    + row 是document (文件)\n",
    "    + column 是字詞 (term)\n",
    "    + row 內的數字是出現的字數\n",
    "\n",
    "DTM裡面的值可以有不同的表示方法\n",
    "+ (1) 依據詞頻 (classic BoW)\n",
    "    + 用 `CountVectorizer()`\n",
    "    + unigrams and bigrams\n",
    "    + [sklearn.feature_extraction.text.CountVectorizer](https://scikit-learn.org/stable/modules/generated/sklearn.feature_extraction.text.CountVectorizer.html)\n",
    "+ (2) 依據tfidf (advanced variant of BoW)\n",
    "    + 篩選出現次數大於10的字\n",
    "    + 用 `TfidfVectorizer()`\n",
    "    + [sklearn.feature_extraction.text.TfidfVectorizer](https://scikit-learn.org/stable/modules/generated/sklearn.feature_extraction.text.CountVectorizer.html)\n",
    "+ 常用參數介紹\n",
    "    + max_features: 取 詞頻 / tfidf 前多少的字"
   ]
  },
  {
   "attachments": {},
   "cell_type": "markdown",
   "metadata": {},
   "source": [
    "### 3.3 套入正式的資料集\n",
    "+  模型訓練範例: logistic regression + cv tokenizer "
   ]
  },
  {
   "cell_type": "code",
   "execution_count": 20,
   "metadata": {
    "ExecuteTime": {
     "end_time": "2024-04-08T02:53:10.275695Z",
     "start_time": "2024-04-08T02:53:10.265145Z"
    }
   },
   "outputs": [
    {
     "name": "stdout",
     "output_type": "stream",
     "text": [
      "CountVectorizer(max_features=1000)\n"
     ]
    }
   ],
   "source": [
    "vectorizer = CountVectorizer(max_features=1000)\n",
    "print(vectorizer)"
   ]
  },
  {
   "cell_type": "code",
   "execution_count": 21,
   "metadata": {
    "ExecuteTime": {
     "end_time": "2024-04-08T02:53:11.396997Z",
     "start_time": "2024-04-08T02:53:11.391652Z"
    }
   },
   "outputs": [
    {
     "data": {
      "text/plain": [
       "4592    機構 全球 半導體 產能 增長 首破 每月 萬片 大關 集微網 消息 發佈 世界 晶圓廠 預...\n",
       "7535    聯於 全球 首款 奈米 控制 最高 傳輸速度 每秒 控制 廠群 聯在 美西 時間 舉行 大展...\n",
       "4833    彭博 評選 應該 關注 企業 台灣 一家 上榜 彭博 資訊 發布 應該 關注 全球 企業 包...\n",
       "3259    國民黨 點名 戰犯 這是 合作 態度 總統 選舉 出爐 民進黨 總統 候選人 賴清德 當選 ...\n",
       "1143    新泰 合法 房屋 自救 抗爭 市府 傲慢 得獎 國民黨 總統 候選人 侯友宜 先前 新北市 ...\n",
       "Name: words, dtype: object"
      ]
     },
     "execution_count": 21,
     "metadata": {},
     "output_type": "execute_result"
    }
   ],
   "source": [
    "X_train.head()"
   ]
  },
  {
   "cell_type": "code",
   "execution_count": 22,
   "metadata": {
    "ExecuteTime": {
     "end_time": "2024-04-08T02:53:14.896492Z",
     "start_time": "2024-04-08T02:53:12.282762Z"
    }
   },
   "outputs": [
    {
     "data": {
      "text/plain": [
       "<6635x1000 sparse matrix of type '<class 'numpy.int64'>'\n",
       "\twith 526461 stored elements in Compressed Sparse Row format>"
      ]
     },
     "execution_count": 22,
     "metadata": {},
     "output_type": "execute_result"
    }
   ],
   "source": [
    "vectorizer.fit(X_train)\n",
    "vec_train = vectorizer.transform(X_train)\n",
    "vec_train"
   ]
  },
  {
   "cell_type": "code",
   "execution_count": 23,
   "metadata": {
    "ExecuteTime": {
     "end_time": "2024-04-08T02:53:14.913630Z",
     "start_time": "2024-04-08T02:53:14.897512Z"
    }
   },
   "outputs": [
    {
     "data": {
      "text/plain": [
       "array([[0, 0, 0, ..., 0, 0, 0],\n",
       "       [0, 0, 0, ..., 0, 0, 0],\n",
       "       [0, 0, 0, ..., 0, 0, 0],\n",
       "       ...,\n",
       "       [0, 0, 0, ..., 0, 0, 0],\n",
       "       [0, 0, 0, ..., 0, 0, 0],\n",
       "       [0, 1, 0, ..., 0, 0, 0]], dtype=int64)"
      ]
     },
     "execution_count": 23,
     "metadata": {},
     "output_type": "execute_result"
    }
   ],
   "source": [
    "### 用 `toarray()` 轉成 numpy array\n",
    "vec_train.toarray()"
   ]
  },
  {
   "cell_type": "code",
   "execution_count": 24,
   "metadata": {
    "ExecuteTime": {
     "end_time": "2024-04-08T02:53:16.603227Z",
     "start_time": "2024-04-08T02:53:15.071512Z"
    }
   },
   "outputs": [
    {
     "name": "stdout",
     "output_type": "stream",
     "text": [
      "['一些' '一名' '一天' '一定' '一家' '一年' '一度' '一早' '一次' '一直']\n"
     ]
    }
   ],
   "source": [
    "# 可用 `fit_transform()` 一次完成\n",
    "vec_train = vectorizer.fit_transform(X_train)\n",
    "print(vectorizer.get_feature_names_out()[:10])"
   ]
  },
  {
   "cell_type": "code",
   "execution_count": 25,
   "metadata": {
    "ExecuteTime": {
     "end_time": "2024-04-08T02:53:18.517786Z",
     "start_time": "2024-04-08T02:53:18.512035Z"
    }
   },
   "outputs": [
    {
     "name": "stdout",
     "output_type": "stream",
     "text": [
      "{'機構': 549, '全球': 110, '半導體': 164, '產能': 624, '世界': 25, '報告': 263, '顯示': 983, '預計': 979, '首次': 988, '突破': 679, '計算': 802, '認為': 813, '包括': 158, '人工智慧': 55, '應用': 386, '晶片': 507, '需求': 967, '復甦': 375, '推動': 434, '項目': 974, '中國': 28, '大陸': 282, '統計': 709, '廠商': 353, '達到': 900, '將在': 308, '第二': 691, '地區': 253, '韓國': 973, '第三': 690, '日本': 494, '歐洲': 555, '產品': 622, '領域': 981, '增加': 265, '關鍵': 947, '因素': 236, '繼續': 725, '最高': 518, '時間': 503, '舉行': 754, '宣布': 301, '推出': 433, '製程': 789, '目前': 649, '未來': 529, '有望': 523, '表示': 786, '提升': 439, '最大': 513, '正式': 558, '包含': 157, '近期': 871, '智慧': 509, '系統': 699, '數位': 475, '健康': 93, '教育': 471, '科技': 674, '主要': 37, '企業': 71, '超過': 849, '國家': 240, '相關': 655, '新聞': 483, '追蹤': 872, '玩家': 614, '台灣': 198, '中心': 30, '規則': 793, '出爐': 129, '幾天': 350, '排隊': 430, '直接': 651, '這款': 881, '攻擊': 462, '二手': 48, '蘋果': 773, '注意': 582, '達人': 899, '檢查': 553, '避免': 912, '遊戲': 892, '最低': 512, '運動': 893, '折扣': 414, '曝光': 510, '友誼': 181, '破壞': 665, '西瓜': 791, '停售': 92, '限定': 952, '購買': 846, '地點': 257, '開賣': 943, '公開': 122, '應該': 387, '關注': 946, '一家': 4, '資訊': 839, '發布': 639, '媒體': 289, '唯一': 219, '團隊': 251, '金融': 932, '公司': 117, '考量': 733, '重點': 929, '出現': 130, '改變': 460, '資產': 838, '規劃': 794, '服務': 526, '業者': 545, '部分': 917, '指出': 422, '手機': 402, '成長': 393, '家庭': 303, '亞洲': 49, '獲利': 612, '預期': 977, '市場': 331, '對手': 314, '臉書': 747, '輝達': 862, '合作': 201, '汽車': 578, '機會': 548, '製造': 790, '受惠': 186, '擴大': 449, '今年': 61, '營收': 602, '共識': 124, '研究': 664, '消費': 586, '產業': 623, '英國': 758, '建商': 357, '集團': 961, '銀行': 935, '美國': 728, '支付': 452, '處理': 774, '網路': 719, '國防': 246, '管理': 696, '聯合': 734, '基礎': 260, '醫療': 923, '能源': 745, '分別': 133, '生活': 620, '提供': 436, '國民黨': 243, '這是': 879, '態度': 384, '總統': 722, '選舉': 911, '民進黨': 573, '候選人': 91, '賴清德': 843, '當選': 630, '競選': 687, '發言人': 645, '柯文哲': 537, '受訪': 187, '背後': 742, '代表': 65, '主席': 34, '朱立倫': 532, '新北': 479, '市長': 333, '侯友宜': 83, '國會': 242, '還要': 915, '政黨': 470, '立法院': 683, '藍白合': 771, '清楚': 590, '尤其': 321, '房屋': 397, '市府': 332, '先前': 106, '新北市': 480, '引發': 361, '當地': 628, '今天': 58, '前往': 143, '土地': 252, '利益': 140, '擔任': 447, '中華民國': 32, '上午': 16, '面對': 971, '記者會': 806, '接受': 432, '手上': 401, '選擇': 908, '長期': 939, '成立': 392, '利用': 139, '提高': 443, '事情': 45, '批評': 405, '方式': 487, '已經': 329, '變成': 827, '道路': 898, '現在': 616, '台北': 191, '縣長': 721, '現場': 617, '表現': 785, '真的': 659, '過去': 896, '地方': 254, '大樓': 279, '侯友': 82, '進行': 891, '價值': 98, '關心': 945, '需要': 968, '幫助': 339, '民眾': 570, '支持': 453, '連任': 887, '正在': 557, '狀況': 611, '票能': 673, '幹嘛': 349, '神秘': 671, '數字': 476, '席次': 336, '補助': 788, '還可': 914, '扣稅': 404, '大選': 280, '年輕人': 348, '投票率': 411, '差格': 328, '立委': 681, '抽籤': 417, '選區': 904, '名單': 206, '號次': 775, '一次': 8, '看影組': 658, '選民': 909, '抱不平': 415, '趟渾水': 851, '民眾黨': 571, '吳欣盈': 207, '車隊': 859, '掃街': 428, '基隆': 262, '總部': 724, '出發': 131, '高雄': 995, '昨天': 498, '國家級': 241, '警報': 822, '訊息': 803, '趙少康': 850, '今早': 62, '嘉義市': 227, '這次': 880, '針對': 934, '國防部': 247, '衛星': 781, '飛彈': 985, '周六': 211, '登場': 634, '選委會': 905, '展開': 325, '選票': 910, '倒數': 90, '喊話': 223, '一起': 10, '工作': 326, '研發': 663, '生產': 621, '來說': 79, '挑戰': 426, '執行': 259, '符合': 688, '政府': 464, '內容': 108, '員工': 216, '問題': 221, '確保': 666, '得到': 372, '後續': 371, '風險': 984, '重要': 928, '安全': 293, '資料': 834, '操作': 446, '人員': 52, '行動': 776, '許多': 809, '建立': 358, '機制': 547, '使用': 77, '單位': 224, '採購': 431, '轉型': 864, '保護': 88, '整體': 474, '建設': 359, '房價': 396, '知道': 661, '國際': 248, '兩大': 113, '房市': 398, '移轉': 675, '買氣': 831, '可望': 189, '延續': 356, '農曆': 868, '年前': 343, '完工': 296, '板橋': 533, '青年': 969, '捷運': 427, '進入': 890, '春節': 497, '海外': 585, '旅遊': 490, '持續': 421, '因應': 235, '紅海': 701, '評估': 811, '再次': 126, '旗下': 492, '所有': 400, '董事長': 767, '攜手': 450, '品牌': 214, '陸續': 957, '平均': 341, '優惠': 103, '質疑': 841, '總統大選': 723, '階段': 958, '日前': 493, '臨時': 748, '傳出': 95, '目標': 650, '掌握': 429, '特定': 610, '陣營': 954, '檢舉': 554, '對話': 317, '發文': 640, '收到': 457, '違反': 902, '社群': 670, '通知': 883, '討論': 804, '綠營': 713, '疑似': 631, '支持者': 455, '大量': 281, '人數': 57, '發生': 642, '全面': 111, '這場': 877, '選戰': 907, '看到': 656, '政治': 465, '規定': 795, '希望': 335, '進一步': 889, '是否': 500, '積極': 676, '了解': 42, '原因': 175, '民主': 569, '最後': 514, '力量': 147, '正副': 556, '蕭美琴': 769, '英文': 759, '廣告': 355, '路上': 853, '以來': 69, '大學': 274, '分區': 134, '選前': 903, '造勢': 885, '行程': 780, '安排': 294, '近日': 870, '成為': 391, '話題': 812, '管中': 695, '上任': 15, '台大': 195, '校長': 538, '行政院長': 778, '資深': 836, '舉辦': 755, '大會': 278, '出席': 128, '一名': 1, '男子': 627, '對此': 316, '黃金': 998, '衝刺': 782, '輔選': 861, '爆發': 605, '一天': 2, '新竹': 482, '嘉義縣': 228, '嘉義': 226, '累計': 703, '技術': 407, '創新': 145, '整合': 472, '平台': 340, '協助': 166, '成功': 389, '近年': 869, '經濟': 710, '專業': 311, '配合': 921, '擁有': 445, '連續': 888, '高達': 994, '認證': 814, '客戶': 300, '至今': 749, '共同': 123, '縣市': 720, '發展': 638, '住宅': 75, '人才': 56, '區域': 161, '族群': 491, '房貸': 399, '情況': 381, '買賣': 832, '成交': 388, '億元': 100, '晚間': 505, '提出': 437, '期待': 527, '方案': 488, '交易': 50, '購屋': 845, '台南市': 194, '最近': 517, '公辦': 121, '升級': 162, '台北市': 192, '年月日': 346, '公告': 118, '專案': 310, '計畫': 801, '每年': 565, '限制': 951, '本次': 531, '行政院': 777, '立即': 680, '公布': 120, '明顯': 496, '幾年': 351, '影響': 370, '我國': 394, '行為': 779, '準備': 592, '四大': 231, '方向': 486, '努力': 152, '透過': 874, '強化': 365, '加強': 150, '強調': 366, '溝通': 593, '提醒': 442, '面臨': 972, '競爭': 686, '布局': 334, '調查': 818, '完全': 295, '覺得': 797, '解決': 799, '萬元': 762, '有限': 524, '南投': 168, '預售': 976, '比較': 568, '買房': 830, '真相': 660, '景氣': 506, '去年': 177, '營運': 603, '消費者': 587, '導致': 318, '每股': 566, '方面': 489, '受到': 185, '下跌': 22, '第季': 693, '事業': 47, '下滑': 21, '減少': 591, '年度': 345, '優於': 104, '期間': 528, '呈現': 209, '庫存': 352, '大幅': 276, '高端': 993, '抹黑': 416, '疫苗': 633, '爭議': 607, '指控': 424, '一路': 11, '環境': 618, '合約': 203, '申請': 626, '確定': 667, '完成': 297, '說明': 815, '國內': 238, '當時': 629, '信心': 89, '過程': 897, '不斷': 24, '有效': 522, '石川縣': 662, '強震': 367, '規模': 796, '隨後': 959, '嚴重': 229, '外界': 269, '特別': 609, '地震': 256, '觀察': 798, '設備': 807, '電子': 965, '興建': 753, '造成': 886, '樂觀': 546, '大廠': 277, '合併': 202, '一年': 5, '帶動': 338, '業績': 544, '獲得': 613, '來自': 78, '單月': 225, '取得': 183, '發表': 644, '趨勢': 852, '這年': 878, '功能': 148, '法人': 579, '年底': 344, '恢復': 379, '訂單': 800, '預估': 975, '電動車': 964, '一定': 3, '看好': 657, '先進': 107, '要求': 792, '尚未': 320, '同意': 204, '召開': 188, '回應': 233, '封存': 306, '能夠': 744, '之後': 40, '陳建仁': 956, '專訪': 312, '提到': 438, '錯誤': 938, '法院': 581, '委員會': 287, '會議': 519, '發現': 641, '死亡': 562, '案件': 542, '專家': 309, '兩岸': 114, '回到': 232, '對方': 315, '中共': 27, '領導人': 982, '憲法': 385, '關係': 944, '法律': 580, '第一': 689, '學者': 291, '肯定': 741, '表達': 787, '台海': 197, '呼籲': 212, '重新': 927, '主張': 35, '和平': 213, '戰爭': 395, '華府': 760, '北京': 159, '記者': 805, '整理': 473, '政見會': 468, '情勢': 380, '最新': 516, '民調': 572, '選情': 906, '元旦': 105, '落幕': 765, '萬安': 763, '時分': 502, '陪同': 955, '兩岸關係': 115, '八年': 116, '變化': 826, '承諾': 406, '桃園': 540, '吸引': 208, '參與': 179, '首度': 987, '朋友': 525, '投票': 410, '守護': 292, '參選': 180, '博雅': 171, '賴品': 842, '苗栗': 757, '攝影': 451, '歷年': 561, '組合': 704, '踴躍是': 856, '必看': 377, '指南': 423, '政策': 466, '激戰': 595, '圖表': 249, '回顧過去': 234, '藍綠': 772, '版圖': 608, '議題': 825, '政見': 467, '原住民': 174, '習近平': 730, '馬英九': 989, '聯合報': 735, '國人': 237, '集中': 960, '侯康配': 84, '團結': 250, '政見發表': 469, '展望': 323, '結合': 706, '藍營': 770, '郭台銘': 919, '執政': 258, '危機': 173, '司法': 200, '爭取': 606, '預算': 978, '過半': 895, '站台': 685, '聲明': 736, '疫情': 632, '創造': 146, '發送': 646, '中央': 29, '影片': 369, '美惠': 729, '優勢': 102, '攻防': 463, '士林': 267, '張斯綱': 363, '無黨籍': 600, '台南': 193, '電視': 966, '決定': 577, '意外': 382, '輪替': 863, '打造': 403, '核心': 539, '交通': 51, '文化': 478, '無法': 599, '開放': 940, '空間': 678, '年來': 342, '鄉親': 920, '林沛祥': 534, '盧秀燕': 648, '台中市': 190, '第六': 692, '大安區': 275, '死刑': 563, '智強': 508, '身分': 857, '汐止': 576, '之夜': 39, '大型': 273, '拜票': 419, '下午': 20, '晚會': 504, '立院': 684, '車掃': 858, '此次': 559, '相對': 653, '主委': 33, '人士': 53, '重大': 926, '彰化': 368, '相信': 652, '相當': 654, '調整': 817, '策略': 694, '南部': 169, '證實': 820, '官員': 298, '至少': 750, '開發': 941, '能力': 743, '一點': 12, '金控': 930, '上市': 17, '國泰': 244, '並未': 26, '原本': 176, '新台幣': 481, '維持': 715, '以上': 67, '歷史': 560, '新高': 485, '紀錄': 700, '分析': 136, '便宜': 85, '令人': 66, '機車': 550, '午時': 163, '分鐘': 137, '受傷': 184, '明天': 495, '起訴': 848, '地檢署': 255, '今天上午': 59, '涉嫌': 588, '檢察官': 551, '分局': 135, '偵辦': 94, '加入': 149, '今晚': 63, '逐漸': 876, '路線': 855, '熱情': 601, '境外': 264, '勢力': 156, '里長': 925, '介選': 64, '提名': 440, '左右': 327, '到場': 141, '院長': 953, '議員': 824, '羅致': 726, '錄音': 937, '小時': 319, '辯論會': 867, '激烈': 596, '清德': 589, '現任': 615, '災難': 597, '永續': 575, '傳統': 96, '邀請': 913, '年輕': 347, '再度': 125, '社會': 669, '多元': 271, '提告': 441, '部長': 918, '屏東': 322, '臺灣': 752, '指數': 425, '促進': 86, '投資': 412, '三大': 13, '投資人': 413, '資本': 835, '股票': 740, '商品': 220, '投信': 408, '發行': 643, '基金': 261, '退休': 873, '價格': 99, '主管': 36, '美元': 727, '台幣': 196, '成本': 390, '通訊': 884, '辦公室': 865, '擔心': 448, '引起': 362, '改革': 461, '穩定': 677, '制度': 142, '每天': 564, '本報': 530, '賴蕭配': 844, '支持率': 454, '四個': 230, '百分點': 647, '封關': 307, '新聞網': 484, '全國': 109, '領先': 980, '帶來': 337, '設計': 808, '銷售': 936, '資源': 837, '經驗': 712, '今天下午': 60, '壓力': 266, '水準': 574, '致詞': 751, '創下': 144, '老師': 732, '學生': 290, '展現': 324, '投入': 409, '推薦': 435, '一早': 7, '反對': 182, '黃國': 997, '告訴': 210, '軍事': 860, '表態': 784, '活動': 584, '參加': 178, '一些': 0, '高雄市': 996, '詐騙': 810, '立法委員': 682, '網友': 717, '說法': 816, '哪裡': 218, '不到': 23, '金管會': 931, '債券': 97, '豪宅': 828, '事件': 43, '萬人': 761, '一度': 6, '開票': 942, '昨晚': 499, '證明': 821, '票數': 672, '萬票': 764, '動態': 153, '得票數': 373, '雙方': 962, '最快': 515, '得票率': 374, '拿下': 420, '結束': 707, '有人': 521, '保持': 87, '林靜儀': 536, '經營': 711, '邱鎮': 916, '高嘉瑜': 991, '飛機': 986, '外交部': 268, '航空': 756, '透露': 875, '事故': 46, '時代': 501, '揭露': 444, '兩人': 112, '金額': 933, '爆料': 604, '業務': 543, '醫院': 924, '通報': 882, '警方': 823, '員警': 217, '家人': 302, '感謝': 383, '翻攝': 731, '作業': 76, '辦理': 866, '依法': 81, '出貨': 132, '路口': 854, '妻子': 286, '中正': 31, '賄選': 833, '強勁': 364, '漲幅': 594, '動能': 154, '上漲': 18, '高度': 992, '公寓': 119, '生命': 619, '泰國': 583, '啟動': 222, '運用': 894, '收入': 456, '組織': 705, '建議': 360, '更是': 511, '快速': 378, '網站': 718, '台股': 199, '紛紛': 702, '利率': 138, '億美元': 101, '烏克蘭': 598, '上空': 19, '衝突': 783, '附近': 948, '協會': 167, '節目': 697, '離開': 963, '以下': 68, '廢死': 354, '多數': 272, '女子': 285, '實施': 305, '加薩': 151, '位於': 74, '拜登': 418, '巴勒斯坦': 330, '哈瑪斯': 215, '伊朗': 72, '葉門': 766, '威脅': 288, '以色列': 70, '一直': 9, '外資': 270, '伺服器': 73, '股價': 737, '之前': 38, '勞動': 155, '數據': 477, '統一': 708, '林肯': 535, '贏得': 847, '駕駛': 990, '確認': 668, '證券': 819, '股市': 738, '央行': 283, '降息': 950, '收益': 458, '降低': 949, '股息': 739, '出口': 127, '也將': 41, '配息': 922, '供應鏈': 80, '綠色': 714, '同步': 205, '事後': 44, '黨籍': 999, '桃園市': 541, '資金': 840, '達成': 901, '毒品': 567, '國安': 239, '改善': 459, '責任': 829, '德國': 376, '月底': 520, '三重': 14, '發射': 636, '半島': 165, '印度': 172, '人壽': 54, '能登': 746, '國軍': 245, '宜蘭': 299, '檢方': 552, '青年運動': 970, '富邦': 304, '尊重': 313, '發出': 635, '蔡壁': 768, '南韓': 170, '維護': 716, '簡訊': 698, '發射衛星': 637, '契約': 284, '北韓': 160, '申報': 625}\n"
     ]
    },
    {
     "data": {
      "text/plain": [
       "0"
      ]
     },
     "execution_count": 25,
     "metadata": {},
     "output_type": "execute_result"
    }
   ],
   "source": [
    "# fit 完後，可以用 `vocabulary_` 看到詞的 feature index\n",
    "print(vectorizer.vocabulary_)\n",
    "vectorizer.vocabulary_['一些']"
   ]
  },
  {
   "cell_type": "code",
   "execution_count": 26,
   "metadata": {
    "ExecuteTime": {
     "end_time": "2024-04-08T02:53:20.822170Z",
     "start_time": "2024-04-08T02:53:20.298143Z"
    }
   },
   "outputs": [
    {
     "name": "stdout",
     "output_type": "stream",
     "text": [
      "(6635, 1000)\n",
      "(2844, 1000)\n"
     ]
    }
   ],
   "source": [
    "# 不需重新 `fit()` data，因前面已經 `fit()` 過了\n",
    "# 只需將測試數據使用之前訓練好的 vectorizer 轉換為相同的特徵表示形式，而不需要重新fit。\n",
    "# 如果對測試數據再次 fit vectorizer，可能會導致使用了測試數據的信息，進而導致模型的不穩定性和過度擬合的問題。\n",
    "vec_test = vectorizer.transform(X_test)\n",
    "print(vec_train.shape)\n",
    "print(vec_test.shape)"
   ]
  },
  {
   "cell_type": "code",
   "execution_count": 27,
   "metadata": {
    "ExecuteTime": {
     "end_time": "2024-04-08T02:53:21.854182Z",
     "start_time": "2024-04-08T02:53:21.667091Z"
    }
   },
   "outputs": [
    {
     "data": {
      "text/html": [
       "<style>#sk-container-id-1 {\n",
       "  /* Definition of color scheme common for light and dark mode */\n",
       "  --sklearn-color-text: black;\n",
       "  --sklearn-color-line: gray;\n",
       "  /* Definition of color scheme for unfitted estimators */\n",
       "  --sklearn-color-unfitted-level-0: #fff5e6;\n",
       "  --sklearn-color-unfitted-level-1: #f6e4d2;\n",
       "  --sklearn-color-unfitted-level-2: #ffe0b3;\n",
       "  --sklearn-color-unfitted-level-3: chocolate;\n",
       "  /* Definition of color scheme for fitted estimators */\n",
       "  --sklearn-color-fitted-level-0: #f0f8ff;\n",
       "  --sklearn-color-fitted-level-1: #d4ebff;\n",
       "  --sklearn-color-fitted-level-2: #b3dbfd;\n",
       "  --sklearn-color-fitted-level-3: cornflowerblue;\n",
       "\n",
       "  /* Specific color for light theme */\n",
       "  --sklearn-color-text-on-default-background: var(--sg-text-color, var(--theme-code-foreground, var(--jp-content-font-color1, black)));\n",
       "  --sklearn-color-background: var(--sg-background-color, var(--theme-background, var(--jp-layout-color0, white)));\n",
       "  --sklearn-color-border-box: var(--sg-text-color, var(--theme-code-foreground, var(--jp-content-font-color1, black)));\n",
       "  --sklearn-color-icon: #696969;\n",
       "\n",
       "  @media (prefers-color-scheme: dark) {\n",
       "    /* Redefinition of color scheme for dark theme */\n",
       "    --sklearn-color-text-on-default-background: var(--sg-text-color, var(--theme-code-foreground, var(--jp-content-font-color1, white)));\n",
       "    --sklearn-color-background: var(--sg-background-color, var(--theme-background, var(--jp-layout-color0, #111)));\n",
       "    --sklearn-color-border-box: var(--sg-text-color, var(--theme-code-foreground, var(--jp-content-font-color1, white)));\n",
       "    --sklearn-color-icon: #878787;\n",
       "  }\n",
       "}\n",
       "\n",
       "#sk-container-id-1 {\n",
       "  color: var(--sklearn-color-text);\n",
       "}\n",
       "\n",
       "#sk-container-id-1 pre {\n",
       "  padding: 0;\n",
       "}\n",
       "\n",
       "#sk-container-id-1 input.sk-hidden--visually {\n",
       "  border: 0;\n",
       "  clip: rect(1px 1px 1px 1px);\n",
       "  clip: rect(1px, 1px, 1px, 1px);\n",
       "  height: 1px;\n",
       "  margin: -1px;\n",
       "  overflow: hidden;\n",
       "  padding: 0;\n",
       "  position: absolute;\n",
       "  width: 1px;\n",
       "}\n",
       "\n",
       "#sk-container-id-1 div.sk-dashed-wrapped {\n",
       "  border: 1px dashed var(--sklearn-color-line);\n",
       "  margin: 0 0.4em 0.5em 0.4em;\n",
       "  box-sizing: border-box;\n",
       "  padding-bottom: 0.4em;\n",
       "  background-color: var(--sklearn-color-background);\n",
       "}\n",
       "\n",
       "#sk-container-id-1 div.sk-container {\n",
       "  /* jupyter's `normalize.less` sets `[hidden] { display: none; }`\n",
       "     but bootstrap.min.css set `[hidden] { display: none !important; }`\n",
       "     so we also need the `!important` here to be able to override the\n",
       "     default hidden behavior on the sphinx rendered scikit-learn.org.\n",
       "     See: https://github.com/scikit-learn/scikit-learn/issues/21755 */\n",
       "  display: inline-block !important;\n",
       "  position: relative;\n",
       "}\n",
       "\n",
       "#sk-container-id-1 div.sk-text-repr-fallback {\n",
       "  display: none;\n",
       "}\n",
       "\n",
       "div.sk-parallel-item,\n",
       "div.sk-serial,\n",
       "div.sk-item {\n",
       "  /* draw centered vertical line to link estimators */\n",
       "  background-image: linear-gradient(var(--sklearn-color-text-on-default-background), var(--sklearn-color-text-on-default-background));\n",
       "  background-size: 2px 100%;\n",
       "  background-repeat: no-repeat;\n",
       "  background-position: center center;\n",
       "}\n",
       "\n",
       "/* Parallel-specific style estimator block */\n",
       "\n",
       "#sk-container-id-1 div.sk-parallel-item::after {\n",
       "  content: \"\";\n",
       "  width: 100%;\n",
       "  border-bottom: 2px solid var(--sklearn-color-text-on-default-background);\n",
       "  flex-grow: 1;\n",
       "}\n",
       "\n",
       "#sk-container-id-1 div.sk-parallel {\n",
       "  display: flex;\n",
       "  align-items: stretch;\n",
       "  justify-content: center;\n",
       "  background-color: var(--sklearn-color-background);\n",
       "  position: relative;\n",
       "}\n",
       "\n",
       "#sk-container-id-1 div.sk-parallel-item {\n",
       "  display: flex;\n",
       "  flex-direction: column;\n",
       "}\n",
       "\n",
       "#sk-container-id-1 div.sk-parallel-item:first-child::after {\n",
       "  align-self: flex-end;\n",
       "  width: 50%;\n",
       "}\n",
       "\n",
       "#sk-container-id-1 div.sk-parallel-item:last-child::after {\n",
       "  align-self: flex-start;\n",
       "  width: 50%;\n",
       "}\n",
       "\n",
       "#sk-container-id-1 div.sk-parallel-item:only-child::after {\n",
       "  width: 0;\n",
       "}\n",
       "\n",
       "/* Serial-specific style estimator block */\n",
       "\n",
       "#sk-container-id-1 div.sk-serial {\n",
       "  display: flex;\n",
       "  flex-direction: column;\n",
       "  align-items: center;\n",
       "  background-color: var(--sklearn-color-background);\n",
       "  padding-right: 1em;\n",
       "  padding-left: 1em;\n",
       "}\n",
       "\n",
       "\n",
       "/* Toggleable style: style used for estimator/Pipeline/ColumnTransformer box that is\n",
       "clickable and can be expanded/collapsed.\n",
       "- Pipeline and ColumnTransformer use this feature and define the default style\n",
       "- Estimators will overwrite some part of the style using the `sk-estimator` class\n",
       "*/\n",
       "\n",
       "/* Pipeline and ColumnTransformer style (default) */\n",
       "\n",
       "#sk-container-id-1 div.sk-toggleable {\n",
       "  /* Default theme specific background. It is overwritten whether we have a\n",
       "  specific estimator or a Pipeline/ColumnTransformer */\n",
       "  background-color: var(--sklearn-color-background);\n",
       "}\n",
       "\n",
       "/* Toggleable label */\n",
       "#sk-container-id-1 label.sk-toggleable__label {\n",
       "  cursor: pointer;\n",
       "  display: block;\n",
       "  width: 100%;\n",
       "  margin-bottom: 0;\n",
       "  padding: 0.5em;\n",
       "  box-sizing: border-box;\n",
       "  text-align: center;\n",
       "}\n",
       "\n",
       "#sk-container-id-1 label.sk-toggleable__label-arrow:before {\n",
       "  /* Arrow on the left of the label */\n",
       "  content: \"▸\";\n",
       "  float: left;\n",
       "  margin-right: 0.25em;\n",
       "  color: var(--sklearn-color-icon);\n",
       "}\n",
       "\n",
       "#sk-container-id-1 label.sk-toggleable__label-arrow:hover:before {\n",
       "  color: var(--sklearn-color-text);\n",
       "}\n",
       "\n",
       "/* Toggleable content - dropdown */\n",
       "\n",
       "#sk-container-id-1 div.sk-toggleable__content {\n",
       "  max-height: 0;\n",
       "  max-width: 0;\n",
       "  overflow: hidden;\n",
       "  text-align: left;\n",
       "  /* unfitted */\n",
       "  background-color: var(--sklearn-color-unfitted-level-0);\n",
       "}\n",
       "\n",
       "#sk-container-id-1 div.sk-toggleable__content.fitted {\n",
       "  /* fitted */\n",
       "  background-color: var(--sklearn-color-fitted-level-0);\n",
       "}\n",
       "\n",
       "#sk-container-id-1 div.sk-toggleable__content pre {\n",
       "  margin: 0.2em;\n",
       "  border-radius: 0.25em;\n",
       "  color: var(--sklearn-color-text);\n",
       "  /* unfitted */\n",
       "  background-color: var(--sklearn-color-unfitted-level-0);\n",
       "}\n",
       "\n",
       "#sk-container-id-1 div.sk-toggleable__content.fitted pre {\n",
       "  /* unfitted */\n",
       "  background-color: var(--sklearn-color-fitted-level-0);\n",
       "}\n",
       "\n",
       "#sk-container-id-1 input.sk-toggleable__control:checked~div.sk-toggleable__content {\n",
       "  /* Expand drop-down */\n",
       "  max-height: 200px;\n",
       "  max-width: 100%;\n",
       "  overflow: auto;\n",
       "}\n",
       "\n",
       "#sk-container-id-1 input.sk-toggleable__control:checked~label.sk-toggleable__label-arrow:before {\n",
       "  content: \"▾\";\n",
       "}\n",
       "\n",
       "/* Pipeline/ColumnTransformer-specific style */\n",
       "\n",
       "#sk-container-id-1 div.sk-label input.sk-toggleable__control:checked~label.sk-toggleable__label {\n",
       "  color: var(--sklearn-color-text);\n",
       "  background-color: var(--sklearn-color-unfitted-level-2);\n",
       "}\n",
       "\n",
       "#sk-container-id-1 div.sk-label.fitted input.sk-toggleable__control:checked~label.sk-toggleable__label {\n",
       "  background-color: var(--sklearn-color-fitted-level-2);\n",
       "}\n",
       "\n",
       "/* Estimator-specific style */\n",
       "\n",
       "/* Colorize estimator box */\n",
       "#sk-container-id-1 div.sk-estimator input.sk-toggleable__control:checked~label.sk-toggleable__label {\n",
       "  /* unfitted */\n",
       "  background-color: var(--sklearn-color-unfitted-level-2);\n",
       "}\n",
       "\n",
       "#sk-container-id-1 div.sk-estimator.fitted input.sk-toggleable__control:checked~label.sk-toggleable__label {\n",
       "  /* fitted */\n",
       "  background-color: var(--sklearn-color-fitted-level-2);\n",
       "}\n",
       "\n",
       "#sk-container-id-1 div.sk-label label.sk-toggleable__label,\n",
       "#sk-container-id-1 div.sk-label label {\n",
       "  /* The background is the default theme color */\n",
       "  color: var(--sklearn-color-text-on-default-background);\n",
       "}\n",
       "\n",
       "/* On hover, darken the color of the background */\n",
       "#sk-container-id-1 div.sk-label:hover label.sk-toggleable__label {\n",
       "  color: var(--sklearn-color-text);\n",
       "  background-color: var(--sklearn-color-unfitted-level-2);\n",
       "}\n",
       "\n",
       "/* Label box, darken color on hover, fitted */\n",
       "#sk-container-id-1 div.sk-label.fitted:hover label.sk-toggleable__label.fitted {\n",
       "  color: var(--sklearn-color-text);\n",
       "  background-color: var(--sklearn-color-fitted-level-2);\n",
       "}\n",
       "\n",
       "/* Estimator label */\n",
       "\n",
       "#sk-container-id-1 div.sk-label label {\n",
       "  font-family: monospace;\n",
       "  font-weight: bold;\n",
       "  display: inline-block;\n",
       "  line-height: 1.2em;\n",
       "}\n",
       "\n",
       "#sk-container-id-1 div.sk-label-container {\n",
       "  text-align: center;\n",
       "}\n",
       "\n",
       "/* Estimator-specific */\n",
       "#sk-container-id-1 div.sk-estimator {\n",
       "  font-family: monospace;\n",
       "  border: 1px dotted var(--sklearn-color-border-box);\n",
       "  border-radius: 0.25em;\n",
       "  box-sizing: border-box;\n",
       "  margin-bottom: 0.5em;\n",
       "  /* unfitted */\n",
       "  background-color: var(--sklearn-color-unfitted-level-0);\n",
       "}\n",
       "\n",
       "#sk-container-id-1 div.sk-estimator.fitted {\n",
       "  /* fitted */\n",
       "  background-color: var(--sklearn-color-fitted-level-0);\n",
       "}\n",
       "\n",
       "/* on hover */\n",
       "#sk-container-id-1 div.sk-estimator:hover {\n",
       "  /* unfitted */\n",
       "  background-color: var(--sklearn-color-unfitted-level-2);\n",
       "}\n",
       "\n",
       "#sk-container-id-1 div.sk-estimator.fitted:hover {\n",
       "  /* fitted */\n",
       "  background-color: var(--sklearn-color-fitted-level-2);\n",
       "}\n",
       "\n",
       "/* Specification for estimator info (e.g. \"i\" and \"?\") */\n",
       "\n",
       "/* Common style for \"i\" and \"?\" */\n",
       "\n",
       ".sk-estimator-doc-link,\n",
       "a:link.sk-estimator-doc-link,\n",
       "a:visited.sk-estimator-doc-link {\n",
       "  float: right;\n",
       "  font-size: smaller;\n",
       "  line-height: 1em;\n",
       "  font-family: monospace;\n",
       "  background-color: var(--sklearn-color-background);\n",
       "  border-radius: 1em;\n",
       "  height: 1em;\n",
       "  width: 1em;\n",
       "  text-decoration: none !important;\n",
       "  margin-left: 1ex;\n",
       "  /* unfitted */\n",
       "  border: var(--sklearn-color-unfitted-level-1) 1pt solid;\n",
       "  color: var(--sklearn-color-unfitted-level-1);\n",
       "}\n",
       "\n",
       ".sk-estimator-doc-link.fitted,\n",
       "a:link.sk-estimator-doc-link.fitted,\n",
       "a:visited.sk-estimator-doc-link.fitted {\n",
       "  /* fitted */\n",
       "  border: var(--sklearn-color-fitted-level-1) 1pt solid;\n",
       "  color: var(--sklearn-color-fitted-level-1);\n",
       "}\n",
       "\n",
       "/* On hover */\n",
       "div.sk-estimator:hover .sk-estimator-doc-link:hover,\n",
       ".sk-estimator-doc-link:hover,\n",
       "div.sk-label-container:hover .sk-estimator-doc-link:hover,\n",
       ".sk-estimator-doc-link:hover {\n",
       "  /* unfitted */\n",
       "  background-color: var(--sklearn-color-unfitted-level-3);\n",
       "  color: var(--sklearn-color-background);\n",
       "  text-decoration: none;\n",
       "}\n",
       "\n",
       "div.sk-estimator.fitted:hover .sk-estimator-doc-link.fitted:hover,\n",
       ".sk-estimator-doc-link.fitted:hover,\n",
       "div.sk-label-container:hover .sk-estimator-doc-link.fitted:hover,\n",
       ".sk-estimator-doc-link.fitted:hover {\n",
       "  /* fitted */\n",
       "  background-color: var(--sklearn-color-fitted-level-3);\n",
       "  color: var(--sklearn-color-background);\n",
       "  text-decoration: none;\n",
       "}\n",
       "\n",
       "/* Span, style for the box shown on hovering the info icon */\n",
       ".sk-estimator-doc-link span {\n",
       "  display: none;\n",
       "  z-index: 9999;\n",
       "  position: relative;\n",
       "  font-weight: normal;\n",
       "  right: .2ex;\n",
       "  padding: .5ex;\n",
       "  margin: .5ex;\n",
       "  width: min-content;\n",
       "  min-width: 20ex;\n",
       "  max-width: 50ex;\n",
       "  color: var(--sklearn-color-text);\n",
       "  box-shadow: 2pt 2pt 4pt #999;\n",
       "  /* unfitted */\n",
       "  background: var(--sklearn-color-unfitted-level-0);\n",
       "  border: .5pt solid var(--sklearn-color-unfitted-level-3);\n",
       "}\n",
       "\n",
       ".sk-estimator-doc-link.fitted span {\n",
       "  /* fitted */\n",
       "  background: var(--sklearn-color-fitted-level-0);\n",
       "  border: var(--sklearn-color-fitted-level-3);\n",
       "}\n",
       "\n",
       ".sk-estimator-doc-link:hover span {\n",
       "  display: block;\n",
       "}\n",
       "\n",
       "/* \"?\"-specific style due to the `<a>` HTML tag */\n",
       "\n",
       "#sk-container-id-1 a.estimator_doc_link {\n",
       "  float: right;\n",
       "  font-size: 1rem;\n",
       "  line-height: 1em;\n",
       "  font-family: monospace;\n",
       "  background-color: var(--sklearn-color-background);\n",
       "  border-radius: 1rem;\n",
       "  height: 1rem;\n",
       "  width: 1rem;\n",
       "  text-decoration: none;\n",
       "  /* unfitted */\n",
       "  color: var(--sklearn-color-unfitted-level-1);\n",
       "  border: var(--sklearn-color-unfitted-level-1) 1pt solid;\n",
       "}\n",
       "\n",
       "#sk-container-id-1 a.estimator_doc_link.fitted {\n",
       "  /* fitted */\n",
       "  border: var(--sklearn-color-fitted-level-1) 1pt solid;\n",
       "  color: var(--sklearn-color-fitted-level-1);\n",
       "}\n",
       "\n",
       "/* On hover */\n",
       "#sk-container-id-1 a.estimator_doc_link:hover {\n",
       "  /* unfitted */\n",
       "  background-color: var(--sklearn-color-unfitted-level-3);\n",
       "  color: var(--sklearn-color-background);\n",
       "  text-decoration: none;\n",
       "}\n",
       "\n",
       "#sk-container-id-1 a.estimator_doc_link.fitted:hover {\n",
       "  /* fitted */\n",
       "  background-color: var(--sklearn-color-fitted-level-3);\n",
       "}\n",
       "</style><div id=\"sk-container-id-1\" class=\"sk-top-container\"><div class=\"sk-text-repr-fallback\"><pre>LogisticRegression()</pre><b>In a Jupyter environment, please rerun this cell to show the HTML representation or trust the notebook. <br />On GitHub, the HTML representation is unable to render, please try loading this page with nbviewer.org.</b></div><div class=\"sk-container\" hidden><div class=\"sk-item\"><div class=\"sk-estimator fitted sk-toggleable\"><input class=\"sk-toggleable__control sk-hidden--visually\" id=\"sk-estimator-id-1\" type=\"checkbox\" checked><label for=\"sk-estimator-id-1\" class=\"sk-toggleable__label fitted sk-toggleable__label-arrow fitted\">&nbsp;&nbsp;LogisticRegression<a class=\"sk-estimator-doc-link fitted\" rel=\"noreferrer\" target=\"_blank\" href=\"https://scikit-learn.org/1.4/modules/generated/sklearn.linear_model.LogisticRegression.html\">?<span>Documentation for LogisticRegression</span></a><span class=\"sk-estimator-doc-link fitted\">i<span>Fitted</span></span></label><div class=\"sk-toggleable__content fitted\"><pre>LogisticRegression()</pre></div> </div></div></div></div>"
      ],
      "text/plain": [
       "LogisticRegression()"
      ]
     },
     "execution_count": 27,
     "metadata": {},
     "output_type": "execute_result"
    }
   ],
   "source": [
    "# 建立分類器模型\n",
    "clf = LogisticRegression()\n",
    "clf.fit(vec_train, y_train)\n",
    "clf"
   ]
  },
  {
   "cell_type": "code",
   "execution_count": 28,
   "metadata": {
    "ExecuteTime": {
     "end_time": "2024-04-08T02:53:22.494310Z",
     "start_time": "2024-04-08T02:53:22.489141Z"
    }
   },
   "outputs": [
    {
     "data": {
      "text/plain": [
       "array(['全球', '社會', '要聞', '財經'], dtype=object)"
      ]
     },
     "execution_count": 28,
     "metadata": {},
     "output_type": "execute_result"
    }
   ],
   "source": [
    "clf.classes_"
   ]
  },
  {
   "cell_type": "code",
   "execution_count": 29,
   "metadata": {
    "ExecuteTime": {
     "end_time": "2024-04-08T02:53:23.112042Z",
     "start_time": "2024-04-08T02:53:23.102272Z"
    }
   },
   "outputs": [
    {
     "name": "stdout",
     "output_type": "stream",
     "text": [
      "['社會' '要聞' '社會' '全球' '財經' '財經' '要聞' '社會' '要聞' '要聞']\n"
     ]
    }
   ],
   "source": [
    "y_pred = clf.predict(vec_test)\n",
    "y_pred_proba = clf.predict_proba(vec_test)\n",
    "print(y_pred[:10])"
   ]
  },
  {
   "cell_type": "code",
   "execution_count": 30,
   "metadata": {
    "ExecuteTime": {
     "end_time": "2024-04-08T02:53:23.889822Z",
     "start_time": "2024-04-08T02:53:23.885491Z"
    }
   },
   "outputs": [
    {
     "name": "stdout",
     "output_type": "stream",
     "text": [
      "(2844, 4)\n"
     ]
    },
    {
     "data": {
      "text/plain": [
       "array([2.22598294e-05, 9.99975857e-01, 1.20642477e-06, 6.76256361e-07])"
      ]
     },
     "execution_count": 30,
     "metadata": {},
     "output_type": "execute_result"
    }
   ],
   "source": [
    "print(y_pred_proba.shape)\n",
    "y_pred_proba[0,:]"
   ]
  },
  {
   "cell_type": "code",
   "execution_count": 31,
   "metadata": {
    "ExecuteTime": {
     "end_time": "2024-04-08T02:53:24.921741Z",
     "start_time": "2024-04-08T02:53:24.871953Z"
    }
   },
   "outputs": [
    {
     "name": "stdout",
     "output_type": "stream",
     "text": [
      "              precision    recall  f1-score   support\n",
      "\n",
      "          全球       0.94      0.95      0.94       531\n",
      "          社會       0.97      0.97      0.97       329\n",
      "          要聞       0.99      0.99      0.99      1065\n",
      "          財經       0.99      0.98      0.99       919\n",
      "\n",
      "    accuracy                           0.98      2844\n",
      "   macro avg       0.97      0.97      0.97      2844\n",
      "weighted avg       0.98      0.98      0.98      2844\n",
      "\n"
     ]
    }
   ],
   "source": [
    "## Accuracy, Precision, Recall, F1-score\n",
    "print(classification_report(y_test, y_pred))"
   ]
  },
  {
   "cell_type": "code",
   "execution_count": 32,
   "metadata": {
    "ExecuteTime": {
     "end_time": "2024-04-08T02:53:26.119279Z",
     "start_time": "2024-04-08T02:53:26.109443Z"
    }
   },
   "outputs": [
    {
     "data": {
      "text/plain": [
       "array([[ 505,    8,    6,   12],\n",
       "       [   9,  318,    2,    0],\n",
       "       [  12,    2, 1051,    0],\n",
       "       [  13,    1,    0,  905]], dtype=int64)"
      ]
     },
     "execution_count": 32,
     "metadata": {},
     "output_type": "execute_result"
    }
   ],
   "source": [
    "classes = clf.classes_\n",
    "cm = confusion_matrix(y_test, y_pred)\n",
    "cm"
   ]
  },
  {
   "cell_type": "code",
   "execution_count": 33,
   "metadata": {
    "ExecuteTime": {
     "end_time": "2024-04-08T02:53:27.675560Z",
     "start_time": "2024-04-08T02:53:27.553101Z"
    }
   },
   "outputs": [
    {
     "data": {
      "text/plain": [
       "(array([0.5, 1.5, 2.5, 3.5]),\n",
       " [Text(0, 0.5, '全球'),\n",
       "  Text(0, 1.5, '社會'),\n",
       "  Text(0, 2.5, '要聞'),\n",
       "  Text(0, 3.5, '財經')])"
      ]
     },
     "execution_count": 33,
     "metadata": {},
     "output_type": "execute_result"
    },
    {
     "data": {
      "image/png": "[encoded data removed]",
      "text/plain": [
       "<Figure size 432x288 with 1 Axes>"
      ]
     },
     "metadata": {
      "needs_background": "light"
     },
     "output_type": "display_data"
    }
   ],
   "source": [
    "## Plot confusion matrix\n",
    "fig, ax = plt.subplots()\n",
    "sns.heatmap(cm, annot=True, fmt=\"d\", ax=ax, cmap=plt.cm.Blues, cbar=False)\n",
    "ax.set(\n",
    "    xlabel=\"Pred\",\n",
    "    ylabel=\"True\",\n",
    "    xticklabels=classes,\n",
    "    yticklabels=classes,\n",
    "    title=\"Confusion matrix\",\n",
    ")\n",
    "plt.yticks(rotation=0)"
   ]
  },
  {
   "attachments": {},
   "cell_type": "markdown",
   "metadata": {},
   "source": [
    "### 3.4 tfidf"
   ]
  },
  {
   "attachments": {},
   "cell_type": "markdown",
   "metadata": {},
   "source": [
    "改試試看使用 tf-idf 的 DTM 來代表文章，訓練分類模型的效果"
   ]
  },
  {
   "cell_type": "code",
   "execution_count": 34,
   "metadata": {
    "ExecuteTime": {
     "end_time": "2024-04-08T02:53:34.417192Z",
     "start_time": "2024-04-08T02:53:32.904590Z"
    }
   },
   "outputs": [
    {
     "data": {
      "text/plain": [
       "array([0.        , 0.        , 0.        , 0.        , 0.        ,\n",
       "       0.        , 0.        , 0.        , 0.        , 0.        ,\n",
       "       0.        , 0.        , 0.        , 0.        , 0.        ,\n",
       "       0.        , 0.        , 0.        , 0.        , 0.        ,\n",
       "       0.        , 0.        , 0.        , 0.        , 0.        ,\n",
       "       0.03893692, 0.        , 0.        , 0.08473503, 0.        ,\n",
       "       0.        , 0.        , 0.        , 0.        , 0.        ,\n",
       "       0.        , 0.        , 0.        , 0.        , 0.        ,\n",
       "       0.        , 0.        , 0.        , 0.        , 0.        ,\n",
       "       0.        , 0.        , 0.        , 0.        , 0.        ,\n",
       "       0.        , 0.        , 0.        , 0.        , 0.        ,\n",
       "       0.04536111, 0.        , 0.        , 0.        , 0.        ,\n",
       "       0.        , 0.        , 0.        , 0.        , 0.        ,\n",
       "       0.        , 0.        , 0.        , 0.        , 0.        ,\n",
       "       0.        , 0.        , 0.        , 0.        , 0.        ,\n",
       "       0.        , 0.        , 0.        , 0.        , 0.        ,\n",
       "       0.        , 0.        , 0.        , 0.        , 0.        ,\n",
       "       0.        , 0.        , 0.        , 0.        , 0.        ,\n",
       "       0.        , 0.        , 0.        , 0.        , 0.        ,\n",
       "       0.        , 0.        , 0.        , 0.        , 0.        ,\n",
       "       0.        , 0.        , 0.        , 0.        , 0.        ,\n",
       "       0.        , 0.        , 0.        , 0.        , 0.        ,\n",
       "       0.08793988, 0.        , 0.        , 0.        , 0.        ,\n",
       "       0.        , 0.        , 0.        , 0.        , 0.        ,\n",
       "       0.        , 0.        , 0.        , 0.        , 0.        ,\n",
       "       0.        , 0.        , 0.        , 0.        , 0.        ,\n",
       "       0.        , 0.        , 0.        , 0.        , 0.        ,\n",
       "       0.        , 0.        , 0.        , 0.        , 0.        ,\n",
       "       0.        , 0.        , 0.        , 0.        , 0.        ,\n",
       "       0.        , 0.        , 0.        , 0.        , 0.        ,\n",
       "       0.        , 0.        , 0.        , 0.        , 0.        ,\n",
       "       0.        , 0.        , 0.        , 0.05401309, 0.        ,\n",
       "       0.        , 0.        , 0.        , 0.        , 0.24271943,\n",
       "       0.        , 0.        , 0.        , 0.        , 0.        ,\n",
       "       0.        , 0.        , 0.        , 0.        , 0.        ,\n",
       "       0.        , 0.        , 0.        , 0.        , 0.        ,\n",
       "       0.        , 0.        , 0.        , 0.        , 0.        ,\n",
       "       0.        , 0.        , 0.        , 0.        , 0.        ,\n",
       "       0.        , 0.        , 0.        , 0.        , 0.        ,\n",
       "       0.        , 0.        , 0.        , 0.        , 0.        ,\n",
       "       0.        , 0.        , 0.        , 0.        , 0.        ,\n",
       "       0.        , 0.        , 0.        , 0.        , 0.        ,\n",
       "       0.        , 0.        , 0.        , 0.        , 0.        ,\n",
       "       0.        , 0.        , 0.        , 0.        , 0.        ,\n",
       "       0.        , 0.        , 0.        , 0.        , 0.        ,\n",
       "       0.        , 0.        , 0.        , 0.        , 0.        ,\n",
       "       0.        , 0.        , 0.        , 0.        , 0.        ,\n",
       "       0.        , 0.04293025, 0.        , 0.        , 0.        ,\n",
       "       0.        , 0.        , 0.        , 0.        , 0.        ,\n",
       "       0.        , 0.        , 0.        , 0.        , 0.        ,\n",
       "       0.        , 0.        , 0.        , 0.07192365, 0.        ,\n",
       "       0.        , 0.        , 0.        , 0.        , 0.        ,\n",
       "       0.        , 0.        , 0.        , 0.11900537, 0.        ,\n",
       "       0.06235413, 0.        , 0.        , 0.        , 0.        ,\n",
       "       0.        , 0.        , 0.        , 0.        , 0.        ,\n",
       "       0.        , 0.        , 0.        , 0.        , 0.        ,\n",
       "       0.        , 0.        , 0.09743944, 0.        , 0.        ,\n",
       "       0.        , 0.        , 0.        , 0.        , 0.        ,\n",
       "       0.        , 0.        , 0.        , 0.        , 0.        ,\n",
       "       0.        , 0.        , 0.        , 0.        , 0.        ,\n",
       "       0.        , 0.        , 0.        , 0.        , 0.        ,\n",
       "       0.        , 0.        , 0.        , 0.03985936, 0.        ,\n",
       "       0.        , 0.        , 0.        , 0.        , 0.        ,\n",
       "       0.        , 0.        , 0.        , 0.        , 0.        ,\n",
       "       0.        , 0.        , 0.        , 0.        , 0.        ,\n",
       "       0.        , 0.        , 0.        , 0.        , 0.        ,\n",
       "       0.        , 0.        , 0.        , 0.        , 0.        ,\n",
       "       0.        , 0.        , 0.        , 0.        , 0.        ,\n",
       "       0.        , 0.        , 0.        , 0.        , 0.        ,\n",
       "       0.        , 0.        , 0.        , 0.        , 0.        ,\n",
       "       0.        , 0.        , 0.        , 0.04436595, 0.        ,\n",
       "       0.        , 0.        , 0.        , 0.        , 0.        ,\n",
       "       0.        , 0.        , 0.        , 0.        , 0.        ,\n",
       "       0.        , 0.        , 0.        , 0.        , 0.        ,\n",
       "       0.        , 0.        , 0.        , 0.        , 0.        ,\n",
       "       0.04536111, 0.        , 0.        , 0.        , 0.        ,\n",
       "       0.        , 0.        , 0.        , 0.        , 0.        ,\n",
       "       0.        , 0.04100113, 0.        , 0.        , 0.        ,\n",
       "       0.        , 0.        , 0.        , 0.        , 0.        ,\n",
       "       0.        , 0.        , 0.        , 0.        , 0.        ,\n",
       "       0.        , 0.        , 0.        , 0.        , 0.        ,\n",
       "       0.        , 0.        , 0.        , 0.        , 0.        ,\n",
       "       0.        , 0.        , 0.        , 0.        , 0.        ,\n",
       "       0.        , 0.        , 0.        , 0.        , 0.        ,\n",
       "       0.        , 0.        , 0.        , 0.        , 0.        ,\n",
       "       0.        , 0.        , 0.        , 0.        , 0.        ,\n",
       "       0.        , 0.        , 0.        , 0.        , 0.0343737 ,\n",
       "       0.        , 0.        , 0.        , 0.        , 0.        ,\n",
       "       0.        , 0.        , 0.        , 0.        , 0.        ,\n",
       "       0.        , 0.        , 0.        , 0.        , 0.        ,\n",
       "       0.        , 0.        , 0.        , 0.        , 0.        ,\n",
       "       0.        , 0.        , 0.        , 0.        , 0.        ,\n",
       "       0.        , 0.        , 0.        , 0.        , 0.        ,\n",
       "       0.        , 0.        , 0.        , 0.        , 0.        ,\n",
       "       0.        , 0.        , 0.        , 0.        , 0.        ,\n",
       "       0.        , 0.        , 0.        , 0.        , 0.        ,\n",
       "       0.        , 0.        , 0.        , 0.        , 0.        ,\n",
       "       0.        , 0.        , 0.        , 0.        , 0.        ,\n",
       "       0.        , 0.        , 0.        , 0.        , 0.03119861,\n",
       "       0.        , 0.        , 0.        , 0.        , 0.        ,\n",
       "       0.        , 0.        , 0.        , 0.        , 0.        ,\n",
       "       0.        , 0.        , 0.31894435, 0.        , 0.        ,\n",
       "       0.        , 0.        , 0.        , 0.        , 0.        ,\n",
       "       0.        , 0.        , 0.        , 0.        , 0.        ,\n",
       "       0.        , 0.        , 0.        , 0.        , 0.        ,\n",
       "       0.        , 0.        , 0.        , 0.        , 0.        ,\n",
       "       0.        , 0.        , 0.        , 0.        , 0.        ,\n",
       "       0.        , 0.        , 0.        , 0.        , 0.        ,\n",
       "       0.        , 0.        , 0.        , 0.        , 0.        ,\n",
       "       0.        , 0.        , 0.        , 0.        , 0.12656468,\n",
       "       0.        , 0.        , 0.        , 0.        , 0.        ,\n",
       "       0.04532109, 0.        , 0.        , 0.        , 0.        ,\n",
       "       0.        , 0.        , 0.        , 0.        , 0.        ,\n",
       "       0.        , 0.        , 0.        , 0.        , 0.        ,\n",
       "       0.        , 0.        , 0.        , 0.        , 0.        ,\n",
       "       0.        , 0.        , 0.        , 0.        , 0.        ,\n",
       "       0.        , 0.        , 0.        , 0.        , 0.        ,\n",
       "       0.        , 0.        , 0.        , 0.        , 0.        ,\n",
       "       0.        , 0.        , 0.        , 0.        , 0.        ,\n",
       "       0.        , 0.        , 0.        , 0.        , 0.        ,\n",
       "       0.        , 0.        , 0.        , 0.        , 0.        ,\n",
       "       0.        , 0.        , 0.        , 0.        , 0.        ,\n",
       "       0.        , 0.        , 0.        , 0.        , 0.        ,\n",
       "       0.        , 0.        , 0.        , 0.        , 0.        ,\n",
       "       0.        , 0.        , 0.03534252, 0.        , 0.67682193,\n",
       "       0.        , 0.        , 0.        , 0.        , 0.        ,\n",
       "       0.        , 0.        , 0.        , 0.        , 0.        ,\n",
       "       0.        , 0.        , 0.        , 0.        , 0.        ,\n",
       "       0.        , 0.        , 0.        , 0.        , 0.        ,\n",
       "       0.        , 0.        , 0.        , 0.        , 0.        ,\n",
       "       0.        , 0.        , 0.        , 0.        , 0.        ,\n",
       "       0.        , 0.        , 0.        , 0.        , 0.        ,\n",
       "       0.        , 0.        , 0.        , 0.        , 0.        ,\n",
       "       0.        , 0.        , 0.        , 0.        , 0.        ,\n",
       "       0.        , 0.        , 0.        , 0.        , 0.        ,\n",
       "       0.        , 0.        , 0.        , 0.        , 0.04332133,\n",
       "       0.        , 0.        , 0.        , 0.        , 0.        ,\n",
       "       0.        , 0.        , 0.        , 0.        , 0.        ,\n",
       "       0.04032679, 0.03486237, 0.        , 0.        , 0.        ,\n",
       "       0.        , 0.        , 0.        , 0.        , 0.        ,\n",
       "       0.        , 0.        , 0.        , 0.        , 0.        ,\n",
       "       0.        , 0.        , 0.        , 0.        , 0.03594506,\n",
       "       0.        , 0.        , 0.        , 0.        , 0.        ,\n",
       "       0.        , 0.        , 0.        , 0.        , 0.        ,\n",
       "       0.        , 0.        , 0.        , 0.        , 0.        ,\n",
       "       0.03344485, 0.        , 0.        , 0.        , 0.        ,\n",
       "       0.        , 0.        , 0.        , 0.        , 0.        ,\n",
       "       0.        , 0.        , 0.        , 0.        , 0.        ,\n",
       "       0.        , 0.        , 0.        , 0.        , 0.        ,\n",
       "       0.        , 0.        , 0.        , 0.        , 0.        ,\n",
       "       0.        , 0.        , 0.        , 0.        , 0.        ,\n",
       "       0.        , 0.        , 0.        , 0.        , 0.        ,\n",
       "       0.        , 0.        , 0.        , 0.        , 0.        ,\n",
       "       0.        , 0.        , 0.        , 0.        , 0.        ,\n",
       "       0.        , 0.        , 0.        , 0.        , 0.        ,\n",
       "       0.        , 0.        , 0.        , 0.        , 0.        ,\n",
       "       0.        , 0.        , 0.        , 0.        , 0.        ,\n",
       "       0.        , 0.        , 0.        , 0.        , 0.        ,\n",
       "       0.        , 0.        , 0.        , 0.        , 0.        ,\n",
       "       0.        , 0.        , 0.        , 0.        , 0.        ,\n",
       "       0.        , 0.        , 0.09372914, 0.        , 0.        ,\n",
       "       0.        , 0.        , 0.        , 0.        , 0.        ,\n",
       "       0.        , 0.        , 0.        , 0.02564794, 0.        ,\n",
       "       0.        , 0.        , 0.        , 0.        , 0.        ,\n",
       "       0.        , 0.        , 0.        , 0.        , 0.        ,\n",
       "       0.        , 0.        , 0.        , 0.        , 0.        ,\n",
       "       0.        , 0.        , 0.        , 0.        , 0.        ,\n",
       "       0.        , 0.        , 0.        , 0.        , 0.        ,\n",
       "       0.        , 0.        , 0.        , 0.        , 0.        ,\n",
       "       0.        , 0.        , 0.        , 0.        , 0.        ,\n",
       "       0.        , 0.        , 0.        , 0.        , 0.        ,\n",
       "       0.        , 0.        , 0.        , 0.        , 0.        ,\n",
       "       0.        , 0.        , 0.        , 0.        , 0.        ,\n",
       "       0.        , 0.        , 0.        , 0.        , 0.        ,\n",
       "       0.        , 0.        , 0.        , 0.        , 0.        ,\n",
       "       0.        , 0.        , 0.        , 0.        , 0.        ,\n",
       "       0.        , 0.        , 0.        , 0.        , 0.        ,\n",
       "       0.        , 0.        , 0.        , 0.        , 0.        ,\n",
       "       0.        , 0.        , 0.        , 0.        , 0.        ,\n",
       "       0.        , 0.        , 0.        , 0.        , 0.        ,\n",
       "       0.45369218, 0.        , 0.        , 0.        , 0.        ,\n",
       "       0.        , 0.        , 0.        , 0.        , 0.        ,\n",
       "       0.        , 0.        , 0.        , 0.        , 0.        ,\n",
       "       0.        , 0.        , 0.        , 0.        , 0.        ,\n",
       "       0.        , 0.        , 0.        , 0.        , 0.        ,\n",
       "       0.        , 0.        , 0.        , 0.        , 0.        ,\n",
       "       0.        , 0.        , 0.        , 0.        , 0.        ,\n",
       "       0.        , 0.        , 0.        , 0.        , 0.        ,\n",
       "       0.        , 0.        , 0.        , 0.        , 0.        ,\n",
       "       0.        , 0.        , 0.0309956 , 0.        , 0.        ,\n",
       "       0.        , 0.        , 0.        , 0.        , 0.        ,\n",
       "       0.        , 0.        , 0.        , 0.        , 0.        ,\n",
       "       0.        , 0.        , 0.        , 0.        , 0.        ,\n",
       "       0.        , 0.        , 0.0310593 , 0.        , 0.        ,\n",
       "       0.        , 0.        , 0.        , 0.03835608, 0.11844261,\n",
       "       0.        , 0.        , 0.        , 0.        , 0.21083136,\n",
       "       0.        , 0.09795365, 0.        , 0.0340598 , 0.        ,\n",
       "       0.        , 0.        , 0.        , 0.03869649, 0.        ,\n",
       "       0.        , 0.        , 0.        , 0.        , 0.        ,\n",
       "       0.        , 0.        , 0.        , 0.        , 0.        ])"
      ]
     },
     "execution_count": 34,
     "metadata": {},
     "output_type": "execute_result"
    }
   ],
   "source": [
    "vectorizer = TfidfVectorizer(max_features=1000)\n",
    "vec_train = vectorizer.fit_transform(X_train)\n",
    "vec_test = vectorizer.transform(X_test)\n",
    "vec_train.toarray()[0,:]"
   ]
  },
  {
   "cell_type": "code",
   "execution_count": null,
   "metadata": {
    "ExecuteTime": {
     "end_time": "2024-04-08T02:53:35.339413Z",
     "start_time": "2024-04-08T02:53:35.142848Z"
    }
   },
   "outputs": [
    {
     "name": "stdout",
     "output_type": "stream",
     "text": [
      "              precision    recall  f1-score   support\n",
      "\n",
      "          全球       0.95      0.95      0.95       531\n",
      "          社會       0.96      0.96      0.96       329\n",
      "          要聞       0.99      0.99      0.99      1065\n",
      "          財經       0.98      0.98      0.98       919\n",
      "\n",
      "    accuracy                           0.98      2844\n",
      "   macro avg       0.97      0.97      0.97      2844\n",
      "weighted avg       0.98      0.98      0.98      2844\n",
      "\n"
     ]
    }
   ],
   "source": [
    "clf.fit(vec_train, y_train)\n",
    "y_pred = clf.predict(vec_test)\n",
    "y_pred_proba = clf.predict_proba(vec_test)\n",
    "\n",
    "# results\n",
    "## Accuracy, Precision, Recall, F1-score\n",
    "print(classification_report(y_test, y_pred))"
   ]
  },
  {
   "cell_type": "code",
   "execution_count": null,
   "metadata": {
    "ExecuteTime": {
     "end_time": "2024-04-08T02:53:35.614020Z",
     "start_time": "2024-04-08T02:53:35.603308Z"
    }
   },
   "outputs": [
    {
     "data": {
      "text/plain": [
       "array([[ 502,    9,    6,   14],\n",
       "       [   4,  315,    6,    4],\n",
       "       [  10,    2, 1052,    1],\n",
       "       [  13,    1,    0,  905]], dtype=int64)"
      ]
     },
     "execution_count": 139,
     "metadata": {},
     "output_type": "execute_result"
    }
   ],
   "source": [
    "classes = clf.classes_\n",
    "cm = confusion_matrix(y_test, y_pred)\n",
    "cm"
   ]
  },
  {
   "cell_type": "code",
   "execution_count": null,
   "metadata": {
    "ExecuteTime": {
     "end_time": "2024-04-08T02:53:36.144939Z",
     "start_time": "2024-04-08T02:53:36.009087Z"
    }
   },
   "outputs": [
    {
     "data": {
      "text/plain": [
       "(array([0.5, 1.5, 2.5, 3.5]),\n",
       " [Text(0, 0.5, '全球'),\n",
       "  Text(0, 1.5, '社會'),\n",
       "  Text(0, 2.5, '要聞'),\n",
       "  Text(0, 3.5, '財經')])"
      ]
     },
     "execution_count": 140,
     "metadata": {},
     "output_type": "execute_result"
    },
    {
     "data": {
      "image/png": "[encoded data removed]",
      "text/plain": [
       "<Figure size 640x480 with 1 Axes>"
      ]
     },
     "metadata": {},
     "output_type": "display_data"
    }
   ],
   "source": [
    "## Plot confusion matrix\n",
    "fig, ax = plt.subplots()\n",
    "sns.heatmap(cm, annot=True, fmt=\"d\", ax=ax, cmap=plt.cm.Blues, cbar=False)\n",
    "ax.set(\n",
    "    xlabel=\"Pred\",\n",
    "    ylabel=\"True\",\n",
    "    xticklabels=classes,\n",
    "    yticklabels=classes,\n",
    "    title=\"Confusion matrix\",\n",
    ")\n",
    "plt.yticks(rotation=0)"
   ]
  },
  {
   "attachments": {},
   "cell_type": "markdown",
   "metadata": {},
   "source": [
    "效果一樣也是不錯，可能因為四個新聞版別本來就有很大的差異，用字遣詞會不同。 \n",
    "故可以有相似成效。"
   ]
  },
  {
   "attachments": {},
   "cell_type": "markdown",
   "metadata": {},
   "source": [
    "### 3.5 CV  "
   ]
  },
  {
   "attachments": {},
   "cell_type": "markdown",
   "metadata": {},
   "source": [
    "接著介紹 cross-validation。CV 在機器學習中，是一個很常用來讓模型評估能夠得到更穩定的數值的手法。 "
   ]
  },
  {
   "attachments": {},
   "cell_type": "markdown",
   "metadata": {},
   "source": [
    "* figure1:  "
   ]
  },
  {
   "attachments": {},
   "cell_type": "markdown",
   "metadata": {},
   "source": [
    "![](images/grid_search_workflow.png) "
   ]
  },
  {
   "attachments": {},
   "cell_type": "markdown",
   "metadata": {},
   "source": [
    "* figure 2:  "
   ]
  },
  {
   "attachments": {},
   "cell_type": "markdown",
   "metadata": {},
   "source": [
    "![](https://scikit-learn.org/stable/_images/grid_search_cross_validation.png)"
   ]
  },
  {
   "attachments": {},
   "cell_type": "markdown",
   "metadata": {},
   "source": [
    "source: <https://scikit-learn.org/stable/modules/cross_validation.html#cross-validation-and-model-selection>"
   ]
  },
  {
   "attachments": {},
   "cell_type": "markdown",
   "metadata": {},
   "source": [
    "cross-validation 會自動切成 k 組 train-test dataset。  \n",
    "`cross_validate()` 會回傳經過 cross-validation 的模型評估結果。"
   ]
  },
  {
   "cell_type": "code",
   "execution_count": 35,
   "metadata": {
    "ExecuteTime": {
     "end_time": "2024-04-08T02:53:43.543302Z",
     "start_time": "2024-04-08T02:53:41.922407Z"
    }
   },
   "outputs": [
    {
     "name": "stdout",
     "output_type": "stream",
     "text": [
      "{'estimator': [LogisticRegression(),\n",
      "               LogisticRegression(),\n",
      "               LogisticRegression(),\n",
      "               LogisticRegression(),\n",
      "               LogisticRegression()],\n",
      " 'fit_time': array([0.14860582, 0.12267303, 0.15156198, 0.12068176, 0.14565516]),\n",
      " 'score_time': array([0.02293968, 0.02596235, 0.02297902, 0.02389884, 0.02194071]),\n",
      " 'test_f1_macro': array([0.96350265, 0.95623599, 0.96323367, 0.95730636, 0.96322803]),\n",
      " 'test_precision_macro': array([0.96653998, 0.95659086, 0.96293366, 0.95995027, 0.96539895]),\n",
      " 'test_recall_macro': array([0.96077013, 0.95599989, 0.96357226, 0.95490711, 0.961133  ])}\n"
     ]
    }
   ],
   "source": [
    "clf = LogisticRegression()\n",
    "vec_train = TfidfVectorizer(max_features=1000).fit_transform(X_train)\n",
    "\n",
    "scores = cross_validate(clf, vec_train, y_train, cv=5, scoring=(\"f1_macro\", \"recall_macro\", \"precision_macro\"), return_estimator=True)\n",
    "pprint(scores)"
   ]
  },
  {
   "cell_type": "markdown",
   "metadata": {},
   "source": [
    "`cross_val_predict()` 則會回傳 cv 預測的類別。"
   ]
  },
  {
   "cell_type": "code",
   "execution_count": 36,
   "metadata": {
    "ExecuteTime": {
     "end_time": "2024-04-08T02:53:45.714160Z",
     "start_time": "2024-04-08T02:53:45.039334Z"
    }
   },
   "outputs": [
    {
     "name": "stdout",
     "output_type": "stream",
     "text": [
      "              precision    recall  f1-score   support\n",
      "\n",
      "          全球       0.94      0.94      0.94      1264\n",
      "          社會       0.96      0.94      0.95       767\n",
      "          要聞       0.99      0.98      0.99      2485\n",
      "          財經       0.96      0.98      0.97      2119\n",
      "\n",
      "    accuracy                           0.97      6635\n",
      "   macro avg       0.96      0.96      0.96      6635\n",
      "weighted avg       0.97      0.97      0.97      6635\n",
      "\n"
     ]
    }
   ],
   "source": [
    "y_pred = cross_val_predict(clf, vec_train, y_train, cv=5)\n",
    "print(classification_report(y_train, y_pred))"
   ]
  },
  {
   "attachments": {},
   "cell_type": "markdown",
   "metadata": {},
   "source": [
    "## 4. 比較不同模型效果"
   ]
  },
  {
   "cell_type": "code",
   "execution_count": 37,
   "metadata": {
    "ExecuteTime": {
     "end_time": "2024-04-08T02:53:47.336540Z",
     "start_time": "2024-04-08T02:53:47.330682Z"
    },
    "scrolled": true
   },
   "outputs": [],
   "source": [
    "# 定義模型訓練組合\n",
    "## pipeline: 資料處理 vectorizer + 分類器 clf\n",
    "## 由於 cross-validation 會自動將資料分成 train/test，因此 input 只要給 X, y 即可\n",
    "\n",
    "def train_cv(vectorizer, clf, X, y):\n",
    "\n",
    "    ## train classifier\n",
    "    vec_X = vectorizer.fit_transform(X).toarray()\n",
    "    \n",
    "    ## get cv results\n",
    "    cv_results = cross_validate(clf, vec_X, y, cv=5, return_estimator=True)\n",
    "    y_pred = cross_val_predict(clf, vec_X, y, cv=5)\n",
    "    y_pred_proba = cross_val_predict(clf, vec_X, y, cv=5, method=\"predict_proba\")\n",
    "    \n",
    "    ## Accuracy, Precision, Recall, F1-score\n",
    "    cls_report = classification_report(y, y_pred, output_dict=True)\n",
    "    print(classification_report(y, y_pred))\n",
    "\n",
    "    classes = cv_results['estimator'][0].classes_\n",
    "    \n",
    "    ## Plot confusion matrix\n",
    "    cm = confusion_matrix(y, y_pred)\n",
    "    fig, ax = plt.subplots()\n",
    "    sns.heatmap(cm, annot=True, fmt=\"d\", ax=ax, cmap=plt.cm.Blues, cbar=False)\n",
    "    ax.set(\n",
    "        xlabel=\"Pred\",\n",
    "        ylabel=\"True\",\n",
    "        xticklabels=classes,\n",
    "        yticklabels=classes,\n",
    "        title= str(clf) + \"Confusion matrix\",\n",
    "    )\n",
    "    plt.yticks(rotation=0)\n",
    "\n",
    "    clf.fit(vec_X, y)\n",
    "    # return the model object\n",
    "    return cls_report"
   ]
  },
  {
   "cell_type": "code",
   "execution_count": 38,
   "metadata": {
    "ExecuteTime": {
     "end_time": "2024-04-08T02:53:58.981903Z",
     "start_time": "2024-04-08T02:53:50.393077Z"
    }
   },
   "outputs": [
    {
     "name": "stdout",
     "output_type": "stream",
     "text": [
      "              precision    recall  f1-score   support\n",
      "\n",
      "          全球       0.94      0.94      0.94      1264\n",
      "          社會       0.96      0.94      0.95       767\n",
      "          要聞       0.99      0.98      0.99      2485\n",
      "          財經       0.96      0.98      0.97      2119\n",
      "\n",
      "    accuracy                           0.97      6635\n",
      "   macro avg       0.96      0.96      0.96      6635\n",
      "weighted avg       0.97      0.97      0.97      6635\n",
      "\n"
     ]
    },
    {
     "data": {
      "image/png": "[encoded data removed]",
      "text/plain": [
       "<Figure size 432x288 with 1 Axes>"
      ]
     },
     "metadata": {
      "needs_background": "light"
     },
     "output_type": "display_data"
    }
   ],
   "source": [
    "vectorizer = TfidfVectorizer(max_features=1000)\n",
    "clf = LogisticRegression()\n",
    "result = train_cv(vectorizer, clf, X_train, y_train)"
   ]
  },
  {
   "cell_type": "code",
   "execution_count": 39,
   "metadata": {
    "ExecuteTime": {
     "end_time": "2024-04-08T03:00:51.849710Z",
     "start_time": "2024-04-08T02:54:02.476767Z"
    }
   },
   "outputs": [
    {
     "name": "stdout",
     "output_type": "stream",
     "text": [
      "====================================================================================================\n",
      "now training: clf_logistic\n",
      "              precision    recall  f1-score   support\n",
      "\n",
      "          全球       0.94      0.94      0.94      1264\n",
      "          社會       0.96      0.94      0.95       767\n",
      "          要聞       0.99      0.98      0.99      2485\n",
      "          財經       0.96      0.98      0.97      2119\n",
      "\n",
      "    accuracy                           0.97      6635\n",
      "   macro avg       0.96      0.96      0.96      6635\n",
      "weighted avg       0.97      0.97      0.97      6635\n",
      "\n",
      "====================================================================================================\n",
      "====================================================================================================\n",
      "now training: clf_dtree\n",
      "              precision    recall  f1-score   support\n",
      "\n",
      "          全球       0.82      0.84      0.83      1264\n",
      "          社會       0.86      0.83      0.84       767\n",
      "          要聞       0.98      0.98      0.98      2485\n",
      "          財經       0.94      0.94      0.94      2119\n",
      "\n",
      "    accuracy                           0.92      6635\n",
      "   macro avg       0.90      0.90      0.90      6635\n",
      "weighted avg       0.92      0.92      0.92      6635\n",
      "\n",
      "====================================================================================================\n",
      "====================================================================================================\n",
      "now training: clf_svm\n",
      "              precision    recall  f1-score   support\n",
      "\n",
      "          全球       0.94      0.95      0.95      1264\n",
      "          社會       0.96      0.94      0.95       767\n",
      "          要聞       0.99      0.99      0.99      2485\n",
      "          財經       0.98      0.98      0.98      2119\n",
      "\n",
      "    accuracy                           0.97      6635\n",
      "   macro avg       0.97      0.97      0.97      6635\n",
      "weighted avg       0.97      0.97      0.97      6635\n",
      "\n",
      "====================================================================================================\n",
      "====================================================================================================\n",
      "now training: clf_rf\n",
      "              precision    recall  f1-score   support\n",
      "\n",
      "          全球       0.94      0.91      0.92      1264\n",
      "          社會       0.94      0.94      0.94       767\n",
      "          要聞       0.99      0.99      0.99      2485\n",
      "          財經       0.96      0.99      0.97      2119\n",
      "\n",
      "    accuracy                           0.97      6635\n",
      "   macro avg       0.96      0.95      0.96      6635\n",
      "weighted avg       0.97      0.97      0.97      6635\n",
      "\n",
      "====================================================================================================\n"
     ]
    },
    {
     "data": {
      "image/png": "[encoded data removed]",
      "text/plain": [
       "<Figure size 432x288 with 1 Axes>"
      ]
     },
     "metadata": {
      "needs_background": "light"
     },
     "output_type": "display_data"
    },
    {
     "data": {
      "image/png": "[encoded data removed]",
      "text/plain": [
       "<Figure size 432x288 with 1 Axes>"
      ]
     },
     "metadata": {
      "needs_background": "light"
     },
     "output_type": "display_data"
    },
    {
     "data": {
      "image/png": "[encoded data removed]",
      "text/plain": [
       "<Figure size 432x288 with 1 Axes>"
      ]
     },
     "metadata": {
      "needs_background": "light"
     },
     "output_type": "display_data"
    },
    {
     "data": {
      "image/png": "[encoded data removed]",
      "text/plain": [
       "<Figure size 432x288 with 1 Axes>"
      ]
     },
     "metadata": {
      "needs_background": "light"
     },
     "output_type": "display_data"
    }
   ],
   "source": [
    "# 準備訓練資料\n",
    "X = data[\"words\"]\n",
    "y = data[\"artCatagory\"]\n",
    "\n",
    "# 把整個資料集七三切\n",
    "X_train, X_test, y_train, y_test = train_test_split(\n",
    "    X, y, test_size=0.3, random_state=777\n",
    ")\n",
    "# 定義模型訓練組合\n",
    "model_set = dict()\n",
    "model_set['clf_logistic'] = LogisticRegression()\n",
    "model_set['clf_dtree'] = DecisionTreeClassifier()\n",
    "model_set['clf_svm'] = svm.SVC(probability=True) # 要使用SVM的predict_proba的話，必須在叫出SVC的時候就將probability設為True\n",
    "model_set['clf_rf'] = RandomForestClassifier()\n",
    "# 定義 vectorizer\n",
    "# vectorizer = CountVectorizer(max_features=1000)\n",
    "vectorizer = TfidfVectorizer(max_features=1000)\n",
    "# 存結果\n",
    "result_set = dict()\n",
    "\n",
    "for k, model in model_set.items():\n",
    "    print(\"=\"*100)\n",
    "    print(f\"now training: {k}\")\n",
    "    result_set[k] = train_cv(vectorizer, model, X_train, y_train)\n",
    "    print(\"=\"*100)"
   ]
  },
  {
   "cell_type": "code",
   "execution_count": 40,
   "metadata": {
    "ExecuteTime": {
     "end_time": "2024-04-08T03:01:00.041202Z",
     "start_time": "2024-04-08T03:01:00.035870Z"
    }
   },
   "outputs": [
    {
     "data": {
      "text/plain": [
       "{'全球': {'precision': 0.9358669833729216,\n",
       "  'recall': 0.935126582278481,\n",
       "  'f1-score': 0.9354966363276612,\n",
       "  'support': 1264.0},\n",
       " '社會': {'precision': 0.9601063829787234,\n",
       "  'recall': 0.9413298565840938,\n",
       "  'f1-score': 0.9506254114549045,\n",
       "  'support': 767.0},\n",
       " '要聞': {'precision': 0.9882875605815832,\n",
       "  'recall': 0.9847082494969819,\n",
       "  'f1-score': 0.9864946583350132,\n",
       "  'support': 2485.0},\n",
       " '財經': {'precision': 0.9645522388059702,\n",
       "  'recall': 0.975932043416706,\n",
       "  'f1-score': 0.9702087731644382,\n",
       "  'support': 2119.0},\n",
       " 'accuracy': 0.9674453654860588,\n",
       " 'macro avg': {'precision': 0.9622032914347995,\n",
       "  'recall': 0.9592741829440656,\n",
       "  'f1-score': 0.9607063698205043,\n",
       "  'support': 6635.0},\n",
       " 'weighted avg': {'precision': 0.9674631868580467,\n",
       "  'recall': 0.9674453654860588,\n",
       "  'f1-score': 0.9674316586589341,\n",
       "  'support': 6635.0}}"
      ]
     },
     "execution_count": 40,
     "metadata": {},
     "output_type": "execute_result"
    }
   ],
   "source": [
    "result_set['clf_logistic']"
   ]
  },
  {
   "cell_type": "code",
   "execution_count": 41,
   "metadata": {
    "ExecuteTime": {
     "end_time": "2024-04-08T03:01:01.915729Z",
     "start_time": "2024-04-08T03:01:01.909380Z"
    }
   },
   "outputs": [
    {
     "name": "stdout",
     "output_type": "stream",
     "text": [
      "best model: clf_svm\n",
      "{'accuracy': 0.972871137905049,\n",
      " 'macro avg': {'f1-score': 0.965975839675439,\n",
      "               'precision': 0.9666193696212928,\n",
      "               'recall': 0.9653597265636197,\n",
      "               'support': 6635.0},\n",
      " 'weighted avg': {'f1-score': 0.9728747481058516,\n",
      "                  'precision': 0.9728937074646966,\n",
      "                  'recall': 0.972871137905049,\n",
      "                  'support': 6635.0},\n",
      " '全球': {'f1-score': 0.9475758770201025,\n",
      "        'precision': 0.9442262372348782,\n",
      "        'recall': 0.9509493670886076,\n",
      "        'support': 1264.0},\n",
      " '社會': {'f1-score': 0.9501312335958005,\n",
      "        'precision': 0.9564068692206077,\n",
      "        'recall': 0.9439374185136897,\n",
      "        'support': 767.0},\n",
      " '要聞': {'f1-score': 0.9895287958115183,\n",
      "        'precision': 0.9903264812575574,\n",
      "        'recall': 0.9887323943661972,\n",
      "        'support': 2485.0},\n",
      " '財經': {'f1-score': 0.9766674522743342,\n",
      "        'precision': 0.975517890772128,\n",
      "        'recall': 0.9778197262859839,\n",
      "        'support': 2119.0}}\n"
     ]
    }
   ],
   "source": [
    "max = 0\n",
    "best_model_name = \"\"\n",
    "best_model_metric = \"f1-score\"\n",
    "\n",
    "## choose max f1-score model from result_set\n",
    "for k, v in result_set.items():\n",
    "    if v['weighted avg'][best_model_metric] > max:\n",
    "        max = v['weighted avg'][best_model_metric]\n",
    "        best_model_name = k\n",
    "print(f\"best model: {best_model_name}\")\n",
    "pprint(result_set[best_model_name])"
   ]
  },
  {
   "cell_type": "code",
   "execution_count": 42,
   "metadata": {
    "ExecuteTime": {
     "end_time": "2024-04-08T03:01:12.639237Z",
     "start_time": "2024-04-08T03:01:07.446332Z"
    }
   },
   "outputs": [
    {
     "name": "stdout",
     "output_type": "stream",
     "text": [
      "              precision    recall  f1-score   support\n",
      "\n",
      "          全球       0.96      0.97      0.96       531\n",
      "          社會       0.98      0.97      0.97       329\n",
      "          要聞       0.99      0.99      0.99      1065\n",
      "          財經       0.99      0.99      0.99       919\n",
      "\n",
      "    accuracy                           0.98      2844\n",
      "   macro avg       0.98      0.98      0.98      2844\n",
      "weighted avg       0.98      0.98      0.98      2844\n",
      "\n"
     ]
    }
   ],
   "source": [
    "y_pred = model_set['clf_svm'].predict(vectorizer.transform(X_test).toarray())\n",
    "print(classification_report(y_test, y_pred))"
   ]
  },
  {
   "cell_type": "code",
   "execution_count": 47,
   "metadata": {
    "ExecuteTime": {
     "end_time": "2024-04-08T03:01:18.926306Z",
     "start_time": "2024-04-08T03:01:18.917357Z"
    }
   },
   "outputs": [
    {
     "data": {
      "text/plain": [
       "array(['財經'], dtype=object)"
      ]
     },
     "execution_count": 47,
     "metadata": {},
     "output_type": "execute_result"
    }
   ],
   "source": [
    "model_set['clf_svm'].predict(vectorizer.transform([\"半導體 台積電 升值 金融\"]).toarray())"
   ]
  },
  {
   "attachments": {},
   "cell_type": "markdown",
   "metadata": {},
   "source": [
    "* 最佳的 model 為 SVM，其中 Decision Tree 的表現較差外，其餘三個 model （Logistic、SVM、Random Forest）表現差不多。\n",
    "* 另外也可以嘗試用直接的詞頻表作為 `vectorizer`，比較看看相較 tfidf，是否效果更好。"
   ]
  },
  {
   "attachments": {},
   "cell_type": "markdown",
   "metadata": {},
   "source": [
    "## 5. 分析可解釋模型的結果"
   ]
  },
  {
   "attachments": {},
   "cell_type": "markdown",
   "metadata": {},
   "source": [
    "### 5.1 各字詞特徵的estimate係數\n",
    "對於線性的模型，可以藉由相關係數，查看資料特徵（詞）對於判斷分類的影響\n",
    "+ coefficient estimate 代表特徵每增加一單位（在此處會是該文章的某字詞頻 +1），y是1的發生機率比y是0的發生機率多幾倍（odds ratio 勝算比）\n",
    "+ 這裡舉logistic regression + cv tokenizer 為例"
   ]
  },
  {
   "cell_type": "code",
   "execution_count": 50,
   "metadata": {
    "ExecuteTime": {
     "end_time": "2024-04-08T03:01:24.735279Z",
     "start_time": "2024-04-08T03:01:24.729399Z"
    }
   },
   "outputs": [],
   "source": [
    "def plot_coef(logistic_reg_model, feature_names, top_n=10):\n",
    "    # 選出某個類別的前10大影響力字詞\n",
    "    log_odds = logistic_reg_model.coef_.T\n",
    "    coef_df = pd.DataFrame(\n",
    "        log_odds, \n",
    "        columns=logistic_reg_model.classes_, index=feature_names\n",
    "    )\n",
    "    for label in coef_df.columns:\n",
    "        select_words = (\n",
    "            coef_df[[label]]\n",
    "            .sort_values(by=label, ascending=False)\n",
    "            .iloc[np.r_[0:top_n, -top_n:0]]\n",
    "        )\n",
    "        word = select_words.index\n",
    "        count = select_words[label]\n",
    "        category_colors = np.where(\n",
    "            select_words[label] >= 0, \"darkseagreen\", \"rosybrown\"\n",
    "        )  # 設定顏色\n",
    "\n",
    "        fig, ax = plt.subplots(figsize=(8, top_n*0.8))  # 設定畫布\n",
    "        plt.rcParams[\"axes.unicode_minus\"] = False\n",
    "\n",
    "        ax.barh(word, count, color=category_colors)\n",
    "        ax.invert_yaxis()\n",
    "        ax.set_title(\n",
    "            \"Coeff increase/decrease odds ratio of 「\" + label + \"」 label the most\",\n",
    "            loc=\"left\",\n",
    "            size=16,\n",
    "        )\n",
    "        ax.set_ylabel(\"word\", size=14)\n",
    "        ax.set_xlabel(\"odds ratio\", size=14)"
   ]
  },
  {
   "cell_type": "code",
   "execution_count": null,
   "metadata": {
    "ExecuteTime": {
     "end_time": "2024-04-08T03:01:26.689136Z",
     "start_time": "2024-04-08T03:01:25.754934Z"
    }
   },
   "outputs": [
    {
     "data": {
      "image/png": "[encoded data removed]",
      "text/plain": [
       "<Figure size 800x800 with 1 Axes>"
      ]
     },
     "metadata": {},
     "output_type": "display_data"
    },
    {
     "data": {
      "image/png": "[encoded data removed]",
      "text/plain": [
       "<Figure size 800x800 with 1 Axes>"
      ]
     },
     "metadata": {},
     "output_type": "display_data"
    },
    {
     "data": {
      "image/png": "[encoded data removed]",
      "text/plain": [
       "<Figure size 800x800 with 1 Axes>"
      ]
     },
     "metadata": {},
     "output_type": "display_data"
    },
    {
     "data": {
      "image/png": "[encoded data removed]",
      "text/plain": [
       "<Figure size 800x800 with 1 Axes>"
      ]
     },
     "metadata": {},
     "output_type": "display_data"
    }
   ],
   "source": [
    "plot_coef(logistic_reg_model=model_set['clf_logistic'], feature_names=vectorizer.get_feature_names_out(), top_n=10)"
   ]
  },
  {
   "attachments": {},
   "cell_type": "markdown",
   "metadata": {},
   "source": [
    "- 「全球」中出現了日本、美國、南韓還有飛機等國際新聞關鍵字，除了國家名稱外，也提到許多元首名稱，比較特殊的是，「飛機」這個詞語也被廣泛使用，經過查看資料發現國際新聞中常提到飛機相關的新聞，其中很多是描述共機擾台事件，此外還有關於日籍遊客輕航機失事等新聞。\n",
    "- 「社會」中高係數的字是分局、檢方、地檢署等字詞，這些字詞通常出現在社會新聞中，例如檢方偵辦案件、地檢署提起公訴等相關新聞。此外，比較特殊是有提到「萬元」這個詞詞彙，經觀察資料，期出現在房價，以及罰鍰與獎金上。在此之上出現了「新北市」與「男子」，說明在此段時間內新北市的社會新聞中，有男子相關的社會案件。\n",
    "- 「要聞」中高係數的字是立委、總統、高端與候選人，除了常見的政治相關詞彙外，我們發現有個看似不相干詞彙「幹嘛」，經觀察資料，發現這個詞彙幾乎都來自「政黨票能幹嘛？4神秘數字搶席次、領補助、還可扣稅」與「選民抱不平：幹嘛蹚這趟渾水？」等新聞，前者來自一個懶人包文字描述，後者則是來自一個影片的標題。\n",
    "- 「財經」則是房市、億元、房價、營收與台股等相關詞彙，只會出現在財經相關新聞上，但是我發現「透天」這個詞彙也出現在財經新聞中，經觀察資料，發現該資料不僅出現在財經，也出現在多個新聞版面，因此我們決定將其加入停用字中。經過修改後，詞彙都更專注在財經術語上。"
   ]
  },
  {
   "attachments": {},
   "cell_type": "markdown",
   "metadata": {},
   "source": [
    "## 6. 預測新聞類別"
   ]
  },
  {
   "cell_type": "markdown",
   "metadata": {},
   "source": [
    "`東森新聞.csv` 為東森新聞資料\n",
    "- 版別：國際(world)、社會(society)、政治(politics)、財經(ec)\n",
    "- 時間範圍：2023/12/23 ~ 2024/01/13\n",
    "- 工作流程平台搜尋/排除關鍵字：無"
   ]
  },
  {
   "cell_type": "code",
   "execution_count": 51,
   "metadata": {
    "ExecuteTime": {
     "end_time": "2024-04-08T03:04:47.599557Z",
     "start_time": "2024-04-08T03:04:47.537398Z"
    }
   },
   "outputs": [
    {
     "data": {
      "text/html": [
       "<div>\n",
       "<style scoped>\n",
       "    .dataframe tbody tr th:only-of-type {\n",
       "        vertical-align: middle;\n",
       "    }\n",
       "\n",
       "    .dataframe tbody tr th {\n",
       "        vertical-align: top;\n",
       "    }\n",
       "\n",
       "    .dataframe thead th {\n",
       "        text-align: right;\n",
       "    }\n",
       "</style>\n",
       "<table border=\"1\" class=\"dataframe\">\n",
       "  <thead>\n",
       "    <tr style=\"text-align: right;\">\n",
       "      <th></th>\n",
       "      <th>system_id</th>\n",
       "      <th>artTitle</th>\n",
       "      <th>artUrl</th>\n",
       "      <th>artDate</th>\n",
       "      <th>artCatagory</th>\n",
       "      <th>artContent</th>\n",
       "      <th>dataSource</th>\n",
       "    </tr>\n",
       "  </thead>\n",
       "  <tbody>\n",
       "    <tr>\n",
       "      <th>0</th>\n",
       "      <td>1</td>\n",
       "      <td>她勞保多繳4年！少領近57萬 問題竟出在最後3年｜東森新聞</td>\n",
       "      <td>https://news.ebc.net.tw/news/article/397623</td>\n",
       "      <td>2023-12-24 10:59:00</td>\n",
       "      <td>財經</td>\n",
       "      <td>一名擁有26年年資的女性上班族，4年前離職退保，原本一次領可領169.46萬元，後來離職接案...</td>\n",
       "      <td>EBC</td>\n",
       "    </tr>\n",
       "    <tr>\n",
       "      <th>1</th>\n",
       "      <td>2</td>\n",
       "      <td>她薪水全丟這！存百萬竟遭18歲表弟嗆：不如阿公那輩｜東森新聞</td>\n",
       "      <td>https://news.ebc.net.tw/news/article/397656</td>\n",
       "      <td>2023-12-24 14:16:00</td>\n",
       "      <td>財經</td>\n",
       "      <td>面對低薪，除了斜槓，大家也會選擇投資。一名女網友表示，才高中的表弟嘲笑她只懂存錢，投資理財的...</td>\n",
       "      <td>EBC</td>\n",
       "    </tr>\n",
       "    <tr>\n",
       "      <th>2</th>\n",
       "      <td>3</td>\n",
       "      <td>陽明海運年終落差超嚴重！去年13個月 今年數字嚇死人｜東森新聞</td>\n",
       "      <td>https://news.ebc.net.tw/news/article/397802</td>\n",
       "      <td>2023-12-25 12:13:00</td>\n",
       "      <td>財經</td>\n",
       "      <td>在疫情期間，航運相關產業可以說是獲利頗豐，陽明海運在2022年的年終就高達13個月，羨煞不少...</td>\n",
       "      <td>EBC</td>\n",
       "    </tr>\n",
       "    <tr>\n",
       "      <th>3</th>\n",
       "      <td>4</td>\n",
       "      <td>勞保紓困貸款最高拿10萬元 申請4條件曝光！｜東森新聞</td>\n",
       "      <td>https://news.ebc.net.tw/news/article/397804</td>\n",
       "      <td>2023-12-25 13:02:00</td>\n",
       "      <td>財經</td>\n",
       "      <td>勞工快看過來！今（25）日，勞動部公告113年勞保紓困貸款將在1月5日開放申請，受理至113...</td>\n",
       "      <td>EBC</td>\n",
       "    </tr>\n",
       "    <tr>\n",
       "      <th>4</th>\n",
       "      <td>5</td>\n",
       "      <td>台塑四寶獲利衰！年終3.5個月恐無望 創11年低｜東森新聞</td>\n",
       "      <td>https://news.ebc.net.tw/news/article/397811</td>\n",
       "      <td>2023-12-25 13:51:00</td>\n",
       "      <td>財經</td>\n",
       "      <td>舞台上辣妹勁歌熱舞，炒熱現場氣氛，年底員工最期待的就是年終尾牙，不過傳產龍頭台塑集團，考量剛...</td>\n",
       "      <td>EBC</td>\n",
       "    </tr>\n",
       "    <tr>\n",
       "      <th>...</th>\n",
       "      <td>...</td>\n",
       "      <td>...</td>\n",
       "      <td>...</td>\n",
       "      <td>...</td>\n",
       "      <td>...</td>\n",
       "      <td>...</td>\n",
       "      <td>...</td>\n",
       "    </tr>\n",
       "    <tr>\n",
       "      <th>1775</th>\n",
       "      <td>1776</td>\n",
       "      <td>美英轟葉門叛軍 油價飆漲4％貨櫃運價連7漲｜東森新聞</td>\n",
       "      <td>https://news.ebc.net.tw/news/article/400727</td>\n",
       "      <td>2024-01-13 08:00:00</td>\n",
       "      <td>國際</td>\n",
       "      <td>美英聯軍12日針對葉門叛軍青年運動的73處目標，發射至少一百五十枚「戰斧」巡弋飛彈及雷射導引...</td>\n",
       "      <td>EBC</td>\n",
       "    </tr>\n",
       "    <tr>\n",
       "      <th>1776</th>\n",
       "      <td>1777</td>\n",
       "      <td>英相蘇納克二度訪烏 簽安全協議、增援近千億台幣｜東森新聞</td>\n",
       "      <td>https://news.ebc.net.tw/news/article/400730</td>\n",
       "      <td>2024-01-13 17:38:00</td>\n",
       "      <td>國際</td>\n",
       "      <td>俄烏開戰將近2年，但烏軍卻面臨外國軍援停擺的困境。不過近期繼日本外長訪烏，宣布撥款11.5億...</td>\n",
       "      <td>EBC</td>\n",
       "    </tr>\n",
       "    <tr>\n",
       "      <th>1777</th>\n",
       "      <td>1778</td>\n",
       "      <td>女扮遊戲角色「殭屍」搭陸地鐵遭攔 只因「引圍觀」｜東森新聞</td>\n",
       "      <td>https://news.ebc.net.tw/news/article/400734</td>\n",
       "      <td>2024-01-13 17:53:00</td>\n",
       "      <td>國際</td>\n",
       "      <td>女子頭戴紫色假髮，頂著殭屍帽，身穿類似漢服服裝，扮成殭屍要搭地鐵，卻被安檢員給攔了下來。地鐵...</td>\n",
       "      <td>EBC</td>\n",
       "    </tr>\n",
       "    <tr>\n",
       "      <th>1778</th>\n",
       "      <td>1779</td>\n",
       "      <td>大選影響台海情勢 日本防相：密切監視中國軍方｜東森新聞</td>\n",
       "      <td>https://news.ebc.net.tw/news/article/400768</td>\n",
       "      <td>2024-01-13 21:40:00</td>\n",
       "      <td>國際</td>\n",
       "      <td>台灣大選日本媒體也很關注，不只多家媒體記者來台連線採訪，甚至也在選前對三位候選人有所分析，但...</td>\n",
       "      <td>EBC</td>\n",
       "    </tr>\n",
       "    <tr>\n",
       "      <th>1779</th>\n",
       "      <td>1780</td>\n",
       "      <td>聚焦安全局勢、半導體！ CNN：台灣大選可能改變世界｜東森新聞</td>\n",
       "      <td>https://news.ebc.net.tw/news/article/400769</td>\n",
       "      <td>2024-01-13 21:48:00</td>\n",
       "      <td>國際</td>\n",
       "      <td>這場關鍵大選不只台灣人關注，許多國際媒體也大陣仗派記者來台採訪，就像CNN一篇報導說的，這場...</td>\n",
       "      <td>EBC</td>\n",
       "    </tr>\n",
       "  </tbody>\n",
       "</table>\n",
       "<p>1780 rows × 7 columns</p>\n",
       "</div>"
      ],
      "text/plain": [
       "      system_id                         artTitle  \\\n",
       "0             1    她勞保多繳4年！少領近57萬 問題竟出在最後3年｜東森新聞   \n",
       "1             2   她薪水全丟這！存百萬竟遭18歲表弟嗆：不如阿公那輩｜東森新聞   \n",
       "2             3  陽明海運年終落差超嚴重！去年13個月 今年數字嚇死人｜東森新聞   \n",
       "3             4      勞保紓困貸款最高拿10萬元 申請4條件曝光！｜東森新聞   \n",
       "4             5    台塑四寶獲利衰！年終3.5個月恐無望 創11年低｜東森新聞   \n",
       "...         ...                              ...   \n",
       "1775       1776       美英轟葉門叛軍 油價飆漲4％貨櫃運價連7漲｜東森新聞   \n",
       "1776       1777     英相蘇納克二度訪烏 簽安全協議、增援近千億台幣｜東森新聞   \n",
       "1777       1778    女扮遊戲角色「殭屍」搭陸地鐵遭攔 只因「引圍觀」｜東森新聞   \n",
       "1778       1779      大選影響台海情勢 日本防相：密切監視中國軍方｜東森新聞   \n",
       "1779       1780  聚焦安全局勢、半導體！ CNN：台灣大選可能改變世界｜東森新聞   \n",
       "\n",
       "                                           artUrl              artDate  \\\n",
       "0     https://news.ebc.net.tw/news/article/397623  2023-12-24 10:59:00   \n",
       "1     https://news.ebc.net.tw/news/article/397656  2023-12-24 14:16:00   \n",
       "2     https://news.ebc.net.tw/news/article/397802  2023-12-25 12:13:00   \n",
       "3     https://news.ebc.net.tw/news/article/397804  2023-12-25 13:02:00   \n",
       "4     https://news.ebc.net.tw/news/article/397811  2023-12-25 13:51:00   \n",
       "...                                           ...                  ...   \n",
       "1775  https://news.ebc.net.tw/news/article/400727  2024-01-13 08:00:00   \n",
       "1776  https://news.ebc.net.tw/news/article/400730  2024-01-13 17:38:00   \n",
       "1777  https://news.ebc.net.tw/news/article/400734  2024-01-13 17:53:00   \n",
       "1778  https://news.ebc.net.tw/news/article/400768  2024-01-13 21:40:00   \n",
       "1779  https://news.ebc.net.tw/news/article/400769  2024-01-13 21:48:00   \n",
       "\n",
       "     artCatagory                                         artContent dataSource  \n",
       "0             財經  一名擁有26年年資的女性上班族，4年前離職退保，原本一次領可領169.46萬元，後來離職接案...        EBC  \n",
       "1             財經  面對低薪，除了斜槓，大家也會選擇投資。一名女網友表示，才高中的表弟嘲笑她只懂存錢，投資理財的...        EBC  \n",
       "2             財經  在疫情期間，航運相關產業可以說是獲利頗豐，陽明海運在2022年的年終就高達13個月，羨煞不少...        EBC  \n",
       "3             財經  勞工快看過來！今（25）日，勞動部公告113年勞保紓困貸款將在1月5日開放申請，受理至113...        EBC  \n",
       "4             財經  舞台上辣妹勁歌熱舞，炒熱現場氣氛，年底員工最期待的就是年終尾牙，不過傳產龍頭台塑集團，考量剛...        EBC  \n",
       "...          ...                                                ...        ...  \n",
       "1775          國際  美英聯軍12日針對葉門叛軍青年運動的73處目標，發射至少一百五十枚「戰斧」巡弋飛彈及雷射導引...        EBC  \n",
       "1776          國際  俄烏開戰將近2年，但烏軍卻面臨外國軍援停擺的困境。不過近期繼日本外長訪烏，宣布撥款11.5億...        EBC  \n",
       "1777          國際  女子頭戴紫色假髮，頂著殭屍帽，身穿類似漢服服裝，扮成殭屍要搭地鐵，卻被安檢員給攔了下來。地鐵...        EBC  \n",
       "1778          國際  台灣大選日本媒體也很關注，不只多家媒體記者來台連線採訪，甚至也在選前對三位候選人有所分析，但...        EBC  \n",
       "1779          國際  這場關鍵大選不只台灣人關注，許多國際媒體也大陣仗派記者來台採訪，就像CNN一篇報導說的，這場...        EBC  \n",
       "\n",
       "[1780 rows x 7 columns]"
      ]
     },
     "execution_count": 51,
     "metadata": {},
     "output_type": "execute_result"
    }
   ],
   "source": [
    "ct = pd.read_csv(\"data/東森新聞.csv\")\n",
    "ct.dropna(inplace=True)\n",
    "ct"
   ]
  },
  {
   "cell_type": "code",
   "execution_count": 52,
   "metadata": {
    "ExecuteTime": {
     "end_time": "2024-04-08T03:04:59.157890Z",
     "start_time": "2024-04-08T03:04:52.062674Z"
    }
   },
   "outputs": [
    {
     "data": {
      "text/html": [
       "<div>\n",
       "<style scoped>\n",
       "    .dataframe tbody tr th:only-of-type {\n",
       "        vertical-align: middle;\n",
       "    }\n",
       "\n",
       "    .dataframe tbody tr th {\n",
       "        vertical-align: top;\n",
       "    }\n",
       "\n",
       "    .dataframe thead th {\n",
       "        text-align: right;\n",
       "    }\n",
       "</style>\n",
       "<table border=\"1\" class=\"dataframe\">\n",
       "  <thead>\n",
       "    <tr style=\"text-align: right;\">\n",
       "      <th></th>\n",
       "      <th>content</th>\n",
       "      <th>artUrl</th>\n",
       "      <th>artCatagory</th>\n",
       "      <th>words</th>\n",
       "    </tr>\n",
       "  </thead>\n",
       "  <tbody>\n",
       "    <tr>\n",
       "      <th>0</th>\n",
       "      <td>她勞保多繳4年！少領近57萬 問題竟出在最後3年｜東森新聞一名擁有26年年資的女性上班族，4...</td>\n",
       "      <td>https://news.ebc.net.tw/news/article/397623</td>\n",
       "      <td>財經</td>\n",
       "      <td>勞保 多繳 領近 57 問題 竟出 最後 東森 新聞 一名 擁有 26 年資 女性 上班族 ...</td>\n",
       "    </tr>\n",
       "    <tr>\n",
       "      <th>1</th>\n",
       "      <td>她薪水全丟這！存百萬竟遭18歲表弟嗆：不如阿公那輩｜東森新聞面對低薪，除了斜槓，大家也會選擇...</td>\n",
       "      <td>https://news.ebc.net.tw/news/article/397656</td>\n",
       "      <td>財經</td>\n",
       "      <td>薪水 百萬 18 表弟 阿公 那輩 東森 新聞 面對 低薪 斜槓 選擇 投資 一名 女網友 ...</td>\n",
       "    </tr>\n",
       "    <tr>\n",
       "      <th>2</th>\n",
       "      <td>陽明海運年終落差超嚴重！去年13個月 今年數字嚇死人｜東森新聞在疫情期間，航運相關產業可以說...</td>\n",
       "      <td>https://news.ebc.net.tw/news/article/397802</td>\n",
       "      <td>財經</td>\n",
       "      <td>陽明 海運 年終 落差 嚴重 去年 13 今年 數字 嚇死人 東森 新聞 疫情 期間 航運 ...</td>\n",
       "    </tr>\n",
       "    <tr>\n",
       "      <th>3</th>\n",
       "      <td>勞保紓困貸款最高拿10萬元 申請4條件曝光！｜東森新聞勞工快看過來！今（25）日，勞動部公告...</td>\n",
       "      <td>https://news.ebc.net.tw/news/article/397804</td>\n",
       "      <td>財經</td>\n",
       "      <td>勞保 貸款 最高 10 萬元 申請 條件 曝光 東森 新聞 勞工 過來 25 勞動部 公告 ...</td>\n",
       "    </tr>\n",
       "    <tr>\n",
       "      <th>4</th>\n",
       "      <td>台塑四寶獲利衰！年終3.5個月恐無望 創11年低｜東森新聞舞台上辣妹勁歌熱舞，炒熱現場氣氛，...</td>\n",
       "      <td>https://news.ebc.net.tw/news/article/397811</td>\n",
       "      <td>財經</td>\n",
       "      <td>台塑 四寶 獲利 年終 3.5 無望 11 東森 新聞 舞台 辣妹 勁歌熱舞 炒熱 現場 氣...</td>\n",
       "    </tr>\n",
       "  </tbody>\n",
       "</table>\n",
       "</div>"
      ],
      "text/plain": [
       "                                             content  \\\n",
       "0  她勞保多繳4年！少領近57萬 問題竟出在最後3年｜東森新聞一名擁有26年年資的女性上班族，4...   \n",
       "1  她薪水全丟這！存百萬竟遭18歲表弟嗆：不如阿公那輩｜東森新聞面對低薪，除了斜槓，大家也會選擇...   \n",
       "2  陽明海運年終落差超嚴重！去年13個月 今年數字嚇死人｜東森新聞在疫情期間，航運相關產業可以說...   \n",
       "3  勞保紓困貸款最高拿10萬元 申請4條件曝光！｜東森新聞勞工快看過來！今（25）日，勞動部公告...   \n",
       "4  台塑四寶獲利衰！年終3.5個月恐無望 創11年低｜東森新聞舞台上辣妹勁歌熱舞，炒熱現場氣氛，...   \n",
       "\n",
       "                                        artUrl artCatagory  \\\n",
       "0  https://news.ebc.net.tw/news/article/397623          財經   \n",
       "1  https://news.ebc.net.tw/news/article/397656          財經   \n",
       "2  https://news.ebc.net.tw/news/article/397802          財經   \n",
       "3  https://news.ebc.net.tw/news/article/397804          財經   \n",
       "4  https://news.ebc.net.tw/news/article/397811          財經   \n",
       "\n",
       "                                               words  \n",
       "0  勞保 多繳 領近 57 問題 竟出 最後 東森 新聞 一名 擁有 26 年資 女性 上班族 ...  \n",
       "1  薪水 百萬 18 表弟 阿公 那輩 東森 新聞 面對 低薪 斜槓 選擇 投資 一名 女網友 ...  \n",
       "2  陽明 海運 年終 落差 嚴重 去年 13 今年 數字 嚇死人 東森 新聞 疫情 期間 航運 ...  \n",
       "3  勞保 貸款 最高 10 萬元 申請 條件 曝光 東森 新聞 勞工 過來 25 勞動部 公告 ...  \n",
       "4  台塑 四寶 獲利 年終 3.5 無望 11 東森 新聞 舞台 辣妹 勁歌熱舞 炒熱 現場 氣...  "
      ]
     },
     "execution_count": 52,
     "metadata": {},
     "output_type": "execute_result"
    }
   ],
   "source": [
    "# 移除網址格式\n",
    "ct[\"artContent\"].str.replace(\"(http|https)://.*\", \"\", regex=True)\n",
    "ct[\"artTitle\"].str.replace(\"(http|https)://.*\", \"\", regex=True)\n",
    "ct[\"artContent\"].str.replace(\"[^\\u4e00-\\u9fa5]+\", \"\", regex=True)\n",
    "ct[\"artTitle\"].str.replace(\"[^\\u4e00-\\u9fa5]+\", \"\", regex=True)\n",
    "\n",
    "# 留下 content\n",
    "ct[\"content\"] = ct[\"artTitle\"] + ct[\"artContent\"]\n",
    "ct = ct.loc[:,[\"content\", \"artUrl\", \"artCatagory\"]]  # 文章內容 文章連結\n",
    "\n",
    "# 設定斷詞 function\n",
    "def getToken(row):\n",
    "    seg_list = jieba.cut(row, cut_all=False)\n",
    "    seg_list = [\n",
    "        w for w in seg_list if w not in stopWords and len(w) > 1\n",
    "    ]  # 篩選掉停用字與字元數大於1的詞彙\n",
    "    return seg_list\n",
    "\n",
    "ct[\"words\"] = ct[\"content\"].apply(getToken).map(\" \".join)\n",
    "ct.head()"
   ]
  },
  {
   "cell_type": "code",
   "execution_count": 53,
   "metadata": {
    "ExecuteTime": {
     "end_time": "2024-04-08T03:05:13.942198Z",
     "start_time": "2024-04-08T03:05:13.936659Z"
    }
   },
   "outputs": [
    {
     "data": {
      "text/plain": [
       "artCatagory\n",
       "政治    660\n",
       "社會    622\n",
       "國際    451\n",
       "財經     47\n",
       "Name: count, dtype: int64"
      ]
     },
     "execution_count": 53,
     "metadata": {},
     "output_type": "execute_result"
    }
   ],
   "source": [
    "ct['artCatagory'].value_counts()"
   ]
  },
  {
   "cell_type": "code",
   "execution_count": 54,
   "metadata": {
    "ExecuteTime": {
     "end_time": "2024-04-08T03:05:18.501333Z",
     "start_time": "2024-04-08T03:05:14.874181Z"
    }
   },
   "outputs": [
    {
     "name": "stdout",
     "output_type": "stream",
     "text": [
      "              precision    recall  f1-score   support\n",
      "\n",
      "          全球       0.78      0.92      0.84       451\n",
      "          社會       0.89      0.90      0.90       622\n",
      "          要聞       0.99      0.86      0.92       660\n",
      "          財經       0.57      0.55      0.56        47\n",
      "\n",
      "    accuracy                           0.88      1780\n",
      "   macro avg       0.81      0.81      0.80      1780\n",
      "weighted avg       0.89      0.88      0.88      1780\n",
      "\n"
     ]
    }
   ],
   "source": [
    "mapper = {\"政治\":\"要聞\", \"國際\":\"全球\", \"社會\":\"社會\", \"財經\":\"財經\"}\n",
    "ct['artCatagory'] = ct['artCatagory'].map(mapper)\n",
    "\n",
    "X = ct['words']\n",
    "y = ct['artCatagory']\n",
    "\n",
    "y_pred = model_set[best_model_name].predict(vectorizer.transform(X).toarray())\n",
    "print(classification_report(y, y_pred))"
   ]
  },
  {
   "cell_type": "markdown",
   "metadata": {},
   "source": [
    "全球、財經表現較差。"
   ]
  },
  {
   "cell_type": "code",
   "execution_count": 55,
   "metadata": {
    "ExecuteTime": {
     "end_time": "2024-04-08T03:05:25.659317Z",
     "start_time": "2024-04-08T03:05:25.650859Z"
    }
   },
   "outputs": [
    {
     "data": {
      "text/plain": [
       "array([[414,  26,   4,   7],\n",
       "       [ 54, 559,   3,   6],\n",
       "       [ 42,  41, 570,   7],\n",
       "       [ 20,   1,   0,  26]], dtype=int64)"
      ]
     },
     "execution_count": 55,
     "metadata": {},
     "output_type": "execute_result"
    }
   ],
   "source": [
    "classes = clf.classes_\n",
    "cm = confusion_matrix(y, y_pred)\n",
    "cm"
   ]
  },
  {
   "cell_type": "code",
   "execution_count": 56,
   "metadata": {
    "ExecuteTime": {
     "end_time": "2024-04-08T03:05:33.027066Z",
     "start_time": "2024-04-08T03:05:32.908159Z"
    }
   },
   "outputs": [
    {
     "data": {
      "text/plain": [
       "(array([0.5, 1.5, 2.5, 3.5]),\n",
       " [Text(0, 0.5, '全球'),\n",
       "  Text(0, 1.5, '社會'),\n",
       "  Text(0, 2.5, '要聞'),\n",
       "  Text(0, 3.5, '財經')])"
      ]
     },
     "execution_count": 56,
     "metadata": {},
     "output_type": "execute_result"
    },
    {
     "data": {
      "image/png": "[encoded data removed]",
      "text/plain": [
       "<Figure size 432x288 with 1 Axes>"
      ]
     },
     "metadata": {
      "needs_background": "light"
     },
     "output_type": "display_data"
    }
   ],
   "source": [
    "## Plot confusion matrix\n",
    "fig, ax = plt.subplots()\n",
    "sns.heatmap(cm, annot=True, fmt=\"d\", ax=ax, cmap=plt.cm.Blues, cbar=False)\n",
    "ax.set(\n",
    "    xlabel=\"Pred\",\n",
    "    ylabel=\"True\",\n",
    "    xticklabels=classes,\n",
    "    yticklabels=classes,\n",
    "    title=\"Confusion matrix\",\n",
    ")\n",
    "plt.yticks(rotation=0)"
   ]
  },
  {
   "cell_type": "code",
   "execution_count": 57,
   "metadata": {
    "ExecuteTime": {
     "end_time": "2024-04-08T03:05:48.905655Z",
     "start_time": "2024-04-08T03:05:48.895600Z"
    }
   },
   "outputs": [
    {
     "data": {
      "text/html": [
       "<div>\n",
       "<style scoped>\n",
       "    .dataframe tbody tr th:only-of-type {\n",
       "        vertical-align: middle;\n",
       "    }\n",
       "\n",
       "    .dataframe tbody tr th {\n",
       "        vertical-align: top;\n",
       "    }\n",
       "\n",
       "    .dataframe thead th {\n",
       "        text-align: right;\n",
       "    }\n",
       "</style>\n",
       "<table border=\"1\" class=\"dataframe\">\n",
       "  <thead>\n",
       "    <tr style=\"text-align: right;\">\n",
       "      <th></th>\n",
       "      <th>words</th>\n",
       "      <th>artCatagory</th>\n",
       "      <th>pred</th>\n",
       "    </tr>\n",
       "  </thead>\n",
       "  <tbody>\n",
       "    <tr>\n",
       "      <th>0</th>\n",
       "      <td>勞保 多繳 領近 57 問題 竟出 最後 東森 新聞 一名 擁有 26 年資 女性 上班族 ...</td>\n",
       "      <td>財經</td>\n",
       "      <td>財經</td>\n",
       "    </tr>\n",
       "    <tr>\n",
       "      <th>1</th>\n",
       "      <td>薪水 百萬 18 表弟 阿公 那輩 東森 新聞 面對 低薪 斜槓 選擇 投資 一名 女網友 ...</td>\n",
       "      <td>財經</td>\n",
       "      <td>財經</td>\n",
       "    </tr>\n",
       "    <tr>\n",
       "      <th>2</th>\n",
       "      <td>陽明 海運 年終 落差 嚴重 去年 13 今年 數字 嚇死人 東森 新聞 疫情 期間 航運 ...</td>\n",
       "      <td>財經</td>\n",
       "      <td>全球</td>\n",
       "    </tr>\n",
       "    <tr>\n",
       "      <th>3</th>\n",
       "      <td>勞保 貸款 最高 10 萬元 申請 條件 曝光 東森 新聞 勞工 過來 25 勞動部 公告 ...</td>\n",
       "      <td>財經</td>\n",
       "      <td>財經</td>\n",
       "    </tr>\n",
       "    <tr>\n",
       "      <th>4</th>\n",
       "      <td>台塑 四寶 獲利 年終 3.5 無望 11 東森 新聞 舞台 辣妹 勁歌熱舞 炒熱 現場 氣...</td>\n",
       "      <td>財經</td>\n",
       "      <td>財經</td>\n",
       "    </tr>\n",
       "    <tr>\n",
       "      <th>...</th>\n",
       "      <td>...</td>\n",
       "      <td>...</td>\n",
       "      <td>...</td>\n",
       "    </tr>\n",
       "    <tr>\n",
       "      <th>1775</th>\n",
       "      <td>美英 葉門 叛軍 油價 飆漲 貨櫃 運價 東森 新聞 美英 聯軍 12 針對 葉門 叛軍 青...</td>\n",
       "      <td>全球</td>\n",
       "      <td>全球</td>\n",
       "    </tr>\n",
       "    <tr>\n",
       "      <th>1776</th>\n",
       "      <td>英相蘇 納克 二度 訪烏 安全 協議 增援 千億 台幣 東森 新聞 俄烏 開戰 面臨 外國 ...</td>\n",
       "      <td>全球</td>\n",
       "      <td>全球</td>\n",
       "    </tr>\n",
       "    <tr>\n",
       "      <th>1777</th>\n",
       "      <td>女扮 遊戲 角色 殭屍 陸地 鐵遭 圍觀 東森 新聞 女子 頭戴 紫色 假髮 頂著 殭屍 身...</td>\n",
       "      <td>全球</td>\n",
       "      <td>全球</td>\n",
       "    </tr>\n",
       "    <tr>\n",
       "      <th>1778</th>\n",
       "      <td>大選 影響 台海 情勢 日本 防相 密切 監視 中國軍方 東森 新聞 台灣 大選 日本 媒體...</td>\n",
       "      <td>全球</td>\n",
       "      <td>全球</td>\n",
       "    </tr>\n",
       "    <tr>\n",
       "      <th>1779</th>\n",
       "      <td>聚焦 安全 局勢 半導體 CNN 台灣 大選 改變 世界 東森 新聞 這場 關鍵 大選 台灣...</td>\n",
       "      <td>全球</td>\n",
       "      <td>全球</td>\n",
       "    </tr>\n",
       "  </tbody>\n",
       "</table>\n",
       "<p>1780 rows × 3 columns</p>\n",
       "</div>"
      ],
      "text/plain": [
       "                                                  words artCatagory pred\n",
       "0     勞保 多繳 領近 57 問題 竟出 最後 東森 新聞 一名 擁有 26 年資 女性 上班族 ...          財經   財經\n",
       "1     薪水 百萬 18 表弟 阿公 那輩 東森 新聞 面對 低薪 斜槓 選擇 投資 一名 女網友 ...          財經   財經\n",
       "2     陽明 海運 年終 落差 嚴重 去年 13 今年 數字 嚇死人 東森 新聞 疫情 期間 航運 ...          財經   全球\n",
       "3     勞保 貸款 最高 10 萬元 申請 條件 曝光 東森 新聞 勞工 過來 25 勞動部 公告 ...          財經   財經\n",
       "4     台塑 四寶 獲利 年終 3.5 無望 11 東森 新聞 舞台 辣妹 勁歌熱舞 炒熱 現場 氣...          財經   財經\n",
       "...                                                 ...         ...  ...\n",
       "1775  美英 葉門 叛軍 油價 飆漲 貨櫃 運價 東森 新聞 美英 聯軍 12 針對 葉門 叛軍 青...          全球   全球\n",
       "1776  英相蘇 納克 二度 訪烏 安全 協議 增援 千億 台幣 東森 新聞 俄烏 開戰 面臨 外國 ...          全球   全球\n",
       "1777  女扮 遊戲 角色 殭屍 陸地 鐵遭 圍觀 東森 新聞 女子 頭戴 紫色 假髮 頂著 殭屍 身...          全球   全球\n",
       "1778  大選 影響 台海 情勢 日本 防相 密切 監視 中國軍方 東森 新聞 台灣 大選 日本 媒體...          全球   全球\n",
       "1779  聚焦 安全 局勢 半導體 CNN 台灣 大選 改變 世界 東森 新聞 這場 關鍵 大選 台灣...          全球   全球\n",
       "\n",
       "[1780 rows x 3 columns]"
      ]
     },
     "execution_count": 57,
     "metadata": {},
     "output_type": "execute_result"
    }
   ],
   "source": [
    "ct['pred'] = y_pred\n",
    "ct.loc[:,['words', 'artCatagory',\"pred\"]]"
   ]
  },
  {
   "cell_type": "code",
   "execution_count": 58,
   "metadata": {
    "ExecuteTime": {
     "end_time": "2024-04-08T03:06:26.713035Z",
     "start_time": "2024-04-08T03:06:26.702608Z"
    }
   },
   "outputs": [
    {
     "data": {
      "text/html": [
       "<div>\n",
       "<style scoped>\n",
       "    .dataframe tbody tr th:only-of-type {\n",
       "        vertical-align: middle;\n",
       "    }\n",
       "\n",
       "    .dataframe tbody tr th {\n",
       "        vertical-align: top;\n",
       "    }\n",
       "\n",
       "    .dataframe thead th {\n",
       "        text-align: right;\n",
       "    }\n",
       "</style>\n",
       "<table border=\"1\" class=\"dataframe\">\n",
       "  <thead>\n",
       "    <tr style=\"text-align: right;\">\n",
       "      <th></th>\n",
       "      <th>words</th>\n",
       "      <th>artCatagory</th>\n",
       "      <th>pred</th>\n",
       "    </tr>\n",
       "  </thead>\n",
       "  <tbody>\n",
       "    <tr>\n",
       "      <th>2</th>\n",
       "      <td>陽明 海運 年終 落差 嚴重 去年 13 今年 數字 嚇死人 東森 新聞 疫情 期間 航運 ...</td>\n",
       "      <td>財經</td>\n",
       "      <td>全球</td>\n",
       "    </tr>\n",
       "    <tr>\n",
       "      <th>5</th>\n",
       "      <td>元老 振榮 辭世 業界 緬懷 生前 海派 人緣 東森 新聞 中鋼前 總經理 振榮 參與 公司...</td>\n",
       "      <td>財經</td>\n",
       "      <td>全球</td>\n",
       "    </tr>\n",
       "    <tr>\n",
       "      <th>10</th>\n",
       "      <td>美政府 維持 Apple Watch 進口 禁令 蘋果 上訴 東森 新聞 美國 總統 拜登 ...</td>\n",
       "      <td>財經</td>\n",
       "      <td>全球</td>\n",
       "    </tr>\n",
       "    <tr>\n",
       "      <th>13</th>\n",
       "      <td>東南亞 旅遊 注意 星馬 元旦 將調 消費稅 東森 新聞 打算 東南亞 旅遊 民眾 注意 新...</td>\n",
       "      <td>財經</td>\n",
       "      <td>全球</td>\n",
       "    </tr>\n",
       "    <tr>\n",
       "      <th>16</th>\n",
       "      <td>聯亞 生技 負責人 王長 怡傳 跳票 集團 財務狀況 引熱議 東森 新聞 聯亞 生技 集團 ...</td>\n",
       "      <td>財經</td>\n",
       "      <td>社會</td>\n",
       "    </tr>\n",
       "    <tr>\n",
       "      <th>...</th>\n",
       "      <td>...</td>\n",
       "      <td>...</td>\n",
       "      <td>...</td>\n",
       "    </tr>\n",
       "    <tr>\n",
       "      <th>1752</th>\n",
       "      <td>東京 旅館 挾持 持刀 扣押 人質 與警 對峙 小時 投降 東森 新聞 朝日 電視 記者 2...</td>\n",
       "      <td>全球</td>\n",
       "      <td>社會</td>\n",
       "    </tr>\n",
       "    <tr>\n",
       "      <th>1753</th>\n",
       "      <td>哈爾濱 網紅 企鵝 打卡 景點 遊客 互動 超萌 東森 新聞 見到 網紅 企鵝 淘淘 遊客 ...</td>\n",
       "      <td>全球</td>\n",
       "      <td>要聞</td>\n",
       "    </tr>\n",
       "    <tr>\n",
       "      <th>1756</th>\n",
       "      <td>命喪 柬埔寨 遺體 腫脹 陳屍 公寓 房間 搜出 白粉 東森 新聞 柬埔寨 首都 金邊 天空...</td>\n",
       "      <td>全球</td>\n",
       "      <td>社會</td>\n",
       "    </tr>\n",
       "    <tr>\n",
       "      <th>1762</th>\n",
       "      <td>房地產 排名 洗牌 央企 背景 保萬中 佔據 東森 新聞 大陸 房地產 巨頭 萬科 集團 創...</td>\n",
       "      <td>全球</td>\n",
       "      <td>財經</td>\n",
       "    </tr>\n",
       "    <tr>\n",
       "      <th>1771</th>\n",
       "      <td>冷血 癌末 中獎 倒地 關心 彩券 東森 新聞 澳洲 一名 老人 罹病 剩下 半年 壽命 決...</td>\n",
       "      <td>全球</td>\n",
       "      <td>社會</td>\n",
       "    </tr>\n",
       "  </tbody>\n",
       "</table>\n",
       "<p>211 rows × 3 columns</p>\n",
       "</div>"
      ],
      "text/plain": [
       "                                                  words artCatagory pred\n",
       "2     陽明 海運 年終 落差 嚴重 去年 13 今年 數字 嚇死人 東森 新聞 疫情 期間 航運 ...          財經   全球\n",
       "5     元老 振榮 辭世 業界 緬懷 生前 海派 人緣 東森 新聞 中鋼前 總經理 振榮 參與 公司...          財經   全球\n",
       "10    美政府 維持 Apple Watch 進口 禁令 蘋果 上訴 東森 新聞 美國 總統 拜登 ...          財經   全球\n",
       "13    東南亞 旅遊 注意 星馬 元旦 將調 消費稅 東森 新聞 打算 東南亞 旅遊 民眾 注意 新...          財經   全球\n",
       "16    聯亞 生技 負責人 王長 怡傳 跳票 集團 財務狀況 引熱議 東森 新聞 聯亞 生技 集團 ...          財經   社會\n",
       "...                                                 ...         ...  ...\n",
       "1752  東京 旅館 挾持 持刀 扣押 人質 與警 對峙 小時 投降 東森 新聞 朝日 電視 記者 2...          全球   社會\n",
       "1753  哈爾濱 網紅 企鵝 打卡 景點 遊客 互動 超萌 東森 新聞 見到 網紅 企鵝 淘淘 遊客 ...          全球   要聞\n",
       "1756  命喪 柬埔寨 遺體 腫脹 陳屍 公寓 房間 搜出 白粉 東森 新聞 柬埔寨 首都 金邊 天空...          全球   社會\n",
       "1762  房地產 排名 洗牌 央企 背景 保萬中 佔據 東森 新聞 大陸 房地產 巨頭 萬科 集團 創...          全球   財經\n",
       "1771  冷血 癌末 中獎 倒地 關心 彩券 東森 新聞 澳洲 一名 老人 罹病 剩下 半年 壽命 決...          全球   社會\n",
       "\n",
       "[211 rows x 3 columns]"
      ]
     },
     "execution_count": 58,
     "metadata": {},
     "output_type": "execute_result"
    }
   ],
   "source": [
    "false_pred = ct.query(\"artCatagory != pred\").loc[:,['words', 'artCatagory',\"pred\"]]\n",
    "false_pred"
   ]
  },
  {
   "cell_type": "markdown",
   "metadata": {},
   "source": [
    "# 看錯誤預測的社會樣本"
   ]
  },
  {
   "cell_type": "code",
   "execution_count": 59,
   "metadata": {
    "ExecuteTime": {
     "end_time": "2024-04-08T03:06:33.908972Z",
     "start_time": "2024-04-08T03:06:33.898561Z"
    }
   },
   "outputs": [
    {
     "data": {
      "text/html": [
       "<div>\n",
       "<style scoped>\n",
       "    .dataframe tbody tr th:only-of-type {\n",
       "        vertical-align: middle;\n",
       "    }\n",
       "\n",
       "    .dataframe tbody tr th {\n",
       "        vertical-align: top;\n",
       "    }\n",
       "\n",
       "    .dataframe thead th {\n",
       "        text-align: right;\n",
       "    }\n",
       "</style>\n",
       "<table border=\"1\" class=\"dataframe\">\n",
       "  <thead>\n",
       "    <tr style=\"text-align: right;\">\n",
       "      <th></th>\n",
       "      <th>words</th>\n",
       "      <th>artCatagory</th>\n",
       "      <th>pred</th>\n",
       "    </tr>\n",
       "  </thead>\n",
       "  <tbody>\n",
       "    <tr>\n",
       "      <th>719</th>\n",
       "      <td>金價 狂飆 他海削 逮竊遍 北宜 黃金 大盜 東森 新聞 年僅 20 男子 一身 黑衣 裝扮...</td>\n",
       "      <td>社會</td>\n",
       "      <td>全球</td>\n",
       "    </tr>\n",
       "    <tr>\n",
       "      <th>727</th>\n",
       "      <td>聚焦 真相 天坑 頻傳 工安 警訊 開挖 工程 危機 東森 新聞 國內 接二連三 發生 天坑...</td>\n",
       "      <td>社會</td>\n",
       "      <td>全球</td>\n",
       "    </tr>\n",
       "    <tr>\n",
       "      <th>735</th>\n",
       "      <td>海虎 潛艦 官兵 落海 失聯 家屬 淚崩 孩子 東森 新聞 海軍 艦隊 指揮部 海虎 潛艦 ...</td>\n",
       "      <td>社會</td>\n",
       "      <td>全球</td>\n",
       "    </tr>\n",
       "    <tr>\n",
       "      <th>740</th>\n",
       "      <td>公公 偷翻 媳婦 貼身衣物 愛才 嚇到 全身 東森 新聞 遇到 狀況 怎辦 近日 一位 人妻...</td>\n",
       "      <td>社會</td>\n",
       "      <td>全球</td>\n",
       "    </tr>\n",
       "    <tr>\n",
       "      <th>742</th>\n",
       "      <td>公安 申報 新北 稽查 密室 逃脫 全數 合格 東森 新聞 新北 市政府 這次 稽查 密室 ...</td>\n",
       "      <td>社會</td>\n",
       "      <td>財經</td>\n",
       "    </tr>\n",
       "    <tr>\n",
       "      <th>745</th>\n",
       "      <td>海虎艦 落海 搜救 已過 72 小時 海軍 延長 72 小時 東森 新聞 海虎 潛艦 意外 ...</td>\n",
       "      <td>社會</td>\n",
       "      <td>全球</td>\n",
       "    </tr>\n",
       "    <tr>\n",
       "      <th>765</th>\n",
       "      <td>聚焦 真相 獨家 專訪 運安會 調查 中捷 危機 處理 瑕疵 東森 新聞 捷運 一死 10 ...</td>\n",
       "      <td>社會</td>\n",
       "      <td>全球</td>\n",
       "    </tr>\n",
       "    <tr>\n",
       "      <th>788</th>\n",
       "      <td>女兒 CO 中毒 喪命 熱水器 裝不 通風 陽台 父遭 判刑 東森 新聞 天冷 使用 熱水器...</td>\n",
       "      <td>社會</td>\n",
       "      <td>財經</td>\n",
       "    </tr>\n",
       "    <tr>\n",
       "      <th>796</th>\n",
       "      <td>愛上 180 公分 羽球 女遭 拒竟 硬來 知道 東森 新聞 一名 潘姓 女子 愛上 身高 ...</td>\n",
       "      <td>社會</td>\n",
       "      <td>全球</td>\n",
       "    </tr>\n",
       "    <tr>\n",
       "      <th>805</th>\n",
       "      <td>先取 轉單 惡劣 外送員 二度 當歸鴨 偷餐 東森 新聞 頭戴 安全帽 身穿 雨衣 這名 送...</td>\n",
       "      <td>社會</td>\n",
       "      <td>全球</td>\n",
       "    </tr>\n",
       "  </tbody>\n",
       "</table>\n",
       "</div>"
      ],
      "text/plain": [
       "                                                 words artCatagory pred\n",
       "719  金價 狂飆 他海削 逮竊遍 北宜 黃金 大盜 東森 新聞 年僅 20 男子 一身 黑衣 裝扮...          社會   全球\n",
       "727  聚焦 真相 天坑 頻傳 工安 警訊 開挖 工程 危機 東森 新聞 國內 接二連三 發生 天坑...          社會   全球\n",
       "735  海虎 潛艦 官兵 落海 失聯 家屬 淚崩 孩子 東森 新聞 海軍 艦隊 指揮部 海虎 潛艦 ...          社會   全球\n",
       "740  公公 偷翻 媳婦 貼身衣物 愛才 嚇到 全身 東森 新聞 遇到 狀況 怎辦 近日 一位 人妻...          社會   全球\n",
       "742  公安 申報 新北 稽查 密室 逃脫 全數 合格 東森 新聞 新北 市政府 這次 稽查 密室 ...          社會   財經\n",
       "745  海虎艦 落海 搜救 已過 72 小時 海軍 延長 72 小時 東森 新聞 海虎 潛艦 意外 ...          社會   全球\n",
       "765  聚焦 真相 獨家 專訪 運安會 調查 中捷 危機 處理 瑕疵 東森 新聞 捷運 一死 10 ...          社會   全球\n",
       "788  女兒 CO 中毒 喪命 熱水器 裝不 通風 陽台 父遭 判刑 東森 新聞 天冷 使用 熱水器...          社會   財經\n",
       "796  愛上 180 公分 羽球 女遭 拒竟 硬來 知道 東森 新聞 一名 潘姓 女子 愛上 身高 ...          社會   全球\n",
       "805  先取 轉單 惡劣 外送員 二度 當歸鴨 偷餐 東森 新聞 頭戴 安全帽 身穿 雨衣 這名 送...          社會   全球"
      ]
     },
     "execution_count": 59,
     "metadata": {},
     "output_type": "execute_result"
    }
   ],
   "source": [
    "false_pred.loc[false_pred['artCatagory']=='社會', :].head(10)"
   ]
  },
  {
   "cell_type": "markdown",
   "metadata": {},
   "source": [
    "以其中一則新聞為例:"
   ]
  },
  {
   "cell_type": "code",
   "execution_count": 60,
   "metadata": {
    "ExecuteTime": {
     "end_time": "2024-04-08T03:14:24.992895Z",
     "start_time": "2024-04-08T03:14:24.987383Z"
    }
   },
   "outputs": [
    {
     "data": {
      "text/plain": [
       "words          大陸 空飄 氣球 越台 國軍 危害性 適切 應處 東森 新聞 國防部 今天 表示 昨天上午 ...\n",
       "artCatagory                                                   社會\n",
       "pred                                                          要聞\n",
       "Name: 1041, dtype: object"
      ]
     },
     "execution_count": 60,
     "metadata": {},
     "output_type": "execute_result"
    }
   ],
   "source": [
    "false_pred.loc[1041, :]"
   ]
  },
  {
   "cell_type": "code",
   "execution_count": null,
   "metadata": {
    "ExecuteTime": {
     "end_time": "2024-04-08T03:14:31.365017Z",
     "start_time": "2024-04-08T03:14:31.360891Z"
    }
   },
   "outputs": [
    {
     "name": "stdout",
     "output_type": "stream",
     "text": [
      "('大陸 空飄 氣球 越台 國軍 危害性 適切 應處 東森 新聞 國防部 今天 表示 昨天上午 27 分至 晚上 41 分間 偵獲 中共 空飄 氣球 逾越 '\n",
      " '台海 中線 穿越 台灣 本島 上空 將視 性質 高度 危害性 採取 適切 應處 手段 相關 措施 均納 規定 國防部 上午 發布共機 動態 統計 '\n",
      " '昨天上午 時至 今天上午 時止 偵獲 共機 架次 逾越 海峽 中線 延伸線 進入 北部 西南 空域 架次 共艦 艘次 持續 台海 周邊 活動 國軍 運用 '\n",
      " '任務 艦及 岸置 飛彈 系統 嚴密 監控 應處 中共 空飄 氣球 穿越 台灣 本島 國防部 再次 偵獲 中共 空飄 氣球 分別 昨天上午 27 下午 '\n",
      " '53 下午 52 分及 晚上 41 偵獲 探空 氣球 逾越 海峽 中線 國防部 進一步 說明 分別 位於 清泉崗 西南方 105 160 159 基隆 '\n",
      " '西北方 78 高度 2000 8000 2000 4000 續向 東北 飄行 並於 昨天上午 10 48 下午 18 晚上 01 分及 晚上 消失 空軍 '\n",
      " '公布 航跡 空飄 氣球 穿越 台灣 本島 上空 針對 中共 空飄 氣球 用途 國防部 發言人 立方 少將 接受 中央社 訪問 表示 國防部 密切 監偵 '\n",
      " '掌握 適切 應處 整其 飄行 路徑 態樣 判斷 研析 立方 強調 進入 台灣 空域 不明 空飄 國軍 運用 聯合 情監 手段 綿密 掌握 通報 民航 '\n",
      " '單位 確保 飛航 安全 目標 性質 高度 危害性 採取 適切 相對性 應處 手段 具體措施 納入 國軍 戰備 時期 突發狀況 處置 規定 律定')\n"
     ]
    }
   ],
   "source": [
    "pprint(false_pred['words'][1041])"
   ]
  },
  {
   "cell_type": "markdown",
   "metadata": {},
   "source": [
    "政治相關詞彙，如國軍、國防部等。"
   ]
  },
  {
   "cell_type": "markdown",
   "metadata": {},
   "source": [
    "# 看錯誤預測的財經樣本"
   ]
  },
  {
   "cell_type": "code",
   "execution_count": 62,
   "metadata": {
    "ExecuteTime": {
     "end_time": "2024-04-08T03:15:45.495018Z",
     "start_time": "2024-04-08T03:15:45.485896Z"
    }
   },
   "outputs": [
    {
     "data": {
      "text/html": [
       "<div>\n",
       "<style scoped>\n",
       "    .dataframe tbody tr th:only-of-type {\n",
       "        vertical-align: middle;\n",
       "    }\n",
       "\n",
       "    .dataframe tbody tr th {\n",
       "        vertical-align: top;\n",
       "    }\n",
       "\n",
       "    .dataframe thead th {\n",
       "        text-align: right;\n",
       "    }\n",
       "</style>\n",
       "<table border=\"1\" class=\"dataframe\">\n",
       "  <thead>\n",
       "    <tr style=\"text-align: right;\">\n",
       "      <th></th>\n",
       "      <th>words</th>\n",
       "      <th>artCatagory</th>\n",
       "      <th>pred</th>\n",
       "    </tr>\n",
       "  </thead>\n",
       "  <tbody>\n",
       "    <tr>\n",
       "      <th>2</th>\n",
       "      <td>陽明 海運 年終 落差 嚴重 去年 13 今年 數字 嚇死人 東森 新聞 疫情 期間 航運 ...</td>\n",
       "      <td>財經</td>\n",
       "      <td>全球</td>\n",
       "    </tr>\n",
       "    <tr>\n",
       "      <th>5</th>\n",
       "      <td>元老 振榮 辭世 業界 緬懷 生前 海派 人緣 東森 新聞 中鋼前 總經理 振榮 參與 公司...</td>\n",
       "      <td>財經</td>\n",
       "      <td>全球</td>\n",
       "    </tr>\n",
       "    <tr>\n",
       "      <th>10</th>\n",
       "      <td>美政府 維持 Apple Watch 進口 禁令 蘋果 上訴 東森 新聞 美國 總統 拜登 ...</td>\n",
       "      <td>財經</td>\n",
       "      <td>全球</td>\n",
       "    </tr>\n",
       "    <tr>\n",
       "      <th>13</th>\n",
       "      <td>東南亞 旅遊 注意 星馬 元旦 將調 消費稅 東森 新聞 打算 東南亞 旅遊 民眾 注意 新...</td>\n",
       "      <td>財經</td>\n",
       "      <td>全球</td>\n",
       "    </tr>\n",
       "    <tr>\n",
       "      <th>16</th>\n",
       "      <td>聯亞 生技 負責人 王長 怡傳 跳票 集團 財務狀況 引熱議 東森 新聞 聯亞 生技 集團 ...</td>\n",
       "      <td>財經</td>\n",
       "      <td>社會</td>\n",
       "    </tr>\n",
       "    <tr>\n",
       "      <th>19</th>\n",
       "      <td>聚焦 真相 財經專家 淪為 看板 詐騙 猖獗 解方 東森 新聞 現在 社群 平台 看到 財經...</td>\n",
       "      <td>財經</td>\n",
       "      <td>全球</td>\n",
       "    </tr>\n",
       "    <tr>\n",
       "      <th>21</th>\n",
       "      <td>Apple Pay 信用卡 到期 哀號 時間 還沒到 東森 新聞 近期 網友 表示 Appl...</td>\n",
       "      <td>財經</td>\n",
       "      <td>全球</td>\n",
       "    </tr>\n",
       "    <tr>\n",
       "      <th>25</th>\n",
       "      <td>30 Apple Watch 停售 東森 新聞 蘋果 旗下 智慧型 手錶 AppleWatc...</td>\n",
       "      <td>財經</td>\n",
       "      <td>全球</td>\n",
       "    </tr>\n",
       "    <tr>\n",
       "      <th>26</th>\n",
       "      <td>名人 論題 金河 失去 台灣 美國 霸權 終結 東森 新聞 金河 財信 傳媒 董事長 財訊 ...</td>\n",
       "      <td>財經</td>\n",
       "      <td>全球</td>\n",
       "    </tr>\n",
       "    <tr>\n",
       "      <th>28</th>\n",
       "      <td>日圓 升息 出現 甜甜 跌破 0.22 大關 東森 新聞 投資者 評估 日本 元旦 強震 日...</td>\n",
       "      <td>財經</td>\n",
       "      <td>全球</td>\n",
       "    </tr>\n",
       "  </tbody>\n",
       "</table>\n",
       "</div>"
      ],
      "text/plain": [
       "                                                words artCatagory pred\n",
       "2   陽明 海運 年終 落差 嚴重 去年 13 今年 數字 嚇死人 東森 新聞 疫情 期間 航運 ...          財經   全球\n",
       "5   元老 振榮 辭世 業界 緬懷 生前 海派 人緣 東森 新聞 中鋼前 總經理 振榮 參與 公司...          財經   全球\n",
       "10  美政府 維持 Apple Watch 進口 禁令 蘋果 上訴 東森 新聞 美國 總統 拜登 ...          財經   全球\n",
       "13  東南亞 旅遊 注意 星馬 元旦 將調 消費稅 東森 新聞 打算 東南亞 旅遊 民眾 注意 新...          財經   全球\n",
       "16  聯亞 生技 負責人 王長 怡傳 跳票 集團 財務狀況 引熱議 東森 新聞 聯亞 生技 集團 ...          財經   社會\n",
       "19  聚焦 真相 財經專家 淪為 看板 詐騙 猖獗 解方 東森 新聞 現在 社群 平台 看到 財經...          財經   全球\n",
       "21  Apple Pay 信用卡 到期 哀號 時間 還沒到 東森 新聞 近期 網友 表示 Appl...          財經   全球\n",
       "25  30 Apple Watch 停售 東森 新聞 蘋果 旗下 智慧型 手錶 AppleWatc...          財經   全球\n",
       "26  名人 論題 金河 失去 台灣 美國 霸權 終結 東森 新聞 金河 財信 傳媒 董事長 財訊 ...          財經   全球\n",
       "28  日圓 升息 出現 甜甜 跌破 0.22 大關 東森 新聞 投資者 評估 日本 元旦 強震 日...          財經   全球"
      ]
     },
     "execution_count": 62,
     "metadata": {},
     "output_type": "execute_result"
    }
   ],
   "source": [
    "false_pred.loc[false_pred['artCatagory']=='財經', :].head(10)"
   ]
  },
  {
   "cell_type": "markdown",
   "metadata": {},
   "source": [
    "以其中一則新聞為例:"
   ]
  },
  {
   "cell_type": "code",
   "execution_count": 63,
   "metadata": {
    "ExecuteTime": {
     "end_time": "2024-04-08T03:16:06.440130Z",
     "start_time": "2024-04-08T03:16:06.435654Z"
    }
   },
   "outputs": [
    {
     "data": {
      "text/plain": [
       "words          美政府 維持 Apple Watch 進口 禁令 蘋果 上訴 東森 新聞 美國 總統 拜登 ...\n",
       "artCatagory                                                   財經\n",
       "pred                                                          全球\n",
       "Name: 10, dtype: object"
      ]
     },
     "execution_count": 63,
     "metadata": {},
     "output_type": "execute_result"
    }
   ],
   "source": [
    "false_pred.loc[10, :]"
   ]
  },
  {
   "cell_type": "code",
   "execution_count": 64,
   "metadata": {
    "ExecuteTime": {
     "end_time": "2024-04-08T03:16:12.709146Z",
     "start_time": "2024-04-08T03:16:12.703009Z"
    }
   },
   "outputs": [
    {
     "name": "stdout",
     "output_type": "stream",
     "text": [
      "('美政府 維持 Apple Watch 進口 禁令 蘋果 上訴 東森 新聞 美國 總統 拜登 政府 選擇 否決 專利 侵權 裁定 蘋果公司 Apple '\n",
      " '今天 表示 旗下 智慧 手錶 AppleWatch 最新型 號的 進口 禁令 提起 上訴 綜合 法新社 路透社 這項 針對 蘋果 最新 智慧 手錶 型號 '\n",
      " '禁令 今天 生效 AppleWatchSeries9 AppleWatchUltra2 無法 美國 實體 商店 或線 銷售 這項 禁令 大型 科技 公司 '\n",
      " '具有 價值 專利 展開 最新 法律 角力 谷歌 Google 針對 揚聲器 技術 Sonos 打官司 美國 國際貿易 委員會 ITC 10 裁定 禁止 '\n",
      " '進口 侵犯 一項 測定 血氧 含量 專利技術 蘋果 智慧 手錶 型號 這項 禁令 源起 Masimo 公司 2021 ITC 提出 申訴 這家 醫療 '\n",
      " '設備 製造商 指控 蘋果 侵犯 公司 感測 技術 測量 血氧 含量 專利 Masimo 這項 技術 發明 蘋果 挖角 員工 取得 技術 美國 貿易 代表 '\n",
      " 'USTR 今天 聲明 指出 謹慎 商議 貿易 代表 戴琪 KatherineTai 決定 撤銷 ITC 這項 裁定 ITC 決定 2023 12 26 '\n",
      " '日成 最終 裁定 白宮 有權 撤銷 進口 禁令 狀況 鮮少 發生 蘋果 主張 ITC 裁決 錯誤 應予 撤銷 並向 美國聯邦 法院 提起 上訴 蘋果 '\n",
      " '發言人 表示 公司 針對 這項 禁令 華盛頓 美國聯邦 巡迴 上訴 法院 CourtofAppealsfortheFederalCircuit 提起 '\n",
      " '上訴 蘋果 今天 聲明 中說 強烈 同意 ITC 裁定 由此 產生 排除 命令 採取 措施 盡快 美國 顧客 恢復 供應 '\n",
      " 'AppleWatchSeries9 AppleWatchUltra2 蘋果 請求 聯邦 巡迴 上訴 法院 暫停 禁令 至少 暫停 美國 海關 邊境 '\n",
      " '保護局 CBP 判定 重新 設計 過的 蘋果 智慧 手錶 型號 是否 侵犯 Masimo 專利 並在 法院 考慮 蘋果 請求 暫停 禁令 蘋果 美國 '\n",
      " '海關 邊境 保護局 預定 明年 12 做出 決定 耶誕 假期 前夕 蘋果 本月 21 已將 產品 自線 蘋果 商店 AppleStore 下架 實體 '\n",
      " '零售 商店 24 停止 販售')\n"
     ]
    }
   ],
   "source": [
    "pprint(false_pred['words'][10])"
   ]
  },
  {
   "cell_type": "markdown",
   "metadata": {},
   "source": [
    "全球相關詞彙，如美政府、美國、拜登等。"
   ]
  },
  {
   "attachments": {},
   "cell_type": "markdown",
   "metadata": {},
   "source": [
    "模型對另一個新聞網的預測結果比較普通。可以看到財經與全球的 precision 都相對低。\n",
    "- 另外三個版面均有不少文章被辨識成全球，推測全球涵蓋議題會比較多元，可能會有社會、政治、經濟等議題。像是上方例子，是提到大陸航空氣球越過台海，這樣的新聞可能會被辨識成全球。\n",
    "- 也有不少財經被辨識成全球，推測是因為財經新聞中常提到國際經濟、國際股市等相關新聞。像是上方示例中提到美國與拜登政府等詞彙，這是全球新聞中常見的詞彙導致誤判。\n",
    "- 因此推斷在東森新聞的資料中，全球新聞的內容可能比較多元，可能會有社會、政治、經濟等議題，因此在預測時會有一些誤判。"
   ]
  },
  {
   "attachments": {},
   "cell_type": "markdown",
   "metadata": {},
   "source": [
    "* accuracy可能會因為資料分布不同而有所偏差，所以評估模型的時候，可以加入一起 F1-score, recall, precision, AUC 等常見分類任務指標來評估。"
   ]
  }
 ],
 "metadata": {
  "kernelspec": {
   "display_name": "Python 3",
   "language": "python",
   "name": "python3"
  },
  "language_info": {
   "codemirror_mode": {
    "name": "ipython",
    "version": 3
   },
   "file_extension": ".py",
   "mimetype": "text/x-python",
   "name": "python",
   "nbconvert_exporter": "python",
   "pygments_lexer": "ipython3",
   "version": "3.9.5"
  }
 },
 "nbformat": 4,
 "nbformat_minor": 4
}
