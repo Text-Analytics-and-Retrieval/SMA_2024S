{
 "cells": [
  {
   "attachments": {},
   "cell_type": "markdown",
   "metadata": {},
   "source": [
    "# 文件分類\n",
    "主要使用文章轉DTM(document term matrix)的方式，將文章用不同的字詞分布表示，再利用python的sklearn套件，套用決策樹、logistic regression等方式訓練模型，以分辨不同的文件。本篇 Jupyter Notebook 將展示「中文」的文件分類，使用dcard的三個版別文章做示範。"
   ]
  },
  {
   "attachments": {},
   "cell_type": "markdown",
   "metadata": {},
   "source": [
    "## 分析目標\n",
    "+ 資料內容：\n",
    "    + 資料來源：Dcard\n",
    "    + 版別：股市、穿搭、youtuber\n",
    "\n",
    "* 分析主題：將三個版別的文章合起來，訓練模型能預測版別，再用分類模型進行文件的版別分類。\n",
    "\n",
    "* 步驟：\n",
    "    1. 載入套件\n",
    "    2. 基本的分類模型流程，包含以下三步驟：\n",
    "        * 前處理 (preprocess)\n",
    "        * 建模 (train model)\n",
    "        * 評估與預測 (evaluation and predict)\n",
    "    3. cross validation\n",
    "    4. 不同分類器的效果\n",
    "    5. 可解釋的可視化模型結果\n",
    "    6. 預測其他來源的資料並進行比對"
   ]
  },
  {
   "attachments": {},
   "cell_type": "markdown",
   "metadata": {},
   "source": [
    "## 1. 載入套件"
   ]
  },
  {
   "cell_type": "code",
   "execution_count": 136,
   "metadata": {},
   "outputs": [],
   "source": [
    "import re\n",
    "from pprint import pprint\n",
    "\n",
    "import pandas as pd\n",
    "import numpy as np\n",
    "import matplotlib.pyplot as plt\n",
    "import seaborn as sns\n",
    "import jieba\n",
    "from sklearn.model_selection import train_test_split, cross_validate, cross_val_predict, KFold\n",
    "from sklearn.metrics import (\n",
    "    confusion_matrix,\n",
    "    classification_report,\n",
    "    roc_curve,\n",
    "    auc,\n",
    "    precision_recall_curve,\n",
    "    RocCurveDisplay\n",
    ")\n",
    "from sklearn.feature_extraction.text import TfidfVectorizer, CountVectorizer\n",
    "from sklearn.preprocessing import LabelBinarizer\n",
    "from sklearn.linear_model import LogisticRegression\n",
    "from sklearn.naive_bayes import GaussianNB\n",
    "from sklearn.tree import DecisionTreeClassifier, plot_tree\n",
    "from sklearn.ensemble import RandomForestClassifier\n",
    "from sklearn import svm"
   ]
  },
  {
   "cell_type": "markdown",
   "metadata": {},
   "source": [
    "設定中文字體"
   ]
  },
  {
   "cell_type": "code",
   "execution_count": 137,
   "metadata": {},
   "outputs": [
    {
     "name": "stdout",
     "output_type": "stream",
     "text": [
      "/Users/tony/.matplotlib\n"
     ]
    }
   ],
   "source": [
    "import matplotlib\n",
    "print(matplotlib.get_configdir())\n"
   ]
  },
  {
   "cell_type": "code",
   "execution_count": 138,
   "metadata": {},
   "outputs": [
    {
     "data": {
      "text/plain": [
       "Text(0.5, 1.0, '聲量圖')"
      ]
     },
     "execution_count": 138,
     "metadata": {},
     "output_type": "execute_result"
    },
    {
     "data": {
      "image/png": "[encoded data removed]",
      "text/plain": [
       "<Figure size 640x480 with 1 Axes>"
      ]
     },
     "metadata": {},
     "output_type": "display_data"
    }
   ],
   "source": [
    "# https://zhuanlan.zhihu.com/p/566430362\n",
    "# from matplotlib import font_manager\n",
    "# font_set = {f.name for f in font_manager.fontManager.ttflist}\n",
    "plt.rcParams['font.sans-serif']=['SimHei']\n",
    "plt.rcParams['axes.unicode_minus']=False\n",
    "plt.plot((1, 2, 3), (4, 3, -1))\n",
    "plt.title(\"聲量圖\")"
   ]
  },
  {
   "attachments": {},
   "cell_type": "markdown",
   "metadata": {},
   "source": [
    "## 2. 文字前處理\n",
    "`sna2024s_7_a16a93362a_15.csv`,`sna2024s_7_a16a93362a_15-2.csv`,`sna2024s_7_a16a93362a_15-3.csv`裡面包含了要進行訓練的資料。\n",
    "- 版別：股市、youtuber、穿搭\n",
    "- 時間範圍：2024/01/01 ~ 2024/04/08\n",
    "- 工作流程平台搜尋/排除關鍵字：無"
   ]
  },
  {
   "cell_type": "markdown",
   "metadata": {},
   "source": [
    "#### 三筆資料都個別採取其中400筆並進行合併"
   ]
  },
  {
   "cell_type": "code",
   "execution_count": 139,
   "metadata": {},
   "outputs": [],
   "source": [
    "data1 = pd.read_csv('raw_data/sna2024s_7_a16a93362a_15.csv').head(400)\n",
    "data2 = pd.read_csv('raw_data/sna2024s_7_a16a93362a_15-2.csv').head(400)\n",
    "data3 = pd.read_csv('raw_data/sna2024s_7_a16a93362a_15-3.csv').head(400)\n",
    "# 步驟 3: 合併資料\n",
    "combined_data = pd.concat([data1, data2, data3])\n",
    "\n",
    "# 步驟 4: 儲存到新的 CSV 檔案\n",
    "combined_data.to_csv('combined_data.csv', index=False)"
   ]
  },
  {
   "cell_type": "code",
   "execution_count": 140,
   "metadata": {
    "scrolled": true
   },
   "outputs": [
    {
     "data": {
      "text/html": [
       "<div>\n",
       "<style scoped>\n",
       "    .dataframe tbody tr th:only-of-type {\n",
       "        vertical-align: middle;\n",
       "    }\n",
       "\n",
       "    .dataframe tbody tr th {\n",
       "        vertical-align: top;\n",
       "    }\n",
       "\n",
       "    .dataframe thead th {\n",
       "        text-align: right;\n",
       "    }\n",
       "</style>\n",
       "<table border=\"1\" class=\"dataframe\">\n",
       "  <thead>\n",
       "    <tr style=\"text-align: right;\">\n",
       "      <th></th>\n",
       "      <th>system_id</th>\n",
       "      <th>dataSource</th>\n",
       "      <th>artUrl</th>\n",
       "      <th>artDate</th>\n",
       "      <th>artTitle</th>\n",
       "      <th>artContent</th>\n",
       "      <th>boardID</th>\n",
       "      <th>commentCount</th>\n",
       "      <th>department</th>\n",
       "      <th>gender</th>\n",
       "      <th>school</th>\n",
       "    </tr>\n",
       "  </thead>\n",
       "  <tbody>\n",
       "    <tr>\n",
       "      <th>0</th>\n",
       "      <td>1</td>\n",
       "      <td>Dcard</td>\n",
       "      <td>https://www.dcard.tw/f/youtuber/p/255125589</td>\n",
       "      <td>2024-03-30 13:21:10</td>\n",
       "      <td>藍狐獴-全職戀人EP8</td>\n",
       "      <td>https://youtu.be/8YrYFDx6YLc?si=4RyVAs-8_hahbe...</td>\n",
       "      <td>youtuber</td>\n",
       "      <td>12</td>\n",
       "      <td>生物科技學系</td>\n",
       "      <td>M</td>\n",
       "      <td>亞洲大學</td>\n",
       "    </tr>\n",
       "    <tr>\n",
       "      <th>1</th>\n",
       "      <td>2</td>\n",
       "      <td>Dcard</td>\n",
       "      <td>https://www.dcard.tw/f/youtuber/p/255107233</td>\n",
       "      <td>2024-03-28 13:46:43</td>\n",
       "      <td>這種戲劇都沒落了嗎？</td>\n",
       "      <td>剛剛滑到這支影片\\n其實章魚燒梗蠻好笑的欸\\n還有人在看各種同學嗎\\n發現他們後來的影片加了...</td>\n",
       "      <td>youtuber</td>\n",
       "      <td>3</td>\n",
       "      <td>NaN</td>\n",
       "      <td>M</td>\n",
       "      <td>輔仁大學</td>\n",
       "    </tr>\n",
       "    <tr>\n",
       "      <th>2</th>\n",
       "      <td>3</td>\n",
       "      <td>Dcard</td>\n",
       "      <td>https://www.dcard.tw/f/youtuber/p/255124706</td>\n",
       "      <td>2024-03-30 11:39:33</td>\n",
       "      <td>陪沈團的駱楊分手了嗎？</td>\n",
       "      <td>前陣子在楊的私帳看到這篇文⬇️⬇️\\n\\n\\n八婆直覺是感情問題🤔🤔\\n加上剛才突然搜不到楊...</td>\n",
       "      <td>youtuber</td>\n",
       "      <td>22</td>\n",
       "      <td>NaN</td>\n",
       "      <td>M</td>\n",
       "      <td>輔仁大學</td>\n",
       "    </tr>\n",
       "  </tbody>\n",
       "</table>\n",
       "</div>"
      ],
      "text/plain": [
       "   system_id dataSource                                       artUrl  \\\n",
       "0          1      Dcard  https://www.dcard.tw/f/youtuber/p/255125589   \n",
       "1          2      Dcard  https://www.dcard.tw/f/youtuber/p/255107233   \n",
       "2          3      Dcard  https://www.dcard.tw/f/youtuber/p/255124706   \n",
       "\n",
       "               artDate     artTitle  \\\n",
       "0  2024-03-30 13:21:10  藍狐獴-全職戀人EP8   \n",
       "1  2024-03-28 13:46:43   這種戲劇都沒落了嗎？   \n",
       "2  2024-03-30 11:39:33  陪沈團的駱楊分手了嗎？   \n",
       "\n",
       "                                          artContent   boardID  commentCount  \\\n",
       "0  https://youtu.be/8YrYFDx6YLc?si=4RyVAs-8_hahbe...  youtuber            12   \n",
       "1  剛剛滑到這支影片\\n其實章魚燒梗蠻好笑的欸\\n還有人在看各種同學嗎\\n發現他們後來的影片加了...  youtuber             3   \n",
       "2  前陣子在楊的私帳看到這篇文⬇️⬇️\\n\\n\\n八婆直覺是感情問題🤔🤔\\n加上剛才突然搜不到楊...  youtuber            22   \n",
       "\n",
       "  department gender school  \n",
       "0     生物科技學系      M   亞洲大學  \n",
       "1        NaN      M   輔仁大學  \n",
       "2        NaN      M   輔仁大學  "
      ]
     },
     "execution_count": 140,
     "metadata": {},
     "output_type": "execute_result"
    }
   ],
   "source": [
    "udn = pd.read_csv(\"combined_data.csv\")  # 匯資料\n",
    "udn.head(3)"
   ]
  },
  {
   "cell_type": "code",
   "execution_count": 141,
   "metadata": {},
   "outputs": [
    {
     "name": "stdout",
     "output_type": "stream",
     "text": [
      "number of posts: 1200\n",
      "category: \n",
      "boardID\n",
      "youtuber    400\n",
      "dressup     400\n",
      "stock       400\n",
      "Name: count, dtype: int64\n"
     ]
    }
   ],
   "source": [
    "# 看看有幾篇文章\n",
    "print(f\"number of posts: {udn.shape[0]}\")\n",
    "# print(f\"date range: {(udn['artDate'].min(), udn['artDate'].max())}\")\n",
    "print(f\"category: \\n{udn['boardID'].value_counts()}\")"
   ]
  },
  {
   "attachments": {},
   "cell_type": "markdown",
   "metadata": {},
   "source": [
    "+ 2.1 斷句\n",
    "+ 2.2 斷詞（刪掉次數太少的、標點符號、停用字）"
   ]
  },
  {
   "attachments": {},
   "cell_type": "markdown",
   "metadata": {},
   "source": [
    "### 2.1 清理"
   ]
  },
  {
   "cell_type": "markdown",
   "metadata": {},
   "source": [
    "利用問號、句號或驚嘆號等符號斷句，或是如果出現中文或是英文的省略號，像是`...`也會斷句，最後設定會去除結尾的空白符號。"
   ]
  },
  {
   "cell_type": "code",
   "execution_count": 142,
   "metadata": {},
   "outputs": [
    {
     "data": {
      "text/html": [
       "<div>\n",
       "<style scoped>\n",
       "    .dataframe tbody tr th:only-of-type {\n",
       "        vertical-align: middle;\n",
       "    }\n",
       "\n",
       "    .dataframe tbody tr th {\n",
       "        vertical-align: top;\n",
       "    }\n",
       "\n",
       "    .dataframe thead th {\n",
       "        text-align: right;\n",
       "    }\n",
       "</style>\n",
       "<table border=\"1\" class=\"dataframe\">\n",
       "  <thead>\n",
       "    <tr style=\"text-align: right;\">\n",
       "      <th></th>\n",
       "      <th>system_id</th>\n",
       "      <th>dataSource</th>\n",
       "      <th>artUrl</th>\n",
       "      <th>artDate</th>\n",
       "      <th>artTitle</th>\n",
       "      <th>artContent</th>\n",
       "      <th>boardID</th>\n",
       "      <th>commentCount</th>\n",
       "      <th>department</th>\n",
       "      <th>gender</th>\n",
       "      <th>school</th>\n",
       "    </tr>\n",
       "  </thead>\n",
       "  <tbody>\n",
       "    <tr>\n",
       "      <th>0</th>\n",
       "      <td>1</td>\n",
       "      <td>Dcard</td>\n",
       "      <td>https://www.dcard.tw/f/youtuber/p/255125589</td>\n",
       "      <td>2024-03-30 13:21:10</td>\n",
       "      <td>藍狐獴全職戀人</td>\n",
       "      <td>這集大家促膝長談談的很深入談到各自的家庭和成長不過和有自己的顧慮沒有想聊還談到了約砲找來的來...</td>\n",
       "      <td>youtuber</td>\n",
       "      <td>12</td>\n",
       "      <td>生物科技學系</td>\n",
       "      <td>M</td>\n",
       "      <td>亞洲大學</td>\n",
       "    </tr>\n",
       "    <tr>\n",
       "      <th>1</th>\n",
       "      <td>2</td>\n",
       "      <td>Dcard</td>\n",
       "      <td>https://www.dcard.tw/f/youtuber/p/255107233</td>\n",
       "      <td>2024-03-28 13:46:43</td>\n",
       "      <td>這種戲劇都沒落了嗎</td>\n",
       "      <td>剛剛滑到這支影片其實章魚燒梗蠻好笑的欸還有人在看各種同學嗎發現他們後來的影片加了一些新人但現...</td>\n",
       "      <td>youtuber</td>\n",
       "      <td>3</td>\n",
       "      <td>NaN</td>\n",
       "      <td>M</td>\n",
       "      <td>輔仁大學</td>\n",
       "    </tr>\n",
       "    <tr>\n",
       "      <th>2</th>\n",
       "      <td>3</td>\n",
       "      <td>Dcard</td>\n",
       "      <td>https://www.dcard.tw/f/youtuber/p/255124706</td>\n",
       "      <td>2024-03-30 11:39:33</td>\n",
       "      <td>陪沈團的駱楊分手了嗎</td>\n",
       "      <td>前陣子在楊的私帳看到這篇文八婆直覺是感情問題加上剛才突然搜不到楊的私帳好像關版了再去駱的版找...</td>\n",
       "      <td>youtuber</td>\n",
       "      <td>22</td>\n",
       "      <td>NaN</td>\n",
       "      <td>M</td>\n",
       "      <td>輔仁大學</td>\n",
       "    </tr>\n",
       "  </tbody>\n",
       "</table>\n",
       "</div>"
      ],
      "text/plain": [
       "   system_id dataSource                                       artUrl  \\\n",
       "0          1      Dcard  https://www.dcard.tw/f/youtuber/p/255125589   \n",
       "1          2      Dcard  https://www.dcard.tw/f/youtuber/p/255107233   \n",
       "2          3      Dcard  https://www.dcard.tw/f/youtuber/p/255124706   \n",
       "\n",
       "               artDate    artTitle  \\\n",
       "0  2024-03-30 13:21:10     藍狐獴全職戀人   \n",
       "1  2024-03-28 13:46:43   這種戲劇都沒落了嗎   \n",
       "2  2024-03-30 11:39:33  陪沈團的駱楊分手了嗎   \n",
       "\n",
       "                                          artContent   boardID  commentCount  \\\n",
       "0  這集大家促膝長談談的很深入談到各自的家庭和成長不過和有自己的顧慮沒有想聊還談到了約砲找來的來...  youtuber            12   \n",
       "1  剛剛滑到這支影片其實章魚燒梗蠻好笑的欸還有人在看各種同學嗎發現他們後來的影片加了一些新人但現...  youtuber             3   \n",
       "2  前陣子在楊的私帳看到這篇文八婆直覺是感情問題加上剛才突然搜不到楊的私帳好像關版了再去駱的版找...  youtuber            22   \n",
       "\n",
       "  department gender school  \n",
       "0     生物科技學系      M   亞洲大學  \n",
       "1        NaN      M   輔仁大學  \n",
       "2        NaN      M   輔仁大學  "
      ]
     },
     "execution_count": 142,
     "metadata": {},
     "output_type": "execute_result"
    }
   ],
   "source": [
    "# 過濾 nan 的資料\n",
    "udn = udn.dropna(subset=['artTitle'])\n",
    "udn = udn.dropna(subset=['artContent'])\n",
    "# 移除網址格式\n",
    "udn[\"artContent\"] = udn.artContent.apply(\n",
    "    lambda x: re.sub(\"(http|https)://.*\", \"\", x)\n",
    ")\n",
    "udn[\"artTitle\"] = udn[\"artTitle\"].apply(\n",
    "    lambda x: re.sub(\"(http|https)://.*\", \"\", x)\n",
    ")\n",
    "# 只留下中文字\n",
    "udn[\"artContent\"] = udn.artContent.apply(\n",
    "    lambda x: re.sub(\"[^\\u4e00-\\u9fa5]+\", \"\", x)\n",
    ")\n",
    "udn[\"artTitle\"] = udn[\"artTitle\"].apply(\n",
    "    lambda x: re.sub(\"[^\\u4e00-\\u9fa5]+\", \"\", x)\n",
    ")\n",
    "udn.head(3)"
   ]
  },
  {
   "cell_type": "markdown",
   "metadata": {},
   "source": [
    "文章的標題`artTitle`和內文`sentence`都會納入分析的內容，成為新的`content`欄位。"
   ]
  },
  {
   "cell_type": "code",
   "execution_count": 143,
   "metadata": {},
   "outputs": [
    {
     "data": {
      "text/html": [
       "<div>\n",
       "<style scoped>\n",
       "    .dataframe tbody tr th:only-of-type {\n",
       "        vertical-align: middle;\n",
       "    }\n",
       "\n",
       "    .dataframe tbody tr th {\n",
       "        vertical-align: top;\n",
       "    }\n",
       "\n",
       "    .dataframe thead th {\n",
       "        text-align: right;\n",
       "    }\n",
       "</style>\n",
       "<table border=\"1\" class=\"dataframe\">\n",
       "  <thead>\n",
       "    <tr style=\"text-align: right;\">\n",
       "      <th></th>\n",
       "      <th>content</th>\n",
       "      <th>artUrl</th>\n",
       "      <th>boardID</th>\n",
       "    </tr>\n",
       "  </thead>\n",
       "  <tbody>\n",
       "    <tr>\n",
       "      <th>0</th>\n",
       "      <td>藍狐獴全職戀人這集大家促膝長談談的很深入談到各自的家庭和成長不過和有自己的顧慮沒有想聊還談到...</td>\n",
       "      <td>https://www.dcard.tw/f/youtuber/p/255125589</td>\n",
       "      <td>youtuber</td>\n",
       "    </tr>\n",
       "    <tr>\n",
       "      <th>1</th>\n",
       "      <td>這種戲劇都沒落了嗎剛剛滑到這支影片其實章魚燒梗蠻好笑的欸還有人在看各種同學嗎發現他們後來的影...</td>\n",
       "      <td>https://www.dcard.tw/f/youtuber/p/255107233</td>\n",
       "      <td>youtuber</td>\n",
       "    </tr>\n",
       "    <tr>\n",
       "      <th>2</th>\n",
       "      <td>陪沈團的駱楊分手了嗎前陣子在楊的私帳看到這篇文八婆直覺是感情問題加上剛才突然搜不到楊的私帳好...</td>\n",
       "      <td>https://www.dcard.tw/f/youtuber/p/255124706</td>\n",
       "      <td>youtuber</td>\n",
       "    </tr>\n",
       "    <tr>\n",
       "      <th>3</th>\n",
       "      <td>想分享一下自己的遊戲頻道想分享一下自己的頻道剛剛起步主要是粵語配繁體中文字幕大家有興趣可以試...</td>\n",
       "      <td>https://www.dcard.tw/f/youtuber/p/255115766</td>\n",
       "      <td>youtuber</td>\n",
       "    </tr>\n",
       "    <tr>\n",
       "      <th>4</th>\n",
       "      <td>心碎虐童細節曝光竟稱親兒是惡魔近日美國一起虐童案件震驚各界在頻道現已被刪除以分享家庭育兒經驗...</td>\n",
       "      <td>https://www.dcard.tw/f/youtuber/p/255105636</td>\n",
       "      <td>youtuber</td>\n",
       "    </tr>\n",
       "  </tbody>\n",
       "</table>\n",
       "</div>"
      ],
      "text/plain": [
       "                                             content  \\\n",
       "0  藍狐獴全職戀人這集大家促膝長談談的很深入談到各自的家庭和成長不過和有自己的顧慮沒有想聊還談到...   \n",
       "1  這種戲劇都沒落了嗎剛剛滑到這支影片其實章魚燒梗蠻好笑的欸還有人在看各種同學嗎發現他們後來的影...   \n",
       "2  陪沈團的駱楊分手了嗎前陣子在楊的私帳看到這篇文八婆直覺是感情問題加上剛才突然搜不到楊的私帳好...   \n",
       "3  想分享一下自己的遊戲頻道想分享一下自己的頻道剛剛起步主要是粵語配繁體中文字幕大家有興趣可以試...   \n",
       "4  心碎虐童細節曝光竟稱親兒是惡魔近日美國一起虐童案件震驚各界在頻道現已被刪除以分享家庭育兒經驗...   \n",
       "\n",
       "                                        artUrl   boardID  \n",
       "0  https://www.dcard.tw/f/youtuber/p/255125589  youtuber  \n",
       "1  https://www.dcard.tw/f/youtuber/p/255107233  youtuber  \n",
       "2  https://www.dcard.tw/f/youtuber/p/255124706  youtuber  \n",
       "3  https://www.dcard.tw/f/youtuber/p/255115766  youtuber  \n",
       "4  https://www.dcard.tw/f/youtuber/p/255105636  youtuber  "
      ]
     },
     "execution_count": 143,
     "metadata": {},
     "output_type": "execute_result"
    }
   ],
   "source": [
    "# 留下 content\n",
    "udn[\"content\"] = udn[\"artTitle\"] + udn[\"artContent\"]\n",
    "udn = udn[[\"content\", \"artUrl\", \"boardID\"]]  # 文章內容 文章連結\n",
    "udn.head()"
   ]
  },
  {
   "cell_type": "code",
   "execution_count": 144,
   "metadata": {
    "scrolled": true
   },
   "outputs": [
    {
     "name": "stdout",
     "output_type": "stream",
     "text": [
      "total docs: 1166\n"
     ]
    }
   ],
   "source": [
    "# 看看有幾篇文章\n",
    "print(f\"total docs: {udn.shape[0]}\")\n"
   ]
  },
  {
   "attachments": {},
   "cell_type": "markdown",
   "metadata": {},
   "source": [
    "### 2.2 斷詞"
   ]
  },
  {
   "cell_type": "code",
   "execution_count": 145,
   "metadata": {},
   "outputs": [
    {
     "name": "stderr",
     "output_type": "stream",
     "text": [
      "Building prefix dict from /Users/tony/Desktop/MIS581/SMA_2nd/week7/dict/dict.txt.big ...\n",
      "Loading model from cache /var/folders/dd/3xjn4tx56812dj8npgdggkh40000gn/T/jieba.u72a33dfcb9d11d9cc7f82fd9c6265fcd.cache\n",
      "Loading model cost 0.501 seconds.\n",
      "Prefix dict has been built successfully.\n"
     ]
    }
   ],
   "source": [
    "# 設定繁體中文詞庫\n",
    "jieba.set_dictionary(\"./dict/dict.txt.big\")\n",
    "\n",
    "# 載入自定義辭典：一個詞一行，每行分詞語、詞頻(可省)、詞性(可省)\n",
    "jieba.load_userdict(\"dict/user_dict.txt\")\n",
    "\n",
    "# 新增stopwords\n",
    "# jieba.analyse.set_stop_words('./dict/stop_words.txt') #jieba.analyse.extract_tags才會作用\n",
    "with open(\"./dict/stop_words.txt\", encoding=\"utf-8\") as f:\n",
    "    stopWords = [line.strip() for line in f.readlines()]"
   ]
  },
  {
   "cell_type": "code",
   "execution_count": 146,
   "metadata": {},
   "outputs": [],
   "source": [
    "# 設定斷詞 function\n",
    "def getToken(row):\n",
    "    seg_list = jieba.cut(row, cut_all=False)\n",
    "    seg_list = [\n",
    "        w for w in seg_list if w not in stopWords and len(w) > 1\n",
    "    ]  # 篩選掉停用字與字元數大於1的詞彙\n",
    "    return seg_list"
   ]
  },
  {
   "cell_type": "code",
   "execution_count": 147,
   "metadata": {},
   "outputs": [
    {
     "data": {
      "text/html": [
       "<div>\n",
       "<style scoped>\n",
       "    .dataframe tbody tr th:only-of-type {\n",
       "        vertical-align: middle;\n",
       "    }\n",
       "\n",
       "    .dataframe tbody tr th {\n",
       "        vertical-align: top;\n",
       "    }\n",
       "\n",
       "    .dataframe thead th {\n",
       "        text-align: right;\n",
       "    }\n",
       "</style>\n",
       "<table border=\"1\" class=\"dataframe\">\n",
       "  <thead>\n",
       "    <tr style=\"text-align: right;\">\n",
       "      <th></th>\n",
       "      <th>content</th>\n",
       "      <th>artUrl</th>\n",
       "      <th>boardID</th>\n",
       "      <th>words</th>\n",
       "    </tr>\n",
       "  </thead>\n",
       "  <tbody>\n",
       "    <tr>\n",
       "      <th>0</th>\n",
       "      <td>藍狐獴全職戀人這集大家促膝長談談的很深入談到各自的家庭和成長不過和有自己的顧慮沒有想聊還談到...</td>\n",
       "      <td>https://www.dcard.tw/f/youtuber/p/255125589</td>\n",
       "      <td>youtuber</td>\n",
       "      <td>藍狐 全職 戀人 這集 促膝長談 深入 談到 家庭 成長 顧慮 聊還 談到 找來 來賓 幾個...</td>\n",
       "    </tr>\n",
       "    <tr>\n",
       "      <th>1</th>\n",
       "      <td>這種戲劇都沒落了嗎剛剛滑到這支影片其實章魚燒梗蠻好笑的欸還有人在看各種同學嗎發現他們後來的影...</td>\n",
       "      <td>https://www.dcard.tw/f/youtuber/p/255107233</td>\n",
       "      <td>youtuber</td>\n",
       "      <td>戲劇 沒落 剛剛 滑到 這支 影片 章魚燒 梗蠻 好笑 同學 發現 影片 一些 新人 現在 好像</td>\n",
       "    </tr>\n",
       "    <tr>\n",
       "      <th>2</th>\n",
       "      <td>陪沈團的駱楊分手了嗎前陣子在楊的私帳看到這篇文八婆直覺是感情問題加上剛才突然搜不到楊的私帳好...</td>\n",
       "      <td>https://www.dcard.tw/f/youtuber/p/255124706</td>\n",
       "      <td>youtuber</td>\n",
       "      <td>沈團 駱楊 分手 陣子 私帳 看到 這篇 文八婆 直覺 感情 問題 突然 不到 私帳 好像 ...</td>\n",
       "    </tr>\n",
       "    <tr>\n",
       "      <th>3</th>\n",
       "      <td>想分享一下自己的遊戲頻道想分享一下自己的頻道剛剛起步主要是粵語配繁體中文字幕大家有興趣可以試...</td>\n",
       "      <td>https://www.dcard.tw/f/youtuber/p/255115766</td>\n",
       "      <td>youtuber</td>\n",
       "      <td>分享 一下 遊戲 頻道 分享 一下 頻道 剛剛 起步 主要 粵語 繁體中文 字幕 興趣 試試...</td>\n",
       "    </tr>\n",
       "    <tr>\n",
       "      <th>4</th>\n",
       "      <td>心碎虐童細節曝光竟稱親兒是惡魔近日美國一起虐童案件震驚各界在頻道現已被刪除以分享家庭育兒經驗...</td>\n",
       "      <td>https://www.dcard.tw/f/youtuber/p/255105636</td>\n",
       "      <td>youtuber</td>\n",
       "      <td>心碎 虐童 細節 曝光 竟稱 親兒 惡魔 近日 美國 一起 虐童 案件 震驚 各界 頻道 現...</td>\n",
       "    </tr>\n",
       "  </tbody>\n",
       "</table>\n",
       "</div>"
      ],
      "text/plain": [
       "                                             content  \\\n",
       "0  藍狐獴全職戀人這集大家促膝長談談的很深入談到各自的家庭和成長不過和有自己的顧慮沒有想聊還談到...   \n",
       "1  這種戲劇都沒落了嗎剛剛滑到這支影片其實章魚燒梗蠻好笑的欸還有人在看各種同學嗎發現他們後來的影...   \n",
       "2  陪沈團的駱楊分手了嗎前陣子在楊的私帳看到這篇文八婆直覺是感情問題加上剛才突然搜不到楊的私帳好...   \n",
       "3  想分享一下自己的遊戲頻道想分享一下自己的頻道剛剛起步主要是粵語配繁體中文字幕大家有興趣可以試...   \n",
       "4  心碎虐童細節曝光竟稱親兒是惡魔近日美國一起虐童案件震驚各界在頻道現已被刪除以分享家庭育兒經驗...   \n",
       "\n",
       "                                        artUrl   boardID  \\\n",
       "0  https://www.dcard.tw/f/youtuber/p/255125589  youtuber   \n",
       "1  https://www.dcard.tw/f/youtuber/p/255107233  youtuber   \n",
       "2  https://www.dcard.tw/f/youtuber/p/255124706  youtuber   \n",
       "3  https://www.dcard.tw/f/youtuber/p/255115766  youtuber   \n",
       "4  https://www.dcard.tw/f/youtuber/p/255105636  youtuber   \n",
       "\n",
       "                                               words  \n",
       "0  藍狐 全職 戀人 這集 促膝長談 深入 談到 家庭 成長 顧慮 聊還 談到 找來 來賓 幾個...  \n",
       "1   戲劇 沒落 剛剛 滑到 這支 影片 章魚燒 梗蠻 好笑 同學 發現 影片 一些 新人 現在 好像  \n",
       "2  沈團 駱楊 分手 陣子 私帳 看到 這篇 文八婆 直覺 感情 問題 突然 不到 私帳 好像 ...  \n",
       "3  分享 一下 遊戲 頻道 分享 一下 頻道 剛剛 起步 主要 粵語 繁體中文 字幕 興趣 試試...  \n",
       "4  心碎 虐童 細節 曝光 竟稱 親兒 惡魔 近日 美國 一起 虐童 案件 震驚 各界 頻道 現...  "
      ]
     },
     "execution_count": 147,
     "metadata": {},
     "output_type": "execute_result"
    }
   ],
   "source": [
    "udn[\"words\"] = udn[\"content\"].apply(getToken).map(\" \".join)\n",
    "udn.head()"
   ]
  },
  {
   "attachments": {},
   "cell_type": "markdown",
   "metadata": {},
   "source": [
    "### 2.3 資料集基本檢視"
   ]
  },
  {
   "cell_type": "markdown",
   "metadata": {},
   "source": [
    "檢視資料內容"
   ]
  },
  {
   "cell_type": "code",
   "execution_count": 148,
   "metadata": {},
   "outputs": [
    {
     "name": "stdout",
     "output_type": "stream",
     "text": [
      "total posts: 1166\n",
      "category: \n",
      "boardID\n",
      "youtuber    399\n",
      "dressup     389\n",
      "stock       378\n",
      "Name: count, dtype: int64\n"
     ]
    }
   ],
   "source": [
    "print(f\"total posts: {len(udn['artUrl'].unique())}\")\n",
    "print(f\"category: \\n{udn['boardID'].value_counts()}\")\n"
   ]
  },
  {
   "attachments": {},
   "cell_type": "markdown",
   "metadata": {},
   "source": [
    "## 3. 分類模型的訓練流程\n",
    "### 3.1 根據7:3的比例切分資料集\n",
    "利用 sklearn 中的 train_test_split 函數將 `raw_data` 隨機切成 7:3，設置 random_state 讓每次切分的結果一致。`y_train`和`y_test`分別為訓練資料和測試資料的預測目標。"
   ]
  },
  {
   "cell_type": "code",
   "execution_count": 149,
   "metadata": {},
   "outputs": [
    {
     "name": "stdout",
     "output_type": "stream",
     "text": [
      "1022    請益 疑問 永豐 大戶 報酬 試算 請問 有人 知道 永豐 大戶 報酬 算是 一下 輝達 績...\n",
      "374     電類 科系 大學 研究所 差異 陽明 交通 大學 電子 研究所 實驗室 日常 好久沒 剪片 ...\n",
      "256     藍狐 請問 有人 記得 之前 藍狐 蒙有 交友 軟體 合作 會員 免費 一個月 影片 不到 ...\n",
      "397                               電腦 改版 今天 打開 發現 有人 有變 習慣\n",
      "1016    波浪理論 當的 套利 下車 價值 投資 年月日 春分 過後 第一個 交易日 加權指數 首次 ...\n",
      "Name: words, dtype: object\n",
      "1022       stock\n",
      "374     youtuber\n",
      "256     youtuber\n",
      "397     youtuber\n",
      "1016       stock\n",
      "Name: boardID, dtype: object\n"
     ]
    }
   ],
   "source": [
    "data = udn\n",
    "X = data[\"words\"]\n",
    "y = data[\"boardID\"]\n",
    "\n",
    "# 把整個資料集七三切\n",
    "X_train, X_test, y_train, y_test = train_test_split(\n",
    "    X, y, test_size=0.3, random_state=777\n",
    ")\n",
    "\n",
    "print(X_train.head())\n",
    "print(y_train.head())"
   ]
  },
  {
   "cell_type": "code",
   "execution_count": 150,
   "metadata": {},
   "outputs": [
    {
     "name": "stdout",
     "output_type": "stream",
     "text": [
      "raw data percentage :\n",
      "boardID\n",
      "youtuber    34.219554\n",
      "dressup     33.361921\n",
      "stock       32.418525\n",
      "Name: proportion, dtype: float64\n",
      "\n",
      "train percentage :\n",
      "boardID\n",
      "youtuber    35.784314\n",
      "stock       32.720588\n",
      "dressup     31.495098\n",
      "Name: proportion, dtype: float64\n",
      "\n",
      "test percentage :\n",
      "boardID\n",
      "dressup     37.714286\n",
      "stock       31.714286\n",
      "youtuber    30.571429\n",
      "Name: proportion, dtype: float64\n"
     ]
    }
   ],
   "source": [
    "# 看一下各個資料集切分的比例，應該要一致\n",
    "print(\n",
    "    f\"raw data percentage :\\n{data['boardID'].value_counts(normalize=True) * 100}\"\n",
    ")\n",
    "print(f\"\\ntrain percentage :\\n{y_train.value_counts(normalize=True) * 100}\")\n",
    "print(f\"\\ntest percentage :\\n{y_test.value_counts(normalize=True) * 100}\")"
   ]
  },
  {
   "attachments": {},
   "cell_type": "markdown",
   "metadata": {},
   "source": [
    "### 3.2 將文章轉為 DTM\n",
    "\n",
    "DTM(document term matrix) :\n",
    "+ 將不同的文章 (document) 以文章中出現過的字詞(term)表示\n",
    "    + row 是document (文件)\n",
    "    + column 是字詞 (term)\n",
    "    + row 內的數字是出現的字數\n",
    "\n",
    "DTM裡面的值可以有不同的表示方法\n",
    "+ (1) 依據詞頻 (classic BoW)\n",
    "    + 用 `CountVectorizer()`\n",
    "    + unigrams and bigrams\n",
    "    + [sklearn.feature_extraction.text.CountVectorizer](https://scikit-learn.org/stable/modules/generated/sklearn.feature_extraction.text.CountVectorizer.html)\n",
    "+ (2) 依據tfidf (advanced variant of BoW)\n",
    "    + 篩選出現次數大於10的字\n",
    "    + 用 `TfidfVectorizer()`\n",
    "    + [sklearn.feature_extraction.text.TfidfVectorizer](https://scikit-learn.org/stable/modules/generated/sklearn.feature_extraction.text.CountVectorizer.html)\n",
    "+ 常用參數介紹\n",
    "    + max_features: 取 詞頻 / tfidf 前多少的字"
   ]
  },
  {
   "attachments": {},
   "cell_type": "markdown",
   "metadata": {},
   "source": [
    "### 3.3 套入正式的資料集\n",
    "+  模型訓練範例: logistic regression + cv tokenizer"
   ]
  },
  {
   "cell_type": "code",
   "execution_count": 151,
   "metadata": {},
   "outputs": [
    {
     "name": "stdout",
     "output_type": "stream",
     "text": [
      "CountVectorizer(max_features=1000)\n"
     ]
    }
   ],
   "source": [
    "vectorizer = CountVectorizer(max_features=1000)\n",
    "print(vectorizer)"
   ]
  },
  {
   "cell_type": "code",
   "execution_count": 152,
   "metadata": {},
   "outputs": [
    {
     "data": {
      "text/plain": [
       "1022    請益 疑問 永豐 大戶 報酬 試算 請問 有人 知道 永豐 大戶 報酬 算是 一下 輝達 績...\n",
       "374     電類 科系 大學 研究所 差異 陽明 交通 大學 電子 研究所 實驗室 日常 好久沒 剪片 ...\n",
       "256     藍狐 請問 有人 記得 之前 藍狐 蒙有 交友 軟體 合作 會員 免費 一個月 影片 不到 ...\n",
       "397                               電腦 改版 今天 打開 發現 有人 有變 習慣\n",
       "1016    波浪理論 當的 套利 下車 價值 投資 年月日 春分 過後 第一個 交易日 加權指數 首次 ...\n",
       "Name: words, dtype: object"
      ]
     },
     "execution_count": 152,
     "metadata": {},
     "output_type": "execute_result"
    }
   ],
   "source": [
    "X_train.head()"
   ]
  },
  {
   "cell_type": "code",
   "execution_count": 153,
   "metadata": {},
   "outputs": [
    {
     "data": {
      "text/plain": [
       "<816x1000 sparse matrix of type '<class 'numpy.int64'>'\n",
       "\twith 20567 stored elements in Compressed Sparse Row format>"
      ]
     },
     "execution_count": 153,
     "metadata": {},
     "output_type": "execute_result"
    }
   ],
   "source": [
    "vectorizer.fit(X_train)\n",
    "vec_train = vectorizer.transform(X_train)\n",
    "vec_train"
   ]
  },
  {
   "cell_type": "code",
   "execution_count": 154,
   "metadata": {},
   "outputs": [
    {
     "data": {
      "text/plain": [
       "array([[1, 0, 0, ..., 0, 0, 0],\n",
       "       [0, 0, 0, ..., 0, 0, 0],\n",
       "       [0, 0, 0, ..., 0, 0, 0],\n",
       "       ...,\n",
       "       [0, 0, 0, ..., 0, 0, 0],\n",
       "       [3, 0, 0, ..., 0, 0, 0],\n",
       "       [1, 0, 0, ..., 0, 0, 0]])"
      ]
     },
     "execution_count": 154,
     "metadata": {},
     "output_type": "execute_result"
    }
   ],
   "source": [
    "### 用 `toarray()` 轉成 numpy array\n",
    "vec_train.toarray()"
   ]
  },
  {
   "cell_type": "code",
   "execution_count": 155,
   "metadata": {},
   "outputs": [
    {
     "name": "stdout",
     "output_type": "stream",
     "text": [
      "['一下' '一些' '一件' '一位' '一個月' '一半' '一堆' '一天' '一套' '一定']\n"
     ]
    }
   ],
   "source": [
    "# 可用 `fit_transform()` 一次完成\n",
    "vec_train = vectorizer.fit_transform(X_train)\n",
    "print(vectorizer.get_feature_names_out()[:10])\n"
   ]
  },
  {
   "cell_type": "code",
   "execution_count": 156,
   "metadata": {},
   "outputs": [
    {
     "name": "stdout",
     "output_type": "stream",
     "text": [
      "{'請益': 816, '永豐': 555, '報酬': 249, '請問': 814, '有人': 501, '知道': 652, '算是': 687, '一下': 0, '輝達': 864, '績效': 720, '覺得': 786, '數字': 461, '假設': 113, '一個月': 4, '連續': 890, '大學': 261, '差異': 324, '電子': 960, '日常': 475, '最近': 498, '今天': 82, '藍狐': 763, '記得': 797, '之前': 67, '合作': 204, '會員': 500, '影片': 356, '不到': 50, '發現': 623, '習慣': 728, '價值': 121, '投資': 408, '加權指數': 167, '維持': 711, '降息': 949, '買盤': 828, '進場': 894, '收盤價': 447, '累積': 699, '期間': 515, '有趣': 507, '當初': 617, '造成': 888, '科技': 667, '台灣': 201, '台積': 202, '時間': 485, '歷史': 542, '漲幅': 577, '目的': 636, '半導體': 176, '上漲': 33, '預期': 972, '營收': 585, '至少': 752, '成長': 395, '一年': 10, '目前': 633, '低點': 98, '回測': 233, '高點': 993, '就要': 314, '容易': 301, '主要': 65, '壓力': 253, '避免': 909, '進入': 893, '報告': 248, '自然': 750, '台幣': 200, '過去': 898, '經驗': 709, '得到': 362, '股市': 738, '通常': 885, '外資': 256, '賣壓': 843, '集中': 959, '市場': 328, '金額': 931, '億元': 123, '之後': 69, '出現': 145, '下跌': 46, '認為': 808, '股息': 739, '喜歡': 224, '投資人': 409, '規模': 784, '心態': 367, '代表': 87, '新手': 465, '存在': 285, '行為': 771, '已經': 325, '跌破': 855, '淨值': 569, '基金': 247, '掛牌': 425, '成分股': 389, '正式': 541, '成立': 394, '行情': 770, '明顯': 481, '一波': 17, '慢慢': 384, '走勢': 850, '看到': 644, '一定': 9, '賺錢': 847, '機會': 533, '邏輯': 916, '不夠': 51, '停損': 116, '口袋': 193, '重要': 927, '出場': 144, '文章': 464, '韭菜': 968, '相信': 639, '分享': 147, '小資': 312, '除舊佈新': 954, '近期': 867, '購入': 848, '戒指': 397, '推薦': 428, '衣服': 772, '之外': 68, '飾品': 988, '淘寶': 568, '像是': 119, '耳環': 734, '項鍊': 969, '市集': 329, '賣家': 844, '購買': 849, '照片': 582, '放在': 449, '手上': 399, '好好': 279, '篇文章': 689, '以下': 90, '需要': 963, '直接': 637, '帳號': 333, '日系': 478, '造型': 887, '最愛': 495, '日本': 476, '簡單': 690, '花花': 759, '蝴蝶結': 769, '以上': 89, '平常': 338, '再來': 141, '整理': 459, '下次': 45, '冬天': 142, '搭配': 435, '夏天': 254, '一次': 15, '更新': 490, '整套': 458, '希望': 331, '以來': 91, '系列': 695, '適合': 904, '陣子': 952, '朋友': 509, '設計': 800, '比較': 550, '單調': 227, '建議': 353, '那種': 918, '活動': 564, '想要': 376, '強勢': 354, '焦點': 581, '強勢股': 355, '去年': 184, '獲得': 598, '預計': 973, '未來': 516, '陸續': 955, '獲利': 597, '每股': 548, '現金': 603, '股利': 737, '電網': 961, '計畫': 792, '公司': 137, '相關': 643, '超過': 852, '後續': 360, '動能': 171, '股東': 741, '持有': 416, '股票': 742, '持股': 418, '比例': 549, '受到': 191, '台北': 199, '影響': 357, '虧損': 767, '收斂': 444, '台股': 203, '客戶': 298, '今年': 83, '產業': 610, '看好': 645, '資本': 837, '放大': 450, '營運': 587, '表現': 774, '業務': 527, '轉型': 865, '循環': 364, '經濟': 708, '產品': 609, '全部': 134, '品牌': 214, '資產': 838, '穩定': 672, '亮點': 78, '這次': 879, '確定': 661, '這位': 873, '網紅': 713, '流量': 567, '這件': 872, '籌碼': 691, '明天': 479, '今日': 84, '族群': 474, '散熱': 456, '特別': 593, '導致': 308, '收益': 445, '指數': 421, '一直': 19, '真的': 649, '很難': 359, '操作': 436, '方式': 469, '問題': 223, '歡迎': 538, '當天': 618, '想法': 375, '參加': 185, '一支': 12, '屬於': 319, '考慮': 731, '能力': 747, '值得': 112, '看過': 648, '有點': 508, '下去': 42, '內容': 129, '講話': 817, '上次': 32, '了解': 71, '一些': 1, '懶人': 386, '確認': 662, '觀念': 788, '家庭': 300, '方案': 470, '一起': 22, '夥伴': 260, '討論': 795, '是否': 484, '費用': 833, '人數': 79, '地區': 241, '填寫': 250, '下方': 44, '接受': 426, '邀請': 910, '使用': 99, '服務': 510, '謝謝': 818, '留言': 615, '通知': 886, '感謝': 383, '拍攝': 412, '剪輯': 164, '生活': 608, '地方': 242, '搜尋': 434, '有種': 506, '可愛': 197, '昨天': 483, '完全': 290, '舒服': 755, '女子': 272, '證明': 820, '現在': 601, '數據': 462, '統計': 706, '不想': 54, '研究': 659, '指標': 422, '最新': 496, '狀況': 595, '寬鬆': 306, '一堆': 6, '模式': 531, '方法': 471, '觀看': 789, '平均': 337, '國外': 236, '隨便': 957, '這裡': 881, '上面': 38, '觀察': 787, '熱門': 583, '哪裡': 218, '表示': 775, '應該': 385, '粉絲': 693, '豆腐': 825, '成交': 388, '概念': 528, '買進': 831, '震盪': 964, '小心': 309, '庫存': 348, '還好': 912, '題材': 978, '部位': 919, '這間': 882, '商品': 220, '麻煩': 996, '短裙': 657, '天氣': 268, '終於': 701, '最後': 494, '風格': 985, '一套': 8, '感覺': 382, '裙子': 776, '裡面': 777, '褲子': 778, '不用': 57, '嘗試': 228, '樂福鞋': 529, '超級': 851, '襯衫': 780, '外套': 255, '個性': 110, '領子': 975, '短版': 654, '層次感': 318, '色系': 757, '包包': 172, '毛毛': 551, '上衣': 35, '拍照': 413, '溫柔': 574, '順便': 970, '身邊': 861, '東西': 521, '食物': 987, '流行': 565, '綁帶': 707, '變化': 823, '整個': 457, '配色': 923, '燒到': 584, '整體': 460, '豐富': 826, '好看': 281, '手機': 400, '背心': 746, '好多': 277, '厚底': 180, '套裝': 271, '鞋子': 966, '材質': 519, '呼應': 212, '期待': 513, '結束': 703, '大量': 266, '便宜': 105, '支撐': 441, '缺點': 722, '實體': 305, '辦法': 866, '小時': 310, '晚上': 486, '結論': 704, '回到': 230, '決定': 556, '利率': 156, '曲線': 488, '世界': 60, '國家': 237, '短期': 653, '區間': 174, '格局': 523, '美國': 725, '價格': 122, '左右': 323, '明年': 480, '原本': 183, '美元': 724, '最大': 492, '留意': 614, '考量': 732, '進行': 895, '下面': 49, '追蹤': 868, '三個': 28, '幾個': 340, '紀錄': 696, '上班': 34, '好像': 276, '附上': 946, '開心': 942, '根本': 522, '這套': 875, '臺灣': 753, '奇怪': 270, '成功': 390, '認真': 809, '一點': 26, '顏色': 980, '顯示': 984, '無法': 580, '伺服器': 94, '建立': 352, '盤中': 631, '期貨': 514, '限動': 951, '運動': 897, '變成': 824, '女孩': 273, '約會': 697, '身高體重': 863, '資訊': 839, '詢問': 806, '黑白': 997, '格紋': 524, '黑色': 998, '安全': 289, '連身': 891, '洋裝': 563, '單品': 225, '意外': 377, '身形': 858, '尤其': 313, '罩衫': 723, '每次': 547, '米色': 692, '貼身': 835, '身材': 859, '蕾絲': 762, '重點': 928, '內衣': 130, '一件': 2, '出門': 146, '西裝褲': 782, '西裝': 781, '白色': 626, '視覺': 785, '氣質': 554, '當時': 619, '藍色': 764, '襪子': 779, '看看': 647, '牛仔褲': 592, '有沒有': 505, '選擇': 906, '好奇': 278, '投入': 407, '配息': 922, '最高': 499, '兩個': 135, '一檔': 14, '社群': 664, '加入': 166, '想問': 374, '詐騙': 802, '訊息': 794, '部分': 920, '醫療': 924, '美股': 726, '學生': 287, '收入': 442, '個股': 111, '理財': 606, '提到': 430, '請教': 815, '本金': 518, '定期': 296, '定額': 297, '債券': 118, '參考': 186, '長期': 936, '額度': 979, '給我': 705, '指引': 420, '一張': 11, '損益': 433, '手續費': 401, '收盤': 446, '標的': 530, '開盤': 943, '工具': 321, '選擇權': 907, '分類': 153, '分析': 150, '發文': 621, '目標價': 635, '兩檔': 136, '穿出': 673, '毛衣': 552, '眼鏡': 650, '好久': 275, '店員': 344, '綠色': 710, '吊帶裙': 206, '這是': 877, '網路': 714, '協助': 178, '事件': 72, '禮拜': 665, '原來': 181, '放空': 451, '如題': 283, '東京': 520, '第一套': 679, '教練': 454, '露出': 965, '增加': 251, '細節': 700, '保暖': 107, '更好': 489, '來自': 101, '第二套': 682, '復古': 363, '皮帶': 628, '第三套': 681, '布料': 330, '質感': 846, '第四套': 683, '效果': 453, '長袖': 938, '旅遊': 473, '重複': 926, '款式': 537, '很大': 358, '專業': 307, '愛莉莎莎': 381, '突然': 675, '動態': 170, '以前': 92, '頭髮': 976, '幾天': 341, '韓國': 967, '官方': 294, '大神': 263, '工作': 320, '擔心': 437, '女生': 274, '拿到': 415, '幫助': 335, '找到': 404, '還能': 914, '不錯': 59, '類似': 982, '發展': 620, '可惜': 196, '還沒': 913, '貼文': 834, '愛心': 380, '舒適': 756, '方便': 467, '帽子': 334, '稍微': 671, '一天': 7, '粉色': 694, '針織': 932, '長裙': 939, '發熱': 622, '不太會': 52, '牛仔': 591, '有時候': 504, '哈哈哈': 216, '那天': 917, '高領': 992, '同色系': 208, '清楚': 571, '版型': 589, '不敢': 55, '入手': 128, '實際': 304, '外面': 257, '實在': 302, '唯一': 219, '來說': 102, '上身': 36, '尺寸': 315, '下身': 47, '全身': 133, '不斷': 56, '淺色': 570, '服裝': 511, '身上': 857, '利用': 157, '提供': 429, '蝦皮': 768, '店面': 347, '問卷': 221, '完成': 291, '有效': 503, '抽獎': 411, '一條': 13, '吊帶': 205, '組合': 702, '關係': 944, '想到': 373, '拜託': 414, '幫忙': 336, '支持': 440, '皮鞋': 629, '大部分': 265, '長榮': 937, '原因': 182, '投信': 406, '買賣': 829, '公開': 139, '資料': 836, '新聞': 466, '資金': 840, '股價': 736, '同樣': 207, '突破': 676, '沒什麼': 558, '政府': 452, '蘇丹紅': 765, '老闆': 730, '回來': 229, '日牌': 477, '銀色': 933, '二手': 74, '透膚': 870, '思考': 370, '不好': 53, '只能': 195, '遇到': 896, '發生': 624, '保護': 108, '好笑': 282, '中國': 61, '每月': 546, '大盤': 262, '櫃買': 536, '高息': 991, '所有': 398, '金融': 929, '交易': 76, '方面': 472, '證券': 819, '賣出': 842, '出國': 143, '灰色': 578, '點綴': 999, '持續': 417, '配件': 921, '這天': 874, '小腹': 311, '前面': 160, '一番': 18, '中獎': 62, '準備': 573, '情況': 372, '注意': 562, '第一次': 680, '男生': 613, '答案': 685, '頻道': 977, '一種': 20, '訂閱': 791, '關注': 945, '直播': 638, '老師': 729, '過程': 900, '成員': 391, '提醒': 432, '能夠': 748, '連結': 889, '興趣': 754, '計算': 793, '我會': 396, '群組': 727, '策略': 686, '調整': 813, '等待': 684, '達到': 902, '回答': 234, '停利': 115, '目標': 634, '設定': 799, '包含': 173, '認識': 811, '第一': 678, '帳戶': 332, '下來': 39, '游否': 572, '知識': 651, '即可': 179, '肯定': 744, '檢查': 535, '圖片': 238, '背帶': 745, '乾淨': 70, '推出': 427, '處理': 766, '反正': 190, '程度': 670, '通勤': 884, '每天': 544, '哈囉': 217, '體驗': 990, '春天': 482, '下半身': 41, '層次': 317, '百褶裙': 627, '長褲': 940, '總共': 718, '單穿': 226, '工裝': 322, '長度': 935, '漂亮': 576, '中間': 63, '規劃': 783, '元大': 125, '上市': 31, '十大': 175, '建倉': 351, '公告': 138, '上升': 30, '這檔': 878, '相對': 641, '懷疑': 387, '完整': 292, '成本': 392, '預估': 971, '修正': 109, '事情': 73, '官網': 295, '申購': 612, '主力': 64, '均價': 243, '買超': 830, '困難': 235, '下單': 43, '最終': 497, '法人': 559, '透過': 871, '仔細': 86, '總結': 719, '散戶': 455, '半年': 177, '平準': 339, '條件': 525, '在外': 240, '流通': 566, '發行': 625, '股數': 740, '符合': 677, '除息': 953, '息率': 371, '擴大': 438, '許多': 801, '重新': 925, '剩下': 163, '選股': 908, '繼續': 721, '相同': 640, '則是': 159, '市值': 326, '似乎': 95, '評估': 803, '破發': 660, '賠錢': 841, '類型': 983, '買過': 832, '下載': 48, '這雙': 883, '大衣': 264, '努力': 169, '還要': 915, '成為': 393, '短袖': 656, '創作': 165, '身為': 860, '後面': 361, '葛格': 761, '上週': 37, '意思': 378, '附近': 947, '風險': 986, '代購': 88, '打折': 403, '店家': 345, '一雙': 25, '一半': 5, '主題': 66, '一週': 24, '方向': 468, '多空': 259, '技術': 405, '保守': 106, '害怕': 299, '盤整': 632, '學習': 288, '正在': 539, '聯名': 735, '看法': 646, '太陽能': 269, '身體': 862, '狀態': 594, '心得': 366, '判斷': 154, '決策': 557, '下個月': 40, '向上': 209, '多方': 258, '收到': 443, '這家': 876, '底下': 343, '短褲': 658, '試穿': 807, '剛剛': 162, '腰部': 749, '滿意': 575, '穿著': 674, '挑戰': 423, '路線': 856, '一點點': 27, '反彈': 188, '隔天': 956, '徵求': 365, '友善': 187, '手臂': 402, '這款': 880, '網路上': 715, '好好看': 280, '存股': 286, '波動': 560, '降低': 948, '回檔': 232, '共識': 140, '機率': 534, '越來越': 853, '改變': 448, '趨勢': 854, '分散': 149, '數量': 463, '受惠': 192, '先前': 127, '曝光': 487, '幾年': 342, '一段時間': 16, '私訊': 666, '大麻': 267, '一路': 23, '條紋': 526, '三月': 29, '瑪莉珍': 607, '服飾': 512, '長靴': 941, '咖啡廳': 213, '珍珠': 599, '優雅': 124, '耐心': 733, '一篇': 21, '記錄': 798, '花紋': 758, '介紹': 85, '衣櫃': 773, '理由': 605, '忘記': 368, '認知': 810, '自行': 751, '短線': 655, '型態': 245, '均線': 244, '分鐘': 152, '館長': 989, '願意': 981, '回去': 231, '分配': 151, '最好': 493, '休閒': 93, '緯創': 717, '問問': 222, '告訴': 211, '廣達': 350, '加碼': 168, '每個': 543, '正常': 540, '每年': 545, '一位': 3, '畫面': 616, '現場': 602, '魚尾': 994, '社會': 663, '紅色': 698, '買入': 827, '品質': 215, '依據': 104, '線圖': 716, '利息': 155, '可能性': 198, '交流': 77, '反應': 189, '產生': 611, '意見': 379, '價位': 120, '說明': 812, '做出': 114, '週五': 892, '基本面': 246, '人生': 80, '本週': 517, '增長': 252, '提升': 431, '前高': 161, '評級': 805, '佈局': 96, '現值': 600, '市價': 327, '鴻海': 995, '全新': 131, '訓練': 796, '實現': 303, '團隊': 239, '需求': 962, '來源': 100, '節目': 688, '獎項': 596, '店長': 346, '賣掉': 845, '分別': 148, '有夠': 502, '爭議': 588, '警方': 822, '警察': 821, '只好': 194, '全職': 132, '來賓': 103, '版本': 590, '指出': 419, '還在': 911, '限制': 950, '不算': 58, '氛圍': 553, '五套': 75, '元素': 126, '肩帶': 743, '娃娃': 284, '攝影師': 439, '評價': 804, '尼克': 316, '相當': 642, '樣子': 532, '網站': 712, '現金流': 604, '過往': 899, '完美': 293, '為主': 579, '隱藏': 958, '領口': 974, '呈現': 210, '低於': 97, '波段': 561, '券商': 158, '退款': 869, '移動': 668, '廣告': 349, '金融股': 930, '選手': 905, '營業員': 586, '忽冷忽熱': 369, '人設': 81, '觀點': 790, '銀行': 934, '草莓': 760, '道歉': 901, '曼谷': 491, '盈利': 630, '抽到': 410, '挑選': 424, '違法': 903, '偷拍': 117, '稀飯': 669}\n"
     ]
    },
    {
     "data": {
      "text/plain": [
       "742"
      ]
     },
     "execution_count": 156,
     "metadata": {},
     "output_type": "execute_result"
    }
   ],
   "source": [
    "# fit 完後，可以用 `vocabulary_` 看到詞的 feature index\n",
    "print(vectorizer.vocabulary_)\n",
    "vectorizer.vocabulary_['股票']"
   ]
  },
  {
   "cell_type": "code",
   "execution_count": 157,
   "metadata": {},
   "outputs": [
    {
     "name": "stdout",
     "output_type": "stream",
     "text": [
      "(816, 1000)\n",
      "(350, 1000)\n"
     ]
    }
   ],
   "source": [
    "# 不需重新 `fit()` data，因前面已經 `fit()` 過了\n",
    "# 只需將測試數據使用之前訓練好的 vectorizer 轉換為相同的特徵表示形式，而不需要重新fit。\n",
    "# 如果對測試數據再次 fit vectorizer，可能會導致使用了測試數據的信息，進而導致模型的不穩定性和過度擬合的問題。\n",
    "vec_test = vectorizer.transform(X_test)\n",
    "print(vec_train.shape)\n",
    "print(vec_test.shape)"
   ]
  },
  {
   "cell_type": "code",
   "execution_count": 158,
   "metadata": {},
   "outputs": [
    {
     "data": {
      "text/html": [
       "<style>#sk-container-id-3 {\n",
       "  /* Definition of color scheme common for light and dark mode */\n",
       "  --sklearn-color-text: black;\n",
       "  --sklearn-color-line: gray;\n",
       "  /* Definition of color scheme for unfitted estimators */\n",
       "  --sklearn-color-unfitted-level-0: #fff5e6;\n",
       "  --sklearn-color-unfitted-level-1: #f6e4d2;\n",
       "  --sklearn-color-unfitted-level-2: #ffe0b3;\n",
       "  --sklearn-color-unfitted-level-3: chocolate;\n",
       "  /* Definition of color scheme for fitted estimators */\n",
       "  --sklearn-color-fitted-level-0: #f0f8ff;\n",
       "  --sklearn-color-fitted-level-1: #d4ebff;\n",
       "  --sklearn-color-fitted-level-2: #b3dbfd;\n",
       "  --sklearn-color-fitted-level-3: cornflowerblue;\n",
       "\n",
       "  /* Specific color for light theme */\n",
       "  --sklearn-color-text-on-default-background: var(--sg-text-color, var(--theme-code-foreground, var(--jp-content-font-color1, black)));\n",
       "  --sklearn-color-background: var(--sg-background-color, var(--theme-background, var(--jp-layout-color0, white)));\n",
       "  --sklearn-color-border-box: var(--sg-text-color, var(--theme-code-foreground, var(--jp-content-font-color1, black)));\n",
       "  --sklearn-color-icon: #696969;\n",
       "\n",
       "  @media (prefers-color-scheme: dark) {\n",
       "    /* Redefinition of color scheme for dark theme */\n",
       "    --sklearn-color-text-on-default-background: var(--sg-text-color, var(--theme-code-foreground, var(--jp-content-font-color1, white)));\n",
       "    --sklearn-color-background: var(--sg-background-color, var(--theme-background, var(--jp-layout-color0, #111)));\n",
       "    --sklearn-color-border-box: var(--sg-text-color, var(--theme-code-foreground, var(--jp-content-font-color1, white)));\n",
       "    --sklearn-color-icon: #878787;\n",
       "  }\n",
       "}\n",
       "\n",
       "#sk-container-id-3 {\n",
       "  color: var(--sklearn-color-text);\n",
       "}\n",
       "\n",
       "#sk-container-id-3 pre {\n",
       "  padding: 0;\n",
       "}\n",
       "\n",
       "#sk-container-id-3 input.sk-hidden--visually {\n",
       "  border: 0;\n",
       "  clip: rect(1px 1px 1px 1px);\n",
       "  clip: rect(1px, 1px, 1px, 1px);\n",
       "  height: 1px;\n",
       "  margin: -1px;\n",
       "  overflow: hidden;\n",
       "  padding: 0;\n",
       "  position: absolute;\n",
       "  width: 1px;\n",
       "}\n",
       "\n",
       "#sk-container-id-3 div.sk-dashed-wrapped {\n",
       "  border: 1px dashed var(--sklearn-color-line);\n",
       "  margin: 0 0.4em 0.5em 0.4em;\n",
       "  box-sizing: border-box;\n",
       "  padding-bottom: 0.4em;\n",
       "  background-color: var(--sklearn-color-background);\n",
       "}\n",
       "\n",
       "#sk-container-id-3 div.sk-container {\n",
       "  /* jupyter's `normalize.less` sets `[hidden] { display: none; }`\n",
       "     but bootstrap.min.css set `[hidden] { display: none !important; }`\n",
       "     so we also need the `!important` here to be able to override the\n",
       "     default hidden behavior on the sphinx rendered scikit-learn.org.\n",
       "     See: https://github.com/scikit-learn/scikit-learn/issues/21755 */\n",
       "  display: inline-block !important;\n",
       "  position: relative;\n",
       "}\n",
       "\n",
       "#sk-container-id-3 div.sk-text-repr-fallback {\n",
       "  display: none;\n",
       "}\n",
       "\n",
       "div.sk-parallel-item,\n",
       "div.sk-serial,\n",
       "div.sk-item {\n",
       "  /* draw centered vertical line to link estimators */\n",
       "  background-image: linear-gradient(var(--sklearn-color-text-on-default-background), var(--sklearn-color-text-on-default-background));\n",
       "  background-size: 2px 100%;\n",
       "  background-repeat: no-repeat;\n",
       "  background-position: center center;\n",
       "}\n",
       "\n",
       "/* Parallel-specific style estimator block */\n",
       "\n",
       "#sk-container-id-3 div.sk-parallel-item::after {\n",
       "  content: \"\";\n",
       "  width: 100%;\n",
       "  border-bottom: 2px solid var(--sklearn-color-text-on-default-background);\n",
       "  flex-grow: 1;\n",
       "}\n",
       "\n",
       "#sk-container-id-3 div.sk-parallel {\n",
       "  display: flex;\n",
       "  align-items: stretch;\n",
       "  justify-content: center;\n",
       "  background-color: var(--sklearn-color-background);\n",
       "  position: relative;\n",
       "}\n",
       "\n",
       "#sk-container-id-3 div.sk-parallel-item {\n",
       "  display: flex;\n",
       "  flex-direction: column;\n",
       "}\n",
       "\n",
       "#sk-container-id-3 div.sk-parallel-item:first-child::after {\n",
       "  align-self: flex-end;\n",
       "  width: 50%;\n",
       "}\n",
       "\n",
       "#sk-container-id-3 div.sk-parallel-item:last-child::after {\n",
       "  align-self: flex-start;\n",
       "  width: 50%;\n",
       "}\n",
       "\n",
       "#sk-container-id-3 div.sk-parallel-item:only-child::after {\n",
       "  width: 0;\n",
       "}\n",
       "\n",
       "/* Serial-specific style estimator block */\n",
       "\n",
       "#sk-container-id-3 div.sk-serial {\n",
       "  display: flex;\n",
       "  flex-direction: column;\n",
       "  align-items: center;\n",
       "  background-color: var(--sklearn-color-background);\n",
       "  padding-right: 1em;\n",
       "  padding-left: 1em;\n",
       "}\n",
       "\n",
       "\n",
       "/* Toggleable style: style used for estimator/Pipeline/ColumnTransformer box that is\n",
       "clickable and can be expanded/collapsed.\n",
       "- Pipeline and ColumnTransformer use this feature and define the default style\n",
       "- Estimators will overwrite some part of the style using the `sk-estimator` class\n",
       "*/\n",
       "\n",
       "/* Pipeline and ColumnTransformer style (default) */\n",
       "\n",
       "#sk-container-id-3 div.sk-toggleable {\n",
       "  /* Default theme specific background. It is overwritten whether we have a\n",
       "  specific estimator or a Pipeline/ColumnTransformer */\n",
       "  background-color: var(--sklearn-color-background);\n",
       "}\n",
       "\n",
       "/* Toggleable label */\n",
       "#sk-container-id-3 label.sk-toggleable__label {\n",
       "  cursor: pointer;\n",
       "  display: block;\n",
       "  width: 100%;\n",
       "  margin-bottom: 0;\n",
       "  padding: 0.5em;\n",
       "  box-sizing: border-box;\n",
       "  text-align: center;\n",
       "}\n",
       "\n",
       "#sk-container-id-3 label.sk-toggleable__label-arrow:before {\n",
       "  /* Arrow on the left of the label */\n",
       "  content: \"▸\";\n",
       "  float: left;\n",
       "  margin-right: 0.25em;\n",
       "  color: var(--sklearn-color-icon);\n",
       "}\n",
       "\n",
       "#sk-container-id-3 label.sk-toggleable__label-arrow:hover:before {\n",
       "  color: var(--sklearn-color-text);\n",
       "}\n",
       "\n",
       "/* Toggleable content - dropdown */\n",
       "\n",
       "#sk-container-id-3 div.sk-toggleable__content {\n",
       "  max-height: 0;\n",
       "  max-width: 0;\n",
       "  overflow: hidden;\n",
       "  text-align: left;\n",
       "  /* unfitted */\n",
       "  background-color: var(--sklearn-color-unfitted-level-0);\n",
       "}\n",
       "\n",
       "#sk-container-id-3 div.sk-toggleable__content.fitted {\n",
       "  /* fitted */\n",
       "  background-color: var(--sklearn-color-fitted-level-0);\n",
       "}\n",
       "\n",
       "#sk-container-id-3 div.sk-toggleable__content pre {\n",
       "  margin: 0.2em;\n",
       "  border-radius: 0.25em;\n",
       "  color: var(--sklearn-color-text);\n",
       "  /* unfitted */\n",
       "  background-color: var(--sklearn-color-unfitted-level-0);\n",
       "}\n",
       "\n",
       "#sk-container-id-3 div.sk-toggleable__content.fitted pre {\n",
       "  /* unfitted */\n",
       "  background-color: var(--sklearn-color-fitted-level-0);\n",
       "}\n",
       "\n",
       "#sk-container-id-3 input.sk-toggleable__control:checked~div.sk-toggleable__content {\n",
       "  /* Expand drop-down */\n",
       "  max-height: 200px;\n",
       "  max-width: 100%;\n",
       "  overflow: auto;\n",
       "}\n",
       "\n",
       "#sk-container-id-3 input.sk-toggleable__control:checked~label.sk-toggleable__label-arrow:before {\n",
       "  content: \"▾\";\n",
       "}\n",
       "\n",
       "/* Pipeline/ColumnTransformer-specific style */\n",
       "\n",
       "#sk-container-id-3 div.sk-label input.sk-toggleable__control:checked~label.sk-toggleable__label {\n",
       "  color: var(--sklearn-color-text);\n",
       "  background-color: var(--sklearn-color-unfitted-level-2);\n",
       "}\n",
       "\n",
       "#sk-container-id-3 div.sk-label.fitted input.sk-toggleable__control:checked~label.sk-toggleable__label {\n",
       "  background-color: var(--sklearn-color-fitted-level-2);\n",
       "}\n",
       "\n",
       "/* Estimator-specific style */\n",
       "\n",
       "/* Colorize estimator box */\n",
       "#sk-container-id-3 div.sk-estimator input.sk-toggleable__control:checked~label.sk-toggleable__label {\n",
       "  /* unfitted */\n",
       "  background-color: var(--sklearn-color-unfitted-level-2);\n",
       "}\n",
       "\n",
       "#sk-container-id-3 div.sk-estimator.fitted input.sk-toggleable__control:checked~label.sk-toggleable__label {\n",
       "  /* fitted */\n",
       "  background-color: var(--sklearn-color-fitted-level-2);\n",
       "}\n",
       "\n",
       "#sk-container-id-3 div.sk-label label.sk-toggleable__label,\n",
       "#sk-container-id-3 div.sk-label label {\n",
       "  /* The background is the default theme color */\n",
       "  color: var(--sklearn-color-text-on-default-background);\n",
       "}\n",
       "\n",
       "/* On hover, darken the color of the background */\n",
       "#sk-container-id-3 div.sk-label:hover label.sk-toggleable__label {\n",
       "  color: var(--sklearn-color-text);\n",
       "  background-color: var(--sklearn-color-unfitted-level-2);\n",
       "}\n",
       "\n",
       "/* Label box, darken color on hover, fitted */\n",
       "#sk-container-id-3 div.sk-label.fitted:hover label.sk-toggleable__label.fitted {\n",
       "  color: var(--sklearn-color-text);\n",
       "  background-color: var(--sklearn-color-fitted-level-2);\n",
       "}\n",
       "\n",
       "/* Estimator label */\n",
       "\n",
       "#sk-container-id-3 div.sk-label label {\n",
       "  font-family: monospace;\n",
       "  font-weight: bold;\n",
       "  display: inline-block;\n",
       "  line-height: 1.2em;\n",
       "}\n",
       "\n",
       "#sk-container-id-3 div.sk-label-container {\n",
       "  text-align: center;\n",
       "}\n",
       "\n",
       "/* Estimator-specific */\n",
       "#sk-container-id-3 div.sk-estimator {\n",
       "  font-family: monospace;\n",
       "  border: 1px dotted var(--sklearn-color-border-box);\n",
       "  border-radius: 0.25em;\n",
       "  box-sizing: border-box;\n",
       "  margin-bottom: 0.5em;\n",
       "  /* unfitted */\n",
       "  background-color: var(--sklearn-color-unfitted-level-0);\n",
       "}\n",
       "\n",
       "#sk-container-id-3 div.sk-estimator.fitted {\n",
       "  /* fitted */\n",
       "  background-color: var(--sklearn-color-fitted-level-0);\n",
       "}\n",
       "\n",
       "/* on hover */\n",
       "#sk-container-id-3 div.sk-estimator:hover {\n",
       "  /* unfitted */\n",
       "  background-color: var(--sklearn-color-unfitted-level-2);\n",
       "}\n",
       "\n",
       "#sk-container-id-3 div.sk-estimator.fitted:hover {\n",
       "  /* fitted */\n",
       "  background-color: var(--sklearn-color-fitted-level-2);\n",
       "}\n",
       "\n",
       "/* Specification for estimator info (e.g. \"i\" and \"?\") */\n",
       "\n",
       "/* Common style for \"i\" and \"?\" */\n",
       "\n",
       ".sk-estimator-doc-link,\n",
       "a:link.sk-estimator-doc-link,\n",
       "a:visited.sk-estimator-doc-link {\n",
       "  float: right;\n",
       "  font-size: smaller;\n",
       "  line-height: 1em;\n",
       "  font-family: monospace;\n",
       "  background-color: var(--sklearn-color-background);\n",
       "  border-radius: 1em;\n",
       "  height: 1em;\n",
       "  width: 1em;\n",
       "  text-decoration: none !important;\n",
       "  margin-left: 1ex;\n",
       "  /* unfitted */\n",
       "  border: var(--sklearn-color-unfitted-level-1) 1pt solid;\n",
       "  color: var(--sklearn-color-unfitted-level-1);\n",
       "}\n",
       "\n",
       ".sk-estimator-doc-link.fitted,\n",
       "a:link.sk-estimator-doc-link.fitted,\n",
       "a:visited.sk-estimator-doc-link.fitted {\n",
       "  /* fitted */\n",
       "  border: var(--sklearn-color-fitted-level-1) 1pt solid;\n",
       "  color: var(--sklearn-color-fitted-level-1);\n",
       "}\n",
       "\n",
       "/* On hover */\n",
       "div.sk-estimator:hover .sk-estimator-doc-link:hover,\n",
       ".sk-estimator-doc-link:hover,\n",
       "div.sk-label-container:hover .sk-estimator-doc-link:hover,\n",
       ".sk-estimator-doc-link:hover {\n",
       "  /* unfitted */\n",
       "  background-color: var(--sklearn-color-unfitted-level-3);\n",
       "  color: var(--sklearn-color-background);\n",
       "  text-decoration: none;\n",
       "}\n",
       "\n",
       "div.sk-estimator.fitted:hover .sk-estimator-doc-link.fitted:hover,\n",
       ".sk-estimator-doc-link.fitted:hover,\n",
       "div.sk-label-container:hover .sk-estimator-doc-link.fitted:hover,\n",
       ".sk-estimator-doc-link.fitted:hover {\n",
       "  /* fitted */\n",
       "  background-color: var(--sklearn-color-fitted-level-3);\n",
       "  color: var(--sklearn-color-background);\n",
       "  text-decoration: none;\n",
       "}\n",
       "\n",
       "/* Span, style for the box shown on hovering the info icon */\n",
       ".sk-estimator-doc-link span {\n",
       "  display: none;\n",
       "  z-index: 9999;\n",
       "  position: relative;\n",
       "  font-weight: normal;\n",
       "  right: .2ex;\n",
       "  padding: .5ex;\n",
       "  margin: .5ex;\n",
       "  width: min-content;\n",
       "  min-width: 20ex;\n",
       "  max-width: 50ex;\n",
       "  color: var(--sklearn-color-text);\n",
       "  box-shadow: 2pt 2pt 4pt #999;\n",
       "  /* unfitted */\n",
       "  background: var(--sklearn-color-unfitted-level-0);\n",
       "  border: .5pt solid var(--sklearn-color-unfitted-level-3);\n",
       "}\n",
       "\n",
       ".sk-estimator-doc-link.fitted span {\n",
       "  /* fitted */\n",
       "  background: var(--sklearn-color-fitted-level-0);\n",
       "  border: var(--sklearn-color-fitted-level-3);\n",
       "}\n",
       "\n",
       ".sk-estimator-doc-link:hover span {\n",
       "  display: block;\n",
       "}\n",
       "\n",
       "/* \"?\"-specific style due to the `<a>` HTML tag */\n",
       "\n",
       "#sk-container-id-3 a.estimator_doc_link {\n",
       "  float: right;\n",
       "  font-size: 1rem;\n",
       "  line-height: 1em;\n",
       "  font-family: monospace;\n",
       "  background-color: var(--sklearn-color-background);\n",
       "  border-radius: 1rem;\n",
       "  height: 1rem;\n",
       "  width: 1rem;\n",
       "  text-decoration: none;\n",
       "  /* unfitted */\n",
       "  color: var(--sklearn-color-unfitted-level-1);\n",
       "  border: var(--sklearn-color-unfitted-level-1) 1pt solid;\n",
       "}\n",
       "\n",
       "#sk-container-id-3 a.estimator_doc_link.fitted {\n",
       "  /* fitted */\n",
       "  border: var(--sklearn-color-fitted-level-1) 1pt solid;\n",
       "  color: var(--sklearn-color-fitted-level-1);\n",
       "}\n",
       "\n",
       "/* On hover */\n",
       "#sk-container-id-3 a.estimator_doc_link:hover {\n",
       "  /* unfitted */\n",
       "  background-color: var(--sklearn-color-unfitted-level-3);\n",
       "  color: var(--sklearn-color-background);\n",
       "  text-decoration: none;\n",
       "}\n",
       "\n",
       "#sk-container-id-3 a.estimator_doc_link.fitted:hover {\n",
       "  /* fitted */\n",
       "  background-color: var(--sklearn-color-fitted-level-3);\n",
       "}\n",
       "</style><div id=\"sk-container-id-3\" class=\"sk-top-container\"><div class=\"sk-text-repr-fallback\"><pre>LogisticRegression()</pre><b>In a Jupyter environment, please rerun this cell to show the HTML representation or trust the notebook. <br />On GitHub, the HTML representation is unable to render, please try loading this page with nbviewer.org.</b></div><div class=\"sk-container\" hidden><div class=\"sk-item\"><div class=\"sk-estimator fitted sk-toggleable\"><input class=\"sk-toggleable__control sk-hidden--visually\" id=\"sk-estimator-id-3\" type=\"checkbox\" checked><label for=\"sk-estimator-id-3\" class=\"sk-toggleable__label fitted sk-toggleable__label-arrow fitted\">&nbsp;&nbsp;LogisticRegression<a class=\"sk-estimator-doc-link fitted\" rel=\"noreferrer\" target=\"_blank\" href=\"https://scikit-learn.org/1.4/modules/generated/sklearn.linear_model.LogisticRegression.html\">?<span>Documentation for LogisticRegression</span></a><span class=\"sk-estimator-doc-link fitted\">i<span>Fitted</span></span></label><div class=\"sk-toggleable__content fitted\"><pre>LogisticRegression()</pre></div> </div></div></div></div>"
      ],
      "text/plain": [
       "LogisticRegression()"
      ]
     },
     "execution_count": 158,
     "metadata": {},
     "output_type": "execute_result"
    }
   ],
   "source": [
    "# 建立分類器模型\n",
    "clf = LogisticRegression()\n",
    "clf.fit(vec_train, y_train)\n",
    "clf"
   ]
  },
  {
   "cell_type": "code",
   "execution_count": 159,
   "metadata": {},
   "outputs": [
    {
     "data": {
      "text/plain": [
       "array(['dressup', 'stock', 'youtuber'], dtype=object)"
      ]
     },
     "execution_count": 159,
     "metadata": {},
     "output_type": "execute_result"
    }
   ],
   "source": [
    "clf.classes_"
   ]
  },
  {
   "cell_type": "code",
   "execution_count": 160,
   "metadata": {},
   "outputs": [
    {
     "name": "stdout",
     "output_type": "stream",
     "text": [
      "['stock' 'stock' 'dressup' 'dressup' 'youtuber' 'youtuber' 'youtuber'\n",
      " 'dressup' 'youtuber' 'stock']\n"
     ]
    }
   ],
   "source": [
    "y_pred = clf.predict(vec_test)\n",
    "y_pred_proba = clf.predict_proba(vec_test)\n",
    "print(y_pred[:10])"
   ]
  },
  {
   "cell_type": "code",
   "execution_count": 161,
   "metadata": {},
   "outputs": [
    {
     "name": "stdout",
     "output_type": "stream",
     "text": [
      "(350, 3)\n"
     ]
    },
    {
     "data": {
      "text/plain": [
       "array([0.11699894, 0.82359783, 0.05940323])"
      ]
     },
     "execution_count": 161,
     "metadata": {},
     "output_type": "execute_result"
    }
   ],
   "source": [
    "print(y_pred_proba.shape)\n",
    "y_pred_proba[0,:]"
   ]
  },
  {
   "cell_type": "code",
   "execution_count": 162,
   "metadata": {},
   "outputs": [
    {
     "name": "stdout",
     "output_type": "stream",
     "text": [
      "              precision    recall  f1-score   support\n",
      "\n",
      "     dressup       0.92      0.92      0.92       132\n",
      "       stock       0.94      0.92      0.93       111\n",
      "    youtuber       0.90      0.93      0.91       107\n",
      "\n",
      "    accuracy                           0.92       350\n",
      "   macro avg       0.92      0.92      0.92       350\n",
      "weighted avg       0.92      0.92      0.92       350\n",
      "\n"
     ]
    }
   ],
   "source": [
    "## Accuracy, Precision, Recall, F1-score\n",
    "print(classification_report(y_test, y_pred))"
   ]
  },
  {
   "cell_type": "code",
   "execution_count": 163,
   "metadata": {},
   "outputs": [
    {
     "data": {
      "text/plain": [
       "array([[121,   4,   7],\n",
       "       [  5, 102,   4],\n",
       "       [  6,   2,  99]])"
      ]
     },
     "execution_count": 163,
     "metadata": {},
     "output_type": "execute_result"
    }
   ],
   "source": [
    "classes = clf.classes_\n",
    "cm = confusion_matrix(y_test, y_pred)\n",
    "cm"
   ]
  },
  {
   "cell_type": "code",
   "execution_count": 164,
   "metadata": {},
   "outputs": [
    {
     "data": {
      "text/plain": [
       "(array([0.5, 1.5, 2.5]),\n",
       " [Text(0, 0.5, 'dressup'), Text(0, 1.5, 'stock'), Text(0, 2.5, 'youtuber')])"
      ]
     },
     "execution_count": 164,
     "metadata": {},
     "output_type": "execute_result"
    },
    {
     "data": {
      "image/png": "[encoded data removed]",
      "text/plain": [
       "<Figure size 640x480 with 1 Axes>"
      ]
     },
     "metadata": {},
     "output_type": "display_data"
    }
   ],
   "source": [
    "## Plot confusion matrix\n",
    "fig, ax = plt.subplots()\n",
    "sns.heatmap(cm, annot=True, fmt=\"d\", ax=ax, cmap=plt.cm.Blues, cbar=False)\n",
    "ax.set(\n",
    "    xlabel=\"Pred\",\n",
    "    ylabel=\"True\",\n",
    "    xticklabels=classes,\n",
    "    yticklabels=classes,\n",
    "    title=\"Confusion matrix\",\n",
    ")\n",
    "plt.yticks(rotation=0)"
   ]
  },
  {
   "attachments": {},
   "cell_type": "markdown",
   "metadata": {},
   "source": [
    "### 3.4 tfidf"
   ]
  },
  {
   "attachments": {},
   "cell_type": "markdown",
   "metadata": {},
   "source": [
    "改試試看使用 tf-idf 的 DTM 來代表文章，訓練分類模型的效果"
   ]
  },
  {
   "cell_type": "code",
   "execution_count": 165,
   "metadata": {},
   "outputs": [
    {
     "data": {
      "text/plain": [
       "array([0.12789638, 0.        , 0.        , 0.        , 0.20545026,\n",
       "       0.        , 0.        , 0.        , 0.        , 0.        ,\n",
       "       0.        , 0.        , 0.        , 0.        , 0.        ,\n",
       "       0.        , 0.        , 0.        , 0.        , 0.        ,\n",
       "       0.        , 0.        , 0.        , 0.        , 0.        ,\n",
       "       0.        , 0.        , 0.        , 0.        , 0.        ,\n",
       "       0.        , 0.        , 0.        , 0.        , 0.        ,\n",
       "       0.        , 0.        , 0.        , 0.        , 0.        ,\n",
       "       0.        , 0.        , 0.        , 0.        , 0.        ,\n",
       "       0.        , 0.        , 0.        , 0.        , 0.        ,\n",
       "       0.        , 0.        , 0.        , 0.        , 0.        ,\n",
       "       0.        , 0.        , 0.        , 0.        , 0.        ,\n",
       "       0.        , 0.        , 0.        , 0.        , 0.        ,\n",
       "       0.        , 0.        , 0.        , 0.        , 0.        ,\n",
       "       0.        , 0.        , 0.        , 0.        , 0.        ,\n",
       "       0.        , 0.        , 0.        , 0.        , 0.        ,\n",
       "       0.        , 0.        , 0.        , 0.        , 0.        ,\n",
       "       0.        , 0.        , 0.        , 0.        , 0.        ,\n",
       "       0.        , 0.        , 0.        , 0.        , 0.        ,\n",
       "       0.        , 0.        , 0.        , 0.        , 0.        ,\n",
       "       0.        , 0.        , 0.        , 0.        , 0.        ,\n",
       "       0.        , 0.        , 0.        , 0.        , 0.        ,\n",
       "       0.        , 0.        , 0.        , 0.21743156, 0.        ,\n",
       "       0.        , 0.        , 0.        , 0.        , 0.        ,\n",
       "       0.        , 0.        , 0.        , 0.        , 0.        ,\n",
       "       0.        , 0.        , 0.        , 0.        , 0.        ,\n",
       "       0.        , 0.        , 0.        , 0.        , 0.        ,\n",
       "       0.        , 0.        , 0.        , 0.        , 0.        ,\n",
       "       0.        , 0.        , 0.        , 0.        , 0.        ,\n",
       "       0.        , 0.        , 0.        , 0.        , 0.        ,\n",
       "       0.        , 0.        , 0.        , 0.        , 0.        ,\n",
       "       0.        , 0.        , 0.        , 0.        , 0.        ,\n",
       "       0.        , 0.        , 0.        , 0.        , 0.        ,\n",
       "       0.        , 0.        , 0.        , 0.        , 0.        ,\n",
       "       0.        , 0.        , 0.        , 0.        , 0.        ,\n",
       "       0.        , 0.        , 0.        , 0.        , 0.        ,\n",
       "       0.        , 0.        , 0.        , 0.        , 0.        ,\n",
       "       0.        , 0.        , 0.        , 0.        , 0.        ,\n",
       "       0.        , 0.        , 0.        , 0.        , 0.        ,\n",
       "       0.        , 0.        , 0.        , 0.        , 0.        ,\n",
       "       0.        , 0.        , 0.        , 0.        , 0.        ,\n",
       "       0.        , 0.        , 0.        , 0.        , 0.        ,\n",
       "       0.        , 0.        , 0.        , 0.        , 0.        ,\n",
       "       0.        , 0.        , 0.        , 0.        , 0.        ,\n",
       "       0.        , 0.        , 0.        , 0.        , 0.        ,\n",
       "       0.        , 0.        , 0.        , 0.        , 0.        ,\n",
       "       0.        , 0.        , 0.        , 0.        , 0.        ,\n",
       "       0.        , 0.        , 0.        , 0.        , 0.        ,\n",
       "       0.        , 0.        , 0.        , 0.        , 0.        ,\n",
       "       0.        , 0.        , 0.        , 0.        , 0.44211077,\n",
       "       0.        , 0.        , 0.        , 0.        , 0.        ,\n",
       "       0.        , 0.        , 0.        , 0.        , 0.        ,\n",
       "       0.        , 0.        , 0.        , 0.        , 0.        ,\n",
       "       0.        , 0.        , 0.        , 0.        , 0.        ,\n",
       "       0.        , 0.        , 0.        , 0.        , 0.        ,\n",
       "       0.        , 0.        , 0.        , 0.        , 0.        ,\n",
       "       0.        , 0.        , 0.        , 0.        , 0.        ,\n",
       "       0.        , 0.        , 0.        , 0.        , 0.        ,\n",
       "       0.        , 0.        , 0.        , 0.        , 0.        ,\n",
       "       0.        , 0.        , 0.        , 0.        , 0.        ,\n",
       "       0.        , 0.        , 0.        , 0.        , 0.        ,\n",
       "       0.        , 0.        , 0.        , 0.        , 0.        ,\n",
       "       0.        , 0.        , 0.        , 0.        , 0.        ,\n",
       "       0.        , 0.        , 0.        , 0.        , 0.        ,\n",
       "       0.        , 0.        , 0.        , 0.        , 0.        ,\n",
       "       0.        , 0.        , 0.        , 0.        , 0.        ,\n",
       "       0.        , 0.        , 0.        , 0.        , 0.        ,\n",
       "       0.        , 0.        , 0.        , 0.        , 0.        ,\n",
       "       0.        , 0.        , 0.        , 0.        , 0.        ,\n",
       "       0.        , 0.        , 0.        , 0.        , 0.        ,\n",
       "       0.        , 0.        , 0.        , 0.        , 0.        ,\n",
       "       0.        , 0.        , 0.        , 0.        , 0.        ,\n",
       "       0.        , 0.        , 0.        , 0.        , 0.        ,\n",
       "       0.        , 0.        , 0.        , 0.        , 0.        ,\n",
       "       0.        , 0.        , 0.        , 0.        , 0.        ,\n",
       "       0.        , 0.        , 0.        , 0.        , 0.        ,\n",
       "       0.        , 0.        , 0.        , 0.        , 0.        ,\n",
       "       0.        , 0.        , 0.        , 0.        , 0.        ,\n",
       "       0.        , 0.        , 0.        , 0.        , 0.        ,\n",
       "       0.        , 0.        , 0.        , 0.        , 0.        ,\n",
       "       0.        , 0.        , 0.        , 0.        , 0.        ,\n",
       "       0.        , 0.        , 0.        , 0.        , 0.        ,\n",
       "       0.        , 0.        , 0.        , 0.        , 0.        ,\n",
       "       0.        , 0.        , 0.        , 0.        , 0.        ,\n",
       "       0.        , 0.        , 0.        , 0.        , 0.        ,\n",
       "       0.        , 0.        , 0.        , 0.        , 0.        ,\n",
       "       0.        , 0.        , 0.        , 0.        , 0.        ,\n",
       "       0.        , 0.        , 0.        , 0.        , 0.        ,\n",
       "       0.        , 0.        , 0.        , 0.        , 0.        ,\n",
       "       0.        , 0.        , 0.        , 0.        , 0.        ,\n",
       "       0.        , 0.        , 0.        , 0.        , 0.        ,\n",
       "       0.        , 0.        , 0.        , 0.        , 0.        ,\n",
       "       0.        , 0.22105539, 0.        , 0.        , 0.        ,\n",
       "       0.        , 0.        , 0.        , 0.        , 0.        ,\n",
       "       0.        , 0.        , 0.        , 0.        , 0.        ,\n",
       "       0.        , 0.        , 0.        , 0.        , 0.        ,\n",
       "       0.        , 0.        , 0.        , 0.        , 0.        ,\n",
       "       0.        , 0.        , 0.        , 0.        , 0.        ,\n",
       "       0.        , 0.        , 0.        , 0.        , 0.        ,\n",
       "       0.        , 0.        , 0.        , 0.        , 0.        ,\n",
       "       0.        , 0.12954601, 0.        , 0.        , 0.        ,\n",
       "       0.        , 0.        , 0.        , 0.        , 0.        ,\n",
       "       0.        , 0.        , 0.        , 0.        , 0.        ,\n",
       "       0.        , 0.        , 0.        , 0.        , 0.        ,\n",
       "       0.        , 0.        , 0.        , 0.        , 0.        ,\n",
       "       0.        , 0.        , 0.        , 0.        , 0.        ,\n",
       "       0.        , 0.        , 0.        , 0.        , 0.        ,\n",
       "       0.        , 0.        , 0.        , 0.        , 0.        ,\n",
       "       0.        , 0.        , 0.        , 0.        , 0.        ,\n",
       "       0.        , 0.        , 0.        , 0.        , 0.        ,\n",
       "       0.        , 0.        , 0.        , 0.        , 0.        ,\n",
       "       0.45882572, 0.        , 0.        , 0.        , 0.        ,\n",
       "       0.        , 0.        , 0.        , 0.        , 0.        ,\n",
       "       0.        , 0.        , 0.        , 0.        , 0.        ,\n",
       "       0.        , 0.        , 0.        , 0.        , 0.        ,\n",
       "       0.        , 0.        , 0.        , 0.        , 0.        ,\n",
       "       0.        , 0.        , 0.        , 0.        , 0.        ,\n",
       "       0.        , 0.        , 0.        , 0.        , 0.        ,\n",
       "       0.        , 0.        , 0.        , 0.        , 0.        ,\n",
       "       0.        , 0.        , 0.        , 0.        , 0.        ,\n",
       "       0.        , 0.        , 0.        , 0.        , 0.        ,\n",
       "       0.        , 0.        , 0.        , 0.        , 0.        ,\n",
       "       0.        , 0.        , 0.        , 0.        , 0.        ,\n",
       "       0.        , 0.        , 0.        , 0.        , 0.        ,\n",
       "       0.        , 0.        , 0.        , 0.        , 0.        ,\n",
       "       0.        , 0.        , 0.        , 0.        , 0.        ,\n",
       "       0.        , 0.        , 0.        , 0.        , 0.        ,\n",
       "       0.        , 0.        , 0.        , 0.        , 0.        ,\n",
       "       0.        , 0.        , 0.        , 0.        , 0.        ,\n",
       "       0.        , 0.        , 0.        , 0.        , 0.        ,\n",
       "       0.        , 0.        , 0.10776951, 0.        , 0.        ,\n",
       "       0.        , 0.        , 0.        , 0.        , 0.        ,\n",
       "       0.        , 0.        , 0.        , 0.        , 0.        ,\n",
       "       0.        , 0.        , 0.        , 0.        , 0.        ,\n",
       "       0.        , 0.        , 0.        , 0.        , 0.        ,\n",
       "       0.        , 0.        , 0.        , 0.        , 0.        ,\n",
       "       0.        , 0.        , 0.        , 0.        , 0.        ,\n",
       "       0.        , 0.        , 0.19218739, 0.        , 0.        ,\n",
       "       0.        , 0.        , 0.        , 0.        , 0.        ,\n",
       "       0.        , 0.        , 0.        , 0.        , 0.        ,\n",
       "       0.        , 0.        , 0.        , 0.        , 0.        ,\n",
       "       0.        , 0.        , 0.        , 0.        , 0.        ,\n",
       "       0.        , 0.        , 0.        , 0.        , 0.        ,\n",
       "       0.        , 0.        , 0.        , 0.        , 0.        ,\n",
       "       0.20292539, 0.        , 0.        , 0.        , 0.        ,\n",
       "       0.        , 0.        , 0.        , 0.        , 0.        ,\n",
       "       0.        , 0.        , 0.        , 0.        , 0.        ,\n",
       "       0.        , 0.        , 0.        , 0.        , 0.        ,\n",
       "       0.        , 0.        , 0.        , 0.        , 0.        ,\n",
       "       0.        , 0.        , 0.        , 0.        , 0.        ,\n",
       "       0.        , 0.        , 0.        , 0.        , 0.        ,\n",
       "       0.        , 0.        , 0.        , 0.        , 0.        ,\n",
       "       0.        , 0.        , 0.        , 0.        , 0.        ,\n",
       "       0.        , 0.        , 0.        , 0.        , 0.        ,\n",
       "       0.        , 0.        , 0.        , 0.        , 0.        ,\n",
       "       0.        , 0.        , 0.        , 0.        , 0.        ,\n",
       "       0.        , 0.        , 0.        , 0.        , 0.        ,\n",
       "       0.        , 0.11662877, 0.        , 0.        , 0.        ,\n",
       "       0.        , 0.        , 0.        , 0.        , 0.        ,\n",
       "       0.        , 0.        , 0.        , 0.        , 0.        ,\n",
       "       0.        , 0.        , 0.        , 0.        , 0.        ,\n",
       "       0.        , 0.        , 0.        , 0.        , 0.        ,\n",
       "       0.        , 0.        , 0.        , 0.        , 0.12553833,\n",
       "       0.        , 0.12749398, 0.        , 0.        , 0.        ,\n",
       "       0.        , 0.        , 0.        , 0.        , 0.        ,\n",
       "       0.        , 0.        , 0.        , 0.        , 0.        ,\n",
       "       0.        , 0.        , 0.        , 0.        , 0.        ,\n",
       "       0.        , 0.        , 0.        , 0.        , 0.        ,\n",
       "       0.        , 0.        , 0.        , 0.        , 0.        ,\n",
       "       0.        , 0.        , 0.        , 0.        , 0.        ,\n",
       "       0.        , 0.        , 0.        , 0.        , 0.        ,\n",
       "       0.        , 0.        , 0.        , 0.        , 0.        ,\n",
       "       0.        , 0.        , 0.        , 0.        , 0.49259911,\n",
       "       0.        , 0.        , 0.        , 0.        , 0.        ,\n",
       "       0.        , 0.        , 0.        , 0.        , 0.        ,\n",
       "       0.        , 0.        , 0.        , 0.        , 0.        ,\n",
       "       0.        , 0.        , 0.        , 0.        , 0.        ,\n",
       "       0.        , 0.        , 0.        , 0.        , 0.        ,\n",
       "       0.21101154, 0.        , 0.        , 0.        , 0.        ,\n",
       "       0.        , 0.        , 0.        , 0.        , 0.        ,\n",
       "       0.        , 0.        , 0.        , 0.        , 0.        ,\n",
       "       0.        , 0.        , 0.        , 0.        , 0.        ,\n",
       "       0.        , 0.        , 0.        , 0.        , 0.        ,\n",
       "       0.        , 0.        , 0.        , 0.        , 0.        ,\n",
       "       0.        , 0.        , 0.        , 0.        , 0.        ,\n",
       "       0.        , 0.        , 0.        , 0.        , 0.        ,\n",
       "       0.        , 0.        , 0.        , 0.        , 0.        ,\n",
       "       0.        , 0.        , 0.        , 0.        , 0.        ,\n",
       "       0.        , 0.        , 0.        , 0.        , 0.        ,\n",
       "       0.        , 0.        , 0.        , 0.        , 0.        ,\n",
       "       0.        , 0.        , 0.        , 0.        , 0.        ,\n",
       "       0.        , 0.        , 0.        , 0.        , 0.        ,\n",
       "       0.        , 0.        , 0.        , 0.        , 0.        ,\n",
       "       0.        , 0.        , 0.        , 0.        , 0.        ,\n",
       "       0.        , 0.        , 0.        , 0.        , 0.        ,\n",
       "       0.        , 0.        , 0.        , 0.        , 0.        ,\n",
       "       0.        , 0.        , 0.        , 0.        , 0.        ,\n",
       "       0.        , 0.        , 0.        , 0.        , 0.        ,\n",
       "       0.        , 0.        , 0.        , 0.        , 0.        ,\n",
       "       0.        , 0.        , 0.        , 0.        , 0.        ])"
      ]
     },
     "execution_count": 165,
     "metadata": {},
     "output_type": "execute_result"
    }
   ],
   "source": [
    "vectorizer = TfidfVectorizer(max_features=1000)\n",
    "vec_train = vectorizer.fit_transform(X_train)\n",
    "vec_test = vectorizer.transform(X_test)\n",
    "vec_train.toarray()[0,:]"
   ]
  },
  {
   "cell_type": "code",
   "execution_count": 166,
   "metadata": {},
   "outputs": [
    {
     "name": "stdout",
     "output_type": "stream",
     "text": [
      "              precision    recall  f1-score   support\n",
      "\n",
      "     dressup       0.93      0.96      0.95       132\n",
      "       stock       0.97      0.95      0.96       111\n",
      "    youtuber       0.94      0.93      0.93       107\n",
      "\n",
      "    accuracy                           0.95       350\n",
      "   macro avg       0.95      0.95      0.95       350\n",
      "weighted avg       0.95      0.95      0.95       350\n",
      "\n"
     ]
    }
   ],
   "source": [
    "clf.fit(vec_train, y_train)\n",
    "y_pred = clf.predict(vec_test)\n",
    "y_pred_proba = clf.predict_proba(vec_test)\n",
    "\n",
    "# results\n",
    "## Accuracy, Precision, Recall, F1-score\n",
    "print(classification_report(y_test, y_pred))\n"
   ]
  },
  {
   "attachments": {},
   "cell_type": "markdown",
   "metadata": {},
   "source": [
    "### 3.5 CV"
   ]
  },
  {
   "attachments": {},
   "cell_type": "markdown",
   "metadata": {},
   "source": [
    "接著介紹 cross-validation。CV 在機器學習中，是一個很常用來讓模型評估能夠得到更穩定的數值的手法。"
   ]
  },
  {
   "attachments": {},
   "cell_type": "markdown",
   "metadata": {},
   "source": [
    "* figure1: "
   ]
  },
  {
   "attachments": {},
   "cell_type": "markdown",
   "metadata": {},
   "source": [
    "<img src=\"https://scikit-learn.org/stable/_images/grid_search_workflow.png\"  width=\"1000\">"
   ]
  },
  {
   "attachments": {},
   "cell_type": "markdown",
   "metadata": {},
   "source": [
    "* figure 2:  "
   ]
  },
  {
   "attachments": {},
   "cell_type": "markdown",
   "metadata": {},
   "source": [
    "![](https://scikit-learn.org/stable/_images/grid_search_cross_validation.png)"
   ]
  },
  {
   "attachments": {},
   "cell_type": "markdown",
   "metadata": {},
   "source": [
    "source: <https://scikit-learn.org/stable/modules/cross_validation.html#cross-validation-and-model-selection>"
   ]
  },
  {
   "attachments": {},
   "cell_type": "markdown",
   "metadata": {},
   "source": [
    "cross-validation 會自動切成 k 組 train-test dataset。  \n",
    "`cross_validate()` 會回傳經過 cross-validation 的模型評估結果。"
   ]
  },
  {
   "cell_type": "code",
   "execution_count": 167,
   "metadata": {},
   "outputs": [
    {
     "name": "stdout",
     "output_type": "stream",
     "text": [
      "{'estimator': [LogisticRegression(),\n",
      "               LogisticRegression(),\n",
      "               LogisticRegression(),\n",
      "               LogisticRegression(),\n",
      "               LogisticRegression()],\n",
      " 'fit_time': array([0.00908899, 0.00997996, 0.0075438 , 0.00792766, 0.00826311]),\n",
      " 'score_time': array([0.0027411 , 0.00262809, 0.00269413, 0.00268531, 0.00350094]),\n",
      " 'test_f1_macro': array([0.93377215, 0.9496092 , 0.9254072 , 0.91349665, 0.96386297]),\n",
      " 'test_precision_macro': array([0.93560484, 0.95183647, 0.92626263, 0.91904532, 0.96875   ]),\n",
      " 'test_recall_macro': array([0.93261453, 0.94886435, 0.92536019, 0.9116487 , 0.96178036])}\n"
     ]
    }
   ],
   "source": [
    "clf = LogisticRegression()\n",
    "vec_train = TfidfVectorizer(max_features=1000).fit_transform(X_train)\n",
    "\n",
    "scores = cross_validate(clf, vec_train, y_train, cv=5, scoring=(\"f1_macro\", \"recall_macro\", \"precision_macro\"), return_estimator=True)\n",
    "pprint(scores)"
   ]
  },
  {
   "cell_type": "markdown",
   "metadata": {},
   "source": [
    "`cross_val_predict()` 則會回傳 cv 預測的類別。"
   ]
  },
  {
   "cell_type": "code",
   "execution_count": 168,
   "metadata": {},
   "outputs": [
    {
     "name": "stdout",
     "output_type": "stream",
     "text": [
      "              precision    recall  f1-score   support\n",
      "\n",
      "     dressup       0.95      0.88      0.91       257\n",
      "       stock       0.97      0.97      0.97       267\n",
      "    youtuber       0.90      0.96      0.93       292\n",
      "\n",
      "    accuracy                           0.94       816\n",
      "   macro avg       0.94      0.94      0.94       816\n",
      "weighted avg       0.94      0.94      0.94       816\n",
      "\n"
     ]
    }
   ],
   "source": [
    "y_pred = cross_val_predict(clf, vec_train, y_train, cv=5)\n",
    "print(classification_report(y_train, y_pred))"
   ]
  },
  {
   "attachments": {},
   "cell_type": "markdown",
   "metadata": {},
   "source": [
    "## 4. 比較不同模型效果"
   ]
  },
  {
   "cell_type": "code",
   "execution_count": 169,
   "metadata": {
    "scrolled": true
   },
   "outputs": [],
   "source": [
    "# 定義模型訓練組合\n",
    "## pipeline: 資料處理 vectorizer + 分類器 clf\n",
    "## 由於 cross-validation 會自動將資料分成 train/test，因此 input 只要給 X, y 即可\n",
    "\n",
    "def train_cv(vectorizer, clf, X, y):\n",
    "\n",
    "    ## train classifier\n",
    "    vec_X = vectorizer.fit_transform(X).toarray()\n",
    "    \n",
    "    ## get cv results\n",
    "    cv_results = cross_validate(clf, vec_X, y, cv=5, return_estimator=True)\n",
    "\n",
    "    y_pred = cross_val_predict(clf, vec_X, y, cv=5)\n",
    "    y_pred_proba = cross_val_predict(clf, vec_X, y, cv=5, method=\"predict_proba\")\n",
    "    \n",
    "    ## Accuracy, Precision, Recall, F1-score\n",
    "    cls_report = classification_report(y, y_pred, output_dict=True)\n",
    "    print(classification_report(y, y_pred))\n",
    "\n",
    "    classes = cv_results['estimator'][0].classes_\n",
    "    \n",
    "    ## Plot confusion matrix\n",
    "    cm = confusion_matrix(y, y_pred)\n",
    "    fig, ax = plt.subplots()\n",
    "    sns.heatmap(cm, annot=True, fmt=\"d\", ax=ax, cmap=plt.cm.Blues, cbar=False)\n",
    "    ax.set(\n",
    "        xlabel=\"Pred\",\n",
    "        ylabel=\"True\",\n",
    "        xticklabels=classes,\n",
    "        yticklabels=classes,\n",
    "        title= str(clf) + \"Confusion matrix\",\n",
    "    )\n",
    "    plt.yticks(rotation=0)\n",
    "\n",
    "    clf.fit(vec_X, y)\n",
    "    # return the model object\n",
    "    return cls_report\n",
    "\n",
    "\n",
    "from sklearn.preprocessing import LabelEncoder\n",
    "import xgboost as xgb\n",
    "def train_cv_xgb(vectorizer, clf, X, y):\n",
    "    # 初始化標籤編碼器\n",
    "    label_encoder = LabelEncoder()\n",
    "    # 將原始字符串標籤轉換為整數\n",
    "    y_encoded = label_encoder.fit_transform(y)\n",
    "    \n",
    "    ## train classifier\n",
    "    vec_X = vectorizer.fit_transform(X).toarray()\n",
    "    \n",
    "    ## get cv results\n",
    "    cv_results = cross_validate(clf, vec_X, y_encoded, cv=5, return_estimator=True)\n",
    "    \n",
    "    y_pred_encoded = cross_val_predict(clf, vec_X, y_encoded, cv=5)\n",
    "    # 將預測結果從整數轉換回字符串標籤\n",
    "    y_pred = label_encoder.inverse_transform(y_pred_encoded)\n",
    "    \n",
    "    ## Accuracy, Precision, Recall, F1-score\n",
    "    cls_report = classification_report(y, y_pred, output_dict=True)\n",
    "    print(classification_report(y, y_pred))\n",
    "\n",
    "    classes = label_encoder.classes_  # 使用原始字符串標籤\n",
    "    \n",
    "    ## Plot confusion matrix\n",
    "    cm = confusion_matrix(y, y_pred, labels=classes)\n",
    "    fig, ax = plt.subplots()\n",
    "    sns.heatmap(cm, annot=True, fmt=\"d\", ax=ax, cmap=plt.cm.Blues, cbar=False)\n",
    "    ax.set(\n",
    "        xlabel=\"Pred\",\n",
    "        ylabel=\"True\",\n",
    "        xticklabels=classes,\n",
    "        yticklabels=classes,\n",
    "        title=\"xgb.XGBClassifier()\" + \" Confusion matrix\",\n",
    "    )\n",
    "    plt.yticks(rotation=0)\n",
    "\n",
    "    clf.fit(vec_X, y_encoded)  # 注意這裡使用轉換後的標籤來訓練最終模型\n",
    "    # return the model object\n",
    "    return cls_report"
   ]
  },
  {
   "cell_type": "code",
   "execution_count": 170,
   "metadata": {},
   "outputs": [
    {
     "name": "stdout",
     "output_type": "stream",
     "text": [
      "              precision    recall  f1-score   support\n",
      "\n",
      "     dressup       0.95      0.88      0.91       257\n",
      "       stock       0.97      0.97      0.97       267\n",
      "    youtuber       0.90      0.96      0.93       292\n",
      "\n",
      "    accuracy                           0.94       816\n",
      "   macro avg       0.94      0.94      0.94       816\n",
      "weighted avg       0.94      0.94      0.94       816\n",
      "\n"
     ]
    },
    {
     "data": {
      "image/png": "[encoded data removed]",
      "text/plain": [
       "<Figure size 640x480 with 1 Axes>"
      ]
     },
     "metadata": {},
     "output_type": "display_data"
    }
   ],
   "source": [
    "vectorizer = TfidfVectorizer(max_features=1000)\n",
    "clf = LogisticRegression()\n",
    "result = train_cv(vectorizer, clf, X_train, y_train)"
   ]
  },
  {
   "cell_type": "code",
   "execution_count": 171,
   "metadata": {},
   "outputs": [
    {
     "name": "stdout",
     "output_type": "stream",
     "text": [
      "====================================================================================================\n",
      "now training: clf_logistic\n"
     ]
    },
    {
     "name": "stdout",
     "output_type": "stream",
     "text": [
      "              precision    recall  f1-score   support\n",
      "\n",
      "     dressup       0.95      0.88      0.91       257\n",
      "       stock       0.97      0.97      0.97       267\n",
      "    youtuber       0.90      0.96      0.93       292\n",
      "\n",
      "    accuracy                           0.94       816\n",
      "   macro avg       0.94      0.94      0.94       816\n",
      "weighted avg       0.94      0.94      0.94       816\n",
      "\n",
      "====================================================================================================\n",
      "====================================================================================================\n",
      "now training: clf_dtree\n",
      "              precision    recall  f1-score   support\n",
      "\n",
      "     dressup       0.80      0.82      0.81       257\n",
      "       stock       0.86      0.90      0.88       267\n",
      "    youtuber       0.86      0.80      0.83       292\n",
      "\n",
      "    accuracy                           0.84       816\n",
      "   macro avg       0.84      0.84      0.84       816\n",
      "weighted avg       0.84      0.84      0.84       816\n",
      "\n",
      "====================================================================================================\n",
      "====================================================================================================\n",
      "now training: clf_svm\n",
      "              precision    recall  f1-score   support\n",
      "\n",
      "     dressup       0.95      0.87      0.91       257\n",
      "       stock       0.98      0.96      0.97       267\n",
      "    youtuber       0.88      0.97      0.92       292\n",
      "\n",
      "    accuracy                           0.93       816\n",
      "   macro avg       0.94      0.93      0.93       816\n",
      "weighted avg       0.93      0.93      0.93       816\n",
      "\n",
      "====================================================================================================\n",
      "====================================================================================================\n",
      "now training: clf_rf\n",
      "              precision    recall  f1-score   support\n",
      "\n",
      "     dressup       0.94      0.83      0.88       257\n",
      "       stock       0.90      0.96      0.93       267\n",
      "    youtuber       0.89      0.93      0.91       292\n",
      "\n",
      "    accuracy                           0.91       816\n",
      "   macro avg       0.91      0.91      0.91       816\n",
      "weighted avg       0.91      0.91      0.91       816\n",
      "\n",
      "====================================================================================================\n",
      "====================================================================================================\n",
      "now training: clf_xgb\n",
      "              precision    recall  f1-score   support\n",
      "\n",
      "     dressup       0.94      0.81      0.87       257\n",
      "       stock       0.89      0.95      0.92       267\n",
      "    youtuber       0.87      0.92      0.90       292\n",
      "\n",
      "    accuracy                           0.90       816\n",
      "   macro avg       0.90      0.89      0.89       816\n",
      "weighted avg       0.90      0.90      0.90       816\n",
      "\n",
      "====================================================================================================\n"
     ]
    },
    {
     "data": {
      "image/png": "[encoded data removed]",
      "text/plain": [
       "<Figure size 640x480 with 1 Axes>"
      ]
     },
     "metadata": {},
     "output_type": "display_data"
    },
    {
     "data": {
      "image/png": "[encoded data removed]",
      "text/plain": [
       "<Figure size 640x480 with 1 Axes>"
      ]
     },
     "metadata": {},
     "output_type": "display_data"
    },
    {
     "data": {
      "image/png": "[encoded data removed]",
      "text/plain": [
       "<Figure size 640x480 with 1 Axes>"
      ]
     },
     "metadata": {},
     "output_type": "display_data"
    },
    {
     "data": {
      "image/png": "[encoded data removed]",
      "text/plain": [
       "<Figure size 640x480 with 1 Axes>"
      ]
     },
     "metadata": {},
     "output_type": "display_data"
    },
    {
     "data": {
      "image/png": "[encoded data removed]",
      "text/plain": [
       "<Figure size 640x480 with 1 Axes>"
      ]
     },
     "metadata": {},
     "output_type": "display_data"
    }
   ],
   "source": [
    "# 準備訓練資料\n",
    "X = data[\"words\"]\n",
    "y = data[\"boardID\"]\n",
    "\n",
    "# 把整個資料集七三切\n",
    "X_train, X_test, y_train, y_test = train_test_split(\n",
    "    X, y, test_size=0.3, random_state=777\n",
    ")\n",
    "# 定義模型訓練組合\n",
    "model_set = dict()\n",
    "model_set['clf_logistic'] = LogisticRegression()\n",
    "model_set['clf_dtree'] = DecisionTreeClassifier()\n",
    "model_set['clf_svm'] = svm.SVC(probability=True) # 要使用SVM的predict_proba的話，必須在叫出SVC的時候就將probability設為True\n",
    "model_set['clf_rf'] = RandomForestClassifier()\n",
    "model_set['clf_xgb'] = xgb.XGBClassifier(objective='multi:softmax', num_class=3, n_estimators=500, seed=3)\n",
    "\n",
    "\n",
    "# 定義 vectorizer\n",
    "# vectorizer = CountVectorizer(max_features=1000)\n",
    "vectorizer = TfidfVectorizer(max_features=1000)\n",
    "# 存結果\n",
    "result_set = dict()\n",
    "\n",
    "for k, model in model_set.items():\n",
    "    if k == 'clf_xgb':\n",
    "        print(\"=\"*100)\n",
    "        print(f\"now training: {k}\")\n",
    "        result_set[k] = train_cv_xgb(vectorizer, model, X_train, y_train)\n",
    "        print(\"=\"*100)        \n",
    "        continue\n",
    "    else:\n",
    "        print(\"=\"*100)\n",
    "        print(f\"now training: {k}\")\n",
    "        result_set[k] = train_cv(vectorizer, model, X_train, y_train)\n",
    "        print(\"=\"*100)\n"
   ]
  },
  {
   "cell_type": "code",
   "execution_count": 172,
   "metadata": {},
   "outputs": [
    {
     "data": {
      "text/plain": [
       "{'dressup': {'precision': 0.9456066945606695,\n",
       "  'recall': 0.8793774319066148,\n",
       "  'f1-score': 0.9112903225806451,\n",
       "  'support': 257.0},\n",
       " 'stock': {'precision': 0.9736842105263158,\n",
       "  'recall': 0.9700374531835206,\n",
       "  'f1-score': 0.9718574108818011,\n",
       "  'support': 267.0},\n",
       " 'youtuber': {'precision': 0.9003215434083601,\n",
       "  'recall': 0.958904109589041,\n",
       "  'f1-score': 0.9286898839137645,\n",
       "  'support': 292.0},\n",
       " 'accuracy': 0.9375,\n",
       " 'macro avg': {'precision': 0.9398708161651151,\n",
       "  'recall': 0.9361063315597254,\n",
       "  'f1-score': 0.9372792057920702,\n",
       "  'support': 816.0},\n",
       " 'weighted avg': {'precision': 0.9385888423870827,\n",
       "  'recall': 0.9375,\n",
       "  'f1-score': 0.9373345437640759,\n",
       "  'support': 816.0}}"
      ]
     },
     "execution_count": 172,
     "metadata": {},
     "output_type": "execute_result"
    }
   ],
   "source": [
    "result_set['clf_logistic']"
   ]
  },
  {
   "cell_type": "code",
   "execution_count": 173,
   "metadata": {},
   "outputs": [
    {
     "name": "stdout",
     "output_type": "stream",
     "text": [
      "best model: clf_logistic\n",
      "{'accuracy': 0.9375,\n",
      " 'dressup': {'f1-score': 0.9112903225806451,\n",
      "             'precision': 0.9456066945606695,\n",
      "             'recall': 0.8793774319066148,\n",
      "             'support': 257.0},\n",
      " 'macro avg': {'f1-score': 0.9372792057920702,\n",
      "               'precision': 0.9398708161651151,\n",
      "               'recall': 0.9361063315597254,\n",
      "               'support': 816.0},\n",
      " 'stock': {'f1-score': 0.9718574108818011,\n",
      "           'precision': 0.9736842105263158,\n",
      "           'recall': 0.9700374531835206,\n",
      "           'support': 267.0},\n",
      " 'weighted avg': {'f1-score': 0.9373345437640759,\n",
      "                  'precision': 0.9385888423870827,\n",
      "                  'recall': 0.9375,\n",
      "                  'support': 816.0},\n",
      " 'youtuber': {'f1-score': 0.9286898839137645,\n",
      "              'precision': 0.9003215434083601,\n",
      "              'recall': 0.958904109589041,\n",
      "              'support': 292.0}}\n"
     ]
    }
   ],
   "source": [
    "max = 0\n",
    "best_model_name = \"\"\n",
    "best_model_metric = \"f1-score\"\n",
    "\n",
    "## choose max f1-score model from result_set\n",
    "for k, v in result_set.items():\n",
    "    if v['weighted avg'][best_model_metric] > max:\n",
    "        max = v['weighted avg'][best_model_metric]\n",
    "        best_model_name = k\n",
    "print(f\"best model: {best_model_name}\")\n",
    "pprint(result_set[best_model_name])"
   ]
  },
  {
   "cell_type": "code",
   "execution_count": 174,
   "metadata": {},
   "outputs": [
    {
     "name": "stdout",
     "output_type": "stream",
     "text": [
      "              precision    recall  f1-score   support\n",
      "\n",
      "     dressup       0.93      0.96      0.95       132\n",
      "       stock       0.97      0.95      0.96       111\n",
      "    youtuber       0.94      0.93      0.93       107\n",
      "\n",
      "    accuracy                           0.95       350\n",
      "   macro avg       0.95      0.95      0.95       350\n",
      "weighted avg       0.95      0.95      0.95       350\n",
      "\n"
     ]
    }
   ],
   "source": [
    "y_pred = model_set['clf_logistic'].predict(vectorizer.transform(X_test).toarray())\n",
    "print(classification_report(y_test, y_pred))"
   ]
  },
  {
   "cell_type": "code",
   "execution_count": 175,
   "metadata": {},
   "outputs": [
    {
     "data": {
      "text/plain": [
       "array(['stock'], dtype=object)"
      ]
     },
     "execution_count": 175,
     "metadata": {},
     "output_type": "execute_result"
    }
   ],
   "source": [
    "model_set['clf_logistic'].predict(vectorizer.transform([\"市場\"]).toarray())"
   ]
  },
  {
   "attachments": {},
   "cell_type": "markdown",
   "metadata": {},
   "source": [
    "* 最佳的 model 為 clf_logistic，而 Decision Tree 跟 XGBoost 的表現較差"
   ]
  },
  {
   "attachments": {},
   "cell_type": "markdown",
   "metadata": {},
   "source": [
    "## 5. 分析可解釋模型的結果"
   ]
  },
  {
   "attachments": {},
   "cell_type": "markdown",
   "metadata": {},
   "source": [
    "### 5.1 各字詞特徵的estimate係數\n",
    "對於線性的模型，可以藉由相關係數，查看資料特徵（詞）對於判斷分類的影響\n",
    "+ coefficient estimate 代表特徵每增加一單位（在此處會是該文章的某字詞頻 +1），y是1的發生機率比y是0的發生機率多幾倍（odds ratio 勝算比）\n",
    "+ 這裡舉logistic regression + cv tokenizer 為例"
   ]
  },
  {
   "cell_type": "code",
   "execution_count": 176,
   "metadata": {},
   "outputs": [],
   "source": [
    "def plot_coef(logistic_reg_model, feature_names, top_n=10):\n",
    "    # 選出某個類別的前10大影響力字詞\n",
    "    log_odds = logistic_reg_model.coef_.T\n",
    "    coef_df = pd.DataFrame(\n",
    "        log_odds, \n",
    "        columns=logistic_reg_model.classes_, index=feature_names\n",
    "    )\n",
    "    for label in coef_df.columns:\n",
    "        select_words = (\n",
    "            coef_df[[label]]\n",
    "            .sort_values(by=label, ascending=False)\n",
    "            .iloc[np.r_[0:top_n, -top_n:0]]\n",
    "        )\n",
    "        word = select_words.index\n",
    "        count = select_words[label]\n",
    "        category_colors = np.where(\n",
    "            select_words[label] >= 0, \"darkseagreen\", \"rosybrown\"\n",
    "        )  # 設定顏色\n",
    "\n",
    "        fig, ax = plt.subplots(figsize=(8, top_n*0.8))  # 設定畫布\n",
    "        plt.rcParams[\"axes.unicode_minus\"] = False\n",
    "\n",
    "        ax.barh(word, count, color=category_colors)\n",
    "        ax.invert_yaxis()\n",
    "        ax.set_title(\n",
    "            \"Coeff increase/decrease odds ratio of 「\" + label + \"」 label the most\",\n",
    "            loc=\"left\",\n",
    "            size=16,\n",
    "        )\n",
    "        ax.set_ylabel(\"word\", size=14)\n",
    "        ax.set_xlabel(\"odds ratio\", size=14)"
   ]
  },
  {
   "cell_type": "code",
   "execution_count": 177,
   "metadata": {},
   "outputs": [
    {
     "data": {
      "image/png": "[encoded data removed]",
      "text/plain": [
       "<Figure size 800x800 with 1 Axes>"
      ]
     },
     "metadata": {},
     "output_type": "display_data"
    },
    {
     "data": {
      "image/png": "[encoded data removed]",
      "text/plain": [
       "<Figure size 800x800 with 1 Axes>"
      ]
     },
     "metadata": {},
     "output_type": "display_data"
    },
    {
     "data": {
      "image/png": "[encoded data removed]",
      "text/plain": [
       "<Figure size 800x800 with 1 Axes>"
      ]
     },
     "metadata": {},
     "output_type": "display_data"
    }
   ],
   "source": [
    "plot_coef(logistic_reg_model=model_set['clf_logistic'], feature_names=vectorizer.get_feature_names_out(), top_n=10)"
   ]
  },
  {
   "attachments": {},
   "cell_type": "markdown",
   "metadata": {},
   "source": [
    "* 穿搭版中可以看出來許多人都會有在穿搭版詢問該如何搭配、風格之類的\n",
    "* 股市版則是請益哪些標的等等\n",
    "* 網紅流量等字眼對於分類YT版的影響也較大"
   ]
  },
  {
   "attachments": {},
   "cell_type": "markdown",
   "metadata": {},
   "source": [
    "## 6. 預測新聞類別"
   ]
  },
  {
   "cell_type": "markdown",
   "metadata": {},
   "source": [
    "`sna2024s_7_a16a93362a_17.csv` \n",
    "- 來源：ptt\n",
    "- 版別：stock\n",
    "- 時間範圍：2024/01/01 ~ 2024/04/08\n",
    "- 工作流程平台搜尋/排除關鍵字：無\n",
    "\n",
    "`sna2024s_7_a16a93362a_20.csv` \n",
    "- 來源：mobile01\n",
    "- 版別：時尚\n",
    "- 時間範圍：2024/01/01 ~ 2024/04/08\n",
    "- 工作流程平台搜尋/排除關鍵字：無\n",
    "\n",
    "`sna2024s_7_a16a93362a_17.csv` \n",
    "- 來源：dcard\n",
    "- 版別：youtuber\n",
    "- 時間範圍：2023/01/01 ~ 2023/03/01\n",
    "- 工作流程平台搜尋/排除關鍵字：無"
   ]
  },
  {
   "cell_type": "code",
   "execution_count": 178,
   "metadata": {},
   "outputs": [],
   "source": [
    "data1 = pd.read_csv('raw_data/sna2024s_7_a16a93362a_17.csv').head(400)\n",
    "data2 = pd.read_csv('raw_data/sna2024s_7_a16a93362a_20.csv').head(400)\n",
    "data3 = pd.read_csv('raw_data/sna2024s_7_a16a93362a_23.csv').head(400)\n"
   ]
  },
  {
   "cell_type": "code",
   "execution_count": 179,
   "metadata": {},
   "outputs": [],
   "source": [
    "data1 = data1.rename(columns={'artCatagory': 'boardID'})\n",
    "data1 = data1.loc[:, ['artTitle', 'artContent', 'artUrl', 'boardID']]\n"
   ]
  },
  {
   "cell_type": "code",
   "execution_count": 180,
   "metadata": {},
   "outputs": [],
   "source": [
    "data2['boardID'] = '時尚'\n",
    "data2 = data2.loc[:, ['artTitle', 'artContent', 'artUrl', 'boardID']]\n"
   ]
  },
  {
   "cell_type": "code",
   "execution_count": 181,
   "metadata": {},
   "outputs": [
    {
     "data": {
      "text/html": [
       "<div>\n",
       "<style scoped>\n",
       "    .dataframe tbody tr th:only-of-type {\n",
       "        vertical-align: middle;\n",
       "    }\n",
       "\n",
       "    .dataframe tbody tr th {\n",
       "        vertical-align: top;\n",
       "    }\n",
       "\n",
       "    .dataframe thead th {\n",
       "        text-align: right;\n",
       "    }\n",
       "</style>\n",
       "<table border=\"1\" class=\"dataframe\">\n",
       "  <thead>\n",
       "    <tr style=\"text-align: right;\">\n",
       "      <th></th>\n",
       "      <th>artTitle</th>\n",
       "      <th>artContent</th>\n",
       "      <th>artUrl</th>\n",
       "      <th>boardID</th>\n",
       "    </tr>\n",
       "  </thead>\n",
       "  <tbody>\n",
       "    <tr>\n",
       "      <th>0</th>\n",
       "      <td>#詢問 為什麼木曜觀看數變很低？</td>\n",
       "      <td>先聲明沒有要引戰 是真心詢問\\n———\\n\\n一直都有在看木曜\\n平常比較忙，是屬於那種閒下...</td>\n",
       "      <td>https://www.dcard.tw/f/youtuber/p/241101474</td>\n",
       "      <td>youtuber</td>\n",
       "    </tr>\n",
       "    <tr>\n",
       "      <th>1</th>\n",
       "      <td>toyz屌打館長對吧</td>\n",
       "      <td>https://www.youtube.com/watch?v=QDKNdVXPotI\\n不...</td>\n",
       "      <td>https://www.dcard.tw/f/youtuber/p/241102266</td>\n",
       "      <td>youtuber</td>\n",
       "    </tr>\n",
       "    <tr>\n",
       "      <th>2</th>\n",
       "      <td>廣告不用網路？</td>\n",
       "      <td>https://www.dcard.tw/v2/vivid/videos/e8de9717-...</td>\n",
       "      <td>https://www.dcard.tw/f/youtuber/p/241108638</td>\n",
       "      <td>youtuber</td>\n",
       "    </tr>\n",
       "    <tr>\n",
       "      <th>3</th>\n",
       "      <td>關於我的官司｜一場大型的台灣社會實驗｜吃瓜群眾真的在意真相嗎？｜波特王好帥</td>\n",
       "      <td>https://youtu.be/caBlUFAY1p0</td>\n",
       "      <td>https://www.dcard.tw/f/youtuber/p/240928638</td>\n",
       "      <td>youtuber</td>\n",
       "    </tr>\n",
       "    <tr>\n",
       "      <th>4</th>\n",
       "      <td>VW和MAX好像…</td>\n",
       "      <td>先說我是這兩個的粉絲\\n我也很喜歡他們\\n\\nhttps://i.imgur.com/Y4h...</td>\n",
       "      <td>https://www.dcard.tw/f/youtuber/p/240959705</td>\n",
       "      <td>youtuber</td>\n",
       "    </tr>\n",
       "    <tr>\n",
       "      <th>...</th>\n",
       "      <td>...</td>\n",
       "      <td>...</td>\n",
       "      <td>...</td>\n",
       "      <td>...</td>\n",
       "    </tr>\n",
       "    <tr>\n",
       "      <th>395</th>\n",
       "      <td>被嘎老師提告，再議駁回（最終回）</td>\n",
       "      <td>前情提要，還沒看過前面兩篇的可以先去看\\nhttps://www.dcard.tw/f/yo...</td>\n",
       "      <td>https://www.dcard.tw/f/youtuber/p/240930827</td>\n",
       "      <td>youtuber</td>\n",
       "    </tr>\n",
       "    <tr>\n",
       "      <th>396</th>\n",
       "      <td>愛莉莎莎現在改走玉女路線？</td>\n",
       "      <td>真的有一點體會到被炮轟是什麼感覺…\\n但以上我po 的文章都是出自影片沒再多加什麼，底下一堆...</td>\n",
       "      <td>https://www.dcard.tw/f/youtuber/p/240922536</td>\n",
       "      <td>youtuber</td>\n",
       "    </tr>\n",
       "    <tr>\n",
       "      <th>397</th>\n",
       "      <td>大胃王丁丁好像很久沒發片了</td>\n",
       "      <td>先不管之前什麼大胃王風波\\n坦白說我是看挑戰又不是交朋友\\n不管怎麽說\\n檯面上丁丁應該是目...</td>\n",
       "      <td>https://www.dcard.tw/f/youtuber/p/240922805</td>\n",
       "      <td>youtuber</td>\n",
       "    </tr>\n",
       "    <tr>\n",
       "      <th>398</th>\n",
       "      <td>MINI VLOG 📷 一天旅遊日常｜永安海螺館、淡水老街</td>\n",
       "      <td>2023年的第一支VLOG影片！！\\n\\n趁著元旦假期去了永安漁港的海螺館跟淡水走走\\n沒有...</td>\n",
       "      <td>https://www.dcard.tw/f/youtuber/p/240935538</td>\n",
       "      <td>youtuber</td>\n",
       "    </tr>\n",
       "    <tr>\n",
       "      <th>399</th>\n",
       "      <td>讓票-炎上王世堅台中場</td>\n",
       "      <td>1/7 19:45 炎上王世堅 台中直播場\\n多一張票以原價 $1000➕手續費$20售出 ...</td>\n",
       "      <td>https://www.dcard.tw/f/youtuber/p/240932720</td>\n",
       "      <td>youtuber</td>\n",
       "    </tr>\n",
       "  </tbody>\n",
       "</table>\n",
       "<p>400 rows × 4 columns</p>\n",
       "</div>"
      ],
      "text/plain": [
       "                                  artTitle  \\\n",
       "0                         #詢問 為什麼木曜觀看數變很低？   \n",
       "1                               toyz屌打館長對吧   \n",
       "2                                  廣告不用網路？   \n",
       "3    關於我的官司｜一場大型的台灣社會實驗｜吃瓜群眾真的在意真相嗎？｜波特王好帥   \n",
       "4                                VW和MAX好像…   \n",
       "..                                     ...   \n",
       "395                       被嘎老師提告，再議駁回（最終回）   \n",
       "396                          愛莉莎莎現在改走玉女路線？   \n",
       "397                          大胃王丁丁好像很久沒發片了   \n",
       "398          MINI VLOG 📷 一天旅遊日常｜永安海螺館、淡水老街   \n",
       "399                            讓票-炎上王世堅台中場   \n",
       "\n",
       "                                            artContent  \\\n",
       "0    先聲明沒有要引戰 是真心詢問\\n———\\n\\n一直都有在看木曜\\n平常比較忙，是屬於那種閒下...   \n",
       "1    https://www.youtube.com/watch?v=QDKNdVXPotI\\n不...   \n",
       "2    https://www.dcard.tw/v2/vivid/videos/e8de9717-...   \n",
       "3                         https://youtu.be/caBlUFAY1p0   \n",
       "4    先說我是這兩個的粉絲\\n我也很喜歡他們\\n\\nhttps://i.imgur.com/Y4h...   \n",
       "..                                                 ...   \n",
       "395  前情提要，還沒看過前面兩篇的可以先去看\\nhttps://www.dcard.tw/f/yo...   \n",
       "396  真的有一點體會到被炮轟是什麼感覺…\\n但以上我po 的文章都是出自影片沒再多加什麼，底下一堆...   \n",
       "397  先不管之前什麼大胃王風波\\n坦白說我是看挑戰又不是交朋友\\n不管怎麽說\\n檯面上丁丁應該是目...   \n",
       "398  2023年的第一支VLOG影片！！\\n\\n趁著元旦假期去了永安漁港的海螺館跟淡水走走\\n沒有...   \n",
       "399  1/7 19:45 炎上王世堅 台中直播場\\n多一張票以原價 $1000➕手續費$20售出 ...   \n",
       "\n",
       "                                          artUrl   boardID  \n",
       "0    https://www.dcard.tw/f/youtuber/p/241101474  youtuber  \n",
       "1    https://www.dcard.tw/f/youtuber/p/241102266  youtuber  \n",
       "2    https://www.dcard.tw/f/youtuber/p/241108638  youtuber  \n",
       "3    https://www.dcard.tw/f/youtuber/p/240928638  youtuber  \n",
       "4    https://www.dcard.tw/f/youtuber/p/240959705  youtuber  \n",
       "..                                           ...       ...  \n",
       "395  https://www.dcard.tw/f/youtuber/p/240930827  youtuber  \n",
       "396  https://www.dcard.tw/f/youtuber/p/240922536  youtuber  \n",
       "397  https://www.dcard.tw/f/youtuber/p/240922805  youtuber  \n",
       "398  https://www.dcard.tw/f/youtuber/p/240935538  youtuber  \n",
       "399  https://www.dcard.tw/f/youtuber/p/240932720  youtuber  \n",
       "\n",
       "[400 rows x 4 columns]"
      ]
     },
     "execution_count": 181,
     "metadata": {},
     "output_type": "execute_result"
    }
   ],
   "source": [
    "data3 = data3.loc[:, ['artTitle', 'artContent', 'artUrl', 'boardID']]\n",
    "data3"
   ]
  },
  {
   "cell_type": "code",
   "execution_count": 182,
   "metadata": {},
   "outputs": [],
   "source": [
    "# 步驟 3: 合併資料\n",
    "test_combined_data = pd.concat([data1, data2, data3])\n",
    "\n",
    "# 步驟 4: 儲存到新的 CSV 檔案\n",
    "test_combined_data.to_csv('test_data.csv', index=False)"
   ]
  },
  {
   "cell_type": "code",
   "execution_count": 183,
   "metadata": {},
   "outputs": [
    {
     "data": {
      "text/html": [
       "<div>\n",
       "<style scoped>\n",
       "    .dataframe tbody tr th:only-of-type {\n",
       "        vertical-align: middle;\n",
       "    }\n",
       "\n",
       "    .dataframe tbody tr th {\n",
       "        vertical-align: top;\n",
       "    }\n",
       "\n",
       "    .dataframe thead th {\n",
       "        text-align: right;\n",
       "    }\n",
       "</style>\n",
       "<table border=\"1\" class=\"dataframe\">\n",
       "  <thead>\n",
       "    <tr style=\"text-align: right;\">\n",
       "      <th></th>\n",
       "      <th>artTitle</th>\n",
       "      <th>artContent</th>\n",
       "      <th>artUrl</th>\n",
       "      <th>boardID</th>\n",
       "    </tr>\n",
       "  </thead>\n",
       "  <tbody>\n",
       "    <tr>\n",
       "      <th>0</th>\n",
       "      <td>[心得]2023石油年報分享</td>\n",
       "      <td>投入資金約100萬左右，扣掉長榮虧損後投報率是45%\\n\\n因為長榮是2021年買的，純看石...</td>\n",
       "      <td>https://www.ptt.cc/bbs/Stock/M.1704072007.A.D8...</td>\n",
       "      <td>Stock</td>\n",
       "    </tr>\n",
       "    <tr>\n",
       "      <th>1</th>\n",
       "      <td>Re:[請益]高股息ETF變飆股會是常態嗎</td>\n",
       "      <td>小魯我不是高手，今年賺不到千萬，但對高股息ETF還算有點看法，就提出來給你參考一下。\\n\\n...</td>\n",
       "      <td>https://www.ptt.cc/bbs/Stock/M.1704075405.A.1C...</td>\n",
       "      <td>Stock</td>\n",
       "    </tr>\n",
       "    <tr>\n",
       "      <th>2</th>\n",
       "      <td>[新聞]中國PMI連3個月萎縮恐釀失業減薪惡性循</td>\n",
       "      <td>原文標題：中國PMI連3個月萎縮 恐釀失業減薪惡性循環\\n原文連結：\\nhttps://re...</td>\n",
       "      <td>https://www.ptt.cc/bbs/Stock/M.1704084710.A.FF...</td>\n",
       "      <td>Stock</td>\n",
       "    </tr>\n",
       "    <tr>\n",
       "      <th>3</th>\n",
       "      <td>Re:[新聞]中國PMI連3個月萎縮恐釀失業減薪惡性循</td>\n",
       "      <td>多虧了習大大對各行各業的大力整改(ㄉㄚˇ ㄧㄚ)\\n\\n中國經濟將迎來中共執政以來最大的\"高...</td>\n",
       "      <td>https://www.ptt.cc/bbs/Stock/M.1704088308.A.59...</td>\n",
       "      <td>Stock</td>\n",
       "    </tr>\n",
       "    <tr>\n",
       "      <th>4</th>\n",
       "      <td>[創作]浮動在桌面上的PTT追蹤工具</td>\n",
       "      <td>為了可以隨時看即時推文\\n\\n所以寫了一個可以置頂並隱藏在桌面各個角落看 PTT 的小程式\\...</td>\n",
       "      <td>https://www.ptt.cc/bbs/Stock/M.1704094303.A.A5...</td>\n",
       "      <td>Stock</td>\n",
       "    </tr>\n",
       "    <tr>\n",
       "      <th>...</th>\n",
       "      <td>...</td>\n",
       "      <td>...</td>\n",
       "      <td>...</td>\n",
       "      <td>...</td>\n",
       "    </tr>\n",
       "    <tr>\n",
       "      <th>1195</th>\n",
       "      <td>被嘎老師提告，再議駁回（最終回）</td>\n",
       "      <td>前情提要，還沒看過前面兩篇的可以先去看\\nhttps://www.dcard.tw/f/yo...</td>\n",
       "      <td>https://www.dcard.tw/f/youtuber/p/240930827</td>\n",
       "      <td>youtuber</td>\n",
       "    </tr>\n",
       "    <tr>\n",
       "      <th>1196</th>\n",
       "      <td>愛莉莎莎現在改走玉女路線？</td>\n",
       "      <td>真的有一點體會到被炮轟是什麼感覺…\\n但以上我po 的文章都是出自影片沒再多加什麼，底下一堆...</td>\n",
       "      <td>https://www.dcard.tw/f/youtuber/p/240922536</td>\n",
       "      <td>youtuber</td>\n",
       "    </tr>\n",
       "    <tr>\n",
       "      <th>1197</th>\n",
       "      <td>大胃王丁丁好像很久沒發片了</td>\n",
       "      <td>先不管之前什麼大胃王風波\\n坦白說我是看挑戰又不是交朋友\\n不管怎麽說\\n檯面上丁丁應該是目...</td>\n",
       "      <td>https://www.dcard.tw/f/youtuber/p/240922805</td>\n",
       "      <td>youtuber</td>\n",
       "    </tr>\n",
       "    <tr>\n",
       "      <th>1198</th>\n",
       "      <td>MINI VLOG 📷 一天旅遊日常｜永安海螺館、淡水老街</td>\n",
       "      <td>2023年的第一支VLOG影片！！\\n\\n趁著元旦假期去了永安漁港的海螺館跟淡水走走\\n沒有...</td>\n",
       "      <td>https://www.dcard.tw/f/youtuber/p/240935538</td>\n",
       "      <td>youtuber</td>\n",
       "    </tr>\n",
       "    <tr>\n",
       "      <th>1199</th>\n",
       "      <td>讓票-炎上王世堅台中場</td>\n",
       "      <td>1/7 19:45 炎上王世堅 台中直播場\\n多一張票以原價 $1000➕手續費$20售出 ...</td>\n",
       "      <td>https://www.dcard.tw/f/youtuber/p/240932720</td>\n",
       "      <td>youtuber</td>\n",
       "    </tr>\n",
       "  </tbody>\n",
       "</table>\n",
       "<p>1197 rows × 4 columns</p>\n",
       "</div>"
      ],
      "text/plain": [
       "                           artTitle  \\\n",
       "0                    [心得]2023石油年報分享   \n",
       "1             Re:[請益]高股息ETF變飆股會是常態嗎   \n",
       "2          [新聞]中國PMI連3個月萎縮恐釀失業減薪惡性循   \n",
       "3       Re:[新聞]中國PMI連3個月萎縮恐釀失業減薪惡性循   \n",
       "4                [創作]浮動在桌面上的PTT追蹤工具   \n",
       "...                             ...   \n",
       "1195               被嘎老師提告，再議駁回（最終回）   \n",
       "1196                  愛莉莎莎現在改走玉女路線？   \n",
       "1197                  大胃王丁丁好像很久沒發片了   \n",
       "1198  MINI VLOG 📷 一天旅遊日常｜永安海螺館、淡水老街   \n",
       "1199                    讓票-炎上王世堅台中場   \n",
       "\n",
       "                                             artContent  \\\n",
       "0     投入資金約100萬左右，扣掉長榮虧損後投報率是45%\\n\\n因為長榮是2021年買的，純看石...   \n",
       "1     小魯我不是高手，今年賺不到千萬，但對高股息ETF還算有點看法，就提出來給你參考一下。\\n\\n...   \n",
       "2     原文標題：中國PMI連3個月萎縮 恐釀失業減薪惡性循環\\n原文連結：\\nhttps://re...   \n",
       "3     多虧了習大大對各行各業的大力整改(ㄉㄚˇ ㄧㄚ)\\n\\n中國經濟將迎來中共執政以來最大的\"高...   \n",
       "4     為了可以隨時看即時推文\\n\\n所以寫了一個可以置頂並隱藏在桌面各個角落看 PTT 的小程式\\...   \n",
       "...                                                 ...   \n",
       "1195  前情提要，還沒看過前面兩篇的可以先去看\\nhttps://www.dcard.tw/f/yo...   \n",
       "1196  真的有一點體會到被炮轟是什麼感覺…\\n但以上我po 的文章都是出自影片沒再多加什麼，底下一堆...   \n",
       "1197  先不管之前什麼大胃王風波\\n坦白說我是看挑戰又不是交朋友\\n不管怎麽說\\n檯面上丁丁應該是目...   \n",
       "1198  2023年的第一支VLOG影片！！\\n\\n趁著元旦假期去了永安漁港的海螺館跟淡水走走\\n沒有...   \n",
       "1199  1/7 19:45 炎上王世堅 台中直播場\\n多一張票以原價 $1000➕手續費$20售出 ...   \n",
       "\n",
       "                                                 artUrl   boardID  \n",
       "0     https://www.ptt.cc/bbs/Stock/M.1704072007.A.D8...     Stock  \n",
       "1     https://www.ptt.cc/bbs/Stock/M.1704075405.A.1C...     Stock  \n",
       "2     https://www.ptt.cc/bbs/Stock/M.1704084710.A.FF...     Stock  \n",
       "3     https://www.ptt.cc/bbs/Stock/M.1704088308.A.59...     Stock  \n",
       "4     https://www.ptt.cc/bbs/Stock/M.1704094303.A.A5...     Stock  \n",
       "...                                                 ...       ...  \n",
       "1195        https://www.dcard.tw/f/youtuber/p/240930827  youtuber  \n",
       "1196        https://www.dcard.tw/f/youtuber/p/240922536  youtuber  \n",
       "1197        https://www.dcard.tw/f/youtuber/p/240922805  youtuber  \n",
       "1198        https://www.dcard.tw/f/youtuber/p/240935538  youtuber  \n",
       "1199        https://www.dcard.tw/f/youtuber/p/240932720  youtuber  \n",
       "\n",
       "[1197 rows x 4 columns]"
      ]
     },
     "execution_count": 183,
     "metadata": {},
     "output_type": "execute_result"
    }
   ],
   "source": [
    "ct = pd.read_csv(\"test_data.csv\")\n",
    "ct.dropna(inplace=True)\n",
    "ct"
   ]
  },
  {
   "cell_type": "code",
   "execution_count": 184,
   "metadata": {},
   "outputs": [
    {
     "data": {
      "text/html": [
       "<div>\n",
       "<style scoped>\n",
       "    .dataframe tbody tr th:only-of-type {\n",
       "        vertical-align: middle;\n",
       "    }\n",
       "\n",
       "    .dataframe tbody tr th {\n",
       "        vertical-align: top;\n",
       "    }\n",
       "\n",
       "    .dataframe thead th {\n",
       "        text-align: right;\n",
       "    }\n",
       "</style>\n",
       "<table border=\"1\" class=\"dataframe\">\n",
       "  <thead>\n",
       "    <tr style=\"text-align: right;\">\n",
       "      <th></th>\n",
       "      <th>content</th>\n",
       "      <th>artUrl</th>\n",
       "      <th>boardID</th>\n",
       "      <th>words</th>\n",
       "    </tr>\n",
       "  </thead>\n",
       "  <tbody>\n",
       "    <tr>\n",
       "      <th>0</th>\n",
       "      <td>[心得]2023石油年報分享投入資金約100萬左右，扣掉長榮虧損後投報率是45%\\n\\n因為...</td>\n",
       "      <td>https://www.ptt.cc/bbs/Stock/M.1704072007.A.D8...</td>\n",
       "      <td>Stock</td>\n",
       "      <td>心得 2023 石油 年報 分享 投入 資金 100 萬左右 扣掉 長榮 虧損 投報 45%...</td>\n",
       "    </tr>\n",
       "    <tr>\n",
       "      <th>1</th>\n",
       "      <td>Re:[請益]高股息ETF變飆股會是常態嗎小魯我不是高手，今年賺不到千萬，但對高股息ETF還...</td>\n",
       "      <td>https://www.ptt.cc/bbs/Stock/M.1704075405.A.1C...</td>\n",
       "      <td>Stock</td>\n",
       "      <td>Re 請益 股息 ETF 變飆 股會 常態 小魯 高手 今年 不到 股息 ETF 還算 有點...</td>\n",
       "    </tr>\n",
       "    <tr>\n",
       "      <th>2</th>\n",
       "      <td>[新聞]中國PMI連3個月萎縮恐釀失業減薪惡性循原文標題：中國PMI連3個月萎縮 恐釀失業減...</td>\n",
       "      <td>https://www.ptt.cc/bbs/Stock/M.1704084710.A.FF...</td>\n",
       "      <td>Stock</td>\n",
       "      <td>新聞 中國 PMI 萎縮 恐釀 失業 減薪 惡性 原文 標題 中國 PMI 萎縮 恐釀 失業...</td>\n",
       "    </tr>\n",
       "    <tr>\n",
       "      <th>3</th>\n",
       "      <td>Re:[新聞]中國PMI連3個月萎縮恐釀失業減薪惡性循多虧了習大大對各行各業的大力整改(ㄉㄚ...</td>\n",
       "      <td>https://www.ptt.cc/bbs/Stock/M.1704088308.A.59...</td>\n",
       "      <td>Stock</td>\n",
       "      <td>Re 新聞 中國 PMI 萎縮 恐釀 失業 減薪 惡性 各行各業 大力 整改 中國 經濟 迎...</td>\n",
       "    </tr>\n",
       "    <tr>\n",
       "      <th>4</th>\n",
       "      <td>[創作]浮動在桌面上的PTT追蹤工具為了可以隨時看即時推文\\n\\n所以寫了一個可以置頂並隱藏...</td>\n",
       "      <td>https://www.ptt.cc/bbs/Stock/M.1704094303.A.A5...</td>\n",
       "      <td>Stock</td>\n",
       "      <td>創作 浮動 桌面上 PTT 追蹤 工具 隨時 即時 推文 置頂 隱藏 桌面 角落 PTT 程...</td>\n",
       "    </tr>\n",
       "  </tbody>\n",
       "</table>\n",
       "</div>"
      ],
      "text/plain": [
       "                                             content  \\\n",
       "0  [心得]2023石油年報分享投入資金約100萬左右，扣掉長榮虧損後投報率是45%\\n\\n因為...   \n",
       "1  Re:[請益]高股息ETF變飆股會是常態嗎小魯我不是高手，今年賺不到千萬，但對高股息ETF還...   \n",
       "2  [新聞]中國PMI連3個月萎縮恐釀失業減薪惡性循原文標題：中國PMI連3個月萎縮 恐釀失業減...   \n",
       "3  Re:[新聞]中國PMI連3個月萎縮恐釀失業減薪惡性循多虧了習大大對各行各業的大力整改(ㄉㄚ...   \n",
       "4  [創作]浮動在桌面上的PTT追蹤工具為了可以隨時看即時推文\\n\\n所以寫了一個可以置頂並隱藏...   \n",
       "\n",
       "                                              artUrl boardID  \\\n",
       "0  https://www.ptt.cc/bbs/Stock/M.1704072007.A.D8...   Stock   \n",
       "1  https://www.ptt.cc/bbs/Stock/M.1704075405.A.1C...   Stock   \n",
       "2  https://www.ptt.cc/bbs/Stock/M.1704084710.A.FF...   Stock   \n",
       "3  https://www.ptt.cc/bbs/Stock/M.1704088308.A.59...   Stock   \n",
       "4  https://www.ptt.cc/bbs/Stock/M.1704094303.A.A5...   Stock   \n",
       "\n",
       "                                               words  \n",
       "0  心得 2023 石油 年報 分享 投入 資金 100 萬左右 扣掉 長榮 虧損 投報 45%...  \n",
       "1  Re 請益 股息 ETF 變飆 股會 常態 小魯 高手 今年 不到 股息 ETF 還算 有點...  \n",
       "2  新聞 中國 PMI 萎縮 恐釀 失業 減薪 惡性 原文 標題 中國 PMI 萎縮 恐釀 失業...  \n",
       "3  Re 新聞 中國 PMI 萎縮 恐釀 失業 減薪 惡性 各行各業 大力 整改 中國 經濟 迎...  \n",
       "4  創作 浮動 桌面上 PTT 追蹤 工具 隨時 即時 推文 置頂 隱藏 桌面 角落 PTT 程...  "
      ]
     },
     "execution_count": 184,
     "metadata": {},
     "output_type": "execute_result"
    }
   ],
   "source": [
    "# 移除網址格式\n",
    "ct[\"artContent\"].str.replace(\"(http|https)://.*\", \"\", regex=True)\n",
    "ct[\"artTitle\"].str.replace(\"(http|https)://.*\", \"\", regex=True)\n",
    "ct[\"artContent\"].str.replace(\"[^\\u4e00-\\u9fa5]+\", \"\", regex=True)\n",
    "ct[\"artTitle\"].str.replace(\"[^\\u4e00-\\u9fa5]+\", \"\", regex=True)\n",
    "\n",
    "# 留下 content\n",
    "ct[\"content\"] = ct[\"artTitle\"] + ct[\"artContent\"]\n",
    "ct = ct.loc[:,[\"content\", \"artUrl\", \"boardID\"]]  # 文章內容 文章連結\n",
    "\n",
    "# 設定斷詞 function\n",
    "def getToken(row):\n",
    "    seg_list = jieba.cut(row, cut_all=False)\n",
    "    seg_list = [\n",
    "        w for w in seg_list if w not in stopWords and len(w) > 1\n",
    "    ]  # 篩選掉停用字與字元數大於1的詞彙\n",
    "    return seg_list\n",
    "\n",
    "ct[\"words\"] = ct[\"content\"].apply(getToken).map(\" \".join)\n",
    "ct.head()"
   ]
  },
  {
   "cell_type": "code",
   "execution_count": 185,
   "metadata": {},
   "outputs": [
    {
     "data": {
      "text/plain": [
       "boardID\n",
       "youtuber    400\n",
       "Stock       399\n",
       "時尚          398\n",
       "Name: count, dtype: int64"
      ]
     },
     "execution_count": 185,
     "metadata": {},
     "output_type": "execute_result"
    }
   ],
   "source": [
    "ct['boardID'].value_counts()"
   ]
  },
  {
   "cell_type": "code",
   "execution_count": 186,
   "metadata": {},
   "outputs": [
    {
     "data": {
      "text/html": [
       "<div>\n",
       "<style scoped>\n",
       "    .dataframe tbody tr th:only-of-type {\n",
       "        vertical-align: middle;\n",
       "    }\n",
       "\n",
       "    .dataframe tbody tr th {\n",
       "        vertical-align: top;\n",
       "    }\n",
       "\n",
       "    .dataframe thead th {\n",
       "        text-align: right;\n",
       "    }\n",
       "</style>\n",
       "<table border=\"1\" class=\"dataframe\">\n",
       "  <thead>\n",
       "    <tr style=\"text-align: right;\">\n",
       "      <th></th>\n",
       "      <th>content</th>\n",
       "      <th>artUrl</th>\n",
       "      <th>boardID</th>\n",
       "      <th>words</th>\n",
       "    </tr>\n",
       "  </thead>\n",
       "  <tbody>\n",
       "    <tr>\n",
       "      <th>0</th>\n",
       "      <td>[心得]2023石油年報分享投入資金約100萬左右，扣掉長榮虧損後投報率是45%\\n\\n因為...</td>\n",
       "      <td>https://www.ptt.cc/bbs/Stock/M.1704072007.A.D8...</td>\n",
       "      <td>Stock</td>\n",
       "      <td>心得 2023 石油 年報 分享 投入 資金 100 萬左右 扣掉 長榮 虧損 投報 45%...</td>\n",
       "    </tr>\n",
       "    <tr>\n",
       "      <th>1</th>\n",
       "      <td>Re:[請益]高股息ETF變飆股會是常態嗎小魯我不是高手，今年賺不到千萬，但對高股息ETF還...</td>\n",
       "      <td>https://www.ptt.cc/bbs/Stock/M.1704075405.A.1C...</td>\n",
       "      <td>Stock</td>\n",
       "      <td>Re 請益 股息 ETF 變飆 股會 常態 小魯 高手 今年 不到 股息 ETF 還算 有點...</td>\n",
       "    </tr>\n",
       "    <tr>\n",
       "      <th>2</th>\n",
       "      <td>[新聞]中國PMI連3個月萎縮恐釀失業減薪惡性循原文標題：中國PMI連3個月萎縮 恐釀失業減...</td>\n",
       "      <td>https://www.ptt.cc/bbs/Stock/M.1704084710.A.FF...</td>\n",
       "      <td>Stock</td>\n",
       "      <td>新聞 中國 PMI 萎縮 恐釀 失業 減薪 惡性 原文 標題 中國 PMI 萎縮 恐釀 失業...</td>\n",
       "    </tr>\n",
       "    <tr>\n",
       "      <th>3</th>\n",
       "      <td>Re:[新聞]中國PMI連3個月萎縮恐釀失業減薪惡性循多虧了習大大對各行各業的大力整改(ㄉㄚ...</td>\n",
       "      <td>https://www.ptt.cc/bbs/Stock/M.1704088308.A.59...</td>\n",
       "      <td>Stock</td>\n",
       "      <td>Re 新聞 中國 PMI 萎縮 恐釀 失業 減薪 惡性 各行各業 大力 整改 中國 經濟 迎...</td>\n",
       "    </tr>\n",
       "    <tr>\n",
       "      <th>4</th>\n",
       "      <td>[創作]浮動在桌面上的PTT追蹤工具為了可以隨時看即時推文\\n\\n所以寫了一個可以置頂並隱藏...</td>\n",
       "      <td>https://www.ptt.cc/bbs/Stock/M.1704094303.A.A5...</td>\n",
       "      <td>Stock</td>\n",
       "      <td>創作 浮動 桌面上 PTT 追蹤 工具 隨時 即時 推文 置頂 隱藏 桌面 角落 PTT 程...</td>\n",
       "    </tr>\n",
       "    <tr>\n",
       "      <th>...</th>\n",
       "      <td>...</td>\n",
       "      <td>...</td>\n",
       "      <td>...</td>\n",
       "      <td>...</td>\n",
       "    </tr>\n",
       "    <tr>\n",
       "      <th>1195</th>\n",
       "      <td>被嘎老師提告，再議駁回（最終回）前情提要，還沒看過前面兩篇的可以先去看\\nhttps://w...</td>\n",
       "      <td>https://www.dcard.tw/f/youtuber/p/240930827</td>\n",
       "      <td>youtuber</td>\n",
       "      <td>老師 提告 再議 駁回 最終 提要 還沒 看過 前面 兩篇 先去 https www dca...</td>\n",
       "    </tr>\n",
       "    <tr>\n",
       "      <th>1196</th>\n",
       "      <td>愛莉莎莎現在改走玉女路線？真的有一點體會到被炮轟是什麼感覺…\\n但以上我po 的文章都是出自...</td>\n",
       "      <td>https://www.dcard.tw/f/youtuber/p/240922536</td>\n",
       "      <td>youtuber</td>\n",
       "      <td>愛莉莎莎 現在 改走 玉女 路線 真的 一點 體會 炮轟 感覺 以上 po 文章 出自 影片...</td>\n",
       "    </tr>\n",
       "    <tr>\n",
       "      <th>1197</th>\n",
       "      <td>大胃王丁丁好像很久沒發片了先不管之前什麼大胃王風波\\n坦白說我是看挑戰又不是交朋友\\n不管怎...</td>\n",
       "      <td>https://www.dcard.tw/f/youtuber/p/240922805</td>\n",
       "      <td>youtuber</td>\n",
       "      <td>大胃 丁丁 好像 很久沒 發片 之前 大胃 風波 坦白說 挑戰 交朋友 檯面 丁丁 應該 目...</td>\n",
       "    </tr>\n",
       "    <tr>\n",
       "      <th>1198</th>\n",
       "      <td>MINI VLOG 📷 一天旅遊日常｜永安海螺館、淡水老街2023年的第一支VLOG影片！！...</td>\n",
       "      <td>https://www.dcard.tw/f/youtuber/p/240935538</td>\n",
       "      <td>youtuber</td>\n",
       "      <td>MINI VLOG 一天 旅遊 日常 永安 海螺 淡水 老街 2023 第一支 VLOG 影...</td>\n",
       "    </tr>\n",
       "    <tr>\n",
       "      <th>1199</th>\n",
       "      <td>讓票-炎上王世堅台中場1/7 19:45 炎上王世堅 台中直播場\\n多一張票以原價 $100...</td>\n",
       "      <td>https://www.dcard.tw/f/youtuber/p/240932720</td>\n",
       "      <td>youtuber</td>\n",
       "      <td>炎上 王世 堅台 中場 19 45 炎上 王世堅 直播 一張 票以 原價 1000 手續費 ...</td>\n",
       "    </tr>\n",
       "  </tbody>\n",
       "</table>\n",
       "<p>1197 rows × 4 columns</p>\n",
       "</div>"
      ],
      "text/plain": [
       "                                                content  \\\n",
       "0     [心得]2023石油年報分享投入資金約100萬左右，扣掉長榮虧損後投報率是45%\\n\\n因為...   \n",
       "1     Re:[請益]高股息ETF變飆股會是常態嗎小魯我不是高手，今年賺不到千萬，但對高股息ETF還...   \n",
       "2     [新聞]中國PMI連3個月萎縮恐釀失業減薪惡性循原文標題：中國PMI連3個月萎縮 恐釀失業減...   \n",
       "3     Re:[新聞]中國PMI連3個月萎縮恐釀失業減薪惡性循多虧了習大大對各行各業的大力整改(ㄉㄚ...   \n",
       "4     [創作]浮動在桌面上的PTT追蹤工具為了可以隨時看即時推文\\n\\n所以寫了一個可以置頂並隱藏...   \n",
       "...                                                 ...   \n",
       "1195  被嘎老師提告，再議駁回（最終回）前情提要，還沒看過前面兩篇的可以先去看\\nhttps://w...   \n",
       "1196  愛莉莎莎現在改走玉女路線？真的有一點體會到被炮轟是什麼感覺…\\n但以上我po 的文章都是出自...   \n",
       "1197  大胃王丁丁好像很久沒發片了先不管之前什麼大胃王風波\\n坦白說我是看挑戰又不是交朋友\\n不管怎...   \n",
       "1198  MINI VLOG 📷 一天旅遊日常｜永安海螺館、淡水老街2023年的第一支VLOG影片！！...   \n",
       "1199  讓票-炎上王世堅台中場1/7 19:45 炎上王世堅 台中直播場\\n多一張票以原價 $100...   \n",
       "\n",
       "                                                 artUrl   boardID  \\\n",
       "0     https://www.ptt.cc/bbs/Stock/M.1704072007.A.D8...     Stock   \n",
       "1     https://www.ptt.cc/bbs/Stock/M.1704075405.A.1C...     Stock   \n",
       "2     https://www.ptt.cc/bbs/Stock/M.1704084710.A.FF...     Stock   \n",
       "3     https://www.ptt.cc/bbs/Stock/M.1704088308.A.59...     Stock   \n",
       "4     https://www.ptt.cc/bbs/Stock/M.1704094303.A.A5...     Stock   \n",
       "...                                                 ...       ...   \n",
       "1195        https://www.dcard.tw/f/youtuber/p/240930827  youtuber   \n",
       "1196        https://www.dcard.tw/f/youtuber/p/240922536  youtuber   \n",
       "1197        https://www.dcard.tw/f/youtuber/p/240922805  youtuber   \n",
       "1198        https://www.dcard.tw/f/youtuber/p/240935538  youtuber   \n",
       "1199        https://www.dcard.tw/f/youtuber/p/240932720  youtuber   \n",
       "\n",
       "                                                  words  \n",
       "0     心得 2023 石油 年報 分享 投入 資金 100 萬左右 扣掉 長榮 虧損 投報 45%...  \n",
       "1     Re 請益 股息 ETF 變飆 股會 常態 小魯 高手 今年 不到 股息 ETF 還算 有點...  \n",
       "2     新聞 中國 PMI 萎縮 恐釀 失業 減薪 惡性 原文 標題 中國 PMI 萎縮 恐釀 失業...  \n",
       "3     Re 新聞 中國 PMI 萎縮 恐釀 失業 減薪 惡性 各行各業 大力 整改 中國 經濟 迎...  \n",
       "4     創作 浮動 桌面上 PTT 追蹤 工具 隨時 即時 推文 置頂 隱藏 桌面 角落 PTT 程...  \n",
       "...                                                 ...  \n",
       "1195  老師 提告 再議 駁回 最終 提要 還沒 看過 前面 兩篇 先去 https www dca...  \n",
       "1196  愛莉莎莎 現在 改走 玉女 路線 真的 一點 體會 炮轟 感覺 以上 po 文章 出自 影片...  \n",
       "1197  大胃 丁丁 好像 很久沒 發片 之前 大胃 風波 坦白說 挑戰 交朋友 檯面 丁丁 應該 目...  \n",
       "1198  MINI VLOG 一天 旅遊 日常 永安 海螺 淡水 老街 2023 第一支 VLOG 影...  \n",
       "1199  炎上 王世 堅台 中場 19 45 炎上 王世堅 直播 一張 票以 原價 1000 手續費 ...  \n",
       "\n",
       "[1197 rows x 4 columns]"
      ]
     },
     "execution_count": 186,
     "metadata": {},
     "output_type": "execute_result"
    }
   ],
   "source": [
    "ct"
   ]
  },
  {
   "cell_type": "code",
   "execution_count": 187,
   "metadata": {},
   "outputs": [
    {
     "name": "stdout",
     "output_type": "stream",
     "text": [
      "              precision    recall  f1-score   support\n",
      "\n",
      "     dressup       0.92      0.54      0.68       398\n",
      "       stock       0.93      0.85      0.89       399\n",
      "    youtuber       0.62      0.94      0.75       400\n",
      "\n",
      "    accuracy                           0.77      1197\n",
      "   macro avg       0.82      0.77      0.77      1197\n",
      "weighted avg       0.82      0.77      0.77      1197\n",
      "\n"
     ]
    },
    {
     "data": {
      "text/plain": [
       "(array([0.5, 1.5, 2.5]),\n",
       " [Text(0, 0.5, 'dressup'), Text(0, 1.5, 'stock'), Text(0, 2.5, 'youtuber')])"
      ]
     },
     "execution_count": 187,
     "metadata": {},
     "output_type": "execute_result"
    },
    {
     "data": {
      "image/png": "[encoded data removed]",
      "text/plain": [
       "<Figure size 640x480 with 1 Axes>"
      ]
     },
     "metadata": {},
     "output_type": "display_data"
    }
   ],
   "source": [
    "mapper = {\"Stock\":\"stock\", \"時尚\":\"dressup\", \"youtuber\":\"youtuber\"}\n",
    "ct['boardID'] = ct['boardID'].map(mapper)\n",
    "\n",
    "X = ct['words']\n",
    "y = ct['boardID']\n",
    "\n",
    "y_pred = model_set[best_model_name].predict(vectorizer.transform(X).toarray())\n",
    "print(classification_report(y, y_pred))\n",
    "\n",
    "    ## Plot confusion matrix\n",
    "cm = confusion_matrix(y, y_pred, labels=classes)\n",
    "fig, ax = plt.subplots()\n",
    "sns.heatmap(cm, annot=True, fmt=\"d\", ax=ax, cmap=plt.cm.Blues, cbar=False)\n",
    "ax.set(\n",
    "    xlabel=\"Pred\",\n",
    "    ylabel=\"True\",\n",
    "    xticklabels=classes,\n",
    "    yticklabels=classes,\n",
    "    title=f\"{best_model_name}\" + \" Confusion matrix\",\n",
    ")\n",
    "plt.yticks(rotation=0)\n"
   ]
  },
  {
   "cell_type": "markdown",
   "metadata": {},
   "source": [
    "### 微妙發現\n",
    "從上面的結果不難看出，在真實穿搭版的資料分類為youtuber版的情況相對較為頻繁，這邊合理猜測部分穿搭版上的資料或多或少跟youtuber有所相關，使得分類穿搭版時有所混淆。"
   ]
  },
  {
   "cell_type": "code",
   "execution_count": 188,
   "metadata": {},
   "outputs": [
    {
     "data": {
      "text/html": [
       "<div>\n",
       "<style scoped>\n",
       "    .dataframe tbody tr th:only-of-type {\n",
       "        vertical-align: middle;\n",
       "    }\n",
       "\n",
       "    .dataframe tbody tr th {\n",
       "        vertical-align: top;\n",
       "    }\n",
       "\n",
       "    .dataframe thead th {\n",
       "        text-align: right;\n",
       "    }\n",
       "</style>\n",
       "<table border=\"1\" class=\"dataframe\">\n",
       "  <thead>\n",
       "    <tr style=\"text-align: right;\">\n",
       "      <th></th>\n",
       "      <th>words</th>\n",
       "      <th>boardID</th>\n",
       "      <th>pred</th>\n",
       "    </tr>\n",
       "  </thead>\n",
       "  <tbody>\n",
       "    <tr>\n",
       "      <th>0</th>\n",
       "      <td>心得 2023 石油 年報 分享 投入 資金 100 萬左右 扣掉 長榮 虧損 投報 45%...</td>\n",
       "      <td>stock</td>\n",
       "      <td>stock</td>\n",
       "    </tr>\n",
       "    <tr>\n",
       "      <th>1</th>\n",
       "      <td>Re 請益 股息 ETF 變飆 股會 常態 小魯 高手 今年 不到 股息 ETF 還算 有點...</td>\n",
       "      <td>stock</td>\n",
       "      <td>stock</td>\n",
       "    </tr>\n",
       "    <tr>\n",
       "      <th>2</th>\n",
       "      <td>新聞 中國 PMI 萎縮 恐釀 失業 減薪 惡性 原文 標題 中國 PMI 萎縮 恐釀 失業...</td>\n",
       "      <td>stock</td>\n",
       "      <td>stock</td>\n",
       "    </tr>\n",
       "    <tr>\n",
       "      <th>3</th>\n",
       "      <td>Re 新聞 中國 PMI 萎縮 恐釀 失業 減薪 惡性 各行各業 大力 整改 中國 經濟 迎...</td>\n",
       "      <td>stock</td>\n",
       "      <td>youtuber</td>\n",
       "    </tr>\n",
       "    <tr>\n",
       "      <th>4</th>\n",
       "      <td>創作 浮動 桌面上 PTT 追蹤 工具 隨時 即時 推文 置頂 隱藏 桌面 角落 PTT 程...</td>\n",
       "      <td>stock</td>\n",
       "      <td>stock</td>\n",
       "    </tr>\n",
       "    <tr>\n",
       "      <th>...</th>\n",
       "      <td>...</td>\n",
       "      <td>...</td>\n",
       "      <td>...</td>\n",
       "    </tr>\n",
       "    <tr>\n",
       "      <th>1195</th>\n",
       "      <td>老師 提告 再議 駁回 最終 提要 還沒 看過 前面 兩篇 先去 https www dca...</td>\n",
       "      <td>youtuber</td>\n",
       "      <td>youtuber</td>\n",
       "    </tr>\n",
       "    <tr>\n",
       "      <th>1196</th>\n",
       "      <td>愛莉莎莎 現在 改走 玉女 路線 真的 一點 體會 炮轟 感覺 以上 po 文章 出自 影片...</td>\n",
       "      <td>youtuber</td>\n",
       "      <td>youtuber</td>\n",
       "    </tr>\n",
       "    <tr>\n",
       "      <th>1197</th>\n",
       "      <td>大胃 丁丁 好像 很久沒 發片 之前 大胃 風波 坦白說 挑戰 交朋友 檯面 丁丁 應該 目...</td>\n",
       "      <td>youtuber</td>\n",
       "      <td>youtuber</td>\n",
       "    </tr>\n",
       "    <tr>\n",
       "      <th>1198</th>\n",
       "      <td>MINI VLOG 一天 旅遊 日常 永安 海螺 淡水 老街 2023 第一支 VLOG 影...</td>\n",
       "      <td>youtuber</td>\n",
       "      <td>youtuber</td>\n",
       "    </tr>\n",
       "    <tr>\n",
       "      <th>1199</th>\n",
       "      <td>炎上 王世 堅台 中場 19 45 炎上 王世堅 直播 一張 票以 原價 1000 手續費 ...</td>\n",
       "      <td>youtuber</td>\n",
       "      <td>youtuber</td>\n",
       "    </tr>\n",
       "  </tbody>\n",
       "</table>\n",
       "<p>1197 rows × 3 columns</p>\n",
       "</div>"
      ],
      "text/plain": [
       "                                                  words   boardID      pred\n",
       "0     心得 2023 石油 年報 分享 投入 資金 100 萬左右 扣掉 長榮 虧損 投報 45%...     stock     stock\n",
       "1     Re 請益 股息 ETF 變飆 股會 常態 小魯 高手 今年 不到 股息 ETF 還算 有點...     stock     stock\n",
       "2     新聞 中國 PMI 萎縮 恐釀 失業 減薪 惡性 原文 標題 中國 PMI 萎縮 恐釀 失業...     stock     stock\n",
       "3     Re 新聞 中國 PMI 萎縮 恐釀 失業 減薪 惡性 各行各業 大力 整改 中國 經濟 迎...     stock  youtuber\n",
       "4     創作 浮動 桌面上 PTT 追蹤 工具 隨時 即時 推文 置頂 隱藏 桌面 角落 PTT 程...     stock     stock\n",
       "...                                                 ...       ...       ...\n",
       "1195  老師 提告 再議 駁回 最終 提要 還沒 看過 前面 兩篇 先去 https www dca...  youtuber  youtuber\n",
       "1196  愛莉莎莎 現在 改走 玉女 路線 真的 一點 體會 炮轟 感覺 以上 po 文章 出自 影片...  youtuber  youtuber\n",
       "1197  大胃 丁丁 好像 很久沒 發片 之前 大胃 風波 坦白說 挑戰 交朋友 檯面 丁丁 應該 目...  youtuber  youtuber\n",
       "1198  MINI VLOG 一天 旅遊 日常 永安 海螺 淡水 老街 2023 第一支 VLOG 影...  youtuber  youtuber\n",
       "1199  炎上 王世 堅台 中場 19 45 炎上 王世堅 直播 一張 票以 原價 1000 手續費 ...  youtuber  youtuber\n",
       "\n",
       "[1197 rows x 3 columns]"
      ]
     },
     "execution_count": 188,
     "metadata": {},
     "output_type": "execute_result"
    }
   ],
   "source": [
    "ct['pred'] = y_pred\n",
    "ct.loc[:,['words', 'boardID',\"pred\"]]"
   ]
  },
  {
   "cell_type": "code",
   "execution_count": 189,
   "metadata": {},
   "outputs": [
    {
     "data": {
      "text/html": [
       "<div>\n",
       "<style scoped>\n",
       "    .dataframe tbody tr th:only-of-type {\n",
       "        vertical-align: middle;\n",
       "    }\n",
       "\n",
       "    .dataframe tbody tr th {\n",
       "        vertical-align: top;\n",
       "    }\n",
       "\n",
       "    .dataframe thead th {\n",
       "        text-align: right;\n",
       "    }\n",
       "</style>\n",
       "<table border=\"1\" class=\"dataframe\">\n",
       "  <thead>\n",
       "    <tr style=\"text-align: right;\">\n",
       "      <th></th>\n",
       "      <th>words</th>\n",
       "      <th>boardID</th>\n",
       "      <th>pred</th>\n",
       "    </tr>\n",
       "  </thead>\n",
       "  <tbody>\n",
       "    <tr>\n",
       "      <th>3</th>\n",
       "      <td>Re 新聞 中國 PMI 萎縮 恐釀 失業 減薪 惡性 各行各業 大力 整改 中國 經濟 迎...</td>\n",
       "      <td>stock</td>\n",
       "      <td>youtuber</td>\n",
       "    </tr>\n",
       "    <tr>\n",
       "      <th>5</th>\n",
       "      <td>新聞 日本 石川 7.6 強震 最大 震度 氣象廳 原文 標題 日本 石川 7.6 強震 最...</td>\n",
       "      <td>stock</td>\n",
       "      <td>youtuber</td>\n",
       "    </tr>\n",
       "    <tr>\n",
       "      <th>15</th>\n",
       "      <td>心得 股版 vs 房版 過去 兩年 累計 房價 漲幅 房網 房價 統計 202312 對比 ...</td>\n",
       "      <td>stock</td>\n",
       "      <td>youtuber</td>\n",
       "    </tr>\n",
       "    <tr>\n",
       "      <th>31</th>\n",
       "      <td>新聞 美國 新規 生效 多款 電動車 失去 稅收 抵免 資格 原文 標題 美國 電池 採購 ...</td>\n",
       "      <td>stock</td>\n",
       "      <td>youtuber</td>\n",
       "    </tr>\n",
       "    <tr>\n",
       "      <th>35</th>\n",
       "      <td>Re 心得 股版 vs 房版 房板 十幾年 房版 一種 股版 完全 特性 房版 真正 超有 ...</td>\n",
       "      <td>stock</td>\n",
       "      <td>youtuber</td>\n",
       "    </tr>\n",
       "    <tr>\n",
       "      <th>...</th>\n",
       "      <td>...</td>\n",
       "      <td>...</td>\n",
       "      <td>...</td>\n",
       "    </tr>\n",
       "    <tr>\n",
       "      <th>1082</th>\n",
       "      <td>推薦 youtuber 請問 一下 有沒有 平常 推薦 YouTuber 運動 吃播 感謝</td>\n",
       "      <td>youtuber</td>\n",
       "      <td>dressup</td>\n",
       "    </tr>\n",
       "    <tr>\n",
       "      <th>1097</th>\n",
       "      <td>艾莉莎莎 買房 系列 艾莉莎莎 裝潢 匠氣 評論 風格 剛剛 發了 以下 文章 底下 酸民 ...</td>\n",
       "      <td>youtuber</td>\n",
       "      <td>dressup</td>\n",
       "    </tr>\n",
       "    <tr>\n",
       "      <th>1101</th>\n",
       "      <td>覺得 艾莉莎莎 新家 風格 https imgur com l3Z9UhO jpg http...</td>\n",
       "      <td>youtuber</td>\n",
       "      <td>dressup</td>\n",
       "    </tr>\n",
       "    <tr>\n",
       "      <th>1156</th>\n",
       "      <td>勾惡 幫主 分享 台南 議會 黑金 賄選 內幕 真的 看吧 https www youtub...</td>\n",
       "      <td>youtuber</td>\n",
       "      <td>dressup</td>\n",
       "    </tr>\n",
       "    <tr>\n",
       "      <th>1181</th>\n",
       "      <td>Re 董事長 鄭雅勻 篇文章 轉貼 文章 更新 最新 版本 觀看 完整 內容</td>\n",
       "      <td>youtuber</td>\n",
       "      <td>dressup</td>\n",
       "    </tr>\n",
       "  </tbody>\n",
       "</table>\n",
       "<p>271 rows × 3 columns</p>\n",
       "</div>"
      ],
      "text/plain": [
       "                                                  words   boardID      pred\n",
       "3     Re 新聞 中國 PMI 萎縮 恐釀 失業 減薪 惡性 各行各業 大力 整改 中國 經濟 迎...     stock  youtuber\n",
       "5     新聞 日本 石川 7.6 強震 最大 震度 氣象廳 原文 標題 日本 石川 7.6 強震 最...     stock  youtuber\n",
       "15    心得 股版 vs 房版 過去 兩年 累計 房價 漲幅 房網 房價 統計 202312 對比 ...     stock  youtuber\n",
       "31    新聞 美國 新規 生效 多款 電動車 失去 稅收 抵免 資格 原文 標題 美國 電池 採購 ...     stock  youtuber\n",
       "35    Re 心得 股版 vs 房版 房板 十幾年 房版 一種 股版 完全 特性 房版 真正 超有 ...     stock  youtuber\n",
       "...                                                 ...       ...       ...\n",
       "1082      推薦 youtuber 請問 一下 有沒有 平常 推薦 YouTuber 運動 吃播 感謝  youtuber   dressup\n",
       "1097  艾莉莎莎 買房 系列 艾莉莎莎 裝潢 匠氣 評論 風格 剛剛 發了 以下 文章 底下 酸民 ...  youtuber   dressup\n",
       "1101  覺得 艾莉莎莎 新家 風格 https imgur com l3Z9UhO jpg http...  youtuber   dressup\n",
       "1156  勾惡 幫主 分享 台南 議會 黑金 賄選 內幕 真的 看吧 https www youtub...  youtuber   dressup\n",
       "1181             Re 董事長 鄭雅勻 篇文章 轉貼 文章 更新 最新 版本 觀看 完整 內容  youtuber   dressup\n",
       "\n",
       "[271 rows x 3 columns]"
      ]
     },
     "execution_count": 189,
     "metadata": {},
     "output_type": "execute_result"
    }
   ],
   "source": [
    "false_pred = ct.query(\"boardID != pred\").loc[:,['words', 'boardID',\"pred\"]]\n",
    "false_pred"
   ]
  },
  {
   "cell_type": "code",
   "execution_count": 190,
   "metadata": {},
   "outputs": [
    {
     "data": {
      "text/html": [
       "<div>\n",
       "<style scoped>\n",
       "    .dataframe tbody tr th:only-of-type {\n",
       "        vertical-align: middle;\n",
       "    }\n",
       "\n",
       "    .dataframe tbody tr th {\n",
       "        vertical-align: top;\n",
       "    }\n",
       "\n",
       "    .dataframe thead th {\n",
       "        text-align: right;\n",
       "    }\n",
       "</style>\n",
       "<table border=\"1\" class=\"dataframe\">\n",
       "  <thead>\n",
       "    <tr style=\"text-align: right;\">\n",
       "      <th></th>\n",
       "      <th>words</th>\n",
       "      <th>boardID</th>\n",
       "      <th>pred</th>\n",
       "    </tr>\n",
       "  </thead>\n",
       "  <tbody>\n",
       "    <tr>\n",
       "      <th>808</th>\n",
       "      <td>YT premium 湊團 被刪 嗚嗚 加進來 五名 目前 兩位 https line me...</td>\n",
       "      <td>youtuber</td>\n",
       "      <td>stock</td>\n",
       "    </tr>\n",
       "    <tr>\n",
       "      <th>822</th>\n",
       "      <td>MyBagLand EP.7 第一顆 COACH 專櫃 包包 開箱 Bag Unboxing...</td>\n",
       "      <td>youtuber</td>\n",
       "      <td>dressup</td>\n",
       "    </tr>\n",
       "    <tr>\n",
       "      <th>832</th>\n",
       "      <td>2023 阿嘟 之夜 布萊克 薛薛 旺兔 順利 聯歡 派對 之後 臨時 讓給</td>\n",
       "      <td>youtuber</td>\n",
       "      <td>stock</td>\n",
       "    </tr>\n",
       "    <tr>\n",
       "      <th>845</th>\n",
       "      <td>艾莉莎莎 買房 系列 持續 更新 買房 系列 持續 更新 中因 點說 實在話 第一 大辣辣 ...</td>\n",
       "      <td>youtuber</td>\n",
       "      <td>dressup</td>\n",
       "    </tr>\n",
       "    <tr>\n",
       "      <th>847</th>\n",
       "      <td>艾莉莎莎 買房 系列 持續 更新 買房 系列 持續 更新 中因 點說 實在話 第一 大辣辣 ...</td>\n",
       "      <td>youtuber</td>\n",
       "      <td>dressup</td>\n",
       "    </tr>\n",
       "    <tr>\n",
       "      <th>864</th>\n",
       "      <td>這是 VW 篇文章 轉貼 文章 更新 最新 版本 觀看 完整 內容</td>\n",
       "      <td>youtuber</td>\n",
       "      <td>dressup</td>\n",
       "    </tr>\n",
       "    <tr>\n",
       "      <th>866</th>\n",
       "      <td>蔡阿嘎 歐陽 妮妮 同框 https imgur com ToJ0rQi jpg https...</td>\n",
       "      <td>youtuber</td>\n",
       "      <td>dressup</td>\n",
       "    </tr>\n",
       "    <tr>\n",
       "      <th>880</th>\n",
       "      <td>德州 公路 旅行 VLOG Austin San Antonio Road Trip Moz...</td>\n",
       "      <td>youtuber</td>\n",
       "      <td>stock</td>\n",
       "    </tr>\n",
       "    <tr>\n",
       "      <th>883</th>\n",
       "      <td>黃金 傑洛 戰鬥 分享 轉載 https youtu be S7kU5 QhLbs</td>\n",
       "      <td>youtuber</td>\n",
       "      <td>stock</td>\n",
       "    </tr>\n",
       "    <tr>\n",
       "      <th>893</th>\n",
       "      <td>WEEKLY VLOG in Dallas 萬聖節 派對 BLACKPINK 演唱會 Pan...</td>\n",
       "      <td>youtuber</td>\n",
       "      <td>dressup</td>\n",
       "    </tr>\n",
       "    <tr>\n",
       "      <th>894</th>\n",
       "      <td>神似 一隻 阿圓 https imgur com fZQu5QV jpg https img...</td>\n",
       "      <td>youtuber</td>\n",
       "      <td>dressup</td>\n",
       "    </tr>\n",
       "    <tr>\n",
       "      <th>908</th>\n",
       "      <td>國動 大談 重考 篇文章 轉貼 文章 更新 最新 版本 觀看 完整 內容</td>\n",
       "      <td>youtuber</td>\n",
       "      <td>dressup</td>\n",
       "    </tr>\n",
       "    <tr>\n",
       "      <th>935</th>\n",
       "      <td>Joeman 篇文章 轉貼 文章 更新 最新 版本 觀看 完整 內容</td>\n",
       "      <td>youtuber</td>\n",
       "      <td>dressup</td>\n",
       "    </tr>\n",
       "    <tr>\n",
       "      <th>945</th>\n",
       "      <td>艾莉莎莎 買房 系列 我會 持續 更新 點說 實在話 第一 大辣辣 裝潢 匠氣 第二 一種 ...</td>\n",
       "      <td>youtuber</td>\n",
       "      <td>dressup</td>\n",
       "    </tr>\n",
       "    <tr>\n",
       "      <th>963</th>\n",
       "      <td>嘎嫂 二伯 二伯 超級 漂亮 聰明 賢慧 阿嘎 上輩子 積超 陰德 二伯 有夠 羨慕 hah...</td>\n",
       "      <td>youtuber</td>\n",
       "      <td>dressup</td>\n",
       "    </tr>\n",
       "    <tr>\n",
       "      <th>1009</th>\n",
       "      <td>小提琴 自學 孫盛希 Shi Shi 眼淚 記得 Remembered 想見 電影 主題曲 ...</td>\n",
       "      <td>youtuber</td>\n",
       "      <td>stock</td>\n",
       "    </tr>\n",
       "    <tr>\n",
       "      <th>1012</th>\n",
       "      <td>峰哥 每天 有事 https youtu be gUQT0BPBxLY</td>\n",
       "      <td>youtuber</td>\n",
       "      <td>stock</td>\n",
       "    </tr>\n",
       "    <tr>\n",
       "      <th>1036</th>\n",
       "      <td>竹北 租屋 Room Tour 木質 色系 套房 CP 開箱 Room Tour 木質 色系...</td>\n",
       "      <td>youtuber</td>\n",
       "      <td>dressup</td>\n",
       "    </tr>\n",
       "    <tr>\n",
       "      <th>1041</th>\n",
       "      <td>分享 一本 絕世武功 傳授 比武 大會 輸入 秘籍 編號 018682934 一起 稱霸 武...</td>\n",
       "      <td>youtuber</td>\n",
       "      <td>stock</td>\n",
       "    </tr>\n",
       "    <tr>\n",
       "      <th>1051</th>\n",
       "      <td>想要 找人 YouTube premium 在校 徵求 youtube 會員 請問 這裡 徵人</td>\n",
       "      <td>youtuber</td>\n",
       "      <td>dressup</td>\n",
       "    </tr>\n",
       "    <tr>\n",
       "      <th>1067</th>\n",
       "      <td>詢問 小吳 長針 推薦 眼藥水 一款 日本 放在 精選 完全 不到 有效 想問 有人 記得</td>\n",
       "      <td>youtuber</td>\n",
       "      <td>dressup</td>\n",
       "    </tr>\n",
       "    <tr>\n",
       "      <th>1082</th>\n",
       "      <td>推薦 youtuber 請問 一下 有沒有 平常 推薦 YouTuber 運動 吃播 感謝</td>\n",
       "      <td>youtuber</td>\n",
       "      <td>dressup</td>\n",
       "    </tr>\n",
       "    <tr>\n",
       "      <th>1097</th>\n",
       "      <td>艾莉莎莎 買房 系列 艾莉莎莎 裝潢 匠氣 評論 風格 剛剛 發了 以下 文章 底下 酸民 ...</td>\n",
       "      <td>youtuber</td>\n",
       "      <td>dressup</td>\n",
       "    </tr>\n",
       "    <tr>\n",
       "      <th>1101</th>\n",
       "      <td>覺得 艾莉莎莎 新家 風格 https imgur com l3Z9UhO jpg http...</td>\n",
       "      <td>youtuber</td>\n",
       "      <td>dressup</td>\n",
       "    </tr>\n",
       "    <tr>\n",
       "      <th>1156</th>\n",
       "      <td>勾惡 幫主 分享 台南 議會 黑金 賄選 內幕 真的 看吧 https www youtub...</td>\n",
       "      <td>youtuber</td>\n",
       "      <td>dressup</td>\n",
       "    </tr>\n",
       "    <tr>\n",
       "      <th>1181</th>\n",
       "      <td>Re 董事長 鄭雅勻 篇文章 轉貼 文章 更新 最新 版本 觀看 完整 內容</td>\n",
       "      <td>youtuber</td>\n",
       "      <td>dressup</td>\n",
       "    </tr>\n",
       "  </tbody>\n",
       "</table>\n",
       "</div>"
      ],
      "text/plain": [
       "                                                  words   boardID     pred\n",
       "808   YT premium 湊團 被刪 嗚嗚 加進來 五名 目前 兩位 https line me...  youtuber    stock\n",
       "822   MyBagLand EP.7 第一顆 COACH 專櫃 包包 開箱 Bag Unboxing...  youtuber  dressup\n",
       "832              2023 阿嘟 之夜 布萊克 薛薛 旺兔 順利 聯歡 派對 之後 臨時 讓給  youtuber    stock\n",
       "845   艾莉莎莎 買房 系列 持續 更新 買房 系列 持續 更新 中因 點說 實在話 第一 大辣辣 ...  youtuber  dressup\n",
       "847   艾莉莎莎 買房 系列 持續 更新 買房 系列 持續 更新 中因 點說 實在話 第一 大辣辣 ...  youtuber  dressup\n",
       "864                   這是 VW 篇文章 轉貼 文章 更新 最新 版本 觀看 完整 內容  youtuber  dressup\n",
       "866   蔡阿嘎 歐陽 妮妮 同框 https imgur com ToJ0rQi jpg https...  youtuber  dressup\n",
       "880   德州 公路 旅行 VLOG Austin San Antonio Road Trip Moz...  youtuber    stock\n",
       "883           黃金 傑洛 戰鬥 分享 轉載 https youtu be S7kU5 QhLbs  youtuber    stock\n",
       "893   WEEKLY VLOG in Dallas 萬聖節 派對 BLACKPINK 演唱會 Pan...  youtuber  dressup\n",
       "894   神似 一隻 阿圓 https imgur com fZQu5QV jpg https img...  youtuber  dressup\n",
       "908                國動 大談 重考 篇文章 轉貼 文章 更新 最新 版本 觀看 完整 內容  youtuber  dressup\n",
       "935                  Joeman 篇文章 轉貼 文章 更新 最新 版本 觀看 完整 內容  youtuber  dressup\n",
       "945   艾莉莎莎 買房 系列 我會 持續 更新 點說 實在話 第一 大辣辣 裝潢 匠氣 第二 一種 ...  youtuber  dressup\n",
       "963   嘎嫂 二伯 二伯 超級 漂亮 聰明 賢慧 阿嘎 上輩子 積超 陰德 二伯 有夠 羨慕 hah...  youtuber  dressup\n",
       "1009  小提琴 自學 孫盛希 Shi Shi 眼淚 記得 Remembered 想見 電影 主題曲 ...  youtuber    stock\n",
       "1012                峰哥 每天 有事 https youtu be gUQT0BPBxLY  youtuber    stock\n",
       "1036  竹北 租屋 Room Tour 木質 色系 套房 CP 開箱 Room Tour 木質 色系...  youtuber  dressup\n",
       "1041  分享 一本 絕世武功 傳授 比武 大會 輸入 秘籍 編號 018682934 一起 稱霸 武...  youtuber    stock\n",
       "1051    想要 找人 YouTube premium 在校 徵求 youtube 會員 請問 這裡 徵人  youtuber  dressup\n",
       "1067      詢問 小吳 長針 推薦 眼藥水 一款 日本 放在 精選 完全 不到 有效 想問 有人 記得  youtuber  dressup\n",
       "1082      推薦 youtuber 請問 一下 有沒有 平常 推薦 YouTuber 運動 吃播 感謝  youtuber  dressup\n",
       "1097  艾莉莎莎 買房 系列 艾莉莎莎 裝潢 匠氣 評論 風格 剛剛 發了 以下 文章 底下 酸民 ...  youtuber  dressup\n",
       "1101  覺得 艾莉莎莎 新家 風格 https imgur com l3Z9UhO jpg http...  youtuber  dressup\n",
       "1156  勾惡 幫主 分享 台南 議會 黑金 賄選 內幕 真的 看吧 https www youtub...  youtuber  dressup\n",
       "1181             Re 董事長 鄭雅勻 篇文章 轉貼 文章 更新 最新 版本 觀看 完整 內容  youtuber  dressup"
      ]
     },
     "execution_count": 190,
     "metadata": {},
     "output_type": "execute_result"
    }
   ],
   "source": [
    "\n",
    "\n",
    "\n",
    "false_pred.loc[false_pred['boardID']=='youtuber', :].head(50)"
   ]
  },
  {
   "cell_type": "code",
   "execution_count": 191,
   "metadata": {},
   "outputs": [
    {
     "data": {
      "text/plain": [
       "words      白頭髮 現在 白髮 東西 多種 染髮 泡泡 補色 .... 最近 看到 有用 調理 染髮 凝...\n",
       "boardID                                              dressup\n",
       "pred                                                youtuber\n",
       "Name: 531, dtype: object"
      ]
     },
     "execution_count": 191,
     "metadata": {},
     "output_type": "execute_result"
    }
   ],
   "source": [
    "false_pred.loc[531, :]"
   ]
  },
  {
   "cell_type": "code",
   "execution_count": 192,
   "metadata": {},
   "outputs": [
    {
     "name": "stdout",
     "output_type": "stream",
     "text": [
      "('白頭髮 現在 白髮 東西 多種 染髮 泡泡 補色 .... 最近 看到 有用 調理 染髮 凝露 方便 回家 目前 染髮 很快 確實 顏色 慢慢 洗上去 '\n",
      " '一點點 溫和 那種 洗完 頭皮 刺刺 癢癢 感覺 觀察 看看 繼續 效果 用過 染髮 凝露 多不多 習慣 白頭髮')\n"
     ]
    }
   ],
   "source": [
    "pprint(false_pred['words'][531])"
   ]
  }
 ],
 "metadata": {
  "kernelspec": {
   "display_name": "Python 3",
   "language": "python",
   "name": "python3"
  },
  "language_info": {
   "codemirror_mode": {
    "name": "ipython",
    "version": 3
   },
   "file_extension": ".py",
   "mimetype": "text/x-python",
   "name": "python",
   "nbconvert_exporter": "python",
   "pygments_lexer": "ipython3",
   "version": "3.10.6"
  }
 },
 "nbformat": 4,
 "nbformat_minor": 4
}
