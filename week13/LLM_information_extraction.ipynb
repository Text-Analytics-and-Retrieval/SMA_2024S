{
 "cells": [
  {
   "cell_type": "markdown",
   "metadata": {},
   "source": [
    "# 第十三週：LLM Information Extraction\n",
    "本周課程為「LLM Information Extraction」，主要會使用到 Langchian 套件與 HuggingFace 模型來實作\n",
    "1. Open LLM Inference\n",
    "2. Prompt Engineering\n",
    "3. Information Extraction(Sentiment classification, NER)"
   ]
  },
  {
   "cell_type": "markdown",
   "metadata": {},
   "source": [
    "### 大綱：\n",
    "1. LLM inference 基本範例\n",
    "    * Langchian 介紹\n",
    "      * Chain\n",
    "        * LCEL (LangChain Expression Language)\n",
    "        * RunnableSequence\n",
    "        * RunnableParallel\n",
    "      * Prompt templete\n",
    "        * PromptTemplate\n",
    "        * ChatPromptTemplate\n",
    "          * System prompt\n",
    "          * User prompt\n",
    "      * Output parser\n",
    "    * Inference\n",
    "\n",
    "2. Prompt engineering\n",
    "    * Few-shot\n",
    "    * CoT\n",
    "    * Self-consistency\n",
    "\n",
    "3. 資料集實作 Information Extraction (Tagging)\n",
    "    * 句子情緒判別 Sentiment Classification (Positive, Neutral, Negative)\n",
    "    * NER\n",
    "\n",
    "4. Retrieve QA (RAG)\n",
    "    * 學校選課規範"
   ]
  },
  {
   "cell_type": "markdown",
   "metadata": {},
   "source": [
    "# 參考資料\n",
    "- https://python.langchain.com/docs/integrations/llms/huggingface_endpoint/"
   ]
  },
  {
   "cell_type": "markdown",
   "metadata": {},
   "source": [
    "# 套件安裝"
   ]
  },
  {
   "cell_type": "code",
   "execution_count": 177,
   "metadata": {},
   "outputs": [],
   "source": [
    "# !pip install sentence-transformers\n",
    "# !pip install langchain-chroma\n",
    "# !pip install pypdf\n",
    "# !pip install langchain\n",
    "# !pip install huggingface_hub\n",
    "# !pip install grandalf\n",
    "# !pip install pandas"
   ]
  },
  {
   "cell_type": "code",
   "execution_count": 276,
   "metadata": {},
   "outputs": [],
   "source": [
    "import os\n",
    "from getpass import getpass\n",
    "\n",
    "import pandas as pd\n",
    "import ast\n",
    "import json\n",
    "import re\n",
    "\n",
    "from langchain_community.llms import HuggingFaceEndpoint\n",
    "\n",
    "from langchain_core.prompts import PromptTemplate\n",
    "from langchain_core.prompts import ChatPromptTemplate\n",
    "\n",
    "from langchain_core.runnables import RunnablePassthrough\n",
    "from langchain_core.runnables import RunnableParallel\n",
    "from langchain_core.runnables import RunnableLambda\n",
    "\n",
    "from langchain_core.output_parsers import JsonOutputParser\n",
    "from langchain_core.pydantic_v1 import BaseModel, Field\n",
    "\n",
    "from langchain_community.document_loaders import PyPDFLoader\n",
    "from langchain_text_splitters import RecursiveCharacterTextSplitter\n",
    "from langchain_chroma import Chroma\n",
    "from langchain_community.embeddings.sentence_transformer import (\n",
    "    SentenceTransformerEmbeddings,\n",
    ")"
   ]
  },
  {
   "cell_type": "markdown",
   "metadata": {},
   "source": [
    "# 連線 Google Drive"
   ]
  },
  {
   "cell_type": "code",
   "execution_count": null,
   "metadata": {},
   "outputs": [],
   "source": [
    "# import os\n",
    "\n",
    "# from google.colab import drive\n",
    "# drive.mount('/content/drive')\n",
    "\n",
    "# os.chdir('你的雲端資料夾路徑') #切換該目錄\n",
    "# os.listdir() #確認目錄內容"
   ]
  },
  {
   "cell_type": "markdown",
   "metadata": {},
   "source": [
    "# HuggingFace Token"
   ]
  },
  {
   "cell_type": "markdown",
   "metadata": {},
   "source": [
    "輸入 HuggingFace Token\n",
    "- get a token: https://huggingface.co/docs/api-inference/quicktour#get-your-api-token"
   ]
  },
  {
   "cell_type": "code",
   "execution_count": 7,
   "metadata": {},
   "outputs": [],
   "source": [
    "HUGGINGFACEHUB_API_TOKEN = getpass()\n",
    "os.environ[\"HUGGINGFACEHUB_API_TOKEN\"] = HUGGINGFACEHUB_API_TOKEN"
   ]
  },
  {
   "cell_type": "markdown",
   "metadata": {},
   "source": [
    "本範例使用 gemma 7b instruct 版本\n",
    "- huggingface: https://huggingface.co/google/gemma-1.1-7b-it"
   ]
  },
  {
   "cell_type": "code",
   "execution_count": 51,
   "metadata": {},
   "outputs": [],
   "source": [
    "# 使用的模型 huggingface ID\n",
    "repo_id = \"google/gemma-1.1-7b-it\""
   ]
  },
  {
   "cell_type": "markdown",
   "metadata": {},
   "source": [
    "# 1. LLM inference 基本範例"
   ]
  },
  {
   "cell_type": "markdown",
   "metadata": {},
   "source": [
    "## Langchian 介紹\n",
    "- 專門用來開發語言模型(Language Model)相關應用的框架(framework)\n",
    "- 讓開發者整合不同的語言模型，開發像 ChatGPT, 聊天機器人、數位助理等等應用程式\n",
    "\n",
    "<img src=\"https://python.langchain.com/v0.1/svg/langchain_stack.svg\" width=\"50%\"><img src=\"https://wangwei1237.github.io/2023/09/20/Introduction-to-LangChain/langchain.png\" width=\"50%\">\n",
    "- **LangChain Libraries LangChain**: 相關的功能與 API 等等，支援 Python 與 JavaScript\n",
    "- **LangChain Templates**: 一些常見的 LangChain 模板(templates)，讓開發者可以套用，省去重新開發的成本\n",
    "- **LangServe**: 可以將 LangChain 的 chain 開發成 REST API 的部件\n",
    "- **LangSmith**: 讓開發者對語言模型進行測試、評估、除錯、監控等行為的 1 個平台\n"
   ]
  },
  {
   "cell_type": "markdown",
   "metadata": {},
   "source": [
    "### 基本詢問"
   ]
  },
  {
   "cell_type": "code",
   "execution_count": 144,
   "metadata": {},
   "outputs": [
    {
     "name": "stderr",
     "output_type": "stream",
     "text": [
      "WARNING! token is not default parameter.\n",
      "                    token was transferred to model_kwargs.\n",
      "                    Please make sure that token is what you intended.\n"
     ]
    },
    {
     "name": "stdout",
     "output_type": "stream",
     "text": [
      "The token has not been saved to the git credentials helper. Pass `add_to_git_credential=True` in this function directly or `--add-to-git-credential` if using via `huggingface-cli` if you want to set the git credential as well.\n",
      "Token is valid (permission: read).\n",
      "Your token has been saved to /home/zchenchen1999/.cache/huggingface/token\n",
      "Login successful\n"
     ]
    },
    {
     "data": {
      "text/plain": [
       "'\\n\\n周杰倫是**一位台灣流行音樂歌手和詞曲作家**。他以其獨特的曲風和詞曲而聞名，並被譽為**「現代流行音樂的代表人物」**。'"
      ]
     },
     "execution_count": 144,
     "metadata": {},
     "output_type": "execute_result"
    }
   ],
   "source": [
    "# repo_id: HuggingFace 上的模型名稱\n",
    "# temperature: 模型回答的活潑程度，0~1 越大每次回答的多樣性越高\n",
    "\n",
    "llm = HuggingFaceEndpoint(\n",
    "    repo_id=repo_id, temperature=0.7, cache=False, token=HUGGINGFACEHUB_API_TOKEN\n",
    ")\n",
    "llm.invoke(\"請問周杰倫是誰？\")"
   ]
  },
  {
   "attachments": {
    "image.png": {
     "image/png": "[encoded data removed]"
    }
   },
   "cell_type": "markdown",
   "metadata": {},
   "source": [
    "### Chain\n",
    "- LCEL (LangChain Expression Language)\n",
    "    - 官網介紹：https://python.langchain.com/v0.1/docs/expression_language/why/\n",
    "    - Langchain 說明：LCEL 可以讓我們更簡單的開發複雜的 chain 應用，可以支援：Streaming, Parallelism, logging。\n",
    "    - 為了簡單化，LCEL 有兩的主要功能\n",
    "        1. 統一的協定(Protocol)：所有的 LCEL object 都要遵照 Runnable interface，簡單來說都要包含以下方法，來讓多個 LCEL object 之間可以 chain(鏈結起來):\n",
    "            1. invoke (支援單一輸入、單一輸出）\n",
    "            2. batch (支援多個輸入、多個輸出）\n",
    "            3. stream (支援有部分結果就輸出的模式)\n",
    "            4. ainvoke (async 版本的 invoke)\n",
    "            5. abatch (async 版本的 batch)\n",
    "            6. astream (async 版本的 stream)\n",
    "            \n",
    "            - LCEL object:\n",
    "                ![image.png](attachment:image.png)\n",
    "            \n",
    "            - 詳細定義：\n",
    "                1. https://api.python.langchain.com/en/stable/runnables/langchain_core.runnables.base.Runnable.html#langchain_core.runnables.base.Runnable\n",
    "                2. https://python.langchain.com/v0.1/docs/expression_language/interface/\n",
    "        2. 組合語言：讓 chain 的組合更容易\n",
    "            - 提供不同元件組合的功能，使用 \"|\" 將不同元件串在一起，例如：prompt | llm\n",
    "- Chain 精神\n",
    "    - 可重複執行\n",
    "    - 可自由組合\n",
    "    - 有兩種主要的型態\n",
    "        1. RunnableSequence: 依序執行每個 Runnable\n",
    "        2. RunnableParallel: 同時執行 Runnable"
   ]
  },
  {
   "cell_type": "markdown",
   "metadata": {},
   "source": [
    "#### RunnableSequence\n",
    "- 依序執行每個 Runnable\n",
    "- 使用 \"|\" 連結"
   ]
  },
  {
   "cell_type": "code",
   "execution_count": 65,
   "metadata": {},
   "outputs": [
    {
     "data": {
      "text/plain": [
       "StringPromptValue(text='你是一位聰明的 AI 助手，將會幫使用者解答以下問題: 請問如何選擇晚餐要吃什麼？')"
      ]
     },
     "execution_count": 65,
     "metadata": {},
     "output_type": "execute_result"
    }
   ],
   "source": [
    "template = \"\"\"你是一位聰明的 AI 助手，將會幫使用者解答以下問題: {question}\"\"\"\n",
    "\n",
    "prompt = PromptTemplate.from_template(template)\n",
    "\n",
    "prompt_output = prompt.invoke({\"question\": '請問如何選擇晚餐要吃什麼？'})\n",
    "prompt_output"
   ]
  },
  {
   "cell_type": "code",
   "execution_count": 66,
   "metadata": {},
   "outputs": [
    {
     "name": "stdout",
     "output_type": "stream",
     "text": [
      "text='你是一位聰明的 AI 助手，將會幫使用者解答以下問題: 請問如何選擇晚餐要吃什麼？'\n"
     ]
    },
    {
     "data": {
      "text/plain": [
       "'\\n\\n晚餐選擇可以根據個人喜好和營養需求進行。以下是一些建議：\\n\\n* **考慮個人喜好:** 你喜歡什麼？你對哪種食物感到滿意？\\n* **考慮營養需求:** 你需要攝入多少碳水化合物、蛋白質和脂肪？\\n* **考慮飲食習慣:** 你是否有任何飲食限制或偏好？\\n* **考慮時間和材料:** 你有幾分鐘時間準備晚餐？你有什麼食材在手？\\n\\n**根據以上建議，如何選擇晚餐要吃什麼？**\\n\\n**步驟 1：考慮個人喜好**\\n\\n* 列出你喜歡的美食和食物類型。\\n* 考慮你對哪種食物感到滿意。\\n\\n**步驟 2：考慮營養需求**\\n\\n* 確定你的碳水化合物、蛋白質和脂肪需求。\\n* 選擇含有這些營養素的食物。\\n\\n**步驟 3：考慮飲食習慣**\\n\\n* 列出任何飲食限制或偏好。\\n* 選擇適合你的食物。\\n\\n**步驟 4：考慮時間和材料**\\n\\n* 考慮你有幾分鐘時間準備晚餐。\\n* 考慮你有哪些食材在手。\\n\\n**步驟 5：結合所有因素**\\n\\n* 將所有因素考慮起來，選擇適合你的晚餐。'"
      ]
     },
     "execution_count": 66,
     "metadata": {},
     "output_type": "execute_result"
    }
   ],
   "source": [
    "print(prompt_output)\n",
    "llm_output = llm.invoke(prompt_output)\n",
    "llm_output"
   ]
  },
  {
   "cell_type": "code",
   "execution_count": 71,
   "metadata": {},
   "outputs": [
    {
     "data": {
      "text/plain": [
       "'\\n\\n**解答：**\\n\\n日式料理因其獨特的香氣和風味而著稱。日式料理以鮮度高、風味鮮豔的食材著稱，並以簡潔、精緻的烹飪技術著稱。日式料理的風味非常豐富，從鮮香的魚肉到香氣濃郁的香料。總之，日式料理好吃。'"
      ]
     },
     "execution_count": 71,
     "metadata": {},
     "output_type": "execute_result"
    }
   ],
   "source": [
    "# RunnablePassthrough: 可以不變的傳遞整個 input\n",
    "\n",
    "template = \"\"\"你是一位聰明的 AI 助手，將會幫使用者解答以下問題: {question}\"\"\"\n",
    "\n",
    "prompt = PromptTemplate.from_template(template)\n",
    "\n",
    "chain = (\n",
    "    {\"question\": RunnablePassthrough()} \n",
    "    | prompt\n",
    "    | llm\n",
    ")\n",
    "chain.invoke(\"日式料理好吃嗎？\")"
   ]
  },
  {
   "cell_type": "markdown",
   "metadata": {},
   "source": [
    "#### RunnableParallel"
   ]
  },
  {
   "cell_type": "code",
   "execution_count": 78,
   "metadata": {},
   "outputs": [
    {
     "name": "stdout",
     "output_type": "stream",
     "text": [
      "{'runnable_1': 2, 'runnable_2': '\\n\\n**解答：2**\\n\\n乘法運算的結果為 1 * 2 = 2。'}\n"
     ]
    }
   ],
   "source": [
    "def add_one(value: dict) -> int:\n",
    "    return value['x'] * value['y']\n",
    "\n",
    "template = \"\"\"你是一位數學家，將會幫使用者解答以下數學問題: {x}*{y}?\"\"\"\n",
    "prompt = PromptTemplate.from_template(template)\n",
    "\n",
    "runnable_1 = RunnableLambda(add_one)\n",
    "runnable_2 = (\n",
    "    RunnablePassthrough() \n",
    "    | prompt\n",
    "    | llm\n",
    ")\n",
    "\n",
    "parallel = {\"runnable_1\": runnable_1, \"runnable_2\": runnable_2}\n",
    "\n",
    "chain = RunnableLambda(lambda x: x) | parallel\n",
    "answer = chain.invoke({'x':1, 'y':2})\n",
    "\n",
    "print(answer)"
   ]
  },
  {
   "cell_type": "code",
   "execution_count": 82,
   "metadata": {},
   "outputs": [
    {
     "data": {
      "text/plain": [
       "{'ground_truth': 12, 'LLM': '\\n\\n**答案：**\\n\\n3 * 4 = 12。'}"
      ]
     },
     "execution_count": 82,
     "metadata": {},
     "output_type": "execute_result"
    }
   ],
   "source": [
    "chain = RunnableParallel(ground_truth=runnable_1, LLM=runnable_2)\n",
    "chain.invoke({'x':3, 'y':4})"
   ]
  },
  {
   "cell_type": "markdown",
   "metadata": {},
   "source": [
    "### Prompt templete\n",
    "- 官網：https://python.langchain.com/v0.1/docs/modules/model_io/prompts/quick_start/\n",
    "- Prompt templete 可以預先定義一個要輸入給 LLM 的文字模板\n",
    "- Langchian 提供了建立 prompt templete 的工具\n",
    "- 通常有兩種型態：\n",
    "    1. PromptTemplate: string\n",
    "    2. ChatPromptTemplate: list of chat messages （適用 chat model: A chat model is a language model that uses chat messages as inputs and returns chat messages as outputs (as opposed to using plain text).）"
   ]
  },
  {
   "cell_type": "markdown",
   "metadata": {},
   "source": [
    "#### PromptTemplate: string"
   ]
  },
  {
   "cell_type": "code",
   "execution_count": 104,
   "metadata": {},
   "outputs": [
    {
     "name": "stdout",
     "output_type": "stream",
     "text": [
      "{'title': 'PromptInput', 'type': 'object', 'properties': {'question': {'title': 'Question', 'type': 'string'}}}\n"
     ]
    },
    {
     "data": {
      "text/plain": [
       "\"Question: Who won the FIFA World Cup in the year 1994? \\n\\nAnswer: Let's think step by step.\""
      ]
     },
     "execution_count": 104,
     "metadata": {},
     "output_type": "execute_result"
    }
   ],
   "source": [
    "template = \"\"\"Question: {question}\n",
    "\n",
    "Answer: Let's think step by step.\"\"\"\n",
    "\n",
    "prompt_template = PromptTemplate.from_template(template)\n",
    "\n",
    "# 可以透過 .input_schema.schema() 查看 templete 有哪一些變數需要輸入\n",
    "print(prompt_template.input_schema.schema())\n",
    "\n",
    "# format 可以將變數輸入進去後查看完整的 prompt 長相\n",
    "prompt_template.format(question=\"Who won the FIFA World Cup in the year 1994? \")"
   ]
  },
  {
   "cell_type": "code",
   "execution_count": 111,
   "metadata": {},
   "outputs": [
    {
     "name": "stdout",
     "output_type": "stream",
     "text": [
      "text=\"Question: Who won the FIFA World Cup in the year 1994? \\n\\nAnswer: Let's think step by step.\"\n"
     ]
    },
    {
     "data": {
      "text/plain": [
       "\"Question: Who won the FIFA World Cup in the year 1994? \\n\\nAnswer: Let's think step by step.\""
      ]
     },
     "execution_count": 111,
     "metadata": {},
     "output_type": "execute_result"
    }
   ],
   "source": [
    "# PromptTemplate 也是 implement Runnable interface，所以一樣可以使用 invoke\n",
    "prompt = prompt_template.invoke({\"question\": \"Who won the FIFA World Cup in the year 1994? \"})\n",
    "print(prompt)\n",
    "prompt.to_string()"
   ]
  },
  {
   "cell_type": "markdown",
   "metadata": {},
   "source": [
    "#### ChatPromptTemplate: list of chat messages\n",
    "- 內容為 chat message，當中有 \"role\" 角色的概念，讓 LLM 了解內容是什麼角色說的\n",
    "- system: 這個role負責的是類似系統設定的文字提示，例如跟 LLM 說他是一個工程師，接下來要請他用他的專業寫 code；或是跟 LLM 說他是一個厲害的數學家，要請他用他的專業解題。\n",
    "- user: 使用者說的話，例如問 LLM 的問題。"
   ]
  },
  {
   "cell_type": "code",
   "execution_count": 106,
   "metadata": {},
   "outputs": [
    {
     "name": "stdout",
     "output_type": "stream",
     "text": [
      "{'title': 'PromptInput', 'type': 'object', 'properties': {'name': {'title': 'Name', 'type': 'string'}, 'user_input': {'title': 'User Input', 'type': 'string'}}}\n"
     ]
    },
    {
     "data": {
      "text/plain": [
       "[SystemMessage(content='You are a helpful AI bot. Your name is Bob.'),\n",
       " HumanMessage(content='Hello, how are you doing?'),\n",
       " AIMessage(content=\"I'm doing well, thanks!\"),\n",
       " HumanMessage(content='What is your name?')]"
      ]
     },
     "execution_count": 106,
     "metadata": {},
     "output_type": "execute_result"
    }
   ],
   "source": [
    "chat_template = ChatPromptTemplate.from_messages(\n",
    "    [\n",
    "        (\"system\", \"You are a helpful AI bot. Your name is {name}.\"),\n",
    "        (\"human\", \"Hello, how are you doing?\"),\n",
    "        (\"ai\", \"I'm doing well, thanks!\"),\n",
    "        (\"human\", \"{user_input}\"),\n",
    "    ]\n",
    ")\n",
    "print(chat_template.input_schema.schema())\n",
    "messages = chat_template.format_messages(name=\"Bob\", user_input=\"What is your name?\")\n",
    "messages"
   ]
  },
  {
   "cell_type": "code",
   "execution_count": 110,
   "metadata": {},
   "outputs": [
    {
     "name": "stdout",
     "output_type": "stream",
     "text": [
      "messages=[SystemMessage(content='You are a helpful AI bot. Your name is Bob.'), HumanMessage(content='Hello, how are you doing?'), AIMessage(content=\"I'm doing well, thanks!\"), HumanMessage(content='What is your name?')]\n"
     ]
    },
    {
     "data": {
      "text/plain": [
       "\"Question: Who won the FIFA World Cup in the year 1994? \\n\\nAnswer: Let's think step by step.\""
      ]
     },
     "execution_count": 110,
     "metadata": {},
     "output_type": "execute_result"
    }
   ],
   "source": [
    "chat_prompt = chat_template.invoke({\"name\": \"Bob\", \"user_input\":\"What is your name?\"})\n",
    "print(chat_prompt)\n",
    "prompt.to_string()"
   ]
  },
  {
   "cell_type": "markdown",
   "metadata": {},
   "source": [
    "Tips: 因為 {} 在 prompt templete 中代表變數輸入的位置，如果在文字中有需要用到大括號，請使用 \"{{\" 及 \"}}\""
   ]
  },
  {
   "cell_type": "markdown",
   "metadata": {},
   "source": [
    "### Output Parser\n",
    "- 官網：https://python.langchain.com/v0.1/docs/modules/model_io/output_parsers/\n",
    "- Output Parser 目的是要讓 LLM 生成的內容符合特定格式，例如：JSON, list, YAML 等\n",
    "- Tips: LLM 生成式模型無法 100% 照著想要輸出的格式走，在使用時也要考慮到模型的能力。"
   ]
  },
  {
   "cell_type": "markdown",
   "metadata": {},
   "source": [
    "以 JSON 為例"
   ]
  },
  {
   "cell_type": "code",
   "execution_count": 120,
   "metadata": {},
   "outputs": [
    {
     "data": {
      "text/plain": [
       "'The output should be formatted as a JSON instance that conforms to the JSON schema below.\\n\\nAs an example, for the schema {\"properties\": {\"foo\": {\"title\": \"Foo\", \"description\": \"a list of strings\", \"type\": \"array\", \"items\": {\"type\": \"string\"}}}, \"required\": [\"foo\"]}\\nthe object {\"foo\": [\"bar\", \"baz\"]} is a well-formatted instance of the schema. The object {\"properties\": {\"foo\": [\"bar\", \"baz\"]}} is not well-formatted.\\n\\nHere is the output schema:\\n```\\n{\"properties\": {\"setup\": {\"title\": \"Setup\", \"description\": \"question to set up a joke\", \"type\": \"string\"}, \"punchline\": {\"title\": \"Punchline\", \"description\": \"answer to resolve the joke\", \"type\": \"string\"}}, \"required\": [\"setup\", \"punchline\"]}\\n```'"
      ]
     },
     "execution_count": 120,
     "metadata": {},
     "output_type": "execute_result"
    }
   ],
   "source": [
    "# 使用 Pydantic 來宣告資料型態\n",
    "# Define your desired data structure.\n",
    "class Joke(BaseModel):\n",
    "    setup: str = Field(description=\"question to set up a joke\")\n",
    "    punchline: str = Field(description=\"answer to resolve the joke\")\n",
    "\n",
    "parser = JsonOutputParser(pydantic_object=Joke)\n",
    "\n",
    "# 透過 get_format_instructions() 可以看到如何告訴 LLM 生成我們想要的格式的一些指令\n",
    "parser.get_format_instructions()"
   ]
  },
  {
   "cell_type": "code",
   "execution_count": 135,
   "metadata": {},
   "outputs": [],
   "source": [
    "# And a query intented to prompt a language model to populate the data structure.\n",
    "joke_query = \"Tell me a joke.\"\n",
    "\n",
    "# Set up a parser + inject instructions into the prompt template.\n",
    "parser = JsonOutputParser(pydantic_object=Joke)\n",
    "\n",
    "prompt = PromptTemplate(\n",
    "    template=\"Answer the user query.\\n{format_instructions}\\n\\n{query}\\n\",\n",
    "    # template=\"Answer the user query.\\n{format_instructions}\\nDon't output any other explanation\\n{query}\\n\",\n",
    "    input_variables=[\"query\"],\n",
    "    # 將 format_instructions 也輸入到 prompt templete 中\n",
    "    partial_variables={\"format_instructions\": parser.get_format_instructions()},\n",
    ")\n",
    "\n",
    "chain = prompt | llm | parser\n",
    "\n",
    "answer = chain.invoke({\"query\": joke_query})"
   ]
  },
  {
   "cell_type": "code",
   "execution_count": 136,
   "metadata": {},
   "outputs": [
    {
     "name": "stdout",
     "output_type": "stream",
     "text": [
      "{'setup': 'What did the golfer say when he lost his club?', 'punchline': \"I can't seem to iron this out!\"}\n",
      "What did the golfer say when he lost his club?\n",
      "I can't seem to iron this out!\n"
     ]
    }
   ],
   "source": [
    "print(answer)\n",
    "print(answer[\"setup\"])\n",
    "print(answer[\"punchline\"])"
   ]
  },
  {
   "cell_type": "code",
   "execution_count": 140,
   "metadata": {},
   "outputs": [
    {
     "name": "stdout",
     "output_type": "stream",
     "text": [
      "      +-------------+      \n",
      "      | PromptInput |      \n",
      "      +-------------+      \n",
      "             *             \n",
      "             *             \n",
      "             *             \n",
      "    +----------------+     \n",
      "    | PromptTemplate |     \n",
      "    +----------------+     \n",
      "             *             \n",
      "             *             \n",
      "             *             \n",
      "  +---------------------+  \n",
      "  | HuggingFaceEndpoint |  \n",
      "  +---------------------+  \n",
      "             *             \n",
      "             *             \n",
      "             *             \n",
      "   +------------------+    \n",
      "   | JsonOutputParser |    \n",
      "   +------------------+    \n",
      "             *             \n",
      "             *             \n",
      "             *             \n",
      "+------------------------+ \n",
      "| JsonOutputParserOutput | \n",
      "+------------------------+ \n"
     ]
    }
   ],
   "source": [
    "# 查看 chain 架構\n",
    "chain.get_graph().print_ascii()"
   ]
  },
  {
   "cell_type": "markdown",
   "metadata": {},
   "source": [
    "# 2. Prompt engineering\n",
    "- Prompt 的設計有很大程度會影響 LLM 的輸出，甚至影響 LLM 整體能力，以下會介紹幾個常用的 prompt 技巧\n",
    "    1. Few-shot\n",
    "    2. Chain of thought(CoT)\n",
    "    3. Self-consistency"
   ]
  },
  {
   "cell_type": "markdown",
   "metadata": {},
   "source": [
    "<start_of_turn>user\n",
    "Answer the following question in a concise and informative manner:\n",
    " \n",
    "Explain why the sky is blue<end_of_turn>\n",
    "<start_of_turn>model"
   ]
  },
  {
   "cell_type": "code",
   "execution_count": 172,
   "metadata": {},
   "outputs": [
    {
     "data": {
      "text/plain": [
       "'**50歲**\\n\\n**解法：**\\n\\n1. 設我現在的年齡為x歲。\\n2. 那麼我姐姐在六歲時比我大x/2歲。\\n3. 因此，我姐姐現在的年齡為x + x/2 = 3x/2歲。\\n4. 因為我現在70歲，所以：\\n   3x/2 = 70\\n5. 解出x，得到：\\n   x = 70 * 2/3 = 46.67歲。\\n\\n因此，我姐姐現在有**46.67歲**。'"
      ]
     },
     "execution_count": 172,
     "metadata": {},
     "output_type": "execute_result"
    }
   ],
   "source": [
    "template = \"\"\"<start_of_turn>user\n",
    "你是一位數學家，將會幫助回答數學問題。\n",
    "\n",
    "問題：{question}<end_of_turn>\n",
    "<start_of_turn>model\n",
    "答案：\"\"\"\n",
    "\n",
    "prompt = PromptTemplate.from_template(template)\n",
    "\n",
    "chain = (\n",
    "    {\"question\": RunnablePassthrough()} \n",
    "    | prompt\n",
    "    | llm\n",
    ")\n",
    "chain.invoke(\"當我六歲的時候，我姐姐的年齡只有我的一半。 現在我70歲了，我姐姐幾歲了？\")"
   ]
  },
  {
   "cell_type": "markdown",
   "metadata": {},
   "source": [
    "## Few-shot"
   ]
  },
  {
   "cell_type": "code",
   "execution_count": 173,
   "metadata": {},
   "outputs": [
    {
     "data": {
      "text/plain": [
       "'65歲\\n\\n解析：\\n\\n假設六歲時的姐姐的年齡為x歲。\\n則：x = (70-6)/2 = 65歲。'"
      ]
     },
     "execution_count": 173,
     "metadata": {},
     "output_type": "execute_result"
    }
   ],
   "source": [
    "template = \"\"\"<start_of_turn>user\n",
    "你是一位數學家，將會幫助回答數學問題。\n",
    "\n",
    "以下為一些例子：\n",
    "```\n",
    "問題：當我九歲的時候，我弟弟的年齡是我的三分之二。現在我54歲了，我弟弟幾歲了？\n",
    "答案：51歲\n",
    "\n",
    "問題：當我八歲的時候，我妹妹的年齡是我的四分之一。現在我48歲了，我妹妹幾歲了？\n",
    "答案：42歲\n",
    "```\n",
    "\n",
    "現在請回答以下問題\n",
    "問題：{question}<end_of_turn>\n",
    "<start_of_turn>model\n",
    "答案：\"\"\"\n",
    "\n",
    "prompt = PromptTemplate.from_template(template)\n",
    "\n",
    "chain = (\n",
    "    {\"question\": RunnablePassthrough()} \n",
    "    | prompt\n",
    "    | llm\n",
    ")\n",
    "chain.invoke(\"當我六歲的時候，我姐姐的年齡只有我的一半。 現在我70歲了，我姐姐幾歲了？\")"
   ]
  },
  {
   "cell_type": "markdown",
   "metadata": {},
   "source": [
    "## Chain of thought(CoT)"
   ]
  },
  {
   "cell_type": "code",
   "execution_count": 174,
   "metadata": {},
   "outputs": [
    {
     "data": {
      "text/plain": [
       "'\\n\\n我們一步一步來計算。\\n\\n當你六歲的時候，你姐姐的年齡是你的半：\\n\\n你6歲時，你姐姐是 6/2 = 3歲。\\n現在你70歲了：\\n\\n你比當時大了64歲（70 - 6 = 64）。\\n因此，你姐姐現在也比當時大了64歲。\\n計算你姐姐的年齡：\\n\\n你姐姐當時3歲，現在她比當時大64歲，所以她現在是3 + 64 = 67歲。\\n\\n所以，你姐姐現在67歲。'"
      ]
     },
     "execution_count": 174,
     "metadata": {},
     "output_type": "execute_result"
    }
   ],
   "source": [
    "template = \"\"\"<start_of_turn>user\n",
    "你是一位數學家，將會幫助回答數學問題。\n",
    "\n",
    "以下為一些例子：\n",
    "```\n",
    "例子1:\n",
    "問題：當我九歲的時候，我弟弟的年齡是我的三分之二。現在我54歲了，我弟弟幾歲了？\n",
    "答案：我們一步一步來計算。\n",
    "\n",
    "當你九歲的時候，你弟弟的年齡是你的三分之二：\n",
    "\n",
    "你9歲時，你弟弟是 9x(2/3) = 6歲。\n",
    "現在你54歲了：\n",
    "\n",
    "你比當時大了45歲（54 - 9 = 45）。\n",
    "因此，你弟弟現在也比當時大了45歲。\n",
    "計算你弟弟的年齡：\n",
    "\n",
    "你弟弟當時6歲，現在他比當時大45歲，所以他現在是6 + 45 = 51歲。\n",
    "所以，你弟弟現在51歲。\n",
    "\n",
    "\n",
    "例子2:\n",
    "問題：當我八歲的時候，我妹妹的年齡是我的四分之一。現在我48歲了，我妹妹有一個比她小18歲的女兒。她的女兒幾歲了？\n",
    "答案：\n",
    "我們一步一步來計算。\n",
    "\n",
    "當你八歲的時候，你妹妹的年齡是你的四分之一：\n",
    "\n",
    "你8歲時，你妹妹是 8*(1/4)=2 歲。\n",
    "現在你48歲了：\n",
    "\n",
    "你比當時大了40歲（48 - 8 = 40）。\n",
    "因此，你妹妹現在也比當時大了40歲。\n",
    "計算你妹妹的年齡：\n",
    "\n",
    "你妹妹當時2歲，現在她比當時大40歲，所以她現在是2 + 40 = 42歲。\n",
    "```\n",
    "\n",
    "現在請回答以下問題\n",
    "問題：{question}<end_of_turn>\n",
    "<start_of_turn>model\n",
    "答案：\"\"\"\n",
    "\n",
    "prompt = PromptTemplate.from_template(template)\n",
    "\n",
    "chain = (\n",
    "    {\"question\": RunnablePassthrough()} \n",
    "    | prompt\n",
    "    | llm\n",
    ")\n",
    "chain.invoke(\"當我六歲的時候，我姐姐的年齡只有我的一半。 現在我70歲了，我姐姐有一個比她小25歲的兒子。 她兒子幾歲了？\")"
   ]
  },
  {
   "cell_type": "markdown",
   "metadata": {},
   "source": [
    "## Self-consistency"
   ]
  },
  {
   "cell_type": "code",
   "execution_count": null,
   "metadata": {},
   "outputs": [],
   "source": [
    "template = \"\"\"<start_of_turn>user\n",
    "你是一位數學家，將會幫助回答數學問題。\n",
    "\n",
    "以下為一些例子：\n",
    "```\n",
    "例子1:\n",
    "問題：當我九歲的時候，我弟弟的年齡是我的三分之二。現在我54歲了，我弟弟幾歲了？\n",
    "答案：我們一步一步來計算。\n",
    "\n",
    "當你九歲的時候，你弟弟的年齡是你的三分之二：\n",
    "\n",
    "你9歲時，你弟弟是 9x(2/3) = 6歲。\n",
    "現在你54歲了：\n",
    "\n",
    "你比當時大了45歲（54 - 9 = 45）。\n",
    "因此，你弟弟現在也比當時大了45歲。\n",
    "計算你弟弟的年齡：\n",
    "\n",
    "你弟弟當時6歲，現在他比當時大45歲，所以他現在是6 + 45 = 51歲。\n",
    "所以，你弟弟現在51歲。\n",
    "\n",
    "\n",
    "例子2:\n",
    "問題：當我八歲的時候，我妹妹的年齡是我的四分之一。現在我48歲了，我妹妹有一個比她小18歲的女兒。她的女兒幾歲了？\n",
    "答案：\n",
    "我們一步一步來計算。\n",
    "\n",
    "當你八歲的時候，你妹妹的年齡是你的四分之一：\n",
    "\n",
    "你8歲時，你妹妹是 8*(1/4)=2 歲。\n",
    "現在你48歲了：\n",
    "\n",
    "你比當時大了40歲（48 - 8 = 40）。\n",
    "因此，你妹妹現在也比當時大了40歲。\n",
    "計算你妹妹的年齡：\n",
    "\n",
    "你妹妹當時2歲，現在她比當時大40歲，所以她現在是2 + 40 = 42歲。\n",
    "```\n",
    "\n",
    "現在請回答以下問題\n",
    "問題：{question}<end_of_turn>\n",
    "<start_of_turn>model\n",
    "答案：\"\"\"\n",
    "\n",
    "prompt = PromptTemplate.from_template(template)\n",
    "\n",
    "chain = (\n",
    "    {\"question\": RunnablePassthrough()} \n",
    "    | prompt\n",
    "    | llm\n",
    ")\n",
    "chain.invoke(\"當我六歲的時候，我姐姐的年齡只有我的一半。 現在我70歲了，我姐姐有一個比她小25歲的兒子。 她兒子幾歲了？\")"
   ]
  },
  {
   "cell_type": "markdown",
   "metadata": {},
   "source": [
    "# 3. 資料集實作 Information Extraction (Tagging)\n",
    "- https://python.langchain.com/docs/use_cases/tagging/"
   ]
  },
  {
   "cell_type": "code",
   "execution_count": 292,
   "metadata": {},
   "outputs": [
    {
     "data": {
      "text/html": [
       "<div>\n",
       "<style scoped>\n",
       "    .dataframe tbody tr th:only-of-type {\n",
       "        vertical-align: middle;\n",
       "    }\n",
       "\n",
       "    .dataframe tbody tr th {\n",
       "        vertical-align: top;\n",
       "    }\n",
       "\n",
       "    .dataframe thead th {\n",
       "        text-align: right;\n",
       "    }\n",
       "</style>\n",
       "<table border=\"1\" class=\"dataframe\">\n",
       "  <thead>\n",
       "    <tr style=\"text-align: right;\">\n",
       "      <th></th>\n",
       "      <th>artUrl</th>\n",
       "      <th>artTitle</th>\n",
       "      <th>artDate</th>\n",
       "      <th>artContent</th>\n",
       "      <th>sentence</th>\n",
       "    </tr>\n",
       "  </thead>\n",
       "  <tbody>\n",
       "    <tr>\n",
       "      <th>56752</th>\n",
       "      <td>https://www.ptt.cc/bbs/Food/M.1621703754.A.932...</td>\n",
       "      <td>[廣宣]高雄漢來大飯店防疫便當外帶便當</td>\n",
       "      <td>2021-05-23</td>\n",
       "      <td>餐廳名稱：漢來大飯店 防疫便當\\n   消費時間：2021年05月\\n   店家地址：高雄市...</td>\n",
       "      <td>可能也不道地</td>\n",
       "    </tr>\n",
       "    <tr>\n",
       "      <th>27235</th>\n",
       "      <td>https://www.ptt.cc/bbs/Food/M.1598437938.A.19C...</td>\n",
       "      <td>[情報]2020台北米其林餐盤推薦90間懶人包總整</td>\n",
       "      <td>2020-08-26</td>\n",
       "      <td>餐飲名稱：2020台北米其林餐盤推薦餐廳 (共90間)\\n\\n   ============...</td>\n",
       "      <td>以年年都攻下米其林三星的頤宮為例 (圖片節自米其林官方網站)</td>\n",
       "    </tr>\n",
       "    <tr>\n",
       "      <th>40751</th>\n",
       "      <td>https://www.ptt.cc/bbs/Food/M.1609600749.A.0D6...</td>\n",
       "      <td>[食記]台北市信義區ATT4FUN海底撈一個人攻略</td>\n",
       "      <td>2021-01-02</td>\n",
       "      <td>餐廳名稱：海底撈火鍋\\n   消費時間：2020年/12月\\n   地址：110台北市信義區...</td>\n",
       "      <td>不過搭配辣粉配著吃很好吃</td>\n",
       "    </tr>\n",
       "    <tr>\n",
       "      <th>40672</th>\n",
       "      <td>https://www.ptt.cc/bbs/Food/M.1609600749.A.0D6...</td>\n",
       "      <td>[食記]台北市信義區ATT4FUN海底撈一個人攻略</td>\n",
       "      <td>2021-01-02</td>\n",
       "      <td>餐廳名稱：海底撈火鍋\\n   消費時間：2020年/12月\\n   地址：110台北市信義區...</td>\n",
       "      <td>結果吃來吃去</td>\n",
       "    </tr>\n",
       "    <tr>\n",
       "      <th>227</th>\n",
       "      <td>https://www.ptt.cc/bbs/Food/M.1578125940.A.9AA...</td>\n",
       "      <td>[食記]長榮皇璽桂冠艙飛機餐SEA-TPE聖誕好運</td>\n",
       "      <td>2020-01-04</td>\n",
       "      <td>店名：長榮皇璽桂冠艙飛機餐\\n   地址：無\\n   電話：無\\n   營業時間：依機艙供餐...</td>\n",
       "      <td>再醒過來的時候已經要吃早餐了</td>\n",
       "    </tr>\n",
       "    <tr>\n",
       "      <th>...</th>\n",
       "      <td>...</td>\n",
       "      <td>...</td>\n",
       "      <td>...</td>\n",
       "      <td>...</td>\n",
       "      <td>...</td>\n",
       "    </tr>\n",
       "    <tr>\n",
       "      <th>36449</th>\n",
       "      <td>https://www.ptt.cc/bbs/Food/M.1605741098.A.40E...</td>\n",
       "      <td>[食記]台南松井田精緻火鍋24小時營業小火鍋</td>\n",
       "      <td>2020-11-19</td>\n",
       "      <td>餐廳名稱：松井田精緻火鍋\\n   消費時間：2020年/11月\\n   地址：台南市中西區金...</td>\n",
       "      <td>白飯也是內用吃到飽</td>\n",
       "    </tr>\n",
       "    <tr>\n",
       "      <th>44516</th>\n",
       "      <td>https://www.ptt.cc/bbs/Food/M.1612104676.A.649...</td>\n",
       "      <td>[食記]台中中西區逐鹿炭火燒肉燒肉吃到飽</td>\n",
       "      <td>2021-01-31</td>\n",
       "      <td>餐廳名稱：逐鹿炭火燒肉\\n   消費時間：2021年/01月\\n   地址：台南市中西區環河...</td>\n",
       "      <td>前面排隊要領車的人也是因為吃逐鹿被拖吊</td>\n",
       "    </tr>\n",
       "    <tr>\n",
       "      <th>54392</th>\n",
       "      <td>https://www.ptt.cc/bbs/Food/M.1618760532.A.E29...</td>\n",
       "      <td>[食記]高雄上官木桶鍋平實不貴的雙人套餐</td>\n",
       "      <td>2021-04-18</td>\n",
       "      <td>餐廳名稱：上官木桶鍋 高雄裕誠加盟店 （源自蘆洲正官）\\n   消費時間：2021年01月\\...</td>\n",
       "      <td>當時的價格是五顆生蠔210元</td>\n",
       "    </tr>\n",
       "    <tr>\n",
       "      <th>62799</th>\n",
       "      <td>https://www.ptt.cc/bbs/Food/M.1633964063.A.C99...</td>\n",
       "      <td>[食記]新北我家牛排新北中和店</td>\n",
       "      <td>2021-10-11</td>\n",
       "      <td>排餐料理吃到飽系列之--我家牛排新北中和店\\n\\n有圖有真相圖文並茂版：\\nhttps://...</td>\n",
       "      <td>排餐料理吃到飽系列之--我家牛排新北中和店</td>\n",
       "    </tr>\n",
       "    <tr>\n",
       "      <th>29551</th>\n",
       "      <td>https://www.ptt.cc/bbs/Food/M.1599699165.A.114...</td>\n",
       "      <td>[食記]新北市中和區我家牛排中和店</td>\n",
       "      <td>2020-09-10</td>\n",
       "      <td>餐廳名稱：我家牛排中和店\\n   消費時間：2020年/9月\\n   地址：新北市中和區建一...</td>\n",
       "      <td>酸酸甜甜的</td>\n",
       "    </tr>\n",
       "  </tbody>\n",
       "</table>\n",
       "<p>100 rows × 5 columns</p>\n",
       "</div>"
      ],
      "text/plain": [
       "                                                  artUrl  \\\n",
       "56752  https://www.ptt.cc/bbs/Food/M.1621703754.A.932...   \n",
       "27235  https://www.ptt.cc/bbs/Food/M.1598437938.A.19C...   \n",
       "40751  https://www.ptt.cc/bbs/Food/M.1609600749.A.0D6...   \n",
       "40672  https://www.ptt.cc/bbs/Food/M.1609600749.A.0D6...   \n",
       "227    https://www.ptt.cc/bbs/Food/M.1578125940.A.9AA...   \n",
       "...                                                  ...   \n",
       "36449  https://www.ptt.cc/bbs/Food/M.1605741098.A.40E...   \n",
       "44516  https://www.ptt.cc/bbs/Food/M.1612104676.A.649...   \n",
       "54392  https://www.ptt.cc/bbs/Food/M.1618760532.A.E29...   \n",
       "62799  https://www.ptt.cc/bbs/Food/M.1633964063.A.C99...   \n",
       "29551  https://www.ptt.cc/bbs/Food/M.1599699165.A.114...   \n",
       "\n",
       "                        artTitle     artDate  \\\n",
       "56752        [廣宣]高雄漢來大飯店防疫便當外帶便當  2021-05-23   \n",
       "27235  [情報]2020台北米其林餐盤推薦90間懶人包總整  2020-08-26   \n",
       "40751  [食記]台北市信義區ATT4FUN海底撈一個人攻略  2021-01-02   \n",
       "40672  [食記]台北市信義區ATT4FUN海底撈一個人攻略  2021-01-02   \n",
       "227    [食記]長榮皇璽桂冠艙飛機餐SEA-TPE聖誕好運  2020-01-04   \n",
       "...                          ...         ...   \n",
       "36449     [食記]台南松井田精緻火鍋24小時營業小火鍋  2020-11-19   \n",
       "44516       [食記]台中中西區逐鹿炭火燒肉燒肉吃到飽  2021-01-31   \n",
       "54392       [食記]高雄上官木桶鍋平實不貴的雙人套餐  2021-04-18   \n",
       "62799            [食記]新北我家牛排新北中和店  2021-10-11   \n",
       "29551          [食記]新北市中和區我家牛排中和店  2020-09-10   \n",
       "\n",
       "                                              artContent  \\\n",
       "56752  餐廳名稱：漢來大飯店 防疫便當\\n   消費時間：2021年05月\\n   店家地址：高雄市...   \n",
       "27235  餐飲名稱：2020台北米其林餐盤推薦餐廳 (共90間)\\n\\n   ============...   \n",
       "40751  餐廳名稱：海底撈火鍋\\n   消費時間：2020年/12月\\n   地址：110台北市信義區...   \n",
       "40672  餐廳名稱：海底撈火鍋\\n   消費時間：2020年/12月\\n   地址：110台北市信義區...   \n",
       "227    店名：長榮皇璽桂冠艙飛機餐\\n   地址：無\\n   電話：無\\n   營業時間：依機艙供餐...   \n",
       "...                                                  ...   \n",
       "36449  餐廳名稱：松井田精緻火鍋\\n   消費時間：2020年/11月\\n   地址：台南市中西區金...   \n",
       "44516  餐廳名稱：逐鹿炭火燒肉\\n   消費時間：2021年/01月\\n   地址：台南市中西區環河...   \n",
       "54392  餐廳名稱：上官木桶鍋 高雄裕誠加盟店 （源自蘆洲正官）\\n   消費時間：2021年01月\\...   \n",
       "62799  排餐料理吃到飽系列之--我家牛排新北中和店\\n\\n有圖有真相圖文並茂版：\\nhttps://...   \n",
       "29551  餐廳名稱：我家牛排中和店\\n   消費時間：2020年/9月\\n   地址：新北市中和區建一...   \n",
       "\n",
       "                             sentence  \n",
       "56752                          可能也不道地  \n",
       "27235  以年年都攻下米其林三星的頤宮為例 (圖片節自米其林官方網站)  \n",
       "40751                    不過搭配辣粉配著吃很好吃  \n",
       "40672                          結果吃來吃去  \n",
       "227                    再醒過來的時候已經要吃早餐了  \n",
       "...                               ...  \n",
       "36449                       白飯也是內用吃到飽  \n",
       "44516             前面排隊要領車的人也是因為吃逐鹿被拖吊  \n",
       "54392                  當時的價格是五顆生蠔210元  \n",
       "62799           排餐料理吃到飽系列之--我家牛排新北中和店  \n",
       "29551                           酸酸甜甜的  \n",
       "\n",
       "[100 rows x 5 columns]"
      ]
     },
     "execution_count": 292,
     "metadata": {},
     "output_type": "execute_result"
    }
   ],
   "source": [
    "df = pd.read_csv(\"../week3/raw_data/zh_buffet_20_22.csv\")\n",
    "df[\"artDate\"] = pd.to_datetime(df[\"artDate\"])\n",
    "df['artDate'] = df['artDate'].dt.date \n",
    "\n",
    "clear_df = df.copy()\n",
    "\n",
    "#去除本次不會用到的欄位\n",
    "drop_cols = ['system_id', 'artPoster', 'artCatagory', 'artComment', 'e_ip', 'insertedDate', 'dataSource']\n",
    "clear_df.drop(drop_cols, axis = 1, inplace = True)\n",
    "\n",
    "#去除文章內容為空值的筆數\n",
    "clear_df.dropna(subset = ['artContent'], axis=0, how='any', inplace=True)\n",
    "\n",
    "#新增['sentence']欄位，用'。'取代'\\n\\n'，並移除'\\n'\n",
    "clear_df['sentence'] = clear_df['artContent'].str.replace(r'\\n\\n','。', regex=True)\n",
    "clear_df['sentence'] = clear_df['sentence'].str.replace(r'\\n','', regex=True)\n",
    "\n",
    "#移除內文中的網址\n",
    "clear_df['sentence'] = clear_df['sentence'].replace(r'http\\S+', '', regex=True).replace(r'www\\S+', '', regex=True)\n",
    "\n",
    "clear_df['sentence'] = clear_df['sentence'].str.split(\"[,，。！!？?]{1,}\")\n",
    "\n",
    "sent_df = clear_df.explode('sentence').reset_index(drop=True)\n",
    "# 把長度小於1的sentence刪掉\n",
    "sent_df = sent_df[sent_df[\"sentence\"].str.len() > 1]\n",
    "\n",
    "sampled_df = sent_df.sample(n=100, random_state=222)\n",
    "\n",
    "sampled_df"
   ]
  },
  {
   "cell_type": "code",
   "execution_count": 293,
   "metadata": {},
   "outputs": [
    {
     "data": {
      "text/plain": [
       "'The output should be formatted as a JSON instance that conforms to the JSON schema below.\\n\\nAs an example, for the schema {\"properties\": {\"foo\": {\"title\": \"Foo\", \"description\": \"a list of strings\", \"type\": \"array\", \"items\": {\"type\": \"string\"}}}, \"required\": [\"foo\"]}\\nthe object {\"foo\": [\"bar\", \"baz\"]} is a well-formatted instance of the schema. The object {\"properties\": {\"foo\": [\"bar\", \"baz\"]}} is not well-formatted.\\n\\nHere is the output schema:\\n```\\n{\"properties\": {\"\\\\u60c5\\\\u7dd2\": {\"title\": \"\\\\u60c5\\\\u7dd2\", \"description\": \"\\\\u5224\\\\u65b7\\\\u6574\\\\u500b\\\\u53e5\\\\u5b50\\\\u7e3d\\\\u9ad4\\\\u7684\\\\u60c5\\\\u7dd2\\\\u3002\", \"enum\": [\"\\\\u6b63\\\\u5411\", \"\\\\u4e2d\\\\u6027\", \"\\\\u8ca0\\\\u5411\"], \"type\": \"string\"}, \"\\\\u98df\\\\u7269\": {\"title\": \"\\\\u98df\\\\u7269\", \"description\": \"\\\\u5217\\\\u51fa\\\\u6240\\\\u6709\\\\u53e5\\\\u5b50\\\\u4e2d\\\\u63d0\\\\u53ca\\\\u7684\\\\u98df\\\\u7269\\\\u4e26\\\\u4ee5\\\\u9017\\\\u865f\\',\\'\\\\u5206\\\\u9694\\\\u3002\", \"type\": \"string\"}, \"\\\\u6599\\\\u7406\\\\u7a2e\\\\u985e\": {\"title\": \"\\\\u6599\\\\u7406\\\\u7a2e\\\\u985e\", \"description\": \"\\\\u5224\\\\u65b7\\\\u53e5\\\\u5b50\\\\u4e2d\\\\u63d0\\\\u5230\\\\u7684\\\\u6599\\\\u7406\\\\u662f\\\\u5c6c\\\\u65bc\\\\u4ec0\\\\u9ebc\\\\u7a2e\\\\u985e\\\\u7684\\\\u3002\", \"enum\": [\"\\\\u65e5\\\\u5f0f\", \"\\\\u7f8e\\\\u5f0f\", \"\\\\u4e2d\\\\u5f0f\", \"\\\\u6cf0\\\\u5f0f\", \"\\\\u97d3\\\\u5f0f\", \"\\\\u6cd5\\\\u5f0f\", \"\\\\u5176\\\\u4ed6\", \"\\\\u7121\"], \"type\": \"string\"}}, \"required\": [\"\\\\u60c5\\\\u7dd2\", \"\\\\u98df\\\\u7269\", \"\\\\u6599\\\\u7406\\\\u7a2e\\\\u985e\"]}\\n```'"
      ]
     },
     "execution_count": 293,
     "metadata": {},
     "output_type": "execute_result"
    }
   ],
   "source": [
    "class Food(BaseModel):\n",
    "    情緒: str = Field(..., description=\"判斷整個句子總體的情緒。\", enum=[\"正向\", \"中性\", \"負向\"])\n",
    "    食物: str = Field(\n",
    "        ...,\n",
    "        description=\"列出所有句子中提及的食物並以逗號','分隔。\"\n",
    "    )\n",
    "    料理種類: str = Field(\n",
    "        ...,\n",
    "        description=\"判斷句子中提到的料理是屬於什麼種類的。\",\n",
    "        enum=[\"日式\", \"美式\", \"中式\", \"泰式\", \"韓式\", \"法式\", \"其他\", \"無\"],\n",
    "    )\n",
    "\n",
    "food_parser = JsonOutputParser(pydantic_object=Food)\n",
    "\n",
    "# 透過 get_format_instructions() 可以看到如何告訴 LLM 生成我們想要的格式的一些指令\n",
    "food_parser.get_format_instructions()"
   ]
  },
  {
   "cell_type": "code",
   "execution_count": 294,
   "metadata": {},
   "outputs": [
    {
     "name": "stdout",
     "output_type": "stream",
     "text": [
      "       +-------------+         \n",
      "       | PromptInput |         \n",
      "       +-------------+         \n",
      "              *                \n",
      "              *                \n",
      "              *                \n",
      "      +----------------+       \n",
      "      | PromptTemplate |       \n",
      "      +----------------+       \n",
      "              *                \n",
      "              *                \n",
      "              *                \n",
      "   +---------------------+     \n",
      "   | HuggingFaceEndpoint |     \n",
      "   +---------------------+     \n",
      "              *                \n",
      "              *                \n",
      "              *                \n",
      "+---------------------------+  \n",
      "| HuggingFaceEndpointOutput |  \n",
      "+---------------------------+  \n"
     ]
    }
   ],
   "source": [
    "# Set up a parser + inject instructions into the prompt template.\n",
    "food_parser = JsonOutputParser(pydantic_object=Food)\\\n",
    "\n",
    "food_template = \"\"\"<start_of_turn>user\n",
    "你是一位美食評論家，你將會看網路上對於餐廳的評論，請抓取出評論中：\n",
    "1.此評論的情緒，正向或負向或中性\n",
    "2.有討論到食物，例如：火鍋、牛排、炒飯\n",
    "3.料理的流派，例如：日式、中式、美式\n",
    "\n",
    "以下為一些範例：\n",
    "```\n",
    "範例1\n",
    "句子：再來甜點會進入人體的第二個胃還是必吃\n",
    "抓取結果：{{\n",
    "    \"情緒\":\"中性\",\n",
    "    \"食物\":\"甜點\",\n",
    "    \"料理種類\":\"無\"\n",
    "}}\n",
    "\n",
    "範例2\n",
    "句子：再到自助區加點蔥花蒜頭一起入口就好美味呀\n",
    "抓取結果：{{\n",
    "    \"情緒\":\"正向\",\n",
    "    \"食物\":\"蔥花,蒜頭\",\n",
    "    \"料理種類\":\"無\"\n",
    "}}\n",
    "\n",
    "範例3\n",
    "句子：但Woosan韓式烤肉店真的很有吸引力\n",
    "抓取結果：{{\n",
    "    \"情緒\":\"正向\",\n",
    "    \"食物\":\"烤肉\",\n",
    "    \"料理種類\":\"韓式\"\n",
    "}}\n",
    "\n",
    "範例3\n",
    "句子：普普通通\n",
    "抓取結果：{{\n",
    "    \"情緒\":\"中性\",\n",
    "    \"食物\":\"無\",\n",
    "    \"料理種類\":\"無\"\n",
    "}}\n",
    "\n",
    "\n",
    "{format_instructions}\n",
    "請使用繁體中文回答。\n",
    "除了 JSON 內容外，不要回答任何其他內容\n",
    "\n",
    "現在請幫我抓取以下句子的資訊：\n",
    "句子：{query}\n",
    "抓取結果：<end_of_turn>\n",
    "<start_of_turn>model\n",
    "\"\"\"\n",
    "\n",
    "food_prompt = PromptTemplate(\n",
    "    template=food_template,\n",
    "    # template=\"Answer the user query.\\n{format_instructions}\\nDon't output any other explanation\\n{query}\\n\",\n",
    "    input_variables=[\"query\"],\n",
    "    # 將 format_instructions 也輸入到 prompt templete 中\n",
    "    partial_variables={\"format_instructions\": food_parser.get_format_instructions()},\n",
    ")\n",
    "\n",
    "chain = food_prompt | llm \n",
    "chain.get_graph().print_ascii()"
   ]
  },
  {
   "cell_type": "markdown",
   "metadata": {},
   "source": [
    "手動建立 parse function"
   ]
  },
  {
   "cell_type": "code",
   "execution_count": 302,
   "metadata": {},
   "outputs": [],
   "source": [
    "# 從 json 字串中抓取答案\n",
    "def extract_answer_from_string(string_):\n",
    "    string_ = string_.replace(\"\\n\", \"\")\n",
    "    string_ = string_.replace(\"json\", \"\")\n",
    "    string_ = string_.replace(\"    \", \"\")\n",
    "    string_ = string_.replace(\"```\", \"\")\n",
    "    try:\n",
    "        # 可以成功轉換\n",
    "        dict_result = json.loads(string_)\n",
    "    except:\n",
    "        print(string_)\n",
    "        return string_\n",
    "    return dict_result\n",
    "\n",
    "# 從 dict 抓取情緒\n",
    "def get_sentiment(row):\n",
    "    sentiment = None\n",
    "    if isinstance(row, dict):\n",
    "        if (\"情緒\" in row.keys()):\n",
    "            sentiment = row['情緒']\n",
    "    return sentiment"
   ]
  },
  {
   "cell_type": "code",
   "execution_count": 303,
   "metadata": {},
   "outputs": [
    {
     "name": "stdout",
     "output_type": "stream",
     "text": [
      "{'情緒': '負向', '食物': '牛肉', '料理種類': '無'}\n"
     ]
    },
    {
     "data": {
      "text/plain": [
       "'負向'"
      ]
     },
     "execution_count": 303,
     "metadata": {},
     "output_type": "execute_result"
    }
   ],
   "source": [
    "llm_result = extract_answer_from_string(chain.invoke({\"query\": \"因為牛肉吃太多了\"}))\n",
    "print(llm_result)\n",
    "get_sentiment(llm_result)"
   ]
  },
  {
   "cell_type": "code",
   "execution_count": 297,
   "metadata": {},
   "outputs": [
    {
     "name": "stdout",
     "output_type": "stream",
     "text": [
      "無法從提供的句子中抓取任何資訊。句子中並無相關的餐食或餐廳資訊。\n",
      "The provided text is not included in the given context, so I am unable to extract the requested information.\n"
     ]
    },
    {
     "data": {
      "text/html": [
       "<div>\n",
       "<style scoped>\n",
       "    .dataframe tbody tr th:only-of-type {\n",
       "        vertical-align: middle;\n",
       "    }\n",
       "\n",
       "    .dataframe tbody tr th {\n",
       "        vertical-align: top;\n",
       "    }\n",
       "\n",
       "    .dataframe thead th {\n",
       "        text-align: right;\n",
       "    }\n",
       "</style>\n",
       "<table border=\"1\" class=\"dataframe\">\n",
       "  <thead>\n",
       "    <tr style=\"text-align: right;\">\n",
       "      <th></th>\n",
       "      <th>artUrl</th>\n",
       "      <th>artTitle</th>\n",
       "      <th>artDate</th>\n",
       "      <th>artContent</th>\n",
       "      <th>sentence</th>\n",
       "      <th>LLM</th>\n",
       "    </tr>\n",
       "  </thead>\n",
       "  <tbody>\n",
       "    <tr>\n",
       "      <th>56752</th>\n",
       "      <td>https://www.ptt.cc/bbs/Food/M.1621703754.A.932...</td>\n",
       "      <td>[廣宣]高雄漢來大飯店防疫便當外帶便當</td>\n",
       "      <td>2021-05-23</td>\n",
       "      <td>餐廳名稱：漢來大飯店 防疫便當\\n   消費時間：2021年05月\\n   店家地址：高雄市...</td>\n",
       "      <td>可能也不道地</td>\n",
       "      <td>{'情緒': '中性', '食物': '無', '料理種類': '無'}</td>\n",
       "    </tr>\n",
       "    <tr>\n",
       "      <th>27235</th>\n",
       "      <td>https://www.ptt.cc/bbs/Food/M.1598437938.A.19C...</td>\n",
       "      <td>[情報]2020台北米其林餐盤推薦90間懶人包總整</td>\n",
       "      <td>2020-08-26</td>\n",
       "      <td>餐飲名稱：2020台北米其林餐盤推薦餐廳 (共90間)\\n\\n   ============...</td>\n",
       "      <td>以年年都攻下米其林三星的頤宮為例 (圖片節自米其林官方網站)</td>\n",
       "      <td>{'情緒': '正向', '食物': '無', '料理種類': '無'}</td>\n",
       "    </tr>\n",
       "    <tr>\n",
       "      <th>40751</th>\n",
       "      <td>https://www.ptt.cc/bbs/Food/M.1609600749.A.0D6...</td>\n",
       "      <td>[食記]台北市信義區ATT4FUN海底撈一個人攻略</td>\n",
       "      <td>2021-01-02</td>\n",
       "      <td>餐廳名稱：海底撈火鍋\\n   消費時間：2020年/12月\\n   地址：110台北市信義區...</td>\n",
       "      <td>不過搭配辣粉配著吃很好吃</td>\n",
       "      <td>{'情緒': '正向', '食物': '辣粉', '料理種類': '無'}</td>\n",
       "    </tr>\n",
       "    <tr>\n",
       "      <th>40672</th>\n",
       "      <td>https://www.ptt.cc/bbs/Food/M.1609600749.A.0D6...</td>\n",
       "      <td>[食記]台北市信義區ATT4FUN海底撈一個人攻略</td>\n",
       "      <td>2021-01-02</td>\n",
       "      <td>餐廳名稱：海底撈火鍋\\n   消費時間：2020年/12月\\n   地址：110台北市信義區...</td>\n",
       "      <td>結果吃來吃去</td>\n",
       "      <td>{'情緒': '正向', '食物': '無', '料理種類': '無'}</td>\n",
       "    </tr>\n",
       "    <tr>\n",
       "      <th>227</th>\n",
       "      <td>https://www.ptt.cc/bbs/Food/M.1578125940.A.9AA...</td>\n",
       "      <td>[食記]長榮皇璽桂冠艙飛機餐SEA-TPE聖誕好運</td>\n",
       "      <td>2020-01-04</td>\n",
       "      <td>店名：長榮皇璽桂冠艙飛機餐\\n   地址：無\\n   電話：無\\n   營業時間：依機艙供餐...</td>\n",
       "      <td>再醒過來的時候已經要吃早餐了</td>\n",
       "      <td>{'情緒': '正向', '食物': '早餐', '料理種類': '無'}</td>\n",
       "    </tr>\n",
       "    <tr>\n",
       "      <th>...</th>\n",
       "      <td>...</td>\n",
       "      <td>...</td>\n",
       "      <td>...</td>\n",
       "      <td>...</td>\n",
       "      <td>...</td>\n",
       "      <td>...</td>\n",
       "    </tr>\n",
       "    <tr>\n",
       "      <th>36449</th>\n",
       "      <td>https://www.ptt.cc/bbs/Food/M.1605741098.A.40E...</td>\n",
       "      <td>[食記]台南松井田精緻火鍋24小時營業小火鍋</td>\n",
       "      <td>2020-11-19</td>\n",
       "      <td>餐廳名稱：松井田精緻火鍋\\n   消費時間：2020年/11月\\n   地址：台南市中西區金...</td>\n",
       "      <td>白飯也是內用吃到飽</td>\n",
       "      <td>{'情緒': '正向', '食物': '白飯', '料理種類': '無'}</td>\n",
       "    </tr>\n",
       "    <tr>\n",
       "      <th>44516</th>\n",
       "      <td>https://www.ptt.cc/bbs/Food/M.1612104676.A.649...</td>\n",
       "      <td>[食記]台中中西區逐鹿炭火燒肉燒肉吃到飽</td>\n",
       "      <td>2021-01-31</td>\n",
       "      <td>餐廳名稱：逐鹿炭火燒肉\\n   消費時間：2021年/01月\\n   地址：台南市中西區環河...</td>\n",
       "      <td>前面排隊要領車的人也是因為吃逐鹿被拖吊</td>\n",
       "      <td>{'情緒': '負向', '食物': '逐鹿', '料理種類': '無'}</td>\n",
       "    </tr>\n",
       "    <tr>\n",
       "      <th>54392</th>\n",
       "      <td>https://www.ptt.cc/bbs/Food/M.1618760532.A.E29...</td>\n",
       "      <td>[食記]高雄上官木桶鍋平實不貴的雙人套餐</td>\n",
       "      <td>2021-04-18</td>\n",
       "      <td>餐廳名稱：上官木桶鍋 高雄裕誠加盟店 （源自蘆洲正官）\\n   消費時間：2021年01月\\...</td>\n",
       "      <td>當時的價格是五顆生蠔210元</td>\n",
       "      <td>{'情緒': '中性', '食物': '生蠔', '料理種類': '無'}</td>\n",
       "    </tr>\n",
       "    <tr>\n",
       "      <th>62799</th>\n",
       "      <td>https://www.ptt.cc/bbs/Food/M.1633964063.A.C99...</td>\n",
       "      <td>[食記]新北我家牛排新北中和店</td>\n",
       "      <td>2021-10-11</td>\n",
       "      <td>排餐料理吃到飽系列之--我家牛排新北中和店\\n\\n有圖有真相圖文並茂版：\\nhttps://...</td>\n",
       "      <td>排餐料理吃到飽系列之--我家牛排新北中和店</td>\n",
       "      <td>{'情緒': '正向', '食物': '牛排', '料理種類': '美式'}</td>\n",
       "    </tr>\n",
       "    <tr>\n",
       "      <th>29551</th>\n",
       "      <td>https://www.ptt.cc/bbs/Food/M.1599699165.A.114...</td>\n",
       "      <td>[食記]新北市中和區我家牛排中和店</td>\n",
       "      <td>2020-09-10</td>\n",
       "      <td>餐廳名稱：我家牛排中和店\\n   消費時間：2020年/9月\\n   地址：新北市中和區建一...</td>\n",
       "      <td>酸酸甜甜的</td>\n",
       "      <td>{'情緒': '正向', '食物': '無', '料理種類': '無'}</td>\n",
       "    </tr>\n",
       "  </tbody>\n",
       "</table>\n",
       "<p>100 rows × 6 columns</p>\n",
       "</div>"
      ],
      "text/plain": [
       "                                                  artUrl  \\\n",
       "56752  https://www.ptt.cc/bbs/Food/M.1621703754.A.932...   \n",
       "27235  https://www.ptt.cc/bbs/Food/M.1598437938.A.19C...   \n",
       "40751  https://www.ptt.cc/bbs/Food/M.1609600749.A.0D6...   \n",
       "40672  https://www.ptt.cc/bbs/Food/M.1609600749.A.0D6...   \n",
       "227    https://www.ptt.cc/bbs/Food/M.1578125940.A.9AA...   \n",
       "...                                                  ...   \n",
       "36449  https://www.ptt.cc/bbs/Food/M.1605741098.A.40E...   \n",
       "44516  https://www.ptt.cc/bbs/Food/M.1612104676.A.649...   \n",
       "54392  https://www.ptt.cc/bbs/Food/M.1618760532.A.E29...   \n",
       "62799  https://www.ptt.cc/bbs/Food/M.1633964063.A.C99...   \n",
       "29551  https://www.ptt.cc/bbs/Food/M.1599699165.A.114...   \n",
       "\n",
       "                        artTitle     artDate  \\\n",
       "56752        [廣宣]高雄漢來大飯店防疫便當外帶便當  2021-05-23   \n",
       "27235  [情報]2020台北米其林餐盤推薦90間懶人包總整  2020-08-26   \n",
       "40751  [食記]台北市信義區ATT4FUN海底撈一個人攻略  2021-01-02   \n",
       "40672  [食記]台北市信義區ATT4FUN海底撈一個人攻略  2021-01-02   \n",
       "227    [食記]長榮皇璽桂冠艙飛機餐SEA-TPE聖誕好運  2020-01-04   \n",
       "...                          ...         ...   \n",
       "36449     [食記]台南松井田精緻火鍋24小時營業小火鍋  2020-11-19   \n",
       "44516       [食記]台中中西區逐鹿炭火燒肉燒肉吃到飽  2021-01-31   \n",
       "54392       [食記]高雄上官木桶鍋平實不貴的雙人套餐  2021-04-18   \n",
       "62799            [食記]新北我家牛排新北中和店  2021-10-11   \n",
       "29551          [食記]新北市中和區我家牛排中和店  2020-09-10   \n",
       "\n",
       "                                              artContent  \\\n",
       "56752  餐廳名稱：漢來大飯店 防疫便當\\n   消費時間：2021年05月\\n   店家地址：高雄市...   \n",
       "27235  餐飲名稱：2020台北米其林餐盤推薦餐廳 (共90間)\\n\\n   ============...   \n",
       "40751  餐廳名稱：海底撈火鍋\\n   消費時間：2020年/12月\\n   地址：110台北市信義區...   \n",
       "40672  餐廳名稱：海底撈火鍋\\n   消費時間：2020年/12月\\n   地址：110台北市信義區...   \n",
       "227    店名：長榮皇璽桂冠艙飛機餐\\n   地址：無\\n   電話：無\\n   營業時間：依機艙供餐...   \n",
       "...                                                  ...   \n",
       "36449  餐廳名稱：松井田精緻火鍋\\n   消費時間：2020年/11月\\n   地址：台南市中西區金...   \n",
       "44516  餐廳名稱：逐鹿炭火燒肉\\n   消費時間：2021年/01月\\n   地址：台南市中西區環河...   \n",
       "54392  餐廳名稱：上官木桶鍋 高雄裕誠加盟店 （源自蘆洲正官）\\n   消費時間：2021年01月\\...   \n",
       "62799  排餐料理吃到飽系列之--我家牛排新北中和店\\n\\n有圖有真相圖文並茂版：\\nhttps://...   \n",
       "29551  餐廳名稱：我家牛排中和店\\n   消費時間：2020年/9月\\n   地址：新北市中和區建一...   \n",
       "\n",
       "                             sentence                                     LLM  \n",
       "56752                          可能也不道地    {'情緒': '中性', '食物': '無', '料理種類': '無'}  \n",
       "27235  以年年都攻下米其林三星的頤宮為例 (圖片節自米其林官方網站)    {'情緒': '正向', '食物': '無', '料理種類': '無'}  \n",
       "40751                    不過搭配辣粉配著吃很好吃   {'情緒': '正向', '食物': '辣粉', '料理種類': '無'}  \n",
       "40672                          結果吃來吃去    {'情緒': '正向', '食物': '無', '料理種類': '無'}  \n",
       "227                    再醒過來的時候已經要吃早餐了   {'情緒': '正向', '食物': '早餐', '料理種類': '無'}  \n",
       "...                               ...                                     ...  \n",
       "36449                       白飯也是內用吃到飽   {'情緒': '正向', '食物': '白飯', '料理種類': '無'}  \n",
       "44516             前面排隊要領車的人也是因為吃逐鹿被拖吊   {'情緒': '負向', '食物': '逐鹿', '料理種類': '無'}  \n",
       "54392                  當時的價格是五顆生蠔210元   {'情緒': '中性', '食物': '生蠔', '料理種類': '無'}  \n",
       "62799           排餐料理吃到飽系列之--我家牛排新北中和店  {'情緒': '正向', '食物': '牛排', '料理種類': '美式'}  \n",
       "29551                           酸酸甜甜的    {'情緒': '正向', '食物': '無', '料理種類': '無'}  \n",
       "\n",
       "[100 rows x 6 columns]"
      ]
     },
     "execution_count": 297,
     "metadata": {},
     "output_type": "execute_result"
    }
   ],
   "source": [
    "sampled_df['LLM'] = sampled_df.apply(lambda x: extract_answer_from_string(chain.invoke({\"query\": x['sentence']})), axis=1)\n",
    "sampled_df"
   ]
  },
  {
   "cell_type": "code",
   "execution_count": 304,
   "metadata": {},
   "outputs": [
    {
     "data": {
      "text/html": [
       "<div>\n",
       "<style scoped>\n",
       "    .dataframe tbody tr th:only-of-type {\n",
       "        vertical-align: middle;\n",
       "    }\n",
       "\n",
       "    .dataframe tbody tr th {\n",
       "        vertical-align: top;\n",
       "    }\n",
       "\n",
       "    .dataframe thead th {\n",
       "        text-align: right;\n",
       "    }\n",
       "</style>\n",
       "<table border=\"1\" class=\"dataframe\">\n",
       "  <thead>\n",
       "    <tr style=\"text-align: right;\">\n",
       "      <th></th>\n",
       "      <th>artUrl</th>\n",
       "      <th>artTitle</th>\n",
       "      <th>artDate</th>\n",
       "      <th>artContent</th>\n",
       "      <th>sentence</th>\n",
       "      <th>LLM</th>\n",
       "      <th>sentiment</th>\n",
       "    </tr>\n",
       "  </thead>\n",
       "  <tbody>\n",
       "    <tr>\n",
       "      <th>56752</th>\n",
       "      <td>https://www.ptt.cc/bbs/Food/M.1621703754.A.932...</td>\n",
       "      <td>[廣宣]高雄漢來大飯店防疫便當外帶便當</td>\n",
       "      <td>2021-05-23</td>\n",
       "      <td>餐廳名稱：漢來大飯店 防疫便當\\n   消費時間：2021年05月\\n   店家地址：高雄市...</td>\n",
       "      <td>可能也不道地</td>\n",
       "      <td>{'情緒': '中性', '食物': '無', '料理種類': '無'}</td>\n",
       "      <td>中性</td>\n",
       "    </tr>\n",
       "    <tr>\n",
       "      <th>27235</th>\n",
       "      <td>https://www.ptt.cc/bbs/Food/M.1598437938.A.19C...</td>\n",
       "      <td>[情報]2020台北米其林餐盤推薦90間懶人包總整</td>\n",
       "      <td>2020-08-26</td>\n",
       "      <td>餐飲名稱：2020台北米其林餐盤推薦餐廳 (共90間)\\n\\n   ============...</td>\n",
       "      <td>以年年都攻下米其林三星的頤宮為例 (圖片節自米其林官方網站)</td>\n",
       "      <td>{'情緒': '正向', '食物': '無', '料理種類': '無'}</td>\n",
       "      <td>正向</td>\n",
       "    </tr>\n",
       "    <tr>\n",
       "      <th>40751</th>\n",
       "      <td>https://www.ptt.cc/bbs/Food/M.1609600749.A.0D6...</td>\n",
       "      <td>[食記]台北市信義區ATT4FUN海底撈一個人攻略</td>\n",
       "      <td>2021-01-02</td>\n",
       "      <td>餐廳名稱：海底撈火鍋\\n   消費時間：2020年/12月\\n   地址：110台北市信義區...</td>\n",
       "      <td>不過搭配辣粉配著吃很好吃</td>\n",
       "      <td>{'情緒': '正向', '食物': '辣粉', '料理種類': '無'}</td>\n",
       "      <td>正向</td>\n",
       "    </tr>\n",
       "    <tr>\n",
       "      <th>40672</th>\n",
       "      <td>https://www.ptt.cc/bbs/Food/M.1609600749.A.0D6...</td>\n",
       "      <td>[食記]台北市信義區ATT4FUN海底撈一個人攻略</td>\n",
       "      <td>2021-01-02</td>\n",
       "      <td>餐廳名稱：海底撈火鍋\\n   消費時間：2020年/12月\\n   地址：110台北市信義區...</td>\n",
       "      <td>結果吃來吃去</td>\n",
       "      <td>{'情緒': '正向', '食物': '無', '料理種類': '無'}</td>\n",
       "      <td>正向</td>\n",
       "    </tr>\n",
       "    <tr>\n",
       "      <th>227</th>\n",
       "      <td>https://www.ptt.cc/bbs/Food/M.1578125940.A.9AA...</td>\n",
       "      <td>[食記]長榮皇璽桂冠艙飛機餐SEA-TPE聖誕好運</td>\n",
       "      <td>2020-01-04</td>\n",
       "      <td>店名：長榮皇璽桂冠艙飛機餐\\n   地址：無\\n   電話：無\\n   營業時間：依機艙供餐...</td>\n",
       "      <td>再醒過來的時候已經要吃早餐了</td>\n",
       "      <td>{'情緒': '正向', '食物': '早餐', '料理種類': '無'}</td>\n",
       "      <td>正向</td>\n",
       "    </tr>\n",
       "  </tbody>\n",
       "</table>\n",
       "</div>"
      ],
      "text/plain": [
       "                                                  artUrl  \\\n",
       "56752  https://www.ptt.cc/bbs/Food/M.1621703754.A.932...   \n",
       "27235  https://www.ptt.cc/bbs/Food/M.1598437938.A.19C...   \n",
       "40751  https://www.ptt.cc/bbs/Food/M.1609600749.A.0D6...   \n",
       "40672  https://www.ptt.cc/bbs/Food/M.1609600749.A.0D6...   \n",
       "227    https://www.ptt.cc/bbs/Food/M.1578125940.A.9AA...   \n",
       "\n",
       "                        artTitle     artDate  \\\n",
       "56752        [廣宣]高雄漢來大飯店防疫便當外帶便當  2021-05-23   \n",
       "27235  [情報]2020台北米其林餐盤推薦90間懶人包總整  2020-08-26   \n",
       "40751  [食記]台北市信義區ATT4FUN海底撈一個人攻略  2021-01-02   \n",
       "40672  [食記]台北市信義區ATT4FUN海底撈一個人攻略  2021-01-02   \n",
       "227    [食記]長榮皇璽桂冠艙飛機餐SEA-TPE聖誕好運  2020-01-04   \n",
       "\n",
       "                                              artContent  \\\n",
       "56752  餐廳名稱：漢來大飯店 防疫便當\\n   消費時間：2021年05月\\n   店家地址：高雄市...   \n",
       "27235  餐飲名稱：2020台北米其林餐盤推薦餐廳 (共90間)\\n\\n   ============...   \n",
       "40751  餐廳名稱：海底撈火鍋\\n   消費時間：2020年/12月\\n   地址：110台北市信義區...   \n",
       "40672  餐廳名稱：海底撈火鍋\\n   消費時間：2020年/12月\\n   地址：110台北市信義區...   \n",
       "227    店名：長榮皇璽桂冠艙飛機餐\\n   地址：無\\n   電話：無\\n   營業時間：依機艙供餐...   \n",
       "\n",
       "                             sentence                                    LLM  \\\n",
       "56752                          可能也不道地   {'情緒': '中性', '食物': '無', '料理種類': '無'}   \n",
       "27235  以年年都攻下米其林三星的頤宮為例 (圖片節自米其林官方網站)   {'情緒': '正向', '食物': '無', '料理種類': '無'}   \n",
       "40751                    不過搭配辣粉配著吃很好吃  {'情緒': '正向', '食物': '辣粉', '料理種類': '無'}   \n",
       "40672                          結果吃來吃去   {'情緒': '正向', '食物': '無', '料理種類': '無'}   \n",
       "227                    再醒過來的時候已經要吃早餐了  {'情緒': '正向', '食物': '早餐', '料理種類': '無'}   \n",
       "\n",
       "      sentiment  \n",
       "56752        中性  \n",
       "27235        正向  \n",
       "40751        正向  \n",
       "40672        正向  \n",
       "227          正向  "
      ]
     },
     "execution_count": 304,
     "metadata": {},
     "output_type": "execute_result"
    }
   ],
   "source": [
    "sampled_df['sentiment'] = sampled_df.apply(lambda x: get_sentiment(x['LLM']), axis=1)\n",
    "sampled_df.head()"
   ]
  },
  {
   "cell_type": "code",
   "execution_count": 306,
   "metadata": {},
   "outputs": [
    {
     "data": {
      "text/plain": [
       "sentiment\n",
       "正向    58\n",
       "中性    26\n",
       "負向    13\n",
       "Name: count, dtype: int64"
      ]
     },
     "execution_count": 306,
     "metadata": {},
     "output_type": "execute_result"
    }
   ],
   "source": [
    "sampled_df['sentiment'].value_counts()"
   ]
  },
  {
   "cell_type": "markdown",
   "metadata": {},
   "source": [
    "# 4. Retrieve QA (RAG)"
   ]
  },
  {
   "cell_type": "markdown",
   "metadata": {},
   "source": [
    "- 官網：https://python.langchain.com/v0.1/docs/use_cases/question_answering/quickstart/\n",
    "- 讀入 PDF 檔\n",
    "- 切分檔案 chunk"
   ]
  },
  {
   "cell_type": "code",
   "execution_count": 251,
   "metadata": {},
   "outputs": [
    {
     "data": {
      "text/plain": [
       "[Document(page_content='國立中山大學  \\n112學年度第 2學期  \\n選課須知  \\n   \\n \\n \\n \\n \\n \\n \\n➢ 辦理依據：依本校學則第十條第三款訂定本 選課須知。 \\n➢ 中華民國 112年12月12日本校第 178次教務會議通過  \\n➢ 選課系統網址： https://selcrs.nsysu.edu.tw/', metadata={'source': './data/中大學1122選課須知.pdf', 'page': 0}),\n",
       " Document(page_content='目     錄 \\n \\n一、選課相關時程 ……………………………………………….1  \\n二、選課前注意事項 ……………………………………………. 2 \\n三、選課說明 …………………………………………………….3  \\n四、各階段辦理方式及注意事項  \\n（一）必修課程確認 ………………………………………. 4 \\n（二）超修學分申請 ………………………………………. 4 \\n（三）校際選課申請 （本校生）…………………………. 4 \\n（四）初選第 1階段 ………………………………………. 4 \\n（五）初選第 2階段 ………………………………………. 5\\n（六）加退選第 1、2階段 …………………………..……. 5 \\n（七）選課異常處理 ………………………………………. 6 \\n（八）確認選課紀錄 ………………………………………. 7 \\n（九）棄選 …………………………………………………. 7 \\n五、選課結果篩選次序 …………………………………………. 7 \\n六、選課相關規定 ………………………………………………. 8 \\n【附錄】本校課號編碼原則 ………………………………… .…11', metadata={'source': './data/中大學1122選課須知.pdf', 'page': 1}),\n",
       " Document(page_content='1 \\n 一、 選課相關時程：（請依時程辦理，逾時程除重大因素外，依規定不予補辦）  \\n階段  開始日期時間  截止日期時間  \\n112-2課程查詢  112年 12 / 27 (三) 13:00  \\n必修課程確認  1 / 26 (五) 09:00  3 / 1 (五) 17:00  \\n系所輔導學生選課  1 / 26 (五) 09:00  3 / 1 (五) 17:00  \\n校際選課申請 (本校生 ) \\n【請配合開課學校校際選課時\\n程辦理】 1 / 26 (五) 09:00  3 / 1 (五) 17:00  \\n超修學分申請  \\n(上網列印 ，紙本簽核 ) 1 / 26 (五) 09:00  3 / 1 (五) 17:00  \\n(請自行掌握列印及簽核時間 ) \\n【初選】 \\n初選 1 (限學士班選通識課 程) 1 / 26 (五) 09:00   1 / 30 (二) 17:00  \\n初選 1《結果公布》  1 / 31 (三) 14:00  \\n初選 2 2 / 1 (四) 09:00 2 / 5 (一) 17:00  \\n初選 2《結果公布》 2 / 6 (二) 14:00  \\n【加退選】  \\n加退選 1 2 / 22 (四) 09:00   2 / 23 (五) 17:00  \\n加退選 1《結果公布》 2 / 26 (一) 14:00  \\n加退選 2 2 / 29 (四) 09:00  3 / 1 (五) 17:00  \\n加退選 2《結果公布》 3 / 4 (一) 14:00  \\n【異常處理】  \\n選課異常處理  \\n(上網列印 ，紙本簽核 ) 3 / 5 (二) 09:00  3 / 11 (一) 17:00  \\n(請自行掌握列印及簽核時間 ) \\n確認選課紀錄  3 / 5 (二) 09:00   3 / 18 (一) 17:00  \\n【學分費繳交 】 \\n學分費繳交 (暫訂 ) 3 / 28 (四) 4 / 8 (一) \\n【棄選】  \\n棄選  \\n(上網列印 ,紙本簽核 ) 5 / 3 (五) 09:00  5 / 10 (五) 17:00  \\n(請自行掌握列印及簽核時間 ) \\n※各階段辦理方式參閱【 四、各階段辦理方式及注意事項】', metadata={'source': './data/中大學1122選課須知.pdf', 'page': 2}),\n",
       " Document(page_content='2 \\n 二、 選課前注意事項 ： \\n（一）  選課系統 相關網頁 ： \\n1. 「選課系統」 ：教務處網頁／學生專區／ 相關系統 ／網路註冊：\\nhttps://selcrs.nsysu.edu.tw/stu_enroll/ 選課系統       \\n或  教務處網頁／學生專區／ 相關系統 ／選課系統  \\n選課帳號為學生個人學號；初次選課新生，密碼預設為身分證末六碼，選課前，\\n請先修改密碼，以免選課資料遭人竄改。同學 若忘記密碼 ，可於校園單一入口 /簽\\n入帳號密碼，進行選課系統密碼 查詢作業，或攜帶學生證於上班時間至課務組查\\n詢。  \\n2. 「選課操作說明」 ：教務處首頁／學生專區／ 相關系統 ／選課系統網頁 ／選課須知\\n與法規查詢 ／選課操作說明。  \\n3. 「學期課程查詢 」：選課系統 網頁／課程查詢 ／當學期課程 。 \\n4. 「常用信箱維護 」：登入選課系統／【個人工具箱】 ，請登錄常用之 e-mail信箱，\\n以免漏收學校發送之相關資訊 (請注意常用信箱是否有漏信狀況，建議多使用學校\\n學生專用信箱 )。 \\n5. 選課結果 公布：不論同學是否選課，請於 確認選課紀錄期間， 上網確認本學期 個\\n人選課紀錄 ，以確保選課結果正確。  \\n(1) 各階段選課結果公布 請自行上網於選課系統／簽入帳號密碼／選課結果查詢。  \\n(2) 請於確認選課紀錄期間， 上網確認本學期 個人選課紀錄，逾期未於選課系統確\\n認者，以選課系統所存資料為準，並依第 122次校務會議決議不再受理更改 。 \\n（二）  選課諮詢： \\n1. 選課問題信箱： acad-c@mail.nsysu.edu.tw  \\n如有選課問題時，請在各階段選課時間截止前，將學號及問題 E-mail至信箱，至\\n遲二個工作日內回覆，逾期不得以系統問題要求補辦選課。  \\n2. 各類課程選課 聯繫單位 (校內分機 )： \\n中文思辨與表達 ：基礎教育中心 (5852)、 \\n英語文、跨院 EAP/ESP ：全英語卓越教學中心 (5808 ) \\n跨院選修：基礎教育中心 (5852)  \\n博雅課程：博雅教育中心 (5853)  \\n運動與健康課程： 運動與健康教育中心 (5865)  \\n服務學習課程： 服務學習 教育中心 (5870)  \\n專業必選修課程：各系所  \\n課務組： (2131~213 4) \\n3. 系所輔導學生選課：', metadata={'source': './data/中大學1122選課須知.pdf', 'page': 3}),\n",
       " Document(page_content='英語文、跨院 EAP/ESP ：全英語卓越教學中心 (5808 ) \\n跨院選修：基礎教育中心 (5852)  \\n博雅課程：博雅教育中心 (5853)  \\n運動與健康課程： 運動與健康教育中心 (5865)  \\n服務學習課程： 服務學習 教育中心 (5870)  \\n專業必選修課程：各系所  \\n課務組： (2131~213 4) \\n3. 系所輔導學生選課：  \\n※課程地圖網頁： http://epp.nsysu.edu.tw/  \\n※學生於上網點選課程前：  \\n(1) 請參考系所必修科目表、 通識教育 課程架構、本校學則、教務章則及各系修課\\n等相關規定，先列出擬加退選課程。  \\n(2) 如有選課問題請與導師 （系所承辦人員 ）討論後再行加退選 。', metadata={'source': './data/中大學1122選課須知.pdf', 'page': 3}),\n",
       " Document(page_content='3 \\n 三、 選課說明：  \\n（一）  同階段選上機率相同， 各課程不採『先選先上』制，不需急於各階段開始時上網 ；為\\n減少網路壅塞及線上操作時間，選課前請先查妥課號。 每一選課階段均分兩階段，於\\n選課階段操作加選時，應於選課結果公告期間上網確認，操作退選課程將於系統直接\\n退選，釋出名額（誤退課程需重新上網加選，並依配課序重新配課） 。  \\n（二）  「加選」 後：  \\n1. 【登記加選】 ：本課程「是否選上」需等選課結果 公布後，自行上網查詢。  \\n2. 【失敗課程清單】 ： 課程加選未成功，請務必依說明再重新加選。  \\n3. 【衝堂】 ： 同時段可以同時加選多科，系統依同時段選上課程志願序篩取，但與確認\\n之預配課程衝堂時則保留該配入課程。  \\n（三）  「退選」後，系統隨即刪除該筆資料 ；誤退的課程重新加選後，仍依【 五、選課結果\\n篩選次序】篩選。  \\n（四）  因抵免、擋修、重覆修習（已修畢）等不擬修習已確認之預配課程、初選選上或加退\\n選選上之課程時，需自行辦理退選 。未辦理者，視同『本學期自願修習』 。  \\n（五）  經確認之預配課程或各階段選上之課程，開學後二週 (加退選結束日 )均未到堂上課者\\n（逢假日未上課不計） ，系所或任課 教師均得以書面 於選課異常處理階段前 通知逕行辦\\n理退選，學生不得異議 。 \\n（六）  教育學程課程 於初選第二階段限教育學程學生選修； 加退選階段開放全校學生選修 。\\n【修習此類課程需另繳交學分費 】 \\n（七）  各階段「選課結果 公布」時，請上網查對，並自行列印存查；加退選結束後，不再發\\n給正式選課紀錄（紙本） ，請依規定上網確認個人選課紀錄，逾期不受理任何更改 。 \\n（八）  選課系統【學期課程查詢】網頁內，【點選】之欄位數字，表本階段加選該課程但尚\\n未選上之人數。 加選前，應先查看目前已點選人數，當點選人數超出限修人數時，請\\n先評估選上可能性，以免課程額滿無法選上。  \\n（九）  選課應針對自己興趣及時間，勿執著加選某一老師， 以免延誤學期選課或課程修習，\\n致而影響畢業。  \\n（十）  選課時，請瞭解應修及最需要修習之課程， 以尚未修習者優先考慮 。', metadata={'source': './data/中大學1122選課須知.pdf', 'page': 4}),\n",
       " Document(page_content='4 \\n 四、 各階段辦理方式及注意事項  \\n(一) 必修課程確認 （請自行確認，未列出之必修課程務請自行加選）  \\n1、為使同學 優先加選必修課程， 同學進入選課系統需先執行必修課程確認 ，方可進行其他\\n課程加退選，請進入選課系統（簽入帳號密碼）／進入必修課程確認， 於表列必修課程\\n『保留課程欄』 勾選擬修習課程 ，按『送出』執行確認。 （保留欄位若未 勾選，執行送\\n出時，即放棄優先 加選必修課程機會，需修習者請自行加選）  \\n2、截至加退選結束均未執行確認者，視同未選修系統表列必修課程。  \\n僅修習必修課程學生請特別注意，選課階段未上網確認必修者，即視同未修課 。 \\n3、分組（多門）必修或因故未列於優先選修之必修課程，請於確認後自行選修。  \\n4、預列課程因選課時程因素，無法確實管控同學抵免、擋修、重覆修 習等免修或不得修習\\n狀況，同學請於執行確認時注意，已確認課程擬不修習時，需自行退選。  \\n(二) 超修學分申請  \\n1、請於選課系統（簽入帳號密碼）／選課相關資訊／ 點選『列印【超修學分申請表】 』。未\\n申請超修學分者， 配課時，超過每學期修課上限情形者，優先刪除志願序較大之課程。  \\n2、申請超修學分者，請於繳交申請單後，於選課期間內再自行上網加選課程。  \\n3、每學期修課學分上限：學士班 25學分、碩專班 12學分、碩博士班 15學分。  \\n4、學士班得於當學期超修一至二科目，在職專班須填寫修課計畫，並檢附相關文件。  \\n(三) 校際選課申請 (本校生 ) （請配合開課學校校際選課時程辦理）  \\n1、至本校教務處／表單下載／學生選課／列印『校際選課申請表 (本校生 )』，申請表 一科目\\n1份，並檢附開課學校課程資料（含開課系所、中英文課程名稱、學分、上課時間等）及\\n課程大綱。  \\n2、選修他校課程，應先向本校教務處提出申請，經系（所）主管核准（教育學程課程需經師\\n資培育中心核准，通識教育課程需經 西灣學院 核准） ，並依他校校際選課之規定辦理選課\\n手續後，於申請表註明之期限內將申請表繳回教務處辦理加選，逾期未繳回者，申請科目\\n逕予註銷。  \\n3、選讀他校之科目，以本校當學期未開設之科目為原則；除開課人數不足停開或衝堂外，\\n不得辦理退選。惟退選應於本校加退選截止日一週內檢具證明文件至本校教務處辦理，\\n逾期不予受理。', metadata={'source': './data/中大學1122選課須知.pdf', 'page': 5}),\n",
       " Document(page_content='資培育中心核准，通識教育課程需經 西灣學院 核准） ，並依他校校際選課之規定辦理選課\\n手續後，於申請表註明之期限內將申請表繳回教務處辦理加選，逾期未繳回者，申請科目\\n逕予註銷。  \\n3、選讀他校之科目，以本校當學期未開設之科目為原則；除開課人數不足停開或衝堂外，\\n不得辦理退選。惟退選應於本校加退選截止日一週內檢具證明文件至本校教務處辦理，\\n逾期不予受理。  \\n4、本校學士班學生每學期校際選課之科目學分總數，以不超過當學期修習學分總數的三分\\n之一為原則 ，惟延修生及修習跨校雙主修、輔系、學分學程者，不在此限 ；碩博士班學生\\n，以不超過肄業系所規定之最低畢業學分數的三分之一為原則。  \\n5、本校學則第 67條規定，在職專班學生不得選修他校課程 ，惟因修習教育學程、跨校學分\\n學程、獲准跨校交換及專案簽請核准者，不在此限 。 \\n6、一般學期學士班學生（不含延修生）選讀臺灣綜合大學系統學校（中正、中興、成功大\\n學）、高雄大學、高雄醫學大學、 高雄科技大學、 東華大學、金門大學、屏東科技大\\n學、中華民國海軍軍官學校 、空軍軍官學校 及慈濟大學 之課程者（不含教育學程），免\\n繳學分費，請按時前往上課 ；但暑期開設之課程，仍需依各校規定之應繳費用標準繳\\n費。  \\n7、一般學期碩博士班學生選讀高雄醫學大學 之課程者，免繳學分費，請按時前往上課 ；但\\n暑期開設之課程，仍需依各校規定之應繳費用標準繳費。  \\n8、辦理完成之申請表，請於繳交日起三個工作日後，可於選課系統／簽入帳號密碼／選課\\n結果查詢。  \\n(四) 初選1【限學士班學生選修通識課程 (其他學制學生請於加退選階段加選本類課程 )】 \\n1、加選：本階段為 『填列點數』加選，每類可選填三門，送出選課表後會於上方課表出現登\\n記加選。', metadata={'source': './data/中大學1122選課須知.pdf', 'page': 5}),\n",
       " Document(page_content='5 \\n    點數  填法：同一類不同課程依選修意願高低，自行分配點數填入，每科目填列點數由 0--\\n100點自由填列。  \\n退選：確認送出選課表後，系統隨即刪除該筆課程；誤退的課程重新加選，仍依【 五、\\n選課結果篩選次序】篩選。  \\n2、學士班通識教育課程架構請至 西灣學院 網頁參閱各學年度通識教育課程架構。  \\n3、通識課程每類可選填三門 ： \\n(1)語文課程：(1)中文思辨與表達 (2)英語文，計 2類，每類 100點。  \\n(2)跨院選修： 100點。  \\n(3)博雅課程： 100點。  \\n(4)服務學習課程： 100點。  \\n(5)運動與健康 (必選修體育） ： 100點。  \\n4、本類課程建議依必修科目表排定之學期選修，以免失去優先選修權，影響以後學期選課。  \\n5、應用性課程（含軍訓） ，於「 初選2階段開放學士班學生加選；研究所學生於「加退選」階\\n段加選。  \\n6、選上課程數限制說明：  \\n(1)跨院選修 及博雅課程 ：以選上一門為限，加退選階段可加選第二門。  \\n(2)運動與健康 ：以選上二門不同選項課程（含重修或補修）為限 。 \\n(3)其它各類課程 ：以選上一門為限 。 \\n \\n(五) 初選2 \\n1、加選：本階段為 『填列志願』加選，志願序不得重複，送出選課表後會於上方課表出現登\\n記加選。【範例】加選三科的志願序正確填法： 1、2、3，錯誤填法： 1、1、1。 \\n   志願填法 ：加選課程時，依選修意願前後，自行分配志願前後填入，每個志願序不得重\\n複，至多可填列 20門課。  \\n同一時間使用不同志願登記加選多科，個人功課表會出現【衝堂】訊息，系統配課依選\\n上志願序篩取一科，但如與已確認之必修課程衝堂，則保留該必修課程。  \\n退選：確認送出選課表後，系統隨即刪除該筆課程；誤退的課程重新加選後，仍依\\n【五、選課結果篩選次序】篩選。  \\n \\n2、本階段適用課程及學生  \\n課程類別  \\n學生身分  學士課程  \\n(通識 &專業課程 ) 碩士  \\n課程  博士  \\n課程  教育學程  碩專  \\n課程  \\n學士班學生  V V \\n(大三、大四 )  V(限教育學程學生 )  \\n碩、博士生   V V V(限教育學程學生 )  \\n碩專班學生   V V V(限教育學程學生 ) V \\n \\n3、通識課程選上課程數限制同初選 1階段。 \\n(六) 加退選 1、2', metadata={'source': './data/中大學1122選課須知.pdf', 'page': 6}),\n",
       " Document(page_content='課程類別  \\n學生身分  學士課程  \\n(通識 &專業課程 ) 碩士  \\n課程  博士  \\n課程  教育學程  碩專  \\n課程  \\n學士班學生  V V \\n(大三、大四 )  V(限教育學程學生 )  \\n碩、博士生   V V V(限教育學程學生 )  \\n碩專班學生   V V V(限教育學程學生 ) V \\n \\n3、通識課程選上課程數限制同初選 1階段。 \\n(六) 加退選 1、2 \\n1、加選：本階段同初選 2，以『填列志願』加選，志願序不得重複，送出選課表後會於上方\\n課表出現登記加選。 【範例】加選三科的志願序正確填法： 1、2、3，錯誤填法： 1、1、1。 \\n志願填法 ：加選課程時，依選修意願前後，自行分配志願前後填入，每個志願序不得重複，\\n至多可填列 20門課。  \\n同一時間使用不同志願登記加選多科，個人功課表會出現【衝堂】訊息，系統配課依選\\n上志願序篩取一科，但如與已確認之必修課程衝堂，則保留該必修課程。  \\n退選：確認送出選課表後，系統隨即刪除該筆課程；誤退的課程重新加選後，仍依【 五、\\n選課結果篩選次序 】篩選。', metadata={'source': './data/中大學1122選課須知.pdf', 'page': 6})]"
      ]
     },
     "execution_count": 251,
     "metadata": {},
     "output_type": "execute_result"
    }
   ],
   "source": [
    "loader = PyPDFLoader(\"./data/中大學1122選課須知.pdf\")\n",
    "pages = loader.load()\n",
    "pages\n",
    "text_splitter = RecursiveCharacterTextSplitter(\n",
    "    # Set a really small chunk size, just to show.\n",
    "    chunk_size=1000,\n",
    "    chunk_overlap=200,\n",
    "    length_function=len,\n",
    "    is_separator_regex=False,\n",
    ")\n",
    "texts = text_splitter.split_documents(pages)\n",
    "texts[:10]"
   ]
  },
  {
   "cell_type": "markdown",
   "metadata": {},
   "source": [
    "- 將文檔轉換為 embedding\n",
    "- 存入 vectorDB"
   ]
  },
  {
   "cell_type": "code",
   "execution_count": 252,
   "metadata": {},
   "outputs": [
    {
     "name": "stderr",
     "output_type": "stream",
     "text": [
      "/home/zchenchen1999/.conda/envs/2024SMA/lib/python3.11/site-packages/huggingface_hub/file_download.py:1132: FutureWarning: `resume_download` is deprecated and will be removed in version 1.0.0. Downloads always resume when possible. If you want to force a new download, use `force_download=True`.\n",
      "  warnings.warn(\n"
     ]
    }
   ],
   "source": [
    "\n",
    "embedding_function = SentenceTransformerEmbeddings(model_name=\"lier007/xiaobu-embedding\")\n",
    "\n",
    "vectorstore = Chroma.from_documents(documents=texts, embedding=embedding_function)\n",
    "\n",
    "retriever = vectorstore.as_retriever()"
   ]
  },
  {
   "cell_type": "markdown",
   "metadata": {},
   "source": [
    "測試找尋相關文檔"
   ]
  },
  {
   "cell_type": "code",
   "execution_count": 256,
   "metadata": {},
   "outputs": [
    {
     "name": "stdout",
     "output_type": "stream",
     "text": [
      "【初選】 \n",
      "初選 1 (限學士班選通識課 程) 1 / 26 (五) 09:00   1 / 30 (二) 17:00  \n",
      "初選 1《結果公布》  1 / 31 (三) 14:00  \n",
      "初選 2 2 / 1 (四) 09:00 2 / 5 (一) 17:00  \n",
      "初選 2《結果公布》 2 / 6 (二) 14:00  \n",
      "【加退選】\n"
     ]
    }
   ],
   "source": [
    "# query it\n",
    "query = \"初選1什麼時候開始選課？\"\n",
    "docs = vectorstore.similarity_search(query)\n",
    "\n",
    "# print results\n",
    "print(docs[0].page_content)"
   ]
  },
  {
   "cell_type": "markdown",
   "metadata": {},
   "source": [
    "定義 RAG prompt 與 chain"
   ]
  },
  {
   "cell_type": "code",
   "execution_count": 307,
   "metadata": {},
   "outputs": [
    {
     "name": "stdout",
     "output_type": "stream",
     "text": [
      "              +---------------------------------+           \n",
      "              | Parallel<context,question>Input |           \n",
      "              +---------------------------------+           \n",
      "                    ****                ****                \n",
      "                 ***                        ***             \n",
      "               **                              ***          \n",
      "+----------------------+                          **        \n",
      "| VectorStoreRetriever |                           *        \n",
      "+----------------------+                           *        \n",
      "            *                                      *        \n",
      "            *                                      *        \n",
      "            *                                      *        \n",
      "+---------------------+                     +-------------+ \n",
      "| Lambda(format_docs) |                     | Passthrough | \n",
      "+---------------------+                     +-------------+ \n",
      "                    ****                ****                \n",
      "                        ***          ***                    \n",
      "                           **      **                       \n",
      "              +----------------------------------+          \n",
      "              | Parallel<context,question>Output |          \n",
      "              +----------------------------------+          \n",
      "                                *                           \n",
      "                                *                           \n",
      "                                *                           \n",
      "                      +----------------+                    \n",
      "                      | PromptTemplate |                    \n",
      "                      +----------------+                    \n",
      "                                *                           \n",
      "                                *                           \n",
      "                                *                           \n",
      "                    +---------------------+                 \n",
      "                    | HuggingFaceEndpoint |                 \n",
      "                    +---------------------+                 \n",
      "                                *                           \n",
      "                                *                           \n",
      "                                *                           \n",
      "                 +---------------------------+              \n",
      "                 | HuggingFaceEndpointOutput |              \n",
      "                 +---------------------------+              \n"
     ]
    }
   ],
   "source": [
    "def format_docs(docs):\n",
    "    return \"\\n\\n\".join(doc.page_content for doc in docs)\n",
    "\n",
    "rag_prompt_templete = \"\"\"<start_of_turn>user\n",
    "\"角色\": \"選課機器人\",\n",
    "\"服務內容\": \n",
    "你是一個樂於幫助學生的機器人，關於選課或課程的問題你都可以依照以下文件中的規定來回答學生。\\n\n",
    "現在給予以下相關文件, 你將會基於以下 [文件][文件] 中的相關文件與 [回答規則][回答規則] 中的回答規則來回答學生的問題。\\n\n",
    "\\n\n",
    "[文件]\n",
    "{context}\n",
    "[文件]\n",
    "\\n\n",
    "[回答規則]\n",
    "只依據 [文件][文件] 中提供的資訊來回答，並且遵照下列的幾點規則：\n",
    "- 不撒謊或幻想 [文件][文件] 中未明確提供的答案\n",
    "- 如果不確定答案或答案未明確包含在 [文件][文件] 中，請回答：“我很抱歉，我不知道如何提供幫助。”\n",
    "- 回答簡短、相關且簡潔的答案\n",
    "- 回答字數請少於 150 個字\n",
    "- 請在 [結果]: 之後回答你的答案\n",
    "[回答規則]\n",
    "\n",
    "<</SYS>>\n",
    "現在，基於上述的文件與規則，回答以下 () 中的問題\\n[學生]:({question})\\n<end_of_turn>\n",
    "<start_of_turn>model[結果]:\"\"\"\n",
    "\n",
    "rag_prompt = PromptTemplate.from_template(rag_prompt_templete)\n",
    "\n",
    "rag_chain = (\n",
    "    {\"context\": retriever | format_docs, \"question\": RunnablePassthrough()}\n",
    "    | rag_prompt\n",
    "    | llm\n",
    ")\n",
    "rag_chain.get_graph().print_ascii()"
   ]
  },
  {
   "cell_type": "code",
   "execution_count": 274,
   "metadata": {},
   "outputs": [
    {
     "data": {
      "text/plain": [
       "' 初選2的選課開始日期時間為 2 / 1 (四) 09:00。'"
      ]
     },
     "execution_count": 274,
     "metadata": {},
     "output_type": "execute_result"
    }
   ],
   "source": [
    "rag_chain.invoke(\"初選2什麼時候開始選課？\")\n"
   ]
  }
 ],
 "metadata": {
  "kernelspec": {
   "display_name": "2024SMA",
   "language": "python",
   "name": "python3"
  },
  "language_info": {
   "codemirror_mode": {
    "name": "ipython",
    "version": 3
   },
   "file_extension": ".py",
   "mimetype": "text/x-python",
   "name": "python",
   "nbconvert_exporter": "python",
   "pygments_lexer": "ipython3",
   "version": "3.11.9"
  }
 },
 "nbformat": 4,
 "nbformat_minor": 2
}
