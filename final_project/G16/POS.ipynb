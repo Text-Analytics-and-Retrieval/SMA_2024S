{
 "cells": [
  {
   "cell_type": "markdown",
   "metadata": {},
   "source": [
    "## Phishing Email 的 POS"
   ]
  },
  {
   "cell_type": "code",
   "execution_count": 14,
   "metadata": {},
   "outputs": [],
   "source": [
    "import stanza\n",
    "from stanza.server import CoreNLPClient\n",
    "\n",
    "import os\n",
    "import pandas as pd\n",
    "\n",
    "import nltk\n",
    "from nltk.parse import CoreNLPParser\n",
    "from nltk.parse.corenlp import *\n",
    "from nltk.corpus import stopwords\n",
    "from nltk.stem.porter import PorterStemmer\n",
    "from nltk.stem import WordNetLemmatizer\n",
    "from nltk.corpus import wordnet\n",
    "\n",
    "from wordcloud import WordCloud\n",
    "\n",
    "import re\n",
    "import matplotlib.pyplot as plt"
   ]
  },
  {
   "cell_type": "markdown",
   "metadata": {},
   "source": [
    "## 設定 CoreNLP"
   ]
  },
  {
   "cell_type": "code",
   "execution_count": 2,
   "metadata": {},
   "outputs": [
    {
     "name": "stderr",
     "output_type": "stream",
     "text": [
      "2024-05-18 12:51:54 WARNING: Directory ./stanza_corenlp already exists. Please install CoreNLP to a new directory.\n"
     ]
    }
   ],
   "source": [
    "# stanza.install_corenlp(\"./stanza_corenlp\") # 下載coreNLP模型，預設會在/stanza_corenlp裡面"
   ]
  },
  {
   "cell_type": "code",
   "execution_count": 2,
   "metadata": {},
   "outputs": [],
   "source": [
    "os.environ['CORENLP_HOME'] = \"./stanza_corenlp\" # 因為自訂下載路徑，所以要設定環境參數"
   ]
  },
  {
   "cell_type": "code",
   "execution_count": 6,
   "metadata": {},
   "outputs": [],
   "source": [
    "## 讀取文章\n",
    "mails_df = pd.read_csv('dataset/Phishing_Email.csv')"
   ]
  },
  {
   "cell_type": "code",
   "execution_count": null,
   "metadata": {},
   "outputs": [],
   "source": [
    "# 刪除標點符號/數字/換行符號\n",
    "mails_df[\"Email Text\"] = mails_df[\"Email Text\"].apply(lambda x: re.sub(r'[^\\w\\s]','', str(x)))  #只留下英文字母和空格(包含換行符號)\n",
    "mails_df[\"Email Text\"] = mails_df[\"Email Text\"].apply(lambda x: re.sub(r'[\\n_-]+',' ', x)) #將換行符號替換成空格\n",
    "\n",
    "# 去除空值\n",
    "mails_df = mails_df[mails_df[\"Email Text\"] != 'empty']\n",
    "\n",
    "# 把欄位名字變好聽\n",
    "mails_df = mails_df.rename(columns={\"Unnamed: 0\":\"index\"})\n",
    "\n",
    "mails_df.info()"
   ]
  },
  {
   "cell_type": "code",
   "execution_count": null,
   "metadata": {},
   "outputs": [],
   "source": [
    "Phishing_mails = mails_df[mails_df[\"Email Type\"] == 'Phishing Email']\n",
    "Phishing_mails.info()"
   ]
  },
  {
   "cell_type": "code",
   "execution_count": 73,
   "metadata": {},
   "outputs": [],
   "source": [
    "def get_nlp_result(df, text_col, id_col):    \n",
    "    \n",
    "    print(\"Starting a server with the Python \\\"with\\\" statement...\")\n",
    "    \n",
    "    start = time.time()\n",
    "\n",
    "    with CoreNLPClient(\n",
    "        # annotators = ['tokenize','ssplit', 'pos', 'lemma', 'ner','sentiment','entitymentions'],\n",
    "        annotators = ['tokenize','ssplit', 'pos'],\n",
    "        memory = '32G', endpoint = 'http://localhost:7777' , be_quiet=True, \n",
    "    ) as client:\n",
    "        \n",
    "        token_list = []        \n",
    "        for index, row in df.iterrows(): # document level  \n",
    "            print(index)\n",
    "            # send text into client\n",
    "            document = client.annotate(row[text_col])                \n",
    "            # print(f\"{'Word':12s}\\t{'Lemma':12s}\\t{'POS':6s}\\t{'NER'}\")    \n",
    "            \n",
    "             # sentence level\n",
    "            for i, sent in enumerate(document.sentence):                \n",
    "                s = \"\"\n",
    "                # token level\n",
    "                for t in sent.token: \n",
    "                    s = s + \" \" + t.word # for sentence                \n",
    "                    # print(\"{:12s}\\t{:12s}\\t{:6s}\\t{}\".format(t.word, t.lemma, t.pos, t.ner))                \n",
    "                    # save lemma, pos, ner\n",
    "                    temp_token = [row[id_col],t.word, t.pos]     \n",
    "                    token_list.append(temp_token) \n",
    "\n",
    "\n",
    "        token_table = pd.DataFrame(data=token_list, \n",
    "                            columns=[id_col, 'word', 'pos'])        \n",
    "\n",
    "        end = time.time()\n",
    "\n",
    "        print(\"time costing: {}\".format(end - start))\n",
    "        print(\"\\nThe server should be stopped upon exit from the \\\"with\\\" statement.\")\n",
    "\n",
    "        # return token_table, senti_table , mention_table\n",
    "        return token_table"
   ]
  },
  {
   "cell_type": "code",
   "execution_count": null,
   "metadata": {},
   "outputs": [],
   "source": [
    "Phishing_mails.reset_index(drop=True)"
   ]
  },
  {
   "cell_type": "code",
   "execution_count": 121,
   "metadata": {},
   "outputs": [],
   "source": [
    "# 8069 有12萬個字\n",
    "Phishing_mails_new = Phishing_mails[Phishing_mails[\"index\"] != 8069]"
   ]
  },
  {
   "cell_type": "code",
   "execution_count": null,
   "metadata": {},
   "outputs": [],
   "source": [
    "# 跑POS\n",
    "tokens1 = get_nlp_result(Phishing_mails_new, 'Email Text','index') # 資料框, 要處理的文字欄位名, id 欄位名"
   ]
  },
  {
   "cell_type": "code",
   "execution_count": null,
   "metadata": {},
   "outputs": [],
   "source": [
    "tokens1.info()"
   ]
  },
  {
   "cell_type": "code",
   "execution_count": null,
   "metadata": {},
   "outputs": [],
   "source": [
    "# 檢查筆數正不正確\n",
    "print(f\"total posts numbers: {len()}\") # 62 篇"
   ]
  },
  {
   "cell_type": "code",
   "execution_count": null,
   "metadata": {},
   "outputs": [],
   "source": [
    "# tokens1['pos'].unique()\n",
    "pos_count = tokens1.groupby(['pos'])['pos'].count().reset_index(name='count').sort_values(['count'], ascending=False).head(10)\n",
    "pos_count"
   ]
  },
  {
   "cell_type": "code",
   "execution_count": 128,
   "metadata": {},
   "outputs": [],
   "source": [
    "# 儲存結果\n",
    "tokens1.to_csv('dataset/Phishing_pos.csv', encoding = 'utf-8', index = False)"
   ]
  },
  {
   "cell_type": "markdown",
   "metadata": {},
   "source": [
    "## 讀取POS資料集並分析"
   ]
  },
  {
   "cell_type": "code",
   "execution_count": 2,
   "metadata": {},
   "outputs": [
    {
     "name": "stdout",
     "output_type": "stream",
     "text": [
      "<class 'pandas.core.frame.DataFrame'>\n",
      "RangeIndex: 1801016 entries, 0 to 1801015\n",
      "Data columns (total 3 columns):\n",
      " #   Column  Dtype \n",
      "---  ------  ----- \n",
      " 0   index   int64 \n",
      " 1   word    object\n",
      " 2   pos     object\n",
      "dtypes: int64(1), object(2)\n",
      "memory usage: 41.2+ MB\n"
     ]
    }
   ],
   "source": [
    "Phishing_pos = pd.read_csv(\"dataset/Phishing_pos.csv\")\n",
    "Phishing_pos.info()"
   ]
  },
  {
   "cell_type": "markdown",
   "metadata": {},
   "source": [
    "### 去除停用字 & 去除只有一個字母的"
   ]
  },
  {
   "cell_type": "code",
   "execution_count": 3,
   "metadata": {},
   "outputs": [],
   "source": [
    "def is_single_english_letter(word):\n",
    "    # 使用正則表達式匹配僅包含一個英文字母的字符串\n",
    "    #return bool(re.fullmatch(r'[a-zA-Z]', word))\n",
    "    return len(str(word)) <= 1\n",
    "\n",
    "Phishing_pos = Phishing_pos[~Phishing_pos['word'].apply(is_single_english_letter)]"
   ]
  },
  {
   "cell_type": "code",
   "execution_count": 4,
   "metadata": {},
   "outputs": [
    {
     "name": "stderr",
     "output_type": "stream",
     "text": [
      "[nltk_data] Downloading package stopwords to\n",
      "[nltk_data]     C:\\Users\\ariel\\AppData\\Roaming\\nltk_data...\n",
      "[nltk_data]   Package stopwords is already up-to-date!\n"
     ]
    }
   ],
   "source": [
    "# 初次使用需要安裝nltk中的停用字資源\n",
    "nltk.download('stopwords')\n",
    "# 使用nltk的stop_words\n",
    "stops = stopwords.words('english')\n",
    "# 手動加入停用字\n",
    "newStops = ['email','com','wa','ect','one','would','could','may','can','de','also','edu','ha']\n",
    "stops.extend(newStops)"
   ]
  },
  {
   "cell_type": "code",
   "execution_count": 97,
   "metadata": {},
   "outputs": [
    {
     "name": "stdout",
     "output_type": "stream",
     "text": [
      "<class 'pandas.core.frame.DataFrame'>\n",
      "Index: 1092670 entries, 0 to 1801015\n",
      "Data columns (total 3 columns):\n",
      " #   Column  Non-Null Count    Dtype \n",
      "---  ------  --------------    ----- \n",
      " 0   index   1092670 non-null  int64 \n",
      " 1   word    1092620 non-null  object\n",
      " 2   pos     1092670 non-null  object\n",
      "dtypes: int64(1), object(2)\n",
      "memory usage: 33.3+ MB\n"
     ]
    }
   ],
   "source": [
    "Phishing_pos_noStop = Phishing_pos[~Phishing_pos['word'].isin(stops)]\n",
    "Phishing_pos_noStop.info()"
   ]
  },
  {
   "cell_type": "markdown",
   "metadata": {},
   "source": [
    "## lemmatizing"
   ]
  },
  {
   "cell_type": "code",
   "execution_count": 101,
   "metadata": {},
   "outputs": [
    {
     "name": "stderr",
     "output_type": "stream",
     "text": [
      "[nltk_data] Downloading package punkt to\n",
      "[nltk_data]     C:\\Users\\ariel\\AppData\\Roaming\\nltk_data...\n",
      "[nltk_data]   Package punkt is already up-to-date!\n",
      "[nltk_data] Downloading package averaged_perceptron_tagger to\n",
      "[nltk_data]     C:\\Users\\ariel\\AppData\\Roaming\\nltk_data...\n",
      "[nltk_data]   Package averaged_perceptron_tagger is already up-to-\n",
      "[nltk_data]       date!\n",
      "[nltk_data] Downloading package wordnet to\n",
      "[nltk_data]     C:\\Users\\ariel\\AppData\\Roaming\\nltk_data...\n",
      "[nltk_data]   Package wordnet is already up-to-date!\n"
     ]
    },
    {
     "data": {
      "text/plain": [
       "nltk.stem.wordnet.WordNetLemmatizer"
      ]
     },
     "execution_count": 101,
     "metadata": {},
     "output_type": "execute_result"
    }
   ],
   "source": [
    "nltk.download('punkt')\n",
    "nltk.download('averaged_perceptron_tagger')\n",
    "nltk.download('wordnet')\n",
    "lemmaa = WordNetLemmatizer()\n",
    "type(lemmaa)"
   ]
  },
  {
   "cell_type": "code",
   "execution_count": 15,
   "metadata": {},
   "outputs": [],
   "source": [
    "def get_wordnet_pos(tag):\n",
    "    if tag.startswith('J'):\n",
    "        return wordnet.ADJ\n",
    "    elif tag.startswith('V'):\n",
    "        return wordnet.VERB\n",
    "    elif tag.startswith('N'):\n",
    "        return wordnet.NOUN\n",
    "    elif tag.startswith('R'):\n",
    "        return wordnet.ADV\n",
    "    else:\n",
    "        return None"
   ]
  },
  {
   "cell_type": "code",
   "execution_count": 16,
   "metadata": {},
   "outputs": [
    {
     "name": "stdout",
     "output_type": "stream",
     "text": [
      "原句的斷詞結果：\n",
      " ['He', 'was', 'running', 'and', 'eating', 'at', 'same', 'time', '.', 'He', 'has', 'bad', 'habit', 'of', 'hiking', 'after', 'playing', 'long', 'hours', 'in', 'the', 'Sun', '.']\n",
      "還原后：\n",
      " ['He', 'be', 'run', 'and', 'eat', 'at', 'same', 'time', '.', 'He', 'have', 'bad', 'habit', 'of', 'hike', 'after', 'play', 'long', 'hour', 'in', 'the', 'Sun', '.']\n"
     ]
    }
   ],
   "source": [
    "text = \"He was running and eating at same time. He has bad habit of hiking after playing long hours in the Sun.\"\n",
    "tokens = nltk.word_tokenize(text)\n",
    "print(\"原句的斷詞結果：\\n\", tokens)\n",
    "tagged_tokens = nltk.pos_tag(tokens)\n",
    "lemmatized_tokens = []\n",
    "for token, tag in tagged_tokens:\n",
    "    pos = get_wordnet_pos(tag)\n",
    "    if pos:\n",
    "        lemmatized_tokens.append(lemmaa.lemmatize(token, pos))\n",
    "    else:\n",
    "        lemmatized_tokens.append(lemmaa.lemmatize(token))\n",
    "print(\"還原后：\\n\", lemmatized_tokens)"
   ]
  },
  {
   "cell_type": "markdown",
   "metadata": {},
   "source": [
    "確認 lemmatizing 的效果後，對資料集所有詞性做 lemmatizing"
   ]
  },
  {
   "cell_type": "code",
   "execution_count": 103,
   "metadata": {},
   "outputs": [],
   "source": [
    "def lemmatize_word(word):\n",
    "    if isinstance(word, str):  # 确保输入是字符串\n",
    "        token = nltk.word_tokenize(word)\n",
    "        if token:  # 确保 token 列表非空\n",
    "            tagged_token = nltk.pos_tag(token)[0]  # 这里假设每个词是独立的\n",
    "            pos = get_wordnet_pos(tagged_token[1])\n",
    "            if pos:\n",
    "                return lemmaa.lemmatize(tagged_token[0], pos)\n",
    "            else:\n",
    "                return lemmaa.lemmatize(tagged_token[0])\n",
    "    return word"
   ]
  },
  {
   "cell_type": "code",
   "execution_count": 102,
   "metadata": {},
   "outputs": [
    {
     "data": {
      "text/html": [
       "<div>\n",
       "<style scoped>\n",
       "    .dataframe tbody tr th:only-of-type {\n",
       "        vertical-align: middle;\n",
       "    }\n",
       "\n",
       "    .dataframe tbody tr th {\n",
       "        vertical-align: top;\n",
       "    }\n",
       "\n",
       "    .dataframe thead th {\n",
       "        text-align: right;\n",
       "    }\n",
       "</style>\n",
       "<table border=\"1\" class=\"dataframe\">\n",
       "  <thead>\n",
       "    <tr style=\"text-align: right;\">\n",
       "      <th></th>\n",
       "      <th>index</th>\n",
       "      <th>word</th>\n",
       "      <th>pos</th>\n",
       "    </tr>\n",
       "  </thead>\n",
       "  <tbody>\n",
       "    <tr>\n",
       "      <th>0</th>\n",
       "      <td>3</td>\n",
       "      <td>hello</td>\n",
       "      <td>UH</td>\n",
       "    </tr>\n",
       "    <tr>\n",
       "      <th>4</th>\n",
       "      <td>3</td>\n",
       "      <td>hot</td>\n",
       "      <td>JJ</td>\n",
       "    </tr>\n",
       "    <tr>\n",
       "      <th>5</th>\n",
       "      <td>3</td>\n",
       "      <td>lil</td>\n",
       "      <td>NN</td>\n",
       "    </tr>\n",
       "    <tr>\n",
       "      <th>6</th>\n",
       "      <td>3</td>\n",
       "      <td>horny</td>\n",
       "      <td>JJ</td>\n",
       "    </tr>\n",
       "    <tr>\n",
       "      <th>7</th>\n",
       "      <td>3</td>\n",
       "      <td>toy</td>\n",
       "      <td>NN</td>\n",
       "    </tr>\n",
       "    <tr>\n",
       "      <th>...</th>\n",
       "      <td>...</td>\n",
       "      <td>...</td>\n",
       "      <td>...</td>\n",
       "    </tr>\n",
       "    <tr>\n",
       "      <th>1801011</th>\n",
       "      <td>18646</td>\n",
       "      <td>liveadulthosting</td>\n",
       "      <td>NN</td>\n",
       "    </tr>\n",
       "    <tr>\n",
       "      <th>1801012</th>\n",
       "      <td>18646</td>\n",
       "      <td>biz</td>\n",
       "      <td>NN</td>\n",
       "    </tr>\n",
       "    <tr>\n",
       "      <th>1801013</th>\n",
       "      <td>18646</td>\n",
       "      <td>lm</td>\n",
       "      <td>NNP</td>\n",
       "    </tr>\n",
       "    <tr>\n",
       "      <th>1801014</th>\n",
       "      <td>18646</td>\n",
       "      <td>signup</td>\n",
       "      <td>NN</td>\n",
       "    </tr>\n",
       "    <tr>\n",
       "      <th>1801015</th>\n",
       "      <td>18646</td>\n",
       "      <td>php</td>\n",
       "      <td>NN</td>\n",
       "    </tr>\n",
       "  </tbody>\n",
       "</table>\n",
       "<p>1092670 rows × 3 columns</p>\n",
       "</div>"
      ],
      "text/plain": [
       "         index              word  pos\n",
       "0            3             hello   UH\n",
       "4            3               hot   JJ\n",
       "5            3               lil   NN\n",
       "6            3             horny   JJ\n",
       "7            3               toy   NN\n",
       "...        ...               ...  ...\n",
       "1801011  18646  liveadulthosting   NN\n",
       "1801012  18646               biz   NN\n",
       "1801013  18646                lm  NNP\n",
       "1801014  18646            signup   NN\n",
       "1801015  18646               php   NN\n",
       "\n",
       "[1092670 rows x 3 columns]"
      ]
     },
     "execution_count": 102,
     "metadata": {},
     "output_type": "execute_result"
    }
   ],
   "source": [
    "lower_df = Phishing_pos_noStop.assign(word = Phishing_pos_noStop['word'].str.lower())\n",
    "lower_df"
   ]
  },
  {
   "cell_type": "code",
   "execution_count": 113,
   "metadata": {},
   "outputs": [
    {
     "data": {
      "text/html": [
       "<div>\n",
       "<style scoped>\n",
       "    .dataframe tbody tr th:only-of-type {\n",
       "        vertical-align: middle;\n",
       "    }\n",
       "\n",
       "    .dataframe tbody tr th {\n",
       "        vertical-align: top;\n",
       "    }\n",
       "\n",
       "    .dataframe thead th {\n",
       "        text-align: right;\n",
       "    }\n",
       "</style>\n",
       "<table border=\"1\" class=\"dataframe\">\n",
       "  <thead>\n",
       "    <tr style=\"text-align: right;\">\n",
       "      <th></th>\n",
       "      <th>index</th>\n",
       "      <th>word</th>\n",
       "      <th>pos</th>\n",
       "      <th>lemmatized</th>\n",
       "    </tr>\n",
       "  </thead>\n",
       "  <tbody>\n",
       "    <tr>\n",
       "      <th>0</th>\n",
       "      <td>3</td>\n",
       "      <td>hello</td>\n",
       "      <td>UH</td>\n",
       "      <td>hello</td>\n",
       "    </tr>\n",
       "    <tr>\n",
       "      <th>4</th>\n",
       "      <td>3</td>\n",
       "      <td>hot</td>\n",
       "      <td>JJ</td>\n",
       "      <td>hot</td>\n",
       "    </tr>\n",
       "    <tr>\n",
       "      <th>5</th>\n",
       "      <td>3</td>\n",
       "      <td>lil</td>\n",
       "      <td>NN</td>\n",
       "      <td>lil</td>\n",
       "    </tr>\n",
       "    <tr>\n",
       "      <th>6</th>\n",
       "      <td>3</td>\n",
       "      <td>horny</td>\n",
       "      <td>JJ</td>\n",
       "      <td>horny</td>\n",
       "    </tr>\n",
       "    <tr>\n",
       "      <th>7</th>\n",
       "      <td>3</td>\n",
       "      <td>toy</td>\n",
       "      <td>NN</td>\n",
       "      <td>toy</td>\n",
       "    </tr>\n",
       "    <tr>\n",
       "      <th>...</th>\n",
       "      <td>...</td>\n",
       "      <td>...</td>\n",
       "      <td>...</td>\n",
       "      <td>...</td>\n",
       "    </tr>\n",
       "    <tr>\n",
       "      <th>1801011</th>\n",
       "      <td>18646</td>\n",
       "      <td>liveadulthosting</td>\n",
       "      <td>NN</td>\n",
       "      <td>liveadulthosting</td>\n",
       "    </tr>\n",
       "    <tr>\n",
       "      <th>1801012</th>\n",
       "      <td>18646</td>\n",
       "      <td>biz</td>\n",
       "      <td>NN</td>\n",
       "      <td>biz</td>\n",
       "    </tr>\n",
       "    <tr>\n",
       "      <th>1801013</th>\n",
       "      <td>18646</td>\n",
       "      <td>lm</td>\n",
       "      <td>NNP</td>\n",
       "      <td>lm</td>\n",
       "    </tr>\n",
       "    <tr>\n",
       "      <th>1801014</th>\n",
       "      <td>18646</td>\n",
       "      <td>signup</td>\n",
       "      <td>NN</td>\n",
       "      <td>signup</td>\n",
       "    </tr>\n",
       "    <tr>\n",
       "      <th>1801015</th>\n",
       "      <td>18646</td>\n",
       "      <td>php</td>\n",
       "      <td>NN</td>\n",
       "      <td>php</td>\n",
       "    </tr>\n",
       "  </tbody>\n",
       "</table>\n",
       "<p>1092670 rows × 4 columns</p>\n",
       "</div>"
      ],
      "text/plain": [
       "         index              word  pos        lemmatized\n",
       "0            3             hello   UH             hello\n",
       "4            3               hot   JJ               hot\n",
       "5            3               lil   NN               lil\n",
       "6            3             horny   JJ             horny\n",
       "7            3               toy   NN               toy\n",
       "...        ...               ...  ...               ...\n",
       "1801011  18646  liveadulthosting   NN  liveadulthosting\n",
       "1801012  18646               biz   NN               biz\n",
       "1801013  18646                lm  NNP                lm\n",
       "1801014  18646            signup   NN            signup\n",
       "1801015  18646               php   NN               php\n",
       "\n",
       "[1092670 rows x 4 columns]"
      ]
     },
     "execution_count": 113,
     "metadata": {},
     "output_type": "execute_result"
    }
   ],
   "source": [
    "lower_df['lemmatized'] = lower_df['word'].apply(lemmatize_word)\n",
    "lower_df"
   ]
  },
  {
   "cell_type": "markdown",
   "metadata": {},
   "source": [
    "### POS 種類分析\n",
    "查看辨識出哪幾種POS"
   ]
  },
  {
   "cell_type": "code",
   "execution_count": 115,
   "metadata": {},
   "outputs": [
    {
     "data": {
      "text/plain": [
       "array(['UH', 'JJ', 'NN', 'VBP', 'RB', 'VB', 'NNP', 'PRP', 'NNS', 'IN',\n",
       "       'PRP$', 'VBN', 'RP', 'CD', 'ADD', 'JJR', 'VBD', 'VBG', 'VBZ',\n",
       "       'JJS', 'FW', 'MD', 'PDT', 'NFP', 'CC', 'TO', 'NNPS', 'DT', 'AFX',\n",
       "       'RBS', 'RBR', 'EX', 'WP$', 'WRB', 'WP', 'WDT', 'GW', 'SYM', '$',\n",
       "       'LS'], dtype=object)"
      ]
     },
     "execution_count": 115,
     "metadata": {},
     "output_type": "execute_result"
    }
   ],
   "source": [
    "lower_df['pos'].unique()"
   ]
  },
  {
   "cell_type": "markdown",
   "metadata": {},
   "source": [
    "### POS 詞頻"
   ]
  },
  {
   "cell_type": "markdown",
   "metadata": {},
   "source": [
    "#### POS 常見詞性列表\n",
    "名詞對應：https://docs.datasaur.ai/assisted-labeling/ml-assisted-labeling/corenlp-pos\n",
    "+ NN - 單數名詞 (e.g., dog, music, work)\n",
    "+ JJ - 形容詞 (e.g., big, old, green)\n",
    "+ NNS - 複數名詞 (e.g., dogs, songs, cars)\n",
    "+ CD  - 基數 (e.g., one, two, 3)\n",
    "+ VB - 動詞原形 (e.g., run, eat, be)\n",
    "+ NNP - 專有名詞單數 (e.g., London, John)\n",
    "+ RB - 副詞 (e.g., quickly, never, well)\n",
    "+ VBN - 過去分詞 (e.g., run, eaten, been)\n",
    "+ VBP - 現在式非第三人稱單數動詞 (e.g., run, eat, am)\n",
    "+ VBG - 動名詞或現在分詞 (e.g., running, eating)\n",
    "+ IN - 介詞或從屬連接詞 (e.g., in, of, like, since)\n",
    "+ VBZ - 現在式第三人稱單數動詞 (e.g., runs, eats, is)\n",
    "+ FW - 外來詞 (e.g., en route, faux pas)\n",
    "+ VBD - 過去式動詞 (e.g., ran, ate, was)\n",
    "+ DT - 限定詞 (e.g., the, a, an)\n",
    "+ PRP - 人稱代詞 (e.g., I, he, she, they)\n",
    "+ UH - 感嘆詞 (e.g., oh, wow, huh)\n",
    "+ JJS - 最高級形容詞 (e.g., biggest, oldest)\n",
    "+ GW - 標記 (e.g., hyphenated words)\n",
    "+ MD - 情態動詞 (e.g., can, could, will)"
   ]
  },
  {
   "cell_type": "code",
   "execution_count": 118,
   "metadata": {},
   "outputs": [
    {
     "data": {
      "text/html": [
       "<div>\n",
       "<style scoped>\n",
       "    .dataframe tbody tr th:only-of-type {\n",
       "        vertical-align: middle;\n",
       "    }\n",
       "\n",
       "    .dataframe tbody tr th {\n",
       "        vertical-align: top;\n",
       "    }\n",
       "\n",
       "    .dataframe thead th {\n",
       "        text-align: right;\n",
       "    }\n",
       "</style>\n",
       "<table border=\"1\" class=\"dataframe\">\n",
       "  <thead>\n",
       "    <tr style=\"text-align: right;\">\n",
       "      <th></th>\n",
       "      <th>pos</th>\n",
       "      <th>count</th>\n",
       "    </tr>\n",
       "  </thead>\n",
       "  <tbody>\n",
       "    <tr>\n",
       "      <th>0</th>\n",
       "      <td>NN</td>\n",
       "      <td>414230</td>\n",
       "    </tr>\n",
       "    <tr>\n",
       "      <th>1</th>\n",
       "      <td>JJ</td>\n",
       "      <td>123035</td>\n",
       "    </tr>\n",
       "    <tr>\n",
       "      <th>2</th>\n",
       "      <td>NNS</td>\n",
       "      <td>107423</td>\n",
       "    </tr>\n",
       "    <tr>\n",
       "      <th>3</th>\n",
       "      <td>CD</td>\n",
       "      <td>78486</td>\n",
       "    </tr>\n",
       "    <tr>\n",
       "      <th>4</th>\n",
       "      <td>VB</td>\n",
       "      <td>74230</td>\n",
       "    </tr>\n",
       "    <tr>\n",
       "      <th>5</th>\n",
       "      <td>NNP</td>\n",
       "      <td>61807</td>\n",
       "    </tr>\n",
       "    <tr>\n",
       "      <th>6</th>\n",
       "      <td>RB</td>\n",
       "      <td>36422</td>\n",
       "    </tr>\n",
       "    <tr>\n",
       "      <th>7</th>\n",
       "      <td>VBN</td>\n",
       "      <td>35579</td>\n",
       "    </tr>\n",
       "    <tr>\n",
       "      <th>8</th>\n",
       "      <td>VBP</td>\n",
       "      <td>29416</td>\n",
       "    </tr>\n",
       "    <tr>\n",
       "      <th>9</th>\n",
       "      <td>VBG</td>\n",
       "      <td>26713</td>\n",
       "    </tr>\n",
       "    <tr>\n",
       "      <th>10</th>\n",
       "      <td>IN</td>\n",
       "      <td>17278</td>\n",
       "    </tr>\n",
       "    <tr>\n",
       "      <th>11</th>\n",
       "      <td>VBZ</td>\n",
       "      <td>14669</td>\n",
       "    </tr>\n",
       "    <tr>\n",
       "      <th>12</th>\n",
       "      <td>FW</td>\n",
       "      <td>14503</td>\n",
       "    </tr>\n",
       "    <tr>\n",
       "      <th>13</th>\n",
       "      <td>VBD</td>\n",
       "      <td>13559</td>\n",
       "    </tr>\n",
       "    <tr>\n",
       "      <th>14</th>\n",
       "      <td>DT</td>\n",
       "      <td>7205</td>\n",
       "    </tr>\n",
       "    <tr>\n",
       "      <th>15</th>\n",
       "      <td>PRP</td>\n",
       "      <td>6996</td>\n",
       "    </tr>\n",
       "    <tr>\n",
       "      <th>16</th>\n",
       "      <td>UH</td>\n",
       "      <td>5669</td>\n",
       "    </tr>\n",
       "    <tr>\n",
       "      <th>17</th>\n",
       "      <td>JJS</td>\n",
       "      <td>3914</td>\n",
       "    </tr>\n",
       "    <tr>\n",
       "      <th>18</th>\n",
       "      <td>GW</td>\n",
       "      <td>3574</td>\n",
       "    </tr>\n",
       "    <tr>\n",
       "      <th>19</th>\n",
       "      <td>MD</td>\n",
       "      <td>2727</td>\n",
       "    </tr>\n",
       "  </tbody>\n",
       "</table>\n",
       "</div>"
      ],
      "text/plain": [
       "    pos   count\n",
       "0    NN  414230\n",
       "1    JJ  123035\n",
       "2   NNS  107423\n",
       "3    CD   78486\n",
       "4    VB   74230\n",
       "5   NNP   61807\n",
       "6    RB   36422\n",
       "7   VBN   35579\n",
       "8   VBP   29416\n",
       "9   VBG   26713\n",
       "10   IN   17278\n",
       "11  VBZ   14669\n",
       "12   FW   14503\n",
       "13  VBD   13559\n",
       "14   DT    7205\n",
       "15  PRP    6996\n",
       "16   UH    5669\n",
       "17  JJS    3914\n",
       "18   GW    3574\n",
       "19   MD    2727"
      ]
     },
     "execution_count": 118,
     "metadata": {},
     "output_type": "execute_result"
    }
   ],
   "source": [
    "freq_pos = pd.DataFrame(lower_df['pos'].value_counts()).reset_index()\n",
    "freq_pos.head(20)"
   ]
  },
  {
   "cell_type": "code",
   "execution_count": 117,
   "metadata": {},
   "outputs": [
    {
     "name": "stderr",
     "output_type": "stream",
     "text": [
      "C:\\Users\\ariel\\AppData\\Local\\Temp\\ipykernel_15456\\2302170945.py:10: UserWarning: FigureCanvasAgg is non-interactive, and thus cannot be shown\n",
      "  fig.show()\n"
     ]
    },
    {
     "data": {
      "image/png": "[encoded data removed]",
      "text/plain": [
       "<Figure size 1200x700 with 1 Axes>"
      ]
     },
     "metadata": {},
     "output_type": "display_data"
    }
   ],
   "source": [
    "pos = freq_pos['pos']\n",
    "count = freq_pos['count']\n",
    "\n",
    "fig, ax = plt.subplots(figsize =(12, 7))\n",
    "ax.barh(pos, count)\n",
    "ax.invert_yaxis()\n",
    "ax.set_title('pos Frequency',loc ='left', size = 16)\n",
    "ax.set_ylabel('pos', size = 16)\n",
    "ax.set_xlabel('Frequency', size = 16)\n",
    "fig.show()"
   ]
  },
  {
   "cell_type": "markdown",
   "metadata": {},
   "source": [
    "可以看到在 Phishing Email 中，NN 單數一般名詞最多，其次為 JJ 形容詞與 NNS 複數一般名詞，為了正確計算詞頻，將做以下處理：<br>\n",
    "- 合併 NN 單數一般名詞與 NNS 複數一般名詞，為 「NN 名詞」\n",
    "- 合併 VB 動詞原型、 VBN 過去分詞、 VBP 現在式複數動詞、 VBG 動名詞或現在分詞、 VBZ 現在式單數動詞與 VBD 過去式動詞，為 「V 動詞」\n",
    "- 基於英文文法，因此以下分析將不會納入 CD 基數"
   ]
  },
  {
   "cell_type": "markdown",
   "metadata": {},
   "source": [
    "### 涉及到的名詞 (NN)"
   ]
  },
  {
   "cell_type": "code",
   "execution_count": 130,
   "metadata": {},
   "outputs": [],
   "source": [
    "lower_df['pos_change'] = lower_df['pos']\n",
    "lower_df.loc[lower_df['pos'] == \"NNS\", 'pos_change'] = \"NN\"\n",
    "lower_df.loc[(lower_df['pos'] == \"VB\")|(lower_df['pos'] ==\"VBN\")|(lower_df['pos'] ==\"VBP\")|(lower_df['pos'] ==\"VBG\")|(lower_df['pos'] ==\"VBZ\")|(lower_df['pos'] ==\"VBD\"), 'pos_change'] = \"V\""
   ]
  },
  {
   "cell_type": "code",
   "execution_count": 138,
   "metadata": {},
   "outputs": [
    {
     "data": {
      "text/html": [
       "<div>\n",
       "<style scoped>\n",
       "    .dataframe tbody tr th:only-of-type {\n",
       "        vertical-align: middle;\n",
       "    }\n",
       "\n",
       "    .dataframe tbody tr th {\n",
       "        vertical-align: top;\n",
       "    }\n",
       "\n",
       "    .dataframe thead th {\n",
       "        text-align: right;\n",
       "    }\n",
       "</style>\n",
       "<table border=\"1\" class=\"dataframe\">\n",
       "  <thead>\n",
       "    <tr style=\"text-align: right;\">\n",
       "      <th></th>\n",
       "      <th>lemmatized</th>\n",
       "      <th>count</th>\n",
       "    </tr>\n",
       "  </thead>\n",
       "  <tbody>\n",
       "    <tr>\n",
       "      <th>9476</th>\n",
       "      <td>company</td>\n",
       "      <td>5055</td>\n",
       "    </tr>\n",
       "    <tr>\n",
       "      <th>21985</th>\n",
       "      <td>information</td>\n",
       "      <td>3774</td>\n",
       "    </tr>\n",
       "    <tr>\n",
       "      <th>28200</th>\n",
       "      <td>money</td>\n",
       "      <td>3705</td>\n",
       "    </tr>\n",
       "    <tr>\n",
       "      <th>6689</th>\n",
       "      <td>business</td>\n",
       "      <td>3614</td>\n",
       "    </tr>\n",
       "    <tr>\n",
       "      <th>1336</th>\n",
       "      <td>address</td>\n",
       "      <td>3540</td>\n",
       "    </tr>\n",
       "    <tr>\n",
       "      <th>42095</th>\n",
       "      <td>time</td>\n",
       "      <td>3513</td>\n",
       "    </tr>\n",
       "    <tr>\n",
       "      <th>26289</th>\n",
       "      <td>mail</td>\n",
       "      <td>3385</td>\n",
       "    </tr>\n",
       "    <tr>\n",
       "      <th>36025</th>\n",
       "      <td>report</td>\n",
       "      <td>3267</td>\n",
       "    </tr>\n",
       "    <tr>\n",
       "      <th>31003</th>\n",
       "      <td>order</td>\n",
       "      <td>2869</td>\n",
       "    </tr>\n",
       "    <tr>\n",
       "      <th>34199</th>\n",
       "      <td>program</td>\n",
       "      <td>2749</td>\n",
       "    </tr>\n",
       "  </tbody>\n",
       "</table>\n",
       "</div>"
      ],
      "text/plain": [
       "        lemmatized  count\n",
       "9476       company   5055\n",
       "21985  information   3774\n",
       "28200        money   3705\n",
       "6689      business   3614\n",
       "1336       address   3540\n",
       "42095         time   3513\n",
       "26289         mail   3385\n",
       "36025       report   3267\n",
       "31003        order   2869\n",
       "34199      program   2749"
      ]
     },
     "execution_count": 138,
     "metadata": {},
     "output_type": "execute_result"
    }
   ],
   "source": [
    "# 篩選pos為專有名詞的資料\n",
    "l_noun = [\"NN\"] \n",
    "noun = lower_df[lower_df.pos_change.isin(l_noun)]\n",
    "\n",
    "# 計算每個名詞提到的次數，選出前15個\n",
    "noun_count = noun[['lemmatized']].groupby(['lemmatized'])['lemmatized'].count().reset_index(name='count').sort_values(['count'], ascending=False).head(15)\n",
    "noun_count.head(10)"
   ]
  },
  {
   "cell_type": "code",
   "execution_count": 139,
   "metadata": {},
   "outputs": [
    {
     "name": "stderr",
     "output_type": "stream",
     "text": [
      "C:\\Users\\ariel\\AppData\\Local\\Temp\\ipykernel_15456\\3604722321.py:12: UserWarning: FigureCanvasAgg is non-interactive, and thus cannot be shown\n",
      "  fig.show()\n"
     ]
    },
    {
     "data": {
      "image/png": "[encoded data removed]",
      "text/plain": [
       "<Figure size 1200x700 with 1 Axes>"
      ]
     },
     "metadata": {},
     "output_type": "display_data"
    }
   ],
   "source": [
    "# 設定中文字形\n",
    "# plt.rcParams['font.sans-serif'] = ['SimHei'] \n",
    "word = noun_count['lemmatized']\n",
    "count = noun_count['count']\n",
    "\n",
    "fig, ax = plt.subplots(figsize =(12, 7))\n",
    "ax.barh(word, count)\n",
    "ax.invert_yaxis()\n",
    "ax.set_title('Word Frequency (POS is NN)',loc ='left', size = 14)\n",
    "ax.set_ylabel('POS', size = 14)\n",
    "ax.set_xlabel('Word Frequency', size = 14)\n",
    "fig.show()"
   ]
  },
  {
   "cell_type": "markdown",
   "metadata": {},
   "source": [
    "由上圖可得知在 Phishing Email 中的名詞\n",
    "- 最多的是關於 company、business\n",
    "- 其次是 information、money 和 time"
   ]
  },
  {
   "cell_type": "markdown",
   "metadata": {},
   "source": [
    "### 涉及到的一般形容詞 (JJ)"
   ]
  },
  {
   "cell_type": "code",
   "execution_count": 140,
   "metadata": {},
   "outputs": [
    {
     "data": {
      "text/html": [
       "<div>\n",
       "<style scoped>\n",
       "    .dataframe tbody tr th:only-of-type {\n",
       "        vertical-align: middle;\n",
       "    }\n",
       "\n",
       "    .dataframe tbody tr th {\n",
       "        vertical-align: top;\n",
       "    }\n",
       "\n",
       "    .dataframe thead th {\n",
       "        text-align: right;\n",
       "    }\n",
       "</style>\n",
       "<table border=\"1\" class=\"dataframe\">\n",
       "  <thead>\n",
       "    <tr style=\"text-align: right;\">\n",
       "      <th></th>\n",
       "      <th>lemmatized</th>\n",
       "      <th>count</th>\n",
       "    </tr>\n",
       "  </thead>\n",
       "  <tbody>\n",
       "    <tr>\n",
       "      <th>3706</th>\n",
       "      <td>free</td>\n",
       "      <td>4128</td>\n",
       "    </tr>\n",
       "    <tr>\n",
       "      <th>6157</th>\n",
       "      <td>new</td>\n",
       "      <td>2735</td>\n",
       "    </tr>\n",
       "    <tr>\n",
       "      <th>5607</th>\n",
       "      <td>many</td>\n",
       "      <td>1474</td>\n",
       "    </tr>\n",
       "    <tr>\n",
       "      <th>824</th>\n",
       "      <td>available</td>\n",
       "      <td>1241</td>\n",
       "    </tr>\n",
       "    <tr>\n",
       "      <th>3838</th>\n",
       "      <td>future</td>\n",
       "      <td>1128</td>\n",
       "    </tr>\n",
       "    <tr>\n",
       "      <th>6566</th>\n",
       "      <td>online</td>\n",
       "      <td>1110</td>\n",
       "    </tr>\n",
       "    <tr>\n",
       "      <th>3534</th>\n",
       "      <td>first</td>\n",
       "      <td>1066</td>\n",
       "    </tr>\n",
       "    <tr>\n",
       "      <th>6164</th>\n",
       "      <td>next</td>\n",
       "      <td>1041</td>\n",
       "    </tr>\n",
       "    <tr>\n",
       "      <th>4014</th>\n",
       "      <td>good</td>\n",
       "      <td>970</td>\n",
       "    </tr>\n",
       "    <tr>\n",
       "      <th>8475</th>\n",
       "      <td>special</td>\n",
       "      <td>949</td>\n",
       "    </tr>\n",
       "  </tbody>\n",
       "</table>\n",
       "</div>"
      ],
      "text/plain": [
       "     lemmatized  count\n",
       "3706       free   4128\n",
       "6157        new   2735\n",
       "5607       many   1474\n",
       "824   available   1241\n",
       "3838     future   1128\n",
       "6566     online   1110\n",
       "3534      first   1066\n",
       "6164       next   1041\n",
       "4014       good    970\n",
       "8475    special    949"
      ]
     },
     "execution_count": 140,
     "metadata": {},
     "output_type": "execute_result"
    }
   ],
   "source": [
    "# 篩選pos為專有名詞的資料\n",
    "l_noun = [\"JJ\"] \n",
    "noun = lower_df[lower_df.pos_change.isin(l_noun)]\n",
    "\n",
    "# 計算每個名詞提到的次數，選出前15個\n",
    "noun_count = noun[['lemmatized']].groupby(['lemmatized'])['lemmatized'].count().reset_index(name='count').sort_values(['count'], ascending=False).head(15)\n",
    "noun_count.head(10)"
   ]
  },
  {
   "cell_type": "code",
   "execution_count": 141,
   "metadata": {},
   "outputs": [
    {
     "name": "stderr",
     "output_type": "stream",
     "text": [
      "C:\\Users\\ariel\\AppData\\Local\\Temp\\ipykernel_15456\\4090952687.py:12: UserWarning: FigureCanvasAgg is non-interactive, and thus cannot be shown\n",
      "  fig.show()\n"
     ]
    },
    {
     "data": {
      "image/png": "[encoded data removed]",
      "text/plain": [
       "<Figure size 1200x700 with 1 Axes>"
      ]
     },
     "metadata": {},
     "output_type": "display_data"
    }
   ],
   "source": [
    "# 設定中文字形\n",
    "# plt.rcParams['font.sans-serif'] = ['SimHei'] \n",
    "word = noun_count['lemmatized']\n",
    "count = noun_count['count']\n",
    "\n",
    "fig, ax = plt.subplots(figsize =(12, 7))\n",
    "ax.barh(word, count)\n",
    "ax.invert_yaxis()\n",
    "ax.set_title('Word Frequency (POS is JJ)',loc ='left', size = 14)\n",
    "ax.set_ylabel('POS', size = 14)\n",
    "ax.set_xlabel('Word Frequency', size = 14)\n",
    "fig.show()"
   ]
  },
  {
   "cell_type": "markdown",
   "metadata": {},
   "source": [
    "由上圖可得知在 Phishing Email 中的一般形容詞\n",
    "- 最多的是 free \n",
    "- 其次是 new、many 和 available"
   ]
  },
  {
   "cell_type": "markdown",
   "metadata": {},
   "source": [
    "### 涉及到的最高級形容詞 (JJS)"
   ]
  },
  {
   "cell_type": "code",
   "execution_count": 148,
   "metadata": {},
   "outputs": [
    {
     "data": {
      "text/html": [
       "<div>\n",
       "<style scoped>\n",
       "    .dataframe tbody tr th:only-of-type {\n",
       "        vertical-align: middle;\n",
       "    }\n",
       "\n",
       "    .dataframe tbody tr th {\n",
       "        vertical-align: top;\n",
       "    }\n",
       "\n",
       "    .dataframe thead th {\n",
       "        text-align: right;\n",
       "    }\n",
       "</style>\n",
       "<table border=\"1\" class=\"dataframe\">\n",
       "  <thead>\n",
       "    <tr style=\"text-align: right;\">\n",
       "      <th></th>\n",
       "      <th>word</th>\n",
       "      <th>count</th>\n",
       "    </tr>\n",
       "  </thead>\n",
       "  <tbody>\n",
       "    <tr>\n",
       "      <th>4</th>\n",
       "      <td>best</td>\n",
       "      <td>1781</td>\n",
       "    </tr>\n",
       "    <tr>\n",
       "      <th>71</th>\n",
       "      <td>latest</td>\n",
       "      <td>294</td>\n",
       "    </tr>\n",
       "    <tr>\n",
       "      <th>81</th>\n",
       "      <td>lowest</td>\n",
       "      <td>292</td>\n",
       "    </tr>\n",
       "    <tr>\n",
       "      <th>69</th>\n",
       "      <td>largest</td>\n",
       "      <td>147</td>\n",
       "    </tr>\n",
       "    <tr>\n",
       "      <th>39</th>\n",
       "      <td>fastest</td>\n",
       "      <td>133</td>\n",
       "    </tr>\n",
       "    <tr>\n",
       "      <th>57</th>\n",
       "      <td>highest</td>\n",
       "      <td>109</td>\n",
       "    </tr>\n",
       "    <tr>\n",
       "      <th>61</th>\n",
       "      <td>hottest</td>\n",
       "      <td>97</td>\n",
       "    </tr>\n",
       "    <tr>\n",
       "      <th>5</th>\n",
       "      <td>biggest</td>\n",
       "      <td>96</td>\n",
       "    </tr>\n",
       "    <tr>\n",
       "      <th>51</th>\n",
       "      <td>greatest</td>\n",
       "      <td>89</td>\n",
       "    </tr>\n",
       "    <tr>\n",
       "      <th>73</th>\n",
       "      <td>least</td>\n",
       "      <td>78</td>\n",
       "    </tr>\n",
       "  </tbody>\n",
       "</table>\n",
       "</div>"
      ],
      "text/plain": [
       "        word  count\n",
       "4       best   1781\n",
       "71    latest    294\n",
       "81    lowest    292\n",
       "69   largest    147\n",
       "39   fastest    133\n",
       "57   highest    109\n",
       "61   hottest     97\n",
       "5    biggest     96\n",
       "51  greatest     89\n",
       "73     least     78"
      ]
     },
     "execution_count": 148,
     "metadata": {},
     "output_type": "execute_result"
    }
   ],
   "source": [
    "# 篩選pos為專有名詞的資料\n",
    "l_noun = [\"JJS\"] \n",
    "noun = lower_df[lower_df.pos.isin(l_noun)]\n",
    "\n",
    "# 計算每個名詞提到的次數，選出前15個\n",
    "noun_count = noun[['word']].groupby(['word'])['word'].count().reset_index(name='count').sort_values(['count'], ascending=False).head(15)\n",
    "noun_count.head(10)"
   ]
  },
  {
   "cell_type": "code",
   "execution_count": 150,
   "metadata": {},
   "outputs": [
    {
     "name": "stderr",
     "output_type": "stream",
     "text": [
      "C:\\Users\\ariel\\AppData\\Local\\Temp\\ipykernel_15456\\3244324859.py:12: UserWarning: FigureCanvasAgg is non-interactive, and thus cannot be shown\n",
      "  fig.show()\n"
     ]
    },
    {
     "data": {
      "image/png": "[encoded data removed]",
      "text/plain": [
       "<Figure size 1200x700 with 1 Axes>"
      ]
     },
     "metadata": {},
     "output_type": "display_data"
    }
   ],
   "source": [
    "# 設定中文字形\n",
    "# plt.rcParams['font.sans-serif'] = ['SimHei'] \n",
    "word = noun_count['word']\n",
    "count = noun_count['count']\n",
    "\n",
    "fig, ax = plt.subplots(figsize =(12, 7))\n",
    "ax.barh(word, count)\n",
    "ax.invert_yaxis()\n",
    "ax.set_title('Word Frequency (POS is JJS)',loc ='left', size = 14)\n",
    "ax.set_ylabel('POS', size = 14)\n",
    "ax.set_xlabel('Word Frequency', size = 14)\n",
    "fig.show()"
   ]
  },
  {
   "cell_type": "markdown",
   "metadata": {},
   "source": [
    "由上圖可得知在 Phishing Email 中的最高級形容詞\n",
    "- 最多的是 best \n",
    "- 其次是 latest、lowest 和 largest"
   ]
  },
  {
   "cell_type": "markdown",
   "metadata": {},
   "source": [
    "### 涉及到的動詞 (V)"
   ]
  },
  {
   "cell_type": "code",
   "execution_count": 142,
   "metadata": {},
   "outputs": [
    {
     "data": {
      "text/html": [
       "<div>\n",
       "<style scoped>\n",
       "    .dataframe tbody tr th:only-of-type {\n",
       "        vertical-align: middle;\n",
       "    }\n",
       "\n",
       "    .dataframe tbody tr th {\n",
       "        vertical-align: top;\n",
       "    }\n",
       "\n",
       "    .dataframe thead th {\n",
       "        text-align: right;\n",
       "    }\n",
       "</style>\n",
       "<table border=\"1\" class=\"dataframe\">\n",
       "  <thead>\n",
       "    <tr style=\"text-align: right;\">\n",
       "      <th></th>\n",
       "      <th>lemmatized</th>\n",
       "      <th>count</th>\n",
       "    </tr>\n",
       "  </thead>\n",
       "  <tbody>\n",
       "    <tr>\n",
       "      <th>3367</th>\n",
       "      <td>get</td>\n",
       "      <td>4828</td>\n",
       "    </tr>\n",
       "    <tr>\n",
       "      <th>4686</th>\n",
       "      <td>make</td>\n",
       "      <td>4818</td>\n",
       "    </tr>\n",
       "    <tr>\n",
       "      <th>5975</th>\n",
       "      <td>receive</td>\n",
       "      <td>3569</td>\n",
       "    </tr>\n",
       "    <tr>\n",
       "      <th>6661</th>\n",
       "      <td>send</td>\n",
       "      <td>2827</td>\n",
       "    </tr>\n",
       "    <tr>\n",
       "      <th>1435</th>\n",
       "      <td>click</td>\n",
       "      <td>2797</td>\n",
       "    </tr>\n",
       "    <tr>\n",
       "      <th>7854</th>\n",
       "      <td>use</td>\n",
       "      <td>2355</td>\n",
       "    </tr>\n",
       "    <tr>\n",
       "      <th>3408</th>\n",
       "      <td>go</td>\n",
       "      <td>2223</td>\n",
       "    </tr>\n",
       "    <tr>\n",
       "      <th>8028</th>\n",
       "      <td>want</td>\n",
       "      <td>2219</td>\n",
       "    </tr>\n",
       "    <tr>\n",
       "      <th>7393</th>\n",
       "      <td>take</td>\n",
       "      <td>2104</td>\n",
       "    </tr>\n",
       "    <tr>\n",
       "      <th>3951</th>\n",
       "      <td>include</td>\n",
       "      <td>2060</td>\n",
       "    </tr>\n",
       "  </tbody>\n",
       "</table>\n",
       "</div>"
      ],
      "text/plain": [
       "     lemmatized  count\n",
       "3367        get   4828\n",
       "4686       make   4818\n",
       "5975    receive   3569\n",
       "6661       send   2827\n",
       "1435      click   2797\n",
       "7854        use   2355\n",
       "3408         go   2223\n",
       "8028       want   2219\n",
       "7393       take   2104\n",
       "3951    include   2060"
      ]
     },
     "execution_count": 142,
     "metadata": {},
     "output_type": "execute_result"
    }
   ],
   "source": [
    "# 篩選pos為專有名詞的資料\n",
    "l_noun = [\"V\"] \n",
    "noun = lower_df[lower_df.pos_change.isin(l_noun)]\n",
    "\n",
    "# 計算每個名詞提到的次數，選出前15個\n",
    "noun_count = noun[['lemmatized']].groupby(['lemmatized'])['lemmatized'].count().reset_index(name='count').sort_values(['count'], ascending=False).head(15)\n",
    "noun_count.head(10)"
   ]
  },
  {
   "cell_type": "code",
   "execution_count": 143,
   "metadata": {},
   "outputs": [
    {
     "name": "stderr",
     "output_type": "stream",
     "text": [
      "C:\\Users\\ariel\\AppData\\Local\\Temp\\ipykernel_15456\\3655527052.py:12: UserWarning: FigureCanvasAgg is non-interactive, and thus cannot be shown\n",
      "  fig.show()\n"
     ]
    },
    {
     "data": {
      "image/png": "[encoded data removed]",
      "text/plain": [
       "<Figure size 1200x700 with 1 Axes>"
      ]
     },
     "metadata": {},
     "output_type": "display_data"
    }
   ],
   "source": [
    "# 設定中文字形\n",
    "# plt.rcParams['font.sans-serif'] = ['SimHei'] \n",
    "word = noun_count['lemmatized']\n",
    "count = noun_count['count']\n",
    "\n",
    "fig, ax = plt.subplots(figsize =(12, 7))\n",
    "ax.barh(word, count)\n",
    "ax.invert_yaxis()\n",
    "ax.set_title('Word Frequency (POS is V)',loc ='left', size = 14)\n",
    "ax.set_ylabel('POS', size = 14)\n",
    "ax.set_xlabel('Word Frequency', size = 14)\n",
    "fig.show()"
   ]
  },
  {
   "cell_type": "markdown",
   "metadata": {},
   "source": [
    "由上圖可得知在 Phishing Email 中的動詞\n",
    "- 最多的是 get \n",
    "- 其次是 make、receive、send 和 click"
   ]
  },
  {
   "cell_type": "markdown",
   "metadata": {},
   "source": [
    "### 結論\n",
    "結合名詞、形容詞、動詞的 POS 分析結果推論：\n",
    "1. 在 Phishing Email 中，大多的內容可能是提到公司（company、business）並給予收信者金錢（money）上的優惠，例如免費折扣（free）\n",
    "2. 並接著強調這是最好（best）、最大（largest）的機會或最低（lowest）的折扣，有少部分 Phishing Email 則強調錯過不再（late），希望以此激起收信人的興趣\n",
    "3. 並在文中提到請收信人點擊連結（click）、收下優惠（receive）、寄出回信（send）等，以獲得更多的資訊（information）\n"
   ]
  }
 ],
 "metadata": {
  "kernelspec": {
   "display_name": "Python 3",
   "language": "python",
   "name": "python3"
  },
  "language_info": {
   "codemirror_mode": {
    "name": "ipython",
    "version": 3
   },
   "file_extension": ".py",
   "mimetype": "text/x-python",
   "name": "python",
   "nbconvert_exporter": "python",
   "pygments_lexer": "ipython3",
   "version": "3.10.7"
  }
 },
 "nbformat": 4,
 "nbformat_minor": 2
}
