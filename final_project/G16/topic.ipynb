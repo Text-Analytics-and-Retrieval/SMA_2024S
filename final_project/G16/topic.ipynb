{
 "cells": [
  {
   "cell_type": "code",
   "execution_count": 1,
   "metadata": {},
   "outputs": [],
   "source": [
    "import re\n",
    "from nltk.corpus import stopwords\n",
    "\n",
    "from pprint import pprint\n",
    "import time\n",
    "\n",
    "import pandas as pd\n",
    "import numpy as np\n",
    "import matplotlib.pyplot as plt\n",
    "\n",
    "from gensim.models import Phrases\n",
    "from gensim.corpora import Dictionary\n",
    "from gensim.models import LdaModel, CoherenceModel\n",
    "from gensim.matutils import corpus2csc, corpus2dense\n",
    "\n",
    "import pyLDAvis\n",
    "import pyLDAvis.gensim_models\n",
    "\n",
    "import nltk\n",
    "from nltk.corpus import stopwords\n",
    "from nltk.corpus import wordnet\n",
    "from nltk.stem.porter import PorterStemmer\n",
    "from nltk.stem import WordNetLemmatizer"
   ]
  },
  {
   "cell_type": "code",
   "execution_count": 2,
   "metadata": {},
   "outputs": [],
   "source": [
    "Phishing_mail = pd.read_csv(\"dataset/Phishing_Email.csv\")"
   ]
  },
  {
   "cell_type": "markdown",
   "metadata": {},
   "source": [
    "## 資料前處理"
   ]
  },
  {
   "cell_type": "code",
   "execution_count": 3,
   "metadata": {},
   "outputs": [],
   "source": [
    "# 斷句\n",
    "Phishing_mail = Phishing_mail.assign(sentence = Phishing_mail['Email Text'].astype(str).apply(nltk.sent_tokenize)).explode('sentence').reset_index(drop=True)\n",
    "\n",
    "# 刪除標點符號/數字/換行符號\n",
    "Phishing_mail[\"sentence\"] = Phishing_mail[\"sentence\"].apply(lambda x: re.sub(r'[^\\w\\s]','', str(x)))  #只留下英文字母和空格(包含換行符號)\n",
    "Phishing_mail[\"sentence\"] = Phishing_mail[\"sentence\"].apply(lambda x: re.sub(r'[\\n_-]+',' ', x)) #將換行符號替換成空格\n",
    "\n",
    "# 去除空值\n",
    "# dataset 有些郵件是 empty\n",
    "# 經過 nltk 套件會有些東西變 nan\n",
    "Phishing_mail = Phishing_mail[Phishing_mail[\"sentence\"] != \"empty\"]\n",
    "Phishing_mail = Phishing_mail[Phishing_mail[\"sentence\"] != \"nan\"]\n",
    "\n",
    "# 斷詞\n",
    "token_df = Phishing_mail.assign(token = Phishing_mail['sentence'].apply(nltk.word_tokenize)).explode('token').reset_index(drop=True)\n",
    "\n",
    "# 轉成小寫\n",
    "lowerWord_df = token_df.assign(word = token_df['token'].str.lower())"
   ]
  },
  {
   "cell_type": "code",
   "execution_count": 4,
   "metadata": {},
   "outputs": [],
   "source": [
    "# lemmatization\n",
    "lm = WordNetLemmatizer()\n",
    "mails_df = lowerWord_df.assign(stem_token = lowerWord_df['word'].astype(str).apply(lm.lemmatize)).reset_index(drop=True)"
   ]
  },
  {
   "cell_type": "code",
   "execution_count": 5,
   "metadata": {},
   "outputs": [],
   "source": [
    "# 將不必要的欄位 以及 nan 刪掉\n",
    "tidy_mails_df = mails_df.drop(columns=[\"token\", \"word\"])\n",
    "tidy_mails_df = tidy_mails_df.rename(columns={\"Unnamed: 0\":\"index\", \"stem_token\":\"word\"})\n",
    "tidy_mails_df = tidy_mails_df[tidy_mails_df['word'] != 'nan']"
   ]
  },
  {
   "cell_type": "code",
   "execution_count": 6,
   "metadata": {},
   "outputs": [],
   "source": [
    "def is_single_english_letter(word):\n",
    "    # 使用正則表達式匹配僅包含一個英文字母的字符串\n",
    "    #return bool(re.fullmatch(r'[a-zA-Z]', word))\n",
    "    return len(word) <= 1\n",
    "\n",
    "tidy_mails_df = tidy_mails_df[~tidy_mails_df['word'].apply(is_single_english_letter)]"
   ]
  },
  {
   "cell_type": "code",
   "execution_count": 7,
   "metadata": {},
   "outputs": [
    {
     "name": "stderr",
     "output_type": "stream",
     "text": [
      "[nltk_data] Downloading package stopwords to\n",
      "[nltk_data]     C:\\Users\\win90\\AppData\\Roaming\\nltk_data...\n",
      "[nltk_data]   Package stopwords is already up-to-date!\n"
     ]
    },
    {
     "name": "stdout",
     "output_type": "stream",
     "text": [
      "<class 'pandas.core.frame.DataFrame'>\n",
      "Index: 4562223 entries, 2 to 7687188\n",
      "Data columns (total 5 columns):\n",
      " #   Column      Dtype \n",
      "---  ------      ----- \n",
      " 0   index       int64 \n",
      " 1   Email Text  object\n",
      " 2   Email Type  object\n",
      " 3   sentence    object\n",
      " 4   word        object\n",
      "dtypes: int64(1), object(4)\n",
      "memory usage: 208.8+ MB\n"
     ]
    }
   ],
   "source": [
    "# 初次使用需要安裝nltk中的停用字資源\n",
    "nltk.download('stopwords')\n",
    "# 去除停用字\n",
    "stop_words = stopwords.words('english')\n",
    "\n",
    "# 手動加停用字\n",
    "newStops = ['email','com','wa','ect','one','would','could','may','can','de','also','edu','ha']\n",
    "stop_words.extend(newStops)\n",
    "\n",
    "noStop_df = tidy_mails_df[~tidy_mails_df['word'].isin(stop_words)]\n",
    "noStop_df.info()"
   ]
  },
  {
   "cell_type": "markdown",
   "metadata": {},
   "source": [
    "## 開始跑 主題模型\n"
   ]
  },
  {
   "cell_type": "markdown",
   "metadata": {},
   "source": [
    "## LDA 主題模型"
   ]
  },
  {
   "cell_type": "code",
   "execution_count": 8,
   "metadata": {},
   "outputs": [
    {
     "name": "stdout",
     "output_type": "stream",
     "text": [
      "<class 'pandas.core.frame.DataFrame'>\n",
      "Index: 1048032 entries, 460 to 7686881\n",
      "Data columns (total 5 columns):\n",
      " #   Column      Non-Null Count    Dtype \n",
      "---  ------      --------------    ----- \n",
      " 0   index       1048032 non-null  int64 \n",
      " 1   Email Text  1048032 non-null  object\n",
      " 2   Email Type  1048032 non-null  object\n",
      " 3   sentence    1048032 non-null  object\n",
      " 4   word        1048032 non-null  object\n",
      "dtypes: int64(1), object(4)\n",
      "memory usage: 48.0+ MB\n"
     ]
    }
   ],
   "source": [
    "phishing_mails_df = noStop_df[noStop_df['Email Type'] == \"Phishing Email\"]\n",
    "phishing_mails_df.info()"
   ]
  },
  {
   "cell_type": "markdown",
   "metadata": {},
   "source": [
    "### 找到最佳 Topic 數"
   ]
  },
  {
   "cell_type": "code",
   "execution_count": 10,
   "metadata": {},
   "outputs": [],
   "source": [
    "# 先將每封信中出現的詞存成list，然後打包成 corpus\n",
    "docs = [doc for doc in phishing_mails_df.groupby('index')['word'].apply(list)]\n",
    "dictionary = Dictionary(docs)\n",
    "\n",
    "# Bag-of-words representation of the documents.\n",
    "# 用 gensim ldamodel input 需要將文章轉換成 bag of words \n",
    "corpus = [dictionary.doc2bow(doc) for doc in docs]"
   ]
  },
  {
   "cell_type": "markdown",
   "metadata": {},
   "source": [
    "計算不同 topic_num 的 perplexity 和 pmi"
   ]
  },
  {
   "cell_type": "code",
   "execution_count": 22,
   "metadata": {},
   "outputs": [
    {
     "name": "stdout",
     "output_type": "stream",
     "text": [
      "topic_num  = 2\n",
      "perplexity = 7448.009011000388\n",
      "pmi        = 0.013785564568078616\n",
      "----------------------------------------\n",
      "topic_num  = 3\n",
      "perplexity = 6807.014016472515\n",
      "pmi        = 0.02836306159444625\n",
      "----------------------------------------\n",
      "topic_num  = 4\n",
      "perplexity = 6248.72385301515\n",
      "pmi        = 0.03427045560234432\n",
      "----------------------------------------\n",
      "topic_num  = 5\n",
      "perplexity = 6009.177307463265\n",
      "pmi        = 0.01908494849299062\n",
      "----------------------------------------\n",
      "topic_num  = 6\n",
      "perplexity = 5980.292875216316\n",
      "pmi        = 0.014074316457947355\n",
      "----------------------------------------\n",
      "topic_num  = 7\n",
      "perplexity = 6318.241771490413\n",
      "pmi        = -0.026161883628222724\n",
      "----------------------------------------\n",
      "topic_num  = 8\n",
      "perplexity = 6773.30197500926\n",
      "pmi        = -0.02156970511117061\n",
      "----------------------------------------\n",
      "topic_num  = 9\n",
      "perplexity = 7960.9208631260035\n",
      "pmi        = -0.0035519654332519445\n",
      "----------------------------------------\n",
      "topic_num  = 10\n",
      "perplexity = 9336.623777474926\n",
      "pmi        = -0.01155365299258487\n",
      "----------------------------------------\n",
      "topic_num  = 11\n",
      "perplexity = 10942.752672728275\n",
      "pmi        = -0.008071407041987987\n",
      "----------------------------------------\n",
      "花費時間: 331.0420250892639 sec\n"
     ]
    }
   ],
   "source": [
    "t0 = time.time()\n",
    "\n",
    "topic_num_list = np.arange(2, 12)\n",
    "result = {\"topic_num\":[], \"perplexity\":[], \"pmi\":[]}\n",
    "model_set = dict()\n",
    "\n",
    "\n",
    "for topic_num in topic_num_list:\n",
    "    # perplexity\n",
    "    model = LdaModel(\n",
    "        corpus = corpus,\n",
    "        num_topics = topic_num ,\n",
    "        id2word=dictionary,\n",
    "        random_state = 1116,\n",
    "        passes=5\n",
    "        )\n",
    "    \n",
    "    loss = model.log_perplexity(corpus)\n",
    "    pmi = CoherenceModel(model=model, texts=docs, coherence='c_npmi').get_coherence()\n",
    "    perplexity = np.exp(-1. * loss)\n",
    "    print(\"topic_num  =\", topic_num)\n",
    "    print(\"perplexity =\", perplexity)\n",
    "    print(\"pmi        =\", pmi)\n",
    "    print('-' * 40)\n",
    "    # model_set[f'k_{topic_num}'] = model\n",
    "    \n",
    "    result['topic_num'].append(topic_num)\n",
    "    result['perplexity'].append(perplexity)\n",
    "    result['pmi'].append(pmi)\n",
    "    \n",
    "print(f\"花費時間: {time.time() - t0} sec\")"
   ]
  },
  {
   "cell_type": "code",
   "execution_count": 30,
   "metadata": {},
   "outputs": [
    {
     "data": {
      "text/html": [
       "<div>\n",
       "<style scoped>\n",
       "    .dataframe tbody tr th:only-of-type {\n",
       "        vertical-align: middle;\n",
       "    }\n",
       "\n",
       "    .dataframe tbody tr th {\n",
       "        vertical-align: top;\n",
       "    }\n",
       "\n",
       "    .dataframe thead th {\n",
       "        text-align: right;\n",
       "    }\n",
       "</style>\n",
       "<table border=\"1\" class=\"dataframe\">\n",
       "  <thead>\n",
       "    <tr style=\"text-align: right;\">\n",
       "      <th></th>\n",
       "      <th>topic_num</th>\n",
       "      <th>perplexity</th>\n",
       "      <th>pmi</th>\n",
       "    </tr>\n",
       "  </thead>\n",
       "  <tbody>\n",
       "    <tr>\n",
       "      <th>0</th>\n",
       "      <td>2</td>\n",
       "      <td>7448.009011</td>\n",
       "      <td>0.013786</td>\n",
       "    </tr>\n",
       "    <tr>\n",
       "      <th>1</th>\n",
       "      <td>3</td>\n",
       "      <td>6807.014016</td>\n",
       "      <td>0.028363</td>\n",
       "    </tr>\n",
       "    <tr>\n",
       "      <th>2</th>\n",
       "      <td>4</td>\n",
       "      <td>6248.723853</td>\n",
       "      <td>0.034270</td>\n",
       "    </tr>\n",
       "    <tr>\n",
       "      <th>3</th>\n",
       "      <td>5</td>\n",
       "      <td>6009.177307</td>\n",
       "      <td>0.019085</td>\n",
       "    </tr>\n",
       "    <tr>\n",
       "      <th>4</th>\n",
       "      <td>6</td>\n",
       "      <td>5980.292875</td>\n",
       "      <td>0.014074</td>\n",
       "    </tr>\n",
       "    <tr>\n",
       "      <th>5</th>\n",
       "      <td>7</td>\n",
       "      <td>6318.241771</td>\n",
       "      <td>-0.026162</td>\n",
       "    </tr>\n",
       "    <tr>\n",
       "      <th>6</th>\n",
       "      <td>8</td>\n",
       "      <td>6773.301975</td>\n",
       "      <td>-0.021570</td>\n",
       "    </tr>\n",
       "    <tr>\n",
       "      <th>7</th>\n",
       "      <td>9</td>\n",
       "      <td>7960.920863</td>\n",
       "      <td>-0.003552</td>\n",
       "    </tr>\n",
       "    <tr>\n",
       "      <th>8</th>\n",
       "      <td>10</td>\n",
       "      <td>9336.623777</td>\n",
       "      <td>-0.011554</td>\n",
       "    </tr>\n",
       "    <tr>\n",
       "      <th>9</th>\n",
       "      <td>11</td>\n",
       "      <td>10942.752673</td>\n",
       "      <td>-0.008071</td>\n",
       "    </tr>\n",
       "  </tbody>\n",
       "</table>\n",
       "</div>"
      ],
      "text/plain": [
       "   topic_num    perplexity       pmi\n",
       "0          2   7448.009011  0.013786\n",
       "1          3   6807.014016  0.028363\n",
       "2          4   6248.723853  0.034270\n",
       "3          5   6009.177307  0.019085\n",
       "4          6   5980.292875  0.014074\n",
       "5          7   6318.241771 -0.026162\n",
       "6          8   6773.301975 -0.021570\n",
       "7          9   7960.920863 -0.003552\n",
       "8         10   9336.623777 -0.011554\n",
       "9         11  10942.752673 -0.008071"
      ]
     },
     "execution_count": 30,
     "metadata": {},
     "output_type": "execute_result"
    }
   ],
   "source": [
    "result = pd.DataFrame(result)\n",
    "result"
   ]
  },
  {
   "cell_type": "markdown",
   "metadata": {},
   "source": [
    "#### perplexity 結果"
   ]
  },
  {
   "cell_type": "code",
   "execution_count": 31,
   "metadata": {},
   "outputs": [
    {
     "data": {
      "text/plain": [
       "<AxesSubplot:xlabel='topic_num'>"
      ]
     },
     "execution_count": 31,
     "metadata": {},
     "output_type": "execute_result"
    },
    {
     "data": {
      "image/png": "[encoded data removed]",
      "text/plain": [
       "<Figure size 640x480 with 1 Axes>"
      ]
     },
     "metadata": {},
     "output_type": "display_data"
    }
   ],
   "source": [
    "result.plot.line(x='topic_num', y='perplexity')"
   ]
  },
  {
   "cell_type": "markdown",
   "metadata": {},
   "source": [
    "#### pmi 結果"
   ]
  },
  {
   "cell_type": "code",
   "execution_count": 32,
   "metadata": {},
   "outputs": [
    {
     "data": {
      "text/plain": [
       "<AxesSubplot:xlabel='topic_num'>"
      ]
     },
     "execution_count": 32,
     "metadata": {},
     "output_type": "execute_result"
    },
    {
     "data": {
      "image/png": "[encoded data removed]",
      "text/plain": [
       "<Figure size 640x480 with 1 Axes>"
      ]
     },
     "metadata": {},
     "output_type": "display_data"
    }
   ],
   "source": [
    "result.plot.line(x='topic_num', y='pmi')"
   ]
  },
  {
   "cell_type": "markdown",
   "metadata": {},
   "source": [
    "### 查看 perplexity 最低值"
   ]
  },
  {
   "cell_type": "code",
   "execution_count": 14,
   "metadata": {},
   "outputs": [
    {
     "data": {
      "text/plain": [
       "[(0,\n",
       "  '0.009*\"free\" + 0.006*\"get\" + 0.006*\"business\" + 0.006*\"click\" + 0.005*\"please\" + 0.005*\"software\" + 0.005*\"money\" + 0.005*\"time\" + 0.004*\"site\" + 0.004*\"offer\"'),\n",
       " (1,\n",
       "  '0.014*\"report\" + 0.011*\"order\" + 0.011*\"000\" + 0.010*\"address\" + 0.009*\"name\" + 0.008*\"20\" + 0.008*\"program\" + 0.008*\"mail\" + 0.007*\"00\" + 0.007*\"send\"'),\n",
       " (2,\n",
       "  '0.009*\"http\" + 0.004*\"pill\" + 0.004*\"font\" + 0.004*\"color\" + 0.004*\"price\" + 0.004*\"online\" + 0.003*\"www\" + 0.003*\"size\" + 0.003*\"get\" + 0.003*\"viagra\"'),\n",
       " (3,\n",
       "  '0.020*\"company\" + 0.011*\"statement\" + 0.009*\"stock\" + 0.008*\"security\" + 0.007*\"information\" + 0.006*\"investment\" + 0.006*\"report\" + 0.006*\"within\" + 0.005*\"inc\" + 0.004*\"price\"'),\n",
       " (4,\n",
       "  '0.007*\"http\" + 0.006*\"rate\" + 0.005*\"message\" + 0.004*\"www\" + 0.004*\"click\" + 0.003*\"2005\" + 0.003*\"improvement\" + 0.003*\"low\" + 0.003*\"le\" + 0.003*\"id\"'),\n",
       " (5,\n",
       "  '0.009*\"account\" + 0.007*\"fund\" + 0.007*\"bank\" + 0.007*\"money\" + 0.007*\"company\" + 0.006*\"business\" + 0.006*\"transaction\" + 0.005*\"website\" + 0.004*\"mr\" + 0.004*\"country\"')]"
      ]
     },
     "execution_count": 14,
     "metadata": {},
     "output_type": "execute_result"
    }
   ],
   "source": [
    "model = LdaModel(\n",
    "    corpus = corpus,\n",
    "    num_topics = 6,\n",
    "    id2word=dictionary,\n",
    "    random_state = 1116,\n",
    "    passes=5\n",
    ")\n",
    "model.print_topics()"
   ]
  },
  {
   "cell_type": "code",
   "execution_count": 28,
   "metadata": {},
   "outputs": [
    {
     "data": {
      "text/html": [
       "\n",
       "<link rel=\"stylesheet\" type=\"text/css\" href=\"https://cdn.jsdelivr.net/gh/bmabey/pyLDAvis@3.4.0/pyLDAvis/js/ldavis.v1.0.0.css\">\n",
       "\n",
       "\n",
       "<div id=\"ldavis_el814020074561059683706020138\" style=\"background-color:white;\"></div>\n",
       "<script type=\"text/javascript\">\n",
       "\n",
       "var ldavis_el814020074561059683706020138_data = {\"mdsDat\": {\"x\": [0.070751112632618, 0.08134284952723508, 0.17784137884593595, -0.18953335274041355, 0.05323441277999947, -0.19363640104537505], \"y\": [0.007786656358374121, 0.0788272202175264, -0.10702962261545929, -0.18508138715220418, 0.06798689382905229, 0.1375102393627108], \"topics\": [1, 2, 3, 4, 5, 6], \"cluster\": [1, 1, 1, 1, 1, 1], \"Freq\": [36.024017666504406, 17.749276636440197, 16.76654346377434, 13.572197643348005, 8.85861469200431, 7.02934989792875]}, \"tinfo\": {\"Term\": [\"company\", \"report\", \"statement\", \"http\", \"order\", \"stock\", \"address\", \"000\", \"program\", \"account\", \"security\", \"name\", \"money\", \"20\", \"bank\", \"people\", \"mail\", \"fund\", \"business\", \"investment\", \"rate\", \"click\", \"send\", \"00\", \"3d\", \"inc\", \"transaction\", \"message\", \"free\", \"website\", \"grant\", \"ragga\", \"dagga\", \"botanical\", \"\\u00e2\\u01533\\u00e2\", \"adobe\", \"capillaris\", \"enenkio\", \"intro\", \"herba\", \"temple\", \"oz\", \"equivalence\", \"atoll\", \"refer\", \"acrobat\", \"aphrodisia\", \"refund\", \"ebook\", \"spray\", \"prosaka\", \"searcher\", \"tin\", \"vjestika\", \"technique\", \"premiere\", \"hermios\", \"saave\", \"corel\", \"hei\", \"ebay\", \"edition\", \"lead\", \"marshall\", \"broadcast\", \"heaven\", \"download\", \"dragon\", \"oem\", \"tm\", \"bottle\", \"software\", \"adult\", \"photoshop\", \"page\", \"dont\", \"free\", \"seventh\", \"click\", \"credit\", \"window\", \"site\", \"complete\", \"book\", \"offer\", \"professional\", \"learn\", \"pro\", \"guide\", \"find\", \"removed\", \"card\", \"get\", \"business\", \"home\", \"please\", \"call\", \"want\", \"know\", \"list\", \"mailing\", \"need\", \"help\", \"internet\", \"web\", \"time\", \"receive\", \"phone\", \"money\", \"new\", \"like\", \"information\", \"people\", \"product\", \"make\", \"day\", \"address\", \"service\", \"program\", \"order\", \"computron\", \"multilevel\", \"para\", \"por\", \"del\", \"attached\", \"intel\", \"jody\", \"mailed\", \"1618\", \"una\", \"floodgate\", \"este\", \"971\", \"stealth\", \"accurately\", \"goldrush\", \"coordinator\", \"lottery\", \"complication\", \"doris\", \"como\", \"sameday\", \"toshiba\", \"unwarranted\", \"compuserve\", \"jebel\", \"sequence\", \"moneymaking\", \"informacin\", \"prize\", \"envelope\", \"alter\", \"lucky\", \"batch\", \"que\", \"winning\", \"euro\", \"junk\", \"instructed\", \"000\", \"nt\", \"cartridge\", \"congratulation\", \"report\", \"follow\", \"toner\", \"participant\", \"bulk\", \"usb\", \"order\", \"la\", \"20\", \"name\", \"mail\", \"00\", \"address\", \"program\", \"number\", \"participate\", \"send\", \"winner\", \"letter\", \"el\", \"people\", \"response\", \"received\", \"fax\", \"10\", \"work\", \"make\", \"total\", \"list\", \"money\", \"cash\", \"100\", \"50\", \"receive\", \"million\", \"please\", \"get\", \"week\", \"day\", \"time\", \"free\", \"business\", \"statement\", \"estimate\", \"uncertainty\", \"wysak\", \"voip\", \"1933\", \"ooking\", \"oi\", \"1934\", \"advisor\", \"profiled\", \"inherent\", \"materially\", \"otc\", \"prediction\", \"anticipates\", \"wil\", \"piease\", \"shareholder\", \"couid\", \"construed\", \"resuits\", \"foresee\", \"expectation\", \"technoiogy\", \"advises\", \"internationa\", \"otcbb\", \"shouid\", \"lauraan\", \"projection\", \"ooo\", \"yap\", \"conflict\", \"3d\", \"belief\", \"assumption\", \"stock\", \"differ\", \"investing\", \"trading\", \"involve\", \"investor\", \"objective\", \"gas\", \"advice\", \"company\", \"inc\", \"oil\", \"investment\", \"security\", \"forward\", \"event\", \"performance\", \"project\", \"technology\", \"news\", \"term\", \"market\", \"share\", \"act\", \"within\", \"risk\", \"looking\", \"information\", \"future\", \"report\", \"price\", \"fact\", \"service\", \"product\", \"time\", \"cialis\", \"\\u00ef\\u00bd\\u00ef\\u00bd\\u00ef\\u00bdn\", \"rolex\", \"width\", \"capitalfm\", \"stylus\", \"fontsize\", \"utf\", \"bgcolor\", \"href\", \"xanax\", \"replica\", \"verdana\", \"src\", \"impotence\", \"gh\", \"phentermine\", \"dysfunction\", \"000000\", \"fontfont\", \"border\", \"regalis\", \"align\", \"moopid\", \"fontweight\", \"ffffff\", \"\\u00ef\\u00bdm\\u00ef\\u00bd\\u00ef\\u00bd\\u00ef\\u00bdo\\u00ef\\u00bd\\u00ef\\u00bd\", \"soma\", \"hotlist\", \"prozac\", \"arial\", \"font\", \"pill\", \"td\", \"pharmacy\", \"br\", \"fontfamily\", \"med\", \"height\", \"mg\", \"generic\", \"medication\", \"viagra\", \"prescription\", \"color\", \"face\", \"style\", \"size\", \"http\", \"drug\", \"relief\", \"men\", \"99\", \"soft\", \"man\", \"online\", \"www\", \"price\", \"quality\", \"best\", \"save\", \"get\", \"new\", \"like\", \"stop\", \"want\", \"kin\", \"nigeria\", \"stationery\", \"und\", \"spur\", \"sie\", \"deceased\", \"foreigner\", \"kernel\", \"dieser\", \"einer\", \"majordomo\", \"artwork\", \"extender\", \"sperm\", \"localized\", \"utmost\", \"nigerian\", \"zu\", \"abacha\", \"lagos\", \"vain\", \"revamping\", \"vger\", \"mit\", \"wili\", \"bathtub\", \"reqards\", \"enlargement\", \"nicht\", \"colleague\", \"died\", \"beneficiary\", \"maxaman\", \"transaction\", \"urgent\", \"fund\", \"africa\", \"logo\", \"penis\", \"sum\", \"bank\", \"deposited\", \"foreign\", \"late\", \"account\", \"mr\", \"transfer\", \"domain\", \"assistance\", \"enable\", \"confidentiality\", \"confidential\", \"country\", \"contract\", \"website\", \"husband\", \"trust\", \"south\", \"money\", \"document\", \"shall\", \"business\", \"company\", \"claim\", \"regard\", \"name\", \"security\", \"next\", \"government\", \"search\", \"million\", \"please\", \"http\", \"dollar\", \"information\", \"make\", \"468\", \"dieting\", \"334\", \"wor\", \"kno\", \"bra\", \"wn\", \"hin\", \"andmanyother\", \"expe\", \"tras\", \"rien\", \"hou\", \"reas\", \"ppin\", \"xual\", \"lon\", \"acy\", \"shi\", \"squirrelmail\", \"ger\", \"thr\", \"eff\", \"ume\", \"je\", \"seekercenter\", \"infoseek\", \"mladih\", \"lean\", \"mailwisconsin\", \"ur\", \"tue\", \"aging\", \"jul\", \"ee\", \"yo\", \"ld\", \"improvement\", \"ne\", \"ce\", \"ge\", \"rate\", \"ph\", \"mortgage\", \"fat\", \"id\", \"se\", \"19\", \"57\", \"content\", \"2005\", \"est\", \"http\", \"message\", \"da\", \"quote\", \"low\", \"www\", \"le\", \"click\", \"net\", \"nd\", \"save\", \"weight\", \"24\", \"loan\", \"hello\", \"site\", \"100\", \"web\", \"please\", \"10\", \"day\", \"get\", \"link\"], \"Freq\": [4843.0, 3824.0, 1991.0, 2754.0, 3469.0, 1640.0, 3454.0, 2590.0, 2813.0, 1469.0, 1968.0, 2654.0, 3721.0, 2613.0, 955.0, 2493.0, 2562.0, 859.0, 3871.0, 1507.0, 963.0, 2716.0, 2326.0, 2119.0, 798.0, 1121.0, 652.0, 1582.0, 4319.0, 1269.0, 1025.1054572839503, 318.3979503894312, 309.9489167979398, 280.03447505502584, 234.32293716937195, 986.8210512683495, 214.44955173375936, 186.7072307634887, 187.92959672231888, 178.04545938970475, 441.36344320577865, 341.3271738064395, 139.65439330217006, 137.31939808363447, 155.25438752151953, 120.94379713742786, 109.35305470205343, 110.51019616443777, 104.04790556938707, 105.05607234800912, 101.7278429806813, 99.27711163999876, 95.00781893067203, 87.95204695050784, 127.45858817789944, 171.3524327432951, 84.28095495264627, 83.41676883257851, 244.17025386728426, 81.41629638729864, 229.7254232785536, 248.31693199510167, 366.61379688070525, 113.2585032822003, 397.3951882141816, 393.76555926169374, 459.8391169085915, 178.0946854247582, 169.88326634398808, 463.9781913720658, 241.1245687556183, 1887.722277725285, 312.968516506209, 226.47679065183456, 646.3538826653845, 484.03652605366506, 3390.081001336165, 266.9182199909349, 2109.7156973550814, 937.4904987940162, 577.7826311613269, 1680.9409335778898, 564.5527386743513, 350.9406228860308, 1652.8205610535902, 752.5831828408044, 440.11710153076837, 408.7916746063171, 502.49185006520133, 838.316036622649, 678.7846098840544, 780.6005323060278, 2261.314656207527, 2240.0414493518983, 1180.7420058543894, 2054.96316083051, 915.1271989728549, 1217.7782681704823, 982.3461409710862, 1612.741074927584, 1000.5495771193265, 1228.9247126756363, 844.6290119073556, 1232.7703208569214, 960.9135648269718, 1715.282949511145, 1163.0742544518916, 840.2663545507411, 1758.5851586677418, 1432.5449542398921, 1144.5934823383054, 1605.2870225696108, 1250.2908336724288, 1180.9041880591637, 1277.6828366852048, 1205.9784359536275, 1337.7102065766592, 1108.7620272301465, 1109.0681076838182, 1031.7020096920185, 222.1195585577867, 206.91323192269752, 167.8447376093577, 125.503534176809, 122.52622578080066, 117.02969558054578, 118.52118663030123, 85.5158674130177, 85.94549345199992, 93.90349603354151, 79.64377377223161, 195.77599015608047, 78.4503362268945, 76.45168213284788, 79.81404442954009, 65.52337666324863, 59.75321478729684, 55.78709572695006, 351.5829479829649, 52.215975789934305, 66.72979659503531, 49.46228060906919, 48.16150828735619, 53.66298132281895, 47.1724161033783, 46.697849785030805, 46.37611614786414, 44.019604574455336, 49.584985274990686, 42.824199098561756, 285.6721840543286, 131.68190494378862, 92.31651568762355, 229.49773354502616, 159.46090950396632, 222.49179248719759, 324.412946196646, 154.57761569984024, 72.42545862948054, 112.40930863662173, 2019.6612194738166, 584.6811661289362, 236.27861047880054, 182.48828482984854, 2586.206067526438, 469.6958986530422, 236.55129473263392, 186.39707674669467, 438.2651837452197, 186.44354914255922, 2103.064660961579, 407.1430576729377, 1568.6496060475813, 1584.8857531791007, 1518.5418821128635, 1271.6299283666874, 1887.548123891511, 1564.0565914747538, 1073.1507000112724, 241.94135637078813, 1248.7045281163535, 242.71038140431187, 637.0652578681694, 262.50404890872613, 1164.3523221329626, 418.79407278153354, 580.2124533045999, 478.006358409324, 785.9596092253782, 857.6259339055899, 1016.2334057949141, 462.8191534543599, 954.6850701990469, 1114.957059439598, 487.0863196169809, 643.3803064200973, 537.227739287004, 653.567765889313, 634.6578751545297, 818.7310072776436, 804.7756023327296, 546.363657936839, 664.5091782636639, 683.9350295314708, 629.4265039715924, 608.7805032757369, 1987.8000297957565, 350.5366418403815, 308.56805910766116, 273.71818521132786, 291.63788976038325, 219.51966908479972, 213.00620238793246, 201.64009990187603, 186.71230074511735, 197.49038534154337, 177.2565353138888, 170.08829141680462, 162.48139169727165, 165.12427078124082, 153.0073587421106, 139.4023594748634, 137.68586682852873, 133.65755049974982, 137.41550542869223, 131.03225365186123, 131.95717746019992, 126.36105549259298, 124.20446485086748, 364.99879301586833, 123.81602937696775, 114.93928103970302, 107.08835747583532, 109.34038723615782, 105.60688787816873, 106.38374859779128, 294.36224650148927, 150.73514878877643, 132.7702561542038, 147.58478848003938, 768.3170825503732, 305.1455883808387, 196.8331636070488, 1525.1437493527217, 313.3196405091386, 416.66524212689586, 352.6870137505555, 232.38031277859315, 564.1941336202101, 195.99418716914954, 626.7293708003587, 566.697541284054, 3455.9965632198364, 875.4506076553721, 480.34202567381914, 1101.9388563961102, 1363.3392277177577, 746.6434120613641, 488.91000580701075, 472.55224615142316, 457.8962505674431, 618.0030175761419, 716.1006029986993, 505.42413383095226, 780.0368549370671, 645.2685960238778, 663.5323150745826, 999.2208761689164, 652.4214874274442, 697.4974312132396, 1258.3523923792511, 725.7815315160701, 1068.0022564146334, 782.8147459560357, 502.95959323930515, 602.6781810487157, 604.8428314938336, 533.4602213004596, 278.6587483856979, 244.20542030871968, 167.11347061161703, 229.33743261692092, 139.55866706511927, 131.25664892771917, 158.0935854561868, 124.30126897173571, 106.8250355301685, 196.65767588228297, 104.03186682589157, 101.11661668153282, 100.702202146408, 106.25702772308995, 81.36576052363881, 77.24421824674963, 77.07017457418537, 82.48471205858205, 71.79465841636814, 70.50686274391465, 118.58812252036779, 66.51085446461927, 171.8915452637336, 66.11039505104468, 63.841592833353154, 63.220620972547685, 60.205370853057815, 62.272111521397214, 67.27479284062399, 58.501670332884416, 152.45404388798792, 557.8346683599526, 606.186436431445, 298.27086472050263, 170.48700843799742, 291.465269459841, 115.02740971155744, 307.7324950881489, 206.99743154901898, 172.45390644197963, 194.05381827515566, 346.9862028290837, 444.55104029786236, 414.69027607296863, 532.6053651458755, 296.18065162879043, 162.8086033265019, 481.675521875151, 1326.412519945445, 333.91629384230015, 134.22530194006896, 267.84631524088314, 392.3449926748685, 212.69272736730338, 230.150017279884, 508.253789814196, 495.2604497767429, 530.3379042095196, 274.67037381869517, 358.14695514543064, 335.7150017904111, 460.8078006199469, 378.2558754633259, 273.6627072370337, 229.0393700979012, 244.64774508694492, 232.351719758717, 173.5470812021349, 115.23247238348497, 98.05199021383265, 90.21795064743792, 82.3081136758927, 80.9811781240409, 80.19707001782983, 74.1978994060746, 70.67025596214759, 65.84738261131517, 64.29179569704196, 60.14735397603974, 57.81207407604656, 58.12647712996433, 56.90647179739906, 63.64144358504735, 56.86818400219791, 53.316049339096374, 52.93926176749306, 49.192850994655295, 48.5295507447211, 47.61291336687801, 46.82822702579235, 48.331232394926936, 41.490019406183805, 41.129689912249525, 39.9258994744621, 40.92211710242968, 38.986592047096245, 85.04606121117561, 127.66009085464515, 111.397813241468, 78.03782751073393, 542.0643053038134, 151.31365845439564, 648.9496492408227, 199.80550504285443, 280.7963024012578, 202.0836639837402, 262.12707618802284, 628.1033633206644, 132.06989374650934, 273.48369559014367, 235.8381626168129, 805.7239308802177, 412.9098934112811, 280.05596721546016, 218.95619014812328, 252.5359213433971, 120.34217725243896, 116.37188690591127, 190.06232306278778, 362.7553783754636, 220.56731463067908, 442.66570874426407, 148.17290277815252, 153.9464104750158, 181.21196815348503, 613.41792680645, 159.26035654818037, 181.8341813029373, 566.5793023610435, 606.6127400120201, 237.95482650169427, 204.21883138460868, 354.62308309912584, 317.7109464930975, 258.11879526982773, 251.09169598109426, 226.64688691032458, 267.1919597480992, 294.15117183244524, 266.18637147272455, 225.82795501409572, 235.53257359168452, 227.84963706574416, 176.80276162206638, 120.79221337961636, 112.48289581170525, 111.38648475912142, 106.42166601144243, 100.59392591649238, 97.40862033446102, 88.94400316751212, 83.6329421284507, 79.73076954924841, 79.16942513485589, 78.92515502331435, 78.51809820482914, 78.17336534184467, 77.99797147725877, 77.99848605512172, 78.0576282041699, 76.90193778177444, 74.18128743368761, 73.14109401263089, 72.40906412109842, 70.70167761924071, 68.94961289443252, 68.42444759195412, 58.77312382192056, 55.03263160725661, 55.561733430386575, 50.87560147698264, 50.15769674778811, 48.80465285050541, 175.78914614763093, 108.26504686617965, 167.190241311048, 126.08457808965734, 82.46404420757288, 93.70009198138388, 101.96761725052588, 251.47154297051574, 154.12131864720163, 136.61345008271627, 89.31676337143183, 472.4273150709477, 99.89445165108911, 216.68674838643616, 137.47095978612865, 220.08076674967936, 201.48987473334452, 199.54271209994835, 101.31700215320954, 207.30966460031203, 254.50220075213574, 116.20524058040256, 501.6899516239891, 372.4298449316964, 126.0295268346196, 149.33011847048138, 236.58441088572806, 322.38848566242314, 226.90492684214468, 297.3190755041653, 216.92540959927157, 127.79958034388669, 208.68175216667265, 145.7788279597258, 166.61580089004343, 152.4094210127454, 147.22163567705095, 200.53143915841255, 185.61190582085456, 177.5431705564672, 202.74827489718444, 178.86079863233246, 174.62441630744303, 170.3649980468889, 156.77357302100492], \"Total\": [4843.0, 3824.0, 1991.0, 2754.0, 3469.0, 1640.0, 3454.0, 2590.0, 2813.0, 1469.0, 1968.0, 2654.0, 3721.0, 2613.0, 955.0, 2493.0, 2562.0, 859.0, 3871.0, 1507.0, 963.0, 2716.0, 2326.0, 2119.0, 798.0, 1121.0, 652.0, 1582.0, 4319.0, 1269.0, 1027.465309200961, 319.16174161349596, 310.7123590586786, 280.8001227909375, 235.08265873993236, 990.2115661721622, 215.20958090505522, 187.4729444797308, 188.70401678179974, 178.80637919772164, 443.6891935477322, 343.17339226645754, 140.4130010056487, 138.0827557415865, 156.1933776745273, 121.7043739959236, 110.1125269342051, 111.29236185153913, 104.81329887539012, 105.83253866275803, 102.48755055326897, 100.03433452080665, 95.7792887992606, 88.71203492737367, 128.56183936697062, 172.83995680742845, 85.04179554601097, 84.18014147813565, 246.41903062068837, 82.17389735121019, 232.56813420087806, 251.79278592229988, 374.11256166626725, 114.37932067127029, 406.46100921947885, 403.39126243956105, 475.74778951120453, 180.88010347040785, 172.5309969146241, 481.28370105291515, 246.80411143269413, 2120.601079854894, 326.34338417009246, 233.6531849164761, 702.7579857891204, 530.5790755626354, 4319.552893905803, 280.6341753474345, 2716.378326522399, 1123.0713168697043, 658.3681204527584, 2279.022011041842, 665.0269873752128, 385.4510519433637, 2294.6582068274447, 940.7912846887207, 503.0688687167564, 460.92328579096966, 590.7669768266595, 1098.1785624616248, 850.2623114899725, 1021.2139453932808, 3897.409536501175, 3871.5699529783283, 1736.1600039958596, 3672.468427631372, 1286.3595373026228, 1879.5610052537716, 1425.2807315713694, 2777.7515377222608, 1463.2502704352028, 1952.5905124262556, 1173.5285337501134, 2003.0333690133482, 1420.644103754111, 3342.9205750008723, 1883.1058246610035, 1188.1327456738513, 3721.7416093735624, 2787.497029655357, 1996.7008689861027, 3591.089271118892, 2493.0071233153417, 2358.9930680661314, 2864.2850882761736, 2543.963572456446, 3454.2376834254055, 2203.491447494764, 2813.447075553944, 3469.805251200336, 222.89527986059775, 207.7971161221543, 168.68538164458857, 126.28192737183544, 123.3865272535561, 117.9326228467811, 119.54385062216944, 86.28755875110588, 86.72912837824761, 94.79957733872548, 80.4145445479912, 197.6876456948723, 79.22570292865365, 77.22431350379394, 80.70237323839257, 66.29614630512873, 60.525083289899854, 56.55745166892668, 356.7838260719875, 52.98954739014874, 67.75141938132285, 50.232350082485084, 48.932616836886865, 54.53702042708915, 47.94302877667788, 47.46907483298136, 47.14702024699655, 44.79045978909393, 50.47103149633756, 43.59462668740334, 294.76159022056214, 134.8768994316043, 94.31865519162685, 236.69896101180512, 164.75083989712664, 231.63076570450124, 340.7032966496343, 161.9918052070449, 74.18507078020006, 118.51558296900203, 2590.5813661414436, 699.7393229845153, 268.0709311500402, 204.56048755774458, 3824.3837306253795, 596.6267216197137, 274.88878838598646, 211.21674533540545, 564.5218559060834, 211.63640931482723, 3469.805251200336, 519.8320123598589, 2613.0877717347616, 2654.9149728973853, 2562.3022057079384, 2119.960679437836, 3454.2376834254055, 2813.447075553944, 1855.8222833537839, 290.33246189848325, 2326.951710987761, 293.9838171246757, 1024.2017022203156, 326.72324112127774, 2493.0071233153417, 621.99457371664, 1031.2497942120199, 798.6315459692267, 1771.8525456129582, 2048.147582903518, 2864.2850882761736, 806.1623001713007, 2777.7515377222608, 3721.7416093735624, 972.299808842332, 1651.270027630062, 1195.0266118848992, 1883.1058246610035, 1793.97767300793, 3672.468427631372, 3897.409536501175, 1324.5158724548, 2543.963572456446, 3342.9205750008723, 4319.552893905803, 3871.5699529783283, 1991.8750100391958, 351.3650674743087, 309.34117805490064, 274.4780161853454, 292.4789750244543, 220.29814097126095, 213.77280220278544, 202.4108150364358, 187.48059643739322, 198.33597262093977, 178.04883915369325, 170.86532123680473, 163.24579688184352, 165.91675046859942, 153.78704471369562, 140.16378841180344, 138.4572871372056, 134.4196054571136, 138.20080542241334, 131.7931542972553, 132.7238427731958, 127.12233823962248, 124.96452223640728, 367.2334675465566, 124.58386420509306, 115.72418037836277, 107.8566833822977, 110.1256101682946, 106.36686489313291, 107.15079129308214, 297.4550588309841, 152.04595557282084, 133.88065333426616, 149.0602028953944, 798.2676578591908, 311.4005458454162, 199.53776884827366, 1640.2795288127975, 321.4253099277336, 432.6953302564928, 365.2775281633244, 238.24748216264362, 602.2445600545684, 200.5601989267926, 708.4756771114753, 652.0813840362583, 4843.311582082139, 1121.9484350139737, 567.1768842362118, 1507.9175458740992, 1968.0203098132613, 996.5741140778525, 602.107388666675, 598.4647483318946, 579.8995807074975, 864.0834466487729, 1057.7328368881304, 670.641022870105, 1201.5363595640094, 946.5829901726322, 998.4708281598814, 1950.810412701139, 1022.1321196948727, 1202.6898052288643, 3591.089271118892, 1452.5165171164563, 3824.3837306253795, 2668.3232420014765, 872.7162245975751, 2203.491447494764, 2358.9930680661314, 3342.9205750008723, 279.4598983688537, 244.9658321935839, 167.8763719444395, 230.42122347856358, 140.3501212810011, 132.0173063068631, 159.04165699034147, 125.12462030432019, 107.5949766118809, 198.095951637351, 104.81537851492678, 101.8812152819246, 101.46880340825301, 107.18648165867111, 82.15407414559415, 78.02244620909025, 77.84960469005448, 83.36133705908918, 72.56013776310014, 71.2684534189671, 119.91846474016661, 67.27353128404506, 173.86304074512196, 66.87062755065568, 64.61232238726541, 63.994134627360495, 60.96548741174284, 63.06051827215106, 68.14939363653413, 59.27357807875346, 154.51381248025308, 572.9751525819028, 630.7796949514988, 308.0077572728646, 174.7423637323981, 302.46541893610816, 117.21096391453493, 320.79416244796766, 216.0691822548584, 179.4466455463943, 204.853104320611, 378.1381605080254, 504.8986203920311, 491.2136715559036, 650.1171418322061, 348.69683056112177, 182.2776935777014, 724.0035754635745, 2754.153033664472, 466.59737215425844, 144.21997441765467, 408.2502229468653, 731.4718241772454, 294.0440332981801, 362.2894739051032, 1678.1855580085119, 1733.4945178119813, 2668.3232420014765, 619.5739028298595, 1718.2978013777488, 1433.7139651946984, 3897.409536501175, 2787.497029655357, 1996.7008689861027, 653.2227407226435, 1879.5610052537716, 233.13352120660713, 174.41068399137535, 116.05888047283352, 98.82143899925069, 90.99503984898882, 83.07509132123695, 81.75180235006185, 80.99718959454697, 74.96573081452466, 71.43467912940822, 66.61216176208393, 65.05823146273137, 60.92707244240828, 58.57816780753447, 58.8994234795382, 57.674083247710534, 64.50253582207564, 57.63763877405115, 54.08179104645851, 53.747132238553796, 49.96181478343762, 49.29430281957094, 48.376405025650605, 47.59443685294608, 49.12556169262388, 42.25991648366738, 41.912143151412735, 40.68931094069222, 41.711429915759396, 39.751976810928625, 86.92756028382061, 132.22981528969615, 117.17321672608432, 82.1120276362065, 652.8062196505423, 172.35206845011666, 859.7276276799539, 235.07967121512823, 344.81221065630086, 240.89919431568947, 337.64217104286604, 955.0880476749796, 155.73078890404778, 380.7136511580252, 319.5931669935345, 1469.7692811699708, 645.505375379974, 416.5933248984501, 307.39220807756084, 376.2599114738477, 147.3498447362242, 144.41870677971994, 294.8373547038521, 854.905080797746, 403.759980489206, 1269.121243547169, 219.2211534113115, 240.85898439560358, 326.1267429724071, 3721.7416093735624, 259.83795194161115, 342.36355005586097, 3871.5699529783283, 4843.311582082139, 721.8410323095852, 536.5853306736141, 2654.9149728973853, 1968.0203098132613, 1103.9680698687384, 1061.0034812433641, 829.6208167083851, 1793.97767300793, 3672.468427631372, 2754.153033664472, 1112.6218648978868, 3591.089271118892, 2864.2850882761736, 177.5855090694757, 121.60191820509405, 113.2602979447248, 112.16702513830968, 107.1993882080096, 101.37243155418521, 98.18652480574994, 89.72359071481475, 84.42089487239349, 80.50848195000783, 79.94720193036198, 79.70275439234966, 79.29639956723759, 78.95201704497113, 78.77584311378313, 78.7764502006999, 78.84188462380106, 77.68055706478414, 74.9602943540053, 73.92081840122228, 73.18822344602233, 71.48179063649116, 69.72716071844064, 69.20206860689831, 59.555041083396176, 55.81060768905509, 56.36206408111505, 51.654105287895774, 50.94135466530176, 49.5833002700171, 179.43392350645928, 111.09722334558195, 175.6576136270629, 131.86206392469222, 84.9601387054619, 97.06722055084319, 107.60093545070619, 295.61504124942127, 174.00577990785484, 165.05138095428944, 95.8315017696954, 963.2744452771412, 113.85928680321993, 363.9037820177275, 187.25357694170492, 386.48781058008245, 390.39999347501157, 390.8022949808725, 124.3082257984188, 454.49465092054913, 712.0432034199989, 163.06796994717834, 2754.153033664472, 1582.1481347831668, 192.95999233907938, 281.4381581365476, 824.8764912743976, 1733.4945178119813, 773.8337290978141, 2716.378326522399, 1093.4324437216146, 220.65295733881186, 1433.7139651946984, 381.9538809653132, 668.2139992719549, 479.6280606766802, 426.28716352499396, 2279.022011041842, 1651.270027630062, 1420.644103754111, 3672.468427631372, 1771.8525456129582, 2543.963572456446, 3897.409536501175, 1148.764876470309], \"Category\": [\"Default\", \"Default\", \"Default\", \"Default\", \"Default\", \"Default\", \"Default\", \"Default\", \"Default\", \"Default\", \"Default\", \"Default\", \"Default\", \"Default\", \"Default\", \"Default\", \"Default\", \"Default\", \"Default\", \"Default\", \"Default\", \"Default\", \"Default\", \"Default\", \"Default\", \"Default\", \"Default\", \"Default\", \"Default\", \"Default\", \"Topic1\", \"Topic1\", \"Topic1\", \"Topic1\", \"Topic1\", \"Topic1\", \"Topic1\", \"Topic1\", \"Topic1\", \"Topic1\", \"Topic1\", \"Topic1\", \"Topic1\", \"Topic1\", \"Topic1\", \"Topic1\", \"Topic1\", \"Topic1\", \"Topic1\", \"Topic1\", \"Topic1\", \"Topic1\", \"Topic1\", \"Topic1\", \"Topic1\", \"Topic1\", \"Topic1\", \"Topic1\", \"Topic1\", \"Topic1\", \"Topic1\", \"Topic1\", \"Topic1\", \"Topic1\", \"Topic1\", \"Topic1\", \"Topic1\", \"Topic1\", \"Topic1\", \"Topic1\", \"Topic1\", \"Topic1\", \"Topic1\", \"Topic1\", \"Topic1\", \"Topic1\", \"Topic1\", \"Topic1\", \"Topic1\", \"Topic1\", \"Topic1\", \"Topic1\", \"Topic1\", \"Topic1\", \"Topic1\", \"Topic1\", \"Topic1\", \"Topic1\", \"Topic1\", \"Topic1\", \"Topic1\", \"Topic1\", \"Topic1\", \"Topic1\", \"Topic1\", \"Topic1\", \"Topic1\", \"Topic1\", \"Topic1\", \"Topic1\", \"Topic1\", \"Topic1\", \"Topic1\", \"Topic1\", \"Topic1\", \"Topic1\", \"Topic1\", \"Topic1\", \"Topic1\", \"Topic1\", \"Topic1\", \"Topic1\", \"Topic1\", \"Topic1\", \"Topic1\", \"Topic1\", \"Topic1\", \"Topic1\", \"Topic1\", \"Topic1\", \"Topic2\", \"Topic2\", \"Topic2\", \"Topic2\", \"Topic2\", \"Topic2\", \"Topic2\", \"Topic2\", \"Topic2\", \"Topic2\", \"Topic2\", \"Topic2\", \"Topic2\", \"Topic2\", \"Topic2\", \"Topic2\", \"Topic2\", \"Topic2\", \"Topic2\", \"Topic2\", \"Topic2\", \"Topic2\", \"Topic2\", \"Topic2\", \"Topic2\", \"Topic2\", \"Topic2\", \"Topic2\", \"Topic2\", \"Topic2\", \"Topic2\", \"Topic2\", \"Topic2\", \"Topic2\", \"Topic2\", \"Topic2\", \"Topic2\", \"Topic2\", \"Topic2\", \"Topic2\", \"Topic2\", \"Topic2\", \"Topic2\", \"Topic2\", \"Topic2\", \"Topic2\", \"Topic2\", \"Topic2\", \"Topic2\", \"Topic2\", \"Topic2\", \"Topic2\", \"Topic2\", \"Topic2\", \"Topic2\", \"Topic2\", \"Topic2\", \"Topic2\", \"Topic2\", \"Topic2\", \"Topic2\", \"Topic2\", \"Topic2\", \"Topic2\", \"Topic2\", \"Topic2\", \"Topic2\", \"Topic2\", \"Topic2\", \"Topic2\", \"Topic2\", \"Topic2\", \"Topic2\", \"Topic2\", \"Topic2\", \"Topic2\", \"Topic2\", \"Topic2\", \"Topic2\", \"Topic2\", \"Topic2\", \"Topic2\", \"Topic2\", \"Topic2\", \"Topic2\", \"Topic2\", \"Topic3\", \"Topic3\", \"Topic3\", \"Topic3\", \"Topic3\", \"Topic3\", \"Topic3\", \"Topic3\", \"Topic3\", \"Topic3\", \"Topic3\", \"Topic3\", \"Topic3\", \"Topic3\", \"Topic3\", \"Topic3\", \"Topic3\", \"Topic3\", \"Topic3\", \"Topic3\", \"Topic3\", \"Topic3\", \"Topic3\", \"Topic3\", \"Topic3\", \"Topic3\", \"Topic3\", \"Topic3\", \"Topic3\", \"Topic3\", \"Topic3\", \"Topic3\", \"Topic3\", \"Topic3\", \"Topic3\", \"Topic3\", \"Topic3\", \"Topic3\", \"Topic3\", \"Topic3\", \"Topic3\", \"Topic3\", \"Topic3\", \"Topic3\", \"Topic3\", \"Topic3\", \"Topic3\", \"Topic3\", \"Topic3\", \"Topic3\", \"Topic3\", \"Topic3\", \"Topic3\", \"Topic3\", \"Topic3\", \"Topic3\", \"Topic3\", \"Topic3\", \"Topic3\", \"Topic3\", \"Topic3\", \"Topic3\", \"Topic3\", \"Topic3\", \"Topic3\", \"Topic3\", \"Topic3\", \"Topic3\", \"Topic3\", \"Topic3\", \"Topic3\", \"Topic3\", \"Topic4\", \"Topic4\", \"Topic4\", \"Topic4\", \"Topic4\", \"Topic4\", \"Topic4\", \"Topic4\", \"Topic4\", \"Topic4\", \"Topic4\", \"Topic4\", \"Topic4\", \"Topic4\", \"Topic4\", \"Topic4\", \"Topic4\", \"Topic4\", \"Topic4\", \"Topic4\", \"Topic4\", \"Topic4\", \"Topic4\", \"Topic4\", \"Topic4\", \"Topic4\", \"Topic4\", \"Topic4\", \"Topic4\", \"Topic4\", \"Topic4\", \"Topic4\", \"Topic4\", \"Topic4\", \"Topic4\", \"Topic4\", \"Topic4\", \"Topic4\", \"Topic4\", \"Topic4\", \"Topic4\", \"Topic4\", \"Topic4\", \"Topic4\", \"Topic4\", \"Topic4\", \"Topic4\", \"Topic4\", \"Topic4\", \"Topic4\", \"Topic4\", \"Topic4\", \"Topic4\", \"Topic4\", \"Topic4\", \"Topic4\", \"Topic4\", \"Topic4\", \"Topic4\", \"Topic4\", \"Topic4\", \"Topic4\", \"Topic4\", \"Topic4\", \"Topic4\", \"Topic4\", \"Topic5\", \"Topic5\", \"Topic5\", \"Topic5\", \"Topic5\", \"Topic5\", \"Topic5\", \"Topic5\", \"Topic5\", \"Topic5\", \"Topic5\", \"Topic5\", \"Topic5\", \"Topic5\", \"Topic5\", \"Topic5\", \"Topic5\", \"Topic5\", \"Topic5\", \"Topic5\", \"Topic5\", \"Topic5\", \"Topic5\", \"Topic5\", \"Topic5\", \"Topic5\", \"Topic5\", \"Topic5\", \"Topic5\", \"Topic5\", \"Topic5\", \"Topic5\", \"Topic5\", \"Topic5\", \"Topic5\", \"Topic5\", \"Topic5\", \"Topic5\", \"Topic5\", \"Topic5\", \"Topic5\", \"Topic5\", \"Topic5\", \"Topic5\", \"Topic5\", \"Topic5\", \"Topic5\", \"Topic5\", \"Topic5\", \"Topic5\", \"Topic5\", \"Topic5\", \"Topic5\", \"Topic5\", \"Topic5\", \"Topic5\", \"Topic5\", \"Topic5\", \"Topic5\", \"Topic5\", \"Topic5\", \"Topic5\", \"Topic5\", \"Topic5\", \"Topic5\", \"Topic5\", \"Topic5\", \"Topic5\", \"Topic5\", \"Topic5\", \"Topic5\", \"Topic5\", \"Topic5\", \"Topic5\", \"Topic5\", \"Topic5\", \"Topic5\", \"Topic6\", \"Topic6\", \"Topic6\", \"Topic6\", \"Topic6\", \"Topic6\", \"Topic6\", \"Topic6\", \"Topic6\", \"Topic6\", \"Topic6\", \"Topic6\", \"Topic6\", \"Topic6\", \"Topic6\", \"Topic6\", \"Topic6\", \"Topic6\", \"Topic6\", \"Topic6\", \"Topic6\", \"Topic6\", \"Topic6\", \"Topic6\", \"Topic6\", \"Topic6\", \"Topic6\", \"Topic6\", \"Topic6\", \"Topic6\", \"Topic6\", \"Topic6\", \"Topic6\", \"Topic6\", \"Topic6\", \"Topic6\", \"Topic6\", \"Topic6\", \"Topic6\", \"Topic6\", \"Topic6\", \"Topic6\", \"Topic6\", \"Topic6\", \"Topic6\", \"Topic6\", \"Topic6\", \"Topic6\", \"Topic6\", \"Topic6\", \"Topic6\", \"Topic6\", \"Topic6\", \"Topic6\", \"Topic6\", \"Topic6\", \"Topic6\", \"Topic6\", \"Topic6\", \"Topic6\", \"Topic6\", \"Topic6\", \"Topic6\", \"Topic6\", \"Topic6\", \"Topic6\", \"Topic6\", \"Topic6\", \"Topic6\", \"Topic6\", \"Topic6\", \"Topic6\", \"Topic6\", \"Topic6\", \"Topic6\"], \"logprob\": [30.0, 29.0, 28.0, 27.0, 26.0, 25.0, 24.0, 23.0, 22.0, 21.0, 20.0, 19.0, 18.0, 17.0, 16.0, 15.0, 14.0, 13.0, 12.0, 11.0, 10.0, 9.0, 8.0, 7.0, 6.0, 5.0, 4.0, 3.0, 2.0, 1.0, -5.9089, -7.0781, -7.105, -7.2065, -7.3847, -5.947, -7.4734, -7.6119, -7.6054, -7.6594, -6.7516, -7.0086, -7.9023, -7.9191, -7.7964, -8.0461, -8.1469, -8.1363, -8.1966, -8.1869, -8.2191, -8.2435, -8.2875, -8.3646, -7.9936, -7.6977, -8.4073, -8.4176, -7.3436, -8.4419, -7.4046, -7.3267, -6.9371, -8.1118, -6.8565, -6.8657, -6.7106, -7.6591, -7.7063, -6.7016, -7.3561, -5.2983, -7.0953, -7.4188, -6.3701, -6.6593, -4.7128, -7.2545, -5.1871, -5.9982, -6.4822, -5.4143, -6.5054, -6.9808, -5.4312, -6.2179, -6.7544, -6.8282, -6.6219, -6.11, -6.3211, -6.1814, -5.1177, -5.1272, -5.7675, -5.2134, -6.0224, -5.7367, -5.9515, -5.4557, -5.9331, -5.7275, -6.1025, -5.7244, -5.9736, -5.3941, -5.7826, -6.1077, -5.3692, -5.5742, -5.7986, -5.4604, -5.7103, -5.7674, -5.6886, -5.7464, -5.6427, -5.8304, -5.8302, -5.9025, -6.7304, -6.8013, -7.0106, -7.3013, -7.3253, -7.3712, -7.3585, -7.6849, -7.6799, -7.5913, -7.756, -6.8566, -7.7711, -7.7969, -7.7539, -7.9512, -8.0434, -8.1121, -6.2712, -8.1782, -7.9329, -8.2324, -8.259, -8.1509, -8.2798, -8.2899, -8.2968, -8.349, -8.2299, -8.3765, -6.4788, -7.2532, -7.6084, -6.6977, -7.0618, -6.7287, -6.3516, -7.0929, -7.851, -7.4115, -4.5229, -5.7625, -6.6686, -6.9269, -4.2757, -5.9815, -6.6674, -6.9057, -6.0508, -6.9055, -4.4824, -6.1244, -4.7756, -4.7653, -4.8081, -4.9855, -4.5906, -4.7786, -5.1552, -6.6449, -5.0037, -6.6417, -5.6767, -6.5633, -5.0737, -6.0962, -5.7702, -5.964, -5.4667, -5.3794, -5.2097, -5.9963, -5.2722, -5.117, -5.9452, -5.6669, -5.8472, -5.6512, -5.6805, -5.4258, -5.443, -5.8303, -5.6346, -5.6057, -5.6888, -5.7221, -4.4819, -6.2172, -6.3447, -6.4645, -6.4011, -6.6852, -6.7153, -6.7702, -6.8471, -6.791, -6.899, -6.9403, -6.9861, -6.9699, -7.0462, -7.1393, -7.1517, -7.1814, -7.1536, -7.2012, -7.1942, -7.2375, -7.2547, -6.1767, -7.2578, -7.3322, -7.403, -7.3822, -7.4169, -7.4096, -6.3918, -7.0611, -7.188, -7.0822, -5.4324, -6.3559, -6.7943, -4.7468, -6.3294, -6.0444, -6.2111, -6.6283, -5.7412, -6.7986, -5.6361, -5.7368, -3.9288, -5.3019, -5.9021, -5.0718, -4.8589, -5.4611, -5.8845, -5.9185, -5.95, -5.6501, -5.5028, -5.8512, -5.4173, -5.607, -5.5791, -5.1697, -5.5959, -5.5291, -4.9391, -5.4894, -5.1031, -5.4137, -5.8561, -5.6753, -5.6717, -5.7973, -6.2353, -6.3673, -6.7466, -6.4301, -6.9268, -6.9881, -6.8021, -7.0426, -7.1941, -6.5838, -7.2206, -7.249, -7.2531, -7.1994, -7.4663, -7.5183, -7.5206, -7.4527, -7.5915, -7.6096, -7.0896, -7.6679, -6.7184, -7.674, -7.7089, -7.7186, -7.7675, -7.7338, -7.6565, -7.7962, -6.8384, -5.5412, -5.4581, -6.1673, -6.7266, -6.1904, -7.1201, -6.136, -6.5326, -6.7151, -6.5971, -6.016, -5.7682, -5.8377, -5.5875, -6.1743, -6.7727, -5.688, -4.675, -6.0544, -6.9658, -6.2749, -5.8931, -6.5054, -6.4265, -5.6343, -5.6602, -5.5918, -6.2497, -5.9843, -6.049, -5.7323, -5.9297, -6.2534, -6.4314, -6.3655, -5.9904, -6.2822, -6.6917, -6.8531, -6.9364, -7.0282, -7.0444, -7.0542, -7.1319, -7.1806, -7.2513, -7.2752, -7.3418, -7.3814, -7.376, -7.3972, -7.2854, -7.3979, -7.4624, -7.4695, -7.5429, -7.5565, -7.5755, -7.5922, -7.5606, -7.7132, -7.7219, -7.7516, -7.727, -7.7754, -6.9955, -6.5893, -6.7255, -7.0815, -5.1433, -6.4193, -4.9633, -6.1413, -5.801, -6.13, -5.8698, -4.9959, -6.5553, -5.8274, -5.9755, -4.7469, -5.4154, -5.8037, -6.0498, -5.9071, -6.6483, -6.6819, -6.1913, -5.5449, -6.0424, -5.3458, -6.4403, -6.402, -6.239, -5.0196, -6.3681, -6.2355, -5.099, -5.0308, -5.9666, -6.1195, -5.5676, -5.6775, -5.8852, -5.9128, -6.0153, -5.8507, -5.7546, -5.8544, -6.0189, -5.9768, -6.01, -6.0323, -6.4133, -6.4845, -6.4943, -6.5399, -6.5963, -6.6284, -6.7193, -6.7809, -6.8287, -6.8358, -6.8388, -6.844, -6.8484, -6.8507, -6.8507, -6.8499, -6.8648, -6.9008, -6.915, -6.925, -6.9489, -6.974, -6.9816, -7.1337, -7.1994, -7.1899, -7.278, -7.2922, -7.3195, -6.0381, -6.5228, -6.0882, -6.3704, -6.795, -6.6672, -6.5827, -5.68, -6.1696, -6.2902, -6.7152, -5.0495, -6.6032, -5.8289, -6.2839, -5.8134, -5.9016, -5.9113, -6.5891, -5.8731, -5.668, -6.452, -4.9894, -5.2873, -6.3708, -6.2012, -5.741, -5.4316, -5.7828, -5.5125, -5.8278, -6.3569, -5.8665, -6.2253, -6.0917, -6.1808, -6.2154, -5.9064, -5.9837, -6.0281, -5.8954, -6.0207, -6.0447, -6.0694, -6.1525], \"loglift\": [30.0, 29.0, 28.0, 27.0, 26.0, 25.0, 24.0, 23.0, 22.0, 21.0, 20.0, 19.0, 18.0, 17.0, 16.0, 15.0, 14.0, 13.0, 12.0, 11.0, 10.0, 9.0, 8.0, 7.0, 6.0, 5.0, 4.0, 3.0, 2.0, 1.0, 1.0187, 1.0186, 1.0185, 1.0183, 1.0177, 1.0176, 1.0174, 1.0169, 1.0169, 1.0167, 1.0157, 1.0156, 1.0156, 1.0154, 1.015, 1.0147, 1.0141, 1.0139, 1.0137, 1.0136, 1.0135, 1.0134, 1.0129, 1.0124, 1.0124, 1.0123, 1.012, 1.0119, 1.0118, 1.0117, 1.0087, 1.0071, 1.0007, 1.0111, 0.9984, 0.9968, 0.987, 1.0055, 1.0055, 0.9844, 0.9977, 0.9047, 0.9791, 0.9898, 0.9373, 0.9292, 0.7787, 0.9709, 0.7682, 0.8404, 0.8904, 0.7166, 0.8572, 0.9272, 0.6929, 0.7978, 0.8873, 0.901, 0.8591, 0.751, 0.7957, 0.7523, 0.4766, 0.4738, 0.6355, 0.4404, 0.6805, 0.587, 0.6488, 0.4773, 0.6409, 0.558, 0.6921, 0.5356, 0.63, 0.3537, 0.5391, 0.6746, 0.2713, 0.3553, 0.4645, 0.2158, 0.3309, 0.329, 0.2137, 0.2746, 0.0723, 0.3342, 0.0901, -0.1919, 1.7253, 1.7246, 1.7238, 1.7226, 1.7218, 1.7211, 1.7202, 1.7198, 1.7197, 1.7193, 1.7192, 1.7191, 1.719, 1.7188, 1.7178, 1.7171, 1.716, 1.7151, 1.7141, 1.7141, 1.7136, 1.7134, 1.7129, 1.7127, 1.7126, 1.7124, 1.7123, 1.7115, 1.7111, 1.711, 1.6975, 1.7049, 1.7074, 1.6979, 1.6962, 1.6886, 1.6798, 1.682, 1.7048, 1.6759, 1.4799, 1.5492, 1.6026, 1.6146, 1.3376, 1.4896, 1.5786, 1.6038, 1.4757, 1.6021, 1.2281, 1.4845, 1.2185, 1.2129, 1.2057, 1.2177, 1.1245, 1.1417, 1.1811, 1.5465, 1.1064, 1.5372, 1.254, 1.51, 0.9675, 1.3333, 1.1537, 1.2155, 0.9159, 0.8583, 0.6926, 1.1739, 0.6608, 0.5234, 1.0376, 0.7863, 0.9293, 0.6706, 0.6897, 0.228, 0.1513, 0.8433, 0.3864, 0.1421, -0.1973, -0.1211, 1.7837, 1.7834, 1.7833, 1.783, 1.7829, 1.7822, 1.7822, 1.782, 1.7817, 1.7815, 1.7813, 1.7812, 1.7811, 1.781, 1.7807, 1.7803, 1.7802, 1.7801, 1.7801, 1.78, 1.78, 1.7798, 1.7797, 1.7797, 1.7796, 1.779, 1.7786, 1.7786, 1.7786, 1.7786, 1.7753, 1.7771, 1.7775, 1.7758, 1.7475, 1.7655, 1.7721, 1.713, 1.7602, 1.748, 1.7507, 1.7609, 1.7205, 1.7628, 1.6632, 1.6454, 1.4483, 1.5377, 1.6196, 1.4721, 1.4187, 1.497, 1.5775, 1.5496, 1.5496, 1.4506, 1.3957, 1.5029, 1.3538, 1.4026, 1.3771, 1.1168, 1.3368, 1.241, 0.7371, 1.092, 0.5102, 0.5595, 1.2347, 0.4894, 0.4248, -0.0494, 1.9943, 1.994, 1.9926, 1.9924, 1.9915, 1.9914, 1.9912, 1.9905, 1.99, 1.9899, 1.9896, 1.9896, 1.9896, 1.9884, 1.9875, 1.9871, 1.9871, 1.9866, 1.9865, 1.9864, 1.986, 1.9857, 1.9857, 1.9857, 1.9851, 1.985, 1.9846, 1.9846, 1.9842, 1.984, 1.9837, 1.9704, 1.9574, 1.965, 1.9725, 1.9601, 1.9783, 1.9556, 1.9543, 1.9574, 1.943, 1.9112, 1.8699, 1.8278, 1.7978, 1.8339, 1.8842, 1.5896, 1.2665, 1.6626, 1.9253, 1.5757, 1.3742, 1.6733, 1.5434, 0.8027, 0.7443, 0.3815, 1.1837, 0.429, 0.5454, -0.1379, -0.0002, 0.0098, 0.9491, -0.0418, 2.4204, 2.4188, 2.4166, 2.416, 2.4152, 2.4145, 2.4143, 2.4139, 2.4135, 2.413, 2.4122, 2.4119, 2.4109, 2.4106, 2.4106, 2.4104, 2.4103, 2.4103, 2.4095, 2.4086, 2.4083, 2.4081, 2.4079, 2.4076, 2.4075, 2.4054, 2.4049, 2.4048, 2.4047, 2.4043, 2.4019, 2.3886, 2.3732, 2.3729, 2.2379, 2.2936, 2.1425, 2.2612, 2.2184, 2.2481, 2.1706, 2.0047, 2.259, 2.093, 2.1199, 1.8227, 1.977, 2.0267, 2.0845, 2.0251, 2.2213, 2.2079, 1.9847, 1.5665, 1.8192, 1.3705, 2.0321, 1.9762, 1.8362, 0.6209, 1.9343, 1.791, 0.502, 0.3463, 1.3141, 1.4577, 0.4107, 0.6001, 0.9705, 0.9826, 1.1262, 0.5196, -0.1007, 0.0871, 0.8291, -0.3006, -0.1076, 2.6507, 2.6484, 2.6482, 2.6481, 2.6478, 2.6474, 2.6471, 2.6463, 2.6457, 2.6454, 2.6453, 2.6453, 2.6452, 2.6452, 2.6452, 2.6452, 2.6451, 2.645, 2.6446, 2.6445, 2.6444, 2.6441, 2.6439, 2.6438, 2.6419, 2.641, 2.6408, 2.6399, 2.6396, 2.6392, 2.6346, 2.6293, 2.6057, 2.6103, 2.6253, 2.6198, 2.6013, 2.4933, 2.5337, 2.466, 2.5847, 1.9426, 2.5242, 2.1366, 2.346, 2.092, 1.9936, 1.9829, 2.4506, 1.8701, 1.6262, 2.3163, 0.9522, 1.2086, 2.2291, 2.0213, 1.4061, 0.9729, 1.4283, 0.4428, 1.0376, 2.1089, 0.7279, 1.6919, 1.2662, 1.5086, 1.5919, 0.2245, 0.4694, 0.5754, -0.2416, 0.3619, -0.0238, -0.475, 0.6634]}, \"token.table\": {\"Topic\": [1, 2, 3, 4, 5, 6, 1, 2, 3, 4, 5, 6, 4, 1, 2, 3, 4, 5, 6, 1, 2, 3, 4, 5, 6, 2, 1, 2, 3, 4, 5, 6, 3, 3, 1, 2, 3, 4, 5, 6, 1, 2, 3, 4, 5, 6, 1, 2, 3, 4, 5, 6, 6, 1, 2, 3, 6, 1, 2, 3, 4, 5, 6, 2, 3, 6, 2, 1, 2, 4, 5, 6, 5, 1, 2, 3, 4, 5, 6, 2, 1, 1, 2, 3, 4, 5, 6, 6, 1, 2, 3, 4, 5, 6, 1, 4, 1, 2, 4, 6, 1, 2, 3, 4, 5, 3, 3, 1, 2, 3, 5, 6, 4, 6, 2, 4, 2, 3, 6, 3, 1, 1, 4, 5, 1, 2, 3, 5, 6, 3, 5, 1, 2, 1, 2, 3, 4, 5, 2, 4, 5, 1, 2, 3, 2, 5, 1, 2, 3, 4, 5, 6, 4, 1, 2, 4, 5, 4, 5, 1, 1, 4, 2, 4, 6, 6, 1, 2, 3, 1, 2, 4, 6, 1, 2, 3, 4, 5, 6, 1, 2, 3, 4, 5, 6, 1, 4, 1, 2, 3, 4, 5, 6, 1, 2, 4, 1, 2, 3, 4, 5, 6, 1, 2, 3, 4, 6, 4, 1, 2, 3, 4, 5, 6, 1, 2, 4, 5, 6, 1, 5, 1, 2, 3, 4, 6, 2, 1, 2, 3, 4, 5, 6, 1, 2, 3, 4, 5, 6, 2, 2, 2, 1, 2, 4, 5, 1, 2, 4, 5, 6, 1, 3, 1, 2, 3, 3, 1, 2, 3, 4, 5, 6, 1, 2, 3, 5, 2, 1, 5, 3, 1, 2, 3, 4, 5, 6, 1, 2, 4, 5, 6, 2, 5, 6, 1, 1, 2, 3, 4, 5, 6, 5, 2, 1, 2, 5, 1, 4, 5, 5, 6, 3, 4, 1, 2, 3, 5, 6, 1, 2, 3, 4, 5, 1, 2, 5, 6, 1, 2, 4, 5, 6, 2, 1, 2, 4, 5, 6, 1, 3, 1, 4, 6, 4, 1, 6, 1, 1, 2, 4, 4, 6, 6, 5, 1, 2, 4, 6, 1, 2, 3, 5, 1, 5, 1, 2, 4, 6, 1, 1, 2, 3, 4, 5, 6, 2, 3, 2, 5, 6, 1, 2, 3, 4, 5, 6, 6, 1, 3, 5, 1, 2, 3, 4, 5, 1, 2, 3, 4, 5, 6, 1, 4, 6, 1, 2, 4, 5, 6, 4, 1, 2, 3, 4, 5, 6, 2, 4, 1, 2, 3, 4, 6, 1, 2, 4, 1, 4, 4, 4, 4, 1, 2, 3, 5, 5, 3, 1, 2, 3, 4, 5, 6, 1, 2, 3, 4, 5, 6, 1, 2, 3, 5, 1, 2, 3, 4, 5, 6, 3, 6, 3, 4, 6, 1, 4, 6, 1, 2, 3, 4, 5, 6, 4, 2, 1, 2, 3, 5, 1, 2, 4, 1, 2, 3, 1, 2, 4, 5, 6, 1, 2, 3, 4, 5, 1, 2, 4, 5, 6, 1, 2, 3, 4, 5, 6, 1, 1, 6, 1, 2, 3, 4, 5, 6, 4, 6, 4, 6, 1, 2, 3, 4, 5, 6, 1, 2, 4, 5, 1, 2, 3, 4, 5, 6, 4, 1, 3, 4, 5, 6, 1, 2, 3, 4, 5, 6, 2, 1, 2, 3, 4, 5, 6, 6, 3, 1, 2, 2, 3, 1, 2, 3, 4, 5, 6, 1, 1, 2, 3, 5, 1, 2, 3, 5, 1, 3, 3, 5, 6, 2, 2, 1, 3, 6, 2, 4, 5, 5, 6, 1, 2, 3, 4, 5, 6, 1, 2, 3, 4, 6, 5, 1, 2, 3, 4, 5, 3, 2, 6, 1, 2, 3, 4, 6, 1, 2, 3, 5, 6, 1, 2, 3, 4, 5, 6, 1, 2, 3, 5, 6, 1, 2, 3, 4, 5, 6, 1, 2, 3, 4, 5, 6, 1, 2, 3, 4, 5, 6, 1, 2, 3, 4, 6, 5, 2, 4, 5, 6, 6, 1, 2, 3, 4, 5, 6, 2, 4, 1, 2, 3, 4, 5, 6, 1, 2, 1, 2, 3, 4, 5, 6, 2, 1, 2, 3, 4, 5, 6, 6, 5, 1, 2, 3, 4, 5, 6, 1, 2, 4, 5, 1, 2, 3, 4, 5, 6, 1, 4, 3, 4, 5, 1, 3, 4, 6, 1, 4, 1, 3, 4, 5, 1, 2, 3, 4, 5, 6, 1, 4, 1, 2, 3, 4, 5, 6, 5, 6, 1, 2, 3, 4, 5, 6, 2, 4, 1, 4, 6, 1, 2, 3, 4, 5, 6, 2, 1, 2, 3, 4, 5, 6, 2, 3, 4, 6, 1, 2, 3, 6, 1, 2, 3, 4, 5, 6, 1, 2, 3, 4, 5, 6, 1, 2, 3, 4, 5, 6, 1, 2, 3, 4, 5, 6, 1, 2, 3, 4, 5, 5, 5, 5, 1, 2, 3, 4, 5, 6, 1, 2, 3, 4, 5, 6, 1, 3, 1, 3, 1, 2, 3, 4, 5, 6, 3, 1, 3, 5, 1, 2, 3, 4, 5, 6, 3, 1, 3, 1, 2, 3, 4, 5, 6, 3, 3, 1, 4, 1, 2, 4, 5, 6, 2, 1, 2, 1, 2, 3, 4, 4, 5, 1, 2, 3, 4, 5, 1, 2, 3, 4, 6, 2, 3, 4, 6, 1, 4, 4, 1, 2, 3, 4, 5, 6, 1, 4, 5, 3, 1, 4, 6, 1, 2, 3, 4, 5, 6, 2, 6, 3, 1, 2, 1, 4, 1, 2, 3, 4, 5, 6, 2, 4, 1, 2, 4, 5, 6, 1, 2, 3, 4, 5, 6, 1, 2, 3, 4, 5, 3, 1, 2, 3, 4, 6, 1, 3, 5, 3, 5, 1, 4, 1, 2, 3, 4, 6, 2, 6, 1, 2, 3, 4, 6, 1, 1, 2, 3, 4, 6, 6, 1, 2, 3, 4, 5, 6, 1, 2, 3, 4, 5, 6, 1, 1, 4, 1, 2, 3, 4, 5, 6, 1, 3, 4, 6, 1, 2, 3, 4, 5, 6, 4, 1, 2, 3, 5, 1, 2, 3, 4, 5, 3, 5, 6, 1, 2, 3, 4, 5, 4, 1, 2, 1, 2, 4, 6, 1, 2, 3, 4, 6, 1, 2, 3, 4, 5, 6, 1, 1, 2, 3, 5, 6, 6, 1, 2, 3, 4, 5, 6, 2, 1, 2, 3, 4, 5, 6, 1, 3, 6, 1, 2, 3, 4, 5, 1, 2, 3, 5, 3, 6, 3, 5, 1, 2, 3, 4, 5, 6, 1, 2, 3, 4, 5, 6, 1, 2, 3, 4, 6, 1, 2, 3, 4, 5, 6, 4, 1, 2, 3, 4, 5, 5, 1, 5, 6, 4, 1, 3, 5, 2, 1, 2, 3, 4, 5, 6, 1, 2, 3, 4, 5, 6, 1, 4, 4, 1, 2, 5, 2, 4, 6, 1, 3, 1, 2, 3, 4, 5, 6, 1, 4, 1, 2, 3, 4, 5, 6, 6, 1, 2, 3, 4, 5, 6, 1, 1, 2, 3, 2, 4, 2, 1, 2, 3, 4, 5, 6, 1, 2, 3, 1, 2, 3, 5, 6, 1, 2, 3, 4, 5, 6, 6, 1, 2, 5, 6, 3, 4, 6, 6, 2, 3, 5, 2, 3, 6, 1, 2, 3, 5, 2, 3, 5, 4, 5, 5, 4, 5, 4, 6, 1, 3, 1, 2, 3, 4, 5, 6, 1, 2, 3, 4, 5, 6, 1, 2, 3, 4, 5, 6, 1, 2, 3, 4, 5, 6, 1, 2, 4, 6, 4, 3, 5, 1, 2, 4, 5, 6, 1, 2, 3, 4, 1, 2, 3, 1, 2, 3, 4, 5, 6, 6, 6, 1, 2, 3, 4, 5, 6, 1, 2, 3, 4, 5, 6, 3, 4, 6, 3, 4, 6, 5, 1, 4, 4], \"Freq\": [0.2533065849798685, 0.600011128667398, 0.02500046369447492, 0.10613404398597842, 0.011792671553997602, 0.004245361759439137, 0.043233538797053515, 0.7797477533040009, 0.08106288524447534, 0.020844741920007945, 0.04130347010075648, 0.03358319531556835, 0.9922803652202409, 0.24437699461622361, 0.4436035052386877, 0.08522153853822116, 0.11005430473478893, 0.01636705044773784, 0.10102420793603702, 0.3682014387874614, 0.389397245296608, 0.025434967810975952, 0.05571469139547113, 0.04844755773519229, 0.11264057173432207, 0.9915656022825023, 0.18679521829208534, 0.15608915501119458, 0.12538309173030385, 0.02047070885392716, 0.002558838606740895, 0.5117677213481789, 0.9986466478112502, 0.9974365537206209, 0.2873994544398447, 0.6004390732571456, 0.05778604210441618, 0.04247848128205428, 0.0007653780411180952, 0.010715292575653332, 0.16010264468848115, 0.2331319212130515, 0.17133791799995352, 0.014044091639340452, 0.06319841237703204, 0.35812433680318156, 0.4504544956076215, 0.11223949226103526, 0.1047568594436329, 0.08081243442794539, 0.0014965265634804702, 0.2499199361012385, 0.988872553157684, 0.001252712658661155, 0.03507595444251234, 0.9620833218517669, 0.9967029456820903, 0.32551576352465955, 0.4493623779247871, 0.10878418832443636, 0.06276010864871329, 0.005020808691897063, 0.048534484021671605, 0.15284587868554134, 0.024133559792453897, 0.8124965130126145, 0.9841460098737713, 0.2939279311842675, 0.07655797277357665, 0.5359058094150366, 0.009569746596697081, 0.08339350605693172, 0.9860991236660276, 0.2816768626912969, 0.09593342424993445, 0.011566441221623303, 0.00680378895389606, 0.5483853896840225, 0.0564714483173373, 0.9955329785872362, 0.994212418397163, 0.19229405064727215, 0.034052071468787776, 0.6650169251551495, 0.09113936775469669, 0.015022972706818136, 0.0030045945413636273, 0.9912390295525743, 0.38735029914709523, 0.5465750110535992, 0.0034739937143237237, 0.0002894994761936437, 0.04400392038143384, 0.018817465952586838, 0.9967566868719004, 0.0030296555831972657, 0.9591124416264011, 0.0030642570020012814, 0.027578313018011533, 0.006128514004002563, 0.09201305461077809, 0.026070365473053792, 0.869523366071853, 0.0015335509101796348, 0.010734856371257444, 0.9937421861533601, 0.9932640932288512, 0.021269384860694122, 0.1063469243034706, 0.017015507888555298, 0.8507753944277648, 0.0042538769721388245, 0.045543144044895935, 0.9507131319372026, 0.005751653690826506, 0.9892844348221591, 0.975416791228458, 0.010602356426396283, 0.995014328229644, 0.9916969395234652, 0.9898964544254818, 0.006471913312784256, 0.9837308235432068, 0.984783899746954, 0.26577372967609014, 0.0026577372967609013, 0.0026577372967609013, 0.6724075360805081, 0.055812483231978925, 0.9872817619294754, 0.010023165095730714, 0.9921586461990024, 0.9920919010849715, 0.11412560367114252, 0.2177809684733729, 0.005235119434456079, 0.005235119434456079, 0.6575310009676836, 0.9650937142371016, 0.030348858938273632, 0.9782367809701951, 0.006422596320665505, 0.01284519264133101, 0.9794459389014895, 0.04267186768191654, 0.9473154625385471, 0.49583954499438787, 0.11872214457612104, 0.015713225017427786, 0.20834572430515358, 0.09544329269845024, 0.06634472785136175, 0.9944702194227235, 0.9106214608322672, 0.062264715270582374, 0.023349268226468392, 0.002594363136274266, 0.9923409231250859, 0.008338999353992318, 0.9971505611073639, 0.9764829224318778, 0.020258981793192486, 0.03306163076484578, 0.9620934552570121, 0.0033061630764845778, 0.9963261061367938, 0.9767234519304897, 0.00984104233683113, 0.00984104233683113, 0.20194080850426027, 0.775877843200579, 0.014171284807316512, 0.007085642403658256, 0.5785766568099354, 0.1573005285702012, 0.11649021081307182, 0.0010331726014463133, 0.1464522162550149, 0.0002582931503615783, 0.7113096871180126, 0.2464318806736721, 0.01787991563247463, 0.008551263998140041, 0.006996488725750943, 0.008551263998140041, 0.9943795211162608, 0.9975053724371203, 0.7647760819592296, 0.2144506555045727, 0.001958453474927605, 0.01664685453688464, 0.0009792267374638024, 0.001958453474927605, 0.018651779879861285, 0.8803640103294527, 0.09698925537527868, 0.3229456564162692, 0.5008743142507105, 0.1491309559884046, 0.024683744439460066, 0.002056978703288339, 0.0010284893516441696, 0.01817615813121153, 0.02423487750828204, 0.03029359688535255, 0.09693951003312816, 0.8300445546586599, 0.9983543314388288, 0.20364594615751108, 0.440540210055024, 0.012468119152500678, 0.0013853465725000753, 0.3297124842550179, 0.012468119152500678, 0.7767695609253717, 0.04159950729126398, 0.03791813496460345, 0.03386862540527687, 0.10933675810181773, 0.011503831428547811, 0.977825671426564, 0.03845460824112902, 0.11228745606409675, 0.019996396285387092, 0.8198522477008707, 0.010767290307516126, 0.9754670032267756, 0.10653867529583379, 0.04191347109506639, 0.7135613601209333, 0.0012388218057655092, 0.12532747268327735, 0.011562336853811419, 0.8495895816649365, 0.024059173994051296, 0.07819231548066671, 0.021051777244794886, 0.01503698374628206, 0.01503698374628206, 0.981325611580281, 0.9901183068211927, 0.9959834059242633, 0.16958502442888299, 0.15940992296315, 0.02374190342004362, 0.6444230928297554, 0.006924310723300462, 0.1107889715728074, 0.048470175063103235, 0.8032200439028536, 0.02769724289320185, 0.006708698771205668, 0.9928874181384388, 0.0048885296077411525, 0.8897123886088898, 0.1026591217625642, 0.99454624912848, 0.29263270696501537, 0.006600737751090572, 0.024202705087332098, 0.07700860709605667, 0.14521623052399257, 0.45545090482524947, 0.15603329464120633, 0.0074301568876764925, 0.2897761186193832, 0.5473548907255016, 0.9901436211767485, 0.9901832637901576, 0.008116256260575062, 0.9939818247655992, 0.31933369695879316, 0.031582453545375144, 0.10761428615461162, 0.05848602508402805, 0.4246085421100437, 0.05965574558570861, 0.8343192332715484, 0.048082431800067896, 0.029383708322263714, 0.009794569440754571, 0.07835655552603657, 0.1502902215555631, 0.19174959301916672, 0.652985100551757, 0.9977073359397846, 0.474063391888701, 0.2614031141011494, 0.10613359519896291, 0.04206035068995938, 0.047956661534346204, 0.068790293184513, 0.9908038437263728, 0.9968673463613917, 0.05137070232739354, 0.0963200668638629, 0.8476165884019935, 0.03025036366599005, 0.0075625909164975125, 0.9680116373116816, 0.9939150125022501, 0.9950500928441042, 0.9737876586954901, 0.021777998756768148, 0.3309755151523257, 0.026939867512398605, 0.003848552501771229, 0.6119198477816254, 0.026939867512398605, 0.3981586323046575, 0.2840138325243155, 0.11144846592726304, 0.0026963338530789447, 0.20312381693194717, 0.14964595325198787, 0.1301269158712938, 0.7124448643953336, 0.009759518690347035, 0.9122108697685787, 0.04711833005002989, 0.005654199606003586, 0.0018847332020011955, 0.03392519763602152, 0.988909171377006, 0.9668988698247359, 0.004203908129672765, 0.006305862194509147, 0.004203908129672765, 0.021019540648363824, 0.9840772787324338, 0.011057048075645323, 0.27218327315828394, 0.7158205766524948, 0.010715876895995432, 0.9836694430881763, 0.9889574975105581, 0.008599630413135287, 0.9922404992103433, 0.9849368761364343, 0.003971519661840461, 0.007943039323680921, 0.023540451210108775, 0.9651584996144598, 0.9895713419139934, 0.9908100601167943, 0.027546249752888725, 0.8049626316677483, 0.048971110671802175, 0.11936708226251781, 0.08143883708518046, 0.006786569757098372, 0.09501197659937721, 0.8143883708518046, 0.9974772654206541, 0.9829440055832129, 0.007414168061500385, 0.9786701841180507, 0.007414168061500385, 0.007414168061500385, 0.9970586697621249, 0.03066206074448355, 0.1287806551268309, 0.07972135793565722, 0.042926885042276965, 0.0061324121488967095, 0.7113598092720184, 0.9845289737630041, 0.998961002364484, 0.9568385252691731, 0.018519455327790448, 0.018519455327790448, 0.07141583180904076, 0.023251666170385366, 0.8121474826656031, 0.058129165425963414, 0.03321666595769338, 0.003321666595769338, 0.9936841195152136, 0.0027230633598862375, 0.9939181263584768, 0.9901299779563931, 0.05448859391530822, 0.00860346219715393, 0.01720692439430786, 0.8488749367858544, 0.06882769757723144, 0.3208373949150687, 0.03208373949150687, 0.5763614630081413, 0.0011458478389823883, 0.03552128300845404, 0.03552128300845404, 0.12282809426471075, 0.14418950196292132, 0.7316282136637119, 0.21035983470464295, 0.5985238154096388, 0.003756425619725767, 0.18406485536656259, 0.0025042837464838447, 0.9844652227403439, 0.7630817324657833, 0.08468568152663226, 0.00819538853483538, 0.09743406369193175, 0.020943770700134864, 0.024586165604506143, 0.9914630694854997, 0.005058485048395406, 0.17766552545992695, 0.7877622355298648, 0.0016760898628294994, 0.010056539176976997, 0.023465258079612993, 0.019198040177540905, 0.006981105519105784, 0.9738642199152568, 0.008531625085253593, 0.9811368848041633, 0.9962332082978013, 0.9934504141238624, 0.9905231329777106, 0.17335863791394485, 0.026266460289991644, 0.08405267292797326, 0.7170743659167719, 0.9876885901901206, 0.9922816314651082, 0.10837126760003624, 0.023079066248155866, 0.749567934233584, 0.004013750651853194, 0.09432314031855006, 0.02107219092222927, 0.7848034468527395, 0.14561692273462334, 0.0032410761816927293, 0.025465598570442876, 0.007639679571132862, 0.03310527814157574, 0.04071056794400151, 0.13725277192549082, 0.06630006779451675, 0.7548902455901995, 0.3201340532244828, 0.03993069911187097, 0.49982219922790216, 0.004130761977090101, 0.07297679492859178, 0.06264988998586653, 0.8849986248735319, 0.11432996589275292, 0.03130494612522794, 0.03130494612522794, 0.9287134017150954, 0.048815467225476965, 0.9470200641742531, 0.9837648273168064, 0.5801289237953088, 0.20654744964848457, 0.022065938720210773, 0.11828369476764147, 0.029250197838418934, 0.04361871607483525, 0.9868954863790066, 0.991324534203698, 0.6983954464801945, 0.0018850079527130757, 0.0622052624395315, 0.236568498065491, 0.9976005913008603, 0.000973268869561815, 0.000973268869561815, 0.8497428253294105, 0.1472661868598779, 0.0016927147914928495, 0.9767192219713283, 0.007436948390644633, 0.009915931187526176, 0.002478982796881544, 0.002478982796881544, 0.9857144739503718, 0.009256294577173693, 0.013884441865760539, 0.9580264887374772, 0.013884441865760539, 0.1548252109076944, 0.06333758628042044, 0.30730458528648436, 0.12902100908974534, 0.3448379697489557, 0.7200506640428489, 0.07243113188596705, 0.01022557156037182, 0.06305769128895955, 0.11418554909081864, 0.02045114312074364, 0.9954902101293044, 0.9877496054813739, 0.9919353348539665, 0.6802368429648588, 0.07372592370829967, 0.13996405828997516, 0.03974288074900529, 0.006911805347653095, 0.059326329234022396, 0.983134205967198, 0.9962621308299595, 0.9944675717585723, 0.005048058739891229, 0.17500843058044838, 0.06354040529373126, 0.0007261760604997858, 0.481454728111358, 0.09658141604647151, 0.1822701911854462, 0.10947848611566348, 0.14597131482088466, 0.06842405382228968, 0.6751173310465914, 0.23545373879558432, 0.04916067073753958, 0.010349614892113597, 0.12678278242839155, 0.007762211169085197, 0.5692288190662478, 0.9859523199841691, 0.0947177785056457, 0.04059333364527673, 0.006765555607546121, 0.006765555607546121, 0.8490772287470382, 0.0811088969511033, 0.016934824638142446, 0.7798932399144547, 0.006239145919315637, 0.002673919679706702, 0.11230462654768147, 0.9863600922272571, 0.4469395993321889, 0.12224703059615634, 0.35031153642360974, 0.0030631374409059676, 0.06571822145943712, 0.01169561568345915, 0.9935761032350772, 0.9949356532353018, 0.042188544955373164, 0.9450234070003588, 0.9954506181678191, 0.9920572063275747, 0.6155663800086115, 0.24412973221752718, 0.1138273598069452, 0.010484098929587057, 0.005491670867878934, 0.010484098929587057, 0.9962692008691378, 0.009244379867998306, 0.011555474834997881, 0.9637266012388233, 0.016177664768997034, 0.06697978962865175, 0.11605409094073324, 0.7308091898096459, 0.08621161041311612, 0.06143683555505672, 0.9364966284608646, 0.973777342341949, 0.020986580653921314, 0.9906801998067815, 0.975671415903116, 0.9966674367050372, 0.007583682298277314, 0.030334729193109256, 0.9555439695829415, 0.9705456804553827, 0.013479801117435871, 0.9871177029286353, 0.9951378883622549, 0.9888116133118008, 0.6889870733868315, 0.07086323259884927, 0.03508080821725211, 0.04490343451808271, 0.15084747533418408, 0.00912101013648555, 0.015389587039248979, 0.7829452406217918, 0.009618491899530611, 0.005771095139718367, 0.18659874285089387, 0.9807490022608935, 0.14706196769516924, 0.03441875839674174, 0.05945058268528118, 0.018773868216404584, 0.7384388165119137, 0.9892600765781145, 0.04646799750445092, 0.9479471490907988, 0.316605480980568, 0.16541021047148044, 0.025845345386168818, 0.1990091594734999, 0.29334467013301607, 0.98098817736943, 0.0026729923089085284, 0.005345984617817057, 0.013364961544542643, 0.9815208160150685, 0.8746317400286875, 0.023853592909873295, 0.03180479054649773, 0.0258413923190294, 0.001987799409156108, 0.039755988183122155, 0.19722677629034818, 0.6219478044403555, 0.07029865293517361, 0.10935346012138117, 0.0009763701796551891, 0.5734459366371766, 0.16577345417196981, 0.038062787060633554, 0.13722636387649464, 0.05909748517308894, 0.02704461185887121, 0.6972706220450872, 0.09662551691261506, 0.004352500761829508, 0.0591940103608813, 0.006964001218927212, 0.13666852392144654, 0.5806854853989749, 0.3438032477098705, 0.011520108823786235, 0.002520023805203239, 0.01944018364013927, 0.042480401287711744, 0.5879555912599068, 0.006254846715530924, 0.02710433576730067, 0.06046351825013227, 0.3169122335869002, 0.9883121983089814, 0.12180543119415345, 0.05510245696878371, 0.8149363372751696, 0.008700387942439531, 0.9893218607366101, 0.3367451842022815, 0.004988817543737504, 0.5795343046641734, 0.047393766665506286, 0.013303513449966678, 0.017460861403081264, 0.9865918079172616, 0.014014088180642922, 0.5285639785010715, 0.009698421623872872, 0.040005989198475596, 0.10062112434768104, 0.033944475683555055, 0.2873157406072338, 0.029573429347038334, 0.967473617210254, 0.27202099676116304, 0.5928262468869536, 0.031612196180278634, 0.0019513701345851007, 0.0561994598760509, 0.045662061149291354, 0.9915930392489626, 0.6840935007668104, 0.19203823547999374, 0.05398939716341461, 0.009567741269465881, 0.012984791722846552, 0.04715529625665327, 0.9882359530962924, 0.9837340880786534, 0.4461846361701184, 0.35471329448266065, 0.10124690492123188, 0.018154617434151924, 0.0796010149035892, 0.00034912725834907544, 0.15457252841596067, 0.035882908382276583, 0.6348514559941241, 0.17389409446795573, 0.2563384766081995, 0.04078112127857719, 0.6491688693324532, 0.006658142249563623, 0.04494246018455445, 0.0016645355623909057, 0.9879408212675567, 0.008742839126261564, 0.9923685821893153, 0.036535451460185095, 0.9499217379648125, 0.0031172637069485283, 0.009351791120845585, 0.9601172217401467, 0.024938109655588226, 0.08198061776772744, 0.9176540117871427, 0.3110837247883863, 0.01714634703558035, 0.6564601436479334, 0.01714634703558035, 0.4550774887451837, 0.21869001542476885, 0.06699751917637427, 0.004424364473911508, 0.019593614098750965, 0.2351233691850116, 0.03343612237348151, 0.9585021747064698, 0.3004496700877377, 0.3539620417545704, 0.18450619814293356, 0.009476149149334956, 0.14883128369837842, 0.0033445232291770435, 0.9770880646685229, 0.9873368189372346, 0.4726281898694391, 0.2995909219468019, 0.03466119186649099, 0.026063066752322683, 0.16470783421828664, 0.0024182226883598364, 0.9906672900796224, 0.9869804190188559, 0.2500661012519154, 0.15388683153964025, 0.5963114722161059, 0.07126199370984679, 0.17350746294571393, 0.0991471216832651, 0.013942563986709155, 0.6398087696123201, 0.0015491737763010172, 0.9961639692743103, 0.2195927198993327, 0.5970059366045323, 0.008663177628961667, 0.03804264958804906, 0.13371426340353879, 0.003389939072202392, 0.1767481409284519, 0.040788032521950436, 0.19940815899620212, 0.5800964625344062, 0.011493871071748906, 0.022987742143497813, 0.0747101619663679, 0.8850280725246659, 0.6294202456575831, 0.08911238628512569, 0.11164655293193908, 0.08347884462342234, 0.07067534084682382, 0.015364204531918222, 0.22772325938354435, 0.27710902647877084, 0.0631040357327894, 0.1380972376181333, 0.09602788046294039, 0.19845761962341013, 0.5140812652909533, 0.12053824503681809, 0.12699565102093335, 0.13560552566642034, 0.061704101625990215, 0.04089690456606328, 0.21460995828383111, 0.07752430211133987, 0.6769195159965774, 0.007563346547447793, 0.010399601502740715, 0.013235856458033638, 0.18931706967290282, 0.2916751025582522, 0.2491014074643458, 0.035327108694943585, 0.2337024113665499, 0.981083285128052, 0.9976453048518767, 0.9889371114498497, 0.15005588016999807, 0.8360256180899892, 0.007145518103333241, 0.004287310861999944, 0.0014291036206666482, 0.0014291036206666482, 0.20637751978484406, 0.5781803622170696, 0.13417233009510748, 0.004849602292594247, 0.07489941318562225, 0.0016165340975314157, 0.01994413658045911, 0.9772626924424964, 0.9853301901693842, 0.011592119884345697, 0.7203687220526884, 0.053166959522339984, 0.04968060152087506, 0.037478348515747856, 0.09456746078973587, 0.04445106451867769, 0.9979703898906694, 0.061709143959794335, 0.846296831448608, 0.08991903834141461, 0.45465770835583014, 0.09295753932307929, 0.02621879314240698, 0.3027078844623351, 0.08640284103747754, 0.03694466306430074, 0.9963849367420821, 0.006576958895306231, 0.9931207931912408, 0.2974230325010294, 0.6060858889047139, 0.009510620225323615, 0.05821652380349607, 0.0005764012257771888, 0.028243660063082248, 0.994474635827846, 0.9897788519257743, 0.9936667809467874, 0.0029139788297559747, 0.9192353741446461, 0.036997089361858825, 0.0014229649754561086, 0.0014229649754561086, 0.03842005433731493, 0.9959369232952703, 0.11362735450680658, 0.880611997427751, 0.12744010696584562, 0.8335271861009361, 0.027554617722344996, 0.010332981645879374, 0.1577423291428796, 0.8385250128121495, 0.5014024983360976, 0.46690600645057406, 0.00040112199866887806, 0.009626927968053074, 0.021259465929450536, 0.10694030045777582, 0.008354710973263737, 0.7903556580707494, 0.05848297681284615, 0.03676072828236044, 0.03513108251690612, 0.07904493566303879, 0.00878277062922653, 0.8782770629226532, 0.017168132191425683, 0.9728608241807888, 0.9890865895409869, 0.7069917086777981, 0.10099881552539974, 0.0782740820321848, 0.030299644657619924, 0.03450792863784491, 0.049657750966654875, 0.9672455356462961, 0.008559695005719434, 0.01711939001143887, 0.9968783909483542, 0.004756018660731736, 0.9607157694678107, 0.03329213062512215, 0.5595691400743807, 0.22301076677416926, 0.06126669416872782, 0.02069452780810362, 0.08005514704713769, 0.05527617296111888, 0.9977674764892897, 0.9901512559800534, 0.994882243070859, 0.9893545633694039, 0.005785699200990666, 0.15471882075120677, 0.844846192259879, 0.3485334855092063, 0.0835730830844656, 0.29344270876742856, 0.19862661002137563, 0.034103814173481475, 0.041599157947873014, 0.9702756718946791, 0.0271405782348162, 0.8873493976294419, 0.041221610158824924, 0.030373818011765735, 0.02603470115294206, 0.015186909005882867, 0.500637333779097, 0.1623574079910196, 0.2564653572704096, 0.06612991030443618, 0.012293380761722112, 0.0021195484071934675, 0.8003900676536825, 0.030825115487326415, 0.13392981211734925, 0.015944025252065386, 0.018069895285674105, 0.9941092614887094, 0.39417837628299696, 0.5559016956777342, 0.04300773988299606, 0.00035543586680162036, 0.0063978456024291665, 0.10174175316357008, 0.7897919143883915, 0.10519062615216568, 0.9883846022166753, 0.006723704776984186, 0.9952428314401409, 0.9953844851682486, 0.46806361384081174, 0.020982161999760527, 0.051648398768641295, 0.44385342691801116, 0.014526112153680364, 0.9584219061953647, 0.03885494214305533, 0.1030421752047206, 0.23806295650745793, 0.053297676830027896, 0.07461674756203905, 0.5294235898449438, 0.9963600223271659, 0.2875608310363772, 0.09446944268704088, 0.04463940698398636, 0.0830500595050909, 0.4899953510800363, 0.9879418274465508, 0.61759673023653, 0.3472985912078165, 0.006903488816057514, 0.0021241504049407736, 0.01858631604323177, 0.007434526417292708, 0.2918788461237898, 0.5624243546571364, 0.009696971632019593, 0.0009696971632019593, 0.0009696971632019593, 0.13381820852187037, 0.9923596141379691, 0.9973730286007486, 0.9959340430207216, 0.2739545634157765, 0.013045455400751261, 0.026090910801502522, 0.18822728506798247, 0.38018184310760816, 0.11927273509258296, 0.02773540916333945, 0.006933852290834862, 0.9291362069718715, 0.03466926145417431, 0.7985770871228458, 0.10702579518141232, 0.012937184032917973, 0.015289399311630331, 0.0035283229180685383, 0.06233370488587751, 0.9913505617351922, 0.044190126280127334, 0.6761873760970963, 0.2792606796874319, 0.983059164071445, 0.14791125821286044, 0.6736393172955274, 0.0016077310675310917, 0.004823193202593275, 0.1720272242258268, 0.9911711957539131, 0.9922192435454634, 0.9911828092051845, 0.19371272674525386, 0.0821811568010168, 0.6378823123126541, 0.0009783471047740094, 0.08511619811533883, 0.9947796587793215, 0.9859807615262541, 0.9809407937450868, 0.4805700556222411, 0.1394978390775736, 0.23435636965032366, 0.1457752418360644, 0.03586065633706549, 0.3150614806756468, 0.12807377263237676, 0.002561475452647535, 0.5148565659821546, 0.5966581238450221, 0.024107398943233216, 0.001205369947161661, 0.004821479788646644, 0.273618978005697, 0.10004570561441785, 0.9896602049110297, 0.07977559947788201, 0.06503997919215858, 0.6925741534290012, 0.16158369830551897, 0.0005081248374387389, 0.9854757415727968, 0.37173096283670565, 0.5367537255295322, 0.06446201667688536, 0.000859493555691805, 0.014181643668914782, 0.011603163001839367, 0.9823520501281748, 0.5032921735461536, 0.16201560500989795, 0.2736566101427688, 0.009984154930581947, 0.020875960309398617, 0.030406290015863202, 0.9514165538443244, 0.03563357879566758, 0.010690073638700275, 0.09638876566917136, 0.00876261506083376, 0.3300585006247383, 0.03505046024333504, 0.5315986470239147, 0.16691616228090567, 0.020072196729982325, 0.6813982574125579, 0.1309974944483057, 0.9913111546727745, 0.9871892931813976, 0.9965509475765644, 0.9870588006087196, 0.7375970885123397, 0.020622881118429488, 0.038613054008974364, 0.044756039874038464, 0.07020555274358975, 0.08819572563413462, 0.14226449079902653, 0.05110471999576681, 0.09115977080325971, 0.6657425685935028, 0.03453021621335595, 0.016574503782410856, 0.0136034047524567, 0.030607660693027578, 0.00680170237622835, 0.7243813030683194, 0.22445617841553556, 0.8903136086911687, 0.03866828173340881, 0.04196923261309005, 0.006130337347979445, 0.010374417050426753, 0.013203803518724959, 0.9831825316186878, 0.17784496748525544, 0.11345282408542158, 0.0582595583141354, 0.09198877628547696, 0.554998950255711, 0.9847295028303518, 0.9921334338826459, 0.9890649001237853, 0.9875431790240157, 0.988930678194575, 0.0015061185992493408, 0.9980545917692297, 0.9908763511372887, 0.9912967461772434, 0.023166783058923904, 0.01707026120131235, 0.9297195832857619, 0.009754434972178486, 0.006706174043372709, 0.013412348086745417, 0.284742077096448, 0.1270623247258343, 0.22503809318912824, 0.3505695465327236, 0.009185228293433805, 0.00612348552895587, 0.10423656140843517, 0.8942399741881543, 0.9922941443412089, 0.008885146043025321, 0.21324350503260772, 0.7759694210908781, 0.025973371809959924, 0.9675080999210072, 0.0032466714762449905, 0.9878514544077698, 0.9953134845445805, 0.2557623350581679, 0.012730251971221027, 0.7152087016558722, 0.009258365069978928, 0.002314591267494732, 0.0034718869012420983, 0.9939390149977974, 0.004507659931962799, 0.16551328686241037, 0.008946664154724886, 0.7530108996893445, 0.002982221384908295, 0.01640221761699562, 0.05218887423589516, 0.9932599528886843, 0.5130244531758139, 0.20461150202463949, 0.15944141897534042, 0.04666578116351427, 0.03111052077567618, 0.04487094342645603, 0.9918637023825279, 0.9640883308221259, 0.00415555315009537, 0.031166648625715276, 0.8621668471513478, 0.13823772232806422, 0.9901531029219482, 0.06078180533819063, 0.5743260381955564, 0.09551426553144242, 0.004961780027607398, 0.14637251081441824, 0.12032316566947941, 0.008212933369004369, 0.024638800107013106, 0.9663884930861807, 0.029105114853487466, 0.024509570402936814, 0.10876121866303211, 0.8302616973994845, 0.0061273926007342034, 0.06481140811985309, 0.12962281623970617, 0.0024004225229575216, 0.004800845045915043, 0.672118306428106, 0.12722239371674865, 0.9881521565797007, 0.33214455421186373, 0.020759034638241483, 0.6393782668578377, 0.004151806927648297, 0.009001125049627691, 0.009001125049627691, 0.9721215053597906, 0.9826295856309347, 0.9948449058522765, 0.9988970816719392, 0.9916876438193041, 0.9803302210823898, 0.016719246513561332, 0.9808624621289315, 0.005802077160967911, 0.005802077160967911, 0.11023946605839031, 0.8761136513061546, 0.8788657896917402, 0.09922678270713196, 0.01890033956326323, 0.9910119982655295, 0.992209053246188, 0.9940296788322951, 0.995379827173414, 0.987510371122097, 0.8813650543439344, 0.11685514203661153, 0.9919736377600109, 0.998362360834948, 0.6480236590328442, 0.08512626062828824, 0.013833017352096839, 0.13034958658706636, 0.1058757866564335, 0.01702525212565765, 0.6764537278974498, 0.10347419146818432, 0.02956405470519552, 0.016189839481416595, 0.0492734245086592, 0.12529527946487626, 0.46567654824543525, 0.007091521039270588, 0.11740407053903529, 0.0133950952964, 0.34906042448854113, 0.048064753710611766, 0.3903312982137501, 0.412226090570034, 0.14420363241552472, 0.02566975655564314, 0.017364835317052713, 0.009814906918334143, 0.2879928846959132, 0.002618117133599211, 0.3272646416999014, 0.3822451015054848, 0.993832063483094, 0.9966972692686629, 0.97018648903023, 0.877928292765012, 0.06379409739814967, 0.018226884970899904, 0.01367016372817493, 0.025821420375441533, 0.14966810224570976, 0.8265761101297153, 0.020409286669869513, 0.0034015477783115853, 0.014675525740925838, 0.9509740680119944, 0.032286156630036845, 0.19632866295279253, 0.20350516760380843, 0.5120948675974928, 0.038958168105514966, 0.03126905597942648, 0.01742865415246722, 0.9879156044263983, 0.9895956486599278, 0.461880778463689, 0.4189151246531133, 0.031247748225873256, 0.016112120178965898, 0.056148297593366, 0.015623874112936628, 0.23651646762488898, 0.18690569636698542, 0.01961356072986884, 0.2855503694495611, 0.08595354555148405, 0.18575195750052256, 0.9982584536569129, 0.9922208121892089, 0.9901436254271203, 0.9934221016081585, 0.030906417047644002, 0.9684010674928454, 0.9799971298005051, 0.9953945614460228, 0.9841633774659714, 0.9960572779275574], \"Term\": [\"00\", \"00\", \"00\", \"00\", \"00\", \"00\", \"000\", \"000\", \"000\", \"000\", \"000\", \"000\", \"000000\", \"10\", \"10\", \"10\", \"10\", \"10\", \"10\", \"100\", \"100\", \"100\", \"100\", \"100\", \"100\", \"1618\", \"19\", \"19\", \"19\", \"19\", \"19\", \"19\", \"1933\", \"1934\", \"20\", \"20\", \"20\", \"20\", \"20\", \"20\", \"2005\", \"2005\", \"2005\", \"2005\", \"2005\", \"2005\", \"24\", \"24\", \"24\", \"24\", \"24\", \"24\", \"334\", \"3d\", \"3d\", \"3d\", \"468\", \"50\", \"50\", \"50\", \"50\", \"50\", \"50\", \"57\", \"57\", \"57\", \"971\", \"99\", \"99\", \"99\", \"99\", \"99\", \"abacha\", \"account\", \"account\", \"account\", \"account\", \"account\", \"account\", \"accurately\", \"acrobat\", \"act\", \"act\", \"act\", \"act\", \"act\", \"act\", \"acy\", \"address\", \"address\", \"address\", \"address\", \"address\", \"address\", \"adobe\", \"adobe\", \"adult\", \"adult\", \"adult\", \"adult\", \"advice\", \"advice\", \"advice\", \"advice\", \"advice\", \"advises\", \"advisor\", \"africa\", \"africa\", \"africa\", \"africa\", \"africa\", \"aging\", \"aging\", \"align\", \"align\", \"alter\", \"alter\", \"andmanyother\", \"anticipates\", \"aphrodisia\", \"arial\", \"arial\", \"artwork\", \"assistance\", \"assistance\", \"assistance\", \"assistance\", \"assistance\", \"assumption\", \"assumption\", \"atoll\", \"attached\", \"bank\", \"bank\", \"bank\", \"bank\", \"bank\", \"batch\", \"batch\", \"bathtub\", \"belief\", \"belief\", \"belief\", \"beneficiary\", \"beneficiary\", \"best\", \"best\", \"best\", \"best\", \"best\", \"best\", \"bgcolor\", \"book\", \"book\", \"book\", \"book\", \"border\", \"border\", \"botanical\", \"bottle\", \"bottle\", \"br\", \"br\", \"br\", \"bra\", \"broadcast\", \"broadcast\", \"broadcast\", \"bulk\", \"bulk\", \"bulk\", \"bulk\", \"business\", \"business\", \"business\", \"business\", \"business\", \"business\", \"call\", \"call\", \"call\", \"call\", \"call\", \"call\", \"capillaris\", \"capitalfm\", \"card\", \"card\", \"card\", \"card\", \"card\", \"card\", \"cartridge\", \"cartridge\", \"cartridge\", \"cash\", \"cash\", \"cash\", \"cash\", \"cash\", \"cash\", \"ce\", \"ce\", \"ce\", \"ce\", \"ce\", \"cialis\", \"claim\", \"claim\", \"claim\", \"claim\", \"claim\", \"claim\", \"click\", \"click\", \"click\", \"click\", \"click\", \"colleague\", \"colleague\", \"color\", \"color\", \"color\", \"color\", \"color\", \"como\", \"company\", \"company\", \"company\", \"company\", \"company\", \"company\", \"complete\", \"complete\", \"complete\", \"complete\", \"complete\", \"complete\", \"complication\", \"compuserve\", \"computron\", \"confidential\", \"confidential\", \"confidential\", \"confidential\", \"confidentiality\", \"confidentiality\", \"confidentiality\", \"confidentiality\", \"confidentiality\", \"conflict\", \"conflict\", \"congratulation\", \"congratulation\", \"congratulation\", \"construed\", \"content\", \"content\", \"content\", \"content\", \"content\", \"content\", \"contract\", \"contract\", \"contract\", \"contract\", \"coordinator\", \"corel\", \"corel\", \"couid\", \"country\", \"country\", \"country\", \"country\", \"country\", \"country\", \"credit\", \"credit\", \"credit\", \"credit\", \"credit\", \"da\", \"da\", \"da\", \"dagga\", \"day\", \"day\", \"day\", \"day\", \"day\", \"day\", \"deceased\", \"del\", \"deposited\", \"deposited\", \"deposited\", \"died\", \"died\", \"died\", \"dieser\", \"dieting\", \"differ\", \"differ\", \"document\", \"document\", \"document\", \"document\", \"document\", \"dollar\", \"dollar\", \"dollar\", \"dollar\", \"dollar\", \"domain\", \"domain\", \"domain\", \"domain\", \"dont\", \"dont\", \"dont\", \"dont\", \"dont\", \"doris\", \"download\", \"download\", \"download\", \"download\", \"download\", \"dragon\", \"dragon\", \"drug\", \"drug\", \"drug\", \"dysfunction\", \"ebay\", \"ebay\", \"ebook\", \"edition\", \"edition\", \"edition\", \"ee\", \"ee\", \"eff\", \"einer\", \"el\", \"el\", \"el\", \"el\", \"enable\", \"enable\", \"enable\", \"enable\", \"enenkio\", \"enlargement\", \"envelope\", \"envelope\", \"envelope\", \"envelope\", \"equivalence\", \"est\", \"est\", \"est\", \"est\", \"est\", \"est\", \"este\", \"estimate\", \"euro\", \"euro\", \"euro\", \"event\", \"event\", \"event\", \"event\", \"event\", \"event\", \"expe\", \"expectation\", \"expectation\", \"extender\", \"face\", \"face\", \"face\", \"face\", \"face\", \"fact\", \"fact\", \"fact\", \"fact\", \"fact\", \"fact\", \"fat\", \"fat\", \"fat\", \"fax\", \"fax\", \"fax\", \"fax\", \"fax\", \"ffffff\", \"find\", \"find\", \"find\", \"find\", \"find\", \"find\", \"floodgate\", \"floodgate\", \"follow\", \"follow\", \"follow\", \"follow\", \"follow\", \"font\", \"font\", \"font\", \"fontfamily\", \"fontfamily\", \"fontfont\", \"fontsize\", \"fontweight\", \"foreign\", \"foreign\", \"foreign\", \"foreign\", \"foreigner\", \"foresee\", \"forward\", \"forward\", \"forward\", \"forward\", \"forward\", \"forward\", \"free\", \"free\", \"free\", \"free\", \"free\", \"free\", \"fund\", \"fund\", \"fund\", \"fund\", \"future\", \"future\", \"future\", \"future\", \"future\", \"future\", \"gas\", \"gas\", \"ge\", \"ge\", \"ge\", \"generic\", \"generic\", \"ger\", \"get\", \"get\", \"get\", \"get\", \"get\", \"get\", \"gh\", \"goldrush\", \"government\", \"government\", \"government\", \"government\", \"grant\", \"grant\", \"grant\", \"guide\", \"guide\", \"guide\", \"heaven\", \"heaven\", \"heaven\", \"heaven\", \"heaven\", \"hei\", \"height\", \"height\", \"height\", \"height\", \"hello\", \"hello\", \"hello\", \"hello\", \"hello\", \"help\", \"help\", \"help\", \"help\", \"help\", \"help\", \"herba\", \"hermios\", \"hin\", \"home\", \"home\", \"home\", \"home\", \"home\", \"home\", \"hotlist\", \"hou\", \"href\", \"href\", \"http\", \"http\", \"http\", \"http\", \"http\", \"http\", \"husband\", \"husband\", \"husband\", \"husband\", \"id\", \"id\", \"id\", \"id\", \"id\", \"id\", \"impotence\", \"improvement\", \"improvement\", \"improvement\", \"improvement\", \"improvement\", \"inc\", \"inc\", \"inc\", \"inc\", \"inc\", \"inc\", \"informacin\", \"information\", \"information\", \"information\", \"information\", \"information\", \"information\", \"infoseek\", \"inherent\", \"instructed\", \"instructed\", \"intel\", \"internationa\", \"internet\", \"internet\", \"internet\", \"internet\", \"internet\", \"internet\", \"intro\", \"investing\", \"investing\", \"investing\", \"investing\", \"investment\", \"investment\", \"investment\", \"investment\", \"investor\", \"investor\", \"involve\", \"involve\", \"je\", \"jebel\", \"jody\", \"jul\", \"jul\", \"jul\", \"junk\", \"junk\", \"kernel\", \"kin\", \"kno\", \"know\", \"know\", \"know\", \"know\", \"know\", \"know\", \"la\", \"la\", \"la\", \"la\", \"la\", \"lagos\", \"late\", \"late\", \"late\", \"late\", \"late\", \"lauraan\", \"ld\", \"ld\", \"le\", \"le\", \"le\", \"le\", \"le\", \"lead\", \"lead\", \"lead\", \"lead\", \"lean\", \"learn\", \"learn\", \"learn\", \"learn\", \"learn\", \"learn\", \"letter\", \"letter\", \"letter\", \"letter\", \"letter\", \"like\", \"like\", \"like\", \"like\", \"like\", \"like\", \"link\", \"link\", \"link\", \"link\", \"link\", \"link\", \"list\", \"list\", \"list\", \"list\", \"list\", \"list\", \"loan\", \"loan\", \"loan\", \"loan\", \"loan\", \"localized\", \"logo\", \"logo\", \"logo\", \"logo\", \"lon\", \"looking\", \"looking\", \"looking\", \"looking\", \"looking\", \"looking\", \"lottery\", \"lottery\", \"low\", \"low\", \"low\", \"low\", \"low\", \"low\", \"lucky\", \"lucky\", \"mail\", \"mail\", \"mail\", \"mail\", \"mail\", \"mail\", \"mailed\", \"mailing\", \"mailing\", \"mailing\", \"mailing\", \"mailing\", \"mailing\", \"mailwisconsin\", \"majordomo\", \"make\", \"make\", \"make\", \"make\", \"make\", \"make\", \"man\", \"man\", \"man\", \"man\", \"market\", \"market\", \"market\", \"market\", \"market\", \"market\", \"marshall\", \"marshall\", \"materially\", \"maxaman\", \"maxaman\", \"med\", \"med\", \"med\", \"med\", \"medication\", \"medication\", \"men\", \"men\", \"men\", \"men\", \"message\", \"message\", \"message\", \"message\", \"message\", \"message\", \"mg\", \"mg\", \"million\", \"million\", \"million\", \"million\", \"million\", \"million\", \"mit\", \"mladih\", \"money\", \"money\", \"money\", \"money\", \"money\", \"money\", \"moneymaking\", \"moopid\", \"mortgage\", \"mortgage\", \"mortgage\", \"mr\", \"mr\", \"mr\", \"mr\", \"mr\", \"mr\", \"multilevel\", \"name\", \"name\", \"name\", \"name\", \"name\", \"name\", \"nd\", \"nd\", \"nd\", \"nd\", \"ne\", \"ne\", \"ne\", \"ne\", \"need\", \"need\", \"need\", \"need\", \"need\", \"need\", \"net\", \"net\", \"net\", \"net\", \"net\", \"net\", \"new\", \"new\", \"new\", \"new\", \"new\", \"new\", \"news\", \"news\", \"news\", \"news\", \"news\", \"news\", \"next\", \"next\", \"next\", \"next\", \"next\", \"nicht\", \"nigeria\", \"nigerian\", \"nt\", \"nt\", \"nt\", \"nt\", \"nt\", \"nt\", \"number\", \"number\", \"number\", \"number\", \"number\", \"number\", \"objective\", \"objective\", \"oem\", \"oem\", \"offer\", \"offer\", \"offer\", \"offer\", \"offer\", \"offer\", \"oi\", \"oil\", \"oil\", \"oil\", \"online\", \"online\", \"online\", \"online\", \"online\", \"online\", \"ooking\", \"ooo\", \"ooo\", \"order\", \"order\", \"order\", \"order\", \"order\", \"order\", \"otc\", \"otcbb\", \"oz\", \"oz\", \"page\", \"page\", \"page\", \"page\", \"page\", \"para\", \"participant\", \"participant\", \"participate\", \"participate\", \"participate\", \"participate\", \"penis\", \"penis\", \"people\", \"people\", \"people\", \"people\", \"people\", \"performance\", \"performance\", \"performance\", \"performance\", \"performance\", \"ph\", \"ph\", \"ph\", \"ph\", \"pharmacy\", \"pharmacy\", \"phentermine\", \"phone\", \"phone\", \"phone\", \"phone\", \"phone\", \"phone\", \"photoshop\", \"photoshop\", \"photoshop\", \"piease\", \"pill\", \"pill\", \"pill\", \"please\", \"please\", \"please\", \"please\", \"please\", \"please\", \"por\", \"ppin\", \"prediction\", \"premiere\", \"premiere\", \"prescription\", \"prescription\", \"price\", \"price\", \"price\", \"price\", \"price\", \"price\", \"prize\", \"prize\", \"pro\", \"pro\", \"pro\", \"pro\", \"pro\", \"product\", \"product\", \"product\", \"product\", \"product\", \"product\", \"professional\", \"professional\", \"professional\", \"professional\", \"professional\", \"profiled\", \"program\", \"program\", \"program\", \"program\", \"program\", \"project\", \"project\", \"project\", \"projection\", \"projection\", \"prosaka\", \"prozac\", \"quality\", \"quality\", \"quality\", \"quality\", \"quality\", \"que\", \"que\", \"quote\", \"quote\", \"quote\", \"quote\", \"quote\", \"ragga\", \"rate\", \"rate\", \"rate\", \"rate\", \"rate\", \"reas\", \"receive\", \"receive\", \"receive\", \"receive\", \"receive\", \"receive\", \"received\", \"received\", \"received\", \"received\", \"received\", \"received\", \"refer\", \"refund\", \"regalis\", \"regard\", \"regard\", \"regard\", \"regard\", \"regard\", \"regard\", \"relief\", \"relief\", \"relief\", \"relief\", \"removed\", \"removed\", \"removed\", \"removed\", \"removed\", \"removed\", \"replica\", \"report\", \"report\", \"report\", \"reqards\", \"response\", \"response\", \"response\", \"response\", \"response\", \"resuits\", \"revamping\", \"rien\", \"risk\", \"risk\", \"risk\", \"risk\", \"risk\", \"rolex\", \"saave\", \"sameday\", \"save\", \"save\", \"save\", \"save\", \"se\", \"se\", \"se\", \"se\", \"se\", \"search\", \"search\", \"search\", \"search\", \"search\", \"search\", \"searcher\", \"security\", \"security\", \"security\", \"security\", \"security\", \"seekercenter\", \"send\", \"send\", \"send\", \"send\", \"send\", \"send\", \"sequence\", \"service\", \"service\", \"service\", \"service\", \"service\", \"service\", \"seventh\", \"seventh\", \"seventh\", \"shall\", \"shall\", \"shall\", \"shall\", \"shall\", \"share\", \"share\", \"share\", \"share\", \"shareholder\", \"shi\", \"shouid\", \"sie\", \"site\", \"site\", \"site\", \"site\", \"site\", \"site\", \"size\", \"size\", \"size\", \"size\", \"size\", \"size\", \"soft\", \"soft\", \"soft\", \"soft\", \"soft\", \"software\", \"software\", \"software\", \"software\", \"software\", \"software\", \"soma\", \"south\", \"south\", \"south\", \"south\", \"south\", \"sperm\", \"spray\", \"spur\", \"squirrelmail\", \"src\", \"statement\", \"statement\", \"stationery\", \"stealth\", \"stock\", \"stock\", \"stock\", \"stock\", \"stock\", \"stock\", \"stop\", \"stop\", \"stop\", \"stop\", \"stop\", \"stop\", \"style\", \"style\", \"stylus\", \"sum\", \"sum\", \"sum\", \"td\", \"td\", \"td\", \"technique\", \"technoiogy\", \"technology\", \"technology\", \"technology\", \"technology\", \"technology\", \"technology\", \"temple\", \"temple\", \"term\", \"term\", \"term\", \"term\", \"term\", \"term\", \"thr\", \"time\", \"time\", \"time\", \"time\", \"time\", \"time\", \"tin\", \"tm\", \"tm\", \"tm\", \"toner\", \"toner\", \"toshiba\", \"total\", \"total\", \"total\", \"total\", \"total\", \"total\", \"trading\", \"trading\", \"trading\", \"transaction\", \"transaction\", \"transaction\", \"transaction\", \"transaction\", \"transfer\", \"transfer\", \"transfer\", \"transfer\", \"transfer\", \"transfer\", \"tras\", \"trust\", \"trust\", \"trust\", \"trust\", \"tue\", \"tue\", \"tue\", \"ume\", \"una\", \"uncertainty\", \"und\", \"unwarranted\", \"ur\", \"ur\", \"urgent\", \"urgent\", \"urgent\", \"urgent\", \"usb\", \"usb\", \"usb\", \"utf\", \"utmost\", \"vain\", \"verdana\", \"vger\", \"viagra\", \"viagra\", \"vjestika\", \"voip\", \"want\", \"want\", \"want\", \"want\", \"want\", \"want\", \"web\", \"web\", \"web\", \"web\", \"web\", \"web\", \"website\", \"website\", \"website\", \"website\", \"website\", \"website\", \"week\", \"week\", \"week\", \"week\", \"week\", \"week\", \"weight\", \"weight\", \"weight\", \"weight\", \"width\", \"wil\", \"wili\", \"window\", \"window\", \"window\", \"window\", \"window\", \"winner\", \"winner\", \"winner\", \"winner\", \"winning\", \"winning\", \"winning\", \"within\", \"within\", \"within\", \"within\", \"within\", \"within\", \"wn\", \"wor\", \"work\", \"work\", \"work\", \"work\", \"work\", \"work\", \"www\", \"www\", \"www\", \"www\", \"www\", \"www\", \"wysak\", \"xanax\", \"xual\", \"yap\", \"yo\", \"yo\", \"zu\", \"\\u00e2\\u01533\\u00e2\", \"\\u00ef\\u00bdm\\u00ef\\u00bd\\u00ef\\u00bd\\u00ef\\u00bdo\\u00ef\\u00bd\\u00ef\\u00bd\", \"\\u00ef\\u00bd\\u00ef\\u00bd\\u00ef\\u00bdn\"]}, \"R\": 30, \"lambda.step\": 0.01, \"plot.opts\": {\"xlab\": \"PC1\", \"ylab\": \"PC2\"}, \"topic.order\": [1, 2, 4, 3, 6, 5]};\n",
       "\n",
       "function LDAvis_load_lib(url, callback){\n",
       "  var s = document.createElement('script');\n",
       "  s.src = url;\n",
       "  s.async = true;\n",
       "  s.onreadystatechange = s.onload = callback;\n",
       "  s.onerror = function(){console.warn(\"failed to load library \" + url);};\n",
       "  document.getElementsByTagName(\"head\")[0].appendChild(s);\n",
       "}\n",
       "\n",
       "if(typeof(LDAvis) !== \"undefined\"){\n",
       "   // already loaded: just create the visualization\n",
       "   !function(LDAvis){\n",
       "       new LDAvis(\"#\" + \"ldavis_el814020074561059683706020138\", ldavis_el814020074561059683706020138_data);\n",
       "   }(LDAvis);\n",
       "}else if(typeof define === \"function\" && define.amd){\n",
       "   // require.js is available: use it to load d3/LDAvis\n",
       "   require.config({paths: {d3: \"https://d3js.org/d3.v5\"}});\n",
       "   require([\"d3\"], function(d3){\n",
       "      window.d3 = d3;\n",
       "      LDAvis_load_lib(\"https://cdn.jsdelivr.net/gh/bmabey/pyLDAvis@3.4.0/pyLDAvis/js/ldavis.v3.0.0.js\", function(){\n",
       "        new LDAvis(\"#\" + \"ldavis_el814020074561059683706020138\", ldavis_el814020074561059683706020138_data);\n",
       "      });\n",
       "    });\n",
       "}else{\n",
       "    // require.js not available: dynamically load d3 & LDAvis\n",
       "    LDAvis_load_lib(\"https://d3js.org/d3.v5.js\", function(){\n",
       "         LDAvis_load_lib(\"https://cdn.jsdelivr.net/gh/bmabey/pyLDAvis@3.4.0/pyLDAvis/js/ldavis.v3.0.0.js\", function(){\n",
       "                 new LDAvis(\"#\" + \"ldavis_el814020074561059683706020138\", ldavis_el814020074561059683706020138_data);\n",
       "            })\n",
       "         });\n",
       "}\n",
       "</script>"
      ],
      "text/plain": [
       "PreparedData(topic_coordinates=              x         y  topics  cluster       Freq\n",
       "topic                                                \n",
       "0      0.070751  0.007787       1        1  36.024018\n",
       "1      0.081343  0.078827       2        1  17.749277\n",
       "3      0.177841 -0.107030       3        1  16.766543\n",
       "2     -0.189533 -0.185081       4        1  13.572198\n",
       "5      0.053234  0.067987       5        1   8.858615\n",
       "4     -0.193636  0.137510       6        1   7.029350, topic_info=           Term         Freq        Total Category  logprob  loglift\n",
       "208     company  4843.000000  4843.000000  Default  30.0000  30.0000\n",
       "469      report  3824.000000  3824.000000  Default  29.0000  29.0000\n",
       "512   statement  1991.000000  1991.000000  Default  28.0000  28.0000\n",
       "599        http  2754.000000  2754.000000  Default  27.0000  27.0000\n",
       "74        order  3469.000000  3469.000000  Default  26.0000  26.0000\n",
       "...         ...          ...          ...      ...      ...      ...\n",
       "612      please   202.748275  3672.468428   Topic6  -5.8954  -0.2416\n",
       "99           10   178.860799  1771.852546   Topic6  -6.0207   0.3619\n",
       "1076        day   174.624416  2543.963572   Topic6  -6.0447  -0.0238\n",
       "656         get   170.364998  3897.409537   Topic6  -6.0694  -0.4750\n",
       "983        link   156.773573  1148.764876   Topic6  -6.1525   0.6634\n",
       "\n",
       "[496 rows x 6 columns], token_table=       Topic      Freq            Term\n",
       "term                                  \n",
       "97         1  0.253307              00\n",
       "97         2  0.600011              00\n",
       "97         3  0.025000              00\n",
       "97         4  0.106134              00\n",
       "97         5  0.011793              00\n",
       "...      ...       ...             ...\n",
       "2551       6  0.968401              yo\n",
       "9044       5  0.979997              zu\n",
       "6478       1  0.995395            âœ3â\n",
       "66590      4  0.984163  ï½mï½ï½ï½oï½ï½\n",
       "66617      4  0.996057         ï½ï½ï½n\n",
       "\n",
       "[1267 rows x 3 columns], R=30, lambda_step=0.01, plot_opts={'xlab': 'PC1', 'ylab': 'PC2'}, topic_order=[1, 2, 4, 3, 6, 5])"
      ]
     },
     "execution_count": 28,
     "metadata": {},
     "output_type": "execute_result"
    }
   ],
   "source": [
    "pyLDAvis.enable_notebook()\n",
    "p = pyLDAvis.gensim_models.prepare(model, corpus, dictionary)\n",
    "p"
   ]
  },
  {
   "cell_type": "markdown",
   "metadata": {},
   "source": [
    "+ 主題一推測是 藥草、軟體等相關主題。</br>\n",
    "裡面包含了 dagga、botanical、herb等相關詞彙，也包含了 adobe、corel 等商用軟體。\n",
    "\n",
    "+ 主題二推測是 賺錢有關主題。</br>\n",
    "裡面包含了 lottery、moneymaking、million、free、goldrush 等詞彙，主要是在強調可以快速得到財富。\n",
    "\n",
    "+ 主題三推測是 金融、投資相關主題。</br>\n",
    "裡面包含了 stock、investment、security、shareholder、risk等相關詞彙\n",
    "\n",
    "+ 主題四推測是 藥品、網頁程式碼相關主題。</br>\n",
    "裡面包含了 cialis、viagra、xanax、phentermine、pill 等藥物相關詞彙，他也將 http、href、font等html相關用詞歸類於此。\n",
    "\n",
    "+ 主題五推測是 奈及利亞詐騙、預付費詐騙有關主題。</br>\n",
    "奈及利亞詐騙為一種預付費詐騙，這些詐騙通常會向受害者承諾會給受害者很大的一筆資金，但是需要受害者預先支付一些費用來提取這筆資金。\n",
    "裡面包含了 nigeria、nigerian、abacha、lagos 等與奈及利亞詐騙有關詞彙，deceased、foreigner、kin 也是這類型詐騙常出現的詞。\n",
    "\n",
    "+ 主題六推測是 減肥、亂碼等相關主題。</br>\n",
    "裡面包含了 dieting、lean、fat、improvement 等減肥相關詞彙，但大部份字詞都是奇怪的縮寫以及錯誤拼字，可能將這些不知所云的詞彙集中在同個主題。"
   ]
  },
  {
   "cell_type": "markdown",
   "metadata": {},
   "source": [
    "### 查看 pmi 最高值"
   ]
  },
  {
   "cell_type": "code",
   "execution_count": 13,
   "metadata": {},
   "outputs": [
    {
     "data": {
      "text/plain": [
       "[(0,\n",
       "  '0.008*\"free\" + 0.006*\"business\" + 0.006*\"get\" + 0.005*\"click\" + 0.005*\"money\" + 0.005*\"please\" + 0.005*\"list\" + 0.005*\"software\" + 0.004*\"site\" + 0.004*\"address\"'),\n",
       " (1,\n",
       "  '0.010*\"report\" + 0.007*\"order\" + 0.007*\"000\" + 0.007*\"name\" + 0.007*\"address\" + 0.006*\"20\" + 0.006*\"mail\" + 0.006*\"program\" + 0.005*\"00\" + 0.005*\"money\"'),\n",
       " (2,\n",
       "  '0.009*\"http\" + 0.004*\"www\" + 0.003*\"online\" + 0.003*\"price\" + 0.003*\"pill\" + 0.003*\"get\" + 0.003*\"color\" + 0.003*\"save\" + 0.003*\"font\" + 0.003*\"size\"'),\n",
       " (3,\n",
       "  '0.018*\"company\" + 0.010*\"statement\" + 0.007*\"stock\" + 0.007*\"security\" + 0.006*\"information\" + 0.005*\"investment\" + 0.005*\"report\" + 0.005*\"within\" + 0.005*\"inc\" + 0.004*\"price\"')]"
      ]
     },
     "execution_count": 13,
     "metadata": {},
     "output_type": "execute_result"
    }
   ],
   "source": [
    "model = LdaModel(\n",
    "    corpus = corpus,\n",
    "    num_topics = 4,\n",
    "    id2word=dictionary,\n",
    "    random_state = 1116,\n",
    "    passes=5\n",
    ")\n",
    "model.print_topics()"
   ]
  },
  {
   "cell_type": "code",
   "execution_count": 29,
   "metadata": {},
   "outputs": [
    {
     "data": {
      "text/html": [
       "\n",
       "<link rel=\"stylesheet\" type=\"text/css\" href=\"https://cdn.jsdelivr.net/gh/bmabey/pyLDAvis@3.4.0/pyLDAvis/js/ldavis.v1.0.0.css\">\n",
       "\n",
       "\n",
       "<div id=\"ldavis_el814020074561050726601227607\" style=\"background-color:white;\"></div>\n",
       "<script type=\"text/javascript\">\n",
       "\n",
       "var ldavis_el814020074561050726601227607_data = {\"mdsDat\": {\"x\": [-0.02642561664913759, -0.023508479968943265, -0.17275608454625646, 0.22269018116433723], \"y\": [-0.09310029047110416, -0.15467336974716767, 0.15494679048744212, 0.09282686973082964], \"topics\": [1, 2, 3, 4], \"cluster\": [1, 1, 1, 1], \"Freq\": [41.89244568695477, 21.680637175702387, 18.837131852725946, 17.58978528461691]}, \"tinfo\": {\"Term\": [\"company\", \"statement\", \"report\", \"http\", \"stock\", \"address\", \"security\", \"name\", \"000\", \"mail\", \"investment\", \"inc\", \"order\", \"program\", \"free\", \"3d\", \"gas\", \"information\", \"people\", \"20\", \"00\", \"list\", \"pill\", \"market\", \"forward\", \"send\", \"within\", \"future\", \"grant\", \"software\", \"grant\", \"adobe\", \"corel\", \"macromedia\", \"468\", \"enenkio\", \"premiere\", \"ebay\", \"norton\", \"334\", \"atoll\", \"acrobat\", \"ebook\", \"searcher\", \"und\", \"youve\", \"sie\", \"saave\", \"hermios\", \"advertiser\", \"employment\", \"irs\", \"dieser\", \"marshall\", \"teach\", \"apologize\", \"einer\", \"edition\", \"corei\", \"technique\", \"broadcast\", \"page\", \"download\", \"youre\", \"studio\", \"graphic\", \"photoshop\", \"youll\", \"software\", \"dont\", \"oem\", \"lead\", \"insurance\", \"book\", \"credit\", \"click\", \"search\", \"free\", \"window\", \"95\", \"xp\", \"pro\", \"removed\", \"site\", \"cd\", \"guide\", \"link\", \"web\", \"form\", \"card\", \"business\", \"government\", \"help\", \"complete\", \"mailing\", \"professional\", \"list\", \"call\", \"want\", \"get\", \"home\", \"money\", \"please\", \"internet\", \"need\", \"know\", \"offer\", \"receive\", \"time\", \"people\", \"address\", \"new\", \"make\", \"information\", \"service\", \"day\", \"like\", \"program\", \"order\", \"send\", \"ragga\", \"dagga\", \"botanical\", \"computron\", \"\\u00e2\\u01533\\u00e2\", \"que\", \"capillaris\", \"intro\", \"herba\", \"para\", \"temple\", \"equivalence\", \"dieting\", \"por\", \"oz\", \"intel\", \"aphrodisia\", \"unclaimed\", \"prosaka\", \"jody\", \"vjestika\", \"una\", \"este\", \"squirrelmail\", \"971\", \"hei\", \"claimed\", \"jiggetbar\", \"accurately\", \"projecthoneypot\", \"lottery\", \"kin\", \"floodgate\", \"del\", \"gentle\", \"tm\", \"multilevel\", \"batch\", \"seventh\", \"instructed\", \"lucky\", \"aging\", \"prize\", \"winning\", \"jul\", \"tablet\", \"report\", \"000\", \"la\", \"name\", \"fund\", \"claim\", \"00\", \"bank\", \"20\", \"mail\", \"order\", \"number\", \"transaction\", \"address\", \"program\", \"received\", \"10\", \"response\", \"send\", \"letter\", \"note\", \"follow\", \"total\", \"work\", \"people\", \"money\", \"100\", \"contact\", \"please\", \"make\", \"message\", \"list\", \"account\", \"time\", \"get\", \"million\", \"free\", \"gas\", \"uncertainty\", \"wysak\", \"voip\", \"ooking\", \"1933\", \"oi\", \"involve\", \"1934\", \"profiled\", \"materially\", \"assumption\", \"otc\", \"inherent\", \"estimate\", \"anticipates\", \"prediction\", \"piease\", \"couid\", \"shareholder\", \"construed\", \"yap\", \"resuits\", \"kno\", \"foresee\", \"wil\", \"technoiogy\", \"statement\", \"wor\", \"bra\", \"expectation\", \"projection\", \"advisor\", \"3d\", \"differ\", \"wi\", \"belief\", \"stock\", \"investor\", \"investing\", \"inc\", \"company\", \"oil\", \"advice\", \"investment\", \"security\", \"forward\", \"project\", \"event\", \"performance\", \"share\", \"technology\", \"news\", \"market\", \"act\", \"term\", \"within\", \"risk\", \"looking\", \"future\", \"information\", \"report\", \"price\", \"fact\", \"product\", \"service\", \"business\", \"time\", \"cialis\", \"\\u00ef\\u00bd\\u00ef\\u00bd\\u00ef\\u00bdn\", \"href\", \"toner\", \"rolex\", \"capitalfm\", \"stylus\", \"utf\", \"laserjet\", \"bgcolor\", \"src\", \"xanax\", \"replica\", \"rx\", \"andmanyother\", \"verdana\", \"spur\", \"maxaman\", \"impotence\", \"dysfunction\", \"phentermine\", \"000000\", \"fontfont\", \"tongue\", \"hotlist\", \"regalis\", \"moopid\", \"ejaculation\", \"\\u00ef\\u00bdm\\u00ef\\u00bd\\u00ef\\u00bd\\u00ef\\u00bdo\\u00ef\\u00bd\\u00ef\\u00bd\", \"gif\", \"pill\", \"align\", \"med\", \"td\", \"width\", \"br\", \"mg\", \"penis\", \"border\", \"cartridge\", \"pharmacy\", \"font\", \"medication\", \"height\", \"viagra\", \"generic\", \"prescription\", \"fontsize\", \"color\", \"php\", \"face\", \"men\", \"http\", \"size\", \"drug\", \"doctor\", \"www\", \"99\", \"online\", \"woman\", \"save\", \"man\", \"price\", \"best\", \"get\", \"new\", \"rate\", \"quality\", \"like\", \"order\", \"day\", \"want\"], \"Freq\": [4774.0, 1941.0, 3699.0, 2711.0, 1603.0, 3452.0, 1937.0, 2589.0, 2553.0, 2542.0, 1478.0, 1115.0, 3439.0, 2790.0, 4360.0, 780.0, 702.0, 3580.0, 2494.0, 2568.0, 2061.0, 2807.0, 598.0, 1187.0, 979.0, 2313.0, 1920.0, 1456.0, 1045.0, 2154.0, 1044.205361320129, 1005.5265757040604, 250.1809021076002, 230.29967407483392, 206.277554288035, 190.02433756759086, 175.20283647751938, 235.89137168246697, 194.99392901185956, 131.17570887722644, 139.77860169567558, 123.16972414971521, 105.98902797286225, 101.1241644198751, 103.60510120799688, 116.06603997307712, 87.02496760925929, 84.94747470539549, 85.81901239654924, 102.85157406344281, 81.08472009259341, 75.90168615247707, 74.6953603798784, 115.33550031954496, 140.3606362793597, 129.55181322185686, 69.59945273633396, 253.70377663497055, 67.57065651300628, 129.44938535747022, 409.0126838200929, 707.3855894513616, 473.8421874466363, 142.2563312240717, 244.61238365989692, 308.5942507081029, 232.72395353377775, 206.14725776443834, 1985.6829347465064, 516.7005308244263, 172.1275344059713, 361.25776207402026, 339.65951285249497, 371.7906841275515, 1042.3396817263956, 2395.5260560549336, 781.4957782664299, 3567.4439374228414, 611.3139771680619, 758.888609469525, 372.0057366422256, 433.9153050139721, 771.223193701548, 1920.2624008755342, 752.7512177031474, 543.8094655951751, 1002.2298704880228, 1212.2686332014496, 834.1060312318028, 875.6093009865295, 2839.302854160104, 898.3128153544766, 981.5846246324762, 591.9432528825481, 1173.4203611590806, 798.4385941616767, 2016.9095309996492, 1034.329659173891, 1405.295170319112, 2574.00119190755, 1305.265467308216, 2372.8723244913344, 2341.95014957566, 1455.1083350217307, 1422.9681680859296, 1104.143039967306, 1562.4829950305407, 1346.623937591981, 1894.7245378091354, 1558.8126632233523, 1917.4070963764843, 1668.6502942546492, 1688.8849086418911, 1902.3538803546778, 1357.774774648757, 1443.4647810923564, 1245.0622122222403, 1382.6796703136768, 1456.6420951786743, 1149.860316775469, 279.50364333752736, 272.08819952768016, 245.71862666105548, 211.69381036534617, 205.72249432699076, 220.40067517906533, 188.2802363349451, 164.99072167404643, 156.3338773864955, 159.94473246602087, 387.5044664999437, 122.64664012566655, 121.55904416906547, 119.64552758908337, 299.5339411339283, 113.23432982681764, 96.05093665455716, 96.50098251764263, 89.35997046552347, 81.54062611670528, 77.26953183402874, 75.9479689001892, 74.81572876429651, 73.59998000803732, 72.90242379944362, 71.54125577157691, 70.2111554898681, 62.86479740673684, 62.48586084004045, 77.25946027647267, 334.49477082399284, 209.7212267124219, 184.6624773118291, 115.80813851373321, 111.94068686408892, 405.68958617715344, 191.65178115521934, 151.54644218853406, 234.62359253252473, 109.87705580181985, 210.74668717670718, 166.36565129828492, 256.7935573523108, 286.9295091924884, 127.09277979804072, 328.3708141477455, 2330.6704157844824, 1623.0898398085292, 405.67173115062593, 1602.0615386108586, 586.8550970268116, 506.7591938491491, 1208.7387405850366, 615.9593722082832, 1361.8567822085233, 1349.588395092277, 1636.0174080522806, 976.5980019117017, 437.0208196228115, 1518.2081971988525, 1297.6085244426515, 628.8094364109595, 887.0747505350704, 429.3219967030541, 1017.1397574045563, 586.5320136282825, 414.07822151436983, 405.55730026950283, 474.9389971955484, 801.0975867824791, 892.9033718466069, 1097.1085856971254, 702.862405054973, 583.2657341088471, 952.4636138474116, 816.5963846537586, 613.5141593902026, 751.3636404029958, 586.8214502212664, 710.3180821912622, 711.1142841149341, 550.3072067714161, 623.9257824589331, 701.9903576211547, 300.7272101349033, 266.77614047599917, 284.22727756337736, 207.6240346967365, 213.93078631587917, 196.5170419449234, 231.5122118540249, 181.9876503705809, 172.78788150854882, 158.3867674060636, 193.65828029135645, 160.929483614097, 165.7116374278833, 340.7713390482939, 135.90386231125186, 149.09144831752488, 130.30619334716835, 127.74923940845044, 133.9564303345741, 128.63285205030246, 129.82227138220787, 123.19781956917122, 120.3302096083992, 121.09523195108727, 134.15712602981617, 120.72272970906221, 1930.1727674175918, 125.88097105298782, 113.70202312024354, 355.5537807173931, 287.6240852428604, 191.46101578617834, 751.9894067056431, 307.0301466397706, 225.31014605129536, 296.35177967854037, 1463.1000937762212, 545.4836141786975, 396.8744330777727, 936.0083181451887, 3463.0558978146405, 483.0863630037082, 550.389897102132, 1034.8286032033993, 1297.6236029851395, 718.7089697850342, 458.9239572709112, 467.66410828452655, 459.7794162080198, 630.9783945513168, 588.5964279612682, 679.5208513915392, 729.5196246846342, 635.8703363222942, 476.69407008737784, 966.9764740582616, 612.2293142187284, 672.6214700332024, 737.6436117601517, 1197.3439218034966, 1025.8819304013562, 812.1046219959067, 482.2892799115368, 596.8325242382045, 565.9038064943884, 523.8571562734875, 511.8182184381282, 263.3175280124307, 230.75375541217224, 186.48193304089213, 272.7898380811202, 157.92764320069, 131.90148527206205, 124.05391616129369, 117.53839534847738, 107.06586334899067, 100.98735884891256, 100.61924232609486, 98.34003384180234, 95.56703458776036, 92.82424136216041, 88.75126692526872, 95.11085381079573, 86.77833576595684, 78.20137959397438, 76.9585705271193, 78.07212676427694, 72.84447726216732, 67.8843362108781, 66.67140589578032, 65.54096540080617, 63.744988989287286, 62.89530896826886, 62.51949339557295, 59.67162289341226, 56.93647506577498, 57.242140758918595, 589.2969737953939, 162.11235311685937, 298.26737298232956, 281.93199572241934, 211.61298387162446, 273.653741224945, 164.30640528082654, 221.0195381526434, 110.81601421015301, 254.3633666831402, 159.52927091340186, 499.53667529479833, 330.80916975798795, 195.65874981962205, 426.4763724720383, 183.08971556898038, 410.3243130771026, 144.39189800568963, 530.5895884930345, 269.2005249323264, 283.46639758497514, 320.6831647505107, 1696.5915173525686, 483.4569386819938, 329.57324423189505, 204.45644070246797, 695.2658164275925, 373.9243641343249, 607.7986007966449, 286.30797471744444, 519.444755070455, 238.45619609143856, 590.3943486148283, 466.2596970510488, 531.9878003332151, 410.6735655864208, 309.0778905888737, 264.7190233498417, 322.5349713453275, 316.019225194466, 299.0945782159335, 291.2869797822331], \"Total\": [4774.0, 1941.0, 3699.0, 2711.0, 1603.0, 3452.0, 1937.0, 2589.0, 2553.0, 2542.0, 1478.0, 1115.0, 3439.0, 2790.0, 4360.0, 780.0, 702.0, 3580.0, 2494.0, 2568.0, 2061.0, 2807.0, 598.0, 1187.0, 979.0, 2313.0, 1920.0, 1456.0, 1045.0, 2154.0, 1045.8154141632706, 1007.7829319962586, 250.8564877058488, 231.0114027604038, 206.9662263299023, 190.78777403032444, 175.97182380164438, 236.952948024515, 195.93990147950151, 131.86104850359192, 140.51645871717724, 123.84748681176053, 106.6599927622537, 101.7912934007127, 104.33442424874148, 116.89645978277133, 87.69939811990086, 85.64516376669052, 86.52922412206819, 103.70590495303243, 81.78476707522162, 76.57737292698155, 75.36317837264531, 116.37110596391778, 141.6671820259887, 130.77636535522927, 70.26902189812935, 256.18389297240395, 68.23781013330294, 130.7431361137975, 413.8573099308417, 720.108713884296, 484.6912395416828, 144.00225009881999, 249.35471803848228, 316.117358948582, 237.58932880560747, 210.61136109794728, 2154.8710979320317, 541.8063053605742, 175.43771382113908, 379.837254243986, 356.2324764748655, 392.0428574154232, 1149.857185164325, 2775.6678073199773, 858.5529324450204, 4360.478722448015, 668.6416894329832, 842.6551057822317, 396.3474406886048, 468.6491869508741, 868.2104903906582, 2322.6380740886875, 855.9974921142419, 600.0436594328205, 1181.0571898714336, 1457.951950900258, 976.648772761842, 1034.983734962603, 3907.7992879099984, 1069.9250303680872, 1187.6424171621288, 674.4675192707832, 1485.5086135143288, 951.7385903777058, 2807.655165203926, 1300.6898988901498, 1887.9942774781316, 3906.013566511667, 1757.1320869212332, 3718.838716151138, 3674.199713293421, 2021.937559644686, 1966.0074623091068, 1432.3049663507986, 2284.199105988071, 1891.7471539202054, 3333.7931951270457, 2494.8484513751437, 3452.419802146588, 2788.7122756056783, 2864.6287573578834, 3580.1139212451935, 2216.2589243370417, 2551.7361423320212, 1988.6066941694198, 2790.2560493965593, 3439.6061304144646, 2313.457209632652, 280.2061905213886, 272.79115488914374, 246.5005477637789, 212.40222111569838, 206.42416701462193, 221.17178004912066, 188.98339465297346, 165.71569070150127, 157.036398078062, 160.76238035418075, 389.5788051548716, 123.34775968997005, 122.27011843720743, 120.35361276535386, 301.36378179832377, 113.96105675832982, 96.75312123077848, 97.25773826680084, 90.0617698387909, 82.2432983483004, 77.9714095842786, 76.64909328257947, 75.51924485682541, 74.30152603478544, 73.6085041733353, 72.24190610559785, 70.92100169700659, 63.56605911856582, 63.19393672475279, 78.15603946274929, 339.9534615633774, 212.603552696757, 188.6262515991729, 117.67415488414194, 113.75314685707815, 424.48187292196, 198.87444972514743, 156.98794667068967, 248.10656419099416, 112.9127816979666, 227.21401365239393, 176.2253756636117, 281.76235756999586, 328.75524578992867, 132.26814500283209, 386.74521537038993, 3699.728591245083, 2553.7135321768615, 508.0620850712396, 2589.5512231056628, 813.9740289960266, 691.1530350413148, 2061.546135240996, 914.8804932479705, 2568.133052175938, 2542.906476367319, 3439.6061304144646, 1820.0326836906472, 614.9497732621754, 3452.419802146588, 2790.2560493965593, 1019.5834221588453, 1734.3463047011905, 603.5497118752787, 2313.457209632652, 1005.7751611709334, 601.4245722667731, 584.2005970149191, 789.6005449157448, 2032.3307119540216, 2494.8484513751437, 3718.838716151138, 1637.8656820629383, 1198.1229705898095, 3674.199713293421, 2864.6287573578834, 1591.0060174701941, 2807.655165203926, 1456.036464823232, 3333.7931951270457, 3906.013566511667, 1789.2157582617765, 4360.478722448015, 702.9192513430348, 301.42444847560984, 267.4551727634362, 284.9998470497619, 208.307695586342, 214.6634935056648, 197.23142699444168, 232.39565824125395, 182.6873930324715, 173.49985724085363, 159.074954035266, 194.5212917443591, 161.68005865956488, 166.4884434503626, 342.378327984445, 136.58504787725474, 149.85925200267883, 130.9894260033498, 128.42923192081176, 134.6696647057913, 129.33365640625794, 130.53170949744245, 123.87801740666933, 121.00509056724292, 121.77527500463437, 134.91174092621935, 121.40574828652835, 1941.1744505352451, 126.60915675571111, 114.3946168301958, 357.8874121368928, 289.78052115599337, 193.14819803311553, 780.353510544709, 313.09144649828744, 229.31228968292532, 303.72313388722705, 1603.9415413490417, 588.5799473660805, 422.7191626401939, 1115.8890908973065, 4774.794686650328, 551.6448348644127, 637.8943036352863, 1478.938281548315, 1937.4913204678571, 979.291794531063, 569.9102073510898, 589.977610491475, 586.3203524311525, 929.5902595878702, 853.4439035687213, 1041.0822033016618, 1187.9011758462386, 979.1352557245327, 666.4354389674896, 1920.5716872613416, 1005.1767663005966, 1192.963591252324, 1456.966783284623, 3580.1139212451935, 3699.728591245083, 2644.2348380327344, 861.3659254274497, 2322.430252990084, 2216.2589243370417, 3907.7992879099984, 3333.7931951270457, 264.02936786003124, 231.44300319233247, 187.24010661615156, 273.9570476606112, 158.61986569779262, 132.61216161831163, 124.74313799880383, 118.24124796106136, 107.76688127394385, 101.67846045082894, 101.3119533661882, 99.05395592555995, 96.27044867457663, 93.5235905637767, 89.44327895355724, 95.86359647136837, 87.4742827539746, 78.90001875161643, 77.65402346669282, 78.78559769789089, 73.57908930269824, 68.58102693816721, 67.36159073569996, 66.2464527656717, 64.43538942785759, 63.58584717138654, 63.20836647632836, 60.36516608860952, 57.62544091317402, 57.946193257189464, 598.8115512365289, 164.28087878100973, 304.2362296633185, 291.1235009849986, 218.01382475655188, 285.83511794325057, 169.36193721289177, 230.52651141346072, 113.54630074459145, 268.4505007119896, 165.47210769695002, 545.4419284939294, 355.3685246213805, 205.26765034476253, 480.92771536299324, 194.3077454071071, 463.1540214323355, 150.74963761947657, 622.2547982881155, 304.62624969892585, 332.8274544665611, 386.69473157702157, 2711.4664535548127, 695.2512591076858, 441.1506330954103, 253.63051898793833, 1726.771919818756, 715.2415376878323, 1667.347613003811, 463.8883671513, 1402.6744643304137, 347.5552098883834, 2644.2348380327344, 1719.161943146886, 3906.013566511667, 2788.7122756056783, 1022.417834544194, 609.7315934997321, 1988.6066941694198, 3439.6061304144646, 2551.7361423320212, 1887.9942774781316], \"Category\": [\"Default\", \"Default\", \"Default\", \"Default\", \"Default\", \"Default\", \"Default\", \"Default\", \"Default\", \"Default\", \"Default\", \"Default\", \"Default\", \"Default\", \"Default\", \"Default\", \"Default\", \"Default\", \"Default\", \"Default\", \"Default\", \"Default\", \"Default\", \"Default\", \"Default\", \"Default\", \"Default\", \"Default\", \"Default\", \"Default\", \"Topic1\", \"Topic1\", \"Topic1\", \"Topic1\", \"Topic1\", \"Topic1\", \"Topic1\", \"Topic1\", \"Topic1\", \"Topic1\", \"Topic1\", \"Topic1\", \"Topic1\", \"Topic1\", \"Topic1\", \"Topic1\", \"Topic1\", \"Topic1\", \"Topic1\", \"Topic1\", \"Topic1\", \"Topic1\", \"Topic1\", \"Topic1\", \"Topic1\", \"Topic1\", \"Topic1\", \"Topic1\", \"Topic1\", \"Topic1\", \"Topic1\", \"Topic1\", \"Topic1\", \"Topic1\", \"Topic1\", \"Topic1\", \"Topic1\", \"Topic1\", \"Topic1\", \"Topic1\", \"Topic1\", \"Topic1\", \"Topic1\", \"Topic1\", \"Topic1\", \"Topic1\", \"Topic1\", \"Topic1\", \"Topic1\", \"Topic1\", \"Topic1\", \"Topic1\", \"Topic1\", \"Topic1\", \"Topic1\", \"Topic1\", \"Topic1\", \"Topic1\", \"Topic1\", \"Topic1\", \"Topic1\", \"Topic1\", \"Topic1\", \"Topic1\", \"Topic1\", \"Topic1\", \"Topic1\", \"Topic1\", \"Topic1\", \"Topic1\", \"Topic1\", \"Topic1\", \"Topic1\", \"Topic1\", \"Topic1\", \"Topic1\", \"Topic1\", \"Topic1\", \"Topic1\", \"Topic1\", \"Topic1\", \"Topic1\", \"Topic1\", \"Topic1\", \"Topic1\", \"Topic1\", \"Topic1\", \"Topic1\", \"Topic1\", \"Topic1\", \"Topic2\", \"Topic2\", \"Topic2\", \"Topic2\", \"Topic2\", \"Topic2\", \"Topic2\", \"Topic2\", \"Topic2\", \"Topic2\", \"Topic2\", \"Topic2\", \"Topic2\", \"Topic2\", \"Topic2\", \"Topic2\", \"Topic2\", \"Topic2\", \"Topic2\", \"Topic2\", \"Topic2\", \"Topic2\", \"Topic2\", \"Topic2\", \"Topic2\", \"Topic2\", \"Topic2\", \"Topic2\", \"Topic2\", \"Topic2\", \"Topic2\", \"Topic2\", \"Topic2\", \"Topic2\", \"Topic2\", \"Topic2\", \"Topic2\", \"Topic2\", \"Topic2\", \"Topic2\", \"Topic2\", \"Topic2\", \"Topic2\", \"Topic2\", \"Topic2\", \"Topic2\", \"Topic2\", \"Topic2\", \"Topic2\", \"Topic2\", \"Topic2\", \"Topic2\", \"Topic2\", \"Topic2\", \"Topic2\", \"Topic2\", \"Topic2\", \"Topic2\", \"Topic2\", \"Topic2\", \"Topic2\", \"Topic2\", \"Topic2\", \"Topic2\", \"Topic2\", \"Topic2\", \"Topic2\", \"Topic2\", \"Topic2\", \"Topic2\", \"Topic2\", \"Topic2\", \"Topic2\", \"Topic2\", \"Topic2\", \"Topic2\", \"Topic2\", \"Topic2\", \"Topic2\", \"Topic2\", \"Topic2\", \"Topic2\", \"Topic2\", \"Topic3\", \"Topic3\", \"Topic3\", \"Topic3\", \"Topic3\", \"Topic3\", \"Topic3\", \"Topic3\", \"Topic3\", \"Topic3\", \"Topic3\", \"Topic3\", \"Topic3\", \"Topic3\", \"Topic3\", \"Topic3\", \"Topic3\", \"Topic3\", \"Topic3\", \"Topic3\", \"Topic3\", \"Topic3\", \"Topic3\", \"Topic3\", \"Topic3\", \"Topic3\", \"Topic3\", \"Topic3\", \"Topic3\", \"Topic3\", \"Topic3\", \"Topic3\", \"Topic3\", \"Topic3\", \"Topic3\", \"Topic3\", \"Topic3\", \"Topic3\", \"Topic3\", \"Topic3\", \"Topic3\", \"Topic3\", \"Topic3\", \"Topic3\", \"Topic3\", \"Topic3\", \"Topic3\", \"Topic3\", \"Topic3\", \"Topic3\", \"Topic3\", \"Topic3\", \"Topic3\", \"Topic3\", \"Topic3\", \"Topic3\", \"Topic3\", \"Topic3\", \"Topic3\", \"Topic3\", \"Topic3\", \"Topic3\", \"Topic3\", \"Topic3\", \"Topic3\", \"Topic3\", \"Topic3\", \"Topic3\", \"Topic4\", \"Topic4\", \"Topic4\", \"Topic4\", \"Topic4\", \"Topic4\", \"Topic4\", \"Topic4\", \"Topic4\", \"Topic4\", \"Topic4\", \"Topic4\", \"Topic4\", \"Topic4\", \"Topic4\", \"Topic4\", \"Topic4\", \"Topic4\", \"Topic4\", \"Topic4\", \"Topic4\", \"Topic4\", \"Topic4\", \"Topic4\", \"Topic4\", \"Topic4\", \"Topic4\", \"Topic4\", \"Topic4\", \"Topic4\", \"Topic4\", \"Topic4\", \"Topic4\", \"Topic4\", \"Topic4\", \"Topic4\", \"Topic4\", \"Topic4\", \"Topic4\", \"Topic4\", \"Topic4\", \"Topic4\", \"Topic4\", \"Topic4\", \"Topic4\", \"Topic4\", \"Topic4\", \"Topic4\", \"Topic4\", \"Topic4\", \"Topic4\", \"Topic4\", \"Topic4\", \"Topic4\", \"Topic4\", \"Topic4\", \"Topic4\", \"Topic4\", \"Topic4\", \"Topic4\", \"Topic4\", \"Topic4\", \"Topic4\", \"Topic4\", \"Topic4\", \"Topic4\", \"Topic4\", \"Topic4\", \"Topic4\", \"Topic4\", \"Topic4\", \"Topic4\"], \"logprob\": [30.0, 29.0, 28.0, 27.0, 26.0, 25.0, 24.0, 23.0, 22.0, 21.0, 20.0, 19.0, 18.0, 17.0, 16.0, 15.0, 14.0, 13.0, 12.0, 11.0, 10.0, 9.0, 8.0, 7.0, 6.0, 5.0, 4.0, 3.0, 2.0, 1.0, -6.0413, -6.0791, -7.4702, -7.553, -7.6631, -7.7452, -7.8264, -7.529, -7.7194, -8.1158, -8.0523, -8.1788, -8.329, -8.376, -8.3518, -8.2382, -8.5262, -8.5503, -8.5401, -8.3591, -8.5969, -8.6629, -8.6789, -8.2445, -8.0481, -8.1283, -8.7496, -7.4562, -8.7792, -8.1291, -6.9786, -6.4308, -6.8315, -8.0347, -7.4927, -7.2603, -7.5425, -7.6638, -5.3986, -6.7449, -7.8441, -7.1028, -7.1644, -7.074, -6.0431, -5.211, -6.3312, -4.8128, -6.5767, -6.3605, -7.0735, -6.9195, -6.3444, -5.4321, -6.3686, -6.6938, -6.0824, -5.8921, -6.266, -6.2174, -5.041, -6.1918, -6.1032, -6.6089, -5.9247, -6.3097, -5.383, -6.0509, -5.7444, -5.1391, -5.8182, -5.2205, -5.2336, -5.7095, -5.7319, -5.9855, -5.6383, -5.787, -5.4455, -5.6407, -5.4336, -5.5726, -5.5605, -5.4415, -5.7788, -5.7176, -5.8654, -5.7606, -5.7085, -5.945, -6.7007, -6.7275, -6.8295, -6.9785, -7.0071, -6.9382, -7.0957, -7.2278, -7.2817, -7.2588, -6.3739, -7.5244, -7.5333, -7.5491, -6.6314, -7.6042, -7.7688, -7.7641, -7.841, -7.9326, -7.9864, -8.0036, -8.0186, -8.035, -8.0446, -8.0634, -8.0822, -8.1927, -8.1987, -7.9865, -6.5211, -6.9879, -7.1151, -7.5817, -7.6157, -6.3281, -7.078, -7.3128, -6.8757, -7.6343, -6.983, -7.2195, -6.7854, -6.6744, -7.4888, -6.5395, -4.5798, -4.9416, -6.3281, -4.9546, -5.9589, -6.1056, -5.2363, -5.9105, -5.1171, -5.1261, -4.9337, -5.4496, -6.2537, -5.0084, -5.1654, -5.8898, -5.5457, -6.2715, -5.4089, -5.9594, -6.3076, -6.3284, -6.1705, -5.6477, -5.5392, -5.3332, -5.7785, -5.965, -5.4746, -5.6285, -5.9145, -5.7118, -5.959, -5.768, -5.7668, -6.0232, -5.8976, -5.6392, -6.4869, -6.6067, -6.5433, -6.8574, -6.8274, -6.9123, -6.7485, -6.9891, -7.041, -7.128, -6.927, -7.1121, -7.0828, -6.3619, -7.2811, -7.1885, -7.3232, -7.343, -7.2956, -7.3361, -7.3269, -7.3793, -7.4028, -7.3965, -7.2941, -7.3996, -4.6277, -7.3577, -7.4595, -6.3194, -6.5314, -6.9384, -5.5704, -6.4661, -6.7756, -6.5015, -4.9048, -5.8914, -6.2095, -5.3515, -4.0432, -6.0129, -5.8825, -5.2511, -5.0248, -5.6156, -6.0642, -6.0453, -6.0623, -5.7458, -5.8153, -5.6717, -5.6007, -5.7381, -6.0262, -5.3189, -5.776, -5.6819, -5.5896, -5.1052, -5.2598, -5.4935, -6.0145, -5.8014, -5.8547, -5.9319, -5.9551, -6.5512, -6.6832, -6.8962, -6.5159, -7.0624, -7.2425, -7.3039, -7.3578, -7.4511, -7.5096, -7.5132, -7.5361, -7.5647, -7.5939, -7.6387, -7.5695, -7.6612, -7.7653, -7.7813, -7.7669, -7.8362, -7.9068, -7.9248, -7.9419, -7.9697, -7.9831, -7.9891, -8.0357, -8.0826, -8.0773, -5.7456, -7.0363, -6.4266, -6.4829, -6.7698, -6.5127, -7.0228, -6.7263, -7.4167, -6.5858, -7.0523, -5.9109, -6.323, -6.8482, -6.069, -6.9146, -6.1076, -7.152, -5.8506, -6.5291, -6.4775, -6.3541, -4.6882, -5.9436, -6.3268, -6.8042, -5.5803, -6.2005, -5.7147, -6.4675, -5.8718, -6.6504, -5.7438, -5.9798, -5.848, -6.1068, -6.391, -6.5459, -6.3484, -6.3688, -6.4238, -6.4503], \"loglift\": [30.0, 29.0, 28.0, 27.0, 26.0, 25.0, 24.0, 23.0, 22.0, 21.0, 20.0, 19.0, 18.0, 17.0, 16.0, 15.0, 14.0, 13.0, 12.0, 11.0, 10.0, 9.0, 8.0, 7.0, 6.0, 5.0, 4.0, 3.0, 2.0, 1.0, 0.8685, 0.8678, 0.8674, 0.867, 0.8667, 0.8661, 0.8657, 0.8656, 0.8652, 0.8649, 0.8648, 0.8646, 0.8638, 0.8635, 0.863, 0.8629, 0.8623, 0.8619, 0.8618, 0.8618, 0.8615, 0.8612, 0.8612, 0.8611, 0.8608, 0.8607, 0.8605, 0.8603, 0.8602, 0.8601, 0.8583, 0.8522, 0.8474, 0.8579, 0.8509, 0.846, 0.8494, 0.8486, 0.7883, 0.8226, 0.851, 0.8199, 0.8224, 0.817, 0.7719, 0.7228, 0.776, 0.6693, 0.7804, 0.7654, 0.8067, 0.7931, 0.7516, 0.6798, 0.7415, 0.7717, 0.7059, 0.6855, 0.7123, 0.7028, 0.5506, 0.6952, 0.6795, 0.7396, 0.6342, 0.6944, 0.5393, 0.6409, 0.5748, 0.453, 0.5728, 0.4208, 0.4197, 0.5411, 0.5468, 0.6098, 0.4903, 0.5302, 0.305, 0.3998, 0.282, 0.3565, 0.3417, 0.2378, 0.3801, 0.3003, 0.4018, 0.168, 0.0108, 0.171, 1.5262, 1.5262, 1.5256, 1.5254, 1.5253, 1.5253, 1.525, 1.5244, 1.5243, 1.5237, 1.5234, 1.5231, 1.5229, 1.5228, 1.5227, 1.5224, 1.5215, 1.5209, 1.5209, 1.5202, 1.5197, 1.5196, 1.5194, 1.5193, 1.5191, 1.519, 1.5187, 1.5177, 1.5175, 1.5172, 1.5126, 1.5151, 1.5075, 1.5128, 1.5127, 1.4835, 1.4918, 1.4935, 1.4729, 1.5015, 1.4535, 1.4712, 1.436, 1.3927, 1.4888, 1.3651, 1.0666, 1.0755, 1.3037, 1.0486, 1.2016, 1.2184, 0.9949, 1.1331, 0.8944, 0.8952, 0.7857, 0.9062, 1.1872, 0.7072, 0.7631, 1.0454, 0.8583, 1.1881, 0.707, 0.9895, 1.1555, 1.1638, 1.0204, 0.5978, 0.5012, 0.308, 0.6828, 0.8089, 0.1787, 0.2737, 0.5758, 0.2105, 0.62, -0.0174, -0.1747, 0.3497, -0.4156, 1.668, 1.667, 1.6668, 1.6666, 1.6661, 1.6659, 1.6657, 1.6655, 1.6655, 1.6652, 1.665, 1.6649, 1.6647, 1.6647, 1.6646, 1.6643, 1.6642, 1.6641, 1.664, 1.664, 1.6639, 1.6639, 1.6638, 1.6637, 1.6637, 1.6637, 1.6637, 1.6637, 1.6636, 1.6633, 1.6628, 1.6619, 1.6606, 1.6323, 1.6498, 1.6517, 1.6448, 1.5774, 1.5933, 1.6063, 1.4936, 1.3481, 1.5366, 1.5218, 1.3123, 1.2685, 1.36, 1.4527, 1.437, 1.4262, 1.2819, 1.2978, 1.2427, 1.1818, 1.2377, 1.3343, 0.9831, 1.1735, 1.0963, 0.9887, 0.5741, 0.3866, 0.4888, 1.0894, 0.3106, 0.3042, -0.3402, -0.2046, 1.7352, 1.7349, 1.7338, 1.7336, 1.7335, 1.7325, 1.7323, 1.7319, 1.7313, 1.731, 1.731, 1.7306, 1.7305, 1.7303, 1.7301, 1.73, 1.7299, 1.729, 1.7289, 1.7288, 1.7278, 1.7276, 1.7276, 1.7271, 1.7271, 1.7269, 1.7269, 1.7263, 1.7258, 1.7256, 1.7218, 1.7246, 1.718, 1.7058, 1.7081, 1.6943, 1.7075, 1.6957, 1.7135, 1.6839, 1.7013, 1.6499, 1.6662, 1.6899, 1.6177, 1.6784, 1.6167, 1.6948, 1.5785, 1.6142, 1.5773, 1.5507, 1.269, 1.3745, 1.4463, 1.5223, 0.8281, 1.0893, 0.7287, 1.2553, 0.7445, 1.3611, 0.2385, 0.433, -0.2558, -0.1777, 0.5415, 0.9035, -0.0811, -0.6495, -0.4059, -0.1311]}, \"token.table\": {\"Topic\": [1, 2, 3, 4, 1, 2, 3, 4, 4, 1, 2, 3, 4, 1, 2, 3, 4, 3, 3, 1, 2, 3, 4, 1, 1, 2, 3, 1, 1, 2, 4, 2, 1, 2, 4, 1, 2, 3, 4, 2, 1, 1, 2, 3, 4, 1, 2, 3, 4, 1, 4, 1, 1, 2, 3, 4, 3, 4, 2, 4, 2, 3, 4, 4, 3, 2, 1, 2, 3, 1, 1, 2, 3, 4, 2, 4, 1, 2, 3, 4, 1, 2, 3, 4, 4, 1, 2, 3, 4, 1, 4, 2, 2, 3, 4, 3, 1, 3, 1, 2, 3, 4, 1, 2, 3, 4, 2, 4, 1, 2, 3, 4, 1, 2, 3, 4, 1, 2, 3, 4, 4, 1, 2, 3, 4, 2, 1, 2, 3, 4, 1, 2, 3, 4, 1, 2, 3, 4, 1, 2, 3, 4, 2, 3, 1, 2, 3, 4, 1, 1, 3, 1, 2, 4, 2, 1, 2, 3, 4, 2, 3, 4, 1, 2, 3, 4, 1, 2, 3, 4, 1, 2, 3, 4, 1, 2, 4, 1, 2, 3, 4, 4, 1, 4, 1, 1, 4, 1, 4, 1, 1, 2, 2, 1, 3, 1, 2, 3, 4, 1, 3, 4, 1, 2, 3, 4, 1, 2, 3, 4, 1, 2, 4, 1, 2, 3, 4, 1, 4, 4, 1, 4, 3, 1, 2, 3, 4, 1, 2, 3, 4, 1, 2, 3, 4, 1, 2, 3, 4, 1, 2, 3, 4, 3, 1, 4, 2, 4, 1, 2, 3, 4, 4, 1, 2, 3, 4, 1, 4, 1, 2, 4, 1, 2, 3, 2, 1, 3, 4, 1, 2, 3, 4, 2, 1, 1, 2, 3, 4, 4, 4, 1, 2, 3, 4, 4, 1, 2, 3, 4, 1, 2, 3, 4, 3, 1, 2, 1, 2, 3, 4, 2, 1, 2, 3, 4, 2, 1, 2, 3, 1, 2, 3, 1, 3, 3, 1, 2, 2, 1, 2, 3, 1, 2, 4, 3, 1, 2, 3, 4, 1, 2, 3, 4, 4, 1, 2, 3, 4, 1, 2, 3, 1, 2, 3, 4, 1, 2, 3, 4, 1, 2, 3, 4, 1, 2, 3, 4, 2, 4, 1, 2, 1, 1, 2, 3, 4, 1, 2, 3, 4, 1, 2, 3, 4, 1, 2, 4, 1, 2, 3, 4, 1, 4, 3, 4, 1, 3, 4, 2, 4, 1, 2, 3, 4, 1, 2, 3, 4, 1, 2, 4, 1, 2, 3, 4, 1, 2, 3, 4, 4, 1, 2, 1, 2, 3, 4, 1, 2, 3, 4, 1, 2, 3, 4, 1, 2, 3, 4, 1, 1, 2, 3, 4, 1, 2, 3, 4, 1, 3, 4, 1, 2, 3, 4, 3, 1, 2, 3, 4, 1, 2, 3, 4, 3, 1, 2, 3, 4, 3, 2, 4, 1, 2, 3, 4, 2, 1, 2, 4, 1, 2, 3, 4, 1, 2, 3, 4, 1, 3, 4, 4, 1, 4, 1, 2, 4, 3, 1, 3, 4, 1, 2, 3, 4, 2, 3, 1, 1, 2, 4, 1, 2, 3, 4, 1, 2, 4, 1, 2, 3, 4, 1, 2, 3, 4, 1, 2, 3, 4, 3, 1, 2, 3, 4, 1, 2, 3, 4, 2, 2, 3, 2, 1, 2, 3, 4, 2, 2, 1, 2, 3, 4, 1, 2, 3, 4, 1, 2, 3, 4, 4, 1, 2, 3, 4, 4, 1, 2, 3, 4, 1, 2, 3, 4, 3, 1, 2, 3, 4, 4, 4, 1, 1, 2, 4, 1, 2, 3, 4, 1, 1, 2, 3, 4, 1, 2, 3, 4, 1, 2, 3, 4, 1, 2, 3, 4, 1, 2, 3, 3, 1, 1, 2, 3, 4, 1, 2, 3, 4, 1, 2, 3, 4, 4, 2, 4, 1, 3, 1, 2, 3, 4, 1, 3, 4, 4, 2, 4, 2, 4, 1, 4, 1, 2, 3, 1, 2, 3, 4, 2, 4, 1, 2, 3, 4, 1, 2, 3, 4, 2, 3, 1, 4, 4, 1, 2, 3, 4, 1, 2, 3, 2, 3, 2, 1, 4, 4, 1, 2, 4, 2, 3, 1, 2, 3, 4, 1, 2, 3, 4, 2, 3, 4, 3, 4, 3, 1, 2, 4, 1, 2, 3, 4, 1, 2, 3, 4, 1, 2, 3, 4, 3, 1, 2, 3, 4, 1, 2, 3, 4, 3, 4, 1, 2, 4, 3, 1, 2, 4, 1, 2, 1, 2, 4, 4], \"Freq\": [0.29880485790243505, 0.5864530409156558, 0.02279842259969878, 0.0916787632200653, 0.25100701074078285, 0.6355450521564595, 0.07714256024326711, 0.036417553820425594, 0.9915278763805758, 0.27733792189955464, 0.5114318850829626, 0.09110060636201588, 0.11992991217278039, 0.39197353423473824, 0.42921712549380214, 0.09402480416222693, 0.08486654401655547, 0.9969091460553944, 0.9962373263909386, 0.36913975278530636, 0.5303463536852187, 0.05879757665673129, 0.04166450796205462, 0.9934700314204732, 0.02691088041026611, 0.008970293470088705, 0.9636658127866722, 0.9953314782463002, 0.9007243827181524, 0.04746900567684598, 0.05102918110260942, 0.9917332354437962, 0.35093040151360605, 0.12583161807260776, 0.52290027954617, 0.5741614445772093, 0.403149243979452, 0.010988735781381997, 0.011675531767718371, 0.9811067835518288, 0.9931570124386242, 0.22366674953190827, 0.0347245181921684, 0.6495527520652679, 0.09191784227338695, 0.5552627171261385, 0.43969160385888273, 0.003186171042455672, 0.0017379114777030938, 0.9982308372769055, 0.0019845543484630327, 0.9931932038647932, 0.10660073246065346, 0.028217840945467094, 0.8622118066670501, 0.0031353156606074547, 0.9888779804575385, 0.005177371625432138, 0.9419755774382321, 0.05107096504183186, 0.006087135687489373, 0.006087135687489373, 0.9861159813732784, 0.9950440216554739, 0.9957166037838893, 0.9922160523485117, 0.9940634123519152, 0.0076466416334762715, 0.9973201301529285, 0.9963245677987321, 0.30605090180243727, 0.673311983965362, 0.005465194675043522, 0.015302545090121864, 0.9682271997534131, 0.03184957893925701, 0.01646236141451283, 0.006584944565805131, 0.9745717957391594, 0.0032924722829025654, 0.6026192029958656, 0.11226400210251164, 0.013960290416892639, 0.27106230559466543, 0.9933273925684877, 0.9488758511057758, 0.028058156887536382, 0.00255074153523058, 0.02295667381707522, 0.017613960004727553, 0.9775747802623791, 0.9979693847810084, 0.03848372474016272, 0.0034985204309238836, 0.9585945980731441, 0.9965503898598519, 0.9882633221299065, 0.009665166964595663, 0.7264958588797884, 0.13562620824455368, 0.13409081720782287, 0.003838477591826991, 0.7949627354546918, 0.17144747582823625, 0.019220569039039938, 0.014607632469670352, 0.994796396504681, 0.9953838199238952, 0.8463901126249607, 0.13526782621860103, 0.000966198758704293, 0.017391577656677273, 0.04097589675126546, 0.003725081522842314, 0.007450163045684628, 0.9461707068019478, 0.8796754744457875, 0.11565454444904776, 0.0035046831651226592, 0.001168227721707553, 0.996101313015388, 0.24596578670863825, 0.7335567874192918, 0.013021718119869083, 0.007234287844371713, 0.9870136958733133, 0.8632156894572472, 0.07169445834807688, 0.004683557580527635, 0.06052597488681867, 0.08195999474862395, 0.04499764417571511, 0.019284704646735047, 0.8533481806180259, 0.20587272637048318, 0.06534312373101807, 0.7252667867965242, 0.0035603625109849584, 0.8777294429834888, 0.013343859775086822, 0.07561520539215866, 0.03410097498077743, 0.998106323401019, 0.9974201888701741, 0.5016179597192273, 0.486594460093693, 0.004173194340426184, 0.007511749812767131, 0.9965149799965974, 0.9965857462420781, 0.9966578331553332, 0.9061994945494807, 0.020872157264095526, 0.07218287720499703, 0.9970997780721107, 0.5654973396588129, 0.21318818626084146, 0.1042427528407791, 0.11717512443380808, 0.9857729602070203, 0.008498042760405347, 0.008498042760405347, 0.9951809573257445, 0.9977908057940899, 0.9805441938244686, 0.01596977514372099, 0.1853089296490977, 0.00788548636804671, 0.003942743184023355, 0.8043196095407644, 0.9542155469304375, 0.025839492566781672, 0.007382712161937621, 0.014765424323875242, 0.9779421646824228, 0.006189507371407739, 0.014442183866618058, 0.1292075670390623, 0.1224071687738485, 0.0022667994217379353, 0.7480438091735185, 0.9900286636029173, 0.9959783238298584, 0.004220247134872282, 0.9938121806952975, 0.9914752916466953, 0.0078068920602102, 0.9961715434360342, 0.9939507150850294, 0.9904044835818896, 0.995870940712379, 0.9971806566179707, 0.9931243372757523, 0.0029207456146156316, 0.9959742545839303, 0.14746322310015375, 0.03898453024486823, 0.7932504415042754, 0.020339754910366034, 0.005588349665774205, 0.9947262405078084, 0.0027941748328871026, 0.1051595940488029, 0.018027358979794784, 0.02403647863972638, 0.8502904318803206, 0.3413183541641766, 0.09751952976119331, 0.5595763493439901, 0.0023218935657426977, 0.01060297802158504, 0.9807754669966161, 0.00530148901079252, 0.2807254919594199, 0.6949667666800273, 0.0017117408046306093, 0.02225263046019792, 0.08250190835943562, 0.9166878706603958, 0.9946320932782199, 0.03980109070076339, 0.9552261768183213, 0.9936335598124918, 0.8539405600659806, 0.019454281344428816, 0.062458482211060935, 0.06348239175550456, 0.18380629859784903, 0.06331105840592578, 0.7342040482880747, 0.018380629859784905, 0.8180294474633858, 0.14310355346710196, 0.0025226587950931438, 0.03623455360224697, 0.21008041277547287, 0.7211532298198982, 0.06142702127937803, 0.0073712425535253645, 0.43858240787028935, 0.04392687653160957, 0.5065317950051229, 0.011668076578708794, 0.9986922376342966, 0.05661122760162323, 0.94180496828155, 0.9845881463017384, 0.008790965591979807, 0.6589838862999022, 0.1820270175443786, 0.022785379130027702, 0.1362002437884802, 0.9836711748606184, 0.8393111428480744, 0.1000070069986013, 0.059817275214116665, 0.0009346449252205729, 0.9982641160775747, 0.0009561916820666424, 0.9774850739856406, 0.003163382116458384, 0.018980292698750303, 0.9066006972129417, 0.09165999696086727, 0.0016665453992884957, 0.9966514434815127, 0.02923012949153238, 0.01948675299435492, 0.9548508967233911, 0.8268482043159832, 0.06904435107322873, 0.012630064220712573, 0.09177846667051137, 0.9934002684043554, 0.9938838683989399, 0.7426874790537583, 0.05861824547320851, 0.13203332960955702, 0.06658577398413006, 0.993243007736532, 0.993376917805896, 0.2563188635761414, 0.11654210200008731, 0.0018440206012672045, 0.6258605920700892, 0.9915777259503709, 0.12097976501539599, 0.021507513780514843, 0.8387930374400789, 0.01881907455795049, 0.5312680104152855, 0.1270909278333096, 0.33434690245378373, 0.007262338733331978, 0.9970662020724085, 0.02656917981194352, 0.9742032597712624, 0.9544329123624673, 0.005614311249190984, 0.01403577812297746, 0.02526440062135943, 0.9915667967140049, 0.7196067915448815, 0.16073691220074673, 0.11177397586882697, 0.007418626716957541, 0.9956812134175609, 0.05204400922492779, 0.009462547131805053, 0.9391578028316514, 0.17512563115808347, 0.1250897365414882, 0.6998263638942718, 0.07305719502070494, 0.9259574717740511, 0.9982974800637489, 0.9924602672445803, 0.9910949471083306, 0.9970417243327228, 0.0075603993688623085, 0.9601707198455132, 0.030241597475449234, 0.0047035902613835005, 0.9877539548905351, 0.009407180522767001, 0.9916938158342654, 0.7707855700680504, 0.1026317742753654, 0.03351241608991523, 0.09215914424726689, 0.009841316931372489, 0.7991149348274461, 0.10431795947254838, 0.0866035889960779, 0.9928838872863507, 0.9504070387158864, 0.010530825913749433, 0.036857890698123015, 0.002632706478437358, 0.3479902999319714, 0.5836294458859064, 0.06760954398678301, 0.6260664834581573, 0.1749968965810753, 0.03670911911039798, 0.16242528044737736, 0.8483924475402201, 0.07450951635083769, 0.004233495247206687, 0.07281611825195503, 0.7183930651446296, 0.26748299054219976, 0.008191889191039406, 0.005698705524201326, 0.38140309003257994, 0.0016764970990443074, 0.5641412738284094, 0.053647907169417836, 0.9824874218488653, 0.014707895536659661, 0.07041819183071071, 0.9286399047674976, 0.9956218491887485, 0.43139612494405394, 0.5308885767315158, 0.03303306699662765, 0.005112260368525708, 0.7896285415841419, 0.14405840400597303, 0.05318043886201808, 0.012790232131371437, 0.5896051960177227, 0.28520275023474206, 0.10507469745490498, 0.02024695166905146, 0.20716133135544895, 0.1064579063909946, 0.6847832897582896, 0.33588652668498276, 0.042932864313118095, 0.614529234285808, 0.007576387819962016, 0.9882178144431926, 0.008593198386462544, 0.9932424683584842, 0.988592920941505, 0.003286919513519626, 0.016434597567598127, 0.9795020150288485, 0.06753552534110967, 0.9314274536628042, 0.1111988255558514, 0.038790287984599325, 0.020688153591786305, 0.8301121628704256, 0.525453700878703, 0.38591934490373647, 0.06788157858241618, 0.021370126590760652, 0.011809028834418414, 0.01771354325162762, 0.96834036442231, 0.5119561437855288, 0.30739724790615813, 0.1682301302177338, 0.012295889916246324, 0.6381024242040719, 0.2949845593560333, 0.030654730872003457, 0.036301654980004094, 0.9967034984774303, 0.035198086077292905, 0.965433218120034, 0.3301730401666254, 0.6186400121016771, 0.007723345968809952, 0.043636904723776224, 0.7238019322310527, 0.06764979408765286, 0.11139326996387951, 0.09664256298236122, 0.5984841156255574, 0.11654124480425773, 0.1376979630917999, 0.14737985112169208, 0.2487795864520726, 0.07204042078727971, 0.6531664818046694, 0.026895090427251092, 0.9952031134424152, 0.259384147561572, 0.688365622374941, 0.05154428573338931, 0.0016627188946254615, 0.3241700027076453, 0.5368035468565584, 0.12856911971794743, 0.01098881365110662, 0.980404932632422, 0.011400057356190953, 0.005700028678095477, 0.6838283037171267, 0.18737420870097965, 0.07486212543894281, 0.05341040528392411, 0.9988266221161185, 0.0525700562520953, 0.0706976618562661, 0.8755633506814494, 0.0018127605604170793, 0.5457770130852253, 0.06597304553777449, 0.023990198377372537, 0.3646510153360626, 0.9985228794093474, 0.42359501197436084, 0.4756358542141759, 0.00901265982924172, 0.09187098406581881, 0.9957938000196004, 0.9954746327173568, 0.0033182487757245226, 0.981796201557419, 0.009720754470865534, 0.0013886792101236477, 0.005554716840494591, 0.9952577191722272, 0.004337895862252695, 0.03470316689802156, 0.9586749855578457, 0.6248876556572763, 0.3579375731250467, 0.0008016518994961852, 0.0164338639396718, 0.10744979214651712, 0.011938865794057457, 0.7845540378952044, 0.09721647860875358, 0.024173258295142438, 0.0060433145737856095, 0.9669303318056975, 0.992129702770363, 0.9806837755353802, 0.016835772970564468, 0.03610982313858945, 0.08206777986043057, 0.8830493112982329, 0.992446520047164, 0.005009923395440661, 0.010019846790881321, 0.9836149599715164, 0.6374177188916916, 0.2591040428628909, 0.05797180790944933, 0.045452074745906276, 0.9970618849137227, 0.9942662732450882, 0.9944773897283703, 0.05181861516775425, 0.06261415999436973, 0.8852346757824685, 0.40351937908579627, 0.06618171634490566, 0.30708316384036227, 0.22312692939139625, 0.007098180243977965, 0.9121161613511686, 0.0816290728057466, 0.9260658336434793, 0.017070337947345242, 0.0021337922434181552, 0.05547859832887203, 0.46890536264670746, 0.19505429685854772, 0.25705831175398014, 0.07922735236638584, 0.8384655283162435, 0.015760630231508338, 0.12923716789836837, 0.015760630231508338, 0.9971189760683219, 0.4956534366439587, 0.4651902825479815, 0.03870612520430046, 0.0007167800963759344, 0.1666929259638191, 0.026319935678497754, 0.8053900317620313, 0.0017546623785665168, 0.9852085715870968, 0.006901775150453846, 0.9938556216653538, 0.9882106487503916, 0.4985800362666193, 0.013120527270174192, 0.05248210908069677, 0.4346174658245201, 0.994701945931527, 0.9992641471589014, 0.6249890978132965, 0.030320284870441614, 0.04205716933641901, 0.30222477499891803, 0.7120401884621083, 0.2796356790619564, 0.006343342436188047, 0.002114447478729349, 0.3727012343878598, 0.6169186221841153, 0.007846341776586522, 0.0029423781662199456, 0.9907865162225884, 0.8880334994029875, 0.07947381512166814, 0.00806256095437213, 0.02418768286311639, 0.9971907404785156, 0.09270950328942075, 0.6300462162321859, 0.27731763957710115, 0.0002702900970537048, 0.2584708383262998, 0.7107948053973245, 0.0016568643482455117, 0.026509829571928187, 0.992912242017993, 0.27656827069644435, 0.11341288798343402, 0.6088481354900143, 0.0019896997891830533, 0.996092130736174, 0.9944015134510941, 0.9924670146180345, 0.3607394394547178, 0.26877227010756644, 0.37000744876877184, 0.9096701793048891, 0.02445976154340931, 0.0023295010993723154, 0.06173177913336635, 0.9922263154904841, 0.22967844825882539, 0.10064561215836168, 0.6699384850336075, 0.0005161313444018548, 0.49709153694811825, 0.4396018200662924, 0.06181225198572253, 0.0017290140415586722, 0.6127442895266508, 0.11415633670857339, 0.25538532243894285, 0.018048432681197372, 0.012091578510960231, 0.947173650025218, 0.04030526170320077, 0.004030526170320077, 0.2388148947455869, 0.08283219322256842, 0.6787936873174114, 0.9950273529881114, 0.9920250522250488, 0.8266462267279129, 0.045207215524182734, 0.051665389170494555, 0.07663699393623359, 0.1510245377113899, 0.0589714861539713, 0.09349138048800328, 0.6947128734723935, 0.9216328540050064, 0.029236087513753978, 0.039445514899509336, 0.00974536250458466, 0.9945780320907741, 0.9959418594626943, 0.9969208631773128, 0.005151520512359244, 0.994243458885334, 0.05735869894773143, 0.01683353121292118, 0.912128006092729, 0.014339674736932857, 0.9825360511614213, 0.012031053687690873, 0.004010351229230291, 0.9940426542836291, 0.8481035755952946, 0.14996953470892405, 0.030914714784443884, 0.9686610632459084, 0.9882316990982227, 0.00705879785070159, 0.9866674751301644, 0.007648585078528406, 0.9966579153602286, 0.2964459631641482, 0.0035151695236855514, 0.69014494981693, 0.010545508571056655, 0.9959474049050385, 0.005133749509819786, 0.2760957614815199, 0.007502602214171736, 0.7157482512319835, 0.001500520442834347, 0.5684215813895992, 0.2129706188847575, 0.15357881249154343, 0.06509102013801743, 0.9564601597831768, 0.04240463762585513, 0.003650207244308018, 0.9965065776960891, 0.9962797590605573, 0.1671731369107467, 0.6015700002470051, 0.08865242108903235, 0.1431103369008665, 0.19025944083098092, 0.7106271422490484, 0.09919509308281911, 0.9915316247749144, 0.9985918578345041, 0.9973499459128506, 0.9967946892777767, 0.9979596971004501, 0.9909914033777535, 0.002079314558208031, 0.11228298614323368, 0.8857880017966212, 0.9875414643719039, 0.9964917628549207, 0.7441759844085513, 0.0884536579332584, 0.013241565558871017, 0.15413182310525866, 0.8313031161634735, 0.10768530465153905, 0.04046772595185226, 0.020576809806026573, 0.008721730539455342, 0.981194685688726, 0.004360865269727671, 0.027521190487346303, 0.9724153972195694, 0.993241945289862, 0.9137928574542457, 0.06580505029130411, 0.020937970547233124, 0.1034204029757921, 0.8729898721780097, 0.021292435906780725, 0.003041776558111532, 0.2671079675924607, 0.18692350948478245, 0.5034959155202914, 0.042174942251441166, 0.30826381975937694, 0.07329349560712459, 0.00215569104726837, 0.6165276395187539, 0.9951886832570376, 0.5397743553977341, 0.3941287681618824, 0.03690344271178674, 0.02903070826660557, 0.3642635097205082, 0.21427265277676952, 0.01911080416657674, 0.40248511805366166, 0.9982981343799291, 0.9893597795695105, 0.938570460688975, 0.05298381632921633, 0.007569116618459475, 0.995926587497478, 0.9781048796517549, 0.014244245820171187, 0.004748081940057062, 0.9860957026890486, 0.006944335934429919, 0.9923311639682055, 0.9979451678514373, 0.9891464446386382, 0.9980859080368728], \"Term\": [\"00\", \"00\", \"00\", \"00\", \"000\", \"000\", \"000\", \"000\", \"000000\", \"10\", \"10\", \"10\", \"10\", \"100\", \"100\", \"100\", \"100\", \"1933\", \"1934\", \"20\", \"20\", \"20\", \"20\", \"334\", \"3d\", \"3d\", \"3d\", \"468\", \"95\", \"95\", \"95\", \"971\", \"99\", \"99\", \"99\", \"account\", \"account\", \"account\", \"account\", \"accurately\", \"acrobat\", \"act\", \"act\", \"act\", \"act\", \"address\", \"address\", \"address\", \"address\", \"adobe\", \"adobe\", \"advertiser\", \"advice\", \"advice\", \"advice\", \"advice\", \"advisor\", \"advisor\", \"aging\", \"aging\", \"align\", \"align\", \"align\", \"andmanyother\", \"anticipates\", \"aphrodisia\", \"apologize\", \"apologize\", \"assumption\", \"atoll\", \"bank\", \"bank\", \"bank\", \"bank\", \"batch\", \"batch\", \"belief\", \"belief\", \"belief\", \"belief\", \"best\", \"best\", \"best\", \"best\", \"bgcolor\", \"book\", \"book\", \"book\", \"book\", \"border\", \"border\", \"botanical\", \"br\", \"br\", \"br\", \"bra\", \"broadcast\", \"broadcast\", \"business\", \"business\", \"business\", \"business\", \"call\", \"call\", \"call\", \"call\", \"capillaris\", \"capitalfm\", \"card\", \"card\", \"card\", \"card\", \"cartridge\", \"cartridge\", \"cartridge\", \"cartridge\", \"cd\", \"cd\", \"cd\", \"cd\", \"cialis\", \"claim\", \"claim\", \"claim\", \"claim\", \"claimed\", \"click\", \"click\", \"click\", \"click\", \"color\", \"color\", \"color\", \"color\", \"company\", \"company\", \"company\", \"company\", \"complete\", \"complete\", \"complete\", \"complete\", \"computron\", \"construed\", \"contact\", \"contact\", \"contact\", \"contact\", \"corei\", \"corel\", \"couid\", \"credit\", \"credit\", \"credit\", \"dagga\", \"day\", \"day\", \"day\", \"day\", \"del\", \"del\", \"del\", \"dieser\", \"dieting\", \"differ\", \"differ\", \"doctor\", \"doctor\", \"doctor\", \"doctor\", \"dont\", \"dont\", \"dont\", \"dont\", \"download\", \"download\", \"download\", \"drug\", \"drug\", \"drug\", \"drug\", \"dysfunction\", \"ebay\", \"ebay\", \"ebook\", \"edition\", \"edition\", \"einer\", \"ejaculation\", \"employment\", \"enenkio\", \"equivalence\", \"este\", \"estimate\", \"estimate\", \"event\", \"event\", \"event\", \"event\", \"expectation\", \"expectation\", \"expectation\", \"face\", \"face\", \"face\", \"face\", \"fact\", \"fact\", \"fact\", \"fact\", \"floodgate\", \"floodgate\", \"floodgate\", \"follow\", \"follow\", \"follow\", \"follow\", \"font\", \"font\", \"fontfont\", \"fontsize\", \"fontsize\", \"foresee\", \"form\", \"form\", \"form\", \"form\", \"forward\", \"forward\", \"forward\", \"forward\", \"free\", \"free\", \"free\", \"free\", \"fund\", \"fund\", \"fund\", \"fund\", \"future\", \"future\", \"future\", \"future\", \"gas\", \"generic\", \"generic\", \"gentle\", \"gentle\", \"get\", \"get\", \"get\", \"get\", \"gif\", \"government\", \"government\", \"government\", \"government\", \"grant\", \"grant\", \"graphic\", \"graphic\", \"graphic\", \"guide\", \"guide\", \"guide\", \"hei\", \"height\", \"height\", \"height\", \"help\", \"help\", \"help\", \"help\", \"herba\", \"hermios\", \"home\", \"home\", \"home\", \"home\", \"hotlist\", \"href\", \"http\", \"http\", \"http\", \"http\", \"impotence\", \"inc\", \"inc\", \"inc\", \"inc\", \"information\", \"information\", \"information\", \"information\", \"inherent\", \"instructed\", \"instructed\", \"insurance\", \"insurance\", \"insurance\", \"insurance\", \"intel\", \"internet\", \"internet\", \"internet\", \"internet\", \"intro\", \"investing\", \"investing\", \"investing\", \"investment\", \"investment\", \"investment\", \"investor\", \"investor\", \"involve\", \"irs\", \"jiggetbar\", \"jody\", \"jul\", \"jul\", \"jul\", \"kin\", \"kin\", \"kin\", \"kno\", \"know\", \"know\", \"know\", \"know\", \"la\", \"la\", \"la\", \"la\", \"laserjet\", \"lead\", \"lead\", \"lead\", \"lead\", \"letter\", \"letter\", \"letter\", \"like\", \"like\", \"like\", \"like\", \"link\", \"link\", \"link\", \"link\", \"list\", \"list\", \"list\", \"list\", \"looking\", \"looking\", \"looking\", \"looking\", \"lottery\", \"lottery\", \"lucky\", \"lucky\", \"macromedia\", \"mail\", \"mail\", \"mail\", \"mail\", \"mailing\", \"mailing\", \"mailing\", \"mailing\", \"make\", \"make\", \"make\", \"make\", \"man\", \"man\", \"man\", \"market\", \"market\", \"market\", \"market\", \"marshall\", \"marshall\", \"materially\", \"maxaman\", \"med\", \"med\", \"med\", \"medication\", \"medication\", \"men\", \"men\", \"men\", \"men\", \"message\", \"message\", \"message\", \"message\", \"mg\", \"mg\", \"mg\", \"million\", \"million\", \"million\", \"million\", \"money\", \"money\", \"money\", \"money\", \"moopid\", \"multilevel\", \"multilevel\", \"name\", \"name\", \"name\", \"name\", \"need\", \"need\", \"need\", \"need\", \"new\", \"new\", \"new\", \"new\", \"news\", \"news\", \"news\", \"news\", \"norton\", \"note\", \"note\", \"note\", \"note\", \"number\", \"number\", \"number\", \"number\", \"oem\", \"oem\", \"oem\", \"offer\", \"offer\", \"offer\", \"offer\", \"oi\", \"oil\", \"oil\", \"oil\", \"oil\", \"online\", \"online\", \"online\", \"online\", \"ooking\", \"order\", \"order\", \"order\", \"order\", \"otc\", \"oz\", \"oz\", \"page\", \"page\", \"page\", \"page\", \"para\", \"penis\", \"penis\", \"penis\", \"people\", \"people\", \"people\", \"people\", \"performance\", \"performance\", \"performance\", \"performance\", \"pharmacy\", \"pharmacy\", \"pharmacy\", \"phentermine\", \"photoshop\", \"photoshop\", \"php\", \"php\", \"php\", \"piease\", \"pill\", \"pill\", \"pill\", \"please\", \"please\", \"please\", \"please\", \"por\", \"prediction\", \"premiere\", \"prescription\", \"prescription\", \"prescription\", \"price\", \"price\", \"price\", \"price\", \"prize\", \"prize\", \"prize\", \"pro\", \"pro\", \"pro\", \"pro\", \"product\", \"product\", \"product\", \"product\", \"professional\", \"professional\", \"professional\", \"professional\", \"profiled\", \"program\", \"program\", \"program\", \"program\", \"project\", \"project\", \"project\", \"project\", \"projecthoneypot\", \"projection\", \"projection\", \"prosaka\", \"quality\", \"quality\", \"quality\", \"quality\", \"que\", \"ragga\", \"rate\", \"rate\", \"rate\", \"rate\", \"receive\", \"receive\", \"receive\", \"receive\", \"received\", \"received\", \"received\", \"received\", \"regalis\", \"removed\", \"removed\", \"removed\", \"removed\", \"replica\", \"report\", \"report\", \"report\", \"report\", \"response\", \"response\", \"response\", \"response\", \"resuits\", \"risk\", \"risk\", \"risk\", \"risk\", \"rolex\", \"rx\", \"saave\", \"save\", \"save\", \"save\", \"search\", \"search\", \"search\", \"search\", \"searcher\", \"security\", \"security\", \"security\", \"security\", \"send\", \"send\", \"send\", \"send\", \"service\", \"service\", \"service\", \"service\", \"seventh\", \"seventh\", \"seventh\", \"seventh\", \"share\", \"share\", \"share\", \"shareholder\", \"sie\", \"site\", \"site\", \"site\", \"site\", \"size\", \"size\", \"size\", \"size\", \"software\", \"software\", \"software\", \"software\", \"spur\", \"squirrelmail\", \"src\", \"statement\", \"statement\", \"stock\", \"stock\", \"stock\", \"stock\", \"studio\", \"studio\", \"studio\", \"stylus\", \"tablet\", \"tablet\", \"td\", \"td\", \"teach\", \"teach\", \"technique\", \"technique\", \"technoiogy\", \"technology\", \"technology\", \"technology\", \"technology\", \"temple\", \"temple\", \"term\", \"term\", \"term\", \"term\", \"time\", \"time\", \"time\", \"time\", \"tm\", \"tm\", \"toner\", \"toner\", \"tongue\", \"total\", \"total\", \"total\", \"total\", \"transaction\", \"transaction\", \"transaction\", \"una\", \"uncertainty\", \"unclaimed\", \"und\", \"utf\", \"verdana\", \"viagra\", \"viagra\", \"viagra\", \"vjestika\", \"voip\", \"want\", \"want\", \"want\", \"want\", \"web\", \"web\", \"web\", \"web\", \"wi\", \"wi\", \"wi\", \"width\", \"width\", \"wil\", \"window\", \"window\", \"window\", \"winning\", \"winning\", \"winning\", \"winning\", \"within\", \"within\", \"within\", \"within\", \"woman\", \"woman\", \"woman\", \"woman\", \"wor\", \"work\", \"work\", \"work\", \"work\", \"www\", \"www\", \"www\", \"www\", \"wysak\", \"xanax\", \"xp\", \"xp\", \"xp\", \"yap\", \"youll\", \"youll\", \"youll\", \"youre\", \"youre\", \"youve\", \"\\u00e2\\u01533\\u00e2\", \"\\u00ef\\u00bdm\\u00ef\\u00bd\\u00ef\\u00bd\\u00ef\\u00bdo\\u00ef\\u00bd\\u00ef\\u00bd\", \"\\u00ef\\u00bd\\u00ef\\u00bd\\u00ef\\u00bdn\"]}, \"R\": 30, \"lambda.step\": 0.01, \"plot.opts\": {\"xlab\": \"PC1\", \"ylab\": \"PC2\"}, \"topic.order\": [1, 2, 4, 3]};\n",
       "\n",
       "function LDAvis_load_lib(url, callback){\n",
       "  var s = document.createElement('script');\n",
       "  s.src = url;\n",
       "  s.async = true;\n",
       "  s.onreadystatechange = s.onload = callback;\n",
       "  s.onerror = function(){console.warn(\"failed to load library \" + url);};\n",
       "  document.getElementsByTagName(\"head\")[0].appendChild(s);\n",
       "}\n",
       "\n",
       "if(typeof(LDAvis) !== \"undefined\"){\n",
       "   // already loaded: just create the visualization\n",
       "   !function(LDAvis){\n",
       "       new LDAvis(\"#\" + \"ldavis_el814020074561050726601227607\", ldavis_el814020074561050726601227607_data);\n",
       "   }(LDAvis);\n",
       "}else if(typeof define === \"function\" && define.amd){\n",
       "   // require.js is available: use it to load d3/LDAvis\n",
       "   require.config({paths: {d3: \"https://d3js.org/d3.v5\"}});\n",
       "   require([\"d3\"], function(d3){\n",
       "      window.d3 = d3;\n",
       "      LDAvis_load_lib(\"https://cdn.jsdelivr.net/gh/bmabey/pyLDAvis@3.4.0/pyLDAvis/js/ldavis.v3.0.0.js\", function(){\n",
       "        new LDAvis(\"#\" + \"ldavis_el814020074561050726601227607\", ldavis_el814020074561050726601227607_data);\n",
       "      });\n",
       "    });\n",
       "}else{\n",
       "    // require.js not available: dynamically load d3 & LDAvis\n",
       "    LDAvis_load_lib(\"https://d3js.org/d3.v5.js\", function(){\n",
       "         LDAvis_load_lib(\"https://cdn.jsdelivr.net/gh/bmabey/pyLDAvis@3.4.0/pyLDAvis/js/ldavis.v3.0.0.js\", function(){\n",
       "                 new LDAvis(\"#\" + \"ldavis_el814020074561050726601227607\", ldavis_el814020074561050726601227607_data);\n",
       "            })\n",
       "         });\n",
       "}\n",
       "</script>"
      ],
      "text/plain": [
       "PreparedData(topic_coordinates=              x         y  topics  cluster       Freq\n",
       "topic                                                \n",
       "0     -0.026426 -0.093100       1        1  41.892446\n",
       "1     -0.023508 -0.154673       2        1  21.680637\n",
       "3     -0.172756  0.154947       3        1  18.837132\n",
       "2      0.222690  0.092827       4        1  17.589785, topic_info=           Term         Freq        Total Category  logprob  loglift\n",
       "208     company  4774.000000  4774.000000  Default  30.0000  30.0000\n",
       "512   statement  1941.000000  1941.000000  Default  29.0000  29.0000\n",
       "469      report  3699.000000  3699.000000  Default  28.0000  28.0000\n",
       "599        http  2711.000000  2711.000000  Default  27.0000  27.0000\n",
       "515       stock  1603.000000  1603.000000  Default  26.0000  26.0000\n",
       "...         ...          ...          ...      ...      ...      ...\n",
       "920     quality   264.719023   609.731593   Topic4  -6.5459   0.9035\n",
       "349        like   322.534971  1988.606694   Topic4  -6.3484  -0.0811\n",
       "74        order   316.019225  3439.606130   Topic4  -6.3688  -0.6495\n",
       "1076        day   299.094578  2551.736142   Topic4  -6.4238  -0.4059\n",
       "567        want   291.286980  1887.994277   Topic4  -6.4503  -0.1311\n",
       "\n",
       "[343 rows x 6 columns], token_table=       Topic      Freq            Term\n",
       "term                                  \n",
       "97         1  0.298805              00\n",
       "97         2  0.586453              00\n",
       "97         3  0.022798              00\n",
       "97         4  0.091679              00\n",
       "581        1  0.251007             000\n",
       "...      ...       ...             ...\n",
       "2408       2  0.006944           youre\n",
       "3519       1  0.992331           youve\n",
       "6478       2  0.997945            âœ3â\n",
       "66590      4  0.989146  ï½mï½ï½ï½oï½ï½\n",
       "66617      4  0.998086         ï½ï½ï½n\n",
       "\n",
       "[726 rows x 3 columns], R=30, lambda_step=0.01, plot_opts={'xlab': 'PC1', 'ylab': 'PC2'}, topic_order=[1, 2, 4, 3])"
      ]
     },
     "execution_count": 29,
     "metadata": {},
     "output_type": "execute_result"
    }
   ],
   "source": [
    "pyLDAvis.enable_notebook()\n",
    "p = pyLDAvis.gensim_models.prepare(model, corpus, dictionary)\n",
    "p"
   ]
  },
  {
   "cell_type": "markdown",
   "metadata": {},
   "source": [
    "+ 主題一推測是 軟體相關主題。</br>\n",
    "因為它包含了許多商業軟體的名稱，adobe、corel、macromedia。還有一些與免費軟體或提供免費服務相關的詞彙，如free、grant、get 等。這些詞彙可能暗示著與贈送或提供免費軟體相關的內容。\n",
    "\n",
    "+ 主題二推測是 草藥、保健食品相關主題。</br>\n",
    "因為裡面包含了 dagga、botanical、herb等，也包含了 dieting、aphrodisia等可能與身體狀況有關的詞彙\n",
    "\n",
    "+ 主題三推測是 金融投資相關的主題。</br>因為裡面提到了 company、stock、investment、investor等詞彙。\n",
    "\n",
    "+ 主題四推測是 醫療、藥物相關的主題加上網頁程式碼。</br>因為裡面包含了 cialis、xanax、pill、prescription等醫療藥品相關辭彙，裡面也有一些如 impotence、dysfunction 等性功能相關辭彙。此外，他也將 http、href、font等html相關用詞歸類於此。"
   ]
  },
  {
   "cell_type": "markdown",
   "metadata": {},
   "source": [
    "<font color=\"#ffa\">\n",
    "\n",
    "從上面的結果中，我們可以得知釣魚信件大致有以下幾種模式：\n",
    "- 免費軟體\n",
    "- 金融投資\n",
    "- 醫療藥品\n",
    "- 送錢與中獎\n",
    "</font>"
   ]
  },
  {
   "cell_type": "markdown",
   "metadata": {},
   "source": [
    "## GuideLDA"
   ]
  },
  {
   "cell_type": "markdown",
   "metadata": {},
   "source": [
    "為了讓主題模型可以更清楚的分離出主題，我們將根據上述常見的釣魚信件模式進行GuideLDA分析，並且由於網頁程式碼相關詞彙佔據了相當大的比例，因此會增加網頁程式碼這一類別。"
   ]
  },
  {
   "cell_type": "code",
   "execution_count": 8,
   "metadata": {},
   "outputs": [],
   "source": [
    "import guidedlda"
   ]
  },
  {
   "cell_type": "code",
   "execution_count": 12,
   "metadata": {},
   "outputs": [],
   "source": [
    "vocab = tuple(dictionary.token2id.keys())\n",
    "word2id = dictionary.token2id"
   ]
  },
  {
   "cell_type": "code",
   "execution_count": 13,
   "metadata": {},
   "outputs": [],
   "source": [
    "seed_topic_ch = ['免費軟體', '金融投資', '醫療藥品', '送錢與中獎', '網頁程式碼']\n",
    "\n",
    "seed_topic_list = [\n",
    "    [\"adobe\", \"corel\", \"macromedia\", \"premiere\", \"norton\", \"acrobat\", \"grant\"],\n",
    "    ['stock', 'investment', 'security', 'shareholder', 'investor', 'estimate', \"trading\"],\n",
    "    [\"cialis\", \"xanax\", \"viagra\", \"prozac\", \"dagga\", \"phentermine\", \"aphrodisia\"],\n",
    "    [\"nigeria\", \"deceased\", \"foreigner\", \"lottery\", \"goldrush\", \"moneymaking\", \"nigerian\"],\n",
    "    [\"http\", \"href\", \"font\", \"www\", \"br\", \"td\", \"php\"]\n",
    "]"
   ]
  },
  {
   "cell_type": "code",
   "execution_count": 14,
   "metadata": {},
   "outputs": [],
   "source": [
    "seed_topics = {}\n",
    "for t_id, st in enumerate(seed_topic_list):\n",
    "    for word in st:\n",
    "        seed_topics[word2id[word]] = t_id"
   ]
  },
  {
   "cell_type": "code",
   "execution_count": 15,
   "metadata": {},
   "outputs": [],
   "source": [
    "# guidedlda 需要 DTM 格式作為 input，因此這邊利用 corpus2dense() 方法進行轉換\n",
    "X = corpus2dense(corpus, len(dictionary), len(corpus)).T.astype(np.int64)"
   ]
  },
  {
   "cell_type": "code",
   "execution_count": 16,
   "metadata": {},
   "outputs": [
    {
     "name": "stderr",
     "output_type": "stream",
     "text": [
      "INFO:guidedlda:n_documents: 6974\n",
      "INFO:guidedlda:vocab_size: 84331\n",
      "INFO:guidedlda:n_words: 1048032\n",
      "INFO:guidedlda:n_topics: 5\n",
      "INFO:guidedlda:n_iter: 100\n",
      "INFO:guidedlda:<0> log likelihood: -11632661\n",
      "INFO:guidedlda:<20> log likelihood: -9558422\n",
      "INFO:guidedlda:<40> log likelihood: -9414329\n",
      "INFO:guidedlda:<60> log likelihood: -9356145\n",
      "INFO:guidedlda:<80> log likelihood: -9307554\n",
      "INFO:guidedlda:<99> log likelihood: -9278376\n"
     ]
    },
    {
     "data": {
      "text/plain": [
       "<guidedlda.guidedlda.GuidedLDA at 0x1be0005e680>"
      ]
     },
     "execution_count": 16,
     "metadata": {},
     "output_type": "execute_result"
    }
   ],
   "source": [
    "model = guidedlda.GuidedLDA(n_topics=5, n_iter=100, random_state=1116, refresh=20)\n",
    "model.fit(X, seed_topics=seed_topics, seed_confidence=1)"
   ]
  },
  {
   "cell_type": "code",
   "execution_count": 17,
   "metadata": {},
   "outputs": [
    {
     "name": "stdout",
     "output_type": "stream",
     "text": [
      "Topic 免費軟體：free address order report get business money program list people please make 20 time name send mail software click information\n",
      "Topic 金融投資：company statement stock security information investment within report market inc news price forward future service act looking technology share product\n",
      "Topic 醫療藥品：get click free offer pill http online life like new time product save price site viagra order want see day\n",
      "Topic 送你錢：account money fund bank number claim mr please transaction 000 contact country company million la state security name government international\n",
      "Topic 網頁程式碼：http www font message 3d price color info 00 nbsp size link net 10 br face please td 2005 content\n"
     ]
    },
    {
     "data": {
      "text/html": [
       "\n",
       "<link rel=\"stylesheet\" type=\"text/css\" href=\"https://cdn.jsdelivr.net/gh/bmabey/pyLDAvis@3.4.0/pyLDAvis/js/ldavis.v1.0.0.css\">\n",
       "\n",
       "\n",
       "<div id=\"ldavis_el173219142232866883040777860\" style=\"background-color:white;\"></div>\n",
       "<script type=\"text/javascript\">\n",
       "\n",
       "var ldavis_el173219142232866883040777860_data = {\"mdsDat\": {\"x\": [-0.05495627110444742, -0.13260269330160432, -0.044569356642934536, 0.35178084261199, -0.11965252156300349], \"y\": [-0.075467126598774, -0.007165268481187695, -0.21790586235717943, 0.04486468730074904, 0.25567357013639214], \"topics\": [1, 2, 3, 4, 5], \"cluster\": [1, 1, 1, 1, 1], \"Freq\": [35.87308612116239, 18.240677356390425, 16.84658332159167, 15.305024156548983, 13.734629044306537]}, \"tinfo\": {\"Term\": [\"company\", \"statement\", \"http\", \"stock\", \"report\", \"security\", \"account\", \"www\", \"investment\", \"fund\", \"bank\", \"money\", \"font\", \"address\", \"3d\", \"people\", \"get\", \"click\", \"market\", \"pill\", \"program\", \"claim\", \"free\", \"number\", \"information\", \"within\", \"mr\", \"news\", \"forward\", \"technology\", \"macromedia\", \"corel\", \"multilevel\", \"premiere\", \"mlm\", \"classified\", \"\\u00ef\\u00bd\\u00ef\\u00bd\\u00ef\\u00bdn\", \"mastercard\", \"acrobat\", \"millionaire\", \"50000\", \"employment\", \"emailing\", \"ebook\", \"alter\", \"traffic\", \"jody\", \"searcher\", \"mailed\", \"virtually\", \"payable\", \"systemworks\", \"expires\", \"25000\", \"corei\", \"downline\", \"submitting\", \"saave\", \"symantec\", \"showcase\", \"grant\", \"income\", \"guide\", \"submit\", \"advertise\", \"adobe\", \"credit\", \"floodgate\", \"sending\", \"ebay\", \"print\", \"engine\", \"nt\", \"step\", \"bulk\", \"norton\", \"people\", \"software\", \"earn\", \"judgment\", \"program\", \"address\", \"download\", \"cd\", \"search\", \"loan\", \"send\", \"receive\", \"list\", \"order\", \"marketing\", \"bonus\", \"database\", \"follow\", \"page\", \"free\", \"internet\", \"card\", \"report\", \"20\", \"make\", \"work\", \"name\", \"mailing\", \"get\", \"money\", \"business\", \"mail\", \"000\", \"home\", \"call\", \"click\", \"please\", \"time\", \"site\", \"day\", \"information\", \"new\", \"service\", \"need\", \"00\", \"trading\", \"estimate\", \"projection\", \"uncertainty\", \"voip\", \"wysak\", \"involve\", \"1933\", \"ooking\", \"objective\", \"oi\", \"assumption\", \"1934\", \"inherent\", \"profiled\", \"otc\", \"wil\", \"materially\", \"shareholder\", \"prediction\", \"speculative\", \"ooo\", \"construed\", \"anticipates\", \"pertaining\", \"couid\", \"piease\", \"resuits\", \"advises\", \"lauraan\", \"statement\", \"expectation\", \"investing\", \"stock\", \"investor\", \"belief\", \"advisor\", \"differ\", \"acquisition\", \"advice\", \"company\", \"gas\", \"identified\", \"investment\", \"technology\", \"event\", \"project\", \"security\", \"news\", \"forward\", \"inc\", \"market\", \"term\", \"performance\", \"industry\", \"share\", \"act\", \"revenue\", \"risk\", \"within\", \"looking\", \"information\", \"fact\", \"future\", \"report\", \"based\", \"price\", \"service\", \"product\", \"time\", \"business\", \"medication\", \"cialis\", \"tablet\", \"sexual\", \"temple\", \"generic\", \"oz\", \"tab\", \"bottle\", \"ragga\", \"dagga\", \"fat\", \"botanical\", \"pharmacy\", \"smoking\", \"aging\", \"muscle\", \"erection\", \"stationery\", \"capillaris\", \"\\u00e2\\u01533\\u00e2\", \"intro\", \"rx\", \"valium\", \"herba\", \"dieting\", \"und\", \"herbal\", \"gentle\", \"soma\", \"prescription\", \"mg\", \"pill\", \"penis\", \"men\", \"die\", \"xanax\", \"girl\", \"male\", \"drug\", \"weight\", \"doctor\", \"viagra\", \"woman\", \"sex\", \"tm\", \"med\", \"love\", \"health\", \"logo\", \"man\", \"pain\", \"life\", \"click\", \"offer\", \"get\", \"99\", \"online\", \"save\", \"like\", \"free\", \"http\", \"product\", \"see\", \"new\", \"site\", \"time\", \"price\", \"want\", \"best\", \"good\", \"day\", \"order\", \"much\", \"business\", \"make\", \"font\", \"nbsp\", \"td\", \"computron\", \"href\", \"rolex\", \"arial\", \"capitalfm\", \"fontfont\", \"projecthoneypot\", \"replica\", \"fontsize\", \"src\", \"epson\", \"intel\", \"laserjet\", \"squirrelmail\", \"bgcolor\", \"demokritos\", \"hp\", \"971\", \"andmanyother\", \"iit\", \"fontfamily\", \"canon\", \"000000\", \"hewlett\", \"verdana\", \"packard\", \"mime\", \"br\", \"style\", \"tr\", \"align\", \"3d\", \"border\", \"tue\", \"toner\", \"height\", \"pt\", \"0000\", \"jul\", \"width\", \"cartridge\", \"color\", \"face\", \"ffa\", \"www\", \"http\", \"gr\", \"html\", \"id\", \"size\", \"info\", \"content\", \"message\", \"2005\", \"19\", \"net\", \"link\", \"price\", \"00\", \"10\", \"please\", \"save\", \"mail\", \"line\", \"new\", \"kin\", \"que\", \"para\", \"nigeria\", \"atoll\", \"468\", \"deposited\", \"died\", \"por\", \"political\", \"beneficiary\", \"unclaimed\", \"wor\", \"hermios\", \"kno\", \"bra\", \"foreigner\", \"netherlands\", \"wn\", \"transferred\", \"zimbabwe\", \"hin\", \"wit\", \"deceased\", \"claiming\", \"este\", \"eneenkio\", \"expe\", \"hou\", \"ire\", \"enenkio\", \"sum\", \"con\", \"africa\", \"marshall\", \"island\", \"mr\", \"fund\", \"ministry\", \"lottery\", \"prize\", \"kingdom\", \"el\", \"claim\", \"en\", \"transaction\", \"la\", \"bank\", \"account\", \"winning\", \"father\", \"foreign\", \"late\", \"assistance\", \"transfer\", \"confidential\", \"country\", \"number\", \"united\", \"money\", \"international\", \"contact\", \"government\", \"part\", \"000\", \"state\", \"please\", \"million\", \"security\", \"next\", \"name\", \"company\", \"mail\", \"address\", \"dollar\", \"business\"], \"Freq\": [5093.0, 2127.0, 3109.0, 1781.0, 3884.0, 2164.0, 1576.0, 1960.0, 1597.0, 949.0, 1000.0, 3775.0, 763.0, 3627.0, 745.0, 2517.0, 3972.0, 2936.0, 1321.0, 817.0, 2775.0, 768.0, 4307.0, 1922.0, 3826.0, 2069.0, 680.0, 1133.0, 1096.0, 909.0, 249.4236032778396, 223.48458609763148, 199.54087793128554, 173.60186075107742, 145.66753455700714, 140.67926202235174, 129.70506244610985, 123.71913540452337, 118.73086286986796, 115.73789934907472, 103.76604526590175, 102.76839075897067, 99.77542723817741, 96.78246371738418, 95.78480921045309, 90.7965366757977, 88.80122766193554, 84.81060963421122, 83.81295512728013, 78.82468259262473, 76.82937357876256, 75.83171907183149, 74.8340645649004, 70.84344653717608, 69.845792030245, 69.845792030245, 68.84813752331391, 68.84813752331391, 67.85048301638282, 63.85986498865851, 837.0421078602463, 726.3024575908963, 559.6941549334058, 252.41656679863283, 182.58075131345714, 953.7676851711828, 1249.0734192227828, 152.65111610552472, 448.95450466405583, 218.49631356297604, 233.4611311669423, 340.21016340856795, 663.4502236542382, 516.7950111353694, 582.6402085928206, 212.51038652138956, 2218.793599959794, 1812.7482156388437, 261.3954573610126, 185.57371483425038, 2342.502758819248, 3001.952387900693, 478.8841398719882, 822.0772902562802, 696.3728223829639, 518.7903201492314, 1956.4104646369194, 1587.2782970724193, 2264.685707278624, 2869.264338478859, 1020.6105371355653, 360.1632535471896, 406.0553608660193, 533.7551377531977, 568.6730454957856, 3126.6592012670776, 1562.3369343991424, 904.8826143315598, 2734.580980043163, 2011.2814625181288, 2103.0656771557883, 1552.3603893298314, 1977.361209282472, 1210.1648934524708, 2619.8507117460886, 2500.132170914359, 2513.101679504463, 1881.586376617088, 1713.9804194526666, 1325.8928162564762, 1023.6035006563585, 1791.797470993291, 2139.9788939122386, 2004.2978809696112, 1402.7122132901693, 1483.522228351587, 1788.8045074724976, 1514.4495180664505, 1302.9467625970613, 1256.0570007713004, 1258.0523097851626, 389.38625288413715, 368.4734595781683, 319.676941864241, 317.68524726367247, 273.8679660511664, 263.909493048324, 256.9385619463344, 247.97593624377635, 246.98008894349212, 218.1005172352494, 217.1046699349652, 216.10882263468096, 203.16280773098595, 192.20848742785944, 171.29569412189056, 167.31230492075363, 167.31230492075363, 160.341373818764, 159.34552651847977, 155.36213731734287, 154.36629001705865, 152.37459541649017, 149.3870535156375, 148.39120621535324, 148.39120621535324, 146.39951161478479, 139.42858051279518, 138.43273321251095, 131.46180211052132, 131.46180211052132, 2124.1522499792677, 389.38625288413715, 446.1495490003383, 1681.996048653069, 628.3896049523526, 312.70601076225137, 206.15034963183862, 324.65617836566213, 279.84304985287173, 629.3854522526368, 3838.0054537684296, 617.435284649226, 205.1545023315544, 1231.8730689245965, 736.9369606833337, 595.526644042973, 517.8505546208029, 1547.5566631146976, 879.3431246239787, 853.4510948165888, 910.21439093279, 969.9652289498438, 570.6304615358672, 524.8214857227925, 547.7259736293298, 721.9992511790703, 766.8123796918607, 416.2741299918114, 715.0283200770807, 1151.2094376015739, 751.8746701875972, 1488.801672397928, 607.4768116463837, 799.6753406012404, 1135.275880797026, 559.6761412327406, 864.4054151197154, 769.7999215927134, 720.0075565785019, 664.2401077625849, 587.5598656406991, 387.0747621965503, 339.3135514682029, 308.4677695394785, 303.4926434219423, 266.67671015217456, 247.77123090553707, 233.84087777643578, 231.85082732942126, 197.024944506668, 194.03986883614627, 192.0498183891318, 189.06474271861012, 185.08464182458115, 183.09459137756667, 169.16423824846535, 167.17418780145087, 154.2388598958568, 142.29855721376995, 141.3035319902627, 131.35327975519033, 131.35327975519033, 125.38312841414692, 118.41795184959628, 115.43287617907457, 115.43287617907457, 115.43287617907457, 95.53237170892983, 94.53734648542259, 89.56222036788641, 88.56719514437916, 459.71160351257856, 223.8906255413634, 786.0798768229523, 243.7911300115081, 394.0399387611009, 139.31348154324823, 139.31348154324823, 265.6816849286673, 179.1144904835377, 420.90561979579627, 355.23395504431863, 250.75630657605876, 518.4180916995055, 380.1095856319996, 356.22898026782593, 314.437920880522, 303.4926434219423, 325.3831983391015, 339.3135514682029, 329.3632992331305, 315.4329461040292, 252.74635702307327, 651.7514716494753, 945.2839125841102, 800.0102299520537, 1062.6968889579641, 464.6867296301147, 652.7464968729826, 571.1544285453891, 625.8808158382872, 806.9754065166043, 693.5425310367792, 599.0151348035916, 504.4877385704042, 623.8907653912727, 559.2141258633022, 623.8907653912727, 563.1942267573312, 506.4777890174187, 481.60215842973776, 418.9155693487818, 497.52256200585356, 515.4330160289838, 382.0996360790141, 400.0100901021443, 383.0946613025213, 762.9916830645137, 523.2542668397607, 406.86722244849057, 296.4487444362599, 231.78927532999876, 193.9883549294153, 164.1455230342178, 155.19267346565857, 129.32888582315408, 121.37079731776811, 120.37603625459488, 117.39175306507511, 116.39699200190186, 113.41270881238212, 112.41794774920886, 111.42318668603562, 110.42842562286238, 105.45462030699613, 104.45985924382288, 102.47033711747638, 101.47557605430313, 100.48081499112989, 99.48605392795663, 97.49653180161013, 90.5332043593974, 90.5332043593974, 86.5541601067044, 86.5541601067044, 85.55939904353114, 84.5646379803579, 439.6943375332078, 245.71593021442422, 225.82070895095924, 223.83118682461276, 728.1750458534499, 151.21362921296557, 147.23458496027257, 281.5273284886612, 283.5168506150077, 190.0093106767223, 166.1350451605643, 190.0093106767223, 253.67401871981022, 269.5901957305822, 618.7513289043926, 410.84626670118354, 190.0093106767223, 1374.769736916062, 1957.6997199355858, 127.3393636968076, 339.22347015270964, 300.42778868895294, 508.33285089216196, 556.0813819244779, 369.06630204790713, 748.0702671169149, 389.9562843745453, 288.4906559308739, 466.55288623888555, 471.5266915547518, 620.7408510307391, 533.2018774714932, 453.62099241763326, 408.8567445748371, 284.51161167818094, 289.48541699404717, 264.61639041471597, 266.6059125410625, 261.5418768682262, 243.64235295800202, 199.88796117745392, 193.92145320737916, 179.00518328219232, 168.0665853370553, 154.1447334068809, 152.155897416856, 136.24520949665668, 117.35126759142003, 117.35126759142003, 109.39592363132037, 109.39592363132037, 109.39592363132037, 103.42941566124563, 102.43499766623317, 100.44616167620825, 97.46290769117088, 97.46290769117088, 89.50756373107123, 85.5298917510214, 84.53547375600894, 84.53547375600894, 82.54663776598403, 82.54663776598403, 81.55221977097158, 81.55221977097158, 80.55780177595912, 80.55780177595912, 80.55780177595912, 242.64793496298955, 352.03391441435974, 196.90470719241654, 241.6535169679771, 146.18938944678123, 310.2683586238366, 622.5156090577481, 848.2484939255756, 119.34010358144494, 345.0729884492726, 267.50838483830097, 219.77632107770305, 301.31859666872447, 652.3481489081216, 417.6655020851819, 564.8393653470255, 467.38640183580475, 782.6169062547535, 1160.495744359487, 310.2683586238366, 233.69817300787744, 321.2069565689736, 270.4916388233383, 288.39116273356257, 326.17904654403594, 244.63677095301446, 472.35849181086706, 729.9127525190934, 355.0171683993971, 863.1647638507625, 418.6599200801944, 503.1854496562532, 424.6264280502691, 368.9390203295715, 556.8840213869258, 455.4533858956553, 621.5211910627356, 469.3752378258297, 455.4533858956553, 369.93343832458396, 426.61526404029405, 471.36407381585457, 416.6710840901695, 407.72132213505733, 341.0953164692228, 335.128808499148], \"Total\": [5093.0, 2127.0, 3109.0, 1781.0, 3884.0, 2164.0, 1576.0, 1960.0, 1597.0, 949.0, 1000.0, 3775.0, 763.0, 3627.0, 745.0, 2517.0, 3972.0, 2936.0, 1321.0, 817.0, 2775.0, 768.0, 4307.0, 1922.0, 3826.0, 2069.0, 680.0, 1133.0, 1096.0, 909.0, 249.46340379365938, 223.52438661345127, 199.58067844710533, 173.64166126689722, 145.70733507282694, 140.71906253817153, 129.74486296192964, 123.75893592034313, 118.77066338568773, 115.77769986489449, 103.80584578172152, 102.80819127479043, 99.81522775399718, 96.82226423320394, 95.82460972627285, 90.83633719161746, 88.8410281777553, 84.85041015003098, 83.8527556430999, 78.86448310844449, 76.86917409458232, 75.87151958765125, 74.87386508072017, 70.88324705299584, 69.88559254606476, 69.88559254606476, 68.88793803913367, 68.88793803913367, 67.89028353220259, 63.89966550447828, 839.0714305024126, 728.3339527072845, 562.7214973500783, 253.45112837762585, 183.61531289245016, 979.6712733295071, 1309.795390772562, 154.680438747691, 467.88824708511225, 223.513178105995, 239.46949806180157, 353.1823860663079, 703.2763498790584, 545.6862925334354, 623.4749866311012, 218.51875341624884, 2517.2954253906764, 2071.556826343603, 272.38053533541193, 190.58864146760635, 2775.283566660036, 3627.5998322665937, 518.7162320370759, 923.5748286480731, 777.9827281013384, 568.5855536174894, 2373.4470855051727, 1895.7009045469001, 2799.0212957339395, 3672.218807855009, 1211.7382815048372, 386.07444536529067, 440.91679360512893, 595.4701241857589, 639.332311598354, 4307.690439587905, 2013.277235747286, 1092.9562943775165, 3884.8120812356146, 2766.527422579618, 2923.2528091249296, 2059.872505213437, 2761.206334015047, 1554.5576471795655, 3972.1255210328786, 3775.3903105849777, 3835.810391357086, 2719.1718820716574, 2535.660416834861, 1858.5191801714595, 1304.2197304572549, 2936.0469792039175, 3818.3732727364804, 3572.9427910715613, 2256.4983602351117, 2623.956238318525, 3826.685563238629, 3017.26639918882, 2314.4760944209384, 2053.2450594364423, 2466.7831788529384, 389.4260714720234, 368.51327816605453, 319.71676045212723, 317.7250658515587, 273.90778463905264, 263.94931163621027, 256.97838053422066, 248.0157548316626, 247.01990753137838, 218.14033582313567, 217.14448852285145, 216.14864122256722, 203.2026263188722, 192.2483060157457, 171.33551270977682, 167.3521235086399, 167.3521235086399, 160.38119240665026, 159.38534510636603, 155.40195590522913, 154.4061086049449, 152.41441400437643, 149.42687210352375, 148.4310248032395, 148.4310248032395, 146.43933020267104, 139.46839910068144, 138.4725518003972, 131.50162069840758, 131.50162069840758, 2127.1850320879475, 390.42048946703585, 454.1706036436732, 1781.5204266889675, 653.3707862135158, 322.70396943548155, 209.17445140924463, 339.62137530615695, 293.84135120651956, 710.1108897427591, 5093.597723622624, 702.9950508081835, 211.16288729848014, 1597.6216354710125, 909.5015663201091, 714.9266301807306, 609.4965796908242, 2164.631031423462, 1133.5187896433056, 1096.3916441619908, 1186.0757687128119, 1321.851057339845, 710.1394562704687, 643.3833970967692, 684.3651681848481, 990.8826922846813, 1086.4567112810187, 495.12576118349523, 1050.8974326507043, 2069.233534502541, 1198.3469412627787, 3826.685563238629, 922.3939895981075, 1526.2145509245738, 3884.8120812356146, 896.7511135112218, 2835.4968735537536, 2314.4760944209384, 2416.0298204469855, 3572.9427910715613, 3835.810391357086, 387.1145890052043, 339.3533782768569, 308.50759634813255, 303.53247023059635, 266.7165369608286, 247.81105771419107, 233.88070458508977, 231.89065413807526, 197.064771315322, 194.07969564480027, 192.08964519778579, 189.10456952726412, 185.12446863323515, 183.13441818622067, 169.20406505711935, 167.21401461010487, 154.2786867045108, 142.33838402242395, 141.3433587989167, 131.39310656384433, 131.39310656384433, 125.42295522280092, 118.45777865825028, 115.47270298772857, 115.47270298772857, 115.47270298772857, 95.57219851758383, 94.57717329407659, 89.60204717654041, 88.60702195303315, 471.72328440440555, 226.91473553953713, 817.9503423123464, 247.8100010728551, 411.03410530006767, 140.3477263469147, 140.34806941507546, 276.66388343222707, 183.14493531991604, 458.81051473433837, 384.17104122888003, 266.7412448330631, 605.0021310042322, 431.02979229413876, 414.9597098037016, 362.2490897008226, 347.30161394205845, 384.26149350662666, 416.0514304638322, 410.9721609493477, 399.094506827451, 289.5923431691375, 1194.0594809299255, 2936.0469792039175, 2330.6132782279838, 3972.1255210328786, 890.1270719737337, 1690.76208094915, 1425.3566428792394, 2078.6642518499525, 4307.690439587905, 3109.6235772610066, 2416.0298204469855, 1593.5562823879377, 3017.26639918882, 2256.4983602351117, 3572.9427910715613, 2835.4968735537536, 1958.1944014536186, 1810.6422594658154, 1060.010708007175, 2623.956238318525, 3672.218807855009, 1178.964824825427, 3835.810391357086, 2923.2528091249296, 763.0315125147711, 523.294096290018, 406.9070518987479, 296.48857388651726, 231.8291047802561, 194.02818437967264, 164.18535248447515, 155.23250291591592, 129.36871527341142, 121.41062676802545, 120.41586570485222, 117.43158251533245, 116.43682145215921, 113.45253826263946, 112.45777719946621, 111.46301613629296, 110.46825507311972, 105.49444975725348, 104.49968869408022, 102.51016656773372, 101.51540550456048, 100.52064444138723, 99.52588337821398, 97.53636125186748, 90.57303380965475, 90.57303380965475, 86.59398955696174, 86.59398955696174, 85.59922849378849, 84.60446743061524, 442.7174209685025, 247.74581011169602, 227.85584741507873, 225.85985226489504, 745.1750019215357, 152.24930596350714, 148.26883240554238, 288.53233450346926, 291.5177412464518, 193.0366820278323, 168.1701836246838, 194.03252932811657, 263.66410040513995, 282.5653530864336, 712.5179400959146, 462.69389635331555, 202.0209942101526, 1960.364276258686, 3109.6235772610066, 129.3692435940794, 470.79302779785826, 407.0842924298314, 831.0077065396705, 957.9700851067495, 579.1447992730097, 1795.1489949822883, 841.0499856119561, 476.7200731677293, 1241.8212683651527, 1383.9974131332078, 2835.4968735537536, 2466.7831788529384, 1960.6281474901684, 3818.3732727364804, 1425.3566428792394, 2719.1718820716574, 1010.3662091637276, 3017.26639918882, 261.58170974916516, 243.68218583894097, 199.92779405839286, 193.9612860883181, 179.04501616313127, 168.10641821799425, 154.18456628781985, 152.19573029779494, 136.28504237759563, 117.39110047235899, 117.39110047235899, 109.43575651225933, 109.43575651225933, 109.43575651225933, 103.46924854218459, 102.47483054717213, 100.48599455714721, 97.50274057210984, 97.50274057210984, 89.54739661201019, 85.56972463196036, 84.5753066369479, 84.5753066369479, 82.58647064692299, 82.58647064692299, 81.59205265191054, 81.59205265191054, 80.59763465689808, 80.59763465689808, 80.59763465689808, 243.68361514421275, 358.05967433688517, 200.92464096738445, 248.6642809509057, 148.21927277473466, 324.23484638920104, 680.3026367469516, 949.928003668146, 121.37163106295236, 372.04949301735076, 286.44867791953163, 232.7514818642361, 328.2285520303725, 768.0370260903507, 474.41147045300784, 666.4866915062988, 549.0447660892527, 1000.1400000267276, 1576.3659309013592, 357.10561592714146, 261.606110838012, 390.02350540216423, 345.2485948031331, 379.13150485317556, 458.64362546484597, 302.49849670117464, 906.7147377698095, 1922.5689976473698, 612.2277636330329, 3775.3903105849777, 899.022939301349, 1365.3505380936185, 1003.1287686998437, 808.510896575938, 2535.660416834861, 1495.3119886128152, 3818.3732727364804, 1885.2526186528853, 2164.631031423462, 1175.3399200138147, 2761.206334015047, 5093.597723622624, 2719.1718820716574, 3627.5998322665937, 1196.6711842467482, 3835.810391357086], \"Category\": [\"Default\", \"Default\", \"Default\", \"Default\", \"Default\", \"Default\", \"Default\", \"Default\", \"Default\", \"Default\", \"Default\", \"Default\", \"Default\", \"Default\", \"Default\", \"Default\", \"Default\", \"Default\", \"Default\", \"Default\", \"Default\", \"Default\", \"Default\", \"Default\", \"Default\", \"Default\", \"Default\", \"Default\", \"Default\", \"Default\", \"Topic1\", \"Topic1\", \"Topic1\", \"Topic1\", \"Topic1\", \"Topic1\", \"Topic1\", \"Topic1\", \"Topic1\", \"Topic1\", \"Topic1\", \"Topic1\", \"Topic1\", \"Topic1\", \"Topic1\", \"Topic1\", \"Topic1\", \"Topic1\", \"Topic1\", \"Topic1\", \"Topic1\", \"Topic1\", \"Topic1\", \"Topic1\", \"Topic1\", \"Topic1\", \"Topic1\", \"Topic1\", \"Topic1\", \"Topic1\", \"Topic1\", \"Topic1\", \"Topic1\", \"Topic1\", \"Topic1\", \"Topic1\", \"Topic1\", \"Topic1\", \"Topic1\", \"Topic1\", \"Topic1\", \"Topic1\", \"Topic1\", \"Topic1\", \"Topic1\", \"Topic1\", \"Topic1\", \"Topic1\", \"Topic1\", \"Topic1\", \"Topic1\", \"Topic1\", \"Topic1\", \"Topic1\", \"Topic1\", \"Topic1\", \"Topic1\", \"Topic1\", \"Topic1\", \"Topic1\", \"Topic1\", \"Topic1\", \"Topic1\", \"Topic1\", \"Topic1\", \"Topic1\", \"Topic1\", \"Topic1\", \"Topic1\", \"Topic1\", \"Topic1\", \"Topic1\", \"Topic1\", \"Topic1\", \"Topic1\", \"Topic1\", \"Topic1\", \"Topic1\", \"Topic1\", \"Topic1\", \"Topic1\", \"Topic1\", \"Topic1\", \"Topic1\", \"Topic1\", \"Topic1\", \"Topic1\", \"Topic1\", \"Topic1\", \"Topic1\", \"Topic1\", \"Topic2\", \"Topic2\", \"Topic2\", \"Topic2\", \"Topic2\", \"Topic2\", \"Topic2\", \"Topic2\", \"Topic2\", \"Topic2\", \"Topic2\", \"Topic2\", \"Topic2\", \"Topic2\", \"Topic2\", \"Topic2\", \"Topic2\", \"Topic2\", \"Topic2\", \"Topic2\", \"Topic2\", \"Topic2\", \"Topic2\", \"Topic2\", \"Topic2\", \"Topic2\", \"Topic2\", \"Topic2\", \"Topic2\", \"Topic2\", \"Topic2\", \"Topic2\", \"Topic2\", \"Topic2\", \"Topic2\", \"Topic2\", \"Topic2\", \"Topic2\", \"Topic2\", \"Topic2\", \"Topic2\", \"Topic2\", \"Topic2\", \"Topic2\", \"Topic2\", \"Topic2\", \"Topic2\", \"Topic2\", \"Topic2\", \"Topic2\", \"Topic2\", \"Topic2\", \"Topic2\", \"Topic2\", \"Topic2\", \"Topic2\", \"Topic2\", \"Topic2\", \"Topic2\", \"Topic2\", \"Topic2\", \"Topic2\", \"Topic2\", \"Topic2\", \"Topic2\", \"Topic2\", \"Topic2\", \"Topic2\", \"Topic2\", \"Topic2\", \"Topic2\", \"Topic3\", \"Topic3\", \"Topic3\", \"Topic3\", \"Topic3\", \"Topic3\", \"Topic3\", \"Topic3\", \"Topic3\", \"Topic3\", \"Topic3\", \"Topic3\", \"Topic3\", \"Topic3\", \"Topic3\", \"Topic3\", \"Topic3\", \"Topic3\", \"Topic3\", \"Topic3\", \"Topic3\", \"Topic3\", \"Topic3\", \"Topic3\", \"Topic3\", \"Topic3\", \"Topic3\", \"Topic3\", \"Topic3\", \"Topic3\", \"Topic3\", \"Topic3\", \"Topic3\", \"Topic3\", \"Topic3\", \"Topic3\", \"Topic3\", \"Topic3\", \"Topic3\", \"Topic3\", \"Topic3\", \"Topic3\", \"Topic3\", \"Topic3\", \"Topic3\", \"Topic3\", \"Topic3\", \"Topic3\", \"Topic3\", \"Topic3\", \"Topic3\", \"Topic3\", \"Topic3\", \"Topic3\", \"Topic3\", \"Topic3\", \"Topic3\", \"Topic3\", \"Topic3\", \"Topic3\", \"Topic3\", \"Topic3\", \"Topic3\", \"Topic3\", \"Topic3\", \"Topic3\", \"Topic3\", \"Topic3\", \"Topic3\", \"Topic3\", \"Topic3\", \"Topic3\", \"Topic3\", \"Topic3\", \"Topic3\", \"Topic3\", \"Topic4\", \"Topic4\", \"Topic4\", \"Topic4\", \"Topic4\", \"Topic4\", \"Topic4\", \"Topic4\", \"Topic4\", \"Topic4\", \"Topic4\", \"Topic4\", \"Topic4\", \"Topic4\", \"Topic4\", \"Topic4\", \"Topic4\", \"Topic4\", \"Topic4\", \"Topic4\", \"Topic4\", \"Topic4\", \"Topic4\", \"Topic4\", \"Topic4\", \"Topic4\", \"Topic4\", \"Topic4\", \"Topic4\", \"Topic4\", \"Topic4\", \"Topic4\", \"Topic4\", \"Topic4\", \"Topic4\", \"Topic4\", \"Topic4\", \"Topic4\", \"Topic4\", \"Topic4\", \"Topic4\", \"Topic4\", \"Topic4\", \"Topic4\", \"Topic4\", \"Topic4\", \"Topic4\", \"Topic4\", \"Topic4\", \"Topic4\", \"Topic4\", \"Topic4\", \"Topic4\", \"Topic4\", \"Topic4\", \"Topic4\", \"Topic4\", \"Topic4\", \"Topic4\", \"Topic4\", \"Topic4\", \"Topic4\", \"Topic4\", \"Topic4\", \"Topic4\", \"Topic4\", \"Topic4\", \"Topic4\", \"Topic5\", \"Topic5\", \"Topic5\", \"Topic5\", \"Topic5\", \"Topic5\", \"Topic5\", \"Topic5\", \"Topic5\", \"Topic5\", \"Topic5\", \"Topic5\", \"Topic5\", \"Topic5\", \"Topic5\", \"Topic5\", \"Topic5\", \"Topic5\", \"Topic5\", \"Topic5\", \"Topic5\", \"Topic5\", \"Topic5\", \"Topic5\", \"Topic5\", \"Topic5\", \"Topic5\", \"Topic5\", \"Topic5\", \"Topic5\", \"Topic5\", \"Topic5\", \"Topic5\", \"Topic5\", \"Topic5\", \"Topic5\", \"Topic5\", \"Topic5\", \"Topic5\", \"Topic5\", \"Topic5\", \"Topic5\", \"Topic5\", \"Topic5\", \"Topic5\", \"Topic5\", \"Topic5\", \"Topic5\", \"Topic5\", \"Topic5\", \"Topic5\", \"Topic5\", \"Topic5\", \"Topic5\", \"Topic5\", \"Topic5\", \"Topic5\", \"Topic5\", \"Topic5\", \"Topic5\", \"Topic5\", \"Topic5\", \"Topic5\", \"Topic5\", \"Topic5\", \"Topic5\", \"Topic5\", \"Topic5\", \"Topic5\", \"Topic5\", \"Topic5\", \"Topic5\", \"Topic5\", \"Topic5\", \"Topic5\", \"Topic5\"], \"logprob\": [30.0, 29.0, 28.0, 27.0, 26.0, 25.0, 24.0, 23.0, 22.0, 21.0, 20.0, 19.0, 18.0, 17.0, 16.0, 15.0, 14.0, 13.0, 12.0, 11.0, 10.0, 9.0, 8.0, 7.0, 6.0, 5.0, 4.0, 3.0, 2.0, 1.0, -7.3181, -7.4279, -7.5412, -7.6805, -7.8559, -7.8908, -7.972, -8.0192, -8.0604, -8.0859, -8.1951, -8.2048, -8.2343, -8.2648, -8.2751, -8.3286, -8.3508, -8.3968, -8.4087, -8.47, -8.4957, -8.5087, -8.522, -8.5768, -8.591, -8.591, -8.6053, -8.6053, -8.6199, -8.6806, -6.1074, -6.2493, -6.5099, -7.3062, -7.63, -5.9768, -5.7071, -7.8091, -6.7303, -7.4505, -7.3842, -7.0077, -6.3398, -6.5896, -6.4697, -7.4783, -5.1325, -5.3346, -7.2712, -7.6138, -5.0783, -4.8302, -6.6658, -6.1254, -6.2914, -6.5857, -5.2584, -5.4675, -5.1121, -4.8754, -5.9091, -6.9507, -6.8308, -6.5573, -6.4939, -4.7895, -5.4833, -6.0294, -4.9235, -5.2307, -5.1861, -5.4897, -5.2477, -5.7387, -4.9664, -5.0131, -5.008, -5.2974, -5.3907, -5.6474, -5.9062, -5.3463, -5.1687, -5.2342, -5.5911, -5.5351, -5.3479, -5.5144, -5.6649, -5.7015, -5.6999, -6.1963, -6.2515, -6.3936, -6.3998, -6.5483, -6.5853, -6.6121, -6.6476, -6.6516, -6.776, -6.7805, -6.7851, -6.8469, -6.9023, -7.0175, -7.041, -7.041, -7.0836, -7.0898, -7.1151, -7.1216, -7.1346, -7.1544, -7.1611, -7.1611, -7.1746, -7.2234, -7.2305, -7.2822, -7.2822, -4.4998, -6.1963, -6.0603, -4.7332, -5.7177, -6.4156, -6.8323, -6.3781, -6.5267, -5.7162, -3.9082, -5.7353, -6.8371, -5.0446, -5.5584, -5.7715, -5.9112, -4.8165, -5.3817, -5.4116, -5.3472, -5.2836, -5.8142, -5.8979, -5.8551, -5.5789, -5.5187, -6.1296, -5.5886, -5.1123, -5.5383, -4.8552, -5.7516, -5.4767, -5.1263, -5.8336, -5.3989, -5.5148, -5.5816, -5.6623, -5.7849, -6.1228, -6.2545, -6.3498, -6.366, -6.4954, -6.5689, -6.6268, -6.6353, -6.7981, -6.8133, -6.8236, -6.8393, -6.8606, -6.8714, -6.9505, -6.9624, -7.0429, -7.1235, -7.1305, -7.2035, -7.2035, -7.25, -7.3072, -7.3327, -7.3327, -7.3327, -7.5219, -7.5324, -7.5865, -7.5976, -5.9508, -6.6702, -5.4143, -6.5851, -6.105, -7.1447, -7.1447, -6.4991, -6.8934, -6.039, -6.2086, -6.5569, -5.8306, -6.1409, -6.2058, -6.3306, -6.366, -6.2964, -6.2545, -6.2842, -6.3275, -6.549, -5.6017, -5.2299, -5.3968, -5.1128, -5.94, -5.6002, -5.7337, -5.6422, -5.3881, -5.5396, -5.6861, -5.8579, -5.6454, -5.7549, -5.6454, -5.7478, -5.8539, -5.9043, -6.0437, -5.8718, -5.8364, -6.1357, -6.0899, -6.1331, -5.3482, -5.7254, -5.9769, -6.2936, -6.5396, -6.7176, -6.8847, -6.9408, -7.1231, -7.1866, -7.1948, -7.2199, -7.2284, -7.2544, -7.2632, -7.2721, -7.2811, -7.3272, -7.3366, -7.3559, -7.3656, -7.3755, -7.3854, -7.4056, -7.4797, -7.4797, -7.5247, -7.5247, -7.5362, -7.5479, -5.8994, -6.4813, -6.5657, -6.5745, -5.3949, -6.9667, -6.9934, -6.3452, -6.3382, -6.7384, -6.8726, -6.7384, -6.4494, -6.3885, -5.5577, -5.9672, -6.7384, -4.7594, -4.4059, -7.1386, -6.1588, -6.2802, -5.7543, -5.6645, -6.0745, -5.3679, -6.0194, -6.3208, -5.8401, -5.8295, -5.5545, -5.7065, -5.8682, -5.9721, -6.3347, -6.3173, -6.4072, -6.3997, -6.3106, -6.3815, -6.5794, -6.6097, -6.6898, -6.7528, -6.8393, -6.8523, -6.9627, -7.112, -7.112, -7.1822, -7.1822, -7.1822, -7.2383, -7.2479, -7.2676, -7.2977, -7.2977, -7.3829, -7.4283, -7.44, -7.44, -7.4638, -7.4638, -7.4759, -7.4759, -7.4882, -7.4882, -7.4882, -6.3856, -6.0134, -6.5945, -6.3897, -6.8923, -6.1397, -5.4434, -5.134, -7.0952, -6.0334, -6.288, -6.4846, -6.169, -5.3966, -5.8425, -5.5406, -5.73, -5.2145, -4.8206, -6.1397, -6.4231, -6.1051, -6.2769, -6.2129, -6.0897, -6.3774, -5.7194, -5.2842, -6.005, -5.1166, -5.8401, -5.6562, -5.826, -5.9665, -5.5548, -5.7559, -5.445, -5.7258, -5.7559, -5.9639, -5.8213, -5.7215, -5.8449, -5.8666, -6.045, -6.0627], \"loglift\": [30.0, 29.0, 28.0, 27.0, 26.0, 25.0, 24.0, 23.0, 22.0, 21.0, 20.0, 19.0, 18.0, 17.0, 16.0, 15.0, 14.0, 13.0, 12.0, 11.0, 10.0, 9.0, 8.0, 7.0, 6.0, 5.0, 4.0, 3.0, 2.0, 1.0, 1.025, 1.025, 1.025, 1.025, 1.0249, 1.0249, 1.0249, 1.0249, 1.0248, 1.0248, 1.0248, 1.0248, 1.0248, 1.0248, 1.0248, 1.0247, 1.0247, 1.0247, 1.0247, 1.0247, 1.0247, 1.0247, 1.0247, 1.0246, 1.0246, 1.0246, 1.0246, 1.0246, 1.0246, 1.0246, 1.0228, 1.0224, 1.0198, 1.0211, 1.0195, 0.9984, 0.9777, 1.012, 0.9839, 1.0025, 0.9998, 0.9878, 0.9669, 0.9708, 0.9574, 0.9973, 0.899, 0.8917, 0.984, 0.9985, 0.8556, 0.8359, 0.9453, 0.9088, 0.9144, 0.9335, 0.832, 0.8476, 0.8133, 0.7784, 0.8535, 0.9557, 0.9428, 0.9158, 0.9081, 0.7047, 0.7716, 0.8363, 0.6741, 0.7064, 0.6959, 0.7423, 0.6913, 0.7747, 0.609, 0.613, 0.6023, 0.657, 0.6335, 0.6875, 0.7829, 0.5313, 0.4462, 0.4471, 0.5498, 0.4549, 0.2647, 0.3359, 0.4506, 0.5337, 0.3518, 1.7014, 1.7014, 1.7014, 1.7014, 1.7014, 1.7014, 1.7014, 1.7014, 1.7014, 1.7013, 1.7013, 1.7013, 1.7013, 1.7013, 1.7013, 1.7013, 1.7013, 1.7013, 1.7013, 1.7013, 1.7013, 1.7013, 1.7012, 1.7012, 1.7012, 1.7012, 1.7012, 1.7012, 1.7012, 1.7012, 1.7001, 1.6989, 1.6837, 1.644, 1.6625, 1.67, 1.687, 1.6565, 1.6527, 1.5808, 1.4185, 1.5717, 1.6726, 1.4415, 1.4911, 1.5188, 1.5386, 1.3659, 1.4476, 1.451, 1.4368, 1.392, 1.4828, 1.4978, 1.4788, 1.3849, 1.3531, 1.528, 1.3164, 1.1152, 1.2354, 0.7575, 1.2839, 1.0552, 0.4713, 1.2301, 0.5136, 0.6007, 0.4909, 0.019, -0.1746, 1.7809, 1.7809, 1.7809, 1.7809, 1.7809, 1.7809, 1.7809, 1.7809, 1.7808, 1.7808, 1.7808, 1.7808, 1.7808, 1.7808, 1.7808, 1.7808, 1.7808, 1.7807, 1.7807, 1.7807, 1.7807, 1.7807, 1.7807, 1.7807, 1.7807, 1.7807, 1.7806, 1.7806, 1.7806, 1.7806, 1.7552, 1.7676, 1.7413, 1.7647, 1.7388, 1.7736, 1.7736, 1.7405, 1.7588, 1.6948, 1.7027, 1.7192, 1.6266, 1.6553, 1.6284, 1.6395, 1.6462, 1.6147, 1.5771, 1.5597, 1.5458, 1.6449, 1.1756, 0.6477, 0.7118, 0.4625, 1.131, 0.8293, 0.8665, 0.5807, 0.1062, 0.2806, 0.3864, 0.6308, 0.2049, 0.386, 0.0359, 0.1647, 0.4287, 0.4567, 0.8527, 0.1182, -0.1825, 0.6543, -0.4796, -0.2511, 1.8769, 1.8769, 1.8769, 1.8769, 1.8768, 1.8768, 1.8767, 1.8767, 1.8767, 1.8767, 1.8767, 1.8766, 1.8766, 1.8766, 1.8766, 1.8766, 1.8766, 1.8766, 1.8766, 1.8766, 1.8766, 1.8766, 1.8766, 1.8766, 1.8765, 1.8765, 1.8765, 1.8765, 1.8765, 1.8765, 1.8701, 1.8688, 1.868, 1.868, 1.8539, 1.8702, 1.87, 1.8524, 1.8492, 1.8612, 1.8648, 1.856, 1.8384, 1.83, 1.7359, 1.7581, 1.8157, 1.5221, 1.4143, 1.8612, 1.5492, 1.5732, 1.3855, 1.3331, 1.4264, 1.0016, 1.1084, 1.3747, 0.898, 0.8002, 0.3579, 0.3452, 0.4132, -0.3572, 0.2656, -0.363, 0.5372, -0.5493, 1.9851, 1.9851, 1.9851, 1.985, 1.985, 1.985, 1.985, 1.985, 1.985, 1.9849, 1.9849, 1.9849, 1.9849, 1.9849, 1.9849, 1.9849, 1.9849, 1.9848, 1.9848, 1.9848, 1.9848, 1.9848, 1.9848, 1.9848, 1.9848, 1.9848, 1.9848, 1.9848, 1.9848, 1.9848, 1.981, 1.9683, 1.965, 1.9567, 1.9715, 1.9412, 1.8965, 1.872, 1.9684, 1.91, 1.9168, 1.9279, 1.8997, 1.822, 1.8579, 1.8198, 1.8242, 1.74, 1.679, 1.8447, 1.8724, 1.7911, 1.7412, 1.7117, 1.6444, 1.7729, 1.3332, 1.0168, 1.4403, 0.5096, 1.221, 0.987, 1.1256, 1.2007, 0.4694, 0.7965, 0.1698, 0.5948, 0.4265, 0.8293, 0.1177, -0.3949, 0.1095, -0.2005, 0.7301, -0.4524]}, \"token.table\": {\"Topic\": [1, 2, 3, 4, 5, 1, 2, 4, 5, 1, 4, 4, 1, 2, 3, 4, 5, 1, 2, 3, 4, 5, 2, 2, 1, 2, 3, 4, 5, 1, 2, 4, 5, 1, 1, 4, 5, 1, 4, 1, 3, 4, 5, 1, 2, 3, 4, 5, 1, 2, 4, 1, 1, 2, 3, 5, 1, 2, 3, 4, 5, 1, 4, 1, 4, 1, 2, 3, 5, 2, 2, 4, 2, 5, 3, 4, 5, 1, 4, 2, 4, 1, 2, 3, 4, 5, 2, 5, 1, 2, 5, 1, 2, 3, 4, 5, 1, 2, 3, 5, 1, 2, 3, 4, 5, 4, 1, 2, 4, 2, 4, 3, 3, 4, 5, 5, 1, 3, 4, 1, 2, 3, 5, 1, 2, 3, 4, 5, 4, 3, 4, 1, 3, 4, 3, 4, 1, 4, 5, 3, 1, 3, 5, 5, 1, 1, 3, 4, 5, 1, 2, 3, 4, 1, 2, 3, 4, 5, 4, 3, 5, 1, 3, 5, 2, 1, 3, 4, 5, 1, 2, 3, 4, 5, 1, 1, 2, 1, 2, 3, 4, 5, 1, 3, 4, 5, 3, 1, 3, 5, 1, 2, 3, 4, 5, 5, 4, 5, 3, 5, 5, 3, 2, 3, 1, 3, 4, 1, 2, 4, 5, 1, 1, 3, 4, 1, 3, 4, 5, 1, 3, 1, 2, 4, 1, 1, 4, 5, 1, 1, 3, 4, 5, 5, 2, 5, 1, 3, 4, 4, 3, 5, 2, 2, 3, 4, 5, 5, 2, 5, 1, 1, 2, 4, 5, 1, 2, 3, 5, 3, 2, 3, 5, 1, 4, 1, 4, 1, 4, 4, 4, 4, 4, 1, 2, 5, 5, 1, 2, 4, 5, 1, 2, 3, 4, 5, 1, 2, 5, 1, 2, 3, 4, 5, 2, 5, 3, 3, 1, 2, 3, 4, 5, 3, 4, 1, 2, 3, 5, 1, 2, 5, 3, 4, 1, 4, 1, 2, 1, 2, 3, 5, 2, 4, 5, 3, 3, 5, 4, 5, 1, 2, 3, 4, 5, 4, 4, 1, 2, 3, 4, 5, 1, 3, 4, 5, 1, 2, 3, 4, 5, 2, 4, 4, 1, 2, 3, 4, 5, 1, 2, 1, 2, 3, 5, 1, 2, 3, 4, 1, 2, 3, 4, 5, 2, 4, 1, 2, 3, 5, 1, 2, 3, 4, 5, 3, 1, 2, 1, 2, 5, 1, 2, 2, 5, 4, 5, 1, 1, 3, 2, 4, 5, 3, 5, 5, 1, 2, 3, 4, 5, 4, 1, 2, 3, 5, 2, 1, 3, 4, 5, 1, 2, 3, 4, 5, 1, 2, 3, 4, 5, 1, 2, 3, 4, 1, 2, 3, 4, 5, 1, 2, 4, 3, 4, 5, 1, 2, 3, 5, 1, 5, 1, 3, 4, 1, 1, 2, 3, 4, 5, 1, 1, 2, 3, 4, 1, 2, 3, 5, 1, 3, 1, 3, 5, 1, 2, 3, 1, 2, 3, 4, 3, 5, 1, 2, 3, 4, 5, 3, 1, 3, 4, 1, 2, 3, 4, 5, 3, 4, 1, 2, 3, 5, 1, 4, 2, 5, 1, 1, 2, 3, 4, 5, 2, 4, 5, 1, 2, 3, 4, 5, 1, 3, 1, 2, 3, 4, 5, 4, 1, 2, 3, 4, 5, 1, 2, 3, 4, 5, 5, 1, 2, 3, 4, 5, 1, 2, 3, 4, 5, 1, 2, 3, 4, 5, 5, 1, 4, 1, 4, 5, 1, 2, 3, 4, 5, 2, 1, 2, 3, 4, 5, 2, 1, 2, 3, 4, 5, 2, 2, 1, 2, 3, 4, 5, 2, 3, 4, 1, 3, 5, 3, 4, 5, 1, 2, 3, 4, 5, 1, 3, 4, 1, 3, 5, 1, 2, 3, 4, 2, 3, 2, 3, 4, 5, 1, 2, 3, 4, 5, 5, 5, 2, 1, 1, 3, 1, 2, 3, 4, 5, 1, 4, 4, 5, 1, 2, 3, 4, 2, 1, 2, 3, 4, 5, 1, 2, 5, 4, 2, 2, 4, 5, 3, 1, 2, 3, 4, 5, 4, 1, 2, 3, 2, 1, 2, 4, 1, 2, 3, 5, 4, 3, 1, 1, 3, 4, 1, 2, 3, 5, 1, 1, 2, 3, 5, 1, 2, 3, 4, 1, 2, 3, 4, 5, 1, 5, 1, 2, 3, 4, 5, 3, 4, 3, 1, 2, 3, 5, 2, 1, 1, 2, 3, 4, 5, 1, 2, 3, 4, 3, 1, 2, 3, 4, 3, 2, 4, 4, 1, 2, 3, 5, 1, 2, 3, 1, 3, 5, 2, 3, 4, 3, 4, 1, 4, 1, 1, 5, 1, 1, 3, 3, 4, 1, 2, 4, 3, 1, 2, 3, 1, 2, 3, 4, 5, 2, 3, 4, 3, 4, 1, 4, 2, 1, 1, 2, 4, 5, 1, 4, 5, 5, 4, 5, 2, 5, 3, 1, 2, 3, 5, 3, 4, 3, 4, 1, 2, 1, 2, 3, 4, 5, 1, 3, 4, 3, 4, 2, 2, 3, 5, 5, 1, 2, 3, 4, 5, 5, 1, 3, 5, 1, 2, 3, 4, 5, 1, 2, 3, 4, 5, 2, 3, 4, 5, 3, 1], \"Freq\": [0.5099759114560583, 0.022296244141560576, 0.1398582587061527, 0.21607087504457795, 0.11148122070780288, 0.6759580220680738, 0.05757868799412997, 0.046536199885666686, 0.21966663844335887, 0.011892714611429149, 0.9870953127486194, 1.0047140541989854, 0.4748478191500964, 0.09231735259523893, 0.10659849001328695, 0.23155844242120704, 0.09486755570560465, 0.07761368166047816, 0.12795769138619373, 0.13005535845809854, 0.6041281167085868, 0.06083234508523964, 0.9999364764884663, 0.9990028361220379, 0.7269040543703938, 0.054219596298139765, 0.09723380936133065, 0.06614790748373052, 0.05530398822410256, 0.12841091712452518, 0.19261637568678777, 0.46370608961634097, 0.21520718518091722, 1.0016471162349105, 0.02281343302736025, 0.976951720230486, 0.9993669592206988, 1.0018703591962128, 0.9949228838519754, 0.24827915806443576, 0.5223973235292426, 0.2134526698291529, 0.015728091461095477, 0.21441721961520258, 0.017762373222561162, 0.008881186611280581, 0.02283733700043578, 0.7358697477918196, 0.037435166816493795, 0.952895155328933, 0.010209590949952854, 1.0019309197050414, 0.08283809107671014, 0.7059646206204075, 0.15831279627993494, 0.05338454758276876, 0.8275444202246236, 0.0074429378234726305, 0.014885875646945261, 0.03776601784502779, 0.11247106044358642, 0.9737960333957115, 0.026539514536990043, 0.9966489020836156, 0.0054461688638448935, 0.05492099975276809, 0.8857771498587468, 0.0267563844949383, 0.03238930754650426, 0.9961854409417659, 0.9848239046984094, 0.0143420956994914, 0.028150404124113123, 0.9731996854336251, 0.9987201155919623, 0.9917654587734621, 0.00885504873904877, 1.0018303259906631, 0.9948205222491304, 0.9970961272832896, 0.998871077829597, 0.145068397893495, 0.036926501281980544, 0.029013679578699, 0.029013679578699, 0.7596308835150284, 0.9993123194218271, 0.9997485762849145, 0.2149699042076653, 0.0029995800587116084, 0.7828903953237298, 0.3144685250468564, 0.6244765036391474, 0.003345409840924004, 0.013381639363696017, 0.04460546454565339, 0.009296445919918541, 0.9699291909781678, 0.021691707146476596, 0.9966683975975583, 0.5694112100886073, 0.016568706404130183, 0.26620388289302493, 0.08781414394188997, 0.060199633268339665, 0.9953130258663728, 0.9324626489053947, 0.018131218173160452, 0.04921330647000694, 0.0065681744404121715, 0.9917943405022379, 0.9993276489372037, 0.9996713196636331, 0.9938619515749848, 0.00677633148801126, 0.9953663690426543, 0.9350816191523502, 0.059344802587713484, 0.006415654333806863, 0.6551418718877072, 0.15329224857539667, 0.10428044120775284, 0.08733486951149301, 0.7851437730059406, 0.0329699045305229, 0.08357487427504641, 0.049838227778697404, 0.04907148581287129, 1.0047140541989854, 0.9970081644758637, 0.9985022278740049, 0.8280294506336455, 0.08326041989796878, 0.08875011791321946, 0.04600705591822308, 0.9555311613784794, 0.8900199252974899, 0.0855371947670337, 0.02490323391951614, 0.9989586716989491, 0.1119737682931488, 0.03906061684644725, 0.8489174061294537, 1.0050072287850265, 1.0019964421078507, 0.6103444572558865, 0.32186133488103386, 0.051429694779932394, 0.01634851224792553, 0.09543619349548768, 0.026665995241386263, 0.009824314036300201, 0.8687500554956893, 0.08343807718245469, 0.7534949181794379, 0.06557251242103498, 0.004908122187203217, 0.09246902200690861, 0.9983521324949802, 0.019907961416486042, 0.9804670997619375, 0.13884366520171507, 0.052892824838748596, 0.8099213803433378, 0.9971432708353287, 0.41601038279376557, 0.029296505830546868, 0.1867652246697363, 0.3684035608191269, 0.053527200863952774, 0.050073833066278405, 0.21065543565813674, 0.6371463586709217, 0.04834714916744122, 1.001637067809933, 0.9976540071470675, 0.9969999166066724, 0.16763817071493187, 0.13455168965277425, 0.11690556641962353, 0.06065854861395561, 0.5205606353779463, 0.9535840550357236, 0.012979126449645557, 0.027485208952190594, 0.00610782421159791, 0.9995333158240077, 0.9208086557111288, 0.06350404522145715, 0.01587601130536429, 0.5655582125679703, 0.10785240846141213, 0.18978975057873937, 0.09032162828747235, 0.04687578176944767, 1.0050072287850265, 0.995218275764026, 0.9988029522522033, 0.9903972341982701, 0.007125159958260936, 0.9987139567094822, 0.9959063659592449, 0.9569480122004209, 0.04416683133232712, 0.03748951537756519, 0.9409868359768863, 0.022493709226539114, 0.5314743167316542, 0.1437320479211392, 0.04011126918729466, 0.28495714151807244, 1.001637067809933, 0.923433604764778, 0.01349485434938089, 0.06361859907565276, 0.050129627071248614, 0.9175901303041594, 0.017436392024782126, 0.015256843021684362, 0.9582182503555262, 0.040384677218048996, 0.9753339908066605, 0.013422027396421933, 0.00894801826428129, 1.0018356910799768, 0.012186630246688172, 0.07007312391845699, 0.917043926063285, 1.0018511428582642, 1.0018656949687685, 0.03794174702987702, 0.08220711856473355, 0.8810916810271442, 1.0049998417104402, 0.004103681732594934, 0.9971946610205689, 0.9626754147817751, 0.005662796557539853, 0.031145381066469194, 0.9960112107708701, 0.9976226790493095, 1.0049998417104402, 0.9986071650698479, 0.8336519788741588, 0.015386194240966019, 0.09511465530778994, 0.05734854217087334, 1.0049922723515992, 0.9963616421131612, 0.002561340982296044, 1.0016846321362447, 0.05403140217978986, 0.025935073046299134, 0.8882762518357454, 0.03241884130787392, 0.19406024108850856, 0.6580702030208083, 0.11058181335769761, 0.03794473987764134, 0.9994470280251528, 0.03440286609196545, 0.07262827286081597, 0.8944745183911019, 0.05939976707330222, 0.9404963119939518, 0.9891360616681979, 0.012929883159061411, 0.8967704311449501, 0.10411941335390806, 0.9999587008999573, 0.9945009097634632, 0.997149888420611, 0.9963248173439534, 0.08973818119990105, 0.08717423316561816, 0.8230273190048067, 0.9951635592672488, 0.07114246119562324, 0.7780066589726491, 0.02736248507523971, 0.1231311828385787, 0.7259110290894405, 0.0067321457766529496, 0.1873393669572045, 0.056178595791379786, 0.023910724655008753, 0.0368448975762874, 0.07053166107460732, 0.8926992327054776, 0.2837084731879214, 0.5241726987305708, 0.16708004772036944, 0.016380396835330338, 0.009173022227784988, 0.8776733197348672, 0.12233372041685345, 1.0007624449350716, 1.0044413362863855, 0.6595964770314501, 0.02668596433791363, 0.26761490652077535, 0.015357017213327656, 0.030965788807201668, 0.9614554552624165, 0.03975943611987436, 0.44716529410454936, 0.07075400223173249, 0.3952790258012788, 0.08679157607092519, 0.4794997561713085, 0.09769433701619176, 0.42367442073348466, 0.01545962505798813, 0.9816861911822462, 0.9975312822876448, 0.0023835872933993902, 0.9951636868985917, 0.005331234036956741, 0.07691356802769554, 0.04086033301471326, 0.8148031112933997, 0.0672993720242336, 0.013721291825660665, 0.9742117196219072, 0.013721291825660665, 0.9959063659592449, 1.0044707056808377, 0.996018152328389, 1.0046886677137237, 1.005021481800535, 0.7134712485870974, 0.17756071797416453, 0.06026303155486796, 0.04896371313833022, 1.0049922723515992, 0.9950232588160256, 1.000737160331555, 0.15080937016443002, 0.021240756361187326, 0.07859079853639311, 0.7200616406442504, 0.029737058905662257, 0.0910077998087697, 0.2231781380469476, 0.6296582050373536, 0.05627690800895653, 0.1473896220408507, 0.024564937006808455, 0.022108443306127608, 0.7369481102042537, 0.06878182361906367, 0.9708145338542902, 0.02841408391768654, 0.9947161144381352, 0.08937034445534323, 0.7672359759845503, 0.010960513942636434, 0.04131270639916809, 0.09105657736959498, 0.9967954909988626, 0.0027459930881511365, 0.16219411092239971, 0.8007420971664418, 0.011689665652064845, 0.026301747717145902, 0.3277764148188511, 0.03236009190886746, 0.05950081415501437, 0.5803939064945262, 0.4675064021946763, 0.389109576784725, 0.04599280424050477, 0.017769947092922296, 0.07970343916678384, 0.998708409863828, 0.9959293415638631, 0.21356518460942447, 0.2914274914982771, 0.030032604085700316, 0.4660615226632753, 0.7758494320928526, 0.12169213243453833, 0.06208782267068282, 0.0014901077440963879, 0.03874280134650608, 0.9966277686405205, 0.01761452620627232, 0.9820098359996818, 0.1458417905884873, 0.771146291867023, 0.08262281698575247, 0.03826311265748913, 0.961169389956127, 1.0000841295121186, 1.0049922723515992, 0.043178579217839075, 0.9560971112521509, 1.001789396470363, 0.9759238460788008, 0.02623451199136561, 0.020615100023954457, 0.9792172511378368, 1.0015990806514568, 0.05585356490912869, 0.9452141753852548, 0.9954648501965947, 0.0236774864326577, 0.012749415771431068, 0.020034796212248823, 0.09288860062042635, 0.8505681664654727, 0.9958460110596074, 0.0695151272481941, 0.09558329996626688, 0.05213634543614558, 0.7820451815421836, 0.9961854409417659, 0.33164177021700614, 0.5460364499532526, 0.048573794627743326, 0.07453565037705441, 0.5455426478762849, 0.0529185990003451, 0.30115493612923666, 0.054842911691266746, 0.04522134823665854, 0.5087264353639003, 0.121738038034552, 0.06730232997032143, 0.2622811388549291, 0.04057934601151734, 0.5411859826416524, 0.007225447031263717, 0.11054933957833486, 0.3410410998756474, 0.8092114209535115, 0.017506119040495392, 0.11289660442441926, 0.031439560725787644, 0.029295954312665757, 0.9127913938333234, 0.02814000443416797, 0.059797509422606934, 0.8005408425719357, 0.18979387757024616, 0.009733019362576726, 0.21362761583071727, 0.6275311215027319, 0.13852415714023072, 0.020027588984129742, 0.0725709898998326, 0.9272959820534166, 0.13272211986320326, 0.8457782148145305, 0.020819156056973057, 0.9981423976959656, 0.6921224849405839, 0.029420721995348946, 0.019123469296976815, 0.10628235820819806, 0.15335551340075637, 1.0017559870963193, 0.7783564682823461, 0.06882986950926531, 0.11964818438059203, 0.033450030041885945, 0.71940408076766, 0.12246631522340576, 0.13101843220828047, 0.027366774351599052, 0.021840625802798386, 0.9773680046752278, 0.07015882083314626, 0.7892867343728953, 0.14031764166629251, 0.17248539367123394, 0.7338194379872672, 0.09305133079632358, 0.8425911895199328, 0.045389339298331347, 0.10563337145793476, 0.006602085716120923, 0.013493521878491623, 0.9850270971298886, 1.0019478519095544, 0.9976232100476985, 0.8724405180868251, 0.12381169068558905, 0.002879341643850908, 0.9997039920259818, 0.036493322102917794, 0.9585579272366408, 0.00486577628038904, 0.46291422178480457, 0.07018915998181152, 0.02061110253434148, 0.41667850528884937, 0.029524011738381036, 0.987154930539849, 0.013220824962587264, 0.5251285637822948, 0.18883410980454238, 0.0376607353823666, 0.2487730266807033, 1.0019200600406204, 1.0046750790046535, 0.01647831525772815, 0.9804597578348251, 1.002008580604585, 0.6621831901699821, 0.039730991410198924, 0.06833730522554216, 0.0010594931042719714, 0.22858563724667783, 0.0690868996550462, 0.016169274387351242, 0.9157689039381657, 0.5708397619917568, 0.054284910501444926, 0.32401305955549936, 0.022901446617797076, 0.02799065697730754, 1.0021010127641479, 0.9981936150062999, 0.7159914040633323, 0.01231345864347663, 0.05975649047569541, 0.05722136663733257, 0.15464255414013298, 0.999437990430041, 0.6117146096261575, 0.13003805793804465, 0.17679331472475732, 0.020942458769048388, 0.060392206682837214, 0.3325760401444171, 0.07086365988549323, 0.13931151318398102, 0.37606055871051525, 0.08133215509585019, 0.9948438313717137, 0.5017786962420796, 0.16935859562728048, 0.2068097136427065, 0.08849069477981192, 0.033474008137681664, 0.14379999827906925, 0.7754613404128949, 0.040581594606363104, 0.009704294362391177, 0.030877300243971926, 0.37010569673740606, 0.25099121962651677, 0.05360151469990019, 0.011060630017439722, 0.31480254665020746, 1.0001995960764267, 0.9747447149044625, 0.027457597602942602, 0.9427304076328108, 0.03981365220772051, 0.017062993803308793, 0.46448267973360435, 0.13627599338208773, 0.013523571862344584, 0.0062416485518513466, 0.37970028690429025, 0.9993566718295994, 0.509308005360075, 0.06564795688297513, 0.34325729089137325, 0.07465846076887368, 0.006865145817827465, 0.9993345973281, 0.49031144555514333, 0.02129217375148994, 0.3862163738811925, 0.07807130375546312, 0.02424942010586354, 0.9999194092023702, 0.9972810051655316, 0.7812715282278674, 0.008986392621652012, 0.14024218788335716, 0.04547659296411776, 0.023963713657738698, 0.9978959125151363, 1.0005100695036893, 1.0046819523173693, 0.8899909947887341, 0.040667426826901734, 0.0703859310465607, 0.8736418830391327, 0.12776580898200754, 1.0003611600975602, 0.2956051687270641, 0.14594732179829942, 0.09276312826163098, 0.009894733681240638, 0.45639459104722446, 1.0017019293749234, 0.9846253135210028, 0.016141398582311523, 0.881501621787446, 0.08898439084289675, 0.02979388086257704, 0.06994274363165094, 0.8159986757025943, 0.09014842512523899, 0.024868531069031447, 0.9970961272832896, 0.999266013524099, 0.9966415395623541, 0.9609385305445038, 0.033009338835498225, 0.0061128405250922635, 0.5604480880064261, 0.07463911452422028, 0.09506666165716479, 0.10711367663300385, 0.16289659380373692, 0.9966683975975583, 0.9979084837732531, 0.9974134437183386, 1.0020636679612964, 0.025438642519313232, 0.9751479632403406, 0.2761420784141649, 0.3047085003190785, 0.19855426583291805, 0.21900923460433766, 0.0014106875014772153, 0.9729840413323456, 0.025055383038601175, 0.06632950844108076, 0.9355951716952445, 0.3911375563341214, 0.2980095667307592, 0.24792740343295103, 0.06291313075427138, 0.99804177952095, 0.8442380548592823, 0.03963558943001325, 0.0018016177013642388, 0.009368412047094042, 0.10521447375967155, 0.06070583696920625, 0.8498817175688875, 0.09023840630557686, 0.9966178679827589, 1.0008859077249257, 0.015541087675592433, 0.9842688861208541, 1.0013042158168635, 0.9995893663964409, 0.8371573786737818, 0.011605206257607562, 0.055915993786654614, 0.025847959391944113, 0.06910372817029957, 0.9965464210017678, 0.7040237578570591, 0.292163424192966, 0.0038611906281008725, 0.9965873973271008, 0.15753573357515718, 0.8401905790675049, 0.0020196888919891947, 0.20173234172365156, 0.6803708694925041, 0.038062705985594636, 0.08088325021938861, 0.999854740795711, 0.996135512049648, 1.001626728336718, 0.3998999147670105, 0.4006014935648473, 0.19994995738350524, 0.8946214033550376, 0.010283004636264801, 0.034705140647393704, 0.060412652238055704, 1.0017629832278303, 0.06975784686071988, 0.7151334234463205, 0.005081697453429925, 0.2101974855736924, 0.5672846387611485, 0.07404821612147736, 0.31627373665444564, 0.04267185335813949, 0.8241178039929541, 0.0762603898377938, 0.030756952807508, 0.0383408589792223, 0.030756952807508, 0.9596308580034147, 0.04060798730972134, 0.5629783790555846, 0.33268868140660024, 0.03715743714411379, 0.004752695448665718, 0.06264916727786628, 0.8579146157789806, 0.14218247845775242, 0.9982457552887445, 0.10596612577610087, 0.728643264860427, 0.018165621561617294, 0.1473433748886736, 0.9975823052859165, 1.0015701881180379, 0.6217598136671444, 0.054952399782413335, 0.2477289635352343, 0.02038556766121785, 0.054952399782413335, 0.08664179577805502, 0.08423507922866459, 0.21780784771983275, 0.611306003545166, 0.9987939707178403, 0.8751871910750485, 0.05454834671344759, 0.014964590691299781, 0.05551380417740242, 1.0044350666381174, 0.9973698669786184, 0.995761179781379, 0.9962484251398198, 0.4273355693434876, 0.2628214064976379, 0.005350054076287795, 0.3042843255888683, 0.001410314549390815, 0.998502700968697, 0.9975707468547907, 0.9474307987465568, 0.04031620420198114, 0.012827883155175817, 0.9441373642434566, 0.01796218528881725, 0.03816964373873665, 0.008072790410050937, 0.9929532204362652, 0.9942745239016504, 0.0039455338250065485, 1.001626728336718, 0.016756983346733485, 0.9830763563416979, 1.001616084984317, 1.0016933944785478, 1.00047154061612, 0.9983546714760315, 1.0002284258796164, 0.16382599603743597, 0.8103339535542974, 0.026388079898647405, 1.0010627876411466, 0.08871496921304056, 0.8040674193753359, 0.10842940681593848, 0.560882196325058, 0.18584120676638646, 0.17464595334672464, 0.05541650442732609, 0.023230150845798308, 0.05797116016866643, 0.8668068710933933, 0.07453434878828541, 0.02426071245029154, 0.9773601301403163, 0.008777479369913448, 0.9918551688002196, 0.9989058989542923, 1.0018017328025601, 0.033008911176123736, 0.10802916384913222, 0.01200324042768136, 0.847728855204996, 0.09157436769655748, 0.19841113000920788, 0.7107915206923271, 1.005054344460184, 0.9914423524826047, 0.006744505799201393, 1.0008653209267717, 0.996018152328389, 1.004476212633504, 0.22703968728101673, 0.17640493688021444, 0.01796716949705888, 0.5798495610414456, 0.9959063659592449, 1.0046886677137237, 0.856195331312604, 0.14380114637875782, 1.0017183513568353, 1.000336665717876, 0.5888077297862245, 0.0153202358140388, 0.25840131073012107, 0.029619122573808346, 0.10775232522540623, 0.04425112300401581, 0.9240675686132713, 0.031236086826364102, 0.037927044237855055, 0.9633469236415184, 0.9978959125151363, 0.10641109606003216, 0.025202628014218142, 0.868090520489736, 1.005021481800535, 0.2981780401835269, 0.5562446098075193, 0.09665414592658894, 0.004349436566696502, 0.044460907126230916, 0.9948438313717137, 0.11832128755776845, 0.8816095935676865, 0.996018152328389, 0.7534446894513926, 0.040293755943598956, 0.13787261069857956, 0.03883735512636044, 0.030098950222929344, 0.10814316633263565, 0.016323496804926136, 0.08773879532647799, 0.70140025333667, 0.0867185767761701, 1.0001920382496, 0.9903948132618157, 0.007125142541451911, 1.005028359853795, 0.9970081644758637, 1.001966451944577], \"Term\": [\"00\", \"00\", \"00\", \"00\", \"00\", \"000\", \"000\", \"000\", \"000\", \"0000\", \"0000\", \"000000\", \"10\", \"10\", \"10\", \"10\", \"10\", \"19\", \"19\", \"19\", \"19\", \"19\", \"1933\", \"1934\", \"20\", \"20\", \"20\", \"20\", \"20\", \"2005\", \"2005\", \"2005\", \"2005\", \"25000\", \"3d\", \"3d\", \"468\", \"50000\", \"971\", \"99\", \"99\", \"99\", \"99\", \"account\", \"account\", \"account\", \"account\", \"account\", \"acquisition\", \"acquisition\", \"acquisition\", \"acrobat\", \"act\", \"act\", \"act\", \"act\", \"address\", \"address\", \"address\", \"address\", \"address\", \"adobe\", \"adobe\", \"advertise\", \"advertise\", \"advice\", \"advice\", \"advice\", \"advice\", \"advises\", \"advisor\", \"advisor\", \"africa\", \"africa\", \"aging\", \"align\", \"align\", \"alter\", \"andmanyother\", \"anticipates\", \"arial\", \"assistance\", \"assistance\", \"assistance\", \"assistance\", \"assistance\", \"assumption\", \"atoll\", \"bank\", \"bank\", \"bank\", \"based\", \"based\", \"based\", \"based\", \"based\", \"belief\", \"belief\", \"belief\", \"beneficiary\", \"best\", \"best\", \"best\", \"best\", \"best\", \"bgcolor\", \"bonus\", \"bonus\", \"bonus\", \"border\", \"border\", \"botanical\", \"bottle\", \"br\", \"br\", \"bra\", \"bulk\", \"bulk\", \"bulk\", \"business\", \"business\", \"business\", \"business\", \"call\", \"call\", \"call\", \"call\", \"call\", \"canon\", \"capillaris\", \"capitalfm\", \"card\", \"card\", \"card\", \"cartridge\", \"cartridge\", \"cd\", \"cd\", \"cd\", \"cialis\", \"claim\", \"claim\", \"claim\", \"claiming\", \"classified\", \"click\", \"click\", \"click\", \"click\", \"color\", \"color\", \"color\", \"color\", \"company\", \"company\", \"company\", \"company\", \"company\", \"computron\", \"con\", \"con\", \"confidential\", \"confidential\", \"confidential\", \"construed\", \"contact\", \"contact\", \"contact\", \"contact\", \"content\", \"content\", \"content\", \"content\", \"content\", \"corei\", \"corel\", \"couid\", \"country\", \"country\", \"country\", \"country\", \"country\", \"credit\", \"credit\", \"credit\", \"credit\", \"dagga\", \"database\", \"database\", \"database\", \"day\", \"day\", \"day\", \"day\", \"day\", \"deceased\", \"demokritos\", \"deposited\", \"die\", \"die\", \"died\", \"dieting\", \"differ\", \"differ\", \"doctor\", \"doctor\", \"doctor\", \"dollar\", \"dollar\", \"dollar\", \"dollar\", \"downline\", \"download\", \"download\", \"download\", \"drug\", \"drug\", \"drug\", \"drug\", \"earn\", \"earn\", \"ebay\", \"ebay\", \"ebay\", \"ebook\", \"el\", \"el\", \"el\", \"emailing\", \"employment\", \"en\", \"en\", \"en\", \"eneenkio\", \"enenkio\", \"enenkio\", \"engine\", \"engine\", \"engine\", \"epson\", \"erection\", \"este\", \"estimate\", \"event\", \"event\", \"event\", \"event\", \"expe\", \"expectation\", \"expectation\", \"expires\", \"face\", \"face\", \"face\", \"face\", \"fact\", \"fact\", \"fact\", \"fact\", \"fat\", \"father\", \"father\", \"father\", \"ffa\", \"ffa\", \"floodgate\", \"floodgate\", \"follow\", \"follow\", \"font\", \"fontfamily\", \"fontfont\", \"fontsize\", \"foreign\", \"foreign\", \"foreign\", \"foreigner\", \"forward\", \"forward\", \"forward\", \"forward\", \"free\", \"free\", \"free\", \"free\", \"free\", \"fund\", \"fund\", \"fund\", \"future\", \"future\", \"future\", \"future\", \"future\", \"gas\", \"gas\", \"generic\", \"gentle\", \"get\", \"get\", \"get\", \"get\", \"get\", \"girl\", \"girl\", \"good\", \"good\", \"good\", \"good\", \"government\", \"government\", \"government\", \"gr\", \"gr\", \"grant\", \"grant\", \"guide\", \"guide\", \"health\", \"health\", \"health\", \"health\", \"height\", \"height\", \"height\", \"herba\", \"herbal\", \"hermios\", \"hewlett\", \"hin\", \"home\", \"home\", \"home\", \"home\", \"hou\", \"hp\", \"href\", \"html\", \"html\", \"html\", \"html\", \"html\", \"http\", \"http\", \"http\", \"http\", \"id\", \"id\", \"id\", \"id\", \"id\", \"identified\", \"identified\", \"iit\", \"inc\", \"inc\", \"inc\", \"inc\", \"inc\", \"income\", \"income\", \"industry\", \"industry\", \"industry\", \"industry\", \"info\", \"info\", \"info\", \"info\", \"information\", \"information\", \"information\", \"information\", \"information\", \"inherent\", \"intel\", \"international\", \"international\", \"international\", \"international\", \"internet\", \"internet\", \"internet\", \"internet\", \"internet\", \"intro\", \"investing\", \"investing\", \"investment\", \"investment\", \"investment\", \"investor\", \"investor\", \"involve\", \"ire\", \"island\", \"island\", \"jody\", \"judgment\", \"judgment\", \"jul\", \"jul\", \"kin\", \"kingdom\", \"kingdom\", \"kno\", \"la\", \"la\", \"la\", \"la\", \"la\", \"laserjet\", \"late\", \"late\", \"late\", \"late\", \"lauraan\", \"life\", \"life\", \"life\", \"life\", \"like\", \"like\", \"like\", \"like\", \"like\", \"line\", \"line\", \"line\", \"line\", \"line\", \"link\", \"link\", \"link\", \"link\", \"list\", \"list\", \"list\", \"list\", \"list\", \"loan\", \"loan\", \"loan\", \"logo\", \"logo\", \"logo\", \"looking\", \"looking\", \"looking\", \"looking\", \"lottery\", \"lottery\", \"love\", \"love\", \"love\", \"macromedia\", \"mail\", \"mail\", \"mail\", \"mail\", \"mail\", \"mailed\", \"mailing\", \"mailing\", \"mailing\", \"mailing\", \"make\", \"make\", \"make\", \"make\", \"male\", \"male\", \"man\", \"man\", \"man\", \"market\", \"market\", \"market\", \"marketing\", \"marketing\", \"marketing\", \"marketing\", \"marshall\", \"marshall\", \"mastercard\", \"materially\", \"med\", \"med\", \"med\", \"medication\", \"men\", \"men\", \"men\", \"message\", \"message\", \"message\", \"message\", \"message\", \"mg\", \"mg\", \"million\", \"million\", \"million\", \"million\", \"millionaire\", \"mime\", \"ministry\", \"ministry\", \"mlm\", \"money\", \"money\", \"money\", \"money\", \"money\", \"mr\", \"mr\", \"mr\", \"much\", \"much\", \"much\", \"much\", \"much\", \"multilevel\", \"muscle\", \"name\", \"name\", \"name\", \"name\", \"name\", \"nbsp\", \"need\", \"need\", \"need\", \"need\", \"need\", \"net\", \"net\", \"net\", \"net\", \"net\", \"netherlands\", \"new\", \"new\", \"new\", \"new\", \"new\", \"news\", \"news\", \"news\", \"news\", \"news\", \"next\", \"next\", \"next\", \"next\", \"next\", \"nigeria\", \"norton\", \"norton\", \"nt\", \"nt\", \"nt\", \"number\", \"number\", \"number\", \"number\", \"number\", \"objective\", \"offer\", \"offer\", \"offer\", \"offer\", \"offer\", \"oi\", \"online\", \"online\", \"online\", \"online\", \"online\", \"ooking\", \"ooo\", \"order\", \"order\", \"order\", \"order\", \"order\", \"otc\", \"oz\", \"packard\", \"page\", \"page\", \"page\", \"pain\", \"pain\", \"para\", \"part\", \"part\", \"part\", \"part\", \"part\", \"payable\", \"penis\", \"penis\", \"people\", \"people\", \"people\", \"performance\", \"performance\", \"performance\", \"performance\", \"pertaining\", \"pharmacy\", \"piease\", \"pill\", \"pill\", \"pill\", \"please\", \"please\", \"please\", \"please\", \"please\", \"political\", \"por\", \"prediction\", \"premiere\", \"prescription\", \"prescription\", \"price\", \"price\", \"price\", \"price\", \"price\", \"print\", \"print\", \"prize\", \"prize\", \"product\", \"product\", \"product\", \"product\", \"profiled\", \"program\", \"program\", \"program\", \"program\", \"program\", \"project\", \"project\", \"project\", \"projecthoneypot\", \"projection\", \"pt\", \"pt\", \"que\", \"ragga\", \"receive\", \"receive\", \"receive\", \"receive\", \"receive\", \"replica\", \"report\", \"report\", \"report\", \"resuits\", \"revenue\", \"revenue\", \"revenue\", \"risk\", \"risk\", \"risk\", \"risk\", \"rolex\", \"rx\", \"saave\", \"save\", \"save\", \"save\", \"search\", \"search\", \"search\", \"search\", \"searcher\", \"security\", \"security\", \"security\", \"security\", \"see\", \"see\", \"see\", \"see\", \"send\", \"send\", \"send\", \"send\", \"send\", \"sending\", \"sending\", \"service\", \"service\", \"service\", \"service\", \"service\", \"sex\", \"sex\", \"sexual\", \"share\", \"share\", \"share\", \"share\", \"shareholder\", \"showcase\", \"site\", \"site\", \"site\", \"site\", \"site\", \"size\", \"size\", \"size\", \"size\", \"smoking\", \"software\", \"software\", \"software\", \"software\", \"soma\", \"speculative\", \"squirrelmail\", \"src\", \"state\", \"state\", \"state\", \"state\", \"statement\", \"statement\", \"stationery\", \"step\", \"step\", \"step\", \"stock\", \"stock\", \"stock\", \"style\", \"style\", \"submit\", \"submit\", \"submitting\", \"sum\", \"sum\", \"symantec\", \"systemworks\", \"tab\", \"tablet\", \"td\", \"technology\", \"technology\", \"technology\", \"temple\", \"term\", \"term\", \"term\", \"time\", \"time\", \"time\", \"time\", \"time\", \"tm\", \"tm\", \"tm\", \"toner\", \"toner\", \"tr\", \"tr\", \"trading\", \"traffic\", \"transaction\", \"transaction\", \"transaction\", \"transaction\", \"transfer\", \"transfer\", \"transfer\", \"transferred\", \"tue\", \"tue\", \"uncertainty\", \"unclaimed\", \"und\", \"united\", \"united\", \"united\", \"united\", \"valium\", \"verdana\", \"viagra\", \"viagra\", \"virtually\", \"voip\", \"want\", \"want\", \"want\", \"want\", \"want\", \"weight\", \"weight\", \"weight\", \"width\", \"width\", \"wil\", \"winning\", \"winning\", \"winning\", \"wit\", \"within\", \"within\", \"within\", \"within\", \"within\", \"wn\", \"woman\", \"woman\", \"wor\", \"work\", \"work\", \"work\", \"work\", \"work\", \"www\", \"www\", \"www\", \"www\", \"www\", \"wysak\", \"xanax\", \"xanax\", \"zimbabwe\", \"\\u00e2\\u01533\\u00e2\", \"\\u00ef\\u00bd\\u00ef\\u00bd\\u00ef\\u00bdn\"]}, \"R\": 30, \"lambda.step\": 0.01, \"plot.opts\": {\"xlab\": \"PC1\", \"ylab\": \"PC2\"}, \"topic.order\": [1, 2, 3, 5, 4]};\n",
       "\n",
       "function LDAvis_load_lib(url, callback){\n",
       "  var s = document.createElement('script');\n",
       "  s.src = url;\n",
       "  s.async = true;\n",
       "  s.onreadystatechange = s.onload = callback;\n",
       "  s.onerror = function(){console.warn(\"failed to load library \" + url);};\n",
       "  document.getElementsByTagName(\"head\")[0].appendChild(s);\n",
       "}\n",
       "\n",
       "if(typeof(LDAvis) !== \"undefined\"){\n",
       "   // already loaded: just create the visualization\n",
       "   !function(LDAvis){\n",
       "       new LDAvis(\"#\" + \"ldavis_el173219142232866883040777860\", ldavis_el173219142232866883040777860_data);\n",
       "   }(LDAvis);\n",
       "}else if(typeof define === \"function\" && define.amd){\n",
       "   // require.js is available: use it to load d3/LDAvis\n",
       "   require.config({paths: {d3: \"https://d3js.org/d3.v5\"}});\n",
       "   require([\"d3\"], function(d3){\n",
       "      window.d3 = d3;\n",
       "      LDAvis_load_lib(\"https://cdn.jsdelivr.net/gh/bmabey/pyLDAvis@3.4.0/pyLDAvis/js/ldavis.v3.0.0.js\", function(){\n",
       "        new LDAvis(\"#\" + \"ldavis_el173219142232866883040777860\", ldavis_el173219142232866883040777860_data);\n",
       "      });\n",
       "    });\n",
       "}else{\n",
       "    // require.js not available: dynamically load d3 & LDAvis\n",
       "    LDAvis_load_lib(\"https://d3js.org/d3.v5.js\", function(){\n",
       "         LDAvis_load_lib(\"https://cdn.jsdelivr.net/gh/bmabey/pyLDAvis@3.4.0/pyLDAvis/js/ldavis.v3.0.0.js\", function(){\n",
       "                 new LDAvis(\"#\" + \"ldavis_el173219142232866883040777860\", ldavis_el173219142232866883040777860_data);\n",
       "            })\n",
       "         });\n",
       "}\n",
       "</script>"
      ],
      "text/plain": [
       "PreparedData(topic_coordinates=              x         y  topics  cluster       Freq\n",
       "topic                                                \n",
       "0     -0.054956 -0.075467       1        1  35.873086\n",
       "1     -0.132603 -0.007165       2        1  18.240677\n",
       "2     -0.044569 -0.217906       3        1  16.846583\n",
       "4      0.351781  0.044865       4        1  15.305024\n",
       "3     -0.119653  0.255674       5        1  13.734629, topic_info=          Term         Freq        Total Category  logprob  loglift\n",
       "208    company  5093.000000  5093.000000  Default  30.0000  30.0000\n",
       "512  statement  2127.000000  2127.000000  Default  29.0000  29.0000\n",
       "599       http  3109.000000  3109.000000  Default  28.0000  28.0000\n",
       "515      stock  1781.000000  1781.000000  Default  27.0000  27.0000\n",
       "469     report  3884.000000  3884.000000  Default  26.0000  26.0000\n",
       "..         ...          ...          ...      ...      ...      ...\n",
       "208    company   471.364074  5093.597724   Topic5  -5.7215  -0.3949\n",
       "779       mail   416.671084  2719.171882   Topic5  -5.8449   0.1095\n",
       "756    address   407.721322  3627.599832   Topic5  -5.8666  -0.2005\n",
       "253     dollar   341.095316  1196.671184   Topic5  -6.0450   0.7301\n",
       "187   business   335.128808  3835.810391   Topic5  -6.0627  -0.4524\n",
       "\n",
       "[412 rows x 6 columns], token_table=       Topic      Freq      Term\n",
       "term                            \n",
       "97         1  0.509976        00\n",
       "97         2  0.022296        00\n",
       "97         3  0.139858        00\n",
       "97         4  0.216071        00\n",
       "97         5  0.111481        00\n",
       "...      ...       ...       ...\n",
       "2745       3  0.990395     xanax\n",
       "2745       4  0.007125     xanax\n",
       "16756      5  1.005028  zimbabwe\n",
       "6478       3  0.997008      âœ3â\n",
       "66617      1  1.001966   ï½ï½ï½n\n",
       "\n",
       "[839 rows x 3 columns], R=30, lambda_step=0.01, plot_opts={'xlab': 'PC1', 'ylab': 'PC2'}, topic_order=[1, 2, 3, 5, 4])"
      ]
     },
     "execution_count": 17,
     "metadata": {},
     "output_type": "execute_result"
    }
   ],
   "source": [
    "# 整理／顯示主題模型結果\n",
    "n_top_words = 20\n",
    "topic_word = model.topic_word_\n",
    "\n",
    "for i, topic_dist in enumerate(topic_word):\n",
    "    topic_words = np.array(vocab)[np.argsort(topic_dist)][: -(n_top_words + 1) : -1]\n",
    "    print(\"Topic {}：{}\".format(seed_topic_ch[i], \" \".join(topic_words)))\n",
    "\n",
    "\n",
    "doc_topic = model.doc_topic_\n",
    "term_freq = tuple(dictionary.cfs.values())\n",
    "doc_len = [sum(v for k, v in doc) for doc in corpus]\n",
    "\n",
    "## LDAvis\n",
    "pyLDAvis.enable_notebook()\n",
    "p = pyLDAvis.prepare(topic_word, doc_topic, doc_len, vocab = vocab, term_frequency = term_freq)\n",
    "p"
   ]
  },
  {
   "cell_type": "markdown",
   "metadata": {},
   "source": [
    "從最後分類的結果可以看出，加入 Seed Words 的 GuideLDA 能夠更有效地分離出我們關注的主題。像是原先 cialis、viagra、dagga 等藥品名稱原先被分散在各地，現在可以集中在一起。\n",
    "</br>從圖中也可以看出主題 1、2、3 有些許重疊，推測是因為雖然這些主題屬於不同類型，但釣魚信中的用詞大多相似，像是 company、free、get、click、money 等，這些詞都是有關給予收信者金錢或是優惠折扣。"
   ]
  },
  {
   "cell_type": "markdown",
   "metadata": {},
   "source": [
    "## BERTopic"
   ]
  },
  {
   "cell_type": "code",
   "execution_count": 2,
   "metadata": {},
   "outputs": [],
   "source": [
    "from bertopic import BERTopic\n",
    "from bertopic.vectorizers import ClassTfidfTransformer\n",
    "from hdbscan import HDBSCAN\n",
    "from sklearn.feature_extraction.text import CountVectorizer\n",
    "from sklearn.cluster import KMeans\n",
    "import joblib"
   ]
  },
  {
   "cell_type": "markdown",
   "metadata": {},
   "source": [
    "### 資料前處理\n",
    "BERTopic 只需要斷句就好"
   ]
  },
  {
   "cell_type": "code",
   "execution_count": 3,
   "metadata": {},
   "outputs": [],
   "source": [
    "Phishing_mail = pd.read_csv(\"dataset/Phishing_Email.csv\")\n",
    "\n",
    "# 斷句\n",
    "Phishing_mail = Phishing_mail.assign(sentence = Phishing_mail['Email Text'].astype(str).apply(nltk.sent_tokenize)).explode('sentence').reset_index(drop=True)\n",
    "\n",
    "# 刪除標點符號/數字/換行符號\n",
    "Phishing_mail[\"sentence\"] = Phishing_mail[\"sentence\"].apply(lambda x: re.sub(r'[^\\w\\s]','', str(x)))  #只留下英文字母和空格(包含換行符號)\n",
    "Phishing_mail[\"sentence\"] = Phishing_mail[\"sentence\"].apply(lambda x: re.sub(r'[\\n_-]+',' ', x)) #將換行符號替換成空格\n",
    "\n",
    "# 去除空值\n",
    "# dataset 有些郵件是 empty\n",
    "# 經過 nltk 套件會有些東西變 nan\n",
    "Phishing_mail = Phishing_mail[Phishing_mail[\"sentence\"] != \"empty\"]\n",
    "Phishing_mail = Phishing_mail[Phishing_mail[\"sentence\"] != \"nan\"]"
   ]
  },
  {
   "cell_type": "code",
   "execution_count": 4,
   "metadata": {},
   "outputs": [
    {
     "name": "stdout",
     "output_type": "stream",
     "text": [
      "<class 'pandas.core.frame.DataFrame'>\n",
      "Index: 145151 entries, 25 to 600456\n",
      "Data columns (total 4 columns):\n",
      " #   Column      Non-Null Count   Dtype \n",
      "---  ------      --------------   ----- \n",
      " 0   Unnamed: 0  145151 non-null  int64 \n",
      " 1   Email Text  145151 non-null  object\n",
      " 2   Email Type  145151 non-null  object\n",
      " 3   sentence    145151 non-null  object\n",
      "dtypes: int64(1), object(3)\n",
      "memory usage: 5.5+ MB\n"
     ]
    }
   ],
   "source": [
    "# 只取釣魚信件\n",
    "Phishing_mail = Phishing_mail[Phishing_mail[\"Email Type\"] == \"Phishing Email\"]\n",
    "Phishing_mail.info()"
   ]
  },
  {
   "cell_type": "code",
   "execution_count": 6,
   "metadata": {},
   "outputs": [
    {
     "name": "stderr",
     "output_type": "stream",
     "text": [
      "[nltk_data] Downloading package stopwords to\n",
      "[nltk_data]     C:\\Users\\win90\\AppData\\Roaming\\nltk_data...\n",
      "[nltk_data]   Package stopwords is already up-to-date!\n"
     ]
    }
   ],
   "source": [
    "# 停用字會直接加進 CountVectorizer 中\n",
    "\n",
    "# 初次使用需要安裝nltk中的停用字資源\n",
    "nltk.download('stopwords')\n",
    "\n",
    "# 去除停用字\n",
    "stop_words = stopwords.words('english')\n",
    "\n",
    "# 手動加停用字\n",
    "newStops = ['email','com','wa','ect','one','would','could','may','can','de','also','edu','ha']\n",
    "stop_words.extend(newStops)"
   ]
  },
  {
   "cell_type": "markdown",
   "metadata": {},
   "source": [
    "### 開始跑 BERTopic"
   ]
  },
  {
   "cell_type": "code",
   "execution_count": null,
   "metadata": {},
   "outputs": [],
   "source": [
    "docs = Phishing_mail['sentence'].tolist()\n",
    "\n",
    "# 定義不同 layer 所要使用的模型與方法\n",
    "embedding_model = \"all-MiniLM-L6-v2\"\n",
    "hdbscan_model = HDBSCAN()\n",
    "# 加上 stopwords\n",
    "vectorizer_model = CountVectorizer(stop_words=stop_words)\n",
    "\n",
    "topic_model = BERTopic(embedding_model=embedding_model, hdbscan_model=hdbscan_model, vectorizer_model=vectorizer_model, min_topic_size=4, nr_topics=8, top_n_words=15)\n",
    "topics, probs = topic_model.fit_transform(docs)"
   ]
  },
  {
   "cell_type": "code",
   "execution_count": 11,
   "metadata": {},
   "outputs": [
    {
     "name": "stderr",
     "output_type": "stream",
     "text": [
      "c:\\Users\\win90\\AppData\\Local\\Programs\\Python\\Python310\\lib\\site-packages\\scipy\\sparse\\_index.py:146: SparseEfficiencyWarning: Changing the sparsity structure of a csr_matrix is expensive. lil_matrix is more efficient.\n",
      "  self._set_arrayXarray(i, j, x)\n"
     ]
    },
    {
     "data": {
      "text/plain": [
       "['model/topic_model_phishing1.pkl']"
      ]
     },
     "execution_count": 11,
     "metadata": {},
     "output_type": "execute_result"
    }
   ],
   "source": [
    "# 儲存模型\n",
    "joblib.dump(topic_model, 'model/topic_model_phishing1.pkl')"
   ]
  },
  {
   "cell_type": "markdown",
   "metadata": {},
   "source": [
    "### 查看訓練結果"
   ]
  },
  {
   "cell_type": "code",
   "execution_count": 5,
   "metadata": {},
   "outputs": [],
   "source": [
    "# 讀取訓練好的模型\n",
    "topic_model = joblib.load('model/topic_model_phishing1.pkl')"
   ]
  },
  {
   "cell_type": "code",
   "execution_count": 6,
   "metadata": {},
   "outputs": [
    {
     "data": {
      "text/html": [
       "<div>\n",
       "<style scoped>\n",
       "    .dataframe tbody tr th:only-of-type {\n",
       "        vertical-align: middle;\n",
       "    }\n",
       "\n",
       "    .dataframe tbody tr th {\n",
       "        vertical-align: top;\n",
       "    }\n",
       "\n",
       "    .dataframe thead th {\n",
       "        text-align: right;\n",
       "    }\n",
       "</style>\n",
       "<table border=\"1\" class=\"dataframe\">\n",
       "  <thead>\n",
       "    <tr style=\"text-align: right;\">\n",
       "      <th></th>\n",
       "      <th>Topic</th>\n",
       "      <th>Count</th>\n",
       "      <th>Name</th>\n",
       "      <th>Representation</th>\n",
       "      <th>Representative_Docs</th>\n",
       "    </tr>\n",
       "  </thead>\n",
       "  <tbody>\n",
       "    <tr>\n",
       "      <th>0</th>\n",
       "      <td>-1</td>\n",
       "      <td>27012</td>\n",
       "      <td>-1_please_us_money_get</td>\n",
       "      <td>[please, us, money, get, free, http, click, 20...</td>\n",
       "      <td>[please send me the  prospect pipeline  tm  cd...</td>\n",
       "    </tr>\n",
       "    <tr>\n",
       "      <th>1</th>\n",
       "      <td>0</td>\n",
       "      <td>116439</td>\n",
       "      <td>0_free_company_information_report</td>\n",
       "      <td>[free, company, information, report, get, busi...</td>\n",
       "      <td>[to get more information on this email me at ,...</td>\n",
       "    </tr>\n",
       "    <tr>\n",
       "      <th>2</th>\n",
       "      <td>1</td>\n",
       "      <td>1487</td>\n",
       "      <td>1_enenkio_islands_kingdom_marshall</td>\n",
       "      <td>[enenkio, islands, kingdom, marshall, atoll, g...</td>\n",
       "      <td>[Irooj Hermios was Head of State of the Kingdo...</td>\n",
       "    </tr>\n",
       "    <tr>\n",
       "      <th>3</th>\n",
       "      <td>2</td>\n",
       "      <td>57</td>\n",
       "      <td>2_fuel_battery_cell_box</td>\n",
       "      <td>[fuel, battery, cell, box, ones, batteries, wo...</td>\n",
       "      <td>[for example  in the fuel cell business  toshi...</td>\n",
       "    </tr>\n",
       "    <tr>\n",
       "      <th>4</th>\n",
       "      <td>3</td>\n",
       "      <td>52</td>\n",
       "      <td>3_function_documentwritett_easy_var</td>\n",
       "      <td>[function, documentwritett, easy, var, pattern...</td>\n",
       "      <td>[ \\t\\tif ewhich  2  ewhich  3 \\t\\t\\treturn fal...</td>\n",
       "    </tr>\n",
       "    <tr>\n",
       "      <th>5</th>\n",
       "      <td>4</td>\n",
       "      <td>44</td>\n",
       "      <td>4_cns_counseling_christian_crditos</td>\n",
       "      <td>[cns, counseling, christian, crditos, theologi...</td>\n",
       "      <td>[oferta de temporada  10  de descuentos en cad...</td>\n",
       "    </tr>\n",
       "    <tr>\n",
       "      <th>6</th>\n",
       "      <td>5</td>\n",
       "      <td>42</td>\n",
       "      <td>5_karpenkov_dcenter_align_occurrences</td>\n",
       "      <td>[karpenkov, dcenter, align, occurrences, condu...</td>\n",
       "      <td>[karpenkov earned his phd at ura  state univer...</td>\n",
       "    </tr>\n",
       "    <tr>\n",
       "      <th>7</th>\n",
       "      <td>6</td>\n",
       "      <td>18</td>\n",
       "      <td>6_acts_organs_pathway_endocrine</td>\n",
       "      <td>[acts, organs, pathway, endocrine, neuro, loca...</td>\n",
       "      <td>[ acts through neuro  endocrine pathway ,  act...</td>\n",
       "    </tr>\n",
       "  </tbody>\n",
       "</table>\n",
       "</div>"
      ],
      "text/plain": [
       "   Topic   Count                                   Name  \\\n",
       "0     -1   27012                 -1_please_us_money_get   \n",
       "1      0  116439      0_free_company_information_report   \n",
       "2      1    1487     1_enenkio_islands_kingdom_marshall   \n",
       "3      2      57                2_fuel_battery_cell_box   \n",
       "4      3      52    3_function_documentwritett_easy_var   \n",
       "5      4      44     4_cns_counseling_christian_crditos   \n",
       "6      5      42  5_karpenkov_dcenter_align_occurrences   \n",
       "7      6      18        6_acts_organs_pathway_endocrine   \n",
       "\n",
       "                                      Representation  \\\n",
       "0  [please, us, money, get, free, http, click, 20...   \n",
       "1  [free, company, information, report, get, busi...   \n",
       "2  [enenkio, islands, kingdom, marshall, atoll, g...   \n",
       "3  [fuel, battery, cell, box, ones, batteries, wo...   \n",
       "4  [function, documentwritett, easy, var, pattern...   \n",
       "5  [cns, counseling, christian, crditos, theologi...   \n",
       "6  [karpenkov, dcenter, align, occurrences, condu...   \n",
       "7  [acts, organs, pathway, endocrine, neuro, loca...   \n",
       "\n",
       "                                 Representative_Docs  \n",
       "0  [please send me the  prospect pipeline  tm  cd...  \n",
       "1  [to get more information on this email me at ,...  \n",
       "2  [Irooj Hermios was Head of State of the Kingdo...  \n",
       "3  [for example  in the fuel cell business  toshi...  \n",
       "4  [ \\t\\tif ewhich  2  ewhich  3 \\t\\t\\treturn fal...  \n",
       "5  [oferta de temporada  10  de descuentos en cad...  \n",
       "6  [karpenkov earned his phd at ura  state univer...  \n",
       "7  [ acts through neuro  endocrine pathway ,  act...  "
      ]
     },
     "execution_count": 6,
     "metadata": {},
     "output_type": "execute_result"
    }
   ],
   "source": [
    "topic_model.get_topic_info()"
   ]
  },
  {
   "cell_type": "code",
   "execution_count": 8,
   "metadata": {},
   "outputs": [
    {
     "data": {
      "application/vnd.plotly.v1+json": {
       "config": {
        "plotlyServerURL": "https://plot.ly"
       },
       "data": [
        {
         "customdata": [
          [
           0,
           "free | company | information | report | get",
           116439
          ],
          [
           1,
           "enenkio | islands | kingdom | marshall | atoll",
           1487
          ],
          [
           2,
           "fuel | battery | cell | box | ones",
           57
          ],
          [
           3,
           "function | documentwritett | easy | var | pattern",
           52
          ],
          [
           4,
           "cns | counseling | christian | crditos | theological",
           44
          ],
          [
           5,
           "karpenkov | dcenter | align | occurrences | conductors",
           42
          ],
          [
           6,
           "acts | organs | pathway | endocrine | neuro",
           18
          ]
         ],
         "hovertemplate": "<b>Topic %{customdata[0]}</b><br>%{customdata[1]}<br>Size: %{customdata[2]}",
         "legendgroup": "",
         "marker": {
          "color": "#B0BEC5",
          "line": {
           "color": "DarkSlateGrey",
           "width": 2
          },
          "size": [
           116439,
           1487,
           57,
           52,
           44,
           42,
           18
          ],
          "sizemode": "area",
          "sizeref": 72.774375,
          "symbol": "circle"
         },
         "mode": "markers",
         "name": "",
         "orientation": "v",
         "showlegend": false,
         "type": "scatter",
         "x": [
          -3.5520532,
          -5.4129224,
          1.4840707,
          1.5219358,
          -3.5754874,
          -4.253383,
          -4.6498227
         ],
         "xaxis": "x",
         "y": [
          14.519154,
          15.354945,
          20.267132,
          20.804274,
          15.300877,
          14.707581,
          16.372774
         ],
         "yaxis": "y"
        }
       ],
       "layout": {
        "annotations": [
         {
          "showarrow": false,
          "text": "D1",
          "x": -6.224860739707947,
          "y": 18.13309760093689,
          "yshift": 10
         },
         {
          "showarrow": false,
          "text": "D2",
          "x": -2.2373172730207447,
          "xshift": 10,
          "y": 23.924914646148682
         }
        ],
        "height": 650,
        "hoverlabel": {
         "bgcolor": "white",
         "font": {
          "family": "Rockwell",
          "size": 16
         }
        },
        "legend": {
         "itemsizing": "constant",
         "tracegroupgap": 0
        },
        "margin": {
         "t": 60
        },
        "shapes": [
         {
          "line": {
           "color": "#CFD8DC",
           "width": 2
          },
          "type": "line",
          "x0": -2.2373172730207447,
          "x1": -2.2373172730207447,
          "y0": 12.341280555725097,
          "y1": 23.924914646148682
         },
         {
          "line": {
           "color": "#9E9E9E",
           "width": 2
          },
          "type": "line",
          "x0": -6.224860739707947,
          "x1": 1.750226193666458,
          "y0": 18.13309760093689,
          "y1": 18.13309760093689
         }
        ],
        "sliders": [
         {
          "active": 0,
          "pad": {
           "t": 50
          },
          "steps": [
           {
            "args": [
             {
              "marker.color": [
               [
                "red",
                "#B0BEC5",
                "#B0BEC5",
                "#B0BEC5",
                "#B0BEC5",
                "#B0BEC5",
                "#B0BEC5"
               ]
              ]
             }
            ],
            "label": "Topic 0",
            "method": "update"
           },
           {
            "args": [
             {
              "marker.color": [
               [
                "#B0BEC5",
                "red",
                "#B0BEC5",
                "#B0BEC5",
                "#B0BEC5",
                "#B0BEC5",
                "#B0BEC5"
               ]
              ]
             }
            ],
            "label": "Topic 1",
            "method": "update"
           },
           {
            "args": [
             {
              "marker.color": [
               [
                "#B0BEC5",
                "#B0BEC5",
                "red",
                "#B0BEC5",
                "#B0BEC5",
                "#B0BEC5",
                "#B0BEC5"
               ]
              ]
             }
            ],
            "label": "Topic 2",
            "method": "update"
           },
           {
            "args": [
             {
              "marker.color": [
               [
                "#B0BEC5",
                "#B0BEC5",
                "#B0BEC5",
                "red",
                "#B0BEC5",
                "#B0BEC5",
                "#B0BEC5"
               ]
              ]
             }
            ],
            "label": "Topic 3",
            "method": "update"
           },
           {
            "args": [
             {
              "marker.color": [
               [
                "#B0BEC5",
                "#B0BEC5",
                "#B0BEC5",
                "#B0BEC5",
                "red",
                "#B0BEC5",
                "#B0BEC5"
               ]
              ]
             }
            ],
            "label": "Topic 4",
            "method": "update"
           },
           {
            "args": [
             {
              "marker.color": [
               [
                "#B0BEC5",
                "#B0BEC5",
                "#B0BEC5",
                "#B0BEC5",
                "#B0BEC5",
                "red",
                "#B0BEC5"
               ]
              ]
             }
            ],
            "label": "Topic 5",
            "method": "update"
           },
           {
            "args": [
             {
              "marker.color": [
               [
                "#B0BEC5",
                "#B0BEC5",
                "#B0BEC5",
                "#B0BEC5",
                "#B0BEC5",
                "#B0BEC5",
                "red"
               ]
              ]
             }
            ],
            "label": "Topic 6",
            "method": "update"
           }
          ]
         }
        ],
        "template": {
         "data": {
          "bar": [
           {
            "error_x": {
             "color": "rgb(36,36,36)"
            },
            "error_y": {
             "color": "rgb(36,36,36)"
            },
            "marker": {
             "line": {
              "color": "white",
              "width": 0.5
             },
             "pattern": {
              "fillmode": "overlay",
              "size": 10,
              "solidity": 0.2
             }
            },
            "type": "bar"
           }
          ],
          "barpolar": [
           {
            "marker": {
             "line": {
              "color": "white",
              "width": 0.5
             },
             "pattern": {
              "fillmode": "overlay",
              "size": 10,
              "solidity": 0.2
             }
            },
            "type": "barpolar"
           }
          ],
          "carpet": [
           {
            "aaxis": {
             "endlinecolor": "rgb(36,36,36)",
             "gridcolor": "white",
             "linecolor": "white",
             "minorgridcolor": "white",
             "startlinecolor": "rgb(36,36,36)"
            },
            "baxis": {
             "endlinecolor": "rgb(36,36,36)",
             "gridcolor": "white",
             "linecolor": "white",
             "minorgridcolor": "white",
             "startlinecolor": "rgb(36,36,36)"
            },
            "type": "carpet"
           }
          ],
          "choropleth": [
           {
            "colorbar": {
             "outlinewidth": 1,
             "tickcolor": "rgb(36,36,36)",
             "ticks": "outside"
            },
            "type": "choropleth"
           }
          ],
          "contour": [
           {
            "colorbar": {
             "outlinewidth": 1,
             "tickcolor": "rgb(36,36,36)",
             "ticks": "outside"
            },
            "colorscale": [
             [
              0,
              "#440154"
             ],
             [
              0.1111111111111111,
              "#482878"
             ],
             [
              0.2222222222222222,
              "#3e4989"
             ],
             [
              0.3333333333333333,
              "#31688e"
             ],
             [
              0.4444444444444444,
              "#26828e"
             ],
             [
              0.5555555555555556,
              "#1f9e89"
             ],
             [
              0.6666666666666666,
              "#35b779"
             ],
             [
              0.7777777777777778,
              "#6ece58"
             ],
             [
              0.8888888888888888,
              "#b5de2b"
             ],
             [
              1,
              "#fde725"
             ]
            ],
            "type": "contour"
           }
          ],
          "contourcarpet": [
           {
            "colorbar": {
             "outlinewidth": 1,
             "tickcolor": "rgb(36,36,36)",
             "ticks": "outside"
            },
            "type": "contourcarpet"
           }
          ],
          "heatmap": [
           {
            "colorbar": {
             "outlinewidth": 1,
             "tickcolor": "rgb(36,36,36)",
             "ticks": "outside"
            },
            "colorscale": [
             [
              0,
              "#440154"
             ],
             [
              0.1111111111111111,
              "#482878"
             ],
             [
              0.2222222222222222,
              "#3e4989"
             ],
             [
              0.3333333333333333,
              "#31688e"
             ],
             [
              0.4444444444444444,
              "#26828e"
             ],
             [
              0.5555555555555556,
              "#1f9e89"
             ],
             [
              0.6666666666666666,
              "#35b779"
             ],
             [
              0.7777777777777778,
              "#6ece58"
             ],
             [
              0.8888888888888888,
              "#b5de2b"
             ],
             [
              1,
              "#fde725"
             ]
            ],
            "type": "heatmap"
           }
          ],
          "heatmapgl": [
           {
            "colorbar": {
             "outlinewidth": 1,
             "tickcolor": "rgb(36,36,36)",
             "ticks": "outside"
            },
            "colorscale": [
             [
              0,
              "#440154"
             ],
             [
              0.1111111111111111,
              "#482878"
             ],
             [
              0.2222222222222222,
              "#3e4989"
             ],
             [
              0.3333333333333333,
              "#31688e"
             ],
             [
              0.4444444444444444,
              "#26828e"
             ],
             [
              0.5555555555555556,
              "#1f9e89"
             ],
             [
              0.6666666666666666,
              "#35b779"
             ],
             [
              0.7777777777777778,
              "#6ece58"
             ],
             [
              0.8888888888888888,
              "#b5de2b"
             ],
             [
              1,
              "#fde725"
             ]
            ],
            "type": "heatmapgl"
           }
          ],
          "histogram": [
           {
            "marker": {
             "line": {
              "color": "white",
              "width": 0.6
             }
            },
            "type": "histogram"
           }
          ],
          "histogram2d": [
           {
            "colorbar": {
             "outlinewidth": 1,
             "tickcolor": "rgb(36,36,36)",
             "ticks": "outside"
            },
            "colorscale": [
             [
              0,
              "#440154"
             ],
             [
              0.1111111111111111,
              "#482878"
             ],
             [
              0.2222222222222222,
              "#3e4989"
             ],
             [
              0.3333333333333333,
              "#31688e"
             ],
             [
              0.4444444444444444,
              "#26828e"
             ],
             [
              0.5555555555555556,
              "#1f9e89"
             ],
             [
              0.6666666666666666,
              "#35b779"
             ],
             [
              0.7777777777777778,
              "#6ece58"
             ],
             [
              0.8888888888888888,
              "#b5de2b"
             ],
             [
              1,
              "#fde725"
             ]
            ],
            "type": "histogram2d"
           }
          ],
          "histogram2dcontour": [
           {
            "colorbar": {
             "outlinewidth": 1,
             "tickcolor": "rgb(36,36,36)",
             "ticks": "outside"
            },
            "colorscale": [
             [
              0,
              "#440154"
             ],
             [
              0.1111111111111111,
              "#482878"
             ],
             [
              0.2222222222222222,
              "#3e4989"
             ],
             [
              0.3333333333333333,
              "#31688e"
             ],
             [
              0.4444444444444444,
              "#26828e"
             ],
             [
              0.5555555555555556,
              "#1f9e89"
             ],
             [
              0.6666666666666666,
              "#35b779"
             ],
             [
              0.7777777777777778,
              "#6ece58"
             ],
             [
              0.8888888888888888,
              "#b5de2b"
             ],
             [
              1,
              "#fde725"
             ]
            ],
            "type": "histogram2dcontour"
           }
          ],
          "mesh3d": [
           {
            "colorbar": {
             "outlinewidth": 1,
             "tickcolor": "rgb(36,36,36)",
             "ticks": "outside"
            },
            "type": "mesh3d"
           }
          ],
          "parcoords": [
           {
            "line": {
             "colorbar": {
              "outlinewidth": 1,
              "tickcolor": "rgb(36,36,36)",
              "ticks": "outside"
             }
            },
            "type": "parcoords"
           }
          ],
          "pie": [
           {
            "automargin": true,
            "type": "pie"
           }
          ],
          "scatter": [
           {
            "fillpattern": {
             "fillmode": "overlay",
             "size": 10,
             "solidity": 0.2
            },
            "type": "scatter"
           }
          ],
          "scatter3d": [
           {
            "line": {
             "colorbar": {
              "outlinewidth": 1,
              "tickcolor": "rgb(36,36,36)",
              "ticks": "outside"
             }
            },
            "marker": {
             "colorbar": {
              "outlinewidth": 1,
              "tickcolor": "rgb(36,36,36)",
              "ticks": "outside"
             }
            },
            "type": "scatter3d"
           }
          ],
          "scattercarpet": [
           {
            "marker": {
             "colorbar": {
              "outlinewidth": 1,
              "tickcolor": "rgb(36,36,36)",
              "ticks": "outside"
             }
            },
            "type": "scattercarpet"
           }
          ],
          "scattergeo": [
           {
            "marker": {
             "colorbar": {
              "outlinewidth": 1,
              "tickcolor": "rgb(36,36,36)",
              "ticks": "outside"
             }
            },
            "type": "scattergeo"
           }
          ],
          "scattergl": [
           {
            "marker": {
             "colorbar": {
              "outlinewidth": 1,
              "tickcolor": "rgb(36,36,36)",
              "ticks": "outside"
             }
            },
            "type": "scattergl"
           }
          ],
          "scattermapbox": [
           {
            "marker": {
             "colorbar": {
              "outlinewidth": 1,
              "tickcolor": "rgb(36,36,36)",
              "ticks": "outside"
             }
            },
            "type": "scattermapbox"
           }
          ],
          "scatterpolar": [
           {
            "marker": {
             "colorbar": {
              "outlinewidth": 1,
              "tickcolor": "rgb(36,36,36)",
              "ticks": "outside"
             }
            },
            "type": "scatterpolar"
           }
          ],
          "scatterpolargl": [
           {
            "marker": {
             "colorbar": {
              "outlinewidth": 1,
              "tickcolor": "rgb(36,36,36)",
              "ticks": "outside"
             }
            },
            "type": "scatterpolargl"
           }
          ],
          "scatterternary": [
           {
            "marker": {
             "colorbar": {
              "outlinewidth": 1,
              "tickcolor": "rgb(36,36,36)",
              "ticks": "outside"
             }
            },
            "type": "scatterternary"
           }
          ],
          "surface": [
           {
            "colorbar": {
             "outlinewidth": 1,
             "tickcolor": "rgb(36,36,36)",
             "ticks": "outside"
            },
            "colorscale": [
             [
              0,
              "#440154"
             ],
             [
              0.1111111111111111,
              "#482878"
             ],
             [
              0.2222222222222222,
              "#3e4989"
             ],
             [
              0.3333333333333333,
              "#31688e"
             ],
             [
              0.4444444444444444,
              "#26828e"
             ],
             [
              0.5555555555555556,
              "#1f9e89"
             ],
             [
              0.6666666666666666,
              "#35b779"
             ],
             [
              0.7777777777777778,
              "#6ece58"
             ],
             [
              0.8888888888888888,
              "#b5de2b"
             ],
             [
              1,
              "#fde725"
             ]
            ],
            "type": "surface"
           }
          ],
          "table": [
           {
            "cells": {
             "fill": {
              "color": "rgb(237,237,237)"
             },
             "line": {
              "color": "white"
             }
            },
            "header": {
             "fill": {
              "color": "rgb(217,217,217)"
             },
             "line": {
              "color": "white"
             }
            },
            "type": "table"
           }
          ]
         },
         "layout": {
          "annotationdefaults": {
           "arrowhead": 0,
           "arrowwidth": 1
          },
          "autotypenumbers": "strict",
          "coloraxis": {
           "colorbar": {
            "outlinewidth": 1,
            "tickcolor": "rgb(36,36,36)",
            "ticks": "outside"
           }
          },
          "colorscale": {
           "diverging": [
            [
             0,
             "rgb(103,0,31)"
            ],
            [
             0.1,
             "rgb(178,24,43)"
            ],
            [
             0.2,
             "rgb(214,96,77)"
            ],
            [
             0.3,
             "rgb(244,165,130)"
            ],
            [
             0.4,
             "rgb(253,219,199)"
            ],
            [
             0.5,
             "rgb(247,247,247)"
            ],
            [
             0.6,
             "rgb(209,229,240)"
            ],
            [
             0.7,
             "rgb(146,197,222)"
            ],
            [
             0.8,
             "rgb(67,147,195)"
            ],
            [
             0.9,
             "rgb(33,102,172)"
            ],
            [
             1,
             "rgb(5,48,97)"
            ]
           ],
           "sequential": [
            [
             0,
             "#440154"
            ],
            [
             0.1111111111111111,
             "#482878"
            ],
            [
             0.2222222222222222,
             "#3e4989"
            ],
            [
             0.3333333333333333,
             "#31688e"
            ],
            [
             0.4444444444444444,
             "#26828e"
            ],
            [
             0.5555555555555556,
             "#1f9e89"
            ],
            [
             0.6666666666666666,
             "#35b779"
            ],
            [
             0.7777777777777778,
             "#6ece58"
            ],
            [
             0.8888888888888888,
             "#b5de2b"
            ],
            [
             1,
             "#fde725"
            ]
           ],
           "sequentialminus": [
            [
             0,
             "#440154"
            ],
            [
             0.1111111111111111,
             "#482878"
            ],
            [
             0.2222222222222222,
             "#3e4989"
            ],
            [
             0.3333333333333333,
             "#31688e"
            ],
            [
             0.4444444444444444,
             "#26828e"
            ],
            [
             0.5555555555555556,
             "#1f9e89"
            ],
            [
             0.6666666666666666,
             "#35b779"
            ],
            [
             0.7777777777777778,
             "#6ece58"
            ],
            [
             0.8888888888888888,
             "#b5de2b"
            ],
            [
             1,
             "#fde725"
            ]
           ]
          },
          "colorway": [
           "#1F77B4",
           "#FF7F0E",
           "#2CA02C",
           "#D62728",
           "#9467BD",
           "#8C564B",
           "#E377C2",
           "#7F7F7F",
           "#BCBD22",
           "#17BECF"
          ],
          "font": {
           "color": "rgb(36,36,36)"
          },
          "geo": {
           "bgcolor": "white",
           "lakecolor": "white",
           "landcolor": "white",
           "showlakes": true,
           "showland": true,
           "subunitcolor": "white"
          },
          "hoverlabel": {
           "align": "left"
          },
          "hovermode": "closest",
          "mapbox": {
           "style": "light"
          },
          "paper_bgcolor": "white",
          "plot_bgcolor": "white",
          "polar": {
           "angularaxis": {
            "gridcolor": "rgb(232,232,232)",
            "linecolor": "rgb(36,36,36)",
            "showgrid": false,
            "showline": true,
            "ticks": "outside"
           },
           "bgcolor": "white",
           "radialaxis": {
            "gridcolor": "rgb(232,232,232)",
            "linecolor": "rgb(36,36,36)",
            "showgrid": false,
            "showline": true,
            "ticks": "outside"
           }
          },
          "scene": {
           "xaxis": {
            "backgroundcolor": "white",
            "gridcolor": "rgb(232,232,232)",
            "gridwidth": 2,
            "linecolor": "rgb(36,36,36)",
            "showbackground": true,
            "showgrid": false,
            "showline": true,
            "ticks": "outside",
            "zeroline": false,
            "zerolinecolor": "rgb(36,36,36)"
           },
           "yaxis": {
            "backgroundcolor": "white",
            "gridcolor": "rgb(232,232,232)",
            "gridwidth": 2,
            "linecolor": "rgb(36,36,36)",
            "showbackground": true,
            "showgrid": false,
            "showline": true,
            "ticks": "outside",
            "zeroline": false,
            "zerolinecolor": "rgb(36,36,36)"
           },
           "zaxis": {
            "backgroundcolor": "white",
            "gridcolor": "rgb(232,232,232)",
            "gridwidth": 2,
            "linecolor": "rgb(36,36,36)",
            "showbackground": true,
            "showgrid": false,
            "showline": true,
            "ticks": "outside",
            "zeroline": false,
            "zerolinecolor": "rgb(36,36,36)"
           }
          },
          "shapedefaults": {
           "fillcolor": "black",
           "line": {
            "width": 0
           },
           "opacity": 0.3
          },
          "ternary": {
           "aaxis": {
            "gridcolor": "rgb(232,232,232)",
            "linecolor": "rgb(36,36,36)",
            "showgrid": false,
            "showline": true,
            "ticks": "outside"
           },
           "baxis": {
            "gridcolor": "rgb(232,232,232)",
            "linecolor": "rgb(36,36,36)",
            "showgrid": false,
            "showline": true,
            "ticks": "outside"
           },
           "bgcolor": "white",
           "caxis": {
            "gridcolor": "rgb(232,232,232)",
            "linecolor": "rgb(36,36,36)",
            "showgrid": false,
            "showline": true,
            "ticks": "outside"
           }
          },
          "title": {
           "x": 0.05
          },
          "xaxis": {
           "automargin": true,
           "gridcolor": "rgb(232,232,232)",
           "linecolor": "rgb(36,36,36)",
           "showgrid": false,
           "showline": true,
           "ticks": "outside",
           "title": {
            "standoff": 15
           },
           "zeroline": false,
           "zerolinecolor": "rgb(36,36,36)"
          },
          "yaxis": {
           "automargin": true,
           "gridcolor": "rgb(232,232,232)",
           "linecolor": "rgb(36,36,36)",
           "showgrid": false,
           "showline": true,
           "ticks": "outside",
           "title": {
            "standoff": 15
           },
           "zeroline": false,
           "zerolinecolor": "rgb(36,36,36)"
          }
         }
        },
        "title": {
         "font": {
          "color": "Black",
          "size": 22
         },
         "text": "<b>Intertopic Distance Map</b>",
         "x": 0.5,
         "xanchor": "center",
         "y": 0.95,
         "yanchor": "top"
        },
        "width": 650,
        "xaxis": {
         "anchor": "y",
         "domain": [
          0,
          1
         ],
         "range": [
          -6.224860739707947,
          1.750226193666458
         ],
         "title": {
          "text": ""
         },
         "visible": false
        },
        "yaxis": {
         "anchor": "x",
         "domain": [
          0,
          1
         ],
         "range": [
          12.341280555725097,
          23.924914646148682
         ],
         "title": {
          "text": ""
         },
         "visible": false
        }
       }
      }
     },
     "metadata": {},
     "output_type": "display_data"
    }
   ],
   "source": [
    "topic_model.visualize_topics()"
   ]
  },
  {
   "cell_type": "markdown",
   "metadata": {},
   "source": [
    "查看各主題代表字"
   ]
  },
  {
   "cell_type": "code",
   "execution_count": 7,
   "metadata": {},
   "outputs": [
    {
     "name": "stdout",
     "output_type": "stream",
     "text": [
      "topic 1 : ['free', 'company', 'information', 'report', 'get', 'business', 'please', 'money', 'time', 'http', 'new', 'us', 'order', 'click', 'make']\n",
      "topic 2 : ['enenkio', 'islands', 'kingdom', 'marshall', 'atoll', 'government', 'hermios', 'united', 'father', 'king', 'president', 'said', 'states', 'state', 'us']\n",
      "topic 3 : ['fuel', 'battery', 'cell', 'box', 'ones', 'batteries', 'works', 'converter', 'manual', 'methanol', 'prricee', 'lithium', 'exactly', 'disposable', 'quartz']\n",
      "topic 4 : ['function', 'documentwritett', 'easy', 'var', 'pattern', 'ergonomic', 'index', 'interface', 'val', 'return', 'char', 'simple', 'set', 'false', 'jj']\n",
      "topic 5 : ['cns', 'counseling', 'christian', 'crditos', 'theological', 'seminary', 'en', 'faith', 'percent', 'schools', 'programs', 'sys', 'faiths', 'jewish', 'por']\n",
      "topic 6 : ['karpenkov', 'dcenter', 'align', 'occurrences', 'conductors', 'physics', 'optics', 'semi', 'viadimir', 'degrees', 'phd', 'separate', 'ph', 'programming', 'earned']\n",
      "topic 7 : ['acts', 'organs', 'pathway', 'endocrine', 'neuro', 'locally', 'sex', 'messengers', 'secreted', 'orgies', 'regulate', 'bloodstream', 'tiny', 'continuously', 'hormones']\n"
     ]
    }
   ],
   "source": [
    "for i in range(1, 8):\n",
    "        print(\"topic\", i, \":\", topic_model.get_topic_info()['Representation'][i])"
   ]
  },
  {
   "cell_type": "markdown",
   "metadata": {},
   "source": [
    "- 主題一 是釣魚信件的常見用詞，透過優惠和金錢來使收信人點擊連結。\n",
    "\n",
    "- 主題二 國家、政府有關的主題。\n",
    "\n",
    "- 主題三 科技技術相關的主題，特別是與電池、燃料相關的用詞。\n",
    "\n",
    "- 主題四 主要是網頁程式碼相關主題。\n",
    "\n",
    "- 主題五 宗教相關的主題。\n",
    "\n",
    "- 主題六 科學、學術領域相關主題。\n",
    "\n",
    "- 主題七 健康、醫學相關的主題。\n",
    "\n",
    "BERTopic 更詳細的分割不同主題，我們可以知道除了 LDA 所分出的常見主題外，釣魚信還包含了各式各樣的主題。</br>\n",
    "這也提醒我們需要更加警覺，因為釣魚信會變換多種形式和內容進行釣魚。"
   ]
  },
  {
   "cell_type": "markdown",
   "metadata": {},
   "source": [
    "### 結論\n",
    "透過主題模型，我們可以得出以下推論：\n",
    "\n",
    "1. 釣魚信常常出現如 company、free、get、click、money 等，目的是透過優惠和金錢來引誘收信者點擊連結。\n",
    "2. 釣魚信通常包含網址連結或網頁程式碼。\n",
    "3. 釣魚信大致分為免費軟體、金融投資、醫療藥品及直接給予金錢這四種常見的類型。\n",
    "\n",
    "通過主題模型，我們更深入了解釣魚信的特徵，從而更有效地辨識釣魚信件。"
   ]
  }
 ],
 "metadata": {
  "kernelspec": {
   "display_name": "Python 3",
   "language": "python",
   "name": "python3"
  },
  "language_info": {
   "codemirror_mode": {
    "name": "ipython",
    "version": 3
   },
   "file_extension": ".py",
   "mimetype": "text/x-python",
   "name": "python",
   "nbconvert_exporter": "python",
   "pygments_lexer": "ipython3",
   "version": "3.10.7"
  }
 },
 "nbformat": 4,
 "nbformat_minor": 2
}
