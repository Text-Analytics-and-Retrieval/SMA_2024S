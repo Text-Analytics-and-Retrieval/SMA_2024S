{
 "cells": [
  {
   "cell_type": "markdown",
   "metadata": {},
   "source": [
    "## Phishing Email 的 NER"
   ]
  },
  {
   "cell_type": "code",
   "execution_count": 37,
   "metadata": {},
   "outputs": [],
   "source": [
    "import stanza\n",
    "from stanza.server import CoreNLPClient\n",
    "\n",
    "import os\n",
    "import pandas as pd\n",
    "\n",
    "import nltk\n",
    "from nltk.parse import CoreNLPParser\n",
    "from nltk.parse.corenlp import *\n",
    "from nltk.corpus import stopwords\n",
    "\n",
    "from wordcloud import WordCloud\n",
    "\n",
    "import re\n",
    "import matplotlib.pyplot as plt"
   ]
  },
  {
   "cell_type": "markdown",
   "metadata": {},
   "source": [
    "## 設定 CoreNLP"
   ]
  },
  {
   "cell_type": "code",
   "execution_count": 2,
   "metadata": {},
   "outputs": [
    {
     "name": "stderr",
     "output_type": "stream",
     "text": [
      "2024-05-18 12:51:54 WARNING: Directory ./stanza_corenlp already exists. Please install CoreNLP to a new directory.\n"
     ]
    }
   ],
   "source": [
    "# stanza.install_corenlp(\"./stanza_corenlp\") # 下載coreNLP模型，預設會在/stanza_corenlp裡面"
   ]
  },
  {
   "cell_type": "code",
   "execution_count": 2,
   "metadata": {},
   "outputs": [],
   "source": [
    "os.environ['CORENLP_HOME'] = \"./stanza_corenlp\" # 因為自訂下載路徑，所以要設定環境參數"
   ]
  },
  {
   "cell_type": "code",
   "execution_count": 2,
   "metadata": {},
   "outputs": [],
   "source": [
    "## 讀取文章\n",
    "mails_df = pd.read_csv('dataset/Phishing_Email.csv')"
   ]
  },
  {
   "cell_type": "code",
   "execution_count": 3,
   "metadata": {},
   "outputs": [
    {
     "name": "stdout",
     "output_type": "stream",
     "text": [
      "<class 'pandas.core.frame.DataFrame'>\n",
      "Index: 18117 entries, 0 to 18648\n",
      "Data columns (total 3 columns):\n",
      " #   Column      Non-Null Count  Dtype \n",
      "---  ------      --------------  ----- \n",
      " 0   index       18117 non-null  int64 \n",
      " 1   Email Text  18117 non-null  object\n",
      " 2   Email Type  18117 non-null  object\n",
      "dtypes: int64(1), object(2)\n",
      "memory usage: 566.2+ KB\n"
     ]
    }
   ],
   "source": [
    "# 刪除標點符號/數字/換行符號\n",
    "mails_df[\"Email Text\"] = mails_df[\"Email Text\"].apply(lambda x: re.sub(r'[^\\w\\s]','', str(x)))  #只留下英文字母和空格(包含換行符號)\n",
    "mails_df[\"Email Text\"] = mails_df[\"Email Text\"].apply(lambda x: re.sub(r'[\\n_-]+',' ', x)) #將換行符號替換成空格\n",
    "\n",
    "# 去除空值\n",
    "mails_df = mails_df[mails_df[\"Email Text\"] != 'empty']\n",
    "\n",
    "# 把欄位名字變好聽\n",
    "mails_df = mails_df.rename(columns={\"Unnamed: 0\":\"index\"})\n",
    "\n",
    "mails_df.info()"
   ]
  },
  {
   "cell_type": "code",
   "execution_count": 4,
   "metadata": {},
   "outputs": [
    {
     "name": "stdout",
     "output_type": "stream",
     "text": [
      "<class 'pandas.core.frame.DataFrame'>\n",
      "Index: 6993 entries, 3 to 18645\n",
      "Data columns (total 3 columns):\n",
      " #   Column      Non-Null Count  Dtype \n",
      "---  ------      --------------  ----- \n",
      " 0   index       6993 non-null   int64 \n",
      " 1   Email Text  6993 non-null   object\n",
      " 2   Email Type  6993 non-null   object\n",
      "dtypes: int64(1), object(2)\n",
      "memory usage: 218.5+ KB\n"
     ]
    }
   ],
   "source": [
    "# 只取 Phishing mail\n",
    "Phishing_mails = mails_df[mails_df[\"Email Type\"] == 'Phishing Email']\n",
    "Phishing_mails.info()"
   ]
  },
  {
   "cell_type": "code",
   "execution_count": 6,
   "metadata": {},
   "outputs": [],
   "source": [
    "def get_nlp_result(df, text_col, id_col):    \n",
    "    \n",
    "    print(\"Starting a server with the Python \\\"with\\\" statement...\")\n",
    "    \n",
    "    start = time.time()\n",
    "\n",
    "    with CoreNLPClient(\n",
    "        # annotators = ['tokenize','ssplit', 'pos', 'lemma', 'ner','sentiment','entitymentions'],\n",
    "        # 只跑 ner 就好\n",
    "        annotators = ['ner'],\n",
    "        memory = '32G', endpoint = 'http://localhost:7777' , be_quiet=True, timeout=300000\n",
    "    ) as client:\n",
    "        \n",
    "        token_list = []        \n",
    "        for index, row in df.iterrows(): # document level  \n",
    "            print(index)\n",
    "            # send text into client\n",
    "            document = client.annotate(row[text_col])                \n",
    "            # print(f\"{'Word':12s}\\t{'Lemma':12s}\\t{'POS':6s}\\t{'NER'}\")    \n",
    "            \n",
    "             # sentence level\n",
    "            for i, sent in enumerate(document.sentence):                \n",
    "                s = \"\"\n",
    "                # token level\n",
    "                for t in sent.token: \n",
    "                    s = s + \" \" + t.word # for sentence                \n",
    "                    # print(\"{:12s}\\t{:12s}\\t{:6s}\\t{}\".format(t.word, t.lemma, t.pos, t.ner))                \n",
    "                    # save lemma, pos, ner\n",
    "                    temp_token = [row[id_col],t.word, t.ner]     \n",
    "                    token_list.append(temp_token) \n",
    "\n",
    "\n",
    "        token_table = pd.DataFrame(data=token_list, \n",
    "                            columns=[id_col, 'word', 'ner'])        \n",
    "\n",
    "        end = time.time()\n",
    "\n",
    "        print(\"time costing: {}\".format(end - start))\n",
    "        print(\"\\nThe server should be stopped upon exit from the \\\"with\\\" statement.\")\n",
    "\n",
    "        # return token_table, senti_table , mention_table\n",
    "        return token_table"
   ]
  },
  {
   "cell_type": "code",
   "execution_count": 7,
   "metadata": {},
   "outputs": [
    {
     "name": "stdout",
     "output_type": "stream",
     "text": [
      "index: 6427 length: 69553\n",
      "index: 7991 length: 43357\n",
      "index: 8069 length: 124521\n",
      "index: 13765 length: 70493\n",
      "index: 14275 length: 48867\n"
     ]
    }
   ],
   "source": [
    "# 查看 Phishing mail字數，把字數太多的刪掉\n",
    "lenli = [len(i) for i in Phishing_mails[\"Email Text\"]]\n",
    "lenli2 = [i for i in Phishing_mails[\"index\"]]\n",
    "\n",
    "for i, content in enumerate(lenli):\n",
    "    if lenli[i] > 30000:\n",
    "        print( \"index:\", lenli2[i], \"length:\", lenli[i])"
   ]
  },
  {
   "cell_type": "code",
   "execution_count": 8,
   "metadata": {},
   "outputs": [],
   "source": [
    "# 把太多字的信去掉\n",
    "Phishing_mails_new = Phishing_mails[Phishing_mails[\"index\"] != 8069]\n",
    "Phishing_mails_new = Phishing_mails_new[Phishing_mails_new[\"index\"] != 6427]\n",
    "Phishing_mails_new = Phishing_mails_new[Phishing_mails_new[\"index\"] != 7991]\n",
    "Phishing_mails_new = Phishing_mails_new[Phishing_mails_new[\"index\"] != 13765]\n",
    "Phishing_mails_new = Phishing_mails_new[Phishing_mails_new[\"index\"] != 14275]\n"
   ]
  },
  {
   "cell_type": "code",
   "execution_count": 9,
   "metadata": {},
   "outputs": [
    {
     "name": "stdout",
     "output_type": "stream",
     "text": [
      "<class 'pandas.core.frame.DataFrame'>\n",
      "Index: 6988 entries, 3 to 18645\n",
      "Data columns (total 3 columns):\n",
      " #   Column      Non-Null Count  Dtype \n",
      "---  ------      --------------  ----- \n",
      " 0   index       6988 non-null   int64 \n",
      " 1   Email Text  6988 non-null   object\n",
      " 2   Email Type  6988 non-null   object\n",
      "dtypes: int64(1), object(2)\n",
      "memory usage: 218.4+ KB\n"
     ]
    }
   ],
   "source": [
    "Phishing_mails_new.info()"
   ]
  },
  {
   "cell_type": "markdown",
   "metadata": {},
   "source": [
    "## 拆分資料集並跑 ner"
   ]
  },
  {
   "cell_type": "code",
   "execution_count": 10,
   "metadata": {},
   "outputs": [],
   "source": [
    "# 拆分資料集 不然會跑到斷線\n",
    "Phishing_mails_1 = Phishing_mails_new[:1000]\n",
    "Phishing_mails_2 = Phishing_mails_new[1000:2000]\n",
    "Phishing_mails_3 = Phishing_mails_new[2000:3000]\n",
    "Phishing_mails_4 = Phishing_mails_new[3000:4000]\n",
    "Phishing_mails_5 = Phishing_mails_new[4000:5000]\n",
    "Phishing_mails_6 = Phishing_mails_new[5000:6000]\n",
    "Phishing_mails_7 = Phishing_mails_new[6000:6988]"
   ]
  },
  {
   "cell_type": "code",
   "execution_count": null,
   "metadata": {},
   "outputs": [],
   "source": [
    "# 跑NER 並把它存成 CSV\n",
    "tokens_ner1 = get_nlp_result(Phishing_mails_1, 'Email Text','index') # 資料框, 要處理的文字欄位名, id 欄位名\n",
    "tokens_ner1.to_csv('dataset/Phishing_ner1.csv', encoding = 'utf-8', index = False)\n",
    "tokens_ner2 = get_nlp_result(Phishing_mails_2, 'Email Text','index') # 資料框, 要處理的文字欄位名, id 欄位名\n",
    "tokens_ner2.to_csv('dataset/Phishing_ner2.csv', encoding = 'utf-8', index = False)\n",
    "tokens_ner3 = get_nlp_result(Phishing_mails_3, 'Email Text','index') # 資料框, 要處理的文字欄位名, id 欄位名\n",
    "tokens_ner3.to_csv('dataset/Phishing_ner3.csv', encoding = 'utf-8', index = False)\n",
    "tokens_ner4 = get_nlp_result(Phishing_mails_4, 'Email Text','index') # 資料框, 要處理的文字欄位名, id 欄位名\n",
    "tokens_ner4.to_csv('dataset/Phishing_ner4.csv', encoding = 'utf-8', index = False)\n",
    "tokens_ner5 = get_nlp_result(Phishing_mails_5, 'Email Text','index') # 資料框, 要處理的文字欄位名, id 欄位名\n",
    "tokens_ner5.to_csv('dataset/Phishing_ner5.csv', encoding = 'utf-8', index = False)\n",
    "tokens_ner6 = get_nlp_result(Phishing_mails_6, 'Email Text','index') # 資料框, 要處理的文字欄位名, id 欄位名\n",
    "tokens_ner6.to_csv('dataset/Phishing_ner6.csv', encoding = 'utf-8', index = False)\n",
    "tokens_ner7 = get_nlp_result(Phishing_mails_7, 'Email Text','index') # 資料框, 要處理的文字欄位名, id 欄位名\n",
    "tokens_ner7.to_csv('dataset/Phishing_ner7.csv', encoding = 'utf-8', index = False)"
   ]
  },
  {
   "cell_type": "code",
   "execution_count": 34,
   "metadata": {},
   "outputs": [],
   "source": [
    "# 將資料集 concat 成一份 CSV\n",
    "phishing1 = pd.read_csv(\"dataset/Phishing_ner1.csv\")\n",
    "phishing2 = pd.read_csv(\"dataset/Phishing_ner2.csv\")\n",
    "phishing3 = pd.read_csv(\"dataset/Phishing_ner3.csv\")\n",
    "phishing4 = pd.read_csv(\"dataset/Phishing_ner4.csv\")\n",
    "phishing5 = pd.read_csv(\"dataset/Phishing_ner5.csv\")\n",
    "phishing6 = pd.read_csv(\"dataset/Phishing_ner6.csv\")\n",
    "phishing7 = pd.read_csv(\"dataset/Phishing_ner7.csv\")\n",
    "\n",
    "phishing_new = pd.concat([phishing1, phishing2, phishing3, phishing4, phishing5, phishing6, phishing7], ignore_index=True)\n",
    "phishing_new.to_csv(\"dataset/Phishing_ner_all.csv\", index=False)"
   ]
  },
  {
   "cell_type": "markdown",
   "metadata": {},
   "source": [
    "## 從這裡開始！！"
   ]
  },
  {
   "cell_type": "markdown",
   "metadata": {},
   "source": [
    "完整資料的資料前處裡\n",
    "\n",
    "前面有一樣的code 只是放到這裡比較方便"
   ]
  },
  {
   "cell_type": "code",
   "execution_count": 38,
   "metadata": {},
   "outputs": [
    {
     "name": "stdout",
     "output_type": "stream",
     "text": [
      "<class 'pandas.core.frame.DataFrame'>\n",
      "Index: 18117 entries, 0 to 18648\n",
      "Data columns (total 3 columns):\n",
      " #   Column      Non-Null Count  Dtype \n",
      "---  ------      --------------  ----- \n",
      " 0   index       18117 non-null  int64 \n",
      " 1   Email Text  18117 non-null  object\n",
      " 2   Email Type  18117 non-null  object\n",
      "dtypes: int64(1), object(2)\n",
      "memory usage: 566.2+ KB\n",
      "<class 'pandas.core.frame.DataFrame'>\n",
      "Index: 6993 entries, 3 to 18645\n",
      "Data columns (total 3 columns):\n",
      " #   Column      Non-Null Count  Dtype \n",
      "---  ------      --------------  ----- \n",
      " 0   index       6993 non-null   int64 \n",
      " 1   Email Text  6993 non-null   object\n",
      " 2   Email Type  6993 non-null   object\n",
      "dtypes: int64(1), object(2)\n",
      "memory usage: 218.5+ KB\n"
     ]
    }
   ],
   "source": [
    "## 讀取文章\n",
    "mails_df = pd.read_csv('dataset/Phishing_Email.csv')\n",
    "\n",
    "# 刪除標點符號/數字/換行符號\n",
    "mails_df[\"Email Text\"] = mails_df[\"Email Text\"].apply(lambda x: re.sub(r'[^\\w\\s]','', str(x)))  #只留下英文字母和空格(包含換行符號)\n",
    "mails_df[\"Email Text\"] = mails_df[\"Email Text\"].apply(lambda x: re.sub(r'[\\n_-]+',' ', x)) #將換行符號替換成空格\n",
    "\n",
    "# 去除空值\n",
    "mails_df = mails_df[mails_df[\"Email Text\"] != 'empty']\n",
    "\n",
    "# 把欄位名字變好聽\n",
    "mails_df = mails_df.rename(columns={\"Unnamed: 0\":\"index\"})\n",
    "\n",
    "mails_df.info()\n",
    "\n",
    "# 只取 Phishing mail\n",
    "Phishing_mails = mails_df[mails_df[\"Email Type\"] == 'Phishing Email']\n",
    "Phishing_mails.info()"
   ]
  },
  {
   "cell_type": "markdown",
   "metadata": {},
   "source": [
    "## 讀取NER資料集並分析\n",
    "O代表非NER的字詞 因此會把O類別刪掉 "
   ]
  },
  {
   "cell_type": "code",
   "execution_count": 39,
   "metadata": {},
   "outputs": [
    {
     "name": "stdout",
     "output_type": "stream",
     "text": [
      "<class 'pandas.core.frame.DataFrame'>\n",
      "RangeIndex: 1768342 entries, 0 to 1768341\n",
      "Data columns (total 3 columns):\n",
      " #   Column  Dtype \n",
      "---  ------  ----- \n",
      " 0   index   int64 \n",
      " 1   word    object\n",
      " 2   ner     object\n",
      "dtypes: int64(1), object(2)\n",
      "memory usage: 40.5+ MB\n"
     ]
    }
   ],
   "source": [
    "Phishing_ner = pd.read_csv(\"dataset/Phishing_ner_all.csv\")\n",
    "Phishing_ner.info()"
   ]
  },
  {
   "cell_type": "markdown",
   "metadata": {},
   "source": [
    "### 去除停用字"
   ]
  },
  {
   "cell_type": "code",
   "execution_count": 40,
   "metadata": {},
   "outputs": [
    {
     "name": "stderr",
     "output_type": "stream",
     "text": [
      "[nltk_data] Downloading package stopwords to\n",
      "[nltk_data]     C:\\Users\\win90\\AppData\\Roaming\\nltk_data...\n",
      "[nltk_data]   Package stopwords is already up-to-date!\n"
     ]
    }
   ],
   "source": [
    "# 初次使用需要安裝nltk中的停用字資源\n",
    "nltk.download('stopwords')\n",
    "# 使用nltk的stop_words\n",
    "stops = stopwords.words('english')\n",
    "# 手動加入停用字\n",
    "newStops = ['email','com','wa','ect','one','would','could','may','can','de','also','edu','ha']\n",
    "stops.extend(newStops)"
   ]
  },
  {
   "cell_type": "code",
   "execution_count": 41,
   "metadata": {},
   "outputs": [
    {
     "name": "stdout",
     "output_type": "stream",
     "text": [
      "<class 'pandas.core.frame.DataFrame'>\n",
      "Index: 1133636 entries, 0 to 1768341\n",
      "Data columns (total 3 columns):\n",
      " #   Column  Non-Null Count    Dtype \n",
      "---  ------  --------------    ----- \n",
      " 0   index   1133636 non-null  int64 \n",
      " 1   word    1133586 non-null  object\n",
      " 2   ner     1133636 non-null  object\n",
      "dtypes: int64(1), object(2)\n",
      "memory usage: 34.6+ MB\n"
     ]
    }
   ],
   "source": [
    "Phishing_ner_noStop = Phishing_ner[~Phishing_ner['word'].isin(stops)]\n",
    "Phishing_ner_noStop.info()"
   ]
  },
  {
   "cell_type": "code",
   "execution_count": 42,
   "metadata": {},
   "outputs": [
    {
     "data": {
      "text/html": [
       "<div>\n",
       "<style scoped>\n",
       "    .dataframe tbody tr th:only-of-type {\n",
       "        vertical-align: middle;\n",
       "    }\n",
       "\n",
       "    .dataframe tbody tr th {\n",
       "        vertical-align: top;\n",
       "    }\n",
       "\n",
       "    .dataframe thead th {\n",
       "        text-align: right;\n",
       "    }\n",
       "</style>\n",
       "<table border=\"1\" class=\"dataframe\">\n",
       "  <thead>\n",
       "    <tr style=\"text-align: right;\">\n",
       "      <th></th>\n",
       "      <th>ner</th>\n",
       "      <th>count</th>\n",
       "    </tr>\n",
       "  </thead>\n",
       "  <tbody>\n",
       "    <tr>\n",
       "      <th>0</th>\n",
       "      <td>NUMBER</td>\n",
       "      <td>84729</td>\n",
       "    </tr>\n",
       "    <tr>\n",
       "      <th>1</th>\n",
       "      <td>DATE</td>\n",
       "      <td>25558</td>\n",
       "    </tr>\n",
       "    <tr>\n",
       "      <th>2</th>\n",
       "      <td>DURATION</td>\n",
       "      <td>12750</td>\n",
       "    </tr>\n",
       "    <tr>\n",
       "      <th>3</th>\n",
       "      <td>TITLE</td>\n",
       "      <td>8777</td>\n",
       "    </tr>\n",
       "    <tr>\n",
       "      <th>4</th>\n",
       "      <td>ORGANIZATION</td>\n",
       "      <td>7405</td>\n",
       "    </tr>\n",
       "    <tr>\n",
       "      <th>5</th>\n",
       "      <td>COUNTRY</td>\n",
       "      <td>5533</td>\n",
       "    </tr>\n",
       "    <tr>\n",
       "      <th>6</th>\n",
       "      <td>MISC</td>\n",
       "      <td>3541</td>\n",
       "    </tr>\n",
       "    <tr>\n",
       "      <th>7</th>\n",
       "      <td>MONEY</td>\n",
       "      <td>3272</td>\n",
       "    </tr>\n",
       "    <tr>\n",
       "      <th>8</th>\n",
       "      <td>STATE_OR_PROVINCE</td>\n",
       "      <td>2389</td>\n",
       "    </tr>\n",
       "    <tr>\n",
       "      <th>9</th>\n",
       "      <td>PERSON</td>\n",
       "      <td>2300</td>\n",
       "    </tr>\n",
       "  </tbody>\n",
       "</table>\n",
       "</div>"
      ],
      "text/plain": [
       "                 ner  count\n",
       "0             NUMBER  84729\n",
       "1               DATE  25558\n",
       "2           DURATION  12750\n",
       "3              TITLE   8777\n",
       "4       ORGANIZATION   7405\n",
       "5            COUNTRY   5533\n",
       "6               MISC   3541\n",
       "7              MONEY   3272\n",
       "8  STATE_OR_PROVINCE   2389\n",
       "9             PERSON   2300"
      ]
     },
     "execution_count": 42,
     "metadata": {},
     "output_type": "execute_result"
    }
   ],
   "source": [
    "# 把O這個ner刪掉\n",
    "Phishing_ner_noStop = Phishing_ner_noStop[Phishing_ner_noStop['ner'] != 'O']\n",
    "freq_ner = pd.DataFrame(Phishing_ner_noStop['ner'].value_counts()).reset_index()\n",
    "freq_ner.head(10)"
   ]
  },
  {
   "cell_type": "markdown",
   "metadata": {},
   "source": [
    "### NER詞頻"
   ]
  },
  {
   "cell_type": "code",
   "execution_count": 43,
   "metadata": {},
   "outputs": [
    {
     "name": "stderr",
     "output_type": "stream",
     "text": [
      "C:\\Users\\win90\\AppData\\Local\\Temp\\ipykernel_3372\\3076567002.py:10: UserWarning: Matplotlib is currently using module://matplotlib_inline.backend_inline, which is a non-GUI backend, so cannot show the figure.\n",
      "  fig.show()\n"
     ]
    },
    {
     "data": {
      "image/png": "[encoded data removed]",
      "text/plain": [
       "<Figure size 1200x700 with 1 Axes>"
      ]
     },
     "metadata": {},
     "output_type": "display_data"
    }
   ],
   "source": [
    "ner = freq_ner['ner']\n",
    "count = freq_ner['count']\n",
    "\n",
    "fig, ax = plt.subplots(figsize =(12, 7))\n",
    "ax.barh(ner, count)\n",
    "ax.invert_yaxis()\n",
    "ax.set_title('ner Frequency',loc ='left', size = 16)\n",
    "ax.set_ylabel('ner', size = 16)\n",
    "ax.set_xlabel('Frequency', size = 16)\n",
    "fig.show()"
   ]
  },
  {
   "cell_type": "markdown",
   "metadata": {},
   "source": [
    "根據 POS 的結果，因為提到大量與 money、free 的內容，因此最多的 NER 為 NUMBER 並沒有很意外，且因為要強調錯過不再 （late），因此會有許多 DATE。"
   ]
  },
  {
   "cell_type": "markdown",
   "metadata": {},
   "source": [
    "為了正確計算詞頻，將字詞轉小寫存新欄位"
   ]
  },
  {
   "cell_type": "code",
   "execution_count": 44,
   "metadata": {},
   "outputs": [
    {
     "data": {
      "text/html": [
       "<div>\n",
       "<style scoped>\n",
       "    .dataframe tbody tr th:only-of-type {\n",
       "        vertical-align: middle;\n",
       "    }\n",
       "\n",
       "    .dataframe tbody tr th {\n",
       "        vertical-align: top;\n",
       "    }\n",
       "\n",
       "    .dataframe thead th {\n",
       "        text-align: right;\n",
       "    }\n",
       "</style>\n",
       "<table border=\"1\" class=\"dataframe\">\n",
       "  <thead>\n",
       "    <tr style=\"text-align: right;\">\n",
       "      <th></th>\n",
       "      <th>index</th>\n",
       "      <th>word</th>\n",
       "      <th>ner</th>\n",
       "      <th>word_lower</th>\n",
       "    </tr>\n",
       "  </thead>\n",
       "  <tbody>\n",
       "    <tr>\n",
       "      <th>83</th>\n",
       "      <td>3</td>\n",
       "      <td>19009932582</td>\n",
       "      <td>NUMBER</td>\n",
       "      <td>19009932582</td>\n",
       "    </tr>\n",
       "    <tr>\n",
       "      <th>92</th>\n",
       "      <td>3</td>\n",
       "      <td>Mailcom</td>\n",
       "      <td>ORGANIZATION</td>\n",
       "      <td>mailcom</td>\n",
       "    </tr>\n",
       "    <tr>\n",
       "      <th>99</th>\n",
       "      <td>4</td>\n",
       "      <td>86</td>\n",
       "      <td>NUMBER</td>\n",
       "      <td>86</td>\n",
       "    </tr>\n",
       "    <tr>\n",
       "      <th>102</th>\n",
       "      <td>4</td>\n",
       "      <td>seventeen</td>\n",
       "      <td>NUMBER</td>\n",
       "      <td>seventeen</td>\n",
       "    </tr>\n",
       "    <tr>\n",
       "      <th>118</th>\n",
       "      <td>4</td>\n",
       "      <td>student</td>\n",
       "      <td>TITLE</td>\n",
       "      <td>student</td>\n",
       "    </tr>\n",
       "  </tbody>\n",
       "</table>\n",
       "</div>"
      ],
      "text/plain": [
       "     index         word           ner   word_lower\n",
       "83       3  19009932582        NUMBER  19009932582\n",
       "92       3      Mailcom  ORGANIZATION      mailcom\n",
       "99       4           86        NUMBER           86\n",
       "102      4    seventeen        NUMBER    seventeen\n",
       "118      4      student         TITLE      student"
      ]
     },
     "execution_count": 44,
     "metadata": {},
     "output_type": "execute_result"
    }
   ],
   "source": [
    "Phishing_ner_noStop['word_lower'] = Phishing_ner_noStop['word'].str.lower()\n",
    "Phishing_ner_noStop.head(5)"
   ]
  },
  {
   "cell_type": "markdown",
   "metadata": {},
   "source": [
    "### 涉及到的組織 ORGANIZATION\n",
    "+ 透過 CoreNLP 中的 NER 解析出在釣魚文件中所涉及到的組織(ORGANIZATION)"
   ]
  },
  {
   "cell_type": "code",
   "execution_count": 45,
   "metadata": {},
   "outputs": [
    {
     "data": {
      "text/html": [
       "<div>\n",
       "<style scoped>\n",
       "    .dataframe tbody tr th:only-of-type {\n",
       "        vertical-align: middle;\n",
       "    }\n",
       "\n",
       "    .dataframe tbody tr th {\n",
       "        vertical-align: top;\n",
       "    }\n",
       "\n",
       "    .dataframe thead th {\n",
       "        text-align: right;\n",
       "    }\n",
       "</style>\n",
       "<table border=\"1\" class=\"dataframe\">\n",
       "  <thead>\n",
       "    <tr style=\"text-align: right;\">\n",
       "      <th></th>\n",
       "      <th>word_lower</th>\n",
       "      <th>count</th>\n",
       "    </tr>\n",
       "  </thead>\n",
       "  <tbody>\n",
       "    <tr>\n",
       "      <th>1894</th>\n",
       "      <td>us</td>\n",
       "      <td>84</td>\n",
       "    </tr>\n",
       "    <tr>\n",
       "      <th>925</th>\n",
       "      <td>inc</td>\n",
       "      <td>71</td>\n",
       "    </tr>\n",
       "    <tr>\n",
       "      <th>796</th>\n",
       "      <td>group</td>\n",
       "      <td>68</td>\n",
       "    </tr>\n",
       "    <tr>\n",
       "      <th>1230</th>\n",
       "      <td>microsoft</td>\n",
       "      <td>59</td>\n",
       "    </tr>\n",
       "    <tr>\n",
       "      <th>994</th>\n",
       "      <td>irish</td>\n",
       "      <td>57</td>\n",
       "    </tr>\n",
       "    <tr>\n",
       "      <th>1898</th>\n",
       "      <td>users</td>\n",
       "      <td>57</td>\n",
       "    </tr>\n",
       "    <tr>\n",
       "      <th>1116</th>\n",
       "      <td>linux</td>\n",
       "      <td>56</td>\n",
       "    </tr>\n",
       "    <tr>\n",
       "      <th>1397</th>\n",
       "      <td>optin</td>\n",
       "      <td>55</td>\n",
       "    </tr>\n",
       "  </tbody>\n",
       "</table>\n",
       "</div>"
      ],
      "text/plain": [
       "     word_lower  count\n",
       "1894         us     84\n",
       "925         inc     71\n",
       "796       group     68\n",
       "1230  microsoft     59\n",
       "994       irish     57\n",
       "1898      users     57\n",
       "1116      linux     56\n",
       "1397      optin     55"
      ]
     },
     "execution_count": 45,
     "metadata": {},
     "output_type": "execute_result"
    }
   ],
   "source": [
    "# 篩選ner為country的資料\n",
    "ner_org = Phishing_ner_noStop.loc[Phishing_ner_noStop['ner'] == 'ORGANIZATION']\n",
    "\n",
    "# 計算每個地點提到的次數，選出前8個\n",
    "org_count = ner_org[['word_lower']].groupby(['word_lower'])['word_lower'].count().reset_index(name='count')\n",
    "org_count = org_count.sort_values(['count'], ascending=False).head(8)\n",
    "org_count.head(10)"
   ]
  },
  {
   "cell_type": "code",
   "execution_count": 46,
   "metadata": {},
   "outputs": [
    {
     "name": "stderr",
     "output_type": "stream",
     "text": [
      "C:\\Users\\win90\\AppData\\Local\\Temp\\ipykernel_3372\\2426558990.py:10: UserWarning: Matplotlib is currently using module://matplotlib_inline.backend_inline, which is a non-GUI backend, so cannot show the figure.\n",
      "  fig.show()\n"
     ]
    },
    {
     "data": {
      "image/png": "[encoded data removed]",
      "text/plain": [
       "<Figure size 1200x700 with 1 Axes>"
      ]
     },
     "metadata": {},
     "output_type": "display_data"
    }
   ],
   "source": [
    "word = org_count['word_lower']\n",
    "count = org_count['count']\n",
    "\n",
    "fig, ax = plt.subplots(figsize =(12, 7))\n",
    "ax.barh(word, count)\n",
    "ax.invert_yaxis()\n",
    "ax.set_title('Word Frequency (NER is ORGANIZATION)',loc ='left', size = 16)\n",
    "ax.set_ylabel('location', size = 16)\n",
    "ax.set_xlabel('Word Frequency', size = 16)\n",
    "fig.show()"
   ]
  },
  {
   "cell_type": "markdown",
   "metadata": {},
   "source": [
    "結合 POS 和 NER 的結果，發現大多的 Phishing Email 內容的確是以公司的名義，且大多是以知名美國（us）公司或集團名義（microsoft、inc、group），提供收信人關於軟體（linux）的資訊"
   ]
  },
  {
   "cell_type": "markdown",
   "metadata": {},
   "source": [
    "### 抓取關鍵字，看看相關的章節大致在說甚麼 "
   ]
  },
  {
   "cell_type": "code",
   "execution_count": 47,
   "metadata": {},
   "outputs": [
    {
     "name": "stdout",
     "output_type": "stream",
     "text": [
      "microsoft：45個相關郵件\n"
     ]
    },
    {
     "data": {
      "text/html": [
       "<div>\n",
       "<style scoped>\n",
       "    .dataframe tbody tr th:only-of-type {\n",
       "        vertical-align: middle;\n",
       "    }\n",
       "\n",
       "    .dataframe tbody tr th {\n",
       "        vertical-align: top;\n",
       "    }\n",
       "\n",
       "    .dataframe thead th {\n",
       "        text-align: right;\n",
       "    }\n",
       "</style>\n",
       "<table border=\"1\" class=\"dataframe\">\n",
       "  <thead>\n",
       "    <tr style=\"text-align: right;\">\n",
       "      <th></th>\n",
       "      <th>index</th>\n",
       "      <th>Email Text</th>\n",
       "      <th>Email Type</th>\n",
       "    </tr>\n",
       "  </thead>\n",
       "  <tbody>\n",
       "    <tr>\n",
       "      <th>0</th>\n",
       "      <td>744</td>\n",
       "      <td>intel play me 2 web cam   13  90 play me 2 web...</td>\n",
       "      <td>Phishing Email</td>\n",
       "    </tr>\n",
       "    <tr>\n",
       "      <th>1</th>\n",
       "      <td>858</td>\n",
       "      <td>lotto information     office of the vice presi...</td>\n",
       "      <td>Phishing Email</td>\n",
       "    </tr>\n",
       "    <tr>\n",
       "      <th>2</th>\n",
       "      <td>1062</td>\n",
       "      <td>we have 800 expensive softwares for u to choos...</td>\n",
       "      <td>Phishing Email</td>\n",
       "    </tr>\n",
       "    <tr>\n",
       "      <th>3</th>\n",
       "      <td>1231</td>\n",
       "      <td>name get the best softwares for only  15 dkvn...</td>\n",
       "      <td>Phishing Email</td>\n",
       "    </tr>\n",
       "    <tr>\n",
       "      <th>4</th>\n",
       "      <td>1993</td>\n",
       "      <td>paydshl get latest softwares  99  savings  ayo...</td>\n",
       "      <td>Phishing Email</td>\n",
       "    </tr>\n",
       "    <tr>\n",
       "      <th>5</th>\n",
       "      <td>2093</td>\n",
       "      <td>re  your needed soffttwares at rock bottom prr...</td>\n",
       "      <td>Phishing Email</td>\n",
       "    </tr>\n",
       "    <tr>\n",
       "      <th>6</th>\n",
       "      <td>2315</td>\n",
       "      <td>fwd  your needed soffttwares at rock bottom pr...</td>\n",
       "      <td>Phishing Email</td>\n",
       "    </tr>\n",
       "    <tr>\n",
       "      <th>7</th>\n",
       "      <td>2450</td>\n",
       "      <td>re  we might have just what you need  special ...</td>\n",
       "      <td>Phishing Email</td>\n",
       "    </tr>\n",
       "    <tr>\n",
       "      <th>8</th>\n",
       "      <td>2777</td>\n",
       "      <td>To   avfsfazekashu Attn Marketing Department ...</td>\n",
       "      <td>Phishing Email</td>\n",
       "    </tr>\n",
       "    <tr>\n",
       "      <th>9</th>\n",
       "      <td>3130</td>\n",
       "      <td>award winning notification forehigh lottery in...</td>\n",
       "      <td>Phishing Email</td>\n",
       "    </tr>\n",
       "  </tbody>\n",
       "</table>\n",
       "</div>"
      ],
      "text/plain": [
       "   index                                         Email Text      Email Type\n",
       "0    744  intel play me 2 web cam   13  90 play me 2 web...  Phishing Email\n",
       "1    858  lotto information     office of the vice presi...  Phishing Email\n",
       "2   1062  we have 800 expensive softwares for u to choos...  Phishing Email\n",
       "3   1231   name get the best softwares for only  15 dkvn...  Phishing Email\n",
       "4   1993  paydshl get latest softwares  99  savings  ayo...  Phishing Email\n",
       "5   2093  re  your needed soffttwares at rock bottom prr...  Phishing Email\n",
       "6   2315  fwd  your needed soffttwares at rock bottom pr...  Phishing Email\n",
       "7   2450  re  we might have just what you need  special ...  Phishing Email\n",
       "8   2777   To   avfsfazekashu Attn Marketing Department ...  Phishing Email\n",
       "9   3130  award winning notification forehigh lottery in...  Phishing Email"
      ]
     },
     "execution_count": 47,
     "metadata": {},
     "output_type": "execute_result"
    }
   ],
   "source": [
    "# 取關鍵字\n",
    "keyword_list = ['microsoft']\n",
    "ids = [i for i in Phishing_ner_noStop[Phishing_ner_noStop['word_lower'].str.contains('|'.join(keyword_list),regex=True, case=False)][\"index\"]]\n",
    "df = Phishing_mails[Phishing_mails['index'].isin(ids)].reset_index(drop=True)\n",
    "print(f\"{' '.join(keyword_list)}：{df.shape[0]}個相關郵件\")\n",
    "df.head(10)"
   ]
  },
  {
   "cell_type": "markdown",
   "metadata": {},
   "source": [
    "發現大多的確是提供軟體的資訊，且結合 POS 分析結果，可能大多與金錢（money）、優惠、免費（free）相關，且應該都包含與時限（DATE）有關的資訊，來強調這是最棒（best）的優惠不要錯過（late）"
   ]
  },
  {
   "cell_type": "markdown",
   "metadata": {},
   "source": [
    "### 查看特定文章的完整文字"
   ]
  },
  {
   "cell_type": "code",
   "execution_count": 48,
   "metadata": {},
   "outputs": [
    {
     "name": "stdout",
     "output_type": "stream",
     "text": [
      "['intel play me 2 web cam   13  90 play me 2 web cam usb 1  0  13  90 visit  http    www  computron  me  com for deals  intel play me 2 web cam usb 1  0 intel play me 2 web cam  usb 1  0 compliant interface  includes interactive video games  doubles up as video conferencing camera  compatible with microsoft net meeting   your one stop distributorjebel ali duty free zonedubai  uae  www  computron  me  com for latest clearance sale listing contact our sales department  for further details please send your enquiries to  dealers  emirates  net  aeor contact via www  computron  me  com compaq hewlett packard 3 com dell intel iomega epson aopen creative toshiba apc cisco us robotics microsoft canon intellinet targus viewsonic ibm sony        and lots more    if you have any complaints  suggestions contact  customerservice  computron  me  com tel  971 4 8834464 all prices in u  s  dollars  ex  works  fax  971 4 8834454 jebel ali duty free zone www  computron  me  com prices and availability subject to change usa  canada u  a  e  without notice  to receive our special offers in plain text format reply to this mail with the request  for export only  this email can not be considered spam as long as we include  contact information remove instructions  this message is intended for dealer and resellers only  if you have somehow gotten on this list in error  or for any other reason would like to be removed  please reply with  remove  in the subject line of your message  this message is being sent to you in compliance with the federal legislation for commercial e  mail  h  r  4176  section 101 paragraph  e   1   a  and bill s  1618 title iii passed by the 105 th u  s  congress  all logos and trademarks are the property of their respective owners products may not be exactly as shown above   to unsubscribe from  computron 8  just follow this link  click the link  or copy and paste the address into your browser ']\n"
     ]
    }
   ],
   "source": [
    "print(df[df['index'] == 744][\"Email Text\"].values)"
   ]
  }
 ],
 "metadata": {
  "kernelspec": {
   "display_name": "Python 3",
   "language": "python",
   "name": "python3"
  },
  "language_info": {
   "codemirror_mode": {
    "name": "ipython",
    "version": 3
   },
   "file_extension": ".py",
   "mimetype": "text/x-python",
   "name": "python",
   "nbconvert_exporter": "python",
   "pygments_lexer": "ipython3",
   "version": "3.10.7"
  }
 },
 "nbformat": 4,
 "nbformat_minor": 2
}
